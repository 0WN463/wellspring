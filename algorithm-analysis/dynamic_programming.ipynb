{
 "cells": [
  {
   "cell_type": "markdown",
   "id": "humanitarian-squad",
   "metadata": {},
   "source": [
    "# Dynamic Programming\n",
    "Dynamic programming is a way to solve a problem by solving the smaller subproblems, where to solution to the overall problem depends on the solution of the smaller subproblems.\n",
    "\n",
    "A simple way to view this is that this is simply, in some sense, a recursive way to approach the problem.\n",
    "\n",
    "## Recursive (Top-down)\n",
    "Suppose we wish to compute the n-th triangle number, where triangle number follows the series of `0, 1, 3, 6, 10, 15, 21, 28, 36, 45, ...`. \n",
    "Each number if `n` more than the previous number, using 0-indexing.\n",
    "\n",
    "One way to approach this recursively is simply."
   ]
  },
  {
   "cell_type": "code",
   "execution_count": 41,
   "id": "smaller-cover",
   "metadata": {},
   "outputs": [
    {
     "data": {
      "text/plain": [
       "[0, 1, 3, 6, 10, 15, 21, 28, 36, 45]"
      ]
     },
     "execution_count": 41,
     "metadata": {},
     "output_type": "execute_result"
    }
   ],
   "source": [
    "def triangle(n):\n",
    "    if n == 0:\n",
    "        return 0\n",
    "    return n + triangle(n-1)\n",
    "\n",
    "[triangle(n) for n in range(10)]"
   ]
  },
  {
   "cell_type": "markdown",
   "id": "discrete-chemistry",
   "metadata": {},
   "source": [
    "Let us analyse the complexity of this recursive algorithm.\n",
    "`triangle` is called a total of n times, and each time, $O(1)$ amount of work is done, thus the total complexity is $O(n)$.\n",
    "\n",
    "Suppose instead, we were to compute the $n$-th Tribonacci number, where the series is `0, 1, 1, 2, 4, 7, 13, 24, 44, ...`.\n",
    "\n",
    "Each number is the sum of the previous 3 numbers in the series.\n",
    "\n",
    "The recursive way to approach this would be:\n"
   ]
  },
  {
   "cell_type": "code",
   "execution_count": 42,
   "id": "conscious-imperial",
   "metadata": {},
   "outputs": [
    {
     "data": {
      "text/plain": [
       "[0, 1, 1, 2, 4, 7, 13, 24, 44, 81]"
      ]
     },
     "execution_count": 42,
     "metadata": {},
     "output_type": "execute_result"
    }
   ],
   "source": [
    "def tribonacci(n):\n",
    "    if n == 0:\n",
    "        return 0\n",
    "    if n == 1 or n == 2:\n",
    "        return 1\n",
    "    return sum([tribonacci(i) for i in range(n-3, n)])\n",
    "\n",
    "[tribonacci(n) for n in range(10)]"
   ]
  },
  {
   "cell_type": "markdown",
   "id": "unsigned-ghost",
   "metadata": {},
   "source": [
    "Now suppose that we wish to compute a large Tribonnaci number."
   ]
  },
  {
   "cell_type": "code",
   "execution_count": 43,
   "id": "suffering-monitoring",
   "metadata": {},
   "outputs": [
    {
     "name": "stdout",
     "output_type": "stream",
     "text": [
      "8646064\n",
      "Took 3.45s to compute.\n"
     ]
    }
   ],
   "source": [
    "## This cell might take a long time to run\n",
    "import time\n",
    "\n",
    "def bench(func):\n",
    "    start = time.perf_counter()\n",
    "    print(func())\n",
    "    end = time.perf_counter()\n",
    "    print(f'Took {end - start:.02f}s to compute.')\n",
    "\n",
    "bench(lambda : tribonacci(28))"
   ]
  },
  {
   "cell_type": "markdown",
   "id": "upset-sound",
   "metadata": {},
   "source": [
    "As we can see, it takes a long time even just to compute the 28-th Tribonacci number.\n",
    "\n",
    "Consider the time complexity of the algorithm.\n",
    "\n",
    "```\n",
    "          ________n______\n",
    "         /        |      \\\n",
    "     _n-1__      n-2     n-3 \n",
    "    /   |  \\     /|\\          \n",
    "  n-2  n-3  n-4                   \n",
    " / |\\ /|\\  / |\\                  \n",
    "...  ... ... .. ..  .. .. .. . .. .\n",
    "```\n",
    "\n",
    "If we only consider the largest branch of the recursion, we can see that it grows by 3 every layer.\n",
    "Thus, the complexity is bounded by $O(3^n)$.\n",
    "Since the complexity is exponential, it becomes slow for large numbers."
   ]
  },
  {
   "cell_type": "markdown",
   "id": "structural-riverside",
   "metadata": {},
   "source": [
    "### Memoization\n",
    "However, notice that we are recomputing the same value multiple times.\n",
    "In the tree, we computed `tribonacci(n-2)` in the left branch as well as in the center branch from the root.\n",
    "If we were to \"cache\" these results, we can obtain the result of the subproblem right away rather than having to recompute it each time.\n",
    "\n",
    "The modification to the algorithm is simple, just have a table that stores the computed results for us:"
   ]
  },
  {
   "cell_type": "code",
   "execution_count": 44,
   "id": "controlled-timber",
   "metadata": {},
   "outputs": [
    {
     "name": "stdout",
     "output_type": "stream",
     "text": [
      "8646064\n",
      "Took 0.00s to compute.\n"
     ]
    }
   ],
   "source": [
    "def tribonacci_helper(n):\n",
    "    table = [None for i in range(n+1)]\n",
    "    return tribonacci_dp(n, table)\n",
    "\n",
    "\n",
    "def tribonacci_dp(n, table):\n",
    "    if n == 0:\n",
    "        return 0\n",
    "    if n == 1 or n == 2:\n",
    "        return 1\n",
    "    \n",
    "    if table[n] != None:\n",
    "        return table[n]\n",
    "    table[n] = sum([tribonacci_dp(i, table) for i in range(n-3, n)])\n",
    "    return table[n]\n",
    "\n",
    "bench(lambda : tribonacci_helper(28))"
   ]
  },
  {
   "cell_type": "markdown",
   "id": "85dc6e6b",
   "metadata": {},
   "source": [
    "Notice this pattern of searching if we have ran the function with some arguments; if we did, then return the previous results, otherwise we compute it and store the result.\n",
    "Because of this repeating pattern, we can simply implement a decorator which takes care of this repeat logic for all dynamic programming problems."
   ]
  },
  {
   "cell_type": "code",
   "execution_count": 64,
   "id": "e0061f7c",
   "metadata": {},
   "outputs": [],
   "source": [
    "def cache(func, table):\n",
    "    def wrapper(*args):\n",
    "        args = tuple(args)\n",
    "        if args not in table:\n",
    "            table[args] = func(*args)\n",
    "        return table[args]\n",
    "    \n",
    "    return wrapper\n",
    "\n",
    "table = {}\n",
    "tribonacci = cache(tribonacci, table)"
   ]
  },
  {
   "cell_type": "code",
   "execution_count": 65,
   "id": "fbf32621",
   "metadata": {},
   "outputs": [
    {
     "name": "stdout",
     "output_type": "stream",
     "text": [
      "(28,)\n",
      "8646064\n",
      "Took 0.00s to compute.\n"
     ]
    }
   ],
   "source": [
    "bench(lambda : tribonacci(28))"
   ]
  },
  {
   "cell_type": "markdown",
   "id": "found-example",
   "metadata": {},
   "source": [
    "## Bottom-up\n",
    "Another way to solve this problem by DP is to try to unwind the problem and solve the smaller subproblem first.\n",
    "\n",
    "This would lead to better space usage because we may need to store less results from the previous subproblems.\n",
    "However, trying to come up with a bottom-up approach may not always be straight forward.\n",
    "\n",
    "Going back to the Tribonacci example, we know that to solve `tribonacci(n)`, we only need `tribonacci(n-1)`, `tribonacci(n-2)` and `tribonacci(n-2)`.\n",
    "Thus, we can start from the bottom, starting from `tribonacci(0)`, `tribonacci(1)` and `tribonacci(2)`; then proceeding to solve `tribonacci(3)` then `tribonacci(4)`...\n"
   ]
  },
  {
   "cell_type": "code",
   "execution_count": 66,
   "id": "marked-aerospace",
   "metadata": {},
   "outputs": [
    {
     "name": "stdout",
     "output_type": "stream",
     "text": [
      "8646064\n",
      "Took 0.00s to compute.\n"
     ]
    }
   ],
   "source": [
    "def tribonacci_bottom_up(n):\n",
    "    a, b, c = 0, 1, 1\n",
    "    \n",
    "    for _ in range(n):\n",
    "        a, b, c = b, c, a + b + c\n",
    "        \n",
    "    return a\n",
    "\n",
    "bench(lambda : tribonacci_bottom_up(28))"
   ]
  },
  {
   "cell_type": "markdown",
   "id": "existing-venue",
   "metadata": {},
   "source": [
    "As we can see, the bottom-up approach is equally as fast."
   ]
  },
  {
   "cell_type": "markdown",
   "id": "4dd5064c",
   "metadata": {},
   "source": [
    "## Comparison\n",
    "\n",
    "| Memoization | Bottom up |\n",
    "| --- | --- |\n",
    "| Order of computing sub-problems does not matter | Order of computing sub-problems is important, need to ensure that smaller sub-problems are filled before larger ones |\n",
    "| Solves only the subproblems required | Might solve subproblems that are not needed to get the answer |\n",
    "| Complexity derivation may be difficult | Once the imperative loop is written, complexity derivation is straightforwards |"
   ]
  },
  {
   "cell_type": "markdown",
   "id": "ed1bb49a",
   "metadata": {},
   "source": [
    "## Other problems\n",
    "\n",
    "### Edit Distance  <a id=\"edit_distance\"></a>\n",
    "\n",
    "Problem: Given two strings, $A[1:n]$ and $B[1:m]$, compute the minimum number of edits to get from A to B.\n",
    "\n",
    "Edits can be\n",
    "* Insertion of 1 character\n",
    "* Deletion of 1 character\n",
    "* Substitution of 1 character\n",
    "\n",
    "Example: `lumen` to `almond` has an edit distance of 4.\n",
    "\n",
    "`lumen` $\\rightarrow$ `alumen` $\\rightarrow$ `almun` $\\rightarrow$ `almon` $\\rightarrow$ `almond`\n",
    "\n",
    "Solution: \n",
    "\n",
    "**Base Case**\n",
    "\n",
    "Suppose we are comparing the edit distance of `lumen` to an empty string, then the edit distance is simply 5, the length of `lumen`.\n",
    "\n",
    "Similarly, if we are comparing the edit distance of an empty string to `lumen`, then the edit distance is also 5, the length of `lumen`."
   ]
  },
  {
   "cell_type": "markdown",
   "id": "false-valve",
   "metadata": {},
   "source": [
    "**Further Cases**\n",
    "\n",
    "Consider the case where the last character of both strings are the same, then total edits required, dist(A[1:n], B[1:m]), can be dist(A[1:n-1], B[1:m-1]), because we do not need to modify the last character.\n",
    "\n",
    "Suppose the character is different, then in the case of insertion, we need to insert B[m] at the back of A, thus we need a total of dist(A[1:n], B[1:m-1]) + 1 edits, because the last character in B is matched by the new insertion, and the +1 is the cost of the insertion.\n",
    "\n",
    "* Insertion will compare `lumend` to `almond`, where the `d` is added and we now solve the subproblem of `lumen` to `almon`\n",
    "\n",
    "Similarly for deletion, we need to delete A[n] from the back of A, thus we need a total of dist(A[1:n-1], B[1:m]) + 1 edits, since the last character is removed and no longer a concern.\n",
    "\n",
    "* Deletion will compare `lume` to `almond`, where the `n` is deleted and we now solve the subproblem of `lume` to `almond`\n",
    "\n",
    "Lastly, for substitution, we would need to swap out the last character of A with the last character of B, which means we need a total of dist(A[1:n-1], B[1:m-1]) + 1 edits, since both A and B will have one last character to match.\n",
    "\n",
    "* Substitution will compare `lumed` to `almond`, where the `n` is changed with a `d` and we now solve the subproblem of `lume` to `almon`\n",
    "\n",
    "And thus, the minimum edit distance is simply the smallest value out of all the possible operations."
   ]
  },
  {
   "cell_type": "code",
   "execution_count": 72,
   "id": "successful-bishop",
   "metadata": {},
   "outputs": [
    {
     "name": "stdout",
     "output_type": "stream",
     "text": [
      "The distance is 4\n"
     ]
    }
   ],
   "source": [
    "def dist(A, B, n, m):\n",
    "    if n == 0:\n",
    "        return m\n",
    "    \n",
    "    if m == 0:\n",
    "        return n\n",
    "    \n",
    "    return min(dist(A, B, n-1, m) + 1, \\\n",
    "                      dist(A, B, n, m-1) + 1, \\\n",
    "                      dist(A, B, n-1, m-1) + (0 if A[n-1] == B[m-1] else 1))\n",
    "\n",
    "def dist_helper(func, A, B):\n",
    "    return func(A, B, len(A), len(B))\n",
    "\n",
    "dist = cache(dist, {})\n",
    "\n",
    "print(\"The distance is\", dist_helper(dist_top_down, \"lumen\", \"almond\"))\n"
   ]
  },
  {
   "cell_type": "markdown",
   "id": "going-bulgarian",
   "metadata": {},
   "source": [
    "Similarly, we can do it with a bottom-up approach"
   ]
  },
  {
   "cell_type": "code",
   "execution_count": 74,
   "id": "younger-azerbaijan",
   "metadata": {
    "scrolled": true
   },
   "outputs": [
    {
     "name": "stdout",
     "output_type": "stream",
     "text": [
      "The distance is 4\n"
     ]
    }
   ],
   "source": [
    "def dist_bottom_up(A, B, n, m):\n",
    "    for i in range(n+1):\n",
    "        new_row = [i for i in range(m+1)]\n",
    "        \n",
    "        if i > 0:\n",
    "            for j in range(m+1):\n",
    "                if j == 0:\n",
    "                    new_row[j] = row[j] + 1\n",
    "                else:\n",
    "                    new_row[j] = min(row[j] + 1, new_row[j-1] + 1, row[j-1] + (0 if A[i-1] == B[j-1] else 1))\n",
    "        row = new_row\n",
    "    return row[m]\n",
    "\n",
    "print(f\"The distance is\", dist_bottom_up_helper(\"lumen\", \"almond\"))"
   ]
  },
  {
   "cell_type": "markdown",
   "id": "steady-respect",
   "metadata": {},
   "source": [
    "#### Variations\n",
    "Notice that we can set the cost of each operation to be different.\n",
    "If we wish to view substitution as an insertion followed by deletion, we can set the cost of substitution to 2.\n",
    "However, the algorithm would be similar."
   ]
  }
 ],
 "metadata": {
  "kernelspec": {
   "display_name": "Python 3 (ipykernel)",
   "language": "python",
   "name": "python3"
  },
  "language_info": {
   "codemirror_mode": {
    "name": "ipython",
    "version": 3
   },
   "file_extension": ".py",
   "mimetype": "text/x-python",
   "name": "python",
   "nbconvert_exporter": "python",
   "pygments_lexer": "ipython3",
   "version": "3.10.2"
  }
 },
 "nbformat": 4,
 "nbformat_minor": 5
}
