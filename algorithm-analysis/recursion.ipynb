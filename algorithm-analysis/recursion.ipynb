{
 "cells": [
  {
   "cell_type": "markdown",
   "id": "b71edcab",
   "metadata": {},
   "source": [
    "$$\n",
    "\\newcommand{proof}{\\textbf{Proof: }}\n",
    "\\newcommand{theorem}{\\textbf{Theorem: }}\n",
    "$$"
   ]
  },
  {
   "cell_type": "code",
   "execution_count": 1,
   "id": "17c39864",
   "metadata": {},
   "outputs": [],
   "source": [
    "import sys\n",
    "sys.path.append('..')"
   ]
  },
  {
   "cell_type": "code",
   "execution_count": 2,
   "id": "4da460e5",
   "metadata": {},
   "outputs": [],
   "source": [
    "from common.utility import show_implementation"
   ]
  },
  {
   "cell_type": "markdown",
   "id": "ac0cf636",
   "metadata": {},
   "source": [
    "# Recursion\n",
    "\n",
    "In programming, we frequently use recursion to solve our problems, similar to how we solve the problems in the introduction.\n",
    "Now, we will look to proving that our recursive algorithms are correct."
   ]
  },
  {
   "cell_type": "markdown",
   "id": "ff007b33",
   "metadata": {},
   "source": [
    "## Merge sort\n",
    "Merge sort was defined previously as below:\n"
   ]
  },
  {
   "cell_type": "code",
   "execution_count": 3,
   "id": "0cfa906d",
   "metadata": {},
   "outputs": [
    {
     "name": "stdout",
     "output_type": "stream",
     "text": [
      "def merge_sort(A):\n",
      "    n = len(A)\n",
      "    if n <= 1:\n",
      "        return A\n",
      "    \n",
      "    m = n //2\n",
      "    arr1 = merge_sort(A[:m]) # T(floor(n/2))\n",
      "    arr2 = merge_sort(A[m:]) # T(ceil(n/2))\n",
      "    return _merge(arr1, arr2) # Theta(n)\n",
      "def _merge(arr1, arr2):\n",
      "    i, j = 0, 0\n",
      "    arr = [None for _ in arr1 + arr2]\n",
      "\n",
      "    for x in range(len(arr)):\n",
      "        if i < len(arr1) and j < len(arr2):\n",
      "            if arr1[i] < arr2[j]:\n",
      "                arr[x] = arr1[i]\n",
      "                i += 1\n",
      "            else:\n",
      "                arr[x] = arr2[j]\n",
      "                j += 1\n",
      "        elif i < len(arr1):\n",
      "            arr[x] = arr1[i]\n",
      "            i += 1\n",
      "        else:\n",
      "            arr[x] = arr2[j]\n",
      "            j += 1\n",
      "    return arr\n"
     ]
    }
   ],
   "source": [
    "from module.sort import merge_sort, _merge\n",
    "show_implementation(merge_sort)\n",
    "show_implementation(_merge)"
   ]
  },
  {
   "cell_type": "markdown",
   "id": "ea738fc9",
   "metadata": {},
   "source": [
    "We know that this is correct because we know that it is correct in the base case.\n",
    "Secondly, if the two subarray is sorted, then the `merge` function would produce a sorted array.\n",
    "Using these 2 information, we know that the algorithm is correct by induction."
   ]
  },
  {
   "cell_type": "markdown",
   "id": "da8233e5",
   "metadata": {},
   "source": [
    "## Quick sort\n",
    "Quick sort algorithm is as below:\n",
    "1. Pick a pivot\n",
    "2. Partition the array into elements that are smaller or equals to than the pivot, and elements that are larger\n",
    "3. Recursively call quick-sort on both the left and right partitions"
   ]
  },
  {
   "cell_type": "code",
   "execution_count": 4,
   "id": "60f0dc00",
   "metadata": {},
   "outputs": [
    {
     "name": "stdout",
     "output_type": "stream",
     "text": [
      "def quick_sort(arr):\n",
      "    if len(arr) <= 1:\n",
      "        return arr\n",
      "    \n",
      "    index = randint(0, len(arr) - 1) \n",
      "    left, right = _partition(arr, index)\n",
      "    left = quick_sort(left)\n",
      "    right = quick_sort(right)\n",
      "    return left + [arr[index]] + right\n"
     ]
    }
   ],
   "source": [
    "from module.sort import quick_sort\n",
    "show_implementation(quick_sort)"
   ]
  },
  {
   "cell_type": "code",
   "execution_count": 5,
   "id": "b98e3f35",
   "metadata": {},
   "outputs": [
    {
     "data": {
      "text/plain": [
       "[1, 2, 2, 3, 4, 4, 5, 9]"
      ]
     },
     "execution_count": 5,
     "metadata": {},
     "output_type": "execute_result"
    }
   ],
   "source": [
    "quick_sort([1, 2, 4, 5, 3, 9, 4, 2])"
   ]
  },
  {
   "cell_type": "markdown",
   "id": "441ce088",
   "metadata": {},
   "source": [
    "Similar to merge sort, we split the array into 2 parts.\n",
    "Then we use our sorting routine on the smaller array.\n",
    "Since we know that the resultant array will be sorted if the two subarray is sorted, and the base case is defined, we know that quick sort is also correct."
   ]
  },
  {
   "cell_type": "markdown",
   "id": "324de969",
   "metadata": {},
   "source": [
    "### Analysis\n",
    "The recurrence we get depends on $r$, the rank of the pivot.\n",
    "We get\n",
    "$$\n",
    "T(n) = T(r-1) + T(n-r) + O(n)\n",
    "$$"
   ]
  },
  {
   "cell_type": "markdown",
   "id": "ab5a3a02",
   "metadata": {},
   "source": [
    "Notice that the complexity depends on $r$, the rank of the pivot chosen."
   ]
  },
  {
   "cell_type": "markdown",
   "id": "ded0e6f0",
   "metadata": {},
   "source": [
    "#### Bad pivot\n",
    "If $r$ is always $1$ or $n$ for all the routines, then we can compute the complexity and get $O(n^2)$, which means quick sort is rather inefficient when the pivot is chosen to be the ends of the array."
   ]
  },
  {
   "cell_type": "markdown",
   "id": "45cce9ea",
   "metadata": {},
   "source": [
    "When we assume that we always pick these pivots, we would obtain:\n",
    "$$\n",
    "T(n) = T(n-1) + T(1) + O(n) = T(n-1) + O(n)\n",
    "$$\n",
    "\n",
    "which reduces to $O(n^2)$ by the Master theorem."
   ]
  },
  {
   "cell_type": "markdown",
   "id": "c3efbbf2",
   "metadata": {},
   "source": [
    "#### Good pivot"
   ]
  },
  {
   "cell_type": "markdown",
   "id": "a73e7e46",
   "metadata": {},
   "source": [
    "And if we somehow can choose a pivot with rank $n/2$ (which is the median), then the complexity reduces to "
   ]
  },
  {
   "cell_type": "markdown",
   "id": "6040f169",
   "metadata": {},
   "source": [
    "$$\n",
    "T(n) = T(\\lceil n/2 \\rceil - 1) + T(\\lfloor n/2 \\rfloor) + O(n) \\leq 2T(n/2) + O(n)\n",
    "$$\n"
   ]
  },
  {
   "cell_type": "markdown",
   "id": "33cf4134",
   "metadata": {},
   "source": [
    "And we can compute that the complexity is $O(n \\log n)$."
   ]
  },
  {
   "cell_type": "markdown",
   "id": "78b8e109",
   "metadata": {},
   "source": [
    "## Quick select\n",
    "Suppose instead, that we wish to find the element with a given rank $r$ in the array.\n"
   ]
  },
  {
   "cell_type": "code",
   "execution_count": 13,
   "id": "4e74187a",
   "metadata": {},
   "outputs": [
    {
     "name": "stdout",
     "output_type": "stream",
     "text": [
      "def quick_select(arr, r):\n",
      "    index = randint(0, len(arr) - 1) \n",
      "    left, right = _partition(arr, index)\n",
      "    if len(left) == r:\n",
      "        return arr[index]\n",
      "\n",
      "    if r > len(left):\n",
      "        return quick_select(right, r-len(left)-1)\n",
      "    \n",
      "    return quick_select(left, r)\n"
     ]
    },
    {
     "data": {
      "text/plain": [
       "5"
      ]
     },
     "execution_count": 13,
     "metadata": {},
     "output_type": "execute_result"
    }
   ],
   "source": [
    "from module.sort import quick_select\n",
    "\n",
    "show_implementation(quick_select)\n",
    "\n",
    "quick_select([1, 2, 4, 5, 3, 9, 4, 2], 6)"
   ]
  },
  {
   "cell_type": "markdown",
   "id": "735f1bca",
   "metadata": {},
   "source": [
    "### Analysis\n",
    "Notice that its runtime is very similar to quick sort, albeit it is missing the $O(n)$ merge step, thus we get:\n",
    "$$\n",
    "T(n) = T(k-1) + T(n-k) \n",
    "$$\n",
    "where $k$ is the rank of the pivot.\n",
    "Notice that in both quick sort and quick select, finding a way to determine a good pivot is important.\n",
    "Picking a pivot with rank that is somewhere in the middle of the array would greatly speed up our algorithm, while always picking pivots on either ends of the array leads to worse runtime.\n",
    "\n",
    "Hence, we will now demonstrate a deterministic way to find a pivot which has desirable rank."
   ]
  },
  {
   "cell_type": "markdown",
   "id": "213d4211",
   "metadata": {},
   "source": [
    "## Finding good pivot\n",
    "1. Partition the array into groups of 5 (pad with infinity if needed)\n",
    "2. Sort each group and find the median\n",
    "3. The pivot is the median of these medians\n",
    "\n",
    "Notice that there will be $3n/10$ elements that are smaller than the chosen pivot.\n",
    "Plugging $r=3n/10$ into our recursive formula for our quick sort, we get\n",
    "\n",
    "$$\n",
    "T(n) \\leq T(7n/10) + T(n/5) + Cn\n",
    "$$\n",
    "where $T(7n/10)$ is the complexity of the subproblem, and $T(n/5)$ is the complexity of sorting the groups of 5.\n",
    "When we analyze the complexity, we would notice that the complexity is $\\log n$.\n",
    "\n",
    "Hence, we have devised a method to deterministically find a good pivot for quick select."
   ]
  },
  {
   "cell_type": "markdown",
   "id": "dc1d5f17",
   "metadata": {},
   "source": [
    "## Integer multiplication\n",
    "We have long taken for granted that the time complexity to multiply any 2 numbers is $O(1)$.\n",
    "What if this assumption does not hold for large numbers?\n",
    "How would we derive a multiplication algorithm for larger numbers that our builtin integer multiplication can no longer support?\n",
    "\n",
    "Suppose that we have 2 $n$-digit integers that we need to multiply, and adding or multiply two **digits** is $O(1)$.\n",
    "How would we compute their product?\n",
    "\n",
    "Suppose the number that we want to multiply is represented as $a_1, a_2, \\dots, a_n$ and $b_1, b_2, \\dots , b_n$ in base 10.\n",
    "The naive way would be to multiply $a_n$ with $b_1, b_2, \\dots b_n$,\n",
    "then multiply $a_{n-1}$ by $b_1, b_2, \\dots b_n$, then appending a $0$ at the end, \n",
    "then multiply $a_{n-2}$ by $b_1, b_2, \\dots b_n$, then appending a $00$ at the end, and so on.\n",
    "Then, we sum all the products.\n",
    "This would require $n$ multiplications of a 1-digit number with a $n$-digit number, thus $O(n^2)$.\n",
    "And since there will be $n$ products, the summation would take $O(n)$.\n",
    "Thus, the overall complexity would be $O(n^2)$.\n",
    "\n",
    "First, notice that we have the following identity\n",
    "$$\n",
    "pq = (10^m a + b)(10^m c + d) = 10^{2m} ac + 10^m{ad + bc} + bd\n",
    "$$\n",
    "\n",
    "Notice that to solve $pq$, we need to simply find $ac, ad, bc$ and $bd$.\n",
    "And it inspires us that we can compute these recursively.\n",
    "\n",
    "Computing the complexity, we get \n",
    "$$\n",
    "T(n) = 4T(\\lceil n/2 \\rceil) + O(n)\n",
    "$$\n",
    "\n",
    "Using master theorem, we get $O(n^2)$."
   ]
  },
  {
   "cell_type": "markdown",
   "id": "9e85f4f1",
   "metadata": {},
   "source": [
    "Note that we did not actually need $ad$ and $bc$, but what we actually need is $ac + bd$.\n",
    "Notice that \n",
    "$$\n",
    "ad + bc = ac + bd - (a-b)(c-d)\n",
    "$$\n",
    "\n",
    "And the solution become apparent, we recursively compute $(a-b)(c-d)$ instead of $ad$ and $bc$.\n",
    "This means the number of multiplication we need is now 3.\n"
   ]
  },
  {
   "cell_type": "markdown",
   "id": "368b6e2f",
   "metadata": {},
   "source": [
    "Recomputing the complexity, we get \n",
    "$$\n",
    "T(n) = 3T(\\lceil n/2 \\rceil) + O(n)\n",
    "$$\n",
    "\n",
    "Using master theorem, we get $O(n^{\\log_2 3})$."
   ]
  },
  {
   "cell_type": "markdown",
   "id": "07f313ac",
   "metadata": {},
   "source": [
    "## Strassen's algorithm\n",
    "TODO"
   ]
  },
  {
   "cell_type": "code",
   "execution_count": null,
   "id": "871ea1d2",
   "metadata": {},
   "outputs": [],
   "source": []
  }
 ],
 "metadata": {
  "kernelspec": {
   "display_name": "Python 3 (ipykernel)",
   "language": "python",
   "name": "python3"
  },
  "language_info": {
   "codemirror_mode": {
    "name": "ipython",
    "version": 3
   },
   "file_extension": ".py",
   "mimetype": "text/x-python",
   "name": "python",
   "nbconvert_exporter": "python",
   "pygments_lexer": "ipython3",
   "version": "3.10.2"
  }
 },
 "nbformat": 4,
 "nbformat_minor": 5
}
