{
 "cells": [
  {
   "cell_type": "markdown",
   "id": "b71edcab",
   "metadata": {},
   "source": [
    "$$\n",
    "\\newcommand{proof}{\\textbf{Proof: }}\n",
    "\\newcommand{theorem}{\\textbf{Theorem: }}\n",
    "$$"
   ]
  },
  {
   "cell_type": "markdown",
   "id": "ac0cf636",
   "metadata": {},
   "source": [
    "# Reduction\n",
    "\n",
    "**Reducing** problem $X$ to problem $Y$ means to write an algorithm that solves $X$ using an algorithm for $Y$.\n"
   ]
  },
  {
   "cell_type": "markdown",
   "id": "ff007b33",
   "metadata": {},
   "source": [
    "## Merge sort\n",
    "Merge sort is defined as below"
   ]
  },
  {
   "cell_type": "markdown",
   "id": "ea738fc9",
   "metadata": {},
   "source": [
    "We know that this is correct because we know that it is correct in the base case.\n",
    "Secondly, if the two subarray is sorted, then the `merge` function would produce a sorted array.\n",
    "Using these 2 information, we know that the algorithm is correct by induction."
   ]
  },
  {
   "cell_type": "markdown",
   "id": "da8233e5",
   "metadata": {},
   "source": [
    "## Quick sort\n",
    "Quick sort algorithm is as below"
   ]
  },
  {
   "cell_type": "code",
   "execution_count": 28,
   "id": "60f0dc00",
   "metadata": {},
   "outputs": [],
   "source": [
    "from random import randint\n",
    "\n",
    "def quick_sort(arr):\n",
    "    if len(arr) <= 1:\n",
    "        return arr\n",
    "    \n",
    "    def partition(arr, index):\n",
    "        pivot = arr[index]\n",
    "        return [e for i, e in enumerate(arr) if e <= pivot and i != index], [e for e in arr if e > pivot]\n",
    "    index = randint(0, len(arr) - 1) \n",
    "    left, right = partition(arr, index)\n",
    "    left = quick_sort(left)\n",
    "    right = quick_sort(right)\n",
    "    return left + [arr[index]] + right\n",
    "            "
   ]
  },
  {
   "cell_type": "code",
   "execution_count": 29,
   "id": "b98e3f35",
   "metadata": {},
   "outputs": [
    {
     "data": {
      "text/plain": [
       "[1, 2, 2, 3, 4, 4, 5, 9]"
      ]
     },
     "execution_count": 29,
     "metadata": {},
     "output_type": "execute_result"
    }
   ],
   "source": [
    "quick_sort([1, 2, 4, 5, 3, 9, 4, 2])"
   ]
  },
  {
   "cell_type": "markdown",
   "id": "441ce088",
   "metadata": {},
   "source": [
    "Similar to merge sort, we split the array into 2 parts.\n",
    "Then we use our sorting routine on the smaller array.\n",
    "Since we know that the resultant array will be sorted if the two subarray is sorted, and the base case is defined, we know that quick sort is also correct."
   ]
  },
  {
   "cell_type": "markdown",
   "id": "ded0e6f0",
   "metadata": {},
   "source": [
    "### Analysis\n",
    "The recurrence we get depends on $r$, the rank of the pivot.\n",
    "We get\n",
    "$$\n",
    "T(n) = T(r-1) + T(n-r) + O(n)\n",
    "$$\n",
    "\n",
    "If $r$ is always $1$ or $n$ for all the routines, then we can compute the complexity and get $O(n^2)$, which means quick sort is rather inefficient when the pivot is chosen to be the ends of the array.\n"
   ]
  },
  {
   "cell_type": "markdown",
   "id": "a73e7e46",
   "metadata": {},
   "source": [
    "And if we somehow can choose a pivot with rank $n/2$ (which is the median), then the complexity reduces to "
   ]
  },
  {
   "cell_type": "markdown",
   "id": "6040f169",
   "metadata": {},
   "source": [
    "$$\n",
    "T(n) = T(\\lceil n/2 \\rceil - 1) + T(\\lfloor n/2 \\rfloor) + O(n) \\leq 2T(n/2) + O(n)\n",
    "$$\n"
   ]
  },
  {
   "cell_type": "markdown",
   "id": "33cf4134",
   "metadata": {},
   "source": [
    "And we can compute that the complexity is $O(n \\log n)$."
   ]
  },
  {
   "cell_type": "markdown",
   "id": "78b8e109",
   "metadata": {},
   "source": [
    "## Quick select\n",
    "Suppose instead, that we wish to find the element with a given rank $r$ in the array.\n"
   ]
  },
  {
   "cell_type": "markdown",
   "id": "213d4211",
   "metadata": {},
   "source": [
    "## Good pivot\n",
    "1. Partition the array into groups of 5 (pad with infinity if needed)\n",
    "2. Sort each group and find the median\n",
    "3. The pivot is the median of these medians\n",
    "\n",
    "Notice that there will be $3n/10$ elements that are smaller than the chosen pivot.\n",
    "Plugging $r=3n/10$ into our recursive formula for our quick sort, we get\n",
    "\n",
    "$$\n",
    "T(n) \\leq T(7n/10) + T(n/5) + Cn\n",
    "$$\n",
    "where $T(7n/10)$ is the complexity of the subproblem, and $T(n/5)$ is the complexity of sorting the groups of 5.\n",
    "we notice that the complexity is $\\log n$."
   ]
  },
  {
   "cell_type": "code",
   "execution_count": null,
   "id": "b6a1b98e",
   "metadata": {},
   "outputs": [],
   "source": []
  },
  {
   "cell_type": "markdown",
   "id": "dc1d5f17",
   "metadata": {},
   "source": [
    "## Integer multiplication\n",
    "We have long taken for granted that the time complexity to multiply any 2 numbers is $O(1)$.\n",
    "What if this assumption does not hold for large numbers?\n",
    "How would we derive a multiplication algorithm for larger numbers that our builtin integer multiplication can no longer support?\n",
    "\n",
    "Suppose that we have 2 $n$-digit integers that we need to multiply, and adding or multiply two **digits** is $O(1)$.\n",
    "How would we compute their product?\n",
    "\n",
    "Suppose the number that we want to multiply is represented as $a_1, a_2, \\dots, a_n$ and $b_1, b_2, \\dots , b_n$ in base 10.\n",
    "The naive way would be to multiply $a_n$ with $b_1, b_2, \\dots b_n$,\n",
    "then multiply $a_{n-1}$ by $b_1, b_2, \\dots b_n$, then appending a $0$ at the end, \n",
    "then multiply $a_{n-2}$ by $b_1, b_2, \\dots b_n$, then appending a $00$ at the end, and so on.\n",
    "Then, we sum all the products.\n",
    "This would require $n$ multiplications of a 1-digit number with a $n$-digit number, thus $O(n^2)$.\n",
    "And since there will be $n$ products, the summation would take $O(n)$.\n",
    "Thus, the overall complexity would be $O(n^2)$.\n",
    "\n",
    "First, notice that we have the following identity\n",
    "$$\n",
    "pq = (10^m a + b)(10^m c + d) = 10^{2m} ac + 10^m{ad + bc} + bd\n",
    "$$\n",
    "\n",
    "Notice that to solve $pq$, we need to simply find $ac, ad, bc$ and $bd$.\n",
    "And it inspires us that we can compute these recursively.\n",
    "\n",
    "Computing the complexity, we get \n",
    "$$\n",
    "T(n) = 4T(\\lceil n/2 \\rceil) + O(n)\n",
    "$$\n",
    "\n",
    "Using master theorem, we get $O(n^2)$."
   ]
  },
  {
   "cell_type": "markdown",
   "id": "9e85f4f1",
   "metadata": {},
   "source": [
    "Note that we did not actually need $ad$ and $bc$, but what we actually need is $ac + bd$.\n",
    "Notice that \n",
    "$$\n",
    "ad + bc = ac + bd - (a-b)(c-d)\n",
    "$$\n",
    "\n",
    "And the solution become apparent, we recursively compute $(a-b)(c-d)$ instead of $ad$ and $bc$.\n",
    "This means the number of multiplication we need is now 3.\n"
   ]
  },
  {
   "cell_type": "markdown",
   "id": "368b6e2f",
   "metadata": {},
   "source": [
    "Recomputing the complexity, we get \n",
    "$$\n",
    "T(n) = 3T(\\lceil n/2 \\rceil) + O(n)\n",
    "$$\n",
    "\n",
    "Using master theorem, we get $O(n^{\\log_2 3})$."
   ]
  },
  {
   "cell_type": "code",
   "execution_count": null,
   "id": "b2d84213",
   "metadata": {},
   "outputs": [],
   "source": []
  },
  {
   "cell_type": "code",
   "execution_count": null,
   "id": "9b3383c7",
   "metadata": {},
   "outputs": [],
   "source": []
  },
  {
   "cell_type": "markdown",
   "id": "4bcb7a99",
   "metadata": {},
   "source": [
    "## Worst-case time and average time\n",
    "For some given input size $n$, the **worst case time** is defined as the maximum time needed among all possible input.\n",
    "And the **average** time is the time needed over some finite set of input.\n",
    "Usually, in algorithm analysis, we are interested in the worst-case complexity rather than the average complexity."
   ]
  },
  {
   "cell_type": "markdown",
   "id": "a11b9787",
   "metadata": {},
   "source": [
    "In the above algorithm, we have 2 nested loops.\n",
    "The inner loop has 3 assignments (including the loop itself), and is executed $n$ times, once for each element in the array.\n",
    "Thus, the complexity of the inner loop would be $3n + 1$, as we need to execute the `for` statement one last time before we exit the loop.\n",
    "\n",
    "Now, the outer loop executes the inner loop $n$ times too, which means the outer loop has the complexity of $(3n+1)\\times n + n + 1= 3n^2 + 2n + 1$.\n",
    "Lastly, the rest of `foo` has 3 more assignments, if you include the `return`, thus the total complexity would be $f(n) = 3n^2 + 2n + 4$."
   ]
  },
  {
   "cell_type": "markdown",
   "id": "3ecf01d0",
   "metadata": {},
   "source": [
    "Indeed, when we add our count tracking into our algorithm we get $3 \\times 5^2 + 2 \\times 5 + 4 = 89$ executions on an array of length $5$."
   ]
  },
  {
   "cell_type": "code",
   "execution_count": null,
   "id": "6d8357b7",
   "metadata": {},
   "outputs": [],
   "source": []
  },
  {
   "cell_type": "code",
   "execution_count": null,
   "id": "8a78930b",
   "metadata": {},
   "outputs": [],
   "source": []
  },
  {
   "cell_type": "markdown",
   "id": "07f313ac",
   "metadata": {},
   "source": [
    "## Strassen\n",
    "TODO"
   ]
  },
  {
   "cell_type": "code",
   "execution_count": null,
   "id": "65196d49",
   "metadata": {},
   "outputs": [],
   "source": []
  }
 ],
 "metadata": {
  "kernelspec": {
   "display_name": "Python 3 (ipykernel)",
   "language": "python",
   "name": "python3"
  },
  "language_info": {
   "codemirror_mode": {
    "name": "ipython",
    "version": 3
   },
   "file_extension": ".py",
   "mimetype": "text/x-python",
   "name": "python",
   "nbconvert_exporter": "python",
   "pygments_lexer": "ipython3",
   "version": "3.10.2"
  }
 },
 "nbformat": 4,
 "nbformat_minor": 5
}
