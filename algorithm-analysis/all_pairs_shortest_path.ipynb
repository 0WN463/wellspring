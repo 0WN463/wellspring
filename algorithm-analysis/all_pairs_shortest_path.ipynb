{
 "cells": [
  {
   "cell_type": "markdown",
   "id": "humanitarian-squad",
   "metadata": {},
   "source": [
    "# All pairs shortest path\n",
    "Given a graph with vertices and weight edges, we wish to find the path with the shortest total weight from $u$ to $v$ for all pairs of $u,v$ in the graph.\n",
    "\n",
    "We can run the [single source algorithm](./graph_algorithms.ipynb#Single-source-shortest-path) on iteratively on every vertex as the source.\n",
    "Then, the following would be our derived complexity\n",
    "\n",
    "| Type of graph | Single source algorithm | Complexity |\n",
    "| --- | --- | --- |\n",
    "| Unweighted | BFS | $$O(n(n+m))$$\n",
    "| Non-negative acyclic | One-pass Bellman Ford | $$O(n(n+m))$$\n",
    "| Non-negative weight | Dijkstra | $$O(n(n \\log n + m))$$\n",
    "| General graph | Bellman Ford | $$O(n^2)$$"
   ]
  },
  {
   "cell_type": "markdown",
   "id": "572608dc",
   "metadata": {},
   "source": [
    "## Reweighting\n",
    "Notice that when we introduce negative weights, our complexity increases by a significant amount.\n",
    "What if we tried to remove the weights by transforming the graph?\n",
    "\n",
    "One option is to simply add some constant to all the edges.\n",
    "But this is clearly wrong, because this would unfairly increase the cost of paths with many edges."
   ]
  },
  {
   "cell_type": "markdown",
   "id": "421aa725",
   "metadata": {},
   "source": [
    "<span hidden> TODO, add graph example</span>"
   ]
  },
  {
   "cell_type": "markdown",
   "id": "3c5c8879",
   "metadata": {},
   "source": [
    "### Johnson's Algorithm\n",
    "From the previous observation, it becomes clear that we need to reweight the graph in such a way that the total weight of any path from $u$ to $v$ changes by the same amount."
   ]
  },
  {
   "cell_type": "markdown",
   "id": "3aa05e25",
   "metadata": {},
   "source": [
    "Suppose that for every edge with weight $w(u,v)$, we produce $w'$ as below:\n",
    "$$\n",
    "w'(u,v) = w(u,v) + f(u) - f(v)\n",
    "$$\n",
    "\n",
    "Then now we consider any path $s, v_1, \\dots, v_k, t$, we see that modified path has the following total distance:\n",
    "\n",
    "$$\n",
    "\\begin{align}\n",
    "& w'(s, v_1) + w'(v_1, v_2) + \\dots + w'(v_k, t) \\\\\n",
    "& = w(s, v_1) + w(v_1, v_2) + \\dots + w(v_k, t) + f(s) - f(v_1) + f(v_1) - f(v_2) + \\dots + f(v_k) - f(t) \\\\\n",
    "& = w(s, v_1) + w(v_1, v_2) + \\dots + w(v_k, t) + f(s) - f(t) \\\\\n",
    "& = dist(s, t) + f(s) - f(t)\n",
    "\\end{align}\n",
    "$$"
   ]
  },
  {
   "cell_type": "markdown",
   "id": "0ceb68d5",
   "metadata": {},
   "source": [
    "Thus, any path $s,t$ would be modified by the same amount, $f(s) - f(t)$"
   ]
  },
  {
   "cell_type": "markdown",
   "id": "bbbe6143",
   "metadata": {},
   "source": [
    "Hence, it follows that we need to find $f(s) - f(t)$ such that all $w'(s, t)$ is positive."
   ]
  },
  {
   "cell_type": "markdown",
   "id": "42c7a4f2",
   "metadata": {},
   "source": [
    "However, it is not clear if there exists such a function $f$ for us."
   ]
  },
  {
   "cell_type": "markdown",
   "id": "460734a0",
   "metadata": {},
   "source": [
    "Suppose that the graph has some vertex $x$ that can reach any other vertex.\n",
    "Notice that $dist(x, t) \\leq dist(x, s) + w(s, t)$\n",
    "Rearranging, we get \n",
    "$$\n",
    "w(s,t) + dist(x,s) - dist(x,t) \\geq 0\n",
    "$$\n",
    "which is what we desired.\n",
    "Hence, we can use $f(y) = dist(x,y)$ as our function."
   ]
  },
  {
   "cell_type": "markdown",
   "id": "2b711571",
   "metadata": {},
   "source": [
    "However, the graph may not have a source vertex that can reach every other vertex.\n",
    "And we do not wish to add or subtract $\\infty$, as that may make some of our calculations undefined.\n"
   ]
  },
  {
   "cell_type": "markdown",
   "id": "bc7222c6",
   "metadata": {},
   "source": [
    "We instead, can add a new vertex $s$ to the graph, and add edges $s,v$ for every $v$ in $V$, with 0 weights.\n",
    "Now, we have our source as desired.\n",
    "And notice that because we didn't add any edges **to** s, only edges **away** from $s$, we didn't create any new path in the new graph with respect to the vertices in the  old graph."
   ]
  },
  {
   "cell_type": "markdown",
   "id": "f18ffb25",
   "metadata": {},
   "source": [
    "#### Pseudo code\n",
    "1. Add source vertex $s$\n",
    "2. Add 0 weight edges from $s$ to all $v$\n",
    "3. Call Bellman Ford to determine the distance of $s$ to all $v$\n",
    "    * If negative cycle is found, fail gracefully\n",
    "4. Reweight all the edges to $w(u,v) + dist(s, u) - dist(s, v)$\n",
    "5. For each vertex $u$, run Dijkstra with it as the source to get $dist'(u,v)$\n",
    "6. For pair of vertices $u,v$, obtain the original shortest path by $dist(u,v) = dist'(u,v) - dist(s,u) + dist(s,v)$"
   ]
  },
  {
   "cell_type": "markdown",
   "id": "a8597d49",
   "metadata": {},
   "source": [
    "#### Time complexity\n",
    "The algorithm requires:\n",
    "* One call to Bellman Ford\n",
    "    * $O(nm)$\n",
    "* Reweighting\n",
    "    * $O(m)$\n",
    "* $n$ calls to Dijkstra\n",
    "    * $O(n(n \\log n + m))$"
   ]
  },
  {
   "cell_type": "markdown",
   "id": "666e8310",
   "metadata": {},
   "source": [
    "Hence, the overall complexity is $O(n(n \\log n + m))$, which is much better than running Bellman Ford $n$ times."
   ]
  },
  {
   "cell_type": "markdown",
   "id": "04a9640a",
   "metadata": {},
   "source": [
    "## DP APSP\n",
    "### Straight forward DP\n",
    "A simpler but less efficient approach to APSP uses dynamic programming.\n",
    "\n",
    "It is defined as the following recursive function\n",
    "$$\n",
    "dist(u,v,l) = \n",
    "\\begin{aligned}\n",
    "\\begin{cases}\n",
    "0 \\quad &\\text{if }l = 0\\text{ and }u = v \\\\\n",
    "\\infty \\quad &\\text{if }l = 0\\text{ and }u \\neq v \\\\ \n",
    "\\min(dist(u,v,l-1), \\min_{x \\to v}(dist(u, x, l-1) + w(x, v)) \n",
    "\\quad &\\text{otherwise}\n",
    "\\end{cases}\n",
    "\\end{aligned}\n",
    "$$"
   ]
  },
  {
   "cell_type": "markdown",
   "id": "cfda5e6a",
   "metadata": {},
   "source": [
    "Simply put, $dist(u,v,l)$ tells us the shortest path from $u$ to $v$ using at most $l$ edges.\n",
    "Thus, if $l$ is 0, the base case is clear.\n",
    "\n",
    "When $l > 0$, then we either just reduce $l$, or we consider using the edge $x,v$ as part of our shortest path."
   ]
  },
  {
   "cell_type": "markdown",
   "id": "bd1af160",
   "metadata": {},
   "source": [
    "The complexity for this is $O(n^2m)$"
   ]
  },
  {
   "cell_type": "markdown",
   "id": "3a4cc449",
   "metadata": {},
   "source": [
    "#### Divide and conquer\n",
    "We had assume that $x$ is the element before $v$ in the path $u,v$.\n",
    "However, if we consider $x$ as the middle vertex in the path, we have the following recurrence\n",
    "$$\n",
    "dist(u, v, 2^k) = \\min_{x \\in V} (dist(u, x, 2^{k-1}) + dist(x, v, 2^{k-1})) \\\\\n",
    "dist(u, v, 2^0) = w(u,v)\n",
    "$$"
   ]
  },
  {
   "cell_type": "markdown",
   "id": "f3b2c861",
   "metadata": {},
   "source": [
    "Then by setting $k = \\lceil \\log_2 n \\rceil$, we would get our shortest path"
   ]
  },
  {
   "cell_type": "markdown",
   "id": "8cc1ecb5",
   "metadata": {},
   "source": [
    "### Floyd-Warshall\n",
    "For Floyd-Warshall, we instead consider the shortest path from $u \\to v$, using vertices $1, \\dots, r$.\n",
    "\n",
    "Thus, we get the following recursion\n",
    "$$\n",
    "dist(u, v, r) = \n",
    "\\begin{aligned}\n",
    "\\begin{cases} \n",
    "w(u,v)   \\quad & \\text{if } r = 0 \\\\\n",
    "\\min \\left(dist(u, v, r-1), dist(u, r, r-1) + dist(r, v, r-1) \\right) \\quad &\\text{otherwise}\n",
    "\\end{cases}\n",
    "\\end{aligned}\n",
    "$$"
   ]
  },
  {
   "cell_type": "markdown",
   "id": "084004b4",
   "metadata": {},
   "source": [
    "In other words, when $r = 0$, the shortest path is simply the direct edge from $u \\to v$ because we cannot use any other vertices.\n",
    "And when we can use up till vertex $r$, \n",
    "then it is simply the shortest $uv$ distance without using $r$ \n",
    "$$dist(u, v, r-1)$$, \n",
    "and with using $r$ \n",
    "$$dist(u, r, r-1) + dist(r, v, r-1)$$"
   ]
  },
  {
   "cell_type": "markdown",
   "id": "d228cd6f",
   "metadata": {},
   "source": [
    "This gives us a simply runtime of $O(n^3)$"
   ]
  },
  {
   "cell_type": "markdown",
   "id": "9151a56d",
   "metadata": {},
   "source": [
    "## Matrix multiplication\n",
    "\n",
    "Consider two $n \\times n $ matrices A and B.\n",
    "Then the matrix product of $AB$, is \n",
    "$$\n",
    "AB_{ij} = A_{i1}B_{1j} + A_{i2}B_{2j} + \\dots + A_{in} B_{nj}\n",
    "$$\n"
   ]
  },
  {
   "cell_type": "markdown",
   "id": "aaa47903",
   "metadata": {},
   "source": [
    "Suppose that $M$ is a [weighted adjacency matrix](TODO).\n",
    "\n",
    "And suppose that we define this new operation, $\\circ$\n",
    "\n",
    "$$\n",
    "M \\circ M = \\min (M_{i1} + M_{1j}, M_{i2} + M_{2j}, \\dots, M_{in} + M_{nj})\n",
    "$$"
   ]
  },
  {
   "cell_type": "markdown",
   "id": "67c885bc",
   "metadata": {},
   "source": [
    "Notice that $M\\circ M$ corresponds to the shortest path from $i \\to j$ of length at most 2."
   ]
  },
  {
   "cell_type": "markdown",
   "id": "0c37fdb8",
   "metadata": {},
   "source": [
    "Also, notice that this is very similar to matrix product, $M \\times M$, but multiplication is replaced by addition, and addition is replaced by minimum."
   ]
  },
  {
   "cell_type": "markdown",
   "id": "00dcea77",
   "metadata": {},
   "source": [
    "Hence, we can also derive our shortest path as simply\n",
    "$$\n",
    "M \\circ M \\circ M \\dots \\circ M \\qquad n - 1\\text{ times}\n",
    "$$"
   ]
  },
  {
   "cell_type": "markdown",
   "id": "062539b9",
   "metadata": {},
   "source": [
    "Once again, notice that similarity to [matrix exponentiation](TODO) $M^{n-1}$"
   ]
  },
  {
   "cell_type": "markdown",
   "id": "d477eaee",
   "metadata": {},
   "source": [
    "Thus, we can use a similar approach to perform exponentiation in $\\log n$ operations.\n",
    "And since matrix each $\\circ$ operation takes $O(n^3)$ operations, we obtain a runtime of $O(n^3 \\log n)$"
   ]
  },
  {
   "cell_type": "markdown",
   "id": "4199f675",
   "metadata": {},
   "source": [
    "**Aside:** In actuality, this is similar (if not identical) to the [divide and conquer algorithm](#Divide-and-conquer) provided previously."
   ]
  },
  {
   "cell_type": "markdown",
   "id": "24f43db7",
   "metadata": {},
   "source": [
    "### Matrix multiplication speedup\n",
    "Astute readers might have suggested to potentially use [Strassen's algorithm](./recursion.ipynb#Strassen's-algorithm) to speed up matrix multiplication to $O(n^{\\log 7}) \\approx O(n^{2.81})$.\n",
    "If matrix multiplication can be speed up, can we similarly improve our APSP algorithm?\n",
    "\n",
    "Sadly, the algorithm cannot be improve so simply.\n",
    "Notice that in Strassen's algorithm, we used subtraction, which is an inverse of addition.\n",
    "However, in our $\\circ$ function, we used a minimum instead, and there is no inverse for minimum."
   ]
  },
  {
   "cell_type": "markdown",
   "id": "47f2cf85",
   "metadata": {},
   "source": [
    "It is still an open question as to whether APSP can be solve in faster than $O(n^3)$ time."
   ]
  }
 ],
 "metadata": {
  "kernelspec": {
   "display_name": "Python 3 (ipykernel)",
   "language": "python",
   "name": "python3"
  },
  "language_info": {
   "codemirror_mode": {
    "name": "ipython",
    "version": 3
   },
   "file_extension": ".py",
   "mimetype": "text/x-python",
   "name": "python",
   "nbconvert_exporter": "python",
   "pygments_lexer": "ipython3",
   "version": "3.10.2"
  }
 },
 "nbformat": 4,
 "nbformat_minor": 5
}
