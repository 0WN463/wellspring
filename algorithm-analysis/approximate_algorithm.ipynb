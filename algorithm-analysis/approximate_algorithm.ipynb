{
 "cells": [
  {
   "cell_type": "markdown",
   "id": "41e70a22",
   "metadata": {},
   "source": [
    "$$\n",
    "\\newcommand{proof}{\\textbf{Proof: }}\n",
    "$$"
   ]
  },
  {
   "cell_type": "markdown",
   "id": "a3b90492",
   "metadata": {},
   "source": [
    "#  Approximate algorithm\n",
    "\n",
    "For many problems, we realized that solving for the exact solution may be rather difficult, *eg* [NP-hard problems](./np_hardness.ipynb#NP-hardness/completeness)."
   ]
  },
  {
   "cell_type": "markdown",
   "id": "1c0bc5a9",
   "metadata": {},
   "source": [
    "Suppose that we are not concern about getting the exact solution, and are happy with some approximation.\n",
    "This could greatly speed up our algorithm."
   ]
  },
  {
   "cell_type": "markdown",
   "id": "fc9e4d23",
   "metadata": {},
   "source": [
    "## Euclidean TSP\n",
    "This is [TSP](./np_hardness.ipynb#Traveling-salesman-problem), but with the added restriction that for any 3 vertices $x,y,z$, the weights have the following properties $w(x,y) + w(y,z) \\geq w(x,z)$.\n",
    "\n",
    "It can be proven that this is still NP-hard."
   ]
  },
  {
   "cell_type": "markdown",
   "id": "5e431e26",
   "metadata": {},
   "source": [
    "### 2-Approximation\n",
    "\n",
    "1. Compute the minimum spanning tree of the graph\n",
    "2. Perform an preorder traversal and obtain the list of vertices visited in that order.\n",
    "3. Remove all duplicates in the list\n",
    "\n",
    "This list forms our 2-approximate for the TSP.\n",
    "(2-approximate means that our approximation will be at most 2 times the optimal solution of the TSP)."
   ]
  },
  {
   "cell_type": "markdown",
   "id": "be52041f",
   "metadata": {},
   "source": [
    "To proves that it is a 2-approximation:\n",
    "1. The minimum spanning tree is the smallest connect graph that spans all vertices, thus the total weight at most the optimal solution for the TSP.\n",
    "2. Our preorder traversal traverse every edge exactly twice, and thus has cost equals to two times the cost of the spanning tree\n",
    "3. By removing duplicates, we are reducing the total cost of the tour (due to the Euclidean property)\n",
    "\n",
    "Hence, if the cost of the spanning tree is $T$, the optimal solution is $O$ and our approximate is $A$, we get the following inequality:\n",
    "$$\n",
    "A \\leq 2T \\leq 2O\n",
    "$$\n",
    "and hence it is a 2-approximate.\n",
    "\n",
    "Other approximations of TSP are available [here](../graph-theory/hamiltonian_graph.ipynb#Minimum-Edge-Algorithm)."
   ]
  },
  {
   "cell_type": "markdown",
   "id": "bd16d88e",
   "metadata": {},
   "source": [
    "## Vertex cover\n",
    "We have [established](./np_hardness.ipynb#Vertex-cover) that vertex cover is NP-hard\n",
    "\n",
    "### 2-Approximation\n",
    "\n",
    "The algorithm is simple:\n",
    "\n",
    "* while there is an edge $u \\to v$ that is not covered by our set\n",
    "    * add both $u$ and $v$ to our set\n",
    "    \n",
    "The correctness of the algorithm is apparent.\n",
    "\n",
    "And if we consider the pairs of vertices in our vertex cover, at least 1 of them must be in the optimal vertex cover, otherwise there is an edge that is not covered by the optimal vertex cover.\n",
    "Therefore, our vertex cover is at most twice the optimal, hence is a 2-approximate."
   ]
  },
  {
   "cell_type": "markdown",
   "id": "12d29f09",
   "metadata": {},
   "source": [
    "## TSP\n",
    "We also had previously proven that TSP is NP-hard.\n",
    "\n",
    "### c-Approximation\n",
    "\n",
    "Suppose instead that we wish to find existence of a tour that has total length $cM$, where $M$ is the optimal tour.\n",
    "\n",
    "#### Reduction from undirected Hamiltonian cycle\n",
    "1. From an undirected graph $G$, we created complete graph $G'$ such that\n",
    "    * $w(x,y) = 1$ is the edge $x,y$ is in $G$\n",
    "    * $w(x,y) = cn+1$ otherwise\n",
    "\n",
    "$cycle \\to approximate$\n",
    "\n",
    "Suppose we have a Hamiltonian cycle in $G$.\n",
    "Then if we follow the cycle in $G'$, we would get a Hamiltonian cycle of length $n$.\n",
    "And this can be our c-approximate for the TSP solution\n",
    "\n",
    "$approximate \\to cycle$\n",
    "\n",
    "Suppose that we have a c-approximate in G'.\n",
    "Notice that it cannot contain any edge with weight $cn+1$, thus it must only contain edges of weight $1$.\n",
    "This means that the tour must also exists in $G$, which is our desired TSP solution.\n",
    "\n",
    "With this reduction, we have problem the getting a c-approximate to TSP is NP-hard too."
   ]
  },
  {
   "cell_type": "code",
   "execution_count": null,
   "id": "a9d2e2df",
   "metadata": {},
   "outputs": [],
   "source": []
  }
 ],
 "metadata": {
  "kernelspec": {
   "display_name": "Python 3 (ipykernel)",
   "language": "python",
   "name": "python3"
  },
  "language_info": {
   "codemirror_mode": {
    "name": "ipython",
    "version": 3
   },
   "file_extension": ".py",
   "mimetype": "text/x-python",
   "name": "python",
   "nbconvert_exporter": "python",
   "pygments_lexer": "ipython3",
   "version": "3.10.2"
  }
 },
 "nbformat": 4,
 "nbformat_minor": 5
}
