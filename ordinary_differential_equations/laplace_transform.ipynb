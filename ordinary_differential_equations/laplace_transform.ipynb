{
 "cells": [
  {
   "cell_type": "markdown",
   "id": "9c6c1beb",
   "metadata": {
    "deletable": false,
    "run_control": {
     "frozen": true
    }
   },
   "source": [
    "$$\n",
    "\\newcommand{theorem}{\\textbf{Theorem: }}\n",
    "\\newcommand{proof}{\\textbf{Proof: }}\n",
    "\\newcommand{example}{\\textbf{Example: }}\n",
    "\\newcommand{lemma}{\\textbf{Lemma: }}\n",
    "\\newcommand{corollary}{\\textbf{Corollary: }}\n",
    "\\newcommand{prop}{\\textbf{Proposition: }}\n",
    "$$"
   ]
  },
  {
   "cell_type": "markdown",
   "id": "fdc62890",
   "metadata": {},
   "source": [
    "$$\n",
    "\\newcommand{v}{\\mathbf}\n",
    "\\newcommand{inv}{^{-1}}\n",
    "\\newcommand\\mat[1]{\\begin{pmatrix}#1\\end{pmatrix}} \n",
    "\\newcommand\\det[1]{\\left| #1\\right|} \n",
    "\\newcommand\\norm[1]{\\lVert #1\\rVert} \n",
    "\\newcommand\\set[1]{\\left\\{#1\\right\\}} \n",
    "\\newcommand\\dels[2]{\\frac{\\partial #1}{\\partial #2}} \n",
    "$$"
   ]
  },
  {
   "cell_type": "code",
   "execution_count": 1,
   "id": "02373983",
   "metadata": {},
   "outputs": [],
   "source": [
    "import numpy as np\n",
    "import matplotlib.pyplot as plt"
   ]
  },
  {
   "cell_type": "markdown",
   "id": "923cb037",
   "metadata": {},
   "source": [
    "# Laplace transform\n",
    "\n",
    "Given a function $f$ that is defined for all $t \\geq 0$, the **laplace transform** is given by:\n",
    "$$\n",
    "F(s) = L(f) = \\int ^ \\infty _ 0 e^{-st} f(t) dt\n",
    "$$\n",
    "assuming the integral exists.\n",
    "\n",
    "Note that the Laplace transform turns a function of $t$ to a function of $s$.\n",
    "\n",
    "See also: They are similar to the [Fourier transform](../signal_processing/fourier_transform.ipynb), which turns function of $t$ to $f$ (frequency)."
   ]
  },
  {
   "cell_type": "markdown",
   "id": "21bf1c40",
   "metadata": {},
   "source": [
    "We denote the inverse transform as:\n",
    "$$\n",
    "L^{-1} F(s) = f(t)\n",
    "$$\n",
    "\n",
    "(We denote original functions with lower case while Laplace transforms by upper case)\n",
    "\n"
   ]
  },
  {
   "cell_type": "markdown",
   "id": "ade1de3c",
   "metadata": {},
   "source": [
    "<details>\n",
    "<summary style=\\color: blue\\>$\\example$ (Click to expand)</summary>\n",
    "<div style=\\background: aliceblue\\>\n",
    "Given $f(t) = e^{2t}$.\n",
    "\n",
    "Then\n",
    "$$\n",
    "\\begin{align*}\n",
    "F(s) &= \\int ^ \\infty _0 e^{-st} e^{2t} dt$ \\\\\n",
    "&= \\int ^ \\infty _0 e^{(2-s)t} dt$ \\\\\n",
    "&= \\lim _{b \\to \\infty} \\int ^ b _0 e^{(2-s)t} dt$ \\\\\n",
    "&= \n",
    "\\begin{cases}\n",
    "b & \\text{if } s = 2 \\\\\n",
    "\\frac{e^{(2-s)t}}{2 -s} - \\frac{1}{2 - s} & \\text{if } s \\neq 2 \\\\\n",
    "\\end{cases}\n",
    "\\end{align*}\n",
    "$$\n",
    "\n",
    "When $s \\leq 2$, the value diverges, and thus the Laplace transform is not well-defined.\n",
    "\n",
    "When $s > 2$, the value converges to $\\frac{1}{s- 2}$.\n",
    "Thus, the Laplace transform (for $s > 2)$ is: \n",
    "$$\n",
    "F(s) = \\frac{1}{s-2} \\quad s > 2\n",
    "$$\n",
    "</div>\n",
    "</details>"
   ]
  },
  {
   "cell_type": "markdown",
   "id": "2091d564",
   "metadata": {},
   "source": [
    "$\\theorem$\n",
    "\n",
    "Laplace transforms and their inverses are linear\n",
    "\n",
    "$$\n",
    "L(a f(t) + b g(t)) = a L(f) + b L (g)\n",
    "$$\n",
    "\n",
    "$$\n",
    "L^{-1}(a F(s) + b G(s)) = a L^{-1}(F) + b L^{-1} (G)\n",
    "$$\n",
    "\n",
    "This is a rather significant property because it makes manipulating the Laplace expressions easier."
   ]
  },
  {
   "cell_type": "markdown",
   "id": "8412bc2a",
   "metadata": {},
   "source": [
    "## Table of Laplace transforms\n",
    "\n",
    "|$f(t)$ | $F(s)$ |\n",
    "|---|---|\n",
    "| $e^{at}$ | $\\frac{1}{s-a} \\quad s > a$ |\n",
    "| $1$ | $\\frac{1}{s} \\quad s > 0$ |\n",
    "| $\\cos wt$ | $\\frac{s}{s^2 + w^2}$ |\n",
    "| $\\sin wt$ | $\\frac{w}{s^2 + w^2}$ |\n",
    "| $t^n$ | $\\frac{n!}{s^{n+1}}$ |\n",
    "| [$u(t-a)$](#Unit-step-function) | $\\frac{e^{-as}}{s}$ |\n",
    "| [$\\delta(t)$](#Dirac-delta-function) | $1$ |"
   ]
  },
  {
   "cell_type": "markdown",
   "id": "0ea03575",
   "metadata": {},
   "source": [
    "<details>\n",
    "<summary style=\\color: blue\\>$\\textbf{Derivation}$ (Click to expand)</summary>\n",
    "<div style=\\background: aliceblue\\>\n",
    "(1) can be proven similarly using the first example.\n",
    "\n",
    "(2) can be proven as a special case of (1) when $a=0$.\n",
    "\n",
    "For (3) and (4), we set $a = iw$, then we get:\n",
    "$$\n",
    "\\displaylines{\n",
    "f(t) = e^{iwt} = \\cos wt + i \\sin t \\\\\n",
    "F(s) = \\frac{1}{s-iw} = \\frac{s + iw}{s^2 + w^2}\n",
    "}\n",
    "$$\n",
    "\n",
    "For (5), we solve it directly:\n",
    "$$\n",
    "\\begin{align*}\n",
    "L(t^n) &= \\int ^ \\infty _0 e^{-st} t^n dt \\\\\n",
    "&= -\\left[ \\frac{1}{s}e^{-st}t^n \\right] ^\\infty _0 + \\frac{n}{s} \\int ^ \\infty _0 e^{-st} t^{n-1} dt \\\\\n",
    "&= \\frac{n}{s} \\int ^ \\infty _0 e^{-st} t^{n-1} dt \\\\\n",
    "\\end{align*}\n",
    "$$\n",
    "\n",
    "From here, we can prove it by induction.\n",
    "\n",
    "The other identities are proven in their respective sections.\n",
    "</div>\n",
    "</details>"
   ]
  },
  {
   "cell_type": "markdown",
   "id": "b07cc368",
   "metadata": {},
   "source": [
    "## Piecewise continuous functions\n",
    "\n",
    "Since Laplace transforms are defined by integration, the functions need not be continuous; which cannot be said for differentiation.\n",
    "\n",
    "A **jump continuity** at $a \\in [0, \\infty)$ for a function $f$ with $t \\geq 0$, is if these limits exists:\n",
    "$$\n",
    "\\lim _{t \\to a^-} f(t) = l _- \\quad \\lim _{t \\to a^+} f(t) = l_+\n",
    "$$\n",
    "but $f$ is not continuous at $t=a$.\n",
    "\n",
    "A function is **piecewise continuous** if it has no other continuities other than jump continuities in the interval.\n",
    "\n",
    "They always have simple Laplace transforms, unless they grow faster than exponentially."
   ]
  },
  {
   "cell_type": "markdown",
   "id": "45defae2",
   "metadata": {},
   "source": [
    "## Derivatives and integrals\n",
    "\n",
    "$\\theorem$\n",
    "If $f(t)$ is continuous on $t \\geq 0$ and $f'(t)$ is piecewise continuous on $t \\geq 0$, then:\n",
    "$$\n",
    "L(f'(t)) = sL(f) - f(0), \\quad s > a\n",
    "$$\n",
    "\n",
    "In general,\n",
    "\n",
    "$\\theorem$\n",
    "$$\n",
    "L(f^{n}) = s^n L(f) - s^{n-1} f(0) - s^{n-2} f'(0) - \\dots - f^{n-1}(0)\n",
    "$$"
   ]
  },
  {
   "cell_type": "markdown",
   "id": "cf280408",
   "metadata": {},
   "source": [
    "Notice that differentiation of $f$ becomes a multiplication of $F$ by $s$."
   ]
  },
  {
   "cell_type": "markdown",
   "id": "1a4443f8",
   "metadata": {},
   "source": [
    "$\\theorem$\n",
    "\n",
    "If $f$ is piecewise continuous and has a well-defined Laplace transform, then:\n",
    "$$\n",
    "\\frac{1}{s} L(f) = L \\int ^ t _ 0 \\left( f(\\tau) d \\tau \\right), \\quad s > 0\n",
    "$$"
   ]
  },
  {
   "cell_type": "markdown",
   "id": "fa1f5c8f",
   "metadata": {},
   "source": [
    "Notice that integration of $f$ becomes a division of $F$ by $s$.\n"
   ]
  },
  {
   "cell_type": "markdown",
   "id": "832c7370",
   "metadata": {},
   "source": [
    "<details>\n",
    "<summary style=\\color: blue\\>$\\example$ (Click to expand)</summary>\n",
    "<div style=\\background: aliceblue\\>\n",
    "Suppose that we wish to find $L^{-1} \\frac{1}{s(s^2 + 1)}$\n",
    "\n",
    "We know that\n",
    "$$\n",
    "L(\\sin t) = \\frac{1}{s^2 + 1}\n",
    "$$\n",
    "\n",
    "Using our theorem, we get:\n",
    "$$\n",
    "\\begin{align*}\n",
    "L\\left( \\frac{1}{s(s^2 + 1)}\\right) &= L \\int ^ t _ 0 \\left( \\sin \\tau d \\tau \\right) \\\\\n",
    "&= L \\left( \\left[ -\\cos \\right] ^t _0 \\right) \\\\\n",
    "&= L \\left( 1 - \\cos t \\right) \n",
    "\\end{align*}\n",
    "$$\n",
    "\n",
    "Thus, $L^{-1} \\frac{s}{s(s^2 + 1)} = 1 - \\cos t$\n",
    "\n",
    "Indeed, we can verify this, since we know\n",
    "$$\n",
    "L(\\cos t) = \\frac{s}{s^2 + 1}, \\quad L(1) = \\frac{1}{s}\n",
    "$$\n",
    "\n",
    "Hence,\n",
    "$$\n",
    "L(1 - \\cos t) = \\frac{1}{s} - \\frac{s}{s^2 + 1} = \\frac{s^2 + 1 - s^2}{s(s^2 + 1)}\n",
    "= \\frac{1}{s(s^2 + 1)}\n",
    "$$\n",
    "</div>\n",
    "</details>"
   ]
  },
  {
   "cell_type": "markdown",
   "id": "a50bdc3c",
   "metadata": {},
   "source": [
    "## Shifting\n",
    "\n",
    "### $t$-shifting\n",
    "\n",
    "$\\theorem$\n",
    "$$\n",
    "L(f(t-a) u(t-a)) = e^{-as} F(s)\n",
    "$$\n",
    "\n",
    "where $u(t)$ is the [unit step function](#Unit-step-function).\n",
    "\n",
    "$\\corollary$\n",
    "$$\n",
    "L(u(t-a)) = \\frac{e^{-as}}{s}\n",
    "$$"
   ]
  },
  {
   "cell_type": "markdown",
   "id": "477761d6",
   "metadata": {},
   "source": [
    "#### Unit step function"
   ]
  },
  {
   "cell_type": "markdown",
   "id": "535f5b21",
   "metadata": {},
   "source": [
    "The **unit step** function is defined as:\n",
    "$$\n",
    "u(t - a) =\n",
    "\\begin{cases}\n",
    "0 \\quad t < a \\\\\n",
    "1 \\quad t \\geq a \\\\\n",
    "\\end{cases}\n",
    "$$\n"
   ]
  },
  {
   "cell_type": "code",
   "execution_count": 2,
   "id": "b0e76711",
   "metadata": {},
   "outputs": [
    {
     "data": {
      "text/plain": [
       "[<matplotlib.lines.Line2D at 0x7f2c940fcd00>]"
      ]
     },
     "execution_count": 2,
     "metadata": {},
     "output_type": "execute_result"
    },
    {
     "data": {
      "image/png": "[encoded data removed]",
      "text/plain": [
       "<Figure size 640x480 with 1 Axes>"
      ]
     },
     "metadata": {},
     "output_type": "display_data"
    }
   ],
   "source": [
    "ts = np.linspace(0, 10, num=100)\n",
    "a = 4\n",
    "plt.plot(ts, np.where(ts < a, 0, 1))\n",
    "plt.show()"
   ]
  },
  {
   "cell_type": "markdown",
   "id": "8b3758f5",
   "metadata": {},
   "source": [
    "This function does appear frequently in real life, such as the behaviour of voltage when turning on a switch.\n",
    "\n",
    "Since this function is discontinuous, we have issues integrating it.\n",
    "However, if we use the Laplace transform, it wouldn't be an issue.\n",
    "\n"
   ]
  },
  {
   "cell_type": "markdown",
   "id": "c2529448",
   "metadata": {},
   "source": [
    "### $s$-shifting\n",
    "\n",
    "$\\theorem$\n",
    "If $f$ has a Laplace transform for $s > a$, then:\n",
    "$$\n",
    "F(s - c) = L(e^{ct}{f(t)}), \\quad s > a + c\n",
    "$$\n",
    "\n",
    "This gives us the following more general identities:\n",
    "$$\n",
    "\\begin{gather*}\n",
    "L(e^{ct} t^n) = \\frac{n!}{(s-c)^{n+1}} \\\\\n",
    "L(e^{ct} \\cos \\omega t) = \\frac{s-c}{(s-c)^2 + \\omega^2} \\\\\n",
    "L(e^{ct} \\sin \\omega t) = \\frac{\\omega}{(s-c)^2 + \\omega^2} \n",
    "\\end{gather*}\n",
    "$$\n",
    "\n"
   ]
  },
  {
   "cell_type": "markdown",
   "id": "785ae7a4",
   "metadata": {},
   "source": [
    "## Application in differential equations\n",
    "\n",
    "The Laplace transforms can make solving second order differential equations easier for us.\n",
    "\n",
    "This uses the properties that differentiation and integration on $f$ becomes multiplication and division on $F$ respectively.\n",
    "We compute the Laplace transform, then perform simple algebraic manipulation before finally performing the inverse to obtain our result.\n",
    "\n",
    "Consider:\n",
    "$$\n",
    "y'' + ay' + by = r(t)\n",
    "$$\n",
    "\n",
    "with the following initial values:\n",
    "$$\n",
    "y(0) = k_0 \\quad y'(0) = k_1\n",
    "$$\n",
    "\n",
    "Taking Laplace transforms on both sides, we get:\n",
    "$$\n",
    "s^2 Y - sy(0) - y'(0) + a(sY - y(0)) + bY = R \n",
    "= s^2 Y - sk_0 - k_1 + a(sY - k_0) + bY = R \n",
    "$$\n",
    "\n",
    "Rearranging:\n",
    "$$\n",
    "Y = \\frac{(s+a) k_0 + k_1 + R}{s^2 + as + b}\n",
    "$$\n",
    "\n",
    "We then split it into sum of fractions of whose inverses we can find.\n",
    "\n",
    "Then lastly, $y$ is simply the sum of the inverses.\n"
   ]
  },
  {
   "cell_type": "markdown",
   "id": "cb842f42",
   "metadata": {},
   "source": [
    "<details>\n",
    "<summary style=\\color: blue\\>$\\example$ (Click to expand)</summary>\n",
    "<div style=\\background: aliceblue\\>\n",
    "Suppose that we wish to solve for:\n",
    "$$\n",
    "y'' + y = e^{2t}, \\quad y(0) = 0, y'(0) = 1\n",
    "$$\n",
    "\n",
    "$$\n",
    "\\begin{align*}\n",
    "R &= F(e^{2t}) = \\frac{1}{s-2} \\\\\n",
    "Y &=\\frac{1 + R}{s^2 + 1} \\\\\n",
    "&= \\frac{s-1}{(s-2)(s^2+1)} \\\\\n",
    "&= \\frac{1}{5} \\frac{1}{s-2} - \\frac{s-3}{5(s^2 + 1)}\\\\\n",
    "&= \\frac{1}{5} \\frac{1}{s-2} - \\frac{s}{5(s^2 + 1)} + \\frac{3}{5(s^2 + 1)}\\\\\n",
    "y &= \\frac{1}{5} e^{2t} - \\frac{1}{5} \\cos t + \\frac{3}{5} \\sin t\\\\\n",
    "\\end{align*}\n",
    "$$\n",
    "</div>\n",
    "</details>"
   ]
  },
  {
   "cell_type": "markdown",
   "id": "a538c4e9",
   "metadata": {},
   "source": [
    "### Dirac delta function\n",
    "\n",
    "The **Dirac delta function** is defined by:\n",
    "$$\n",
    "\\delta(t) = \\lim_{h \\to 0} f_h(t) \\quad\n",
    "f_h(t) = \n",
    "\\begin{cases}\n",
    "0 & t < 0 \\\\\n",
    "\\frac{1}{h} & 0 \\leq t \\leq h \\\\\n",
    "0 & t > h \\\\\n",
    "\\end{cases}\n",
    "$$\n",
    "\n",
    "In order words, this is a function with a very large value at $t=0$, but still maintaining the area to be $1$."
   ]
  },
  {
   "cell_type": "markdown",
   "id": "91dd6ba5",
   "metadata": {},
   "source": [
    "Given any function $g(t)$, suppose we consider:\n",
    "$$\n",
    "\\int ^ \\infty _0 f_h(t) g(t) dt = \\frac{1}{h} \\int ^h _0 g(t) dt\n",
    "$$\n",
    "\n",
    "Notice that $h \\to 0$, then $\\int ^h _0 g(t) dt \\to g(0) h$.\n",
    "\n",
    "Thus, we get the following identity:\n",
    "$$\n",
    "\\int ^\\infty _0 \\delta(t) g(t) dt = g(0)\n",
    "$$\n",
    "\n",
    "Similarly:\n",
    "$$\n",
    "\\int ^\\infty _0 \\delta(t - a) g(t) dt = g(a)\n",
    "$$\n",
    "\n",
    "Hence, its Laplace transform is:\n",
    "$$\n",
    "L(\\delta(t - a)) =  \\int ^ \\infty _0 e^{-st} \\delta(t - a) dt\n",
    "= e^{-as}\n",
    "$$\n",
    "\n",
    "$\\corollary$\n",
    "$$\n",
    "L(\\delta (t)) = 1\n",
    "$$"
   ]
  },
  {
   "cell_type": "markdown",
   "id": "eb9566d9",
   "metadata": {},
   "source": [
    "Dirac functions are useful in modelling situations where an event occurs at some point in time which perturbs the system.\n"
   ]
  },
  {
   "cell_type": "markdown",
   "id": "42e52826",
   "metadata": {},
   "source": [
    "<details>\n",
    "<summary style=\\color: blue\\>$\\example$ (Click to expand)</summary>\n",
    "<div style=\\background: aliceblue\\>\n",
    "A patient has 100mg of a medicine at $t=0$.\n",
    "He is given another 100mg of the same medicine at $t=1$.\n",
    "Suppose that in the body, the medicine decays to half its value every 1 hour.\n",
    "\n",
    "We wish to model the amount of medicine in the patient at any time.\n",
    "\n",
    "Assuming there was no injection, the medicine can be modelled as:\n",
    "$$\n",
    "\\begin{align*}\n",
    "y &= y_0 e^{-kt} \\\\\n",
    "\\frac{1}{2} y_0 &= y_0 e^{-k} \\\\\n",
    "k &= \\ln 2\\\\\n",
    "\\end{align*}\n",
    "$$\n",
    "\n",
    "Differentiating both sides:\n",
    "$$\n",
    "y' = -ky_0 e^{-kt} = -ky\n",
    "$$\n",
    "\n",
    "Now, adding in the injection, we get:\n",
    "$$\n",
    "y' = -ky + 100\\delta(t)\n",
    "$$\n",
    "\n",
    "$$\n",
    "sY - y(0) = -kY + 100e^{-s}\n",
    "$$\n",
    "\n",
    "$$\n",
    "Y = \\frac{100e^{-s} + 100}{s+k}\n",
    "= 100e^{-kt} + 100e^{-k(t-1)} u(t-1)\n",
    "= 100 (0.5)^t + 100 (0.5)^{t-1} u(t-1)\n",
    "$$\n",
    "</div>\n",
    "</details>"
   ]
  },
  {
   "cell_type": "code",
   "execution_count": 3,
   "id": "7df2f459",
   "metadata": {},
   "outputs": [
    {
     "data": {
      "image/png": "[encoded data removed]",
      "text/plain": [
       "<Figure size 640x480 with 1 Axes>"
      ]
     },
     "metadata": {},
     "output_type": "display_data"
    }
   ],
   "source": [
    "ts = np.linspace(0, 5, num=100)\n",
    "plt.plot(ts, 100 * 0.5 ** ts + 100 * 0.5 **(ts-1) * np.where(ts-1 <= 0, 0, 1))\n",
    "plt.show()"
   ]
  },
  {
   "cell_type": "markdown",
   "id": "b64544b4",
   "metadata": {},
   "source": [
    "Indeed, our equation does describe how the medicine changes over time, even accounting for the injection.\n",
    "Note that this would be rather difficult to derive without the Laplace transform as we would be dealing with the discontinuity due to the injection.\n"
   ]
  }
 ],
 "metadata": {
  "jupytext": {
   "formats": "ipynb,md"
  },
  "kernelspec": {
   "display_name": "Python 3 (ipykernel)",
   "language": "python",
   "name": "python3"
  },
  "language_info": {
   "codemirror_mode": {
    "name": "ipython",
    "version": 3
   },
   "file_extension": ".py",
   "mimetype": "text/x-python",
   "name": "python",
   "nbconvert_exporter": "python",
   "pygments_lexer": "ipython3",
   "version": "3.10.10"
  }
 },
 "nbformat": 4,
 "nbformat_minor": 5
}
