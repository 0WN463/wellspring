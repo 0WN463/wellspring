{
 "cells": [
  {
   "cell_type": "markdown",
   "id": "logical-agency",
   "metadata": {
    "deletable": false,
    "run_control": {
     "frozen": true
    },
    "tags": []
   },
   "source": [
    "$$\n",
    "\\newcommand{theorem}{\\textbf{Theorem: }}\n",
    "\\newcommand{proof}{\\textbf{Proof: }}\n",
    "\\newcommand{example}{\\textbf{Example: }}\n",
    "\\newcommand{lemma}{\\textbf{Lemma: }}\n",
    "\\newcommand{corollary}{\\textbf{Corollary: }}\n",
    "\\newcommand{prop}{\\textbf{Proposition: }}\n",
    "$$"
   ]
  },
  {
   "cell_type": "markdown",
   "id": "5c379fd1-aa47-4c19-874c-24432160d1b3",
   "metadata": {},
   "source": [
    "$$\n",
    "\\newcommand{v}{\\mathbf}\n",
    "\\newcommand{inv}{^{-1}}\n",
    "\\newcommand\\mat[1]{\\begin{pmatrix}#1\\end{pmatrix}} \n",
    "\\newcommand\\det[1]{\\left| #1\\right|} \n",
    "\\newcommand\\norm[1]{\\lVert #1\\rVert} \n",
    "\\newcommand\\set[1]{\\left\\{#1\\right\\}} \n",
    "\\newcommand\\dels[2]{\\frac{\\partial #1}{\\partial #2}} \n",
    "$$"
   ]
  },
  {
   "cell_type": "code",
   "execution_count": 1,
   "id": "b36c2cd5-beff-44b9-b636-1545fff9f5e6",
   "metadata": {},
   "outputs": [],
   "source": [
    "import numpy as np\n",
    "import matplotlib.pyplot as plt"
   ]
  },
  {
   "cell_type": "markdown",
   "id": "bf1857a1",
   "metadata": {},
   "source": [
    "# Introduction"
   ]
  },
  {
   "cell_type": "markdown",
   "id": "a1b81c4e",
   "metadata": {},
   "source": [
    "A **differential equation** (DE) is an equation that contains some derivatives of a differentiable function."
   ]
  },
  {
   "cell_type": "markdown",
   "id": "edbc4abc",
   "metadata": {},
   "source": [
    "There are some characteristics of DE."
   ]
  },
  {
   "cell_type": "markdown",
   "id": "9ed57661",
   "metadata": {},
   "source": [
    "## Properties of DE"
   ]
  },
  {
   "cell_type": "markdown",
   "id": "b402fc46",
   "metadata": {},
   "source": [
    "### Ordinary\n",
    "\n",
    "An **ordinary** DE equation has only 1 independent variable.\n",
    "All terms in the DE are functions of this variable.\n",
    "\n",
    "This contrasts with **partial** DE which can have multiple independent variables.\n",
    "\n",
    "_This module will only focus on ordinary DE's._"
   ]
  },
  {
   "cell_type": "markdown",
   "id": "7b6fb6b4",
   "metadata": {},
   "source": [
    "### Order\n",
    "\n",
    "The order refers to the highest order derivative of the DE."
   ]
  },
  {
   "cell_type": "markdown",
   "id": "f0057628",
   "metadata": {},
   "source": [
    "### Linear"
   ]
  },
  {
   "cell_type": "markdown",
   "id": "39c80a68",
   "metadata": {},
   "source": [
    "A DE is linear if it has the form of:\n",
    "\n",
    "$$\n",
    "F = a_n y^n (x) a_{n-1} y^{n-1} (x) + \\cdots + a_1 y^1 (x) + a_0 y(x)\n",
    "$$\n",
    "\n",
    "where $F, a_n$ and $y(x)$ are functions of $x$; $y^{n}(x)$ is the $n$-th derivative of $y$ with respect to $x$.\n",
    "\n",
    "Less formally, they have the form\n",
    "$$\n",
    "F = a_0 y + a_1 y' + a_2 y'' + a_3 y''' + \\cdots\n",
    "$$\n",
    "\n",
    "A general solution of a $n$-th order DE will have $n$ arbitrary constants."
   ]
  },
  {
   "cell_type": "markdown",
   "id": "1e96a187",
   "metadata": {},
   "source": [
    "### Separable\n",
    "\n",
    "A **first order** DE is separable if it can be written as:\n",
    "\n",
    "$$\n",
    "M(x) - N(y) y' = 0\n",
    "$$\n",
    "\n",
    "We can solve this DE by rearranging and integrating both sides, as per below:\n",
    "$$\n",
    "\\begin{align*}\n",
    "& M(x) - N(y) y' = 0 \\\\\n",
    "\\Rightarrow  & M(x) - N(y) \\frac{dy}{dx} = 0 \\\\\n",
    "\\Rightarrow  & M(x) = N(y) \\frac{dy}{dx} \\\\\n",
    "\\Rightarrow  & \\int M(x) dx = \\int N(y) \\frac{dy}{dx} dx + C\\\\\n",
    "\\Rightarrow  & \\int M(x) dx = \\int N(y) dy + C\\\\\n",
    "\\end{align*}\n",
    "$$"
   ]
  },
  {
   "cell_type": "markdown",
   "id": "3c96518b",
   "metadata": {},
   "source": [
    "#### Reduction to separable form\n",
    "\n",
    "Certain first order DE are not separable, but can be made so by a change of variable.\n",
    "\n",
    "For equations of the form:\n",
    "$$\n",
    "y' = g\\left(\\frac{y}{x}\\right)\n",
    "$$\n",
    "\n",
    "_ie_ $g$ is a function  of $\\frac{y}{x}$.\n",
    "\n",
    "We can set $u = \\frac{y}{x}$, then $y = ux, y' = u + xu'$.\n",
    "\n",
    "Substituting back, we get:\n",
    "$$\n",
    "y' = g(u) = u + xu'\n",
    "$$\n",
    "\n",
    "which is separable:\n",
    "$$\n",
    "\\begin{gather*}\n",
    "g(u) = u + xu' \\\\\n",
    "g(u) - u = xu' \\\\\n",
    "\\frac{g(u) - u}{x} = u' \\\\\n",
    "\\frac{1}{x} = \\frac{u'}{g(u) - u} \\\\\n",
    "\\end{gather*}\n",
    "$$\n",
    "\n",
    "Thus, we can solve for $u$ and obtain $y$."
   ]
  },
  {
   "cell_type": "markdown",
   "id": "c070323b",
   "metadata": {},
   "source": [
    "#### Linear change of variable\n",
    "\n",
    "A DE of the form $y' = f(ax + by +c)$ can be solved by setting $u = ax + by + c$."
   ]
  },
  {
   "cell_type": "markdown",
   "id": "5e01333c",
   "metadata": {},
   "source": [
    "## Linear first order ODE\n",
    "\n",
    "Combining our definitions, a linear first order DE has the form of\n",
    "$$\n",
    "y' + P(x)y = Q(x)\n",
    "$$\n",
    "\n",
    "To solve it, we define a new function $R(x) = e^{\\int ^x P(s) ds}$.\n",
    "\n",
    "Since $R' = RP$, we get $(Ry)' = RPy + Ry'$.\n",
    "\n",
    "From our equation definition, we get\n",
    "$$\n",
    "\\begin{gather*}\n",
    "y' + P(x)y = Q(x) \\\\\n",
    "Q = y' + Py\\\\\n",
    "RQ = Ry' + RPy = (Ry)'\n",
    "\\end{gather*}\n",
    "$$\n",
    "\n",
    "$R$ is known as the **integrating factor** for the equation."
   ]
  },
  {
   "cell_type": "markdown",
   "id": "d88d42a4",
   "metadata": {},
   "source": [
    "$\\example$\n",
    "\n",
    "Suppose we wish to solve:\n",
    "$$\n",
    "y' + \\frac{2}{x}y = x^2\n",
    "$$\n",
    "\n",
    "$$\n",
    "\\begin{align*}\n",
    "P = \\frac{2}{x} &\\quad Q = x^2\\\\\n",
    "R &= e^{2 \\ln x} = x^2 \\\\\n",
    "RQ &= (Ry)' \\\\\n",
    "\\Rightarrow  x^2 x^2 &= (x^2 y)' \\\\\n",
    "\\Rightarrow  x^4 &= (x^2 y)' \\\\\n",
    "\\Rightarrow  \\frac{x^5}{5} &= x^2 y + C \\\\\n",
    "\\Rightarrow  y &= \\frac{x^3}{5} - \\frac{C}{x^2}\n",
    "\\end{align*}\n",
    "$$\n",
    "\n",
    "We can verify this as:\n",
    "$$\n",
    "\\begin{align*}\n",
    "y' &= \\frac{3x^2}{5} + \\frac{2C}{x^3} \\\\\n",
    "\\Rightarrow y' + \\frac{2}{x} y &= \\frac{3x^2}{5} + \\frac{2C}{x^3} + \\frac{2}{x} \\left( \\frac{x^3}{5} - \\frac{C}{x^2} \\right) \\\\\n",
    "&= \\frac{3x^2}{5} + \\frac{2C}{x^3} + \\frac{2x^2}{5} - \\frac{2C}{x^3} \\\\\n",
    "&= \\frac{3x^2}{5} + \\frac{2x^2}{5}  \\\\\n",
    "&= x^2\n",
    "\\end{align*}\n",
    "$$"
   ]
  },
  {
   "cell_type": "markdown",
   "id": "d8675ed7",
   "metadata": {},
   "source": [
    "## Bernoulli equations\n",
    "\n",
    "Bernoulli equations are of the form:\n",
    "$$\n",
    "y' + p(x)y = q(x)y^n\n",
    "$$\n",
    "\n",
    "Note that $n = 0$ or $1$ if and only if it is linear.\n",
    "\n",
    "We substitute using $z = y^{1-n}$.\n",
    "\n",
    "Then $z' = (1-n) y^{-n} y'$.\n",
    "\n",
    "$$\n",
    "\\begin{align*}\n",
    "y' + p(x)y &= q(x)y^n \\\\\n",
    "\\Rightarrow  \n",
    "(1-n) y' + (1-n)y p(x) &= (1-n)y^n q(x) \\\\\n",
    "(1-n) y^{-n} y' + (1-n)y^{1-n} p(x) &= (1-n) q(x) \\\\\n",
    "z' + (1-n) z p(x) &= (1-n) q(x) \\\\\n",
    "\\end{align*}\n",
    "$$\n",
    "\n",
    "This is a first order, linear DE which we can solve using the previous method."
   ]
  },
  {
   "cell_type": "markdown",
   "id": "8a8b6673",
   "metadata": {},
   "source": [
    "$\\example$\n",
    "\n",
    "Solve \n",
    "$y' - \\frac{2y}{x} = -x^2 y^2$\n",
    "\n",
    "$$\n",
    "\\begin{align*}\n",
    "p(x) = -\\frac{2}{x}, &\\quad q(x) = -x^2 \\\\\n",
    "n = 2, & \\quad z = y^{1-n} = y^{-1} \\\\\n",
    "z' + (1-n) z p(x) &= (1-n) q(x) \\\\\n",
    "z' + \\frac{2z}{x} &= x^2 \\\\\n",
    "\\end{align*}\n",
    "$$\n",
    "\n",
    "From our previous example, we solve it as:\n",
    "$$\n",
    "z = \\frac{x^3}{5} - \\frac{C}{x^2}\n",
    "$$\n",
    "\n",
    "Hence,\n",
    "$$\n",
    "\\begin{align*}\n",
    "y^{-1} = z = \\frac{x^3}{5} - \\frac{C}{x^2} \\\\\n",
    "y = \\frac{1}{\\frac{x^3}{5} - \\frac{C}{x^2} } = \\frac{5x^2}{x^5 - 5C}\n",
    "\\end{align*}\n",
    "$$"
   ]
  },
  {
   "cell_type": "markdown",
   "id": "e184f4b3",
   "metadata": {},
   "source": [
    "## Second order linear DE\n",
    "\n",
    "**Second order linear DE** are of the form:\n",
    "$$\n",
    "y'' + p(x) y' + q(x) y = F(x)\n",
    "$$\n",
    "\n",
    "The DE is **homogeneous** if $F(x) = 0$, otherwise it is non-homogeneous."
   ]
  },
  {
   "cell_type": "markdown",
   "id": "ae335dd5",
   "metadata": {},
   "source": [
    "When talking about solutions to the DE, we need to specify the interval $I$ where the solution is valid for all $x$ in $I$.\n",
    "\n",
    "### Homogeneous DE\n",
    "\n",
    "$\\theorem$:\n",
    "For any homogeneous DE, with two solutions on the open interval $I$,\n",
    "any linear combinations of the two solutions is also a solution.\n",
    "\n",
    "This is because the differential are linear in nature, leading to the [linearity of the solution set](../linear_algebra/euclidean_space.ipynb#solution-set-subspace)."
   ]
  },
  {
   "cell_type": "markdown",
   "id": "8ee0590d",
   "metadata": {},
   "source": [
    "Note: This does not apply for non-homogeneous or non-linear DE's.\n",
    "\n",
    "For example, given the non-homogeneous $y'' - y = 1$, $e^x - 1$ is a solution, but $2(e^x - 1)$ is not a solution.\n",
    "\n",
    "Given the non-linear $yy'' - xy' = 0$, $y=x^2$ is a solution, but $y = 2x^2$ is not a solution.\n",
    "\n",
    "---\n",
    "\n",
    "A **general solution** of the DE is $y = c_1 y_1 + c_2 y_2$,\n",
    "where $y_1, y_2$ are **independent functions** of $x$ defined on $I$,\n",
    "and $c_1, c_2$ are arbitrary constants.\n",
    "\n",
    "The functions are independent if they are not constant multiples of each other.\n",
    "\n",
    "_See also: [similar definition in linear algebra](../linear_algebra/euclidean_space.ipynb#Linear-independence)_"
   ]
  },
  {
   "cell_type": "markdown",
   "id": "530029a0",
   "metadata": {},
   "source": [
    "A **particular solution** assigns some value to $c_1, c_2$."
   ]
  },
  {
   "cell_type": "markdown",
   "id": "7f4000f7",
   "metadata": {},
   "source": [
    "#### Constant coefficients\n",
    "\n",
    "_See also: [Linear algebra approach to solving](../linear_algebra/linear_differential_equations.ipynb#Finding-solutions)_"
   ]
  },
  {
   "cell_type": "markdown",
   "id": "d4ff655c",
   "metadata": {},
   "source": [
    "Suppose that $p(x) = a$ and $q(x) = b$ for some constants $a,b$, \n",
    "_ie_, the equation has the form\n",
    "$$\n",
    "y'' + ay' + by = 0\n",
    "$$\n",
    "\n",
    "Notice that we need the $y''$, $y'$ and $y$ terms to cancel each other out.\n",
    "This rules out polynomials as the degree of each subsequent term would be decreasing, preventing us from cancelling them.\n",
    "\n",
    "This inspires us to use $e^{\\lambda x}$, since each subsequent term can cancel each other out.\n",
    "\n",
    "Substituting, we get:\n",
    "$$\n",
    "(\\lambda ^2 + a \\lambda + b) e^{\\lambda x} = 0\n",
    "$$\n",
    "\n",
    "Since $e^{\\lambda x} > 0$, we can only have a solution when $\\lambda ^2 + a\\lambda  + b = 0$.\n",
    "\n",
    "This is the **characteristic equation**.\n",
    "\n",
    "The roots of the equation are:\n",
    "$$\n",
    "\\lambda_1 = \\frac{-a + \\sqrt{a^2 -4b}}{2} \\quad\n",
    "\\lambda_2 = \\frac{-a - \\sqrt{a^2 -4b}}{2}\n",
    "$$\n",
    "\n",
    "The roots determines the final form of our solution:"
   ]
  },
  {
   "cell_type": "markdown",
   "id": "cc9088dd",
   "metadata": {},
   "source": [
    "##### Distinct roots\n",
    "\n",
    "If $a^2 -4b > 0$, then there are two distinct real roots.\n",
    "Then our solution has the form \n",
    "$$\n",
    "y = c_1 e^{\\lambda _1 x} + c_2 e^{\\lambda_2 x}\n",
    "$$"
   ]
  },
  {
   "cell_type": "markdown",
   "id": "64882149",
   "metadata": {},
   "source": [
    "##### Repeated roots\n",
    "\n",
    "If $a^2 - 4b = 0$, then $\\lambda _1 = \\lambda 2 = - \\frac{a}{2}$.\n",
    "\n",
    "We know that one of the solution is $y_1 = e^{-\\frac{a}{2}x}$, but we need one more.\n",
    "\n",
    "We can try $y_2 = xe^{-\\frac{a}{2} x}$, and we will notice that this indeed works.\n",
    "\n",
    "Hence, our solution is of the form:\n",
    "$$\n",
    "y = (c_1 + c_2x) e^{-\\frac{a}{2} x} \n",
    "$$"
   ]
  },
  {
   "cell_type": "markdown",
   "id": "66af4607",
   "metadata": {},
   "source": [
    "##### Complex roots\n",
    "\n",
    "If $a^2 - 4b < 0$, then we have complex roots.\n",
    "\n",
    "The solution is the same as in the [distinct roots](#Distinct-roots) case, but we can simplify:\n",
    "\n",
    "$$\n",
    "\\begin{align*}\n",
    "y &= c_1 e^{\\lambda _1 x} + c_2 e^{\\lambda_2 x} \\\\\n",
    "&= c_1 e^{\\frac{-a + \\sqrt{a^2 - 4b}}{2} x} + c_2 e^{\\frac{-a - \\sqrt{a^2 - 4b}}{2} x} \\\\\n",
    "&= e^{\\frac{-a}{2} x} \\left(c_1 e^{\\frac{\\sqrt{a^2 -4b}}{2}x} + c_2 e^{-\\frac{\\sqrt{a^2 -4b}}{2}x} \\right) \\\\\n",
    "&= e^{\\frac{-a}{2} x} \\left(c_1 e^{\\frac{\\sqrt{4b - a^2}}{2} ix} + c_2 e^{-\\frac{\\sqrt{4b - a^2}}{2} ix} \\right) \\\\\n",
    "&= e^{\\frac{-a}{2} x} \\left(c_1 e^{\\omega ix} + c_2 e^{-\\omega ix} \\right) \\quad \\omega = \\frac{\\sqrt{4b - a^2}}{2} = \\sqrt{b -\\frac{a^2}{4}}\\\\\n",
    "&= e^{\\frac{-a}{2} x} \\left(c_1 \\left(\\cos \\omega x + i \\sin \\omega x \\right) + c_2 \\left(\\cos (-\\omega x) + i \\sin (-\\omega x)  \\right)  \\right) \\\\\n",
    "&= e^{\\frac{-a}{2} x} \\left((c_1 + c_2) \\cos \\omega x + (c_1 - c_2) i \\sin \\omega x \\right)\\\\\n",
    "&= e^{\\frac{-a}{2} x} \\left(C_1 \\cos \\omega x + C_2 \\sin \\omega x \\right) \\quad C_1 = c_1 + c_2, C_2 = (c_1 - c_2) i\\\\\n",
    "\\end{align*}\n",
    "$$\n",
    "\n",
    "### Non-homogeneous DE\n",
    "\n",
    "$\\theorem$:\n",
    "A general solution of the non-homogeneous DE has the form:\n",
    "$$\n",
    "y(x) = y_h(x) = y_p(x)\n",
    "$$\n",
    "\n",
    "where $y_h(x) = c_1y_1(x) + c_2 y_2(x)$ is a general solution to the homogeneous DE,\n",
    "and  $y_p(x)$ is _any_ solution to the non-homogeneous DE."
   ]
  },
  {
   "cell_type": "markdown",
   "id": "0c5b4f3a",
   "metadata": {},
   "source": [
    "There are 2 ways to find $y_p(x)$:\n",
    "1. Solving algebraically\n",
    "2. Variation of parameters\n",
    "\n",
    "#### Solving algebraically\n",
    "\n",
    "Recall: \n",
    "\n",
    "$$\n",
    "y'' + p(x) y' + q(x) y = F(x)\n",
    "$$\n",
    "\n",
    "We can solve algebraically, depending on the form of $F(x)$."
   ]
  },
  {
   "cell_type": "markdown",
   "id": "20bb35a0",
   "metadata": {},
   "source": [
    "##### Polynomial"
   ]
  },
  {
   "cell_type": "markdown",
   "id": "9d2a3fbf",
   "metadata": {},
   "source": [
    "We set $y$ as a polynomial with the same order as $F(x)$, with unknown coefficients.\n",
    "We differentiate and compare the terms to get the value of the coefficients.\n"
   ]
  },
  {
   "cell_type": "markdown",
   "id": "ec46acd7",
   "metadata": {},
   "source": [
    "$\\example$\n",
    "\n",
    "To solve $y'' - 4y' + y = x^2 +1$, we set $y = Ax^2 + Bx + C$.\n",
    "\n",
    "Then, \n",
    "$$\n",
    "\\begin{gather*}\n",
    "2A - 4(2Ax + B) + Ax^2 + Bx + C = x^2 + 1 \\\\\n",
    "Ax^2 + (B - 8A)x + 2A - 4B + C = x^2 + 1\\\\\n",
    "\\Rightarrow A = 1 \\\\\n",
    "B - 8A = 0 \\Rightarrow B = 8 \\\\\n",
    "2A - 4B + C = 1 \\Rightarrow C = 31 \\\\\n",
    "y_p(x) = x^2 + 8x + 31\n",
    "\\end{gather*}\n",
    "$$\n"
   ]
  },
  {
   "cell_type": "markdown",
   "id": "bd5d6532",
   "metadata": {},
   "source": [
    "##### Exponential"
   ]
  },
  {
   "cell_type": "markdown",
   "id": "7432a039",
   "metadata": {},
   "source": [
    "Set $y = u e^{kx}$ for some function $u$.\n",
    "\n",
    "Then the substitution will reduce it into a [polynomial case](#Polynomial)."
   ]
  },
  {
   "cell_type": "markdown",
   "id": "2cf6113a",
   "metadata": {},
   "source": [
    "##### Trigonometric\n",
    "\n",
    "Suppose that our equation is of the form of, $y'' + ay' + by = F(x)$ where $F(x) = s(x) \\sin (Ax)$ or $s(x) \\cos (Ax)$.\n",
    "\n",
    "We will, instead, solve for using $F(x) = s(x) e^{Aix}$.\n",
    "\n",
    "Since $e^{Aix} = \\cos Ax + i \\sin Ax$, we can solve this equation first,\n",
    "then equate the real and imaginary part to get the solution to our original equation.\n",
    "\n",
    "$\\example$\n",
    "\n",
    "To solve $y'' + 4y' = 16x \\sin 2x$, we solve this instead: $y'' - 4y' = 16x e^{i 2x}$.\n",
    "\n",
    "\\begin{align*}\n",
    "&z = ue^{i2x} \\\\\n",
    "&z' = u'e^{i2x} + 2i u e^{i2x} \\\\\n",
    "&z'' = u''e^{i2x} + 2i u' e^{2ix} + 2i u' e^{i2x} - 4 u e^{i2x} \\\\\n",
    "&u''e^{i2x} + 2i u' e^{2ix} + 2i u' e^{i2x}   = 16xe^{i2x}\\\\\n",
    "&u'' + 4i u' = 16x \\\\\n",
    "\\end{align*}\n",
    "\n",
    "Now we solve this resultant equation by treating it as the polynomial case:\n",
    "\\begin{align*}\n",
    "&u = Ax^2 + Bx + C\\\\\n",
    "&u' = 2Ax + B\\\\\n",
    "&u'' = 2A\\\\\n",
    "&2A + 8Ai x + 4i B = 16 x\\\\\n",
    "&2A + 4i B = 0\\\\\n",
    "&8Ai = 16\\\\\n",
    "&A = -2i\\\\\n",
    "&B = 1\\\\\n",
    "&u = -2ix^2 + x\n",
    "\\end{align*}\n",
    "\n",
    "Substituting back to $z$, we get:\n",
    "$$\n",
    "z = (-2ix^2 + x) e^{2ix}\n",
    "$$\n",
    "\n",
    "Since we want the $\\sin$, we find the imaginary component and get:\n",
    "$$\n",
    "y = Im (z) = x \\sin 2x - 2x^2 \\cos x\n",
    "$$"
   ]
  },
  {
   "cell_type": "markdown",
   "id": "ae158f8c",
   "metadata": {},
   "source": [
    "#### Variation of parameters\n",
    "\n",
    "$\\theorem$:\n",
    "Given the homogeneous solutions, $y_1, y_2$,\n",
    "a particular solution is\n",
    "$$\n",
    "y_p(x) = u y_1 + v y_2\n",
    "$$\n",
    "\n",
    "where:\n",
    "$$\n",
    "u = - \\int \\frac{y_2 F(x)}{y_1 y_2 ' - y_1 ' y_2} dx \\quad\n",
    "v = \\int \\frac{y_1 F(x)}{y_1 y_2 ' - y_1 ' y_2} dx\n",
    "$$\n",
    "\n",
    "<details>\n",
    "<summary style=\\color: blue\\>$\\proof$ (Click to expand)</summary>\n",
    "<div style=\\background: aliceblue\\>\n",
    "<p>\n",
    "We consider the solution of\n",
    "$$\n",
    "y'' + p(x) y' + q(x) y = F(x)\n",
    "$$\n",
    "where $p(x), q(x)$ are continuous on some interval.\n",
    "</p>\n",
    "<p>\n",
    "We know that our homogeneous solution is of the form:\n",
    "\n",
    "$$\n",
    "y_h = c_1 y_1 + c_2 y_2\n",
    "$$\n",
    "\n",
    "We equate our homogeneous solution and particular solution together, and let the particular solution to be of form:\n",
    "\n",
    "$$\n",
    "y_p = u(x) y_1 + v(x) y_2\n",
    "$$ \n",
    "\n",
    "where $u,v$ are continuous functions defined on the interval.\n",
    "(This is possible since $p,q$ are continuous).\n",
    "Thus we are re-using the $y_1,y_2$ from the homogeneous solution.\n",
    "</p>\n",
    "<p>\n",
    "Differentiating, we get $y'_p = uy_1' + vy_2' + u'y_1 + v'y_2$\n",
    "</p>\n",
    "<p>\n",
    "We restrict $u'y_1 + v'y_2 = 0$ for convenience.\n",
    "Then, we get $y'_p = uy_1' + vy_2', \\quad y''_p = u'y_1' + uy''_1 + v'y_2' + vy_2''$\n",
    "</p>\n",
    "<p>\n",
    "Substituting back into our original equation, we get:\n",
    "$$\n",
    "(u'y_1' + uy''_1 + v'y_2' + vy_2'') + p(uy_1' + vy_2') + q(u y_1 + v y_2) \\\\\n",
    "= u(y_1'' + py_1' + qy_1) + v(y_2'' + py_2' + qy_2) + (u'y_1' + v'y_2') = F(x)\n",
    "$$\n",
    "</p>\n",
    "<p>\n",
    "Since $y_1, y_2$ are solutions to the homogeneous solution,\n",
    "we know that $y_1'' + py_1' + qy_1$ and $y_2'' + py_2' + qy_2$ are both $0$.\n",
    "Thus, it simplifies to $u' y_1' + v'y_2' = F(x)$.\n",
    "</p>\n",
    "</p>\n",
    "Together with our restriction that $u'y_1 + v'y_2 = 0$ and the fact that $y_1,y_2$ are independent, we can solve that:\n",
    "$$\n",
    "u' = - \\frac{y_2 F(x)}{y_1 y_2 ' - y_1 ' y_2} \\quad\n",
    "v' = \\frac{y_1 F(x)}{y_1 y_2 ' - y_1 ' y_2} \n",
    "$$\n",
    "</p>\n",
    "</p>\n",
    "And thus\n",
    "$$\n",
    "u = - \\int \\frac{y_2 F(x)}{y_1 y_2 ' - y_1 ' y_2} dx \\quad\n",
    "v = \\int \\frac{y_1 F(x)}{y_1 y_2 ' - y_1 ' y_2} dx\n",
    "$$\n",
    "<p>\n",
    "$QED$\n",
    "</div>\n",
    "</details>"
   ]
  },
  {
   "cell_type": "markdown",
   "id": "7ddcbf47",
   "metadata": {},
   "source": [
    "$\\example$\n",
    "\n",
    "We now solve this equation again:\n",
    "\n",
    "$$y'' - 4y' + y = x^2 +1$$\n",
    "\n",
    "We know that:\n",
    "\n",
    "$$\\lambda_1 = 2 + \\sqrt{3} \\quad \\lambda_2 = 2 - \\sqrt{3}$$\n",
    "\n",
    "$$\n",
    "y = c_1 e^{\\lambda _1x} + c_2 e^{\\lambda_2 x}\n",
    "$$\n",
    "\n",
    "$$\n",
    "\\begin{align*}\n",
    "u &= - \\int \\frac{y_2 F(x)}{y_1 y_2 ' - y_1 ' y_2}  dx\\\\\n",
    "&= - \\int \\frac{e^{\\lambda_2 x} (x^2 + 1)}{(\\lambda_1 - \\lambda 2) e^{(\\lambda_1 + \\lambda _2)x}} dx\\\\\n",
    "&= - \\int \\frac{(x^2 + 1)}{(\\lambda_1 - \\lambda 2) e^{\\lambda_1 x}} dx\\\\\n",
    "&= - \\frac{1}{(\\lambda_1 - \\lambda_2)} \\frac{(\\lambda_1^2(x^2 + 1) + 2\\lambda_1x +2)}{\\lambda_1^3}\\\\\n",
    "v &= \\frac{1}{(\\lambda_1 - \\lambda_2)} \\frac{(\\lambda_2^2(x^2 + 1) + 2\\lambda_2x +2)}{\\lambda_2^3}\n",
    "\\end{align*}\n",
    "$$\n",
    "\n",
    "After simplifying, we indeed get the same answer as with solving using variation of parameters (though the simplification may be tedious).\n"
   ]
  },
  {
   "cell_type": "code",
   "execution_count": 2,
   "id": "c8f2b250",
   "metadata": {},
   "outputs": [
    {
     "name": "stdout",
     "output_type": "stream",
     "text": [
      "x**2 + 8*x + 31\n"
     ]
    }
   ],
   "source": [
    "from sympy import Symbol, simplify, sqrt, exp\n",
    "\n",
    "l_1 = 2 + sqrt(3)\n",
    "l_2 = 2 - sqrt(3)\n",
    "\n",
    "x = Symbol('x')\n",
    "y1 = exp(l_1 * x)\n",
    "y2 = exp(l_2 * x)\n",
    "f = x**2 + 1\n",
    "\n",
    "u = - 1/(l_1 - l_2) * (l_1 **2 * f + 2 * l_1 * x + 2) / l_1 **3 / exp(l_1 * x)\n",
    "v = 1/(l_1 - l_2) * (l_2**2 * f + 2 * l_2 * x + 2) / l_2 **3 / exp(l_2 * x)\n",
    "print(simplify(u * y1 + v * y2))"
   ]
  }
 ],
 "metadata": {
  "jupytext": {
   "formats": "ipynb,md"
  },
  "kernelspec": {
   "display_name": "Python 3 (ipykernel)",
   "language": "python",
   "name": "python3"
  },
  "language_info": {
   "codemirror_mode": {
    "name": "ipython",
    "version": 3
   },
   "file_extension": ".py",
   "mimetype": "text/x-python",
   "name": "python",
   "nbconvert_exporter": "python",
   "pygments_lexer": "ipython3",
   "version": "3.11.3"
  }
 },
 "nbformat": 4,
 "nbformat_minor": 5
}
