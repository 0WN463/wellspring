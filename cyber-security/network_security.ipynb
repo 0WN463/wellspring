{
 "cells": [
  {
   "cell_type": "markdown",
   "id": "b08e278e",
   "metadata": {},
   "source": [
    "#  Network Security\n",
    "## Background\n",
    "Refer to [OSI Model](../computer-networks/osi_model.ipynb#osi_model)"
   ]
  },
  {
   "cell_type": "markdown",
   "id": "f3780d66",
   "metadata": {},
   "source": [
    "## Security Weakness\n",
    "The origin design of Internet did not take security into account.\n",
    "\n",
    "Thus, below are the possible types of attacks that can be performed (derived from the [CIA Triad](./introduction.ipynb#cia-triad)):\n",
    "* Interception: Unauthorized viewing\n",
    "* Modification: Unauthorized change\n",
    "* Fabrication: Unauthorized creation\n",
    "* Interruption: Preventing of authorized access\n",
    "\n",
    "At any layer of the OSI model, the attacker can modify **both the header and the data**."
   ]
  },
  {
   "cell_type": "markdown",
   "id": "8a35842f",
   "metadata": {},
   "source": [
    "## Name Resolution\n",
    "Each entity has a name, which is different for each layer of the OSI model.\n",
    "\n",
    "For instance: \n",
    "* at layer 7 (Application level), the entity is denoted by their url: \"www.google.com\"\n",
    "* at layer 3 (Network level), the entity is denoted by their ip address: 74.125.200.99\n",
    "* at layer 2 (Datalink level), the entity is denoted by their MAC address: 59:8c:c8:f3:8d:94\n",
    "\n",
    "Thus, as information travel down the layers, they need a way of translating higher level addresses into lower level ones, through a **resolution protocol**.\n",
    "\n",
    "During the design of resolution protocols, security was not accounted for, thus it is easy for attackers to influence the outcome of name resolutions.\n",
    "\n",
    "With the background knowledge about [ARP](../computer-networks/osi_model.ipynb#arp), we will discuss possible vulnerabilities.\n"
   ]
  },
  {
   "cell_type": "markdown",
   "id": "f51c18ee",
   "metadata": {},
   "source": [
    "### Authentication in DNS\n",
    "Each DNS query contains a 16-bit number known as the **Query ID (QID)**.\n",
    "The response from the server also contains the same QID.\n",
    "The requester only accepts the response if the QID matches.\n",
    "\n",
    "Note that QID was not designed primarily for authentication, but rather as a way to find the DNS response that the requester is interested in.\n",
    "\n",
    "Also, further note that there is no encryption or MAC involved in the protocol, thus **neither confidentiality nor integrity is guaranteed**."
   ]
  },
  {
   "cell_type": "markdown",
   "id": "2daf2b90",
   "metadata": {},
   "source": [
    "### DNS Spoofing\n",
    "The attacker can perform the following:\n",
    "1. Victim makes a DNS query for a certain domain to find the IP address\n",
    "2. Attacker see this query, and quickly replies with the IP address of his malicious server together with the corresponding QID\n",
    "3. The DNS server sees the victim's query, and sends the DNS response\n",
    "3. Because the attacker responded faster than the legitimate DNS server, the victim sees the malicious query first, and thus visits the malicious server instead of the genuine server"
   ]
  },
  {
   "cell_type": "markdown",
   "id": "931cebee",
   "metadata": {},
   "source": [
    "## Denial of Service (DoS)\n",
    "DoS targets the availability of a service.\n",
    "\n",
    "Types of DoS attacks:\n",
    "\n",
    "|   | Terminating service | Exhausting resources |\n",
    "|---| ---- | ---- |\n",
    "|.  |.    |.     |"
   ]
  }
 ],
 "metadata": {
  "kernelspec": {
   "display_name": "Python 3",
   "language": "python",
   "name": "python3"
  },
  "language_info": {
   "codemirror_mode": {
    "name": "ipython",
    "version": 3
   },
   "file_extension": ".py",
   "mimetype": "text/x-python",
   "name": "python",
   "nbconvert_exporter": "python",
   "pygments_lexer": "ipython3",
   "version": "3.9.5"
  }
 },
 "nbformat": 4,
 "nbformat_minor": 5
}
