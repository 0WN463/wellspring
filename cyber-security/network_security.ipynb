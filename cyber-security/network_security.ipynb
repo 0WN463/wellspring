{
 "cells": [
  {
   "cell_type": "markdown",
   "id": "b08e278e",
   "metadata": {},
   "source": [
    "#  Network Security\n",
    "## Background\n",
    "Refer to [OSI Model](../computer-networks/osi_model.ipynb#osi_model)"
   ]
  },
  {
   "cell_type": "markdown",
   "id": "f3780d66",
   "metadata": {},
   "source": [
    "## Security Weakness\n",
    "The origin design of Internet did not take security into account.\n",
    "\n",
    "Thus, below are the possible types of attacks that can be performed (derived from the [CIA Triad](./introduction.ipynb#cia-triad)):\n",
    "* Interception: Unauthorized viewing\n",
    "* Modification: Unauthorized change\n",
    "* Fabrication: Unauthorized creation\n",
    "* Interruption: Preventing of authorized access\n",
    "\n",
    "At any layer of the OSI model, the attacker can modify **both the header and the data**."
   ]
  },
  {
   "cell_type": "markdown",
   "id": "8a35842f",
   "metadata": {},
   "source": [
    "## Name Resolution\n",
    "Each entity has a name, which is different for each layer of the OSI model.\n",
    "\n",
    "For instance: \n",
    "* at layer 7 (Application level), the entity is denoted by their url: \"www.google.com\"\n",
    "* at layer 3 (Network level), the entity is denoted by their ip address: 74.125.200.99\n",
    "* at layer 2 (Datalink level), the entity is denoted by their MAC address: 59:8c:c8:f3:8d:94\n",
    "\n",
    "Thus, as information travel down the layers, they need a way of translating higher level addresses into lower level ones, through a **resolution protocol**.\n",
    "\n",
    "During the design of resolution protocols, security was not accounted for, thus it is easy for attackers to influence the outcome of name resolutions.\n",
    "\n",
    "With the background knowledge about [ARP](../computer-networks/osi_model.ipynb#arp), we will discuss possible vulnerabilities.\n"
   ]
  },
  {
   "cell_type": "markdown",
   "id": "f51c18ee",
   "metadata": {},
   "source": [
    "### Authentication in DNS\n",
    "Each DNS query contains a 16-bit number known as the **Query ID (QID)**.\n",
    "The response from the server also contains the same QID.\n",
    "The requester only accepts the response if the QID matches.\n",
    "\n",
    "Note that QID was not designed primarily for authentication, but rather as a way to find the DNS response that the requester is interested in.\n",
    "\n",
    "Also, further note that there is no encryption or MAC involved in the protocol, thus **neither confidentiality nor integrity is guaranteed**."
   ]
  },
  {
   "cell_type": "markdown",
   "id": "2daf2b90",
   "metadata": {},
   "source": [
    "### DNS Spoofing\n",
    "The attacker can perform the following:\n",
    "1. Victim makes a DNS query for a certain domain to find the IP address\n",
    "2. Attacker see this query, and quickly replies with the IP address of his malicious server together with the corresponding QID\n",
    "3. The DNS server sees the victim's query, and sends the DNS response\n",
    "3. Because the attacker responded faster than the legitimate DNS server, the victim sees the malicious query first, and thus visits the malicious server instead of the genuine server"
   ]
  },
  {
   "cell_type": "markdown",
   "id": "931cebee",
   "metadata": {},
   "source": [
    "## Denial of Service (DoS)\n",
    "DoS targets the availability of a service.\n",
    "\n",
    "Types of DoS attacks:\n",
    "\n",
    "|   | Terminating service | Exhausting resources |\n",
    "| :---| :---- | :---- |\n",
    "| Local Attacks  | Killing Processes | Spawning Processes |\n",
    "|   | Crashing Processes | Occupying disk space |\n",
    "|   | Reconfiguring System | |\n",
    "| Remote Attacks  | Sending malformed packets | Packet flooding |"
   ]
  },
  {
   "cell_type": "markdown",
   "id": "bf9a4dbb",
   "metadata": {},
   "source": [
    "### Packet Flooding\n",
    "The act of flooding the victim with requests or data.\n",
    "Typically performed by amplifying small traffic into large traffic.\n",
    "\n",
    "#### ICMP/Smurf floot attack\n",
    "ICMP is a protocol typically used for network diagnosis.\n",
    "The requester will send a **echo request** across the network, where each node in the network will reply to the request.\n",
    "By viewing these **echo replies**, the requester can track which nodes are visitable to them.\n",
    "\n",
    "However, this can be misused by attacker, as follows:\n",
    "\n",
    "1. Attacker sends **ICMP PING** request to the router, telling the router to broadcast this request to all nodes.\n",
    "The attacker forge the source IP using the victim's IP\n",
    "2. The router will broadcast this echo request\n",
    "3. Each node on the network that receives the request will send its echo reply to the source (which is spoofed to be the victim)\n",
    "\n",
    "Thus, the attacker achieves an amplifying effect, where a single requests becomes amplified into a large quantity of requests to the victim.\n",
    "\n",
    "However, do note that this attack is **usually not effective nowadays**, since most routers are configured not to broadcast these requests."
   ]
  },
  {
   "cell_type": "markdown",
   "id": "174c5ab1",
   "metadata": {},
   "source": [
    "### Distributed Denial of Service (DDoS)\n",
    "A straight forward way to take down a server is to flood it with requests.\n",
    "However, it still requires a substantial number of attacker to take down a server through sheer numbers.\n",
    "\n",
    "To gather this quantity of attacking entities, the attack can use viruses and trojan horses to infect a large number of devices.\n",
    "These compromised machines are deemed as **bots/zombies**.\n",
    "This collection of bot that the attacker has control over is called a **botnet/zombie army**.\n",
    "This large quantity of machine serves as the resources need for the attacker to employ a DDoS attack."
   ]
  },
  {
   "cell_type": "markdown",
   "id": "7b7e5cbc",
   "metadata": {},
   "source": [
    "## Attacking DNS servers\n",
    "Note that attackers do not need to attack the target's server directly to prevent access.\n",
    "They can target the DNS servers instead, so that people who wishes to visit the domain is unable to resolve to the correct addresses.\n",
    "Thus, the DoS methods discussed can also be applied against the DNS servers instead."
   ]
  },
  {
   "cell_type": "markdown",
   "id": "9fb7279e",
   "metadata": {},
   "source": [
    "# Protection\n",
    "There are many security protocols that aims to achieve confidentiality and authenticity, however many of them work on different layers of the Internet.\n",
    "\n",
    "As a general guideline, **if a security protocol protects layer $k$, it will protect information from layer $k$ and above from attackers who are at layer $k-1$ and below.**\n",
    "\n",
    "For example, if a security mechanism protects layer 3, information from layer 4 and above are safe from attackers who are at layer 1 or 2.\n",
    "\n",
    "However, note that it does not protect the layer 4 information from attackers at layer 4 and above, neither does it protect layer 1 or 2 information from any attackers."
   ]
  },
  {
   "cell_type": "markdown",
   "id": "3415f990",
   "metadata": {},
   "source": [
    "One way to visualize this is to imagine an elevator which is meant to hold items.\n",
    "The elevator starts at the top level and goes down until it reaches the ground floor, before coming up again.\n",
    "At each level, some items will be placed into the elevator.\n",
    "\n",
    "Right when the elevator descends to the level that the security mechanism acts on, it will wrap up all the items into a bag.\n",
    "Note that no one can view the content inside the bag, however new content can be added into the elevator outside of the bag as the elevator descends further down.\n",
    "And when the elevator is ascending, the bag will be open once the elevator returns to the floor the security mechanism is at.\n",
    "\n",
    "Thus, the problem of which layer's information is protected depends on whether someone at a certain level can see that object (data) in the elevator."
   ]
  },
  {
   "cell_type": "markdown",
   "id": "9084f63f",
   "metadata": {},
   "source": [
    "## SSL/TLS\n",
    "SSL/TLS works **right above** the transport layer (layer 4).\n",
    "\n",
    "They achieves both confidentiality and authenticity."
   ]
  },
  {
   "cell_type": "markdown",
   "id": "75500797",
   "metadata": {},
   "source": [
    "## WPA\n",
    "A protocol employed in home access WiFi.\n",
    "Supercedes WEP, which is broken.\n",
    "\n",
    "Provides protect at layer 1 and 2.\n",
    "However, note that not all information at layer 2 is protected."
   ]
  },
  {
   "cell_type": "markdown",
   "id": "259fcc23",
   "metadata": {},
   "source": [
    "## IPsec\n",
    "Provides authenticity/integrity of IP addresses, but does not provide confidentiality.\n",
    "\n",
    "This means that attackers cannot spoof IP addresses, but can monitor the source and destination of network traffic.\n",
    "\n",
    "Protects layer 3."
   ]
  },
  {
   "cell_type": "markdown",
   "id": "d9be5b1b",
   "metadata": {},
   "source": [
    "## Firewall\n",
    "Having the above mechanism are insufficient to protect the network because certain services cannot be protected by them.\n",
    "For example, DNS queries cannot be protected by SSL/TLS due to efficiency concerns.\n",
    "\n",
    "Thus, firewalls acts as a control for the flow of traffic between networks (between untrusted public networks: Internet and trusted internal network)."
   ]
  },
  {
   "cell_type": "markdown",
   "id": "c8279e01",
   "metadata": {},
   "source": [
    "Firewalls sits at the border between networks and monitor the traffic.\n",
    "They control what traffic are allowed to enter/leave the network.\n",
    "\n",
    "### Demilitarized Zone (DMZ)\n",
    "A DMZ is a small sub-network that exposes an organization's external services to the Internet.\n",
    "This would be services such as web servers, email servers or file transfer servers.\n",
    "\n",
    "### Firewall rules\n",
    "Firewall determines which traffic is allowed/disallowed via a set of rules, usually in the form of a table.\n",
    "Each packet is compared against the rules in the table, from the top of the table downwards.\n",
    "The first rule which matches the packet in question will be applied.\n",
    "Thus, the most specific rule should be higher on the table, while the more general ones are lower.\n",
    "\n",
    "For example, the following rule:\n",
    "\n",
    "| Protocol | Source address | Destination address | Source port | Destination port | Action |\n",
    "| :---: | :---: |:---: |:---: |:---: |:---: |\n",
    "| HTTP | 192.168.1.1 | 170.32.43.* | * | 80 | Allow |\n",
    "\n",
    "Note that \"\\*\" is a wildcard that matches any values.\n",
    "\n",
    "This rule allows HTTP request from `192.168.1.1` (any port) to any address of the form `170.32.43.*` at port 80.\n",
    "\n",
    "By adding the below rule to the bottom of the table:\n",
    "\n",
    "| Protocol | Source address | Destination address | Source port | Destination port | Action |\n",
    "| :---: | :---: |:---: |:---: |:---: |:---: |\n",
    "| * | * | * | * | * | Deny |\n",
    "\n",
    "We can prevent all other sorts of traffic through the firewall."
   ]
  },
  {
   "cell_type": "code",
   "execution_count": null,
   "id": "ad4815e9",
   "metadata": {},
   "outputs": [],
   "source": []
  }
 ],
 "metadata": {
  "kernelspec": {
   "display_name": "Python 3",
   "language": "python",
   "name": "python3"
  },
  "language_info": {
   "codemirror_mode": {
    "name": "ipython",
    "version": 3
   },
   "file_extension": ".py",
   "mimetype": "text/x-python",
   "name": "python",
   "nbconvert_exporter": "python",
   "pygments_lexer": "ipython3",
   "version": "3.9.5"
  }
 },
 "nbformat": 4,
 "nbformat_minor": 5
}
