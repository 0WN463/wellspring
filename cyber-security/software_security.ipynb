{
 "cells": [
  {
   "cell_type": "markdown",
   "id": "b08e278e",
   "metadata": {},
   "source": [
    "# Software security\n",
    "The requirements for a program are:\n",
    "* has to be correct\n",
    "* has to be efficient\n",
    "* has to be secure\n",
    "\n",
    "When a program is able to perform actions outside of its intended behaviour, it can lead to insecurity.\n",
    "\n",
    "## Security issues\n",
    "### Improper implementation\n",
    "When a program is not implemented properly, it can allow attackers to deviate from the programmer's intent.\n",
    "\n",
    "### Unanticipated input\n",
    "When the attacker is able to supply unanticipated input, it can cause the process to:\n",
    "* access sensitive information\n",
    "* deviate from the intended execution path\n",
    "* execute injected code\n",
    "\n",
    "This is a form of privilege escalation."
   ]
  },
  {
   "cell_type": "markdown",
   "id": "c9231e0b",
   "metadata": {},
   "source": [
    "Programming languages have a huge wealth of functionality.\n",
    "Not knowing the nuances can lead to subtle implication of functionality.\n",
    "This results in the program doing more than the developer's expected."
   ]
  },
  {
   "cell_type": "markdown",
   "id": "4a722e18",
   "metadata": {},
   "source": [
    "## Computer architecture\n",
    "### Code vs Data\n",
    "Modern computer uses the **Von Neumann computer architecture**.\n",
    "This means that code and data are stored together in memory, thus there is no clear distinction between code and data.\n",
    "This is unlike the **Harvard architecture** which has separate hardware for storing code and data.\n",
    "\n",
    "Thus, this give rise to implications which allows programs to be tricked into treating data as code, which is the basis for **code-injection attacks**."
   ]
  },
  {
   "cell_type": "markdown",
   "id": "36cce2c9",
   "metadata": {},
   "source": [
    "### Attacks on software\n",
    "#### Integer overflow\n",
    "\n",
    "Integer arithmetic in most programming languages are actually modulo arithmetic.\n",
    "Because integer are (usually) stored as a fix number of bits, there is a maximum size that the integer can hold.\n",
    "If the datatype is made to hold a value larger than its maximum size, it will overflow.\n",
    "In some languages, it will throw an explicit error; however in most languages, the value will implicitly wrap around.\n",
    "\n",
    "(Note that because Python do not have fix size integer primitives, our discussions will not be referring to Python)\n",
    "\n",
    "For example, if the datatype has size of 8 bits (1 byte), then the range of values it can take as an unsigned integer would be 0-255.\n",
    "Now suppose that `x=255`. If we increment `x` by 5, then we get `x=4`, because it wrapped around back to 0 when we increment it by 1, and we further increment it 4 times.\n",
    "This causes the condition that `x < x + 1` to be false at this boundary condition.\n",
    "If the programmer made this assumption when developing the program, this can lead to a vulnerability."
   ]
  },
  {
   "cell_type": "markdown",
   "id": "1deff5e6",
   "metadata": {},
   "source": [
    "Thus, consider the following banking system.\n",
    "The system allows the user to draw funds up to a certain limit, before further withdrawals are denied."
   ]
  },
  {
   "cell_type": "code",
   "execution_count": 2,
   "id": "fa497938",
   "metadata": {},
   "outputs": [
    {
     "name": "stdout",
     "output_type": "stream",
     "text": [
      "/home/own3d/wellspring/cyber-security/software-security-example\n"
     ]
    }
   ],
   "source": [
    "%cd software-security-example"
   ]
  },
  {
   "cell_type": "code",
   "execution_count": 10,
   "id": "529bf7a7",
   "metadata": {},
   "outputs": [
    {
     "name": "stdout",
     "output_type": "stream",
     "text": [
      "#include <stdio.h>\r\n",
      "\r\n",
      "int process_withdraw(int previous_withdraw_amt, int requested_amt, int withdraw_limit) {\r\n",
      "    if (previous_withdraw_amt + requested_amt < withdraw_limit)\r\n",
      "        return requested_amt;\r\n",
      "    else\r\n",
      "        return 0;\r\n",
      "}\r\n",
      "\r\n",
      "int main(int argc, char *argv[])  {\r\n",
      "   if(argc != 2) {\r\n",
      "   \tprintf(\"Wrong number of arguments.\\n\");\r\n",
      "\treturn 1;\r\n",
      "   }\r\n",
      "   \r\n",
      "   int requested_amt;\r\n",
      "   sscanf(argv[1], \"%d\", &requested_amt);\r\n",
      "\r\n",
      "   int previous_withdraw_amt = 80;\r\n",
      "   int WITHDRAW_LIMIT = 100;\r\n",
      "\r\n",
      "   printf(\"You have previously withdrawn $%d\\n\", previous_withdraw_amt);\r\n",
      "   printf(\"You have requested to withdraw $%d\\n\", requested_amt);\r\n",
      "   \r\n",
      "   int payout = process_withdraw(previous_withdraw_amt, requested_amt, WITHDRAW_LIMIT);\r\n",
      "   \r\n",
      "   if (payout > 0)\r\n",
      "      printf(\"Here is your $%d. Have a nice day!\\n\", payout);\r\n",
      "   else\r\n",
      "      printf(\"Sorry, the requested amount is beyond the limit\\n\");\r\n",
      "}\r\n"
     ]
    }
   ],
   "source": [
    "!cat withdraw.c"
   ]
  },
  {
   "cell_type": "code",
   "execution_count": 12,
   "id": "4aff593e",
   "metadata": {},
   "outputs": [
    {
     "name": "stdout",
     "output_type": "stream",
     "text": [
      "You have previously withdrawn $80\r\n",
      "You have requested to withdraw $10\r\n",
      "Here is your $10. Have a nice day!\r\n"
     ]
    }
   ],
   "source": [
    "!./withdraw 10"
   ]
  },
  {
   "cell_type": "markdown",
   "id": "920b70bd",
   "metadata": {},
   "source": [
    "Since we have withdrawn \\\\$80, we can still withdraw up to \\\\$20, thus the above transaction works."
   ]
  },
  {
   "cell_type": "code",
   "execution_count": 13,
   "id": "670f82cc",
   "metadata": {},
   "outputs": [
    {
     "name": "stdout",
     "output_type": "stream",
     "text": [
      "You have previously withdrawn $80\r\n",
      "You have requested to withdraw $30\r\n",
      "Sorry, the requested amount is beyond the limit\r\n"
     ]
    }
   ],
   "source": [
    "!./withdraw 30"
   ]
  },
  {
   "cell_type": "markdown",
   "id": "5921a21e",
   "metadata": {},
   "source": [
    "As we can see, we cannot withdraw beyond our limit, or so it seem."
   ]
  },
  {
   "cell_type": "code",
   "execution_count": 14,
   "id": "8849f701",
   "metadata": {},
   "outputs": [
    {
     "name": "stdout",
     "output_type": "stream",
     "text": [
      "You have previously withdrawn $80\r\n",
      "You have requested to withdraw $2147483647\r\n",
      "Here is your $2147483647. Have a nice day!\r\n"
     ]
    }
   ],
   "source": [
    "!./withdraw 2147483647"
   ]
  },
  {
   "cell_type": "markdown",
   "id": "adb89a92",
   "metadata": {},
   "source": [
    "As we can see, by requesting a large value, we get `previous_withdraw_amt + requested_amt = 80 + 2147483647 = 79`, which is less than the withdraw limit of 100.\n",
    "Keen readers would recognize the value of `2147483647` to be the maximum an signed integer can hold using 32 bits.\n",
    "\n",
    "Thus, we can bypass the check and withdraw more than the allowed amount."
   ]
  },
  {
   "cell_type": "markdown",
   "id": "8b0b697f",
   "metadata": {},
   "source": [
    "#### Inconsistent data string representation\n",
    "When different parts of the program adopt different data representation, it could lead to a vulnerability.\n",
    "\n",
    "We have seen one such vulnerability in [null-byte injection of domain](./public_key_infrastructure.ipynb#null-byte-injection), which happened when the verifying of certificate uses non-null byte terminated strings while the address checking uses null byte terminated strings.\n",
    "\n",
    "We can also consider the following system.\n",
    "The system stores each user's documents in their own home directory.\n",
    "It exposes a public interface where users are allowed to query for files using their file names.\n",
    "The user's home directory will be searched for the desired file."
   ]
  },
  {
   "cell_type": "code",
   "execution_count": 10,
   "id": "b799eb0c",
   "metadata": {},
   "outputs": [],
   "source": [
    "from urllib.parse import unquote\n",
    "\n",
    "BASE_URL = '/home'\n",
    "USER = 'alice'\n",
    "\n",
    "def _get_file(base_url, user, file_name):\n",
    "    file_name = unquote(file_name)\n",
    "    target_file = f'{base_url}/{user}/{file_name}'\n",
    "    print(f'Giving the user the file: {target_file}')\n",
    "\n",
    "alice_get_file = lambda f: _get_file(BASE_URL, USER, f)"
   ]
  },
  {
   "cell_type": "markdown",
   "id": "eacbc582",
   "metadata": {},
   "source": [
    "Note the use of `unquote`.\n",
    "Because the file name may be sent via a query parameter encoded in the URL, and the file name may contain special characters that are not allowed in URL, the file name may be \"percentage encoded\" to represent these illegal characters.\n",
    "\n",
    "For example, suppose the user requests the file `e=mc.txt`, the encoded representation that is sent to the system will be `e%3Dmc2.txt`, because `=` is a reserved character in URL."
   ]
  },
  {
   "cell_type": "code",
   "execution_count": 22,
   "id": "fd6b11bd",
   "metadata": {},
   "outputs": [
    {
     "name": "stdout",
     "output_type": "stream",
     "text": [
      "Giving the user the file: /home/alice/note.txt\n"
     ]
    }
   ],
   "source": [
    "alice_get_file('note.txt')"
   ]
  },
  {
   "cell_type": "markdown",
   "id": "5005e280",
   "metadata": {},
   "source": [
    "Typical usage involves the user requesting the file name, and the system returning the file within their home directory."
   ]
  },
  {
   "cell_type": "code",
   "execution_count": 12,
   "id": "882620fe",
   "metadata": {},
   "outputs": [
    {
     "name": "stdout",
     "output_type": "stream",
     "text": [
      "Giving the user the file: /home/alice/../bob/note.txt\n"
     ]
    }
   ],
   "source": [
    "alice_get_file('../bob/note.txt')"
   ]
  },
  {
   "cell_type": "markdown",
   "id": "b1045e0d",
   "metadata": {},
   "source": [
    "However, notice that the user can inject `../` to change the directory that the system is returning.\n",
    "In UNIX systems, `../` refers to the parent directory, thus the file path will resolve to `/home/bob/notes.txt`.\n",
    "Thus, with this, Alice can illegally obtain Bob's documents."
   ]
  },
  {
   "cell_type": "markdown",
   "id": "539bc39f",
   "metadata": {},
   "source": [
    "Thus, a programmer may implement a sanitization function which ensures that `../` is not part of the file name requested."
   ]
  },
  {
   "cell_type": "code",
   "execution_count": 21,
   "id": "b80a2d61",
   "metadata": {},
   "outputs": [],
   "source": [
    "from urllib.parse import unquote\n",
    "\n",
    "BASE_URL = '/home'\n",
    "USER = 'alice'\n",
    "\n",
    "def _sanitized_get_file(base_url, user, file_name):\n",
    "    if '../' in file_name:\n",
    "        raise Exception('\"../\" detected in file name')\n",
    "    file_name = unquote(file_name)\n",
    "    target_file = f'{base_url}/{user}/{file_name}'\n",
    "    print(f'Giving the user the file: {target_file}')\n",
    "\n",
    "alice_get_file = lambda f: _sanitized_get_file(BASE_URL, USER, f)"
   ]
  },
  {
   "cell_type": "code",
   "execution_count": 18,
   "id": "1c584bd5",
   "metadata": {},
   "outputs": [
    {
     "ename": "Exception",
     "evalue": "\"../\" detected in file name",
     "output_type": "error",
     "traceback": [
      "\u001b[0;31m---------------------------------------------------------------------------\u001b[0m",
      "\u001b[0;31mException\u001b[0m                                 Traceback (most recent call last)",
      "\u001b[0;32m<ipython-input-18-916086a06ca1>\u001b[0m in \u001b[0;36m<module>\u001b[0;34m\u001b[0m\n\u001b[0;32m----> 1\u001b[0;31m \u001b[0malice_get_file\u001b[0m\u001b[0;34m(\u001b[0m\u001b[0;34m'../bob/note.txt'\u001b[0m\u001b[0;34m)\u001b[0m\u001b[0;34m\u001b[0m\u001b[0;34m\u001b[0m\u001b[0m\n\u001b[0m",
      "\u001b[0;32m<ipython-input-17-940004a26c60>\u001b[0m in \u001b[0;36m<lambda>\u001b[0;34m(f)\u001b[0m\n\u001b[1;32m     11\u001b[0m     \u001b[0mprint\u001b[0m\u001b[0;34m(\u001b[0m\u001b[0;34mf'Giving the user the file: {target_file}'\u001b[0m\u001b[0;34m)\u001b[0m\u001b[0;34m\u001b[0m\u001b[0;34m\u001b[0m\u001b[0m\n\u001b[1;32m     12\u001b[0m \u001b[0;34m\u001b[0m\u001b[0m\n\u001b[0;32m---> 13\u001b[0;31m \u001b[0malice_get_file\u001b[0m \u001b[0;34m=\u001b[0m \u001b[0;32mlambda\u001b[0m \u001b[0mf\u001b[0m\u001b[0;34m:\u001b[0m \u001b[0m_sanitized_get_file\u001b[0m\u001b[0;34m(\u001b[0m\u001b[0mBASE_URL\u001b[0m\u001b[0;34m,\u001b[0m \u001b[0mUSER\u001b[0m\u001b[0;34m,\u001b[0m \u001b[0mf\u001b[0m\u001b[0;34m)\u001b[0m\u001b[0;34m\u001b[0m\u001b[0;34m\u001b[0m\u001b[0m\n\u001b[0m",
      "\u001b[0;32m<ipython-input-17-940004a26c60>\u001b[0m in \u001b[0;36m_sanitized_get_file\u001b[0;34m(base_url, user, file_name)\u001b[0m\n\u001b[1;32m      6\u001b[0m \u001b[0;32mdef\u001b[0m \u001b[0m_sanitized_get_file\u001b[0m\u001b[0;34m(\u001b[0m\u001b[0mbase_url\u001b[0m\u001b[0;34m,\u001b[0m \u001b[0muser\u001b[0m\u001b[0;34m,\u001b[0m \u001b[0mfile_name\u001b[0m\u001b[0;34m)\u001b[0m\u001b[0;34m:\u001b[0m\u001b[0;34m\u001b[0m\u001b[0;34m\u001b[0m\u001b[0m\n\u001b[1;32m      7\u001b[0m     \u001b[0;32mif\u001b[0m \u001b[0;34m'../'\u001b[0m \u001b[0;32min\u001b[0m \u001b[0mfile_name\u001b[0m\u001b[0;34m:\u001b[0m\u001b[0;34m\u001b[0m\u001b[0;34m\u001b[0m\u001b[0m\n\u001b[0;32m----> 8\u001b[0;31m         \u001b[0;32mraise\u001b[0m \u001b[0mException\u001b[0m\u001b[0;34m(\u001b[0m\u001b[0;34m'\"../\" detected in file name'\u001b[0m\u001b[0;34m)\u001b[0m\u001b[0;34m\u001b[0m\u001b[0;34m\u001b[0m\u001b[0m\n\u001b[0m\u001b[1;32m      9\u001b[0m     \u001b[0mfile_name\u001b[0m \u001b[0;34m=\u001b[0m \u001b[0munquote\u001b[0m\u001b[0;34m(\u001b[0m\u001b[0mfile_name\u001b[0m\u001b[0;34m)\u001b[0m\u001b[0;34m\u001b[0m\u001b[0;34m\u001b[0m\u001b[0m\n\u001b[1;32m     10\u001b[0m     \u001b[0mtarget_file\u001b[0m \u001b[0;34m=\u001b[0m \u001b[0;34mf'{base_url}/{user}/{file_name}'\u001b[0m\u001b[0;34m\u001b[0m\u001b[0;34m\u001b[0m\u001b[0m\n",
      "\u001b[0;31mException\u001b[0m: \"../\" detected in file name"
     ]
    }
   ],
   "source": [
    "alice_get_file('../bob/note.txt')"
   ]
  },
  {
   "cell_type": "markdown",
   "id": "086849b5",
   "metadata": {},
   "source": [
    "As we can see, the system (seemingly) works.\n",
    "However, consider the following:"
   ]
  },
  {
   "cell_type": "code",
   "execution_count": 20,
   "id": "3c06093e",
   "metadata": {},
   "outputs": [
    {
     "name": "stdout",
     "output_type": "stream",
     "text": [
      "Giving the user the file: /home/alice/../bob/note.txt\n",
      "Giving the user the file: /home/alice/../bob/note.txt\n"
     ]
    }
   ],
   "source": [
    "alice_get_file('%2e./bob/note.txt')\n",
    "alice_get_file('..%2fbob/note.txt')"
   ]
  },
  {
   "cell_type": "markdown",
   "id": "f131e7f7",
   "metadata": {},
   "source": [
    "Since the sanitization of the input is represented differently from the actual path used, this allowed the attacker to bypass the sanitization by supplying percentage encoded strings which were not picked up by the sanitization process."
   ]
  },
  {
   "cell_type": "markdown",
   "id": "1bce34b5",
   "metadata": {},
   "source": [
    "#### Buffer overflow"
   ]
  },
  {
   "cell_type": "markdown",
   "id": "6bcbef99",
   "metadata": {},
   "source": [
    "##### Background\n",
    "Refer to [computer organization](../computer-organization/stack.ipynb).\n",
    "\n",
    "In C/C++, memory is managed by the programmer, thus illegal memory is allowed.\n",
    "Notice that the variables are stored sequentially on the stack, thus other variables can be access through an variable higher on the stack by access outside of the bounds of the memory.\n",
    "This allows variables to be illegally read or written."
   ]
  },
  {
   "cell_type": "markdown",
   "id": "4ca5586f",
   "metadata": {},
   "source": [
    "Consider the following code:"
   ]
  },
  {
   "cell_type": "code",
   "execution_count": 28,
   "id": "bbb80d19",
   "metadata": {},
   "outputs": [
    {
     "name": "stdout",
     "output_type": "stream",
     "text": [
      "#include <stdio.h>\r\n",
      "\r\n",
      "void change_value(int index, int value) {\r\n",
      "\tchar arr[10];\r\n",
      "\tchar b = 100;\r\n",
      "\r\n",
      "\tprintf(\"The value of b is %d\\n\", b);\t\r\n",
      "\tprintf(\"Changing index %d of a to %d\\n\", index, value);\r\n",
      "\r\n",
      "\tarr[index] = value;\r\n",
      "\tprintf(\"The value of b is %d\\n\", b);\t\r\n",
      "}\r\n",
      "\r\n",
      "int main(int argc, char *argv[])  {\r\n",
      "\tif(argc != 3) {\r\n",
      "   \t\tprintf(\"Wrong number of arguments.\\n\");\r\n",
      "\t\treturn 1;\r\n",
      "   \t}\r\n",
      "\r\n",
      "\tint index, value;\r\n",
      "\tsscanf(argv[1], \"%d\", &index);\r\n",
      "\tsscanf(argv[2], \"%d\", &value);\r\n",
      "\r\n",
      "\tchange_value(index, value);\t\r\n",
      "}\r\n"
     ]
    }
   ],
   "source": [
    "!cat buffer_overflow.c"
   ]
  },
  {
   "cell_type": "markdown",
   "id": "e4b4d84c",
   "metadata": {},
   "source": [
    "Note that we use `char` for the `a` and `b` so that the variables are neatly aligned on the stack.\n",
    "Notice that since `b` is below `a` in the stack, we even though we are modifying variable `a`, it is possible for use to modify variable `b` as well, as per below."
   ]
  },
  {
   "cell_type": "code",
   "execution_count": 51,
   "id": "3badd991",
   "metadata": {},
   "outputs": [
    {
     "name": "stdout",
     "output_type": "stream",
     "text": [
      "The value of b is 100\n",
      "Changing index 10 of a to 42\n",
      "The value of b is 42\n"
     ]
    }
   ],
   "source": [
    "%%bash\n",
    "./buffer_overflow 10 42"
   ]
  },
  {
   "cell_type": "markdown",
   "id": "7c9ae1d4",
   "metadata": {},
   "source": [
    "From the background knowledge of how variables are stored, readers may have noticed that the return address is also stored on the stack.\n",
    "Thus, it is possible for attackers to modify the return address by writing over it, thus causing the function to jump to a different function rather than the original caller.\n",
    "This attack is called **stack smashing**."
   ]
  },
  {
   "cell_type": "markdown",
   "id": "399ab7bf",
   "metadata": {},
   "source": [
    "If we called `./buffer_overflow 11 9`, it will lead to a segmentation fault because it would have overwritten the return address, causing the program to return to an un"
   ]
  },
  {
   "cell_type": "markdown",
   "id": "5e115aeb",
   "metadata": {},
   "source": [
    "#### SQL injection"
   ]
  },
  {
   "cell_type": "markdown",
   "id": "9052bac3",
   "metadata": {},
   "source": [
    "Suppose we have the following system, where the program only allows access to users who can provide a valid user name and secret name pair.\n",
    "The users are stored in a SQL database, and the list of users are retrieved via SQL commands."
   ]
  },
  {
   "cell_type": "code",
   "execution_count": 8,
   "id": "d4656ec5",
   "metadata": {},
   "outputs": [],
   "source": [
    "import sqlite3\n",
    "from sqlite3 import Error\n",
    "\n",
    "class GateKeeper:\n",
    "    def __init__(self):\n",
    "        def create_connection(path):\n",
    "            connection = sqlite3.connect(path)\n",
    "        \n",
    "            return connection\n",
    "    \n",
    "        self.connection = create_connection('./users.sqlite')\n",
    "\n",
    "    def authenticate(self, name, secret_name):\n",
    "        select_users = f\"SELECT * FROM users WHERE name='{name}' AND secret_name='{secret_name}'\"\n",
    "        users = self._execute_read_query(select_users)\n",
    "        \n",
    "        if len(users) == 0:\n",
    "            print(\"Name and secret name does not match. Villains are not allowed!\")\n",
    "        else:\n",
    "            user = users[0]\n",
    "            _, name, secret_name = user\n",
    "            print(f\"Name and secret name matches. Welcome to the club, {name} (alias {secret_name}).\")\n",
    "\n",
    "    def dump_data(self):\n",
    "        users = self._execute_read_query(\"SELECT * FROM USERS\")\n",
    "        \n",
    "        for user in users:\n",
    "            print(user)\n",
    "            \n",
    "    def _execute_read_query(self, query):\n",
    "        print(f\"Executing query: {query}\")\n",
    "        cursor = self.connection.cursor()\n",
    "        result = None\n",
    "        try:\n",
    "            cursor.execute(query)\n",
    "            result = cursor.fetchall()\n",
    "            return result\n",
    "        except Error as e:\n",
    "            print(f\"The error '{e}' occurred\")\n",
    "\n",
    "gate_keeper = GateKeeper()"
   ]
  },
  {
   "cell_type": "code",
   "execution_count": 9,
   "id": "53532c5d",
   "metadata": {},
   "outputs": [
    {
     "name": "stdout",
     "output_type": "stream",
     "text": [
      "Executing query: SELECT * FROM USERS\n",
      "(1, 'Alice', 'Diana')\n",
      "(2, 'Bob', 'Clark')\n",
      "(3, '0WN3D', '0WN463')\n"
     ]
    }
   ],
   "source": [
    "gate_keeper.dump_data()"
   ]
  },
  {
   "cell_type": "markdown",
   "id": "f9cd2b91",
   "metadata": {},
   "source": [
    "The above is the list of users currently in the database."
   ]
  },
  {
   "cell_type": "code",
   "execution_count": 6,
   "id": "e83886fd",
   "metadata": {},
   "outputs": [
    {
     "name": "stdout",
     "output_type": "stream",
     "text": [
      "Executing query: SELECT * FROM users WHERE name='0WN3D' AND secret_name='0WN463'\n",
      "Name and secret name matches. Welcome to the club, 0WN3D (alias 0WN463).\n"
     ]
    }
   ],
   "source": [
    "input_name, input_secret_name = \"0WN3D\", \"0WN463\"\n",
    "gate_keeper.authenticate(input_name, input_secret_name)"
   ]
  },
  {
   "cell_type": "code",
   "execution_count": 11,
   "id": "8954a974",
   "metadata": {},
   "outputs": [
    {
     "name": "stdout",
     "output_type": "stream",
     "text": [
      "Executing query: SELECT * FROM users WHERE name='Hacker' AND secret_name='pwner_1337'\n",
      "Name and secret name does not match. Villains are not allowed!\n"
     ]
    }
   ],
   "source": [
    "input_name, input_secret_name = \"Hacker\", \"pwner_1337\"\n",
    "gate_keeper.authenticate(input_name, input_secret_name)"
   ]
  },
  {
   "cell_type": "markdown",
   "id": "e6ba56f9",
   "metadata": {},
   "source": [
    "As we can see, valid users are allowed while invalid users are denied, or so it seems."
   ]
  },
  {
   "cell_type": "markdown",
   "id": "c092d640",
   "metadata": {},
   "source": [
    "Notice that to determine the query, the user's input is directly substituted into the command.\n",
    "Suppose what happens if the user's input contains a `'`, for instance `' something something` for the name field.\n",
    "The resultant SQL command ran would be `SELECT * FROM users WHERE name=''something something AND secret_name='SOME_SECRET'`"
   ]
  },
  {
   "cell_type": "code",
   "execution_count": 12,
   "id": "3140f8df",
   "metadata": {},
   "outputs": [
    {
     "name": "stdout",
     "output_type": "stream",
     "text": [
      "Executing query: SELECT * FROM users WHERE name=''something something' AND secret_name='SOME_SECRET'\n",
      "The error 'near \"something\": syntax error' occurred\n"
     ]
    },
    {
     "ename": "TypeError",
     "evalue": "object of type 'NoneType' has no len()",
     "output_type": "error",
     "traceback": [
      "\u001b[0;31m---------------------------------------------------------------------------\u001b[0m",
      "\u001b[0;31mTypeError\u001b[0m                                 Traceback (most recent call last)",
      "\u001b[0;32m<ipython-input-12-bcf9316640a6>\u001b[0m in \u001b[0;36m<module>\u001b[0;34m\u001b[0m\n\u001b[1;32m      1\u001b[0m \u001b[0minput_name\u001b[0m\u001b[0;34m,\u001b[0m \u001b[0minput_secret_name\u001b[0m \u001b[0;34m=\u001b[0m \u001b[0;34m\"'something something\"\u001b[0m\u001b[0;34m,\u001b[0m \u001b[0;34m\"SOME_SECRET\"\u001b[0m\u001b[0;34m\u001b[0m\u001b[0;34m\u001b[0m\u001b[0m\n\u001b[0;32m----> 2\u001b[0;31m \u001b[0mgate_keeper\u001b[0m\u001b[0;34m.\u001b[0m\u001b[0mauthenticate\u001b[0m\u001b[0;34m(\u001b[0m\u001b[0minput_name\u001b[0m\u001b[0;34m,\u001b[0m \u001b[0minput_secret_name\u001b[0m\u001b[0;34m)\u001b[0m\u001b[0;34m\u001b[0m\u001b[0;34m\u001b[0m\u001b[0m\n\u001b[0m",
      "\u001b[0;32m<ipython-input-8-942ff26d0ee8>\u001b[0m in \u001b[0;36mauthenticate\u001b[0;34m(self, name, secret_name)\u001b[0m\n\u001b[1;32m     15\u001b[0m         \u001b[0musers\u001b[0m \u001b[0;34m=\u001b[0m \u001b[0mself\u001b[0m\u001b[0;34m.\u001b[0m\u001b[0m_execute_read_query\u001b[0m\u001b[0;34m(\u001b[0m\u001b[0mselect_users\u001b[0m\u001b[0;34m)\u001b[0m\u001b[0;34m\u001b[0m\u001b[0;34m\u001b[0m\u001b[0m\n\u001b[1;32m     16\u001b[0m \u001b[0;34m\u001b[0m\u001b[0m\n\u001b[0;32m---> 17\u001b[0;31m         \u001b[0;32mif\u001b[0m \u001b[0mlen\u001b[0m\u001b[0;34m(\u001b[0m\u001b[0musers\u001b[0m\u001b[0;34m)\u001b[0m \u001b[0;34m==\u001b[0m \u001b[0;36m0\u001b[0m\u001b[0;34m:\u001b[0m\u001b[0;34m\u001b[0m\u001b[0;34m\u001b[0m\u001b[0m\n\u001b[0m\u001b[1;32m     18\u001b[0m             \u001b[0mprint\u001b[0m\u001b[0;34m(\u001b[0m\u001b[0;34m\"Name and secret name does not match. Villains are not allowed!\"\u001b[0m\u001b[0;34m)\u001b[0m\u001b[0;34m\u001b[0m\u001b[0;34m\u001b[0m\u001b[0m\n\u001b[1;32m     19\u001b[0m         \u001b[0;32melse\u001b[0m\u001b[0;34m:\u001b[0m\u001b[0;34m\u001b[0m\u001b[0;34m\u001b[0m\u001b[0m\n",
      "\u001b[0;31mTypeError\u001b[0m: object of type 'NoneType' has no len()"
     ]
    }
   ],
   "source": [
    "input_name, input_secret_name = \"'something something\", \"SOME_SECRET\"\n",
    "gate_keeper.authenticate(input_name, input_secret_name)"
   ]
  },
  {
   "cell_type": "markdown",
   "id": "9047a1ee",
   "metadata": {},
   "source": [
    "Notice that the resultant SQL command is invalid, thus causing an error.\n",
    "This is an indication that we are able to modify the underlying SQL command.\n",
    "Now, suppose that the attacker sets the name field to be `' OR 1=1 --`.\n",
    "\n",
    "\n",
    "The resultant SQL command will be: \n",
    "```\n",
    "SELECT * FROM users WHERE name='' OR 1=1 --' AND secret_name='SOME_SECRET'\n",
    "```\n",
    "\n",
    "In SQL, `--` symbolizes that the characters after that are comments, thus the functional command is actually:\n",
    "```\n",
    "SELECT * FROM users WHERE name='' OR 1=1\n",
    "```\n",
    "\n",
    "The `--` is there to truncate further SQL statements that were part of the original SQL template, because the further part is likely to trigger a syntax error.\n",
    "\n",
    "Now, notice that in the SQL statement, we are checking if the name is blank, which is false for all users in the system.\n",
    "However, we perform an `OR` operation against `1=1`, which is always true.\n",
    "Thus, the resultant statement is always true for all users.\n",
    "Hence, we can trick the system into thinking we provided credentials that matched one of the users."
   ]
  },
  {
   "cell_type": "code",
   "execution_count": 18,
   "id": "17b4fc00",
   "metadata": {},
   "outputs": [
    {
     "name": "stdout",
     "output_type": "stream",
     "text": [
      "Executing query: SELECT * FROM users WHERE name='' OR 1=1 --' AND secret_name='SOME_SECRET'\n",
      "Name and secret name matches. Welcome to the club, Alice (alias Diana).\n"
     ]
    }
   ],
   "source": [
    "input_name, input_secret_name = \"' OR 1=1 --\", \"SOME_SECRET\"\n",
    "gate_keeper.authenticate(input_name, input_secret_name)"
   ]
  },
  {
   "cell_type": "markdown",
   "id": "2058882c",
   "metadata": {},
   "source": [
    "Thus, we have authenticated at an endpoint without knowing the credentials.\n"
   ]
  },
  {
   "cell_type": "markdown",
   "id": "22ddc0a0",
   "metadata": {},
   "source": [
    "An example of the layers being less defined in computer system is between the OS and the kernel.\n",
    "Some literature consider them part of the same layer.\n",
    "\n",
    "**Process integrity** is the assurance that the process will not deviate from its intended execution path."
   ]
  },
  {
   "cell_type": "markdown",
   "id": "32b46cfc",
   "metadata": {},
   "source": [
    "The layers are arranged from the least privileged (application) to the most privileged (hardware).\n",
    "Thus, a secure system would be such that if one of the layers is compromised by an attacker, they are not able to manipulate the objects in the inner layers.\n",
    "(Note that this is rather difficult to achieve, due to numerous issues such as implementation errors, user error *etc*)\n",
    "\n",
    "One can imagine the chaos if an attacker who is able to perform SQL injection on the DBMS (service layer) is somehow able to obtain the password file (OS layer) of the system through it.\n",
    "Or if an attacker that employed cross-site scripting to compromised the browser (application layer) is able to burn out the CPU (hardware layer)."
   ]
  },
  {
   "cell_type": "markdown",
   "id": "86c2efa3",
   "metadata": {},
   "source": [
    "## Access control model\n",
    "Access control are required in a computer system to restrict the **operations** that can be performed by some **entity** on some **objects**."
   ]
  },
  {
   "cell_type": "markdown",
   "id": "8ebb23c9",
   "metadata": {},
   "source": [
    "Operations can be categorized as:\n",
    "* Observe (*eg* reading a file)\n",
    "* Alter (*eg* writing to a file, replacing a file, deleting a file, changing ownership)\n",
    "* Action (*eg* executing a file)"
   ]
  },
  {
   "cell_type": "markdown",
   "id": "711d52c8",
   "metadata": {},
   "source": [
    "Suppose that a **subject/principal** wants perform some **operation** on some **object**.\n",
    "An example would be the user with name `John` wishes to `read` the file `johns_grades.txt`. \n",
    "The entity known as the **reference monitor** is responsible to deciding whether to allow or deny the access."
   ]
  },
  {
   "cell_type": "markdown",
   "id": "1ac961d2",
   "metadata": {},
   "source": [
    "There are two main types of access control\n",
    "\n",
    "### Discretionary access control model\n",
    "The owner of the object decides the rights\n",
    "\n",
    "### Mandatory access control model\n",
    "A system-wide policy that decides the rights."
   ]
  },
  {
   "cell_type": "markdown",
   "id": "ea423c0a",
   "metadata": {},
   "source": [
    "## Access control representation\n",
    "An **access control matrix** shows the relationship between principals and objects.\n",
    "\n",
    "|  | sudo | passwd | common.txt |\n",
    "| --- | ---| --- | --- |\n",
    "|root | {run} | {read, write} | {read, write} |\n",
    "| Alice | {run} | {read} | {read, write} |\n",
    "| Bob | {} |  {read} | {read, write} |\n",
    "\n",
    "This matrix can be represented in two ways.\n",
    "\n",
    "### Access control list\n",
    "Stores the rights to a particular object as a list.\n",
    "\n",
    "```\n",
    "sudo: [(root, {run}), (Alice, {run})]\n",
    "passwd: [(root, {read, write}), (Alice, {read}, (Bob, {read})]\n",
    "common.txt: [(root, {read, write}), (Alice, {read, write}), (Bob, {read, write})]\n",
    "```\n",
    "\n",
    "### Capabilities\n",
    "Stores the capabilities of each subject as a list.\n",
    "\n",
    "```\n",
    "root: [(sudo, {run}), (passwd, {read, write}), (common.txt, {read, write})]\n",
    "Alice: [(sudo, {run}), (passwd, {read}), (common.txt, {read, write})]\n",
    "Bob: [(passwd, {read}), (common.txt{read, write})]\n",
    "```\n",
    "\n",
    "Note that is is difficult to know which objects does a particular subject has access to in ACL, but easy in capabilities.\n",
    "The vice versa occurs when finding who has access to a certain object."
   ]
  },
  {
   "cell_type": "markdown",
   "id": "7716a733",
   "metadata": {},
   "source": [
    "However, notice that the matrix can get really large if there are multiple users, and there are numerous files.\n",
    "\n",
    "Thus, to help simplify the matrix representation, we can group the users and define access rights to these groups instead."
   ]
  },
  {
   "cell_type": "markdown",
   "id": "1f86c55d",
   "metadata": {},
   "source": [
    "## UNIX access control\n",
    "File permissions consist of rights to the following user classes:\n",
    "* owner\n",
    "* owner's group(s)\n",
    "* others\n",
    "\n",
    "In UNIX, groups can only be created by `root`.\n",
    "\n",
    "Because all resources are treated as files in UNIX, we can define access controls on these resources (hardware, I/O) the same way we do for files.\n",
    "\n",
    "Each user:\n",
    "* has a unique username\n",
    "* has a unique user identifier (**UID**)\n",
    "    * stored in `/etc/passwd`\n",
    "* can belong to one or more groups\n",
    "    * first group is stored in `/etc/passwd`\n",
    "    * other groups are stored in`/etc/group`\n",
    "    \n",
    "Each group:\n",
    "* has a unique group name\n",
    "* has a unique group identifier (**GID**)\n",
    "\n",
    "Purpose of UID/GID:\n",
    "* determine ownership of system resources\n",
    "* determine credential of running processes\n",
    "* control permissions granted to processes"
   ]
  },
  {
   "cell_type": "markdown",
   "id": "8d9f0f98",
   "metadata": {},
   "source": [
    "There is a special user called the **super use**, with UID 0, typically called `root`.\n",
    "All security checks are disabled for the super user."
   ]
  },
  {
   "cell_type": "markdown",
   "id": "b79f3beb",
   "metadata": {},
   "source": [
    "### passwd file\n",
    "The `passwd` file is made readable by everyone because some processes requires information in it.\n",
    "\n",
    "In older versions of UNIX, the password hash is stored in the file.\n",
    "This allowed attackers to perform offline password guessing to crack the password.\n",
    "\n",
    "In newer versions, the hash is stored elsewhere, typically in `/etc/shadow`.\n",
    "This hash is not readable by everyone."
   ]
  },
  {
   "cell_type": "markdown",
   "id": "0ce55c85",
   "metadata": {},
   "source": [
    "### shadow file"
   ]
  },
  {
   "cell_type": "markdown",
   "id": "2172f6bf",
   "metadata": {},
   "source": [
    "Within the shadow file, each entry is formated as follows (separated by `:`)\n",
    "* login name\n",
    "* hashed password\n",
    "* date of last password change, \n",
    "* minimum password age\n",
    "* maximum password age\n",
    "* password warning period\n",
    "* password inactivity period\n",
    "* account expiration date\n",
    "* reserved field \n",
    "\n",
    "For the second field (hashed password), has the following format: \n",
    "\n",
    "`$id$salt$hash`\n",
    "\n",
    "where `id` correspond to the hash-method used (5=SHA-256, 6= SHA-512, *etc*)\n",
    "    "
   ]
  },
  {
   "cell_type": "markdown",
   "id": "2529de2c",
   "metadata": {},
   "source": [
    "### Processes\n",
    "A new process is spawned when running an executable file, or a child is forked from a parent process.\n",
    "\n",
    "Each process has its own **process ID (PID)**.\n",
    "Use `ps aux` to see all processes and their PID."
   ]
  },
  {
   "cell_type": "markdown",
   "id": "dd023635",
   "metadata": {},
   "source": [
    "### File permissions\n",
    "File permissions are represented by 9 characters, with each triplet corresponding to a certain user class.\n",
    "The first triplet corresponds to the owner; the next to users in the group and the last to everyone else.\n",
    "\n",
    "Each triplet corresponds to the three actions, `r` read, `w` write, `x` execute."
   ]
  },
  {
   "cell_type": "code",
   "execution_count": 47,
   "id": "0ac02477",
   "metadata": {},
   "outputs": [
    {
     "name": "stdout",
     "output_type": "stream",
     "text": [
      "\u001b[1;34md\u001b[33mr\u001b[31mw\u001b[32mx\u001b[0m\u001b[33mr\u001b[38;5;244m-\u001b[32mx\u001b[33mr\u001b[38;5;244m-\u001b[32mx\u001b[0m    \u001b[38;5;244m-\u001b[0m \u001b[1;33mown3d\u001b[0m \u001b[34m10 Jul 11:19\u001b[0m \u001b[1;34maccess-control-example\u001b[0m\r\n",
      ".\u001b[1;33mr\u001b[31mw\u001b[0m\u001b[38;5;244m-\u001b[33mr\u001b[38;5;244m--\u001b[33mr\u001b[38;5;244m--\u001b[0m  \u001b[1;32m25\u001b[0m\u001b[32mk\u001b[0m \u001b[1;33mown3d\u001b[0m \u001b[34m10 Jul 11:45\u001b[0m access_control.ipynb\r\n",
      ".\u001b[1;33mr\u001b[31mw\u001b[0m\u001b[38;5;244m-\u001b[33mr\u001b[38;5;244m--\u001b[33mr\u001b[38;5;244m--\u001b[0m  \u001b[1;32m17\u001b[0m\u001b[32mk\u001b[0m \u001b[1;33mown3d\u001b[0m \u001b[34m 6 Jul 08:28\u001b[0m authentication.ipynb\r\n",
      ".\u001b[1;33mr\u001b[31mw\u001b[0m\u001b[38;5;244m-\u001b[33mr\u001b[38;5;244m--\u001b[33mr\u001b[38;5;244m--\u001b[0m  \u001b[1;32m75\u001b[0m\u001b[32mk\u001b[0m \u001b[1;33mown3d\u001b[0m \u001b[34m26 Jun 11:12\u001b[0m classical_ciphers.ipynb\r\n",
      ".\u001b[1;33mr\u001b[31mw\u001b[0m\u001b[38;5;244m-\u001b[33mr\u001b[38;5;244m--\u001b[33mr\u001b[38;5;244m--\u001b[0m  \u001b[1;32m25\u001b[0m\u001b[32mk\u001b[0m \u001b[1;33mown3d\u001b[0m \u001b[34m 6 Jul 23:49\u001b[0m data_origin_authentication.ipynb\r\n",
      ".\u001b[1;33mr\u001b[31mw\u001b[0m\u001b[38;5;244m-\u001b[33mr\u001b[38;5;244m--\u001b[33mr\u001b[38;5;244m--\u001b[0m \u001b[1;32m4.2\u001b[0m\u001b[32mk\u001b[0m \u001b[1;33mown3d\u001b[0m \u001b[34m 7 Jul 23:16\u001b[0m introduction.ipynb\r\n",
      ".\u001b[1;33mr\u001b[31mw\u001b[0m\u001b[38;5;244m-\u001b[33mr\u001b[38;5;244m--\u001b[33mr\u001b[38;5;244m--\u001b[0m \u001b[1;32m1.4\u001b[0m\u001b[32mM\u001b[0m \u001b[1;33mown3d\u001b[0m \u001b[34m 6 Jul 09:40\u001b[0m modern_ciphers.ipynb\r\n",
      "\u001b[1;34md\u001b[33mr\u001b[31mw\u001b[32mx\u001b[0m\u001b[33mr\u001b[38;5;244m-\u001b[32mx\u001b[33mr\u001b[38;5;244m-\u001b[32mx\u001b[0m    \u001b[38;5;244m-\u001b[0m \u001b[1;33mown3d\u001b[0m \u001b[34m 6 Jul 09:27\u001b[0m \u001b[1;34mmodule\u001b[0m\r\n",
      ".\u001b[1;33mr\u001b[31mw\u001b[0m\u001b[38;5;244m-\u001b[33mr\u001b[38;5;244m--\u001b[33mr\u001b[38;5;244m--\u001b[0m  \u001b[1;32m12\u001b[0m\u001b[32mk\u001b[0m \u001b[1;33mown3d\u001b[0m \u001b[34m 9 Jul 00:48\u001b[0m network_security.ipynb\r\n",
      ".\u001b[1;33mr\u001b[31mw\u001b[0m\u001b[38;5;244m-\u001b[33mr\u001b[38;5;244m--\u001b[33mr\u001b[38;5;244m--\u001b[0m  \u001b[1;32m13\u001b[0m\u001b[32mk\u001b[0m \u001b[1;33mown3d\u001b[0m \u001b[34m 6 Jul 11:33\u001b[0m public_key_infrastructure.ipynb\r\n",
      ".\u001b[1;33mr\u001b[31mw\u001b[0m\u001b[38;5;244m-\u001b[33mr\u001b[38;5;244m--\u001b[33mr\u001b[38;5;244m--\u001b[0m  \u001b[1;32m148\u001b[0m \u001b[1;33mown3d\u001b[0m \u001b[34m26 Jun 11:27\u001b[0m \u001b[1;4;33mREADME.md\u001b[0m\r\n",
      ".\u001b[1;33mr\u001b[31mw\u001b[0m\u001b[38;5;244m-\u001b[33mr\u001b[38;5;244m--\u001b[33mr\u001b[38;5;244m--\u001b[0m  \u001b[1;32m11\u001b[0m\u001b[32mk\u001b[0m \u001b[1;33mown3d\u001b[0m \u001b[34m 7 Jul 00:18\u001b[0m secure_channel.ipynb\r\n"
     ]
    }
   ],
   "source": [
    "!exa -l"
   ]
  },
  {
   "cell_type": "markdown",
   "id": "f57c6217",
   "metadata": {},
   "source": [
    "Note that I use `exa` instead of `ls` because it is more convenient for everyday use."
   ]
  },
  {
   "cell_type": "markdown",
   "id": "14d53b19",
   "metadata": {},
   "source": [
    "#### Special permissions\n",
    "##### Set-UID\n",
    "Represented by an `s` replacing the owner's `x` bit, this causes the process' **effective UID** to be the owner's, rather than the user running it.\n",
    "\n",
    "##### Set-GID\n",
    "Represented by an `s` replacing the group's `x` bit, this causes the process' **effective GID** to be the group owner.\n",
    "\n",
    "##### Sticky bit\n",
    "Represented by an `t` replacing the other's `x` bit, if set on a directory, only the owner or root can delete the files in that directory.\n",
    "\n",
    "Note that only the owner or root can change the permission of a file."
   ]
  },
  {
   "cell_type": "markdown",
   "id": "5a940851",
   "metadata": {},
   "source": [
    "A process has its **process credentials**, determined by its **real UID** and **effective UID**.\n",
    "\n",
    "Real UID is inherited from the user who ran the process, which identifies the real owner of the process.\n",
    "\n",
    "When set-UID bit is not set, the effective UID of the process is the real UID.\n",
    "\n",
    "When set-UID bit is set, the effective UID of the process is the file owner's UID."
   ]
  },
  {
   "cell_type": "markdown",
   "id": "3f931cc8",
   "metadata": {},
   "source": [
    "#### Purpose of set-UID\n",
    "Suppose we have a password file, which contains all the user's password.\n",
    "Thus, it makes sense to not make it readable/writable to everyone.\n",
    "\n",
    "However, suppose that we also are required to allow users to change their own passwords.\n",
    "Because the file contains everyone else's passwords, we cannot allow it to be writable to the user, thus we cannot satisfy the above requirement.\n",
    "\n",
    "Hence, `root` can create special program `change_password` which interacts with the password file.\n",
    "This file is made executable by all the users.\n",
    "To allow the password file to be modified when the user runs the program, we set the set-UID bit of the program.\n",
    "\n",
    "With the set-UID bit, the process inherits the UID of `root`, allowing access to the password file in a controlled manner through this program.\n",
    "This allows **temporary privilege escalation** of the user when they run the program."
   ]
  },
  {
   "cell_type": "markdown",
   "id": "3bc62a62",
   "metadata": {},
   "source": [
    "Since the privilege of the user is temporarily escalated, it is important to ensure that there is no vulnerabilities in the program.\n",
    "If the attacker finds a vulnerability, they can use it to perform malicious actions that they otherwise were not able to perform due to insufficient privileges.\n",
    "These are known as **privilege escalation attacks**"
   ]
  },
  {
   "cell_type": "markdown",
   "id": "9df66a80",
   "metadata": {},
   "source": [
    "##### Example"
   ]
  },
  {
   "cell_type": "code",
   "execution_count": 36,
   "id": "554ef4d7",
   "metadata": {},
   "outputs": [
    {
     "name": "stdout",
     "output_type": "stream",
     "text": [
      "[Errno 2] No such file or directory: 'access-control-example'\n",
      "/home/own3d/wellspring/cyber-security/access-control-example\n"
     ]
    }
   ],
   "source": [
    "%cd access-control-example\n",
    "from getpass import getpass"
   ]
  },
  {
   "cell_type": "markdown",
   "id": "78b4fbe7",
   "metadata": {},
   "source": [
    "This is our file structure."
   ]
  },
  {
   "cell_type": "code",
   "execution_count": 37,
   "id": "51f88130",
   "metadata": {},
   "outputs": [
    {
     "name": "stdout",
     "output_type": "stream",
     "text": [
      ".\u001b[1;33mr\u001b[31mw\u001b[0m\u001b[35ms\u001b[33mr\u001b[38;5;244m-\u001b[32mx\u001b[33mr\u001b[38;5;244m-\u001b[32mx\u001b[0m \u001b[1;32m53\u001b[0m\u001b[32mk\u001b[0m root  \u001b[34m10 Jul 11:14\u001b[0m \u001b[1;32mchange_secret_name\u001b[0m\r\n",
      ".\u001b[1;33mr\u001b[31mw\u001b[0m\u001b[38;5;244m-\u001b[33mr\u001b[38;5;244m--\u001b[33mr\u001b[38;5;244m--\u001b[0m \u001b[1;32m359\u001b[0m \u001b[1;33mown3d\u001b[0m \u001b[34m10 Jul 11:14\u001b[0m change_secret_name.py\r\n",
      ".\u001b[1;33mr\u001b[31mw\u001b[0m\u001b[38;5;244m-------\u001b[0m  \u001b[1;32m52\u001b[0m root  \u001b[34m10 Jul 11:19\u001b[0m secret_names.txt\r\n"
     ]
    }
   ],
   "source": [
    "!exa -l"
   ]
  },
  {
   "cell_type": "markdown",
   "id": "8fc59656",
   "metadata": {},
   "source": [
    "Within `secret_names.txt`, there is a list of users and their corresponding secret names.\n",
    "We require that no one is able to peek at the other's secret name, thus the file is not world-readable and not world-writable."
   ]
  },
  {
   "cell_type": "markdown",
   "id": "0b513b5c",
   "metadata": {},
   "source": [
    "(Note that all commands which executes using `sudo` is not supposed to be allowed by the regular user. We need it to display the contents of the file for demonstration)"
   ]
  },
  {
   "cell_type": "code",
   "execution_count": 38,
   "id": "81d7040d",
   "metadata": {},
   "outputs": [
    {
     "name": "stdout",
     "output_type": "stream",
     "text": [
      "········\n",
      "[sudo] password for own3d:  \n",
      "name\tsecret name\n",
      "own3d\t0wn463\n",
      "alice\tdiana\n",
      "bob\tclark\n"
     ]
    }
   ],
   "source": [
    "!echo {getpass()} | sudo -S cat secret_names.txt | sed '1 i\\ '"
   ]
  },
  {
   "cell_type": "code",
   "execution_count": 39,
   "id": "78de7e0b",
   "metadata": {},
   "outputs": [
    {
     "name": "stdout",
     "output_type": "stream",
     "text": [
      "cat: secret_names.txt: Permission denied\r\n"
     ]
    }
   ],
   "source": [
    "!cat secret_names.txt"
   ]
  },
  {
   "cell_type": "markdown",
   "id": "750a8239",
   "metadata": {},
   "source": [
    "Thus, we employ a binary with a set-uid bit set (take note of the set-uid bit in the file permission) to allow controlled access to the `secret_names.txt` file"
   ]
  },
  {
   "cell_type": "markdown",
   "id": "7fff39dd",
   "metadata": {},
   "source": [
    "`change_secret_name` is the compile C binary using `change_secret_name.py` as the source code.\n",
    "We need to compile the Python script into C because the Linux kernel does not inherit set-uid privileges for interpreted scripts, such as Bash and Python."
   ]
  },
  {
   "cell_type": "code",
   "execution_count": 40,
   "id": "3a52d23f",
   "metadata": {},
   "outputs": [
    {
     "name": "stdout",
     "output_type": "stream",
     "text": [
      "import os\r\n",
      "import sys\r\n",
      "import re\r\n",
      "\r\n",
      "SECRET_FILE = 'secret_names.txt'\r\n",
      "\r\n",
      "with open(SECRET_FILE, 'r') as f:\r\n",
      "    data = f.read()\r\n",
      "\r\n",
      "user = os.getenv('USER')\r\n",
      "new_secret = sys.argv[1]\r\n",
      "\r\n",
      "print(f'{user} is changing their secret name to {new_secret}')\r\n",
      "\r\n",
      "new_data = re.sub(rf'{user}\\t.*', rf'{user}\\t{new_secret}', data)\r\n",
      "\r\n",
      "with open(SECRET_FILE, 'w') as f:\r\n",
      "    f.write(new_data)\r\n"
     ]
    }
   ],
   "source": [
    "!cat change_secret_name.py"
   ]
  },
  {
   "cell_type": "markdown",
   "id": "9a1ae7a7",
   "metadata": {},
   "source": [
    "###### Changing secret name\n"
   ]
  },
  {
   "cell_type": "code",
   "execution_count": 41,
   "id": "f20f588c",
   "metadata": {},
   "outputs": [
    {
     "name": "stdout",
     "output_type": "stream",
     "text": [
      "own3d is changing their secret name to new_name\r\n"
     ]
    }
   ],
   "source": [
    "!./change_secret_name new_name"
   ]
  },
  {
   "cell_type": "code",
   "execution_count": 42,
   "id": "26ac08ae",
   "metadata": {},
   "outputs": [
    {
     "name": "stdout",
     "output_type": "stream",
     "text": [
      "········\n",
      "[sudo] password for own3d:  \n",
      "name\tsecret name\n",
      "own3d\tnew_name\n",
      "alice\tdiana\n",
      "bob\tclark\n"
     ]
    }
   ],
   "source": [
    "!echo {getpass()} | sudo -S cat secret_names.txt | sed '1 i\\ '"
   ]
  },
  {
   "cell_type": "markdown",
   "id": "d90b8e22",
   "metadata": {},
   "source": [
    "As we can see, we can use the executable to change the name without having direct root access."
   ]
  },
  {
   "cell_type": "markdown",
   "id": "af6dffe6",
   "metadata": {},
   "source": [
    "###### Vulnerability"
   ]
  },
  {
   "cell_type": "markdown",
   "id": "3a08e17c",
   "metadata": {},
   "source": [
    "However, some keen users may have already seen the vulnerability in the program.\n",
    "It assumed that the user of the executable corresponds to the `USER` variable.\n",
    "However, the `USER` variable can be modified by the caller of the executable, like so."
   ]
  },
  {
   "cell_type": "code",
   "execution_count": 43,
   "id": "650d0e69",
   "metadata": {},
   "outputs": [
    {
     "name": "stdout",
     "output_type": "stream",
     "text": [
      "alice is changing their secret name to enemies_stand\r\n"
     ]
    }
   ],
   "source": [
    "!USER=alice ./change_secret_name enemies_stand"
   ]
  },
  {
   "cell_type": "code",
   "execution_count": 44,
   "id": "e5df0587",
   "metadata": {},
   "outputs": [
    {
     "name": "stdout",
     "output_type": "stream",
     "text": [
      "········\n",
      "[sudo] password for own3d:  \n",
      "name\tsecret name\n",
      "own3d\tnew_name\n",
      "alice\tenemies_stand\n",
      "bob\tclark\n"
     ]
    }
   ],
   "source": [
    "!echo {getpass()} | sudo -S cat secret_names.txt | sed '1 i\\ '"
   ]
  },
  {
   "cell_type": "markdown",
   "id": "4829d305",
   "metadata": {},
   "source": [
    "Thus, I am able to modify `alice`'s secret name even though I am not `alice`."
   ]
  }
 ],
 "metadata": {
  "kernelspec": {
   "display_name": "Python 3",
   "language": "python",
   "name": "python3"
  },
  "language_info": {
   "codemirror_mode": {
    "name": "ipython",
    "version": 3
   },
   "file_extension": ".py",
   "mimetype": "text/x-python",
   "name": "python",
   "nbconvert_exporter": "python",
   "pygments_lexer": "ipython3",
   "version": "3.9.5"
  }
 },
 "nbformat": 4,
 "nbformat_minor": 5
}
