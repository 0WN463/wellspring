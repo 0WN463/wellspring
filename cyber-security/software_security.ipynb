{
 "cells": [
  {
   "cell_type": "markdown",
   "id": "b08e278e",
   "metadata": {
    "deletable": false,
    "editable": false,
    "run_control": {
     "frozen": true
    }
   },
   "source": [
    "# Software security\n",
    "The requirements for a program are:\n",
    "* has to be correct\n",
    "* has to be efficient\n",
    "* has to be secure\n",
    "\n",
    "When a program is able to perform actions outside of its intended behaviour, it can lead to insecurity.\n",
    "\n",
    "## Security issues\n",
    "### Improper implementation\n",
    "When a program is not implemented properly, it can allow attackers to deviate from the programmer's intent.\n",
    "\n",
    "### Unanticipated input\n",
    "When the attacker is able to supply unanticipated input, it can cause the process to:\n",
    "* access sensitive information\n",
    "* deviate from the intended execution path\n",
    "* execute injected code\n",
    "\n",
    "This is a form of privilege escalation."
   ]
  },
  {
   "cell_type": "markdown",
   "id": "c9231e0b",
   "metadata": {
    "deletable": false,
    "editable": false,
    "run_control": {
     "frozen": true
    }
   },
   "source": [
    "Programming languages have a huge wealth of functionality.\n",
    "Not knowing the nuances can lead to subtle implication of functionality.\n",
    "This results in the program doing more than the developer's expected."
   ]
  },
  {
   "cell_type": "markdown",
   "id": "4a722e18",
   "metadata": {
    "deletable": false,
    "editable": false,
    "run_control": {
     "frozen": true
    }
   },
   "source": [
    "## Computer architecture\n",
    "### Code vs Data\n",
    "Modern computer uses the **Von Neumann computer architecture**.\n",
    "This means that code and data are stored together in memory, thus there is no clear distinction between code and data.\n",
    "This is unlike the **Harvard architecture** which has separate hardware for storing code and data.\n",
    "\n",
    "Thus, this give rise to implications which allows programs to be tricked into treating data as code, which is the basis for **code-injection attacks**."
   ]
  },
  {
   "cell_type": "markdown",
   "id": "36cce2c9",
   "metadata": {
    "deletable": false,
    "editable": false,
    "run_control": {
     "frozen": true
    }
   },
   "source": [
    "### Attacks on software\n",
    "#### Integer overflow\n",
    "\n",
    "Integer arithmetic in most programming languages are actually modulo arithmetic.\n",
    "Because integer are (usually) stored as a fix number of bits, there is a maximum size that the integer can hold.\n",
    "If the datatype is made to hold a value larger than its maximum size, it will overflow.\n",
    "In some languages, it will throw an explicit error; however in most languages, the value will implicitly wrap around.\n",
    "\n",
    "(Note that because Python do not have fix size integer primitives, our discussions will not be referring to Python)\n",
    "\n",
    "For example, if the datatype has size of 8 bits (1 byte), then the range of values it can take as an unsigned integer would be 0-255.\n",
    "Now suppose that `x=255`. If we increment `x` by 5, then we get `x=4`, because it wrapped around back to 0 when we increment it by 1, and we further increment it 4 times.\n",
    "This causes the condition that `x < x + 1` to be false at this boundary condition.\n",
    "If the programmer made this assumption when developing the program, this can lead to a vulnerability."
   ]
  },
  {
   "cell_type": "markdown",
   "id": "1deff5e6",
   "metadata": {
    "deletable": false,
    "editable": false,
    "run_control": {
     "frozen": true
    }
   },
   "source": [
    "Thus, consider the following banking system.\n",
    "The system allows the user to draw funds up to a certain limit, before further withdrawals are denied."
   ]
  },
  {
   "cell_type": "code",
   "execution_count": 1,
   "id": "fa497938",
   "metadata": {
    "deletable": false,
    "editable": false,
    "run_control": {
     "frozen": true
    }
   },
   "outputs": [
    {
     "name": "stdout",
     "output_type": "stream",
     "text": [
      "/home/own3d/wellspring/cyber-security/software-security-example\n"
     ]
    }
   ],
   "source": [
    "%cd software-security-example"
   ]
  },
  {
   "cell_type": "code",
   "execution_count": 2,
   "id": "529bf7a7",
   "metadata": {
    "deletable": false,
    "editable": false,
    "run_control": {
     "frozen": true
    }
   },
   "outputs": [
    {
     "name": "stdout",
     "output_type": "stream",
     "text": [
      "#include <stdio.h>\r\n",
      "\r\n",
      "int process_withdraw(int previous_withdraw_amt, int requested_amt, int withdraw_limit) {\r\n",
      "    if (previous_withdraw_amt + requested_amt < withdraw_limit)\r\n",
      "        return requested_amt;\r\n",
      "    else\r\n",
      "        return 0;\r\n",
      "}\r\n",
      "\r\n",
      "int main(int argc, char *argv[])  {\r\n",
      "   if(argc != 2) {\r\n",
      "   \tprintf(\"Wrong number of arguments.\\n\");\r\n",
      "\treturn 1;\r\n",
      "   }\r\n",
      "   \r\n",
      "   int requested_amt;\r\n",
      "   sscanf(argv[1], \"%d\", &requested_amt);\r\n",
      "\r\n",
      "   int previous_withdraw_amt = 80;\r\n",
      "   int WITHDRAW_LIMIT = 100;\r\n",
      "\r\n",
      "   printf(\"You have previously withdrawn $%d\\n\", previous_withdraw_amt);\r\n",
      "   printf(\"You have requested to withdraw $%d\\n\", requested_amt);\r\n",
      "   \r\n",
      "   int payout = process_withdraw(previous_withdraw_amt, requested_amt, WITHDRAW_LIMIT);\r\n",
      "   \r\n",
      "   if (payout > 0)\r\n",
      "      printf(\"Here is your $%d. Have a nice day!\\n\", payout);\r\n",
      "   else\r\n",
      "      printf(\"Sorry, the requested amount is beyond the limit\\n\");\r\n",
      "}\r\n"
     ]
    }
   ],
   "source": [
    "!cat withdraw.c"
   ]
  },
  {
   "cell_type": "code",
   "execution_count": 3,
   "id": "4aff593e",
   "metadata": {
    "deletable": false,
    "editable": false,
    "run_control": {
     "frozen": true
    }
   },
   "outputs": [
    {
     "name": "stdout",
     "output_type": "stream",
     "text": [
      "You have previously withdrawn $80\r\n",
      "You have requested to withdraw $10\r\n",
      "Here is your $10. Have a nice day!\r\n"
     ]
    }
   ],
   "source": [
    "!./withdraw 10"
   ]
  },
  {
   "cell_type": "markdown",
   "id": "920b70bd",
   "metadata": {
    "deletable": false,
    "editable": false,
    "run_control": {
     "frozen": true
    }
   },
   "source": [
    "Since we have withdrawn \\\\$80, we can still withdraw up to \\\\$20, thus the above transaction works."
   ]
  },
  {
   "cell_type": "code",
   "execution_count": 4,
   "id": "670f82cc",
   "metadata": {
    "deletable": false,
    "editable": false,
    "run_control": {
     "frozen": true
    }
   },
   "outputs": [
    {
     "name": "stdout",
     "output_type": "stream",
     "text": [
      "You have previously withdrawn $80\r\n",
      "You have requested to withdraw $30\r\n",
      "Sorry, the requested amount is beyond the limit\r\n"
     ]
    }
   ],
   "source": [
    "!./withdraw 30"
   ]
  },
  {
   "cell_type": "markdown",
   "id": "5921a21e",
   "metadata": {
    "deletable": false,
    "editable": false,
    "run_control": {
     "frozen": true
    }
   },
   "source": [
    "As we can see, we cannot withdraw beyond our limit, or so it seem."
   ]
  },
  {
   "cell_type": "code",
   "execution_count": 5,
   "id": "8849f701",
   "metadata": {
    "deletable": false,
    "editable": false,
    "run_control": {
     "frozen": true
    }
   },
   "outputs": [
    {
     "name": "stdout",
     "output_type": "stream",
     "text": [
      "You have previously withdrawn $80\r\n",
      "You have requested to withdraw $2147483647\r\n",
      "Here is your $2147483647. Have a nice day!\r\n"
     ]
    }
   ],
   "source": [
    "!./withdraw 2147483647"
   ]
  },
  {
   "cell_type": "markdown",
   "id": "adb89a92",
   "metadata": {
    "deletable": false,
    "editable": false,
    "run_control": {
     "frozen": true
    }
   },
   "source": [
    "As we can see, by requesting a large value, we get `previous_withdraw_amt + requested_amt = 80 + 2147483647 = 79`, which is less than the withdraw limit of 100.\n",
    "Keen readers would recognize the value of `2147483647` to be the maximum an signed integer can hold using 32 bits.\n",
    "\n",
    "Thus, we can bypass the check and withdraw more than the allowed amount."
   ]
  },
  {
   "cell_type": "markdown",
   "id": "8b0b697f",
   "metadata": {
    "deletable": false,
    "editable": false,
    "run_control": {
     "frozen": true
    }
   },
   "source": [
    "#### Inconsistent data string representation\n",
    "When different parts of the program adopt different data representation, it could lead to a vulnerability.\n",
    "\n",
    "We have seen one such vulnerability in [null-byte injection of domain](./public_key_infrastructure.ipynb#null-byte-injection), which happened when the verifying of certificate uses non-null byte terminated strings while the address checking uses null byte terminated strings.\n",
    "\n",
    "We can also consider the following system.\n",
    "The system stores each user's documents in their own home directory.\n",
    "It exposes a public interface where users are allowed to query for files using their file names.\n",
    "The user's home directory will be searched for the desired file."
   ]
  },
  {
   "cell_type": "code",
   "execution_count": 6,
   "id": "b799eb0c",
   "metadata": {
    "deletable": false,
    "editable": false,
    "run_control": {
     "frozen": true
    }
   },
   "outputs": [],
   "source": [
    "from urllib.parse import unquote\n",
    "\n",
    "BASE_URL = '/home'\n",
    "USER = 'alice'\n",
    "\n",
    "def _get_file(base_url, user, file_name):\n",
    "    file_name = unquote(file_name)\n",
    "    target_file = f'{base_url}/{user}/{file_name}'\n",
    "    print(f'Giving the user the file: {target_file}')\n",
    "\n",
    "alice_get_file = lambda f: _get_file(BASE_URL, USER, f)"
   ]
  },
  {
   "cell_type": "markdown",
   "id": "eacbc582",
   "metadata": {
    "deletable": false,
    "editable": false,
    "run_control": {
     "frozen": true
    }
   },
   "source": [
    "Note the use of `unquote`.\n",
    "Because the file name may be sent via a query parameter encoded in the URL, and the file name may contain special characters that are not allowed in URL, the file name may be \"percentage encoded\" to represent these illegal characters.\n",
    "\n",
    "For example, suppose the user requests the file `e=mc.txt`, the encoded representation that is sent to the system will be `e%3Dmc2.txt`, because `=` is a reserved character in URL."
   ]
  },
  {
   "cell_type": "code",
   "execution_count": 7,
   "id": "fd6b11bd",
   "metadata": {
    "deletable": false,
    "editable": false,
    "run_control": {
     "frozen": true
    }
   },
   "outputs": [
    {
     "name": "stdout",
     "output_type": "stream",
     "text": [
      "Giving the user the file: /home/alice/note.txt\n"
     ]
    }
   ],
   "source": [
    "alice_get_file('note.txt')"
   ]
  },
  {
   "cell_type": "markdown",
   "id": "5005e280",
   "metadata": {
    "deletable": false,
    "editable": false,
    "run_control": {
     "frozen": true
    }
   },
   "source": [
    "Typical usage involves the user requesting the file name, and the system returning the file within their home directory."
   ]
  },
  {
   "cell_type": "code",
   "execution_count": 8,
   "id": "882620fe",
   "metadata": {
    "deletable": false,
    "editable": false,
    "run_control": {
     "frozen": true
    }
   },
   "outputs": [
    {
     "name": "stdout",
     "output_type": "stream",
     "text": [
      "Giving the user the file: /home/alice/../bob/note.txt\n"
     ]
    }
   ],
   "source": [
    "alice_get_file('../bob/note.txt')"
   ]
  },
  {
   "cell_type": "markdown",
   "id": "b1045e0d",
   "metadata": {
    "deletable": false,
    "editable": false,
    "run_control": {
     "frozen": true
    }
   },
   "source": [
    "However, notice that the user can inject `../` to change the directory that the system is returning.\n",
    "In UNIX systems, `../` refers to the parent directory, thus the file path will resolve to `/home/bob/notes.txt`.\n",
    "Thus, with this, Alice can illegally obtain Bob's documents."
   ]
  },
  {
   "cell_type": "markdown",
   "id": "539bc39f",
   "metadata": {
    "deletable": false,
    "editable": false,
    "run_control": {
     "frozen": true
    }
   },
   "source": [
    "Thus, a programmer may implement a sanitization function which ensures that `../` is not part of the file name requested."
   ]
  },
  {
   "cell_type": "code",
   "execution_count": 9,
   "id": "b80a2d61",
   "metadata": {
    "deletable": false,
    "editable": false,
    "run_control": {
     "frozen": true
    }
   },
   "outputs": [],
   "source": [
    "from urllib.parse import unquote\n",
    "\n",
    "BASE_URL = '/home'\n",
    "USER = 'alice'\n",
    "\n",
    "def _sanitized_get_file(base_url, user, file_name):\n",
    "    if '../' in file_name:\n",
    "        print('\"../\" detected in file name')\n",
    "        return\n",
    "    file_name = unquote(file_name)\n",
    "    target_file = f'{base_url}/{user}/{file_name}'\n",
    "    print(f'Giving the user the file: {target_file}')\n",
    "\n",
    "alice_get_file = lambda f: _sanitized_get_file(BASE_URL, USER, f)"
   ]
  },
  {
   "cell_type": "code",
   "execution_count": 10,
   "id": "1c584bd5",
   "metadata": {
    "deletable": false,
    "editable": false,
    "run_control": {
     "frozen": true
    }
   },
   "outputs": [
    {
     "name": "stdout",
     "output_type": "stream",
     "text": [
      "\"../\" detected in file name\n"
     ]
    }
   ],
   "source": [
    "alice_get_file('../bob/note.txt')"
   ]
  },
  {
   "cell_type": "markdown",
   "id": "086849b5",
   "metadata": {
    "deletable": false,
    "editable": false,
    "run_control": {
     "frozen": true
    }
   },
   "source": [
    "As we can see, the system (seemingly) works.\n",
    "However, consider the following:"
   ]
  },
  {
   "cell_type": "code",
   "execution_count": 11,
   "id": "3c06093e",
   "metadata": {
    "deletable": false,
    "editable": false,
    "run_control": {
     "frozen": true
    }
   },
   "outputs": [
    {
     "name": "stdout",
     "output_type": "stream",
     "text": [
      "Giving the user the file: /home/alice/../bob/note.txt\n",
      "Giving the user the file: /home/alice/../bob/note.txt\n"
     ]
    }
   ],
   "source": [
    "alice_get_file('%2e./bob/note.txt')\n",
    "alice_get_file('..%2fbob/note.txt')"
   ]
  },
  {
   "cell_type": "markdown",
   "id": "f131e7f7",
   "metadata": {
    "deletable": false,
    "editable": false,
    "run_control": {
     "frozen": true
    }
   },
   "source": [
    "Since the input is represented differently from the path used to retrieve the files, this allowed the attacker to bypass the sanitization by supplying percentage encoded strings which were not picked up by the sanitization process."
   ]
  },
  {
   "cell_type": "markdown",
   "id": "1bce34b5",
   "metadata": {
    "deletable": false,
    "editable": false,
    "run_control": {
     "frozen": true
    }
   },
   "source": [
    "#### Buffer overflow"
   ]
  },
  {
   "cell_type": "markdown",
   "id": "6bcbef99",
   "metadata": {
    "deletable": false,
    "editable": false,
    "run_control": {
     "frozen": true
    }
   },
   "source": [
    "##### Background\n",
    "Refer to [computer organization](../computer-organization/stack.ipynb).\n",
    "\n",
    "In C/C++, memory is managed by the programmer, thus illegal memory is allowed.\n",
    "Notice that the variables are stored sequentially on the stack, thus other variables can be access through an variable higher on the stack by access outside of the bounds of the memory.\n",
    "This allows variables to be illegally read or written."
   ]
  },
  {
   "cell_type": "markdown",
   "id": "4ca5586f",
   "metadata": {
    "deletable": false,
    "editable": false,
    "run_control": {
     "frozen": true
    }
   },
   "source": [
    "Consider the following code:"
   ]
  },
  {
   "cell_type": "code",
   "execution_count": 12,
   "id": "bbb80d19",
   "metadata": {
    "deletable": false,
    "editable": false,
    "run_control": {
     "frozen": true
    }
   },
   "outputs": [
    {
     "name": "stdout",
     "output_type": "stream",
     "text": [
      "#include <stdio.h>\r\n",
      "\r\n",
      "void change_value(char index, char value) {\r\n",
      "\tchar arr[10];\r\n",
      "\tint b = 100;\r\n",
      "\tprintf(\"The value of b is %d\\n\", b);\t\r\n",
      "\tprintf(\"The return address is %p\\n\", __builtin_return_address(0));\r\n",
      "\t\r\n",
      "\tprintf(\"\\nChanging index %d of a to %d\\n\\n\", index, value);\r\n",
      "\r\n",
      "\tarr[index] = value;\r\n",
      "\t\r\n",
      "\tprintf(\"The value of b is %d\\n\", b);\t\r\n",
      "\tprintf(\"The return address is %p\\n\", __builtin_return_address(0));\r\n",
      "}\r\n",
      "\r\n",
      "\r\n",
      "int main(int argc, char *argv[])  {\r\n",
      "\tif(argc != 3) {\r\n",
      "   \t\tprintf(\"Wrong number of arguments.\\n\");\r\n",
      "\t\treturn 1;\r\n",
      "   \t}\r\n",
      "\r\n",
      "\tint index, value;\r\n",
      "\tsscanf(argv[1], \"%d\", &index);\r\n",
      "\tsscanf(argv[2], \"%d\", &value);\r\n",
      "\r\n",
      "\tchange_value(index, value);\t\r\n",
      "}\r\n"
     ]
    }
   ],
   "source": [
    "!cat buffer_overflow.c"
   ]
  },
  {
   "cell_type": "markdown",
   "id": "e4b4d84c",
   "metadata": {
    "deletable": false,
    "editable": false,
    "run_control": {
     "frozen": true
    }
   },
   "source": [
    "Note that we use `char` for the `a` and `b` so that the variables are neatly aligned on the stack.\n",
    "Notice that since `b` is below `a` in the stack, we even though we are modifying variable `a`, it is possible for use to modify variable `b` as well, as per below."
   ]
  },
  {
   "cell_type": "code",
   "execution_count": 13,
   "id": "bb413ca3",
   "metadata": {
    "deletable": false,
    "editable": false,
    "run_control": {
     "frozen": true
    }
   },
   "outputs": [
    {
     "name": "stdout",
     "output_type": "stream",
     "text": [
      "The value of b is 100\r\n",
      "The return address is 0x55a60280527d\r\n",
      "\r\n",
      "Changing index 10 of a to 42\r\n",
      "\r\n",
      "The value of b is 42\r\n",
      "The return address is 0x55a60280527d\r\n"
     ]
    }
   ],
   "source": [
    "!./buffer_overflow 10 42"
   ]
  },
  {
   "cell_type": "markdown",
   "id": "6ec4672f",
   "metadata": {
    "deletable": false,
    "editable": false,
    "run_control": {
     "frozen": true
    }
   },
   "source": [
    "Notice that the value of `b` is now 42."
   ]
  },
  {
   "cell_type": "markdown",
   "id": "f3dc6d51",
   "metadata": {
    "deletable": false,
    "editable": false,
    "run_control": {
     "frozen": true
    }
   },
   "source": [
    "From the background knowledge of how variables are stored, readers may have noticed that the return address is also stored on the stack.\n",
    "Thus, it is possible for attackers to modify the return address by writing over it, thus causing the function to jump to a different function rather than the original caller.\n",
    "This attack is called **stack smashing**."
   ]
  },
  {
   "cell_type": "code",
   "execution_count": 14,
   "id": "3badd991",
   "metadata": {
    "deletable": false,
    "editable": false,
    "run_control": {
     "frozen": true
    }
   },
   "outputs": [
    {
     "name": "stdout",
     "output_type": "stream",
     "text": [
      "The value of b is 100\n",
      "The return address is 0x556c3ce2127d\n",
      "\n",
      "Changing index 22 of a to 0\n",
      "\n",
      "The value of b is 100\n",
      "The return address is 0x556c3ce21200\n",
      "PROGRAM CRASHED\n"
     ]
    }
   ],
   "source": [
    "!./buffer_overflow 22 0 || echo \"PROGRAM CRASHED\""
   ]
  },
  {
   "cell_type": "markdown",
   "id": "ba58644b",
   "metadata": {
    "deletable": false,
    "editable": false,
    "run_control": {
     "frozen": true
    }
   },
   "source": [
    "(Note that the program was actually stopped with a `segmentation fault`, but the Jupyter environment silenced it)"
   ]
  },
  {
   "cell_type": "markdown",
   "id": "d38eadc3",
   "metadata": {
    "deletable": false,
    "editable": false,
    "run_control": {
     "frozen": true
    }
   },
   "source": [
    "As we can see, we have overwritten the last 2 bytes of the return address to be `00` instead of `7d`."
   ]
  },
  {
   "cell_type": "markdown",
   "id": "399ab7bf",
   "metadata": {
    "deletable": false,
    "editable": false,
    "run_control": {
     "frozen": true
    }
   },
   "source": [
    "This will lead to a segmentation fault because the program will now jump to an invalid address after the function completes.\n",
    "This means that it will start reading values from the modified address onwards as instructions and perform them.\n",
    "If the attacker is able to rewrite certain addresses with their malicious instructions (**shell code**), and also rewrite the return address of the function to point to their **injected shell code**, then they can cause the program to perform their desired operations.\n",
    "\n",
    "This can be combined with [privilege escalation from the set-uid bit](./access_control.ipynb#set-uid) to perform actions that they otherwise are unable to."
   ]
  },
  {
   "cell_type": "markdown",
   "id": "58539a87",
   "metadata": {
    "deletable": false,
    "editable": false,
    "run_control": {
     "frozen": true
    }
   },
   "source": [
    "One might wonder whether the vulnerability is too narrow an application, because it can only be performed if we allow the attacker to choose which part of the array to modify.\n",
    "However, consider the common C function `strcpy`.\n",
    "The end of a string in C is signified by a null byte.\n",
    "Thus, `strcpy` will copy the string into the buffer, until it finds a null byte.\n",
    "However, attackers can send arbitrarily long strings (by not sending a null byte) as input into the program, leading to writing outside of the allocated memory of the array.\n",
    "Hence, it becomes a vulnerability that the attacker can exploit using the method described previously."
   ]
  },
  {
   "cell_type": "markdown",
   "id": "5e115aeb",
   "metadata": {
    "deletable": false,
    "editable": false,
    "run_control": {
     "frozen": true
    }
   },
   "source": [
    "#### SQL injection"
   ]
  },
  {
   "cell_type": "markdown",
   "id": "9052bac3",
   "metadata": {
    "deletable": false,
    "editable": false,
    "run_control": {
     "frozen": true
    }
   },
   "source": [
    "Suppose we have the following system, where the program only allows access to users who can provide a valid user name and secret name pair.\n",
    "The users are stored in a SQL database, and the list of users are retrieved via SQL commands.\n",
    "If the system finds a user with a `(name, secret_name)` pair that matches one of the user, they will authenticate the entity with that identity."
   ]
  },
  {
   "cell_type": "code",
   "execution_count": 15,
   "id": "d4656ec5",
   "metadata": {
    "deletable": false,
    "editable": false,
    "run_control": {
     "frozen": true
    }
   },
   "outputs": [],
   "source": [
    "import sqlite3\n",
    "from sqlite3 import Error\n",
    "\n",
    "class GateKeeper:\n",
    "    def __init__(self):\n",
    "        def create_connection(path):\n",
    "            connection = sqlite3.connect(path)\n",
    "        \n",
    "            return connection\n",
    "    \n",
    "        self.connection = create_connection('./users.sqlite')\n",
    "\n",
    "    def authenticate(self, name, secret_name):\n",
    "        query = f\"SELECT * FROM users WHERE name='{name}' AND secret_name='{secret_name}'\"\n",
    "        print(f\"Executing query: {query}\")\n",
    "        try:\n",
    "            cursor = self.connection.cursor()\n",
    "            cursor.execute(query)\n",
    "            user = cursor.fetchone()\n",
    "        except Error as e:\n",
    "            print(f\"The error '{e}' occurred\")\n",
    "            return\n",
    "\n",
    "        if not user:\n",
    "            print(\"Name and secret name does not match. Villains are not allowed!\")\n",
    "        else:\n",
    "            _, name, secret_name = user\n",
    "            print(f\"Name and secret name matches. Welcome to the club, {name} (alias {secret_name}).\")\n",
    "\n",
    "    def dump_data(self):        \n",
    "        cursor = self.connection.cursor()\n",
    "        cursor.execute(\"SELECT * FROM USERS\")\n",
    "        users = cursor.fetchall()\n",
    "        \n",
    "        for user in users:\n",
    "            print(user)\n",
    "\n",
    "gate_keeper = GateKeeper()"
   ]
  },
  {
   "cell_type": "code",
   "execution_count": 16,
   "id": "53532c5d",
   "metadata": {
    "deletable": false,
    "editable": false,
    "run_control": {
     "frozen": true
    }
   },
   "outputs": [
    {
     "name": "stdout",
     "output_type": "stream",
     "text": [
      "(1, 'Alice', 'Diana')\n",
      "(2, 'Bob', 'Clark')\n",
      "(3, '0WN3D', '0WN463')\n"
     ]
    }
   ],
   "source": [
    "gate_keeper.dump_data()"
   ]
  },
  {
   "cell_type": "markdown",
   "id": "f9cd2b91",
   "metadata": {
    "deletable": false,
    "editable": false,
    "run_control": {
     "frozen": true
    }
   },
   "source": [
    "The above is the list of users currently in the database."
   ]
  },
  {
   "cell_type": "code",
   "execution_count": 17,
   "id": "e83886fd",
   "metadata": {
    "deletable": false,
    "editable": false,
    "run_control": {
     "frozen": true
    }
   },
   "outputs": [
    {
     "name": "stdout",
     "output_type": "stream",
     "text": [
      "Executing query: SELECT * FROM users WHERE name='0WN3D' AND secret_name='0WN463'\n",
      "Name and secret name matches. Welcome to the club, 0WN3D (alias 0WN463).\n"
     ]
    }
   ],
   "source": [
    "input_name, input_secret_name = \"0WN3D\", \"0WN463\"\n",
    "gate_keeper.authenticate(input_name, input_secret_name)"
   ]
  },
  {
   "cell_type": "code",
   "execution_count": 18,
   "id": "8954a974",
   "metadata": {
    "deletable": false,
    "editable": false,
    "run_control": {
     "frozen": true
    }
   },
   "outputs": [
    {
     "name": "stdout",
     "output_type": "stream",
     "text": [
      "Executing query: SELECT * FROM users WHERE name='Hacker' AND secret_name='pwner_1337'\n",
      "Name and secret name does not match. Villains are not allowed!\n"
     ]
    }
   ],
   "source": [
    "input_name, input_secret_name = \"Hacker\", \"pwner_1337\"\n",
    "gate_keeper.authenticate(input_name, input_secret_name)"
   ]
  },
  {
   "cell_type": "markdown",
   "id": "e6ba56f9",
   "metadata": {
    "deletable": false,
    "editable": false,
    "run_control": {
     "frozen": true
    }
   },
   "source": [
    "As we can see, valid users are allowed while invalid users are denied, or so it seems."
   ]
  },
  {
   "cell_type": "markdown",
   "id": "c092d640",
   "metadata": {
    "deletable": false,
    "editable": false,
    "run_control": {
     "frozen": true
    }
   },
   "source": [
    "Notice that to determine the query, the user's input is directly substituted into the command.\n",
    "Suppose what happens if the user's input contains a `'`, for instance `' something something` for the name field.\n",
    "The resultant SQL command ran would be `SELECT * FROM users WHERE name=''something something AND secret_name='SOME_SECRET'`"
   ]
  },
  {
   "cell_type": "code",
   "execution_count": 19,
   "id": "3140f8df",
   "metadata": {
    "deletable": false,
    "editable": false,
    "run_control": {
     "frozen": true
    }
   },
   "outputs": [
    {
     "name": "stdout",
     "output_type": "stream",
     "text": [
      "Executing query: SELECT * FROM users WHERE name=''something something' AND secret_name='SOME_SECRET'\n",
      "The error 'near \"something\": syntax error' occurred\n"
     ]
    }
   ],
   "source": [
    "input_name, input_secret_name = \"'something something\", \"SOME_SECRET\"\n",
    "gate_keeper.authenticate(input_name, input_secret_name)"
   ]
  },
  {
   "cell_type": "markdown",
   "id": "9047a1ee",
   "metadata": {
    "deletable": false,
    "editable": false,
    "run_control": {
     "frozen": true
    }
   },
   "source": [
    "Notice that the resultant SQL command is invalid, thus causing an error.\n",
    "This is an indication that we are able to modify the underlying SQL command.\n",
    "Now, suppose that the attacker sets the name field to be `' OR 1=1 --`.\n",
    "\n",
    "\n",
    "The resultant SQL command will be: \n",
    "```\n",
    "SELECT * FROM users WHERE name='' OR 1=1 --' AND secret_name='SOME_SECRET'\n",
    "```\n",
    "\n",
    "In SQL, `--` symbolizes that the characters after that are comments, thus the functional command is actually:\n",
    "```\n",
    "SELECT * FROM users WHERE name='' OR 1=1\n",
    "```\n",
    "\n",
    "The `--` is there to truncate further SQL statements that were part of the original SQL template, because the further part is likely to trigger a syntax error.\n",
    "\n",
    "Now, notice that in the SQL statement, we are checking if the name is blank, which is false for all users in the system.\n",
    "However, we perform an `OR` operation against `1=1`, which is always true.\n",
    "Thus, the resultant statement is always true for all users.\n",
    "Hence, we can trick the system into thinking we provided credentials that matched one of the users."
   ]
  },
  {
   "cell_type": "code",
   "execution_count": 20,
   "id": "17b4fc00",
   "metadata": {
    "deletable": false,
    "editable": false,
    "run_control": {
     "frozen": true
    },
    "scrolled": true
   },
   "outputs": [
    {
     "name": "stdout",
     "output_type": "stream",
     "text": [
      "Executing query: SELECT * FROM users WHERE name='' OR 1=1 --' AND secret_name='SOME_SECRET'\n",
      "Name and secret name matches. Welcome to the club, Alice (alias Diana).\n"
     ]
    }
   ],
   "source": [
    "input_name, input_secret_name = \"' OR 1=1 --\", \"SOME_SECRET\"\n",
    "gate_keeper.authenticate(input_name, input_secret_name)"
   ]
  },
  {
   "cell_type": "markdown",
   "id": "2058882c",
   "metadata": {
    "deletable": false,
    "editable": false,
    "run_control": {
     "frozen": true
    }
   },
   "source": [
    "Thus, we have authenticated at an endpoint without knowing the credentials.\n"
   ]
  },
  {
   "cell_type": "markdown",
   "id": "019466a5",
   "metadata": {
    "deletable": false,
    "editable": false,
    "run_control": {
     "frozen": true
    }
   },
   "source": [
    "Below is a more secure implementation of the class.\n",
    "Note that we use special `cursor.execute` which allows substitution without a risk of injection."
   ]
  },
  {
   "cell_type": "code",
   "execution_count": 21,
   "id": "4cbd26a3",
   "metadata": {
    "deletable": false,
    "editable": false,
    "run_control": {
     "frozen": true
    }
   },
   "outputs": [],
   "source": [
    "import sqlite3\n",
    "from sqlite3 import Error\n",
    "\n",
    "class GateKeeper:\n",
    "    def __init__(self):\n",
    "        def create_connection(path):\n",
    "            connection = sqlite3.connect(path)\n",
    "        \n",
    "            return connection\n",
    "    \n",
    "        self.connection = create_connection('./users.sqlite')\n",
    "\n",
    "    def authenticate(self, name, secret_name):\n",
    "        query = f\"SELECT * FROM users WHERE name=? AND secret_name=?\"\n",
    "        print(f\"Executing query: {query}\")\n",
    "        try:\n",
    "            cursor = self.connection.cursor()\n",
    "            ## Main difference is that we use special format strings for SQL query\n",
    "            ## rather than default Python implementation\n",
    "            cursor.execute(query, [name, secret_name])\n",
    "            user = cursor.fetchone()\n",
    "        except Error as e:\n",
    "            print(f\"The error '{e}' occurred\")\n",
    "            return\n",
    "\n",
    "        if not user:\n",
    "            print(\"Name and secret name does not match. Villains are not allowed!\")\n",
    "        else:\n",
    "            _, name, secret_name = user\n",
    "            print(f\"Name and secret name matches. Welcome to the club, {name} (alias {secret_name}).\")\n",
    "\n",
    "    def dump_data(self):        \n",
    "        cursor = self.connection.cursor()\n",
    "        cursor.execute(\"SELECT * FROM USERS\")\n",
    "        users = cursor.fetchall()\n",
    "        \n",
    "        for user in users:\n",
    "            print(user)\n",
    "\n",
    "gate_keeper = GateKeeper()"
   ]
  },
  {
   "cell_type": "code",
   "execution_count": 22,
   "id": "788b84e5",
   "metadata": {
    "deletable": false,
    "editable": false,
    "run_control": {
     "frozen": true
    },
    "scrolled": true
   },
   "outputs": [
    {
     "name": "stdout",
     "output_type": "stream",
     "text": [
      "Executing query: SELECT * FROM users WHERE name=? AND secret_name=?\n",
      "Name and secret name does not match. Villains are not allowed!\n",
      "\n",
      "Executing query: SELECT * FROM users WHERE name=? AND secret_name=?\n",
      "Name and secret name matches. Welcome to the club, Alice (alias Diana).\n"
     ]
    }
   ],
   "source": [
    "input_name, input_secret_name = \"' OR 1=1 --\", \"SOME_SECRET\"\n",
    "gate_keeper.authenticate(input_name, input_secret_name)\n",
    "print()\n",
    "input_name, input_secret_name = \"Alice\", \"Diana\"\n",
    "gate_keeper.authenticate(input_name, input_secret_name)"
   ]
  },
  {
   "cell_type": "markdown",
   "id": "476a18ad",
   "metadata": {
    "deletable": false,
    "editable": false,
    "run_control": {
     "frozen": true
    }
   },
   "source": [
    "As we can see, SQL injection is now prevented."
   ]
  },
  {
   "cell_type": "markdown",
   "id": "255fec0b",
   "metadata": {
    "deletable": false,
    "editable": false,
    "run_control": {
     "frozen": true
    }
   },
   "source": [
    "#### Undocumented access points\n",
    "Programmers may include **undocumented access points for various reasons**:\n",
    "* Debugging purposes\n",
    "* For fun and publicity, aka \"for the lawlz\"\n",
    "* Malicious intent due to unhappiness\n",
    "\n",
    "For example, debugging mode or authentication bypass can be included as part of the program.\n",
    "These access points can be access via special combination of input, such as a certain combination of keys or a certain type of string input.\n",
    "\n",
    "However, these access points can serve as **backdoors** for attackers if they are discovered.\n",
    "A **backdoor** is a covert method of bypassing authentication.\n",
    "\n"
   ]
  },
  {
   "cell_type": "markdown",
   "id": "dff9b80e",
   "metadata": {
    "deletable": false,
    "editable": false,
    "run_control": {
     "frozen": true
    }
   },
   "source": [
    "### Preventive measures\n",
    "Note that because it is inevitable that programmers make implementation mistakes, there is no \"solution\" per se to the issue.\n",
    "However, there are a number of preventive measures that programmers can take to make their software more secure.\n",
    "\n",
    "#### Input validation/filtering\n",
    "From the above cases, we have seen that many issues stems from unexpected input being passed into the program.\n",
    "Thus, we can perform **input validation**, and reject inputs if they do not follow our specified format.\n",
    "\n",
    "##### Issues\n",
    "However, as discussed previously, it is difficult to ensure that filtering do not omit any malicious payloads.\n",
    "Hence, a filter that blocks all bad inputs while accepting all legitimate input is difficult to design.\n",
    "\n",
    "Thus, there are 2 general approaches to filtering:\n",
    "* White list\n",
    "    * Certain inputs are considered \"safe\".\n",
    "    Thus, we only allow these safe inputs and rejecting all others\n",
    "    * Some legitimate inputs may be rejected\n",
    "    Thus, there are 2 general approaches to filtering:\n",
    "* Black list\n",
    "    * Certain inputs are considered \"dangerous\" (*eg* \"./*\\\\$').\n",
    "    Thus, we reject these dangerous inputs and accept the rest.\n",
    "    * Some malicious inputs may be accepted"
   ]
  },
  {
   "cell_type": "markdown",
   "id": "b7e3b6b0",
   "metadata": {
    "deletable": false,
    "editable": false,
    "run_control": {
     "frozen": true
    }
   },
   "source": [
    "#### Using safer functions\n",
    "For functions that are considered unsafe, it is likely that there is a safer variant available.\n",
    "\n",
    "For example, the safer alternative to `strcpy` would be `strncpy`, which accepts another argument `n` that decides that it will only copy that many bytes.\n",
    "This helps prevent buffer overflow.\n",
    "\n",
    "(However, note that it does not mean that it is completely safe, if the attacker has the ability to modify the variable `n`)"
   ]
  },
  {
   "cell_type": "markdown",
   "id": "fc2893f7",
   "metadata": {
    "deletable": false,
    "editable": false,
    "run_control": {
     "frozen": true
    }
   },
   "source": [
    "Another example would the one shown in the SQL injection example, where we treated the format string in a more secure way."
   ]
  },
  {
   "cell_type": "markdown",
   "id": "244c49b8",
   "metadata": {
    "deletable": false,
    "editable": false,
    "run_control": {
     "frozen": true
    }
   },
   "source": [
    "#### Bounds checking\n",
    "More modern programming languages automatically performs bounds checking.\n",
    "Thus, they will throw an error when memory outside of the intended range is accessed, rather than implicitly allowing it.\n",
    "Even though the checks adds overhead to the program, many found that it is worth preventing buffer overflows.\n",
    "\n",
    "#### Type checking\n",
    "Modern languages also perform type checking to ensure that the variable types matches the values they are assigned to.\n",
    "Thus, any conversion from one data type to another must be explicit, rather than handled implicitly.\n",
    "\n",
    "#### Memory protection\n",
    "##### Canaries\n",
    "**Canaries** are secret values inserted at certain memory locations at run time.\n",
    "If during run time, the program discovers that its canaries are modified, then it knows that illegal memory access has happen and thus will stop the process.\n",
    "\n",
    "Note that canaries should be kept secret so that attackers are not able to avoid triggering the mechanism by writing the canaries values instead of their payload at those locations.\n",
    "\n",
    "In Linux, canaries are enabled by default, thus you need the `--fno-stack-protector` flag to compile without canaries.\n",
    "Our previous example was compiled with this flag so that the program will not halt when illegal memory access occurs."
   ]
  },
  {
   "cell_type": "code",
   "execution_count": 23,
   "id": "56dd6f69",
   "metadata": {
    "deletable": false,
    "editable": false,
    "run_control": {
     "frozen": true
    }
   },
   "outputs": [
    {
     "name": "stdout",
     "output_type": "stream",
     "text": [
      "The value of b is 100\r\n",
      "The return address is 0x55fce3be42bf\r\n",
      "\r\n",
      "Changing index 10 of a to 42\r\n",
      "\r\n",
      "The value of b is 100\r\n",
      "The return address is 0x55fce3be42bf\r\n",
      "*** stack smashing detected ***: terminated\r\n"
     ]
    }
   ],
   "source": [
    "!./buffer_overflow_with_canaries 10 42"
   ]
  },
  {
   "cell_type": "markdown",
   "id": "d18b3f79",
   "metadata": {
    "deletable": false,
    "editable": false,
    "run_control": {
     "frozen": true
    }
   },
   "source": [
    "As we can see, using the canaries prevented us from modifying the values outside of the array by terminating the program early."
   ]
  },
  {
   "cell_type": "markdown",
   "id": "57f76bf6",
   "metadata": {
    "deletable": false,
    "editable": false,
    "run_control": {
     "frozen": true
    }
   },
   "source": [
    "##### Memory randomization\n",
    "Suppose that the memory location of variables and functions are fixed.\n",
    "With these knowledge, attackers can access these variables by peeking at the values at those locations, or they can cause code to jump to their desired function and run it."
   ]
  },
  {
   "cell_type": "markdown",
   "id": "e534abac",
   "metadata": {
    "deletable": false,
    "editable": false,
    "run_control": {
     "frozen": true
    }
   },
   "source": [
    "**Address space layout randomization (ASLR)** aims to make it harder for the attackers by randomizing the memory location of the key data areas of every process.\n",
    "\n",
    "Notice in the previous example, each time we ran the binary causes it to report a different return address."
   ]
  },
  {
   "cell_type": "markdown",
   "id": "713077dc",
   "metadata": {
    "deletable": false,
    "editable": false,
    "run_control": {
     "frozen": true
    }
   },
   "source": [
    "#### Code inspection\n",
    "**Taint analysis** is a type of automatic checking of the source code.\n",
    "They will identify sources of input from the user and check if they can affect critical functions within the program.\n",
    "If such a situation is found, they will flag it out for further investigation by the developers.\n",
    "\n",
    "#### Testing\n",
    "By testing, vulnerability can be discovered beforehand and patched out.\n",
    "\n",
    "Types of testing:\n",
    "* White-box testing\n",
    "    * Tester has access to the source code\n",
    "* Black-box testing\n",
    "    * Tester does not have access to the source code\n",
    "* Gray-box testing\n",
    "    * A combination of the above 2\n",
    "    * *eg* has access to the source code that was disassembled by the binary\n",
    "    \n",
    "##### Fuzzing\n",
    "**Fuzzing** is the act of sending malformed inputs in an attempt to uncover vulnerabilities."
   ]
  },
  {
   "cell_type": "markdown",
   "id": "410d17b6",
   "metadata": {
    "deletable": false,
    "editable": false,
    "run_control": {
     "frozen": true
    }
   },
   "source": [
    "#### Apply principle of least privilege\n",
    "For example:\n",
    "* Be conservative about elevating privilege of a program.\n",
    "* Do not give user more rights than they require\n",
    "* Do not activate unnecessary options\n",
    "\n"
   ]
  },
  {
   "cell_type": "markdown",
   "id": "526dea09",
   "metadata": {
    "deletable": false,
    "editable": false,
    "run_control": {
     "frozen": true
    }
   },
   "source": [
    "#### Patching\n",
    "When a vulnerability is known, patches may be issued out in the future which fixes these vulnerabilities.\n",
    "Thus, it is important for systems to be up to date in terms of patches in order to prevent these vulnerabilities.\n",
    "This is more importantly so when we consider that attackers may be made aware of the vulnerability once a patch is released, thus more attackers might try to abuse this known vulnerability, despite it being \"fixed\"."
   ]
  },
  {
   "cell_type": "markdown",
   "id": "aabdb384",
   "metadata": {
    "deletable": false,
    "editable": false,
    "run_control": {
     "frozen": true
    }
   },
   "source": [
    "While it is important to have timely patches, patching also brings about a few issues.\n",
    "\n",
    "The patch may not be rigorously tested, thus applying the patch may cause instability in the system.\n",
    "Or the very act of patching can cause system to be unavailable to the users during the patching process."
   ]
  }
 ],
 "metadata": {
  "kernelspec": {
   "display_name": "Python 3",
   "language": "python",
   "name": "python3"
  },
  "language_info": {
   "codemirror_mode": {
    "name": "ipython",
    "version": 3
   },
   "file_extension": ".py",
   "mimetype": "text/x-python",
   "name": "python",
   "nbconvert_exporter": "python",
   "pygments_lexer": "ipython3",
   "version": "3.9.5"
  }
 },
 "nbformat": 4,
 "nbformat_minor": 5
}
