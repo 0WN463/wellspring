{
 "cells": [
  {
   "cell_type": "markdown",
   "id": "98c895cd",
   "metadata": {},
   "source": [
    "# Public key distribution\n",
    "## Motivation"
   ]
  },
  {
   "cell_type": "markdown",
   "id": "2a4d622d",
   "metadata": {},
   "source": [
    "Suppose that our system uses public key cryptography for authentication of data.\n",
    "Thus, any data sent is signed using the sender's private key.\n",
    "The receiver can then verify the origin of the data by verifying the signature by checking against the senders public key."
   ]
  },
  {
   "cell_type": "markdown",
   "id": "b1bb4b31",
   "metadata": {},
   "source": [
    "However, notice that the receiver needs a way to obtain the true public key of the sender.\n",
    "\n",
    "Hence, we need a secure channel for the sender to transmit their public key to the receiver."
   ]
  },
  {
   "cell_type": "markdown",
   "id": "80e9edca",
   "metadata": {},
   "source": [
    "## Distribution Methods\n",
    "### Public announcement\n",
    "The owner of the public/private key pair can broadcast their public key.\n",
    "This can be performed by sending a mass email to everyone, or publishing it on a website.\n",
    "\n",
    "#### Limitations\n",
    "We still require trust in the public key broadcast channel.\n",
    "For example, we need to know that the email is not forged, or that the website is not spoofed.\n",
    "\n",
    "Also, the method of distribution is not standardized, as it can take many different forms."
   ]
  },
  {
   "cell_type": "markdown",
   "id": "901540af",
   "metadata": {},
   "source": [
    "### Publicly-available directory\n",
    "The public keys can be stored in a directory on some server.\n",
    "If a user requires the public key of a certain user, they can query the server to obtain it.\n",
    "\n",
    "#### Limitations\n",
    "Once again, the user needs to trust both the server, and the data in the server.\n",
    "The data in the server may be hard to verify, if the directory is available to be updated by anyone.\n",
    "\n",
    "Also, requires constant access to the server whenever we need to verify the origin of any messages."
   ]
  },
  {
   "cell_type": "markdown",
   "id": "bdb86b35",
   "metadata": {},
   "source": [
    "### Public key infrastructure + certificate\n",
    "**Public key infrastructure (PKI)** is a standardized system of distribution public key.\n",
    "\n",
    "#### Objectives\n",
    "* allow large-scale deployment of public key cryptography\n",
    "* allow public keys to be verified **without** requiring any two communicating parties to **directly** trust each other\n",
    "* allow managing of keypairs throughout the key's lifecycle.\n",
    "\n",
    "PKI is based on the following concepts:\n",
    "* Certificate\n",
    "* Certificate Authority (CA)"
   ]
  },
  {
   "cell_type": "markdown",
   "id": "9e94e525",
   "metadata": {},
   "source": [
    "#### Certificate Authority\n",
    "The CA performs the following:\n",
    "* issues and signs digital certificates\n",
    "* keeps a directory of public keys\n",
    "* has their own public/private keypair\n",
    "    * the CA's public key has to be securely distributed to all users.\n",
    "\n",
    "Many OS's and browsers comes preloaded with some CA's public keys."
   ]
  },
  {
   "cell_type": "markdown",
   "id": "7215ea39",
   "metadata": {},
   "source": [
    "#### Certificate\n",
    "A **certificate** is a digital document that contains the following:\n",
    "* identity of the owner\n",
    "* public key of the owner\n",
    "* time period where the certificate is valid\n",
    "* signature of the CA\n",
    "\n"
   ]
  },
  {
   "cell_type": "markdown",
   "id": "b58701f7",
   "metadata": {},
   "source": [
    "#### Verification process\n",
    "##### Without certificate\n",
    "Suppose that there is no certificate involved with the PKI system.\n",
    "Then the process would be as follows:\n",
    "\n",
    "1. (Bob already knows of the CA's public key)\n",
    "2. Alice sends Bob a message signed using her private key\n",
    "3. Bob sends a request to CA about Alice's public key\n",
    "4. CA respond to Bob, sending Alice's public key, signed using CA's private key\n",
    "5. Using the **pre-known CA's key**, Bob can verify the message is from CA, thus the public key sent is indeed Alice's.\n",
    "6. Bob can now verify that the message is from Alice using Alice's public key\n",
    "\n",
    "Notice that without certificate, this system is very similar to a publicly-available directory of public keys.\n",
    "\n",
    "##### With certificate\n",
    "Suppose that there is certificate involved with the PKI system.\n",
    "Then the process would be as follows:\n",
    "\n",
    "1. (Bob already knows of the CA's public key)\n",
    "2. Alice sends Bob a message signed using her private key, along with her certificate signed by the CA\n",
    "3. Using the pre-known CA's key, Bob can verify the certificate was signed by the CA, thus the public key in the certificate is indeed Alice's.\n",
    "4. Bob can now verify that the message is from Alice using Alice's public key"
   ]
  },
  {
   "cell_type": "markdown",
   "id": "a878f09d",
   "metadata": {},
   "source": [
    "Thus, with certificate, the receiver no longer needs to contact the CA whenever they receive an message from an unverified source."
   ]
  },
  {
   "cell_type": "markdown",
   "id": "2eb77b7c",
   "metadata": {},
   "source": [
    "With this system, the CA binds the public key to the entity at the point of verification.\n",
    "Anyone who trusts the CA will also trust the public key assigned to the identity by the CA.\n",
    "However, there is still a need for a way to revoke certificates."
   ]
  },
  {
   "cell_type": "markdown",
   "id": "e3a13f32",
   "metadata": {},
   "source": [
    "#### Identity checking\n",
    "It is the CA's responsibility to ensure verify that the applicant of the certificate does indeed own the stated identity.\n",
    "\n",
    "There are 3 tiers of checking for different types of certificates:\n",
    "1. Domain validation SSL certificate\n",
    "    * Issued if the applicant can demonstrate the right to administrate the stated domain\n",
    "2. Organization validation SSL certificate\n",
    "    * Issued if the applicant has the organization as a legal entity\n",
    "    * Indicated by a padlock \n",
    "3. Extended validation SSL certificate\n",
    "    * Issued if the applicant has undergone manual identity verification by a human\n",
    "    * Indicated by a padlock + green address bar in browsers\n"
   ]
  },
  {
   "cell_type": "markdown",
   "id": "dfc4d273",
   "metadata": {},
   "source": [
    "#### Relationship of trust\n",
    "##### Types of CA's\n",
    "There are 3 types of CA's:\n",
    "* Root CA\n",
    "    * Certificate is self-signed\n",
    "    * Can issue certificate to other CA's\n",
    "* Subordinate/intermediate CA\n",
    "    * Can issue certificate to other CA's\n",
    "* Leaf CA\n",
    "    * Cannot issue certificate to other CA's\n",
    "    \n",
    "##### Transfer of trust\n",
    "Suppose that the certificate of $CA_1$ is issued by the root CA.\n",
    "\n",
    "1. Alice wishes to send a message to Bob, but her certificate is signed by $CA_1$.\n",
    "2. Alice, anticipating that Bob may not have the public key of $CA_1$, preemptively sends $CA_1$'s certificate along with her message.\n",
    "3. Bob, upon reception of the message, can use the root CA's public key to verify that $CA_1$'s certificate is valid.\n",
    "4. Bob can obtain $CA_1$'s public key from the certificate.\n",
    "5. Using $CA_1$'s public key, he can now verify that Alice's certificate is signed by $CA_1$.\n",
    "6. He can now be assured that the message is indeed from Alice by verifying against Alice's public key in Alice's certificate.\n",
    "\n",
    "(If Alice does not send $CA_1$'s certificate, Bob has to obtain it via some other means)"
   ]
  },
  {
   "cell_type": "markdown",
   "id": "543ff4fd",
   "metadata": {},
   "source": [
    "Notice that with this process, the root CA can allocate the job of signing certificates to an intermediate CA, because the trust in the root CA has been transferred down to the intermediate CA."
   ]
  },
  {
   "cell_type": "markdown",
   "id": "4b343403",
   "metadata": {},
   "source": [
    "##### Certification path/chain\n",
    "**Certification path/chain** starts with an end-entity certificate, with one or more CA certificates, ending with the root certificate.\n",
    "\n",
    "Each certificate in the chain is signed by the private key of the next certificate in the chain.\n",
    "The last certificate (root CA's) is self-signed instead.\n",
    "\n",
    "The root CA's certificate is known as the **trust anchor**."
   ]
  },
  {
   "cell_type": "markdown",
   "id": "d31f2402",
   "metadata": {},
   "source": [
    "#### Certificate revocation\n",
    "**Non-expired** certificates can be revoked because of:\n",
    "* private key is compromised\n",
    "* issuing CA is is compromised\n",
    "* entity left the organization\n",
    "* business entity closed\n",
    "\n",
    "Thus, a verify needs to check if the certificate in question has already been revoked, even if it is yet to be expired.\n",
    "\n",
    "##### Certification revocation list (CRL)\n",
    "CA periodically signs and publishes a list of revoked certificates.\n",
    "\n",
    "Requires constant maintenance from the CA.\n",
    "\n",
    "##### Online certificate status protocol (OCSP)\n",
    "An OCSP responder replies whether the certificate is revoked.\n",
    "\n",
    "###### Issues\n",
    "* Privacy: OCSP knows the certificates (and thus the websites) that you are verifying\n",
    "* Soft-fail validation: Some browsers proceed with their communication when there is no response from OCSP\n",
    "\n",
    "###### Solutions\n",
    "* OCSP stapling: certificates are accompanied with the OCSP response signed by CA, thus receivers do not need to query OCSP responders for the revocation status\n",
    "* Incorporate at lower levels: incorporate OCSP as part of TLS handshake\n",
    "\n",
    "Note that with the above, there will be a drawback of increased network costs."
   ]
  },
  {
   "cell_type": "markdown",
   "id": "8d4ee1b4",
   "metadata": {},
   "source": [
    "#### Attacks on PKI\n",
    "##### Compromised CA\n",
    "\n",
    "A compromised CA will invalidate the authenticity provided certificates signed by the compromised CA as well as all CA's authorized the compromised CA."
   ]
  },
  {
   "cell_type": "markdown",
   "id": "816033a1",
   "metadata": {},
   "source": [
    "###### Implementation bugs\n",
    "There are many well known implementation bugs that lead to vulnerabilities.\n",
    "\n",
    "For example, null-byte injection.\n",
    "This happens when some browsers truncates the address shown in the address bar when there is a null byte in the address.\n",
    "However, the full address is used when verifying the certificate.\n",
    "Thus, a victim being directed to the site www.google.com\\0.attacker.com will (incorrectly) see it as www.google.com in their address bar.\n",
    "Since the attacker's certificate does indeed matches their site of www.google.com\\0.attacker.com, there will be no warnings from the browser.\n",
    "Hence, they will have unknowingly visited the attacker's site."
   ]
  },
  {
   "cell_type": "markdown",
   "id": "ae9363b9",
   "metadata": {},
   "source": [
    "###### Typo squatting\n",
    "The attacker can register domains whose names are similar to sites that their victims may use.\n",
    "For example, they can register and obtain a valid certificate for the site www.goggle.com\n",
    "Furthermore, they utilize a phishing attack on the victim, sending them the above link.\n",
    "Even though the address bar shows the address correctly, the attackers are relying on the failure of the victims at checking the address given."
   ]
  }
 ],
 "metadata": {
  "kernelspec": {
   "display_name": "Python 3",
   "language": "python",
   "name": "python3"
  },
  "language_info": {
   "codemirror_mode": {
    "name": "ipython",
    "version": 3
   },
   "file_extension": ".py",
   "mimetype": "text/x-python",
   "name": "python",
   "nbconvert_exporter": "python",
   "pygments_lexer": "ipython3",
   "version": "3.9.5"
  }
 },
 "nbformat": 4,
 "nbformat_minor": 5
}
