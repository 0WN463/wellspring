{
 "cells": [
  {
   "cell_type": "code",
   "execution_count": 2,
   "metadata": {},
   "outputs": [],
   "source": [
    "import re\n",
    "def show_matches(exp, text):\n",
    "    for m in list(re.finditer(exp, text))[::-1]:\n",
    "        a, b = m.start(), m.end()\n",
    "        text = text[:b] + \")\" + text[b:]\n",
    "        text = text[:a] + \"(\" + text[a:]\n",
    "        \n",
    "    return text\n"
   ]
  },
  {
   "cell_type": "markdown",
   "metadata": {},
   "source": [
    "# Regex\n",
    "A Regex is a pattern to used to search for strings to in a corpus of text.\n",
    "\n",
    "It show the part of the string that first matches the pattern, thus it is a greedy match."
   ]
  },
  {
   "cell_type": "markdown",
   "metadata": {},
   "source": [
    "## Set\n",
    "`[]` is used to indicate matching any of the patterns in it"
   ]
  },
  {
   "cell_type": "code",
   "execution_count": 7,
   "metadata": {},
   "outputs": [
    {
     "name": "stdout",
     "output_type": "stream",
     "text": [
      "Mr (Bean)'s jumping (bean)s!\n"
     ]
    }
   ],
   "source": [
    "pattern = r'[bB]ean'\n",
    "corpus = \"Mr Bean's lean, mean jumping beans!\"\n",
    "print(show_matches(pattern, corpus))"
   ]
  },
  {
   "cell_type": "markdown",
   "metadata": {},
   "source": [
    "Also, special ranges can be used, such as\n",
    "\n",
    "`[A-Z]` for upper case letter\n",
    "\n",
    "`[a-z]` for lower case letter\n",
    "\n",
    "`[0-9]` for single digit"
   ]
  },
  {
   "cell_type": "code",
   "execution_count": 9,
   "metadata": {},
   "outputs": [
    {
     "name": "stdout",
     "output_type": "stream",
     "text": [
      "(1 Mr) Smith (2 Ms) Doe (3 Dr) Plum\n"
     ]
    }
   ],
   "source": [
    "pattern = r'[0-9] [A-Z][a-z]'\n",
    "corpus = \"1 Mr Smith 2 Ms Doe 3 Dr Plum\"\n",
    "print(show_matches(pattern, corpus))"
   ]
  },
  {
   "cell_type": "markdown",
   "metadata": {},
   "source": [
    "### Special Characters\n",
    "The following are special characters, which are shorthand for special sets of characters.\n",
    "\n",
    "| Character| Expansion | Matches |\n",
    "| :------- | :-------- | :------ |\n",
    "| \\d       | [0-9]     | digit|\n",
    "| \\D       | [ˆ0-9]    | non-digit |\n",
    "| \\w       | [a-zA-Z0-9_] | alphanumeric/underscore |\n",
    "| \\W       | [ˆ\\w]        | non-alphanumeric |\n",
    "| \\s       | [ \\r\\t\\n\\f]  | whitespace |\n",
    "| \\S       | [ˆ\\s]        | Non-whitespace |"
   ]
  },
  {
   "cell_type": "markdown",
   "metadata": {},
   "source": [
    "## Negation\n",
    "A carat (`^`) at the start of the set (`[^]`) denotes a negation, where it will match everything that is not in the set."
   ]
  },
  {
   "cell_type": "code",
   "execution_count": 13,
   "metadata": {},
   "outputs": [
    {
     "name": "stdout",
     "output_type": "stream",
     "text": [
      "Mr Bean's (lean), (mean) jumping beans!\n"
     ]
    }
   ],
   "source": [
    "pattern = r'[^bB]ean'\n",
    "corpus = \"Mr Bean's lean, mean jumping beans!\"\n",
    "print(show_matches(pattern, corpus))"
   ]
  },
  {
   "cell_type": "markdown",
   "metadata": {},
   "source": [
    "Note that if the carat is not right at the start of the set, it will match to the carat literal instead\n"
   ]
  },
  {
   "cell_type": "code",
   "execution_count": 14,
   "metadata": {},
   "outputs": [
    {
     "name": "stdout",
     "output_type": "stream",
     "text": [
      "Mr (Bean)'s lean, mean jumping (bean)s! (^ean) will be matched too\n"
     ]
    }
   ],
   "source": [
    "pattern = r'[b^B]ean'\n",
    "corpus = \"Mr Bean's lean, mean jumping beans! ^ean will be matched too\"\n",
    "print(show_matches(pattern, corpus))"
   ]
  },
  {
   "cell_type": "markdown",
   "metadata": {},
   "source": [
    "## Disjunction\n",
    "A pipe `|` is used to for disjunction between 2 patterns\n"
   ]
  },
  {
   "cell_type": "code",
   "execution_count": 16,
   "metadata": {},
   "outputs": [
    {
     "name": "stdout",
     "output_type": "stream",
     "text": [
      "Mr Bean's (lean), (mean) jumping beans!\n"
     ]
    }
   ],
   "source": [
    "pattern = r'(le|me)an'\n",
    "corpus = \"Mr Bean's lean, mean jumping beans!\"\n",
    "print(show_matches(pattern, corpus))"
   ]
  },
  {
   "cell_type": "markdown",
   "metadata": {},
   "source": [
    "## Special Operators\n",
    "`?` indicates 0 or 1 of the previous pattern"
   ]
  },
  {
   "cell_type": "code",
   "execution_count": 25,
   "metadata": {},
   "outputs": [
    {
     "name": "stdout",
     "output_type": "stream",
     "text": [
      "Mr B(ean)'s l(ean), m(ean) jumping b(ean)s! And there's (an)other beee(ean)!\n"
     ]
    }
   ],
   "source": [
    "pattern = r'e?an'\n",
    "corpus = \"Mr Bean's lean, mean jumping beans! And there's another beeeean!\"\n",
    "print(show_matches(pattern, corpus))"
   ]
  },
  {
   "cell_type": "markdown",
   "metadata": {},
   "source": [
    "`*` indicates 0 or more of the previous pattern"
   ]
  },
  {
   "cell_type": "code",
   "execution_count": 26,
   "metadata": {},
   "outputs": [
    {
     "name": "stdout",
     "output_type": "stream",
     "text": [
      "Mr B(ean)'s l(ean), m(ean) jumping b(ean)s! And there's (an)other b(eeeean)!\n"
     ]
    }
   ],
   "source": [
    "pattern = r'e*an'\n",
    "corpus = \"Mr Bean's lean, mean jumping beans! And there's another beeeean!\"\n",
    "print(show_matches(pattern, corpus))"
   ]
  },
  {
   "cell_type": "markdown",
   "metadata": {},
   "source": [
    "`+` indicates 1 or more of the previous pattern\n"
   ]
  },
  {
   "cell_type": "code",
   "execution_count": 27,
   "metadata": {},
   "outputs": [
    {
     "name": "stdout",
     "output_type": "stream",
     "text": [
      "Mr B(ean)'s l(ean), m(ean) jumping b(ean)s! And there's another b(eeeean)!\n"
     ]
    }
   ],
   "source": [
    "pattern = r'e+an'\n",
    "corpus = \"Mr Bean's lean, mean jumping beans! And there's another beeeean!\"\n",
    "print(show_matches(pattern, corpus))"
   ]
  },
  {
   "cell_type": "markdown",
   "metadata": {},
   "source": [
    "`.` is a wildcard that indicates any character"
   ]
  },
  {
   "cell_type": "code",
   "execution_count": 29,
   "metadata": {},
   "outputs": [
    {
     "name": "stdout",
     "output_type": "stream",
     "text": [
      "Mr (Bean)'s (lean), (mean) jumping (bean)s! And there's another bee(eean)!\n"
     ]
    }
   ],
   "source": [
    "pattern = r'.ean'\n",
    "corpus = \"Mr Bean's lean, mean jumping beans! And there's another beeeean!\"\n",
    "print(show_matches(pattern, corpus))"
   ]
  },
  {
   "cell_type": "markdown",
   "metadata": {},
   "source": [
    "`{n}` to match n occurences\n",
    "\n",
    "`{n,m}` to match n to m (inclusive) occurence\n",
    "\n",
    "`{n,}` to match at least n (inclusive) occurence\n",
    "\n",
    "`{,m}` to match up to m (inclusive) occurence"
   ]
  },
  {
   "cell_type": "code",
   "execution_count": 8,
   "metadata": {},
   "outputs": [
    {
     "name": "stdout",
     "output_type": "stream",
     "text": [
      "2 occurences: bo (bobo) (bobo)bo (bobo)(bobo) (bobo)(bobo)bo (bobo)(bobo)(bobo) bbbbboooo\n",
      "3-4 occurences: bo bobo (bobobo) (bobobobo) (bobobobo)bo (bobobobo)bobo bbbbboooo\n",
      ">=2 occurences: bo (bobo) (bobobo) (bobobobo) (bobobobobo) (bobobobobobo) bbbbboooo\n",
      "<=3 occurences: (bo)() (bobo)() (bobobo)() (bobobo)(bo)() (bobobo)(bobo)() (bobobo)(bobobo)() ()b()b()b()b(bo)()o()o()o()\n"
     ]
    }
   ],
   "source": [
    "corpus = \"bo bobo bobobo bobobobo bobobobobo bobobobobobo bbbbboooo\"\n",
    "\n",
    "pattern = r'(bo){2}'\n",
    "print('2 occurences:',show_matches(pattern, corpus))\n",
    "\n",
    "pattern = r'(bo){3,4}'\n",
    "print('3-4 occurences:',show_matches(pattern, corpus))\n",
    "\n",
    "pattern = r'(bo){2,}'\n",
    "print('>=2 occurences:',show_matches(pattern, corpus))\n",
    "\n",
    "pattern = r'(bo){,3}'\n",
    "print('<=3 occurences:',show_matches(pattern, corpus))\n"
   ]
  },
  {
   "cell_type": "markdown",
   "metadata": {},
   "source": [
    "To match to the literal of these special characters, they need to be escaped with `\\`."
   ]
  },
  {
   "cell_type": "code",
   "execution_count": 4,
   "metadata": {},
   "outputs": [
    {
     "name": "stdout",
     "output_type": "stream",
     "text": [
      "Mr Bean's lean, mean jumping beans(?) And there's another beeeean!\n"
     ]
    }
   ],
   "source": [
    "pattern = r'\\?'\n",
    "corpus = \"Mr Bean's lean, mean jumping beans? And there's another beeeean!\"\n",
    "print(show_matches(pattern, corpus))"
   ]
  },
  {
   "cell_type": "markdown",
   "metadata": {},
   "source": [
    "## Anchors\n",
    "Carat `^` is used to indicate start of the line\n",
    "\n",
    "Dollar `$` is used to indicated end of the line"
   ]
  },
  {
   "cell_type": "code",
   "execution_count": 35,
   "metadata": {},
   "outputs": [
    {
     "name": "stdout",
     "output_type": "stream",
     "text": [
      "(Mr) Bean's lean, (me)an ju(mp)ing beans!\n",
      "(Mr) Bean's lean, mean jumping beans!\n"
     ]
    }
   ],
   "source": [
    "pattern = r'[mM].'\n",
    "corpus = \"Mr Bean's lean, mean jumping beans!\"\n",
    "print(show_matches(pattern, corpus))\n",
    "\n",
    "pattern = r'^[mM].'\n",
    "corpus = \"Mr Bean's lean, mean jumping beans!\"\n",
    "print(show_matches(pattern, corpus))"
   ]
  },
  {
   "cell_type": "code",
   "execution_count": 44,
   "metadata": {},
   "outputs": [
    {
     "name": "stdout",
     "output_type": "stream",
     "text": [
      "Mr Bea(n's) lea(n, )mea(n j)umpi(ng )bea(ns!)\n",
      "Mr Bean's lean, mean jumping bea(ns!)\n"
     ]
    }
   ],
   "source": [
    "pattern = r'n..'\n",
    "corpus = \"Mr Bean's lean, mean jumping beans!\"\n",
    "print(show_matches(pattern, corpus))\n",
    "\n",
    "pattern = r'n..$'\n",
    "corpus = \"Mr Bean's lean, mean jumping beans!\"\n",
    "print(show_matches(pattern, corpus))"
   ]
  },
  {
   "cell_type": "markdown",
   "metadata": {},
   "source": [
    "## Groups\n",
    "Use `()` to group patterns together\n",
    "\n",
    "The each capture group has an index.\n",
    "\n",
    "To refer to the last string captured by the n-th capture group, use `\\1` etc\n",
    "\n",
    "To use groups without capturing, use `(?:)`"
   ]
  },
  {
   "cell_type": "code",
   "execution_count": 15,
   "metadata": {},
   "outputs": [
    {
     "name": "stdout",
     "output_type": "stream",
     "text": [
      "(He laughed \"hahaha\" and said \"hello\". I replied \"hello\")\n",
      "(He laughed \"hahaha\" and said \"hello\". I replied \"hahaha\")\n"
     ]
    }
   ],
   "source": [
    "pattern = r'He laughed \"(ha)+\" and said \"(\\w+)\". I replied \"\\2\"'\n",
    "corpus = 'He laughed \"hahaha\" and said \"hello\". I replied \"hello\"'\n",
    "print(show_matches(pattern, corpus))\n",
    "\n",
    "pattern = r'He laughed \"((?:ha)+)\" and said \"(\\w+)\". I replied \"\\1\"'\n",
    "corpus = 'He laughed \"hahaha\" and said \"hello\". I replied \"hahaha\"'\n",
    "print(show_matches(pattern, corpus))\n"
   ]
  },
  {
   "cell_type": "markdown",
   "metadata": {},
   "source": [
    "Here, we need to use the non-capturing group, because if we used `(ha)+` within the regex, then it will only capture `ha`; if we used `(ha+)`, then we are capturing `ha+` instead."
   ]
  },
  {
   "cell_type": "markdown",
   "metadata": {},
   "source": [
    "## Lookahead Assertions\n",
    "`(?=PATTERN)` will return true if the pattern matches, but does not move the pointer.\n",
    "\n",
    "`(?!PATTERN)` will return false if the pattern matches, but does not move the pointer."
   ]
  },
  {
   "cell_type": "code",
   "execution_count": 18,
   "metadata": {},
   "outputs": [
    {
     "name": "stdout",
     "output_type": "stream",
     "text": [
      "Mr (B)ean's (l)ean, (m)ean jumping (b)eans!\n",
      "Mr (Bean)'s (lean), mean jumping (bean)s!\n"
     ]
    }
   ],
   "source": [
    "pattern = r'(?=.ean).'\n",
    "corpus = \"Mr Bean's lean, mean jumping beans!\"\n",
    "\n",
    "print(show_matches(pattern, corpus)) # Matches the first character of -ean\n",
    "\n",
    "pattern = r'(?!mean).ean'\n",
    "\n",
    "print(show_matches(pattern, corpus)) # Matches any -ean that is not mean\n"
   ]
  },
  {
   "cell_type": "code",
   "execution_count": null,
   "metadata": {},
   "outputs": [],
   "source": []
  }
 ],
 "metadata": {
  "kernelspec": {
   "display_name": "Python 3",
   "language": "python",
   "name": "python3"
  },
  "language_info": {
   "codemirror_mode": {
    "name": "ipython",
    "version": 3
   },
   "file_extension": ".py",
   "mimetype": "text/x-python",
   "name": "python",
   "nbconvert_exporter": "python",
   "pygments_lexer": "ipython3",
   "version": "3.6.8"
  }
 },
 "nbformat": 4,
 "nbformat_minor": 4
}
