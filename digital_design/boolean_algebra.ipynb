{
 "cells": [
  {
   "cell_type": "markdown",
   "id": "a9dfd40a-a73c-4706-b02d-29ea70f6811f",
   "metadata": {},
   "source": [
    "# Boolean algebra"
   ]
  },
  {
   "cell_type": "markdown",
   "id": "d444de1a-57ca-434e-9ad5-1f525aa4540f",
   "metadata": {},
   "source": [
    "**Boolean algebra** is defined by:\n",
    "* a set of elements $B$\n",
    "* two binary operators:\n",
    "    * $\\cdot \\quad (AND)$\n",
    "    * $+ \\quad (OR)$\n",
    "* satisfy the 6 axioms below"
   ]
  },
  {
   "cell_type": "markdown",
   "id": "84db1bdd-78ad-449f-9c4a-3fd14dcbe804",
   "metadata": {},
   "source": [
    "## Huntington axioms\n",
    "\n",
    "1. Closure: \n",
    "    * $\\forall x,y \\in B$, $x+y \\in B$ and $x \\cdot y \\in B$\n",
    "2. Identity:\n",
    "    * $x + 0 = x$\n",
    "    * $x \\cdot 1 = x$\n",
    "3. Commutative\n",
    "    * $x + y = y + x$\n",
    "    * $x \\cdot y = y \\cdot x$\n",
    "4. Distributive\n",
    "    * $x \\cdot (y + z) = x \\cdot y + x \\cdot z$\n",
    "    * $x + (y \\cdot z) = (x + y) \\cdot (x + z)$\n",
    "5. Complement\n",
    "    * $\\forall x \\in B, \\exists \\bar x \\in B \\quad x + \\bar x = 1, x \\cdot \\bar x = 0$.\n",
    "6. There is at least 2 distinct elements in $B$"
   ]
  },
  {
   "cell_type": "markdown",
   "id": "775889dd-28e9-4bf7-b2a9-d31624dfa7a4",
   "metadata": {},
   "source": [
    "## Switching algebra\n",
    "\n",
    "**Switching algebra** a simple case of boolean algebra, where $B = \\{0, 1\\}$.\n",
    "This mimics the ON/OFF value of an electrical switch."
   ]
  },
  {
   "cell_type": "markdown",
   "id": "fc3c5cfb-d269-4066-b6a8-7902c70ae77e",
   "metadata": {},
   "source": [
    "## Theorems of boolean algebra\n",
    "\n",
    "|   |    |    |\n",
    "| --- | --- |--- |\n",
    "| $$ A + A = A $$ | $$ A \\cdot A = A $$ | Tautology |\n",
    "| $$ A + 1 = 1 $$ | $$ A \\cdot 0 = 0 $$ | Union |\n",
    "| $$ \\bar {(\\bar A)}  = A $$ | | Involution |\n",
    "| $$ A + (B + C) = (A+B) +C $$ | $$A\\cdot(B\\cdot C) = (A \\cdot B) \\cdot C$$ | Associative |\n",
    "| $$ \\bar{A+B} = \\bar A \\cdot \\bar B$$ | $$\\bar{A \\cdot B} = \\bar A + \\bar B$$ | De Morgan's |\n",
    "| $$ A + A \\cdot B = A$$ | $$A \\cdot(A+B) = A$$ | Absorption |\n"
   ]
  },
  {
   "cell_type": "markdown",
   "id": "afadb7aa-57af-47b4-ab84-b1ba94831c37",
   "metadata": {},
   "source": [
    "(Notice that duality of $OR/AND$ and $0/1$.\n",
    "We can maintain validity of the statement even when switching OR with AND, and 0 with 1)"
   ]
  },
  {
   "cell_type": "markdown",
   "id": "6c65b132-d056-4f41-9ae0-b75cce147c16",
   "metadata": {},
   "source": [
    "## Boolean function\n",
    "\n",
    "A boolean function express the relationship between binary variables.\n",
    "For example:\n",
    "$$\n",
    "F_1 = A + \\bar BC\n",
    "$$"
   ]
  },
  {
   "cell_type": "markdown",
   "id": "8bef2bbf-9f77-47e6-a690-ed1fadda703e",
   "metadata": {},
   "source": [
    "## Truth table\n",
    "\n",
    "The **truth table** lists all possible combinations of input variables and the resultant output of the function."
   ]
  },
  {
   "cell_type": "markdown",
   "id": "75c42ad4-2935-44ce-a3fa-9a215beba46d",
   "metadata": {},
   "source": [
    "The truth table for our previous function is:\n",
    "\n",
    "| $$A$$ |$$B$$| $$C$$|$$F_1$$|\n",
    "| --- | --- | --- | --- |\n",
    "| 0 | 0 | 0 | 0 |\n",
    "| 0 | 0 | 1 | 1 | \n",
    "| 0 | 1 | 0 | 0|\n",
    "| 0 | 1 | 1 | 0 |\n",
    "| 1 | 0 | 0| 1|\n",
    "| 1 | 0 | 1| 1|\n",
    "| 1 | 1 | 0| 1|\n",
    "| 1 | 1 | 1| 1|"
   ]
  },
  {
   "cell_type": "markdown",
   "id": "c2d2eb2e-8170-40d0-8dcc-c8d766c5591c",
   "metadata": {},
   "source": [
    "<span hidden> TODO: Link with logic </span>"
   ]
  },
  {
   "cell_type": "markdown",
   "id": "b772801d-83fd-4156-ad37-269484bc1ef3",
   "metadata": {},
   "source": [
    "To prove two boolean expressions are equivalent, we prove that they result in the same output for all inputs in the truth table."
   ]
  },
  {
   "cell_type": "markdown",
   "id": "c843f04f-3b51-4423-814f-1f3769c15dac",
   "metadata": {},
   "source": [
    "For example, to prove $A + \\bar A \\cdot B = A + B$:\n",
    "\n",
    "| $$A$$ |$$B$$| $$A + \\bar A \\cdot B$$|$$A + B$$|\n",
    "| :---: | :---: | :---: | :---: |\n",
    "| 0 | 0 | 0 | 0 |\n",
    "| 0 | 1 | 1 | 1|\n",
    "| 1 | 0 | 1| 1|\n",
    "| 1 | 1 | 1| 1|"
   ]
  },
  {
   "cell_type": "markdown",
   "id": "1f28ee12-0644-49d0-ad45-1fa8ec5acda9",
   "metadata": {},
   "source": [
    "Since the last 2 columns are identical, the equality is true."
   ]
  },
  {
   "cell_type": "markdown",
   "id": "8f6243d4-e914-4fbd-83a4-a28793b610d9",
   "metadata": {},
   "source": [
    "## Sum of products and products of sum"
   ]
  },
  {
   "cell_type": "markdown",
   "id": "9ab06f4a-dc84-4965-8366-ed75a66d6e5f",
   "metadata": {},
   "source": [
    "An example of a sum of product is:\n",
    "$$\n",
    "F_1(A, B, C)= ABC + \\bar A B C + A \\bar C\n",
    "$$\n",
    "\n",
    "An example of a product of sum is:\n",
    "$$\n",
    "F_2(A, B, C)= (A + B + C)(B + C)(A + \\bar B + C)\n",
    "$$"
   ]
  },
  {
   "cell_type": "markdown",
   "id": "b9f1243c-e667-42d7-8624-911e9e8f578b",
   "metadata": {},
   "source": [
    "Sum of products and product of sum are rather convenient to evaluate.\n",
    "* If any of the product in a sum of product is $1$, then the function is $1$.\n",
    "* If any sum in the product of sum is $0$, then the function is $0$."
   ]
  },
  {
   "cell_type": "markdown",
   "id": "2e3cf541-39f2-42b0-b7ac-8fcfe709c1f5",
   "metadata": {},
   "source": [
    "### Sum of products $\\leftrightarrow$ Product of sums"
   ]
  },
  {
   "cell_type": "markdown",
   "id": "c0ccee91-f17e-4c51-b0d4-72704aae3a63",
   "metadata": {},
   "source": [
    "We can apply the [De Morgan's law](#Theorems-of-boolean-algebra) to convert between sum of products and product of sums."
   ]
  },
  {
   "cell_type": "markdown",
   "id": "2d7f8560-125c-415a-bbff-318fb3713b10",
   "metadata": {},
   "source": [
    "Hence, the equivalent product of sums for $F_1$ is\n",
    "$$\n",
    "(\\bar A + \\bar B + \\bar C)(A + \\bar B + \\bar C)(\\bar A + C)\n",
    "$$\n",
    "\n",
    "And the equivalent sum of products for $F_2$ is\n",
    "$$\n",
    "\\bar A \\bar B \\bar C + \\bar B \\bar C + \\bar A B \\bar C\n",
    "$$"
   ]
  },
  {
   "cell_type": "markdown",
   "id": "cddcfe58-ccd8-4608-891c-b30b6919fb6f",
   "metadata": {},
   "source": [
    "## Minterm and maxterm\n",
    "\n",
    "The **minterm** is the product term that contains all the variables of the function.\n",
    "\n",
    "The **maxterm** is the sum term that contains all the variables of the function."
   ]
  },
  {
   "cell_type": "markdown",
   "id": "8f0497df-e6c0-401a-8248-f72f060a39fa",
   "metadata": {},
   "source": [
    "For example, $ABC$ and $\\bar ABC$ are the minterms of $F_1$ above, while $A+B+C$ and $A + \\bar B + C$ are the maxterms of $F_2$."
   ]
  },
  {
   "cell_type": "markdown",
   "id": "09b831d9-54f3-45d0-9877-f1ac76d66bc3",
   "metadata": {},
   "source": [
    "Notice that for all possible inputs in a truth table, each minterm is equals to 1 for only 1 specific input, and each maxterm is equals to 0 for only 1 specific input.\n",
    "The following table shows the minterm/maxterm with their respective specific input."
   ]
  },
  {
   "cell_type": "markdown",
   "id": "32d53cd6-082d-4d4c-92dc-095d41afeb8d",
   "metadata": {},
   "source": [
    "The truth table for our previous function is:\n",
    "\n",
    "| $$A$$ |$$B$$| $$C$$| Minterm that = 1| Maxterm that = 0\n",
    "| :---: | :---: | :---: | :---: | :---: | \n",
    "| 0 | 0 | 0 | $$\\bar A \\cdot \\bar B \\cdot \\bar C$$ | $$A + B + C$$\n",
    "| 0 | 0 | 1 | $$\\bar A \\cdot \\bar B \\cdot C$$ | $$A + B + \\bar C$$\n",
    "| 0 | 1 | 0 | $$\\bar A \\cdot B \\cdot \\bar C$$ | $$A + \\bar B + C$$\n",
    "| 0 | 1 | 1 | $$\\bar A \\cdot B \\cdot C$$ | $$A + \\bar B + \\bar C$$\n",
    "| 1 | 0 | 0 | $$A \\cdot \\bar B \\cdot \\bar C$$ | $$\\bar A + B + C$$\n",
    "| 1 | 0 | 1 | $$A \\cdot \\bar B \\cdot C$$ | $$\\bar A + B + \\bar C$$\n",
    "| 1 | 1 | 0 | $$A \\cdot B \\cdot \\bar C$$ | $$\\bar A + \\bar B + C$$\n",
    "| 1 | 1 | 1 | $$A \\cdot B \\cdot C$$ | $$\\bar A +\\bar B + \\bar C$$"
   ]
  },
  {
   "cell_type": "markdown",
   "id": "d5c4bf40-f39a-4ab3-a92c-f098e8945d73",
   "metadata": {},
   "source": [
    "## Canonical form\n",
    "\n",
    "A function is in **canonical form** if it is a:\n",
    "* sum of minterms\n",
    "* or product of maxterm"
   ]
  },
  {
   "cell_type": "markdown",
   "id": "94f764b0-9aa9-4953-93b8-8a20ba538ff9",
   "metadata": {},
   "source": [
    "### Canonical form from truth table"
   ]
  },
  {
   "cell_type": "markdown",
   "id": "e230384e-f8e4-4545-b258-316cb1f8cdd1",
   "metadata": {},
   "source": [
    "Since minterms/maxterms are equals to 1/0 for only 1 input, it is very easy to produce a function that coincides with a truth table by using minterms/maxterms."
   ]
  },
  {
   "cell_type": "markdown",
   "id": "8e42d469-cef1-4855-9203-a4ffe80ef3ff",
   "metadata": {},
   "source": [
    "From a truth table, we produce a:\n",
    "* canonical sum of products by summing all the minterms that coincides with the input that makes $F=1$\n",
    "* canonical product of sums by multiplying all the maxterms that coincides with the input that makes $F=0$"
   ]
  },
  {
   "cell_type": "markdown",
   "id": "06a670ae-71e9-43b7-b45c-6d2503e1fce1",
   "metadata": {},
   "source": [
    "Suppose we have the following truth table:\n",
    "\n",
    "| $$A$$ |$$B$$| $$C$$|$$F_1$$|\n",
    "| --- | --- | --- | --- |\n",
    "| 0 | 0 | 0 | 0 |\n",
    "| 0 | 0 | 1 | 1 | \n",
    "| 0 | 1 | 0 | 0|\n",
    "| 0 | 1 | 1 | 0 |\n",
    "| 1 | 0 | 0| 1|\n",
    "| 1 | 0 | 1| 1|\n",
    "| 1 | 1 | 0| 1|\n",
    "| 1 | 1 | 1| 1|"
   ]
  },
  {
   "cell_type": "markdown",
   "id": "72c4eac2-85bd-4218-963d-b921e17b21e9",
   "metadata": {},
   "source": [
    "The canonical sum of products is simply:\n",
    "$$\n",
    "\\bar A \\bar B C + A \\bar B \\bar C + A \\bar B C + A B \\bar C + A B C\n",
    "$$"
   ]
  },
  {
   "cell_type": "markdown",
   "id": "1fbb1e8e-abc7-461e-8f46-c836df901b4e",
   "metadata": {},
   "source": [
    "And the canonical product of sums is:\n",
    "$$\n",
    "(A + B + C)(A + \\bar B + C)(A + \\bar B + \\bar C)\n",
    "$$"
   ]
  },
  {
   "cell_type": "markdown",
   "id": "1a748294-63cb-4c31-8020-11e2c05cee9f",
   "metadata": {},
   "source": [
    "Note that the canonical form can be much terser than the minimal representation (which was $A + \\bar B C)$."
   ]
  },
  {
   "cell_type": "markdown",
   "id": "fe7f650b-fa21-4bf0-a6d9-88e1934b2677",
   "metadata": {},
   "source": [
    "Also, the two canonical forms may form expressions of different number of terms."
   ]
  },
  {
   "cell_type": "markdown",
   "id": "c3e303a3-2f7b-45e1-9545-a1551b86ff78",
   "metadata": {},
   "source": [
    "### From non-canonical form"
   ]
  },
  {
   "cell_type": "markdown",
   "id": "da25ebea-94ae-4f42-b259-f0978a367f46",
   "metadata": {},
   "source": [
    "To convert a non-canonical form to a canonical one, we can either:\n",
    "* find its truth table and derive the canonical form as per above\n",
    "* expand the expression using axioms and theorems"
   ]
  },
  {
   "cell_type": "markdown",
   "id": "7c6c31cf-1766-4d08-96d2-ad45684e1480",
   "metadata": {},
   "source": [
    "For example, if we can find the canonical form using axioms and theorems as per below:"
   ]
  },
  {
   "cell_type": "markdown",
   "id": "9e4ce3b8-2893-4edf-9bc2-6b22043ad871",
   "metadata": {},
   "source": [
    "$$\n",
    "\\begin{align}\n",
    "F(A,B,C) & = \\bar A B + A C & \\\\\n",
    "& = \\bar A B \\cdot 1 + A C \\cdot 1  & A \\cdot 1 = A \\\\\n",
    "& = \\bar A B \\cdot (C + \\bar C) + A C \\cdot (B + \\bar B)  & Distributive \\\\\n",
    "& = \\bar A B C + \\bar A B \\bar C + A B C + A \\bar BC  \n",
    "\\end{align}\n",
    "$$"
   ]
  }
 ],
 "metadata": {
  "kernelspec": {
   "display_name": "Python 3 (ipykernel)",
   "language": "python",
   "name": "python3"
  },
  "language_info": {
   "codemirror_mode": {
    "name": "ipython",
    "version": 3
   },
   "file_extension": ".py",
   "mimetype": "text/x-python",
   "name": "python",
   "nbconvert_exporter": "python",
   "pygments_lexer": "ipython3",
   "version": "3.10.4"
  }
 },
 "nbformat": 4,
 "nbformat_minor": 5
}
