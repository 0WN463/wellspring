{
 "cells": [
  {
   "cell_type": "markdown",
   "id": "a9dfd40a-a73c-4706-b02d-29ea70f6811f",
   "metadata": {},
   "source": [
    "# Number system"
   ]
  },
  {
   "cell_type": "markdown",
   "id": "d444de1a-57ca-434e-9ad5-1f525aa4540f",
   "metadata": {},
   "source": [
    "Number system gives us a way of describing a number.\n",
    "The same number can be described differently in different systems."
   ]
  },
  {
   "cell_type": "markdown",
   "id": "2ec4dea0-8dcd-488d-9888-0ad9d5244831",
   "metadata": {},
   "source": [
    "The **radix/base** of a number system determines:\n",
    "* the largest possible symbol in the system\n",
    "* the value of each digit as we move across the positions."
   ]
  },
  {
   "cell_type": "markdown",
   "id": "7695e20d-8495-4cc2-814b-4ae9440b8e51",
   "metadata": {},
   "source": [
    "Digits to the left of the **radix point** have a positive powered base as the value, while those to the right has a negative powered base."
   ]
  },
  {
   "cell_type": "markdown",
   "id": "b6aa6ac7-6c1c-4fb3-96fd-4ca4b9529a2a",
   "metadata": {},
   "source": [
    "Given a radix $r$, a number in the number system of that radix is defined as:\n",
    "$$A_r = (a_n a_{n-1} \\dots a_0 . a_{-1} \\dots a_{-m})_r = \\sum _{i=-m}^n a_i r^i \\quad a_i \\in \\{0, \\dots r-1\\}\n",
    "$$"
   ]
  },
  {
   "cell_type": "markdown",
   "id": "88f6b314-3bf0-489e-907b-0ed31bf16463",
   "metadata": {},
   "source": [
    "## Decimal system"
   ]
  },
  {
   "cell_type": "markdown",
   "id": "3fd2c7af-6403-4fcc-9eed-5a0757ab08c9",
   "metadata": {},
   "source": [
    "This is the most used system in real life.\n",
    "This has a radix of 10.\n",
    "The digit ranges from 0-9."
   ]
  },
  {
   "cell_type": "markdown",
   "id": "faee6581-f9c1-4af7-9c8a-61443e037c33",
   "metadata": {},
   "source": [
    "For example, $(13.75)_{10}$ is a decimal number. \n",
    "The subscript is there to indicate to us the number system the number is being represented in."
   ]
  },
  {
   "cell_type": "markdown",
   "id": "bc994164-e5d2-47fb-8f89-b9b224d2370f",
   "metadata": {},
   "source": [
    "Using the fundamental of the decimal system, we can see that $13.75 = 1 \\times 10^1 + 3 \\times 10^0 + 7 \\times 10^{-1} + 5 \\times 10^{-2}$."
   ]
  },
  {
   "cell_type": "markdown",
   "id": "89e550b0-9e7e-4861-817f-cd8e3002f083",
   "metadata": {},
   "source": [
    "## Binary system"
   ]
  },
  {
   "cell_type": "markdown",
   "id": "6134ba25-9842-4f04-a4d3-996b1c91289d",
   "metadata": {},
   "source": [
    "This is the most common system in the digital world.\n",
    "It has a radix of 2, and thus the digit are simply 0 or 1."
   ]
  },
  {
   "cell_type": "markdown",
   "id": "f0aaa400-760f-4484-b8a2-ab0e02a6d41a",
   "metadata": {},
   "source": [
    "Consider the binary number $(1101.11)_2$.\n",
    "The value of this number in decimal is:\n",
    "$$\n",
    "1 \\times 2^3 + 1 \\times 2^2 + 1 \\times 2 ^ 0 + 1 \\times 2 ^{-1} + 1 \\times 2^{-2} = (13.75)_{10}\n",
    "$$"
   ]
  },
  {
   "cell_type": "markdown",
   "id": "0d58c837-7e9a-4fed-be52-993c5b49abe6",
   "metadata": {},
   "source": [
    "Hence, even though it looks different, it is the same as $13.75$ in decimal."
   ]
  },
  {
   "cell_type": "markdown",
   "id": "bbb0f273-04cc-4bb2-bbea-c8e38080d7d9",
   "metadata": {},
   "source": [
    "## Hexadecimal system"
   ]
  },
  {
   "cell_type": "markdown",
   "id": "e5ebf30d-6778-4c28-a30a-ac13087d7ff7",
   "metadata": {},
   "source": [
    "It has a radix of 16, and thus the digit ranges from 0-15.\n",
    "To represent digits from 10-15, we use the letters A-F."
   ]
  },
  {
   "cell_type": "markdown",
   "id": "639c9463-921a-4991-a5cf-6fc8d012b63d",
   "metadata": {},
   "source": [
    "Consider the hexadecimal number $(D.C)$.\n",
    "This is equals to $13 \\times 16 ^0 + 12 \\times 16^{-1} = (13.75)_{16}$."
   ]
  },
  {
   "cell_type": "markdown",
   "id": "93d04ee2-1814-46ef-90d8-69641d55b931",
   "metadata": {},
   "source": [
    "## Octal system"
   ]
  },
  {
   "cell_type": "markdown",
   "id": "33b14469-3655-4d13-b0da-e26118754878",
   "metadata": {},
   "source": [
    "It has a radix of 8, with digits that ranges from 0-7."
   ]
  },
  {
   "cell_type": "markdown",
   "id": "519b3c21-f7c3-48b7-8585-f5dd1115c9dd",
   "metadata": {},
   "source": [
    "Consider the octal number $(15.6)$.\n",
    "This is equals to $1 \\times 8^1 + 5 \\times 8^0 + 6 \\times 8^{-1} = 13.75$."
   ]
  },
  {
   "cell_type": "markdown",
   "id": "5ee15625-b87d-40e8-a85b-f902a61a1076",
   "metadata": {},
   "source": [
    "Note that some decimal number cannot be represented as a finite digit number in another system.\n",
    "For example, $(0.1)_{10} = 2^{-1} + 2^{-2} +2^{-3} \\dots = (0.\\bar 1)_2$, where the bar above the 1 indicates that the number repeats 1 infinitely."
   ]
  },
  {
   "cell_type": "markdown",
   "id": "5da87006-4176-4b88-8cca-a0ac60a874a7",
   "metadata": {},
   "source": [
    "## Conversion\n",
    "\n",
    "### To decimal"
   ]
  },
  {
   "cell_type": "markdown",
   "id": "a8c4948c-2470-4293-97aa-48d9bf25c0bf",
   "metadata": {},
   "source": [
    "Conversion to decimal is rather straight forward.\n",
    "Just compute the sum of each digit multiplied by its value to obtain the value in decimal."
   ]
  },
  {
   "cell_type": "code",
   "execution_count": 41,
   "id": "2c9cd851-a13a-44d1-9604-4ddd67ddaa21",
   "metadata": {},
   "outputs": [],
   "source": [
    "def to_dec(string: str, r: int):\n",
    "    def symbol_val(symbol: chr):\n",
    "        return '0123456789ABCDEF'.index(symbol)\n",
    "    \n",
    "    left, *right = string.split('.')\n",
    "    if right:\n",
    "        right = right[0]\n",
    "        \n",
    "    total = 0 \n",
    "    for n, a in enumerate(reversed(left)):\n",
    "        n, a = int(n), symbol_val(a)\n",
    "        total += a * r ** n\n",
    "        \n",
    "    for n, a in enumerate(right, start=1):\n",
    "        n, a = int(n), symbol_val(a)\n",
    "        total += a * r ** -n\n",
    "    return total\n",
    "    "
   ]
  },
  {
   "cell_type": "code",
   "execution_count": 42,
   "id": "ad87f8a1-ad0d-4821-9063-662fc8559af0",
   "metadata": {},
   "outputs": [
    {
     "name": "stdout",
     "output_type": "stream",
     "text": [
      "13.75\n",
      "13.75\n",
      "13.75\n"
     ]
    }
   ],
   "source": [
    "print(to_dec('1101.11', 2))\n",
    "print(to_dec('D.C', 16))\n",
    "print(to_dec('15.6', 8))"
   ]
  },
  {
   "cell_type": "markdown",
   "id": "e57e3b03-c21e-40bf-9b52-a8d34a8b98ad",
   "metadata": {},
   "source": [
    "## From decimal"
   ]
  },
  {
   "cell_type": "markdown",
   "id": "730846a5-de41-4af4-acf5-873b7b13fcf5",
   "metadata": {},
   "source": [
    "Consider a number $A_r$.\n",
    "$$A_r = (a_n, a_{n-1} \\dots a_0 . a_{-1} \\dots a_{-m})_r = \\sum _{i=-m}^n a_i r^i \n",
    "$$\n",
    "\n",
    "Now consider the number if we remove the parts after the radix point.\n",
    "$$(a_n, a_{n-1} \\dots a_0 )_r = \\sum _{i=0}^n a_i r^i = a_0 + r \\sum_{i=1} ^n a_i r^{i-1} $$\n",
    "\n",
    "Hence, $a_0$ is simply **the remainder of $A_r$ divided by $r$**."
   ]
  },
  {
   "cell_type": "markdown",
   "id": "d60e329e-0631-4b2e-aeea-bec9242604c3",
   "metadata": {},
   "source": [
    "To find $a_1$, we simply consider\n",
    "$$A'_r = (a_n, a_{n-1} \\dots a_1)_r = \\left \\lfloor \\frac{A_r}{r}\\right \\rfloor$$\n",
    "And we compute $a_1 = a'_0$."
   ]
  },
  {
   "cell_type": "markdown",
   "id": "0586cd44-0b8d-45ac-967e-05c0511f5739",
   "metadata": {},
   "source": [
    "By repeating this process, we can find all the $a_i$ to left of the radix point."
   ]
  },
  {
   "cell_type": "markdown",
   "id": "59621ef0-dec5-40fb-8b4c-ee7789a36daa",
   "metadata": {},
   "source": [
    "For the right of the radix point, consider the number if we remove the parts before the radix point.\n",
    "$$(a_{-1}, a_{-2} \\dots a_{-m} )_r = \\sum _{i=-m}^{-1} a_i r^i = a_{-1} r^{-1} + r^{-2} \\sum_{i=-m} ^{-2} a_i r^{i+2} $$\n",
    "\n",
    "Now suppose that we multiply the number by $r$.\n",
    "$$r \\sum _{i=-m}^{-1} a_i r^i = r \\left(a_{-1} r^{-1} + r^{-2} \\sum_{i=-m} ^{-2} a_i r^{i+2}\\right) = a_{-1} + r^{-1} \\sum_{i=-m} ^{-2} a_i r^{i+2}  $$\n",
    "\n",
    "Notice that the second term is always $< 0$, hence $a_{-1}$ is the integer part of the resultant value."
   ]
  },
  {
   "cell_type": "markdown",
   "id": "2be3f3e8-da23-4095-a32a-be0c5b2df6db",
   "metadata": {},
   "source": [
    "Similarly, we can find all of $a_i$ to the right of the radix point by repeatedly multiplying by 2 and extracting the integer part."
   ]
  },
  {
   "cell_type": "code",
   "execution_count": 80,
   "id": "7390d8b2-0d8f-4248-a396-d3431a045c65",
   "metadata": {},
   "outputs": [],
   "source": [
    "def from_dec(n: float, r: int, max_len = 10):\n",
    "    SYMBOLS = '0123456789ABCDEF'\n",
    "    \n",
    "    left = int(n)\n",
    "    right = n - left\n",
    "    \n",
    "    l_digits = []\n",
    "    while left:\n",
    "        l_digits.append(SYMBOLS[left % r])\n",
    "        left //= r\n",
    "        \n",
    "    r_digits = []\n",
    "    for _ in range(max_len):\n",
    "        if right == 0:\n",
    "            break\n",
    "        right *= r\n",
    "        r_digits.append(SYMBOLS[int(right)])\n",
    "        right -= int(right)\n",
    "    \n",
    "    return ''.join((*reversed(l_digits), '.', *r_digits))"
   ]
  },
  {
   "cell_type": "code",
   "execution_count": 81,
   "id": "502f051f-1cce-4c1a-bad2-d03bca5f15e4",
   "metadata": {},
   "outputs": [
    {
     "name": "stdout",
     "output_type": "stream",
     "text": [
      "1101.11\n",
      "D.C\n",
      "15.6\n"
     ]
    }
   ],
   "source": [
    "print(from_dec(13.75, 2))\n",
    "print(from_dec(13.75, 16))\n",
    "print(from_dec(13.75, 8))"
   ]
  },
  {
   "cell_type": "markdown",
   "id": "56f0d94c-f689-4fb4-9c70-7117303f01ed",
   "metadata": {},
   "source": [
    "## Between binary, hex and octal\n",
    "\n",
    "### Hex $\\leftrightarrow$ Binary\n",
    "\n",
    "Each hex digit $\\leftrightarrow$ 4 binary digits\n",
    "\n",
    "### Octal $\\leftrightarrow$ Binary\n",
    "\n",
    "Each octal digit $\\leftrightarrow$ 3 binary digits\n",
    "\n",
    "### Hex $\\leftrightarrow$ Octal\n",
    "\n",
    "Use binary as an intermediate step\n",
    "\n",
    "---\n",
    "\n",
    "For all the steps above, remember to group the digits starting from the radix point."
   ]
  },
  {
   "cell_type": "markdown",
   "id": "91655f23-f6a4-4207-899c-dfa31bc8079d",
   "metadata": {},
   "source": [
    "## Binary arithmetic\n",
    "\n",
    "### Addition\n",
    "\n",
    "Similar to the addition we are used to in the decimal world, we can add digits together, and if they become too large, we \"carry\" the value to the next position.\n",
    "\n",
    "The following is the addition table in binary:\n",
    "```\n",
    "0 + 0 =  0 \n",
    "0 + 1 =  1 \n",
    "1 + 1 = 10 (carry)\n",
    "```\n",
    "\n",
    "Thus, for example:"
   ]
  },
  {
   "cell_type": "markdown",
   "id": "e95d0893-9af4-4018-ad2f-8a66c1bf4211",
   "metadata": {},
   "source": [
    "```\n",
    "  111       Carry\n",
    "-----------\n",
    "   10100\n",
    "+   1110\n",
    "----------- \n",
    "= 100010\n",
    "```"
   ]
  },
  {
   "cell_type": "markdown",
   "id": "6891ee69-29a8-4ae9-97d5-05418bbb51b5",
   "metadata": {},
   "source": [
    "To verify this, we can check that $$(10100)_2 + (1110)_2 = (20)_{10} + (14)_{10} = (34)_{10} = (100010)_2$$"
   ]
  },
  {
   "cell_type": "markdown",
   "id": "9d9b025b-e610-44b6-9669-0c736efecc79",
   "metadata": {},
   "source": [
    "### Multiplication"
   ]
  },
  {
   "cell_type": "markdown",
   "id": "b57862bb-957e-4b93-ae10-5aad00b5d426",
   "metadata": {},
   "source": [
    "To perform basic multiplication in decimal system, we compute each digit of one number multiplied by the second number, shifted by tens according to the digit's position.\n",
    "Then we sum it up.\n",
    "For example:"
   ]
  },
  {
   "cell_type": "markdown",
   "id": "4a4b15eb-35da-4a86-8436-335e036ce0fd",
   "metadata": {},
   "source": [
    "```\n",
    "-----------\n",
    "    1254\n",
    "x    302\n",
    "----------- \n",
    "    2508\n",
    "       0\n",
    "+ 376200\n",
    "-----------\n",
    "= 378708\n",
    "```"
   ]
  },
  {
   "cell_type": "markdown",
   "id": "85862685-a1c5-4799-be8c-fde2649e9ec6",
   "metadata": {},
   "source": [
    "This is much simpler in the binary case, since the digits is either 0 or 1, we simply just shift if by the relevant amount of spaces if the digit is a 1."
   ]
  },
  {
   "cell_type": "markdown",
   "id": "b33e2050-e3e3-4427-937a-615476104912",
   "metadata": {},
   "source": [
    "```\n",
    "------------\n",
    "     10100\n",
    "*     1101\n",
    "------------ \n",
    "     10100\n",
    "   10100\n",
    "+ 10100\n",
    "------------\n",
    " 100000100\n",
    "```"
   ]
  },
  {
   "cell_type": "markdown",
   "id": "194df6ac-0336-4903-8231-400bc0d8c63c",
   "metadata": {},
   "source": [
    "To verify this, we can check that $$(10100)_2 \\times (1101)_2 = (20)_{10} + (13)_{10} = (260)_{10} = (100000100)_2$$"
   ]
  },
  {
   "cell_type": "markdown",
   "id": "34081008-5ab1-4fd1-8767-52e36f70b252",
   "metadata": {},
   "source": [
    "### Subtraction\n",
    "\n",
    "The following is the subtraction table in binary:\n",
    "```\n",
    "0 - 0 = 0 \n",
    "1 - 0 = 1 \n",
    "1 - 1 = 0\n",
    "0 - 1 = 1 (borrow)\n",
    "```\n",
    "\n",
    "Thus, for example:"
   ]
  },
  {
   "cell_type": "markdown",
   "id": "6938085c-ca01-4147-a688-142c1e1f31d3",
   "metadata": {},
   "source": [
    "```\n",
    "   10100\n",
    "-   1110\n",
    "----------- \n",
    "=    110\n",
    "```"
   ]
  },
  {
   "cell_type": "markdown",
   "id": "da67bba7-9210-4af0-b2c7-dd93f61b31a7",
   "metadata": {},
   "source": [
    "### Division"
   ]
  },
  {
   "cell_type": "markdown",
   "id": "e0913310-9001-4136-9b62-389b358e4bf1",
   "metadata": {},
   "source": [
    "For division, we do the same as in the decimal, but by simply shifting and subtracting."
   ]
  },
  {
   "cell_type": "markdown",
   "id": "b1d8b6bf-2df1-435c-a50f-d7aa6c6cc39b",
   "metadata": {},
   "source": [
    "```\n",
    "       111\n",
    "     ____________\n",
    "101 / 100101\n",
    "   -   101    \n",
    "    -------------\n",
    "       10001    \n",
    "   -    101\n",
    "    -------------\n",
    "        0111   \n",
    "   -     101\n",
    "    -------------\n",
    "          10\n",
    "```"
   ]
  },
  {
   "cell_type": "markdown",
   "id": "a8b50e2d-2827-4916-b072-690ca742f479",
   "metadata": {},
   "source": [
    "To verify this, we can check that \n",
    "$$(100101)_2 = (37)_{10} = (7)_{10} \\times (5)_{10} + (2)_{10} = (111)_2 \\times (101)_2 + (10)_2$$"
   ]
  },
  {
   "cell_type": "markdown",
   "id": "3832c85e-c394-4a4b-b9ae-c5bfc1debf12",
   "metadata": {},
   "source": [
    "## Computer arithmetic\n",
    "\n",
    "Notice that in binary, we can use addition to implement multiplication, and subtraction to implement division.\n",
    "Suppose that we can represent negative numbers, then we can perform subtraction by adding a negative number, which allows us to perform all binary arithmetic operations just by using adders."
   ]
  },
  {
   "cell_type": "markdown",
   "id": "d8f43166-04be-46f7-9b57-cad9fe5455b1",
   "metadata": {},
   "source": [
    "Hence, our goal is to find a representation of binary numbers which is valid when adding negative numbers."
   ]
  },
  {
   "cell_type": "markdown",
   "id": "40db4f8b-3fdd-4a1b-b062-22119d0845f0",
   "metadata": {},
   "source": [
    "**Most significant bit**: the left-most bit of a binary number\n",
    "\n",
    "**Least significant bit**: the right-most bit of a binary number"
   ]
  },
  {
   "cell_type": "markdown",
   "id": "6279a847-d6c4-43e4-ba52-1248e10fbd14",
   "metadata": {},
   "source": [
    "### Unsigned binary"
   ]
  },
  {
   "cell_type": "markdown",
   "id": "1182411f-06dc-4991-bf8e-db7044261f19",
   "metadata": {},
   "source": [
    "The binary system that we'd introduce is actually the unsigned binary system.\n",
    "Notice that we cannot represent negative numbers with it.\n",
    "Hence, the possible range of a $n$-bit unsigned integer is $[0, 2^n-1]$."
   ]
  },
  {
   "cell_type": "markdown",
   "id": "f59e6a9d-b42b-415b-ae3a-1f238876499f",
   "metadata": {},
   "source": [
    "### Signed binary"
   ]
  },
  {
   "cell_type": "markdown",
   "id": "8d408639-ac8b-42f5-b8da-d132fb33bd7b",
   "metadata": {},
   "source": [
    "A straightforward way of representing negative numbers is to reserve the most-significant bit to represent the sign.\n",
    "$0$ means the number is positive, and $1$ means it is negative."
   ]
  },
  {
   "cell_type": "markdown",
   "id": "4d1ffefd-7db5-419e-9a00-0bcd739d77b8",
   "metadata": {},
   "source": [
    "For example, `1101` would be $-5$."
   ]
  },
  {
   "cell_type": "markdown",
   "id": "46cd572a-c400-410e-9eff-ca42cd9717f5",
   "metadata": {},
   "source": [
    "The possible range of a $n$-bit signed integer is $[-2^{-n}-1, 2^{n-1}-1]$."
   ]
  },
  {
   "cell_type": "markdown",
   "id": "358c816f-2053-4e1f-8f54-b9f08471bb2e",
   "metadata": {},
   "source": [
    "Now suppose we try to perform subtraction by adding a negative signed binary number."
   ]
  },
  {
   "cell_type": "markdown",
   "id": "2c4a0522-2ac0-436c-b55d-f47cbb0c13f9",
   "metadata": {},
   "source": [
    "1 in binary is `001`, thus -1 in unsigned binary is `101`."
   ]
  },
  {
   "cell_type": "markdown",
   "id": "927a21b2-0703-4e44-9e01-4c630f74be73",
   "metadata": {},
   "source": [
    "```\n",
    "   3\n",
    "-  1\n",
    "----------- \n",
    "=  2\n",
    "```"
   ]
  },
  {
   "cell_type": "markdown",
   "id": "96f030c9-b339-4789-9472-8ef8857404c7",
   "metadata": {},
   "source": [
    "```\n",
    "    011\n",
    "+   101\n",
    "----------- \n",
    "=(1)000\n",
    "```"
   ]
  },
  {
   "cell_type": "markdown",
   "id": "384154a3-7874-45df-baf8-46c6c91bdb4d",
   "metadata": {},
   "source": [
    "Since we are working with 3-bits, the final carry `1` will be discarded, leaving us with `000`, which is wrong."
   ]
  },
  {
   "cell_type": "markdown",
   "id": "6022c191-ad55-46bf-9d82-9f810104b14e",
   "metadata": {},
   "source": [
    "Thus, signed binary is unable to fulfill our needs."
   ]
  },
  {
   "cell_type": "markdown",
   "id": "eae24d0a-fcfe-44d0-b790-4e46c1e8fa85",
   "metadata": {},
   "source": [
    "### 1's complement"
   ]
  },
  {
   "cell_type": "markdown",
   "id": "3c36b7f7-94e8-4bce-befc-1d65dee34b1d",
   "metadata": {},
   "source": [
    "For a number system with radix $r$, the **diminished radix complement** of a $n$-digit number $A$ is defined as:\n",
    "$$\n",
    "A^{**} = r^n - A - 1\n",
    "$$"
   ]
  },
  {
   "cell_type": "markdown",
   "id": "58de2eb1-ad05-4cb5-94f9-2d8558bf3805",
   "metadata": {},
   "source": [
    "The 1's complement is the diminished radix complement of a binary number."
   ]
  },
  {
   "cell_type": "markdown",
   "id": "c7e2e427-c18c-4109-bd29-809e38ce012d",
   "metadata": {},
   "source": [
    "Since $r^n - 1$ is simply a $n$-digit number with all 1's, $A^{**}$ is simply $A$ but with all its bits flipped.\n",
    "\n",
    "For example, $A = (1010)_2, A^{**} = (1111)_2 - (1010)_2 = (0101)_2$"
   ]
  },
  {
   "cell_type": "markdown",
   "id": "d6731fe6-749b-4744-ab9b-b94ee4a5002d",
   "metadata": {},
   "source": [
    "The possible range of a $n$-bit 1's complement is $[-2^{-n}-1, 2^{n-1}-1]$, the same as signed integer."
   ]
  },
  {
   "cell_type": "markdown",
   "id": "2972f39f-1a68-4c8b-a978-6098b4d359da",
   "metadata": {},
   "source": [
    "Now suppose we try to perform subtraction by adding 1's complement representation of the number."
   ]
  },
  {
   "cell_type": "markdown",
   "id": "3e30ffed-8861-42c3-8f6b-f0b950957008",
   "metadata": {},
   "source": [
    "1 in binary is `001`, thus -1 is the 1's complement which is `110`."
   ]
  },
  {
   "cell_type": "markdown",
   "id": "43c5781d-cf46-431c-945e-d651a0243328",
   "metadata": {},
   "source": [
    "```\n",
    "   011\n",
    "+  110\n",
    "----------- \n",
    "= 1001\n",
    "```"
   ]
  },
  {
   "cell_type": "markdown",
   "id": "5b4270c4-013f-47ef-8082-8a22cfe0a531",
   "metadata": {},
   "source": [
    "For the sum to be correct, we need to add the final carry bit back into the number, thus we get:"
   ]
  },
  {
   "cell_type": "markdown",
   "id": "edcaf3bb-c983-4ff7-8d45-0f253ea00602",
   "metadata": {},
   "source": [
    "```\n",
    "   011\n",
    "+  110\n",
    "----------- \n",
    "(1)001\n",
    "+    1\n",
    "----------- \n",
    "   010\n",
    "```"
   ]
  },
  {
   "cell_type": "markdown",
   "id": "80ec8409-dc72-4fe4-99b5-112836792071",
   "metadata": {},
   "source": [
    "Verify that the above is correct in the decimal system."
   ]
  },
  {
   "cell_type": "markdown",
   "id": "2f0de38b-fb46-49f2-99d3-bb463e469de2",
   "metadata": {},
   "source": [
    "Similarly, for $3 + (-2)$ in the decimal world:"
   ]
  },
  {
   "cell_type": "markdown",
   "id": "b6b5cef9-993a-4fcc-b51f-b9cb4adb47ec",
   "metadata": {},
   "source": [
    "```\n",
    "   011\n",
    "+  101\n",
    "----------- \n",
    "(1)000\n",
    "+    1\n",
    "----------- \n",
    "   001\n",
    "```"
   ]
  },
  {
   "cell_type": "markdown",
   "id": "a08a7354-06c8-405c-a1db-159d4a4d5bd7",
   "metadata": {},
   "source": [
    "### 2's complement"
   ]
  },
  {
   "cell_type": "markdown",
   "id": "6a9fc620-a436-447b-a311-cd35de05c15f",
   "metadata": {},
   "source": [
    "For a number system with radix $r$, the **radix complement** of a $n$-digit number $A$ is defined as:\n",
    "$$\n",
    "A^{*} = r^n - A = A^{**} + 1\n",
    "$$"
   ]
  },
  {
   "cell_type": "markdown",
   "id": "c5404e0b-e92b-4f08-9876-94983638db9c",
   "metadata": {},
   "source": [
    "The 2's complement is the radix complement of a binary number."
   ]
  },
  {
   "cell_type": "markdown",
   "id": "0a33207b-2b27-4101-b77c-dd402e743651",
   "metadata": {},
   "source": [
    "This is also simply the 1's complement of the number + 1."
   ]
  },
  {
   "cell_type": "markdown",
   "id": "d8cfb27b-391f-46a6-a291-0ead9eb6cd93",
   "metadata": {},
   "source": [
    "The possible range of a $n$-bit 2's complement is $[-2^{-n}, 2^{n-1}-1]$."
   ]
  },
  {
   "cell_type": "markdown",
   "id": "99e81ff6-1ed1-4fd8-9dc5-85183c03d9e9",
   "metadata": {},
   "source": [
    "Now suppose we try to perform subtraction by adding 2's complement representation of the number."
   ]
  },
  {
   "cell_type": "markdown",
   "id": "8078b9f7-ea5f-4ed7-96f5-7f087d5e70af",
   "metadata": {},
   "source": [
    "The 1's complement of -1 which was `110`, hence the 2's complement is `111`."
   ]
  },
  {
   "cell_type": "markdown",
   "id": "155878df-8613-40b2-8d5f-61fec799733d",
   "metadata": {},
   "source": [
    "For the sum to be correct, we ignore the overflow bit."
   ]
  },
  {
   "cell_type": "markdown",
   "id": "1e530933-626a-4c89-b5cc-ab5831b04d10",
   "metadata": {},
   "source": [
    "```\n",
    "   011\n",
    "+  111\n",
    "----------- \n",
    "(1)010\n",
    "```"
   ]
  },
  {
   "cell_type": "markdown",
   "id": "6b575bcf-d9fb-4beb-a602-9fb5410b8e89",
   "metadata": {},
   "source": [
    "Similarly, for $3 +(-2)$:"
   ]
  },
  {
   "cell_type": "markdown",
   "id": "bc394465-7f65-477c-8e6f-95e284b09544",
   "metadata": {},
   "source": [
    "```\n",
    "   011\n",
    "+  110\n",
    "----------- \n",
    "(1)001\n",
    "```"
   ]
  },
  {
   "cell_type": "markdown",
   "id": "5c2ef562-bd11-475e-8fcc-069cb90fd749",
   "metadata": {},
   "source": [
    "#### Benefits over 1's complement\n",
    "* No need to process final carry bit\n",
    "* There is only 1 representation of 0 (`000`), while 1's complement has 2 (`000` and `111`)"
   ]
  },
  {
   "cell_type": "markdown",
   "id": "2fc2eb01-9608-4382-a129-7220bf432d3b",
   "metadata": {},
   "source": [
    "## Representation limits\n",
    "\n",
    "### Overflow\n",
    "\n",
    "For a $n$-bit number, we know that there is a limit to how large a number it can represent.\n",
    "It is possible that our addition result in a number that is beyond this limit, this is when an **overflow** occurs."
   ]
  },
  {
   "cell_type": "markdown",
   "id": "ed69e108-ed40-45b3-baf6-bb765b77cd30",
   "metadata": {},
   "source": [
    "When an overflow occurs, the result is not valid."
   ]
  },
  {
   "cell_type": "markdown",
   "id": "44867479-929a-4291-9d6b-346c5f0800ed",
   "metadata": {},
   "source": [
    "For example, adding `011` and `010` in 2's complement (equivalent to 3 and 2 in decimal) result in `101`, which is -3, giving us a wrong result."
   ]
  },
  {
   "cell_type": "markdown",
   "id": "73db33e8-0036-48d9-ab2d-36ccd07b2688",
   "metadata": {},
   "source": [
    "#### Detecting overflows"
   ]
  },
  {
   "cell_type": "markdown",
   "id": "32878bb0-3900-4545-8bc6-6553a9261cc9",
   "metadata": {},
   "source": [
    "To detect overflow, we know it happens **when the sign of the two operands are the same, but different from the sign of the result**."
   ]
  },
  {
   "cell_type": "markdown",
   "id": "f96d9822-4d97-4fb5-aaf4-9b48ab8b3c7d",
   "metadata": {},
   "source": [
    "As in our previous example, we are adding two positive number, and yet resulted in an negative number, hence we know that overflow has occurred."
   ]
  }
 ],
 "metadata": {
  "kernelspec": {
   "display_name": "Python 3 (ipykernel)",
   "language": "python",
   "name": "python3"
  },
  "language_info": {
   "codemirror_mode": {
    "name": "ipython",
    "version": 3
   },
   "file_extension": ".py",
   "mimetype": "text/x-python",
   "name": "python",
   "nbconvert_exporter": "python",
   "pygments_lexer": "ipython3",
   "version": "3.10.4"
  }
 },
 "nbformat": 4,
 "nbformat_minor": 5
}
