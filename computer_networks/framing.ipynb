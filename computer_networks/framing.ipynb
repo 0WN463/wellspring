{
 "cells": [
  {
   "cell_type": "markdown",
   "id": "de095a95",
   "metadata": {},
   "source": [
    "# Framing"
   ]
  },
  {
   "cell_type": "markdown",
   "id": "029f932a",
   "metadata": {},
   "source": [
    "Now that we've sorted out how to transit our binary data across the medium, we need to perform **framing**.\n",
    "\n",
    "This means to group the bits in some logical manner, so that we can treat them \"as a block\" to perform things like error checking."
   ]
  },
  {
   "cell_type": "markdown",
   "id": "9673ff06",
   "metadata": {},
   "source": [
    "## Approaches\n"
   ]
  },
  {
   "cell_type": "markdown",
   "id": "f12569ab",
   "metadata": {},
   "source": [
    "### Sentinel\n",
    "\n",
    "We use a special sequence (`01111110`) to determine when a frame starts/stops.\n",
    "\n",
    "A typical frame would look like:\n",
    "\n",
    "```\n",
    "Starting sequence - Headers - Body - CRC - Ending sequence\n",
    "```"
   ]
  },
  {
   "cell_type": "markdown",
   "id": "f989d486",
   "metadata": {},
   "source": [
    "However, the frame would be wrong if the special sequence appears in the payload.\n",
    "\n",
    "We combat this by performing bit-stuffing or byte-stuffing.\n"
   ]
  },
  {
   "cell_type": "markdown",
   "id": "677322c1",
   "metadata": {},
   "source": [
    "#### Bit stuffing\n",
    "\n",
    "When sending, we simply insert a 0 after 5 consecutive 1's, thus we would never encounter the 6 1's pattern (which is required in the sentinel) in our message.\n",
    "\n",
    "When receiving, we remove the 0 after 5 consecutive 1's.\n",
    "\n",
    "Usage: HLDC (high level datalink protocol)"
   ]
  },
  {
   "cell_type": "markdown",
   "id": "e0430d75",
   "metadata": {},
   "source": [
    "#### Byte stuffing\n",
    "\n",
    "`01111110` is `7E` as bytes.\n",
    "\n",
    "We use `7D` as an escape sequence.\n",
    "\n",
    "When sending, we replace `7E` with `7D 5E`, and `7D` with `7D 5D`.\n",
    "\n",
    "When receiving, we just undo the operation.\n",
    "\n",
    "Usage: PPP (Point to Point protocol)"
   ]
  },
  {
   "cell_type": "markdown",
   "id": "df09518f",
   "metadata": {},
   "source": [
    "### Counter\n"
   ]
  },
  {
   "cell_type": "markdown",
   "id": "acd1d8b3",
   "metadata": {},
   "source": [
    "We include the frame length in the header.\n",
    "\n",
    "Usage: DDMP (Digital data messaging protocol)"
   ]
  },
  {
   "cell_type": "markdown",
   "id": "f4bbf5be",
   "metadata": {},
   "source": [
    "### Clock"
   ]
  },
  {
   "cell_type": "markdown",
   "id": "13cea132",
   "metadata": {},
   "source": [
    "Each frame is a specified time period long (_eg_ $125 \\mu s$).\n",
    "\n",
    "Usage: (SONET) Synchronous optical network"
   ]
  },
  {
   "cell_type": "markdown",
   "id": "482e2889",
   "metadata": {},
   "source": [
    "## Error detecting"
   ]
  },
  {
   "cell_type": "markdown",
   "id": "8228d101",
   "metadata": {},
   "source": [
    "We need to be mindful that our transmission medium is not 100% reliable.\n",
    "So we need a way for the receiver to detect errors in the message.\n",
    "\n",
    "### Cyclic redundancy check (CRC)\n",
    "\n",
    "We add $k$ bits of data which is used to check for errors.\n",
    "\n",
    "Ideally, $k$ should be as small as possible, while being informative enough to detect different levels of errors.\n",
    "\n",
    "We represent the $n$ bit message as a $n-1$ degree polynomial.\n",
    "So if the message is `1001101`, the polynomial is $x^6 + x^3 + x^2 + 1$.\n"
   ]
  },
  {
   "cell_type": "markdown",
   "id": "8e7f43b9",
   "metadata": {},
   "source": [
    "We then have some pre-agreed divisor polynomial with degree $k+1$, _eg_ `1101` = $x^3 + x^2 + 1$."
   ]
  },
  {
   "cell_type": "markdown",
   "id": "5fccc6a1",
   "metadata": {},
   "source": [
    "To compute the CRC:\n",
    "1. shift the message by $k$ bits\n",
    "2. divide the message by the divisor\n",
    "3. the $k$ bit remainder is the CRC\n",
    "\n",
    "When we subtract the remainder from the shifted message, notice that the result can be evenly divided by the divisor.\n",
    "\n",
    "Note that division is done in a finite field, so there is no \"carrying\". _eg_ `101` / `11` = `11`."
   ]
  },
  {
   "cell_type": "markdown",
   "id": "045cb72a",
   "metadata": {},
   "source": [
    "If the message received is evenly divisible by the divisor, then **no error is detected**.\n",
    "\n",
    "If there is a non-zero remainder, then **some error is detected** in the message.\n",
    "\n",
    "Note that it is possible for some errors to be undetected, _ie_ if $M$ is the original message, and $M + E$ is the corrupted message; if $E$ is divisible by the divisor, then the error is undetected."
   ]
  },
  {
   "cell_type": "markdown",
   "id": "b605f246",
   "metadata": {},
   "source": [
    "#### Choice of divisors\n",
    "\n",
    "Choosing different divisors gives us the ability to catch different levels of errors:\n",
    "* $x^k$ and $x^0$ are non-zero allows us to catch any single bit error\n",
    "    * $E = 1 << m$ will never be divisible by $x^k + \\dots + 1$\n",
    "* when the divisor is a factor of $(x + 1)$, we can catch any odd bit errors\n",
    "    * any $E$ with odd number of 1's will never be divisible by $x + 1$, since each step of the division changes the number of bits in the partial quotient by an even amount, but no number of steps can turn all odd bits off\n",
    "* any \"burst\" errors (consecutive bit errors) of length $\\leq k$ is detectable\n",
    "* **most** burst errors of length $> k$ are detectable"
   ]
  },
  {
   "cell_type": "markdown",
   "id": "24e4d8e3",
   "metadata": {},
   "source": [
    "Standard CRC's includes:\n",
    "* CRC-8\n",
    "* CRC-10\n",
    "* CRC-12\n",
    "* CRC-16\n",
    "* CRC-32\n",
    "    * Used by Ethernet\n",
    "    \n",
    "where each number is the degree of the polynomial."
   ]
  }
 ],
 "metadata": {
  "jupytext": {
   "formats": "ipynb,md"
  },
  "kernelspec": {
   "display_name": "Python 3 (ipykernel)",
   "language": "python",
   "name": "python3"
  },
  "language_info": {
   "codemirror_mode": {
    "name": "ipython",
    "version": 3
   },
   "file_extension": ".py",
   "mimetype": "text/x-python",
   "name": "python",
   "nbconvert_exporter": "python",
   "pygments_lexer": "ipython3",
   "version": "3.10.8"
  }
 },
 "nbformat": 4,
 "nbformat_minor": 5
}
