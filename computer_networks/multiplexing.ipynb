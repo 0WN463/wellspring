{
 "cells": [
  {
   "cell_type": "markdown",
   "id": "7a2d7ec5",
   "metadata": {},
   "source": [
    "# Multiplexing\n",
    "  \n",
    "Suppose that we have 2 input links but only 1 output link.\n",
    "We need a process to allow us to trasmit the data from the two input links using only 1 output link.\n",
    "\n",
    "Thus, we need some form of **multiplexing**.\n",
    "\n",
    "The two main types of multiplexing are:\n",
    "* Time division multiplexing\n",
    "    * used in computer networks\n",
    "* Frequency domain multiplexing\n",
    "    * used in cable TV and radio\n",
    "    "
   ]
  },
  {
   "cell_type": "markdown",
   "id": "a8f375a2",
   "metadata": {},
   "source": [
    "## Time division multiplexing\n",
    "\n",
    "A straightforward way of achieving this is to interleave the input bytes.\n",
    "\n",
    "Suppose the two input link has the same data rate.\n",
    "The output link will transmit at twice their speed, for every two byte that is transmitted at the output link, the first byte belongs to the first input link, and similarly for the second."
   ]
  },
  {
   "cell_type": "markdown",
   "id": "7d7c81a1",
   "metadata": {},
   "source": [
    "## Fixed time division multiplexing\n",
    "\n",
    "We usually refer to fixed TDM when talking about TDM.\n",
    "\n",
    "A fixed and dedicated bandwidth is given to each link.\n",
    "For example, given two link of rate 10bps, the output link will be 20bps, where each of the input link's data is **guaranteed** to be transmitted at 10bps.\n",
    "The guarantee means that every byte that comes from the input link will be transferred onto the output link (compared to statistical TDM)\n",
    "\n",
    "However, this may lead to inefficient bandwidth usage, if the links is not always transmitting at the declared rate."
   ]
  },
  {
   "cell_type": "markdown",
   "id": "8e8afc10",
   "metadata": {},
   "source": [
    "## Statistical time division multiplexing\n",
    "\n",
    "Input links that has a higher demand will get to use the output link more.\n",
    "\n",
    "If the sum of the rates of the input links exceed the rate of the output link, the data will be sent to a buffer.\n",
    "\n",
    "Due to the delay of the packet being dependent on the amount of enqueued data in the buffer, there is no guarantee on the bandwidth that each input link gets.\n",
    "\n",
    "Also, the data will be lost if the buffer overflows.\n",
    "\n",
    "In exchange, we get better utilization of bandwidth."
   ]
  },
  {
   "cell_type": "markdown",
   "id": "d7fad4af",
   "metadata": {},
   "source": [
    "## Switch\n",
    "\n",
    "A switch is a hardware that has some input links and output links.\n",
    "\n",
    "Switching is the act of forwarding data from input port to output port."
   ]
  },
  {
   "cell_type": "markdown",
   "id": "017a0e0e",
   "metadata": {},
   "source": [
    "### Circuit switching\n",
    "\n",
    "Circuit switching divides the link bandwidth into fixed-size circuit.\n",
    "It connects input circuit to an output circuit.\n",
    "Hence, it uses fixed TDM for circuits that correspond to time slots, and WDM for those that correspond to wavelengths.\n",
    "\n",
    "TODO: explain WDM\n"
   ]
  },
  {
   "cell_type": "markdown",
   "id": "97cb8367",
   "metadata": {},
   "source": [
    "### Packet switching\n",
    "\n",
    "Packets are stored in a buffer and forwarded to a output link when it is free.\n",
    "Uses statistical TDM.\n",
    "Used in Ethernet switches and routers.\n",
    "\n",
    "Different packets from the same message may travel different routes."
   ]
  }
 ],
 "metadata": {
  "kernelspec": {
   "display_name": "Python 3 (ipykernel)",
   "language": "python",
   "name": "python3"
  },
  "language_info": {
   "codemirror_mode": {
    "name": "ipython",
    "version": 3
   },
   "file_extension": ".py",
   "mimetype": "text/x-python",
   "name": "python",
   "nbconvert_exporter": "python",
   "pygments_lexer": "ipython3",
   "version": "3.10.8"
  }
 },
 "nbformat": 4,
 "nbformat_minor": 5
}
