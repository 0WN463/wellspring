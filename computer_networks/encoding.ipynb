{
 "cells": [
  {
   "cell_type": "markdown",
   "id": "de095a95",
   "metadata": {},
   "source": [
    "# Encoding "
   ]
  },
  {
   "cell_type": "markdown",
   "id": "029f932a",
   "metadata": {},
   "source": [
    "To transmit data over a physical medium, we need to encode our binary data into a signal over the medium.\n",
    "\n",
    "## Non-return to zero (NRZ)\n",
    "\n",
    "This is a simple encoding scheme where 0's are encoded as low level in the signal and 1's are encoded as high."
   ]
  },
  {
   "cell_type": "markdown",
   "id": "384dcc54",
   "metadata": {},
   "source": [
    "### Consecutive 1's or 0's\n",
    "\n",
    "Suppose that our data contains consecutive 0's or 1's.\n",
    "The following issues arises with NRZ.\n",
    "\n",
    "1. Unable to detect if the signal is lost, _eg_ sender goes down\n",
    "    *  the resultant stream of 0's is indifferentiable from data\n",
    "2. Unable to recover clock\n",
    "    * Over time, clock may be slightly out of sync. Without signal changes, receiver is unable to detect the changes in interval"
   ]
  },
  {
   "cell_type": "markdown",
   "id": "d2b17fad",
   "metadata": {},
   "source": [
    "## Non-return to zero inverted (NRZI)\n",
    "\n",
    "\n",
    "0's are encoded as the signal remaining the same.\n",
    "\n",
    "1's are encoded as a change in signal.\n",
    "\n",
    "The only way for the signal to remain constant is if there is consecutive 0's, hence we fixed the case of consecutive 1's.\n",
    "\n",
    "## Manchester \n",
    "\n",
    "0's are encoded by transitions of low to high.\n",
    "\n",
    "1's are encoded by transitions of high to low.\n",
    "\n",
    "This solves the issue of consecutive 1's and 0's.\n",
    "\n",
    "However, it has really poor efficiency, as we can only encode 1 bit using 2 clock cycles.\n",
    "For example, to encode consecutive 1's, we need to transition from high to low, then pull the signal up again before sending the next 1.\n",
    "\n",
    "This is used in LAN's.\n",
    "\n",
    "## 4B/5B\n",
    "\n",
    "For this encoding, we group the data into groups of 4 bits, and represent them using 5 bits, encoded by NRZI.\n",
    "\n",
    "We choose our set of 5 bits representation such that there is at most 1 leading 0's and at most 2 trailing 0's.\n",
    "\n",
    "This is used "
   ]
  },
  {
   "cell_type": "code",
   "execution_count": 17,
   "id": "7494c1a8",
   "metadata": {
    "scrolled": false
   },
   "outputs": [
    {
     "name": "stdout",
     "output_type": "stream",
     "text": [
      "21\n"
     ]
    }
   ],
   "source": [
    "from itertools import product\n",
    "\n",
    "print(len([s for s in product('01', repeat=5) \\\n",
    "           if not ''.join(s).startswith('00') and not ''.join(s).endswith('000')]))"
   ]
  },
  {
   "cell_type": "markdown",
   "id": "773608eb",
   "metadata": {},
   "source": [
    "Since there are 21 such 5 bits sequences, it is sufficient to represent all our 16 4-bits sequences.\n",
    "\n",
    "As an improvement, we use 11111 to signal the line is idle.\n",
    "\n",
    "With this, we achieve 80% efficiency."
   ]
  }
 ],
 "metadata": {
  "kernelspec": {
   "display_name": "Python 3 (ipykernel)",
   "language": "python",
   "name": "python3"
  },
  "language_info": {
   "codemirror_mode": {
    "name": "ipython",
    "version": 3
   },
   "file_extension": ".py",
   "mimetype": "text/x-python",
   "name": "python",
   "nbconvert_exporter": "python",
   "pygments_lexer": "ipython3",
   "version": "3.10.8"
  }
 },
 "nbformat": 4,
 "nbformat_minor": 5
}
