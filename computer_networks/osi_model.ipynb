{
 "cells": [
  {
   "cell_type": "markdown",
   "id": "de095a95",
   "metadata": {},
   "source": [
    "## OSI Model <span id = \"osi-model\"/>"
   ]
  },
  {
   "cell_type": "markdown",
   "id": "62d4453d",
   "metadata": {},
   "source": [
    "A fundamental of computing is abstraction.\n",
    "It allows us to perform processes at a higher level, ignoring the details at a lower level.\n",
    "\n",
    "This also applies to computer networks.\n",
    "Thus, we split the process of transmitting over a network into layers.\n",
    "These layers are called the **Open Systems Interconnection (OSI) layers**.\n",
    "Each layer is responsible for a component of the transmission."
   ]
  },
  {
   "cell_type": "markdown",
   "id": "f8230187",
   "metadata": {},
   "source": [
    "To communicate within and across layers, there are a set of **protocols** that needs to be adhered to."
   ]
  },
  {
   "cell_type": "markdown",
   "id": "b775c1ea",
   "metadata": {},
   "source": [
    "## Layers\n",
    "\n",
    "The 7 layers of the OSI model is as follows.\n",
    "\n",
    "### Physical layer (Layer 1)\n",
    "\n",
    "* Governs transmission of raw bits over a link\n",
    "* Can be transmitted via various physical means, _eg_ voltage across wire, signal waves across the air\n",
    "\n",
    "### Data link layer (Layer 2)\n",
    "\n",
    "* Governs the transmission in link-to-link, point-to-point and broadcast links\n",
    "* Collects bits into frames\n",
    "* May perform error and flow control\n",
    "\n",
    "### Network layer (Layer 3)\n",
    "* Governs the routing of packets between nodes\n",
    "* May perform congestion control\n",
    "* Related terms: IP\n",
    "\n",
    "### Transport layer (Layer 4)\n",
    "* Handles the end-to-end message transfer\n",
    "* Ensures message reliability \n",
    "* Flow control and congestion control\n",
    "* Related terms: UDP, TCP\n",
    "\n",
    "### Session layer (Layer 5)\n",
    "* Provide namespace to group streams that are part of the same application, _eg_ audio and video stream of a video playback.\n",
    "\n",
    "### Presentation layer (Layer 6)\n",
    "* Handles the data representation\n",
    "* Decides on endianess\n",
    "* Compression\n",
    "* Encryption\n",
    "\n",
    "### Application layer (Layer 7)\n",
    "* Provide protocol to support different application, _eg_ HTTP for web browsing, SMTP for email\n"
   ]
  },
  {
   "cell_type": "markdown",
   "id": "dd5d6984",
   "metadata": {},
   "source": [
    "During transfer, data flows from the sender at the highest level (_eg_ layer 7) to the lowest level.\n",
    "The message then reachest the receiver at the lowest level before ascending to the receiver's highest level."
   ]
  },
  {
   "cell_type": "markdown",
   "id": "2cf8f19a",
   "metadata": {},
   "source": [
    "## Protocol data unit\n",
    "\n",
    "The data units used at different layers have different names, which makes it clearer in discussions.\n",
    "\n",
    "The naming is as follows:\n",
    "* Link layer: frame\n",
    "* Network layer: datagram\n",
    "* Transport layer: segment\n",
    "* Application layer: message\n",
    "\n",
    "\n",
    "As data goes down the layer at the sender side, header information of the layer is added to data.\n",
    "This is known as **encapsulation**.\n",
    "Hence, the data gets larger and larger as we go down the layer.\n",
    "\n",
    "Similarly, on the receiver end, the header information gets stripped away while we go up the layers."
   ]
  },
  {
   "cell_type": "markdown",
   "id": "c62e40eb",
   "metadata": {},
   "source": [
    "## Address Resolution Protocol <span id=\"arp\"/>"
   ]
  },
  {
   "cell_type": "code",
   "execution_count": null,
   "id": "3061461d",
   "metadata": {},
   "outputs": [],
   "source": []
  },
  {
   "cell_type": "code",
   "execution_count": null,
   "id": "bd8c287e",
   "metadata": {},
   "outputs": [],
   "source": []
  },
  {
   "cell_type": "code",
   "execution_count": null,
   "id": "ee50c376",
   "metadata": {},
   "outputs": [],
   "source": []
  },
  {
   "cell_type": "code",
   "execution_count": null,
   "id": "7494c1a8",
   "metadata": {},
   "outputs": [],
   "source": []
  }
 ],
 "metadata": {
  "kernelspec": {
   "display_name": "Python 3 (ipykernel)",
   "language": "python",
   "name": "python3"
  },
  "language_info": {
   "codemirror_mode": {
    "name": "ipython",
    "version": 3
   },
   "file_extension": ".py",
   "mimetype": "text/x-python",
   "name": "python",
   "nbconvert_exporter": "python",
   "pygments_lexer": "ipython3",
   "version": "3.10.8"
  }
 },
 "nbformat": 4,
 "nbformat_minor": 5
}
