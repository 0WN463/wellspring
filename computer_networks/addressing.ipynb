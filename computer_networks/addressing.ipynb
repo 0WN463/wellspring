{
 "cells": [
  {
   "cell_type": "markdown",
   "id": "67718623",
   "metadata": {},
   "source": [
    "# Addressing\n",
    "\n",
    "An **address** identifies a node in the network.\n",
    "This is transferred as part of the packet.\n",
    "We will need it when performing **routing**, which is the process of forwarding messages to the destination based on the address.\n",
    "\n",
    "Types of address:\n",
    "* unicast: refers to a specific node\n",
    "* broadcast: refers to all nodes in the network\n",
    "* multicast: refers to a subset of nodes in the network"
   ]
  },
  {
   "cell_type": "markdown",
   "id": "e5291673",
   "metadata": {},
   "source": [
    "## IP Address\n",
    "\n",
    "IP address is (traditionally, _ie_ IPv4) a 4 byte address, in the form of `a.b.c.d`.\n",
    "\n",
    "It is hierarchical, meaning all hosts in the same network will have the same network ID, which is a prefix of the address, _eg_ `a.b` can be the network address, `a.b.c.e` and `a.b.d.f` are one the same network\n",
    "\n",
    "We use [Dynamic name resolution (DNS)](TODO) to obtain the IP address from the more usable domain name, _eg_ `www.google.com` to `27.45.2.54`"
   ]
  },
  {
   "cell_type": "markdown",
   "id": "61d2b563",
   "metadata": {},
   "source": [
    "## MAC address\n",
    "\n",
    "On a hardware level, each host has a network interface card, which is associated with a **MAC address**.\n",
    "This is a 6 byte address, in the form of `a:b:c:d:e:f`, which is tied to the hardware.\n",
    "\n",
    "Unlike IP addresses, MAC addresses are not hierarchical.\n",
    "\n",
    "When a host notices a packet that is addressed for its MAC address, it receives it.\n",
    "\n",
    "Hosts on the same LAN know the mapping of IP address to MAC address of any host in the network via the Address Resolution Protocol (ARP).\n",
    "\n",
    "TODO: Add link to ARP"
   ]
  },
  {
   "cell_type": "markdown",
   "id": "ef8b1ecc",
   "metadata": {},
   "source": [
    "## Packet transfer\n",
    "\n",
    "### Within LAN\n",
    "\n",
    "1. Host A wants to transfer to host B on the same LAN\n",
    "2. Host A gets the IP address of B using DNS\n",
    "3. Host A compares the network address of B and itself from their IP addresses\n",
    "4. Since the network addresses match (_ie_ they are on the same LAN), host A attaches the **MAC address of host B**\n",
    "   * Host A uses ARP to get the MAC address of B from the IP address\n",
    "6. Host A broadcasts the packet on the network\n",
    "7. All hosts on the network sees this packet\n",
    "8. Host B sees its MAC address in the packet, hence it is the intended recipient and thus receives the packet"
   ]
  },
  {
   "cell_type": "markdown",
   "id": "37817cd2",
   "metadata": {},
   "source": [
    "### Across LAN\n",
    "\n",
    "1. Host A wants to transfer to host B on the different LAN\n",
    "1. The two LANS have routers (A and B respectively), of which are connected via a network\n",
    "1. Host A gets the IP address of B using DNS\n",
    "1. Host A compares the network address of B and itself from their IP addresses\n",
    "1. Since the network addresses don't match (_ie_ they are on the same LAN), host A attaches the **MAC address of the router in its network**\n",
    "6. Host A broadcasts the packet on the network\n",
    "7. All hosts on the network sees this packet\n",
    "8. Router A sees its MAC address in the packet, hence receives the packet\n",
    "1. Router A sees the network address of the intended recipient (LAN B) and uses the IP address to route the packet to router B\n",
    "1. Router B receives the packet\n",
    "1. Router B sees that it is intended for host B and thus looks up host B's MAC address via ARP and attaches it to the packet\n",
    "1. Router B broadcasts the packet on its LAN\n",
    "1. Host B sees and receives the packet"
   ]
  }
 ],
 "metadata": {
  "kernelspec": {
   "display_name": "Python 3 (ipykernel)",
   "language": "python",
   "name": "python3"
  },
  "language_info": {
   "codemirror_mode": {
    "name": "ipython",
    "version": 3
   },
   "file_extension": ".py",
   "mimetype": "text/x-python",
   "name": "python",
   "nbconvert_exporter": "python",
   "pygments_lexer": "ipython3",
   "version": "3.10.8"
  }
 },
 "nbformat": 4,
 "nbformat_minor": 5
}
