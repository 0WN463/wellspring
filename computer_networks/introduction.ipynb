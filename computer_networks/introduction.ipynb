{
 "cells": [
  {
   "cell_type": "markdown",
   "id": "7b52d71e",
   "metadata": {},
   "source": [
    "# Network"
   ]
  },
  {
   "cell_type": "markdown",
   "id": "69951268",
   "metadata": {},
   "source": [
    "A **network** is simply a a set of systems connected by links.\n",
    "In fact, the internet is simply a gigantic computer network.\n",
    "\n",
    "Data transfer occurs in the following steps:\n",
    "1. Sender initiates a transfer to the receiver\n",
    "2. A channel is established between sender and receiver\n",
    "3. Data is segmented into chunks called **packets** and sent to the receiver\n",
    "4. Receiver receives the packet and reassembles it to get to original message\n"
   ]
  },
  {
   "cell_type": "markdown",
   "id": "030690d5",
   "metadata": {},
   "source": [
    "## Requirements\n",
    "\n",
    "* Data is delivered within an acceptable delay\n",
    "* Efficient use of network resource\n",
    "    * Low latency, high throughput\n",
    "* Reliable, should account for:\n",
    "    * Bit error\n",
    "    * Burst error\n",
    "    * Packet loss\n",
    "    * Link/Node failure\n",
    "* Packets should be delivered in order\n",
    "* Secure\n",
    "    * Account for authentication/authorization\n",
    "    * Detect and mitigate attacks "
   ]
  },
  {
   "cell_type": "markdown",
   "id": "755e17d4",
   "metadata": {},
   "source": [
    "## Links\n",
    "\n",
    "Links connect nodes in the network together.\n",
    "They transmit data bit-by-bit across the nodes.\n",
    "They are characterized by:\n",
    "* Bandwidth (Hz)\n",
    "* Data rate/transmission rate (bits per sec, bps)\n",
    "* Channel capacity\n",
    "    * Maximum bps that data can be transfer, restricted on certain conditions, _eg_ signal-to-noise ratio"
   ]
  },
  {
   "cell_type": "markdown",
   "id": "da8972be",
   "metadata": {},
   "source": [
    "In the context of computer networks, these terms are used interchangeably. as they usually correlste with each other."
   ]
  },
  {
   "cell_type": "markdown",
   "id": "b2a86d2b",
   "metadata": {},
   "source": [
    "###  Broadcast link"
   ]
  },
  {
   "cell_type": "markdown",
   "id": "89bbcd7e",
   "metadata": {},
   "source": [
    "Multiple hosts are connected to a broadcast link.\n",
    "One host transmit data while all other hosts receives.\n",
    "The link bandwidth is shared across all hosts.\n",
    "\n",
    "Typically used in homes and office.\n",
    "\n",
    "Examples include:\n",
    "* Local Area Network (LAN)"
   ]
  },
  {
   "cell_type": "markdown",
   "id": "f24f8db9",
   "metadata": {},
   "source": [
    "### Point-to-point links\n",
    "\n",
    "Link connects two [switches](TODO).\n",
    "Bandwidth is dedicated to the two switches.\n",
    "\n",
    "These links form a **switched network**.\n",
    "Data transfers through the switch and links.\n",
    "Data is forwarded from an input link to an output link within a switch, for it to reach its recipient."
   ]
  },
  {
   "cell_type": "markdown",
   "id": "a9f1c040",
   "metadata": {},
   "source": [
    "## Classifications\n",
    "\n",
    "A computer network consists of nodes and links.\n",
    "\n",
    "* Nodes\n",
    "    * _eg_ computers, switches, routers, gateways\n",
    "* Links\n",
    "    * wired: _eg_ twisted pair, optic fibre\n",
    "    * wireless: _eg_ microwave, infrared"
   ]
  },
  {
   "cell_type": "markdown",
   "id": "080df080",
   "metadata": {},
   "source": [
    "We can categorize them as:\n",
    "* access networks vs core networks\n",
    "* Local area network (LAN) vs metropolitan area network (MAN) wide area network (WAN)"
   ]
  },
  {
   "cell_type": "markdown",
   "id": "08b6ff44",
   "metadata": {},
   "source": [
    "###  Local Area Network (LAN)\n",
    "\n",
    "Used for small geographical area, _eg_ homes and offices.\n",
    "Typically consisting of broadcast link with multiple access link.\n",
    "\n",
    "Because the network shares a medium, we need a form of access control.\n",
    "\n",
    "#### Medium access control\n",
    "\n",
    "##### Token ring\n",
    "\n",
    "A special packet (**token**) is pass around network in a ring.\n",
    "Each hosts only transmit when it receives the token, and passes the token when its done.\n",
    "After the tojrn makes a full round, it is drained at the source.\n",
    "##### Ethernet\n",
    "\n",
    "There is no coordination between hosts during transmission.\n",
    "When two \n",
    "TODO: Link to collision chapter\n",
    "\n"
   ]
  },
  {
   "cell_type": "markdown",
   "id": "137ecf85",
   "metadata": {},
   "source": [
    "### Metropolitan Area Network (MAN)\n",
    "\n",
    "Used for medium geographical area, _eg_ cities.\n",
    "Connects many LANs together.\n",
    "\n",
    "Examples includes:\n",
    "* Synchronous optical network (SONET)\n",
    "    * Fixed bandwidth allocation\n",
    "    * Uses [fixed time division multiplexing](TODO)\n",
    "* Asynchronous transfer mode (ATM)\n",
    "    * Flexible bandwidth allication\n",
    "    * Uses [statistical time division multiplexing](TODO)"
   ]
  },
  {
   "cell_type": "markdown",
   "id": "8826bf96",
   "metadata": {},
   "source": [
    "### Wide area network\n",
    "\n",
    "Used for large geographical area, _eg_ country,continent.\n",
    "Connects LANs and MANs."
   ]
  },
  {
   "cell_type": "code",
   "execution_count": null,
   "id": "062fa975",
   "metadata": {},
   "outputs": [],
   "source": []
  }
 ],
 "metadata": {
  "kernelspec": {
   "display_name": "Python 3 (ipykernel)",
   "language": "python",
   "name": "python3"
  },
  "language_info": {
   "codemirror_mode": {
    "name": "ipython",
    "version": 3
   },
   "file_extension": ".py",
   "mimetype": "text/x-python",
   "name": "python",
   "nbconvert_exporter": "python",
   "pygments_lexer": "ipython3",
   "version": "3.10.5"
  }
 },
 "nbformat": 4,
 "nbformat_minor": 5
}
