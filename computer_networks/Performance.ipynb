{
 "cells": [
  {
   "cell_type": "markdown",
   "id": "9799bd15",
   "metadata": {},
   "source": [
    "# Performance\n",
    "\n",
    "## Throughput\n",
    "\n",
    "**Throughput** is measured as the number of bits transferred per unit time.\n",
    "\n",
    "Note that the scale for days transfer is different from data storage.\n",
    "\n",
    "1kBps = $10^3$ bytes per second\n",
    "\n",
    "1kB = $2^{10} = 1024$ bytes"
   ]
  },
  {
   "cell_type": "markdown",
   "id": "9130ff67",
   "metadata": {},
   "source": [
    "# Latency\n",
    "\n",
    "The message transfer time measures the amount of delay before the message is transferred.\n",
    "\n",
    "It contains the following component:\n",
    "* transmission time ($T_t$)\n",
    "    * time to transfer bits on to the link\n",
    "    * the time between the first bit and the last bit leaving the link\n",
    "* propagation time ($T_p$)\n",
    "    * time for bits to transfer across the link\n",
    "* queuing time ($T_q$)\n",
    "    * time that the message spends on waiting for the link to be free \n",
    "    * dependent on the number of messages in the queue\n",
    "    \n",
    "$T_t + T_p + T_q$ is the message latency for a **one way unacknowledged** message."
   ]
  },
  {
   "cell_type": "markdown",
   "id": "aeb0562b",
   "metadata": {},
   "source": [
    "## Round trip time (RTT)\n",
    "\n",
    "The RTT is the time it takes for a bit to travel across the link and back.\n",
    "This means transmission time is negligible.\n",
    "\n",
    "It is used in messaging systems where an acknowledgement message needs to be replied to the sender when a message is received.\n",
    "\n",
    "Hence, the message latency for a **one way acknowledged** message is $T_t + 2 T_p + T_q$.\n",
    "We assume that the ACK packet is small, thus its transmission time is negligible."
   ]
  },
  {
   "cell_type": "markdown",
   "id": "f7c709fb",
   "metadata": {},
   "source": [
    "## (Effective) Throughput\n",
    "\n",
    "As the message latency is dependent on the transmission time, so does the throughput.\n",
    "\n",
    "We define the **throughput rate** as throughput/bandwidth.\n",
    "\n",
    "Hence, \n",
    "\n",
    "$$\n",
    "transfer \\space time = RTT + \\frac{message \\space size}{bandwidth} \\\\\n",
    "throughput = \\frac{ message \\space size }{ transfer \\space time}\\\\\n",
    "throughput \\space rate = \\frac{throughput}{bandwidth}\n",
    "$$"
   ]
  },
  {
   "cell_type": "markdown",
   "id": "3725bd86",
   "metadata": {},
   "source": [
    "and we would desire throughout rate to be close to 1."
   ]
  },
  {
   "cell_type": "markdown",
   "id": "2c43b05a",
   "metadata": {},
   "source": [
    "Another way of lookin at it is, if we let $T = \\frac{message \\space size}{bandwidth}$, which is the time needed to put the message on the link.\n",
    "Rearranging, we get\n",
    "\n",
    "$$\n",
    "transfer \\space time = RTT + T \\\\\n",
    "throughput \\space rate = \\frac{T}{RTT + T}\n",
    "$$"
   ]
  },
  {
   "cell_type": "markdown",
   "id": "014fd4b7",
   "metadata": {},
   "source": [
    "Hence to maximize throughput rate would be to minimize RTT, as throughput rate is simply the proportion of the time that is spent as RTT."
   ]
  },
  {
   "cell_type": "code",
   "execution_count": null,
   "id": "246152f2",
   "metadata": {},
   "outputs": [],
   "source": []
  }
 ],
 "metadata": {
  "kernelspec": {
   "display_name": "Python 3 (ipykernel)",
   "language": "python",
   "name": "python3"
  },
  "language_info": {
   "codemirror_mode": {
    "name": "ipython",
    "version": 3
   },
   "file_extension": ".py",
   "mimetype": "text/x-python",
   "name": "python",
   "nbconvert_exporter": "python",
   "pygments_lexer": "ipython3",
   "version": "3.10.8"
  }
 },
 "nbformat": 4,
 "nbformat_minor": 5
}
