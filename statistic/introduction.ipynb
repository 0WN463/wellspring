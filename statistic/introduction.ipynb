{
 "cells": [
  {
   "cell_type": "markdown",
   "id": "e2922f7a",
   "metadata": {},
   "source": [
    "# Introduction\n",
    "\n",
    "## Sample space\n",
    "\n",
    "### Definitions\n",
    "\n",
    "* **Observation**: Any recording of information that is numerical or categorical\n",
    "\n",
    "* **Statistical experiment**: Any procedure that generates a set of observations\n",
    "\n",
    "* **Sample Space**: The set of all possible outcomes of a statistical experiment\n",
    "    * Represented by symbol $S$"
   ]
  },
  {
   "cell_type": "markdown",
   "id": "aef8cac2",
   "metadata": {},
   "source": [
    "### Examples\n",
    "Experiment of tossing a die:\n",
    "If we are interested on the number shown on the die, then sample space will be\n",
    "$$\n",
    "S = \\{1,2,3,4,5,6\\}\n",
    "$$\n",
    "\n",
    "If we are interested if the number is small (less than or equal to 3) or large (greater than 3), then the sample space will be \n",
    "$$\n",
    "S = \\{small, large\\}\n",
    "$$"
   ]
  },
  {
   "cell_type": "markdown",
   "id": "118e1ce7",
   "metadata": {},
   "source": [
    "Note that we can composite events together for our observations.\n",
    "\n",
    "For example, the sample space for flipping two coins would be\n",
    "$$\n",
    "S = \\{(H, H), (H, T), (T, H), (T, T)\\}\n",
    "$$\n",
    "where the first/second value in the brackets tells the value of the first/second coin flip respectively."
   ]
  },
  {
   "cell_type": "markdown",
   "id": "145f1c90",
   "metadata": {},
   "source": [
    "We also can apply conditionals on the events for our observations. \n",
    "\n",
    "For example, the sample space for the experiment where \"we flip a coin, if heads flop around coin, if tails roll a die\" is as follows:\n",
    "$$\n",
    "S = \\{(H, H), (H, T), (T, 1), (T, 2), (T, 3), (T, 4), (T, 5), (T, 6)\\}\n",
    "$$\n",
    "Note that the second event is conditioned on the result of the first event."
   ]
  },
  {
   "cell_type": "markdown",
   "id": "b9b3b07e",
   "metadata": {},
   "source": [
    "## Sample points\n",
    "Every outcome in the **sample space** is called a **sample point/element of the sample space**."
   ]
  },
  {
   "cell_type": "markdown",
   "id": "611317d0",
   "metadata": {},
   "source": [
    "## Event\n",
    "An **event** is a subset of a sample space.\n",
    "\n",
    "### Example\n",
    "\n",
    "$S = \\{1,2,3,4,5\\}$\n",
    "\n",
    "An event that a odd number appears = $\\{1, 3, 5\\}$\n",
    "\n",
    "An event that number less than 3 appears = $\\{1, 2\\}$\n",
    "\n",
    "---"
   ]
  },
  {
   "cell_type": "markdown",
   "id": "9045c445",
   "metadata": {},
   "source": [
    "In an experiment about flipping 3 coins:\n",
    "\n",
    "An event that at least 2 heads are appear = $\\{(H, H, T), (H, H, H), (H, T, H), (T, H, H)\\}$\n",
    "\n",
    "---"
   ]
  },
  {
   "cell_type": "markdown",
   "id": "5b139c37",
   "metadata": {},
   "source": [
    "**Simple event**: A event that consists of exactly 1 outcome/sample point\n",
    "\n",
    "**Compound event**: A event that consists of more than 1 outcome/sample point\n"
   ]
  },
  {
   "cell_type": "markdown",
   "id": "403ac9ce",
   "metadata": {},
   "source": [
    "### Example\n",
    "In rolling a die, the event of \"rolling a 1\" is a simple event, while the event of \"rolling an even number\" is a compound event.\n",
    "\n",
    "In flipping two coins, the event of \"flipping no heads\" is a simple event, while the event of \"flipping at least 1 heads\" is a compound event.\n",
    "\n",
    "---"
   ]
  },
  {
   "cell_type": "markdown",
   "id": "4695b743",
   "metadata": {},
   "source": [
    "Note that the sample space is also an event, named the **sure event**.\n",
    "\n",
    "Also, all subsets of $S$ contains the empty set \"$\\emptyset$\"(according to set theory).\n",
    "An event which consists of the empty set is called the **null event**."
   ]
  },
  {
   "cell_type": "markdown",
   "id": "7c236d62",
   "metadata": {},
   "source": [
    "## Operations on events\n",
    "### Union\n",
    "The **union** of two events $A$ and $B$ is the event that contains all elements that belong to $A$ or $B$ or both.\n",
    "\n",
    "Formally, it is defined as:\n",
    "$$\n",
    "A \\cup B = \\{x:x\\in A \\text{ or } x \\in B\\}\n",
    "$$"
   ]
  },
  {
   "cell_type": "markdown",
   "id": "8d8bc549",
   "metadata": {},
   "source": [
    "#### Union over many events\n",
    "If we have $n$ events $A_1, A_2\\, \\dots, A_n$, we use the following notation to obtain the union of all the events:\n",
    "\n",
    "$$\n",
    "\\bigcup ^n _{i=1} A_i = A_1 \\cup A_2 \\cup \\dots \\cup A_n = \\{x : x \\in A_1 \\text{ or } \\dots \\text{ or } x \\in A_n\n",
    "\\text\\}\n",
    "$$"
   ]
  },
  {
   "cell_type": "markdown",
   "id": "1983d3b7",
   "metadata": {},
   "source": [
    "### Intersection\n",
    "The **intersection** of two events $A$ and $B$ is the event that contains all elements that belong to both $A$ and $B$.\n",
    "\n",
    "Formally, it is defined as:\n",
    "$$\n",
    "A \\cap B = \\{x:x\\in A \\text{ and } x \\in B\\}\n",
    "$$"
   ]
  },
  {
   "cell_type": "markdown",
   "id": "1048f451",
   "metadata": {},
   "source": [
    "#### Intersection over many events\n",
    "Similarly, if we have $n$ events $A_1, A_2\\, \\dots, A_n$, we use the following notation to obtain the intersection of all the events:\n",
    "\n",
    "$$\n",
    "\\bigcap ^n _{i=1} A_i = A_1 \\cap A_2 \\cap \\dots \\cap A_n = \\{x : x \\in A_1 \\text{ and } \\dots \\text{ and } x \\in A_n\n",
    "\\text\\}\n",
    "$$"
   ]
  },
  {
   "cell_type": "markdown",
   "id": "efdb93e5",
   "metadata": {},
   "source": [
    "### Complement\n",
    "The **complement** of an event $A$ with respect to $S$, is the set of all elements of $S$ that is not in $A$.\n",
    "\n",
    "Formally, it is defined as:\n",
    "$$\n",
    "A' = \\{x : x \\in S \\text{ and } x \\notin A \\}\n",
    "$$"
   ]
  },
  {
   "cell_type": "markdown",
   "id": "f15155c5",
   "metadata": {},
   "source": [
    "### Examples\n",
    "Given $S = \\{1,2,3,4,5\\}, A=\\{1,2\\}, B=\\{2, 3, 5\\}, C=\\{4\\}$:\n",
    "\n",
    "$A \\cup B = \\{1,2,3,5\\}$\n",
    "\n",
    "$A \\cap B = \\{2\\}$\n",
    "\n",
    "$B \\cap C = \\emptyset$\n",
    "\n",
    "$A' = \\{3,4,5\\}$\n",
    "\n",
    "$A' \\cap B = \\{3, 5\\}$"
   ]
  },
  {
   "cell_type": "markdown",
   "id": "410aace5",
   "metadata": {},
   "source": [
    "### Mutually exclusive events\n",
    "Events $A$ and $B$ are **mutually exclusive/mutually disjoint**if they have no elements in common.\n",
    "Formally, $A \\cap B = \\emptyset$.\n",
    "In layman terms, the two events cannot occur at the same time.\n",
    "\n",
    "#### Examples\n",
    "In rolling a die, the event that a 1 is rolled and a 6 is rolled is mutually exclusive.\n",
    "However, the event that a 1 is rolled and a odd number is rolled are not mutually exclusive.\n",
    "\n",
    "---"
   ]
  },
  {
   "cell_type": "markdown",
   "id": "9a13661d",
   "metadata": {},
   "source": [
    "### Some properties of events\n",
    "* $A \\cap A' = \\emptyset$\n",
    "    * $A$ and $A'$ are mutually exclusive.\n",
    "* $A \\cap \\emptyset = \\emptyset$\n",
    "* $A \\cup A' = S$\n",
    "* $A \\cap S = A$\n",
    "* $(A')' = A$\n",
    "* $(A \\cap B)' = A' \\cup B'$\n",
    "    * De Morgan's law\n",
    "* $(A \\cup B)' = A' \\cap B'$\n",
    "    * De Morgan's law\n",
    "* $A \\cup (B \\cap C) = (A \\cup B) \\cap (A \\cup C)$\n",
    "* $A \\cap (B \\cup C) = (A \\cap B) \\cup (A \\cap C)$\n",
    "* $A \\cup B = A \\cup (B \\cap A')$\n",
    "* $A = (A \\cap B) \\cup (A \\cap B')$\n",
    "\n",
    "Note that they follow the properties of set theory, since the underlying mathematical construct of events is simply sets."
   ]
  },
  {
   "cell_type": "markdown",
   "id": "d7ebc490",
   "metadata": {},
   "source": [
    "### De Morgan's law\n",
    "For any $n$ events $A_1, \\dots $A_n$,\n",
    "\n",
    "$$\n",
    "\\bigcup ^n _{i=1} A_i = \\bigcap ^n _{i=1} A_i'\n",
    "$$\n",
    "\n",
    "\n",
    "**Corollary**\n",
    "$$\n",
    "\\bigcap ^n _{i=1} A_i = \\bigcup ^n _{i=1} A_i'\n",
    "$$"
   ]
  },
  {
   "cell_type": "markdown",
   "id": "ba0925d8",
   "metadata": {},
   "source": [
    "### Contained\n",
    "If all the elements in event $A$ is also in event $B$, then event $A$ is **contained in** event $B$, denoted as $A \\subset B$\n",
    "\n",
    "If $A \\subset B$ and $B \\subset A$, then $A = B$."
   ]
  },
  {
   "cell_type": "markdown",
   "id": "282c3b34",
   "metadata": {},
   "source": [
    "### Example\n",
    "When rolling a die, the event of \"rolling a 1\" is contained in the event of \"rolling an odd number\""
   ]
  },
  {
   "cell_type": "markdown",
   "id": "bffcbf2e",
   "metadata": {},
   "source": [
    "<span hidden> TODO: Add counting methods section. Can cross link with combinatorics topic</span>"
   ]
  },
  {
   "cell_type": "markdown",
   "id": "7a4b81cd",
   "metadata": {},
   "source": [
    "## Relative frequency\n",
    "During an experiment, we do not know which outcome will occur until after the observation is made.\n",
    "\n",
    "However, we can associate a number with each event that measures how likely the event will occur.\n",
    "\n",
    "Suppose that we repeat an experiment $n$ times and event $A$ occurred $n_A$ times after the $n$ repetitions.\n",
    "Then $f_A = \\frac{n_A}{n}$ is the **relative frequency** of event $A$."
   ]
  },
  {
   "cell_type": "markdown",
   "id": "8ee1680c",
   "metadata": {},
   "source": [
    "Relative frequency has the following properties:\n",
    "* $0 \\leq f_A \\leq 1$\n",
    "* $f_A = 1$ if and only if $A$ occurs every time among the $n$ repetitions\n",
    "* $f_A = 0$ if and only if $A$ never occurs among the $n$ repetitions\n",
    "* $f_{A \\cup B} = f_A + f_B$ if $A$ and $B$ are mutually exclusive\n",
    "* $f_A$ stabilizes near some value as $n$ increases"
   ]
  },
  {
   "cell_type": "markdown",
   "id": "1b4f7e1e",
   "metadata": {},
   "source": [
    "## Probability\n",
    "Probability assign each event $A$ with a number $Pr(A)$ which measures the chance that event $A$ will occur.\n",
    "\n",
    "### Axioms of probability\n",
    "1. $0 \\leq Pr(A) \\leq 1$\n",
    "2. $Pr(S) = 1$\n",
    "3. If $A_1, \\dots $ are mutually exclusive, then:\n",
    "$$\n",
    "Pr\\left(\\bigcup ^\\infty_{i=1} A_i\\right) = \\sum ^\\infty_{i=1} Pr(A_i)\n",
    "$$"
   ]
  },
  {
   "cell_type": "markdown",
   "id": "d7e22b6f",
   "metadata": {},
   "source": [
    "At it's simplest case, $Pr(A \\cup B) = Pr(A) + Pr(B)$ if $A$ and $B$ are mutually exclusive."
   ]
  },
  {
   "cell_type": "markdown",
   "id": "59013a47",
   "metadata": {},
   "source": [
    "### Properties\n",
    "* $Pr(\\emptyset) = 0$\n",
    "* If $A_1, \\dots A_n$ are mutually exclusive, then:\n",
    "$$\n",
    "Pr\\left(\\bigcup ^n_{i=1} A_i\\right) = \\sum ^n_{i=1} Pr(A_i)\n",
    "$$\n",
    "* $Pr(A') = 1- Pr(A)$\n",
    "* $Pr(A \\cap B) + Pr(A \\cap B') = Pr(A)$\n",
    "* $Pr(A) + Pr(B) - Pr(A \\cap B) = Pr(A \\cup B)$ <span hidden> TODO: link to inclusion exclusion </span>\n",
    "* If $A \\subset B$, then $Pr(A) \\leq Pr(B)$"
   ]
  }
 ],
 "metadata": {
  "kernelspec": {
   "display_name": "Python 3 (ipykernel)",
   "language": "python",
   "name": "python3"
  },
  "language_info": {
   "codemirror_mode": {
    "name": "ipython",
    "version": 3
   },
   "file_extension": ".py",
   "mimetype": "text/x-python",
   "name": "python",
   "nbconvert_exporter": "python",
   "pygments_lexer": "ipython3",
   "version": "3.9.9"
  }
 },
 "nbformat": 4,
 "nbformat_minor": 5
}
