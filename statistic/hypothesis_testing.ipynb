{
 "cells": [
  {
   "cell_type": "markdown",
   "id": "3f7b1fb4",
   "metadata": {},
   "source": [
    "$$\n",
    "\\newcommand{theorem}{\\textbf{Theorem: }}\n",
    "\\newcommand{proof}{\\textbf{Proof: }}\n",
    "$$"
   ]
  },
  {
   "cell_type": "markdown",
   "id": "3f6d31e6",
   "metadata": {},
   "source": [
    "# Hypothesis testing\n",
    "## Statistical hypothesis\n",
    "A **statistical hypothesis** is an assertion/conjecture regarding one or more populations.\n",
    "\n",
    "A rejection of a hypothesis is to conclude that it is false, while the acceptance of a hypothesis simply means we do not have sufficient evidence to believe otherwise.\n",
    "It does not mean that the hypothesis is actually true.\n",
    "Hence, statistician often choose to state a hypothesis in a way that hopefully will be rejected, to have more power in their claims.\n",
    "\n",
    "\n",
    "### Null hypothesis\n",
    "The **null hypothesis** is the hypothesis that we formulate in hope of rejecting.\n",
    "It is denoted by $H_0$.\n",
    "The population parameter in question will be stated specifically at some exact value.\n",
    "\n",
    "### Alternate hypothesis\n",
    "The rejection of $H_0$ lead to the acceptance of an alternative hypothesis, denoted by $H_1$.\n",
    "It allows for possibility of several values.\n",
    "\n",
    "**Example**\n",
    "We may wish to determine the average height of students in a school."
   ]
  },
  {
   "cell_type": "markdown",
   "id": "6d56ecda",
   "metadata": {},
   "source": [
    "## Type of errors\n",
    "They are 2 types of errors in hypothesis testing\n",
    "\n",
    "|  | $$H_0\\text{ is true}$$ | $$H_0\\text{ is false }$$|\n",
    "| --- | :---: | --- |\n",
    "| Reject $$H_0$$ | Type I error | Correct decision |\n",
    "| Do not reject $$H_0$$ | Correct decision | Type II error |\n",
    "\n",
    "<span hidden> TODO: Combine with other chapters which has this concept <span/>"
   ]
  },
  {
   "attachments": {},
   "cell_type": "markdown",
   "id": "3d2400fc",
   "metadata": {},
   "source": [
    "### Type I errors\n",
    "Occurs when $H_0$ is rejected with $H_0$ is true.\n",
    "This is a serious type of error, since we are making a strong assertion wrongfully.\n",
    "\n",
    "The **level of significance** is denoted as \n",
    "$$\n",
    "\\alpha = Pr(\\text{reject } H_0 | H_0)\n",
    "$$\n",
    "\n",
    "Hence, it corresponds to the probability of committing a type I error.\n",
    "This is set by the researcher in advance, and is usually 5\\% or 1 \\%.\n",
    "\n",
    "### Type II errors\n",
    "Occurs when $H_0$ is not rejected when $H_0$ is false.\n",
    "\n",
    "The **power of the test** is denoted as $1 - \\beta$, where \n",
    "$$\n",
    "\\beta = Pr(\\text{ do not reject } H_0 | H_1)\n",
    "$$\n",
    "\n",
    "Hence, the power of the test corresponds to the probability of committing a type II error.\n",
    "$\\beta$ is not computable unless we have a specific alternative hypothesis."
   ]
  },
  {
   "cell_type": "markdown",
   "id": "ae8d0006",
   "metadata": {},
   "source": [
    "## Procedure for statistical experiment\n",
    "1. Select a suitable test statistic for the parameter in question\n",
    "2. Set a significance level $\\alpha$\n",
    "3. Determine the decision rule that divides the set of all possible values of the test statistic into 2 regions\n",
    "    * the **rejection region/critical region** and the **acceptance region**\n",
    "4. Collect samples\n",
    "5. Compute test statistic\n",
    "6. If test statistics assumes a value in the rejection region\n",
    "    * Reject null hypothesis\n",
    "7. Otherwise, null hypothesis is not reject\n",
    "\n",
    "The **critical value** is the value which separates the rejection and acceptance region.\n",
    "\n",
    "Note that this is similar to a [proof by contradiction](), where we assume that $H_0$ is true, and try to obtain a \"contradiction\" using our observed sample statistic.\n",
    "\n",
    "<span hidden> TODO: Add link <span/>"
   ]
  },
  {
   "cell_type": "markdown",
   "id": "d9646c61",
   "metadata": {},
   "source": [
    "## Hypothesis testing concerning mean\n",
    "### Known variance\n",
    "\n",
    "Refer to the [estimation](./estimation_of_normal_distribution.ipynb#known-variance)\n",
    "\n",
    "The reference above tells us the assumptions needed for our procedure to hold.\n",
    "\n",
    "We will go through the steps in depth for this case.\n",
    "The subsequent cases follow a similar logic, and thus will be abridged."
   ]
  },
  {
   "cell_type": "markdown",
   "id": "5e1d35da",
   "metadata": {},
   "source": [
    "#### Two sided-test\n",
    "We wish to test $H_0: \\mu = \\mu_0$ against $H_1: \\mu \\neq \\mu_0$.\n",
    "That is, we wish to test if the population mean is $\\mu _0$.\n",
    "\n",
    "Because of (2), we expect\n",
    "$$\n",
    "\\bar X \\sim N(\\mu, \\frac{\\sigma^2}{n})\n",
    "$$\n",
    "\n",
    "Hence, under $H_0: \\mu - \\mu_0$, we have\n",
    "$$\n",
    "\\bar X \\sim N(\\mu_0, \\frac{\\sigma^2}{n})\n",
    "$$"
   ]
  },
  {
   "cell_type": "markdown",
   "id": "3d0814ea",
   "metadata": {},
   "source": [
    "##### Critical value approach\n",
    "By setting a significance level of $\\alpha$, we can find two critical value $\\bar x_1, \\bar x_2$, such that\n",
    "$$\n",
    "\\bar x _1 < \\bar X < \\bar x _2\n",
    "$$\n",
    "which defines the **acceptance region**.\n",
    "And the **critical region/rejection region** is defined as $\\bar X < \\bar x_1$ and $\\bar X > \\bar x_2$.\n",
    "For a two tailed test, there will be 2 critical regions."
   ]
  },
  {
   "cell_type": "markdown",
   "id": "7df53e9e",
   "metadata": {},
   "source": [
    "By standardizing, we know that \n",
    "$$\n",
    "Z = \\frac{\\bar X - \\mu_0}{\\sigma\\sqrt n} \\sim N(0, 1)\n",
    "$$\n",
    "\n",
    "Working through the results, we obtain that the critical values can also be expressed as \n",
    "$$\n",
    "\\bar x_1 = \\mu _0 - z _{\\alpha /2} \\frac{\\sigma}{\\sqrt n} \\quad \\bar x_2 = \\mu _0 + z _{\\alpha /2} \\frac{\\sigma}{ \\sqrt n}\n",
    "$$"
   ]
  },
  {
   "cell_type": "markdown",
   "id": "c6faf277",
   "metadata": {},
   "source": [
    "By comparing the two inequalities, we will realize that $\\bar x _ 1 < \\bar X < \\bar x_2$ is equivalent to $-z_{\\alpha/2} < Z < z _{\\alpha/2}$"
   ]
  },
  {
   "cell_type": "markdown",
   "id": "7ef0b82b",
   "metadata": {},
   "source": [
    "Thus, we can express the critical region with respect to $Z$, which is convention as it is more convenient."
   ]
  },
  {
   "cell_type": "markdown",
   "id": "9773e840",
   "metadata": {},
   "source": [
    "Hence, we will reject $H_0$ if $z$ (the observed value of $Z$), is $> z_{\\alpha/2}$ or $< -z_{\\alpha/2}$"
   ]
  },
  {
   "cell_type": "markdown",
   "id": "6d0bb69d",
   "metadata": {},
   "source": [
    "###### Relationship with confidence interval\n",
    "Astute readers would have noticed that the two-sided test procedure is equivalent to finding a $(1-\\alpha)100\\%$ [confidence interval](./estimation_of_normal_distribution.ipynb#confidence-interval) for $\\mu$.\n",
    "$H_0$ will be accepted if $\\mu_0$ is in the confidence interval.\n"
   ]
  },
  {
   "cell_type": "markdown",
   "id": "d20c1103",
   "metadata": {},
   "source": [
    "##### $p$-value approach\n",
    "Instead of finding the an interval for the sample mean in order to support the hypothesis, we can instead compute the probability of obtaining a test statistic that is more extreme that what we have observed in the sample, assuming $H_0$ is true."
   ]
  },
  {
   "cell_type": "markdown",
   "id": "7ebdc173",
   "metadata": {},
   "source": [
    "This is also called the **observed level of significance**."
   ]
  },
  {
   "cell_type": "markdown",
   "id": "e5050986",
   "metadata": {},
   "source": [
    "The steps are:\n",
    "1. Convert the sample statistic (*eg* $\\bar X$) to a test statistic (*eg*. $\\bar Z$)\n",
    "2. Obtain the $p$-value\n",
    "3. Compare the $p$-value against $\\alpha$\n",
    "    * If $p$-value $< \\alpha$, then reject $H_0$\n",
    "    * Otherwise, do not reject $H_0$"
   ]
  },
  {
   "cell_type": "markdown",
   "id": "da5b0a38",
   "metadata": {},
   "source": [
    "Note that we are comparing against $\\alpha$ instead of $\\alpha/2$, since the process of determining a \"test statistic that is more extreme\" has incorporated the two-tailed characteristic."
   ]
  },
  {
   "cell_type": "markdown",
   "id": "c3fdfbe9",
   "metadata": {},
   "source": [
    "#### One sided test\n",
    "In this case, there is only 1 critical value as the critical region is in only 1 tail.\n",
    "\n",
    "For $H_0: \\mu = \\mu _0, H_1:\\mu < \\mu _0$, $H_0$ is rejected if $z < -z_\\alpha$ \n",
    "\n",
    "Similarly, for $H_0: \\mu = \\mu _0, H_1:\\mu > \\mu _0$, $H_0$ is rejected if $z > -z_\\alpha$ "
   ]
  },
  {
   "cell_type": "markdown",
   "id": "ca666ec3",
   "metadata": {},
   "source": [
    "<span hidden> TODO: add example <span/>"
   ]
  },
  {
   "cell_type": "markdown",
   "id": "ed300ab9",
   "metadata": {},
   "source": [
    "In summary, to reject $H_0$,\n",
    "\n",
    "|$$H_1$$ | Critical region |\n",
    "| --- | :---: |\n",
    "| $$\\mu > \\mu_0$$ | $$t > z_{\\alpha}$$\n",
    "| $$\\mu < \\mu_0$$ | $$t < z_{\\alpha}$$\n",
    "| $$\\mu \\neq \\mu_0$$ | $$t < z_{(1- \\alpha/2)} \\text { or }t > z_{(\\alpha/2)} $$"
   ]
  },
  {
   "cell_type": "markdown",
   "id": "cc174c0d",
   "metadata": {},
   "source": [
    "### Unknown variance\n",
    "Refer to the [estimation](./estimation_of_normal_distribution.ipynb#mean-unknown-variance)"
   ]
  },
  {
   "cell_type": "markdown",
   "id": "63a276a3",
   "metadata": {},
   "source": [
    "We use the following test statistic\n",
    "$$\n",
    "T = \\frac{\\bar X - \\mu_0}{S / \\sqrt n}\n",
    "$$\n",
    "where $S^2$ is the sample variance.\n"
   ]
  },
  {
   "cell_type": "markdown",
   "id": "f8260f6b",
   "metadata": {},
   "source": [
    "To reject $H_0$,\n",
    "\n",
    "|$$H_1$$ | Critical region |\n",
    "| --- | :---: |\n",
    "| $$\\mu > \\mu_0$$ | $$t > t_{(n-1; \\alpha)}$$\n",
    "| $$\\mu < \\mu_0$$ | $$t < t_{(n-1; 1- \\alpha)}$$\n",
    "| $$\\mu \\neq \\mu_0$$ | $$t < t_{(n-1; 1- \\alpha/2)} \\text { or }t > t_{(n-1; \\alpha/2)} $$"
   ]
  },
  {
   "cell_type": "markdown",
   "id": "8fa24c65",
   "metadata": {},
   "source": [
    "## Hypothesis testing concerning difference of two mean"
   ]
  },
  {
   "cell_type": "markdown",
   "id": "b4d2ddf5",
   "metadata": {},
   "source": [
    "### Known variance\n",
    "Refer to the [estimation](./estimation_of_normal_distribution.ipynb#diff-means-known-variance)"
   ]
  },
  {
   "cell_type": "markdown",
   "id": "ab61ad44",
   "metadata": {},
   "source": [
    "### Large $n$, unknown variance\n",
    "\n",
    "Refer to the [estimation](./estimation_of_normal_distribution.ipynb#diff-mean-large-n-unknown-variance)"
   ]
  },
  {
   "cell_type": "markdown",
   "id": "d0a5cb8a",
   "metadata": {},
   "source": [
    "### Unknown but equal variance \n",
    "\n",
    "Refer to the [estimation](./estimation_of_normal_distribution.ipynb#diff-means-unknown-equal-variance)"
   ]
  },
  {
   "cell_type": "markdown",
   "id": "defaf098",
   "metadata": {},
   "source": [
    "### Paired data \n",
    "\n",
    "Refer to the [estimation](./estimation_of_normal_distribution.ipynb#diff-means-paired-data)"
   ]
  },
  {
   "cell_type": "markdown",
   "id": "ccae3c4c",
   "metadata": {},
   "source": [
    "## Hypothesis testing concerning variance\n",
    "### One variance\n",
    "If\n",
    "1. Underlying distribution is normal\n",
    "\n",
    "We wish to test if $H_0: \\sigma^2 = \\sigma ^2 _0$\n",
    "\n",
    "By the [property of sample variance](./sampling.ipynb#sample-variance), we know that \n",
    "$$\\frac{(n-1)S^2}{\\sigma^2} \\sim \\chi^2(n-1)$$"
   ]
  },
  {
   "cell_type": "markdown",
   "id": "555aea43",
   "metadata": {},
   "source": [
    "Thus, by assuming $H_0$ is true, our test statistic will be\n",
    "$$\n",
    "\\chi^2= \\frac{(n-1)S^2}{\\sigma^2_0}\n",
    "$$"
   ]
  },
  {
   "cell_type": "markdown",
   "id": "f3fdd54b",
   "metadata": {},
   "source": [
    "To reject $H_0$,\n",
    "\n",
    "|$$H_1$$ | Critical region |\n",
    "| --- | :---: |\n",
    "| $$\\sigma^2 > \\sigma^2_0$$ | $$\\chi^2 > \\chi^2_{(n-1; \\alpha)}$$\n",
    "| $$\\sigma^2 < \\sigma^2_0$$ | $$\\chi^2 < \\chi^2_{(n-1; 1- \\alpha)}$$\n",
    "| $$\\sigma^2 \\neq \\sigma^2_0$$ | $$\\chi^2 < \\chi^2_{(n-1; 1- \\alpha/2)} \\text { or }\\chi^2 > \\chi^2_{(n-1; \\alpha/2)} $$"
   ]
  },
  {
   "cell_type": "markdown",
   "id": "32e34c01",
   "metadata": {},
   "source": [
    "### Ratio of variance\n",
    "\n",
    "Refer to the [estimation](./estimation_of_normal_distribution.ipynb#ratio-variance)\n",
    "\n",
    "We wish to test $H_0: \\sigma_1^2 = \\sigma_2^2$.\n",
    "\n",
    "We know that \n",
    "$$\n",
    "F = \\frac{S_1^2/\\sigma_1^2}{S_2^2/\\sigma_2^2} \\sim F(n_1 - 1, n_2 -1)\n",
    "$$"
   ]
  },
  {
   "cell_type": "markdown",
   "id": "5a78599f",
   "metadata": {},
   "source": [
    "Thus, by assuming $H_0$ is true, our test statistic will be\n",
    "$$\n",
    "F = \\frac{S_1^2}{S_2^2}\n",
    "$$"
   ]
  },
  {
   "cell_type": "markdown",
   "id": "c1e327e6",
   "metadata": {},
   "source": [
    "To reject $H_0$,\n",
    "\n",
    "|$$H_1$$ | Critical region |\n",
    "| --- | :---: |\n",
    "| $$\\sigma_1^2 > \\sigma^2_2$$ | $$F > F_{(n_1 - 1, n_2 - 1; \\alpha)}$$\n",
    "| $$\\sigma_1^2 < \\sigma^2_2$$ | $$F < F_{(n_1 - 1, n_2-1; 1- \\alpha)}$$\n",
    "| $$\\sigma_1^2 \\neq \\sigma^2_2$$ | $$F < F_{(n_1 -1, n_2-1; 1- \\alpha/2)} \\text { or }F > F_{(n_1-1, n_2-1; \\alpha/2)} $$"
   ]
  }
 ],
 "metadata": {
  "kernelspec": {
   "display_name": "Python 3 (ipykernel)",
   "language": "python",
   "name": "python3"
  },
  "language_info": {
   "codemirror_mode": {
    "name": "ipython",
    "version": 3
   },
   "file_extension": ".py",
   "mimetype": "text/x-python",
   "name": "python",
   "nbconvert_exporter": "python",
   "pygments_lexer": "ipython3",
   "version": "3.9.7"
  }
 },
 "nbformat": 4,
 "nbformat_minor": 5
}
