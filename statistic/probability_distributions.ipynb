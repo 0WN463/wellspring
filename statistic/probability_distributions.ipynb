{
 "cells": [
  {
   "cell_type": "markdown",
   "id": "73549d1c",
   "metadata": {},
   "source": [
    "$$\n",
    "\\newcommand{theorem}{\\textbf{Theorem: }}\n",
    "\\newcommand{proof}{\\textbf{Proof: }}\n",
    "$$"
   ]
  },
  {
   "cell_type": "code",
   "execution_count": 1,
   "id": "50914ecf",
   "metadata": {},
   "outputs": [],
   "source": [
    "import matplotlib.pyplot as plt\n",
    "import numpy as np\n",
    "\n",
    "np.random.seed(42)"
   ]
  },
  {
   "cell_type": "code",
   "execution_count": 2,
   "id": "ea5a9926",
   "metadata": {},
   "outputs": [],
   "source": [
    "from inspect import signature\n",
    "\n",
    "class Distribution:\n",
    "    def __init__(self, name, symbol, fx):\n",
    "        self.name = name\n",
    "        self.symbol = symbol\n",
    "        self.fx = fx\n",
    "        self.num_params = signature(f).parameters\n",
    "    \n",
    "    def f(self, xs, *args):\n",
    "        try:\n",
    "            arg_str = ','.join(map(lambda x: f'{x:.4g}', args))\n",
    "        except TypeError:\n",
    "            arg_str = \"\"\n",
    "        return (f\"{self.name}: {self.symbol}({arg_str})\", np.vectorize(self.fx(*args))(xs))\n",
    "\n",
    "def show_distribution(fs, xs):\n",
    "    n = len(fs)\n",
    "    fig, axs = plt.subplots(nrows=1, ncols=n, figsize=(20,5), sharex=True, sharey=True)\n",
    "\n",
    "    for y, ax in zip(fs, axs):\n",
    "        title, val = y\n",
    "        ax.bar(xs, val)\n",
    "        ax.set_title(title)\n",
    "        ax.set_xticks(xs)\n",
    "    plt.show()    \n",
    "    \n",
    "def show_grid(fs, grid):\n",
    "    fig, axss = plt.subplots(nrows=len(fs), ncols=len(fs[0]), figsize=(20,5), sharex=True, sharey=True)\n",
    "\n",
    "    for ff, axs in zip(fs, axss):\n",
    "        for f, ax in zip(ff, axs):\n",
    "            title, val = f\n",
    "            ax.bar(xs, val)\n",
    "            ax.set_title(title)\n",
    "            ax.set_xticks(xs)\n",
    "    plt.show()    "
   ]
  },
  {
   "cell_type": "markdown",
   "id": "03d758ae",
   "metadata": {},
   "source": [
    "# Probability distribution\n",
    "There are quite number of common **probability distribution** which describes how the random variables are distributed.\n",
    "Thus in this chapter, we will observe some of these common distributions and their properties.\n",
    "\n",
    "## Discrete uniform distribution <span id=\"discrete-uniform\"/>\n",
    "**Discrete uniform distribution** is simply a random variable which can assume values $x_1, x_2, \\dots, x_n$ with equal probability.\n",
    "Formally, the probability function is defined as,\n",
    "$$\n",
    "f_X(x) = \n",
    "\\begin{cases} \n",
    "\\frac{1}{n} \\quad \\text{for } x_1, x_2, \\dots, x_n \\\\\n",
    "0 \\quad \\text{otherwise}\n",
    "\\end{cases}\n",
    "$$"
   ]
  },
  {
   "cell_type": "markdown",
   "id": "845cc734",
   "metadata": {},
   "source": [
    "### Properties\n",
    "#### Mean\n",
    "$$\n",
    "E(X) = \\sum x f_X(x) = \\sum _{i=0} ^n x_i \\frac{1}{n} = \\frac{1}{n} \\sum  _{i=0} ^n x_i\n",
    "$$"
   ]
  },
  {
   "cell_type": "markdown",
   "id": "edccb3c4",
   "metadata": {},
   "source": [
    "#### Variance\n",
    "$$\n",
    "V(X) = \\sum (x - \\mu)^2 f_X(x) = \\frac{1}{n} \\sum  _{i=0} ^n (x_i -\\mu)^2\n",
    "$$\n",
    "$$\n",
    "V(X) = E(X^2) - E(X)^2 = \\frac{1}{n}\\left(\\sum _{i=0} ^ n x_i^2 \\right) - \\mu^2\n",
    "$$"
   ]
  },
  {
   "cell_type": "markdown",
   "id": "d79a0723",
   "metadata": {},
   "source": [
    "Plotting the distribution, we obtain the below."
   ]
  },
  {
   "cell_type": "code",
   "execution_count": 3,
   "id": "6e4a0fc0",
   "metadata": {
    "scrolled": false
   },
   "outputs": [
    {
     "data": {
      "image/png": "[encoded data removed]",
      "text/plain": [
       "<Figure size 1440x360 with 3 Axes>"
      ]
     },
     "metadata": {
      "needs_background": "light"
     },
     "output_type": "display_data"
    }
   ],
   "source": [
    "def f(xs):\n",
    "    n = len(xs)\n",
    "    return lambda x: 1/n if x in xs else 0 \n",
    "    \n",
    "d = Distribution(\"Uniform discrete distribution\", \"f\", f)    \n",
    "\n",
    "xs = np.arange(0, 10, 1)\n",
    "ys = [d.f(xs, list(range(0, hi, 1))) for hi in [2, 5, 10]]\n",
    "\n",
    "show_distribution(ys, xs)"
   ]
  },
  {
   "cell_type": "markdown",
   "id": "226f5e10",
   "metadata": {},
   "source": [
    "## Bernoulli distribution\n",
    "A Bernoulli experiment is a random experiment with only two outcomes.\n",
    "A classic example is the experiment of flipping a (possibly biased) coin.\n",
    "A simple way to encode the outcome is to set $x = 0$ or $1$.\n",
    "\n",
    "The generic form of the **Bernoulli distribution** is defined as,\n",
    "$$\n",
    "f_X(x) = p^x (1-p)^{1-x} \\quad x \\in \\{0, 1\\}\n",
    "$$\n",
    "\n",
    "where $p$ is the probability of $x=1$ event occurring.\n",
    "Sometimes, we use $q = 1-p$ for each of notation, where $q$ now corresponds to $x=0$ event occurring."
   ]
  },
  {
   "cell_type": "markdown",
   "id": "0da048ce",
   "metadata": {},
   "source": [
    "Note that $f_X$ depends on certain parameters, *ie* $p,q$.\n",
    "Thus, we can generate different distribution that are within the same **family of probability distribution** by changing the parameter.\n",
    "For example, the Bernoulli distribution when $p= 0.1$ has a different distribution than $p=0.4$, however, they share similar properties."
   ]
  },
  {
   "cell_type": "code",
   "execution_count": 4,
   "id": "cf11ca63",
   "metadata": {
    "scrolled": false
   },
   "outputs": [
    {
     "data": {
      "image/png": "[encoded data removed]",
      "text/plain": [
       "<Figure size 1440x360 with 3 Axes>"
      ]
     },
     "metadata": {
      "needs_background": "light"
     },
     "output_type": "display_data"
    }
   ],
   "source": [
    "def f(p):\n",
    "    return lambda x: p ** x * (1-p)**(1-x)\n",
    "    \n",
    "d = Distribution(\"Bernoulli distribution\", \"f\", f)    \n",
    "\n",
    "xs = np.arange(0, 2, 1)\n",
    "ys = [d.f(xs, p) for p in [0.2, 0.5, 0.8]]\n",
    "\n",
    "show_distribution(ys, xs)"
   ]
  },
  {
   "cell_type": "markdown",
   "id": "1a38e49c",
   "metadata": {},
   "source": [
    "### Properties\n",
    "#### Mean\n",
    "$$\n",
    "E(X) = p\n",
    "$$"
   ]
  },
  {
   "cell_type": "markdown",
   "id": "480ac7b1",
   "metadata": {},
   "source": [
    "<details>\n",
    "    <summary style=\"color: blue\">$\\proof$ (Click to expand)</summary>\n",
    "    <div style=\"background: aliceblue\">\n",
    "$$\n",
    "\\begin{align}\n",
    "E(X) &= \\sum x p^x(1-p)^{1-x} \\\\\n",
    "&= (0) (p^0)(1-0)^{1-0} + (1)(p^1)(1-p)^{1-1} \\\\\n",
    "&= p\n",
    "\\end{align}\n",
    "$$\n",
    "        $$QED$$\n",
    "    </div>\n",
    "</details>"
   ]
  },
  {
   "cell_type": "markdown",
   "id": "e343fefe",
   "metadata": {},
   "source": [
    "#### Variance\n",
    "$$\n",
    "\\begin{align}\n",
    "V(X)  = p(1-p) = pq\n",
    "\\end{align}\n",
    "$$"
   ]
  },
  {
   "cell_type": "markdown",
   "id": "ba50cc8d",
   "metadata": {},
   "source": [
    "<details>\n",
    "    <summary style=\"color: blue\">$\\proof$ (Click to expand)</summary>\n",
    "    <div style=\"background: aliceblue\">\n",
    "$$\n",
    "\\begin{align}\n",
    "V(X) &= \\sum x^2 p^x(1-p)^{1-x} - \\mu^2 \\\\\n",
    "&= (0)^2 p^{0}(1-p)^{1} + 1^2 p^1(1-p)^{0}- p^2 \\\\\n",
    "&= p- p^2 \\\\\n",
    "&= p(1-p) = pq\n",
    "\\end{align}\n",
    "$$\n",
    "        $$QED$$\n",
    "    </div>\n",
    "</details>"
   ]
  },
  {
   "cell_type": "markdown",
   "id": "45510991",
   "metadata": {},
   "source": [
    "## Binomial distribution\n",
    "Suppose that we performed $n$ **independent** Bernoulli experiments, and wish to track the number successes."
   ]
  },
  {
   "cell_type": "markdown",
   "id": "ee73efc9",
   "metadata": {},
   "source": [
    "### Breakdown"
   ]
  },
  {
   "cell_type": "markdown",
   "id": "7f9e20b7",
   "metadata": {},
   "source": [
    "This would correspond to a **binomial distribution**, with the probability function of\n",
    "$$\n",
    "Pr(X = x) = f_X(x) = C^n_x p^x (1-p)^{n-x}, \\quad x \\in \\mathbb{Z}_{\\geq 0}\n",
    "$$"
   ]
  },
  {
   "cell_type": "markdown",
   "id": "55876e3d",
   "metadata": {},
   "source": [
    "We can derive this by observing that the probability that an instance that has $x$ successes and $n-x$ failures corresponds to $p^x(1-p)^{n-x}$, and that there are $C^x$ ways of arranging the permutation of successes and failures which leads to the same aggregated outcome."
   ]
  },
  {
   "cell_type": "markdown",
   "id": "7c81bc80",
   "metadata": {},
   "source": [
    "Observe that when $n=1$, it simplifies to the Bernoulli distribution."
   ]
  },
  {
   "cell_type": "markdown",
   "id": "8ea471df",
   "metadata": {},
   "source": [
    "If a random variable $X$ follows a binomial distribution with parameters $n$ and $p$, we denote it as $X \\sim B(n, p)$"
   ]
  },
  {
   "cell_type": "code",
   "execution_count": 5,
   "id": "17a3c27c",
   "metadata": {
    "scrolled": false
   },
   "outputs": [
    {
     "data": {
      "image/png": "[encoded data removed]",
      "text/plain": [
       "<Figure size 1440x360 with 3 Axes>"
      ]
     },
     "metadata": {
      "needs_background": "light"
     },
     "output_type": "display_data"
    }
   ],
   "source": [
    "from math import comb as m_comb\n",
    "\n",
    "def comb(n, k):\n",
    "    if n < 0 or k < 0:\n",
    "        return 0\n",
    "    return m_comb(n,k)\n",
    "\n",
    "def f(n, p):\n",
    "    return lambda x: comb(n, x) * p ** x * (1-p)**(n-x)\n",
    "    \n",
    "d = Distribution(\"Binomial distribution\", \"B\", f)    \n",
    "\n",
    "xs = np.arange(0, 11, 1)\n",
    "ys = [d.f(xs, 10, p) for p in [0.2, 0.5, 0.8]]\n",
    "\n",
    "show_distribution(ys, xs)"
   ]
  },
  {
   "cell_type": "markdown",
   "id": "d45dd8a9",
   "metadata": {},
   "source": [
    "Notice that as we increase $p$, the distribution moves more towards the right, which means it is more likely to achieve a higher number of successes."
   ]
  },
  {
   "cell_type": "code",
   "execution_count": 6,
   "id": "894a0e7f",
   "metadata": {},
   "outputs": [
    {
     "data": {
      "image/png": "[encoded data removed]",
      "text/plain": [
       "<Figure size 1440x360 with 3 Axes>"
      ]
     },
     "metadata": {
      "needs_background": "light"
     },
     "output_type": "display_data"
    }
   ],
   "source": [
    "xs = np.arange(0, 21, 1)\n",
    "ys = [d.f(xs, n, 0.5) for n in [6, 10, 14]]\n",
    "\n",
    "show_distribution(ys, xs)"
   ]
  },
  {
   "cell_type": "markdown",
   "id": "a98ec0b0",
   "metadata": {},
   "source": [
    "As a sanity check, by simulating the trials, we obtain a similar plot as $B(10, 0.5)$.\n",
    "This serves as evidence that our underlying probability distribution function is correct."
   ]
  },
  {
   "cell_type": "code",
   "execution_count": 7,
   "id": "1f988d79",
   "metadata": {},
   "outputs": [
    {
     "data": {
      "image/png": "[encoded data removed]",
      "text/plain": [
       "<Figure size 432x288 with 1 Axes>"
      ]
     },
     "metadata": {
      "needs_background": "light"
     },
     "output_type": "display_data"
    }
   ],
   "source": [
    "def trial(n, p):\n",
    "    return sum(np.random.choice([0, 1], n, p=[1-p, p]))\n",
    "\n",
    "plt.hist([trial(10, 0.5) for _ in range(10000)], bins=xs, density=True)\n",
    "plt.show()"
   ]
  },
  {
   "cell_type": "markdown",
   "id": "e6e8b0a2",
   "metadata": {},
   "source": [
    "Note that at low $n$, part of the graph is not populated at $x > n$, as it is impossible to achieve that many successes since we do not have enough trials."
   ]
  },
  {
   "cell_type": "markdown",
   "id": "b76483d0",
   "metadata": {},
   "source": [
    "As we increase $n$, the bulk of the graph move rightwards as a higher number of trials would lead to a higher number of expected successes."
   ]
  },
  {
   "cell_type": "markdown",
   "id": "d63ce1f4",
   "metadata": {},
   "source": [
    "### Properties\n",
    "#### Mean\n",
    "$$\n",
    "E(X) = np\n",
    "$$"
   ]
  },
  {
   "cell_type": "markdown",
   "id": "1702dac0",
   "metadata": {},
   "source": [
    "<details>\n",
    "    <summary style=\"color: blue\">$\\proof$ (Click to expand)</summary>\n",
    "    <div style=\"background: aliceblue\">\n",
    "$$\n",
    "\\begin{align}\n",
    "E(X) &= \\sum x C^n_x p^x(1-p)^{n-x} &\\\\\n",
    "&= \\sum _{x=1} ^ n x C^n_x p^x q^{n-x} &\\\\\n",
    "&= \\sum _{x=1} ^ n n C^{n-1}_{x-1} p^x q^{n-x} & \\text{by property of binomial coefficient} \\\\\n",
    "&= np \\sum _{x=1} ^ n C^{n-1}_{x-1} p^{x-1} q^{(n-1) - (x-1)} &\\\\\n",
    "&= np \\sum _{x=1} ^ n C^{a}_{b} p^{b} q^{a - b} &\\text{set } a=n-1, b = x-1\\\\\n",
    "&= np & \\text{ by binomial theorem}\n",
    "\\end{align}\n",
    "$$\n",
    "        $$QED$$\n",
    "    </div>\n",
    "    <span hidden> TODO: Add link to Binomial theorem </span>\n",
    "</details>"
   ]
  },
  {
   "cell_type": "markdown",
   "id": "7cba6aa5",
   "metadata": {},
   "source": [
    "#### Variance\n",
    "$$\n",
    "V(X) = np(1-p) = npq\n",
    "$$\n",
    "</span>"
   ]
  },
  {
   "cell_type": "markdown",
   "id": "5bc4bd33",
   "metadata": {},
   "source": [
    "<details>\n",
    "    <summary style=\"color: blue\">$\\proof$ (Click to expand)</summary>\n",
    "    <div style=\"background: aliceblue\">\n",
    "$$\n",
    "\\begin{align}\n",
    "E(X^2) &= \\sum x^2 C^n_x p^x q^{n-x} &\\\\\n",
    "&= np \\sum x C^{a}_{b} p^{a} q^{a-b} & \\text {following similarly from the previous proof}\\\\\n",
    "&= np \\sum (b+1) C^{a}_{b} p^{a} q^{a-b} & \\\\\n",
    "&= np \\sum b C^{a}_{b} p^{a} q^{a-b} + np \\sum C^{a}_{b} p^{a} q^{a-b} & \\\\\n",
    "&= np \\sum b C^{a}_{b} p^{a} q^{a-b} + np & \\\\\n",
    "&= np \\sum a C^{a-1}_{b-1} p^{a} q^{a-b} + np & \\\\\n",
    "&= np (ap) \\sum C^{a-1}_{b-1} p^{a-1} q^{(a-1)-(b-1)} + np & \\\\\n",
    "&= np (ap) + np & \\text{by binomial theorem}\\\\\n",
    "&= np ((n-1)p) + np & \\\\\n",
    "&= n^2 p^2 - np^2 + np \\\\\n",
    "\\end{align}\n",
    "$$\n",
    "Therefore,       \n",
    "$$\n",
    "\\begin{align}\n",
    "V(X) &= E(X^2) - E(X)^2 \\\\\n",
    "&= n^2 p^2 - np^2 + np - (np)^2\\\\\n",
    "&= - np^2 + np\\\\\n",
    "&= np(1-p)\\\\\n",
    "\\end{align}\n",
    "$$\n",
    "$$QED$$\n",
    "    </div>\n",
    "    <span hidden> TODO: Add link to Binomial theorem </span>\n",
    "</details>"
   ]
  },
  {
   "cell_type": "markdown",
   "id": "9855ff08",
   "metadata": {},
   "source": [
    "## Conditions\n",
    "An experiment is a binomial experiment when:\n",
    "* It consist of $n$ Bernoulli trials\n",
    "    * Each trial only has 2 outcomes, success/failure\n",
    "* $p$ is constant for each trial\n",
    "* Trials are independent\n",
    "\n",
    "We conventionally refer $X$ as the **number of successes** in the $n$ trials of the experiment."
   ]
  },
  {
   "cell_type": "markdown",
   "id": "1cb8637b",
   "metadata": {},
   "source": [
    "<span hidden> TODO: Add example</span>"
   ]
  },
  {
   "cell_type": "markdown",
   "id": "09c46041",
   "metadata": {},
   "source": [
    "## Negative binomial distribution\n",
    "Suppose that our experiment has all the properties of a binomial experiment.\n",
    "But instead, we repeat the trials **until a fixed number of successes has occurred**.\n",
    "\n",
    "We are interested in the probability that the $k-th$ success occurs on the $x-th$ trial.\n",
    "\n",
    "Note that $k$ is constant now.\n",
    "Observe that we are now interested in the **number of trials needed** to obtain $k$ successes, while in the binomial case, we are interested in the **number of successes** in $n$ trials."
   ]
  },
  {
   "cell_type": "markdown",
   "id": "5812bcf3",
   "metadata": {},
   "source": [
    "### Breakdown"
   ]
  },
  {
   "cell_type": "markdown",
   "id": "ca71d22a",
   "metadata": {},
   "source": [
    "Notice that when the experiment ends, the last trial must have been a success.\n",
    "If the last trial was a failure, then either we didn't obtain $k$ successes, or we didn't stop once we obtain $k$ successes."
   ]
  },
  {
   "cell_type": "markdown",
   "id": "006da4c4",
   "metadata": {},
   "source": [
    "In other words, the first $x-1$ trials must have $k-1$ successes.\n",
    "\n",
    "Hence, the probability of obtaining any such sequence is $p^{k-1}q^{(x-1) - (k-1)}p = p^{k}q^{x-k}$"
   ]
  },
  {
   "cell_type": "markdown",
   "id": "8288f8f1",
   "metadata": {},
   "source": [
    "And the number of ways to permute the sequence is $C^{x-1}_{k-1}$. (Note that the last trial must be a success)"
   ]
  },
  {
   "cell_type": "markdown",
   "id": "26d47fb6",
   "metadata": {},
   "source": [
    "Thus, our probability function is \n",
    "$$\n",
    "Pr(X=x) = C^{x-1}_{k-1} p^k q^{x-k}, \\quad x >= k, x \\in  \\mathbb{Z}_{\\geq 0}\n",
    "$$"
   ]
  },
  {
   "cell_type": "markdown",
   "id": "ab0852f6",
   "metadata": {},
   "source": [
    "The symbol to denote it is $NB(k,p)$"
   ]
  },
  {
   "cell_type": "code",
   "execution_count": 8,
   "id": "ed4f7dbb",
   "metadata": {
    "scrolled": false
   },
   "outputs": [
    {
     "data": {
      "image/png": "[encoded data removed]",
      "text/plain": [
       "<Figure size 1440x360 with 3 Axes>"
      ]
     },
     "metadata": {
      "needs_background": "light"
     },
     "output_type": "display_data"
    }
   ],
   "source": [
    "def f(k, p):\n",
    "    return lambda x: comb(x-1, k-1) * p ** k * (1-p)**(x-k)\n",
    "\n",
    "d = Distribution(\"Negative binomial distribution\", \"NB\", f)\n",
    "\n",
    "xs = np.arange(21)\n",
    "ys = [d.f(xs, 6, p) for p in [0.2, 0.5, 0.8]]\n",
    "\n",
    "show_distribution(ys, xs)"
   ]
  },
  {
   "cell_type": "markdown",
   "id": "d50684c6",
   "metadata": {},
   "source": [
    "Notice that now when we increase $p$, the distribution moves more towards the left instead, which indicates that it is more likely to achieve $k$ successes earlier."
   ]
  },
  {
   "cell_type": "code",
   "execution_count": 9,
   "id": "5aac7575",
   "metadata": {},
   "outputs": [
    {
     "data": {
      "image/png": "[encoded data removed]",
      "text/plain": [
       "<Figure size 1440x360 with 3 Axes>"
      ]
     },
     "metadata": {
      "needs_background": "light"
     },
     "output_type": "display_data"
    }
   ],
   "source": [
    "xs = np.arange(21)\n",
    "ys = [d.f(xs, n, 0.5) for n in [3, 6, 9]]\n",
    "\n",
    "show_distribution(ys, xs)"
   ]
  },
  {
   "cell_type": "markdown",
   "id": "d1416557",
   "metadata": {},
   "source": [
    "As we increase $k$, the test becomes stricter, thus the distribution starts shifting towards the right."
   ]
  },
  {
   "cell_type": "markdown",
   "id": "da025eb2",
   "metadata": {},
   "source": [
    "Once again, the sanity check implies that our probability distribution is correct."
   ]
  },
  {
   "cell_type": "code",
   "execution_count": 10,
   "id": "8623e1a1",
   "metadata": {},
   "outputs": [
    {
     "data": {
      "image/png": "[encoded data removed]",
      "text/plain": [
       "<Figure size 432x288 with 1 Axes>"
      ]
     },
     "metadata": {
      "needs_background": "light"
     },
     "output_type": "display_data"
    }
   ],
   "source": [
    "def trial(k, p):\n",
    "    n = 0\n",
    "\n",
    "    while k:\n",
    "        roll = np.random.choice([0, 1], p=[1-p, p])\n",
    "        k -= roll\n",
    "        n += 1\n",
    "\n",
    "    return n\n",
    "\n",
    "plt.hist([trial(3, 0.5) for _ in range(10000)], bins=xs, density=True)\n",
    "plt.show()"
   ]
  },
  {
   "cell_type": "markdown",
   "id": "cc0af153",
   "metadata": {},
   "source": [
    "### Properties\n",
    "#### Mean\n",
    "$$\n",
    "E(X) = \\frac{k}{p}\n",
    "$$"
   ]
  },
  {
   "cell_type": "markdown",
   "id": "004d870a",
   "metadata": {},
   "source": [
    "<details>\n",
    "    <summary style=\"color: blue\">$\\proof$ (Click to expand)</summary>\n",
    "    <div style=\"background: aliceblue\">\n",
    "        \n",
    "$$\n",
    "\\begin{align}\n",
    "E(X) &= \\sum_{x=k} x C^{x-1}_{k-1} p^{k}(1-p)^{x-k} &\\\\\n",
    "&= \\sum_{x=k} x \\frac{(x-1)!}{(k-1)!(x-k)!} p^{k}(1-p)^{x-k} &\\\\\n",
    "&= \\sum_{x=k} \\frac{x!}{(k-1)!(x-k)!} p^{k}(1-p)^{x-k} &\\\\\n",
    "&= k \\sum_{x=k} \\frac{x!}{k!(x-k)!} p^{k}(1-p)^{x-k} &\\\\\n",
    "&= k \\sum_{x=k} C^x_k p^{k}(1-p)^{x-k} &\\\\\n",
    "&= k \\sum_{x=k} C^x_{x-k} p^{k}(1-p)^{x-k} &\\\\\n",
    "&= k \\sum_{x=k} C^{-k-1}_{x-k} (-1)^{x-k} p^{k}(1-p)^{x-k} & C^n_k = (-1)^k C^{n-k-1}_k\\\\\n",
    "&= k p^k \\sum_{j=0} C^{-k-1}_{j} (-1)^{j} (1-p)^{j} & j = x - k\\\\\n",
    "&= k p^k\\sum_{j=0} C^{-k-1}_{j} (p-1)^{j}\\\\\n",
    "&= k p^k (1 + p-1)^{-k-1}\\\\ \n",
    "&= k p^k p^{-k-1}\\\\ \n",
    "&= k p^{-1}\\\\ \n",
    "&= \\frac{k}{p}\\\\ \n",
    "\\end{align}\n",
    "$$\n",
    "$$QED$$\n",
    "    </div>\n",
    "    <span hidden> TODO: Add link to Binomial theorem </span>\n",
    "</details>"
   ]
  },
  {
   "cell_type": "markdown",
   "id": "9568fbe4",
   "metadata": {},
   "source": [
    "#### Variance\n",
    "$$\n",
    "V(X) = \\frac{(1-p)k}{p^2}\n",
    "$$\n",
    "<span hidden> TODO: Add proof\n",
    "</span>"
   ]
  },
  {
   "cell_type": "markdown",
   "id": "3885ac89",
   "metadata": {},
   "source": [
    "<details>\n",
    "    <summary style=\"color: blue\">$\\proof$ (Click to expand)</summary>\n",
    "    <div style=\"background: aliceblue\">\n",
    "        \n",
    "$$\n",
    "\\begin{align}\n",
    "E(X^2) &= \\sum_{x=k} x^2 C^{x-1}_{k-1} p^{k}(1-p)^{x-k} &\\\\\n",
    "&= k p^k\\sum_{j=0} x C^{-k-1}_{j} (p-1)^{j} & \\text{following from the previous proof}\\\\\n",
    "&= k p^k\\sum_{j=0} (j+k) C^{-k-1}_{j} (p-1)^{j} & j = x - k \\Rightarrow j + k = x\\\\\n",
    "&= k p^k\\sum_{j=0} j C^{-k-1}_{j} (p-1)^{j} \n",
    "+ k p^k\\sum_{j=0} k C^{-k-1}_{j} (p-1)^{j} & \\\\\n",
    "&= k p^k\\sum_{j=0}(-k-1)  C^{-k-2}_{j-1} (p-1)^{j} + \\frac{k^2}{p} & \\\\\n",
    "&= k p^k (p-1)\\sum_{j=0}(-k-1)  C^{-k-2}_{j-1} (p-1)^{j-1} + \\frac{k^2}{p} & \\\\\n",
    "&= k p^k (p-1)(-k-1) (1 + p-1)^{-k-2} + \\frac{k^2}{p} & \\\\\n",
    "&= k p^k (p-1)(-k-1) p^{-k-2} + \\frac{k^2}{p} & \\\\\n",
    "&= k (p-1)(-k-1) p^{-2} + \\frac{k^2}{p} & \\\\\n",
    "&= \\frac{k (p-1)(-k-1)}{p^2} + \\frac{k^2}{p} & \\\\\n",
    "&= \\frac{(k^2+k-pk^2-pk)}{p^2} + \\frac{k^2}{p} & \\\\\n",
    "\\end{align}\n",
    "$$\n",
    "        \n",
    "$$\n",
    "\\begin{align}\n",
    "V(X) &= E(X^2) - E(X)^2\\\\\n",
    "&= \\frac{(k^2+k-pk^2-pk)}{p^2} + \\frac{k^2}{p}  - \\left(\\frac{k}{p}\\right)^2\\\\\n",
    "&= \\frac{(k^2+k-pk^2-pk)}{p^2} + \\frac{k^2}{p} - \\frac{k^2}{p^2}\\\\\n",
    "&= \\frac{(k-pk)}{p^2}\\\\\n",
    "&= \\frac{k(1-p)}{p^2}\n",
    "\\end{align}\n",
    "$$\n",
    "        \n",
    "$$QED$$\n",
    "    </div>\n",
    "    <span hidden> TODO: Add link to Binomial theorem </span>\n",
    "</details>"
   ]
  },
  {
   "cell_type": "markdown",
   "id": "88e223a4",
   "metadata": {},
   "source": [
    "<span hidden> TODO: Add example</span>"
   ]
  },
  {
   "cell_type": "markdown",
   "id": "c66ca797",
   "metadata": {},
   "source": [
    "## Poisson distribution\n",
    "Experiments which are interested in the number of successes that occurs during a fixed **region/time interval** are called **Poisson distributions**.\n",
    "\n",
    "Note that all further discussions about distributions around time interval also applies to distribution around region of space."
   ]
  },
  {
   "cell_type": "markdown",
   "id": "7c7be96d",
   "metadata": {},
   "source": [
    "### Properties\n",
    "Poisson experiments has the following properties:\n",
    "* The number of successes occurring in a time interval are **independent** of those occurring in another disjoint time interval\n",
    "* The probability of a single success occurring in a **short time interval** is **proportional** to the length of the time interval.\n",
    "* The probability of more than 1 success occurring in a short time interval is **negligible**"
   ]
  },
  {
   "cell_type": "markdown",
   "id": "24e7d462",
   "metadata": {},
   "source": [
    "The probability function of a Poisson distribution is given as\n",
    "$$\n",
    "Pr(X = x) = \\frac{e^{-\\lambda} \\lambda ^x}{x!}, \\quad x \\in  \\mathbb{Z}_{\\geq 0}\n",
    "$$"
   ]
  },
  {
   "cell_type": "markdown",
   "id": "fe5f2cf3",
   "metadata": {},
   "source": [
    "where $\\lambda$ is the average number of successes occurring in a given time interval."
   ]
  },
  {
   "cell_type": "markdown",
   "id": "9ca3a9e5",
   "metadata": {},
   "source": [
    "The symbol to denote it is $P(\\lambda)$"
   ]
  },
  {
   "cell_type": "code",
   "execution_count": 11,
   "id": "3bded7ad",
   "metadata": {
    "scrolled": false
   },
   "outputs": [
    {
     "data": {
      "image/png": "[encoded data removed]",
      "text/plain": [
       "<Figure size 1440x360 with 3 Axes>"
      ]
     },
     "metadata": {
      "needs_background": "light"
     },
     "output_type": "display_data"
    }
   ],
   "source": [
    "from math import exp, factorial\n",
    "\n",
    "def f(lamb):\n",
    "    return lambda x: exp(-lamb) * lamb ** x / factorial(x)\n",
    "    \n",
    "d = Distribution(\"Poisson distribution\", \"P\", f)    \n",
    "\n",
    "xs = np.arange(0, 21, 1)\n",
    "ys = [d.f(xs, l) for l in [2, 5, 10]]\n",
    "\n",
    "show_distribution(ys, xs)"
   ]
  },
  {
   "cell_type": "markdown",
   "id": "aefea55e",
   "metadata": {},
   "source": [
    "#### Mean\n",
    "$$\n",
    "E(X) = \\lambda\n",
    "$$"
   ]
  },
  {
   "cell_type": "markdown",
   "id": "c0b52d74",
   "metadata": {},
   "source": [
    "<details>\n",
    "    <summary style=\"color: blue\">$\\proof$ (Click to expand)</summary>\n",
    "    <div style=\"background: aliceblue\">\n",
    "        \n",
    "$$\n",
    "\\begin{align}\n",
    "E(X) &= \\sum_{x=0} x \\frac{e^{-\\lambda} \\lambda ^x}{x!} &\\\\\n",
    "&= e^{-\\lambda} \\sum_{x=1} \\frac{ \\lambda ^x}{(x-1)!} &\\text{term is $0$ when $x=0$}\\\\\n",
    "&= e^{-\\lambda} \\lambda \\sum_{x=1} \\frac{ \\lambda ^{x-1}}{(x-1)!} &\\\\\n",
    "&= e^{-\\lambda} \\lambda \\sum_{j=0} \\frac{ \\lambda ^j}{j!} & j = x - 1\\\\\n",
    "&= e^{-\\lambda} \\lambda e^{\\lambda} & \\text{by Taylor series approximation of exponential}\\\\\n",
    "&= \\lambda \\\\\n",
    "\\end{align}\n",
    "$$\n",
    "        \n",
    "$$QED$$\n",
    "    </div>\n",
    "    <span hidden> TODO: Add link to Binomial theorem </span>\n",
    "</details>"
   ]
  },
  {
   "cell_type": "markdown",
   "id": "785ad3e8",
   "metadata": {},
   "source": [
    "#### Variance\n",
    "$$\n",
    "V(X) = \\lambda\n",
    "$$"
   ]
  },
  {
   "cell_type": "markdown",
   "id": "732b7a3a",
   "metadata": {},
   "source": [
    "<details>\n",
    "    <summary style=\"color: blue\">$\\proof$ (Click to expand)</summary>\n",
    "    <div style=\"background: aliceblue\">\n",
    "        \n",
    "$$\n",
    "\\begin{align}\n",
    "E(X^2) &= \\sum_{x=0} x^2 \\frac{e^{-\\lambda} \\lambda ^x}{x!} &\\\\\n",
    "&= e^{-\\lambda} \\lambda \\sum_{j=0} x \\frac{ \\lambda ^j}{j!} & \\text{following from the previous proof}\\\\\n",
    "&= e^{-\\lambda} \\lambda \\sum_{j=0} (j+1) \\frac{ \\lambda ^j}{j!} & j = x - 1 \\Rightarrow x = j + 1\\\\\n",
    "&= e^{-\\lambda} \\lambda \\sum_{j=0} j \\frac{ \\lambda ^j}{j!} \n",
    "+ e^{-\\lambda} \\lambda \\sum_{j=0} \\frac{ \\lambda ^j}{j!} & \\\\\n",
    "&= e^{-\\lambda} \\lambda \\sum_{j=0} j \\frac{ \\lambda ^j}{j!} \n",
    "+ \\lambda &\\\\\n",
    "&= e^{-\\lambda} \\lambda \\sum_{j=1} \\frac{ \\lambda ^j}{(j-1)!} \n",
    "+ \\lambda &\\\\\n",
    "&= e^{-\\lambda} \\lambda^2 \\sum_{j=1} \\frac{ \\lambda ^{j-1}}{(j-1)!} \n",
    "+ \\lambda &\\\\\n",
    "&= e^{-\\lambda} \\lambda^2 \\sum_{j'=0} \\frac{ \\lambda ^{j'}}{j'!} \n",
    "+ \\lambda &j' = j -1 \\\\\n",
    "&= \\lambda^2 + \\lambda \\\\\n",
    "\\end{align}\n",
    "$$\n",
    "        \n",
    "$$\n",
    "\\begin{align}\n",
    "V(X) &= E(X^2) - E(X)^2\\\\\n",
    "&= \\lambda^2 - \\lambda - \\lambda ^2\\\\\n",
    "&=  \\lambda \\\\\n",
    "\\end{align}\n",
    "$$\n",
    "        \n",
    "$$QED$$\n",
    "    </div>\n",
    "    <span hidden> TODO: Add link to Binomial theorem </span>\n",
    "</details>"
   ]
  },
  {
   "cell_type": "markdown",
   "id": "53756f10",
   "metadata": {},
   "source": [
    "<span hidden> TODO: Add example</span>"
   ]
  },
  {
   "cell_type": "markdown",
   "id": "2930030a",
   "metadata": {},
   "source": [
    "### Approximation of binomial distribution\n",
    "\n",
    "For a binomial distribution $B(n,p)$, notice that when $n \\to \\infty, p\\to 0$, the condition begins to satisfy that of Poisson distribution.\n",
    "Indeed, $n\\to \\infty$ is turning the intervals smaller with respect to $n$, and $p \\to 0$ is making \"the probability of more than 1 success occurring in a short time interval is **negligible**\"."
   ]
  },
  {
   "cell_type": "markdown",
   "id": "0fca6a56",
   "metadata": {},
   "source": [
    "Since $E(X) = np$, we can convert $B(n,p)$ to $P(\\lambda=np)$."
   ]
  },
  {
   "cell_type": "code",
   "execution_count": 12,
   "id": "bd733558",
   "metadata": {
    "scrolled": false
   },
   "outputs": [
    {
     "data": {
      "image/png": "[encoded data removed]",
      "text/plain": [
       "<Figure size 1440x360 with 6 Axes>"
      ]
     },
     "metadata": {
      "needs_background": "light"
     },
     "output_type": "display_data"
    }
   ],
   "source": [
    "def f1(n, p):\n",
    "    return lambda x: comb(n, x) * p ** x * (1-p)**(n-x)\n",
    "    \n",
    "binom_dist = Distribution(\"Binomial distribution\", \"B\", f1)    \n",
    "\n",
    "xs = np.arange(0, 11, 1)\n",
    "binom_ys = [binom_dist.f(xs, 10**i, 4*0.1**i) for i in [1, 2, 3]]\n",
    "\n",
    "def f(lamb):\n",
    "    return lambda x: exp(-lamb) * lamb ** x / factorial(x)\n",
    "    \n",
    "poisson_dist = Distribution(\"Poisson distribution\", \"P\", f)    \n",
    "\n",
    "poisson_ys = [d.f(xs, 4) for i in [1, 3, 6]]\n",
    "\n",
    "ys = [binom_ys, poisson_ys]\n",
    "\n",
    "show_grid(ys, xs)"
   ]
  },
  {
   "cell_type": "code",
   "execution_count": 13,
   "id": "a687aecc",
   "metadata": {
    "scrolled": false
   },
   "outputs": [
    {
     "data": {
      "image/png": "[encoded data removed]",
      "text/plain": [
       "<Figure size 1440x360 with 3 Axes>"
      ]
     },
     "metadata": {
      "needs_background": "light"
     },
     "output_type": "display_data"
    }
   ],
   "source": [
    "def f(lamb):\n",
    "    return lambda x: exp(-lamb) * lamb ** x / factorial(x)\n",
    "    \n",
    "d = Distribution(\"Poisson distribution\", \"P\", f)    \n",
    "\n",
    "xs = np.arange(0, 11, 1)\n",
    "ys = [d.f(xs, 10**i * 0.1**i) for i in [1, 3, 6]]\n",
    "\n",
    "show_distribution(ys, xs)"
   ]
  },
  {
   "cell_type": "markdown",
   "id": "c8e8ada5",
   "metadata": {},
   "source": [
    "Notice that as we increase $n$ and reduce $b$, the binomial distribution starts to resemble the corresponding Poisson distribution."
   ]
  },
  {
   "cell_type": "markdown",
   "id": "315930b2",
   "metadata": {},
   "source": [
    "Another trick we can use if $p$ is close to 1 is to swap the probability of $p$ and $q$ and also the number of successes with the number of failures, then we can use the approximation above."
   ]
  },
  {
   "cell_type": "markdown",
   "id": "91fbeec3",
   "metadata": {},
   "source": [
    "## Continuous uniform distribution\n",
    "We have seen [discrete uniform distribution](#discrete-uniform) at the start of the chapter.\n",
    "Now, we will define similarly for the continuous case."
   ]
  },
  {
   "cell_type": "markdown",
   "id": "2385407e",
   "metadata": {},
   "source": [
    "The probability function of is given as \n",
    "$$\n",
    "f_X(x) = \\frac{1}{b-a}, \\quad a \\leq x \\leq b\n",
    "$$\n",
    "0 otherwise. \n",
    "\n",
    "This means the distribution is non-zero only within the interval $[a,b]$"
   ]
  },
  {
   "cell_type": "markdown",
   "id": "f793fec8",
   "metadata": {},
   "source": [
    "The symbol to denote it is $U(a,b)$"
   ]
  },
  {
   "cell_type": "code",
   "execution_count": 14,
   "id": "05e3cb34",
   "metadata": {},
   "outputs": [],
   "source": [
    "def f(a,b):\n",
    "    return lambda x: np.where(a <= x <= b, 1/(b-a), 0)\n",
    "\n",
    "def show_plot(fs, xs):\n",
    "    fig, axss = plt.subplots(nrows=len(fs), ncols=len(fs[0]), figsize=(20,5), sharex=True, sharey=True, squeeze=False)\n",
    "   \n",
    "    \n",
    "    for ff, axs in zip(fs, axss):\n",
    "        for y, ax in zip(ff, axs):\n",
    "            title, val = y\n",
    "            ax.plot(xs, val)\n",
    "            ax.set_title(title)\n",
    "    plt.show()    "
   ]
  },
  {
   "cell_type": "code",
   "execution_count": 15,
   "id": "4f3d2735",
   "metadata": {
    "scrolled": false
   },
   "outputs": [
    {
     "data": {
      "image/png": "[encoded data removed]",
      "text/plain": [
       "<Figure size 1440x360 with 3 Axes>"
      ]
     },
     "metadata": {
      "needs_background": "light"
     },
     "output_type": "display_data"
    }
   ],
   "source": [
    "d = Distribution(\"Continuous uniform distribution\", \"U\", f)    \n",
    "\n",
    "xs = np.linspace(0, 11, 100)\n",
    "ys = [[d.f(xs, a, b) for a,b in ((4, 6), (3, 7), (1, 9))]]\n",
    "\n",
    "show_plot(ys, xs)"
   ]
  },
  {
   "cell_type": "markdown",
   "id": "fff1f162",
   "metadata": {},
   "source": [
    "### Properties\n",
    "#### Mean\n",
    "$$\n",
    "E(X) = \\frac{a+b}{2}\n",
    "$$"
   ]
  },
  {
   "cell_type": "markdown",
   "id": "9a2bc20e",
   "metadata": {},
   "source": [
    "<details>\n",
    "    <summary style=\"color: blue\">$\\proof$ (Click to expand)</summary>\n",
    "    <div style=\"background: aliceblue\">\n",
    "$$\n",
    "\\begin{align}\n",
    "E(X) &= \\int _{-\\infty} ^{\\infty} x f(x) dx \\\\\n",
    "&= \\int _a ^b x (\\frac{1}{b-a}) dx \\\\\n",
    "&= \\left[\\frac{x^2}{2}\\right]^b _a  (\\frac{1}{b-a}) \\\\\n",
    "&= \\frac{b^2 - a^2}{2}  (\\frac{1}{b-a}) \\\\\n",
    "&= \\frac{a + b}{2}\\\\\n",
    "\\end{align}\n",
    "$$\n",
    "        $$QED$$\n",
    "    </div>\n",
    "</details>"
   ]
  },
  {
   "cell_type": "markdown",
   "id": "84e84422",
   "metadata": {},
   "source": [
    "#### Variance\n",
    "$$\n",
    "V(X) = \\frac{1}{12}(b-a)^2\n",
    "$$"
   ]
  },
  {
   "cell_type": "markdown",
   "id": "c3c29623",
   "metadata": {},
   "source": [
    "<details>\n",
    "    <summary style=\"color: blue\">$\\proof$ (Click to expand)</summary>\n",
    "    <div style=\"background: aliceblue\">\n",
    "$$\n",
    "\\begin{align}\n",
    "E(X^2) &= \\int _{-\\infty} ^{\\infty} x^2 f(x) dx \\\\\n",
    "&= \\int _a ^b x^2 (\\frac{1}{b-a}) dx \\\\\n",
    "&= \\left[\\frac{x^3}{3}\\right]^b _a  (\\frac{1}{b-a}) \\\\\n",
    "&= \\frac{b^3 - a^3}{3}  (\\frac{1}{b-a}) \\\\\n",
    "\\end{align}\n",
    "$$\n",
    "        \n",
    "$$\n",
    "\\begin{align}\n",
    "V(X) &= E(X^2) - E(X)^2 \\\\ \n",
    "&= \\frac{b^3 - a^3}{3}  (\\frac{1}{b-a}) - \\left(\\frac{a + b}{2}\\right)^2\\\\\n",
    "&= \\frac{b^3 - a^3}{3}  (\\frac{1}{b-a}) - \\frac{a^2 + 2ab + b^2}{4}\\\\\n",
    "&= \\frac{4b^3 - 4a^3}{12(b-a)} - \\frac{3a^2b + 6ab^2 + 3b^3 - 3a^3 - 6a^2b - 3ab^2}{12(b-a)}\\\\\n",
    "&= \\frac{b^3 - a^3 - 3a^2b - 6ab^2 +6a^2b + 3ab^2}{12(b-a)}\\\\\n",
    "&= \\frac{b^3 -3ab^2 + 3a^2b - a^3}{12(b-a)}\\\\\n",
    "&= \\frac{(b-a)^3}{12(b-a)}\\\\\n",
    "&= \\frac{(b-a)^2}{12}\\\\\n",
    "\\end{align}\n",
    "$$\n",
    "        $$QED$$\n",
    "    </div>\n",
    "</details>"
   ]
  },
  {
   "cell_type": "markdown",
   "id": "18b3fc47",
   "metadata": {},
   "source": [
    "<span hidden> TODO: Add example</span>"
   ]
  },
  {
   "cell_type": "markdown",
   "id": "0c3d565d",
   "metadata": {},
   "source": [
    "## Exponential distribution"
   ]
  },
  {
   "cell_type": "markdown",
   "id": "5d262a3e",
   "metadata": {},
   "source": [
    "The probability function of an **exponential distribution** is\n",
    "$$\n",
    "f_X(x) = \\alpha e ^{-\\alpha x}, \\quad x > 0\n",
    "$$\n",
    "0 otherwise"
   ]
  },
  {
   "cell_type": "markdown",
   "id": "0665af13",
   "metadata": {},
   "source": [
    "The symbol to denote it is $Exp(a,b)$"
   ]
  },
  {
   "cell_type": "code",
   "execution_count": 16,
   "id": "cb81691a",
   "metadata": {
    "scrolled": false
   },
   "outputs": [
    {
     "data": {
      "image/png": "[encoded data removed]",
      "text/plain": [
       "<Figure size 1440x360 with 3 Axes>"
      ]
     },
     "metadata": {
      "needs_background": "light"
     },
     "output_type": "display_data"
    }
   ],
   "source": [
    "def f(alpha):\n",
    "    return lambda x: alpha * exp(-alpha * x)\n",
    "\n",
    "d = Distribution(\"Exponential distribution\", \"Exp\", f)    \n",
    "\n",
    "xs = np.linspace(0, 5, 100)\n",
    "ys = [[d.f(xs, a) for a in (1, 2, 5)]]\n",
    "\n",
    "show_plot(ys, xs)"
   ]
  },
  {
   "cell_type": "markdown",
   "id": "b0c21f39",
   "metadata": {},
   "source": [
    "### Properties"
   ]
  },
  {
   "cell_type": "markdown",
   "id": "721c9578",
   "metadata": {},
   "source": [
    "#### No memory\n",
    "Notice that for any two positive integers $a$ and $b$, we have\n",
    "$$\n",
    "Pr(X > a + b | X > a) = Pr(X > b)\n",
    "$$"
   ]
  },
  {
   "cell_type": "markdown",
   "id": "78fa4b6d",
   "metadata": {},
   "source": [
    "A way to illustrate the \"no memory\" property is to consider a the probability of a car breaking down, where supposed the car has already driven for 5 hours, and the probability of it being intact in the next 5 hours is the same as the probability of it being able to drive the 1st 5 hours brand new."
   ]
  },
  {
   "cell_type": "markdown",
   "id": "c3492065",
   "metadata": {},
   "source": [
    "#### Mean\n",
    "$$\n",
    "E(X) = \\frac{1}{\\alpha}\n",
    "$$"
   ]
  },
  {
   "cell_type": "markdown",
   "id": "ca8d98d4",
   "metadata": {},
   "source": [
    "<details>\n",
    "    <summary style=\"color: blue\">$\\proof$ (Click to expand)</summary>\n",
    "    <div style=\"background: aliceblue\">\n",
    "$$\n",
    "\\begin{align}\n",
    "E(X) &= \\int _{-\\infty} ^{\\infty} x f(x) dx \\\\\n",
    "&= \\int _0 ^\\infty x \\left( \\alpha e ^ {-\\alpha x}\\right) dx &\\\\\n",
    "&= \\alpha \\int _0 ^\\infty x \\left(e ^ {-\\alpha x}\\right) dx &\\\\\n",
    "&= \\alpha \\left[  -\\frac{x e^{-\\alpha x}}{\\alpha} - \\frac{e^{-\\alpha x}}{\\alpha^2}   \\right]^\\infty _0 & \\text{integrate by parts}\\\\\n",
    "&= \\alpha \\left(-0 - 0 - (0 - \\left(\\frac{1}{\\alpha^2}\\right)(1))\\right) & \\text{taking limits}\\\\\n",
    "&= \\alpha \\left(\\frac{1}{\\alpha^2}\\right) & \\\\\n",
    "&= \\frac{1}{\\alpha}& \\\\\n",
    "\\end{align}\n",
    "$$\n",
    "        $$QED$$\n",
    "    </div>\n",
    "</details>"
   ]
  },
  {
   "cell_type": "markdown",
   "id": "d0a9f219",
   "metadata": {},
   "source": [
    "#### Variance\n",
    "$$\n",
    "V(X) = \\frac{1}{\\alpha^2} = \\mu^2\n",
    "$$"
   ]
  },
  {
   "cell_type": "markdown",
   "id": "f3a19608",
   "metadata": {},
   "source": [
    "<details>\n",
    "    <summary style=\"color: blue\">$\\proof$ (Click to expand)</summary>\n",
    "    <div style=\"background: aliceblue\">\n",
    "$$\n",
    "\\begin{align}\n",
    "E(X^2) &= \\int ^\\infty _0 x^2 f(x) dx &\\\\\n",
    "&= \\int _0 ^\\infty x^2 \\left( \\alpha e ^ {-\\alpha x}\\right) dx &\\\\\n",
    "&= \\alpha \\left(\\left[  -\\frac{x^2 e^{-\\alpha x}}{\\alpha} \\right]^\\infty _0 + \\frac{2}{\\alpha}\\int ^\\infty _0 x e^{-\\alpha x}  \\right ) & \\text{integrate by parts}\\\\\n",
    "&= \\left[  -x^2 e^{-\\alpha x} \\right]^\\infty _0 + \\frac{2}{\\alpha}\\int ^\\infty _0 x f(x)   &\\\\\n",
    "&= \\frac{2}{\\alpha}\\int ^\\infty _0 x f(x)   & \\text{taking limits}\\\\\n",
    "&= \\frac{2}{\\alpha} \\left(\\frac{1}{\\alpha}\\right)& \\text{using previous result of mean}\\\\\n",
    "&= \\frac{2}{\\alpha^2} & \\text{using previous result of mean}\\\\\n",
    "\\end{align}\n",
    "$$\n",
    "        \n",
    "$$        \n",
    "\\begin{align}\n",
    "V(X) &= E(X^2) - E(X)^2\\\\\n",
    "&= \\frac{2}{\\alpha^2} - \\left(\\frac{1}{\\alpha}\\right)^2\\\\\n",
    "&= \\frac{1}{\\alpha}\n",
    "\\end{align}\n",
    "$$\n",
    "        $$QED$$\n",
    "    </div>\n",
    "</details>"
   ]
  },
  {
   "cell_type": "markdown",
   "id": "0a3648d8",
   "metadata": {},
   "source": [
    "<span hidden> TODO: Add example</span>"
   ]
  },
  {
   "cell_type": "markdown",
   "id": "b1f9f26a",
   "metadata": {},
   "source": [
    "We can rewrite the probability density function with respect to the mean instead.\n",
    "\n",
    "$$\n",
    "f_X(x) = \\frac{1}{\\mu} e ^{-\\frac{x}{\\mu}}, \\quad x > 0\n",
    "$$\n",
    "0 otherwise"
   ]
  },
  {
   "cell_type": "markdown",
   "id": "769cc58c",
   "metadata": {},
   "source": [
    "## Normal distribution"
   ]
  },
  {
   "cell_type": "markdown",
   "id": "78afeeea",
   "metadata": {},
   "source": [
    "The probability function of an **normal/Gaussian distribution** is\n",
    "$$\n",
    "f_X(x) = \\frac{1}{\\sigma \\sqrt{2 \\pi}} \\exp\\left(- \\frac{(x-\\mu)^2}{2\\sigma^2}\\right), \\quad -\\infty < x < \\infty\n",
    "$$"
   ]
  },
  {
   "cell_type": "markdown",
   "id": "10e58728",
   "metadata": {},
   "source": [
    "The symbol to denote it is $N(\\mu,\\sigma^2)$"
   ]
  },
  {
   "cell_type": "code",
   "execution_count": 17,
   "id": "465f3ad7",
   "metadata": {
    "scrolled": false
   },
   "outputs": [
    {
     "data": {
      "image/png": "[encoded data removed]",
      "text/plain": [
       "<Figure size 1440x360 with 6 Axes>"
      ]
     },
     "metadata": {
      "needs_background": "light"
     },
     "output_type": "display_data"
    }
   ],
   "source": [
    "from math import sqrt, pi\n",
    "def f(m, s):\n",
    "    return lambda x: 1/(s * sqrt(2 * pi)) * exp(- (x - m)**2/(2 * s**2))\n",
    "\n",
    "d = Distribution(\"Normal distribution\", \"N\", f)    \n",
    "\n",
    "xs = np.linspace(-10, 10, 100)\n",
    "d_mu= [d.f(xs, m, 1) for m in (-3, 0, 3)]\n",
    "d_sigma = [d.f(xs, 0, s) for s in (0.5, 1, 2)]\n",
    "ys = [d_mu, d_sigma]\n",
    "\n",
    "show_plot(ys, xs)"
   ]
  },
  {
   "cell_type": "markdown",
   "id": "21bfc81b",
   "metadata": {},
   "source": [
    "Changing $\\mu$ shifts the curve, but retains the shape.\n",
    "\n",
    "Higher $\\sigma$ widens the curve."
   ]
  },
  {
   "cell_type": "markdown",
   "id": "5d9cec56",
   "metadata": {},
   "source": [
    "### Properties"
   ]
  },
  {
   "cell_type": "markdown",
   "id": "a32a83cd",
   "metadata": {},
   "source": [
    "* The graph is symmetrical about $x=\\mu$.\n",
    "* The maximum point is also at $x=\\mu$, with value $\\frac{1}{\\sigma \\sqrt{2 \\pi}}$\n",
    "* The graph approaches a horizontal asymptote in both directions\n",
    "* The area under the curve is 1"
   ]
  },
  {
   "cell_type": "markdown",
   "id": "f9c2d3af",
   "metadata": {},
   "source": [
    "#### Mean\n",
    "$$\n",
    "E(X) = \\mu\n",
    "$$\n",
    "<span hidden> TODO: Add proof</span>"
   ]
  },
  {
   "cell_type": "markdown",
   "id": "a2cdf79c",
   "metadata": {},
   "source": [
    "#### Variance\n",
    "$$\n",
    "V(X) = \\sigma ^2\n",
    "$$\n",
    "<span hidden> TODO: Add proof\n",
    "</span>"
   ]
  },
  {
   "cell_type": "markdown",
   "id": "a6e21da9",
   "metadata": {},
   "source": [
    "<span hidden> TODO: Add example</span>"
   ]
  },
  {
   "cell_type": "markdown",
   "id": "72bcd3f8",
   "metadata": {},
   "source": [
    "We can rewrite the probability density function with respect to the mean instead.\n",
    "\n",
    "$$\n",
    "f_X(x) = \\frac{1}{\\mu} e ^{-\\frac{x}{\\mu}}, \\quad x > 0\n",
    "$$\n",
    "0 otherwise"
   ]
  },
  {
   "cell_type": "markdown",
   "id": "77511c4e",
   "metadata": {},
   "source": [
    "#### Standardization <span id=\"standardization\"/>\n",
    "\n",
    "If $X \\sim N(\\mu, \\sigma^2)$, if we consider \n",
    "$$\n",
    "Z = \\frac{X -\\mu}{\\sigma}\n",
    "$$\n",
    "then $Z \\sim N(0, 1)$"
   ]
  },
  {
   "cell_type": "markdown",
   "id": "f7657dd6",
   "metadata": {},
   "source": [
    "And $Z$ is called the standardized normal distribution.\n",
    "We typically reserve the random variable $Z$ to refer to the standard normal variable."
   ]
  },
  {
   "cell_type": "markdown",
   "id": "35c40a61",
   "metadata": {},
   "source": [
    "Since any normal distribution can be standardized, we can simply tabulate the probabilities of the standard normal distribution.\n",
    "Whenever we wish to find the probability of any arbitrary normal distribution, we can standardize it and refer to the corresponding values."
   ]
  },
  {
   "cell_type": "markdown",
   "id": "794caa18",
   "metadata": {},
   "source": [
    "### Approximation of binomial distribution\n",
    "Notice that when $n \\to \\infty$, the discrete variable begin to resemble a continuous one.\n",
    "And when $p \\to 1/2$, the binomial distribution becomes more symmetrical about its mean.\n",
    "Hence, when $n \\to \\infty$ and $p \\to 1/2$, a binomial distribution can be approximated using a normal distribution."
   ]
  },
  {
   "cell_type": "markdown",
   "id": "a49627d3",
   "metadata": {},
   "source": [
    "The heuristic for a good approximation is for $X \\sim B(n, p)$, when\n",
    "$$\n",
    "np > 5 \\quad \\text{and} \\quad nq>5\n",
    "$$\n",
    "then $X \\sim N(np, np(1-p))$"
   ]
  },
  {
   "cell_type": "code",
   "execution_count": 18,
   "id": "62d81e6d",
   "metadata": {
    "scrolled": false
   },
   "outputs": [
    {
     "data": {
      "image/png": "[encoded data removed]",
      "text/plain": [
       "<Figure size 1440x360 with 6 Axes>"
      ]
     },
     "metadata": {
      "needs_background": "light"
     },
     "output_type": "display_data"
    }
   ],
   "source": [
    "def f1(n, p):\n",
    "    return lambda x: comb(n, x) * p ** x * (1-p)**(n-x)\n",
    "    \n",
    "fig, axss = plt.subplots(nrows=2, ncols=3, figsize=(20,5), sharex=True, sharey=True, squeeze=False)\n",
    "\n",
    "d = Distribution(\"Binomial distribution\", \"B\", f1)    \n",
    "xs = np.arange(0, 100, 1)\n",
    "ys = [d.f(xs, 10**i, 0.5) for i in range(3)]\n",
    "\n",
    "for y, ax in zip(ys, axss[0]):\n",
    "    title, val = y\n",
    "    ax.bar(xs, val)\n",
    "    ax.set_title(title)\n",
    "\n",
    "from math import sqrt, pi\n",
    "def f(m, s):\n",
    "    return lambda x: 1/(s * sqrt(2 * pi)) * exp(- (x - m)**2/(2 * s**2))\n",
    "\n",
    "\n",
    "d = Distribution(\"Normal distribution\", \"N\", f)    \n",
    "xs = np.linspace(-10, 100, 100)\n",
    "ys = [d.f(xs, 10**i * 0.5, sqrt(10**i * 0.5 * 0.5)) for i in range(3)]\n",
    "\n",
    "for y, ax in zip(ys, axss[1]):\n",
    "    title, val = y\n",
    "    ax.plot(xs, val)\n",
    "    ax.set_title(title)\n",
    "\n",
    "plt.show()    "
   ]
  },
  {
   "cell_type": "markdown",
   "id": "79611792",
   "metadata": {},
   "source": [
    "As we can see, the approximate gets better and better as $n$ increases."
   ]
  },
  {
   "cell_type": "markdown",
   "id": "da57449e",
   "metadata": {},
   "source": [
    "#### Continuity correction\n",
    "Notice that when we moved from the discrete case to continuous case, we introduced some error due to the conversion.\n",
    "This is because the values that we've evaluated $x$ is at the boundary of the variable, *ie* we read the $f(x)$ at the edge of $x - 1$ and $x$, or $x$ and $x+1$.\n",
    "In the discrete case, this does not matter since the value of $f(x)$ is constant across this boundary.\n",
    "However, this is not the case in the continuous case as the value of $f(x)$ can change across this edge.\n",
    "Thus, to account for this error, we try to evaluate the probability at the center of the boundary.\n",
    "\n",
    "Another way to reason about it is that suppose that we wish to obtain $Pr(X=k)$ in the discrete case.\n",
    "If we simply convert the distribution to a continuous one while still evaluating $Pr(X =k)$, we realized that this probability will always be 0 since [the probability density function of a continuous random variable is 0 at any value]().\n",
    "\n",
    "Hence, we perform the following **continuity correction** to account for this error:"
   ]
  },
  {
   "cell_type": "markdown",
   "id": "269d3471",
   "metadata": {},
   "source": [
    "$$\n",
    "Pr(X=k) \\approx Pr(k-0.5<X<k+0.5)\n",
    "$$"
   ]
  },
  {
   "cell_type": "markdown",
   "id": "00b0d556",
   "metadata": {},
   "source": [
    "$$\n",
    "Pr(a \\leq X \\leq b) \\approx Pr(a-0.5<X<k+0.5)\n",
    "$$"
   ]
  },
  {
   "cell_type": "markdown",
   "id": "b702ad1a",
   "metadata": {},
   "source": [
    "$$\n",
    "Pr(a < X \\leq b) \\approx Pr(a+0.5<X<k+0.5)\n",
    "$$"
   ]
  },
  {
   "cell_type": "markdown",
   "id": "08ac8bdb",
   "metadata": {},
   "source": [
    "$$\n",
    "Pr(a \\leq X < b) \\approx Pr(a-0.5<X<k-0.5)\n",
    "$$"
   ]
  },
  {
   "cell_type": "markdown",
   "id": "c03ecc84",
   "metadata": {},
   "source": [
    "$$\n",
    "Pr(a < X < b) \\approx Pr(a+0.5<X<k-0.5)\n",
    "$$"
   ]
  },
  {
   "cell_type": "markdown",
   "id": "0d78ecee",
   "metadata": {},
   "source": [
    "$$\n",
    "Pr(X\\leq k) \\approx Pr(-0.5<X<k+0.5)\n",
    "$$"
   ]
  },
  {
   "cell_type": "markdown",
   "id": "64e58147",
   "metadata": {},
   "source": [
    "$$\n",
    "Pr(X>k) \\approx Pr(k+0.5<X<n+0.5)\n",
    "$$"
   ]
  },
  {
   "cell_type": "markdown",
   "id": "f47d6631",
   "metadata": {},
   "source": [
    "A way to internalize it is to look at the inequality.\n",
    "Depending if there is an equality or no equality, decide whether the range should be expanded or restricted.\n",
    "Using that, we can determine whether to add or deduct half."
   ]
  }
 ],
 "metadata": {
  "kernelspec": {
   "display_name": "Python 3 (ipykernel)",
   "language": "python",
   "name": "python3"
  },
  "language_info": {
   "codemirror_mode": {
    "name": "ipython",
    "version": 3
   },
   "file_extension": ".py",
   "mimetype": "text/x-python",
   "name": "python",
   "nbconvert_exporter": "python",
   "pygments_lexer": "ipython3",
   "version": "3.9.9"
  }
 },
 "nbformat": 4,
 "nbformat_minor": 5
}
