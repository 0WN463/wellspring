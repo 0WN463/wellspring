{
 "cells": [
  {
   "cell_type": "markdown",
   "id": "2d14f6e7",
   "metadata": {},
   "source": [
    "# Two dimensional random variables\n",
    "There are experiments where we are interested in more than 1 random variable.\n",
    "For instance, a researcher might want to know the distribution of height and weight of people in a population.\n",
    "\n",
    "Thus, instead of only having a single random variable $X$, we now are interested in $X$ and $Y$, which both assigns some value to each $s \\in S$."
   ]
  },
  {
   "cell_type": "markdown",
   "id": "25b50bd8",
   "metadata": {},
   "source": [
    "Our range space is now reformulated to be:\n",
    "$$\n",
    "R_{X,Y} = \\left\\{(x,y) | x = X(s), y = Y(s) , s \\in S\\right\\}\n",
    "$$"
   ]
  },
  {
   "cell_type": "markdown",
   "id": "721bb710",
   "metadata": {},
   "source": [
    "Note that if we wish, we can also look at more than 2 random variables.\n",
    "The notation would be $X_1, X_2, \\dots, X_n$ are our random variables of interest."
   ]
  },
  {
   "cell_type": "markdown",
   "id": "7849186d",
   "metadata": {},
   "source": [
    "## Joint probability density function\n",
    "As with the single random variable case, we define a function ($f_{X,Y}(x,y)$) which maps a probability to each value of the 2 dimensional random variable."
   ]
  },
  {
   "cell_type": "markdown",
   "id": "318b0713",
   "metadata": {},
   "source": [
    "### Discrete"
   ]
  },
  {
   "cell_type": "markdown",
   "id": "8a264c4b",
   "metadata": {},
   "source": [
    "Similar to the one-dimensional case, the function must satisfy:\n",
    "* $f_{X,Y}(x_i, y_j) \\geq 0$ for all $(x_i, y_j) \\in R_{X,Y}$\n",
    "* $\\sum_i \\sum_j f_{X,Y}(x_i, y_j) = 1$"
   ]
  },
  {
   "cell_type": "markdown",
   "id": "b0adf6e9",
   "metadata": {},
   "source": [
    "### Continuous"
   ]
  },
  {
   "cell_type": "markdown",
   "id": "3332309d",
   "metadata": {},
   "source": [
    "Similarly, the function must satisfy:\n",
    "* $f_{X,Y}(x_i, y_j) \\geq 0$ for all $(x_i, y_j) \\in R_{X,Y}$\n",
    "* $\\int \\int_{(x,y) \\in R_{X, Y}} f_{X,Y}(x, y) dx dy = 1$"
   ]
  },
  {
   "cell_type": "markdown",
   "id": "25da0628",
   "metadata": {},
   "source": [
    "## Marginal probability distribution\n",
    "\n",
    "The **marginal probability distribution** or $X$ and $Y$ are defined as follows:\n",
    "\n",
    "### Discrete\n",
    "$$\n",
    "f_X(x) = \\sum_y f_{X,Y}(x,y) \\quad \n",
    "f_Y(y) = \\sum_x f_{X,Y}(x,y)\n",
    "$$"
   ]
  },
  {
   "cell_type": "markdown",
   "id": "9360d3a8",
   "metadata": {},
   "source": [
    "### Continuous\n",
    "$$\n",
    "f_X(x) = \\int^\\infty _{-\\infty} f_{X,Y}(x,y) dy\\quad \n",
    "f_Y(y) = \\int^\\infty _{-\\infty} f_{X,Y}(x,y) dx\n",
    "$$"
   ]
  },
  {
   "cell_type": "markdown",
   "id": "4e476a7a",
   "metadata": {},
   "source": [
    "This can be viewed as \"squashing\" the 2-D table of probability of 2 variables into a 1-D table with 1 variable.\n",
    "\n",
    "Suppose that we had a census which gives us the distribution of height and weight of people.\n",
    "But we only care about the distribution of heights.\n",
    "We can use the above operation to obtain our desired distribution."
   ]
  },
  {
   "cell_type": "markdown",
   "id": "883e8607",
   "metadata": {},
   "source": [
    "## Conditional distribution\n",
    "The **conditional distribution** of $X$ given that $Y =y$ is defined as:\n",
    "$$\n",
    "f_{X | Y}(x | y)= \\frac{f_{X,Y}(x,y)}{f_Y(y)} \\quad \\text{if } f(Y)(y) > 0\n",
    "$$"
   ]
  },
  {
   "cell_type": "markdown",
   "id": "8d78d7e0",
   "metadata": {},
   "source": [
    "We define similarly for $f_{Y,X}(y|x)$"
   ]
  },
  {
   "cell_type": "markdown",
   "id": "8738f008",
   "metadata": {},
   "source": [
    "Note that marginal/conditional probability distribution both satisfy the conditions for the single variable case.\n",
    "<span hidden>TODO: add link <span/>"
   ]
  },
  {
   "cell_type": "markdown",
   "id": "d92e7f9a",
   "metadata": {},
   "source": [
    "Conditional distribution also follows the *Bayes Law*\n",
    "\n",
    "$$\n",
    "f_{X,Y}(x,y) = f_{Y|X} (y|x) f_X(x)\n",
    "$$"
   ]
  },
  {
   "cell_type": "markdown",
   "id": "69a835da",
   "metadata": {},
   "source": [
    "**Example**\n",
    "\n",
    "A way of contextualizing conditional distribution is suppose we have a census on the height and weight of people, but we wish to find the distribution of weight of all people who is 1.6m tall.\n",
    "<span hidden>TODO: add example <span/>"
   ]
  },
  {
   "cell_type": "markdown",
   "id": "e760e5bd",
   "metadata": {},
   "source": [
    "## Independent random variable\n",
    "Random variable $X,Y$ are independent if and only if:\n",
    "$$\n",
    "f_{X, Y}(x,y) = f_X(x)f_Y(x) \\quad \\textbf{for all } x,y\n",
    "$$"
   ]
  },
  {
   "cell_type": "markdown",
   "id": "e33c0911",
   "metadata": {},
   "source": [
    "## Expectation\n",
    "(For brevity, we jump straight to discussing \"expectation with transformation\")\n",
    "\n",
    "<span hidden> TODO: add link <span/>\n",
    "\n",
    "The expectation $g(X,Y)$ is defined as \n",
    "\n",
    "### Discrete\n",
    "    \n",
    "$$\n",
    "E(g(X,Y)) = \\sum_x \\sum_y g(x,y) f_{X,Y}(x,y)\n",
    "$$\n",
    "\n",
    "### Continuous\n",
    "\n",
    "$$\n",
    "E(g(X,Y)) = \\int^\\infty_{-\\infty}\\int^\\infty_{-\\infty} g(x,y) f_{X,Y}(x,y) dx dy\n",
    "$$"
   ]
  },
  {
   "cell_type": "markdown",
   "id": "47a481ac",
   "metadata": {},
   "source": [
    "## Covariance\n",
    "The **covariance** of $(X,Y)$ is defined as\n",
    "$$\n",
    "Cov(X,Y) = E((X-\\mu_X)(Y-\\mu_Y))\n",
    "$$"
   ]
  },
  {
   "cell_type": "markdown",
   "id": "77189545",
   "metadata": {},
   "source": [
    "This is equivalent to setting $g(X,Y) = (X-\\mu_X)(Y-\\mu_Y)$"
   ]
  },
  {
   "cell_type": "markdown",
   "id": "0b0d8987",
   "metadata": {},
   "source": [
    "### Discrete    \n",
    "\n",
    "$$\n",
    "Cov(X,Y) = \\sum_x \\sum_y (x-\\mu_X)(y-\\mu_Y) f_{X,Y}(x,y)\n",
    "$$\n",
    "\n",
    "### Continuous\n",
    "\n",
    "$$\n",
    "Cov(X,Y) = \\int^\\infty_{-\\infty}\\int^\\infty_{-\\infty} (x-\\mu_X)(y-\\mu_Y) f_{X,Y}(x,y) dx dy\n",
    "$$"
   ]
  },
  {
   "cell_type": "markdown",
   "id": "2bf0daab",
   "metadata": {},
   "source": [
    "### Properties\n",
    "* $Cov(X,Y) = E(XY) - \\mu_x \\mu _Y$\n",
    "* If $X$ and $Y$ are independent, then $Cov(X,Y) = 0$\n",
    "    * However, the converse is not true\n",
    "    <span hidden> TODO: add example <span/>\n",
    "* $Cov(aX+b, cY+d) = ac(Cov(X, Y)$\n",
    "* $V(aX + bY) = a^2V(X) + b^2V(Y) + 2abCov(X,Y)$\n",
    "\n",
    "<span hidden> TODO: add proof <span/>\n"
   ]
  },
  {
   "cell_type": "markdown",
   "id": "e47a72fc",
   "metadata": {},
   "source": [
    "## Correlation coefficient\n",
    "The **correlation coefficient** of $X,Y$ is defined as follows\n",
    "$$\n",
    "Cor(X,Y) = \\rho_{X,Y} = \\frac{Cov(X,Y)}{\\sqrt{V(X)} \\sqrt{V(Y)}}\n",
    "$$"
   ]
  },
  {
   "cell_type": "markdown",
   "id": "5147b051",
   "metadata": {},
   "source": [
    "### Properties\n",
    "* $-1 \\geq \\rho_{X,Y} \\leq 1$\n",
    "* It measures the degree of linear relationship between $X$ and $Y$\n",
    "* If $X$ and $Y$ are independent, then $\\rho_{X,Y} = 0$\n",
    "    * The converse is not true\n",
    "    \n",
    "\n",
    "<span hidden> TODO: add proof <span/>\n"
   ]
  },
  {
   "cell_type": "code",
   "execution_count": null,
   "id": "c1a55a7d",
   "metadata": {},
   "outputs": [],
   "source": []
  }
 ],
 "metadata": {
  "kernelspec": {
   "display_name": "Python 3 (ipykernel)",
   "language": "python",
   "name": "python3"
  },
  "language_info": {
   "codemirror_mode": {
    "name": "ipython",
    "version": 3
   },
   "file_extension": ".py",
   "mimetype": "text/x-python",
   "name": "python",
   "nbconvert_exporter": "python",
   "pygments_lexer": "ipython3",
   "version": "3.9.7"
  }
 },
 "nbformat": 4,
 "nbformat_minor": 5
}
