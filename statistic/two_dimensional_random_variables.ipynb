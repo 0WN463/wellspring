{
 "cells": [
  {
   "cell_type": "markdown",
   "id": "56b5ec57",
   "metadata": {},
   "source": [
    "$$\n",
    "\\newcommand{theorem}{\\textbf{Theorem: }}\n",
    "\\newcommand{proof}{\\textbf{Proof: }}\n",
    "$$"
   ]
  },
  {
   "cell_type": "markdown",
   "id": "2d14f6e7",
   "metadata": {},
   "source": [
    "# Two dimensional random variables\n",
    "There are experiments where we are interested in more than 1 random variable.\n",
    "For instance, a researcher might want to know the distribution of height and weight of people in a population.\n",
    "\n",
    "Thus, instead of only having a single random variable $X$, we now are interested in $X$ and $Y$, which both assigns some value to each $s \\in S$."
   ]
  },
  {
   "cell_type": "markdown",
   "id": "25b50bd8",
   "metadata": {},
   "source": [
    "Our range space is now reformulated to be:\n",
    "$$\n",
    "R_{X,Y} = \\left\\{(x,y) | x = X(s), y = Y(s) , s \\in S\\right\\}\n",
    "$$"
   ]
  },
  {
   "cell_type": "markdown",
   "id": "721bb710",
   "metadata": {},
   "source": [
    "Note that if we wish, we can also look at more than 2 random variables.\n",
    "The notation would be $X_1, X_2, \\dots, X_n$ are our random variables of interest."
   ]
  },
  {
   "cell_type": "markdown",
   "id": "7849186d",
   "metadata": {},
   "source": [
    "## Joint probability density function\n",
    "As with the single random variable case, we define a function ($f_{X,Y}(x,y)$) which maps a probability to each value of the 2 dimensional random variable."
   ]
  },
  {
   "cell_type": "markdown",
   "id": "318b0713",
   "metadata": {},
   "source": [
    "### Discrete"
   ]
  },
  {
   "cell_type": "markdown",
   "id": "8a264c4b",
   "metadata": {},
   "source": [
    "Similar to the one-dimensional case, the function must satisfy:\n",
    "* $f_{X,Y}(x_i, y_j) \\geq 0$ for all $(x_i, y_j) \\in R_{X,Y}$\n",
    "* $\\sum_i \\sum_j f_{X,Y}(x_i, y_j) = 1$"
   ]
  },
  {
   "cell_type": "markdown",
   "id": "b0adf6e9",
   "metadata": {},
   "source": [
    "### Continuous"
   ]
  },
  {
   "cell_type": "markdown",
   "id": "3332309d",
   "metadata": {},
   "source": [
    "Similarly, the function must satisfy:\n",
    "* $f_{X,Y}(x_i, y_j) \\geq 0$ for all $(x_i, y_j) \\in R_{X,Y}$\n",
    "* $\\int \\int_{(x,y) \\in R_{X, Y}} f_{X,Y}(x, y) dx dy = 1$"
   ]
  },
  {
   "cell_type": "markdown",
   "id": "25da0628",
   "metadata": {},
   "source": [
    "## Marginal probability distribution\n",
    "\n",
    "The **marginal probability distribution** or $X$ and $Y$ are defined as follows:\n",
    "\n",
    "### Discrete\n",
    "$$\n",
    "f_X(x) = \\sum_y f_{X,Y}(x,y) \\quad \n",
    "f_Y(y) = \\sum_x f_{X,Y}(x,y)\n",
    "$$"
   ]
  },
  {
   "cell_type": "markdown",
   "id": "9360d3a8",
   "metadata": {},
   "source": [
    "### Continuous\n",
    "$$\n",
    "f_X(x) = \\int^\\infty _{-\\infty} f_{X,Y}(x,y) dy\\quad \n",
    "f_Y(y) = \\int^\\infty _{-\\infty} f_{X,Y}(x,y) dx\n",
    "$$"
   ]
  },
  {
   "cell_type": "markdown",
   "id": "4e476a7a",
   "metadata": {},
   "source": [
    "This can be viewed as \"squashing\" the 2-D table of probability of 2 variables into a 1-D table with 1 variable.\n",
    "\n",
    "Suppose that we had a census which gives us the distribution of height and weight of people.\n",
    "But we only care about the distribution of heights.\n",
    "We can use the above operation to obtain our desired distribution."
   ]
  },
  {
   "cell_type": "markdown",
   "id": "883e8607",
   "metadata": {},
   "source": [
    "## Conditional distribution\n",
    "The **conditional distribution** of $X$ given that $Y =y$ is defined as:\n",
    "$$\n",
    "f_{X | Y}(x | y)= \\frac{f_{X,Y}(x,y)}{f_Y(y)} \\quad \\text{if } f(Y)(y) > 0\n",
    "$$"
   ]
  },
  {
   "cell_type": "markdown",
   "id": "8d78d7e0",
   "metadata": {},
   "source": [
    "We define similarly for $f_{Y,X}(y|x)$"
   ]
  },
  {
   "cell_type": "markdown",
   "id": "8738f008",
   "metadata": {},
   "source": [
    "Note that marginal/conditional probability distribution both satisfy the [conditions for the single variable case](./random_variables.ipynb#variable-props)."
   ]
  },
  {
   "cell_type": "markdown",
   "id": "d92e7f9a",
   "metadata": {},
   "source": [
    "Conditional distribution also follows the *Bayes Law*\n",
    "\n",
    "$$\n",
    "f_{X,Y}(x,y) = f_{Y|X} (y|x) f_X(x)\n",
    "$$"
   ]
  },
  {
   "cell_type": "markdown",
   "id": "69a835da",
   "metadata": {},
   "source": [
    "**Example**\n",
    "\n",
    "A way of contextualizing conditional distribution is suppose we have a census on the height and weight of people, but we wish to find the distribution of weight of all people who is 1.6m tall.\n",
    "<span hidden>TODO: add example <span/>"
   ]
  },
  {
   "cell_type": "markdown",
   "id": "e760e5bd",
   "metadata": {},
   "source": [
    "## Independent random variable\n",
    "Random variable $X,Y$ are independent if and only if:\n",
    "$$\n",
    "f_{X, Y}(x,y) = f_X(x)f_Y(x) \\quad \\textbf{for all } x,y\n",
    "$$"
   ]
  },
  {
   "cell_type": "markdown",
   "id": "e33c0911",
   "metadata": {},
   "source": [
    "## Expectation\n",
    "(For brevity, we jump straight to discussing [\"expectation with transformation\"](./random_variables.ipynb#function-expectation))\n",
    "\n",
    "The expectation $g(X,Y)$ is defined as \n",
    "\n",
    "### Discrete\n",
    "    \n",
    "$$\n",
    "E(g(X,Y)) = \\sum_x \\sum_y g(x,y) f_{X,Y}(x,y)\n",
    "$$\n",
    "\n",
    "### Continuous\n",
    "\n",
    "$$\n",
    "E(g(X,Y)) = \\int^\\infty_{-\\infty}\\int^\\infty_{-\\infty} g(x,y) f_{X,Y}(x,y) dx dy\n",
    "$$"
   ]
  },
  {
   "cell_type": "markdown",
   "id": "47a481ac",
   "metadata": {},
   "source": [
    "## Covariance\n",
    "The **covariance** of $(X,Y)$ is defined as\n",
    "$$\n",
    "Cov(X,Y) = E((X-\\mu_X)(Y-\\mu_Y))\n",
    "$$"
   ]
  },
  {
   "cell_type": "markdown",
   "id": "77189545",
   "metadata": {},
   "source": [
    "This is equivalent to setting $g(X,Y) = (X-\\mu_X)(Y-\\mu_Y)$"
   ]
  },
  {
   "cell_type": "markdown",
   "id": "0b0d8987",
   "metadata": {},
   "source": [
    "### Discrete    \n",
    "\n",
    "$$\n",
    "Cov(X,Y) = \\sum_x \\sum_y (x-\\mu_X)(y-\\mu_Y) f_{X,Y}(x,y)\n",
    "$$\n",
    "\n",
    "### Continuous\n",
    "\n",
    "$$\n",
    "Cov(X,Y) = \\int^\\infty_{-\\infty}\\int^\\infty_{-\\infty} (x-\\mu_X)(y-\\mu_Y) f_{X,Y}(x,y) dx dy\n",
    "$$"
   ]
  },
  {
   "cell_type": "markdown",
   "id": "2bf0daab",
   "metadata": {},
   "source": [
    "### Properties\n",
    "* $Cov(X,Y) = E(XY) - \\mu_x \\mu _Y$\n",
    "* If $X$ and $Y$ are independent, then $Cov(X,Y) = 0$\n",
    "    * However, the converse is not true\n",
    "* $Cov(aX+b, cY+d) = ac(Cov(X, Y))$\n",
    "* $V(aX + bY) = a^2V(X) + b^2V(Y) + 2abCov(X,Y)$"
   ]
  },
  {
   "cell_type": "markdown",
   "id": "cdeca7b0",
   "metadata": {},
   "source": [
    "<details>\n",
    "<summary style=\"color: blue\">$\\proof$ (Click to expand)</summary>\n",
    "<div style=\"background: aliceblue\">\n",
    "$$\n",
    "\\begin{align}\n",
    "Cov(X, Y) &= \\sum _x \\sum_y (x - \\mu_X)(y-\\mu_Y) f_{X, Y}(x, y) &\\\\\n",
    "&= \\sum_x \\sum_y (xy - y\\mu_X-x\\mu_Y + \\mu_X \\mu_Y) f_{X, Y}(x, y) &\\\\\n",
    "&= \\sum _x \\sum_y xy f_{X, Y}(x, y) - \\sum _x \\sum_y y\\mu_X f_{X, Y}(x, y) -\\sum_x\\sum_y x\\mu_Y f_{X, Y}(x, y) + \\sum_x\\sum_y\\mu_X \\mu_Y f_{X, Y}(x, y) &\\\\\n",
    "&= E(XY) - \\sum_x \\sum_y y\\mu_X f_{X, Y}(x, y) -\\sum_x\\sum_y x\\mu_Y f_{X, Y}(x, y) + \\sum_x\\sum_y\\mu_X \\mu_Y f_{X, Y}(x, y) &\\\\\n",
    "&= E(XY) -\\mu_X \\sum_x \\sum_y y f_{X, Y}(x, y) -\\mu_Y\\sum_x\\sum_y x f_{X, Y}(x, y) +\\mu_X \\mu_Y \\sum_x\\sum_y f_{X, Y}(x, y) &\\\\\n",
    "&= E(XY) -\\mu_X \\sum_y \\sum_x y f_{X, Y}(x, y) -\\mu_Y\\sum_x f_{X}(x) +\\mu_X \\mu_Y &\\\\\n",
    "&= E(XY) -\\mu_X \\sum_y y f_{Y}(y) -\\mu_Y\\mu_X +\\mu_X \\mu_Y &\\\\\n",
    "&= E(XY) -\\mu_X \\mu_Y -\\mu_Y\\mu_X +\\mu_X \\mu_Y &\\\\\n",
    "&= E(XY) -\\mu_X \\mu_Y &\\\\\n",
    "& QED\n",
    "\\end{align} \\\\\n",
    "$$\n",
    "\n",
    "---    \n",
    " \n",
    "$$\n",
    "\\begin{align}\n",
    "Cov(X, Y) &= E(XY) -\\mu_X \\mu_Y \\\\\n",
    "&=\\sum _x \\sum _y xy f_{X,Y} (x,y) - \\mu_X \\mu_Y \\\\\n",
    "&=\\sum _x \\sum _y xy f_X(x) f_Y(y) - \\mu_X \\mu_Y \\\\\n",
    "&=\\sum _x x f_X(x) \\sum _y y f_Y(y) - \\mu_X \\mu_Y \\\\\n",
    "&=\\mu_X \\mu_Y - \\mu_X \\mu_Y \\\\\n",
    "&=0 \\\\\n",
    "& QED\n",
    "\\end{align}      \n",
    "$$\n",
    "        \n",
    "---\n",
    "\n",
    "Consider the following distribution\n",
    "        \n",
    "| $$f_{X, Y}(x,y)$$ |  $$x = -2$$ | $$x=0$$ | $$x = 2$$ |\n",
    "| --- | --- | --- | --- |\n",
    "| $$y = -1$$ | 0 | 0.2  | 0  |\n",
    "| $$y = 0$$ | 0.2  | 0.2 | 0.2  |\n",
    "| $$y = 1 $$ | 0  | 0.2 | 0  |\n",
    "\n",
    "        \n",
    "We can see that\n",
    "$$\n",
    "Cov(X, Y) = E(XY) -\\mu_X \\mu_Y \\\\\n",
    "= 0 - 0 \\\\\n",
    "= 0\n",
    "$$\n",
    "\n",
    "However, $f_{X}(-2) = 0.2$, $f_{Y}(0) = 0.2 + 0.2 +0.2 = 0.6$, $f_{X,Y}(-2, 0) = 0.2 \\neq f_X(-2) f_Y(0) = (0.2)(0.6)$.\n",
    "\n",
    "Therefore, this forms our simple counter example.\n",
    "\n",
    "---\n",
    "\n",
    "$$\n",
    "\\begin{align}\n",
    "Cov(aX + b, cY + d) &= E\\left( (aX+b - \\mu_{aX + b}) (cY+d - \\mu_{cY + d}) f_{X,Y}(x,y) \\right) \\\\\n",
    "&= E\\left((aX+b-(a \\mu_X + b)) (cY+d - (c\\mu_Y + d))f_{X,Y}(x,y) \\right) \\\\\n",
    "&= E\\left((aX-a \\mu_X) (cY - c\\mu_Y)f_{X,Y}(x,y) \\right) \\\\\n",
    "&= E\\left(a(X- \\mu_X) c(Y - \\mu_Y)f_{X,Y}(x,y) \\right) \\\\\n",
    "&= acE\\left((X- \\mu_X)(Y - \\mu_Y)f_{X,Y}(x,y) \\right) \\\\\n",
    "&= acCov(X, Y) \\\\\n",
    "&= QED\n",
    "\\end{align}\n",
    "$$\n",
    "    \n",
    "$$\n",
    "\\begin{align}\n",
    "V(aX + bY) &= E\\left( (aX + bY - \\mu_{aX + bY})^2 \\right) \\\\\n",
    "&= E\\left( (a^2 X^2 + b^2Y^2 + \\mu_{aX + bY}^2 + 2abXY - 2(aX + bY) (\\mu_{aX+bY}) \\right) \\\\\n",
    "&= E\\left( (a^2 X^2 + b^2Y^2 + (\\mu_{aX} + \\mu_{bY})^2 + 2abXY - 2(aX + bY) (\\mu_{aX}+\\mu_{bY})) \\right) \\\\\n",
    "&= E( (a^2 X^2 + b^2Y^2 + (\\mu^2_{aX} + \\mu^2_{bY} + 2\\mu_{aX} \\mu_{bY}) + 2abXY - \\\\\n",
    "& \\qquad 2(aX\\mu_{aX} + bY\\mu_{aX}+ aX\\mu_{bY} + bY\\mu_{bY})) \\\\\n",
    "&= E\\left( a^2 X^2 - 2 aX\\mu_{aX} +  \\mu^2_{aX}\\right) \n",
    "+ E\\left(b^2Y^2 - 2bY\\mu_{bY} + \\mu^2_{bY}\\right) \\\\\n",
    "& \\qquad\n",
    "+ E \\left( 2\\mu_{aX} \\mu_{bY} + 2abXY - 2(aX\\mu_{bY} + bY\\mu_{aX}) \\right) \\\\\n",
    "&= V(aX) + V(bX) +  E \\left( 2\\mu_{aX} \\mu_{bY} + 2abXY - 2(aX\\mu_{bY} + bY\\mu_{aX})\\right) \\\\\n",
    "&= V(aX) + V(bX) +  E \\left( 2a\\mu_{X} b\\mu_{Y} + 2abXY - 2(abX\\mu_{Y} + abY\\mu_{X})\\right) \\\\\n",
    "&= V(aX) + V(bX) + 2abCov(X, Y) \\\\ \n",
    "& QED\n",
    "\\end{align}\n",
    "$$\n",
    "\n",
    "</div>\n",
    "</details>"
   ]
  },
  {
   "cell_type": "markdown",
   "id": "e47a72fc",
   "metadata": {},
   "source": [
    "## Correlation coefficient\n",
    "The **correlation coefficient** of $X,Y$ is defined as follows\n",
    "$$\n",
    "Cor(X,Y) = \\rho_{X,Y} = \\frac{Cov(X,Y)}{\\sqrt{V(X)} \\sqrt{V(Y)}}\n",
    "$$"
   ]
  },
  {
   "cell_type": "markdown",
   "id": "5147b051",
   "metadata": {},
   "source": [
    "### Properties\n",
    "* $-1 \\leq \\rho_{X,Y} \\leq 1$\n",
    "* It measures the degree of linear relationship between $X$ and $Y$\n",
    "* If $X$ and $Y$ are independent, then $\\rho_{X,Y} = 0$\n",
    "    * The converse is not true\n",
    "    \n",
    "\n",
    "<span hidden> TODO: add proof <span/>\n"
   ]
  }
 ],
 "metadata": {
  "kernelspec": {
   "display_name": "Python 3 (ipykernel)",
   "language": "python",
   "name": "python3"
  },
  "language_info": {
   "codemirror_mode": {
    "name": "ipython",
    "version": 3
   },
   "file_extension": ".py",
   "mimetype": "text/x-python",
   "name": "python",
   "nbconvert_exporter": "python",
   "pygments_lexer": "ipython3",
   "version": "3.10.1"
  }
 },
 "nbformat": 4,
 "nbformat_minor": 5
}
