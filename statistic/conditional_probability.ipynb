{
 "cells": [
  {
   "cell_type": "markdown",
   "id": "b0387afa",
   "metadata": {},
   "source": [
    "$$\n",
    "\\newcommand{theorem}{\\textbf{Theorem: }}\n",
    "\\newcommand{proof}{\\textbf{Proof: }}\n",
    "$$"
   ]
  },
  {
   "cell_type": "markdown",
   "id": "missing-bulgarian",
   "metadata": {},
   "source": [
    "# Conditional Probability"
   ]
  },
  {
   "cell_type": "markdown",
   "id": "0712f5ad",
   "metadata": {},
   "source": [
    "Conditional probabilities are probabilities of events that changes when partial information concerning the result of the experiment becomes available.\n",
    "\n",
    "Given events $A$ and $B$, we denote $Pr(A|B)$ as the conditional probability that event A occurring, given that event $B$ has occurred."
   ]
  },
  {
   "cell_type": "markdown",
   "id": "f165575a",
   "metadata": {},
   "source": [
    "After $B$ has occurred, we know that the possible sample points after this event manifesting would be the number of sample points in $B$.\n",
    "To find $Pr(A|B)$, we then consider all the sample points that are in $A$, after $B$ occurred.\n",
    "In other words, we find the sample points in $A \\cap B$.\n",
    "\n",
    "It follows that:\n",
    "$$\n",
    "\\begin{align}\n",
    "Pr(A|B) &= \\frac{\\text{Number of sample points in } (A \\cap B)}{\\text{Number of sample points in } B}  \\\\\n",
    "&= \\frac{\\text{Number of sample points in } (A \\cap B) / \\text{Number of sample points in } S}{\\text{Number of sample points in } B / \\text{Number of sample points in } S}  \\\\\n",
    "&= \\frac{Pr(A \\cap B)}{Pr(B)}\n",
    "\\end{align}\n",
    "$$"
   ]
  },
  {
   "cell_type": "markdown",
   "id": "2d8b6779",
   "metadata": {},
   "source": [
    "**Note that for the above to hold**, $Pr(B) > 0$."
   ]
  },
  {
   "cell_type": "markdown",
   "id": "3bc06127",
   "metadata": {},
   "source": [
    "Reasonably, it means that if $B$ can never occur, we cannot define the probability of $A$ occurring when $B$ occurs."
   ]
  },
  {
   "cell_type": "markdown",
   "id": "9146d3a7",
   "metadata": {},
   "source": [
    "Note that for a given $B$, $Pr(A|B)$ also satisfy the axioms of probability."
   ]
  },
  {
   "cell_type": "markdown",
   "id": "37d52e56",
   "metadata": {},
   "source": [
    "1. $0 \\leq Pr(A|B) \\leq 1$\n",
    "2. $Pr(S|B) = 1$\n",
    "3. If $A_1, \\dots $ are mutually exclusive, then:\n",
    "$$\n",
    "Pr\\left(\\bigcup ^\\infty_{i=1} A_i | B\\right) = \\sum ^\\infty_{i=1} Pr(A_i|B)\n",
    "$$"
   ]
  },
  {
   "cell_type": "markdown",
   "id": "43435517",
   "metadata": {},
   "source": [
    "## Multiplication rule of probability\n",
    "Rearranging $Pr(A|B) = \\frac{Pr(A\\cap B)}{Pr(B)}$, we get\n",
    "$$\n",
    "    Pr(A\\cap B) = Pr(A|B) Pr(B)\n",
    "$$"
   ]
  },
  {
   "cell_type": "markdown",
   "id": "2dd93062",
   "metadata": {},
   "source": [
    "As per the definition of conditional probability, we require $Pr(B) > 0$."
   ]
  },
  {
   "cell_type": "markdown",
   "id": "cb997f7c",
   "metadata": {},
   "source": [
    "Note that we can chain this to more than 2 events.\n",
    "$$\n",
    "    Pr(A\\cap B \\cap C) = Pr(A|B \\cap C) Pr(B \\cap C) = Pr(A|B \\cap C) Pr(B | C) Pr(C)\n",
    "$$"
   ]
  },
  {
   "cell_type": "markdown",
   "id": "6a4d2096",
   "metadata": {},
   "source": [
    "In general, $Pr(\\bigcap ^n_{i=1} A_i) = Pr(A_1) Pr(A_2 | A_1) \\dots Pr(A_n | \\bigcap ^{n-1}_{i=1} A_i)$"
   ]
  },
  {
   "cell_type": "markdown",
   "id": "45d48233",
   "metadata": {},
   "source": [
    "if $Pr( \\bigcap ^{n-1}_{i=1} A_i) > 0$."
   ]
  },
  {
   "cell_type": "markdown",
   "id": "811f8aa2",
   "metadata": {},
   "source": [
    "## Law of total probability\n",
    "\n",
    "Given $A_1, A_2, \\dots, A_n$ that are a **partition** of $S$, that is they are mutually exclusive and exhaustive ($\\bigcup A_i = S$), then for any event $B$:\n",
    "\n",
    "$$\n",
    "Pr(B) = \\sum ^ n _{i=1} Pr(B\\cap A_i) = \\sum ^ n _{i=1} Pr(A_i) Pr(B|A_i)\n",
    "$$"
   ]
  },
  {
   "cell_type": "markdown",
   "id": "efa5c4c6",
   "metadata": {},
   "source": [
    "## Bayes theorem\n",
    "Given $A_1, \\dots, A_n$ which are partitions of $S$, then\n",
    "$$\n",
    "Pr(A_k|B) = \\frac{Pr(A_k)Pr(B|A_k)}{Pr(B)}\n",
    "$$"
   ]
  },
  {
   "cell_type": "markdown",
   "id": "f3e613d3",
   "metadata": {},
   "source": [
    "## Independent events\n",
    "Two events $A$ and $B$ are independent if and only of $Pr(A \\cap B) = Pr(A) Pr(B)$.\n",
    "That is the outcome of whether $A$ occurring or not does not affect the occurrence of event $B$ occurring."
   ]
  },
  {
   "cell_type": "markdown",
   "id": "9c4d0c06",
   "metadata": {},
   "source": [
    "### Properties\n",
    "* The sure event and the null event are independent of any event.\n",
    "* If $A \\subset B$, then $A$ and $B$ are dependent, unless $B = S$.\n",
    "* The property of independence (unlike mutually exclusivity) **cannot be shown** by Venn diagram\n",
    "<span hidden> TODO: Add links <span/>\n",
    "\n",
    "\n",
    "**Suppose that $Pr(A) > 0, Pr(B) > 0$**\n",
    "* If $A$ and $B$ are independent, \n",
    "    * then $Pr(A|B) = Pr(A)$ and $Pr(B|A) = Pr(A)$.\n",
    "    * then $A$ and $B$ cannot be mutually exclusive\n",
    "    * then $A'$ with $B$, $A$ with $B'$, $A$' with $B'$ are all independent also."
   ]
  },
  {
   "cell_type": "markdown",
   "id": "844d87e7",
   "metadata": {},
   "source": [
    "<details>\n",
    "    <summary style=\"color: blue\">$\\proof$ (Click to expand)</summary>\n",
    "    <div style=\"background: aliceblue\">\n",
    "$$\n",
    "A,B \\text{ are independent } \\Rightarrow Pr(A \\cap B) = Pr(A) Pr(B)\n",
    "$$\n",
    "      \n",
    "$$\n",
    "Pr(A | B) = \\frac{Pr(A \\cap B)}{Pr(B)} = \\frac{Pr(A) Pr(B)}{Pr(B)} = Pr(A)\n",
    "$$\n",
    "And similarly for $Pr(B | A)$\n",
    "        \n",
    "---    \n",
    "        \n",
    "$$\n",
    "Pr(A \\cap B) = Pr(A) Pr(B) > 0 \\text { when } Pr(A), Pr(B) > 0 \\Rightarrow \\text{ $A$ and $B$ are not mutually exclusive}\n",
    "$$\n",
    "        \n",
    "---\n",
    "        \n",
    "$$\n",
    "Pr(A) Pr(B) = Pr(A \\cap B) \\\\ \\Rightarrow\n",
    "Pr(B) - Pr(A) Pr(B) = Pr(B) - Pr(A \\cap B) \\\\\\Rightarrow \n",
    "(1 - Pr(A)) Pr(B) = Pr(A' \\cap B) \\quad \\text{By Venn diagram} \\\\\\Rightarrow\n",
    "Pr(A') Pr(B) = Pr(A' \\cap B)\n",
    "$$\n",
    "        \n",
    "And similarly for the rest.\n",
    "    </div>\n",
    "</details>"
   ]
  },
  {
   "cell_type": "markdown",
   "id": "73705baa",
   "metadata": {},
   "source": [
    "### Examples\n",
    "Suppose we are rolling a die as an experiment.\n",
    "\n",
    "Given $A =$ event of a odd number and $B = $ event of an even number:\n",
    "\n",
    "$Pr(A \\cap B) = 0 \\Rightarrow$ $A$ and $B$ are mutually exclusive.\n",
    "\n",
    "$Pr(A) = Pr(B) = 1/2$\n",
    "\n",
    "$Pr(A)Pr(B) = 1/4 \\neq Pr(A \\cap B) =0 \\Rightarrow$ $A$ and $B$ are not independent.\n",
    "\n",
    "---"
   ]
  },
  {
   "cell_type": "markdown",
   "id": "84261d93",
   "metadata": {},
   "source": [
    "Given $A =$ event of a even number and $B = $ event of a number $\\geq 4$:\n",
    "\n",
    "$A \\cap B = \\{4, 6\\}$\n",
    "\n",
    "$Pr(A \\cap B) = 1/3 \\Rightarrow$ $A$ and $B$ are not mutually exclusive.\n",
    "\n",
    "$Pr(A) = Pr(B) = 1/2$\n",
    "\n",
    "$Pr(A)Pr(B) =1/4 \\neq Pr(A \\cap B) =1/3 \\Rightarrow$ $A$ and $B$ are not independent."
   ]
  },
  {
   "cell_type": "markdown",
   "id": "71f4349c",
   "metadata": {},
   "source": [
    "Given $A =$ event of a even number and $B = $ event of a number $> 2$:\n",
    "\n",
    "$A \\cap B = \\{4, 6\\}$\n",
    "\n",
    "$Pr(A \\cap B) = 1/3 \\Rightarrow$ $A$ and $B$ are not mutually exclusive.\n",
    "\n",
    "$Pr(A) = 1/2, Pr(B) = 2/3$\n",
    "\n",
    "$Pr(A)Pr(B) =1/3 = Pr(A \\cap B) \\Rightarrow$ $A$ and $B$ are independent.\n",
    "\n",
    "---\n"
   ]
  },
  {
   "cell_type": "markdown",
   "id": "cc8362a0",
   "metadata": {},
   "source": [
    "A set of events $A_1, \\dots, A_n$ are pairwise independent if and only if\n",
    "$$\n",
    "Pr(A_i \\cap A_j) = Pr(A_i) Pr(A_j)\n",
    "$$\n",
    "\n",
    "for $i \\neq j$ and $i,j = 1, \\dots , n$"
   ]
  },
  {
   "cell_type": "markdown",
   "id": "9e0709c3",
   "metadata": {},
   "source": [
    "A set of events $A_1, \\dots, A_n$ are **mutually independent (or simply independent)** if and only if for any subset $\\{A_{i_1}, \\dots, A_{i_k}\\}$ of $A_1, \\dots A_n$,\n",
    "\n",
    "$$\n",
    "Pr(\\bigcap ^k _{j=1} A_{i_j}) = Pr(A_{i_1})Pr(A_{i_2}) \\dots Pr(A_{i_k}) = \\Pi ^k_{j=1} Pr(A_{i_j})\n",
    "$$\n"
   ]
  }
 ],
 "metadata": {
  "kernelspec": {
   "display_name": "Python 3 (ipykernel)",
   "language": "python",
   "name": "python3"
  },
  "language_info": {
   "codemirror_mode": {
    "name": "ipython",
    "version": 3
   },
   "file_extension": ".py",
   "mimetype": "text/x-python",
   "name": "python",
   "nbconvert_exporter": "python",
   "pygments_lexer": "ipython3",
   "version": "3.10.2"
  }
 },
 "nbformat": 4,
 "nbformat_minor": 5
}
