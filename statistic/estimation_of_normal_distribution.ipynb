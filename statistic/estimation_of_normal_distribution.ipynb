{
 "cells": [
  {
   "cell_type": "markdown",
   "id": "3f7b1fb4",
   "metadata": {},
   "source": [
    "$$\n",
    "\\newcommand{theorem}{\\textbf{Theorem: }}\n",
    "\\newcommand{proof}{\\textbf{Proof: }}\n",
    "$$"
   ]
  },
  {
   "cell_type": "markdown",
   "id": "3f6d31e6",
   "metadata": {},
   "source": [
    "# Estimation of normal distribution\n",
    "Suppose that some characteristics of the elements in the population can be represented by a random variable $X$ whose probability function is $f_X(x;\\theta)$.\n",
    "This could be the height of people in a city or salary of employees, *etc*.\n",
    "We know the family that the probability function belongs to, but are not sure of some **unknown parameter** $\\theta$.\n",
    "\n",
    "Now suppose that we've obtained some values $x_1, \\dots x_n$ of a random sample $X_1, \\dots, X_n$ from the population.\n",
    "From these samples, we wish to estimate the value of the $\\theta$."
   ]
  },
  {
   "cell_type": "markdown",
   "id": "6d56ecda",
   "metadata": {},
   "source": [
    "## Estimation\n",
    "The estimation can be perform in two ways\n",
    "\n",
    "### Point estimation\n",
    "A **point estimation** is defined as the statistic where \n",
    "$$\n",
    "\\hat \\theta = \\hat \\Theta (X_1, \\dots, X_n)\n",
    "$$\n",
    "\n",
    "where $\\hat \\Theta$ is some function of the sample, and is called the **point estimator**\n",
    "\n",
    "Note that a statistic is a **function of the random sample** and **does not depend on any unknown parameter**.\n",
    "\n",
    "For example, $\\bar X = \\frac{1}{n}\\sum X_i$ and $X_{max} = \\max(X_1, \\dots, X_n)$ are both statistics as there are no unknown parameter.\n",
    "\n",
    "However, $W = \\frac{1}{n}\\sum(X_i - \\mu)^2$ is not a statistic if $\\mu$ is unknown, but is one if $\\mu$ is known.\n",
    "\n",
    "Suppose $\\mu$ is the population mean.\n",
    "Then $\\bar X$ is a **(point) estimator** of $\\mu$.\n",
    "The value of $\\bar X$, denoted as $\\bar x$, is an estimate of $\\mu$.\n",
    "\n",
    "### Interval estimation\n",
    "An **interval estimation** is defined by two statistics, $\\hat \\Theta _L, \\hat \\Theta _U$, where $\\hat \\Theta _L < \\hat \\Theta _U$, such that $(\\hat \\Theta _L, \\hat \\Theta _U)$ is an interval where the probability of it containing $\\theta$ can be determined."
   ]
  },
  {
   "cell_type": "markdown",
   "id": "ec0aa8a0",
   "metadata": {},
   "source": [
    "Suppose that $\\sigma$ is known.\n",
    "Then we can set\n",
    "$$\n",
    "\\hat \\Theta _L = \\bar X - 2 \\sigma \\quad \\hat \\Theta _U = \\bar X + 2 \\sigma\n",
    "$$\n",
    "\n",
    "then $(\\hat \\Theta _L, \\hat \\Theta _U)$ is an interval estimator for $\\mu$."
   ]
  },
  {
   "cell_type": "markdown",
   "id": "e0801719",
   "metadata": {},
   "source": [
    "## Unbiased estimator\n",
    "An **unbiased estimator** ($\\hat \\Theta$) of $\\theta$ satisfy\n",
    "$$\n",
    "E(\\hat \\Theta) = \\theta\n",
    "$$"
   ]
  },
  {
   "cell_type": "markdown",
   "id": "9c032f2a",
   "metadata": {},
   "source": [
    "**Example**\n",
    "\n",
    "$\\bar X$ is an unbiased estimator of $\\mu$ as $E(\\bar X) = \\mu$.\n",
    "\n",
    "$S^2=\\frac{1}{n-1}\\sum(X_i - \\bar X)^2$ is an unbiased estimator of $\\sigma^2$"
   ]
  },
  {
   "cell_type": "markdown",
   "id": "d2cd0c58",
   "metadata": {},
   "source": [
    "## Interval estimation\n",
    "An interval estimate of $\\theta$ gives us a bound on $\\theta$\n",
    "$$\n",
    "\\hat \\theta _L < \\theta < \\hat \\theta_U\n",
    "$$\n",
    "\n",
    "where $\\hat \\theta _L, \\hat \\theta _U$ depends on\n",
    "* the value of $\\hat \\Theta$ for a particular sample\n",
    "* the sampling distribution of $\\hat \\Theta$"
   ]
  },
  {
   "cell_type": "markdown",
   "id": "b39700ca",
   "metadata": {},
   "source": [
    "Note that since $\\hat \\theta _L, \\hat \\theta _U$ both depends on the statistic of the sample, these values can change based on which sample we obtained.\n",
    "Hence, **it is possible that $\\theta$ is not contained within the interval**."
   ]
  },
  {
   "cell_type": "markdown",
   "id": "a00a2ebc",
   "metadata": {},
   "source": [
    "Instead, we are interested in the random interval $(\\hat \\Theta _L, \\hat \\Theta _U)$, which contains $\\theta$ with a probability of $1-\\alpha$.\n",
    "\n",
    "Formally, we are interested in the distribution with the following probability\n",
    "$$\n",
    "Pr(\\hat \\Theta _L < \\theta < \\hat \\Theta _U) = 1 - \\alpha\n",
    "$$"
   ]
  },
  {
   "cell_type": "markdown",
   "id": "d0008cf3",
   "metadata": {},
   "source": [
    "Then, the interval $(\\hat \\theta _L, \\hat \\theta _U)$ forms the width of the $(1-\\alpha)100\\%$ confidence interval."
   ]
  },
  {
   "cell_type": "markdown",
   "id": "2125d656",
   "metadata": {},
   "source": [
    "The fraction $(1-\\alpha)$ is the **confidence coefficient/degree of confidence**.\n",
    "The endpoints $\\hat \\theta _L, \\hat \\theta _I$ are called the **lower/upper confidence limits** respectively."
   ]
  },
  {
   "cell_type": "markdown",
   "id": "58fdabbb",
   "metadata": {},
   "source": [
    "When we obtain samples of size $n$, if many samples are taken, we expect $(1 - \\alpha) 100 \\%$ of the intervals to contain $\\theta$.\n",
    "In other words, we have a confidence of $(1-\\alpha)100\\%$ in saying our interval covers $\\theta$."
   ]
  },
  {
   "cell_type": "markdown",
   "id": "2103d1bd",
   "metadata": {},
   "source": [
    "For example, when $\\alpha = 0.05$, then we have a 95\\% confidence in saying our interval will cover $\\theta$, and we expect only 5\\% of the sample's statistic not containing $\\theta$."
   ]
  },
  {
   "cell_type": "markdown",
   "id": "abe42423",
   "metadata": {},
   "source": [
    "## Confidence interval for mean\n",
    "### Known variance <span id=\"known-variance\"/>\n",
    "Suppose that\n",
    "1. population variance is known\n",
    "2. population is normal or $n \\geq 30$"
   ]
  },
  {
   "cell_type": "markdown",
   "id": "66944122",
   "metadata": {},
   "source": [
    "#### Confidence interval <span id=\"confidence-interval\"/>"
   ]
  },
  {
   "cell_type": "markdown",
   "id": "4c1bc74c",
   "metadata": {},
   "source": [
    "Using [central limit theorem]() based on (2), we expect that \n",
    "$$\n",
    "\\bar X \\sim N(\\mu, \\frac{\\sigma^2}{n})\n",
    "$$\n",
    "and\n",
    "$$\n",
    "Z = \\frac{\\bar X - \\mu}{\\sigma / \\sqrt n} \\sim N(0, 1)\n",
    "$$\n"
   ]
  },
  {
   "cell_type": "markdown",
   "id": "a38cb721",
   "metadata": {},
   "source": [
    "Hence, by definition of normal distribution\n",
    "$$\n",
    "Pr(-z_{\\alpha/2} < \\frac{\\bar X - \\mu}{\\sigma / \\sqrt n} < z_{\\alpha/2}) = 1 -\\alpha\n",
    "$$\n",
    "\n",
    "where $z_{\\alpha/2}$ is the value of $Z$ where $Pr(Z > z_{\\alpha/2}) = \\alpha/2$"
   ]
  },
  {
   "cell_type": "markdown",
   "id": "18ccb31e",
   "metadata": {},
   "source": [
    "Rearranging, we get\n",
    "$$\n",
    "Pr\\left(\\bar X - z_{\\alpha/2}\\left(\\frac{\\sigma}{\\sqrt n}\\right) < \\mu < \\bar X + z_{\\alpha/2}\\left(\\frac{\\sigma}{\\sqrt n}\\right)\\right) = 1 - \\alpha\n",
    "$$"
   ]
  },
  {
   "cell_type": "markdown",
   "id": "3741dcb7",
   "metadata": {},
   "source": [
    "which is the confidence interval we desire.\n"
   ]
  },
  {
   "cell_type": "markdown",
   "id": "44d9334d",
   "metadata": {},
   "source": [
    "#### Finding sample size"
   ]
  },
  {
   "cell_type": "markdown",
   "id": "dfed20aa",
   "metadata": {},
   "source": [
    "Now suppose that we wish to determine how large a sample we should obtain before finding $\\bar X$."
   ]
  },
  {
   "cell_type": "markdown",
   "id": "48db622d",
   "metadata": {},
   "source": [
    "Most of the time $\\bar X$ will not be exactly equal to $\\mu$, which leads to errors in the estimate.\n",
    "The size of this error is $|\\bar X - \\mu|$"
   ]
  },
  {
   "cell_type": "markdown",
   "id": "758b06eb",
   "metadata": {},
   "source": [
    "Rearranging the previous interval, we get\n",
    "$$\n",
    "Pr\\left(- z_{\\alpha/2}\\left(\\frac{\\sigma}{\\sqrt n}\\right) < \\bar X  - \\mu < z_{\\alpha/2}\\left(\\frac{\\sigma}{\\sqrt n}\\right)\\right) = 1 - \\alpha \\\\\n",
    "\\Rightarrow\n",
    "Pr\\left(|\\bar X - \\mu| < z_{\\alpha/2} \\frac{\\sigma}{\\sqrt n} \\right) = 1 - \\alpha\n",
    "$$"
   ]
  },
  {
   "cell_type": "markdown",
   "id": "6c5bb11b",
   "metadata": {},
   "source": [
    "We wish to say that \n",
    "$$\n",
    "Pr(|\\bar X - \\mu| \\leq e) \\geq 1 - \\alpha\n",
    "$$\n",
    "where $e$ is our **margin of error**."
   ]
  },
  {
   "cell_type": "markdown",
   "id": "64f4a326",
   "metadata": {},
   "source": [
    "Comparing with the previous equation, we get\n",
    "$$\n",
    "e \\geq z _{\\alpha/2}\\frac{\\sigma}{\\sqrt n}\n",
    "$$\n",
    "Therefore, for a given margin of error $e$, the sample size is given by\n",
    "$$\n",
    "n \\geq \\left(z _{\\alpha/2} \\frac{\\sigma}{e}\\right)^2\n",
    "$$"
   ]
  },
  {
   "cell_type": "markdown",
   "id": "a3cef13c",
   "metadata": {},
   "source": [
    "That is, we need a sample of at least size $(z_{\\alpha/2} \\frac{\\sigma}{e})^2$ in order to obtain a confidence interval with at most a margin of error $e$."
   ]
  },
  {
   "cell_type": "markdown",
   "id": "381360af",
   "metadata": {},
   "source": [
    "**Example**\n",
    "Suppose that the mean for the weight of a random sample of 25 rice bags from a manufacturer is 5kg.\n",
    "It is known that the $\\sigma = 0.3$.\n",
    "\n",
    "Suppose that we want to find the 95\\% confidence interval for the mean of all the rice bags produced by the manufacturer.\n"
   ]
  },
  {
   "cell_type": "markdown",
   "id": "0551ae7f",
   "metadata": {},
   "source": [
    "The 95\\% interval is simply\n",
    "$$\n",
    "\\bar X - z_{0.025}\\left(\\frac{\\sigma}{\\sqrt n}\\right) < \\mu < \\bar X + z_{0.025}\\left(\\frac{\\sigma}{\\sqrt n}\\right)\n",
    "\\\\ \\Rightarrow\n",
    "5 - 1.96\\frac{0.3}{\\sqrt {25}}<  \\mu < 5 + 1.96 \\frac{0.3}{\\sqrt {25}}\n",
    "\\\\ \\Rightarrow\n",
    "3.824 < \\mu < 6.176\n",
    "$$"
   ]
  },
  {
   "cell_type": "markdown",
   "id": "3910fa5f",
   "metadata": {},
   "source": [
    "Now, suppose that we wish to increase our sample size such that we want to be 95\\% certain that our estimate of $\\mu$ is off by less than 0.1kg.\n",
    "Thus, our new sample size has to be\n",
    "$$\n",
    "n \\geq \\left(z_{\\alpha/2} \\frac{\\sigma}{e}\\right)^2 = \\left(\\frac{1.96 \\cdot 0.3}{0.1}\\right)^2  = 34.5744\n",
    "$$"
   ]
  },
  {
   "cell_type": "markdown",
   "id": "7d0206eb",
   "metadata": {},
   "source": [
    "Hence, we need a sample size of at least $35$ in order to obtain that small an error.\n",
    "\n",
    "---"
   ]
  },
  {
   "cell_type": "markdown",
   "id": "ca67b8bd",
   "metadata": {},
   "source": [
    "### Unknown variance <span id=\"mean-unknown-variance\"/>\n",
    "Suppose that\n",
    "1. Population variance is unknown\n",
    "2. Population is normal/approximately normal\n",
    "3. sample size is small\n",
    "\n",
    "Consider\n",
    "$$\n",
    "T = \\frac{\\bar X-\\mu}{S /\\sqrt n}\n",
    "$$\n",
    "where $S^2$ is the sample variance.\n",
    "We [know](./sampling.ipynb#t-dist) that $T \\sim t_{n-1}$"
   ]
  },
  {
   "cell_type": "markdown",
   "id": "d3360ec4",
   "metadata": {},
   "source": [
    "Hence\n",
    "$$\n",
    "Pr(-t_{n-1;\\alpha/2} < T < t_{n-1;\\alpha/2}) = 1-\\alpha\n",
    "\\\\ \\Rightarrow\n",
    "Pr(-t_{n-1;\\alpha/2} < \\frac{\\bar X-\\mu}{S /\\sqrt n} < t_{n-1;\\alpha/2}) = 1-\\alpha\n",
    "\\\\ \\Rightarrow\n",
    "Pr\\left(\\bar X-t_{n-1;\\alpha/2}\\left(\\frac{S}{\\sqrt n}\\right) < \\mu < \\bar X + t_{n-1;\\alpha/2}\\left(\\frac{S}{\\sqrt n}\\right)\\right) = 1-\\alpha\n",
    "$$"
   ]
  },
  {
   "cell_type": "markdown",
   "id": "6f5cfe2a",
   "metadata": {},
   "source": [
    "which is the confidence interval that we desire."
   ]
  },
  {
   "cell_type": "markdown",
   "id": "a30026e7",
   "metadata": {},
   "source": [
    "Thus, if the assumptions hold, we can obtain an estimate on the mean by using the sample mean and sample variance."
   ]
  },
  {
   "cell_type": "markdown",
   "id": "487f6d13",
   "metadata": {},
   "source": [
    "For large $n$, $(n > 30)$, the $t$-distribution is approximately $N(0,1)$.\n",
    "Hence, it simplifies to "
   ]
  },
  {
   "cell_type": "markdown",
   "id": "291fa654",
   "metadata": {},
   "source": [
    "$$\n",
    "Pr\\left(\\bar X - z_{\\alpha/2}\\left(\\frac{S}{\\sqrt n}\\right) < \\mu < \\bar X + z_{\\alpha/2}\\left(\\frac{S}{\\sqrt n}\\right)\\right) = 1 - \\alpha\n",
    "$$"
   ]
  },
  {
   "cell_type": "markdown",
   "id": "520f7ec5",
   "metadata": {},
   "source": [
    "Notice the similarity to the [known variance case](#known-variance).\n",
    "In some sense, we can say that $S$ approaches $\\sigma$ at large $n$."
   ]
  },
  {
   "cell_type": "markdown",
   "id": "09c626fd",
   "metadata": {},
   "source": [
    "<span hidden> TODO: Add example </span>"
   ]
  },
  {
   "cell_type": "markdown",
   "id": "a4517f21",
   "metadata": {},
   "source": [
    "## Confidence intervals for difference of two means\n",
    "Suppose that we have two populations with means $\\mu_1, \\mu_2$, variance $\\sigma_1^2, \\sigma_2^2$.\n",
    "Then \n",
    "$$\n",
    "\\bar X_1 - \\bar X_2\n",
    "$$\n",
    "is a point estimator of $\\mu_1 - \\mu_2$"
   ]
  },
  {
   "cell_type": "markdown",
   "id": "41deb2b8",
   "metadata": {},
   "source": [
    "### Known variance <span id=\"diff-means-known-variance\"/>\n",
    "If \n",
    "1. $\\sigma_1^2, \\sigma_2^2$ are known and not equal\n",
    "2. populations are normal or $n_1,n_2 \\geq 30$"
   ]
  },
  {
   "cell_type": "markdown",
   "id": "6fec814a",
   "metadata": {},
   "source": [
    "We [know](./sampling.ipynb#mean-diff) that \n",
    "$$\n",
    "\\bar X_1 - \\bar X_2 \\sim N\\left(\\mu_1 - \\mu_2, \\frac{\\sigma^2_1}{n_1} + \\frac{\\sigma^2_2}{n_2}\\right)\n",
    "$$"
   ]
  },
  {
   "cell_type": "markdown",
   "id": "6f52e991",
   "metadata": {},
   "source": [
    "Rearranging, we get\n",
    "$$\n",
    "Pr\\left(-z_{\\alpha/2} <  \\left((\\bar X_1 - \\bar X_2) - (\\mu_1 - \\mu_2)\\right) \\frac{1}{\\sqrt{ \\frac{\\sigma^2_1}{n_1} + \\frac{\\sigma^2_2}{n_2}}} < z_{\\alpha/2}\\right) = 1-\\alpha\n",
    "$$"
   ]
  },
  {
   "cell_type": "markdown",
   "id": "3b31752c",
   "metadata": {},
   "source": [
    "Hence our confidence interval is\n",
    "$$\n",
    "(\\bar X_1 - \\bar X_2) -z_{\\alpha/2}\\sqrt{ \\frac{\\sigma^2_1}{n_1} + \\frac{\\sigma^2_2}{n_2}} < \\mu_1 - \\mu_2 < (\\bar X_1 - \\bar X_2) + z_{\\alpha/2} \\sqrt{ \\frac{\\sigma^2_1}{n_1} + \\frac{\\sigma^2_2}{n_2}}\n",
    "$$"
   ]
  },
  {
   "cell_type": "markdown",
   "id": "c4bc5460",
   "metadata": {},
   "source": [
    "### Large sample with unknown variance <span id=\"diff-mean-large-n-unknown-variance\"/>\n",
    "If \n",
    "1. $\\sigma_1^2, \\sigma_2^2$ are unknown\n",
    "2. $n_1, n_2 \\geq 30$\n",
    "\n",
    "then we can replace $\\sigma_1^2, \\sigma_2^2$ by their estimates $S_1^2, S_2^2$ to obtain our confidence interval."
   ]
  },
  {
   "cell_type": "markdown",
   "id": "21ef3abd",
   "metadata": {},
   "source": [
    "Hence our confidence interval is\n",
    "$$\n",
    "(\\bar X_1 - \\bar X_2) -z_{\\alpha/2}\\sqrt{ \\frac{S^2_1}{n_1} + \\frac{S^2_2}{n_2}} < \\mu_1 - \\mu_2 < (\\bar X_1 - \\bar X_2) + z_{\\alpha/2} \\sqrt{ \\frac{S^2_1}{n_1} + \\frac{S^2_2}{n_2}}\n",
    "$$"
   ]
  },
  {
   "cell_type": "markdown",
   "id": "f6d8ac5a",
   "metadata": {},
   "source": [
    "### Unknown but equal variance <span id=\"diff-means-unknown-equal-variance\"/>\n",
    "If \n",
    "1. $\\sigma_1^2, \\sigma_2^2$ are unknown **but equal**\n",
    "2. populations are normal\n",
    "\n",
    "#### Small sample size\n",
    "If it is also that $n_1, n_2 \\leq 30$\n",
    "\n",
    "Let $\\sigma_1^2 = \\sigma_2^2 = \\sigma^2$, then\n",
    "$$\n",
    "\\bar X_1 - \\bar X_2 \\sim N\\left(\\mu_1 - \\mu_2, \\sigma^2 \\left(\\frac{1}{n_1}+\\frac{1}{n_2}\\right)\\right)\n",
    "$$"
   ]
  },
  {
   "cell_type": "markdown",
   "id": "f0830b88",
   "metadata": {},
   "source": [
    "Standardizing, we get\n",
    "$$\n",
    "Z = \\frac{ \\bar X_1 - \\bar X_2  - (\\mu_1 - \\mu_2)}{\\sigma \\sqrt{ \\left(\\frac{1}{n_1}+\\frac{1}{n_2}\\right)}}\n",
    "$$"
   ]
  },
  {
   "cell_type": "markdown",
   "id": "d05b221f",
   "metadata": {},
   "source": [
    "Since the populations are normal with the same variance, then \n",
    "$$\n",
    "\\frac{(n_1-1)S_1^2}{\\sigma^2} \\sim \\chi^2_{n_1-1} \\quad \n",
    "\\frac{(n_2-1)S_2^2}{\\sigma^2} \\sim \\chi^2_{n_2-1}  \n",
    "$$"
   ]
  },
  {
   "cell_type": "markdown",
   "id": "90bc6dd9",
   "metadata": {},
   "source": [
    "Therefore, \n",
    "$$\n",
    "\\frac{(n_1-1)S_1^2 + (n_2-1)S_2^2}{\\sigma^2} \\sim \\chi^2_{n_1+n_2-2}  \n",
    "$$ by [property of chi-square distribution](./sampling.ipynb#chi-square-sum-prop)."
   ]
  },
  {
   "cell_type": "markdown",
   "id": "45fb043b",
   "metadata": {},
   "source": [
    "To estimate $\\sigma^2$, we can obtain the pooled sample variance, defined as\n",
    "$$\n",
    "S_p^2 = \\frac{(n_1-1)S^2_1 + (n_2-1)S_2^2}{n_1+n_2-2}\n",
    "$$"
   ]
  },
  {
   "cell_type": "markdown",
   "id": "3b6ce049",
   "metadata": {},
   "source": [
    "Since we now have a $Z$ and $\\chi^2$ distribution, we can form a [*t*-distribution](./sampling.ipynb#t-dist).\n",
    "\n",
    "Setting $n = n_1 + n_2 - 2$,\n",
    "$$\n",
    "T = \\frac{Z}{\\sqrt{U/n}}\n",
    "= \\frac{ \\bar X_1 - \\bar X_2  - (\\mu_1 - \\mu_2)}{\\sqrt{ S_p^2\\left(\\frac{1}{n_1}+\\frac{1}{n_2}\\right)}} \\sim t_{n1 + n_2 -2}\n",
    "$$"
   ]
  },
  {
   "cell_type": "markdown",
   "id": "45b37c33",
   "metadata": {},
   "source": [
    "<details>\n",
    "    <summary style=\"color: blue\">$\\proof$ (Click to expand)</summary>\n",
    "    <div style=\"background: aliceblue\">\n",
    "$$\n",
    "\\begin{align}\n",
    "T &= \\frac{Z}{\\sqrt{U/n}} \\\\\n",
    "&= Z\\frac{1}{\\sqrt{U/(n_1+n_2-2)}} \\\\\n",
    "&= \\frac{ \\bar X_1 - \\bar X_2  - (\\mu_1 - \\mu_2)}{\\sigma \\sqrt{ \\left(\\frac{1}{n_1}+\\frac{1}{n_2}\\right)}}\n",
    "\\frac{1}{\\sqrt{\\frac{(n_1-1)S_1^2 + (n_2-1)S_2^2}{\\sigma^2} \\frac{1}{n_1+n_2-2}}} \\\\\n",
    "&= \\frac{ \\bar X_1 - \\bar X_2  - (\\mu_1 - \\mu_2)}{\\sqrt{ \\left(\\frac{1}{n_1}+\\frac{1}{n_2}\\right)}}\n",
    "\\frac{1}{\\sqrt{\\frac{(n_1-1)S_1^2 + (n_2-1)S_2^2}{n_1+n_2-2}}} \\\\\n",
    "&= \\frac{ \\bar X_1 - \\bar X_2  - (\\mu_1 - \\mu_2)}{\\sqrt{ S_p^2\\left(\\frac{1}{n_1}+\\frac{1}{n_2}\\right)}} \\sim t_{n1 + n_2 -2}\n",
    "\\end{align} \n",
    "$$\n",
    "    </div>\n",
    "</details>"
   ]
  },
  {
   "cell_type": "markdown",
   "id": "b64c7df0",
   "metadata": {},
   "source": [
    "Finally, our confidence interval is simply\n",
    "\n",
    "$$\n",
    "\\bar X_1 - \\bar X_2 - t_{n_1 + n_2 -2;\\alpha/2} \\sqrt{ S_p^2\\left(\\frac{1}{n_1}+\\frac{1}{n_2}\\right)} < \\mu_1 - \\mu_2 < \\bar X_1 - \\bar X_2 + t_{n_1 + n_2 -2;\\alpha/2} \\sqrt{ S_p^2\\left(\\frac{1}{n_1}+\\frac{1}{n_2}\\right)} \n",
    "$$"
   ]
  },
  {
   "cell_type": "markdown",
   "id": "8beada07",
   "metadata": {},
   "source": [
    "#### Large sample size\n",
    "If also $n_1, n_2 \\geq 30$.\n",
    "\n",
    "It is known that the $t$-distribution begins to resemble a standard normal distribution at large $n$.\n",
    "Hence, we can replace the $t$ distribution with a $z$ distribution, thus getting\n"
   ]
  },
  {
   "cell_type": "markdown",
   "id": "2395c6ba",
   "metadata": {},
   "source": [
    "$$\n",
    "\\bar X_1 - \\bar X_2 - z_{\\alpha/2} \\sqrt{ S_p^2\\left(\\frac{1}{n_1}+\\frac{1}{n_2}\\right)} < \\mu_1 - \\mu_2 < \\bar X_1 - \\bar X_2 + z_{\\alpha/2} \\sqrt{ S_p^2\\left(\\frac{1}{n_1}+\\frac{1}{n_2}\\right)} \n",
    "$$"
   ]
  },
  {
   "cell_type": "markdown",
   "id": "74d5313d",
   "metadata": {},
   "source": [
    "<span hidden> TODO: Add example </span>"
   ]
  },
  {
   "cell_type": "markdown",
   "id": "98bd3b3a",
   "metadata": {},
   "source": [
    "### Paired data <span id=\"diff-means-paired-data\"/>\n",
    "If we have pair data, that is our data is dependent.\n",
    "For example, we could obtain the weight of individuals before $(x_i)$ and after $(y_i)$ the completion of some exercise regime.\n",
    "This forms a pair of data that are related to each other for each individual.\n",
    "Hence, to determine the efficacy of the routine, we determine the difference of paired observations, $d_i = x_i - y_i$."
   ]
  },
  {
   "cell_type": "markdown",
   "id": "2dc0214f",
   "metadata": {},
   "source": [
    "By modeling the reduction in weight as a normal distribution, we assume in the sample $d_1, \\dots, d_n$, each person's reduction in weight is drawn from a normal distribution with mean $\\mu _D$, abd some unknown variance $\\sigma _D^2$.\n",
    "\n",
    "We know that $\\mu_D = \\mu_1 - \\mu_2$, and thus the point estimate of $\\mu_D$ is given by\n",
    "$$\n",
    "\\bar d = \\frac{1}{n} \\sum d_i = \\frac{1}{n} \\sum (x_i - y_i)\n",
    "$$"
   ]
  },
  {
   "cell_type": "markdown",
   "id": "b6db98fd",
   "metadata": {},
   "source": [
    "And the point estimate of $\\sigma_D^2$ is \n",
    "$$\n",
    "s _D ^2 = \\frac{1}{n-1}\\sum(d_i - \\bar d)^2\n",
    "$$"
   ]
  },
  {
   "cell_type": "markdown",
   "id": "f4e2658a",
   "metadata": {},
   "source": [
    "By similar construction from the previous case, we can set\n",
    "$$\n",
    "T = \\frac{\\bar d - \\mu _D} {s_d / \\sqrt n} \\sim t_{n-1}\n",
    "$$"
   ]
  },
  {
   "cell_type": "markdown",
   "id": "ecd1af0f",
   "metadata": {},
   "source": [
    "#### Small, normal sample\n",
    "\n",
    "For $n \\leq 30$ and population is approximately normal, we will get the following confidence interval"
   ]
  },
  {
   "cell_type": "markdown",
   "id": "f0b80d06",
   "metadata": {},
   "source": [
    "\n",
    "$$\n",
    "\\bar d - t_{n-1;\\alpha/2} \\left(\\frac{S_D}{\\sqrt n}\\right) < \n",
    "\\mu_D < \n",
    "\\bar d + t_{n-1;\\alpha/2} \\left(\\frac{S_D}{\\sqrt n}\\right)\n",
    "$$"
   ]
  },
  {
   "cell_type": "markdown",
   "id": "5d6fb6e8",
   "metadata": {},
   "source": [
    "#### Large sample\n",
    "\n",
    "For $n \\geq 30$, we can once again replace the $t$-distribution with a standard normal."
   ]
  },
  {
   "cell_type": "markdown",
   "id": "9f6ce68b",
   "metadata": {},
   "source": [
    "\n",
    "$$\n",
    "\\bar d - z_{\\alpha/2} \\left(\\frac{S_D}{\\sqrt n}\\right) < \n",
    "\\mu_D < \n",
    "\\bar d + z_{\\alpha/2} \\left(\\frac{S_D}{\\sqrt n}\\right)\n",
    "$$"
   ]
  },
  {
   "cell_type": "markdown",
   "id": "5711dfe4",
   "metadata": {},
   "source": [
    "## Confidence interval for variance\n",
    "\n",
    "### Normal population \n",
    "Let $X_1, \\dots, X_n$ be a random sample from a (approximately) normal distribution.\n",
    "\n",
    "Then a point estimate of $\\sigma^2$ is the sample variance, defined as\n",
    "$$\n",
    "S^2 = \\frac{1}{n-1}\\sum(X_i- \\bar X)^2 = \\frac{1}{n-1}\\left(\\sum X_i^2 - n\\bar X^2\\right)\n",
    "$$"
   ]
  },
  {
   "cell_type": "markdown",
   "id": "9a0e7aa8",
   "metadata": {},
   "source": [
    "#### Known mean\n",
    "Suppose that $\\mu$ is known.\n",
    "\n",
    "Then we have \n",
    "$$\n",
    "\\frac{X_i - \\mu}{\\sigma} \\sim N(0,1)\\\\ \\Rightarrow\n",
    "\\left(\\frac{X_i - \\mu}{\\sigma}\\right)^2 \\sim \\chi^2(1)\\\\ \\Rightarrow\n",
    "\\sum \\left(\\frac{X_i - \\mu}{\\sigma}\\right)^2 \\sim \\chi^2(n)\n",
    "$$"
   ]
  },
  {
   "cell_type": "markdown",
   "id": "76da80bd",
   "metadata": {},
   "source": [
    "Hence, \n",
    "$$\n",
    "Pr\\left( \\chi^2_{n;1-\\alpha/2} < \\sum \\left(\\frac{X_i - \\mu}{\\sigma}\\right)^2 < \\chi^2_{n;\\alpha/2}\\right) = 1- \\alpha\n",
    "$$"
   ]
  },
  {
   "cell_type": "markdown",
   "id": "247a6a9c",
   "metadata": {},
   "source": [
    "And we obtain our interval\n",
    "$$\n",
    "\\frac{(\\sum X_i - \\mu)^2}{\\chi^2_{n;1-\\alpha/2}} < \\sigma^2 < \\frac{(\\sum X_i - \\mu)^2}{\\chi^2_{n;\\alpha/2}}\n",
    "$$"
   ]
  },
  {
   "cell_type": "markdown",
   "id": "8c993aa0",
   "metadata": {},
   "source": [
    "#### Unknown mean\n",
    "Suppose that $\\mu$ is unknown.\n",
    "Then we can instead look at\n",
    "$$\n",
    "\\frac{(n-1)S^2}{\\sigma^2} = \\sum \\frac{(X_i - \\bar X)^2}{\\sigma^2} \\sim \\chi^2(n-1)\n",
    "$$"
   ]
  },
  {
   "cell_type": "markdown",
   "id": "907ab197",
   "metadata": {},
   "source": [
    "Note that the above result is true for both small and large $n$\n",
    "\n",
    "Hence\n",
    "$$\n",
    "Pr\\left(\\chi^2_{n-1;1-\\alpha/2} < \\frac{(n-1)S^2}{\\sigma^2} <  \\chi^2_{n-1;\\alpha/2}\\right) = 1 - \\alpha\n",
    "$$"
   ]
  },
  {
   "cell_type": "markdown",
   "id": "5647b2fc",
   "metadata": {},
   "source": [
    "And our interval is\n",
    "$$\n",
    "\\frac{(n-1)S^2}{\\chi^2_{n-1;\\alpha/2}} <   \\sigma^2< \\frac{(n-1)S^2}{\\chi^2_{n-1;1-\\alpha/2}} \n",
    "$$"
   ]
  },
  {
   "cell_type": "markdown",
   "id": "1ef44f4a",
   "metadata": {},
   "source": [
    "Note that the degree of freedom in the chi-square distribution is reduced from $n$ to $n-1$ when $\\mu$ is unknown."
   ]
  },
  {
   "cell_type": "markdown",
   "id": "ecb24876",
   "metadata": {},
   "source": [
    "## Confidence interval for ratio of variance <span id = \"ratio-variance\"/>\n",
    "Suppose that a sample is drawn from each normal population, and the means are unknown."
   ]
  },
  {
   "cell_type": "markdown",
   "id": "6b2f4507",
   "metadata": {},
   "source": [
    "Then\n",
    "$$\n",
    "U = \\frac{(n_1-1)S_1^2}{\\sigma_1^2} \\sim \\chi^2(n_1-1) \\quad \n",
    "V = \\frac{(n_2-1)S_2^2}{\\sigma_2^2} \\sim \\chi^2(n_2-1)\n",
    "$$"
   ]
  },
  {
   "cell_type": "markdown",
   "id": "c9fdea7c",
   "metadata": {},
   "source": [
    "Then \n",
    "$$\n",
    "F = \\frac{U/(n_1-1)}{V/(n_2-1)} = \\frac{S_1^2/\\sigma_1^2}{S_2^2/\\sigma_2^2} \\sim F(n_1 - 1, n_2 -1)\n",
    "$$"
   ]
  },
  {
   "cell_type": "markdown",
   "id": "c8b19e07",
   "metadata": {},
   "source": [
    "Once again, we obtain our interval as\n",
    "$$\n",
    "\\frac{S_1^2}{S_2^2} \\frac{1}{F_{n_1-1, n_2-1; a/2}} < \\frac{\\sigma_1^2}{\\sigma_2^2} < \\frac{S_1^2}{S_2^2} \\frac{1}{F_{n_2-1, n_1-1; a/2}}\n",
    "$$"
   ]
  }
 ],
 "metadata": {
  "kernelspec": {
   "display_name": "Python 3 (ipykernel)",
   "language": "python",
   "name": "python3"
  },
  "language_info": {
   "codemirror_mode": {
    "name": "ipython",
    "version": 3
   },
   "file_extension": ".py",
   "mimetype": "text/x-python",
   "name": "python",
   "nbconvert_exporter": "python",
   "pygments_lexer": "ipython3",
   "version": "3.10.1"
  }
 },
 "nbformat": 4,
 "nbformat_minor": 5
}
