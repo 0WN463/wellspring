{
 "cells": [
  {
   "cell_type": "markdown",
   "id": "f7b58009",
   "metadata": {},
   "source": [
    "# Random variables\n",
    "When we conduct an experiment, we are usually concerned about the \"function of the outcome\", rather than the actual outcome itself.\n",
    "\n",
    "For example, a company would conduct a survey on their products to determine \"how likely they fail\", as opposed to \"how many products failed during the experiment\".\n",
    "\n",
    "These values are random quantities determined by the outcome of the experiment\n",
    "\n",
    "**Example**\n",
    "\n",
    "Suppose that we have an experiment on flipping two coins, and we are interested in the number of heads flipped.\n",
    "\n",
    "We know that $S = \\{HH, HT, TH, TT\\}$.\n",
    "For our goal, we define a random variable $X$(which is a function on $S$) which correspond to the number of heads flipped.\n",
    "\n",
    "Thus, $X : S \\to \\mathbb{R}$, \n",
    "such that $X(HH) = 2, X(HT) = X(TH) = 1, X(TT) = 0$\n",
    "where $\\mathbb{R}$ is the set of real numbers"
   ]
  },
  {
   "cell_type": "markdown",
   "id": "fbe81881",
   "metadata": {},
   "source": [
    "More formally, it can be written as:\n",
    "$$\n",
    "X(s) = \n",
    "\\begin{cases}\n",
    "2 \\quad s=HH, \\\\\n",
    "1 \\quad s=HT \\text{ or } TH \\\\\n",
    "0 \\quad s=TT,\n",
    "\\end{cases}\n",
    "$$"
   ]
  },
  {
   "cell_type": "markdown",
   "id": "fac7b493",
   "metadata": {},
   "source": [
    "Hence, the range space $R_X$ is $\\{0, 1, 2\\}$.\n",
    "\n",
    "---"
   ]
  },
  {
   "cell_type": "markdown",
   "id": "fdb67444",
   "metadata": {},
   "source": [
    "Thus, we arrive at our definition.\n",
    "A **random variable** is any function $X$ which assigns a real number to every element $s \\in S$"
   ]
  },
  {
   "cell_type": "markdown",
   "id": "dd2cad3e",
   "metadata": {},
   "source": [
    "Note that it can be any function that maps elements in $S$ to $\\mathbb{R}$, even somewhat nonsensical ones.\n",
    "For example, we can set $X(HH) = -5, X(HT) = X(TT) = 2.34, X(TH) = \\pi$ and it still satisfy as a random variable."
   ]
  },
  {
   "cell_type": "markdown",
   "id": "c95d3312",
   "metadata": {},
   "source": [
    "## Properties\n",
    "* $X$ is a real-valued function\n",
    "* The range space of $X$ is a set of real numbers\n",
    "* If $S$ has elements that are real number, we typically set $X(s) = s$ for ease of notation\n",
    "    * If all of elements of $S$ are real numbers, then $R_X = S$ using our convention above"
   ]
  },
  {
   "cell_type": "markdown",
   "id": "41b1c143",
   "metadata": {},
   "source": [
    "## Equivalent events\n",
    "\n",
    "Given a sample space $S$, with $X$ as a random variable and $R_X$ be the range space.\n",
    "Suppose we have an event $A$ in $R_X$.\n",
    "(Note $A$ is defined on the random variable instead of a sample point in $S$, *ie* $A \\subset R_X$)\n",
    "And suppose that we have event $B$ such that \n",
    "$$\n",
    "B = \\{s \\in S | X(S) \\in A\\}\n",
    "$$\n",
    "In other words, $B$ contains all the sample points which becomes a value in $A$ after transforming by $X$.\n",
    "\n",
    "Then we can say $A$ and $B$ are **equivalent events** and \n",
    "$$\n",
    "Pr(A) = Pr(B)\n",
    "$$\n",
    "\n",
    "**Example**\n",
    "\n",
    "Suppose we toss two coins. Let $X$ be the number of heads flipped.\n",
    "\n",
    "Then $A = \\{0\\}$ is equivalent to $B = \\{TT\\}$\n",
    "\n",
    "Also $A = \\{0, 1\\}$ is equivalent to $B = \\{HT, TH, TT\\}$\n",
    "\n",
    "Notice that there is a shift in how we view $A$ and $B$.\n",
    "Before, when querying $Pr(B)$, we are asking \"what is the probability that $TT, HT$ or $TT$ occurs\".\n",
    "But when using the random variable, we are instead asking \"what is the probability that at most 1 head appear\".\n",
    "Hence, it is no longer a question about the occurrence of an event in $S$.\n",
    "\n",
    "---"
   ]
  },
  {
   "cell_type": "markdown",
   "id": "7e3a25a9",
   "metadata": {},
   "source": [
    "Note that some events in $S$ may not have an equivalent event in $R_X$.\n",
    "Like $\\{HH, TH\\}$ for example in the previous example."
   ]
  },
  {
   "cell_type": "markdown",
   "id": "4535bdf6",
   "metadata": {},
   "source": [
    "## Discrete probability distribution\n",
    "Given a random variable $X$.\n",
    "\n",
    "If the number of possible values for $X$ is **finite or countable infinite**, we call $X$ a **discrete random variable**.\n",
    "\n",
    "This means that each value of $X$ must be associated with a certain probability $f(x)$.\n",
    "$f(x)$ is called the **probability function** of $x$.\n",
    "We can pair each $x_i$ with their corresponding probability to get the **probability distribution of $X$**, $(x_i, f(x_i))$"
   ]
  },
  {
   "cell_type": "markdown",
   "id": "b391af3b",
   "metadata": {},
   "source": [
    "### Properties\n",
    "* $f(x_i) \\geq 0$ for all $x_i$\n",
    "* $\\sum f(x_i) = 1$"
   ]
  },
  {
   "cell_type": "markdown",
   "id": "6d869c48",
   "metadata": {},
   "source": [
    "**Example**\n",
    "\n",
    "Suppose we toss two coins, and let $X$ be the number of heads obtained.\n",
    "\n",
    "Then the probability distribution would be as follows:\n",
    "\n",
    "| x  | 0 | 1 | 2 |\n",
    "|:----:|:---:|:----:|:---:|\n",
    "| $$f(x) = Pr(X=x)$$ | 1/4 | 1/2 | 1/4 |\n",
    "\n",
    "We can also easily verify that the property above holds.\n",
    "\n",
    "---"
   ]
  },
  {
   "cell_type": "markdown",
   "id": "64d0277d",
   "metadata": {},
   "source": [
    "## Continuous probability distribution\n",
    "\n",
    "Suppose that the range space $R_X$ of $X$ is defined as an **interval or collection of intervals**.\n",
    "In this case, $X$ is a **continuous random variable**."
   ]
  },
  {
   "cell_type": "markdown",
   "id": "4c043402",
   "metadata": {},
   "source": [
    "Now, $f(x)$ represents a **probability density function** which determines the $Pr(X=x)$.\n",
    "\n",
    "### Properties\n",
    "* $f(x) \\geq 0$ for all $x \\in R_X$\n",
    "* $f(x) = 0$ for all $x \\notin R_X$\n",
    "* $\\int _{-\\infty} ^\\infty f(x) dx = 1$"
   ]
  },
  {
   "cell_type": "markdown",
   "id": "23ad1331",
   "metadata": {},
   "source": [
    "Note that they are similar to that in the discrete case."
   ]
  },
  {
   "cell_type": "markdown",
   "id": "759a5380",
   "metadata": {},
   "source": [
    "To obtain probability of the random variable being between two values, we get\n",
    "\n",
    "$$\n",
    "Pr(c \\leq X \\leq d) = \\int _c ^ d f(x) dx\n",
    "$$\n",
    "\n",
    "This corresponds to the area under the graph of $f(x)$ between $x = c$ and $x=d$."
   ]
  },
  {
   "cell_type": "markdown",
   "id": "a30ae6e5",
   "metadata": {},
   "source": [
    "For any value $x_0 \\in X$, \n",
    "$$\n",
    "Pr(X =x_0) = \\int _{x_0} ^ {x_0} f(x) dx = 0\n",
    "$$\n",
    "\n",
    "In the continuous case, the probability that $X$ equals a fixed value is 0.\n",
    "\n",
    "**Corollary**:\n",
    "It means that we can use $\\leq$ and $<$ interchangeably in the continuous case."
   ]
  },
  {
   "cell_type": "markdown",
   "id": "3c702665",
   "metadata": {},
   "source": [
    "**Corollary**: It follows that $Pr(A) = 0$ does not necessary imply that $A=\\emptyset$."
   ]
  },
  {
   "cell_type": "markdown",
   "id": "dc46fcda",
   "metadata": {},
   "source": [
    "## Cumulative distribution function\n",
    "\n",
    "We define the **cumulative distribution function**, $F(x)$, of a random variable $X$ as\n",
    "$$\n",
    "F(x) = Pr(X \\leq x)\n",
    "$$"
   ]
  },
  {
   "cell_type": "markdown",
   "id": "6267c556",
   "metadata": {},
   "source": [
    "### Discrete c.d.f\n",
    "In the discrete case, it simplifies to\n",
    "$$\n",
    "F(x) = \\sum _{k \\leq x} Pr(X = k)\n",
    "$$"
   ]
  },
  {
   "cell_type": "markdown",
   "id": "4854b913",
   "metadata": {},
   "source": [
    "Graphically, $F(x)$ is step function."
   ]
  },
  {
   "cell_type": "markdown",
   "id": "ef49861b",
   "metadata": {},
   "source": [
    "For any number $a,b$, $a \\leq b$,\n",
    "$$\n",
    "Pr(a \\leq X \\leq b) = Pr(X \\leq b) - Pr(X < a) = F(b) - F(a^-)\n",
    "$$"
   ]
  },
  {
   "cell_type": "markdown",
   "id": "50891132",
   "metadata": {},
   "source": [
    "where $a^-$ is the largest value of $X$ that is strictly less than $a$."
   ]
  },
  {
   "cell_type": "markdown",
   "id": "b82859bc",
   "metadata": {},
   "source": [
    "If $R_X$ is all integers, then we get\n",
    "$$\n",
    "Pr(a \\leq X \\leq b) = F(b) - F(a-1)\n",
    "$$\n",
    "\n",
    "**Corollary**: Setting $a=b$, we get\n",
    "$$\n",
    "Pr(X=a) = F(a) - F(a-1)\n",
    "$$"
   ]
  },
  {
   "cell_type": "markdown",
   "id": "b3241e49",
   "metadata": {},
   "source": [
    "### Continuous c.d.f\n",
    "In the continuous case, we get\n",
    "$$\n",
    "F(x) = \\int ^x _{\\infty} f(k) dk\n",
    "$$"
   ]
  },
  {
   "cell_type": "markdown",
   "id": "4a9b2682",
   "metadata": {},
   "source": [
    "**Corollary:**\n",
    "$$\n",
    "f(x) = \\frac{d}{dx} F(x)\n",
    "$$\n",
    "\n",
    "when the derivative exists"
   ]
  },
  {
   "cell_type": "markdown",
   "id": "d76f7d52",
   "metadata": {},
   "source": [
    "Also, \n",
    "$$\n",
    "Pr(a \\leq X \\leq b) = Pr(a < X \\leq b) = F(b) - F(a)\n",
    "$$"
   ]
  },
  {
   "cell_type": "markdown",
   "id": "8a96561a",
   "metadata": {},
   "source": [
    "### Properties of c.d.f\n",
    "* $F(x)$ is non-decreasing\n",
    "* $0 \\leq F(x) \\leq 1$"
   ]
  },
  {
   "cell_type": "markdown",
   "id": "05eaf582",
   "metadata": {},
   "source": [
    "## Aggregate values <span id=\"aggregate\"/>\n",
    "\n",
    "### Expected value\n",
    "Given a random variable $X$ which has $R_X = \\{x_1, x_2, \\dots\\}$, and a probability function $f(x)$.\n",
    "\n",
    "#### Discrete\n",
    "\n",
    "The **mean/expected value** of $X$ is defined as follows:\n",
    "\n",
    "$$\n",
    "\\mu_X = E(X) = \\sum _i x_if(x_i) = \\sum _x x f(x)\n",
    "$$\n",
    "\n",
    "where both $\\mu_X$ and $E(X)$ denotes the mean/expected value."
   ]
  },
  {
   "cell_type": "markdown",
   "id": "7c6c7cb9",
   "metadata": {},
   "source": [
    "If $N = |R_x|, f(x) = 1/N$, (that is, each event is equally likely), then it simplifies to:\n",
    "$$\n",
    "E(X) = \\frac{1}{N}\\sum_i x_i\n",
    "$$\n",
    "which is simply the average of $N$ items."
   ]
  },
  {
   "cell_type": "markdown",
   "id": "ca9a25f9",
   "metadata": {},
   "source": [
    "Note that $E(X)$ may not be in $R_X$.\n",
    "For example, the expected value from a roll of a die is $3.5$, which is not a possible roll of a die."
   ]
  },
  {
   "cell_type": "markdown",
   "id": "ad95c0fc",
   "metadata": {},
   "source": [
    "#### Continuous\n",
    "Similarly, we define the following for the continuous case:\n",
    "\n",
    "\n",
    "$$\n",
    "\\mu_X = E(X) = \\int ^\\infty_{-\\infty} x f(x) dx\n",
    "$$\n"
   ]
  },
  {
   "cell_type": "markdown",
   "id": "11b69a6d",
   "metadata": {},
   "source": [
    "### Expectation of a function of $X$\n",
    "Given another function $g(X)$ of a random variable $X$ with $f_X(x)$.\n",
    "\n",
    "#### Discrete\n",
    "$$\n",
    "E(g(X)) = \\sum_x g(x)f_x(x)\n",
    "$$\n",
    "\n",
    "#### Continuous\n",
    "$$\n",
    "E(g(X)) = \\int ^\\infty _{-\\infty} g(x)f_x(x) dx\n",
    "$$\n"
   ]
  },
  {
   "cell_type": "markdown",
   "id": "91804fce",
   "metadata": {},
   "source": [
    "**Example**\n",
    "It might be a bit abstract to see why we would want to apply a function to the probability function.\n",
    "\n",
    "Thus, for example, we are playing a game which involves flipping two coins.\n",
    "Let $X$ be the random variable associated with the number of heads flipped.\n",
    "Our probability distribution function is as follow:\n",
    "$$\n",
    "f(x) = \\begin{cases}\n",
    "\\frac{1}{4} \\quad x = 0,\\\\\n",
    "\\frac{1}{2} \\quad x = 1,\\\\\n",
    "\\frac{1}{4} \\quad x = 2,\\\\\n",
    "\\end {cases}\n",
    "$$"
   ]
  },
  {
   "cell_type": "markdown",
   "id": "6cb1465a",
   "metadata": {},
   "source": [
    "Now suppose that I will award you \\$1 for playing the game, and an extra \\$3 for each head you flip.\n",
    "\n",
    "What is the expected amount you would gain from playing the game?\n",
    "\n",
    "In this case, $g\\left(x\\right) = 3x + 1$.\n",
    "\n",
    "In fact, we don't need to be concerned on how complicated $g\\left(x\\right)$ may be when dealing with the discrete case.\n",
    "We simply need the values for each corresponding $x$ to compute the expected value.\n",
    "\n",
    "Thus, we get\n",
    "$$\n",
    "\\begin{align}\n",
    "E\\left(g\\left(X\\right)\\right) &= \\sum_x g\\left(x\\right) f_x\\left(x\\right) \\\\\n",
    "&= \\sum_x \\left(3x + 1\\right) f_x\\left(x\\right) \\\\\n",
    "&= \\left(3\\left(0\\right)+1\\right) \\left(\\frac{1}{4}\\right) + \\left(3\\left(1\\right)+1\\right) \\left(\\frac{1}{2}\\right) + \\left(3\\left(2\\right)+1\\right) \\left(\\frac{1}{4}\\right) \\\\\n",
    "&= \\left(\\frac{1}{4}\\right) + 4 \\left(\\frac{1}{2}\\right) + 7\\left(\\frac{1}{4}\\right) \\\\\n",
    "&= 4\n",
    "\\end{align}\n",
    "$$\n",
    "\n",
    "Hence, we are expected to win \\$4 when playing the game.\n",
    "\n",
    "Indeed, this is (approximately) what we get when we simulate the game as per below:"
   ]
  },
  {
   "cell_type": "code",
   "execution_count": 16,
   "id": "ac4f951e",
   "metadata": {},
   "outputs": [
    {
     "data": {
      "text/plain": [
       "4.001464"
      ]
     },
     "execution_count": 16,
     "metadata": {},
     "output_type": "execute_result"
    }
   ],
   "source": [
    "import random\n",
    "\n",
    "N = 1_000_000\n",
    "total = 0\n",
    "\n",
    "sum((random.choice([0,1,1,2])* 3 + 1 for _ in range(N)))/N"
   ]
  },
  {
   "cell_type": "markdown",
   "id": "38fcf1b6",
   "metadata": {},
   "source": [
    "---"
   ]
  },
  {
   "cell_type": "markdown",
   "id": "df57fb70",
   "metadata": {},
   "source": [
    "#### Properties\n",
    "* $E(aX + b) = a E(X) + b$"
   ]
  },
  {
   "cell_type": "markdown",
   "id": "e9131ccc",
   "metadata": {},
   "source": [
    "### Variance\n",
    "The variance of $X$ is defined as:\n",
    "\n",
    "$$\n",
    "\\sigma _x ^2 = V(X) = E((X-\\mu_X)^2)\n",
    "$$\n",
    "\n",
    "the above can be further expanded using the previous formula by setting $g(x) = (x-\\mu_x)^2$"
   ]
  },
  {
   "cell_type": "markdown",
   "id": "459f998e",
   "metadata": {},
   "source": [
    "#### Properties\n",
    "* $V(X) \\geq 0$\n",
    "* $V(X) = E(X^2) - (E(X))^2$\n",
    "* $V(aX + b) = a^2 V(x)$"
   ]
  },
  {
   "cell_type": "markdown",
   "id": "5ba90f4b",
   "metadata": {},
   "source": [
    "<span hidden> TODO: Add proof<span/>"
   ]
  },
  {
   "cell_type": "markdown",
   "id": "e4c67b4b",
   "metadata": {},
   "source": [
    "The **standard deviation** is defined as:\n",
    "$$\n",
    "\\sigma _X = \\sqrt {V(X)}\n",
    "$$"
   ]
  },
  {
   "cell_type": "markdown",
   "id": "82b3b39c",
   "metadata": {},
   "source": [
    "## Chebyshev's inequality\n",
    "If we know the probability distribution of $X$, then we can compute $E(X),V(X)$.\n",
    "But given $E(X)$ and $V(X)$, we cannot reconstruct the probability distribution of $X$.\n",
    "(A way to reason about it is that a decent chunk of information is lost once we look at only the mean and the variance).\n",
    "It follows that we cannot compute \n",
    "$$\n",
    "Pr(|X - E(X)| \\leq c)\n",
    "$$\n",
    "without knowledge of the underlying distribution.\n",
    "\n",
    "However,the **Chebyshev's inequality** provides us a bound to this probability.\n",
    "It states that, for any **positive number** $k$,\n",
    "$$\n",
    "Pr(|X - E(X)| \\geq k V(X)) \\leq \\frac{1}{k^2}\n",
    "$$\n",
    "\n",
    "**Corollary:**\n",
    "$$\n",
    "Pr(|X - E(X)| < k V(X)) \\geq 1-\\frac{1}{k^2}\n",
    "$$"
   ]
  },
  {
   "cell_type": "markdown",
   "id": "37ac63f3",
   "metadata": {},
   "source": [
    "**Example**\n",
    "\n",
    "A bus waiting time has $\\mu_X = 15, \\sigma_X = 2$ minutes.\n",
    "\n",
    "Suppose that we wish to find a bound on $Pr(11 < X < 19)$.\n",
    "\n",
    "$$\n",
    "\\begin{align}\n",
    "Pr(11 < X < 19) &= Pr(15 - 2(2) < X < 15 + 2(2))\\\\\n",
    "&= Pr(-2(2) < X-15 < 2(2))\\\\\n",
    "&= Pr(|X-15| < 2(2)) \\\\\n",
    "&\\geq 1- \\frac{1}{2^2}\\\\\n",
    "&= 3/4\n",
    "\\end{align}\n",
    "$$\n",
    "\n",
    "---"
   ]
  },
  {
   "cell_type": "markdown",
   "id": "c824b4b2",
   "metadata": {},
   "source": [
    "<span hidden> TODO: Add example on looseness of bound <span/>"
   ]
  }
 ],
 "metadata": {
  "kernelspec": {
   "display_name": "Python 3 (ipykernel)",
   "language": "python",
   "name": "python3"
  },
  "language_info": {
   "codemirror_mode": {
    "name": "ipython",
    "version": 3
   },
   "file_extension": ".py",
   "mimetype": "text/x-python",
   "name": "python",
   "nbconvert_exporter": "python",
   "pygments_lexer": "ipython3",
   "version": "3.9.7"
  }
 },
 "nbformat": 4,
 "nbformat_minor": 5
}
