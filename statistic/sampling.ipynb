{
 "cells": [
  {
   "cell_type": "markdown",
   "id": "9a442770",
   "metadata": {},
   "source": [
    "# Sampling\n",
    "**Population** is the set of all possible outcomes/observations of an experiment/survey.\n",
    "A **sample** is any subset of a population.\n",
    "A population can be:\n",
    "* finite\n",
    "    * consists of a finite number of elements\n",
    "    * *eg*, the cards in a deck, all the people of a country\n",
    "* infinite\n",
    "    * consists of an infinitely large number of elements\n",
    "    * *eg*, result of a coint flip (can be infinitely generated)\n",
    "    * *eg*, the position of an object (the coordinate position can have infinite precision)\n",
    "    \n",
    "\n"
   ]
  },
  {
   "cell_type": "markdown",
   "id": "db0f8dd9",
   "metadata": {},
   "source": [
    "## Simple random sample\n",
    "A **sample** of size $n$ is obtained by taking taking a set of $n$ observations from a given population.\n",
    "\n",
    "We assume that each observation is a value of a random variable that follows some probability distribution.\n",
    "\n",
    "A **simple random sample** is a sample that is chosen such that every subset of $n$ observation in the population has an equal probability of being selected."
   ]
  },
  {
   "cell_type": "markdown",
   "id": "a1fa2988",
   "metadata": {},
   "source": [
    "### Sampling without replacement\n",
    "Suppose that we wish to obtain a sample from the population without replacement.\n",
    "*eg* we want to select 5 distinct people out of 100 people.\n",
    "\n",
    "\n",
    "Given a population of size $N$, and a desired sample of size $n$, by [combinatorics](), we know that there are $C^N_n$ possible samples.\n",
    "\n",
    "Thus, we assign a label to each of combination and perform the choosing algorithm as described previously.\n",
    "\n",
    "**Example**\n",
    "\n",
    "Suppose that we wish to sample 2 items out of $\\{A, B, C\\}$.\n",
    "1. Consider all the combinations, that is $\\{AB, AC, BC\\}$\n",
    "2. Label each combination a unique number between 1 to 3.\n",
    "3. Generate a distinct random numbers between 1 to 3.\n",
    "4. Pick the combination corresponding to the generated numbers to obtain our sample.\n",
    "\n",
    "---\n",
    "\n",
    "<span hidden>TODO: Add links</span>"
   ]
  },
  {
   "cell_type": "markdown",
   "id": "4e0daa0a",
   "metadata": {},
   "source": [
    "### Sampling with replacement\n",
    "Suppose, instead, that we wish to obtain a sample from the population with replacement.\n",
    "*eg* we want to select 5 people out of 100 people, but the same person can be selected multiple times.\n",
    "\n",
    "Given a population of size $N$, and a desired sample of size $n$, by [combinatorics](), we know that there are $N^n$ possible samples.\n",
    "\n",
    "\n",
    "\n",
    "**Example**\n",
    "\n",
    "Suppose that we wish to sample 2 items out of $\\{A, B, C\\}$.\n",
    "1. Consider all the combinations, that is $\\{AA, AB, AC, BA, BB, BC, CA, CB, CC\\}$\n",
    "2. Label each combination a unique number between 1 to 9.\n",
    "3. Generate a distinct random numbers between 1 to 9.\n",
    "4. Pick the combination corresponding to the generated numbers to obtain our sample.\n",
    "\n",
    "---\n",
    "\n",
    "\n",
    "<span hidden>TODO: Add links</span>"
   ]
  },
  {
   "cell_type": "markdown",
   "id": "bab7c91b",
   "metadata": {},
   "source": [
    "## Sampling from an infinite population\n",
    "When the population is finite, we can easily obtain samples in such a way that each subset of the population has an equal probability of being selected.\n",
    "We achieved this by assigning a probability to each subset based on the size of the population.\n",
    "However, this is not possible with an infinite population."
   ]
  },
  {
   "cell_type": "markdown",
   "id": "7bf3a1f5",
   "metadata": {},
   "source": [
    "**Example**\n",
    "\n",
    "In an experiment where we collect the number of heads obtained in 10 coin tosses, notice that the population is infinite, because we can always perform another experiment to obtain another observation.\n",
    "Hence, it is impossible for us to perform our previous approach of labeling each sample, generating a random number, and choosing that sample."
   ]
  },
  {
   "cell_type": "markdown",
   "id": "e10e08f6",
   "metadata": {},
   "source": [
    "## Sampling distribution of sample mean\n",
    "Recall that our goal of selecting random samples is to obtain information about some unknown population parameters.\n",
    "These parameters could be the mean or variance of the population.\n",
    "\n",
    "We obtain a large random sample, then based on the information obtain from this sample, we draw inference on the true value of the population parameters.\n",
    "For example, we wish to know how many people in the country likes cats, we survey a small subset of this population, then based on this subset, we can make some assertions on the proportion of the country's population that likes cat."
   ]
  },
  {
   "cell_type": "markdown",
   "id": "3b62dfac",
   "metadata": {},
   "source": [
    "**Statistic** is the value obtain from a sample.\n",
    "Since each observation is determined by a random variable, the statistic will also vary, and thus is also a random variable."
   ]
  },
  {
   "cell_type": "markdown",
   "id": "7866c16e",
   "metadata": {},
   "source": [
    "**Sampling distribution** is the probability distribution of a statistic."
   ]
  },
  {
   "cell_type": "markdown",
   "id": "6d06f2c5",
   "metadata": {},
   "source": [
    "### Sample mean\n",
    "Given a random sample $X_1, X_2, \\dots, X_n$ of size $n$, the **sample mean** is defined as\n",
    "$$\n",
    "\\bar X = \\frac{1}{n}\\sum^n_{i=1} X_i\n",
    "$$"
   ]
  },
  {
   "cell_type": "markdown",
   "id": "3b190728",
   "metadata": {},
   "source": [
    "Note that the sample mean is also a random variable, thus we can obtain the mean and variance of the distribution."
   ]
  },
  {
   "cell_type": "markdown",
   "id": "698a21f4",
   "metadata": {},
   "source": [
    "**Example**\n",
    "\n",
    "Suppose that our population has the following values $\\{1, 2, 3, 4, 5\\}$.\n",
    "\n",
    "From the [random variable chapter](./random_variables.ipynb#aggregate), we can compute that the population mean and population variance is $\\mu_X = 3$ and $\\sigma^2 _X = 2$\n",
    "\n",
    "Now, suppose that we draw a sample of size 2 (with replacement).\n",
    "To obtain the sample mean, we can first iterate all possible samples of size 2, and compute the $\\bar X$ for each sample.\n",
    "\n",
    "|Samples| $$\\bar X$$| $$Pr(\\bar X = \\bar x)$$\n",
    "| :---- | ---- | --- |\n",
    "|(1, 1) | 1 | 1/25 |\n",
    "|(1, 2), (2, 1) | 1.5 | 2/25 |\n",
    "|(1, 3), (3, 1), (2,2) | 2 | 3/25 |\n",
    "|(1, 4), (4, 1), (2,3), (3,2) | 2.5 | 4/25 |\n",
    "|(1, 5), (5, 1), (2,4), (4,2), (3,3) | 3 | 5/25 |\n",
    "|(2, 5), (5, 2), (3,4), (4,3) | 3.5 | 4/25 |\n",
    "|(3, 5), (5, 3), (4,4) | 4 | 3/25 |\n",
    "|(4, 5), (5, 4) | 4.5 | 2/25 |\n",
    "|(5, 5) | 5 | 1/25|"
   ]
  },
  {
   "cell_type": "markdown",
   "id": "8a034db8",
   "metadata": {},
   "source": [
    "Hence, with this table, we obtained the distribution of $\\bar X$.\n",
    "We can treat is as just another probability distribution and obtain the mean.\n",
    "\n",
    "$$\n",
    "\\mu_{\\bar X} = E(\\bar X) = \\sum \\bar x f_{\\bar X}(\\bar x) = \n",
    "1\\left(\\frac{1}{25}\\right) + \n",
    "1.5\\left(\\frac{2}{25}\\right) + \n",
    "\\dots +\n",
    "5\\left(\\frac{1}{25}\\right) =  3\n",
    "$$\n",
    "\n",
    "$$\n",
    "\\sigma ^x _{\\bar X} = E(\\bar X^2) - E(\\bar X) ^2 = 4\n",
    "$$\n",
    "\n",
    "---"
   ]
  },
  {
   "cell_type": "markdown",
   "id": "de95922b",
   "metadata": {},
   "source": [
    "**Theorem**"
   ]
  },
  {
   "cell_type": "markdown",
   "id": "cb27e1bd",
   "metadata": {},
   "source": [
    "Given an infinite population or finite population with replacement that has population mean of $\\mu$ and population variance of $\\sigma ^2$; when random samples of size $n$ is drawn, the sampling distribution of the sample mean $\\bar X$ has the following properties,\n",
    "$$\n",
    "\\mu _{\\bar X} = \\mu_X \\quad \\sigma ^2_{\\bar X} = \\frac{\\sigma_X^2}{n} \n",
    "$$"
   ]
  },
  {
   "cell_type": "markdown",
   "id": "7f1cf624",
   "metadata": {},
   "source": [
    "## Law of large numbers\n",
    "Suppose that we obtain a sample of size $n$ from a population with mean $\\mu$ and some **finite** population variance $\\sigma ^2$.\n",
    "The **law of large number** states that for any $\\epsilon \\in \\mathbb{R}$\n",
    "$$\n",
    "Pr(|\\bar X - \\mu| > \\epsilon) \\to 0 \\quad \\text{as } n \\to \\infty\n",
    "$$"
   ]
  },
  {
   "cell_type": "markdown",
   "id": "3e659994",
   "metadata": {},
   "source": [
    "**Corollary**\n",
    "$$\n",
    "Pr(|\\bar X - \\mu| < \\epsilon) \\to 1 \\quad \\text{as } n \\to \\infty\n",
    "$$"
   ]
  },
  {
   "cell_type": "markdown",
   "id": "a7345753",
   "metadata": {},
   "source": [
    "In other words, as the same size gets larger, it becomes more likely that the sample mean is closer to the population mean."
   ]
  },
  {
   "cell_type": "markdown",
   "id": "7166f164",
   "metadata": {},
   "source": [
    "## Central limit theorem\n",
    "Once again, suppose that we obtain a sample of size $n$ from a population with mean $\\mu$ and some **finite** population variance $\\sigma ^2$."
   ]
  },
  {
   "cell_type": "markdown",
   "id": "3803b31b",
   "metadata": {},
   "source": [
    "The **central limit theorem** states that $\\bar X$ is **approximately normal** with mean $\\mu$ and variance $\\frac{\\sigma^2}{n}$ if $n$ is **sufficiently large**."
   ]
  },
  {
   "cell_type": "markdown",
   "id": "31b6a6ae",
   "metadata": {},
   "source": [
    "And we can perform [standardization](./probability_distributions.ipynb#standardization), and hence\n",
    "$$\n",
    "Z = \\frac{\\bar X - \\mu}{\\sigma / \\sqrt{n}} \\sim N(0,1) \\text{ approximately}\n",
    "$$"
   ]
  },
  {
   "cell_type": "markdown",
   "id": "d0a7dd1d",
   "metadata": {},
   "source": [
    "<span hidden> TODO: Add code example </span>"
   ]
  },
  {
   "cell_type": "markdown",
   "id": "dea76bb9",
   "metadata": {},
   "source": [
    "## Sampling distribution from normal population\n",
    "If $X_i \\sim N(\\mu, \\sigma^2)$ for all $i$ (that is, all observations are drawn from the same **normal** distribution), then $\\bar X \\sim N(\\mu, \\sigma ^2 /n)$ for any sample size $n$."
   ]
  },
  {
   "cell_type": "markdown",
   "id": "b108ba7b",
   "metadata": {},
   "source": [
    "<span hidden> TODO: Add code example </span>"
   ]
  },
  {
   "cell_type": "markdown",
   "id": "64669f02",
   "metadata": {},
   "source": [
    "If all $X_i \\sim N(\\mu, \\sigma^2)$ approximately, then $\\bar X \\sim N(\\mu, \\sigma^2/n)$ approximately."
   ]
  },
  {
   "cell_type": "markdown",
   "id": "75b63dac",
   "metadata": {},
   "source": [
    "## Sampling distribution of difference of two sample means <span id=\"mean-diff\"/>\n",
    "Suppose that we have two populations with means $\\mu_1, \\mu_2$ and $\\sigma^2_1, \\sigma^2_2$ respectively.\n",
    "If we samples of size $n_1, n_2$ from each respective population, then the sampling distribution of the difference of sample means $\\bar X_1 - \\bar X_2$, is **approximately** normally distributed with the following parameters,\n",
    "$$\n",
    "\\mu_{\\bar X_1 - \\bar X_2} = \\mu_1 - \\mu_2 \\quad \\sigma^2_{\\bar X_1 - \\bar X_2} = \\frac{\\sigma^2_1}{n_1} + \\frac{\\sigma^2_2}{n_2}\n",
    "$$"
   ]
  },
  {
   "cell_type": "markdown",
   "id": "f3b55a16",
   "metadata": {},
   "source": [
    "<span hidden> TODO: Add proof</span>"
   ]
  },
  {
   "cell_type": "markdown",
   "id": "aa92f4ae",
   "metadata": {},
   "source": [
    "If $n_1, n_2 \\geq 30$, then the normal approximation of $\\bar X_1 - \\bar X_2$ is rather good regardless of the shape of the two population distribution."
   ]
  },
  {
   "cell_type": "markdown",
   "id": "c602e581",
   "metadata": {},
   "source": [
    "<span hidden> TODO: Add code example </span>"
   ]
  },
  {
   "cell_type": "markdown",
   "id": "f76ad6eb",
   "metadata": {},
   "source": [
    "## Chi-square distribution\n",
    "The **chi-square** distribution with $n$ degrees of freedom has the probability density function as follows.\n",
    "Note this function is not really important for our use, it's here simply for completeness.\n",
    "We are more interested in how it is connected to the [sample variance](#sample-variance).\n",
    "$$\n",
    "f_X(x) = \\frac{1}{2^{n/2} \\Gamma (n/2)} x^{n/2-1} e^{-x/2}, \\quad \\text{for } x > 0\n",
    "$$\n",
    "0, otherwise"
   ]
  },
  {
   "cell_type": "markdown",
   "id": "a5b78a69",
   "metadata": {},
   "source": [
    "It is denoted by the symbol $\\chi^2(n)$, where $n \\in \\mathbb{Z}_{\\geq 0}$"
   ]
  },
  {
   "cell_type": "markdown",
   "id": "f7b4507b",
   "metadata": {},
   "source": [
    "The gamma function is defined as \n",
    "$$\n",
    "\\gamma(n) = \\int ^ \\infty _0 x^{n-1} e^{-x} dx\n",
    "$$"
   ]
  },
  {
   "cell_type": "markdown",
   "id": "58d3b046",
   "metadata": {},
   "source": [
    "Note that $\\gamma(n) = (n-1)!$ for $n \\in \\mathbb{Z^+}$"
   ]
  },
  {
   "cell_type": "markdown",
   "id": "90fa59a6",
   "metadata": {},
   "source": [
    "In order words, it is factorial function extended for real numbers."
   ]
  },
  {
   "cell_type": "markdown",
   "id": "cf14bfc4",
   "metadata": {},
   "source": [
    "<span hidden> TODO: Add code example </span>"
   ]
  },
  {
   "cell_type": "markdown",
   "id": "886d3b45",
   "metadata": {},
   "source": [
    "### Properties\n",
    "$$\n",
    "E(X) = n \\quad V(X) = 2n\n",
    "$$\n",
    "\n",
    "For large $n$, $\\chi^2(n) \\sim N(n, 2n)$ approximately\n"
   ]
  },
  {
   "cell_type": "markdown",
   "id": "ba1e4356",
   "metadata": {},
   "source": [
    "<span id=\"chi-square-sum-prop\"/>\n",
    "If $X_1, \\dot, X_k$ are independent chi-square random variables with $n_1, \\dots n_k$ degrees of freedom, then $X_1 + \\dots + X_k$ also has a chi-square distribution, with $n_1 + \\dots n_k$ degrees of freedom.\n",
    "Formally, it is \n",
    "$$\n",
    "\\sum X_i \\sim \\chi^(\\sum n_i)\n",
    "$$"
   ]
  },
  {
   "cell_type": "markdown",
   "id": "b76bb2b5",
   "metadata": {},
   "source": [
    "### Theorems <span id=\"chi-square-theorem\"/>\n",
    "* If $X \\sim N(0,1)$, then $X^2 \\sim \\chi^2(1)$\n",
    "    * By standardizing, if $X \\sim N(\\mu, \\sigma^2)$, then $(\\frac{X-\\mu}{\\sigma^2})^2 \\sim \\chi^2(1)$\n",
    "    * By the property above, when given a sample $X_1, X_2, \\dots , X_n$ from a normal distribution with mean $\\mu$ and variance $\\sigma^2$, $\\sum (\\frac{X_i - \\mu}{\\sigma^2})^2 \\sim \\chi^2(n)$"
   ]
  },
  {
   "cell_type": "markdown",
   "id": "c3d922c0",
   "metadata": {},
   "source": [
    "<span hidden> TODO: Add code example </span>"
   ]
  },
  {
   "cell_type": "markdown",
   "id": "6b1a9e40",
   "metadata": {},
   "source": [
    "### Chi-square table\n",
    "Suppose that $X \\sim \\chi^2(n)$.\n",
    "We denote $\\chi^2(n;\\alpha)$ as the **constant** value that satisfy $Pr(X \\geq \\chi^2(n;\\alpha)) = \\alpha$.\n",
    "That is, given some probability $\\alpha$, we wish to find the constant for the variable $X$ such that the probability of the random variable $X$ being larger than this constant in a chi-square distribution is $\\alpha$."
   ]
  },
  {
   "cell_type": "markdown",
   "id": "554f1cf3",
   "metadata": {},
   "source": [
    "Similarly, $\\chi^2(n; 1-\\alpha)$ correspond to the constant that satisfy $Pr(X \\leq \\chi^2(n;1-\\alpha)) = \\alpha$."
   ]
  },
  {
   "cell_type": "markdown",
   "id": "dac45935",
   "metadata": {},
   "source": [
    "## Sample variance <span id=\"sample-variance\"/>"
   ]
  },
  {
   "cell_type": "markdown",
   "id": "a7ecb014",
   "metadata": {},
   "source": [
    "Given a random sample $X_1, \\dots, X_n$, the **sample variance** is defined as \n",
    "$$\n",
    "S^2 = \\frac{1}{n-1}\\sum(X_i - \\bar X)^2\n",
    "$$"
   ]
  },
  {
   "cell_type": "markdown",
   "id": "187048e9",
   "metadata": {},
   "source": [
    "However, the distribution of the sample variance has little practical use in statistics.\n",
    "Instead, we are interested in the sample distribution of the random variable $\\frac{(n-1)S^2}{\\sigma^2}$ when all $X_i \\sim N(\\mu, \\sigma^2)$."
   ]
  },
  {
   "cell_type": "markdown",
   "id": "24ebd9f0",
   "metadata": {},
   "source": [
    "\n",
    "The reason we are looking at this particular random variable is because when all the samples are drawn from a normal distribution, then \n",
    "$$\\frac{(n-1)S^2}{\\sigma^2} \\sim \\chi^2(n-1)$$\n",
    "Note that this is not derived directly from [this theorem](#chi-square-theorem), since it is uses the population mean while we are using the sample mean here.\n",
    "The actual proof can be obtained [here](https://statproofbook.github.io/P/norm-chi2), which is beyond the scope of this topic."
   ]
  },
  {
   "cell_type": "markdown",
   "id": "bdb0b898",
   "metadata": {},
   "source": [
    "## t-distribution <span id=\"t-dist\"/>\n",
    "Let $Z \\sim N(0,1)$, and $U \\sim \\chi^2(n)$.\n",
    "If $Z$ and $U$ are independent, then the **t-distribution** with $n$ degrees of freedom is exhibited by the random variable\n",
    "$$\n",
    "T = \\frac{Z}{\\sqrt{U/n}}\n",
    "$$"
   ]
  },
  {
   "cell_type": "markdown",
   "id": "140e9cfe",
   "metadata": {},
   "source": [
    "The probability density function of a $t$-distribution is given by\n",
    "$$\n",
    "f_T(t) = \\frac{\\Gamma((n+1)/2)}{\\sqrt{n \\pi} \\Gamma(n/2)} (1+\\frac{t^2}{n})^{(n+1)/2}, \\quad -\\infty < t < \\infty\n",
    "$$"
   ]
  },
  {
   "cell_type": "markdown",
   "id": "1703ba81",
   "metadata": {},
   "source": [
    "Once again, this formula is only here for completeness."
   ]
  },
  {
   "cell_type": "markdown",
   "id": "e21ee80f",
   "metadata": {},
   "source": [
    "### Properties\n",
    "* The graph of the $t$-distribution is symmetric about $t=0$\n",
    "* As $n \\to \\infty$, $f_T(t) \\to \\frac{1}{\\sqrt{2\\pi}}e^{-t^2/2}$, which is simply the standard normal distribution\n",
    "* If $T \\sim t(n)$, then $E(T) = 0, V(T) = n/(n-2)$ for $n>2$"
   ]
  },
  {
   "cell_type": "markdown",
   "id": "3c2a607e",
   "metadata": {},
   "source": [
    "<span hidden> TODO: Add code example </span>"
   ]
  },
  {
   "cell_type": "markdown",
   "id": "2752cf12",
   "metadata": {},
   "source": [
    "### Connection to sampling\n",
    "If $X$ is drawn from a normal population, then by considering the following random variables\n",
    "$$\n",
    "Z = \\frac{\\bar X - u}{\\sigma / \\sqrt n} \\sim N(0, 1)\n",
    "$$\n",
    "\n",
    "$$\n",
    "U = \\frac{(n-1)S^2}{\\sigma^2} \\sim \\chi^2(n-1)\n",
    "$$"
   ]
  },
  {
   "cell_type": "markdown",
   "id": "a18103ef",
   "metadata": {},
   "source": [
    "We can show that $\\bar X$ and $S^2$ are independent, and so are $Z$ and $U$."
   ]
  },
  {
   "cell_type": "markdown",
   "id": "1ae8c64f",
   "metadata": {},
   "source": [
    "Hence,\n",
    "$$\n",
    "T = \\frac{\\bar X - \\mu}{S/\\sqrt n} = \\frac{Z}{\\sqrt{U / (n-1)}} \\sim t_{n-1}\n",
    "$$"
   ]
  },
  {
   "cell_type": "markdown",
   "id": "3bff3822",
   "metadata": {},
   "source": [
    "<span hidden> TODO: Add proof</span>"
   ]
  },
  {
   "cell_type": "markdown",
   "id": "650a751f",
   "metadata": {},
   "source": [
    "## F-distribution\n",
    "\n",
    "Let $U \\sim \\chi^2(n_1), V \\sim \\chi^2(n_2)$, then the **F-distribution** with $(n_1, n_2)$ degrees of freedom is exhibited by the random variable\n",
    "$$\n",
    "F = \\frac{U/n_1}{V/n_2}\n",
    "$$"
   ]
  },
  {
   "cell_type": "markdown",
   "id": "41917f64",
   "metadata": {},
   "source": [
    "The probability density function is defined as\n",
    "$$\n",
    "f_F(x) = \\frac{n_1^{n_1/2}n_2^{n_2/2}\\Gamma((n_1+n_2)/2)}{\\Gamma(n_1/2) \\Gamma(n_2/2)}\\frac{x^{n_1/2 -1}}{(n_1x+n_2)^{(n_1+n_2)/2}}\n",
    "$$"
   ]
  },
  {
   "cell_type": "markdown",
   "id": "8a80eecb",
   "metadata": {},
   "source": [
    "Once again, this formula is only here for completeness."
   ]
  },
  {
   "cell_type": "markdown",
   "id": "861e0553",
   "metadata": {},
   "source": [
    "### Connection to sampling\n",
    "Suppose that we have two random samples of size $n_1,n_2$ respectively, obtained from two normal population with variance $\\sigma_1^2, \\sigma_2^2$ respectively."
   ]
  },
  {
   "cell_type": "markdown",
   "id": "4860a52a",
   "metadata": {},
   "source": [
    "We know that \n",
    "$$\n",
    "U = \\frac{(n_1-1)S_1^2}{\\sigma^2_1} \\sim \\chi^2(n_1-1)\n",
    "$$\n",
    "$$\n",
    "V = \\frac{(n_2-1)S_2^2}{\\sigma^2_2} \\sim \\chi^2(n_2-1)\n",
    "$$\n",
    "and are independent."
   ]
  },
  {
   "cell_type": "markdown",
   "id": "33515bef",
   "metadata": {},
   "source": [
    "Hence, we have \n",
    "$$\n",
    "F = \\frac{U/(n_1-1)}{V/(n_2-1)} = \\frac{S_1^2/\\sigma_1^2}{S_2^2/\\sigma^2_2} \\sim F(n_1-1, n_2-1)\n",
    "$$"
   ]
  },
  {
   "cell_type": "markdown",
   "id": "f6991374",
   "metadata": {},
   "source": [
    "<span hidden> TODO: Add proof</span>"
   ]
  },
  {
   "cell_type": "markdown",
   "id": "730691b0",
   "metadata": {},
   "source": [
    "### Theorems\n",
    "If $F \\sim F(n,m)$, then $1/F \\sim F(m, n)$"
   ]
  }
 ],
 "metadata": {
  "kernelspec": {
   "display_name": "Python 3 (ipykernel)",
   "language": "python",
   "name": "python3"
  },
  "language_info": {
   "codemirror_mode": {
    "name": "ipython",
    "version": 3
   },
   "file_extension": ".py",
   "mimetype": "text/x-python",
   "name": "python",
   "nbconvert_exporter": "python",
   "pygments_lexer": "ipython3",
   "version": "3.9.7"
  }
 },
 "nbformat": 4,
 "nbformat_minor": 5
}
