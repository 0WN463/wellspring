{
 "cells": [
  {
   "cell_type": "markdown",
   "id": "square-tactics",
   "metadata": {},
   "source": [
    "$$\n",
    "\\newcommand{theorem}{\\textbf{Theorem: }}\n",
    "\\newcommand{proof}{\\textbf{Proof: }}\n",
    "\\newcommand{lemma}{\\textbf{Lemma: }}\n",
    "\\newcommand{corollary}{\\textbf{Corollary: }}\n",
    "\\newcommand{prop}{\\textbf{Proposition: }}\n",
    "$$"
   ]
  },
  {
   "cell_type": "markdown",
   "id": "western-conflict",
   "metadata": {},
   "source": [
    "# Vertex Colouring\n",
    "A **$k$-colouring** is a mapping of the vertices of a graph to numbers from $1, \\cdots, k$ such that no adjacent vertices have the same number.\n",
    "\n",
    "If a $k$-colouring is possible on a graph, we call it **$k$-colorable**\n",
    "\n",
    "The **chromatic number** $\\chi(G)$ is the minimum value of $k$ such that $G$ is $k$-colourable\n",
    "* $\\chi(G) \\leq k$ if and only if $G$ is $k$-colourable."
   ]
  },
  {
   "cell_type": "markdown",
   "id": "demanding-advancement",
   "metadata": {},
   "source": [
    "**Special graphs**\n",
    "* $\\chi(O_n) = 1$\n",
    "* $\\chi(K_n) = n$\n",
    "* $\\chi(G) = 2$ for non-empty bipartite graphs $G$\n",
    "* $\\chi(C_n) = 2$ if $n$ is even, $3$ otherwise\n"
   ]
  },
  {
   "cell_type": "markdown",
   "id": "french-accounting",
   "metadata": {},
   "source": [
    "Notice that if $\\chi(G) \\leq 2$, then we can colour all vertices using two colours such that no adjacent vertices have the same colour, this is a bipartition of $G$, hence $G$ is bipartite.\n",
    "Conversely, if $\\chi(G) \\geq 3$, then we cannot colour all vertices using two colours, thus $G$ is not bipartite.\n"
   ]
  },
  {
   "cell_type": "markdown",
   "id": "alpha-fruit",
   "metadata": {},
   "source": [
    "$\\omega(G):$ **clique number** of $G$, the maximal order of a complete subgraph of $G$.\n",
    "\n",
    "**Properties** <a id='property-colouring'></a>\n",
    "* $\\chi(H) \\leq \\chi(G)$ for $H$ which is a subgraph of $G$\n",
    "* $\\chi(H) = \\max(\\chi(G_1), \\dots, \\chi(G_k))$, where $G_i$ are the components of the graph $G$\n",
    "* $\\chi(H) = \\max(\\chi(B_1), \\dots, \\chi(B_k))$, where $B_i$ are the blocks of the graph $G$\n",
    "* $\\chi(H) \\geq \\omega(G)$\n",
    "\n"
   ]
  },
  {
   "cell_type": "markdown",
   "id": "dramatic-halifax",
   "metadata": {},
   "source": [
    "$\\lemma$ $\\chi(G) - 1 \\leq \\chi(G-v) \\leq \\chi (G)$ for any vertex $v$ <a id='L-vertex-removal'></a>\n",
    "\n",
    "<details>\n",
    "    <summary style=\"color: blue\">$\\proof$ (Click to expand)</summary>\n",
    "    <div style=\"background: aliceblue\">\n",
    "<p>\n",
    "The second inequality is true as $\\chi(H) \\leq \\chi(G)$ if $H$ is a subgraph of $G$.\n",
    "</p>\n",
    "<p>\n",
    "For the first inequality, suppose we have a $k$-colouring for $G-v$.\n",
    "    Now, if we use the same colouring for $G$, but assign $v$ the value of $k+1$, then we obtain a $k+1$ colouring.\n",
    "    Thus, $\\chi(G) \\leq \\chi(G-v) + 1 \\Rightarrow \\chi(G) - 1 \\leq \\chi(G-v)$\n",
    "    $QED$\n",
    "        </p>\n",
    "    </div>\n",
    "</details>"
   ]
  },
  {
   "cell_type": "markdown",
   "id": "ancient-anger",
   "metadata": {},
   "source": [
    "$\\lemma$  $\\chi(G) - 1 \\leq \\chi(G-e) \\leq \\chi (G)$ for any edge $e$\n",
    "<details>\n",
    "    <summary style=\"color: blue\">$\\proof$ (Click to expand)</summary>\n",
    "    <div style=\"background: aliceblue\">\n",
    "<p>\n",
    "The second inequality is true as $\\chi(H) \\leq \\chi(G)$ if $H$ is a subgraph of $G$.\n",
    "</p>\n",
    "<p>\n",
    "For the first inequality, notice that $G-v$ is a subgraph of $G-e$.\n",
    "    By the previous lemma, we get\n",
    "    $$\n",
    "    \\chi(G-e) \\geq \\chi(G-v) \\geq \\chi(G) - 1\n",
    "    $$\n",
    "    $QED$\n",
    "        </p>\n",
    "    </div>\n",
    "</details>"
   ]
  },
  {
   "cell_type": "markdown",
   "id": "initial-africa",
   "metadata": {},
   "source": [
    "$\\lemma$ \n",
    "$$\n",
    "\\chi(G) \\geq \\max(\\omega(G), v(G) / \\alpha(G))\n",
    "$$\n",
    "\n",
    "<details>\n",
    "    <summary style=\"color: blue\">$\\proof$ (Click to expand)</summary>\n",
    "    <div style=\"background: aliceblue\">\n",
    "Notice that given a $k$-colouring of $G$, if we group the vertices with the same colours together, we obtain $k$ disjoint independent sets.\n",
    "        And given $k$ disjoint independent sets, we can form a $k$ colouring by assigning each vertex the set it belongs to.\n",
    "        Thus, $\\chi(G)$ is also the smallest number $k$ such that we can decompose $V(G)$ into $k$ disjoint independent sets.\n",
    "        Lastly, notice that the set of each set is at most $\\alpha(G)$, thus we will need at least $n/\\alpha(G)$ sets to partition the vertices.\n",
    "    </div>\n",
    "</details>"
   ]
  },
  {
   "cell_type": "markdown",
   "id": "cubic-healing",
   "metadata": {},
   "source": [
    "**Greedy colouring algorithm**\n",
    "\n",
    "1. Assign 1 to any vertex\n",
    "2. For any unassigned vertex, assign it the smallest number such that is different from all its neighbours.\n"
   ]
  },
  {
   "cell_type": "markdown",
   "id": "documentary-bidder",
   "metadata": {},
   "source": [
    "$\\lemma$  \n",
    "$$\n",
    "\\chi(G) \\leq \\Delta(G) + 1\n",
    "$$\n",
    "\n",
    "<details>\n",
    "    <summary style=\"color: blue\">$\\proof$ (Click to expand)</summary>\n",
    "    <div style=\"background: aliceblue\">\n",
    "The proof follows from the previous algorithm.\n",
    "Notice that for each vertex, there can be at most $\\Delta(G)$ neighbours, thus the maximum label that will be assigned is $\\Delta(G) + 1$. $QED$\n",
    "    </div>\n",
    "</details>"
   ]
  },
  {
   "cell_type": "markdown",
   "id": "aware-patch",
   "metadata": {},
   "source": [
    "$\\theorem$ (Brooks) <a id='T-brooks'></a>For a connected graph $G$ that is incomplete and **is not** an odd cycle,\n",
    "$$\n",
    "\\chi(G) \\leq \\Delta(G)\n",
    "$$\n",
    "\n",
    "<details>\n",
    "<summary style=\"color: blue\">$\\proof$ (Click to expand)</summary>\n",
    "<div style=\"background: aliceblue\">\n",
    "<p>\n",
    "We assume $G$ is 2-connected, otherwise we perform the below on the blocks of $G$ instead.\n",
    "Suppose $G$ is $r$-regular.\n",
    "It is trivial to see that the statement is true of $r = 1,2$.\n",
    "Suppose $r\\geq 3$.\n",
    "If $G$ is 3-connected, then select any vertex $v$ of $G$.\n",
    "If all the neighbours of $v$ are adjacent to each other, then $G$ is a complete graph, which is a contradiction.\n",
    "Thus, there must exists neighbours that are not adjacent to each other.\n",
    "If $G$ is not 3-connected, then we find any two vertices $v, v'$ that is a cut of $G$.\n",
    "Notice that there must exists a vertex $v$ in the cut that is adjacent to some vertices $u,w$ in each components of $G-$cut.\n",
    "Also, notice that since $G$ is 2-connected, both $v', v$ cannot be only connected to $u,w$ in each components, or else $u,w$ will be cut-vertices.\n",
    "Hence, if we remove only $u$ and $w$, there will still be a path between the components.\n",
    "And since $r \\geq 3$, $v'$ must still have an edge to some components of $G-\\{u, w\\}$.\n",
    "In both cases, we found 3 vertices $u,v,w$ such that there is an $uv, vw$ edge but no $uw$ edge, and $G-\\{u, w\\}$ is still connected.\n",
    "</p>     \n",
    "\n",
    "<p>\n",
    "Now we start with a set of vertices that contains only $v$.\n",
    "We will repeated add vertices such that the vertex added is in the neighbourhood of the current set of vertices, and the new vertex is not $u$ or $w$.\n",
    "We know this can be done until all the vertices are in the set, because if we cannot find a vertex that is in the neighbourhood of the set of the vertices and we have yet to have added all the vertices, $u,w$ will be a cut because there will be no path to the missing vertices without going through $u$ or $w$.\n",
    "</p>\n",
    "<p>\n",
    "We now apply the previous algorithm to obtain a colouring of $G$.\n",
    "We colour the vertices starting from $u,w$, then the reverse order of which we added the vertices.\n",
    "Since when each vertex is added, it had a neighbour that will be coloured later, they will all be assigned at most the colour of $r$.\n",
    "And since $v$ is adjacent to $u,w$, and both $u,w$ would be assigned 1, we can assign $r$ to $v$ as well, thus it is $\\chi(G) \\leq r = \\Delta(G)$.\n",
    "</p>\n",
    "<hr>\n",
    "<p>\n",
    "Suppose that $G$ is not regular.\n",
    "We identify the smallest degree vertex as $v$.\n",
    "We then arrange the vertices in the graph based on its distance to $v$, in descending order.\n",
    "Then we apply the previous colouring algorithm on this order.\n",
    "Notice that for any vertex that is not $v$, it must be adjacent to some vertex with less distance than it, thus there must be a neighbour that is yet to be coloured.\n",
    "Thus, each vertex will have a colour at most $\\Delta(G)$.\n",
    "Lastly, notice that $v < \\Delta(G)$, thus the colour that it can be assigned it as most $v+1 < \\Delta(G) \\Rightarrow v \\leq \\Delta(G)$.\n",
    "$QED$\n",
    "</p>\n",
    "        \n",
    "</div>\n",
    "</details>"
   ]
  },
  {
   "cell_type": "markdown",
   "id": "stretch-thunder",
   "metadata": {},
   "source": [
    "## Contraction\n",
    "Suppose that $G$ is not complete, then a **contraction** $G/uv$ of $G$ is obtained by combining the vertices $u,v$ and removing any $uv$ edges.\n",
    "Mathematically, this means that if $w$ is the vertex produced by combining $u,v$\n",
    "$$\n",
    "N_{G/uv}(w) = N_G(\\{u,v\\} \\setminus\\{u, v\\})\n",
    "$$"
   ]
  },
  {
   "cell_type": "markdown",
   "id": "focused-border",
   "metadata": {},
   "source": [
    "$\\theorem$  For any non-adjacent vertices $u,v$ of $G$\n",
    "$$\n",
    "\\chi(G) = \\min(\\chi(G + uv), \\chi(G/uv))\n",
    "$$\n",
    "\n",
    "<details>\n",
    "<summary style=\"color: blue\">$\\proof$ (Click to expand)</summary>\n",
    "<div style=\"background: aliceblue\">\n",
    "<p>\n",
    "Suppose that we have a colouring of $G + uv$.\n",
    "It is clear that this is also a colouring of $G$.\n",
    "Similarly, if we have a colouring of $G$ such that $u,v$ are of different colours, it will be a colouring of $G+uv$ also.\n",
    "</p>\n",
    "<p>\n",
    "Suppose that we have a colouring of $G$ such that $u,v$ are of the same colour, it is clear that it is also a colouring of $G/uv$.\n",
    "Suppose that we have a colouring of $G/uv$.\n",
    "Then we can split the vertex and transform the graph back into $G$, and it will still be a colouring.\n",
    "</p>\n",
    "\n",
    "<p>\n",
    "Thus, the number of $k$-colourings of $G$ has the following relationship, where $f_H(k)$ is the number of $k$-colouring of $H$.\n",
    "$$\n",
    "f_G(k) = f_{G+uv}(k) + f_{G/uv}(k)\n",
    "$$\n",
    "Notice that $\\chi(G)$ is the smallest $k$ such that $f_G(k)$ is non-zero.\n",
    "Thus, $f_G(k)$ is non-zero when either of the two components are non-zero, which is finding the smallest $k$ such that either of the two components are non-zero.\n",
    "Therefore, the theorem follows. \n",
    "$QED$\n",
    "</p>\n",
    "    \n",
    "</div>\n",
    "</details>"
   ]
  },
  {
   "cell_type": "markdown",
   "id": "quarterly-purpose",
   "metadata": {},
   "source": [
    "## Critical Graphs\n",
    "A **critical graph** is a graph $G$ where every proper subgraph $H$ of $G$ has $\\chi(H) < \\chi(G)$.\n",
    "That is, the removal of any set of edges or vertices from $G$ will result in less colours needed to colour the graph.\n",
    "\n"
   ]
  },
  {
   "cell_type": "markdown",
   "id": "scientific-judge",
   "metadata": {},
   "source": [
    "$\\prop$  $G$ is critical if and only if\n",
    "$$\n",
    "\\chi(G - e) = \\chi(G) - 1\n",
    "$$\n",
    "$$\n",
    "\\chi(G - v) = \\chi(G) - 1\n",
    "$$\n",
    "\n",
    "<details>\n",
    "<summary style=\"color: blue\">$\\proof$ (Click to expand)</summary>\n",
    "<div style=\"background: aliceblue\">\n",
    "This follows from the <a href='#L-vertex-removal'>vertex/edge removal</a> lemma    \n",
    "</div>\n",
    "</details>"
   ]
  },
  {
   "cell_type": "markdown",
   "id": "civic-kruger",
   "metadata": {},
   "source": [
    "An edge $e$ is a **critical element** if $\\chi(G-e) = \\chi(G) -1$.\n",
    "\n",
    "If $G$ is critical with $\\chi(G) = k$, then $G$ is **$k$-critical**. "
   ]
  },
  {
   "cell_type": "markdown",
   "id": "descending-tablet",
   "metadata": {},
   "source": [
    "$\\prop$  **If $G$ is critical, it must be 2-connected.**\n",
    "\n",
    "<details>\n",
    "<summary style=\"color: blue\">$\\proof$ (Click to expand)</summary>\n",
    "<div style=\"background: aliceblue\">\n",
    "By the <a href='#property-colouring'>property of colouring</a>, since $\\chi(G)$ is equals to the largest chromatic number of its blocks. \n",
    "If $G$ contains cut-vertices, then we can remove all the vertices in all the blocks except the one with the largest chromatic number, and retain the chromatic number of the resultant graph.\n",
    "Thus, $G$ cannot contain a cut-vertex.\n",
    "</div>\n",
    "</details>"
   ]
  },
  {
   "cell_type": "markdown",
   "id": "empirical-split",
   "metadata": {},
   "source": [
    "$\\prop$  The only 1-critical graph is $K_1$\n",
    "\n",
    "<details>\n",
    "<summary style=\"color: blue\">$\\proof$ (Click to expand)</summary>\n",
    "<div style=\"background: aliceblue\">\n",
    "Since $\\chi(G) = 1$, there is no edges in $G$. \n",
    "And since $G$ must be connected, it can only be $K_1$.\n",
    "</div>\n",
    "</details>"
   ]
  },
  {
   "cell_type": "markdown",
   "id": "developing-permission",
   "metadata": {},
   "source": [
    "$\\prop$  The only 2-critical graph is $K_2$\n",
    "\n",
    "<details>\n",
    "<summary style=\"color: blue\">$\\proof$ (Click to expand)</summary>\n",
    "<div style=\"background: aliceblue\">\n",
    "Since $\\chi(G) = 2$, $G$ is bipartite and has at least 1 edge.\n",
    "If we consider the graph consisting of just this edge, it has chromatic number 2, thus $G$ must be $K_2$\n",
    "</div>\n",
    "</details>"
   ]
  },
  {
   "cell_type": "markdown",
   "id": "suburban-cincinnati",
   "metadata": {},
   "source": [
    "$\\prop$  All 3-critical graph are odd cycles.\n",
    "\n",
    "<details>\n",
    "<summary style=\"color: blue\">$\\proof$ (Click to expand)</summary>\n",
    "<div style=\"background: aliceblue\">\n",
    "Since $\\chi(G) = 3$, $G$ is not bipartite and thus contains an odd cycle.\n",
    "If we consider the subgraph containing only the odd cycle, it has $\\chi(C) = 3$, thus $G$ must be the odd cycles itself only.\n",
    "</div>\n",
    "</details>"
   ]
  },
  {
   "cell_type": "markdown",
   "id": "catholic-defendant",
   "metadata": {},
   "source": [
    "$\\prop$  The complete graph $K_n$ is $n$-critical\n",
    "\n",
    "<details>\n",
    "<summary style=\"color: blue\">$\\proof$ (Click to expand)</summary>\n",
    "<div style=\"background: aliceblue\">\n",
    "This is true by <a href='#T-brooks'>Brook's Theorem</a>\n",
    "</div>\n",
    "</details>"
   ]
  },
  {
   "cell_type": "markdown",
   "id": "chubby-adjustment",
   "metadata": {},
   "source": [
    "---\n",
    "\n",
    "$\\lemma$  For any $G_1, G_2$,\n",
    "$$\n",
    "\\chi(G_1 + G_2) = \\chi(G_1 + G_2)\n",
    "$$\n",
    "\n",
    "<details>\n",
    "<summary style=\"color: blue\">$\\proof$ (Click to expand)</summary>\n",
    "<div style=\"background: aliceblue\">\n",
    "<p>\n",
    "Suppose we need $p$ colours to colour $G_1$, and $q$ for $G_2$.\n",
    "We can assign $1, \\dots p$ to vertices in $G_1$ and $p+1, \\dots p+q$ to $G_2$.\n",
    "Thus, $$\\chi(G_1+ G_2) \\leq \\chi(G_1) + \\chi(G_2)$$\n",
    "</p>\n",
    "<hr>\n",
    "<p>\n",
    "Suppose we have a colouring of $G_1+G_2$.\n",
    "Notice that the subgraph in $G_1+G_2$ containing the vertices of $G_i$ must be a colouring of $G_i$.\n",
    "And since every vertex in $G_1$ is adjacent to those in $G_2$, the colour assigned between the two groups of vertices must be pairwise different.\n",
    "Thus, $$\\chi(G_1) + \\chi(G_2) \\leq \\chi(G_1+ G_2)$$\n",
    "</p>\n",
    "$QED$\n",
    "</div>\n",
    "</details>"
   ]
  },
  {
   "cell_type": "markdown",
   "id": "falling-malpractice",
   "metadata": {},
   "source": [
    "$\\theorem$  For $k_1$-critical graph $G_1$ and $k_2$-critical graph $G_2$, $G = G_1 + G_2$ is $k_1+k_2$-critical\n",
    "\n",
    "<details>\n",
    "<summary style=\"color: blue\">$\\proof$ (Click to expand)</summary>\n",
    "<div style=\"background: aliceblue\">\n",
    "<p>\n",
    "Be the previous lemma, we know that the chromatic number of $G$ is $k_1 + k_2$.\n",
    "We need to prove that for any edge $e$, $\\chi(G-e) = k_1 + k_1 -1$.\n",
    "</p>\n",
    "\n",
    "<p>\n",
    "Suppose $e$ is an edge in $G_1$.\n",
    "Then,\n",
    "$$\n",
    "\\chi(G -e) = \\chi(G_1 - e) + \\chi(G_2) = k_1 - 1 + k_2\n",
    "$$\n",
    "Thus, the statement holds, and the same for any edge in $G_2$.\n",
    "</p>\n",
    "<p>\n",
    "Suppose $e$ is an edge $uv$ between $G_1$ and $G_2$.\n",
    "Since $G_i$ is $k$-critical, there is a $k-1$ colouring when we remove the vertex $u,v$ from $G_i$.\n",
    "Thus, we assign $u,v$ the colour 0 in $G$, and let the colours of the vertices in $G_1$ be the colors in the colouring of $G_1$, and the colours of vertices in $G_2$ be the negative of the colors of the colouring in $G_2$.\n",
    "This forms a $k-1$ colouring, thus $G-e$ is still $k-1$ colourable.\n",
    "</p>\n",
    "$QED$\n",
    "</div>\n",
    "</details>"
   ]
  },
  {
   "cell_type": "markdown",
   "id": "limited-theory",
   "metadata": {},
   "source": [
    "## Wedge\n",
    "Suppose we have a two connected nontrivial graph $G_1$, $G_2$ such that they share a common vertex $v$.\n",
    "The wedge of the graphs $G_1 \\land G_2$ is graph obtain by disconnecting $v$ from one vertex in $G_1$ and one from $G_2$, and connecting those two vertices together."
   ]
  },
  {
   "cell_type": "markdown",
   "id": "specified-meaning",
   "metadata": {},
   "source": [
    "$\\theorem$ If both $G_1, G_2$ are $k$-critical, then $G = G_1 \\land G_2$ is also $k$-critical.\n",
    "\n",
    "<details>\n",
    "<summary style=\"color: blue\">$\\proof$ (Click to expand)</summary>\n",
    "<div style=\"background: aliceblue\">\n",
    "<p>\n",
    "Firstly, we obtain a colouring of $G_i-v_i, v$, where $v_i$ is the vertex in $G_i$ that the wedge operation is working on.\n",
    "Since this colouring is not a $k-1$ colouring in $G$, $v_i$ and $v$ must have the same colour.\n",
    "Thus, we can assign all the vertices of $G$ that belonged to $G_1$ with $k-1$, and the same for $G_2$.\n",
    "However, $v_1, v_2$ would have the same colour, so we assign on of them to be $k$ instead.\n",
    "This is a $k$-colouring of $G$.\n",
    "Thus, $\\chi(G) \\leq k$\n",
    "Hence, $\\chi(G) = k$\n",
    "</p>\n",
    "<hr>\n",
    "<p>\n",
    "Suppose we removed an edge $e \\in G_1, e \\neq v_1, v_2 $.\n",
    "Notice that there is a $k-1$ colouring in $G_1 - e$ such that $v_1 \\neq v$.\n",
    "As previously, there is a $k-1$ colouring in $G_2 - e$ such that $v_2 = v$.\n",
    "Thus, we can assign $v_2$ the same colour as $v$, and obtain a $k-1$ colouring in $G-e$.\n",
    "</p>\n",
    "<p>\n",
    "Suppose we removed an edge $e = v_1, v_2 $ instead.\n",
    "As previously, there is a $k-1$ colouring in $G_2 - e$ such that $v_2 = v$.\n",
    "Similarly, there is a $k-1$ colouring in $G_1 - e$ such that $v_1 = v$.\n",
    "Using the colours from those colouring, we would obtain a $k-1$ colouring in $G-e$.\n",
    "</p>\n",
    "<p>\n",
    "Thus, $G$ is $k$-critical.\n",
    "</p>\n",
    "$QED$\n",
    "</div>\n",
    "</details>"
   ]
  },
  {
   "cell_type": "markdown",
   "id": "sublime-hospital",
   "metadata": {},
   "source": [
    "$\\theorem$ For any critical graph $G$,\n",
    "\n",
    "$$\n",
    "\\chi(G) \\leq 1 + \\lambda(G)\n",
    "$$\n",
    "\n",
    "<details>\n",
    "<summary style=\"color: blue\">$\\proof$ (Click to expand)</summary>\n",
    "<div style=\"background: aliceblue\">\n",
    "<p>\n",
    "Consider the minimum edge cut $F$ of $G$, and $G_1, G_2$ are the components of $G-F$.\n",
    "Since $G$ is critical, there is a $k-1$ colouring of $G_i$.\n",
    "Let $A_i, B_i$ be the vertices assigned colour $i$ in $G_1, G_2$ respectively.\n",
    "$A_1, \\dots, A_{k-1}$ forms a independent set of $V(G_1)$, and ditto for $B$.\n",
    "</p>\n",
    "<hr>\n",
    "<p>\n",
    "Construct a bipartite graph $H$, with partitions of $X = \\{A_1, \\dots, A_{k-1}\\}$ and $Y = \\{B_1, \\dots, B_{k-1}\\}$\n",
    "We add an edge if there between vertices $v_i, v_j$ if there is no edge in $F$ that connects $A_i$ to $B_i$.\n",
    "Let $k=\\chi(G)$.\n",
    "Suppose $\\lambda(G) = |F| \\leq k-2$.\n",
    "Then $$e(H) \\geq (k-1)^2 - (k-2) > (k-1)(k-2)$$\n",
    "Now, consider the minimum vertex cover of $H$.\n",
    "Since each vertex in $H$ is adjacent to at most $k-1$ vertices in the other partition, it follows that $e(H) \\leq (k-1)\\alpha'(G)$\n",
    "Combining the two statements, we get $$(k-1)\\alpha'(G) \\geq e(H) \\geq (k-1)(k-2) \\Rightarrow \\alpha'(G) \\geq k-2 \\Rightarrow \\alpha'(G) > k-1$$\n",
    "This means $H$ has a perfect matching.\n",
    "We can relabel the colours such that the matching matches independent sets of the same colour.\n",
    "Since the matching is perfect, it means that there is no edge between the two independent sets of the same colour of different components.\n",
    "Thus, we can freely assign them the same colour, and this is a $k-1$ colouring for $G$.\n",
    "This contradicts $k=\\chi(G)$, thus $\\lambda (G) > k -2 \\Rightarrow \\chi(G) \\leq \\lambda(G) + 1$\n",
    "$QED$\n",
    "</p>\n",
    "</div>\n",
    "</details>"
   ]
  },
  {
   "cell_type": "markdown",
   "id": "light-marshall",
   "metadata": {},
   "source": [
    "$\\corollary$ For any critical graph $G$,\n",
    "\n",
    "$$\n",
    "\\chi(G) \\leq 1 + \\delta(G)\n",
    "$$\n"
   ]
  },
  {
   "cell_type": "markdown",
   "id": "seven-circus",
   "metadata": {},
   "source": [
    "$\\corollary$ Every $k$-chromatic graph contains at least $k$ vertices of degree $k-1$\n",
    "\n",
    "<details>\n",
    "<summary style=\"color: blue\">$\\proof$ (Click to expand)</summary>\n",
    "<div style=\"background: aliceblue\">\n",
    "<p>\n",
    "We consider the $k$-critical subgraph $H$ of $G$.\n",
    "It is obvious that $H$ has at least $k$ vertices.\n",
    "Notice that for any vertex $v$,\n",
    "$$\n",
    "deg_G(v) \\geq deg_H(v) \\geq \\chi(G) - 1 = k-1\n",
    "$$\n",
    "</p>\n",
    "$QED$\n",
    "</div>\n",
    "</details>\n"
   ]
  },
  {
   "cell_type": "markdown",
   "id": "wound-leisure",
   "metadata": {},
   "source": [
    "$\\theorem$ Let $G$ be a critical graph. Then any subset $S$ of $G$ cannot be both a cut and a clique.\n",
    "\n",
    "<details>\n",
    "<summary style=\"color: blue\">$\\proof$ (Click to expand)</summary>\n",
    "<div style=\"background: aliceblue\">\n",
    "<p>\n",
    "Suppose $S$ is both a cut and a clique.\n",
    "Let $G_1, \\dots G_p$ be the components of $G-S$, and $H_i$ be the subgraph induced by $V(G_i)\\cup S$.\n",
    "Since $G$ is $k$-critical, there is a $k-1$ colouring for each $H_i$.\n",
    "Since $S$ is a clique, all vertices must have distinct colours in all colourings.\n",
    "We relabel all the colouring such that they agree with each other, this will be a $k-1$ colour of $G$, which is a contradiction.\n",
    "</p>\n",
    "$QED$\n",
    "</div>\n",
    "</details>\n"
   ]
  },
  {
   "cell_type": "code",
   "execution_count": null,
   "id": "stopped-tyler",
   "metadata": {},
   "outputs": [],
   "source": []
  }
 ],
 "metadata": {
  "kernelspec": {
   "display_name": "Python 3",
   "language": "python",
   "name": "python3"
  },
  "language_info": {
   "codemirror_mode": {
    "name": "ipython",
    "version": 3
   },
   "file_extension": ".py",
   "mimetype": "text/x-python",
   "name": "python",
   "nbconvert_exporter": "python",
   "pygments_lexer": "ipython3",
   "version": "3.6.8"
  }
 },
 "nbformat": 4,
 "nbformat_minor": 5
}
