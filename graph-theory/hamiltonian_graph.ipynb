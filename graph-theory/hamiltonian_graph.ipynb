{
 "cells": [
  {
   "cell_type": "markdown",
   "id": "democratic-dictionary",
   "metadata": {},
   "source": [
    "# Hamiltonian Graphs\n",
    "* Spanning/Hamiltonian Cycle of G: A cycle that contains every vertex in G\n",
    "* Hamiltonian Graph: A graph with a spanning cycle\n",
    "* Spanning/Hamiltonian Path: A path that contains every vertex in G\n",
    "* Semi-Hamiltonian Graph: A graph with a spanning path\n",
    "\n",
    "Examples:\n",
    "* $C_n$ for $n \\geq 3$ is Hamiltonian\n",
    "* $P_n$ for $n \\geq 1$ is semi-Hamiltonian\n",
    "* $K_n$ for $n \\geq 3$ is Hamiltonian\n",
    "* $K_{p,q}$ is Hamiltonian $\\Leftrightarrow p = q \\geq 2$\n",
    "\n",
    "## Construction\n",
    "* Any edges incident to a vertex with degree = 2 must be required if it exists\n",
    "* Any non-required edges that are incident to a vertex that is incident to 2 required edges can be deleted from G\n",
    "* If the set of required edges forms a cycle which does not span G, then G is not Hamiltonian\n",
    "\n",
    "\n",
    "\n",
    "### Knight Tour\n",
    "\n",
    "## Necessary Conditions\n",
    "G is Hamiltonian only if it contains no isolated vertex/bridge/cut-vertex/leaf.\n",
    "\n",
    "For any non-empty $S \\subset V(G)$, $|S| \\geq c(G-S)$"
   ]
  },
  {
   "cell_type": "code",
   "execution_count": null,
   "id": "strange-wallpaper",
   "metadata": {},
   "outputs": [],
   "source": []
  }
 ],
 "metadata": {
  "kernelspec": {
   "display_name": "Python 3",
   "language": "python",
   "name": "python3"
  },
  "language_info": {
   "codemirror_mode": {
    "name": "ipython",
    "version": 3
   },
   "file_extension": ".py",
   "mimetype": "text/x-python",
   "name": "python",
   "nbconvert_exporter": "python",
   "pygments_lexer": "ipython3",
   "version": "3.6.8"
  }
 },
 "nbformat": 4,
 "nbformat_minor": 5
}
