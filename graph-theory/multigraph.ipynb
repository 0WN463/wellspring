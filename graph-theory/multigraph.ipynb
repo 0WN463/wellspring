{
 "cells": [
  {
   "cell_type": "markdown",
   "id": "portuguese-logan",
   "metadata": {},
   "source": [
    "$$\n",
    "\\newcommand{theorem}{\\textbf{Theorem: }}\n",
    "\\newcommand{proof}{\\textbf{Proof: }}\n",
    "\\newcommand{lemma}{\\textbf{Lemma: }}\n",
    "\\newcommand{corollary}{\\textbf{Corollary: }}\n",
    "$$"
   ]
  },
  {
   "cell_type": "markdown",
   "id": "valuable-prince",
   "metadata": {},
   "source": [
    "# Multigraph\n",
    "In **multigraphs**, any 2 distinct vertices can be joined by a finite number of edges.\n",
    "\n",
    "**Parallel edges**: edges that join the same pair of distinct vertices\n",
    "\n",
    "**Loop**: an edge that joins a vertex to itself. **Not permitted** in multigraphs.\n",
    "\n",
    "**deg(v)**: number of edges incident to $v$. Note that it is no longer the number of vertices adjacent to $v$ as in [simple graphs](./introduction.ipynb#adj), as $deg(v) \\geq |N(v)|$.\n",
    "\n",
    "Handshaking lemma still holds"
   ]
  },
  {
   "cell_type": "markdown",
   "id": "parental-facing",
   "metadata": {},
   "source": [
    "## Representation\n",
    "### Adjacency Matrix\n",
    "$A_{n\\times n}(G)$: Adjacency matrix of $G$, where the $(i, j)$ entry is the number of edges joining $v_i, v_j$.\n",
    "\n",
    "Properties:\n",
    "* $A(G)$ is symmetric\n",
    "* Diagonals of $A(G)$ is 0\n",
    "* Sum of the entries in the $i^{th}$ row/column is the degree of $v_i$\n",
    "* $G$ is simple if and only if every entry is 0 or 1\n",
    "\n",
    "If $G$ is bipartite, we can write $A(G)$ as follows:\n",
    "$$\n",
    "A(G) = \\begin{pmatrix}\\bf 0_{p\\times p} & \\bf B \\\\ \\bf B^T &\\bf 0_{q\\times q}\\end{pmatrix}\n",
    "$$\n",
    "where $\\bf B$ is a $p \\times q$ matrix"
   ]
  },
  {
   "cell_type": "markdown",
   "id": "curious-semiconductor",
   "metadata": {},
   "source": [
    "$\\theorem$ The $(i,j)$ entry in $A^k(G)$ is the number of $v_i, v_j$ walk of length $k$\n",
    "\n",
    "$\\proof$ When $k=1$, it is clear that $A^1(G)$ tells us the number of walks of length 1.\n",
    "\n",
    "Now consider $A^{k+1}(G)$.\n",
    "Notice that $A^{k+1}(G) = A^{k}(G)A(G)$.\n",
    "By induction hypothesis, the $(i,j)$ entry of $A^{k}(G)$ and $A(G)$ is the number of $v_i,v_j$ walks of length $k$ and $1$ respectively.\n",
    "Notice that:\n",
    "\n",
    "$$\n",
    "A^{k+1}(G)_{i,j} = \\sum_{t=0}^n A^{k}(G)_{i, t} A(G)_{t, j}\n",
    "$$\n",
    "\n",
    "Each term in the right hand side tells us the number of size $k+1$ walks that starts with a size $k$ walk followed by an edge $t,j$ as the last edge.\n",
    "Summing across all the walks would get us the number of walks of length $k+1$. $QED$\n",
    "\n",
    "$\\corollary$ The distance between two vertices $d(v_i, v_j)$ is the smallest positive integer $k$ such that the $(i,j)$ entry of $A^k(G)$ is nonzero.\n",
    "\n",
    "$\\proof$ We know that the distance of two vertices is also the length of the shortest walk between the two.\n",
    "The result follows from the previous theorem. $QED$"
   ]
  },
  {
   "cell_type": "markdown",
   "id": "worst-harvest",
   "metadata": {},
   "source": [
    "$\\theorem$ $G_1$ and $G_2$ are isomorphic if and only if there exists a permutation matrix $P$ such that $P^TA(G_2)P = A(G_1)$\n",
    "\n",
    "Note: A permutation is a square matrix that contains exactly one 1 in each row and column, 0 everywhere else.\n",
    "\n",
    "$\\proof$ Let $a_{i,j}, b_{i,j}$ be the $(i, j)$ entry of $A(G_1), A(G_2)$ respectively.\n",
    "\n",
    "Suppose there exist a permutation that maps every vertex $v_i$ in $G_1$ to vertex $v_{\\sigma(i)}$ in $G_2$.\n",
    "\n",
    "Consider the permutation matrix $P$, where \n",
    "$$\n",
    "P = \\left( e_{\\sigma(1)} \\dots e_{\\sigma(n)}\\right)\n",
    "$$\n",
    "where $\\{ e_1, \\dots, e_n\\}$ is the standard basis for $\\mathbb{R}^n$.\n",
    "\n",
    "By property of permutation matrix, the $(i,j)$ entry of $P^TA(G_2)P$ is $b_{\\sigma(i), \\sigma(j)} = a_{i,j}$\n",
    "\n",
    "Hence, the permutation matrix exists.\n",
    "\n",
    "---\n",
    "\n",
    "Suppose that a permutation matrix $P$ exists, where\n",
    "\n",
    "$$\n",
    "P = \\left( e_{\\sigma(1)} \\dots e_{\\sigma(n)}\\right)\n",
    "$$\n",
    "\n",
    "Using $P^TA(G_2)P = A(G_1)$, we know that the number of edges between $v_i, v_j$ in $G_1$ = number of edges between $v_{\\sigma(i), \\sigma(j)}$ in $G_2$.\n",
    "\n",
    "Hence, we can define any bijection that maps $v_i \\rightarrow v_{\\sigma(i)}$ to have an isomorphism. $QED$"
   ]
  },
  {
   "cell_type": "markdown",
   "id": "joint-malawi",
   "metadata": {},
   "source": [
    "### Incidence Matrix\n",
    "$B_{n \\times m}(G)$ is the incidence matrix such that the $(i,j)$ entry is 1 if $v_i$ is incident to $e_j$, 0 otherwise.\n",
    "\n",
    "Properties:\n",
    "* Sum of the entries in each columns is 2\n",
    "* Sum of the entries in the $i^{th}$ row is $deg(v_i)$\n",
    "* $G$ is simple if and only if the columns are unique\n",
    "* $v_i$ is isolated if and only if the $i^{th}$ row is all 0.\n",
    "\n",
    "$\\theorem$ $G_1$ and $G_2$ are isomorphic if and only if there exists perumtation matrices $P,Q$ such that $P^TB(G_2)Q = B(G_1)$"
   ]
  },
  {
   "cell_type": "markdown",
   "id": "natural-romania",
   "metadata": {},
   "source": [
    "<a id='T-rank-multigraph'></a>\n",
    "$\\theorem$ Given a connected multigraph $G$, $rank(B(G)) = n - 1$ if $G$ is bipartite, $rank(B(G)) = n$ otherwise\n",
    "\n",
    "$\\proof$ First, we remove parallel edges in $B(G)$ since removing duplicate columns will not affect the rank.\n",
    "We will obtain a simple graph with incidence matrix $B'$ after this.\n",
    "\n",
    "Suppose we obtain a vector $\\textbf{x}= (x_1, \\dots, x_n)^T$ in the nullspace of $B'^T$, meaning $B'^T\\bf{x} = {\\bf 0}$.\n",
    "Then $$\n",
    "x_i + x_j = 0 \n",
    "\\Rightarrow \n",
    "x_i = -x_j \\text{ for all } v_i v_j \\in E(G)\n",
    "$$\n",
    "\n",
    "Hence, for any walk $v_i, v_j$ walk of length $k$, we have $x_i = (-1)^k x_j$\n",
    "\n",
    "Suppose $G$ is bipartite.\n",
    "Then we have a partition $(V_1, V_2)$.\n",
    "We consider the $v_{i(1)}, \\dots, v_{i(n)}$ path of length $n$, which is a walk.\n",
    "By the previous result, we must get that $x_{i(1)} = -x_{i(2)} = (-1)^n x_{i(n)}$\n",
    "Without loss of generality, we can assign $x_{i(1)} = 1, x_{i(2)} = -1, \\dots, x_{i(n)} = (-1)^n$, to obtain a vector that spans the nullspace.\n",
    "Hence the nullity of $B'^T$ is 1 and thus the $rank(B) = rank(B'^T) = n - null(B'^T) = n - 1$\n",
    "\n",
    "Suppose $G$ is not bipartite.\n",
    "Then [there must exists an odd cycle](./trees_and_bipartite_graphs.ipynb#T-odd-cycle).\n",
    "Consider the odd cycle, which is a odd closed walk of length $k$.\n",
    "We will obtain that $x_{i(1)} = -x_{i(2)} = (-1)^k x_{i(k)} = x_{i(1)}$\n",
    "Since $k$ is odd, we will get $x_{i(1)} = - x_{i(1)}$, which only have a solution if $x_{i(1)} = 0$.\n",
    "Thus, $\\bf x$ must be a zero vector and hence, $rank(B) = n$. $QED$"
   ]
  },
  {
   "cell_type": "markdown",
   "id": "cooked-strategy",
   "metadata": {},
   "source": [
    "## Directed Multigraph\n",
    "A directed multigraph consists of vertices and **arcs/directed edges** such that:\n",
    "* Every edge is an arc from one vertex to another\n",
    "* Every pair of vertices are joined by a finite number of arcs\n",
    "\n",
    "If $e$ is an arc from vertex $u$ to vertex $v$, then\n",
    "* $v$ is adjacent *from* $u$ and $u$ is adjacent *to* $v$\n",
    "* $e$ is incident *from* $u$ and $e$ is incident *to* $v$\n",
    "\n",
    "$deg_G^+(v):$ **in-degree**, the number of arcs incident to v\n",
    "\n",
    "$deg_G^-(v):$ **out-degree**, the number of arcs incident from v\n",
    "\n",
    "$\\theorem$ (Handshaking lemma) \n",
    "$$\n",
    "\\sum deg_G^-(v) = \\sum deg_G^+(v) = m\n",
    "$$\n",
    "\n",
    "$\\proof$ Simply observe that each arc contribute 1 to the in-degree and out-degree."
   ]
  },
  {
   "cell_type": "markdown",
   "id": "sensitive-principle",
   "metadata": {},
   "source": [
    "### Incidence matrix\n",
    "The incidence matrix for a directed multigraph is defined similarly to multigraphs:\n",
    "\n",
    "$$\n",
    "b_{i,j} = \n",
    "\\begin{cases}\n",
    "-1 \\text{ if $e_j$ is incident from $v_i$} \\\\\n",
    "1 \\text{ if $e_j$ is incident to $v_i$} \\\\\n",
    "0 \\text{ otherwise}\n",
    "\\end{cases}\n",
    "$$"
   ]
  },
  {
   "cell_type": "markdown",
   "id": "everyday-arrest",
   "metadata": {},
   "source": [
    "$\\theorem$ Given a connected directed multigraph $G$, $rank(B(G)) = n-1$\n",
    "\n",
    "$\\proof$ By a similar construction in the [previous theorem](#T-rank-multigraph), we will obtain that,\n",
    "\n",
    "$$\n",
    "x_i - x_j = 0 \n",
    "\\Rightarrow \n",
    "x_i = x_j \\text{ for all } v_i v_j \\in E(G)\n",
    "$$\n",
    "\n",
    "Hence, the nullspace of $B^T$ is spanned by $(1,\\dots,1)^T$.\n",
    "Thus, $rank(B) = n - 1$. $QED$"
   ]
  },
  {
   "cell_type": "code",
   "execution_count": null,
   "id": "elementary-marijuana",
   "metadata": {},
   "outputs": [],
   "source": []
  }
 ],
 "metadata": {
  "kernelspec": {
   "display_name": "Python 3",
   "language": "python",
   "name": "python3"
  },
  "language_info": {
   "codemirror_mode": {
    "name": "ipython",
    "version": 3
   },
   "file_extension": ".py",
   "mimetype": "text/x-python",
   "name": "python",
   "nbconvert_exporter": "python",
   "pygments_lexer": "ipython3",
   "version": "3.6.8"
  }
 },
 "nbformat": 4,
 "nbformat_minor": 5
}
