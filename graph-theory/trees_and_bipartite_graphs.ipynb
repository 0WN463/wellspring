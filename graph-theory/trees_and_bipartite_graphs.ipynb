{
 "cells": [
  {
   "cell_type": "markdown",
   "id": "thirty-innocent",
   "metadata": {
    "deletable": false,
    "editable": false,
    "run_control": {
     "frozen": true
    }
   },
   "source": [
    "$$\n",
    "\\newcommand{theorem}{\\textbf{Theorem: }}\n",
    "\\newcommand{proof}{\\textbf{Proof: }}\n",
    "\\newcommand{lemma}{\\textbf{Lemma: }}\n",
    "\\newcommand{corollary}{\\textbf{Corollary: }}\n",
    "\\newcommand{prop}{\\textbf{Proposition: }}\n",
    "$$"
   ]
  },
  {
   "cell_type": "markdown",
   "id": "expressed-wisdom",
   "metadata": {
    "deletable": false,
    "editable": false,
    "run_control": {
     "frozen": true
    }
   },
   "source": [
    "# Trees and Bipartite Graphs\n",
    "## Cut-vertices and Bridges\n",
    "A vertex is a **cut-vertex** if and only if $c(G-v) > c(G)$, meaning that removing the vertex disconnects $G$.\n",
    "\n",
    "An edge is a **bridge** if and only if $c(G-e) > c(G)$, meaning that removing the edge disconnects $G$.\n",
    "\n",
    "$\\lemma$ If $e$ is a bridge, then $c(G-e) = c(G) + 1$. In particular, $c(G-e) = 2$ if $e$ is a bridge in a connected graph. <a id='L-bridge-components'></a>\n",
    "\n",
    "<details>\n",
    "    <summary style=\"color: blue\">$\\proof$ (Click to expand)</summary>\n",
    "    <div style=\"background: aliceblue\">\n",
    "        Suppose that $e$ connects components $S_i$ and $S_j$ in $G-e$.\n",
    "        If $S_i = S_j$, then $G-e$ must still be connected, which is a contradiction.\n",
    "        Thus, $e$ must be connected across two different components in $G-e$.\n",
    "        And hence, the removal of $e$ must increase the number of components by 1. $QED$\n",
    "    </div>\n",
    "</details>"
   ]
  },
  {
   "cell_type": "markdown",
   "id": "bright-third",
   "metadata": {
    "deletable": false,
    "editable": false,
    "run_control": {
     "frozen": true
    }
   },
   "source": [
    "$\\lemma$ $e$ is a bridge if and only if $e$ does not contained in any cycle in $G$\n",
    "\n",
    "<details>\n",
    "    <summary style=\"color: blue\">$\\proof$ (Click to expand)</summary>\n",
    "    <div style=\"background: aliceblue\">\n",
    "Suppose that $e$ is a bridge.\n",
    "Assume that $e$ is in some cycle $C$ of $G$.\n",
    "Notice that if we remove $e$, the components belonging to each endpoints will not be separated as they are still connected by the other path in $C$.\n",
    "Hence, it cannot be the case that $e$ is in some cycle of $G$.\n",
    "\n",
    "Suppose $e$ is not a bridge.\n",
    "Then its removal must maintain the connectedness of the two endpoints $u,v$.\n",
    "This means there must be a $u-v$ path in $G-e$.\n",
    "Adding back in the $e$ results in cycle in $G$.\n",
    "$QED$\n",
    "    </div>\n",
    "</details>"
   ]
  },
  {
   "cell_type": "markdown",
   "id": "three-waterproof",
   "metadata": {
    "deletable": false,
    "editable": false,
    "run_control": {
     "frozen": true
    }
   },
   "source": [
    "$\\lemma$ Let $e=uv$ is a bridge in $G$. $v$ is a cut-vertex if and only if $deg_G(v) \\geq 2$\n",
    "\n",
    "<details>\n",
    "    <summary style=\"color: blue\">$\\proof$ (Click to expand)</summary>\n",
    "    <div style=\"background: aliceblue\">\n",
    "Consider the components $G_u, G_v$ in $G-e$ that created by the removal of $e$.\n",
    "If $deg_G(v) \\geq 2$, then $G_v - v$ is non-empty and thus $G-v$ must be disconnected.\n",
    "\n",
    "If $deg_G(v) = 1$, then $G_v - v$ is empty, and thus $G-v$ is not disconnected.$QED$\n",
    "    </div>\n",
    "</details>\n",
    "\n",
    "In other words, this means that leaf vertices cannot be a cut-vertex."
   ]
  },
  {
   "cell_type": "markdown",
   "id": "announced-desert",
   "metadata": {
    "deletable": false,
    "editable": false,
    "run_control": {
     "frozen": true
    }
   },
   "source": [
    "## Trees\n",
    "A **forest** is a graph with no cycles.\n",
    "\n",
    "A **tree** is a connected forest, denoted as $T_n$.\n",
    "\n",
    "$\\theorem$ $G$ is a forest if and only if every edge is a bridge.\n",
    "<details>\n",
    "    <summary style=\"color: blue\">$\\proof$ (Click to expand)</summary>\n",
    "    <div style=\"background: aliceblue\">\n",
    "Suppose $G$ is a forest.\n",
    "Then it does not contain a cycle, and thus every edge is not part of any cycle in $G$.\n",
    "By the previous theorem, it means that every edge is a bridge.\n",
    "\n",
    "Suppose that G is not forest.\n",
    "Then there exists some cycle in $G$.\n",
    "By the previous theorem, it means that those edges in the cycles are not bridges, thus $G$ contains non-bridge edges. $QED$\n",
    "    </div>\n",
    "</details>"
   ]
  },
  {
   "cell_type": "markdown",
   "id": "treated-connectivity",
   "metadata": {
    "deletable": false,
    "editable": false,
    "run_control": {
     "frozen": true
    }
   },
   "source": [
    "$\\theorem$ $G$ is a tree if and only if every vertices $u,v$ are joined by a unique $u-v$ path\n",
    "\n",
    "<details>\n",
    "    <summary style=\"color: blue\">$\\proof$ (Click to expand)</summary>\n",
    "    <div style=\"background: aliceblue\">\n",
    "Suppose $G$ is a tree.\n",
    "Assume that the $u-v$ path is not unique.\n",
    "Then notice that combination of the two $u-v$ path must contain a cycle, which is a contradiction.\n",
    "Thus, the $u-v$ path must be unique.\n",
    "\n",
    "Suppose that $G$ is not a tree.\n",
    "This means that $G$ is disconnected or there must be a cycle.\n",
    "If $G$ is disconnected, then there is no $u-v$ path joining $u,v$ belonging to different components.\n",
    "Notice that in the cycle, there exists 2 $u-v$ path for vertices $u,v$ in the cycle.\n",
    "Hence, the $u-v$ path is not unique. $QED$\n",
    "    </div>\n",
    "</details>\n",
    "\n",
    "$\\corollary$ $G$ is a forest if and only if every two vertices are joined by at most one path.\n",
    "\n",
    "<details>\n",
    "    <summary style=\"color: blue\">$\\proof$ (Click to expand)</summary>\n",
    "    <div style=\"background: aliceblue\">\n",
    "Decompose $G$ into the trees $G_1, G_2, \\dots, G_k$ then apply the previous theorem.\n",
    "    </div>\n",
    "</details>\n",
    "\n",
    "---"
   ]
  },
  {
   "cell_type": "markdown",
   "id": "amazing-referral",
   "metadata": {
    "deletable": false,
    "editable": false,
    "run_control": {
     "frozen": true
    }
   },
   "source": [
    "$\\theorem$ A **connected** graph $G$ is a tree if and only if $m = n-1$.\n",
    "<details>\n",
    "    <summary style=\"color: blue\">$\\proof$ (Click to expand)</summary>\n",
    "    <div style=\"background: aliceblue\">\n",
    "Suppose $n=1$, then $m=0$ and the hypothesis is true.\n",
    "Suppose that $G$ is a tree with $n$ vertices.\n",
    "For any edge $e$ in $E(G)$, it is a bridge and thus removing it will result in two components in $G-e$ with $n_1, n_2$ vertices respectively.\n",
    "Since the subgraph of $G$ is also free of cycles, they must also be trees.\n",
    "By induction hypothesis, the number of edges in the components are $m_1 = n_1 - 1, m_2 = n_2 - 1$.\n",
    "Thus, in our original graph, $m = m_1 + m_2 + 1 = n_1 -1 + n_2 - 1 + 1 = n - 1$\n",
    "\n",
    "Suppose $m=n-1$.\n",
    "Consider $$\\sum deg_G(v) = 2m = 2n - 2$$\n",
    "If every vertex of $G$ has degree at least 2, then $\\sum deg_G(v) \\geq 2n$ which is a contradiction.\n",
    "Also, since $G$ is connected, none of the vertices have degree 0\n",
    "Hence, there must exist some leaf vertex with degree 1.\n",
    "Thus, we can remove this vertex and retain connectedness of the graph.\n",
    "The resultant graph has $m' = m-1$ and $n' = n-1 = m-1-1 = m' - 1$. By induction hypothesis, the resultant graph must be tree.\n",
    "\n",
    "Notice that the addition of the leaf vertex cannot generate a cycle since the new vertex has degree 1.\n",
    "Hence, $G$ must have been a tree. $QED$\n",
    "    </div>\n",
    "</details>\n"
   ]
  },
  {
   "cell_type": "markdown",
   "id": "identified-contractor",
   "metadata": {
    "deletable": false,
    "editable": false,
    "run_control": {
     "frozen": true
    }
   },
   "source": [
    "---\n",
    "$\\corollary$ For a forest $G$, $m = n - c(G)$\n",
    "\n",
    "<details>\n",
    "    <summary style=\"color: blue\">$\\proof$ (Click to expand)</summary>\n",
    "    <div style=\"background: aliceblue\">\n",
    "We denote the components of $G$ as $G_1, \\dots G_k$.\n",
    "Since each $G_k$ is a tree, let the number of vertices be $n_i$.\n",
    "Thus, we get \n",
    "\n",
    "$$\n",
    "m = (n_1 -1) + \\dots + (n_k -1) = n - k = n - c(G)\n",
    "$$$QED$\n",
    "    </div>\n",
    "</details>"
   ]
  },
  {
   "cell_type": "markdown",
   "id": "complex-compiler",
   "metadata": {
    "deletable": false,
    "editable": false,
    "run_control": {
     "frozen": true
    }
   },
   "source": [
    "$\\corollary$ If $m \\geq n$, then $G$ contains a cycle\n",
    "<details>\n",
    "    <summary style=\"color: blue\">$\\proof$ (Click to expand)</summary>\n",
    "    <div style=\"background: aliceblue\">\n",
    "Suppose $G$ is cycle free, then $G$ must be a forest\n",
    "Using the above, it is clear that $m = n - c(G) < n$\n",
    "\n",
    "Using the contrapositive, we will get our result. $QED$\n",
    "    </div>\n",
    "</details>"
   ]
  },
  {
   "cell_type": "markdown",
   "id": "interior-viewer",
   "metadata": {
    "deletable": false,
    "editable": false,
    "run_control": {
     "frozen": true
    }
   },
   "source": [
    "$\\corollary$ For any graph $G$ with $m < n$, $c(G) \\geq n-m$\n",
    "\n",
    "<details>\n",
    "    <summary style=\"color: blue\">$\\proof$ (Click to expand)</summary>\n",
    "    <div style=\"background: aliceblue\">\n",
    "Consider the <a href='#spanning-tree'>spanning tree</a> $T$ of $G$. Clearly $c(G) = c(T)$. It follows that $e(T) \\leq m$.\n",
    "        Which means $$c(G) = c(T) = v(T) - e(G) \\geq n-m$$\n",
    "        $QED$\n",
    "    </div>\n",
    "</details>"
   ]
  },
  {
   "cell_type": "markdown",
   "id": "contained-antibody",
   "metadata": {
    "deletable": false,
    "editable": false,
    "run_control": {
     "frozen": true
    }
   },
   "source": [
    "$\\corollary$ For any graph $G$, $n - c(G) \\leq m \\leq C^{n-c(G)}_2$\n",
    "\n",
    "<details>\n",
    "    <summary style=\"color: blue\">$\\proof$ (Click to expand)</summary>\n",
    "    <div style=\"background: aliceblue\">\n",
    "        The first inequality follows from the previous corollary.\n",
    "        The second inequality follows from noticing that the largest number of edges is obtained when there is one complete graph with order $n-c(G)$ and $c(G)-1$ isolated vertices.\n",
    "    </div>\n",
    "</details>"
   ]
  },
  {
   "cell_type": "markdown",
   "id": "cooperative-client",
   "metadata": {
    "deletable": false,
    "editable": false,
    "run_control": {
     "frozen": true
    }
   },
   "source": [
    "$\\corollary$ For any graph $G$ with $m > C^{n-1}_2$, it is connected\n",
    "\n",
    "<details>\n",
    "    <summary style=\"color: blue\">$\\proof$ (Click to expand)</summary>\n",
    "    <div style=\"background: aliceblue\">\n",
    "        This follows from the previous corollary by noticing that $c(G)$ must be equals to 1.\n",
    "    </div>\n",
    "</details>"
   ]
  },
  {
   "cell_type": "markdown",
   "id": "patient-penguin",
   "metadata": {
    "deletable": false,
    "editable": false,
    "run_control": {
     "frozen": true
    }
   },
   "source": [
    "---\n",
    "$\\prop$ For any tree $T$ with order $\\geq 2$, $T$ is a path if and only if it has exactly two leaves.\n",
    "\n",
    "<details>\n",
    "    <summary style=\"color: blue\">$\\proof$ (Click to expand)</summary>\n",
    "    <div style=\"background: aliceblue\">\n",
    "\n",
    "Suppose we have a tree with exactly two leaves $u,v$.\n",
    "If $n = 2$, then there are two leaves and it is indeed a path.\n",
    "If $n > 2$, by handshaking lemma:\n",
    "\n",
    "$$\n",
    "\\sum_{w \\in V(G)} deg(w) = 2m = 2(n-1)\n",
    "$$\n",
    "\n",
    "Also notice that \n",
    "$$\n",
    "\\sum_{w \\in V(G)} deg(w)  = deg(u) + deg(v) +  \\sum_{w \\in V(G) \\setminus \\{u, v\\}} deg(w) \\geq 2 +  2(n-2) = 2(n-1) \n",
    "$$\n",
    "\n",
    "Which means that equality must hold in the second equation, thus every other vertex in $T$ must have degree 2.\n",
    "It follows that if we remove $u$ from $T$, the only neighbour of $u$ must have degree 1 in $T -u$, meaning there is still 2 leaves in $T-u$.\n",
    "Since $T-u$ is a path by the induction hypothesis, it follows that $T$ must also be a path. \n",
    "\n",
    "For the converse, it is simply true by definition.\n",
    "$QED$\n",
    "    </div>\n",
    "</details>\n",
    "\n",
    "---"
   ]
  },
  {
   "cell_type": "markdown",
   "id": "reported-french",
   "metadata": {
    "deletable": false,
    "editable": false,
    "run_control": {
     "frozen": true
    }
   },
   "source": [
    "$\\prop$ Any sequence of positive integers $d_1, \\dots, d_n)$ is a degree sequence of a tree if and only if\n",
    "$$\n",
    "\\sum _{i=1} ^n d_i = 2(n-1)\n",
    "$$\n",
    "\n",
    "<details>\n",
    "    <summary style=\"color: blue\">$\\proof$ (Click to expand)</summary>\n",
    "    <div style=\"background: aliceblue\">\n",
    "\n",
    "The forward direction is true simply by handshaking lemma.\n",
    "\n",
    "For the converse, we will prove it by induction on $n$.\n",
    "\n",
    "When $n = 2$, the only sequence that can sum to 2 is (1,1).\n",
    "This is a degree sequence of $K_2$, which is a tree.\n",
    "\n",
    "When $n > 2$, suppose all $d_i \\geq 2$.\n",
    "Then we get \n",
    "$$\n",
    "\\sum _{i=1} ^n d_i \\geq 2n > 2(n-1)\n",
    "$$\n",
    "\n",
    "Hence, $d_a = 1$ for some $d_a$. \n",
    "\n",
    "Now suppose all $d_i = 1$.\n",
    "Then we get \n",
    "$$\n",
    "\\sum _{i=1} ^n d_i = n < 2(n-1)\n",
    "$$\n",
    "\n",
    "Hence, $d_b \\geq 2$ for some $d_b$.\n",
    "\n",
    "Without loss of generality, we can assign $a = n$ and $b = 1$.\n",
    "\n",
    "Now, consider a shorter sequence $(d_1-1, \\dots, d_{n-1})$.\n",
    "\n",
    "This is a tree of order $n-1$ by the induction hypothesis.\n",
    "\n",
    "Now we add an vertex $v_n$ and make it adjacent to $v_1$.\n",
    "This will give us a tree with degree sequence $(d_1, \\dots, d_{n})$.\n",
    "Thus, our sequence is indeed a degree sequence of a tree. \n",
    "$QED$\n",
    "    </div>\n",
    "</details>\n",
    "\n",
    "---"
   ]
  },
  {
   "cell_type": "markdown",
   "id": "informative-officer",
   "metadata": {
    "deletable": false,
    "editable": false,
    "run_control": {
     "frozen": true
    }
   },
   "source": [
    "## Spanning Tree <a id='spanning-tree'></a>\n",
    "A **spanning tree** is a tree that is a subgraph of $G$ that contains all the vertices in $V(G)$.\n",
    "\n",
    "$\\theorem$ $G$ is connected if and only if it contains a spanning tree\n",
    "<details>\n",
    "    <summary style=\"color: blue\">$\\proof$ (Click to expand)</summary>\n",
    "    <div style=\"background: aliceblue\">\n",
    "Suppose $G$ is connected.\n",
    "If $G$ is a tree, then it itself is a spanning tree.\n",
    "If not, then there must exists some non-bridge edge $e$ in $G$.\n",
    "We can remove this edge and focus on the resultant graph $G-e$.\n",
    "This graph must still be connected as $e$ is not a bridge.\n",
    "We can repeat this until every edge is a bridge, meaning we get a tree.\n",
    "This tree is a spanning tree.\n",
    "\n",
    "Suppose $H$ is the spanning tree in $G$.\n",
    "Since $H$ is connected, it follows that $G$ must also be connected. $QED$\n",
    "    </div>\n",
    "</details>"
   ]
  },
  {
   "cell_type": "markdown",
   "id": "tamil-watershed",
   "metadata": {
    "deletable": false,
    "editable": false,
    "run_control": {
     "frozen": true
    }
   },
   "source": [
    "### Algorithms\n",
    "To find the spanning tree, we have the following algorithms\n",
    "\n",
    "#### Depth First Seach\n",
    "Refer to [Algorithm Analysis](../algorithm-analysis/graph_algorithms.ipynb#dfs)\n",
    "#### Breadth First Search\n",
    "Refer to [Algorithm Analysis](../algorithm-analysis/graph_algorithms.ipynb#bfs)"
   ]
  },
  {
   "cell_type": "markdown",
   "id": "white-presentation",
   "metadata": {
    "deletable": false,
    "editable": false,
    "run_control": {
     "frozen": true
    }
   },
   "source": [
    "## Bipartite Graphs\n",
    "A graph is **bipartite** if the vertex set can be decomposed into the disjoint union of two subsets $V_1, V_2$ such that there is no edge within vertices of $V_i$.\n",
    "\n",
    "$V_i$ are the **bipartite sets/partite sets** and $(V_1, V_2)$ is the **bipartition/partition** of $G$.\n",
    "\n",
    "$K_{p,q}$: complete bipartite graph with $|V_1| = p$ and $|V_2| = q$\n",
    "\n",
    "$K_{1,q}, K_{p,1}$: star graph"
   ]
  },
  {
   "cell_type": "markdown",
   "id": "disciplinary-offering",
   "metadata": {
    "deletable": false,
    "editable": false,
    "run_control": {
     "frozen": true
    }
   },
   "source": [
    "Properties:\n",
    "* $\\sum _{v \\in V_1} deg(v) = \\sum _{v \\in V_2} (v) = e(G)$\n",
    "\n",
    "$\\lemma$ If a graph $G$ has a closed walk of odd length, then it has a cycle of odd length\n",
    "\n",
    "<details>\n",
    "    <summary style=\"color: blue\">$\\proof$ (Click to expand)</summary>\n",
    "    <div style=\"background: aliceblue\">\n",
    "Consider the minimum closed walk in $G$.\n",
    "Suppose that it does contains a repeated vertex.\n",
    "Notice that we can split it up to two closed walks, one up to this repeated vertex and the other from this point onwards.\n",
    "Since the walk is odd length, one of the two closed walks must be odd length also.\n",
    "However, this contradicts the assumption that the walk is minimum.\n",
    "Hence, the walk cannot contain a repeated vertex and thus must be a cycle of odd length. $QED$\n",
    "    </div>\n",
    "</details>"
   ]
  },
  {
   "cell_type": "markdown",
   "id": "thrown-walker",
   "metadata": {
    "deletable": false,
    "editable": false,
    "run_control": {
     "frozen": true
    }
   },
   "source": [
    "<a id='T-odd-cycle'></a>\n",
    "$\\theorem$ A nontrivial graph $G$ is bipartite if and only if $G$ has no odd cycles\n",
    "\n",
    "<details>\n",
    "    <summary style=\"color: blue\">$\\proof$ (Click to expand)</summary>\n",
    "    <div style=\"background: aliceblue\">\n",
    "Suppose $G$ is bipartite.\n",
    "Assume that $G$ contains an odd cycle of size $k$, $v_0, v_1, \\dots, v_k = v_0$ where $k$ is odd.\n",
    "Without loss of generality, suppose that the partition assigns $v_0$ to $V_1$.\n",
    "This means that $v_1$ must be in $V_2$, and in general, $v_i$ is in $V_1$ if $i$ is even, $V_2$ otherwise.\n",
    "However, consider $v_{k-1}$. \n",
    "It must be even, thus it must belong to $V_1$.\n",
    "However, it is also adjacent to $v_k = v_0$, which belongs to $V_1$ also, which violates the definition of a partition.\n",
    "Hence, $G$ does not contain an odd cycle.\n",
    "\n",
    "Suppose that $G$ contains no odd cycle.\n",
    "Since $G$ is bipartite if and only if its components are bipartite, we can assume that $G$ is connected.\n",
    "We select any vertex $x$ in $G$ and for every other vertex $v$, we put it in the partition $V_1$ if $d(x, v)$ is even, otherwise in $V_2$.\n",
    "\n",
    "We will prove that this is a valid partition.\n",
    "Suppose that there exists an edge joining $u,v$ for $u,v \\in V_1$.\n",
    "Looking at the minimum $x-u$ and $v-x$ path, we notice that since $u,v$ are in the same partition, they must have the same parity.\n",
    "Thus, the $x-u-v-x$ closed walk must be odd.\n",
    "By the previous lemma, this means that there exists some odd cycle, which contradicts our assumption.\n",
    "Hence, there will not be an edge between two vertices of the same partition and thus the partition must be valid. $QED$\n",
    "    </div>\n",
    "</details>"
   ]
  },
  {
   "cell_type": "markdown",
   "id": "vulnerable-affiliation",
   "metadata": {
    "deletable": false,
    "editable": false,
    "run_control": {
     "frozen": true
    }
   },
   "source": [
    "$\\theorem$ All forest/tree are bipartite\n",
    "<details>\n",
    "    <summary style=\"color: blue\">$\\proof$ (Click to expand)</summary>\n",
    "    <div style=\"background: aliceblue\">\n",
    "Since they do not contain a cycle, they cannot contain an odd cycle. By the previous theorem, they must be bipartite. $QED$\n",
    "    </div>\n",
    "</details>"
   ]
  },
  {
   "cell_type": "markdown",
   "id": "talented-ebony",
   "metadata": {
    "deletable": false,
    "editable": false,
    "run_control": {
     "frozen": true
    }
   },
   "source": [
    "$\\prop$ $g(G) \\geq 4$ for bipartite graph.\n",
    "\n",
    "<details>\n",
    "    <summary style=\"color: blue\">$\\proof$ (Click to expand)</summary>\n",
    "    <div style=\"background: aliceblue\">\n",
    "        This follows from the fact that bipartite graph contains no odd cycles, in particular no triangles.\n",
    "    </div>\n",
    "</details>\n"
   ]
  },
  {
   "cell_type": "code",
   "execution_count": null,
   "id": "suspected-northern",
   "metadata": {},
   "outputs": [],
   "source": []
  }
 ],
 "metadata": {
  "kernelspec": {
   "display_name": "Python 3",
   "language": "python",
   "name": "python3"
  },
  "language_info": {
   "codemirror_mode": {
    "name": "ipython",
    "version": 3
   },
   "file_extension": ".py",
   "mimetype": "text/x-python",
   "name": "python",
   "nbconvert_exporter": "python",
   "pygments_lexer": "ipython3",
   "version": "3.6.8"
  }
 },
 "nbformat": 4,
 "nbformat_minor": 5
}
