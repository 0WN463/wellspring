{
 "cells": [
  {
   "cell_type": "markdown",
   "id": "instrumental-associate",
   "metadata": {
    "deletable": false,
    "editable": false,
    "run_control": {
     "frozen": true
    }
   },
   "source": [
    "$$\n",
    "\\newcommand{theorem}{\\textbf{Theorem: }}\n",
    "\\newcommand{proof}{\\textbf{Proof: }}\n",
    "\\newcommand{lemma}{\\textbf{Lemma: }}\n",
    "\\newcommand{corollary}{\\textbf{Corollary: }}\n",
    "\\newcommand{prop}{\\textbf{Proposition: }}\n",
    "$$"
   ]
  },
  {
   "cell_type": "markdown",
   "id": "exclusive-typing",
   "metadata": {
    "deletable": false,
    "editable": false,
    "run_control": {
     "frozen": true
    }
   },
   "source": [
    "# Matching\n",
    "A matching $M$ is a non-empty set of **non-adjacent** edges in $G$.\n",
    "\n",
    "If a vertex is incident to an edge in $M$, it is **$M$-saturated**.\n",
    "\n",
    "If it is not, it is **$M$-single**"
   ]
  },
  {
   "cell_type": "markdown",
   "id": "chemical-infrastructure",
   "metadata": {
    "deletable": false,
    "editable": false,
    "run_control": {
     "frozen": true
    }
   },
   "source": [
    "$M$ is **maximal** if there is no matching in $G$ that properly contains $M$.\n",
    "\n",
    "$M$ is **maximum** if $|M|$ is the largest among all matchings of $G$.\n",
    "\n",
    "$M$ is **perfect** every vertex in $G$ is $M$-saturated\n",
    "\n",
    "It follows that:\n",
    "* A perfect matching may not exists\n",
    "* If a perfect matching exists, it is also maximum\n",
    "* A maximum matching is maximal, but the converse is not necessarily true.\n",
    "\n",
    "A path $P$ is **alternating** with respect to $M$ if each edge in $P$ is alternatively in $M$ and not in $M$.\n",
    "\n",
    "A non-trivial alternating path with respect to $M$ is **augmenting** if its two endpoints are $M$-single.\n",
    "\n",
    "\n",
    "Given an augmenting path with respect to $M$, the matching obtained by choosing every edge in $P$ but not in $M$ is call the matching by **augmenting** $M$ along $P$.\n",
    "\n",
    "The **symmetric difference** of two sets $A,B$ denoted by $A \\Delta B$, is a new set which contains all the elements that is only in $A$ and all the elements that are only in $B$. Meaning $A \\Delta B = (A \\setminus B) \\cup (B \\setminus A)$\n",
    "\n",
    "\n"
   ]
  },
  {
   "cell_type": "markdown",
   "id": "particular-register",
   "metadata": {
    "deletable": false,
    "editable": false,
    "run_control": {
     "frozen": true
    }
   },
   "source": [
    "$\\theorem$ (Berge) A matching is maximum if and only if there is no augmenting path with respect to $M$. <a id='T-berge'></a>\n",
    "\n",
    "<details>\n",
    "    <summary style=\"color: blue\">$\\proof$ (Click to expand)</summary>\n",
    "    <div style=\"background: aliceblue\">\n",
    "\n",
    "Suppose there exists an augmenting path.\n",
    "We can create a matching by augmenting $M$ along $P$.\n",
    "This matching has 1 more edge.\n",
    "Thus, $M$ is not maximum.\n",
    "\n",
    "---\n",
    "\n",
    "Suppose $M$ is not maximum.\n",
    "Then there exists $M^*$, such that $|M^*| > |M|$.\n",
    "We consider $M \\Delta M^*$.\n",
    "Since each vertex can only be incident to 1 edge in $M$ and 1 in $M^*$, the maximum degree is at most 2.\n",
    "Thus, the induced graph contains paths and cycles.\n",
    "However, it cannot contain only cycles, since that would require $M^*$ and $M$ to be of equal size.\n",
    "Thus, there must contain a path, which by construction contains edges that alternates in $M$ and $M'$.\n",
    "This is our desired augmenting path.\n",
    "$QED$\n",
    "    </div>\n",
    "</details>\n"
   ]
  },
  {
   "cell_type": "markdown",
   "id": "union-killing",
   "metadata": {
    "deletable": false,
    "editable": false,
    "run_control": {
     "frozen": true
    }
   },
   "source": [
    "A component is **odd** if it contains an odd number of vertices, even otherwise.\n",
    "\n",
    "The number of odd components of $G$ is denoted by $o(G)$.\n",
    "\n"
   ]
  },
  {
   "cell_type": "markdown",
   "id": "alpine-parent",
   "metadata": {
    "deletable": false,
    "editable": false,
    "run_control": {
     "frozen": true
    }
   },
   "source": [
    "$\\theorem$ (Tutte) $G$ has a perfect matching if and only if every proper subset $S$ of $V(G)$ satisfy.\n",
    "\n",
    "$$\n",
    "o(G - S) \\leq |S|\n",
    "$$\n",
    "\n",
    "<details>\n",
    "    <summary style=\"color: blue\">$\\proof$ (Click to expand)</summary>\n",
    "    <div style=\"background: aliceblue\">\n",
    "\n",
    "Suppose $G$ has a perfect matching $M$.\n",
    "Let $S$ be a proper subset of the vertices and consider each odd components of $G-S$.\n",
    "For each component, since it is odd, we cannot pair up all the vertices in the component, which means that there must be some vertex in the component that is matched to some vertex in $S$.\n",
    "Thus, $o(G-S) \\leq |S|$\n",
    "        \n",
    "---\n",
    "        \n",
    "Assume that there is a counterexample $G$ such that $o(G-S) \\leq |S|$ for all $S$ but $G$ is has no perfect matching.\n",
    "For a given $n$, we select $G$ with the largest size.\n",
    "\n",
    "When $S = \\emptyset, o(G) = 0$, which means $n$ is even.\n",
    "It follows that if $G$ is complete, then it has a perfect matching.\n",
    "\n",
    "---\n",
    "\n",
    "Suppose $G$ is incomplete, we can add an edge $e$ to $G$ between non-adjacent vertices to obtain $G'$.\n",
    "\n",
    "If $e$ is incident to some vertex in $S$, then $G'-S = G -S$, because it would have been removed if we remove the vertex in $S$.\n",
    "Thus, $o(G'-S) = o(G-S) \\leq |S|$ still holds.\n",
    "\n",
    "If $e$ is not incident to any vertex in $S$, observe that the number of odd components cannot increase in $G'-S$, because either $e$ connects an odd and an even component, or two even components, where $o(G'-S)$ remains unchanged; or it connects two odd components where $o(G'-S)$ reduces by 2.\n",
    "Thus, $o(G'-S) \\leq o(G-S) \\leq |S|$ still holds.\n",
    "\n",
    "And since $G'$ has a larger size, it has a perfect matching.\n",
    "\n",
    "Now we consider when $S$ is the set of vertices that are adjacent to all other vertices in $G$.\n",
    "Let $H$ be any component of $G-S$.\n",
    "\n",
    "Suppose $H$ is not complete, this means that $v(H) \\geq 3$.\n",
    "Also, there must exists vertices $u, v \\in H$ are distance 2 apart.\n",
    "Let $w$ be the common neighbour of $u,v$.\n",
    "\n",
    "Since $w$ is not in $S$, it is not adjacent to every other vertex, thus there must exists another vertex $x$ that is not adjacent to it.\n",
    "\n",
    "Since $G+e$ has a perfect matching, $G+uv$ and $G+wx$ must have a perfect matching $M_1, M_2$ respectively.\n",
    "Notice that $M_1' = M_1 \\setminus \\{uv\\}$ and $M_2' = M_2 \\setminus \\{wx\\}$ are both maximum matching of $G$.\n",
    "\n",
    "Notice that $x$ is $M'_1$-saturated since the matching is perfect.\n",
    "Also, $uv$ must have been used in $M_1$, otherwise $G$ would have a perfect matching.\n",
    "Thus, $u,v$ are $M'_1$-single and are the only $M'_1$ single vertices since the $M_1$ is perfect.\n",
    "\n",
    "Similarly $x$ is $M'_2$-single because $M_2$ must have used the edge $wx$.\n",
    "\n",
    "Starting from $x$, we construct a maximal path $P$ which alternates between edges in $M_1'$ and $M_2'$.\n",
    "By maximality of $P$, it must end at a vertex that is single with respect to either of the matching.\n",
    "But by the previous theorem, it cannot end in a $M'_2$-single vertex otherwise there is an augmenting path.\n",
    "Thus, it must end at a $M'_1$-single vertex, which can only be $u$ or $v$. (We assume $u$ without loss of generality)\n",
    "\n",
    "Thus, in $G+wx$, $P, w, x$ is an even cycle $C$, by noticing the alternating edges.\n",
    "We consider $C \\Delta M_2$.\n",
    "Notice that all the edges in $C$ belonging to $M_1$ will be in this set, and so is $wu$ which is in neither $M_1$ or $M_2$.\n",
    "One can see that every vertex in $C$ is saturated.\n",
    "Noting that every vertex in $C$ is also $M_2$ saturated by the edges in $C$ belonging to $M_2$, the rest of the edges in $M_2$ cannot be incident to any vertex in $C$, meaning $M_2 \\setminus C$ must match the rest of the vertices outside of $C$ perfectly without using any vertex in $C$.\n",
    "It follows that $C \\Delta M_2$ must be perfect.\n",
    "\n",
    "Hence, $H$ must be complete.\n",
    "This means that every pair of vertices in the odd compnent can be paired up, except one.\n",
    "For this last vertex in each component, we can match it to a vertex in $S$ since vertices in $S$ is adjacent to all other vertex.\n",
    "Lastly, we can pair up the remaining vertices in $S$ since there $n$ is even.\n",
    "This is the perfect matching we desire.\n",
    "        $QED$\n",
    "    </div>  \n",
    "</details>\n"
   ]
  },
  {
   "cell_type": "markdown",
   "id": "subjective-eligibility",
   "metadata": {
    "deletable": false,
    "editable": false,
    "run_control": {
     "frozen": true
    }
   },
   "source": [
    "$\\prop$ Given a graph $G$ with order $n$ and size $m$ with not isolated vertices, there exists a matching of size $n-m$.\n",
    "\n",
    "<details>\n",
    "    <summary style=\"color: blue\">$\\proof$ (Click to expand)</summary>\n",
    "    <div style=\"background: aliceblue\">\n",
    "    Notice that $G$ has at least $n-m$ components.\n",
    "    Thus, since none of the components are isolated vertices, we can select one edge from each component to get our desired matching.\n",
    "    </div>  \n",
    "</details>\n"
   ]
  },
  {
   "cell_type": "markdown",
   "id": "inclusive-quilt",
   "metadata": {
    "deletable": false,
    "editable": false,
    "run_control": {
     "frozen": true
    }
   },
   "source": [
    "## In Bipartite Graphs\n",
    "Given a bipartite graph with partitions $(X, Y)$.\n",
    "* $M$ is complete **from $X$ to $Y$** if every vertex in $X$ is $M$-saturated. In other words, $|X| = |M|$.\n",
    "* $M$ is perfect if $|X| = |Y| = |M|$\n"
   ]
  },
  {
   "cell_type": "markdown",
   "id": "widespread-candle",
   "metadata": {
    "deletable": false,
    "editable": false,
    "run_control": {
     "frozen": true
    }
   },
   "source": [
    "We define the neighbourhood $N_G(S)$ of subset $S$ as the union of the neighbourhood of each vertex in $S$."
   ]
  },
  {
   "cell_type": "markdown",
   "id": "historic-aging",
   "metadata": {
    "deletable": false,
    "editable": false,
    "run_control": {
     "frozen": true
    }
   },
   "source": [
    "$\\theorem$ <a id='T-hall'></a>(Hall) Given a bipartite graph with partition $(X, Y)$. It has a complete matching from $X$ to $Y$ if and only if $$|S| \\leq |N_G(S)|$$ for every subset $S$ of $X$. \n",
    "\n",
    "<details>\n",
    "    <summary style=\"color: blue\">$\\proof$ (Click to expand)</summary>\n",
    "    <div style=\"background: aliceblue\">     \n",
    "Suppose $G$ has a complete matching from $X$ to $Y$.\n",
    "Then for each vertex $u \\in X$, we are able to assign it a unique vertex $v \\in Y$.\n",
    "Thus, $$|S| = |\\{v| u\\in S\\}| \\leq |N_G(S)|$$\n",
    "\n",
    "---\n",
    "        \n",
    "Suppose that $|S| = |\\{v| u\\in S\\}| \\leq |N_G(S)|$ for all $S$.\n",
    "Let $M$ be the maximum matching from $X$ to $Y$.\n",
    "By <a href='#T-berge'>Berge's Theorem</a>, there is no augmenting path with respect to $M$.\n",
    "Suppose $M$ is not complete, then there is a $M$-single vertex $u \\in X$.\n",
    "\n",
    "Let $X'$ be the set of vertices in $X$ that is reachable by an alternating path from $u$.\n",
    "Define $Y'$ likewise.\n",
    "\n",
    "Now suppose we have a vertex $u' \\in X'$ that is adjacent to some vertex $v' \\in Y$.\n",
    "If $u'v' \\in M$, then $u' \\neq u$, which means that $v' \\in Y'$.\n",
    "If $u'v' \\not \\in M$, then our alternating path can from $u$ to $u'$ can be extended to $v$, thus $v \\in Y'$.\n",
    "Thus, $|N_G(X')| \\leq |Y'|$\n",
    "\n",
    "Notice that since $M$ is maximal, there is no augmenting path, which means that there cannot be a $M$-single vertex that belongs to $Y'$.\n",
    "This means that each vertex in $Y'$ is matched to exactly one vertex in $X'\\setminus \\{u\\}$, and vice versa.\n",
    "Thus, there is a bijection between the two sets.\n",
    "Hence, $|Y'| = |X\\setminus\\{u\\}|$.\n",
    "\n",
    "However, it leads to a contradiction since   $|N_G(X')| \\leq |Y'| = |X\\setminus\\{u\\}|$.\n",
    "Thus, $M$ must be complete.\n",
    "    </div>\n",
    "</details>\n"
   ]
  },
  {
   "cell_type": "markdown",
   "id": "micro-campaign",
   "metadata": {
    "deletable": false,
    "editable": false,
    "run_control": {
     "frozen": true
    }
   },
   "source": [
    "$\\theorem$ Given a bipartite graph with partition $(X, Y)$.\n",
    "For $1 \\leq k \\leq |X|$, it has a matching of size $k$ from $X$ to $Y$ if and only if $$|S| \\leq |N_G(S)| + |X| - k$$ for every subset $S$ of $X$. \n",
    "\n",
    "<details>\n",
    "<summary style=\"color: blue\">$\\proof$ (Click to expand)</summary>\n",
    "<div style=\"background: aliceblue\">     \n",
    "<p>\n",
    "We construct a new graph $G'$ by adding $|X| - k$ vertices to $Y$ (we define $Y^*$ as the added vertices), and connected all of them to every vertex in $X$.\n",
    "</p>\n",
    "<p>\n",
    "If $G$ has a matching of size $k$ from $X$ to $Y$, then there will be a complete matching from $X$ to $Y$ in $G'$.\n",
    "By Hall's theorem,\n",
    " $$\n",
    " |S| \\leq |N_{G'}(S)| = |N_G(S)| + |Y^*| = |N_G(S)| + |X| - k\n",
    " $$\n",
    "</p>\n",
    "<hr>\n",
    "<p>\n",
    "If for every $S \\subseteq X$.\n",
    "$$\n",
    "|S| \\leq |N_G(S)| + |X| - k\n",
    "$$\n",
    "Since $N_{G'}(S) = N_G(S) \\cup Y^*$, we get \n",
    "$$\n",
    "|S| \\leq |N_G(S)| + |X| - k = |N_G(S)| + |Y^*| = |N_{G'}(S)| \n",
    "$$\n",
    "Thus there is a complete matching $M'$ from $X$ to $Y$ in $G'$.\n",
    "Removing the vertices that are matched to vertices in $Y^*$ in $M'$, we get $M$\n",
    "$$\n",
    "|M| = |M'| - |Y^*| = |X| - (|X| - k) = k\n",
    "$$\n",
    "$QED$\n",
    "</p>\n",
    "</div>\n",
    "</details>\n"
   ]
  },
  {
   "cell_type": "markdown",
   "id": "combined-naples",
   "metadata": {
    "deletable": false,
    "editable": false,
    "run_control": {
     "frozen": true
    }
   },
   "source": [
    "$\\lemma$ Given a bipartite graph with partition $(X, Y)$.\n",
    "Given $S \\subseteq X$, let $E_1$ be the set of edges incident to vertices in $S$ and $E_2$ the set of edges incident to vertices in $N_G(S)$.\n",
    "Then $E_1 \\subseteq E_2$.\n",
    "\n",
    "<details>\n",
    "<summary style=\"color: blue\">$\\proof$ (Click to expand)</summary>\n",
    "<div style=\"background: aliceblue\">     \n",
    "<p>\n",
    "Let $xy \\in E_1$, with $x \\in X, y \\in Y$.\n",
    "Then $x \\in S$, and $y \\in N_G(S)$.\n",
    "Since $y \\in N_G(S)$, $xy$ is also in $E_2$.\n",
    "$QED$\n",
    "</p>\n",
    "</div>\n",
    "</details>\n"
   ]
  },
  {
   "cell_type": "markdown",
   "id": "dietary-extension",
   "metadata": {
    "deletable": false,
    "editable": false,
    "run_control": {
     "frozen": true
    }
   },
   "source": [
    "$\\theorem$ Given a bipartite graph with partition $(X, Y)$.\n",
    "For if $deg(y) \\leq deg(x)$ for every vertices $y \\in Y, x \\in X$, then there is a complete matching from $X$ to $Y$.\n",
    "\n",
    "<details>\n",
    "<summary style=\"color: blue\">$\\proof$ (Click to expand)</summary>\n",
    "<div style=\"background: aliceblue\">     \n",
    "<p>\n",
    "Let $k$ be such that $deg(y) \\leq k \\leq deg(x)$\n",
    "$$\n",
    "|E_1| = \\sum d(x) \\geq \\sum_{x \\in S} k = k |S|\n",
    "$$\n",
    "$$\n",
    "|E_2| = \\sum d(y) \\leq \\sum_{y \\in N_G(S)} k = k |N_G(S)|\n",
    "$$\n",
    "By the previous lemma, $|E_1| \\leq |E_2|$.\n",
    "It follows that \n",
    "$$\n",
    "k |S| \\leq |E_1| \\leq |E_2| \\leq k |N_G(S)|\n",
    "$$\n",
    "$$\n",
    "|S| \\leq |N_G(S)|\n",
    "$$\n",
    "By Hall's theorem, there will be a complete matching from $X$ to $Y$.\n",
    "$QED$\n",
    "</p>\n",
    "</div>\n",
    "</details>\n"
   ]
  },
  {
   "cell_type": "markdown",
   "id": "happy-football",
   "metadata": {
    "deletable": false,
    "editable": false,
    "run_control": {
     "frozen": true
    }
   },
   "source": [
    "$\\corollary$ All regular bipartite graph has a perfect matching\n",
    "\n",
    "<details>\n",
    "<summary style=\"color: blue\">$\\proof$ (Click to expand)</summary>\n",
    "<div style=\"background: aliceblue\">     \n",
    "<p>\n",
    "We know that all regular bipartite graph has $|X| = |Y|$.\n",
    "And by the previous theorem, since $deg(y) = k = deg(x)$, there will be a perfect matching.\n",
    "$QED$\n",
    "</p>\n",
    "</div>\n",
    "</details>\n"
   ]
  },
  {
   "cell_type": "markdown",
   "id": "victorian-money",
   "metadata": {
    "deletable": false,
    "editable": false,
    "run_control": {
     "frozen": true
    }
   },
   "source": [
    "$\\corollary$ Given a bipartite graph with partition $(X, Y)$.\n",
    "There will be a complete matching from $X'$ to $Y$, where $X'$ is all the vertices in $X$ with $deg(v) = \\Delta(G)$\n",
    "\n",
    "<details>\n",
    "<summary style=\"color: blue\">$\\proof$ (Click to expand)</summary>\n",
    "<div style=\"background: aliceblue\">     \n",
    "<p>\n",
    "Consider the subgraph induced by $X' \\cup Y$.\n",
    "In this graph, it is clear that $deg(y) \\leq deg(x)$.\n",
    "Thus, there is a complete matching from $X'$ to $Y$ by the previous theorem.\n",
    "</p>\n",
    "</div>\n",
    "</details>\n"
   ]
  },
  {
   "cell_type": "markdown",
   "id": "major-location",
   "metadata": {
    "deletable": false,
    "editable": false,
    "run_control": {
     "frozen": true
    }
   },
   "source": [
    "$\\prop$ A connected bipartite graph has two disjoint maximum independent sets if and only if it has perfect matching.\n",
    "<details>\n",
    "<summary style=\"color: blue\">$\\proof$ (Click to expand)</summary>\n",
    "<div style=\"background: aliceblue\">     \n",
    "<p>\n",
    "In $G$ with partition $(X,Y)$, if there is two maximum independent sets of same size, it must mean that the two sets are $X$ and $Y$ itself.\n",
    "Thus, notice that \n",
    "$$\n",
    "n \\geq |X| + |Y| = 2 \\alpha(G) = 2n - 2 \\beta(G) = 2n - 2\\alpha'(G) \\geq 2n - 2 \\frac{n}{2} = n\n",
    "$$\n",
    "And for equality to hold, $\\alpha'(G) = \\frac{n}{2}$, which means there is a perfect matching\n",
    "</p>\n",
    "<hr>\n",
    "<p>\n",
    "Notice that\n",
    "$$\n",
    "\\frac{n}{2} = \\alpha'(G) = n - \\beta'(G) = n - \\alpha(G) \n",
    "$$\n",
    "$$\n",
    "\\Rightarrow \\alpha(G) = \\frac{n}{2} \n",
    "$$\n",
    "A complete matching means that $|X| = |Y|$, and $\\alpha(G) = \\frac{n}{2}$ implies that $X$ and $Y$ are indeed maximum independent sets.\n",
    "$QED$\n",
    "</p>\n",
    "</div>\n",
    "</details>\n"
   ]
  },
  {
   "cell_type": "markdown",
   "id": "intimate-leonard",
   "metadata": {
    "deletable": false,
    "editable": false,
    "run_control": {
     "frozen": true
    }
   },
   "source": [
    "## System of distinct representatives"
   ]
  },
  {
   "cell_type": "markdown",
   "id": "convenient-figure",
   "metadata": {
    "deletable": false,
    "editable": false,
    "run_control": {
     "frozen": true
    }
   },
   "source": [
    "A collection $S_1, \\dots S_n$ of finite non-empty sets is a **system of distinct representatives** if there exists a set of distinct $n$ elements such that each element is from each of the sets."
   ]
  },
  {
   "cell_type": "markdown",
   "id": "intermediate-plymouth",
   "metadata": {
    "deletable": false,
    "editable": false,
    "run_control": {
     "frozen": true
    }
   },
   "source": [
    "$\\theorem$ (Hall) A collection $S_1, \\dots S_n$ of finite non-empty sets has a system of distinct representatives if and only if for each $1 \\leq k \\leq n$, the union of any $k$ of these sets contains at least $k$ elements.\n",
    "\n",
    "<details>\n",
    "    <summary style=\"color: blue\">$\\proof$ (Click to expand)</summary>\n",
    "    <div style=\"background: aliceblue\">\n",
    "        Suppose that there are $q$ distinct elements in the collections.\n",
    "Construct a bipartite graph $G$ with $|X| = n$ and $|Y| = q$.\n",
    "Add an edge between $u_i \\in X$ and $v_j \\in Y$ if the $j$-th element exists in $S_i$.\n",
    "\n",
    "Let $S$ be the set of vertices that correspond to the subset of the collection that we are interested in.\n",
    "The condition is the same as \n",
    "$$\n",
    "|N_G(S)| \\geq k = |S|\n",
    "$$\n",
    "which is the same as the previous theorem.\n",
    "    </div>\n",
    "</details>\n"
   ]
  },
  {
   "cell_type": "markdown",
   "id": "fourth-constraint",
   "metadata": {
    "deletable": false,
    "editable": false,
    "run_control": {
     "frozen": true
    }
   },
   "source": [
    "# Independence and Cover\n",
    "## Independent Set\n",
    "A set of vertices in $G$ is **independent** if no two vertices are adjacent in the set.\n",
    "\n",
    "* $\\alpha(G)$: **independence number**, the maximum size of the independent sets.\n",
    "\n",
    "An independent set $A$ is **maximum** when $|A| = \\alpha(G)$.\n",
    "\n",
    "### Special Graphs\n",
    "* $\\alpha(O_n) = n$\n",
    "* $\\alpha(K_n) = 1$\n",
    "* $\\alpha(K_{p,q}) = \\max(p,q)$\n"
   ]
  },
  {
   "cell_type": "markdown",
   "id": "honey-gather",
   "metadata": {
    "deletable": false,
    "editable": false,
    "run_control": {
     "frozen": true
    }
   },
   "source": [
    "Note that matching is an \"edge-version\" of independence.\n",
    "\n",
    "* $\\alpha'(G)$: **matching number**, the maximum size of the matching."
   ]
  },
  {
   "cell_type": "markdown",
   "id": "flush-makeup",
   "metadata": {
    "deletable": false,
    "editable": false,
    "run_control": {
     "frozen": true
    }
   },
   "source": [
    "$\\lemma$ $$\\alpha(G) \\geq \\frac{n}{\\Delta(G) + 1}$$\n",
    "\n",
    "<details>\n",
    "    <summary style=\"color: blue\">$\\proof$ (Click to expand)</summary>\n",
    "    <div style=\"background: aliceblue\">\n",
    "    Notice that given a maximum independent set, $A \\cup N_G(A) = V(G)$.\n",
    "    Thus,\n",
    "    $$\n",
    "    n = |A| + |N_G(A)| \\leq \\alpha + \\Delta(G) \\alpha = \\alpha(1 + \\Delta(G)) \n",
    "    $$\n",
    "    And the statement follows.\n",
    "    $QED$\n",
    "    </div>\n",
    "</details>\n"
   ]
  },
  {
   "cell_type": "markdown",
   "id": "eleven-harbor",
   "metadata": {
    "deletable": false,
    "editable": false,
    "run_control": {
     "frozen": true
    }
   },
   "source": [
    "$\\lemma$ $$\\alpha'(G) \\geq \\frac{n}{\\Delta(G) + 1}$$\n",
    "\n",
    "<details>\n",
    "    <summary style=\"color: blue\">$\\proof$ (Click to expand)</summary>\n",
    "    <div style=\"background: aliceblue\">\n",
    "    Consider the procedure of picking any random vertex $v$, adding any edge incident to it to the matching, and removing the closed neighbourhood of $v$.\n",
    "    Notice that the new graph does not contain any edge that contains an endpoint that is in the matching.\n",
    "    We repeat until we obtain a matching.\n",
    "    This matching will have size at least $\\frac{n}{\\Delta(G) + 1}$, since we remove at most $\\Delta(G) + 1$ vertices each time.\n",
    "    And the statement follows.\n",
    "    $QED$\n",
    "    </div>\n",
    "</details>\n"
   ]
  },
  {
   "cell_type": "markdown",
   "id": "fixed-excitement",
   "metadata": {
    "deletable": false,
    "editable": false,
    "run_control": {
     "frozen": true
    }
   },
   "source": [
    "$\\lemma$ $$\\alpha + 2 \\alpha'(G) \\geq n$$\n",
    "\n",
    "<details>\n",
    "    <summary style=\"color: blue\">$\\proof$ (Click to expand)</summary>\n",
    "    <div style=\"background: aliceblue\">\n",
    "    Consider the maximum matching $M$.\n",
    "    When we remove all the $M$-saturated vertices in $G$, the resultant graph will have no edges, otherwise there will be a larger matching.\n",
    "    Thus, it must be an independent set.\n",
    "    Hence,\n",
    "    $$\n",
    "    \\alpha(G) \\geq n - 2|M| = n - 2\\alpha'(G)\n",
    "    $$\n",
    "    And the statement follows. $QED$\n",
    "    </div>\n",
    "</details>\n"
   ]
  },
  {
   "cell_type": "markdown",
   "id": "remarkable-champagne",
   "metadata": {
    "deletable": false,
    "editable": false,
    "run_control": {
     "frozen": true
    }
   },
   "source": [
    "$\\corollary$ \n",
    "$$2\\alpha'(G) \\geq \\beta(G)$$\n",
    "$$\\alpha(G) + \\alpha'(G) \\geq \\beta'(G)$$\n",
    "\n",
    "<details>\n",
    "    <summary style=\"color: blue\">$\\proof$ (Click to expand)</summary>\n",
    "    <div style=\"background: aliceblue\">\n",
    "    This follows from the lemma.\n",
    "    </div>\n",
    "</details>\n"
   ]
  },
  {
   "cell_type": "markdown",
   "id": "spatial-canberra",
   "metadata": {
    "deletable": false,
    "editable": false,
    "run_control": {
     "frozen": true
    }
   },
   "source": [
    "## Cover\n",
    "A set of vertices of $G$ is a **vertex cover** of $G$ if each edge is incident to some vertex in the set.\n",
    "* $\\beta(G)$: **vertex cover number**, the minimum size of the vertex covers.\n",
    "\n",
    "An vertex cover $B$ is **minimum** when $|B| = \\beta(G)$.\n"
   ]
  },
  {
   "cell_type": "markdown",
   "id": "hybrid-glasgow",
   "metadata": {
    "deletable": false,
    "editable": false,
    "run_control": {
     "frozen": true
    }
   },
   "source": [
    "There is also an \"edge-version\" of covering.\n",
    "Suppose $G$ is a graph with **no isolated vertices**.\n",
    "A set is an **edge cover** if every vertex in $G$ is incident to an edge in the set.\n"
   ]
  },
  {
   "cell_type": "markdown",
   "id": "electrical-conviction",
   "metadata": {
    "deletable": false,
    "editable": false,
    "run_control": {
     "frozen": true
    }
   },
   "source": [
    "* $\\beta'(G)$: **edge cover number**, the minimum size of the edge cover."
   ]
  },
  {
   "cell_type": "markdown",
   "id": "existing-replacement",
   "metadata": {},
   "source": [
    "$\\lemma$ The graph induced by $W$, an edge cover of $G$ contains no $C_3$ or $P_4$.\n",
    "\n",
    "<details>\n",
    "    <summary style=\"color: blue\">$\\proof$ (Click to expand)</summary>\n",
    "    <div style=\"background: aliceblue\">\n",
    "    Notice that if there is a $C_3$, we could have used only 2 of the edges to cover the same vertices.\n",
    "    And similarly for $P_4$.\n",
    "    </div>\n",
    "</details>\n"
   ]
  },
  {
   "cell_type": "markdown",
   "id": "stupid-bandwidth",
   "metadata": {},
   "source": [
    "$\\corollary$ The graph induced by $W$, consists of paths of length $\\leq 3$ and stars.\n",
    "\n",
    "<details>\n",
    "    <summary style=\"color: blue\">$\\proof$ (Click to expand)</summary>\n",
    "    <div style=\"background: aliceblue\">\n",
    "    This follows from the previous corollary by considering the possible substructure of the induced subgraph.\n",
    "    </div>\n",
    "</details>\n"
   ]
  },
  {
   "cell_type": "markdown",
   "id": "relative-monitor",
   "metadata": {
    "deletable": false,
    "editable": false,
    "run_control": {
     "frozen": true
    }
   },
   "source": [
    "$\\lemma$ $$\\beta(G) \\geq \\frac{m}{\\Delta(G)}$$\n",
    "\n",
    "<details>\n",
    "    <summary style=\"color: blue\">$\\proof$ (Click to expand)</summary>\n",
    "    <div style=\"background: aliceblue\">\n",
    "    Notice that since $Q$ is a vertex cover, $m \\leq \\sum_{v \\in Q} deg_G(v)$\n",
    "    Thus,\n",
    "    $$\n",
    "    m \\leq \\sum_{v \\in Q} deg_G(v) \\leq \\beta(G) \\Delta(G)\n",
    "    $$\n",
    "    And the statement follows.\n",
    "    $QED$\n",
    "    </div>\n",
    "</details>\n"
   ]
  },
  {
   "cell_type": "markdown",
   "id": "loved-track",
   "metadata": {
    "deletable": false,
    "editable": false,
    "run_control": {
     "frozen": true
    }
   },
   "source": [
    "$\\prop$ $A$ is an independent set of $G$ if and only if $V(G) \\setminus A$ is a vertex cover of $G$.\n",
    "\n",
    "<details>\n",
    "    <summary style=\"color: blue\">$\\proof$ (Click to expand)</summary>\n",
    "    <div style=\"background: aliceblue\">\n",
    "Suppose $A$ is an independent set.\n",
    "Then there is no edge between the vertices of $A$.\n",
    "Thus, when we remove $A$ from $V(G)$, no edges only be incident to vertices in $A$, and thus the remaining vertices must cover $G$.\n",
    "\n",
    "---\n",
    "\n",
    "Suppose $A$ is not an independent set.\n",
    "Then $A$ has an edge between two of its vertices.\n",
    "When we remove $A$ from $V(G)$, this edge will not be covered by the remaining vertices.\n",
    "Thus, $V(G) \\setminus A$ is not a vertex cover. $QED$\n",
    "    </div>\n",
    "</details>\n"
   ]
  },
  {
   "cell_type": "markdown",
   "id": "involved-label",
   "metadata": {
    "deletable": false,
    "editable": false,
    "run_control": {
     "frozen": true
    }
   },
   "source": [
    "$\\corollary$ $A$ is a maximum independent set of $G$ if and only if $V(G) \\setminus A$ is a minimum vertex cover of $G$.\n",
    "\n"
   ]
  },
  {
   "cell_type": "markdown",
   "id": "premier-latitude",
   "metadata": {
    "deletable": false,
    "editable": false,
    "run_control": {
     "frozen": true
    }
   },
   "source": [
    "$\\corollary$ $$\\alpha(G) + \\beta(G) = n$$.\n",
    "\n"
   ]
  },
  {
   "cell_type": "markdown",
   "id": "minor-hydrogen",
   "metadata": {
    "deletable": false,
    "editable": false,
    "run_control": {
     "frozen": true
    }
   },
   "source": [
    "$\\prop$ Let $M$ be a matching and $Q$ be a vertex cover of $G$.\n",
    "1. $|M| \\leq |Q|$\n",
    "2. If $|M| = |Q|$, then $M$ is maximum and $Q$ is minimum.\n",
    "\n",
    "<details>\n",
    "    <summary style=\"color: blue\">$\\proof$ (Click to expand)</summary>\n",
    "    <div style=\"background: aliceblue\">\n",
    "1. For each edge in $M$, one of the endpoints must be in $Q$.\n",
    "Since edges in $M$ are pairwise non-adjacent, the endpoints in $M$ is distinct.\n",
    "Thus, $|M| \\leq |Q|$.\n",
    "\n",
    "2. Let $M^*$ and $Q^*$ be the maximum matching and the minimum vertex cover respectively.\n",
    "We get\n",
    "$$\n",
    "|M| \\leq |M^*| \\leq |Q^*| \\leq |Q|\n",
    "$$\n",
    "\n",
    "When $|M| = |Q|$, it must mean that the equality holds, and thus they are maximum and minimum respectively.$QED$\n",
    "    </div>\n",
    "</details>\n"
   ]
  },
  {
   "cell_type": "markdown",
   "id": "incorporate-jackson",
   "metadata": {
    "deletable": false,
    "editable": false,
    "run_control": {
     "frozen": true
    }
   },
   "source": [
    "$\\corollary$ $$\\alpha'(G) \\leq \\beta(G)$$.\n",
    "\n"
   ]
  },
  {
   "cell_type": "markdown",
   "id": "african-cholesterol",
   "metadata": {
    "deletable": false,
    "editable": false,
    "run_control": {
     "frozen": true
    }
   },
   "source": [
    "$\\theorem$ For bipartite graphs, $\\alpha'(G) = \\beta(G)$\n",
    "\n",
    "<details>\n",
    "    <summary style=\"color: blue\">$\\proof$ (Click to expand)</summary>\n",
    "    <div style=\"background: aliceblue\">\n",
    "Let $Q$ be the minimum vertex cover of $G$.\n",
    "Let $X_1, Y_1$ be the vertices in $Q$ that belongs to $X,Y$ respectively.\n",
    "And let $X_2, Y_2$ be the vertices that are not in $Q$, belonging to $X, Y$ respectively.\n",
    "\n",
    "Consider the $H$, subgraph induced by $X_1 \\cup Y_2$.\n",
    "For any $S \\subseteq X_1$, $N_H(S) = N_G(S) \\setminus Y_1$, meaning $N_H(S)$ covers all the edges incident to $S$, excluding $Y_1$.\n",
    "Thus, $Q' = (X_1 \\setminus S) \\cup N_H(S) \\cup Y_2$ is also a vertex cover of $G$.\n",
    "Note that vertices in $N_H(S)$ are not in $X_1$ because $G$ is biparitite, and vertices in $N_H(S)$ are not in $Y_1$ because $H$ does not have vertices of $Y_1$.\n",
    "\n",
    "By minimality of $Q$\n",
    "$$\n",
    "|Q'| = |X_1|- |S| +|N_H(S)| + |Y_1| = |Q| - |S| + |N_H(S)| \\geq |Q|.\n",
    "$$\n",
    "Thus, we get $|S| \\leq |N_H(S)|$.\n",
    "        By <a href='#T-hall'>Hall's Theorem</a>, $G$ has a complete matching from $X_1$ to $Y_2$.\n",
    "Similarly, we can obtain that there is a complete matching from $Y_1$ to $X_2$.\n",
    "Combining the two matching gives us a matching of $G$ with size $|Q|$, which means it is maximum by the previous proposition. $QED$\n",
    "    </div>\n",
    "</details>\n"
   ]
  },
  {
   "cell_type": "markdown",
   "id": "spread-intranet",
   "metadata": {
    "deletable": false,
    "editable": false,
    "run_control": {
     "frozen": true
    }
   },
   "source": [
    "$\\theorem$ For graph $G$ with no isolated vertices, \n",
    "$$\n",
    "\\alpha'(G) + \\beta'(G) = n\n",
    "$$\n",
    "\n",
    "<details>\n",
    "    <summary style=\"color: blue\">$\\proof$ (Click to expand)</summary>\n",
    "    <div style=\"background: aliceblue\">\n",
    "Consider the maximum matching $M$ of $G$.\n",
    "For each $M$-single vertex in $G$, we select any edge incident to it.\n",
    "Since $M$ is maximum, there cannot be an edge that is incident to two $M$-single vertex, thus the edges are distinct.\n",
    "It follows that if we combine $M$ with these edges, it is an edge-cover $W$.\n",
    "Thus, $$\\beta'(G) \\leq |W| = \\alpha'(G) - (n - 2\\alpha'(G)) = n - \\alpha'(G)$$\n",
    "Thus, we get $\\alpha'(G) + \\beta'(G) \\leq n$\n",
    "\n",
    "---\n",
    "\n",
    "Suppose $W$ is the minimum edge cover of $G$.\n",
    "Consider $H$, the subgraph induced by $G$.\n",
    "$H$ must be a spanning subgraph of $G$.\n",
    "Since $W$ is minimum, $H$ cannot contain any cycle or paths of length greater than 3.\n",
    "This means all the components of $H$ must be stars.\n",
    "Thus, $H$ must be a forest $k$ stars and $n = |W| + k$ vertices.\n",
    "\n",
    "For each star in $H$, we can select any edge to form a matching $M$.\n",
    "Thus, \n",
    "\n",
    "$$\n",
    "|M| = k =n - |W| = n - \\beta'(G)\n",
    "$$\n",
    "\n",
    "Therefore, $\\alpha'(G) \\geq n-\\beta'(G)$.\n",
    "\n",
    "Combining the two inequalities, we get $\\alpha'(G) + \\beta'(G) = n$. $QED$ \n",
    "    </div>\n",
    "</details>\n"
   ]
  },
  {
   "cell_type": "markdown",
   "id": "afraid-abortion",
   "metadata": {
    "deletable": false,
    "editable": false,
    "run_control": {
     "frozen": true
    }
   },
   "source": [
    "$\\corollary$ $$\\alpha(G) \\leq \\beta'(G)$$.\n",
    "\n",
    "\n",
    "<details>\n",
    "    <summary style=\"color: blue\">$\\proof$ (Click to expand)</summary>\n",
    "    <div style=\"background: aliceblue\">\n",
    "Since \n",
    "        \n",
    "$$\n",
    "\\alpha(G) + \\beta(G) = n = \\alpha'(G) + \\beta'(G)\n",
    "$$\n",
    "\n",
    "We also know that $\\alpha'(G) \\leq \\beta(G)$, which means $\\alpha(G) \\leq \\beta'(G)$ to satisfy the equality above.\n",
    "$QED$\n",
    "    </div>\n",
    "</details>\n"
   ]
  },
  {
   "cell_type": "markdown",
   "id": "linear-threat",
   "metadata": {
    "deletable": false,
    "editable": false,
    "run_control": {
     "frozen": true
    }
   },
   "source": [
    "$\\corollary$ For bipartite graphs, $\\alpha(G) = \\beta'(G)$\n"
   ]
  },
  {
   "cell_type": "markdown",
   "id": "swiss-matter",
   "metadata": {
    "deletable": false,
    "editable": false,
    "run_control": {
     "frozen": true
    }
   },
   "source": [
    "## Summary of Theorems\n",
    "$$\\alpha(G) + \\beta(G) = \\alpha'(G) + \\beta'(G)= n$$"
   ]
  },
  {
   "cell_type": "markdown",
   "id": "refined-paint",
   "metadata": {
    "deletable": false,
    "editable": false,
    "run_control": {
     "frozen": true
    }
   },
   "source": [
    "$$\\alpha'(G) \\leq \\beta(G)$$.\n",
    "$$\\alpha(G) \\leq \\beta'(G)$$"
   ]
  },
  {
   "cell_type": "markdown",
   "id": "bibliographic-algebra",
   "metadata": {
    "deletable": false,
    "editable": false,
    "run_control": {
     "frozen": true
    }
   },
   "source": [
    "For bipartite graphs:\n",
    "$$\\alpha'(G) = \\beta(G)$$\n",
    "$$\\alpha(G) = \\beta'(G)$$"
   ]
  }
 ],
 "metadata": {
  "kernelspec": {
   "display_name": "Python 3 (ipykernel)",
   "language": "python",
   "name": "python3"
  },
  "language_info": {
   "codemirror_mode": {
    "name": "ipython",
    "version": 3
   },
   "file_extension": ".py",
   "mimetype": "text/x-python",
   "name": "python",
   "nbconvert_exporter": "python",
   "pygments_lexer": "ipython3",
   "version": "3.9.7"
  }
 },
 "nbformat": 4,
 "nbformat_minor": 5
}
