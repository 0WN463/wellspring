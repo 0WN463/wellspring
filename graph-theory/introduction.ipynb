{
 "cells": [
  {
   "cell_type": "markdown",
   "id": "logical-agency",
   "metadata": {
    "deletable": false,
    "editable": false,
    "run_control": {
     "frozen": true
    }
   },
   "source": [
    "$$\n",
    "\\newcommand{theorem}{\\textbf{Theorem: }}\n",
    "\\newcommand{proof}{\\textbf{Proof: }}\n",
    "\\newcommand{lemma}{\\textbf{Lemma: }}\n",
    "\\newcommand{corollary}{\\textbf{Corollary: }}\n",
    "\\newcommand{prop}{\\textbf{Proposition: }}\n",
    "$$"
   ]
  },
  {
   "cell_type": "markdown",
   "id": "impressive-bangladesh",
   "metadata": {
    "deletable": false,
    "editable": false,
    "run_control": {
     "frozen": true
    }
   },
   "source": [
    "# Introduction\n",
    "## Definition\n",
    "A graph $G$ consists of a set of vertices $V(G)$ and a set of edges $E(G)$.\n",
    "\n",
    "Edges are defined as having two vertices that are called its end points.\n",
    "\n",
    "$|V(G)|:$ order of $G$\n",
    "\n",
    "$|E(G)|:$ size of $G$\n",
    "\n",
    "A $(n, m)$ graph has order $n$ and size $m$.\n"
   ]
  },
  {
   "cell_type": "markdown",
   "id": "smooth-implementation",
   "metadata": {
    "deletable": false,
    "editable": false,
    "run_control": {
     "frozen": true
    }
   },
   "source": [
    "## Adjacency <a id=\"adj\"></a>\n",
    "\n",
    "If two vertices $u,v$ are joined by an edge $e$, then $u$ and $v$ are **adjacent** to each other, and they are incident to $e$.\n",
    "\n",
    "If two edges shares **exactly one** endpoint $v$, then they are **adjacent** to each other, and they are incident to $v$.\n",
    "\n",
    "In **simple graphs** (which we will refer to as **graph** from now on):\n",
    "* Every pair of vertices are joined by at most 1 edge\n",
    "* No edges have their endpoints being the same vertex\n",
    "\n",
    "$N_G(v) = \\{v \\in V(G), uv \\in E(G)\\}$: Neighbourhood of $v$.\n",
    "\n",
    "$|N_G(v)| = deg_G(v)$: Degree of $v$, the vertices adjacent to $v$. Also the number of edges incident to $v$\n",
    "\n",
    "$deg_G(v) = 0 \\Leftrightarrow$ v is isolated.\n",
    "\n",
    "$deg_G(v) = 1 \\Leftrightarrow$ v is a leave.\n",
    "\n",
    "$deg_G(v) \\text{ is even(respectively odd)} \\Leftrightarrow v \\text{ is even(odd)}$\n",
    "\n",
    "$\\Delta(G) = \\max\\{deg_G(v) | v \\in V(G)\\}:$ maximum degree of $G$\n",
    "\n",
    "$\\delta(G) = \\min\\{deg_G(v) | v \\in V(G)\\}:$ maximum degree of $G$\n",
    "\n",
    "It follows that $0 \\leq \\delta(G) \\leq \\Delta(G) \\leq n-1$"
   ]
  },
  {
   "cell_type": "markdown",
   "id": "broad-frame",
   "metadata": {
    "deletable": false,
    "editable": false,
    "run_control": {
     "frozen": true
    }
   },
   "source": [
    "## Handshaking Lemma\n",
    "$\\lemma$ Given an (n,m) graph:\n",
    "$$\n",
    "\\sum _{i=1} ^ n deg_G(v_i) = 2m\n",
    "$$\n",
    "<details>\n",
    "    <summary style=\"color: blue\">$\\proof$ (Click to expand)</summary>\n",
    "    <div style=\"background: aliceblue\">\n",
    " Since each edge has exactly 2 endpoints, each vertex will count each edge twice when computing the degree.\n",
    "    </div>\n",
    "</details>\n",
    "\n",
    "$\\corollary$ All graphs have even number of odd vertices\n",
    "\n",
    "<details>\n",
    "    <summary style=\"color: blue\">$\\proof$ (Click to expand)</summary>\n",
    "    <div style=\"background: aliceblue\">\n",
    "        By handshaking lemma, the sum of the vertices must be even. Since even vertices do not affect the parity of the sum, there must be an even number of odd vertex    \n",
    "    </div>\n",
    "</details>\n",
    "\n"
   ]
  },
  {
   "cell_type": "markdown",
   "id": "passing-listening",
   "metadata": {
    "deletable": false,
    "editable": false,
    "run_control": {
     "frozen": true
    }
   },
   "source": [
    "$\\prop$ \n",
    "$$\n",
    "\\sum _{v \\in V(G)} deg_G(v)^2 = \\sum _{uv \\in E(G)} \\left(deg_G(u) + deg_G(v)\\right)\n",
    "$$\n",
    "\n",
    "<details>\n",
    "    <summary style=\"color: blue\">$\\proof$ (Click to expand)</summary>\n",
    "    <div style=\"background: aliceblue\">\n",
    "        Consider the terms in the right hand side.\n",
    "        Notice that $deg_G(w)$ appears for each edge that is incident to vertex $w$.\n",
    "        Thus, if $deg_G(w) = k$, then there will be $k$ edges incident to $w$, meaning $deg_G(w)$ will appear $k = deg_G(w)$ times.\n",
    "        Hence, for each vertex, we are simply summing the square of the degrees.\n",
    "        $QED$\n",
    "    </div>\n",
    "</details>\n"
   ]
  },
  {
   "cell_type": "markdown",
   "id": "finite-carolina",
   "metadata": {
    "deletable": false,
    "editable": false,
    "run_control": {
     "frozen": true
    }
   },
   "source": [
    "## Special Graphs\n",
    "$O_n$: empty graph of order $n$, such that $deg_G(v) = n - 1$, $m=0$. \n",
    "\n",
    "$K_n$: complete graph of order $n$, where $deg_G(v) = n - 1$ for all $v$, $m = \\begin{pmatrix}n \\\\ 2\\end{pmatrix}$\n",
    "\n",
    "$k$-regular: every vertex has degree $k$\n",
    "\n",
    "$O_n$ is a $0$-regular graph and $K_n$ is a $n-1$-regular graph"
   ]
  },
  {
   "cell_type": "markdown",
   "id": "overhead-obligation",
   "metadata": {
    "deletable": false,
    "editable": false,
    "run_control": {
     "frozen": true
    }
   },
   "source": [
    "## Complement\n",
    "$\\bar G$: complement of the graph $G$, which contains all the vertices in $V(G)$ and all the edges not in $E(G)$\n",
    "\n",
    "### Properties\n",
    "\n",
    "$$\n",
    "\\bar {\\bar G} = G\n",
    "$$\n",
    "\n",
    "$$\n",
    "deg_G(v) + deg_\\bar G(v) = n-1\n",
    "$$\n",
    "\n",
    "$$\n",
    "\\bar K_n = O_n\n",
    "$$"
   ]
  },
  {
   "cell_type": "markdown",
   "id": "peaceful-monster",
   "metadata": {
    "deletable": false,
    "editable": false,
    "run_control": {
     "frozen": true
    }
   },
   "source": [
    "## Isomorphism\n",
    "Graphs $G$ and $H$ are isomorphic ($G \\cong H$) if there is a bijection $\\phi: V(G) \\rightarrow H(G)$, such that \n",
    "$$\n",
    "uv \\in E(G) \\Leftrightarrow \\phi(u) \\phi(v) \\in E(H)\n",
    "$$\n",
    "\n",
    "### Properties\n",
    "$(G \\cong H) \\rightarrow$\n",
    "* $V(G) = V(H)$\n",
    "* $E(G) = E(H)$\n",
    "* $\\delta(G) = \\delta(H)$\n",
    "* $\\Delta(G) = \\Delta(H)$\n",
    "* $\\bar G \\cong \\bar H$\n",
    "* $deg_G(v) = deg_H(\\phi(v))$"
   ]
  },
  {
   "cell_type": "markdown",
   "id": "senior-hawaii",
   "metadata": {
    "deletable": false,
    "editable": false,
    "run_control": {
     "frozen": true
    }
   },
   "source": [
    "$\\lemma$:\n",
    "$$\n",
    "\\delta(G) \\leq \\frac{2m}{n} \\leq \\Delta(G)\n",
    "$$\n",
    "<details>\n",
    "    <summary style=\"color: blue\">$\\proof$ (Click to expand)</summary>\n",
    "    <div style=\"background: aliceblue\">\n",
    "By handshaking lemma, $2m = $ sum of the degrees $\\geq n\\delta(G)$ and $\\leq n\\delta(G)$.\n",
    "        Rearranging, we get our lemma.\n",
    "    </div>\n",
    "</details>\n",
    "\n"
   ]
  },
  {
   "cell_type": "markdown",
   "id": "defensive-pizza",
   "metadata": {
    "deletable": false,
    "editable": false,
    "run_control": {
     "frozen": true
    }
   },
   "source": [
    "Isomorphism is an **equivalent relation**, meaning it satisfy:\n",
    "* $G \\cong G$\n",
    "* $G \\cong H \\Leftrightarrow H \\cong G$\n",
    "* $G \\cong H, H \\cong I \\Leftrightarrow G \\cong I$"
   ]
  },
  {
   "cell_type": "markdown",
   "id": "elementary-canadian",
   "metadata": {
    "deletable": false,
    "editable": false,
    "run_control": {
     "frozen": true
    }
   },
   "source": [
    "## Subgraph\n",
    "If $V(H) \\subseteq V(G), E(H) \\subseteq E(G)$, then $H$ is a **subgraph** of $G$.\n",
    "\n",
    "$\\left<S\\right>:$ subgraph induced by a **non-empty set of vertices $S \\subseteq V(G)$**, where the subgraph contains all the edges in $E(G)$, where both their endpoints are in $S$.\n",
    "\n",
    "$\\left<X\\right>:$ subgraph induced by a **non-empty set of edges $X \\subseteq E(G)$**, where the subgraph contains all the vertices in $V(G)$ that are incident to an edge in $X$.\n",
    "\n",
    "If $V(H) = V(G)$ and $E(H) \\subseteq E(G)$, then H is a **spanning subgraph** of G.\n",
    "\n",
    "### Graph Modification\n",
    "$G - S = \\left<V(G) \\setminus S\\right>$: deletion of a set of vertices $S$ from $G$.\n",
    "* $G - v = G - \\{v\\}$: deletion of vertex $v$ from $G$.\n",
    "\n",
    "\n",
    "$G - X = \\left<E(G) \\setminus X\\right>$: deletion of a set of edges $X$ from $G$.\n",
    "* $G - e = G - \\{e\\}$: deletion of edge $e$ from $G$.\n",
    "\n",
    "We can define the graph addition equivalently."
   ]
  },
  {
   "cell_type": "markdown",
   "id": "secure-fisher",
   "metadata": {
    "deletable": false,
    "editable": false,
    "run_control": {
     "frozen": true
    }
   },
   "source": [
    "## Degree Sequence\n",
    "Suppose that our graph has degrees $d_i = deg_G(v_i), i = 1, \\dots, n$, then $(d_1, \\dots, d_n)$ is a **degree sequence** of the graph.\n",
    "The convention is to define\n",
    "$$\n",
    "d_1 \\geq d_2 \\geq \\dots d_n\n",
    "$$\n",
    "\n",
    "Hence,\n",
    "* $d_1 = \\Delta (G), d_n = \\delta(G)$\n",
    "* $k$-regular graph has degree sequence $(k,\\dots,k)$\n",
    "* $\\bar G$ has degree sequence of $(n-1-d_n, n-1-d_{n-1}, \\dots, n-1-d_1)$\n",
    "\n",
    "A sequence $(d_1, \\dots, d_n)$ is **graphic** if it is a degree sequence of some graph.\n",
    "\n",
    "Necessary condition:\n",
    "* $0 \\leq d_i \\leq n-1$ for all $d_i$\n",
    "* $\\sum d_i$ is even, by handshaking lemma\n",
    "\n",
    "$\\theorem$ (Havel-Hakimi). Given a sequence $(d_1, \\dots, d_n)$, $\\Delta = d_1 \\geq 1$ and $n\\geq 2$.\n",
    "The sequence is graphic if and only if $(d_2-1, \\dots,d_{\\Delta+1} -1, d_{\\Delta + 2}, \\dots, d_n)$ is graphic.\n",
    "\n",
    "By repeatedly applying this theorem, we can reduce the size of the sequence by 1 each time. Thus, we will eventually reach a sequence where we can easily determine if the graphical-ness of the sequence.\n",
    "\n",
    "<details>\n",
    "    <summary style=\"color: blue\">$\\proof$ (Click to expand)</summary>\n",
    "    <div style=\"background: aliceblue\">\n",
    "        <p>\n",
    "        Suppose we have a graphic sequence $(d_1, \\dots, d_k)$.\n",
    "        We will attempt to remove the vertex $v_1$ associated with $d_1$ from the graph $G$ to obtain smaller graph with degree sequence $(d_2-1, \\dots,d_{\\Delta+1} -1, d_{\\Delta + 2}, \\dots, d_n)$.\n",
    "        </p>\n",
    "        <p>\n",
    "        Suppose $v_1$ is adjacent to all of $d_2-1, \\dots,d_{\\Delta+1} -1$ in $G$.\n",
    "        Then the removal will create the desired sequence and thus, our theorem holds.\n",
    "        </p>\n",
    "        <p>\n",
    "        Now suppose that $G$ is not adjacent to all of those vertices.\n",
    "        Hence, there must exists some vertex $i, j$, such that $d_i > d_j$ and that $v_1$ is adjacent to $v_j$ and not $v_i$ in $G$.\n",
    "        </p>\n",
    "        <p>\n",
    "        Notice that since $d_i > d_j$, there must exist some vertex $v_k$ that is adjacent to $v_i$ and not $v_j$.\n",
    "        </p>\n",
    "        <p>\n",
    "        Hence we get the following in $G$:\n",
    "        * $v_1$ is adjacent to $v_j$\n",
    "        * $v_1$ is not adjacent to $v_i$\n",
    "        * $v_k$ is adjacent to $v_i$.\n",
    "        * $v_k$ is not adjacent to $v_j$\n",
    "        </p>\n",
    "        Notice that if we consider the complement of every of the above edges, we will obtain a graph $G'$ which has more connections from $v_1$ that satisfy our degree subtraction.\n",
    "        Hence, we can repeat this until we obtain the desired graph which allows us to perform the operation to get the smaller sequence.\n",
    "        <hr>\n",
    "        <p>\n",
    "        Now suppose that we have a graphic sequence $d_2-1, \\dots,d_{\\Delta+1} -1$.\n",
    "        Then we can add a new vertex $v_1$ to the graph and connect $d_1$ edges to the first few vertices in the sequence.\n",
    "        This will yield the desired degree sequence, and thus we have found a desired graph and thus the sequence is graphic.\n",
    "        $QED$\n",
    "        </p>\n",
    "    </div>\n",
    "</details>\n"
   ]
  },
  {
   "cell_type": "markdown",
   "id": "precise-longer",
   "metadata": {
    "deletable": false,
    "editable": false,
    "run_control": {
     "frozen": true
    }
   },
   "source": [
    "## Traversal\n",
    "A **walk** is an alternating sequence of edges and vertices such that each edge is incident to the next vertex in the sequence and vice versa.\n",
    "Since the walk can be uniquely defined by the vertices, the convention is to specify the walk simply by their vertices $v_1, v_2, \\dots, v_n$.\n",
    "\n",
    "If the walk starts at $v_0$ and ends at $v_n$, then its a $v_0 - v_n$ walk with length $n$, where $n$ is the number of edges in the walk.\n",
    "\n",
    "When $n=0$, it is a trivial walk.\n",
    "\n",
    "If the edges are distinct, then the walk is also a **trail**.\n",
    "\n",
    "If the vertices are distinct, then the walk/trail is also a **path**\n",
    "\n",
    "$\\theorem$ Every $u-v$ walk contains a $u-v$ path.\n",
    "\n",
    "<details>\n",
    "    <summary style=\"color: blue\">$\\proof$ (Click to expand)</summary>\n",
    "    <div style=\"background: aliceblue\">\n",
    "        If every vertex in the walk is unique, then it is already a path.\n",
    "        Suppose not, then there must exists some $v_i$ that is repeated in the walk.\n",
    "        We can remove the part of the walk that is between these 2 repeated points and still retain a $u-v$ walk.\n",
    "        Thus, we repeat the above until it is a $u-v$ path. \n",
    "        Hence, the walk must contain a path. $QED$\n",
    "    </div>\n",
    "</details>\n",
    "\n",
    "\n",
    "If $v_0 = v_n$, then the walk is **closed**, otherwise it is **open**.\n",
    "\n",
    "Circuit: Closed trail\n",
    "\n",
    "Cycle: Circuit whose only repeated vertices are the endpoints. A cycle of length $n$ is denoted as $C_n$, where $n$ is both the number of edges and vertices."
   ]
  },
  {
   "cell_type": "markdown",
   "id": "light-powder",
   "metadata": {
    "deletable": false,
    "editable": false,
    "run_control": {
     "frozen": true
    }
   },
   "source": [
    "## Connectedness\n",
    "Vertices $u,v$ are **connected** if there is a $u-v$ path.\n",
    "\n",
    "If every pair of vertices is connected in $G$, then $G$ is a connected graph, otherwise it is disconnected.\n",
    "\n",
    "Note: Connectedness is also an **equivalent relation**.\n",
    "\n",
    "A **component** of $G$ is the maximal connected subgraph of $G$.\n",
    "\n",
    "$c(G)$: number of components in $G$.\n",
    "\n",
    "Hence, $c(G) = 1$ if $G$ is connected, $c(G) \\geq 2$ otherwise."
   ]
  },
  {
   "cell_type": "markdown",
   "id": "vulnerable-biology",
   "metadata": {
    "deletable": false,
    "editable": false,
    "run_control": {
     "frozen": true
    }
   },
   "source": [
    "$\\prop$:\n",
    "In a disconnected graph, \n",
    "$$\n",
    "\\delta(G) \\leq \\frac{n}{2} - 1\n",
    "$$\n",
    "<details>\n",
    "    <summary style=\"color: blue\">$\\proof$ (Click to expand)</summary>\n",
    "    <div style=\"background: aliceblue\">\n",
    "    Consider the smallest component in the disconnected graph.\n",
    "    There are at most $\\frac{n}{2}$ vertices in it, thus the statement follows.\n",
    "    </div>\n",
    "</details>\n",
    "\n"
   ]
  },
  {
   "cell_type": "markdown",
   "id": "sophisticated-cinema",
   "metadata": {
    "deletable": false,
    "editable": false,
    "run_control": {
     "frozen": true
    }
   },
   "source": [
    "## Distance\n",
    "\n",
    "$d_G(u,v)$: distance between $u$ and $v$ in $G$, which is the length of the minimum $u-v$ path in $G$.\n",
    "\n",
    "Properties:\n",
    "* $d(u,v) \\geq 0$\n",
    "* $d(u,v) = 0$ if and only if $u=v$\n",
    "* $d(u,v) = 1$ if and only if $u$ is adjacent to $v$\n",
    "* $d(u,v) = \\infty$ if $u$ and $v$ are in different components\n",
    "\n",
    "Distance is also a **metric**, which means it has the following properties:\n",
    "* $d(u,u) = 0$\n",
    "* $d(u,v) = d(v, u)$\n",
    "* $d(u,v) \\leq d(u,w) + d(w, v)$: Triangle Inequality\n",
    "\n",
    "<details>\n",
    "    <summary style=\"color: blue\">$\\proof$ for the triangle equality (Click to expand)</summary>\n",
    "    <div style=\"background: aliceblue\">\n",
    "    Notice that for any $u-w$, $w-v$ path, we can connect them to get $u-v$ path.\n",
    "Thus, the shortest path must be at most the sum of the length of the two paths.\n",
    "    </div>\n",
    "</details>"
   ]
  },
  {
   "cell_type": "markdown",
   "id": "worse-azerbaijan",
   "metadata": {},
   "source": [
    "$\\prop$:\n",
    "There must exists a path of length $\\delta(G)$ for any graph $G$\n",
    "\n",
    "<details>\n",
    "<summary style=\"color: blue\">$\\proof$ (Click to expand)</summary>\n",
    "    <div style=\"background: aliceblue\">\n",
    "    Consider the longest $uv$ path of $G$.\n",
    "    The vertices that are adjacent to $u$ must all be in the path, otherwise there will be a longer path.\n",
    "    Thus, there is at least $1 + \\delta(G)$ vertices in the path, and thus the length is at least $1 + \\delta(G) - 1 = \\delta(G)$\n",
    "    </div>\n",
    "</details>\n",
    "\n"
   ]
  },
  {
   "cell_type": "markdown",
   "id": "manufactured-karma",
   "metadata": {},
   "source": [
    "$\\prop$:\n",
    "There must exists a cycle of length $\\delta(G)+1$ for any graph $G$\n",
    "\n",
    "<details>\n",
    "<summary style=\"color: blue\">$\\proof$ (Click to expand)</summary>\n",
    "    <div style=\"background: aliceblue\">\n",
    "    This follows similarly from the previous proposition, with the consideration that $u$ must be adjacent to some vertex $w$ on the path that is at least distance $\\delta(G)$ away.\n",
    "    </div>\n",
    "</details>\n",
    "\n"
   ]
  },
  {
   "cell_type": "markdown",
   "id": "headed-joshua",
   "metadata": {},
   "source": [
    "$\\prop$:\n",
    "If $G$ is connected and $n > 2\\delta$, there must exists a path of length $2\\delta(G)$ in $G$\n",
    "\n",
    "<details>\n",
    "<summary style=\"color: blue\">$\\proof$ (Click to expand)</summary>\n",
    "<div style=\"background: aliceblue\">\n",
    "This follows similarly from <a href='./hamiltonian_graph.ipynb#T-ores'>Ore's Theorem</a>.\n",
    "Consider the longest path in $G$ with length $p$.\n",
    "Suppose that $p < 2\\delta$.\n",
    "Using a similar construction, there will be a cycle of length $p$ in $G$.\n",
    "Since $G$ is connected and $n > 2\\delta > p$, there will be some other vertex that is adjacent to some vertex in the cycle, thus we can extend the path further.\n",
    "Thus, $p \\geq 2\\delta$, and hence there is such a path.\n",
    "</div>\n",
    "</details>\n",
    "\n"
   ]
  },
  {
   "cell_type": "markdown",
   "id": "mounted-atlas",
   "metadata": {
    "deletable": false,
    "editable": false,
    "run_control": {
     "frozen": true
    }
   },
   "source": [
    "$e(v)=\\max\\{d(v,u)|u\\in V(G)\\}$: Eccentricity of $v$, which is the length of the longest path from $v$.\n",
    "\n",
    "$rad(v)=\\min\\{e(v)|v\\in V(G)\\}$: Radius of $v$, which is the smallest eccentricity of $G$. This also indicates the length of the shortest maximal path in $G$. $v$ is a **central vertex**.\n",
    "\n",
    "$C(G)$: **center** of $G$, the set of central vertices.\n",
    "\n",
    "$diam(v)=\\max\\{e(v)|v\\in V(G)\\}$: Diameter of $v$, which is the largest eccentricity of $G$. This also indicates the length of the longest path in $G$.\n",
    "\n",
    "$\\theorem$ In a connected graph $G$, $rad(G) \\leq diam(G) \\leq 2rad(G)$\n",
    "\n",
    "<details>\n",
    "    <summary style=\"color: blue\">$\\proof$ (Click to expand)</summary>\n",
    "    <div style=\"background: aliceblue\">\n",
    "        The first inequality is true by definition.\n",
    "        Suppose $u-v$ is the longest path in $G$.\n",
    "        Let $w \\in C(G)$.\n",
    "        Notice that $$d(u,v) \\leq d(u, w) + d(w, v) \\leq e(w) + e(w) \\leq 2 rad(G)$$\n",
    "        $QED$\n",
    "    </div>\n",
    "</details>"
   ]
  },
  {
   "cell_type": "markdown",
   "id": "limiting-owner",
   "metadata": {
    "deletable": false,
    "editable": false,
    "run_control": {
     "frozen": true
    }
   },
   "source": [
    "$\\prop$ If $rad(G) \\geq 3$, then $diam(\\bar G) \\leq 2$\n",
    "\n",
    "<details>\n",
    "    <summary style=\"color: blue\">$\\proof$ (Click to expand)</summary>\n",
    "    <div style=\"background: aliceblue\">\n",
    "        <p>\n",
    "        Since $rad(G) \\geq 3$, it implies that for any vertex $u$ in $G$, there must exists a vertex $v$ that is $d_G(u,v) \\geq 3$.\n",
    "        </p>\n",
    "        <p>\n",
    "        Now for any vertex $w$ in G, if $uw \\notin E(G)$, then $d_{\\bar G}(uw) = 1$, which means our theorem holds.\n",
    "        </p>\n",
    "        <p>\n",
    "        Suppose $uw \\in E(G)$, we know that $wv \\notin E(G)$ and $w \\neq v$, or else $d_G(u,v) < 3$.\n",
    "        Hence, in $\\bar G$, we have a $u-v-w$ path for any $w$, thus $d_{\\bar G}(u,w) \\leq 2$. $QED$\n",
    "        </p>\n",
    "    </div>\n",
    "</details>\n",
    "\n"
   ]
  },
  {
   "cell_type": "markdown",
   "id": "overall-syracuse",
   "metadata": {
    "deletable": false,
    "editable": false,
    "run_control": {
     "frozen": true
    }
   },
   "source": [
    "$\\prop$ If $diam(G) \\geq 3$, then $diam(\\bar G) \\leq 3$\n",
    "\n",
    "<details>\n",
    "    <summary style=\"color: blue\">$\\proof$ (Click to expand)</summary>\n",
    "    <div style=\"background: aliceblue\">\n",
    "        <p>\n",
    "        Since $diam(G) \\geq 3$, it implies that there exists some maximum path $u-v$ of length at least 3.\n",
    "        Note that $uv \\notin E(G)$, which means $u$ and $v$ are adjacent in $\\bar G$.\n",
    "        </p>\n",
    "        <p>\n",
    "        Also note that every vertex cannot be adjacent to both $u$ and $v$, which means every vertex is adjacent to one of $u,v$ in $\\bar G$.\n",
    "        </p>\n",
    "        <p>\n",
    "        Suppose we want to find the $d_{\\bar G}(a,b)$ for some vertices $a,b$.\n",
    "        If $a,b$ are both adjacent to same $u$ or $v$ in $\\bar G$, then $d_{\\bar G}(a,b) = 2$.\n",
    "        Otherwise, we can use the $u-v$ edge in $\\bar G$ to obtain a path with $d_{\\bar G}(a,b) = 3$. Hence, $diam(\\bar G) \\leq 3$. $QED$\n",
    "        </p>\n",
    "    </div>\n",
    "</details>\n"
   ]
  },
  {
   "cell_type": "markdown",
   "id": "minor-dialogue",
   "metadata": {},
   "source": [
    "$\\prop$ In a non-complete, connected graph with $n \\geq 3$, there exists vertices $u, v, w$ such that $uv, vw \\in E(G), uw \\notin E(G)$\n",
    "\n",
    "<details>\n",
    "    <summary style=\"color: blue\">$\\proof$ (Click to expand)</summary>\n",
    "    <div style=\"background: aliceblue\">\n",
    "        <p>\n",
    "            Since it is not complete, there exists $u, x$ that are not adjacent.\n",
    "            And since it is connected, there is a $ux$ path in $G$.\n",
    "            Let the shortest path be $u, v, w, \\dots x$.\n",
    "            Notice that $u,w$ cannot be adjacent otherwise there is a shorter path.\n",
    "            Thus, $u,v,w$ is our desired tuple.\n",
    "        </p>\n",
    "    </div>\n",
    "</details>\n"
   ]
  },
  {
   "cell_type": "markdown",
   "id": "virtual-weekly",
   "metadata": {
    "deletable": false,
    "editable": false,
    "run_control": {
     "frozen": true
    }
   },
   "source": [
    "## Girth\n",
    "The girth of a graph $G$ is defined as \n",
    "$$\n",
    "g(G) = \n",
    "\\begin{cases}\n",
    "\\text{length of shortest cycle if $G$ contains a cycle} \\\\\n",
    "\\infty \\text{ otherwise}\n",
    "\\end{cases}\n",
    "$$\n",
    "\n",
    "In particular, $g(G) \\geq 4 \\Leftrightarrow G$ is triangle-free.\n",
    "\n",
    "$\\prop$ If $G$ is $k$-regular and $g(G) = 5, v(G) \\geq k^2 + 1$ \n",
    "\n",
    "<details>\n",
    "    <summary style=\"color: blue\">$\\proof$ (Click to expand)</summary>\n",
    "    <div style=\"background: aliceblue\">\n",
    "        Consider any vertex $v$ and its $k$ neighbours.\n",
    "        Since $g(G) > 3$, the neighbours of $v$ cannot be adjacent to each other or else a $C_3$ will form.\n",
    "        Also, since $g(G) > 4$, the neighbours of $v$ cannot be adjacent to some common vertex $u, u \\neq v,$ or else a $C_4$ will form.\n",
    "        This means that the neighbours of neighbours must be pairwise disjoint.\n",
    "        Counting all the vertices so far, we get $1 + k + k(k-1) = k^2 + 1$.\n",
    "        Hence, we derived the lower bound as desired. $QED$\n",
    "    </div>\n",
    "</details>"
   ]
  },
  {
   "cell_type": "markdown",
   "id": "headed-utility",
   "metadata": {
    "deletable": false,
    "editable": false,
    "run_control": {
     "frozen": true
    }
   },
   "source": [
    "$\\theorem$ If $g(G) \\geq 4$ (triangle-free), then $v(G) \\geq \\delta(G) + \\Delta(G)$\n",
    "\n",
    "$\\proof$ \n",
    "\n",
    "<details>\n",
    "    <summary style=\"color: blue\">$\\proof$ (Click to expand)</summary>\n",
    "    <div style=\"background: aliceblue\">\n",
    "        <p>\n",
    "        We find any vertex $u$ such that $deg_G(u) = \\Delta(G)$.\n",
    "        </p>\n",
    "        <p>\n",
    "        If there is no $uv$ edge in $G$, then $\\Delta(G) = 0 = \\delta(G)$.\n",
    "        Hence, the theorem is trivially true.\n",
    "        </p>\n",
    "        <p>\n",
    "        Suppose not, we consider any edge $uv$,\n",
    "        Since $G$ is triangle-free, $u$ and $v$ cannot share a neighbour.\n",
    "        Hence, the number of vertices in the union of $u$'s and $v$'s neighbour is as below:\n",
    "        $$\n",
    "        |N_G(u) \\cup N_G(v)| = deg_G(u) + deg_G(v) = \\Delta(G) + deg_G(v) \\geq  \\Delta(G) + \\delta(G)\n",
    "        $$\n",
    "        $QED$\n",
    "        </p>\n",
    "    </div>\n",
    "</details>\n"
   ]
  },
  {
   "cell_type": "markdown",
   "id": "immediate-acoustic",
   "metadata": {
    "deletable": false,
    "editable": false,
    "run_control": {
     "frozen": true
    }
   },
   "source": [
    "$\\prop$ If $g(G) \\geq 4$ (triangle-free), then $deg(u) + deg(v) \\leq n$ for all $uv \\in E(G)$\n",
    "\n",
    "<details>\n",
    "    <summary style=\"color: blue\">$\\proof$ (Click to expand)</summary>\n",
    "    <div style=\"background: aliceblue\">\n",
    "        Since there cannot be a 3-cycle, $u$ and $v$ cannot share a neighbour. \n",
    "        Thus,\n",
    "        $$\n",
    "        |N_G(u) \\cup N_G(v)| = deg_G(u) + deg_G(v) \\leq n\n",
    "        $$\n",
    "        $QED$\n",
    "    </div>\n",
    "</details>\n"
   ]
  }
 ],
 "metadata": {
  "kernelspec": {
   "display_name": "Python 3 (ipykernel)",
   "language": "python",
   "name": "python3"
  },
  "language_info": {
   "codemirror_mode": {
    "name": "ipython",
    "version": 3
   },
   "file_extension": ".py",
   "mimetype": "text/x-python",
   "name": "python",
   "nbconvert_exporter": "python",
   "pygments_lexer": "ipython3",
   "version": "3.9.7"
  }
 },
 "nbformat": 4,
 "nbformat_minor": 5
}
