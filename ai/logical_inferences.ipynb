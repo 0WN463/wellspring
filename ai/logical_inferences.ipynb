{
 "cells": [
  {
   "cell_type": "markdown",
   "id": "3a437e39",
   "metadata": {},
   "source": [
    "# Logical inferences\n",
    "\n",
    "**Prerequisites: [Logic](TODO)**\n",
    "\n",
    "An agent knows a statement $S$ is true if and only if:\n",
    "* $S$ is true\n",
    "* It believes $S$ is true\n",
    "* It is justified in believing that $S$ is true\n",
    "\n",
    "We can formalized this as [propositional logic](TODO)\n",
    "\n"
   ]
  },
  {
   "cell_type": "markdown",
   "id": "bc3a499f",
   "metadata": {},
   "source": [
    "We have the following definitions:\n",
    "\n",
    "**Knowledge base**: A list of things that the agent knows to be true, _ie_ [premise](TODO)\n",
    "\n",
    "Hence, the problem is that given a knowledge base and some assertion $\\varphi$, how would an agent determine the truthfulness of said assertion?\n"
   ]
  },
  {
   "cell_type": "markdown",
   "id": "8f130034",
   "metadata": {},
   "source": [
    "This is basically a [SAT](../algorithm-analysis/np_hardness.ipynb#SAT) problem, and the straightforward way would be to find a assignment $\\tau$ that satisfy $\\varphi$.\n",
    "Symbolically, we are finding the existence/non-existence of a $\\tau$ such that:\n",
    "$$\n",
    "\\tau \\models \\varphi\n",
    "$$"
   ]
  },
  {
   "cell_type": "markdown",
   "id": "c10b5e90",
   "metadata": {},
   "source": [
    "For example, given $\\varphi = \\left( \\left( a \\lor b \\right) \\land  \\lnot c \\right)$\n",
    "We can see that $\\tau_1 = \\{a = 1, b = 1, c = 1 \\}$ results in $\\varphi(\\tau_1) = 0$.\n",
    "\n",
    "While $\\tau_2 = \\{a = 1, b = 0, c = 0 \\}$ results in $\\varphi(\\tau_2) = 1$."
   ]
  },
  {
   "cell_type": "markdown",
   "id": "a9848109",
   "metadata": {},
   "source": [
    "Hence, we make the following definitions about $\\varphi$:\n",
    "\n",
    "$\\varphi$ is **SAT** (satisfiable) if \n",
    "$$\n",
    "\\exists \\tau: \\tau \\models \\varphi\n",
    "$$\n",
    "\n",
    "$\\varphi$ is **VALID** if \n",
    "$$\n",
    "\\forall\\tau: \\tau \\models \\varphi\n",
    "$$\n",
    "\n",
    "$\\varphi$ is **UNSAT** (unsatisfiable) if \n",
    "$$\n",
    "\\forall\\tau: \\tau \\not \\models \\varphi\n",
    "$$"
   ]
  },
  {
   "cell_type": "markdown",
   "id": "134d79f3",
   "metadata": {},
   "source": [
    "For example, $(a \\lor \\lnot a)$ is VALID and SAT.\n",
    "$(a \\lor b)$ is SAT.\n",
    "And $(a \\land \\lnot a)$ is UNSAT."
   ]
  },
  {
   "cell_type": "markdown",
   "id": "d8d07276",
   "metadata": {},
   "source": [
    "Also, we define the following relationship between clauses:\n",
    "\n",
    "If and only if $\\varphi \\rightarrow \\psi$ is VALID, then:\n",
    "$$\n",
    "\\varphi \\models \\psi\n",
    "$$\n",
    "\n",
    "If and only if $\\varphi  \\leftrightarrow \\psi$ is VALID, then:\n",
    "$$\n",
    "\\varphi \\quad |\\hspace{-.4em} == \\hspace{-.4em}| \\quad \\psi\n",
    "$$\n",
    "This is saying that the two are **semantically equivalent**."
   ]
  },
  {
   "cell_type": "markdown",
   "id": "ef18cdf6",
   "metadata": {},
   "source": [
    "<span hidden> TODO: Check if can link with logic </span>"
   ]
  },
  {
   "cell_type": "markdown",
   "id": "ebdb4524",
   "metadata": {},
   "source": [
    "## Conjunction normal form\n",
    "\n",
    "We define the conjunction normal form as a formula $\\varphi$ in the form of\n",
    "$$\n",
    "C_1 \\land C_2 \\land \\dots \\land C_n\n",
    "$$\n",
    "\n",
    "and $C_i$ is in the form of\n",
    "$$\n",
    "C_i = l_1 \\lor l_2 \\lor \\dots \\lor l_{k_i}\n",
    "$$\n",
    "where $l$ are the literals, which are either $a$ or $\\lnot a$, for $a \\in PROP$"
   ]
  },
  {
   "cell_type": "markdown",
   "id": "5d866a7a",
   "metadata": {},
   "source": [
    "### Theorem\n",
    "Every formula $\\varphi$ can be converted into a CNF"
   ]
  },
  {
   "cell_type": "markdown",
   "id": "2ebbc5c0",
   "metadata": {},
   "source": [
    "This process usually involves application of De Morgan's rule and associativity/communitivity of boolean operators.\n",
    "\n",
    "For ease of discussion, we will be referring to the CNF form from now on for consistency."
   ]
  },
  {
   "cell_type": "markdown",
   "id": "9bf1468b",
   "metadata": {},
   "source": [
    "With this background, we will now proceed to prove the validity of some statement $\\varphi$.\n",
    "\n",
    "We are given some $KB$, and which to determine if $KB \\models \\varphi$. ($\\models$ means \"entails\" in this context, please be careful between the type of variables used with this operator as the meaning is context sensitive).\n",
    "\n",
    "That is, we wish to prove if $KB \\rightarrow \\varphi$ is VALID.\n",
    "\n",
    "Notice that we can perform a [proof by contraction](TODO). \n",
    "If we prove that $\\lnot \\varphi$ is UNSAT, then the proof is complete."
   ]
  },
  {
   "cell_type": "markdown",
   "id": "1fa980e1",
   "metadata": {},
   "source": [
    "## Naive approach\n",
    "A simply way to prove this is to check every $\\tau$ possible, and find that there exists an satisfiable assignment to $\\lnot \\varphi$, or find there no such assignment exists.\n",
    "This approach is $O(2^{|PROP|}$), which is rather slow."
   ]
  },
  {
   "cell_type": "markdown",
   "id": "77c7abe7",
   "metadata": {},
   "source": [
    "## Resolution\n",
    "\n",
    "Suppose we have the following formula:\n",
    "$$\n",
    "\\varphi = p_1 \\land \\lnot p_1 \\land \\dots\n",
    "$$"
   ]
  },
  {
   "cell_type": "markdown",
   "id": "644fbd85",
   "metadata": {},
   "source": [
    "Notice that since there is a $(p_1 \\land \\lnot p_1)$, this is never satisfiable, and thus would be UNSAT.\n",
    "And we didn't need to consider the rest of the formula."
   ]
  },
  {
   "cell_type": "markdown",
   "id": "714ebd54",
   "metadata": {},
   "source": [
    "We symbolize the resolution step as follows:\n",
    "$$\n",
    "\\frac{(p) \\land (\\lnot p)}{\\square}\n",
    "$$\n",
    "where $\\square$ is the unsatisiable set"
   ]
  },
  {
   "cell_type": "markdown",
   "id": "d59505e8",
   "metadata": {},
   "source": [
    "Another logical inference is as follows:\n",
    "$$\n",
    "\\frac{(a \\lor b) \\land (\\lnot b \\lor c)}{a \\land c}\n",
    "$$"
   ]
  },
  {
   "cell_type": "markdown",
   "id": "c59962c4",
   "metadata": {},
   "source": [
    "And with this, we can prove our assertions programmatically.\n",
    "We just keep generating new clauses using our previous clauses until we find an unsatisiable set.\n",
    "If we reach a point where no new clauses can be generated, and no unsastifiable set is generated, then $\\lnot \\varphi$ must be SAT and hence $KB \\rightarrow \\varphi$ must be INVALID."
   ]
  },
  {
   "cell_type": "code",
   "execution_count": 95,
   "id": "ac07edab",
   "metadata": {},
   "outputs": [],
   "source": [
    "def invert(lit):\n",
    "    return \"!\" + lit if \"!\" not in lit else lit[1:]\n",
    "\n",
    "\n",
    "def resolve(a, b):\n",
    "    literals = [lit for lit in a]\n",
    "    inv_lit = [invert(lit) for lit in a]\n",
    "\n",
    "    result = []\n",
    "    for lit in b:\n",
    "        if lit in inv_lit:\n",
    "            new_set = a.union(b)\n",
    "            new_set.remove(lit)\n",
    "            new_set.remove(invert(lit))\n",
    "            result.append(new_set)\n",
    "    return result\n",
    "\n",
    "\n",
    "def is_unsat(form):\n",
    "    singular_clauses = set(min(clause) for clause in form if len(clause) == 1)\n",
    "    for clause in singular_clauses:\n",
    "        if invert(clause) in singular_clauses:\n",
    "            return True\n",
    "\n",
    "    return False"
   ]
  },
  {
   "cell_type": "code",
   "execution_count": 126,
   "id": "a2a24f21",
   "metadata": {},
   "outputs": [],
   "source": [
    "def check_sat(phi):\n",
    "    while True:\n",
    "        old_phi = phi.copy()\n",
    "        if is_unsat(phi):\n",
    "            return False\n",
    "\n",
    "        for a in phi:\n",
    "            for b in phi:\n",
    "                if a != b:\n",
    "                    clauses = resolve(a, b)\n",
    "                    for c in clauses:\n",
    "                        if c not in phi:\n",
    "                            phi.append(c)\n",
    "\n",
    "        if old_phi == phi:\n",
    "            return True"
   ]
  },
  {
   "cell_type": "code",
   "execution_count": 127,
   "id": "7c8665f9",
   "metadata": {},
   "outputs": [],
   "source": [
    "phi = [\n",
    "    {\"a\", \"b\", \"c\"},\n",
    "    {\"!a\", \"b\", \"d\"},\n",
    "    {\"c\", \"!d\"},\n",
    "    {\"!b\", \"c\"},\n",
    "    {\"!b\", \"!c\"},\n",
    "    {\"b\", \"!c\"}\n",
    "]"
   ]
  },
  {
   "cell_type": "code",
   "execution_count": 128,
   "id": "7917004c",
   "metadata": {
    "scrolled": true
   },
   "outputs": [
    {
     "data": {
      "text/plain": [
       "False"
      ]
     },
     "execution_count": 128,
     "metadata": {},
     "output_type": "execute_result"
    }
   ],
   "source": [
    "check_sat(phi)"
   ]
  },
  {
   "cell_type": "code",
   "execution_count": 102,
   "id": "3d5cfd1b",
   "metadata": {},
   "outputs": [],
   "source": [
    "phi = [{\"a\", \"b\"}, {\"a\", \"!b\"}]"
   ]
  },
  {
   "cell_type": "code",
   "execution_count": 103,
   "id": "3f0a36be",
   "metadata": {},
   "outputs": [
    {
     "data": {
      "text/plain": [
       "True"
      ]
     },
     "execution_count": 103,
     "metadata": {},
     "output_type": "execute_result"
    }
   ],
   "source": [
    "check_sat(phi)"
   ]
  }
 ],
 "metadata": {
  "kernelspec": {
   "display_name": "Python 3 (ipykernel)",
   "language": "python",
   "name": "python3"
  },
  "language_info": {
   "codemirror_mode": {
    "name": "ipython",
    "version": 3
   },
   "file_extension": ".py",
   "mimetype": "text/x-python",
   "name": "python",
   "nbconvert_exporter": "python",
   "pygments_lexer": "ipython3",
   "version": "3.10.2"
  }
 },
 "nbformat": 4,
 "nbformat_minor": 5
}
