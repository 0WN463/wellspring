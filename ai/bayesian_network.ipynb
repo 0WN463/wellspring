{
 "cells": [
  {
   "cell_type": "code",
   "execution_count": 1,
   "id": "afc08d6f",
   "metadata": {},
   "outputs": [],
   "source": [
    "import random\n",
    "import numpy as np\n",
    "\n",
    "random.seed(42)\n",
    "np.random.seed(42)"
   ]
  },
  {
   "cell_type": "markdown",
   "id": "f184e844",
   "metadata": {},
   "source": [
    "# Bayesian Network"
   ]
  },
  {
   "cell_type": "markdown",
   "id": "31af93a2",
   "metadata": {},
   "source": [
    "**Prerequisites**\n",
    "\n",
    "Some basic knowledge about [probabilities](../statistic/introduction.ipynb) and [conditional probabilities](../statistic/conditional_probability.ipynb)."
   ]
  },
  {
   "cell_type": "markdown",
   "id": "b2358a74",
   "metadata": {},
   "source": [
    "## Motivation\n",
    "\n",
    "Consider a jar with 2 coins.\n",
    "\n",
    "One is a fair coin $(C_{50})$, and the other is a biased coin $(C_{90})$ with $Pr(H) = 0.9.\n",
    "The agent does not know which coin we pick, but we do.\n",
    "\n",
    "We pick one of the coin and start tossing.\n",
    "Agent is tasked to figure out which coin we are holding.\n",
    "Hence, the agent can refine its guess by the result of the coin toss.\n",
    "Intuitively, if the result is a heads, then it is more likely for it to be the $C_{90}$, while if the results is tails, it is more likely to be the $C_{50}$.\n",
    "\n",
    "Before tossing the coin, the agent's prediction would be:\n",
    "$$P(C_{50}) = 0.5 \\quad P(C_{90}) = 0.5$$\n",
    "\n",
    "After tossing the coin, the agent's prediction would be:\n",
    "$$P(C_{50} | \\text{Result of Toss}) \\quad P(C_{90} | \\text{Result of Toss})$$"
   ]
  },
  {
   "cell_type": "markdown",
   "id": "b2bbd2c0",
   "metadata": {},
   "source": [
    "By [Bayes Theorem](../statistic/conditional_probability.ipynb#Bayes-theorem):\n",
    "\n",
    "$$P(A|B) = \\frac{P(A \\cap B)}{P(B)}$$\n",
    "\n",
    "Assuming we got HHHTTT\n",
    "\n",
    "$$P(C_{50} | HHHTTT) = \\frac{0.5(0.5)^6}{0.5(0.5)^6 + 0.5(0.9)^3 (0.1^3)} \\approx 0.9554$$\n",
    "\n",
    "$$P(C_{90} | HHHTTT) = \\frac{0.5(0.1)^3(0.9)^3}{0.5(0.5)^6 + 0.5(0.9)^3 (0.1^3)} \\approx 0.04458$$\n",
    "\n",
    "Hence, it is more likely for it to be the $C_{50}$, as per our intuition.\n",
    "\n",
    "### Generalization\n",
    "\n",
    "We have 2 models, and we want to determine which model explains the results better.\n",
    "Notice that $(C_{50} |$ Result of Toss) and  $(C_{90} |$ Result of Toss) have the same denominator.\n",
    "Thus, to compare the 2 probabilities, we only have to compare the numerator."
   ]
  },
  {
   "cell_type": "markdown",
   "id": "a6a84d6c",
   "metadata": {},
   "source": [
    "## Probability table\n",
    "\n",
    "Assuming we are interested in grades, salary and birthdays of fresh graduates.\n",
    "\n",
    "We discretize the variables as such:\n",
    "* Grades: If the student graduated with honors\n",
    "* Salary: If the student earns at least \\$5000 a month\n",
    "* Birthday: If the student is born in the months before July\n",
    "\n",
    "We can do a survey to see the relationship between these factors.\n",
    "\n",
    "Suppose that we obtain the following sample, from a sample size of 600"
   ]
  },
  {
   "cell_type": "markdown",
   "id": "e2d613c8",
   "metadata": {},
   "source": [
    "| Grades | Salary  | Birthday | Frequency  \n",
    "| ---|---|---|---|\n",
    "| T |T  |T  | 160  \n",
    "| T | T | F |  60 \n",
    "| T | F | T | 240  \n",
    "| T | F | F |  40 \n",
    "| F | T | T |  10 \n",
    "| F | T | F |  60 \n",
    "| F | F | T |  10 \n",
    "| F | T | F |  20 "
   ]
  },
  {
   "cell_type": "markdown",
   "id": "bd4cb770",
   "metadata": {},
   "source": [
    "Hence, suppose that our agent saw a student who has high salary, then it is asked if the student had high grades.\n",
    "The agent would be able to compute the probability using the table,  as follows:\n",
    "\n",
    "$$P(G) = \\frac{160+60+240+40}{600} = \\frac{500}{600}$$\n",
    "\n",
    "$$P(G|S) = \\frac{60 + 160}{160+60+10+60}$$"
   ]
  },
  {
   "cell_type": "markdown",
   "id": "7fda868d",
   "metadata": {},
   "source": [
    "### Problems\n",
    "\n",
    "For a small improvement, we can remove the last entry as we can derive the last entry by $1 - \\sum _{e \\in\\text{all other entries}}Pr(e)$\n",
    "\n",
    "Hence, we get the representation below:"
   ]
  },
  {
   "cell_type": "markdown",
   "id": "6d4beb9c",
   "metadata": {},
   "source": [
    "| Grades | Salary  | Birthday | Frequency  \n",
    "| ---|---|---|---|\n",
    "| T |T  |T  | 160/600  \n",
    "| T | T | F |  60/600 \n",
    "| T | F | T | 240/600  \n",
    "| T | F | F |  40/600 \n",
    "| F | T | T |  10/600 \n",
    "| F | T | F |  60/600 \n",
    "| F | F | T |  10/600 "
   ]
  },
  {
   "cell_type": "markdown",
   "id": "19768147",
   "metadata": {},
   "source": [
    "However, the table size is still $2^n$, exponential to number of variables. "
   ]
  },
  {
   "cell_type": "markdown",
   "id": "3c60aa5f",
   "metadata": {},
   "source": [
    "## Bayesian Network\n",
    "\n",
    "Suppose we have 5 (boolean) variables instead, and are looking at the outcome of a fresh graduate at an interview: \n",
    "* Grades: $G$\n",
    "* Salary: $S$\n",
    "* Performance in interview: $I$\n",
    "* Mood of candidate: $M$\n",
    "* Amount of tip given to others: $T$\n",
    "\n",
    "We can theorize a few relationship between the variables, such as:\n",
    "* $S$ is dependent on $I$\n",
    "* $I$ is dependent on $G$ and $M$\n",
    "* $I$ is not dependent on $T$\n",
    "* *etc*\n",
    "\n",
    "We can represent the dependency of the variables as a graph."
   ]
  },
  {
   "cell_type": "code",
   "execution_count": 2,
   "id": "aeef9938",
   "metadata": {},
   "outputs": [
    {
     "data": {
      "image/png": "[encoded data removed]",
      "text/plain": [
       "<Figure size 432x288 with 1 Axes>"
      ]
     },
     "metadata": {},
     "output_type": "display_data"
    }
   ],
   "source": [
    "import networkx as nx\n",
    "import matplotlib.pyplot as plt\n",
    "\n",
    "G = nx.DiGraph()\n",
    "G.add_edge(\"I\", \"S\")\n",
    "G.add_edge(\"G\", \"I\")\n",
    "G.add_edge(\"M\", \"I\")\n",
    "G.add_edge(\"M\", \"T\")\n",
    "nx.draw(G, with_labels=True)\n",
    "plt.show()"
   ]
  },
  {
   "cell_type": "markdown",
   "id": "c3da8e80",
   "metadata": {},
   "source": [
    "We call this network **Bayesian Network/Belief Network/Inference Network**.\n",
    "\n",
    "With this, we can make a more compressed table.\n",
    "\n",
    "For example, between $G$, $M$ and $I$"
   ]
  },
  {
   "cell_type": "markdown",
   "id": "be049a1f",
   "metadata": {},
   "source": [
    "| $$G$$ | $$M$$  | $$P(I | G, M)$$ | \n",
    "| --- | --- | --- |\n",
    "| T |T  | 160/220 | \n",
    "| T | F |  240/280 | \n",
    "| F | T |   10/70| \n",
    "| F | F |  20/30| "
   ]
  },
  {
   "cell_type": "markdown",
   "id": "e7bd0a8c",
   "metadata": {},
   "source": [
    "Note that the sum of the right column may not be 1, since this is conditional probabilities.\n",
    "\n",
    "Also, we have omitted the probabilities related to $P(I = F | \\cdot)$, since they can be derived from $P(I | \\cdot)$, which also saves many entries in our table."
   ]
  },
  {
   "cell_type": "markdown",
   "id": "80fc059e",
   "metadata": {},
   "source": [
    "Assume that the maximum number of parents that any nodes have in our graph is $q$.\n",
    "\n",
    "We would have at most $2^q$ entries per table. \n",
    "Thus there are at most $2^q \\times n$ entries overall.\n",
    "\n",
    "For our example, we will need 10 entries. (1 for $G, M$; 2 for $T, S$ and 4 for $I$).\n",
    "This is much better than the $2^5 -1 = 31$ entries that we need previously. "
   ]
  },
  {
   "cell_type": "markdown",
   "id": "655b7b7c",
   "metadata": {},
   "source": [
    "### Theorem\n",
    "\n",
    "Each node in a network is independent of its non-descendents, given its parents."
   ]
  },
  {
   "cell_type": "markdown",
   "id": "3449ce77",
   "metadata": {},
   "source": [
    "### Examples\n",
    "\n",
    "$P(I| G,M,T) = P(I| G, M)$, as T is a non-descendant and $G$ and $M$ are parents.\n",
    "\n",
    "$P(T| M, G) = P(T| M)$\n",
    "\n",
    "$P(I | S, T, M) = P(I, S, T, M) / P(S, T ,M)$ may not = $P(I | G, M)$ as S is a child of I"
   ]
  },
  {
   "cell_type": "markdown",
   "id": "c0a8bd61",
   "metadata": {},
   "source": [
    "### Chain rule\n",
    "\n",
    "$$P(a,b,c,d,e) = P(a|b,c,d,e) P(b|c,d,e) \\dots P(e)$$"
   ]
  },
  {
   "cell_type": "markdown",
   "id": "274bc33d",
   "metadata": {},
   "source": [
    "## Reordering the variable\n",
    "\n",
    "Reordering variables may make it easier to factor.\n",
    "\n",
    "For example, it is difficult to solve $P(G, I, S, M, T)$ directly, since $S$ is not a parent of $I$.\n",
    "\n",
    "But we can perform the below\n",
    "\n",
    "$$\n",
    "\\begin{align}\n",
    "P(G, I, S, M, T) &= P(S, I, G ,T ,M) \\\\\n",
    "&= P(S | I,G,T,M) \\times P(I| G, T, M) \\times P(G | T,M) \\times P(T| M) \\times P(M) \\\\\n",
    "&=  P(S | I) \\times P(I| G, M) \\times P(G) \\times P(T| M) \\times P(M) \\\\\n",
    "\\end{align}\n",
    "$$\n",
    "\n",
    "Thus, at each step, we want each probability $P(A| X_i)$ such that $X_i$ are not descendant of A\n",
    "\n",
    "Since this is a directly acyclic graph, we can recursively choose nodes without children and remove them."
   ]
  }
 ],
 "metadata": {
  "kernelspec": {
   "display_name": "Python 3 (ipykernel)",
   "language": "python",
   "name": "python3"
  },
  "language_info": {
   "codemirror_mode": {
    "name": "ipython",
    "version": 3
   },
   "file_extension": ".py",
   "mimetype": "text/x-python",
   "name": "python",
   "nbconvert_exporter": "python",
   "pygments_lexer": "ipython3",
   "version": "3.10.2"
  }
 },
 "nbformat": 4,
 "nbformat_minor": 5
}
