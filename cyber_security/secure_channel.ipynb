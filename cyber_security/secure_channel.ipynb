{
 "cells": [
  {
   "cell_type": "markdown",
   "id": "98c895cd",
   "metadata": {},
   "source": [
    "# Strong authentication\n",
    "A authentication system is known to be \"weak\" when an attacker who can obtain the password and replay it.\n",
    "\n",
    "For instance, a typical password system is weak, because anyone who has access to the channel can view the password sent by the sender, and use the same credentials to authenticate with the receiver.\n",
    "\n",
    "One example of strong authentication is the **challenge-response** system.\n",
    "\n",
    "## Shared-key cryptography challenge-response\n",
    "Suppose that both sender and receiver shares some secret key $k$.\n",
    "Then the following process is performed for authentication\n",
    "1. Alice requests communication with Bob\n",
    "2. Bob randomly decides on a message $m$\n",
    "3. Bob sends Alice the ciphertext $y = E_k(m)$\n",
    "4. Alice decrypts the ciphertext and replies Bob with $m' = D_k(y)$\n",
    "5. Bob verifies that $m'=m$, which is evidence that Alice knows the secret key $k$.\n",
    "\n",
    "Notice that in this case, even if the attacker has full control over the channel, they cannot derive the secret key $k$ which was never sent through the channel directly.\n",
    "And since $m$ is chosen randomly at the start of any communication, the attacker is also unable to use the $m$ or $m'$ they obtain to request a separate connection with the receiver.\n",
    "\n",
    "## Public-key cryptography challenge-response\n",
    "Similarly, we can perform the challenge-response in a public-key cryptography setting.\n",
    "\n",
    "The following process is performed for authentication\n",
    "1. Alice requests communication with Bob\n",
    "2. Bob randomly decides on a number $r$ and sends it to Alice\n",
    "3. Alice signs $r$ and sends her signature and her certificate to Bob\n",
    "4. Bob verifies the authenticity of Alice's certificate, then obtain Alice's public key from it\n",
    "5. Bob verifies that the signature on $r$ using her public key\n",
    "\n",
    "In the above cases, $r$ is known as **nonces**, a number that is used only once during communication.\n",
    "\n",
    "## Insufficiency of strong authentication\n",
    "Suppose that the receiver has indeed authenticated that the one sending the message through the channel is a legitimate sender.\n",
    "However, consider the case when an attacker is able to hijack the channel at any point in time.\n",
    "This means that they can impersonate as the sender after the authentication by the receiver, thus nullifying the authentication performed at the start.\n",
    "\n",
    "Hence, strong authentication system, on its own, is unable to the secure the channel.\n",
    "Therefore, to secure the channel in an event that the attacker can compromise the channel after authentication, the communicating parties must share some form of secret key."
   ]
  },
  {
   "cell_type": "markdown",
   "id": "2a4d622d",
   "metadata": {},
   "source": [
    "# Key Exchange\n",
    "For now, we assume that the attacker can only sniff the traffic on the channel, and not able to modify the traffic.\n",
    "We wish to device a scheme where both sender and receiver can agree on some secret using this insecure channel.\n",
    "\n",
    "## Unauthenticated PKC-based key exchange\n",
    "With PKC, the process is straight forward:\n",
    "1. Alice generates a public-private key pair\n",
    "2. Alice sends her public key to Bob\n",
    "3. Bob randomly decides on a session key $k$\n",
    "4. Bob encrypts $k$ with Alice's public key, and sends it over to Alice\n",
    "5. Alice decrypts $k$ using her private key\n",
    "\n",
    "With this, the attacker can only see the encrypted session key on the channel.\n",
    "Since the attacker is unable to derive the session key without Alice's private key, the session is only known the Alice and Bob at the end of the exchange, as desired.\n",
    "\n",
    "## Unauthenticated Diffie-Hellman key exchange (DH)\n",
    "We pre-require Alice and Bob to agree on a generator $g$ and a large prime $p$.\n",
    "1. Alice randomly decides on $a$ and computes $x = g^a \\mod p$\n",
    "2. At the same time, Bob randomly decides on $b$ and computes $y = g^b \\mod p$\n",
    "3. Alice sends $x$ to Bob, while Bob sends $y$ to Alice\n",
    "4. Alice computes $k_a = y^a = g^{ba}$ while Bob computes $k_b= x^b = g^{ab}$.\n",
    "In any case, $k_a = k_b$, which is the session key that they now agree on."
   ]
  },
  {
   "cell_type": "markdown",
   "id": "b1bb4b31",
   "metadata": {},
   "source": [
    "A simplified analogy is:\n",
    "1. Both Alice and Bob shares some secret number $s$\n",
    "2. Alice generates $a$ and Bob generates $b$\n",
    "3. Alice sends $x=a+s$ to Bob and Bob sends $y=b+s$ to Alice\n",
    "4. Alice computes $k_a=y+a$ and Bob computes $k_b=x+b$\n",
    "\n",
    "Since the attacker do not know $a,b$ or $s$, they are unable to compute the session key $k_a,k_b$ using only $x$ and $y$ which they can see on the channel."
   ]
  },
  {
   "cell_type": "markdown",
   "id": "65198ad4",
   "metadata": {},
   "source": [
    "---\n",
    "Bringing it back, note that we assumed that the attacker is unable to modify the traffic on the channel.\n",
    "Consider the case if the attacker is able to hijack the channel.\n",
    "\n",
    "The attacker can perform the following **man-in-the-middle attack**:\n",
    "1. Wait until the sender wishes to communicate with the receiver\n",
    "2. Intercepts the request\n",
    "    1. Respond to the sender's request and perform the key exchange\n",
    "    2. Initiate communication with the receiver via key exchange\n",
    "3. With the previous step, the attacker now shares a session key with the sender $k_1$, and a session key with the receiver $k_2$.\n",
    "4. When the sender wishes to send a message, the attacker will intercept it and decrypt it using $k_1$\n",
    "5. The attacker can now forward (or modify) the message from the sender to the receiver, by encrypting it using $k_2$"
   ]
  },
  {
   "cell_type": "markdown",
   "id": "6fcdbaf1",
   "metadata": {},
   "source": [
    "This arose because key exchange (on its own) only guarantees confidentiality, where no third party can view the message sent on the channel.\n",
    "It fails to guarantee authenticity, wish ensures that the entity that we are communicating with is verified.\n",
    "Hence, the solution is clear, simply incorporate authentication to the key exchange protocols.\n",
    "\n",
    "## Station-to-station protocol\n",
    "This protocol adds signatures to the DH.\n",
    "We pre-require that one party knows the other's public key.\n",
    "\n",
    "1. Alice randomly decides on $a$ and computes $x = g^a \\mod p$\n",
    "2. At the same time, Bob randomly decides on $b$ and computes $y = g^b \\mod p$\n",
    "3. **Bob signs his $y$ to derive $s$**\n",
    "3. Alice sends $x$ to Bob, while Bob sends $(y,s)$ to Alice\n",
    "4. Alice computes $k_a = y^a = g^{ba}$ while Bob computes $k_b= x^b = g^{ab}$.\n",
    "5. **Alice verifies that the signature is valid, and thus the entity is indeed Bob**"
   ]
  },
  {
   "cell_type": "markdown",
   "id": "3f5fca08",
   "metadata": {},
   "source": [
    "This forms the basis for unilateral authentication.\n",
    "We can easily extend it to bilateral authentication if we wish so.\n",
    "\n",
    "Usually, a set of session keys are generated and shared during key exchange.\n",
    "For example, a key will be used to encrypt the messages sent, while another will be used to produce [MAC](./data_origin_authentication.ipynb#mac) to ensure that the messages are not modified."
   ]
  },
  {
   "cell_type": "markdown",
   "id": "982f06ca",
   "metadata": {},
   "source": [
    "# Secure Channel\n",
    "A **secure channel** guarantees **confidentiality, integrity and authenticity** against all attackers who can hijack the network.\n",
    "\n",
    "To ensure confidentiality, we require encryption; while for integrity/authenticity, we use MAC/digital signature.\n",
    "\n",
    "Thus, putting it all together, to obtain a secure channel, the following is to be done.\n",
    "(Once again, we assume unilateral communication for ease of discussion.\n",
    "The following can be easily extended to bilateral communication)\n",
    "\n",
    "1. Sender and receiver perform unilateral authenticated key exchange, obtaining session key of $(k, t)$.\n",
    "2. Using the authentication, sender can be assured of the identity of the receiver.\n",
    "3. Suppose that the sender has a series of messages to send, $m_1, m_2, m_3 \\dots$.\n",
    "4. The sender will then send $(E_k(i || m_i), MAC_t(i || m_i))$, where $||$ is the concatenation operator.\n",
    "\n",
    "Note that we perform \"encrypt-then-MAC\", there are other schemes such as \"MAC-then-encrypt\" or \"MAC-and-encrypt\", each with their own characteristics.\n",
    "\n",
    "Notice that we appended the sequence number $i$ to the message to be encrypted.\n",
    "This is to prevent replay attacks by the attacker.\n",
    "Consider the case where Alice sends Bob the instruction of \"Give me $100\".\n",
    "Without the sequence number, the attacker can capture Alice's traffic, and repeat the same instruction over to Bob using the same session.\n",
    "Thus, the attacker can falsely trick Bob into draining his account.\n",
    "\n",
    "The sequence number prevents the same message to be illegitimately replayed over the channel."
   ]
  },
  {
   "cell_type": "markdown",
   "id": "3c140b1e",
   "metadata": {},
   "source": [
    "## Secure channels in the wild\n",
    "HTTPS is used to secure web traffic.\n",
    "It is built on top of SSL/TLS, which are protocols to secure communication.\n",
    "\n",
    "TLS in a nutshell:\n",
    "1. Cipher negotiation\n",
    "2. Authenticated key exchange\n",
    "3. Symmetric-key based secure communication\n",
    "4. Renegotiate key if need be"
   ]
  }
 ],
 "metadata": {
  "kernelspec": {
   "display_name": "Python 3",
   "language": "python",
   "name": "python3"
  },
  "language_info": {
   "codemirror_mode": {
    "name": "ipython",
    "version": 3
   },
   "file_extension": ".py",
   "mimetype": "text/x-python",
   "name": "python",
   "nbconvert_exporter": "python",
   "pygments_lexer": "ipython3",
   "version": "3.9.5"
  }
 },
 "nbformat": 4,
 "nbformat_minor": 5
}
