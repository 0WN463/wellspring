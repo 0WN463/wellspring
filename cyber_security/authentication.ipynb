{
 "cells": [
  {
   "cell_type": "markdown",
   "id": "47f98922",
   "metadata": {},
   "source": [
    "# Authentication\n",
    "Authentication is the process of assuring that the communicating entity/origin of information is what they claim to be\n",
    "\n",
    "There are two types of authentications:\n",
    "* Entity authentication:\n",
    "    * for connection-based communication\n",
    "    * assuring the identity of the communicating entity\n",
    "    * eg. password, challenge + response, biometrics\n",
    "* Data-origin authentication\n",
    "    * for connectionless communication\n",
    "    * assuring the identity of the origin of information\n",
    "    * eg. MAC, digital signature\n",
    "    \n",
    "An entity/origin is **authentic** when their identity is assured by some supporting evidence.\n",
    "Thus, authenticity is the condition of being authentic.\n",
    "\n",
    "## Authenticity and Integrity\n",
    "Note that authenticity is related to integrity.\n",
    "\n",
    "Consider a message that is modified mid-transit (ie integrity is violated), then clearly the message can no longer be authentic since it does not belong to the author.\n",
    "\n",
    "Thus, we can say that $\\lnot I \\rightarrow \\lnot A$, or by contrapositive, $A \\rightarrow I$.\n",
    "\n",
    "Hence, if a message is authentic, then its integrity is upheld.\n",
    "In other words, authenticity is a stronger condition than integrity.\n",
    "\n",
    "## Applications\n",
    "The issue of authenticity appears in various situations.\n",
    "\n",
    "### Entity\n",
    "Suppose I wish to login to a banking system, how does the banking system knows that I am who I claim to be?\n",
    "\n",
    "Or even when searching for wireless access points, how do we truly know that the access point really is \"Starbucks\"?\n",
    "\n",
    "### Data Origin\n",
    "\n",
    "Suppose a contract is signed by someone, how do we know that the signature is authentic, or the terms of the contract was not modified after signing?\n",
    "\n",
    "Or that you receive a mail which claims to be from the bank.\n",
    "How do we ensure that the sender really is from the bank?"
   ]
  },
  {
   "cell_type": "markdown",
   "id": "cdd41fae",
   "metadata": {},
   "source": [
    "## Password\n",
    "Passwords are a common way to implement an authentication system.\n",
    "\n",
    "### Process\n",
    "#### Stage 1: Bootstrapping\n",
    "* Server establishes a password with each user.\n",
    "* Server keeps a record of the identity (eg userid, username) and the corresponding password\n",
    "\n",
    "Bootstrapping can be done by either:\n",
    "* Server sets a password and sends it to the user via some communication medium, or vice versa.\n",
    "* Server sets a default password for the user\n",
    "\n",
    "#### Stage 2: Authentication\n",
    "* Server authenticates the entity\n",
    "* If the entity provides the correct password corresponding to the claimed identity, the entity is deemed authentic.\n",
    "\n",
    "A typical interaction involves:\n",
    "1. user identifying themselves\n",
    "2. server giving a password challenge\n",
    "3. user replies with the password\n",
    "4. server authenticates the user, authorizing them to perform actions\n",
    "\n",
    "Alternatively, authentication can be performed without interaction.\n",
    "For example, the user simply sends their identifier, their password and their desired action to the server, to which the server will process on their side."
   ]
  },
  {
   "cell_type": "markdown",
   "id": "b8b8bfa3",
   "metadata": {},
   "source": [
    "The identity does not have to be kept a secret.\n",
    "\n",
    "The password must be kept a secret, such that only the user and the server knows.\n",
    "Thus, if an entity knows the secret, it must be either the user or the server."
   ]
  },
  {
   "cell_type": "markdown",
   "id": "5927a323",
   "metadata": {},
   "source": [
    "### Strong/Weak authentication system\n",
    "A weak authentication system is susceptible to **replay attacks**, where information sniffed from the communication channel can be used to impersonate the user.\n",
    "\n",
    "A strong authentication system is one where the above is prevent.\n",
    "\n",
    "Because an attacker can impersonate the user using the credentials sniffed from a previous communication between server and user, password systems are classified as a weak authentication system."
   ]
  },
  {
   "cell_type": "markdown",
   "id": "35540eee",
   "metadata": {},
   "source": [
    "### Attacks on password systems\n",
    "#### Attacking the boopstrap process\n",
    "If the bootstrap is performed by sending the desired password through a communication channel, the attacker can steal the password mid-transit if the channel is insecure.\n",
    "\n",
    "If the bootstrap uses default passwords, the attacker can simply use the default password if they have knowledge of it.\n",
    "This is a commonly occurring issue where many users of internet-enabled devices (eg webcams) fail to change the default password, leading to these devices being compromised."
   ]
  },
  {
   "cell_type": "markdown",
   "id": "4419e340",
   "metadata": {},
   "source": [
    "#### Password guessing\n",
    "Attackers can either perform \n",
    "* **online guessing**: where they directly interact with the authentication system\n",
    "* **offline guessing**: where they can verify if their guesses were correct without interacting with the system (ie where they steal the `shadow` file).\n"
   ]
  },
  {
   "cell_type": "markdown",
   "id": "fcaea7a6",
   "metadata": {},
   "source": [
    "To select the guesses, the attacker can either employ:\n",
    "* Exhaustive search\n",
    "    * Searches all possible combinations of password\n",
    "    * Likely to be infeasible due to large keyspace\n",
    "* Search only the probable passwords\n",
    "    * Use social information (eg birthdays, phone numbers, pet's name) to reduce the search space\n",
    "    * Restrict search space to only English words, known compromised passwords, list of weak/common passwords, etc\n",
    "        * Also known as a dictionary attack"
   ]
  },
  {
   "cell_type": "markdown",
   "id": "b69cc11d",
   "metadata": {},
   "source": [
    "#### Password stealing\n",
    "Attackers can also gain access to the password simply by obtaining it from the user.\n",
    "\n",
    "Examples includes:\n",
    "* Shoulder surfing:\n",
    "    * Looking at the password as the user is entering them\n",
    "* Sniffing\n",
    "    * Listening/intercepting the communication channel\n",
    "        * Some channels sends information unencrypted, allowing attackers to obtain them by spying on the channel\n",
    "        * eg FTP, HTTP\n",
    "* Key logger\n",
    "    * Captures the keystrokes made by the user and sends it to the attacker\n",
    "    * Could be software, in the form of a virus, or hardware in the form of a physical key-logger\n",
    "* Login spoofing\n",
    "    * Attacker displays a bogus login prompt to the user\n",
    "    * Attacker steals passwords once the users uses the bogus prompt\n",
    "* Phishing\n",
    "    * Similar to login spoofing, where the attacker requests for the user's password via some communication channel.\n",
    "    * Spear phishing occurs when phishing is targeted at a small group of people\n",
    "* Abusing of password cache\n",
    "    * Passwords may be cached at workstations\n",
    "    * Attackers can access the system using cached credentials\n",
    "* Insider attack\n",
    "    * Malicious/Rogue system admins can steal passwords"
   ]
  },
  {
   "cell_type": "markdown",
   "id": "79ce61b4",
   "metadata": {},
   "source": [
    "## Counter Measures\n",
    "### Use of strong passwords\n",
    "A password should be chosen among all possible keys randomly.\n",
    "To ensure the randomness of the password chosen, an **automatic password generator** can be employed.\n",
    "\n",
    "Many password generators uses a random selection of characters and symbols as the password, making it harder to guess at the cost of being harder to remember as well.\n",
    "A solution to this is to use a password manager.\n",
    "There even is a trend of using [xkcd-styled passwords](https://xkcd.com/936/)."
   ]
  },
  {
   "cell_type": "markdown",
   "id": "a3683d0f",
   "metadata": {},
   "source": [
    "### Limit login attempts\n",
    "Incorporate features that dissuade multiple login attempts.\n",
    "This attempts to prevent the attacker from bruteforcing the password by trying multiple combinations in quick succession.\n",
    "These can be implemented by:\n",
    "* Adding a delay to login session\n",
    "    * Or apply increasing delay for each incorrect login attempt from the entity, to avoid reducing usability on legitimate users.\n",
    "    * Add security questions on incorrect login attempt\n",
    "* Lock the account after a few failed attempts\n",
    "    * Do note that this can hurt usability by a significant amount\n",
    "    \n",
    "### Password checks\n",
    "System checks for password on across all users.\n",
    "\n",
    "### Password metering\n",
    "Determine the strength of the password as suggestion to the user on signup.\n",
    "\n",
    "### Password ageing\n",
    "Requires users to change their password regularly.\n",
    "However, many believe that this actually reduces security due issues regarding frequent password changes.\n",
    "\n",
    "### Password requirement policy\n",
    "Enforces that the user's password meet certain requirements on password.\n",
    "Requirements include, using a strong password, not allowing reuse of old password, etc."
   ]
  },
  {
   "cell_type": "markdown",
   "id": "2c0d2bcf",
   "metadata": {},
   "source": [
    "## Protecting the password file\n",
    "Refer to [hashing](./data_origin_authentication.ipynb#protection-of-passwords)."
   ]
  },
  {
   "cell_type": "markdown",
   "id": "7aa2a682",
   "metadata": {},
   "source": [
    "## Security Questions\n",
    "Security questions are a form of fallback authentication or self-service password reset.\n",
    "\n",
    "They have the following characteristics:\n",
    "* Improve usability, as the user can still login even if they forgot the password\n",
    "* Reduce cost of operating a helpdesk to service users who lost their passwords\n",
    "* Weakens security as the attacker has another vector of obtaining access to the system\n",
    "\n",
    "Ideal properties of security questions are:\n",
    "* Memorable\n",
    "    * The user has to have an easy time to recall the answer to the question\n",
    "* Consistent\n",
    "    * The user's answer to the question should not change over time. This ensures that the answer that they set will be the same as the answer they reply at the point of password reset.\n",
    "    * Bad examples includes, \"What is the name of your current spouse?\"\n",
    "* Nearly Universal\n",
    "    * Almost all users should have an answer to the security question\n",
    "    * Bad examples includes, \"What is the name of your first pet?\", as not all users may have had pets.\n",
    "* Safe\n",
    "    * The answer to the question should not be easily guessable or researchable\n",
    "    * This has become harder in the age of social media, as many questions can easily be obtained via social media.\n",
    "    * Bad examples includes, \"What is the name of your best friend\"?"
   ]
  },
  {
   "cell_type": "markdown",
   "id": "2fccc7c8",
   "metadata": {},
   "source": [
    "## ATM\n",
    "To authenticate at an ATM, the user needs to present both a card and their PIN.\n",
    "\n",
    "The card serves as identification, while the PIN serves as the password.\n",
    "\n",
    "However, since the magnetic card uses a well-known standard, attackers can read info off the victim's card to copy it over to a spoofed card.\n",
    "\n",
    "### ATM Skimmer\n",
    "Thus, an ATM skimmer aims to steal both the card information and the PIN from the victim.\n",
    "\n",
    "Hence, they consist of:\n",
    "1. A card-reader on top of the ATM\n",
    "2. A camera, or similar mechanism, to capture the PIN being entered by the victim\n",
    "3. A means of transmitting the information back to the attacker, or the attacker can simply retrieve the stored information from the device after someone falls victim\n",
    "\n",
    "Thus, with skimmers, attackers can spoof the card and enter the correct PIN to commit fraud.\n",
    "\n",
    "### Preventive Measures\n",
    "* Install anti-skimming devices\n",
    "* Shield the keypad\n",
    "* User awareness\n",
    "* Use newer chip-based cards which uses encryption"
   ]
  },
  {
   "cell_type": "markdown",
   "id": "2bae29d2",
   "metadata": {},
   "source": [
    "## Biometric\n",
    "Biometrics uses a **unique physical characteristic** of a person for authentication.\n",
    "\n",
    "During **enrollment**, a **reference template** of the user's biometric data is stored in the system (similar to bootstrapping). \n",
    "\n",
    "During **verification**, a biometric sample data is captured from the user and compared with the stored template using a **matching algorithm**."
   ]
  },
  {
   "cell_type": "markdown",
   "id": "e65bf6c5",
   "metadata": {},
   "source": [
    "### Matching Error\n",
    "Unlike password, capturing biometric data will inevitably introduce some noise, which can cause error when making matching decision.\n",
    "\n",
    "We classify the errors as **False match rate (FMR)** and **False non-match rate (FNMR)**, defined as follows:\n",
    "\n",
    "$$\n",
    "FMR = \\frac{\\text{number of successful false matches}} {\\text{number of attempted false matches}} \\\\\n",
    "FNMR = \\frac{\\text{number of successful genuine matches}} {\\text{number of attempted genuine matches}}\n",
    "$$\n",
    "\n",
    "In general, FMR determines the security of the system, while FNMR determines usability of the system.\n",
    "\n",
    "Matching algorithm employs some adjustable threshold to the matching amount to make the matching decision.\n",
    "Thus, we can adjust the FMR and FNMR by adjusting this threshold.\n",
    "* $\\downarrow$ threshold $\\rightarrow$ $\\downarrow$ FMR, $\\uparrow$ FNMR $\\rightarrow$ less stringent\n",
    "* $\\uparrow$ threshold $\\rightarrow$ $\\uparrow$ FMR, $\\downarrow$ FNMR $\\rightarrow$ more stringent\n"
   ]
  },
  {
   "cell_type": "markdown",
   "id": "f03f4d09",
   "metadata": {},
   "source": [
    "### Comparison between passwords and biometric data\n",
    "\n",
    "|   |Password|Biometric|\n",
    "|:---|:--------|:---------|\n",
    "|Changeable| Yes | No |\n",
    "|Requires users to remember| Yes | No |\n",
    "|Possibility of failing to match| Zero | Some probability of error |\n",
    "|Authentication data can be transferred to another user| Possible | Impossible|"
   ]
  },
  {
   "cell_type": "markdown",
   "id": "3046289b",
   "metadata": {},
   "source": [
    "## n-factor authentication\n",
    "This is when a system requires more than 1 method of authentication.\n",
    "\n",
    "A common variant is the **2-factor authentication (2FA)**.\n",
    "\n",
    "### 2FA\n",
    "\n",
    "The Monetary Authority of Singapore expects all banks to implement 2FA for e-banking.\n",
    "\n",
    "This is implemented using either\n",
    "\n",
    "#### One-time password token\n",
    "A hardware that generates a one time password.\n",
    "This hardwares shares a secret with the bank.\n",
    "\n",
    "They can either be:\n",
    "* Timing based\n",
    "    * The password is generated using both the shared secret and the current time\n",
    "* Sequence based\n",
    "    * The password follows a fixed sequence, where an event triggers the change of password.\n",
    "    \n",
    "#### Mobile phone\n",
    "Another common way of implementing the one-time password system is to deliver the password via sending a text message to the user's mobile.\n",
    "\n",
    "However, it is known that this system is not secure.\n",
    "\n",
    "Possible threats includes:\n",
    "* Interception of the cellular network channel\n",
    "* Text messages are usually stored as plaintext by the Short Messaging Service Centers.\n",
    "* Malware/trojan on the phones\n",
    "\n",
    "#### Authenticator app\n",
    "There is a trend of using an specialized apps to do 2FA."
   ]
  }
 ],
 "metadata": {
  "kernelspec": {
   "display_name": "Python 3",
   "language": "python",
   "name": "python3"
  },
  "language_info": {
   "codemirror_mode": {
    "name": "ipython",
    "version": 3
   },
   "file_extension": ".py",
   "mimetype": "text/x-python",
   "name": "python",
   "nbconvert_exporter": "python",
   "pygments_lexer": "ipython3",
   "version": "3.9.5"
  }
 },
 "nbformat": 4,
 "nbformat_minor": 5
}
