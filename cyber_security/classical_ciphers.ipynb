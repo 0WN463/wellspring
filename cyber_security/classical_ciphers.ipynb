{
 "cells": [
  {
   "cell_type": "code",
   "execution_count": 1,
   "id": "629cb054",
   "metadata": {
    "deletable": false,
    "editable": false,
    "run_control": {
     "frozen": true
    }
   },
   "outputs": [],
   "source": [
    "import sys\n",
    "\n",
    "sys.path.append(\"..\")\n",
    "\n",
    "from common.utility import show_implementation\n",
    "from module.utility import demonstrate_cipher"
   ]
  },
  {
   "cell_type": "markdown",
   "id": "67dfff92",
   "metadata": {
    "deletable": false,
    "editable": false,
    "run_control": {
     "frozen": true
    }
   },
   "source": [
    "# Encryption\n",
    "When we have a message that should only be read by certain users, we can employ encryption.\n",
    "We convert the message (**plaintext**)  into a form that is not readable by anyone (**ciphertext**).\n",
    "Then employ a mechanism for only the intended recipient to recover the plaintext from the ciphertext.\n",
    "\n",
    "$$\n",
    "  \\text{Sender side: plaintext}\\overset{encrypt}{\\longrightarrow}\\text{ciphertext} \\\\\n",
    "  \\text{Receiver side: ciphertext}\\overset{decrypt}{\\longrightarrow}\\text{plaintext}\n",
    "$$\n",
    "\n",
    "Thus, an **encryption scheme/cipher** consists of two algorithms:\n",
    "* **encryption**\n",
    "    * Converts plaintext to ciphertext\n",
    "* **decryption**\n",
    "    * Converts ciphertext to plaintext\n",
    "    \n",
    "There are 2 requirements to a cipher:\n",
    "* Correctness\n",
    "    * For any plaintext, encrypting it then decrypting it will yield the original plaintext\n",
    "    * Mathematically, it is defined as for any plaintext $x$ and key $k$, $D_k(E_k(x)) = x$\n",
    "* Security\n",
    "    * Given a ciphertext, it is difficult to derive useful information on the plaintext or key.\n",
    "    * In other words, the ciphertext should look like a random sequence of bytes\n",
    "    \n",
    "Another typical requirement is that encryption/decryption can be efficiently performed.\n",
    "\n",
    "## Use of Encryption\n",
    "Suppose that Alice wishes to send a message to Bob such that no one else can view the content of the message.\n",
    "\n",
    "1. Alice and Bob shares the encryption key. They either agree on a key beforehand, or Alice sends Bob the key through a **secure channel**\n",
    "2. Alice encrypts her message using the key\n",
    "3. Alice sends the encrypted message through an **insecure channel**\n",
    "4. Bob receives the message through the insecure channel\n",
    "5. Bob decrypts the message using the key\n",
    "\n",
    "By the requirements of the cipher, any malicious entity (Eve) who intercepts the encrypted message is unable to derive the content of the message without knowledge of the key.\n",
    "Since the key is not transmitted via an insecure channel, Eve is unable to view the content of the message."
   ]
  },
  {
   "cell_type": "markdown",
   "id": "ef20787d",
   "metadata": {
    "deletable": false,
    "editable": false,
    "run_control": {
     "frozen": true
    }
   },
   "source": [
    "## Cryptography\n",
    "**Cryptography** is the study of methods in securing communication in the presence of adversaries who has access to the communication medium.\n",
    "Even though encryption is commonly associated with cryptography, **it is only one of its facets**.\n",
    "Other methods includes cryptographic hashes, digital signatures, etc."
   ]
  },
  {
   "cell_type": "markdown",
   "id": "ed782792",
   "metadata": {
    "deletable": false,
    "editable": false,
    "run_control": {
     "frozen": true
    }
   },
   "source": [
    "**Key space**: The set of all possible keys\n",
    "\n",
    "**Key space size**: The total number possible keys\n",
    "\n",
    "**Key size/length**: The number of bits to represent a specific key"
   ]
  },
  {
   "cell_type": "markdown",
   "id": "842beb49",
   "metadata": {
    "deletable": false,
    "editable": false,
    "run_control": {
     "frozen": true
    }
   },
   "source": [
    "## Attacker's pre-knowledge\n",
    "There are multiple models of the kind of resources about the cipher the attackers has access to.\n",
    "### Ciphertext only\n",
    "Attacker has access to large number of ciphertext that are **encrypted with the same key**\n",
    "### Known plaintext\n",
    "Attacker has access pairs of plaintext and its corresponding ciphertext.\n",
    "\n",
    "At initial glance, it may seem unreasonable that an attacker is able to obtain some (if any) plaintext-ciphertext pairs.\n",
    "However, many times, the first/last few bytes of a message can be reasonably guessed.\n",
    "\n",
    "For example:\n",
    "* Email data such as sender/receiver usually occurs in the header of the message\n",
    "* Mails usually start with prefixes such as \"Dear XXX\", and usually end with \"Regards\" or \"Yours sincerely\".\n",
    "* Some short template messages may be used during communication, such as \"Noted with thanks\" or \"Nothing to report\"\n",
    "\n",
    "Thus, it is not unreasonable for attackers to have access to some plaintext-ciphertext pairs, even if it is for fragments of the full messages."
   ]
  },
  {
   "cell_type": "markdown",
   "id": "719e8197",
   "metadata": {
    "deletable": false,
    "editable": false,
    "run_control": {
     "frozen": true
    }
   },
   "source": [
    "## Classical Ciphers\n",
    "Classical ciphers are ciphers that have been used long ago.\n",
    "We can study them for historical understanding of ciphers.\n",
    "However, it is to note that most of these ciphers **are not secure in the \"computer-era\"**\n",
    "\n",
    "### Substitution Ciphers\n",
    "\n",
    "Key: A substitution table which gives a one-to-one correspondence between a character in the plaintext to a character in the ciphertext.\n",
    "\n",
    "Key space size: $27! \\approx 10^{28}$ \n",
    "\n",
    "Process: Each letter in the plaintext is substituted with the corresponding letter in the ciphertext, according the the substitution table.\n",
    "\n",
    "It is a **monoalphabetic** cipher, meaning different occurences of the same letter in the plaintext is mapped to the same letter in the ciphertext."
   ]
  },
  {
   "cell_type": "code",
   "execution_count": 2,
   "id": "72aec738",
   "metadata": {
    "deletable": false,
    "editable": false,
    "run_control": {
     "frozen": true
    },
    "scrolled": true
   },
   "outputs": [
    {
     "name": "stdout",
     "output_type": "stream",
     "text": [
      "class SubstitutionCipher:\n",
      "    def __init__(self, key):\n",
      "        self.domain = ascii_lowercase + ' '\n",
      "        assert len(key) == len(self.domain)\n",
      "        self.key = key\n",
      "        self.table = {a:b for a,b in zip(self.domain, key)}\n",
      "        self.rtable = {b:a for a,b in zip(self.domain, key)}\n",
      "    \n",
      "    def __repr__(self):\n",
      "        return f'Substitution Table:\\n{self.domain}\\n{self.key}'\n",
      "    \n",
      "    def encrypt(self, message):\n",
      "        return ''.join(map(lambda x: self.table[x], message))\n",
      "        \n",
      "    def decrypt(self, message):\n",
      "        return ''.join(map(lambda x: self.rtable[x], message))\n"
     ]
    }
   ],
   "source": [
    "from module.classical_cipher import SubstitutionCipher\n",
    "\n",
    "show_implementation(SubstitutionCipher)"
   ]
  },
  {
   "cell_type": "code",
   "execution_count": 3,
   "id": "4cfbf982",
   "metadata": {
    "deletable": false,
    "editable": false,
    "run_control": {
     "frozen": true
    }
   },
   "outputs": [
    {
     "name": "stdout",
     "output_type": "stream",
     "text": [
      "Substitution Table:\n",
      "abcdefghijklmnopqrstuvwxyz \n",
      "igtxzcquksln wahrbofpvemyjd\n",
      "\n",
      "Plaintext:                          hello world\n",
      "Ciphertext/Encrypted plaintext:     uznnadeabnx\n",
      "Decrypted \"uznnadeabnx\":            hello world\n"
     ]
    }
   ],
   "source": [
    "key = \"igtxzcquksln wahrbofpvemyjd\"\n",
    "plaintext = \"hello world\"\n",
    "cipher = SubstitutionCipher(key)\n",
    "\n",
    "demonstrate_cipher(cipher, plaintext)"
   ]
  },
  {
   "cell_type": "markdown",
   "id": "50decf3e",
   "metadata": {
    "deletable": false,
    "editable": false,
    "run_control": {
     "frozen": true
    }
   },
   "source": [
    "#### Behaviours against attacks\n",
    "##### Bruteforce attacks\n",
    "Bruteforce attacks aims to iterate through all the possible keys in the keyspace until a message is produced.\n",
    "Suppose that our cipher works on the domain of 27 characters, 26 letters + 1 whitespace.\n",
    "The keyspace is size $27! > 10^{28}$.\n",
    "This is rather infeasible approach to cracking the cipher due to the large keyspace.\n",
    "\n",
    "##### Known plaintext attacks\n",
    "Suppose that our attacker knows that `hello world` is encrypted to `uznnadeabnx` using our cipher.\n",
    "This allows them to derive parts of our substitution table, such as $h \\rightarrow u, e \\rightarrow z, \\dots$.\n",
    "This means that given a large enough enough message, the attacker can derive our subsitution table (and thus our key) completely.\n",
    "\n",
    "Hence, substitution ciphers are insecure under known plaintext attacks.\n",
    "\n",
    "##### Ciphertext only attacks\n",
    "###### Frequency Analysis\n",
    "Notice that in English, certain letters appear more often than others, like how 'e' appears the most.\n",
    "Secondly, realize that substitution ciphers do not change the relative frequencies of each character, since it is a one-to-one substitution.\n",
    "Thus, the attacker can make the reasonable assumption that the mapping from the frequently-occurring letters in the plaintext to the frequently-occurring letters in the ciphertext is the key of the cipher.\n",
    "And even if the resultant cipher is wrong, it will not be too far away from the actual cipher, such that the attacker can tweak their substitution table until their key produces a reasonable message.\n",
    "\n",
    "Secondly, attackers can use the frequency of words to derive possible substitution for the cipher.\n",
    "For example, 'I' and 'a' are frequently occurring 1 letter word, and 'the' is a frequently occurring 3 letter word.\n",
    "If the attacker spots a 3 letter pattern that repeats throughout the ciphertext, they can assume that it likely corresponds to 'the' in the plaintext."
   ]
  },
  {
   "cell_type": "markdown",
   "id": "f71c0768",
   "metadata": {
    "deletable": false,
    "editable": false,
    "run_control": {
     "frozen": true
    }
   },
   "source": [
    "Now, we will run through the process of cracking a substitution cipher as an example of how it can be broken.\n",
    "\n",
    "Suppose we have the following ciphertext that is encrypted with a substitution cipher, with space substituted also."
   ]
  },
  {
   "cell_type": "code",
   "execution_count": 4,
   "id": "f02776fa",
   "metadata": {
    "deletable": false,
    "editable": false,
    "run_control": {
     "frozen": true
    }
   },
   "outputs": [
    {
     "name": "stdout",
     "output_type": "stream",
     "text": [
      "qy omyhdeyxaoejynhe oejloecygnherqetyxxsegynne oeresrxjejloeqlsgkoqjejyynerxejloeqloheqloecsqenyyvrxtevrxheyuehw mecrjlelogeurxtogesxhelogejlw merxejloeqlskoeyuesxeneyxelogeuygolosheconnejloedosgqeqjsgjeay rxtesxhejlodehyxjeqjykeay rxteuohejyejloegwnoqesxherelrjejloetgywxhegwxxrxtehrhxje svoeqoxqoexyjejyenrpoeuygeuwxedywgemgsrxetojqeq sgjemwjedywgeloshetojqehw meqye walejyehyeqye walejyeqooeqyeclsjqecgyxtecrjlejsvrxtejloemsaveqjgoojqedywnnexopogevxyceruedywehyxjetyedywnnexopogeqlrxoeruedywehyxjetnycelodexycedywgoesxesnnqjsgetojedywgets oeyxetyeknsdelodexycedywgoesegyaveqjsgetojejloeqlyceyxetojeksrhesxhesnnejlsjetnrjjogqerqetynheyxndeqlyyjrxteqjsgqemgosvejloe ynherjqeseayyneknsaoesxhejlodeqsderjetojqeaynhogedywgoemwxhnohewkexycecsrjejrnedywetojeynhogemwjejloe ojoyge oxemotejyehruuogezwhtrxtemdejloelynoerxejloeqsjonnrjoekrajwgoejloeraoecoeqvsjoerqetojjrxtekgojjdejlrxejloecsjogqetojjrxtecsg eqyedywe rtljesqeconneqcr e decygnhqeyxeurgoelycesmywjedywgqejlsjqejloecsderenrvoerjesxhernnexopogetojemygohelodexycedywgoesxesnnqjsgetojedywgets oeyxetyeknsdelodexycedywgoesegyaveqjsgetojejloeqlyceyxetojeksrhesxhesnnejlsjetnrjjogqerqetynheyxndeqlyyjrxteqjsgqemgosvejloe ynhe\n"
     ]
    }
   ],
   "source": [
    "ciphertext = \"qy omyhdeyxaoejynhe oejloecygnherqetyxxsegynne oeresrxjejloeqlsgkoqjejyynerxejloeqloheqloecsqenyyvrxtevrxheyuehw mecrjlelogeurxtogesxhelogejlw merxejloeqlskoeyuesxeneyxelogeuygolosheconnejloedosgqeqjsgjeay rxtesxhejlodehyxjeqjykeay rxteuohejyejloegwnoqesxherelrjejloetgywxhegwxxrxtehrhxje svoeqoxqoexyjejyenrpoeuygeuwxedywgemgsrxetojqeq sgjemwjedywgeloshetojqehw meqye walejyehyeqye walejyeqooeqyeclsjqecgyxtecrjlejsvrxtejloemsaveqjgoojqedywnnexopogevxyceruedywehyxjetyedywnnexopogeqlrxoeruedywehyxjetnycelodexycedywgoesxesnnqjsgetojedywgets oeyxetyeknsdelodexycedywgoesegyaveqjsgetojejloeqlyceyxetojeksrhesxhesnnejlsjetnrjjogqerqetynheyxndeqlyyjrxteqjsgqemgosvejloe ynherjqeseayyneknsaoesxhejlodeqsderjetojqeaynhogedywgoemwxhnohewkexycecsrjejrnedywetojeynhogemwjejloe ojoyge oxemotejyehruuogezwhtrxtemdejloelynoerxejloeqsjonnrjoekrajwgoejloeraoecoeqvsjoerqetojjrxtekgojjdejlrxejloecsjogqetojjrxtecsg eqyedywe rtljesqeconneqcr e decygnhqeyxeurgoelycesmywjedywgqejlsjqejloecsderenrvoerjesxhernnexopogetojemygohelodexycedywgoesxesnnqjsgetojedywgets oeyxetyeknsdelodexycedywgoesegyaveqjsgetojejloeqlyceyxetojeksrhesxhesnnejlsjetnrjjogqerqetynheyxndeqlyyjrxteqjsgqemgosvejloe ynhe\"\n",
    "print(ciphertext)"
   ]
  },
  {
   "cell_type": "markdown",
   "id": "303412bd",
   "metadata": {
    "deletable": false,
    "editable": false,
    "run_control": {
     "frozen": true
    }
   },
   "source": [
    "First, we can look at the frequency of the letters in the ciphertext."
   ]
  },
  {
   "cell_type": "code",
   "execution_count": 5,
   "id": "8fcdb818",
   "metadata": {
    "deletable": false,
    "editable": false,
    "run_control": {
     "frozen": true
    }
   },
   "outputs": [
    {
     "data": {
      "image/png": "[encoded data removed]",
      "text/plain": [
       "<Figure size 640x480 with 1 Axes>"
      ]
     },
     "metadata": {},
     "output_type": "display_data"
    }
   ],
   "source": [
    "import matplotlib.pyplot as plt\n",
    "\n",
    "plt.rcdefaults()\n",
    "import matplotlib.pyplot as plt\n",
    "from collections import Counter\n",
    "\n",
    "counter = Counter(ciphertext)\n",
    "letters, occurences = list(zip(*counter.most_common()))\n",
    "xs = range(len(letters))\n",
    "\n",
    "plt.bar(xs, occurences, align=\"center\")\n",
    "plt.xticks(xs, letters)\n",
    "plt.title(\"Occurence of letters\")\n",
    "\n",
    "plt.show()"
   ]
  },
  {
   "cell_type": "markdown",
   "id": "25d078b2",
   "metadata": {
    "deletable": false,
    "editable": false,
    "run_control": {
     "frozen": true
    }
   },
   "source": [
    "From the distribution of the letters, we can reasonably assume that 'e' in the ciphertext is ' ' in the plaintext (since spaces will be very common), and 'o' is 'e' (similarly, because 'e' is the most common letter).\n",
    "From here on, there is no guarantee that the most common letters in the plaintext follows the ranking in that of the English language, though they can still serve as a rough guide as to whether the substitution is reasonable.\n",
    "\n",
    "Let's see what we have for now."
   ]
  },
  {
   "cell_type": "code",
   "execution_count": 6,
   "id": "07703b25",
   "metadata": {
    "deletable": false,
    "editable": false,
    "run_control": {
     "frozen": true
    }
   },
   "outputs": [
    {
     "data": {
      "text/plain": [
       "'???e???? ???e ???? ?e ??e ????? ?? ????? ???? ?e ? ???? ??e ?????e?? ???? ?? ??e ??e? ??e ??? ??????? ???? ?? ???? ???? ?e? ????e? ??? ?e? ????? ?? ??e ????e ?? ?? ? ?? ?e? ???e?e?? ?e?? ??e ?e??? ????? ?????? ??? ??e? ???? ???? ?????? ?e? ?? ??e ???e? ??? ? ??? ??e ?????? ??????? ????? ???e ?e??e ??? ?? ???e ??? ??? ???? ????? ?e?? ????? ??? ???? ?e?? ?e?? ???? ?? ???? ?? ?? ?? ???? ?? ?ee ?? ????? ????? ???? ?????? ??e ???? ???ee?? ????? ?e?e? ???? ?? ??? ???? ?? ????? ?e?e? ????e ?? ??? ???? ???? ?e? ??? ????e ?? ??????? ?e? ???? ???e ?? ?? ???? ?e? ??? ????e ? ???? ???? ?e? ??e ???? ?? ?e? ???? ??? ??? ???? ?????e?? ?? ???? ???? ???????? ????? ??e?? ??e ???? ??? ? ???? ????e ??? ??e? ??? ?? ?e?? ????e? ????e ?????e? ?? ??? ???? ??? ??? ?e? ???e? ??? ??e ?e?e?? ?e? ?e? ?? ????e? ??????? ?? ??e ???e ?? ??e ???e????e ??????e ??e ??e ?e ????e ?? ?e????? ??e??? ???? ??e ???e?? ?e????? ???? ?? ??? ????? ?? ?e?? ???? ?? ?????? ?? ???e ??? ????? ????? ????? ??e ??? ? ???e ?? ??? ??? ?e?e? ?e? ???e? ?e? ??? ????e ?? ??????? ?e? ???? ???e ?? ?? ???? ?e? ??? ????e ? ???? ???? ?e? ??e ???? ?? ?e? ???? ??? ??? ???? ?????e?? ?? ???? ???? ???????? ????? ??e?? ??e ???? '"
      ]
     },
     "execution_count": 6,
     "metadata": {},
     "output_type": "execute_result"
    }
   ],
   "source": [
    "def sub_with_dict(string, dic, replace_unknowns=True):\n",
    "    return \"\".join(\n",
    "        map(lambda x: dic.get(x, \"?\" if replace_unknowns else x.upper()), string)\n",
    "    )\n",
    "\n",
    "\n",
    "guesses = {\"e\": \" \", \"o\": \"e\"}\n",
    "sub_with_dict(ciphertext, guesses)"
   ]
  },
  {
   "cell_type": "markdown",
   "id": "0faaa603",
   "metadata": {
    "deletable": false,
    "editable": false,
    "run_control": {
     "frozen": true
    }
   },
   "source": [
    "Using the fact that English language have small possible variations for short words, we can try to derive the substituted values for those.\n",
    "\n",
    "A prime example would be one letter words, since English language primarily only have 'I' and 'a' as one letter words.\n",
    "\n",
    "So let's see what are the one letter words in the ciphertext.\n",
    "Note that by our previous substitution, we would have obtain the supposed correct word boundaries."
   ]
  },
  {
   "cell_type": "code",
   "execution_count": 7,
   "id": "75b1d90b",
   "metadata": {
    "deletable": false,
    "editable": false,
    "run_control": {
     "frozen": true
    },
    "scrolled": true
   },
   "outputs": [
    {
     "data": {
      "text/plain": [
       "['R', 'N', 'R', 'S', 'S', 'R', 'S']"
      ]
     },
     "execution_count": 7,
     "metadata": {},
     "output_type": "execute_result"
    }
   ],
   "source": [
    "partial_decrypted = sub_with_dict(\n",
    "    ciphertext, {**guesses, \" \": \"_\"}, replace_unknowns=False\n",
    ")\n",
    "[word for word in partial_decrypted.split() if len(word) == 1]"
   ]
  },
  {
   "cell_type": "markdown",
   "id": "20a4271b",
   "metadata": {
    "deletable": false,
    "editable": false,
    "run_control": {
     "frozen": true
    }
   },
   "source": [
    "All letters that are yet to be decrypted will be in uppercase.\n",
    "\n",
    "Looks like both 'R' and 'S' are good candidates to be 'a' or 'i'.\n",
    "Trying one of the substitution."
   ]
  },
  {
   "cell_type": "code",
   "execution_count": 8,
   "id": "8abbce9d",
   "metadata": {
    "deletable": false,
    "editable": false,
    "run_control": {
     "frozen": true
    }
   },
   "outputs": [
    {
     "data": {
      "text/plain": [
       "'???e???? ???e ???? ?e ??e ????? a? ????i ???? ?e a ia?? ??e ??i??e?? ???? a? ??e ??e? ??e ?i? ????a?? ?a?? ?? ???? ?a?? ?e? ?a??e? i?? ?e? ????? a? ??e ??i?e ?? i? ? ?? ?e? ???e?ei? ?e?? ??e ?ei?? ??i?? ???a?? i?? ??e? ???? ???? ???a?? ?e? ?? ??e ???e? i?? a ?a? ??e ?????? ????a?? ?a??? ?i?e ?e??e ??? ?? ?a?e ??? ??? ???? ??ia? ?e?? ??i?? ??? ???? ?ei? ?e?? ???? ?? ???? ?? ?? ?? ???? ?? ?ee ?? ??i?? ????? ?a?? ?i?a?? ??e ?i?? ???ee?? ????? ?e?e? ???? a? ??? ???? ?? ????? ?e?e? ??a?e a? ??? ???? ???? ?e? ??? ????e i? i????i? ?e? ???? ?i?e ?? ?? ??i? ?e? ??? ????e i ???? ??i? ?e? ??e ???? ?? ?e? ?ia? i?? i?? ??i? ??a??e?? a? ???? ???? ?????a?? ??i?? ??ei? ??e ???? a?? i ???? ??i?e i?? ??e? ?i? a? ?e?? ????e? ????e ?????e? ?? ??? ?ia? ?a? ??? ?e? ???e? ??? ??e ?e?e?? ?e? ?e? ?? ?a??e? ????a?? ?? ??e ???e a? ??e ?i?e??a?e ?a????e ??e a?e ?e ??i?e a? ?e??a?? ??e??? ??a? ??e ?i?e?? ?e??a?? ?i?? ?? ??? ?a??? i? ?e?? ??a? ?? ?????? ?? ?a?e ??? i???? ????? ??i?? ??e ?i? a ?a?e a? i?? a?? ?e?e? ?e? ???e? ?e? ??? ????e i? i????i? ?e? ???? ?i?e ?? ?? ??i? ?e? ??? ????e i ???? ??i? ?e? ??e ???? ?? ?e? ?ia? i?? i?? ??i? ??a??e?? a? ???? ???? ?????a?? ??i?? ??ei? ??e ???? '"
      ]
     },
     "execution_count": 8,
     "metadata": {},
     "output_type": "execute_result"
    }
   ],
   "source": [
    "sub_with_dict(ciphertext, {**guesses, \"r\": \"a\", \"s\": \"i\"})"
   ]
  },
  {
   "cell_type": "markdown",
   "id": "99d6f35e",
   "metadata": {
    "deletable": false,
    "editable": false,
    "run_control": {
     "frozen": true
    }
   },
   "source": [
    "This doesn't look quite right.\n",
    "There is a word that is `ia??`, which is rather unlikely to be an English word.\n",
    "We now try the other permutation of the substitution."
   ]
  },
  {
   "cell_type": "code",
   "execution_count": 9,
   "id": "c9771b93",
   "metadata": {
    "deletable": false,
    "editable": false,
    "run_control": {
     "frozen": true
    }
   },
   "outputs": [
    {
     "data": {
      "text/plain": [
       "'???e???? ???e ???? ?e ??e ????? i? ????a ???? ?e i ai?? ??e ??a??e?? ???? i? ??e ??e? ??e ?a? ????i?? ?i?? ?? ???? ?i?? ?e? ?i??e? a?? ?e? ????? i? ??e ??a?e ?? a? ? ?? ?e? ???e?ea? ?e?? ??e ?ea?? ??a?? ???i?? a?? ??e? ???? ???? ???i?? ?e? ?? ??e ???e? a?? i ?i? ??e ?????? ????i?? ?i??? ?a?e ?e??e ??? ?? ?i?e ??? ??? ???? ??ai? ?e?? ??a?? ??? ???? ?ea? ?e?? ???? ?? ???? ?? ?? ?? ???? ?? ?ee ?? ??a?? ????? ?i?? ?a?i?? ??e ?a?? ???ee?? ????? ?e?e? ???? i? ??? ???? ?? ????? ?e?e? ??i?e i? ??? ???? ???? ?e? ??? ????e a? a????a? ?e? ???? ?a?e ?? ?? ??a? ?e? ??? ????e a ???? ??a? ?e? ??e ???? ?? ?e? ?ai? a?? a?? ??a? ??i??e?? i? ???? ???? ?????i?? ??a?? ??ea? ??e ???? i?? a ???? ??a?e a?? ??e? ?a? i? ?e?? ????e? ????e ?????e? ?? ??? ?ai? ?i? ??? ?e? ???e? ??? ??e ?e?e?? ?e? ?e? ?? ?i??e? ????i?? ?? ??e ???e i? ??e ?a?e??i?e ?i????e ??e i?e ?e ??a?e i? ?e??i?? ??e??? ??i? ??e ?a?e?? ?e??i?? ?a?? ?? ??? ?i??? a? ?e?? ??i? ?? ?????? ?? ?i?e ??? a???? ????? ??a?? ??e ?a? i ?i?e i? a?? i?? ?e?e? ?e? ???e? ?e? ??? ????e a? a????a? ?e? ???? ?a?e ?? ?? ??a? ?e? ??? ????e a ???? ??a? ?e? ??e ???? ?? ?e? ?ai? a?? a?? ??a? ??i??e?? i? ???? ???? ?????i?? ??a?? ??ea? ??e ???? '"
      ]
     },
     "execution_count": 9,
     "metadata": {},
     "output_type": "execute_result"
    }
   ],
   "source": [
    "sub_with_dict(ciphertext, {**guesses, \"r\": \"i\", \"s\": \"a\"})"
   ]
  },
  {
   "cell_type": "markdown",
   "id": "447a972b",
   "metadata": {
    "deletable": false,
    "editable": false,
    "run_control": {
     "frozen": true
    }
   },
   "source": [
    "This looks more likely to be correct.\n",
    "Next, we can work on the two letter words."
   ]
  },
  {
   "cell_type": "code",
   "execution_count": 10,
   "id": "2f5f37d4",
   "metadata": {
    "deletable": false,
    "editable": false,
    "run_control": {
     "frozen": true
    },
    "scrolled": true
   },
   "outputs": [
    {
     "name": "stdout",
     "output_type": "stream",
     "text": [
      "Counter({'YX': 6, 'JY': 5, 'iQ': 4, 'QY': 4, 'iX': 3, 'aX': 3, 'TY': 3, '_e': 2, 'YU': 2, 'iU': 2, 'iJ': 2, 'HY': 1, 'WK': 1, 'MD': 1, 'Ce': 1, 'aQ': 1, '_D': 1})\n"
     ]
    }
   ],
   "source": [
    "guesses = {**guesses, \"r\": \"i\", \"s\": \"a\"}\n",
    "partial_decrypted = sub_with_dict(\n",
    "    ciphertext, {**guesses, \" \": \"_\"}, replace_unknowns=False\n",
    ")\n",
    "print(Counter([word for word in partial_decrypted.split() if len(word) == 2]))"
   ]
  },
  {
   "cell_type": "markdown",
   "id": "c2a0ab62",
   "metadata": {
    "deletable": false,
    "editable": false,
    "run_control": {
     "frozen": true
    }
   },
   "source": [
    "Notice that `_e` and `Ce` are 2 letter words that ends with 'e'.\n",
    "The common words are `be`, `me` and `we`, so these seems like good candidates for substitutions."
   ]
  },
  {
   "cell_type": "code",
   "execution_count": 11,
   "id": "9c46f1fd",
   "metadata": {
    "deletable": false,
    "editable": false,
    "run_control": {
     "frozen": true
    }
   },
   "outputs": [
    {
     "data": {
      "text/plain": [
       "'??me???? ???e ???? me ??e w???? i? ????a ???? me i ai?? ??e ??a??e?? ???? i? ??e ??e? ??e wa? ????i?? ?i?? ?? ??m? wi?? ?e? ?i??e? a?? ?e? ???m? i? ??e ??a?e ?? a? ? ?? ?e? ???e?ea? we?? ??e ?ea?? ??a?? ??mi?? a?? ??e? ???? ???? ??mi?? ?e? ?? ??e ???e? a?? i ?i? ??e ?????? ????i?? ?i??? ma?e ?e??e ??? ?? ?i?e ??? ??? ???? ??ai? ?e?? ?ma?? ??? ???? ?ea? ?e?? ??m? ?? m??? ?? ?? ?? m??? ?? ?ee ?? w?a?? w???? wi?? ?a?i?? ??e ?a?? ???ee?? ????? ?e?e? ???w i? ??? ???? ?? ????? ?e?e? ??i?e i? ??? ???? ???w ?e? ??w ????e a? a????a? ?e? ???? ?ame ?? ?? ??a? ?e? ??w ????e a ???? ??a? ?e? ??e ???w ?? ?e? ?ai? a?? a?? ??a? ??i??e?? i? ???? ???? ?????i?? ??a?? ??ea? ??e m??? i?? a ???? ??a?e a?? ??e? ?a? i? ?e?? ????e? ????e ?????e? ?? ??w wai? ?i? ??? ?e? ???e? ??? ??e me?e?? me? ?e? ?? ?i??e? ????i?? ?? ??e ???e i? ??e ?a?e??i?e ?i????e ??e i?e we ??a?e i? ?e??i?? ??e??? ??i? ??e wa?e?? ?e??i?? wa?m ?? ??? mi??? a? we?? ?wim m? w????? ?? ?i?e ??w a???? ????? ??a?? ??e wa? i ?i?e i? a?? i?? ?e?e? ?e? ???e? ?e? ??w ????e a? a????a? ?e? ???? ?ame ?? ?? ??a? ?e? ??w ????e a ???? ??a? ?e? ??e ???w ?? ?e? ?ai? a?? a?? ??a? ??i??e?? i? ???? ???? ?????i?? ??a?? ??ea? ??e m??? '"
      ]
     },
     "execution_count": 11,
     "metadata": {},
     "output_type": "execute_result"
    }
   ],
   "source": [
    "guesses = {**guesses, \"c\": \"w\", \" \": \"m\"}\n",
    "sub_with_dict(ciphertext, guesses)"
   ]
  },
  {
   "cell_type": "markdown",
   "id": "1b9f7b81",
   "metadata": {
    "deletable": false,
    "editable": false,
    "run_control": {
     "frozen": true
    }
   },
   "source": [
    "Next, the `iQ`, `iX`, `iU`, `iJ` could be `is`, `in`, `it`, `if` in plaintext, thus we can try those also."
   ]
  },
  {
   "cell_type": "code",
   "execution_count": 12,
   "id": "5757bb4d",
   "metadata": {
    "deletable": false,
    "editable": false,
    "run_control": {
     "frozen": true
    }
   },
   "outputs": [
    {
     "data": {
      "text/plain": [
       "'sYmeMYHD YnAe tYNH me tLe wYGNH is TYnna GYNN me i aint tLe sLaGKest tYYN in tLe sLeH sLe was NYYVinT VinH Yf HWmM witL LeG finTeG anH LeG tLWmM in tLe sLaKe Yf an N Yn LeG fYGeLeaH weNN tLe DeaGs staGt AYminT anH tLeD HYnt stYK AYminT feH tY tLe GWNes anH i Lit tLe TGYWnH GWnninT HiHnt maVe sense nYt tY NiPe fYG fWn DYWG MGain Tets smaGt MWt DYWG LeaH Tets HWmM sY mWAL tY HY sY mWAL tY see sY wLats wGYnT witL taVinT tLe MaAV stGeets DYWNN nePeG VnYw if DYW HYnt TY DYWNN nePeG sLine if DYW HYnt TNYw LeD nYw DYWGe an aNNstaG Tet DYWG Tame Yn TY KNaD LeD nYw DYWGe a GYAV staG Tet tLe sLYw Yn Tet KaiH anH aNN tLat TNitteGs is TYNH YnND sLYYtinT staGs MGeaV tLe mYNH its a AYYN KNaAe anH tLeD saD it Tets AYNHeG DYWGe MWnHNeH WK nYw wait tiN DYW Tet YNHeG MWt tLe meteYG men MeT tY HiffeG ZWHTinT MD tLe LYNe in tLe sateNNite KiAtWGe tLe iAe we sVate is TettinT KGettD tLin tLe wateGs TettinT waGm sY DYW miTLt as weNN swim mD wYGNHs Yn fiGe LYw aMYWt DYWGs tLats tLe waD i NiVe it anH iNN nePeG Tet MYGeH LeD nYw DYWGe an aNNstaG Tet DYWG Tame Yn TY KNaD LeD nYw DYWGe a GYAV staG Tet tLe sLYw Yn Tet KaiH anH aNN tLat TNitteGs is TYNH YnND sLYYtinT staGs MGeaV tLe mYNH '"
      ]
     },
     "execution_count": 12,
     "metadata": {},
     "output_type": "execute_result"
    }
   ],
   "source": [
    "guesses = {**guesses, \"q\": \"s\", \"x\": \"n\", \"u\": \"f\", \"j\": \"t\"}\n",
    "sub_with_dict(ciphertext, guesses, replace_unknowns=False)"
   ]
  },
  {
   "cell_type": "markdown",
   "id": "3658087e",
   "metadata": {
    "deletable": false,
    "editable": false,
    "run_control": {
     "frozen": true
    }
   },
   "source": [
    "From here, we can derive many of the words (assuming all our previous substitutions were correct, which seems likely since the partially decrypted message seems reasonable).\n",
    "\n",
    "For example, we can deduce that `tLe` is probably `the`, `sateNNite` is probably `satellite`, `Yf` is `of` (since \"i\" is already decrypted)."
   ]
  },
  {
   "cell_type": "code",
   "execution_count": 13,
   "id": "9d34750c",
   "metadata": {
    "deletable": false,
    "editable": false,
    "run_control": {
     "frozen": true
    }
   },
   "outputs": [
    {
     "data": {
      "text/plain": [
       "'some?o?? on?e tol? me the wo?l? is ?onna ?oll me i aint the sha??est tool in the she? she was loo?in? ?in? of ??m? with he? fin?e? an? he? th?m? in the sha?e of an l on he? fo?ehea? well the ?ea?s sta?t ?omin? an? the? ?ont sto? ?omin? fe? to the ??les an? i hit the ??o?n? ??nnin? ?i?nt ma?e sense not to li?e fo? f?n ?o?? ??ain ?ets sma?t ??t ?o?? hea? ?ets ??m? so m??h to ?o so m??h to see so whats w?on? with ta?in? the ?a?? st?eets ?o?ll ne?e? ?now if ?o? ?ont ?o ?o?ll ne?e? shine if ?o? ?ont ?low he? now ?o??e an allsta? ?et ?o?? ?ame on ?o ?la? he? now ?o??e a ?o?? sta? ?et the show on ?et ?ai? an? all that ?litte?s is ?ol? onl? shootin? sta?s ??ea? the mol? its a ?ool ?la?e an? the? sa? it ?ets ?ol?e? ?o??e ??n?le? ?? now wait til ?o? ?et ol?e? ??t the meteo? men ?e? to ?iffe? ????in? ?? the hole in the satellite ?i?t??e the i?e we s?ate is ?ettin? ??ett? thin the wate?s ?ettin? wa?m so ?o? mi?ht as well swim m? wo?l?s on fi?e how a?o?t ?o??s thats the wa? i li?e it an? ill ne?e? ?et ?o?e? he? now ?o??e an allsta? ?et ?o?? ?ame on ?o ?la? he? now ?o??e a ?o?? sta? ?et the show on ?et ?ai? an? all that ?litte?s is ?ol? onl? shootin? sta?s ??ea? the mol? '"
      ]
     },
     "execution_count": 13,
     "metadata": {},
     "output_type": "execute_result"
    }
   ],
   "source": [
    "guesses = {**guesses, \"l\": \"h\", \"n\": \"l\", \"y\": \"o\"}\n",
    "sub_with_dict(ciphertext, guesses)"
   ]
  },
  {
   "cell_type": "markdown",
   "id": "ad67a19a",
   "metadata": {
    "deletable": false,
    "editable": false,
    "run_control": {
     "frozen": true
    }
   },
   "source": [
    "From here, decrypting the rest of the message is trivial, and left as exercise for the reader.\n",
    "\n",
    "Thus, we have shown that by using frequency analysis and the assumption that the plaintext is in English, we can overcome the substitution cipher."
   ]
  },
  {
   "cell_type": "markdown",
   "id": "6beff415",
   "metadata": {
    "deletable": false,
    "editable": false,
    "run_control": {
     "frozen": true
    }
   },
   "source": [
    "### Shift Ciphers\n",
    "\n",
    "Key: A number which tells us how many letters down the alphabet each letter is shifted.\n",
    "\n",
    "\n",
    "Process: Each letter is shifted a number of positions down.\n",
    "If the position extends past the 26th position (letter 'Z'), it is wrapped back to 1st position (letter 'A').\n",
    "Then, the ciphertext contains the letters belonging to the corresponding shifted positions.\n",
    "\n",
    "Key Space Size: 26 (assuming space is not shifted)\n",
    "\n",
    "Examples include:\n",
    "* Caeser ciphers: Uses a shift of 3\n",
    "* ROT13: Uses a shift of 13\n",
    "    * Has an additional property that the decryption algorithm is the same as encryption, assuming the domain is only the 26 letters."
   ]
  },
  {
   "cell_type": "code",
   "execution_count": 14,
   "id": "153dac45",
   "metadata": {
    "deletable": false,
    "editable": false,
    "run_control": {
     "frozen": true
    },
    "scrolled": true
   },
   "outputs": [
    {
     "name": "stdout",
     "output_type": "stream",
     "text": [
      "class ShiftCipher:\n",
      "    def __init__(self, key):\n",
      "        self.domain = ascii_lowercase\n",
      "        self.key = key\n",
      "        \n",
      "    def __repr__(self):\n",
      "        return f'ShiftCipher(shift={self.key})'\n",
      "    \n",
      "    def encrypt(self, message):\n",
      "        indices = map(lambda x: Optional.from_func(lambda: self.domain.index(x)), message)\n",
      "        shift = lambda opt: (opt + self.key) % len(self.domain)\n",
      "        shifted_indices = Optional.map_over(shift, indices)\n",
      "        encrypted = Optional.map_over(lambda opt: self.domain[opt], shifted_indices)\n",
      "        return ''.join(map(lambda elem: \n",
      "                           elem[1].value\n",
      "                           if not elem[1].isEmpty\n",
      "                           else elem[0], \n",
      "                           zip(message, encrypted)))\n",
      "        \n",
      "    def decrypt(self, message):\n",
      "        indices = map(lambda x: Optional.from_func(lambda: self.domain.index(x)), message)\n",
      "        shift = lambda opt: (opt + len(self.domain) - self.key) % len(self.domain)\n",
      "        shifted_indices = Optional.map_over(shift, indices)\n",
      "        decrypted = Optional.map_over(lambda opt: self.domain[opt], shifted_indices)\n",
      "        return ''.join(map(lambda elem: \n",
      "                           elem[1].value\n",
      "                           if not elem[1].isEmpty\n",
      "                           else elem[0], \n",
      "                           zip(message, decrypted))) \n"
     ]
    }
   ],
   "source": [
    "from module.classical_cipher import ShiftCipher\n",
    "\n",
    "show_implementation(ShiftCipher)"
   ]
  },
  {
   "cell_type": "code",
   "execution_count": 15,
   "id": "71f0e3db",
   "metadata": {
    "deletable": false,
    "editable": false,
    "run_control": {
     "frozen": true
    }
   },
   "outputs": [
    {
     "name": "stdout",
     "output_type": "stream",
     "text": [
      "ShiftCipher(shift=3)\n",
      "\n",
      "Plaintext:                          hello world\n",
      "Ciphertext/Encrypted plaintext:     khoor zruog\n",
      "Decrypted \"khoor zruog\":            hello world\n"
     ]
    }
   ],
   "source": [
    "plaintext = \"hello world\"\n",
    "caeser_cipher = ShiftCipher(3)\n",
    "\n",
    "demonstrate_cipher(caeser_cipher, plaintext)"
   ]
  },
  {
   "cell_type": "markdown",
   "id": "bd764bd2",
   "metadata": {
    "deletable": false,
    "editable": false,
    "run_control": {
     "frozen": true
    }
   },
   "source": [
    "#### Behaviours against attacks\n",
    "Since shift ciphers are a subset of substitution cipher, it shares the same weaknesses against the same attacks on substitution ciphers.\n",
    "\n",
    "##### Bruteforce attacks\n",
    "Because of the small keyspace, shift ciphers are also vulnerable to bruteforce attacks."
   ]
  },
  {
   "cell_type": "markdown",
   "id": "ba5a1d9c",
   "metadata": {
    "deletable": false,
    "editable": false,
    "run_control": {
     "frozen": true
    }
   },
   "source": [
    "Suppose we have the following ciphertext encrypted with a shift cipher."
   ]
  },
  {
   "cell_type": "code",
   "execution_count": 16,
   "id": "07ee9690",
   "metadata": {
    "deletable": false,
    "editable": false,
    "run_control": {
     "frozen": true
    }
   },
   "outputs": [],
   "source": [
    "ciphertext = \"brx dv zhoo euxwxv\""
   ]
  },
  {
   "cell_type": "markdown",
   "id": "f1d3f9fa",
   "metadata": {
    "deletable": false,
    "editable": false,
    "run_control": {
     "frozen": true
    }
   },
   "source": [
    "It is trivial to bruteforce this by testing each shift and check if the output is reasonable."
   ]
  },
  {
   "cell_type": "code",
   "execution_count": 17,
   "id": "f3a67e63",
   "metadata": {
    "deletable": false,
    "editable": false,
    "run_control": {
     "frozen": true
    }
   },
   "outputs": [
    {
     "name": "stdout",
     "output_type": "stream",
     "text": [
      "brx dv zhoo euxwxv\n",
      "aqw cu ygnn dtwvwu\n",
      "zpv bt xfmm csvuvt\n",
      "you as well brutus\n",
      "xnt zr vdkk aqtstr\n",
      "wms yq ucjj zpsrsq\n",
      "vlr xp tbii yorqrp\n",
      "ukq wo sahh xnqpqo\n",
      "tjp vn rzgg wmpopn\n",
      "sio um qyff vlonom\n",
      "rhn tl pxee uknmnl\n",
      "qgm sk owdd tjmlmk\n",
      "pfl rj nvcc silklj\n",
      "oek qi mubb rhkjki\n",
      "ndj ph ltaa qgjijh\n",
      "mci og kszz pfihig\n",
      "lbh nf jryy oehghf\n",
      "kag me iqxx ndgfge\n",
      "jzf ld hpww mcfefd\n",
      "iye kc govv lbedec\n",
      "hxd jb fnuu kadcdb\n",
      "gwc ia emtt jzcbca\n",
      "fvb hz dlss iybabz\n",
      "eua gy ckrr hxazay\n",
      "dtz fx bjqq gwzyzx\n",
      "csy ew aipp fvyxyw\n"
     ]
    }
   ],
   "source": [
    "for i in range(26):\n",
    "    shift_cipher = ShiftCipher(i)\n",
    "    print(shift_cipher.decrypt(ciphertext))"
   ]
  },
  {
   "cell_type": "markdown",
   "id": "fcf80134",
   "metadata": {
    "deletable": false,
    "editable": false,
    "run_control": {
     "frozen": true
    }
   },
   "source": [
    "From the list, we can see that the 3rd entry is the only reasonable output, thus the shift amount is 3."
   ]
  },
  {
   "cell_type": "markdown",
   "id": "eb3307ff",
   "metadata": {
    "deletable": false,
    "editable": false,
    "run_control": {
     "frozen": true
    }
   },
   "source": [
    "### Vigenere Ciphers\n",
    "\n",
    "Key: A keyword of any length.\n",
    "\n",
    "Keyspace: $26^\\text{length of key}$. \n",
    "Since there is no limit to the length of the key (except it is at most the length of the plaintext), it is potentially infinite.\n",
    "\n",
    "Process: \n",
    "1. Convert each letter in the keyword into positions. (A = 0, Z = 25)\n",
    "2. Align in keyword with the message, and shift each letter in the message by the amount according to the keyword\n",
    "3. If every letter in the keyword is used, repeat the keyword again from the start\n",
    "4. Repeat until every letter in the plaintext is encrypted\n",
    "\n",
    "Suppose that our plaintext is 'hello world' and the keyword is 'robot'.\n",
    "\n",
    "It is a **polyalphabetic** cipher, meaning different occurences of the same letter in the plaintext is **not always** mapped to the letter in the ciphertext."
   ]
  },
  {
   "cell_type": "code",
   "execution_count": 18,
   "id": "126c313f",
   "metadata": {
    "deletable": false,
    "editable": false,
    "run_control": {
     "frozen": true
    },
    "scrolled": true
   },
   "outputs": [
    {
     "name": "stdout",
     "output_type": "stream",
     "text": [
      "class VigenereCipher:\n",
      "    def __init__(self, keyword):\n",
      "        self.domain = ascii_lowercase\n",
      "        self.key = keyword\n",
      "        \n",
      "    def __repr__(self):\n",
      "        return f'ViginereCipher(keyword={self.key})'\n",
      "    \n",
      "    def encrypt(self, message):\n",
      "        indices = map(lambda x: Optional.from_func(lambda: self.domain.index(x)), message)\n",
      "        shift_amounts = islice(cycle(map(lambda x: self.domain.index(x), self.key)), len(message))\n",
      "        shifts = map(lambda amt: lambda opt: (opt + amt) % len(self.domain), shift_amounts)\n",
      "        shifted_indices = Optional.zip_with(shifts, indices)\n",
      "        encrypted = Optional.map_over(lambda opt: self.domain[opt], shifted_indices)\n",
      "        return ''.join(map(lambda elem: \n",
      "                           elem[1].value\n",
      "                           if not elem[1].isEmpty\n",
      "                           else elem[0], \n",
      "                           zip(message, encrypted)))\n",
      "        \n",
      "    def decrypt(self, message):\n",
      "        indices = map(lambda x: Optional.from_func(lambda: self.domain.index(x)), message)\n",
      "        shift_amounts = islice(cycle(map(lambda x: self.domain.index(x), self.key)), len(message))\n",
      "        shifts = map(lambda amt: lambda opt: (opt + len(self.domain) - amt) % len(self.domain), shift_amounts)\n",
      "        shifted_indices = Optional.zip_with(shifts, indices)\n",
      "        decrypted = Optional.map_over(lambda opt: self.domain[opt], shifted_indices)\n",
      "        return ''.join(map(lambda elem: \n",
      "                           elem[1].value\n",
      "                           if not elem[1].isEmpty\n",
      "                           else elem[0], \n",
      "                           zip(message, decrypted)))\n"
     ]
    }
   ],
   "source": [
    "from module.classical_cipher import VigenereCipher\n",
    "\n",
    "show_implementation(VigenereCipher)"
   ]
  },
  {
   "cell_type": "code",
   "execution_count": 19,
   "id": "0573e296",
   "metadata": {
    "deletable": false,
    "editable": false,
    "run_control": {
     "frozen": true
    }
   },
   "outputs": [
    {
     "name": "stdout",
     "output_type": "stream",
     "text": [
      "ViginereCipher(keyword=robot)\n",
      "\n",
      "Plaintext:                          hello world\n",
      "Ciphertext/Encrypted plaintext:     ysmzh kpfeu\n",
      "Decrypted \"ysmzh kpfeu\":            hello world\n"
     ]
    }
   ],
   "source": [
    "from string import ascii_lowercase\n",
    "\n",
    "key = \"robot\"\n",
    "plaintext = \"hello world\"\n",
    "vigenere_cipher = VigenereCipher(key)\n",
    "\n",
    "demonstrate_cipher(vigenere_cipher, plaintext)"
   ]
  },
  {
   "cell_type": "markdown",
   "id": "5c1ffa13",
   "metadata": {
    "deletable": false,
    "editable": false,
    "run_control": {
     "frozen": true
    }
   },
   "source": [
    "#### Behaviours against attacks\n",
    "\n",
    "##### Known plaintext attacks\n",
    "If the attacker knows the plaintext and the corresponding ciphertext, they can recover the keyword by computing the shift amounts and look for the repeat.\n",
    "\n",
    "##### Ciphertext only attacks\n",
    "Suppose that the key is length $n$.\n",
    "Notice this means that the same letter in the keyword is repeated every $n^{th}$ letter, thus each $n^{th}$ letter in the plaintext is shifted by the same amount.\n",
    "Thus, if we look at every $n^{th}$ letter, we can treat this as a traditional shift cipher and thus can recover the key.\n",
    "\n",
    "To determine the length of the key, we can use the **Kasiski method**\n",
    "\n",
    "###### Kasiski Method\n",
    "Kasiski method is based on the assumption that repeating patterns of letters in the ciphertext is likely due to the keyword being in the same position as some frequently occurring words.\n",
    "For example, since 'the' appears frequently in the plaintext, it is likely that the 'the's in multiple location of the plaintext are encoded using the keyword in the same alignment, leading to repeats of three-letter words in the ciphertext.\n",
    "Using the length of the repeats, we can guess the possible length of the keyword, as it must be a factor of the repeat length (if repeated sequence is the same word in plaintext).\n"
   ]
  },
  {
   "cell_type": "markdown",
   "id": "a65dc530",
   "metadata": {
    "deletable": false,
    "editable": false,
    "run_control": {
     "frozen": true
    }
   },
   "source": [
    "### Permutation/Transposition cipher\n",
    "Key: $(p_1, p_2, \\dots, p_t)$, where the $i^{th}$ item in the block is moved to the $p_i^{th}$ location in the ciphertext.\n",
    "\n",
    "Process: groups $t$ characters in the plaintext into blocks, then shuffles the characters in the blocks into a fixed permutation.\n",
    "\n",
    "Keyspace: $t!$\n",
    "\n",
    "Since there is no substitution taking place, the cipher does not have a fixed domain space, thus can work on any types of strings without modification.\n",
    "Contrast this with substitution ciphers, which only works if the characters it is encrypting is accounted for in its substitution table."
   ]
  },
  {
   "cell_type": "code",
   "execution_count": 20,
   "id": "2aad8c35",
   "metadata": {
    "deletable": false,
    "editable": false,
    "run_control": {
     "frozen": true
    },
    "scrolled": true
   },
   "outputs": [
    {
     "name": "stdout",
     "output_type": "stream",
     "text": [
      "class PermutationCipher:\n",
      "    def __init__(self, permutation, padding='|'):\n",
      "        self.key = permutation\n",
      "        self.padding = padding\n",
      "        \n",
      "    def __repr__(self):\n",
      "        return f'PermutationCipher(permutation={self.key})'\n",
      " \n",
      "    def _pad(self, message):\n",
      "        padding_size = len(self.key) - len(message) % len(self.key)\n",
      "        return message + padding_size * self.padding\n",
      "    \n",
      "    def _unpad(self, message):\n",
      "        return message.strip(self.padding)\n",
      "    \n",
      "    def encrypt(self, message):\n",
      "        padded_message = self._pad(message)\n",
      "        \n",
      "        blocks = [padded_message[i:i+len(self.key)] for i in range(0, len(message), len(self.key))]\n",
      "        shuffled_blocks = [[block[self.key.index(i)] for i in range(len(self.key))] for block in blocks]\n",
      "        \n",
      "        return ''.join([''.join(block) for block in shuffled_blocks])\n",
      "        \n",
      "    def decrypt(self, message):        \n",
      "        blocks = [message[i:i+len(self.key)] for i in range(0, len(message), len(self.key))]\n",
      "        shuffled_blocks = [[block[idx] for idx in self.key] for block in blocks]\n",
      "        padded_plaintext = ''.join([''.join(block) for block in shuffled_blocks])\n",
      "        return self._unpad(padded_plaintext)\n"
     ]
    }
   ],
   "source": [
    "from module.classical_cipher import PermutationCipher\n",
    "\n",
    "show_implementation(PermutationCipher)"
   ]
  },
  {
   "cell_type": "code",
   "execution_count": 21,
   "id": "345ca8e0",
   "metadata": {
    "deletable": false,
    "editable": false,
    "run_control": {
     "frozen": true
    }
   },
   "outputs": [
    {
     "name": "stdout",
     "output_type": "stream",
     "text": [
      "PermutationCipher(permutation=(2, 1, 3, 0))\n",
      "\n",
      "Plaintext:                          richard of yolk gain battle in vain\n",
      "Ciphertext/Encrypted plaintext:     hirc radyfo  loknagitb a ltevni |ian\n",
      "Decrypted \"ciphertext\":             richard of yolk gain battle in vain\n"
     ]
    }
   ],
   "source": [
    "plaintext = \"richard of yolk gain battle in vain\"\n",
    "key = (2, 1, 3, 0)\n",
    "permutation_cipher = PermutationCipher(key)\n",
    "\n",
    "demonstrate_cipher(permutation_cipher, plaintext)"
   ]
  },
  {
   "cell_type": "markdown",
   "id": "2e3f121d",
   "metadata": {
    "deletable": false,
    "editable": false,
    "run_control": {
     "frozen": true
    }
   },
   "source": [
    "#### Behaviours against attacks\n",
    "\n",
    "##### Known plaintext attacks\n",
    "Similar to substitution ciphers, if the attacker knows the plaintext and the corresponding ciphertext, they can recover the permutation by comparing the plaintext and the ciphertext.\n",
    "\n",
    "##### Ciphertext only attacks\n",
    "Permutation ciphers are also easily cracked, especially if the plaintext is in English.\n",
    "Even from the above example, it is not hard to decode the ciphertext without knowing the permutation beforehand."
   ]
  },
  {
   "cell_type": "markdown",
   "id": "641320c5",
   "metadata": {
    "deletable": false,
    "editable": false,
    "run_control": {
     "frozen": true
    }
   },
   "source": [
    "### One-time pad\n",
    "Key: An endless, seemingly random, stream of pre-negotiated bits.\n",
    "\n",
    "Process: Take each bit in the message and perform an XOR operation on it with a bit from the stream.\n",
    "Notice that since we are performing XOR, we work on bits instead of characters.\n",
    "However, a nice parallel for a \"classical one time pad\" would be a stream of random numbers that both parties agreed on, and each character in the message is processed using a shift cipher, shifting by the corresponding number from the stream for encryption and decryption.\n",
    "\n",
    "Keyspace: Infinite, because the stream is endless\n",
    "\n",
    "Note that since XOR operation is self-inversive, the receiver simply needs to XOR the ciphertext with the same bits in the bitstream."
   ]
  },
  {
   "cell_type": "code",
   "execution_count": 22,
   "id": "85eaeddd",
   "metadata": {
    "deletable": false,
    "editable": false,
    "run_control": {
     "frozen": true
    },
    "scrolled": true
   },
   "outputs": [
    {
     "name": "stdout",
     "output_type": "stream",
     "text": [
      "class OneTimePad:\n",
      "    def __init__(self, bitstream):\n",
      "        self.bitstream = bitstream\n",
      "        \n",
      "    def __repr__(self):\n",
      "        return f'OneTimePad(bitstream={self.bitstream})'\n",
      "     \n",
      "    def encrypt(self, message_bytes):\n",
      "        assert len(message_bytes) <= len(self.bitstream)\n",
      "        random_bytes = self.bitstream[:len(message_bytes)]\n",
      "        cipher_bytes = bytes(message_byte ^ random_byte for message_byte, random_byte in zip(message_bytes, random_bytes))\n",
      "        \n",
      "        self.bitstream = self.bitstream[len(message_bytes):]\n",
      "        return cipher_bytes\n",
      "        \n",
      "    def decrypt(self, message):        \n",
      "        return self.encrypt(message) \n"
     ]
    }
   ],
   "source": [
    "from module.classical_cipher import OneTimePad\n",
    "\n",
    "show_implementation(OneTimePad)"
   ]
  },
  {
   "cell_type": "code",
   "execution_count": 23,
   "id": "5275c9c1",
   "metadata": {
    "deletable": false,
    "editable": false,
    "run_control": {
     "frozen": true
    }
   },
   "outputs": [
    {
     "name": "stdout",
     "output_type": "stream",
     "text": [
      "OneTimePad(bitstream=b'2V94x.\\'^**;;U \"WZ\\\\IdZ,R*D+cb--{9C*..P) \\t(T!YQl})*; N{JQZNtCr1_`-w3\\nF9XhL%N7k5C\\x0c\\r') OneTimePad(bitstream=b'2V94x.\\'^**;;U \"WZ\\\\IdZ,R*D+cb--{9C*..P) \\t(T!YQl})*; N{JQZNtCr1_`-w3\\nF9XhL%N7k5C\\x0c\\r')\n",
      "\n",
      "Plaintext:                          b'richard of yolk gain battle in vain'\n",
      "Ciphertext/Encrypted plaintext:     b'@?Z\\\\\\x19\\\\C~EL\\x1bB:LIw== \\nzN3^0G\\x06BDC[O\"C@'\n",
      "Decrypted ciphertext:               b'richard of yolk gain battle in vain'\n"
     ]
    },
    {
     "data": {
      "text/plain": [
       "OneTimePad(bitstream=b'.P) \\t(T!YQl})*; N{JQZNtCr1_`-w3\\nF9XhL%N7k5C\\x0c\\r')"
      ]
     },
     "execution_count": 23,
     "metadata": {},
     "output_type": "execute_result"
    }
   ],
   "source": [
    "bitstream = b\"2V94x.'^**;;U \\\"WZ\\\\IdZ,R*D+cb--{9C*..P) \\t(T!YQl})*; N{JQZNtCr1_`-w3\\nF9XhL%N7k5C\\x0c\\r\"\n",
    "plaintext = b\"richard of yolk gain battle in vain\"\n",
    "sender_otp = OneTimePad(bitstream)\n",
    "receiver_otp = OneTimePad(bitstream)\n",
    "\n",
    "print(sender_otp, receiver_otp)\n",
    "print()\n",
    "print(\"Plaintext:\".ljust(35), plaintext)\n",
    "ciphertext = sender_otp.encrypt(plaintext)\n",
    "\n",
    "print(\"Ciphertext/Encrypted plaintext:\".ljust(35), ciphertext)\n",
    "\n",
    "decrypted_ciphertext = receiver_otp.decrypt(ciphertext)\n",
    "print(\"Decrypted ciphertext:\".ljust(35), decrypted_ciphertext)\n",
    "sender_otp"
   ]
  },
  {
   "cell_type": "markdown",
   "id": "116d33c9",
   "metadata": {
    "deletable": false,
    "editable": false,
    "run_control": {
     "frozen": true
    }
   },
   "source": [
    "Notice that this time, we do not use the same cipher object to both encrypt and decrypt, because after using the bit in the bitstream, it is discarded and thus cannot be recovered for decryption.\n",
    "Thus, we need a separate sender and receiver ciphers whose bitstream are aligned with each other.\n",
    "And because the used bits are discarded, when we encrypt the message a second time, the resultant ciphertext is different from the first, despite using the same cipher again."
   ]
  },
  {
   "cell_type": "code",
   "execution_count": 24,
   "id": "cf9ca048",
   "metadata": {
    "deletable": false,
    "editable": false,
    "run_control": {
     "frozen": true
    }
   },
   "outputs": [
    {
     "name": "stdout",
     "output_type": "stream",
     "text": [
      "2nd Plaintext:                      b'richard of yolk gain battle in vain'\n",
      "2nd Ciphertext/Encrypted plaintext: b\"\\\\9JHhZ0\\x0167L\\x04FFP\\x00)\\x1a#?z,\\x157\\x06]:@D\\x19\\x13|'P6\"\n",
      "2nd Decrypted ciphertext:           b'richard of yolk gain battle in vain'\n"
     ]
    }
   ],
   "source": [
    "print(\"2nd Plaintext:\".ljust(35), plaintext)\n",
    "ciphertext = sender_otp.encrypt(plaintext)\n",
    "\n",
    "print(\"2nd Ciphertext/Encrypted plaintext:\".ljust(35), ciphertext)\n",
    "\n",
    "decrypted_ciphertext = receiver_otp.decrypt(ciphertext)\n",
    "print(\"2nd Decrypted ciphertext:\".ljust(35), decrypted_ciphertext)"
   ]
  },
  {
   "cell_type": "markdown",
   "id": "0881e93b",
   "metadata": {
    "deletable": false,
    "editable": false,
    "run_control": {
     "frozen": true
    }
   },
   "source": [
    "Secondly, since we are XOR-ing against the ASCII message, there is no guarantee that the resultant bytes is still valid ASCII.\n",
    "Hence, we are working on the message bytes instead, instead of characters."
   ]
  },
  {
   "cell_type": "markdown",
   "id": "8e113885",
   "metadata": {
    "deletable": false,
    "editable": false,
    "run_control": {
     "frozen": true
    }
   },
   "source": [
    "#### Behaviours against attacks\n",
    "\n",
    "##### Known plaintext attacks\n",
    "Just like the previous ciphers, if the attacker knows the plaintext, ciphertext pair, they can decode the bits used to encrypt the message.\n",
    "\n",
    "However, since the bits are discarded after being used, this information has no value to the attacker since they cannot use it to decrypt further messages.\n",
    "\n",
    "##### Ciphertext only attacks\n",
    "By the same argument as above, there is no known ciphertext only attack on the one time pad.\n",
    "\n",
    "#### Perfect secrecy\n",
    "Because the one time pad leaks no additional information of the plaintext (it only leaks the length of the message), it is known that it achieve **perfect secrecy**.\n",
    "\n",
    "A way to reason this is the following:"
   ]
  },
  {
   "cell_type": "markdown",
   "id": "197ead3c",
   "metadata": {
    "deletable": false,
    "editable": false,
    "run_control": {
     "frozen": true
    }
   },
   "source": [
    "Suppose we have the plaintext message $P_1$ of `hello world`.\n",
    "\n",
    "After encryption with the one time pad using bitstream of $B_1$, suppose that the cipher text is `fwadslpodsx`.\n",
    "\n",
    "Now suppose that we have another plaintext message $P_2$ of `mumbo jumbo`\n",
    "\n",
    "Since we know that there is no limitation on the bitstream of the one time pad, we know that there must exists some one time pad that uses bitstream $B_2$ which encrypts `mumbo jumbo` into `fwadslpodsx` also.\n",
    "\n",
    "From the attackers perspective, without knowing the bitstream beforehand, they cannot ascertain which is the original plaintext in the ciphertext, between `hello world`, `mumbo jumbo` and even `buzzphrases` that was encrypted using some bitstream $B_3$.\n",
    "Therefore, the attackers have no means of extracting information from the ciphertext.\n",
    "\n",
    "Hence, this gives some perspective to the perfect secrecy of one time pads.\n"
   ]
  },
  {
   "cell_type": "markdown",
   "id": "40cd2347",
   "metadata": {
    "deletable": false,
    "editable": false,
    "run_control": {
     "frozen": true
    }
   },
   "source": [
    "#### Notes\n",
    "Notice that the bitstream must be as long as the message.\n",
    "This means that we have to store copies of the long bitstream on both the sender and receiver side.\n",
    "Hence, it may be unwieldy to setup, especially if the same cipher needs to be used for encryption of many messages.\n",
    "\n",
    "Secondly, even though it is unbreakable, it can still fail if user reuses the keys, such as in the case of [\"The Venona Story\"](https://en.wikipedia.org/wiki/Venona_project#Decryption)."
   ]
  }
 ],
 "metadata": {
  "kernelspec": {
   "display_name": "Python 3",
   "language": "python",
   "name": "python3"
  },
  "language_info": {
   "codemirror_mode": {
    "name": "ipython",
    "version": 3
   },
   "file_extension": ".py",
   "mimetype": "text/x-python",
   "name": "python",
   "nbconvert_exporter": "python",
   "pygments_lexer": "ipython3",
   "version": "3.9.5"
  }
 },
 "nbformat": 4,
 "nbformat_minor": 5
}
