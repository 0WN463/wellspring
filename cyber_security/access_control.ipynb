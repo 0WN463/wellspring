{
 "cells": [
  {
   "cell_type": "markdown",
   "id": "b08e278e",
   "metadata": {
    "deletable": false,
    "editable": false,
    "run_control": {
     "frozen": true
    }
   },
   "source": [
    "# Access control\n",
    "There are several layers in a computer system:\n",
    "* Applications (*eg* Google Chrome, Microsoft Word)\n",
    "* Services (*eg* Java Virtual Machine, Pulse Audio)\n",
    "* Operating Systems (*eg* Windows, macOS, UNIX/Linux)\n",
    "* OS Kernel (*ie* system calls, such as memory management)\n",
    "* Hardware (*eg* CPU, RAM, SSD, I/O)\n",
    "\n",
    "## Comparison with network layers\n",
    "\n",
    "|    | Communication network | Computer System |\n",
    "|----| ---- | ---- |\n",
    "| Well defined boundary? | More well defined | Less well defined |\n",
    "| Data flow | Data flows from top to the bottom layer | Each layer has its own process and data |\n",
    "| Concern | Data confidentiality and integrity | Data confidentiality and integrity, and **process integrity** | "
   ]
  },
  {
   "cell_type": "markdown",
   "id": "22ddc0a0",
   "metadata": {
    "deletable": false,
    "editable": false,
    "run_control": {
     "frozen": true
    }
   },
   "source": [
    "An example of the layers being less defined in computer system is between the OS and the kernel.\n",
    "Some literature consider them part of the same layer.\n",
    "\n",
    "**Process integrity** is the assurance that the process will not deviate from its intended execution path."
   ]
  },
  {
   "cell_type": "markdown",
   "id": "32b46cfc",
   "metadata": {
    "deletable": false,
    "editable": false,
    "run_control": {
     "frozen": true
    }
   },
   "source": [
    "The layers are arranged from the least privileged (application) to the most privileged (hardware).\n",
    "Thus, a secure system would be such that if one of the layers is compromised by an attacker, they are not able to manipulate the objects in the inner layers.\n",
    "(Note that this is rather difficult to achieve, due to numerous issues such as implementation errors, user error *etc*)\n",
    "\n",
    "One can imagine the chaos if an attacker who is able to perform SQL injection on the DBMS (service layer) is somehow able to obtain the password file (OS layer) of the system through it.\n",
    "Or if an attacker that employed cross-site scripting to compromised the browser (application layer) is able to burn out the CPU (hardware layer)."
   ]
  },
  {
   "cell_type": "markdown",
   "id": "86c2efa3",
   "metadata": {
    "deletable": false,
    "editable": false,
    "run_control": {
     "frozen": true
    }
   },
   "source": [
    "## Access control model\n",
    "Access control are required in a computer system to restrict the **operations** that can be performed by some **entity** on some **objects**."
   ]
  },
  {
   "cell_type": "markdown",
   "id": "8ebb23c9",
   "metadata": {
    "deletable": false,
    "editable": false,
    "run_control": {
     "frozen": true
    }
   },
   "source": [
    "Operations can be categorized as:\n",
    "* Observe (*eg* reading a file)\n",
    "* Alter (*eg* writing to a file, replacing a file, deleting a file, changing ownership)\n",
    "* Action (*eg* executing a file)"
   ]
  },
  {
   "cell_type": "markdown",
   "id": "711d52c8",
   "metadata": {
    "deletable": false,
    "editable": false,
    "run_control": {
     "frozen": true
    }
   },
   "source": [
    "Suppose that a **subject/principal** wants perform some **operation** on some **object**.\n",
    "An example would be the user with name `John` wishes to `read` the file `johns_grades.txt`. \n",
    "The entity known as the **reference monitor** is responsible to deciding whether to allow or deny the access."
   ]
  },
  {
   "cell_type": "markdown",
   "id": "1ac961d2",
   "metadata": {
    "deletable": false,
    "editable": false,
    "run_control": {
     "frozen": true
    }
   },
   "source": [
    "There are two main types of access control\n",
    "\n",
    "### Discretionary access control model\n",
    "The owner of the object decides the rights\n",
    "\n",
    "### Mandatory access control model\n",
    "A system-wide policy that decides the rights."
   ]
  },
  {
   "cell_type": "markdown",
   "id": "ea423c0a",
   "metadata": {
    "deletable": false,
    "editable": false,
    "run_control": {
     "frozen": true
    }
   },
   "source": [
    "## Access control representation\n",
    "An **access control matrix** shows the relationship between principals and objects.\n",
    "\n",
    "|  | sudo | passwd | common.txt |\n",
    "| --- | ---| --- | --- |\n",
    "|root | {run} | {read, write} | {read, write} |\n",
    "| Alice | {run} | {read} | {read, write} |\n",
    "| Bob | {} |  {read} | {read, write} |\n",
    "\n",
    "This matrix can be represented in two ways.\n",
    "\n",
    "### Access control list\n",
    "Stores the rights to a particular object as a list.\n",
    "\n",
    "```\n",
    "sudo: [(root, {run}), (Alice, {run})]\n",
    "passwd: [(root, {read, write}), (Alice, {read}, (Bob, {read})]\n",
    "common.txt: [(root, {read, write}), (Alice, {read, write}), (Bob, {read, write})]\n",
    "```\n",
    "\n",
    "### Capabilities\n",
    "Stores the capabilities of each subject as a list.\n",
    "\n",
    "```\n",
    "root: [(sudo, {run}), (passwd, {read, write}), (common.txt, {read, write})]\n",
    "Alice: [(sudo, {run}), (passwd, {read}), (common.txt, {read, write})]\n",
    "Bob: [(passwd, {read}), (common.txt{read, write})]\n",
    "```\n",
    "\n",
    "Note that is is difficult to know which objects does a particular subject has access to in ACL, but easy in capabilities.\n",
    "The vice versa occurs when finding who has access to a certain object."
   ]
  },
  {
   "cell_type": "markdown",
   "id": "7716a733",
   "metadata": {
    "deletable": false,
    "editable": false,
    "run_control": {
     "frozen": true
    }
   },
   "source": [
    "However, notice that the matrix can get really large if there are multiple users, and there are numerous files.\n",
    "\n",
    "Thus, to help simplify the matrix representation, we can group the users and define access rights to these groups instead."
   ]
  },
  {
   "cell_type": "markdown",
   "id": "1f86c55d",
   "metadata": {
    "deletable": false,
    "editable": false,
    "run_control": {
     "frozen": true
    }
   },
   "source": [
    "## UNIX access control\n",
    "File permissions consist of rights to the following user classes:\n",
    "* owner\n",
    "* owner's group(s)\n",
    "* others\n",
    "\n",
    "In UNIX, groups can only be created by `root`.\n",
    "\n",
    "Because all resources are treated as files in UNIX, we can define access controls on these resources (hardware, I/O) the same way we do for files.\n",
    "\n",
    "Each user:\n",
    "* has a unique username\n",
    "* has a unique user identifier (**UID**)\n",
    "    * stored in `/etc/passwd`\n",
    "* can belong to one or more groups\n",
    "    * first group is stored in `/etc/passwd`\n",
    "    * other groups are stored in`/etc/group`\n",
    "    \n",
    "Each group:\n",
    "* has a unique group name\n",
    "* has a unique group identifier (**GID**)\n",
    "\n",
    "Purpose of UID/GID:\n",
    "* determine ownership of system resources\n",
    "* determine credential of running processes\n",
    "* control permissions granted to processes"
   ]
  },
  {
   "cell_type": "markdown",
   "id": "8d9f0f98",
   "metadata": {
    "deletable": false,
    "editable": false,
    "run_control": {
     "frozen": true
    }
   },
   "source": [
    "There is a special user called the **super use**, with UID 0, typically called `root`.\n",
    "All security checks are disabled for the super user."
   ]
  },
  {
   "cell_type": "markdown",
   "id": "b79f3beb",
   "metadata": {
    "deletable": false,
    "editable": false,
    "run_control": {
     "frozen": true
    }
   },
   "source": [
    "### passwd file\n",
    "The `passwd` file is made readable by everyone because some processes requires information in it.\n",
    "\n",
    "In older versions of UNIX, the password hash is stored in the file.\n",
    "This allowed attackers to perform offline password guessing to crack the password.\n",
    "\n",
    "In newer versions, the hash is stored elsewhere, typically in `/etc/shadow`.\n",
    "This hash is not readable by everyone."
   ]
  },
  {
   "cell_type": "markdown",
   "id": "0ce55c85",
   "metadata": {
    "deletable": false,
    "editable": false,
    "run_control": {
     "frozen": true
    }
   },
   "source": [
    "### shadow file"
   ]
  },
  {
   "cell_type": "markdown",
   "id": "2172f6bf",
   "metadata": {
    "deletable": false,
    "editable": false,
    "run_control": {
     "frozen": true
    }
   },
   "source": [
    "Within the shadow file, each entry is formated as follows (separated by `:`)\n",
    "* login name\n",
    "* hashed password\n",
    "* date of last password change, \n",
    "* minimum password age\n",
    "* maximum password age\n",
    "* password warning period\n",
    "* password inactivity period\n",
    "* account expiration date\n",
    "* reserved field \n",
    "\n",
    "For the second field (hashed password), has the following format: \n",
    "\n",
    "`$id$salt$hash`\n",
    "\n",
    "where `id` correspond to the hash-method used (5=SHA-256, 6= SHA-512, *etc*)\n",
    "    "
   ]
  },
  {
   "cell_type": "markdown",
   "id": "2529de2c",
   "metadata": {
    "deletable": false,
    "editable": false,
    "run_control": {
     "frozen": true
    }
   },
   "source": [
    "### Processes\n",
    "A new process is spawned when running an executable file, or a child is forked from a parent process.\n",
    "\n",
    "Each process has its own **process ID (PID)**.\n",
    "Use `ps aux` to see all processes and their PID."
   ]
  },
  {
   "cell_type": "markdown",
   "id": "dd023635",
   "metadata": {
    "deletable": false,
    "editable": false,
    "run_control": {
     "frozen": true
    }
   },
   "source": [
    "### File permissions\n",
    "File permissions are represented by 9 characters, with each triplet corresponding to a certain user class.\n",
    "The first triplet corresponds to the owner; the next to users in the group and the last to everyone else.\n",
    "\n",
    "Each triplet corresponds to the three actions, `r` read, `w` write, `x` execute."
   ]
  },
  {
   "cell_type": "code",
   "execution_count": 47,
   "id": "0ac02477",
   "metadata": {
    "deletable": false,
    "editable": false,
    "run_control": {
     "frozen": true
    }
   },
   "outputs": [
    {
     "name": "stdout",
     "output_type": "stream",
     "text": [
      "\u001b[1;34md\u001b[33mr\u001b[31mw\u001b[32mx\u001b[0m\u001b[33mr\u001b[38;5;244m-\u001b[32mx\u001b[33mr\u001b[38;5;244m-\u001b[32mx\u001b[0m    \u001b[38;5;244m-\u001b[0m \u001b[1;33mown3d\u001b[0m \u001b[34m10 Jul 11:19\u001b[0m \u001b[1;34maccess-control-example\u001b[0m\r\n",
      ".\u001b[1;33mr\u001b[31mw\u001b[0m\u001b[38;5;244m-\u001b[33mr\u001b[38;5;244m--\u001b[33mr\u001b[38;5;244m--\u001b[0m  \u001b[1;32m25\u001b[0m\u001b[32mk\u001b[0m \u001b[1;33mown3d\u001b[0m \u001b[34m10 Jul 11:45\u001b[0m access_control.ipynb\r\n",
      ".\u001b[1;33mr\u001b[31mw\u001b[0m\u001b[38;5;244m-\u001b[33mr\u001b[38;5;244m--\u001b[33mr\u001b[38;5;244m--\u001b[0m  \u001b[1;32m17\u001b[0m\u001b[32mk\u001b[0m \u001b[1;33mown3d\u001b[0m \u001b[34m 6 Jul 08:28\u001b[0m authentication.ipynb\r\n",
      ".\u001b[1;33mr\u001b[31mw\u001b[0m\u001b[38;5;244m-\u001b[33mr\u001b[38;5;244m--\u001b[33mr\u001b[38;5;244m--\u001b[0m  \u001b[1;32m75\u001b[0m\u001b[32mk\u001b[0m \u001b[1;33mown3d\u001b[0m \u001b[34m26 Jun 11:12\u001b[0m classical_ciphers.ipynb\r\n",
      ".\u001b[1;33mr\u001b[31mw\u001b[0m\u001b[38;5;244m-\u001b[33mr\u001b[38;5;244m--\u001b[33mr\u001b[38;5;244m--\u001b[0m  \u001b[1;32m25\u001b[0m\u001b[32mk\u001b[0m \u001b[1;33mown3d\u001b[0m \u001b[34m 6 Jul 23:49\u001b[0m data_origin_authentication.ipynb\r\n",
      ".\u001b[1;33mr\u001b[31mw\u001b[0m\u001b[38;5;244m-\u001b[33mr\u001b[38;5;244m--\u001b[33mr\u001b[38;5;244m--\u001b[0m \u001b[1;32m4.2\u001b[0m\u001b[32mk\u001b[0m \u001b[1;33mown3d\u001b[0m \u001b[34m 7 Jul 23:16\u001b[0m introduction.ipynb\r\n",
      ".\u001b[1;33mr\u001b[31mw\u001b[0m\u001b[38;5;244m-\u001b[33mr\u001b[38;5;244m--\u001b[33mr\u001b[38;5;244m--\u001b[0m \u001b[1;32m1.4\u001b[0m\u001b[32mM\u001b[0m \u001b[1;33mown3d\u001b[0m \u001b[34m 6 Jul 09:40\u001b[0m modern_ciphers.ipynb\r\n",
      "\u001b[1;34md\u001b[33mr\u001b[31mw\u001b[32mx\u001b[0m\u001b[33mr\u001b[38;5;244m-\u001b[32mx\u001b[33mr\u001b[38;5;244m-\u001b[32mx\u001b[0m    \u001b[38;5;244m-\u001b[0m \u001b[1;33mown3d\u001b[0m \u001b[34m 6 Jul 09:27\u001b[0m \u001b[1;34mmodule\u001b[0m\r\n",
      ".\u001b[1;33mr\u001b[31mw\u001b[0m\u001b[38;5;244m-\u001b[33mr\u001b[38;5;244m--\u001b[33mr\u001b[38;5;244m--\u001b[0m  \u001b[1;32m12\u001b[0m\u001b[32mk\u001b[0m \u001b[1;33mown3d\u001b[0m \u001b[34m 9 Jul 00:48\u001b[0m network_security.ipynb\r\n",
      ".\u001b[1;33mr\u001b[31mw\u001b[0m\u001b[38;5;244m-\u001b[33mr\u001b[38;5;244m--\u001b[33mr\u001b[38;5;244m--\u001b[0m  \u001b[1;32m13\u001b[0m\u001b[32mk\u001b[0m \u001b[1;33mown3d\u001b[0m \u001b[34m 6 Jul 11:33\u001b[0m public_key_infrastructure.ipynb\r\n",
      ".\u001b[1;33mr\u001b[31mw\u001b[0m\u001b[38;5;244m-\u001b[33mr\u001b[38;5;244m--\u001b[33mr\u001b[38;5;244m--\u001b[0m  \u001b[1;32m148\u001b[0m \u001b[1;33mown3d\u001b[0m \u001b[34m26 Jun 11:27\u001b[0m \u001b[1;4;33mREADME.md\u001b[0m\r\n",
      ".\u001b[1;33mr\u001b[31mw\u001b[0m\u001b[38;5;244m-\u001b[33mr\u001b[38;5;244m--\u001b[33mr\u001b[38;5;244m--\u001b[0m  \u001b[1;32m11\u001b[0m\u001b[32mk\u001b[0m \u001b[1;33mown3d\u001b[0m \u001b[34m 7 Jul 00:18\u001b[0m secure_channel.ipynb\r\n"
     ]
    }
   ],
   "source": [
    "!exa -l"
   ]
  },
  {
   "cell_type": "markdown",
   "id": "f57c6217",
   "metadata": {},
   "source": [
    "Note that I use `exa` instead of `ls` because it is more convenient for everyday use."
   ]
  },
  {
   "cell_type": "markdown",
   "id": "14d53b19",
   "metadata": {},
   "source": [
    "#### Special permissions\n",
    "##### Set-UID <span id='set-uid'/>\n",
    "Represented by an `s` replacing the owner's `x` bit, this causes the process' **effective UID** to be the owner's, rather than the user running it.\n",
    "\n",
    "##### Set-GID\n",
    "Represented by an `s` replacing the group's `x` bit, this causes the process' **effective GID** to be the group owner.\n",
    "\n",
    "##### Sticky bit\n",
    "Represented by an `t` replacing the other's `x` bit, if set on a directory, only the owner or root can delete the files in that directory.\n",
    "\n",
    "Note that only the owner or root can change the permission of a file."
   ]
  },
  {
   "cell_type": "markdown",
   "id": "5a940851",
   "metadata": {
    "deletable": false,
    "editable": false,
    "run_control": {
     "frozen": true
    }
   },
   "source": [
    "A process has its **process credentials**, determined by its **real UID** and **effective UID**.\n",
    "\n",
    "Real UID is inherited from the user who ran the process, which identifies the real owner of the process.\n",
    "\n",
    "When set-UID bit is not set, the effective UID of the process is the real UID.\n",
    "\n",
    "When set-UID bit is set, the effective UID of the process is the file owner's UID."
   ]
  },
  {
   "cell_type": "markdown",
   "id": "3f931cc8",
   "metadata": {
    "deletable": false,
    "editable": false,
    "run_control": {
     "frozen": true
    }
   },
   "source": [
    "#### Purpose of set-UID\n",
    "Suppose we have a password file, which contains all the user's password.\n",
    "Thus, it makes sense to not make it readable/writable to everyone.\n",
    "\n",
    "However, suppose that we also are required to allow users to change their own passwords.\n",
    "Because the file contains everyone else's passwords, we cannot allow it to be writable to the user, thus we cannot satisfy the above requirement.\n",
    "\n",
    "Hence, `root` can create special program `change_password` which interacts with the password file.\n",
    "This file is made executable by all the users.\n",
    "To allow the password file to be modified when the user runs the program, we set the set-UID bit of the program.\n",
    "\n",
    "With the set-UID bit, the process inherits the UID of `root`, allowing access to the password file in a controlled manner through this program.\n",
    "This allows **temporary privilege escalation** of the user when they run the program."
   ]
  },
  {
   "cell_type": "markdown",
   "id": "3bc62a62",
   "metadata": {
    "deletable": false,
    "editable": false,
    "run_control": {
     "frozen": true
    }
   },
   "source": [
    "Since the privilege of the user is temporarily escalated, it is important to ensure that there is no vulnerabilities in the program.\n",
    "If the attacker finds a vulnerability, they can use it to perform malicious actions that they otherwise were not able to perform due to insufficient privileges.\n",
    "These are known as **privilege escalation attacks**"
   ]
  },
  {
   "cell_type": "markdown",
   "id": "9df66a80",
   "metadata": {
    "deletable": false,
    "editable": false,
    "run_control": {
     "frozen": true
    }
   },
   "source": [
    "##### Example"
   ]
  },
  {
   "cell_type": "code",
   "execution_count": 36,
   "id": "554ef4d7",
   "metadata": {
    "deletable": false,
    "editable": false,
    "run_control": {
     "frozen": true
    }
   },
   "outputs": [
    {
     "name": "stdout",
     "output_type": "stream",
     "text": [
      "[Errno 2] No such file or directory: 'access-control-example'\n",
      "/home/own3d/wellspring/cyber_security/access-control-example\n"
     ]
    }
   ],
   "source": [
    "%cd access-control-example\n",
    "from getpass import getpass"
   ]
  },
  {
   "cell_type": "markdown",
   "id": "78b4fbe7",
   "metadata": {
    "deletable": false,
    "editable": false,
    "run_control": {
     "frozen": true
    }
   },
   "source": [
    "This is our file structure."
   ]
  },
  {
   "cell_type": "code",
   "execution_count": 37,
   "id": "51f88130",
   "metadata": {
    "deletable": false,
    "editable": false,
    "run_control": {
     "frozen": true
    }
   },
   "outputs": [
    {
     "name": "stdout",
     "output_type": "stream",
     "text": [
      ".\u001b[1;33mr\u001b[31mw\u001b[0m\u001b[35ms\u001b[33mr\u001b[38;5;244m-\u001b[32mx\u001b[33mr\u001b[38;5;244m-\u001b[32mx\u001b[0m \u001b[1;32m53\u001b[0m\u001b[32mk\u001b[0m root  \u001b[34m10 Jul 11:14\u001b[0m \u001b[1;32mchange_secret_name\u001b[0m\r\n",
      ".\u001b[1;33mr\u001b[31mw\u001b[0m\u001b[38;5;244m-\u001b[33mr\u001b[38;5;244m--\u001b[33mr\u001b[38;5;244m--\u001b[0m \u001b[1;32m359\u001b[0m \u001b[1;33mown3d\u001b[0m \u001b[34m10 Jul 11:14\u001b[0m change_secret_name.py\r\n",
      ".\u001b[1;33mr\u001b[31mw\u001b[0m\u001b[38;5;244m-------\u001b[0m  \u001b[1;32m52\u001b[0m root  \u001b[34m10 Jul 11:19\u001b[0m secret_names.txt\r\n"
     ]
    }
   ],
   "source": [
    "!exa -l"
   ]
  },
  {
   "cell_type": "markdown",
   "id": "8fc59656",
   "metadata": {
    "deletable": false,
    "editable": false,
    "run_control": {
     "frozen": true
    }
   },
   "source": [
    "Within `secret_names.txt`, there is a list of users and their corresponding secret names.\n",
    "We require that no one is able to peek at the other's secret name, thus the file is not world-readable and not world-writable."
   ]
  },
  {
   "cell_type": "markdown",
   "id": "0b513b5c",
   "metadata": {
    "deletable": false,
    "editable": false,
    "run_control": {
     "frozen": true
    }
   },
   "source": [
    "(Note that all commands which executes using `sudo` is not supposed to be allowed by the regular user. We need it to display the contents of the file for demonstration)"
   ]
  },
  {
   "cell_type": "code",
   "execution_count": 38,
   "id": "81d7040d",
   "metadata": {
    "deletable": false,
    "editable": false,
    "run_control": {
     "frozen": true
    }
   },
   "outputs": [
    {
     "name": "stdout",
     "output_type": "stream",
     "text": [
      "········\n",
      "[sudo] password for own3d:  \n",
      "name\tsecret name\n",
      "own3d\t0wn463\n",
      "alice\tdiana\n",
      "bob\tclark\n"
     ]
    }
   ],
   "source": [
    "!echo {getpass()} | sudo -S cat secret_names.txt | sed '1 i\\ '"
   ]
  },
  {
   "cell_type": "code",
   "execution_count": 39,
   "id": "78de7e0b",
   "metadata": {
    "deletable": false,
    "editable": false,
    "run_control": {
     "frozen": true
    }
   },
   "outputs": [
    {
     "name": "stdout",
     "output_type": "stream",
     "text": [
      "cat: secret_names.txt: Permission denied\r\n"
     ]
    }
   ],
   "source": [
    "!cat secret_names.txt"
   ]
  },
  {
   "cell_type": "markdown",
   "id": "750a8239",
   "metadata": {
    "deletable": false,
    "editable": false,
    "run_control": {
     "frozen": true
    }
   },
   "source": [
    "Thus, we employ a binary with a set-uid bit set (take note of the set-uid bit in the file permission) to allow controlled access to the `secret_names.txt` file"
   ]
  },
  {
   "cell_type": "markdown",
   "id": "7fff39dd",
   "metadata": {
    "deletable": false,
    "editable": false,
    "run_control": {
     "frozen": true
    }
   },
   "source": [
    "`change_secret_name` is the compile C binary using `change_secret_name.py` as the source code.\n",
    "We need to compile the Python script into C because the Linux kernel does not inherit set-uid privileges for interpreted scripts, such as Bash and Python."
   ]
  },
  {
   "cell_type": "code",
   "execution_count": 40,
   "id": "3a52d23f",
   "metadata": {
    "deletable": false,
    "editable": false,
    "run_control": {
     "frozen": true
    }
   },
   "outputs": [
    {
     "name": "stdout",
     "output_type": "stream",
     "text": [
      "import os\r\n",
      "import sys\r\n",
      "import re\r\n",
      "\r\n",
      "SECRET_FILE = 'secret_names.txt'\r\n",
      "\r\n",
      "with open(SECRET_FILE, 'r') as f:\r\n",
      "    data = f.read()\r\n",
      "\r\n",
      "user = os.getenv('USER')\r\n",
      "new_secret = sys.argv[1]\r\n",
      "\r\n",
      "print(f'{user} is changing their secret name to {new_secret}')\r\n",
      "\r\n",
      "new_data = re.sub(rf'{user}\\t.*', rf'{user}\\t{new_secret}', data)\r\n",
      "\r\n",
      "with open(SECRET_FILE, 'w') as f:\r\n",
      "    f.write(new_data)\r\n"
     ]
    }
   ],
   "source": [
    "!cat change_secret_name.py"
   ]
  },
  {
   "cell_type": "markdown",
   "id": "9a1ae7a7",
   "metadata": {
    "deletable": false,
    "editable": false,
    "run_control": {
     "frozen": true
    }
   },
   "source": [
    "###### Changing secret name\n"
   ]
  },
  {
   "cell_type": "code",
   "execution_count": 41,
   "id": "f20f588c",
   "metadata": {
    "deletable": false,
    "editable": false,
    "run_control": {
     "frozen": true
    }
   },
   "outputs": [
    {
     "name": "stdout",
     "output_type": "stream",
     "text": [
      "own3d is changing their secret name to new_name\r\n"
     ]
    }
   ],
   "source": [
    "!./change_secret_name new_name"
   ]
  },
  {
   "cell_type": "code",
   "execution_count": 42,
   "id": "26ac08ae",
   "metadata": {
    "deletable": false,
    "editable": false,
    "run_control": {
     "frozen": true
    }
   },
   "outputs": [
    {
     "name": "stdout",
     "output_type": "stream",
     "text": [
      "········\n",
      "[sudo] password for own3d:  \n",
      "name\tsecret name\n",
      "own3d\tnew_name\n",
      "alice\tdiana\n",
      "bob\tclark\n"
     ]
    }
   ],
   "source": [
    "!echo {getpass()} | sudo -S cat secret_names.txt | sed '1 i\\ '"
   ]
  },
  {
   "cell_type": "markdown",
   "id": "d90b8e22",
   "metadata": {
    "deletable": false,
    "editable": false,
    "run_control": {
     "frozen": true
    }
   },
   "source": [
    "As we can see, we can use the executable to change the name without having direct root access."
   ]
  },
  {
   "cell_type": "markdown",
   "id": "af6dffe6",
   "metadata": {
    "deletable": false,
    "editable": false,
    "run_control": {
     "frozen": true
    }
   },
   "source": [
    "###### Vulnerability"
   ]
  },
  {
   "cell_type": "markdown",
   "id": "3a08e17c",
   "metadata": {
    "deletable": false,
    "editable": false,
    "run_control": {
     "frozen": true
    }
   },
   "source": [
    "However, some keen users may have already seen the vulnerability in the program.\n",
    "It assumed that the user of the executable corresponds to the `USER` variable.\n",
    "However, the `USER` variable can be modified by the caller of the executable, like so."
   ]
  },
  {
   "cell_type": "code",
   "execution_count": 43,
   "id": "650d0e69",
   "metadata": {
    "deletable": false,
    "editable": false,
    "run_control": {
     "frozen": true
    }
   },
   "outputs": [
    {
     "name": "stdout",
     "output_type": "stream",
     "text": [
      "alice is changing their secret name to enemies_stand\r\n"
     ]
    }
   ],
   "source": [
    "!USER=alice ./change_secret_name enemies_stand"
   ]
  },
  {
   "cell_type": "code",
   "execution_count": 44,
   "id": "e5df0587",
   "metadata": {
    "deletable": false,
    "editable": false,
    "run_control": {
     "frozen": true
    }
   },
   "outputs": [
    {
     "name": "stdout",
     "output_type": "stream",
     "text": [
      "········\n",
      "[sudo] password for own3d:  \n",
      "name\tsecret name\n",
      "own3d\tnew_name\n",
      "alice\tenemies_stand\n",
      "bob\tclark\n"
     ]
    }
   ],
   "source": [
    "!echo {getpass()} | sudo -S cat secret_names.txt | sed '1 i\\ '"
   ]
  },
  {
   "cell_type": "markdown",
   "id": "4829d305",
   "metadata": {
    "deletable": false,
    "editable": false,
    "run_control": {
     "frozen": true
    }
   },
   "source": [
    "Thus, I am able to modify `alice`'s secret name even though I am not `alice`."
   ]
  }
 ],
 "metadata": {
  "kernelspec": {
   "display_name": "Python 3",
   "language": "python",
   "name": "python3"
  },
  "language_info": {
   "codemirror_mode": {
    "name": "ipython",
    "version": 3
   },
   "file_extension": ".py",
   "mimetype": "text/x-python",
   "name": "python",
   "nbconvert_exporter": "python",
   "pygments_lexer": "ipython3",
   "version": "3.9.5"
  }
 },
 "nbformat": 4,
 "nbformat_minor": 5
}
