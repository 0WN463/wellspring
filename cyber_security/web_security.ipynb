{
 "cells": [
  {
   "cell_type": "markdown",
   "id": "6b185aad",
   "metadata": {},
   "source": [
    "# Web Security\n",
    "## Background\n",
    "### Overview of HTTP\n",
    "This is a quick rundown of what happens when a website is accessed:\n",
    "1. User goes to a URL\n",
    "2. HTTP request is sent to the server\n",
    "3. Server response with a HTML file\n",
    "4. User's browser renders the HTML files as a website\n",
    "\n"
   ]
  },
  {
   "cell_type": "markdown",
   "id": "17cf63fd",
   "metadata": {},
   "source": [
    "Note that the HTML may contain sub-resources (**eg** images, videos, icons) which are hosted on external website.\n",
    "To obtain these resources, the browser will sent more HTTP requests to these endpoints."
   ]
  },
  {
   "cell_type": "markdown",
   "id": "e4b2d1b4",
   "metadata": {},
   "source": [
    "HTTP request/response contains headers, which gives hint to the receiver as to what to do with the data.\n",
    "For example, it can contain details about the content-length or the data type.\n",
    "\n",
    "One crucial element for web security are **cookies**.\n",
    "\n",
    "### Cookies\n",
    "A cookie is a textual data sent from the server, using the `Set-Cookie` field.\n",
    "They contain key-value pairs of data.\n",
    "Cookies are stored on the user's browser while they are browsing.\n",
    "When the user revisits the site, the browser will send all **in-scope** cookies to the server via the `Cookie` header.\n",
    "\n",
    "There are several types of cookies:\n",
    "* Session cookies\n",
    "    * deleted at the end of the browsing session\n",
    "* Persistent cookies\n",
    "    * expires at a specific time, or after a specified time\n",
    "* Secure cookies\n",
    "    * can only be transmitted via HTTPS\n",
    "\n",
    "#### Purpose\n",
    "Because HTTP is stateless, there needs to be another mechanism for tracking a session.\n",
    "Cookies are a common method of setting and tracking a session ID between server and user.\n",
    "\n",
    "By using **token-based authentication**, the user do not need to repeat their login each time they visit the site.\n",
    "\n",
    "1. User logs in with their credentials\n",
    "2. Server verifies the credentials, and sends a token to the user\n",
    "3. User receives the token and the browser saves the token as a cookie\n",
    "4. Subsequent interaction with the server will send the token to the server via the cookie, which the server will verify"
   ]
  },
  {
   "cell_type": "markdown",
   "id": "f03ff38a",
   "metadata": {},
   "source": [
    "On the server side, they need to store a mapping between users and their currently active tokens, so that they can verify the token they receive from the user.\n",
    "\n",
    "To avoid having to store the table, the server can perform the following:\n",
    "1. Decide on what information should be on the token\n",
    "    * for example, user name and expiry date\n",
    "2. Compute the MAC of the above information, using a secret key\n",
    "3. Concatenate the MAC with the above information and send it as a token\n",
    "4. When the server receives a token, they compute the MAC of the information given, and check that it matches the MAC advertised in the token\n",
    "\n",
    "This mechanism uses the basis that only the server (who knows the secret key) can produce a valid MAC for the given information."
   ]
  },
  {
   "cell_type": "markdown",
   "id": "a2ccef1d",
   "metadata": {},
   "source": [
    "### Javascript\n",
    "Javascript is a programming language that can be embedded into HTML pages (using `<script>` tags).\n",
    "They allow interactive design of the web page, by using the plethora of capabilities of a programming language.\n"
   ]
  },
  {
   "cell_type": "markdown",
   "id": "5b4717b9",
   "metadata": {},
   "source": [
    "## Threats\n",
    "### Attackers as another end system\n",
    "We can model the attacker as another end system.\n",
    "Hence, they fall into 2 categories:\n",
    "\n",
    "* Forum poster\n",
    "    * Weakest type of attacker\n",
    "    * Akin to a malicious user of the system\n",
    "* <span id=\"web-attacker\"/> Web attacker \n",
    "    * Has access to their own domain and web server (with valid SSL certificate)\n",
    "    * Akin to a malicious server\n",
    "    * **Cannot** modify or view traffic to other sites\n",
    "\n",
    "### Attackers as network attackers\n",
    "Another category of attackers are network attackers.\n",
    "They have access to the network between the user and the server.\n",
    "They fall into the following categories:\n",
    "\n",
    "* Passive network attacker\n",
    "    * Can view, but cannot modify, traffic between users and server\n",
    "    * Can additionally act as a [web attacker](#web-attacker)\n",
    "* Active network attacker\n",
    "    * Can view and modify network traffic\n",
    "    * Can additionally act as a [web attacker](#web-attacker)\n",
    "    * The most powerful threat model"
   ]
  },
  {
   "cell_type": "markdown",
   "id": "e49faeff",
   "metadata": {},
   "source": [
    "## Attacks\n",
    "### Misleading the user\n",
    "#### Using similar URL\n",
    "URL have a **host name** component and other components.\n",
    "For example, the host name of `https://en.wikipedia.org/wiki/URL` is `en.wikipedia.org`, while `/wiki/URL` is the other components of the URL.\n",
    "\n",
    "The host name dictates which server the browser will connect to.\n",
    "Suppose that attacker were to send the following URL instead `https://en.wikipedia.org|wiki/URL`.\n",
    "The host that the user will visit will be `https://en.wikipedia.org|wiki` instead, which the attacker can control.\n",
    "\n",
    "##### Prevention\n",
    "In modern browsers, the host name portion of the URL have a different font intensity than the other components.\n",
    "This help users spot bogus website that are trying to impersonate legitimate sites."
   ]
  },
  {
   "cell_type": "markdown",
   "id": "dd9358ad",
   "metadata": {},
   "source": [
    "#### Address bar spoofing\n",
    "The address bar is an important facet in protecting the user by showing which site they are visiting.\n",
    "However, address bar only indicates to the user what website they are visiting.\n",
    "They do not explicitly protect the user from phishing sites.\n",
    "A poorly designed browser may allow attackers to thwart these efforts.\n",
    "\n",
    "In early browser design, popups are allowed to be rendered at any location of the screen.\n",
    "This allowed attackers to overlay a spoofed address bar over the real address bar using a popup.\n",
    "\n",
    "Even recently, [address bar spoofing vulnerabilities are being found on modern devices](https://cve.circl.lu/cve/CVE-2019-12278)."
   ]
  },
  {
   "cell_type": "markdown",
   "id": "39f7c0d8",
   "metadata": {},
   "source": [
    "### Cross site scripting (XSS)\n",
    "In many websites, users are allowed to submit content to the server, which it will then respond with HTML rendered with the content.\n",
    "\n",
    "#### Reflected XSS\n",
    "In this case, the user is allowed to submit content as part of the URL, often via **query parameters** \n",
    "For example, the URL `https://www.google.de/search?q=query_string` will render a Google search page with `query_string` in its search parameter.\n",
    "\n",
    "Notice that this means that Javascript can be injected into the rendered HTML page via the query parameter, like so `https://www.google.de/search?q=<script>do_the_hacks()</script>`\n",
    "\n",
    "Thus, the following is possible:\n",
    "1. Attacker crafts a URL with the script as part of the query parameters\n",
    "2. User clicks on malicious link\n",
    "3. Server receives request and sends the HTML with the injected script\n",
    "4. User's browser receives the HTML and renders it, executing the malicious code\n",
    "\n",
    "Note that because the script is ran on the site that the user is currently visiting, the script has access to the site's cookies because it is in-scope.\n",
    "Thus, attackers can have the script send the cookies to them, stealing the cookie.\n",
    "\n",
    "#### Persistent XSS\n",
    "Consider the case where user's content is stored on the server's database, and this content is rendered when someone requests it.\n",
    "For example, users can make a post on Facebook, and it will appear for all other users whenever they visit the site.\n",
    "\n",
    "This is more dangerous than reflected XSS because the attack can happen on the site's legitimate URL rather than needed a malicious URL.\n",
    "Also, the attack has a larger impact because it can affect many users at once.\n",
    "\n",
    "--- \n",
    "\n",
    "The basis of these attack exploits **the client's trust in the server**, where they believe all content in the HTML is from the server, and thus safe.\n"
   ]
  },
  {
   "cell_type": "markdown",
   "id": "86f3ea7c",
   "metadata": {},
   "source": [
    "#### Defense\n",
    "Most defense relies on mechanism on the server side.\n",
    "A simple method is to employ sanitization of user input to escape any potentially malicious scripts.\n",
    "Another method include declaring parts of the webpage forbidden to be ran with Javascript."
   ]
  },
  {
   "cell_type": "markdown",
   "id": "5dbbd201",
   "metadata": {},
   "source": [
    "### Cross site request forgery (CSRF)\n",
    "Suppose that actions on a website can be encoded as part of the URL.\n",
    "For example, `www.bank.com/transfer?to=Bob&amount=100` will transfer \\\\$100 to Bob from the current user's account.\n",
    "\n",
    "Now consider the following:\n",
    "1. User is already logged in at `www.bank.com`.\n",
    "2. Attacker sends a malicious link to the user, which is `www.bank.com?to=Attacker?amount=100`\n",
    "3. User clicks the link and sends the request to the server\n",
    "4. Because the user is already authenticated, the authentication cookie will be sent to the server as part of the request and the transaction will go through\n",
    "\n",
    "Note that the attacker can perform the attacker without the user explicitly requesting the webpage.\n",
    "For example, they can lure the victim into visiting their malicious website, which contains an image who's content is advertised to be at `www.bank.com/transfer?to=Bob&amount=100`.\n",
    "This causes the browser to make the request to obtain the picture, thus triggering the transaction."
   ]
  },
  {
   "cell_type": "markdown",
   "id": "a7184d7e",
   "metadata": {},
   "source": [
    "Thus, this attack exploits the flipside of the previous exploit, where it targets the **server's trust in the client**, where it believe every request is from the client."
   ]
  },
  {
   "cell_type": "markdown",
   "id": "da0f2c7e",
   "metadata": {},
   "source": [
    "#### Defense\n",
    "To protect against this, server can employ a dynamic content to be issued and required at any of it's transaction sites.\n",
    "\n",
    "For example, within the HTML form of `www.bank.com/transfer` will have an hidden field `CSRFToken` which contains a random value generated by the server.\n",
    "When the request is send to the server, this information will be included as part of the form for server to verify.\n",
    "Because the attacker cannot know the value of this random value without having access to the user's session, they are unable to forge a request which advertises the correct value to the server, thus the transaction will not succeed."
   ]
  }
 ],
 "metadata": {
  "kernelspec": {
   "display_name": "Python 3",
   "language": "python",
   "name": "python3"
  },
  "language_info": {
   "codemirror_mode": {
    "name": "ipython",
    "version": 3
   },
   "file_extension": ".py",
   "mimetype": "text/x-python",
   "name": "python",
   "nbconvert_exporter": "python",
   "pygments_lexer": "ipython3",
   "version": "3.9.5"
  }
 },
 "nbformat": 4,
 "nbformat_minor": 5
}
