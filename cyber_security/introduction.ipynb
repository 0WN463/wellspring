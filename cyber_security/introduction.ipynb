{
 "cells": [
  {
   "cell_type": "markdown",
   "id": "2a4d622d",
   "metadata": {},
   "source": [
    "# Introduction\n",
    "## Definitions\n",
    "### Assets\n",
    "Any object of value.\n",
    "\n",
    "Can manifest in the form of:\n",
    "* Hardware\n",
    "* Software\n",
    "* Data/Information\n",
    "* Reputation\n",
    "\n",
    "### Security\n",
    "The protection of **assets**\n",
    "\n",
    "### Threat\n",
    "A set of circumstances that can lead to potential harm/loss of assets\n",
    "\n",
    "### Vulnerability\n",
    "A weakness in the system\n",
    "\n",
    "### Control\n",
    "A mechanism to counter threats\n",
    "\n",
    "Can manifest in the form of:\n",
    "* Control\n",
    "* Countermeasures\n",
    "* Security"
   ]
  },
  {
   "cell_type": "markdown",
   "id": "a9d45b4c",
   "metadata": {},
   "source": [
    "## CIA Triad <span id=\"cia-triad\"/>\n",
    "A form of security modeling.\n",
    "Used to identify possible threats/vulnerabilities and countermeasures against them.\n",
    "\n",
    "The CIA refers to **Confidentiality, Integrity and Availability**\n",
    "\n",
    "### Confidentiality\n",
    "Ensures that the asset can only be viewed by authorized parties\n",
    "\n",
    "* A hacker infiltrating the system and viewing a company's trade secret will violate confidentiality.\n",
    "\n",
    "### Integrity\n",
    "Ensures that the asset can only be modified by authorized parties\n",
    "\n",
    "* A hacker infiltrating the system and modifying a company's files will violate integrity.\n",
    "\n",
    "### Availability\n",
    "Ensures that the asset can be used by any authorized parties\n",
    "\n",
    "* A hacker infiltrating the system and deleting a company's files will violate integrity.\n",
    "* A hacker infiltrating the system and removing a company's accounts will violate integrity.\n",
    "* DDoS (Distributed Denial of Service) attacks overwhelms the server and thus making the system unavailable to users.\n",
    "\n",
    "**Note**: Some literatures treat the abbreviation differently.\n",
    "There are sometimes other requirements like:\n",
    "* Authenticity: Ensures that system can verify a user's identity\n",
    "* Accountability: Ensures that changes to the system can be attributed to a user"
   ]
  },
  {
   "cell_type": "markdown",
   "id": "34f022aa",
   "metadata": {},
   "source": [
    "## Difficulties of Security\n",
    "* Security is usually not considered during the early design phase.\n",
    "* Difficult to formulate security requirements\n",
    "* In conflict with design constraints\n",
    "* Difficult to verify security effectiveness\n",
    "* Even if design is secure, improper implementation can still lead to security breaches\n",
    "* A single weak point in security can bring down any secure system\n",
    "* Secure systems are difficult to manage due to human errors"
   ]
  },
  {
   "cell_type": "markdown",
   "id": "fee091f5",
   "metadata": {},
   "source": [
    "## Trade-offs of Security\n",
    "With higher security, there will be trade-offs such as:\n",
    "* Ease-of-use: Security mechanism changes the user interactions with the system.\n",
    "    * Login system requiring users to authenticate before using the system\n",
    "* Performance: Security mechanism consumes some computing resources when implemented\n",
    "    * File integrity checking requires some CPU time to ensure that the files are not modified\n",
    "* Cost: There are inherent cost to developing security mechanisms\n",
    "    * Hiring a cyber-security expert incurs costs"
   ]
  }
 ],
 "metadata": {
  "kernelspec": {
   "display_name": "Python 3 (ipykernel)",
   "language": "python",
   "name": "python3"
  },
  "language_info": {
   "codemirror_mode": {
    "name": "ipython",
    "version": 3
   },
   "file_extension": ".py",
   "mimetype": "text/x-python",
   "name": "python",
   "nbconvert_exporter": "python",
   "pygments_lexer": "ipython3",
   "version": "3.10.2"
  }
 },
 "nbformat": 4,
 "nbformat_minor": 5
}
