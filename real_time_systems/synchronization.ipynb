{
 "cells": [
  {
   "cell_type": "code",
   "execution_count": 1,
   "id": "b84bb86c-ec01-47e5-a332-ac47873871a3",
   "metadata": {},
   "outputs": [],
   "source": [
    "import matplotlib.pyplot as plt\n",
    "import numpy as np"
   ]
  },
  {
   "cell_type": "markdown",
   "id": "09ab68a2",
   "metadata": {},
   "source": [
    "For this chapter, for ease of notation, we will make it synonymous between task, process and thread."
   ]
  },
  {
   "cell_type": "markdown",
   "id": "2dac15c3",
   "metadata": {},
   "source": [
    "Previous for [scheduling](./scheduling.ipynb), we'd assumed that the tasks are independent.\n",
    "However, usually when tasks are being ran together, there is some level of communication and dependency required between them.\n",
    "With parallel/concurrent executions, communication is not straightforward."
   ]
  },
  {
   "cell_type": "markdown",
   "id": "b771d6d5",
   "metadata": {
    "tags": []
   },
   "source": [
    "# Synchronization\n",
    "\n",
    "Hence, to enforce some ordering of the tasks, the tasks have to synchronize their actions,\n",
    "therein lies some issues that we may face."
   ]
  },
  {
   "cell_type": "markdown",
   "id": "9cf517f9",
   "metadata": {
    "tags": []
   },
   "source": [
    "## Race condition\n",
    "\n",
    "**Race condition** occurs when concurrent access to some shared data, which leads to data inconsistency."
   ]
  },
  {
   "cell_type": "code",
   "execution_count": 2,
   "id": "7fbc143d-3350-48b3-bbe8-ea2533489ebb",
   "metadata": {},
   "outputs": [
    {
     "data": {
      "text/plain": [
       "29"
      ]
     },
     "execution_count": 2,
     "metadata": {},
     "output_type": "execute_result"
    }
   ],
   "source": [
    "import threading\n",
    "import time\n",
    "\n",
    "count = 0\n",
    "\n",
    "\n",
    "def inc():\n",
    "    global count\n",
    "    new_count = count + 1\n",
    "\n",
    "    time.sleep(1e-4)  # Simulate some work\n",
    "\n",
    "    count = new_count\n",
    "\n",
    "\n",
    "num_threads = 100\n",
    "threads = [threading.Thread(target=inc) for _ in range(num_threads)]\n",
    "\n",
    "for t in threads:\n",
    "    t.start()\n",
    "\n",
    "for t in threads:\n",
    "    t.join()\n",
    "\n",
    "count"
   ]
  },
  {
   "cell_type": "markdown",
   "id": "d67d9f34",
   "metadata": {},
   "source": [
    "As we can see, we are under-counting, because the value read in the thread is no longer correct once some other thread updates the value.\n",
    "Even if we'd avoid using `sleep` to simulate the work, it is still possible for under-counting to occur if the task is preempted between its reading and writing instructions."
   ]
  },
  {
   "cell_type": "markdown",
   "id": "6bfd6ecf",
   "metadata": {
    "tags": []
   },
   "source": [
    "## Critical section\n"
   ]
  },
  {
   "cell_type": "markdown",
   "id": "c5343276",
   "metadata": {},
   "source": [
    "A **critical section** is a code segment where shared data is accessed, and **at least 1 process modifies the shared data**."
   ]
  },
  {
   "cell_type": "markdown",
   "id": "5318e3c8",
   "metadata": {},
   "source": [
    "Hence, to ensure consistency, we need to enforce that when a process is executing its critical section, no other process is allowed execute that section."
   ]
  },
  {
   "cell_type": "markdown",
   "id": "3bf62ae6",
   "metadata": {},
   "source": [
    "Each process needs to obtain \"permission\" to execute its critical section, and relinquish it once it is ran."
   ]
  },
  {
   "cell_type": "markdown",
   "id": "2771fac3",
   "metadata": {},
   "source": [
    "Hence, to ensure data consistency, we need some mechanism to ensure the orderly execution of processes."
   ]
  },
  {
   "cell_type": "markdown",
   "id": "d4e956e2",
   "metadata": {},
   "source": [
    "## OS support"
   ]
  },
  {
   "cell_type": "markdown",
   "id": "29e659f2",
   "metadata": {},
   "source": [
    "The OS provides the following support for critical sections:\n",
    "* Synchronization hardware\n",
    "* Semaphore"
   ]
  },
  {
   "cell_type": "markdown",
   "id": "60fca478",
   "metadata": {},
   "source": [
    "## Synchronization hardware"
   ]
  },
  {
   "cell_type": "markdown",
   "id": "27b75e5b",
   "metadata": {},
   "source": [
    "Modern hardware provides special **atomic** hardware instructions.\n",
    "These instructions are non-interruptable.\n",
    "We can use these to achieve synchronization.\n",
    "\n",
    "``` c\n",
    "bool getLock(bool *lock) {\n",
    "    // assumes that this function is implemented using atomic operations\n",
    "    bool val = *lock\n",
    "    *lock = true\n",
    "    return val\n",
    "}\n",
    "\n",
    "\n",
    "// Process code (lock is a shared variable)\n",
    "while (1) {\n",
    "    while (getLock(&lock)) {} // wait for lock\n",
    "    \n",
    "    // critical section\n",
    "    \n",
    "    lock = false\n",
    "    \n",
    "    // non-critical section\n",
    "}\n",
    "```"
   ]
  },
  {
   "cell_type": "markdown",
   "id": "9ee72298-0e2c-45fd-bd45-f5fffc7f0565",
   "metadata": {},
   "source": [
    "## Semaphore"
   ]
  },
  {
   "cell_type": "markdown",
   "id": "f3741c94-7388-4443-a872-3bfc81370443",
   "metadata": {},
   "source": [
    "A semaphore is a general inter-process synchronization framework.\n",
    "It is essentially a [queue](../data_structures/linked_list.ipynb#Queue).\n",
    "It has some value $x$, and has 2 atomic operations:\n",
    "* `acquire`: Decrements $x$ if $x> 0$, otherwise blocks the process and add it to the queue\n",
    "    * traditionally called $P(s)$, from the Dutch word for \"try to reduce\": _prolaag_\n",
    "* `release`: Increments $x$ if the queue is empty, otherwise remove a process from the queue and unblocks it\n",
    "    * traditionally called $V(s)$, from the Dutch word for \"release\": _vrijgave_"
   ]
  },
  {
   "cell_type": "markdown",
   "id": "09e47206-cff9-4a2a-a7a4-3ca292878c04",
   "metadata": {},
   "source": [
    "Suppose that we have an application that constantly makes network request via separate processes.\n",
    "However, our system can only handle 5 concurrent requests at the same time.\n",
    "Thus, it makes sense for us to use a semaphore to organize the requests such that only 5 concurrent requests are being made at once.\n",
    "\n",
    "Whenever a request begins, it will check if $x > 0$, which corresponds if there are still capacity for more network requests.\n",
    "If there are still capacity, it reduces $x$ and performs its request.\n",
    "Otherwise, it is blocked and moved into the queue.\n",
    "\n",
    "Once a request completes, it releases the resource.\n",
    "It increments $x$ if there is no blocked processes, otherwise it removes one from the queue and unblocks it, allowing it to use the freed-up resource."
   ]
  },
  {
   "cell_type": "code",
   "execution_count": 3,
   "id": "3adddf9a-2e32-459f-b858-19e12267be12",
   "metadata": {},
   "outputs": [
    {
     "data": {
      "text/plain": [
       "57"
      ]
     },
     "execution_count": 3,
     "metadata": {},
     "output_type": "execute_result"
    }
   ],
   "source": [
    "count = 0\n",
    "semaphore = threading.Semaphore(3)\n",
    "\n",
    "\n",
    "def inc():\n",
    "    global count\n",
    "\n",
    "    semaphore.acquire()\n",
    "    # start of critical section\n",
    "    new_count = count + 1\n",
    "\n",
    "    time.sleep(0.1e-4)  # Simulate some work\n",
    "\n",
    "    count = new_count\n",
    "    # end of critical section\n",
    "\n",
    "    semaphore.release()\n",
    "\n",
    "\n",
    "num_threads = 100\n",
    "threads = [threading.Thread(target=inc) for _ in range(num_threads)]\n",
    "\n",
    "for t in threads:\n",
    "    t.start()\n",
    "\n",
    "for t in threads:\n",
    "    t.join()\n",
    "\n",
    "count"
   ]
  },
  {
   "cell_type": "markdown",
   "id": "0b3a13a6-474d-4df9-b33a-75ded958c18a",
   "metadata": {},
   "source": [
    "When we used a semaphore of size 3, it helped with our under-counting, but it didn't solve it.\n",
    "This is because it is still possible for the 3 processes that are running to encounter race condition."
   ]
  },
  {
   "cell_type": "markdown",
   "id": "c6f69385-3516-4891-beac-e942910da347",
   "metadata": {},
   "source": [
    "We can also use semaphores to enforce some ordering of processes."
   ]
  },
  {
   "cell_type": "markdown",
   "id": "645b52bc-ea51-4c9e-bacf-fb89d69432d5",
   "metadata": {},
   "source": [
    "Suppose that we have require that a certain step of process B be executed only after process A is done."
   ]
  },
  {
   "cell_type": "code",
   "execution_count": 4,
   "id": "c8062048-658e-47fa-b49d-791718cfc163",
   "metadata": {},
   "outputs": [
    {
     "name": "stdout",
     "output_type": "stream",
     "text": [
      "func A starting\n",
      "func B starting\n",
      "func B reached point where it requires process A's completion\n",
      "func B continues\n",
      "func B ended\n",
      "func A ended\n"
     ]
    }
   ],
   "source": [
    "def funcA():\n",
    "    print(\"func A starting\")\n",
    "    time.sleep(3)  # simulate some work\n",
    "    print(\"func A ended\")\n",
    "\n",
    "\n",
    "def funcB():\n",
    "    print(\"func B starting\")\n",
    "    time.sleep(0.5)  # simulate some work\n",
    "\n",
    "    print(\"func B reached point where it requires process A's completion\")\n",
    "    time.sleep(0.5)  # simulate some work\n",
    "    print(\"func B continues\")\n",
    "    time.sleep(0.5)  # simulate some work\n",
    "    print(\"func B ended\")\n",
    "\n",
    "\n",
    "tA = threading.Thread(target=funcA)\n",
    "tB = threading.Thread(target=funcB)\n",
    "tA.start()\n",
    "tB.start()\n",
    "tA.join()\n",
    "tB.join()"
   ]
  },
  {
   "cell_type": "markdown",
   "id": "54c7a8d9-2a2e-4d2d-a160-b09e0ca6b087",
   "metadata": {},
   "source": [
    "Without semaphores, the above would be the output, as process B does not wait for process A.\n",
    "\n",
    "Now with semaphores:"
   ]
  },
  {
   "cell_type": "code",
   "execution_count": 5,
   "id": "226758f8-2d0a-4652-8916-a5a4ee77b965",
   "metadata": {},
   "outputs": [
    {
     "name": "stdout",
     "output_type": "stream",
     "text": [
      "func A starting\n",
      "func B starting\n",
      "func B reached point where it requires process A's completion\n",
      "func A ended\n",
      "func B continues\n",
      "func B ended\n"
     ]
    }
   ],
   "source": [
    "semaphore = threading.Semaphore(0)\n",
    "\n",
    "\n",
    "def funcA():\n",
    "    print(\"func A starting\")\n",
    "    time.sleep(3)  # simulate some work\n",
    "    print(\"func A ended\")\n",
    "    semaphore.release()\n",
    "\n",
    "\n",
    "def funcB():\n",
    "    print(\"func B starting\")\n",
    "    time.sleep(0.5)  # simulate some work\n",
    "\n",
    "    print(\"func B reached point where it requires process A's completion\")\n",
    "    semaphore.acquire()\n",
    "    time.sleep(0.5)  # simulate some work\n",
    "    print(\"func B continues\")\n",
    "    time.sleep(0.5)  # simulate some work\n",
    "    print(\"func B ended\")\n",
    "\n",
    "\n",
    "tA = threading.Thread(target=funcA)\n",
    "tB = threading.Thread(target=funcB)\n",
    "tA.start()\n",
    "tB.start()\n",
    "tA.join()\n",
    "tB.join()"
   ]
  },
  {
   "cell_type": "markdown",
   "id": "718149c9-1936-4bf7-9dbd-bed7cf5c35bb",
   "metadata": {},
   "source": [
    "Initially, $x=0$, hence process B is unable to continue its execution when it reached the section where it needs to acquire the semaphore.\n",
    "Once process A completes, it will release the semaphore for process B, hence acting as a signaling tool between the two processes."
   ]
  },
  {
   "cell_type": "markdown",
   "id": "02107931-addb-48b6-83f3-eef104a31f63",
   "metadata": {},
   "source": [
    "### Binary semaphore"
   ]
  },
  {
   "cell_type": "markdown",
   "id": "20f1fb4b-7dab-4ee8-8d59-e59bd29808f1",
   "metadata": {},
   "source": [
    "A **binary semaphore** is simply a special case of a semaphore which has a capacity of 1."
   ]
  },
  {
   "cell_type": "code",
   "execution_count": 6,
   "id": "bda57047-53e5-4487-89d1-7d4c1565b733",
   "metadata": {},
   "outputs": [
    {
     "data": {
      "text/plain": [
       "100"
      ]
     },
     "execution_count": 6,
     "metadata": {},
     "output_type": "execute_result"
    }
   ],
   "source": [
    "count = 0\n",
    "semaphore = threading.Semaphore(1)\n",
    "\n",
    "\n",
    "def inc():\n",
    "    global count\n",
    "\n",
    "    semaphore.acquire()\n",
    "    # start of critical section\n",
    "    new_count = count + 1\n",
    "\n",
    "    time.sleep(0.1e-4)  # Simulate some work\n",
    "\n",
    "    count = new_count\n",
    "    # end of critical section\n",
    "\n",
    "    semaphore.release()\n",
    "\n",
    "\n",
    "num_threads = 100\n",
    "threads = [threading.Thread(target=inc) for _ in range(num_threads)]\n",
    "\n",
    "for t in threads:\n",
    "    t.start()\n",
    "\n",
    "for t in threads:\n",
    "    t.join()\n",
    "\n",
    "count"
   ]
  },
  {
   "cell_type": "markdown",
   "id": "92104c5c-8fb0-44ff-addb-192756c469f2",
   "metadata": {},
   "source": [
    "By using a binary semaphore, we can ensure that only 1 thread can access the critical section, and hence the data stays consistent, as shown above."
   ]
  },
  {
   "cell_type": "markdown",
   "id": "cdd0dc91-a0be-44a1-9a30-bf8caeb6ca9d",
   "metadata": {},
   "source": [
    "### Mutex"
   ]
  },
  {
   "cell_type": "markdown",
   "id": "bb6e0ec7-9412-45f8-a78d-6d9b92186079",
   "metadata": {},
   "source": [
    "As an aside, a **mutex** (mutual exclusion) is a mechanism that is similar to a binary semaphore.\n",
    "The main difference is that only the process that acquires the lock can release it, while a binary semaphore (strictly speaking) allows for another process to release the semaphore.\n",
    "\n",
    "Hence, traditionally, the slight nuance means that mutexes is used to obtain some shared resource, while a binary semaphore is used to signal to other processes about the status of a process."
   ]
  },
  {
   "cell_type": "code",
   "execution_count": 7,
   "id": "375aa73b-c17a-4c40-bb9c-513969e59662",
   "metadata": {},
   "outputs": [
    {
     "data": {
      "text/plain": [
       "100"
      ]
     },
     "execution_count": 7,
     "metadata": {},
     "output_type": "execute_result"
    }
   ],
   "source": [
    "count = 0\n",
    "mutex = threading.Lock()\n",
    "\n",
    "\n",
    "def inc():\n",
    "    global count\n",
    "\n",
    "    mutex.acquire()\n",
    "\n",
    "    # start of critical section\n",
    "    new_count = count + 1\n",
    "\n",
    "    time.sleep(0.1e-6)  # Simulate some work\n",
    "\n",
    "    count = new_count\n",
    "    # end of critical section\n",
    "\n",
    "    mutex.release()\n",
    "\n",
    "\n",
    "num_threads = 100\n",
    "threads = [threading.Thread(target=inc) for _ in range(num_threads)]\n",
    "\n",
    "for t in threads:\n",
    "    t.start()\n",
    "\n",
    "for t in threads:\n",
    "    t.join()\n",
    "\n",
    "count"
   ]
  },
  {
   "cell_type": "markdown",
   "id": "b16b2d91-f5e9-4903-92bc-d048d1097d2d",
   "metadata": {},
   "source": [
    "In our case, a mutex also serves to prevent race conditions."
   ]
  },
  {
   "cell_type": "markdown",
   "id": "ad312b14-b6d4-4f1b-8f37-fbe9a89165cf",
   "metadata": {},
   "source": [
    "## Issues with synchronization\n"
   ]
  },
  {
   "cell_type": "markdown",
   "id": "a8949fc0-c0ff-4f85-be60-9728dac62687",
   "metadata": {},
   "source": [
    "### Deadlock\n",
    "\n",
    "A **deadlock** occurs when two or more processes are waiting for an event that can be caused by only 1 of the waiting processes."
   ]
  },
  {
   "cell_type": "markdown",
   "id": "cdfc33dc-f27f-4ba8-8b9d-6ee3be1894fd",
   "metadata": {},
   "source": [
    "``` python \n",
    "semaphoreA = threading.Semaphore(1)\n",
    "semaphoreB = threading.Semaphore(1)\n",
    "def funcA():\n",
    "    semaphoreA.acquire()\n",
    "    semaphoreB.acquire()\n",
    "\n",
    "    semaphoreA.release()\n",
    "    semaphoreB.release()\n",
    "    \n",
    "def funcB():\n",
    "    semaphoreB.acquire()\n",
    "    semaphoreA.acquire()\n",
    "\n",
    "    semaphoreA.release()\n",
    "    semaphoreB.release()\n",
    "    \n",
    "```"
   ]
  },
  {
   "cell_type": "markdown",
   "id": "979bac57-a211-4cc1-85c8-550377f3438d",
   "metadata": {},
   "source": [
    "In this case, it is possible for process A to obtain semaphore A while process B obtains semaphore B.\n",
    "Then, both processes will be in a deadlock, as process A will be blocked when trying to obtain semaphore B, and similarly for process B."
   ]
  },
  {
   "cell_type": "markdown",
   "id": "9fc87b72-401d-42d0-b8d1-29488a34784c",
   "metadata": {},
   "source": [
    "This is a rather dense topic, and hence postponed for discussion in the [deadlock chapter](./deadlock.ipynb)."
   ]
  },
  {
   "cell_type": "markdown",
   "id": "2d8076d1-29ce-40bc-b1ab-8b75455f882f",
   "metadata": {},
   "source": [
    "### Priority inversion\n",
    "\n",
    "Suppose that we have a high priority task $H$, a medium priority task $M$ and a low priority task $L$.\n",
    "Consider the case where both $H$ and $L$ requires some shared resource to run.\n",
    "\n",
    "**Priority inversion** is the situation where $H$ is delayed because $L$ is holding the lock, but $M$ is delaying $L$ from completing its task and releasing the lock."
   ]
  },
  {
   "cell_type": "code",
   "execution_count": 8,
   "id": "383fce4a-77d9-4fb5-b2c8-ef6a19d634e1",
   "metadata": {},
   "outputs": [
    {
     "data": {
      "image/png": "[encoded data removed]",
      "text/plain": [
       "<Figure size 432x288 with 1 Axes>"
      ]
     },
     "metadata": {
      "needs_background": "light"
     },
     "output_type": "display_data"
    }
   ],
   "source": [
    "plt.barh(y=2, width=[20, 10], left=[30, 70], label=\"H\", edgecolor=\"black\")\n",
    "plt.barh(y=0, width=[30, 20], left=[0, 50], label=\"L\", edgecolor=\"black\")\n",
    "plt.annotate(\n",
    "    \"H is released\",\n",
    "    xy=(30, 2.5),\n",
    "    xytext=(15, 3),\n",
    "    ha=\"center\",\n",
    "    arrowprops={\"arrowstyle\": \"->\"},\n",
    ")\n",
    "plt.annotate(\n",
    "    \"H cannot acquire lock from L\",\n",
    "    xy=(50, 2.5),\n",
    "    xytext=(60, 3),\n",
    "    ha=\"center\",\n",
    "    arrowprops={\"arrowstyle\": \"->\"},\n",
    ")\n",
    "plt.annotate(\n",
    "    \"L completes and releases lock\",\n",
    "    xy=(70, -0.4),\n",
    "    xytext=(70, -0.9),\n",
    "    ha=\"center\",\n",
    "    arrowprops={\"arrowstyle\": \"->\"},\n",
    ")\n",
    "plt.annotate(\n",
    "    \"H's deadline\",\n",
    "    xy=(100, 0.5),\n",
    "    xytext=(100, 0),\n",
    "    ha=\"center\",\n",
    "    arrowprops={\"arrowstyle\": \"->\"},\n",
    ")\n",
    "plt.yticks([])\n",
    "plt.ylim(-1, 3.4)\n",
    "plt.xlim(0, 130)\n",
    "plt.legend()\n",
    "plt.show()"
   ]
  },
  {
   "cell_type": "markdown",
   "id": "ffe8f67a-17e6-4ac1-80a9-dfff2189025b",
   "metadata": {},
   "source": [
    "In a typical situation, $C$ is able to complete in time, hence allowing $A$ to resume and meet its deadline.\n",
    "Now suppose that $B$ enters the picture."
   ]
  },
  {
   "cell_type": "code",
   "execution_count": 9,
   "id": "08907e72-b54c-4067-af9c-ba88af56713a",
   "metadata": {},
   "outputs": [
    {
     "data": {
      "image/png": "[encoded data removed]",
      "text/plain": [
       "<Figure size 432x288 with 1 Axes>"
      ]
     },
     "metadata": {
      "needs_background": "light"
     },
     "output_type": "display_data"
    }
   ],
   "source": [
    "plt.barh(y=2, width=[20, 10], left=[30, 100], label=\"H\", edgecolor=\"black\")\n",
    "plt.barh(y=1, width=[30], left=[50], label=\"M\", edgecolor=\"black\")\n",
    "plt.barh(y=0, width=[30, 20], left=[0, 80], label=\"L\", edgecolor=\"black\")\n",
    "plt.annotate(\n",
    "    \"H+M released\",\n",
    "    xy=(30, 2.5),\n",
    "    xytext=(15, 3),\n",
    "    ha=\"center\",\n",
    "    arrowprops={\"arrowstyle\": \"->\"},\n",
    ")\n",
    "plt.annotate(\n",
    "    \"H cannot acquire lock from L\",\n",
    "    xy=(50, 2.5),\n",
    "    xytext=(60, 3),\n",
    "    ha=\"center\",\n",
    "    arrowprops={\"arrowstyle\": \"->\"},\n",
    ")\n",
    "plt.annotate(\n",
    "    \"L completes and releases lock\",\n",
    "    xy=(100, -0.4),\n",
    "    xytext=(100, -0.9),\n",
    "    ha=\"center\",\n",
    "    arrowprops={\"arrowstyle\": \"->\"},\n",
    ")\n",
    "plt.annotate(\n",
    "    \"H's deadline\",\n",
    "    xy=(100, 1.5),\n",
    "    xytext=(100, 1),\n",
    "    ha=\"center\",\n",
    "    arrowprops={\"arrowstyle\": \"->\"},\n",
    ")\n",
    "plt.annotate(\n",
    "    \"H misses deadline\",\n",
    "    xy=(110, 2.5),\n",
    "    xytext=(110, 3),\n",
    "    ha=\"center\",\n",
    "    arrowprops={\"arrowstyle\": \"->\"},\n",
    ")\n",
    "plt.yticks([])\n",
    "plt.ylim(-1, 3.4)\n",
    "plt.xlim(0, 130)\n",
    "plt.legend(loc=\"center left\")\n",
    "plt.show()"
   ]
  },
  {
   "cell_type": "markdown",
   "id": "e3ef14bd-8416-4f11-b8d2-b5a688320c56",
   "metadata": {},
   "source": [
    "Now, the task that is started after $H$ sleeps is $M$.\n",
    "And $M$ is delaying the completion of $L$, which effectively delays $H$, causing it to miss its deadline."
   ]
  },
  {
   "cell_type": "markdown",
   "id": "086d2bf7-1db2-49fd-8750-0eda49f2d426",
   "metadata": {},
   "source": [
    "#### Solution\n",
    "\n",
    "The solution is rather simple.\n",
    "We perform **priority inheritance**, where if a high priority task is sleeps due to being unable to acquire a lock, the task that has the lock has its priority **temporarily** raised to that of the high priority task."
   ]
  },
  {
   "cell_type": "code",
   "execution_count": 10,
   "id": "6951f18f-60af-4fd8-8e2e-04aa3e46352b",
   "metadata": {},
   "outputs": [
    {
     "data": {
      "image/png": "[encoded data removed]",
      "text/plain": [
       "<Figure size 432x288 with 1 Axes>"
      ]
     },
     "metadata": {
      "needs_background": "light"
     },
     "output_type": "display_data"
    }
   ],
   "source": [
    "plt.barh(y=2, width=[20, 10], left=[30, 70], label=\"H\", edgecolor=\"black\")\n",
    "plt.barh(y=1, width=30, left=80, label=\"H\", edgecolor=\"black\")\n",
    "plt.barh(y=0, width=[30, 20], left=[0, 50], label=\"L\", edgecolor=\"black\")\n",
    "plt.annotate(\n",
    "    \"H+M released\",\n",
    "    xy=(30, 2.5),\n",
    "    xytext=(15, 3),\n",
    "    ha=\"center\",\n",
    "    arrowprops={\"arrowstyle\": \"->\"},\n",
    ")\n",
    "plt.annotate(\n",
    "    \"H cannot acquire lock from L\",\n",
    "    xy=(50, 2.5),\n",
    "    xytext=(60, 3),\n",
    "    ha=\"center\",\n",
    "    arrowprops={\"arrowstyle\": \"->\"},\n",
    ")\n",
    "plt.annotate(\n",
    "    \"L completes and releases lock\",\n",
    "    xy=(70, -0.4),\n",
    "    xytext=(70, -0.9),\n",
    "    ha=\"center\",\n",
    "    arrowprops={\"arrowstyle\": \"->\"},\n",
    ")\n",
    "plt.annotate(\n",
    "    \"H's deadline\",\n",
    "    xy=(100, 0.5),\n",
    "    xytext=(100, 0),\n",
    "    ha=\"center\",\n",
    "    arrowprops={\"arrowstyle\": \"->\"},\n",
    ")\n",
    "plt.yticks([])\n",
    "plt.ylim(-1, 3.4)\n",
    "plt.xlim(0, 130)\n",
    "plt.legend()\n",
    "plt.show()"
   ]
  },
  {
   "cell_type": "markdown",
   "id": "a4ff9ea4-9ac0-4fa1-af71-d3c23b75c6b7",
   "metadata": {},
   "source": [
    "In this case, $L$ is ran instead of $M$ when $H$ sleeps, because it has higher priority than $M$ due to priority inheritance.\n",
    "This ensures that $H$ meets its deadline."
   ]
  }
 ],
 "metadata": {
  "kernelspec": {
   "display_name": "Python 3 (ipykernel)",
   "language": "python",
   "name": "python3"
  },
  "language_info": {
   "codemirror_mode": {
    "name": "ipython",
    "version": 3
   },
   "file_extension": ".py",
   "mimetype": "text/x-python",
   "name": "python",
   "nbconvert_exporter": "python",
   "pygments_lexer": "ipython3",
   "version": "3.10.4"
  },
  "toc-autonumbering": false,
  "toc-showcode": false,
  "toc-showmarkdowntxt": false,
  "toc-showtags": false
 },
 "nbformat": 4,
 "nbformat_minor": 5
}
