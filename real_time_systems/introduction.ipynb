{
 "cells": [
  {
   "cell_type": "markdown",
   "id": "e1b00e99",
   "metadata": {},
   "source": [
    "# Real time operating system\n",
    "\n",
    "In a computer system, there are a few core components:\n",
    "* Hardware: provides basic computing resources\n",
    "    * _eg_ CPU, RAM, I/O devices\n",
    "* Operation system (OS): controls and coordinates use of hardware between many application programs for different users.\n",
    "* Application programs: defines the ways which system resource is being used to perform functions for the user\n",
    "    * _eg_ solving a problem, rendering some visuals, playing a sound\n",
    "* Users: some entity that sends commands to the system\n",
    "    * _eg_ people, machines, other computers, sensors\n",
    "\n",
    "What we are interested in is the OS.\n",
    "\n",
    "## Operating system\n",
    "\n",
    "Resource allocator: manages and allocate resources\n",
    "\n",
    "Control programs: Control the execution of user programs and operations of IO devices\n",
    "\n",
    "The **kernel** is the program which is always running, while all other programs are application programs.\n",
    "    \n",
    "Real time: computer must responds as rapidly as required by the user or determined by the process being controlled.\n",
    "\n",
    "We would want these in systems such as an airplane's landing systems or autonomous cars braking system."
   ]
  },
  {
   "cell_type": "markdown",
   "id": "26e3cc08",
   "metadata": {},
   "source": [
    "An RTOS have the following design considerations:\n",
    "* Application are time critical and must be performed by a certain **deadline**\n",
    "* Strong emphasis on reliability\n",
    "* Usually used in conjunction with sensors and actuators\n",
    "\n",
    "Examples includes:\n",
    "* RT Linux\n",
    "* FreeRTOS"
   ]
  },
  {
   "cell_type": "markdown",
   "id": "8f595a69",
   "metadata": {},
   "source": [
    "Response time: The time between providing a system with inputs and the production of output"
   ]
  },
  {
   "cell_type": "markdown",
   "id": "fc825c93",
   "metadata": {},
   "source": [
    "RTOS should be able to handle both periodic and aperiodic events in a timely manner."
   ]
  },
  {
   "cell_type": "markdown",
   "id": "6b242c80",
   "metadata": {},
   "source": [
    "Other considerations:\n",
    "* Timeliness\n",
    "* Predictability\n",
    "* Performance under peak load\n",
    "* Fault tolerance\n",
    "* Maintainability\n"
   ]
  },
  {
   "cell_type": "markdown",
   "id": "9a0a0c43",
   "metadata": {},
   "source": [
    "Types of RTOS:\n",
    "* Hard/Soft/Firm\n",
    "* Single-tasking, multitasking, multi-processing"
   ]
  },
  {
   "cell_type": "markdown",
   "id": "9fe85a2a",
   "metadata": {},
   "source": [
    "* Hard: Failure to meet any deadline may lead to catastrophuc system failure\n",
    "* Soft: Failure to meet deadline may degrade performance, but not destroy the system\n",
    "* Firm: Missing a few deadlines may not lead to complete failure, but missing too many will"
   ]
  },
  {
   "cell_type": "markdown",
   "id": "bde25a45",
   "metadata": {},
   "source": [
    "* Single task: Runs one tasks at a time. Simple memory layout\n",
    "* Multitask: Several task are kept in memory at the same time, and CPU is shared among them.\n",
    "* Multi-processing: Tasks are run in parallel on different processors."
   ]
  }
 ],
 "metadata": {
  "kernelspec": {
   "display_name": "Python 3 (ipykernel)",
   "language": "python",
   "name": "python3"
  },
  "language_info": {
   "codemirror_mode": {
    "name": "ipython",
    "version": 3
   },
   "file_extension": ".py",
   "mimetype": "text/x-python",
   "name": "python",
   "nbconvert_exporter": "python",
   "pygments_lexer": "ipython3",
   "version": "3.10.4"
  }
 },
 "nbformat": 4,
 "nbformat_minor": 5
}
