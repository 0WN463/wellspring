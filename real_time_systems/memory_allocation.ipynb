{
 "cells": [
  {
   "cell_type": "code",
   "execution_count": 1,
   "id": "992503ef-5b56-4ddd-a41b-a3109e830a0f",
   "metadata": {},
   "outputs": [],
   "source": [
    "import matplotlib.pyplot as plt\n",
    "import numpy as np"
   ]
  },
  {
   "cell_type": "markdown",
   "id": "ed864348-c1fd-4ae5-9de7-16c2fa95be3a",
   "metadata": {},
   "source": [
    "# Memory allocation"
   ]
  },
  {
   "cell_type": "markdown",
   "id": "ed89e3e9-728c-414a-9ca0-c2a05d7ed84d",
   "metadata": {},
   "source": [
    "(Note that most of this chapter uses C syntax, and are largely applicable to C and C-like paradigms.\n",
    "More modern languages do not allow for manual allocation of memory, but the principle still holds behind the scenes)"
   ]
  },
  {
   "cell_type": "markdown",
   "id": "faf2b4dc-0f9c-4077-a29c-cb9ddf2960c0",
   "metadata": {},
   "source": [
    "Memory is requested and allocated in contiguous blocks.\n",
    "This is done using two functions:\n",
    "* `malloc`:\n",
    "    * finds a region of free memory, reserves it, and returns the address to it\n",
    "* `free`:\n",
    "    * sets a region of memory to be free\n",
    "    \n",
    "<span id=\"contiguous-memory\"> Memory should be contiguous as it is much more convenient for processes to manage, compared to having account for \"jumps\" in the memory addresses. </span>"
   ]
  },
  {
   "cell_type": "markdown",
   "id": "7159f12b-a837-4188-9ae6-c8040ea04281",
   "metadata": {},
   "source": [
    "## Allocation size\n",
    "\n",
    "Memory can be allocated using:\n",
    "* Variable allocation size\n",
    "    * allocates memory equals to the amount requested\n",
    "* Fixed allocation size\n",
    "    * allocates in fixed allocation units"
   ]
  },
  {
   "cell_type": "markdown",
   "id": "bd20539c-5792-4902-913a-e6dc3defdaa7",
   "metadata": {},
   "source": [
    "## Fragmentation\n",
    "\n",
    "As processes request and free memory, our memory segments becomes more **fragmented**.\n",
    "This means some segments of memory becomes unusable."
   ]
  },
  {
   "cell_type": "markdown",
   "id": "2254d2f8-1719-4672-b691-858606efb8cb",
   "metadata": {},
   "source": [
    "### Internal fragmentation\n",
    "\n",
    "* Memory is allocated but unused.\n",
    "* Occurs under fixed allocation sizes\n",
    "    * we allocated more memory than the process requested, hence leading to unused memory."
   ]
  },
  {
   "cell_type": "markdown",
   "id": "b9a0a6c7-4400-47d1-bb5a-370e8d750747",
   "metadata": {},
   "source": [
    "For example, a program requested for 1.8MB of memory, but because we allocate in blocks of 1MB, we gave the process 2MB instead, leading to 0.2MB of unused memory."
   ]
  },
  {
   "cell_type": "markdown",
   "id": "141dcb22-b520-4803-a778-720e70cf20d8",
   "metadata": {},
   "source": [
    "Consider the following sequence of memory request:\n",
    "\n",
    "```\n",
    "char* mem1 = malloc(40)\n",
    "char* mem2 = malloc(10)\n",
    "char* mem3 = malloc(10)\n",
    "```\n",
    "\n",
    "Suppose that we have 200B of memory, and we allocate in chunks of 100B.\n",
    "Our memory would look like below:"
   ]
  },
  {
   "cell_type": "code",
   "execution_count": 2,
   "id": "22a8fd5c-1772-4cd6-8812-9ac41b5b013f",
   "metadata": {},
   "outputs": [
    {
     "data": {
      "image/png": "[encoded data removed]",
      "text/plain": [
       "<Figure size 432x288 with 1 Axes>"
      ]
     },
     "metadata": {
      "needs_background": "light"
     },
     "output_type": "display_data"
    }
   ],
   "source": [
    "plt.barh(y=1, width=[40, 10], left=[0, 100], label=\"allocated\", edgecolor=\"black\")\n",
    "plt.barh(y=1, width=[60, 90], left=[40, 110], label=\"unused\", edgecolor=\"black\")\n",
    "plt.annotate(\"40\", xy=(20, 1), ha=\"center\", va=\"center\")\n",
    "plt.annotate(\"10\", xy=(105, 1), ha=\"center\", va=\"center\")\n",
    "plt.ylim(0, 2)\n",
    "plt.xlim(0, 200)\n",
    "plt.yticks([])\n",
    "plt.legend(loc=\"upper left\")\n",
    "plt.show()"
   ]
  },
  {
   "cell_type": "markdown",
   "id": "776e41a2-a561-481b-9060-cc2c37781dbc",
   "metadata": {},
   "source": [
    "The last `malloc` will fail since we cannot allocate the requested memory.\n",
    "Due to internal fragmentation, despite there being 150B worth of unused memory, we are unable to satisfy the request."
   ]
  },
  {
   "cell_type": "markdown",
   "id": "a7759c39-4610-4afa-ad65-7570b3c232e8",
   "metadata": {},
   "source": [
    "### External fragmentation\n",
    "\n",
    "* Memory is unallocated and unused.\n",
    "* More prominent in variable allocation sizes\n",
    "* Occurs when processes frees allocated memory, leading to non-contiguous chunks of unused memory\n"
   ]
  },
  {
   "cell_type": "markdown",
   "id": "8cffdc90-6f78-4a58-ac19-1ce960bfeee7",
   "metadata": {},
   "source": [
    "Consider the following sequence of memory request:\n",
    "\n",
    "```\n",
    "char* mem1 = malloc(40)\n",
    "char* mem2 = malloc(30)\n",
    "char* mem3 = malloc(100)\n",
    "free(mem2)\n",
    "char* mem4 = malloc(40)\n",
    "```\n",
    "\n",
    "Suppose that we have 200B of memory.\n",
    "Our memory would look like below."
   ]
  },
  {
   "cell_type": "code",
   "execution_count": 3,
   "id": "e65df502-4623-4a2b-94f3-dee2d1b61304",
   "metadata": {},
   "outputs": [
    {
     "data": {
      "image/png": "[encoded data removed]",
      "text/plain": [
       "<Figure size 432x288 with 1 Axes>"
      ]
     },
     "metadata": {
      "needs_background": "light"
     },
     "output_type": "display_data"
    }
   ],
   "source": [
    "plt.barh(y=1, width=[40, 100], left=[0, 70], label=\"allocated\", edgecolor=\"black\")\n",
    "plt.barh(y=1, width=[30, 30], left=[40, 170], label=\"unused\", edgecolor=\"black\")\n",
    "plt.annotate(\"40\", xy=(20, 1), ha=\"center\", va=\"center\")\n",
    "plt.annotate(\"30\", xy=(55, 1), ha=\"center\", va=\"center\")\n",
    "plt.annotate(\"100\", xy=(120, 1), ha=\"center\", va=\"center\")\n",
    "plt.annotate(\"30\", xy=(185, 1), ha=\"center\", va=\"center\")\n",
    "plt.ylim(0, 2)\n",
    "plt.xlim(0, 200)\n",
    "plt.yticks([])\n",
    "plt.legend(loc=\"upper left\")\n",
    "plt.show()"
   ]
  },
  {
   "cell_type": "markdown",
   "id": "be62c373-46a6-4cac-9b55-ec2653c5a286",
   "metadata": {},
   "source": [
    "And the last allocation will fail once again, because we are unable to obtain a contiguous block of 40B."
   ]
  },
  {
   "cell_type": "markdown",
   "id": "db7e6767-bdf0-460a-8ec1-d3251d9b747a",
   "metadata": {},
   "source": [
    "## Memory management\n",
    "\n",
    "For our system to know how much memory we have, and the addresses of the free memory, we need some system to track it.\n",
    "There are a few paradigms for us to choose from.\n",
    "\n",
    "Terminology:\n",
    "* **hole**: a block of free memory\n",
    "* **chunk**: a block of allocated memory"
   ]
  },
  {
   "cell_type": "markdown",
   "id": "cd49c7af-2662-49f7-a51b-f7495bc2b5f4",
   "metadata": {},
   "source": [
    "### Variable allocation size"
   ]
  },
  {
   "cell_type": "markdown",
   "id": "fcea114c-7df2-4ce1-b6cc-5a6de8f027ce",
   "metadata": {},
   "source": [
    "#### Free list \n",
    "\n",
    "Addresses of free memory is kept in a [doubly-linked list](../data_structures/linked_list.ipynb#Doubly-linked-list).\n",
    "Initially, the list is empty.\n",
    "Once `free` is called, the link list will contain nodes which have the start and end addresses of each hole."
   ]
  },
  {
   "cell_type": "code",
   "execution_count": 4,
   "id": "1a5557c8-b09f-42c6-9d99-d96d61b1c81f",
   "metadata": {},
   "outputs": [
    {
     "data": {
      "image/png": "[encoded data removed]",
      "text/plain": [
       "<Figure size 432x288 with 1 Axes>"
      ]
     },
     "metadata": {
      "needs_background": "light"
     },
     "output_type": "display_data"
    }
   ],
   "source": [
    "plt.barh(y=1, width=[40, 100], left=[0, 70], label=\"allocated\", edgecolor=\"black\")\n",
    "plt.barh(y=1, width=[30, 30], left=[40, 170], label=\"unused\", edgecolor=\"black\")\n",
    "plt.annotate(\"40\", xy=(20, 1), ha=\"center\", va=\"center\")\n",
    "plt.annotate(\"30\", xy=(55, 1), ha=\"center\", va=\"center\")\n",
    "plt.annotate(\"100\", xy=(120, 1), ha=\"center\", va=\"center\")\n",
    "plt.annotate(\"30\", xy=(185, 1), ha=\"center\", va=\"center\")\n",
    "plt.ylim(0, 2)\n",
    "plt.xlim(0, 200)\n",
    "plt.yticks([])\n",
    "plt.legend(loc=\"upper left\")\n",
    "plt.show()"
   ]
  },
  {
   "cell_type": "markdown",
   "id": "b53b3f4b-07b0-4974-9ef9-67fae2dd2a25",
   "metadata": {},
   "source": [
    "Reusing the previous example, the linked list would be:\n",
    "```\n",
    "{start:40, end:70} -> {start:170, end:200}\n",
    "```"
   ]
  },
  {
   "cell_type": "markdown",
   "id": "d39ab4dc-194d-4dce-91be-71d1257ee195",
   "metadata": {},
   "source": [
    "Since we are using linked list, it makes sense that we want to have as few holes as possible, so as it reduce the overhead from list traversal.\n",
    "Also, fewer but bigger holes allows more freedom in memory allocation as we can satisfy larger `malloc`."
   ]
  },
  {
   "cell_type": "markdown",
   "id": "339b249a-2966-4de9-b1c7-ee3cc1024f57",
   "metadata": {},
   "source": [
    "When memory is freed, we check if the freed memory can be combined with a previous hole to create a larger one."
   ]
  },
  {
   "cell_type": "markdown",
   "id": "a0cead75-5465-4611-b2df-cba98f15a53e",
   "metadata": {},
   "source": [
    "For example, if `free(mem3)` is called, our resultant linked list would be:"
   ]
  },
  {
   "cell_type": "markdown",
   "id": "0bb5cf4e-a456-4717-9f72-315ad9c47160",
   "metadata": {},
   "source": [
    "Reusing the previous example, the linked list would be:\n",
    "```\n",
    "{start:40, end:200} \n",
    "```\n",
    "instead of \n",
    "```\n",
    "{start:40, end:70} -> {start:70, end:170} -> {start:170, end:200}\n",
    "```"
   ]
  },
  {
   "cell_type": "markdown",
   "id": "f84270b0-547b-488f-8fe8-075527937cef",
   "metadata": {},
   "source": [
    "##### Allocation algorithm\n",
    "\n",
    "Different allocation algorithm can lead to different performance."
   ]
  },
  {
   "cell_type": "markdown",
   "id": "5f5b4fe4-9540-4b11-bbf4-73b1b7313613",
   "metadata": {},
   "source": [
    "###### Best fit\n",
    "\n",
    "Pick the smallest hole that satisfy the request.\n",
    "\n",
    "* Slower, as it has to search the entire list every time\n",
    "* Tend to lead to smaller holes, thus more external fragmentation"
   ]
  },
  {
   "cell_type": "markdown",
   "id": "0f7fcb6b-034a-4726-b548-643c2d77d812",
   "metadata": {},
   "source": [
    "###### First fit\n",
    "\n",
    "Pick the first hole that satisfy the request.\n",
    "\n",
    "* Much faster than best fit\n",
    "* Same fragmentation issue as best fit"
   ]
  },
  {
   "cell_type": "markdown",
   "id": "d5bb121b-3115-444b-ab1f-ff0713931abd",
   "metadata": {
    "tags": []
   },
   "source": [
    "###### Next fit\n",
    "\n",
    "Pick the first hole that satisfy the request, but start from where the previous search ended.\n",
    "\n",
    "* In practice, faster than first fit\n",
    "* Same fragmentation issue as best fit"
   ]
  },
  {
   "cell_type": "markdown",
   "id": "942006dc-6a4c-4726-866a-d47f9e51a487",
   "metadata": {},
   "source": [
    "##### Compaction"
   ]
  },
  {
   "cell_type": "markdown",
   "id": "9950ce56-bf49-4fad-a890-dfa3dabe7fc7",
   "metadata": {},
   "source": [
    "To combat external fragmentation, we perform **compaction**.\n",
    "We simply move all the memory address to one end, leading to one big hole.\n",
    "\n",
    "However, there is huge overhead in performing this process, and having to find and change all pointer addresses is rather difficult."
   ]
  },
  {
   "cell_type": "markdown",
   "id": "a99649ec-39c6-4a02-a32e-97b73382ac5b",
   "metadata": {},
   "source": [
    "## Fixed size allocation"
   ]
  },
  {
   "cell_type": "markdown",
   "id": "b0059f5c-4a23-47a3-a190-5fba59042433",
   "metadata": {},
   "source": [
    "### Multiple free list"
   ]
  },
  {
   "cell_type": "markdown",
   "id": "5767f226-02c4-4785-b8fa-85fea05a1cfd",
   "metadata": {},
   "source": [
    "We use multiple free list to store our holes.\n",
    "Each free list contains holes of size $2^k$ for $k \\geq 0$."
   ]
  },
  {
   "cell_type": "markdown",
   "id": "b394f2a5-7a1c-4790-80f3-3728d7cf4dbf",
   "metadata": {},
   "source": [
    "Our initial memory size is $2^N$, and this is our initial large hole."
   ]
  },
  {
   "cell_type": "markdown",
   "id": "c83f77ff-72c9-4c9b-8d82-13109de66d5e",
   "metadata": {},
   "source": [
    "Once memory is requested, we find the largest hole that can satisfy the request.\n",
    "If the hole is too big (at least twice the size of the request), then we split the hole into halves until it is an appropriate size.\n",
    "After each division, the holes are added to the free list respective to their size.\n",
    "\n",
    "**Once a hole is created, it cannot be merged.** \n",
    "\n",
    "(This is to maintain proper memory boundary, where we expect memory of size $2^k$ to start at $n2^k$ and end at $(n +1) 2^k$.\n",
    "Merging may violate this constraint)"
   ]
  },
  {
   "cell_type": "markdown",
   "id": "dd00f26d-d863-4dba-8bbf-3fc1af48bb8a",
   "metadata": {},
   "source": [
    "For example, if we start with memory of size 1MB.\n",
    "Then we request for 200kB of memory.\n",
    "The result is the following free lists.\n",
    "\n",
    "```\n",
    "512K: {start:0, end:512}\n",
    "256K: {start:512, end:768}\n",
    "```\n",
    "\n",
    "And the memory is allocated at `769-1024`."
   ]
  },
  {
   "cell_type": "markdown",
   "id": "a8d8678a-681d-4241-aad4-a431ca502e78",
   "metadata": {},
   "source": [
    "#### Buddy system"
   ]
  },
  {
   "cell_type": "markdown",
   "id": "030d4426-8cdd-48f1-a846-eaab4219832a",
   "metadata": {},
   "source": [
    "Not being able to merge holes can be rather detrimental as we may break down the memory into too many small holes and we are unable to allocate large chunks of memory."
   ]
  },
  {
   "cell_type": "markdown",
   "id": "f61fd39a-def2-4d56-bf3b-7f71eaf8506f",
   "metadata": {},
   "source": [
    "To avoid this, we introduce a **buddy system**, so that we can merge holes while retaining proper memory boundaries."
   ]
  },
  {
   "cell_type": "markdown",
   "id": "eab68d2d-89e4-4c13-9f53-54d86ee2ec3a",
   "metadata": {},
   "source": [
    "In this system, whenever we break a hole into two, we pair them up as buddies.\n",
    "Once a pair of buddies are freed, we can combine them into a large hole."
   ]
  },
  {
   "cell_type": "markdown",
   "id": "ad825319-be4f-4b5f-84d8-2fa0ae707dbd",
   "metadata": {},
   "source": [
    "## Cautions"
   ]
  },
  {
   "cell_type": "markdown",
   "id": "39fb3e0e-a047-4f3f-98f9-69aaca1bcf11",
   "metadata": {},
   "source": [
    "### Avoid leaking memory\n"
   ]
  },
  {
   "cell_type": "markdown",
   "id": "1bc5f2e1-3bd8-4b25-900c-747620f26b9e",
   "metadata": {},
   "source": [
    "If we request for memory, but lost the pointer to the address, the memory becomes allocated and unable to be used.\n",
    "Repeated request will consume memory capacity.\n",
    "This is called a **memory leak**."
   ]
  },
  {
   "cell_type": "markdown",
   "id": "7525f975-502c-4ce9-8b93-dc4fb7961e45",
   "metadata": {},
   "source": [
    "An example would be the below:\n",
    "\n",
    "``` c \n",
    "void f() {\n",
    "    char *p;\n",
    "    p = (char *) malloc(8 * sizeof(char))\n",
    "    return\n",
    "}\n",
    "\n",
    "int main() {\n",
    "    f();\n",
    "}\n",
    "```"
   ]
  },
  {
   "cell_type": "markdown",
   "id": "ef01669c-0d73-436f-be1b-6eb1798364e2",
   "metadata": {},
   "source": [
    "The program calls `malloc`, but doesn't free the memory.\n",
    "After the function exits, the pointer to the allocated memory is lost, prevent us from freeing it subsequently.\n",
    "Hence, this is a memory leak."
   ]
  },
  {
   "cell_type": "markdown",
   "id": "5863b0eb-da2c-438d-9441-f1f1d8b6f1a6",
   "metadata": {},
   "source": [
    "### Avoid dangling pointers"
   ]
  },
  {
   "cell_type": "markdown",
   "id": "56a65986-2249-4c8c-9047-bff485868456",
   "metadata": {},
   "source": [
    "**Dangling pointers** are pointers that points to freed memory."
   ]
  },
  {
   "cell_type": "markdown",
   "id": "dde80dc4-6140-4a37-bc08-c711c142ed85",
   "metadata": {},
   "source": [
    "An example would be the below:\n",
    "\n",
    "``` c \n",
    "char* f() {\n",
    "    char *p;\n",
    "    p = (char *) malloc(8 * sizeof(char))\n",
    "    free(p)\n",
    "    return p\n",
    "}\n",
    "\n",
    "int main() {\n",
    "    char* p = f();\n",
    "}\n",
    "```"
   ]
  },
  {
   "cell_type": "markdown",
   "id": "47b17f87-f2c3-4f98-97be-8eee1e42a799",
   "metadata": {},
   "source": [
    "Here, we allocated and freed `p`.\n",
    "But we returned `p` out of the function.\n",
    "This means `main` still can manipulate `p` even though the ownership of that memory chunk is relinquished.\n",
    "Thus, `main` may access unexpected data, or modify the memory of another function."
   ]
  },
  {
   "cell_type": "markdown",
   "id": "92b4180c-a3db-482d-9aab-0c2e21399c94",
   "metadata": {},
   "source": [
    "Note that this can also happen rather subtly, as per below:\n",
    "\n",
    "``` c \n",
    "char* f() {\n",
    "    char p[8];\n",
    "    return p\n",
    "}\n",
    "\n",
    "int main() {\n",
    "    char* p = f();\n",
    "}\n",
    "```"
   ]
  }
 ],
 "metadata": {
  "kernelspec": {
   "display_name": "Python 3 (ipykernel)",
   "language": "python",
   "name": "python3"
  },
  "language_info": {
   "codemirror_mode": {
    "name": "ipython",
    "version": 3
   },
   "file_extension": ".py",
   "mimetype": "text/x-python",
   "name": "python",
   "nbconvert_exporter": "python",
   "pygments_lexer": "ipython3",
   "version": "3.10.4"
  },
  "toc-autonumbering": false,
  "toc-showcode": false,
  "toc-showtags": false
 },
 "nbformat": 4,
 "nbformat_minor": 5
}
