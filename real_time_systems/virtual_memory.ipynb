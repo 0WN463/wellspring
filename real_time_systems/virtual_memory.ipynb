{
 "cells": [
  {
   "cell_type": "markdown",
   "id": "ff4ad302-216a-4ec0-b753-fc4a1bfd86b1",
   "metadata": {},
   "source": [
    "# Virtual memory\n",
    "\n",
    "Process should provide each program with the following abstractions:\n",
    "* Independent control flow\n",
    "    * Each process should think that it has exclusive use of the CPU\n",
    "* Private virtual address space\n",
    "    * Each process should think that it has exclusive use of main memory"
   ]
  },
  {
   "cell_type": "markdown",
   "id": "f77fc8b4-e2e1-4133-b8e2-bdca5d859b1a",
   "metadata": {},
   "source": [
    "Note that the processes has to think that it is that way, but it could be false in actuality.\n",
    "This is achieved using a **virtual memory system**."
   ]
  },
  {
   "cell_type": "markdown",
   "id": "09839031-302a-493a-a238-8db9f0084fff",
   "metadata": {},
   "source": [
    "## Goals of virtual memory"
   ]
  },
  {
   "cell_type": "markdown",
   "id": "382ef170-a239-474c-8185-1c2aceb76e02",
   "metadata": {},
   "source": [
    "### Fit large memory into small physical memory"
   ]
  },
  {
   "cell_type": "markdown",
   "id": "51ca9616-64a4-457e-b059-154835b73caa",
   "metadata": {},
   "source": [
    "Consider a 32-bit system.\n",
    "There is $2^{32} \\approx 4GB$ worth of addresses.\n",
    "Now, consider the physical memory.\n",
    "For modern physical memory, this is rather possible to fit that amount of addresses into the main memory.\n",
    "\n",
    "Now consider a 64-bit system instead.\n",
    "The amount of address is $2^{64} \\approx 16EB$ (exabytes).\n",
    "This is impossible to fit inside the physical main memory."
   ]
  },
  {
   "cell_type": "markdown",
   "id": "49db6231-bad3-42cf-a229-77d5bbf799ac",
   "metadata": {},
   "source": [
    "### Manage memory space of multiple processes"
   ]
  },
  {
   "cell_type": "markdown",
   "id": "852a6e41-8bdb-41de-9f09-a47cd58c5fef",
   "metadata": {},
   "source": [
    "Virtual memory decides where the process memory (stack, heap, data) gets allocated on the main memory."
   ]
  },
  {
   "cell_type": "markdown",
   "id": "db586f0e-dae3-40fb-ad1c-59fc256e03e6",
   "metadata": {},
   "source": [
    "### Protect processes from accessing another's memory"
   ]
  },
  {
   "cell_type": "markdown",
   "id": "9142ed09-d911-425a-9efe-87ddb48d6144",
   "metadata": {},
   "source": [
    "By ensuring that a process's memory is not mapped to the same location of another process in the physical memory, we can enforce that no illegal memory access happens."
   ]
  },
  {
   "cell_type": "markdown",
   "id": "a361b77e-9783-48ae-a21f-2a1cb02a2725",
   "metadata": {},
   "source": [
    "### Allow processes to access another's memory"
   ]
  },
  {
   "cell_type": "markdown",
   "id": "2cf6a24e-e33b-40a5-91e0-1e3e3032bbe8",
   "metadata": {},
   "source": [
    "Similarly, if multiple processes need to share some memory, then we map these virtual addresses to the same location in the physical memory."
   ]
  },
  {
   "cell_type": "markdown",
   "id": "49c703f6-4a80-4cea-88e6-9c813151bdb4",
   "metadata": {},
   "source": [
    "By performing the above, the processes has no idea that the physical memory is being shared across multiple processes, hence forming a layer of abstraction."
   ]
  },
  {
   "cell_type": "markdown",
   "id": "963be74a-15f9-42ed-a0ae-32f187e52493",
   "metadata": {},
   "source": [
    "## Implementation\n",
    "\n",
    "Virtual memory is simply a mapping from virtual addresses (of the process) to physical addresses (of the main memory)."
   ]
  },
  {
   "cell_type": "markdown",
   "id": "db0695f2-155a-4812-8909-556768b17b81",
   "metadata": {},
   "source": [
    "The virtual memory (and physical memory) is partitioned into smaller blocks called **pages**, where a page of size $p$ occupies $2^p$ bytes."
   ]
  },
  {
   "cell_type": "markdown",
   "id": "01acc08f-b49a-4282-8b84-d147d882357f",
   "metadata": {},
   "source": [
    "Some pages on the virtual memory is cached in the physical main memory (DRAM) for faster access."
   ]
  },
  {
   "cell_type": "markdown",
   "id": "7d599c50-67f6-4431-b5fc-17de0735ccfb",
   "metadata": {},
   "source": [
    "### Status of page\n",
    "\n",
    "A virtual memory page can be in either of these states:\n",
    "* Unallocated: Page is not being used by process\n",
    "* Uncached: Page is being used by process, but not cached in DRAM\n",
    "    * This means it is mapped to the disk\n",
    "* Cached: Page is being used by processes and is cached in DRAM"
   ]
  },
  {
   "cell_type": "markdown",
   "id": "c6975b9d-386f-422f-8672-816018b181f5",
   "metadata": {},
   "source": [
    "Note that disk access is much slower than DRAM, thus we would like to avoid it as much as possible, hence the caching."
   ]
  },
  {
   "cell_type": "markdown",
   "id": "2ce0a18c-3d89-4491-ab22-a93af191b134",
   "metadata": {},
   "source": [
    "### Page table"
   ]
  },
  {
   "cell_type": "markdown",
   "id": "350b89ec-84f4-479b-98b5-d82bfb84e85b",
   "metadata": {},
   "source": [
    "Each process has its own **page table**, which is stored in the DRAM.\n",
    "Since we are working with pages, we need a way of mapping virtual pages to physical pages.\n",
    "Each entry in the page table contains:\n",
    "* a bit which indicates whether the page is cached in DRAM\n",
    "* the physical page number, if it is cached in DRAM"
   ]
  },
  {
   "cell_type": "markdown",
   "id": "7727bc4e-6a5f-4ed5-9b68-4909695ea4e6",
   "metadata": {},
   "source": [
    "For example:\n",
    "\n",
    "| Virtual page number | Valid bit | Physical page number |\n",
    "| --- | --- | --- |\n",
    "| 0 | 1 | 0x10 |\n",
    "| 1 | 0 | disk |\n",
    "| 2 | 1 | 0x13 |\n",
    "| ... | ... | ... | \n",
    "| 256 | 1 | 0x42 |"
   ]
  },
  {
   "cell_type": "markdown",
   "id": "0c8b2c4f-9fe8-43b2-9d3c-816006ec5afc",
   "metadata": {},
   "source": [
    "Hence, consider the following 14-bit virtual memory address:\n"
   ]
  },
  {
   "cell_type": "markdown",
   "id": "0153702f-8206-4802-9ac6-d05decc82e73",
   "metadata": {},
   "source": [
    "```\n",
    "0b00000010010110 \n",
    "```"
   ]
  },
  {
   "cell_type": "markdown",
   "id": "4daf25f8-7c64-49f7-b5c3-161c703d614f",
   "metadata": {},
   "source": [
    "Suppose that our page size is 64 bytes.\n",
    "That means there are $2^{14}B/64B = 256$ virtual pages, and the last $\\log_2{64} = 6$ bits in the virtual address is used to determine the **page offset**, which is the address within a page.\n",
    "\n",
    "This also means that our virtual page number requires $14 - 6 = 8$ bits.\n",
    "\n",
    "Thus, we can view our address as :"
   ]
  },
  {
   "cell_type": "markdown",
   "id": "ea1c70ff-1bd7-4a73-95a4-39a9884aa41a",
   "metadata": {},
   "source": [
    "| Virtual page number | page offset |\n",
    "| :---: | :---: |\n",
    "| `00000010`            |      `010110` |"
   ]
  },
  {
   "cell_type": "markdown",
   "id": "c0388fd5-3ddb-4e7b-a110-5625cf5644f9",
   "metadata": {},
   "source": [
    "Suppose that our physical memory is 12-bit."
   ]
  },
  {
   "cell_type": "markdown",
   "id": "bbec89fe-a9f1-48ef-9602-2901d4e1014c",
   "metadata": {},
   "source": [
    "Then we need to find our physical page number (which has $12 - 6 = 6$ bits).\n",
    "Since the virtual page number is `0b00000010 = 2`, the corresponding physical page number is `0x13`.\n",
    "Converting this to 6-bit, we get the following address:"
   ]
  },
  {
   "cell_type": "markdown",
   "id": "c9b5c1e4-7e6b-4b2b-901b-024b3fb2c467",
   "metadata": {},
   "source": [
    "| Physical page number | page offset |\n",
    "| :---: | :---: |\n",
    "| `001101`            |      `010110` |"
   ]
  },
  {
   "cell_type": "markdown",
   "id": "e44e1d15-f374-48a7-bde6-d491f59f25e6",
   "metadata": {},
   "source": [
    "Note that the page offset is unchanged."
   ]
  },
  {
   "cell_type": "markdown",
   "id": "09ff3ed5-b10d-4e24-a778-ca286965aefb",
   "metadata": {},
   "source": [
    "### Page hit"
   ]
  },
  {
   "cell_type": "markdown",
   "id": "bbfb9c51-4465-4bc1-baba-81651813bdc2",
   "metadata": {},
   "source": [
    "The previous example is an example of a page hit.\n",
    "This means that we referenced a virtual memory address that is in physical memory.\n",
    "\n",
    "In more detail, the following occurs:\n",
    "1. CPU requests a virtual memory by its address from the memory management unit (MMU)\n",
    "2. MMU fetches the page table entry in the DRAM\n",
    "3. Using the page table entry, MMU computes the physical address and sends it to the MMU\n",
    "4. MMU respond to the CPU with the data at that address"
   ]
  },
  {
   "cell_type": "markdown",
   "id": "ad8a42bf-5478-44cc-ae62-42944b8b080b",
   "metadata": {},
   "source": [
    "### Page fault"
   ]
  },
  {
   "cell_type": "markdown",
   "id": "789c7c08-043a-4431-b2cb-98c4388b267f",
   "metadata": {},
   "source": [
    "A page fault occurs when the virtual memory address is not in the physical memory."
   ]
  },
  {
   "cell_type": "markdown",
   "id": "2dd70921-b58e-4bd9-97bb-49c4b697d9f5",
   "metadata": {},
   "source": [
    "In more detail, the following occurs:\n",
    "1. CPU requests a virtual memory by its address from the MMU\n",
    "2. MMU fetches the page table entry in the DRAM\n",
    "3. MMU notices that the valid bit is 0\n",
    "4. MMU triggers a page fault exception\n",
    "5. Page fault handler decides on a **victim** page to evict from DRAM\n",
    "6. Handler fetches desired page from disk and update page table entry\n",
    "7. Handler returns control to original processes\n",
    "8. Repeats from faulty instruction, where the [page hit flow](#Page-hit) will occur."
   ]
  },
  {
   "cell_type": "markdown",
   "id": "99cb8c0d-2742-4231-9759-3e75f65d0c40",
   "metadata": {},
   "source": [
    "### Translation look-aside buffer"
   ]
  },
  {
   "cell_type": "markdown",
   "id": "f71df179-4aec-4679-83e5-cb59c351f54e",
   "metadata": {},
   "source": [
    "Notice that the MMU has to keep accessing DRAM to obtain the page table entry.\n",
    "To avoid this overhead, MMU usually comes with a small hardware cache, called the **translation look-aside buffer** which contains a subset of the page table entry."
   ]
  },
  {
   "cell_type": "markdown",
   "id": "64930108-e020-488b-a699-740df71da3dd",
   "metadata": {},
   "source": [
    "## Benefits\n"
   ]
  },
  {
   "cell_type": "markdown",
   "id": "7597f641-2fc0-4168-903f-870093469940",
   "metadata": {},
   "source": [
    "With virtual memory, we are able to sidestep the requirement of [contiguous memory](./memory_allocation.ipynb#contiguous-memory), as processes now thinks they are working with contiguous memory, but the physical memory could be segmented."
   ]
  },
  {
   "cell_type": "markdown",
   "id": "73170c33-d04e-492a-b8d8-f7f8b9655603",
   "metadata": {},
   "source": [
    "It also adds a further layer of abstraction above the process level to allow easier implementation of memory management."
   ]
  }
 ],
 "metadata": {
  "kernelspec": {
   "display_name": "Python 3 (ipykernel)",
   "language": "python",
   "name": "python3"
  },
  "language_info": {
   "codemirror_mode": {
    "name": "ipython",
    "version": 3
   },
   "file_extension": ".py",
   "mimetype": "text/x-python",
   "name": "python",
   "nbconvert_exporter": "python",
   "pygments_lexer": "ipython3",
   "version": "3.10.4"
  },
  "toc-autonumbering": false,
  "toc-showcode": false,
  "toc-showmarkdowntxt": false,
  "toc-showtags": false
 },
 "nbformat": 4,
 "nbformat_minor": 5
}
