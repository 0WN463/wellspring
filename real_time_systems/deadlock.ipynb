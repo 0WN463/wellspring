{
 "cells": [
  {
   "cell_type": "code",
   "execution_count": 1,
   "id": "b84bb86c-ec01-47e5-a332-ac47873871a3",
   "metadata": {},
   "outputs": [],
   "source": [
    "import matplotlib.pyplot as plt\n",
    "import networkx as nx\n",
    "import numpy as np"
   ]
  },
  {
   "cell_type": "markdown",
   "id": "d1eb0fd0-ea91-4ded-b05c-0c4f1a404775",
   "metadata": {},
   "source": [
    "# Deadlock"
   ]
  },
  {
   "cell_type": "markdown",
   "id": "4b2bad18-811e-4682-abb7-cb05c04e1f20",
   "metadata": {},
   "source": [
    "A deadlock occurs when a set of blocked processes each holds a resource and are waiting to acquire a resource held by another process in the set."
   ]
  },
  {
   "cell_type": "markdown",
   "id": "660eae91-8090-4753-b914-dece761c1425",
   "metadata": {},
   "source": [
    "## Physical examples"
   ]
  },
  {
   "cell_type": "markdown",
   "id": "d9b0b661-cf72-4cd2-8c01-e10e23b3835e",
   "metadata": {},
   "source": [
    "### Bridge crossing\n",
    "\n",
    "Suppose that there is a narrow bridge which only 1 person can cross at a time.\n",
    "Consider the situation where a person goes onto the bridge on one end, and another on the other.\n",
    "Both person want to cross the bridge, but are unable to as they are blocked by the other.\n",
    "\n",
    "One way to resolve this is to have person A get off the bridge so that person B can cross, which clears the bridge for person A to cross.\n",
    "This is akin to a process releasing a resource to avoid a deadlock situation."
   ]
  },
  {
   "cell_type": "markdown",
   "id": "1d26b07d-96c8-41d4-834a-0c8efaa2fb76",
   "metadata": {},
   "source": [
    "### Dining philosophers\n",
    "\n",
    "Suppose that there are 5 philosophers seating on a round table.\n",
    "There are 5 individual chopsticks on the table, each between 2 philosophers.\n",
    "\n",
    "Suppose that the philosophers are conditioned to try to obtain a pair of chopsticks.\n",
    "Once it has a pair, it will consume his food, and return the chopsticks that he used back onto the table."
   ]
  },
  {
   "cell_type": "markdown",
   "id": "162e507a-b593-4000-83d3-c393d513f096",
   "metadata": {},
   "source": [
    "Now, consider the case where all 5 philosophers tries to obtain a chopstick, leading to a situation where each of the 5 has only 1 chopstick.\n",
    "This result in none of them being able to proceed to consume food, and caused all of them to be waiting for a free chopstick to appear on the table.\n",
    "This is also a deadlock situation."
   ]
  },
  {
   "cell_type": "markdown",
   "id": "b7115710-623c-4353-9540-4b10e06a771b",
   "metadata": {},
   "source": [
    "## System model\n",
    "\n",
    "To simplify our analysis of deadlocks, we model the system using a node and vertex graph."
   ]
  },
  {
   "cell_type": "code",
   "execution_count": 2,
   "id": "7076355f-41e8-4218-be55-260703908462",
   "metadata": {},
   "outputs": [],
   "source": [
    "G = nx.DiGraph()\n",
    "G.add_node(\"R1\", pos=(1, 2), n=1)\n",
    "G.add_node(\"R2\", pos=(3, 2), n=1)\n",
    "G.add_node(\"R3\", pos=(1, 0), n=2)\n",
    "G.add_node(\"P1\", pos=(0, 1))\n",
    "G.add_node(\"P2\", pos=(2, 1))\n",
    "G.add_node(\"P3\", pos=(4, 1))\n",
    "G.add_edge(\"R1\", \"P2\")\n",
    "G.add_edge(\"R2\", \"P3\")\n",
    "G.add_edge(\"R3\", \"P1\")\n",
    "G.add_edge(\"R3\", \"P2\")\n",
    "G.add_edge(\"P1\", \"R1\")\n",
    "G.add_edge(\"P2\", \"R2\")"
   ]
  },
  {
   "cell_type": "code",
   "execution_count": 3,
   "id": "860c804a-0187-4e29-b5a1-9e0e1e1e8b11",
   "metadata": {},
   "outputs": [
    {
     "data": {
      "image/png": "[encoded data removed]",
      "text/plain": [
       "<Figure size 432x288 with 1 Axes>"
      ]
     },
     "metadata": {},
     "output_type": "display_data"
    }
   ],
   "source": [
    "def plot_graph(G):\n",
    "    pos = nx.get_node_attributes(G, \"pos\")\n",
    "    nx.draw_networkx_nodes(G, pos, node_shape=\"o\")\n",
    "    nx.draw_networkx_nodes(\n",
    "        G, pos, node_shape=\"s\", nodelist=[v for v in pos if \"R\" in v]\n",
    "    )\n",
    "    nx.draw_networkx_edges(G, pos)\n",
    "    nx.draw_networkx_labels(\n",
    "        G,\n",
    "        {v: (p[0] + 0.3, p[1]) for v, p in pos.items()},\n",
    "        labels=nx.get_node_attributes(G, \"n\"),\n",
    "    )\n",
    "    nx.draw_networkx_labels(G, pos)\n",
    "    plt.show()\n",
    "\n",
    "\n",
    "plot_graph(G)"
   ]
  },
  {
   "cell_type": "markdown",
   "id": "4a02b1fe-cefb-41cb-a3b3-5be6ce0bd610",
   "metadata": {},
   "source": [
    "These are the characteristics of the graph:\n",
    "* Resource: square nodes\n",
    "* Processes: round nodes\n",
    "* Capacity of the resource: number to the right of the resource\n",
    "* Request of resource: edge from a process to a resource\n",
    "    * When the request is granted, the edge is removed\n",
    "* Assignment of resource: edge from a resource to a process\n",
    "    * When resource is released, the edge is removed\n"
   ]
  },
  {
   "cell_type": "markdown",
   "id": "aa48c02d-d40b-4dfe-b5fa-43242fd8f6d6",
   "metadata": {},
   "source": [
    "In the above graph, the following sequence will happen:\n",
    "1. $P3$ will complete\n",
    "2. $P3$ releases $R2$\n",
    "3. $R2$ gets assigned to $P2$\n",
    "4. $P2$ can now complete\n",
    "5. $P2$ releases $R1$ and $R3$\n",
    "6. When $P2$ releases $R1$, it can now be allocated to $P1$ and thus $P1$ can now complete"
   ]
  },
  {
   "cell_type": "markdown",
   "id": "3ae6194d-af3d-4ead-9ed6-8e53d4ef2416",
   "metadata": {},
   "source": [
    "Hence, there is no deadlock in the graph above."
   ]
  },
  {
   "cell_type": "markdown",
   "id": "cbf82313-ae01-4932-a1a6-2dbbbc14de1d",
   "metadata": {},
   "source": [
    "Now consider this modified graph."
   ]
  },
  {
   "cell_type": "code",
   "execution_count": 4,
   "id": "c4e0de04-58a2-4242-b66e-c54504468c81",
   "metadata": {},
   "outputs": [
    {
     "data": {
      "image/png": "[encoded data removed]",
      "text/plain": [
       "<Figure size 432x288 with 1 Axes>"
      ]
     },
     "metadata": {},
     "output_type": "display_data"
    }
   ],
   "source": [
    "G.add_edge(\"P3\", \"R3\")\n",
    "\n",
    "plot_graph(G)"
   ]
  },
  {
   "cell_type": "markdown",
   "id": "f34fc2aa-be50-4545-a08e-91fe6bf219b2",
   "metadata": {},
   "source": [
    "Now, $P3$ cannot complete as it is unable to obtain $R3$ since both instances are assigned to $P1$ and $P2$.\n",
    "In fact, none of the 3 process can complete, and hence this is a deadlock."
   ]
  },
  {
   "cell_type": "markdown",
   "id": "efad45ac-0215-4e29-9aad-c3fc0b32b071",
   "metadata": {},
   "source": [
    "From the graph, we see that _if a deadlock occurs, there is a cycle in the system graph_.\n",
    "Try convincing yourself this fact."
   ]
  },
  {
   "cell_type": "markdown",
   "id": "d761fa54-f310-4835-b9ad-a5d05f61a53e",
   "metadata": {},
   "source": [
    "However, **this is not a sufficient condition**, because there can be a graph which has a cycle, but is not in deadlock, as per below:"
   ]
  },
  {
   "cell_type": "code",
   "execution_count": 5,
   "id": "e8c66d64-73df-4595-af4a-56b45dd890ba",
   "metadata": {},
   "outputs": [],
   "source": [
    "G = nx.DiGraph()\n",
    "G.add_node(\"R1\", pos=(1, 2), n=2)\n",
    "G.add_node(\"R2\", pos=(1, 0), n=1)\n",
    "G.add_node(\"P1\", pos=(0, 1))\n",
    "G.add_node(\"P2\", pos=(2, 1))\n",
    "G.add_node(\"P3\", pos=(3, 2))\n",
    "G.add_edge(\"R1\", \"P2\")\n",
    "G.add_edge(\"R1\", \"P3\")\n",
    "G.add_edge(\"R2\", \"P1\")\n",
    "G.add_edge(\"P1\", \"R1\")\n",
    "G.add_edge(\"P2\", \"R2\")"
   ]
  },
  {
   "cell_type": "code",
   "execution_count": 6,
   "id": "20f27d56-4c64-4b6e-a91b-80c0111f8cef",
   "metadata": {},
   "outputs": [
    {
     "data": {
      "image/png": "[encoded data removed]",
      "text/plain": [
       "<Figure size 432x288 with 1 Axes>"
      ]
     },
     "metadata": {},
     "output_type": "display_data"
    }
   ],
   "source": [
    "plot_graph(G)"
   ]
  },
  {
   "cell_type": "markdown",
   "id": "eb6e4952-da70-4991-bc95-a47a6209c33c",
   "metadata": {},
   "source": [
    "Despite the $P1 \\rightarrow R1 \\rightarrow P2 \\rightarrow R2 \\rightarrow P1$ cycle, the system is not in deadlock."
   ]
  },
  {
   "cell_type": "markdown",
   "id": "60e556e9-3ade-4d4e-9b74-f2cbc48e300e",
   "metadata": {},
   "source": [
    "The following resolution sequence will occur:\n",
    "1. $P3$ completes\n",
    "2. $P3$ releases $R1$\n",
    "3. $P1$ obtains $R1$\n",
    "4. $P1$ completes\n",
    "5. $P1$ releases $R2$\n",
    "6. $P2$ obtains $R2$\n",
    "7. $P2$ completes"
   ]
  },
  {
   "cell_type": "markdown",
   "id": "3230b78e-367a-4ae1-b670-6b8da0871d49",
   "metadata": {},
   "source": [
    "Hence, this brings us to the inspiration for some basic indicators of deadlocks"
   ]
  },
  {
   "cell_type": "markdown",
   "id": "effcb4e3-7180-49be-b33c-de18267b821b",
   "metadata": {},
   "source": [
    "## Indicators of deadlocks\n",
    "\n",
    "* If the graph contains no cycles, there is **no deadlocks**\n",
    "* If the graph contains a cycle:\n",
    "    * and only 1 instance per resource type in that cycle, then there **is a deadlock**\n",
    "    * but there are several instances per resource type in that cycle, then there **may be a deadlock**"
   ]
  },
  {
   "cell_type": "markdown",
   "id": "90e044e6-2ead-4297-8538-8f1f6cdbe229",
   "metadata": {},
   "source": [
    "## Conditions for deadlock\n",
    "\n",
    "For a deadlock to occur, the following 4 condition must be true\n",
    "\n",
    "* **Mutual exclusion**: only 1 process can use the resource at any time\n",
    "* **Hold and wait**: a process is holding onto some resource while waiting to obtain additional resources held by other processes\n",
    "* **No preemption**: a resource can only be released voluntarily by the process holding it\n",
    "* **Circular wait**: there is a cycle of processes that are waiting for resource\n",
    "    * _ie_ there is a cycle in our system graph"
   ]
  },
  {
   "cell_type": "markdown",
   "id": "019ab205-f34c-4a9d-a7aa-af0014019c7f",
   "metadata": {},
   "source": [
    "## Solutions for deadlocks\n",
    "\n",
    "* Ensure that the system will never enter a deadlock\n",
    "* Allow the system to enter deadlock, and have some recovery mechanism\n",
    "* Assume that deadlock never occurs in the system\n",
    "    * Practiced by many common OS's, including UNIX"
   ]
  },
  {
   "cell_type": "markdown",
   "id": "9521f67f-784e-4a1a-a603-48a1cde432cc",
   "metadata": {},
   "source": [
    "## Prevention of deadlocks\n",
    "\n",
    "By failing to satisfy any of the conditions for a deadlock, we can avoid deadlocks all together.\n",
    "\n",
    "Hence, the below are the ways to violate each of the conditions:\n",
    "* **Mutual exclusion**: allowing simultaneous use of resources\n",
    "    * Easy to satisfy if all resources are shareable, but this is usually not the case\n",
    "    * _eg_ Dining philosophers are trying to browse 5 different menus. All 5 of them can be viewing any of the menu at the same time, hence there is no deadlock.\n",
    "* **Hold and wait**: when a process requests a resource, it must not hold onto other resources\n",
    "    * _eg_ Philosophers only pick up a chopstick if there are 2 chopsticks available\n",
    "* **No preemption**: If a process is holding some resources that cannot be allocated in time, then all resources current held by it is released.\n",
    "    * _eg_ Philosophers releases their chopstick if they cannot get another chopstick after some time\n",
    "* **Circular wait**: Prevent cycles in our system graph\n",
    "    * _ie_ Allow at most 4 philosophers to be active at any given time"
   ]
  },
  {
   "cell_type": "markdown",
   "id": "2ffea8d7-625a-4f7b-813c-33b6dcc28474",
   "metadata": {},
   "source": [
    "## Deadlock avoidance\n",
    "\n",
    "The deadlock avoidance algorithm dynamically examines resource allocation to ensure that the system never enters an unsafe state.\n",
    "When a process requests for a resource, the system must decide if it should allocate the resource to the process, or ask the process to wait.\n",
    "\n",
    "The system is in a safe state if there exists some safe sequence for all processes.\n",
    "*When a system is safe, no deadlocks can occur*."
   ]
  },
  {
   "cell_type": "markdown",
   "id": "e6f5dd92-cf04-49d1-910c-50ccf45ca840",
   "metadata": {},
   "source": [
    "Given some sequence $P_1, P_2 \\dots P_n$, the sequence is safe if for each process $P_i$, the resources it needs can be satisfied by the available resource currently together with the resources held by all $P_j$'s, with $j < i$."
   ]
  },
  {
   "cell_type": "markdown",
   "id": "81ebd953-6069-4b8c-8d67-9403e76da893",
   "metadata": {},
   "source": [
    "In other words, when all $P_j$ completes, $P_i$ must have the resources it needs to run."
   ]
  },
  {
   "cell_type": "markdown",
   "id": "8177826c-c470-453c-b7fc-ffa7aa5fc510",
   "metadata": {
    "tags": []
   },
   "source": [
    "### Example\n",
    "\n",
    "Consider the system with 3 processes, 1 resource with **the current capacity of 1**:"
   ]
  },
  {
   "cell_type": "markdown",
   "id": "4bf2c0db-6d04-4423-81df-6f6d43fdf585",
   "metadata": {},
   "source": [
    "| Process | Hold | Request |\n",
    "| --- | --- | --- |\n",
    "| P1 | 1 | 1 |\n",
    "| P2 | 1 | 2 |\n",
    "| P3 | 1 | 3 |"
   ]
  },
  {
   "cell_type": "markdown",
   "id": "9fefd782-37c2-434a-aa18-bd9e5e079287",
   "metadata": {},
   "source": [
    "Consider the sequence $P1, P2, P3$.\n",
    "\n",
    "1. $P1$ obtains the currently available resource\n",
    "2. $P1$ completes\n",
    "3. $P1$ releases its resource\n",
    "4. Current resource = 2\n",
    "1. $P2$ obtains the currently available resource\n",
    "2. $P2$ completes\n",
    "3. $P2$ releases its resource\n",
    "4. Current resource = 3\n",
    "1. $P3$ obtains the currently available resource\n",
    "2. $P3$ completes\n",
    "3. $P3$ releases its resource\n",
    "\n",
    "Hence, the sequence is safe\n",
    "\n",
    "---"
   ]
  },
  {
   "cell_type": "markdown",
   "id": "8bfaa0f2-8fa4-4db2-aadb-0998dcba5165",
   "metadata": {},
   "source": [
    "Now, consider the sequence of $P3, P2, P1$.\n",
    "Since $P3$ cannot complete due to insufficient resources, this sequence is not safe."
   ]
  },
  {
   "cell_type": "markdown",
   "id": "bf44fa65-534c-4638-9455-7241ad746a05",
   "metadata": {},
   "source": [
    "Since the system has a safe sequence of $P1, P2 ,P3$, the system is safe."
   ]
  },
  {
   "cell_type": "markdown",
   "id": "8411f665-5119-4c4f-a54c-5e7a2750375a",
   "metadata": {},
   "source": [
    "### Banker's algorithm\n",
    "\n",
    "The *Banker's algorithm* allows us to check if a system is safe.\n",
    "\n",
    "The following are the notations for the algorithm:\n",
    "* `n`: number of processes\n",
    "* `m`: number of resource types\n",
    "* `Available`: array of size `m`, where `Available[i] = k` indicates that there are `k` available instances of resource `i`\n",
    "* `Max`: array of size `n x m`, where `Max[i][j] = k` indicates that process `i` will request at most `k` instance of resource `j`\n",
    "* `Allocation`: array of size `n x m`, where `Allocation[i][j] = k` indicates that `k` instances of resource `j` is being allocated to process `i`\n",
    "* `Need`: array of size `n x m`, where `Need[i][j] = k` indicates that process `i` needs indicates `k` more instances of resource `j` to complete\n",
    "    * `Need = Max - Allocation`"
   ]
  },
  {
   "cell_type": "markdown",
   "id": "812b5a13-8908-4895-88eb-a07c92c05ce8",
   "metadata": {},
   "source": [
    "The algorithm is as follows:\n",
    "1. Set `Work = Available`\n",
    "2. Set `Finish` to be an array of size $n$, all of which are `false`\n",
    "3. Find an `i` such that `Finish[i] == false` and `Need[i][j] = Work[j]` for all `j`\n",
    "    * if no `i` exists, jump to step 5\n",
    "4. Set `Work = Work + Allocation[i]` and `Finish[i] = true`\n",
    "     * Go to step 2\n",
    "5. If `Finish` is all `true`, then the system is safe, otherwise it is unsafe."
   ]
  },
  {
   "cell_type": "code",
   "execution_count": 7,
   "id": "e2823bde-0887-4582-af36-ca993e5cb4a5",
   "metadata": {},
   "outputs": [],
   "source": [
    "from dataclasses import dataclass, field\n",
    "\n",
    "\n",
    "@dataclass\n",
    "class System:\n",
    "    allocation: np.ndarray\n",
    "    maxes: np.ndarray\n",
    "    available: np.ndarray\n",
    "    need: np.ndarray = field(init=False)\n",
    "\n",
    "    def __post_init__(self):\n",
    "        self.need = self.maxes - self.allocation\n",
    "\n",
    "\n",
    "def banker(system):\n",
    "    assert system.allocation.shape == system.maxes.shape\n",
    "    assert system.available.size == system.maxes.shape[1]\n",
    "\n",
    "    n = system.maxes.shape[0]\n",
    "\n",
    "    work = system.available.copy()\n",
    "    finish = np.full(n, False)\n",
    "\n",
    "    seq = []\n",
    "    while True:\n",
    "        has_needs = (system.need <= np.tile(work, (n, 1))).all(axis=1)\n",
    "        arr = np.argwhere(np.logical_and(has_needs, np.logical_not(finish))).ravel()\n",
    "\n",
    "        if not arr.size:\n",
    "            break\n",
    "\n",
    "        i = arr[0]\n",
    "        work = work + system.allocation[i]\n",
    "        finish[i] = True\n",
    "        seq.append(i)\n",
    "\n",
    "    is_safe = np.all(finish)\n",
    "    return is_safe, seq if is_safe else []"
   ]
  },
  {
   "cell_type": "markdown",
   "id": "bb0d188d-b606-4228-ad56-e584f305b272",
   "metadata": {},
   "source": [
    "For completion, we can check the \"safe-ness\" of our [previous example graphs](#System-model)."
   ]
  },
  {
   "cell_type": "code",
   "execution_count": 8,
   "id": "e09cb9ae-c6eb-452a-900e-eac99bd5b159",
   "metadata": {},
   "outputs": [
    {
     "data": {
      "text/plain": [
       "(True, [2, 1, 0])"
      ]
     },
     "execution_count": 8,
     "metadata": {},
     "output_type": "execute_result"
    }
   ],
   "source": [
    "available = np.array([0, 0, 0])\n",
    "allocation = np.array(\n",
    "    [\n",
    "        [0, 0, 1],\n",
    "        [1, 0, 1],\n",
    "        [0, 1, 0],\n",
    "    ]\n",
    ")\n",
    "\n",
    "maxes = np.array(\n",
    "    [\n",
    "        [1, 0, 1],\n",
    "        [1, 1, 1],\n",
    "        [0, 1, 0],\n",
    "    ]\n",
    ")\n",
    "\n",
    "system = System(allocation, maxes, available)\n",
    "banker(system)"
   ]
  },
  {
   "cell_type": "code",
   "execution_count": 9,
   "id": "565d3fc3-42bf-4f18-938d-002bdf82cdba",
   "metadata": {},
   "outputs": [
    {
     "data": {
      "text/plain": [
       "(False, [])"
      ]
     },
     "execution_count": 9,
     "metadata": {},
     "output_type": "execute_result"
    }
   ],
   "source": [
    "available = np.array([0, 0, 0])\n",
    "allocation = np.array(\n",
    "    [\n",
    "        [0, 0, 1],\n",
    "        [1, 0, 1],\n",
    "        [0, 1, 0],\n",
    "    ]\n",
    ")\n",
    "\n",
    "maxes = np.array(\n",
    "    [\n",
    "        [1, 0, 1],\n",
    "        [1, 1, 1],\n",
    "        [0, 1, 1],\n",
    "    ]\n",
    ")\n",
    "\n",
    "system = System(allocation, maxes, available)\n",
    "banker(system)"
   ]
  },
  {
   "cell_type": "code",
   "execution_count": 10,
   "id": "ad4e4556-8f79-4944-b142-393342f93bbb",
   "metadata": {},
   "outputs": [
    {
     "data": {
      "text/plain": [
       "(True, [2, 1, 0, 3])"
      ]
     },
     "execution_count": 10,
     "metadata": {},
     "output_type": "execute_result"
    }
   ],
   "source": [
    "available = np.array([0, 0])\n",
    "allocation = np.array(\n",
    "    [\n",
    "        [0, 1],\n",
    "        [1, 0],\n",
    "        [0, 1],\n",
    "        [1, 0],\n",
    "    ]\n",
    ")\n",
    "\n",
    "maxes = np.array(\n",
    "    [\n",
    "        [1, 1],\n",
    "        [1, 1],\n",
    "        [0, 1],\n",
    "        [1, 0],\n",
    "    ]\n",
    ")\n",
    "\n",
    "system = System(allocation, maxes, available)\n",
    "banker(system)"
   ]
  },
  {
   "cell_type": "markdown",
   "id": "d6d584ab-aef3-4365-95b8-f0e25460eafa",
   "metadata": {},
   "source": [
    "Indeed, it aligns with our deadlock analysis for those graphs."
   ]
  },
  {
   "cell_type": "markdown",
   "id": "b6e5ec63-0770-4cb6-bf35-9ba97c46eaf7",
   "metadata": {},
   "source": [
    "Here is another example system and the application of Banker's algorithm"
   ]
  },
  {
   "cell_type": "code",
   "execution_count": 11,
   "id": "850c9e06-ecd3-4ebc-baa7-f8c46d7bb548",
   "metadata": {},
   "outputs": [
    {
     "data": {
      "text/plain": [
       "(True, [1, 3, 0, 2, 4])"
      ]
     },
     "execution_count": 11,
     "metadata": {},
     "output_type": "execute_result"
    }
   ],
   "source": [
    "available = np.array([3, 3, 2])\n",
    "allocation = np.array(\n",
    "    [\n",
    "        [0, 1, 0],\n",
    "        [2, 0, 0],\n",
    "        [3, 0, 2],\n",
    "        [2, 1, 1],\n",
    "        [0, 0, 2],\n",
    "    ]\n",
    ")\n",
    "\n",
    "maxes = np.array(\n",
    "    [\n",
    "        [7, 5, 3],\n",
    "        [3, 2, 2],\n",
    "        [9, 0, 2],\n",
    "        [2, 2, 2],\n",
    "        [4, 3, 3],\n",
    "    ]\n",
    ")\n",
    "\n",
    "system = System(allocation, maxes, available)\n",
    "banker(system)"
   ]
  },
  {
   "cell_type": "markdown",
   "id": "c367d998-3205-44ac-beeb-59e5347615cf",
   "metadata": {},
   "source": [
    "Hence, with the Banker's algorithm, we can test if a system state is safe."
   ]
  },
  {
   "cell_type": "markdown",
   "id": "97865975-f451-43fe-aac6-08464a8922c9",
   "metadata": {},
   "source": [
    "### Allocation decision\n",
    "\n",
    "Suppose that a request for resources appears from a process.\n",
    "Then we perform some basic checks:\n",
    "* if request for any resource exceeds the needs, then we raise an error as a process exceeds its maximum claim\n",
    "* if request for any resource exceeds the available, then we block the process as it needs to wait for the resource\n",
    "* otherwise, we:\n",
    "    * reduce `Available` by the request\n",
    "    * increase `Allocation` by the request\n",
    "    * recompute the `need`\n",
    "    * then we perform the Banker's algorithm to check if the resultant system is safe\n",
    "    * we allocate the resource to the process if and only if the resultant system is safe"
   ]
  },
  {
   "cell_type": "code",
   "execution_count": 12,
   "id": "38786b70-ffd1-453e-8276-d585734f0b98",
   "metadata": {},
   "outputs": [],
   "source": [
    "def allocate(system: System, process: int, request: np.ndarray):\n",
    "    request_arr = np.zeros(system.allocation.shape)\n",
    "    request_arr[process] = request\n",
    "    return System(\n",
    "        allocation=system.allocation + request_arr,\n",
    "        available=system.available - request,\n",
    "        maxes=maxes,\n",
    "    )\n",
    "\n",
    "\n",
    "def should_allocate(system: System, process: int, request: np.ndarray):\n",
    "    if np.any(request > system.need[process]):\n",
    "        raise ValueError(\"Process request exceeds needs\")\n",
    "\n",
    "    if np.any(request > system.available[process]):\n",
    "        return False\n",
    "\n",
    "    result = allocate(system, process, request)\n",
    "    is_safe, _ = banker(result)\n",
    "    return is_safe"
   ]
  },
  {
   "cell_type": "markdown",
   "id": "1b75bdf6-bea6-4163-abb9-415a1032ae9c",
   "metadata": {},
   "source": [
    "#### Example"
   ]
  },
  {
   "cell_type": "markdown",
   "id": "0cb71986-ec6f-40f6-b2c3-2d6da8f58fda",
   "metadata": {},
   "source": [
    "Suppose that in the previous system, a request from $P_1$ occurs, for an additional `[1, 0, 2]` amount of resources."
   ]
  },
  {
   "cell_type": "code",
   "execution_count": 13,
   "id": "be7b5b41-b1f3-4a6c-85ce-47e79fbf2edb",
   "metadata": {},
   "outputs": [
    {
     "data": {
      "text/plain": [
       "True"
      ]
     },
     "execution_count": 13,
     "metadata": {},
     "output_type": "execute_result"
    }
   ],
   "source": [
    "should_allocate(system, 1, [1, 0, 2])"
   ]
  },
  {
   "cell_type": "markdown",
   "id": "823a4164-43a8-4453-876f-8c7e80841560",
   "metadata": {},
   "source": [
    "Using our allocation algorithm, we can see that we can allocate these resources to $P_1$ because the resultant system is safe."
   ]
  },
  {
   "cell_type": "markdown",
   "id": "0d66be82-5255-4af1-9214-037a8309e9fd",
   "metadata": {},
   "source": [
    "Suppose that another request from $P_1$ occurs, for a further `[1, 0, 2]` amount of resources."
   ]
  },
  {
   "cell_type": "code",
   "execution_count": 14,
   "id": "2b955329-686f-438b-9413-caab8d0b802f",
   "metadata": {},
   "outputs": [
    {
     "ename": "ValueError",
     "evalue": "Process request exceeds needs",
     "output_type": "error",
     "traceback": [
      "\u001b[0;31m---------------------------------------------------------------------------\u001b[0m",
      "\u001b[0;31mValueError\u001b[0m                                Traceback (most recent call last)",
      "Input \u001b[0;32mIn [14]\u001b[0m, in \u001b[0;36m<cell line: 2>\u001b[0;34m()\u001b[0m\n\u001b[1;32m      1\u001b[0m new_system \u001b[38;5;241m=\u001b[39m allocate(system, \u001b[38;5;241m1\u001b[39m, [\u001b[38;5;241m1\u001b[39m, \u001b[38;5;241m0\u001b[39m, \u001b[38;5;241m2\u001b[39m])\n\u001b[0;32m----> 2\u001b[0m \u001b[43mshould_allocate\u001b[49m\u001b[43m(\u001b[49m\u001b[43mnew_system\u001b[49m\u001b[43m,\u001b[49m\u001b[43m \u001b[49m\u001b[38;5;241;43m1\u001b[39;49m\u001b[43m,\u001b[49m\u001b[43m \u001b[49m\u001b[43m[\u001b[49m\u001b[38;5;241;43m1\u001b[39;49m\u001b[43m,\u001b[49m\u001b[43m \u001b[49m\u001b[38;5;241;43m0\u001b[39;49m\u001b[43m,\u001b[49m\u001b[43m \u001b[49m\u001b[38;5;241;43m2\u001b[39;49m\u001b[43m]\u001b[49m\u001b[43m)\u001b[49m\n",
      "Input \u001b[0;32mIn [12]\u001b[0m, in \u001b[0;36mshould_allocate\u001b[0;34m(system, process, request)\u001b[0m\n\u001b[1;32m      7\u001b[0m \u001b[38;5;28;01mdef\u001b[39;00m \u001b[38;5;21mshould_allocate\u001b[39m(system: System, process: \u001b[38;5;28mint\u001b[39m, request: np\u001b[38;5;241m.\u001b[39mndarray):\n\u001b[1;32m      8\u001b[0m     \u001b[38;5;28;01mif\u001b[39;00m np\u001b[38;5;241m.\u001b[39many(request \u001b[38;5;241m>\u001b[39m system\u001b[38;5;241m.\u001b[39mneed[process]):\n\u001b[0;32m----> 9\u001b[0m         \u001b[38;5;28;01mraise\u001b[39;00m \u001b[38;5;167;01mValueError\u001b[39;00m(\u001b[38;5;124m\"\u001b[39m\u001b[38;5;124mProcess request exceeds needs\u001b[39m\u001b[38;5;124m\"\u001b[39m)\n\u001b[1;32m     11\u001b[0m     \u001b[38;5;28;01mif\u001b[39;00m np\u001b[38;5;241m.\u001b[39many(request \u001b[38;5;241m>\u001b[39m system\u001b[38;5;241m.\u001b[39mavailable[process]):\n\u001b[1;32m     12\u001b[0m         \u001b[38;5;28;01mreturn\u001b[39;00m \u001b[38;5;28;01mFalse\u001b[39;00m\n",
      "\u001b[0;31mValueError\u001b[0m: Process request exceeds needs"
     ]
    }
   ],
   "source": [
    "new_system = allocate(system, 1, [1, 0, 2])\n",
    "should_allocate(new_system, 1, [1, 0, 2])"
   ]
  },
  {
   "cell_type": "markdown",
   "id": "1ca1d134-26ce-4c0e-a115-6a5a290ad902",
   "metadata": {},
   "source": [
    "The request is erroneous because the initial need is `[3, 2, 2] - [2, 0, 0] = [1, 2, 2]`.\n",
    "After allocating the first `[1, 0, 2]`, the new need is `[1, 2, 2] - [1, 0, 2] = [0, 2, 0]`.\n",
    "This means that the further request exceeds the maximum possible resource request for $R_0, R_2$."
   ]
  },
  {
   "cell_type": "markdown",
   "id": "247c6f31-d334-44dc-bf69-9290c8c1036e",
   "metadata": {},
   "source": [
    "---"
   ]
  },
  {
   "cell_type": "markdown",
   "id": "d899162d-1bf8-49a0-8e37-dc5ababf9503",
   "metadata": {},
   "source": [
    "Suppose that a request from $P_0$ occurs, for `[0, 2, 0]` amount of resources."
   ]
  },
  {
   "cell_type": "code",
   "execution_count": 15,
   "id": "23aec5b3-b5ae-43ed-a37d-8f7c74b649ba",
   "metadata": {},
   "outputs": [
    {
     "data": {
      "text/plain": [
       "False"
      ]
     },
     "execution_count": 15,
     "metadata": {},
     "output_type": "execute_result"
    }
   ],
   "source": [
    "should_allocate(new_system, 0, [0, 2, 0])"
   ]
  },
  {
   "cell_type": "markdown",
   "id": "305684fa-7aef-4306-b52f-af00bf348189",
   "metadata": {},
   "source": [
    "Our decision algorithm see that allowing this request will cause the system to be unsafe, thus it postpone this allocation."
   ]
  }
 ],
 "metadata": {
  "kernelspec": {
   "display_name": "Python 3 (ipykernel)",
   "language": "python",
   "name": "python3"
  },
  "language_info": {
   "codemirror_mode": {
    "name": "ipython",
    "version": 3
   },
   "file_extension": ".py",
   "mimetype": "text/x-python",
   "name": "python",
   "nbconvert_exporter": "python",
   "pygments_lexer": "ipython3",
   "version": "3.10.4"
  },
  "toc-autonumbering": false,
  "toc-showcode": false,
  "toc-showmarkdowntxt": false,
  "toc-showtags": false
 },
 "nbformat": 4,
 "nbformat_minor": 5
}
