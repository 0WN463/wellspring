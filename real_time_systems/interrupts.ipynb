{
 "cells": [
  {
   "cell_type": "code",
   "execution_count": 2,
   "id": "50f41fb8-7484-4763-b027-589ceb76fa25",
   "metadata": {},
   "outputs": [],
   "source": [
    "import matplotlib.pyplot as plt\n",
    "import numpy as np"
   ]
  },
  {
   "cell_type": "markdown",
   "id": "cac874bc",
   "metadata": {},
   "source": [
    "# Polling"
   ]
  },
  {
   "cell_type": "markdown",
   "id": "5a81021e",
   "metadata": {},
   "source": [
    "Every computer needs to do I/O.\n",
    "\n",
    "Suppose that our serial port has a baud rate of 9600 bit/s = 1200 bytes/sec."
   ]
  },
  {
   "cell_type": "markdown",
   "id": "5cff39d0",
   "metadata": {},
   "source": [
    "Now, we have a sensor attached to the port, and our system wish to know if the sensor is sending any output.\n",
    "Since one byte of data arrives every $1/1200 \\approx 0.83ms$, and suppose that it takes $100ns$ to read the sensor's register, then we would take $0.83ms / 100ns = 8300$ read operations just to detect if the sensor sent any data."
   ]
  },
  {
   "cell_type": "markdown",
   "id": "e0658f8d",
   "metadata": {},
   "source": [
    "This is horribly inefficient because we only need to know the presence/absence of data once every 0.83ms, but we are spending so many operations just to monitor the serial port."
   ]
  },
  {
   "cell_type": "markdown",
   "id": "1e9d842a",
   "metadata": {},
   "source": [
    "A parallel to this would be the below Python code:"
   ]
  },
  {
   "cell_type": "code",
   "execution_count": 3,
   "id": "cb4e26af",
   "metadata": {},
   "outputs": [
    {
     "name": "stdout",
     "output_type": "stream",
     "text": [
      "sending data\n",
      "Received 42 from device\n",
      "Polled 7150243 times\n"
     ]
    }
   ],
   "source": [
    "import threading\n",
    "import time\n",
    "\n",
    "register = None\n",
    "num_reads = 0\n",
    "is_complete = False\n",
    "\n",
    "\n",
    "def send_byte():\n",
    "    global register\n",
    "    print(\"sending data\")\n",
    "    register = 42\n",
    "\n",
    "\n",
    "def complete():\n",
    "    global is_complete\n",
    "    is_complete = True\n",
    "\n",
    "\n",
    "def do_work(value):\n",
    "    print(f\"Received {value} from device\")\n",
    "\n",
    "\n",
    "def poll():\n",
    "    global num_reads, register\n",
    "    num_reads += 1\n",
    "    value = register\n",
    "    register = None\n",
    "    return value\n",
    "\n",
    "\n",
    "def main():\n",
    "    # Do other work\n",
    "\n",
    "    if val := poll():\n",
    "        do_work(val)\n",
    "\n",
    "\n",
    "threading.Timer(1, send_byte).start()\n",
    "threading.Timer(2, complete).start()\n",
    "\n",
    "while not is_complete:\n",
    "    main()\n",
    "\n",
    "print(f\"Polled {num_reads} times\")"
   ]
  },
  {
   "cell_type": "markdown",
   "id": "5280bf76",
   "metadata": {},
   "source": [
    "Graphically, it would be:"
   ]
  },
  {
   "cell_type": "code",
   "execution_count": 4,
   "id": "5c395da8",
   "metadata": {},
   "outputs": [
    {
     "data": {
      "image/png": "[encoded data removed]",
      "text/plain": [
       "<Figure size 432x288 with 1 Axes>"
      ]
     },
     "metadata": {
      "needs_background": "light"
     },
     "output_type": "display_data"
    }
   ],
   "source": [
    "plt.barh(y=1, width=1, left=[1, 3, 5, 7, 11, 13], label=\"Main loop work\")\n",
    "plt.barh(y=2, width=0.5, left=[2, 4, 6, 8, 12, 14], label=\"Poll\")\n",
    "plt.barh(y=3, width=2.5, left=8.5, label=\"Work with register\")\n",
    "plt.yticks([])\n",
    "plt.legend()\n",
    "plt.show()"
   ]
  },
  {
   "cell_type": "markdown",
   "id": "73aa0091",
   "metadata": {},
   "source": [
    "Notice that we need to spend time polling for the device each time we run our main loop, even though the device is only ready at $t = 8.5$"
   ]
  },
  {
   "cell_type": "markdown",
   "id": "b6bbc3db",
   "metadata": {},
   "source": [
    "# Interrupt "
   ]
  },
  {
   "cell_type": "markdown",
   "id": "1bf2d0a1",
   "metadata": {},
   "source": [
    "Suppose that we allow the I/O device and the CPU to run concurrently.\n",
    "After the device controller for the I/O device completes its I/O operations, it informs the CPU using an interrupt, so the CPU knows that the register is ready to be read."
   ]
  },
  {
   "cell_type": "markdown",
   "id": "e654fd66",
   "metadata": {},
   "source": [
    "It would look like below graphically."
   ]
  },
  {
   "cell_type": "code",
   "execution_count": 5,
   "id": "1a00f412",
   "metadata": {},
   "outputs": [
    {
     "data": {
      "image/png": "[encoded data removed]",
      "text/plain": [
       "<Figure size 432x288 with 1 Axes>"
      ]
     },
     "metadata": {
      "needs_background": "light"
     },
     "output_type": "display_data"
    }
   ],
   "source": [
    "main_loops = np.hstack((np.arange(1, 9), 11.5, np.arange(12, 14)))\n",
    "plt.barh(y=1, width=np.where((main_loops == 8.0) | (main_loops == 11.5),\n",
    "         0.5, 1), left=main_loops, label=\"Main loop work\", edgecolor='black')\n",
    "plt.barh(y=2, width=3, left=8.5, label=\"(ISR) Work with register\")\n",
    "plt.yticks([])\n",
    "plt.legend()\n",
    "plt.show()"
   ]
  },
  {
   "cell_type": "markdown",
   "id": "102e85d4",
   "metadata": {},
   "source": [
    "(Note that the interrupt is able interrupt the main process mid-loop, and resumes when the interrupt handler is complete, via a process called [preemption](task_management.ipynb#Preemptive-vs-non-preemptive))\n",
    "\n",
    "(Also, the work on the register is taking slightly longer due to overhead of calling the ISR)"
   ]
  },
  {
   "cell_type": "markdown",
   "id": "387043f3",
   "metadata": {},
   "source": [
    "Using interrupt, we see that we no longer spend CPU cycles on checking the register, thus allows us to perform more work in the main loop."
   ]
  },
  {
   "cell_type": "markdown",
   "id": "66f63174",
   "metadata": {},
   "source": [
    "A analogy would be polling is the CPU continually asking if the register is ready, while interrupts allows the device to tell the CPU that the register is ready."
   ]
  },
  {
   "cell_type": "markdown",
   "id": "e37b8959",
   "metadata": {},
   "source": [
    "Interrupts tells the CPU to run the **interrupt service routine (ISR)**.\n",
    "The CPU holds an **interrupt vector** which maps interrupt request (IRQ) to its corresponding function to be ran.\n",
    "\n",
    "\n",
    "| Event | IRQ | ISR | ISR address | \n",
    "| :---: | :---: | :---: | :---: |\n",
    "| Mouse move | 1 | Move cursor | 0x14 | \n",
    "| Key press | 2 | Display typed character | 0x18 | \n",
    "| CPU overheat | 3 | Throttle CPU | 0x30 | "
   ]
  },
  {
   "cell_type": "markdown",
   "id": "64cc94b0",
   "metadata": {},
   "source": [
    "A **trap** is a type of interrupt that is triggered by an error or user request."
   ]
  },
  {
   "cell_type": "markdown",
   "id": "b3dd66aa",
   "metadata": {},
   "source": [
    "## Types of interrupts"
   ]
  },
  {
   "cell_type": "markdown",
   "id": "2c7c8112",
   "metadata": {},
   "source": [
    "### Synchronous vs Asynchronous\n",
    "\n",
    "Synchronous interrupts are exceptions raised by internal events, _ie_ they are caused by a processor's instruction, _eg_ division by 0.\n",
    "\n",
    "Asynchronous interrupts are raised by external events, and thus are not aligned with processor's instructions, _eg_ key presses from keyboard, hardware timer."
   ]
  },
  {
   "cell_type": "markdown",
   "id": "d591224f",
   "metadata": {},
   "source": [
    "## Interrupt response time\n",
    "\n",
    "Interrupt response time = interrupt latency + processing time\n",
    "\n",
    "**Interrupt latency**: The interval between time when the interrupt is raised and the time when ISR begins.\n",
    "This is caused by the overhead of context switching to the ISR."
   ]
  },
  {
   "cell_type": "markdown",
   "id": "21c8cb54",
   "metadata": {},
   "source": [
    "Suppose that we know that an specific interrupt can occur every $T$ ms.\n",
    "Then we would require that our interrupt response time be $\\leq T$ms, otherwise we won't be able to finish processing the previous handler when the next interrupt comes in, causing an accumulation of pending tasks and hence failing to meet our deadline."
   ]
  },
  {
   "cell_type": "markdown",
   "id": "449ded8a",
   "metadata": {},
   "source": [
    "## Handling multiple interrupts"
   ]
  },
  {
   "cell_type": "markdown",
   "id": "9f37a1fb",
   "metadata": {},
   "source": [
    "If our system has multiple interrupt, it makes sense that some interrupts may be more important for others.\n",
    "For example, the interrupt for handling key presses would be less important than the interrupt which reduces a CPU temperature in the case of overheating.\n",
    "Hence it makes sense that interrupts have priorities, and higher priority interrupts can obtain control when the process is running the ISR of a lower priority one (but not vice versa).\n",
    "When a lower priority interrupt is triggered while the CPU is processing the ISR of a higher priority one, it will be interrupted to perform the higher priority ISR, and resuming when that is done. "
   ]
  },
  {
   "cell_type": "code",
   "execution_count": 6,
   "id": "0f8e72f3",
   "metadata": {},
   "outputs": [
    {
     "data": {
      "image/png": "[encoded data removed]",
      "text/plain": [
       "<Figure size 432x288 with 1 Axes>"
      ]
     },
     "metadata": {
      "needs_background": "light"
     },
     "output_type": "display_data"
    }
   ],
   "source": [
    "main_loops = np.hstack(\n",
    "    (np.arange(1, 3), np.arange(6.5, 8.5), 11.5, np.arange(12, 18)))\n",
    "plt.barh(y=1, width=np.where((main_loops == 8.0) | (main_loops == 11.5),\n",
    "         0.5, 1), left=main_loops, label=\"Main loop work\", edgecolor='black')\n",
    "plt.barh(y=2, width=[2, 1, 1], left=[4, 8.5, 10.5],\n",
    "         label=\"ISR1, lower priority\")\n",
    "plt.barh(y=3, width=1, left=[3, 9.5], label=\"ISR2, higher priority\")\n",
    "plt.yticks([])\n",
    "plt.legend()\n",
    "plt.show()"
   ]
  },
  {
   "cell_type": "markdown",
   "id": "a41e302d",
   "metadata": {},
   "source": [
    "So for example, ISR2 is triggered at $t=3$, and ISR1 is triggered at $t=3.1$.\n",
    "Hence, we ignore ISR1 until after ISR2 completes.\n",
    "\n",
    "Then, at $t=8.5$, ISR1 is being processed, but at $t=9.5$, ISR2 is triggered.\n",
    "Hence, our system jumped immediately to process ISR2, before resuming to ISR1."
   ]
  },
  {
   "cell_type": "markdown",
   "id": "d0cbb679",
   "metadata": {},
   "source": [
    "Notice that because higher priority ISR can delay the processing of a lower priority ISR, the latency of the higher priority ISR contributes to the latency of the lower priority ones.\n",
    "Hence, it is important to **minimize the amount of work in an ISR**, to ensure that its own deadline (and the deadlines of interrupts of lower priorities) are met."
   ]
  },
  {
   "cell_type": "markdown",
   "id": "a49a9163",
   "metadata": {},
   "source": [
    "So in our previous example, if the deadline of ISR1 is 2.5 units after the interrupt is sent, then our system will fail to meet the deadline, because the interrupt was sent at $t=3.1$, but the ISR1 is completed at $t=6$, which meant it took $2.9$ units.\n",
    "This was because we were delayed further by the higher priority ISR."
   ]
  },
  {
   "cell_type": "markdown",
   "id": "9327891c",
   "metadata": {},
   "source": [
    "## Interrupts for I/O"
   ]
  },
  {
   "cell_type": "markdown",
   "id": "045f6d21",
   "metadata": {},
   "source": [
    "Suppose that our system is reading a file from storage into RAM.\n",
    "If we were to use interrupt, then an interrupt will be triggered for every bytes transferred.\n",
    "This is inefficient because the CPU only needs to know when the document is ready.\n",
    "\n",
    "Hence, we introduce the concept of **direct memory access (DMA)**\n",
    "\n",
    "### Direct memory access\n",
    "\n",
    "The device controller will transfer blocks of data from storage directly to main memory.\n",
    "Once a block of data is transferred, it will then send an interrupt to the CPU.\n",
    "Hence, the interrupts occur per block, rather than per byte."
   ]
  },
  {
   "cell_type": "markdown",
   "id": "bd41de53",
   "metadata": {},
   "source": [
    "Note that there is also overhead in setting up the DMA controller, but it is usually worth it to reduce the CPU cycles that would have been used for interrupt handling."
   ]
  }
 ],
 "metadata": {
  "kernelspec": {
   "display_name": "Python 3 (ipykernel)",
   "language": "python",
   "name": "python3"
  },
  "language_info": {
   "codemirror_mode": {
    "name": "ipython",
    "version": 3
   },
   "file_extension": ".py",
   "mimetype": "text/x-python",
   "name": "python",
   "nbconvert_exporter": "python",
   "pygments_lexer": "ipython3",
   "version": "3.10.4"
  }
 },
 "nbformat": 4,
 "nbformat_minor": 5
}
