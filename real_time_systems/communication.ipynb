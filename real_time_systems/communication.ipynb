{
 "cells": [
  {
   "cell_type": "markdown",
   "id": "d1eb0fd0-ea91-4ded-b05c-0c4f1a404775",
   "metadata": {},
   "source": [
    "# Communication"
   ]
  },
  {
   "cell_type": "markdown",
   "id": "4b2bad18-811e-4682-abb7-cb05c04e1f20",
   "metadata": {},
   "source": [
    "**Independent process** are not affected by nor can affect the execution of other processes.\n",
    "Thus, there is no need for **inter-process communication**\n",
    "\n",
    "**Cooperating process** are affected by and/or can affect the execution of another process.\n",
    "Hence, we need a system for processes to communication with one another.\n",
    "\n",
    "There are two main mechanisms of inter-process communication:\n",
    "* Shared memory\n",
    "* Message passing\n",
    "\n",
    "Shared memory is straightforward enough, where cooperating processes have some shared segment of memory to read and write from.\n",
    "\n",
    "We will discuss more on message passing instead."
   ]
  },
  {
   "cell_type": "markdown",
   "id": "6b01e17b-9950-4ba3-90de-5d3c65d30bdb",
   "metadata": {},
   "source": [
    "## Message passing\n",
    "\n",
    "In **message passing**, processes communicate without using shared variables.\n",
    "They communicate via `send()` and `receive()`.\n",
    "When two process wish to communicate, they will set up a link and communicate via it."
   ]
  },
  {
   "cell_type": "markdown",
   "id": "c405bd42-22c3-4497-8fd2-5d52f94297c3",
   "metadata": {},
   "source": [
    "One may think message passing is simply the same as reading/writing via shared memory.\n",
    "However, the key difference is that sender/receivers are sending/receiving copies.\n",
    "They can freely modify the message they send/receive without changing the message after it is sent.\n",
    "\n",
    "This is akin to sending an attachment via email; the sender/receiver can freely modify their copy of the attachment after the message is sent, without modifying the other person's copy.\n",
    "Shared memory, would then be similar to having a Google Doc shared between people, where any modifications is propagated to both parties."
   ]
  },
  {
   "cell_type": "markdown",
   "id": "8f6d5ec0-312b-407b-b8fc-398d2efd5586",
   "metadata": {},
   "source": [
    "Since there is no shared memory, **no [mutexes](./synchronization.ipynb#Mutex) are needed**."
   ]
  },
  {
   "cell_type": "markdown",
   "id": "fb92402b-635f-457a-8a40-b5d1254cc98a",
   "metadata": {},
   "source": [
    "## Message passing schemes"
   ]
  },
  {
   "cell_type": "markdown",
   "id": "6416cc63-60be-47d9-9f45-bbac3a100b63",
   "metadata": {},
   "source": [
    "### Direct vs indirect\n",
    "\n",
    "Direct naming scheme sends the message directly to the receiver by passing the target's identifier via `send()`.\n",
    "\n",
    "Indirect naming scheme sends/receives message by sending/receiving via some intermediate entity called **mailbox/channel/message queue**."
   ]
  },
  {
   "cell_type": "markdown",
   "id": "b90cc460-27ed-4c85-a87a-131faa35e2db",
   "metadata": {},
   "source": [
    "### Symmetric vs asymmetric\n",
    "\n",
    "In symmetric naming scheme, both sender and receiver will name the entity(process/message queue) they are sending/receiving from."
   ]
  },
  {
   "cell_type": "markdown",
   "id": "d763b703-b3c6-4053-b976-29449767c713",
   "metadata": {},
   "source": [
    "In asymmetric naming scheme, sender names the entity they are sending to, but the receiver does not.\n",
    "An example of this is server-client paradigm, where the server accepts connection from any client, without knowing the identifier of the client beforehand."
   ]
  },
  {
   "cell_type": "markdown",
   "id": "adf9b73c-eda9-4c7f-9a7c-230232e5b269",
   "metadata": {},
   "source": [
    "### Blocking vs non-blocking\n",
    "\n",
    "#### Blocking\n",
    "\n",
    "Sender waits until the message is received, if it tries to send a message.\n",
    "Similarly, receiver waits until the message is available, if it tries to receive a message.\n",
    "\n",
    "Due to the blocking behaviour, **no intermediate buffering of messages is required**.\n",
    "\n",
    "\n",
    "#### Non-blocking\n",
    "\n",
    "Sender is not blocked if receiver has yet to call `receive()`.\n",
    "The system buffers the message.\n",
    "Receiver continue its execution (via another code path) if the message is not available.\n",
    "\n",
    "Non-blocking message queues allows flexibility, at the cost of a more complex logic flow.\n",
    "\n",
    "(Note that systems cannot be truly asynchronous, as the buffer size is finite.\n",
    "Once the buffer is full, the system becomes synchronous again, as the sender will need to wait until a message leaves the buffer, _ie_ a receiver sends `receive()`)"
   ]
  }
 ],
 "metadata": {
  "kernelspec": {
   "display_name": "Python 3 (ipykernel)",
   "language": "python",
   "name": "python3"
  },
  "language_info": {
   "codemirror_mode": {
    "name": "ipython",
    "version": 3
   },
   "file_extension": ".py",
   "mimetype": "text/x-python",
   "name": "python",
   "nbconvert_exporter": "python",
   "pygments_lexer": "ipython3",
   "version": "3.10.4"
  },
  "toc-autonumbering": false,
  "toc-showcode": false,
  "toc-showmarkdowntxt": false,
  "toc-showtags": false
 },
 "nbformat": 4,
 "nbformat_minor": 5
}
