{
 "cells": [
  {
   "cell_type": "code",
   "execution_count": 1,
   "id": "5bb6fef1-410e-49d8-9287-6f5082f83556",
   "metadata": {},
   "outputs": [],
   "source": [
    "import matplotlib.pyplot as plt\n",
    "import numpy as np"
   ]
  },
  {
   "cell_type": "markdown",
   "id": "947341e8",
   "metadata": {},
   "source": [
    "# Scheduling algorithm\n",
    "\n",
    "A real-time scheduling algorithm consists of rules for allocating tasks to the CPU.\n",
    "\n",
    "We make a few simplifying assumptions:\n",
    "* There is one CPU and many tasks, each with deadline requirement\n",
    "* Context switch overhead is negligible\n",
    "\n",
    "Our goal is to ensure that all tasks meet their deadlines."
   ]
  },
  {
   "cell_type": "markdown",
   "id": "a77892da",
   "metadata": {},
   "source": [
    "Suppose that we have the following 3 tasks:\n",
    "\n",
    "| Task | Execution time | Deadline |\n",
    "| --- | --- | --- |\n",
    "| 1 | 10ms | 50ms |\n",
    "| 2 | 20ms | 20ms |\n",
    "| 3 | 30ms | 60ms |\n",
    "\n"
   ]
  },
  {
   "cell_type": "markdown",
   "id": "eca0ac79",
   "metadata": {},
   "source": [
    "The worst case scenario is if all 3 tasks are ready at the same time.\n",
    "Hence, if we can solve for this case, then all other cases should be satisfiable.\n",
    "\n",
    "Note that the order of scheduling the tasks matters."
   ]
  },
  {
   "cell_type": "markdown",
   "id": "b1e32b68",
   "metadata": {},
   "source": [
    "Suppose that we schedule in the order of $1, 2, 3$, with no [preemption](task_management.ipynb#Preemptive-vs-non-preemptive).\n",
    "Then task 1 would complete at $t=10ms$, which fits the deadline.\n",
    "But task 2 would complete at $t=10+20=30ms$, which misses the deadline of $20ms$."
   ]
  },
  {
   "cell_type": "markdown",
   "id": "66920ec4",
   "metadata": {},
   "source": [
    "If we had schedule in the order of $2, 1, 3$, then notice that all 3 tasks would have met their deadlines."
   ]
  },
  {
   "cell_type": "markdown",
   "id": "2ccab5ec",
   "metadata": {},
   "source": [
    "Hence, we need a good policy to decide which tasks to schedule in order for the deadlines to be met."
   ]
  },
  {
   "cell_type": "markdown",
   "id": "93eaf867",
   "metadata": {},
   "source": [
    "## Basic real-time task model\n",
    "\n",
    "Suppose that a system has $N$ number of tasks.\n",
    "Each task has:\n",
    "* some known period $p_i$\n",
    "* some worst-case execution time of $c_i$\n",
    "    * describes the maximum amount of time needed to complete the task **without interference from other activities**\n",
    "* some deadline $d_i$\n",
    "\n",
    "It is straightforward to see that in order for the tasks to be satisfiable, $c_i \\leq d_i$ and $d_i \\leq p_i$, hence $c_i \\leq d_i \\leq p_i$."
   ]
  },
  {
   "cell_type": "markdown",
   "id": "03e0a397",
   "metadata": {},
   "source": [
    "For simplicity, we simply set the deadline of each task to be $d_i = p_i$, that is, we become as loose as possible and give the maximum possible deadline to each task."
   ]
  },
  {
   "cell_type": "markdown",
   "id": "88cbe9a1",
   "metadata": {},
   "source": [
    "The **worst-case response time** ($r_i$) is the maximum time between the release of the task and its completion.\n",
    "(Note that this includes the time spent due to interference from other tasks).\n",
    "\n",
    "Clearly, $c_i \\leq r_i$.\n",
    "To meet the deadline, we require $r_i \\leq d_i$.\n"
   ]
  },
  {
   "cell_type": "markdown",
   "id": "6fd85707",
   "metadata": {},
   "source": [
    "### Assumptions\n",
    "\n",
    "1. Tasks are independent of each other\n",
    "    * The tasks are not waiting for other tasks to complete first\n",
    "2. Overhead of scheduling and context switching are negligible\n",
    "3. All task's deadlines are hard deadlines"
   ]
  },
  {
   "cell_type": "markdown",
   "id": "bd50f39f",
   "metadata": {},
   "source": [
    "## Preemptive priority-driven schedule\n",
    "\n",
    "The policy is simply that lower priority tasks that are currently executing gets context switched out once a higher-priority task becomes ready.\n",
    "\n",
    "To assign the priorities, we can either use:\n",
    "* Fixed priority\n",
    "    * Priority does not change over time\n",
    "    * _eg_ rate monotonic scheduling (RMS)\n",
    "* Dynamic priority:\n",
    "    * Priority may change over time\n",
    "    * _eg_ earliest deadline first (EDF)"
   ]
  },
  {
   "cell_type": "markdown",
   "id": "1535455d",
   "metadata": {},
   "source": [
    "### Rate monotonic scheduling\n",
    "\n",
    "The priority is inversely proportional to the task period, _ie_ shorter period tasks gets higher priority.\n",
    "The intuition is straightforwards, processes that needs frequent attention should have higher priority.\n",
    "\n",
    "Therefore, if a process with shorter period becomes ready, then we preempt."
   ]
  },
  {
   "cell_type": "markdown",
   "id": "4c7423f3",
   "metadata": {},
   "source": [
    "#### Hyper period\n",
    "\n",
    "A **hyper period** is the least common multiple of all task periods.\n",
    "\n",
    "Notice that the schedule will repeat every hyper period.\n",
    "Hence, if we simulate the behaviour of the the schedule over 1 hyper period, then the task set is schedulable."
   ]
  },
  {
   "cell_type": "markdown",
   "id": "b2e72664",
   "metadata": {},
   "source": [
    "#### Feasibility and optimality\n",
    "\n",
    "A **feasible schedule** is a schedule that can meet all timing constraints.\n",
    "\n",
    "And a scheduling algorithm is deemed **optimal** if it produces a feasible schedule if one exists."
   ]
  },
  {
   "cell_type": "markdown",
   "id": "3f0d31d2",
   "metadata": {},
   "source": [
    "Note that finding all feasible schedules is difficult, because if there are $N$ task, then there are $N!$ different permutation of priority assignments."
   ]
  },
  {
   "cell_type": "markdown",
   "id": "27113221",
   "metadata": {},
   "source": [
    "It is proven that *if any task set  is schedulable by any fixed priority assignment, then it is schedulable by RMS also*."
   ]
  },
  {
   "cell_type": "markdown",
   "id": "b3612cd1",
   "metadata": {},
   "source": [
    "Hence, to test if any task set is shedulable under fixed priority, we just need to check schedulablity under  RMS."
   ]
  },
  {
   "cell_type": "markdown",
   "id": "bee5e166",
   "metadata": {},
   "source": [
    "## Schedulabiity analysis\n",
    "\n",
    "**Schedulablity analysis** is the method of:\n",
    "* analyzing the system and predicting the worst case behaviour with respec to timings\n",
    "* valdiating that the worst case behaviour meets timing constraints at design time"
   ]
  },
  {
   "cell_type": "markdown",
   "id": "b5008f72",
   "metadata": {},
   "source": [
    "The problem arises, given a task set, how do we know if the task set is schedulable?"
   ]
  },
  {
   "cell_type": "markdown",
   "id": "45670ba7",
   "metadata": {},
   "source": [
    "### Utilization\n",
    "\n",
    "The **utilization** of a periodic task set is the fraction of CPU time spend on execution:\n",
    "$$\n",
    "U = \\sum _i \\frac{c_i}{p_i}\n",
    "$$"
   ]
  },
  {
   "cell_type": "markdown",
   "id": "efb62f4c",
   "metadata": {},
   "source": [
    "Suppose that this is our task set\n",
    "\n",
    "| Task | Execution time | Period |\n",
    "| --- | --- | --- |\n",
    "| 1 | 10ms | 50ms |\n",
    "| 2 | 20ms | 60ms |\n",
    "| 3 | 30ms | 60ms |\n",
    "\n"
   ]
  },
  {
   "cell_type": "markdown",
   "id": "121d91f2",
   "metadata": {},
   "source": [
    "$$\n",
    "U = \\frac{10}{50} + \\frac{20}{60} + \\frac{30}{60} = \\frac{31}{30}\n",
    "$$"
   ]
  },
  {
   "cell_type": "markdown",
   "id": "17be2d1e-5eee-4d72-8441-9bbd113770ef",
   "metadata": {},
   "source": [
    "#### Necessary condition"
   ]
  },
  {
   "cell_type": "markdown",
   "id": "3665fcc6",
   "metadata": {},
   "source": [
    "It is trivial to see that $U \\leq 1$ is a **necessary** condition for any task to be schedulable, otherwise we won't have enough CPU time in a hyper period to complete all tasks."
   ]
  },
  {
   "cell_type": "markdown",
   "id": "5a5b294d",
   "metadata": {},
   "source": [
    "However, $U \\leq 1 $ is not a sufficient condition for the existence of a schedulability **under fixed priority**."
   ]
  },
  {
   "cell_type": "markdown",
   "id": "c729bd93",
   "metadata": {},
   "source": [
    "Consider the below task set:"
   ]
  },
  {
   "cell_type": "markdown",
   "id": "fbcbb25f",
   "metadata": {},
   "source": [
    "| Task | Execution time | Period |\n",
    "| --- | --- | --- |\n",
    "| 1 | 20ms | 50ms |\n",
    "| 2 | 40ms | 70ms |\n",
    "\n"
   ]
  },
  {
   "cell_type": "markdown",
   "id": "3ac27c13",
   "metadata": {},
   "source": [
    "Here, $$U = \\frac{20}{50} + \\frac{40}{70} = \\frac{34}{35} \\leq 1$$"
   ]
  },
  {
   "cell_type": "markdown",
   "id": "82bef494",
   "metadata": {},
   "source": [
    "Now, suppose that task 1 has higher priority."
   ]
  },
  {
   "cell_type": "code",
   "execution_count": 4,
   "id": "240e4d72",
   "metadata": {},
   "outputs": [
    {
     "data": {
      "image/png": "[encoded data removed]",
      "text/plain": [
       "<Figure size 432x288 with 1 Axes>"
      ]
     },
     "metadata": {
      "needs_background": "light"
     },
     "output_type": "display_data"
    }
   ],
   "source": [
    "plt.barh(y=1, width=10, left=[0, 10, 50, 60], label=\"T1\", edgecolor=\"black\")\n",
    "plt.barh(y=1, width=10, left=[20, 30, 40, 70], label=\"T2\", edgecolor=\"black\")\n",
    "plt.annotate(\n",
    "    \"T1 deadline\",\n",
    "    xy=(50, 1.5),\n",
    "    xytext=(50, 1.8),\n",
    "    ha=\"center\",\n",
    "    arrowprops={\"arrowstyle\": \"->\"},\n",
    ")\n",
    "plt.annotate(\n",
    "    \"T2 deadline\",\n",
    "    xy=(70, 1.5),\n",
    "    xytext=(70, 1.8),\n",
    "    ha=\"center\",\n",
    "    arrowprops={\"arrowstyle\": \"->\"},\n",
    ")\n",
    "plt.annotate(\n",
    "    \"Preempt\",\n",
    "    xy=(50, 0.5),\n",
    "    xytext=(50, 0.2),\n",
    "    ha=\"center\",\n",
    "    arrowprops={\"arrowstyle\": \"->\"},\n",
    ")\n",
    "plt.ylim(0, 2)\n",
    "plt.yticks([])\n",
    "plt.legend(loc=\"upper left\")\n",
    "plt.show()"
   ]
  },
  {
   "cell_type": "markdown",
   "id": "69fa7e75",
   "metadata": {},
   "source": [
    "Hence. task 2 failed to meet its deadline, as it only performed 30ms out of its required 40ms."
   ]
  },
  {
   "cell_type": "markdown",
   "id": "269dac7a",
   "metadata": {},
   "source": [
    "Suppose that task 2 has higher priority instead."
   ]
  },
  {
   "cell_type": "code",
   "execution_count": 53,
   "id": "83b4bcfc",
   "metadata": {},
   "outputs": [
    {
     "data": {
      "image/png": "[encoded data removed]",
      "text/plain": [
       "<Figure size 432x288 with 1 Axes>"
      ]
     },
     "metadata": {
      "needs_background": "light"
     },
     "output_type": "display_data"
    }
   ],
   "source": [
    "plt.barh(y=1, width=10, left=[0, 10, 20, 30], label=\"T2\", edgecolor=\"black\")\n",
    "plt.barh(y=1, width=10, left=[40, 50], label=\"T1\", edgecolor=\"black\")\n",
    "plt.annotate(\n",
    "    \"T1 deadline\",\n",
    "    xy=(50, 1.5),\n",
    "    xytext=(50, 1.8),\n",
    "    ha=\"center\",\n",
    "    arrowprops={\"arrowstyle\": \"->\"},\n",
    ")\n",
    "plt.ylim(0, 2)\n",
    "plt.yticks([])\n",
    "plt.legend(loc=\"upper left\")\n",
    "plt.show()"
   ]
  },
  {
   "cell_type": "markdown",
   "id": "0d89be72",
   "metadata": {},
   "source": [
    "Now, task 1 failed to meet its deadline.\n",
    "\n",
    "Thus, the task set is not schedulable using fixed priority, despite $U \\leq 1$."
   ]
  },
  {
   "cell_type": "markdown",
   "id": "5eba57da-f5f1-4831-bda0-ad079a07d427",
   "metadata": {},
   "source": [
    "#### Sufficient condition"
   ]
  },
  {
   "cell_type": "markdown",
   "id": "197f2aec",
   "metadata": {},
   "source": [
    "Given a task set with $n$ tasks, if \n",
    "$$\n",
    "U \\leq n \\left(2^{\\frac{1}{n}} - 1\\right)\n",
    "$$,\n",
    "then it is schedulable under fixed priority."
   ]
  },
  {
   "cell_type": "markdown",
   "id": "08750d81",
   "metadata": {},
   "source": [
    "Note that this is a sufficient (but **not necessary**) condition."
   ]
  },
  {
   "cell_type": "markdown",
   "id": "ad5f7ef2",
   "metadata": {},
   "source": [
    "Given the following task set:"
   ]
  },
  {
   "cell_type": "markdown",
   "id": "c6485370",
   "metadata": {},
   "source": [
    "| Task | Execution time | Period |\n",
    "| --- | --- | --- |\n",
    "| 1 | 10ms | 20ms |\n",
    "| 2 | 10ms | 30ms |"
   ]
  },
  {
   "cell_type": "markdown",
   "id": "4f795923",
   "metadata": {},
   "source": [
    "$$\n",
    "U = \\frac{10}{20} + \\frac{10}{30} = \\frac{5}{6} \\approx 0.833 >  2 \\left( 2 ^\\frac{1}{2} - 1 \\right) \\approx 0.828\n",
    "$$"
   ]
  },
  {
   "cell_type": "markdown",
   "id": "aad22aff",
   "metadata": {},
   "source": [
    "Hence, the task set does not satisfy the condition."
   ]
  },
  {
   "cell_type": "code",
   "execution_count": 6,
   "id": "56b5f952",
   "metadata": {},
   "outputs": [
    {
     "data": {
      "image/png": "[encoded data removed]",
      "text/plain": [
       "<Figure size 432x288 with 1 Axes>"
      ]
     },
     "metadata": {
      "needs_background": "light"
     },
     "output_type": "display_data"
    }
   ],
   "source": [
    "plt.barh(y=1, width=10, left=[0, 20, 40], label=\"T1\", edgecolor=\"black\")\n",
    "plt.barh(y=1, width=10, left=[10, 30], label=\"T2\", edgecolor=\"black\")\n",
    "plt.annotate(\n",
    "    \"T1 \\n deadline\",\n",
    "    xy=(20, 1.5),\n",
    "    xytext=(20, 1.8),\n",
    "    ha=\"center\",\n",
    "    arrowprops={\"arrowstyle\": \"->\"},\n",
    ")\n",
    "plt.annotate(\n",
    "    \"T1 \\n deadline\",\n",
    "    xy=(40, 1.5),\n",
    "    xytext=(40, 1.8),\n",
    "    ha=\"center\",\n",
    "    arrowprops={\"arrowstyle\": \"->\"},\n",
    ")\n",
    "plt.annotate(\n",
    "    \"T2 \\n deadline\",\n",
    "    xy=(30, 1.5),\n",
    "    xytext=(30, 1.8),\n",
    "    ha=\"center\",\n",
    "    arrowprops={\"arrowstyle\": \"->\"},\n",
    ")\n",
    "plt.annotate(\n",
    "    \"End of hyper-period\",\n",
    "    xy=(60, 1.5),\n",
    "    xytext=(60, 1.8),\n",
    "    ha=\"center\",\n",
    "    arrowprops={\"arrowstyle\": \"->\"},\n",
    ")\n",
    "plt.ylim(0, 2)\n",
    "plt.xlim(0, 70)\n",
    "plt.yticks([])\n",
    "plt.legend(loc=\"upper left\")\n",
    "plt.show()"
   ]
  },
  {
   "cell_type": "markdown",
   "id": "8920f7a4-a1a7-4885-8529-f0623688feb0",
   "metadata": {},
   "source": [
    "However, the task set is still schedulable, as per above."
   ]
  },
  {
   "cell_type": "markdown",
   "id": "956a3d5c",
   "metadata": {},
   "source": [
    "### Critical instant\n",
    "\n",
    "A **critical instant** is the time when the release of the task will produce the largest response time, while the **critical instance** is the task which is released."
   ]
  },
  {
   "cell_type": "markdown",
   "id": "c92c4eeb",
   "metadata": {},
   "source": [
    "$Theorem:$ A critical instant for any tasks occurs when it is released at the same time as the release of all higher priority tasks."
   ]
  },
  {
   "cell_type": "markdown",
   "id": "298df7eb",
   "metadata": {},
   "source": [
    "Hence, the worst-case response time of task $i$ is simply the sum of the time spent on processing higher priority tasks (**interference**) and $c_i$.\n",
    "And for the task set to be schedulable, $r_i$ at its critical instant must be at most its deadline $d_i$."
   ]
  },
  {
   "cell_type": "markdown",
   "id": "79ed9cf3",
   "metadata": {},
   "source": [
    "We now consider the naive approach of considering the number of higher priority tasks released in a period of the critical instance."
   ]
  },
  {
   "cell_type": "markdown",
   "id": "fc72fb66",
   "metadata": {},
   "source": [
    "Suppose we have the following task set:"
   ]
  },
  {
   "cell_type": "markdown",
   "id": "817a2369",
   "metadata": {},
   "source": [
    "| Task | Execution time | Period |\n",
    "| --- | --- | --- |\n",
    "| 1 | 40ms | 100ms |\n",
    "| 2 | 40ms | 150ms |\n",
    "| 3 | 100ms | 350ms |"
   ]
  },
  {
   "cell_type": "markdown",
   "id": "c1f95703",
   "metadata": {},
   "source": [
    "We now take task 3 as our critical instance."
   ]
  },
  {
   "cell_type": "markdown",
   "id": "525bad6f",
   "metadata": {},
   "source": [
    "Task 1 will be released 4 times and task 2 will be released 3 times before $t=350$.\n",
    "Hence, the total interference $4(40) + 3(40) = 280ms$.\n",
    "Thus, the worst-case response time at the critical instant is $r_i = 280 + 100 = 380 > 350$.\n",
    "However, when we look at the schedule:"
   ]
  },
  {
   "cell_type": "code",
   "execution_count": 7,
   "id": "8332886c",
   "metadata": {},
   "outputs": [
    {
     "data": {
      "image/png": "[encoded data removed]",
      "text/plain": [
       "<Figure size 432x288 with 1 Axes>"
      ]
     },
     "metadata": {
      "needs_background": "light"
     },
     "output_type": "display_data"
    }
   ],
   "source": [
    "plt.barh(\n",
    "    y=1,\n",
    "    width=10,\n",
    "    left=[j * 10 + i * 100 for j in range(4) for i in range(4)],\n",
    "    label=\"T2\",\n",
    "    edgecolor=\"black\",\n",
    ")\n",
    "plt.barh(\n",
    "    y=1,\n",
    "    width=10,\n",
    "    left=[j * 10 + i for j in range(4) for i in [40, 150, 340]],\n",
    "    label=\"T2\",\n",
    "    edgecolor=\"black\",\n",
    ")\n",
    "plt.barh(\n",
    "    y=0,\n",
    "    width=10,\n",
    "    left=[80, 90, 140, 190, 240, 250, 260, 270, 280, 290],\n",
    "    label=\"T3\",\n",
    "    edgecolor=\"black\",\n",
    ")\n",
    "plt.annotate(\n",
    "    \"T3 deadline\",\n",
    "    xy=(350, 0.5),\n",
    "    xytext=(350, 0),\n",
    "    ha=\"center\",\n",
    "    arrowprops={\"arrowstyle\": \"->\"},\n",
    ")\n",
    "plt.annotate(\n",
    "    \"T3 complete\",\n",
    "    xy=(300, -0.4),\n",
    "    xytext=(300, -0.8),\n",
    "    ha=\"center\",\n",
    "    arrowprops={\"arrowstyle\": \"->\"},\n",
    ")\n",
    "plt.yticks([])\n",
    "plt.ylim(-1, 2.4)\n",
    "plt.legend(loc=\"upper left\")\n",
    "plt.show()"
   ]
  },
  {
   "cell_type": "markdown",
   "id": "cbb82749",
   "metadata": {},
   "source": [
    "Task 3 is able to complete before its deadline.\n",
    "Our analysis was wrong because task 1 and 2 were released another time between the time of task 3 completion and its next release, which made us over-count the amount of interference."
   ]
  },
  {
   "cell_type": "markdown",
   "id": "707ed2fe",
   "metadata": {},
   "source": [
    "To refine our analysis, we should check if the capacity can accommodate the demand any instant right before a new task is released.\n",
    "If it does, then our task is can meet its deadline.\n",
    "\n",
    "Moving back to our example, the points would be $t = 100, 150, 200, 300, 350$."
   ]
  },
  {
   "cell_type": "markdown",
   "id": "3935cef5",
   "metadata": {},
   "source": [
    "| t| capacity| demand | is enough | \n",
    "| --- | --- | --- | --- | \n",
    "| 100 | 100 | 40 + 40 + 100 = 180 | no |\n",
    "| 150 | 150 | 180 + 40 = 220 | no | \n",
    "| 200 | 200 | 220 + 40 = 260 | no |\n",
    "| 300 | 300 | 260 + 40 = 300 | yes |"
   ]
  },
  {
   "cell_type": "markdown",
   "id": "64742943",
   "metadata": {},
   "source": [
    "Hence, it agrees with our scheduling chart, where task 3 meets its deadline at $t=300$."
   ]
  },
  {
   "cell_type": "markdown",
   "id": "84d813bb",
   "metadata": {},
   "source": [
    "Formally, this is defined as:\n",
    "$$\n",
    "w_i(t) = \\sum _{k=1} ^i c_k \\times \\left \\lceil\\frac{t}{p_k}\\right \\rceil \n",
    "$$"
   ]
  },
  {
   "cell_type": "markdown",
   "id": "c481d74f",
   "metadata": {},
   "source": [
    "And we require that\n",
    "$$\n",
    "w_i(t) \\leq t \\quad \\exists  t = k p_j, 1 \\leq j \\leq i, 1 \\leq k \\leq \\left\\lfloor \\frac{p_i}{p_j} \\right\\rfloor\n",
    "$$"
   ]
  },
  {
   "cell_type": "markdown",
   "id": "476584a8",
   "metadata": {},
   "source": [
    "If and only if the above is true, then task $i$ is **RM-schedulable**."
   ]
  },
  {
   "cell_type": "markdown",
   "id": "7be2a37e",
   "metadata": {},
   "source": [
    "## Earliest deadline first (EDF)\n",
    "\n",
    "This is a **dynamic priority** scheduling scheme.\n",
    "At any instant, the task with the earliest deadline has the highest priority\n",
    "\n",
    "Note that we only need to reassign the priority of the tasks at the instants where a new task is released."
   ]
  },
  {
   "cell_type": "markdown",
   "id": "a2c71988",
   "metadata": {},
   "source": [
    "### Properties\n",
    "\n",
    "EDF is **optimal**, hence it will always produces a feasible schedule, if one exists.\n",
    "\n",
    "Hence, it will produces a feasible schedule if and only if $U \\leq 1$."
   ]
  },
  {
   "cell_type": "markdown",
   "id": "dd0e7305",
   "metadata": {},
   "source": [
    "### RMS vs EDF\n",
    "\n",
    "| RMS | EDF |\n",
    "| :--- | :--- |\n",
    "| Simpler implementation | More complex implementation |\n",
    "| Worse utilization | Full utilization of CPU |\n",
    "| Not as good at aperiodic events | Good for aperiodic events |"
   ]
  },
  {
   "cell_type": "markdown",
   "id": "6b99a516",
   "metadata": {},
   "source": [
    "## Cyclic executive\n",
    "\n",
    "For RMS and EDF, we were concerned with tasks that can be released at any time after its period elapsed.\n",
    "What if our task set is released on a fixed schedule and is known beforehand?"
   ]
  },
  {
   "cell_type": "markdown",
   "id": "587e0790",
   "metadata": {},
   "source": [
    "Then, we can utilize the **cyclic executive** for a much simpler implementation."
   ]
  },
  {
   "cell_type": "markdown",
   "id": "7f39772c",
   "metadata": {},
   "source": [
    "We can produce an **offline** static schedule for a hyper-period which can meet all the deadlines.\n",
    "This means we don't incur the overhead of scheduling and context switching."
   ]
  },
  {
   "cell_type": "markdown",
   "id": "4ddd1b2b",
   "metadata": {},
   "source": [
    "### Major cycle\n",
    "\n",
    "This is synonymous with a hyper-period\n",
    "\n",
    "### Minor cycle\n",
    "\n",
    "A major cycle will be split into minor cycles.\n",
    "\n",
    "The length of a minor cycle is equal the the [GCD](../discrete_structures/integers.ipynb#Greatest-common-divisor) of the task periods."
   ]
  },
  {
   "cell_type": "markdown",
   "id": "2f0c3dbb",
   "metadata": {},
   "source": [
    "The cyclic executive repeats the schedule every major cycle."
   ]
  },
  {
   "cell_type": "markdown",
   "id": "ebc12cdd",
   "metadata": {},
   "source": [
    "Within the major cycles, the minor cycles are the synchronization points."
   ]
  },
  {
   "cell_type": "markdown",
   "id": "27e89587",
   "metadata": {},
   "source": [
    "Suppose that we are given the following task set:"
   ]
  },
  {
   "cell_type": "markdown",
   "id": "b28017e0",
   "metadata": {},
   "source": [
    "| Task | Execution time | Period |\n",
    "| --- | --- | --- |\n",
    "| 1 | 9ms | 20ms |\n",
    "| 2 | 8ms | 40ms |\n",
    "| 3 | 8ms | 40ms |\n",
    "| 4 | 2ms | 80ms |"
   ]
  },
  {
   "cell_type": "markdown",
   "id": "df58b594",
   "metadata": {},
   "source": [
    "Then, the major cycle is length $80ms$, while the minor cycle is length $20ms$."
   ]
  },
  {
   "cell_type": "code",
   "execution_count": 8,
   "id": "75845b9d",
   "metadata": {},
   "outputs": [
    {
     "data": {
      "image/png": "[encoded data removed]",
      "text/plain": [
       "<Figure size 432x288 with 1 Axes>"
      ]
     },
     "metadata": {
      "needs_background": "light"
     },
     "output_type": "display_data"
    }
   ],
   "source": [
    "plt.barh(\n",
    "    y=1,\n",
    "    width=1,\n",
    "    left=[j + i for j in range(9) for i in range(0, 80, 20)],\n",
    "    label=\"T1\",\n",
    "    edgecolor=\"black\",\n",
    ")\n",
    "plt.barh(\n",
    "    y=1,\n",
    "    width=1,\n",
    "    left=[j + i for j in range(8) for i in range(9, 80, 40)],\n",
    "    label=\"T2\",\n",
    "    edgecolor=\"black\",\n",
    ")\n",
    "plt.barh(\n",
    "    y=1,\n",
    "    width=1,\n",
    "    left=[j + i for j in range(8) for i in range(29, 80, 40)],\n",
    "    label=\"T3\",\n",
    "    edgecolor=\"black\",\n",
    ")\n",
    "plt.barh(y=1, width=1, left=[17, 18], label=\"T3\", edgecolor=\"black\")\n",
    "plt.vlines([i for i in range(0, 81, 20)], ymin=0, ymax=2)\n",
    "plt.yticks([])\n",
    "plt.ylim(0, 2)\n",
    "plt.legend(loc=\"upper left\")\n",
    "plt.show()"
   ]
  },
  {
   "cell_type": "markdown",
   "id": "14e15d7b",
   "metadata": {},
   "source": [
    "Notice that there are gaps in the schedule, which are the periods where the CPU has completed all its tasks and is waiting for new tasks to be released.\n",
    "These are the points of synchronization."
   ]
  },
  {
   "cell_type": "markdown",
   "id": "6079a1e4",
   "metadata": {},
   "source": [
    "The pseudo-code would be as below:"
   ]
  },
  {
   "cell_type": "markdown",
   "id": "2f430840-29b2-467c-ba2d-df5b2d0a118d",
   "metadata": {},
   "source": [
    "``` python\n",
    "while True:\n",
    "    wait_for_interrupt()\n",
    "    task1()\n",
    "    task2()\n",
    "    task4()\n",
    "    \n",
    "    wait_for_interrupt()\n",
    "    task1()\n",
    "    task3()\n",
    "    \n",
    "    wait_for_interrupt()\n",
    "    task1()\n",
    "    task2()\n",
    "    \n",
    "    wait_for_interrupt()\n",
    "    task1()\n",
    "    task3()\n",
    "```"
   ]
  },
  {
   "cell_type": "markdown",
   "id": "2a8500e2",
   "metadata": {},
   "source": [
    "### Advantages\n",
    "\n",
    "This have some clear advantages over the previous approaches, namely:\n",
    "* No preemption overhead\n",
    "* All procedure can share address space because there is no concurrent access\n",
    "* Implementation is straightforward"
   ]
  }
 ],
 "metadata": {
  "kernelspec": {
   "display_name": "Python 3 (ipykernel)",
   "language": "python",
   "name": "python3"
  },
  "language_info": {
   "codemirror_mode": {
    "name": "ipython",
    "version": 3
   },
   "file_extension": ".py",
   "mimetype": "text/x-python",
   "name": "python",
   "nbconvert_exporter": "python",
   "pygments_lexer": "ipython3",
   "version": "3.10.4"
  }
 },
 "nbformat": 4,
 "nbformat_minor": 5
}
