{
 "cells": [
  {
   "cell_type": "markdown",
   "id": "05cf631f",
   "metadata": {},
   "source": [
    "# Real-time software architecture"
   ]
  },
  {
   "cell_type": "markdown",
   "id": "41ae773e",
   "metadata": {},
   "source": [
    "Software architecture simply refers to structure of the software that is being designed."
   ]
  },
  {
   "cell_type": "markdown",
   "id": "de85592d",
   "metadata": {},
   "source": [
    "To comply with the real-time requirements, the following software architectures are possible."
   ]
  },
  {
   "cell_type": "markdown",
   "id": "a0785fe6",
   "metadata": {
    "tags": []
   },
   "source": [
    "## Simple polled loop\n",
    "\n",
    "This is simply a repeated testing of a flag to check whether an event occurred.\n"
   ]
  },
  {
   "cell_type": "markdown",
   "id": "81bf6649-26cf-4110-94ae-a260ec5b0778",
   "metadata": {},
   "source": [
    "``` python\n",
    "while True:\n",
    "    if ok:\n",
    "        task1()\n",
    "```"
   ]
  },
  {
   "cell_type": "markdown",
   "id": "8d79a892",
   "metadata": {},
   "source": [
    "| Ideal condition | Cons |\n",
    "| :--- | :--- |\n",
    "| CPU is dedicated to handling the I/O for some fast device | Fails when there is a burst of events |\n",
    "| Overlapping of events don't occur | Unable to handle complex systems |\n",
    "| | Waste CPU time on polling (especially with infrequent events) |"
   ]
  },
  {
   "cell_type": "markdown",
   "id": "436eab2c",
   "metadata": {},
   "source": [
    "## Round robin"
   ]
  },
  {
   "cell_type": "markdown",
   "id": "64224765-2dca-4cba-a57b-0b111c6e9ea9",
   "metadata": {},
   "source": [
    "A set of $n$ self-contained tasks.\n",
    "The all tasks are processed at the same frequency.\n",
    "\n",
    "``` python\n",
    "while True:\n",
    "    if flag1:\n",
    "        task1()\n",
    "    if flag2:\n",
    "        task2()\n",
    "    if flag3:\n",
    "        task3()\n",
    "```"
   ]
  },
  {
   "cell_type": "markdown",
   "id": "e189e240-e259-4027-89d8-b90c18b0bdb1",
   "metadata": {},
   "source": [
    "### Changing cycle rates\n",
    "\n",
    "To modify the cycle rates, we can repeat the task multiple times in the same cycle.\n",
    "This way, we have some task which are run more often than others.\n",
    "\n",
    "``` python\n",
    "while True:\n",
    "    task1()\n",
    "    task2()\n",
    "    task3()\n",
    "    task2()\n",
    "```    "
   ]
  },
  {
   "cell_type": "markdown",
   "id": "e008af59",
   "metadata": {},
   "source": [
    "| Ideal condition| Cons |\n",
    "| :--- | :--- |\n",
    "| There are few devices| Fails when some device has a deadline that is shorter than the time needed to process the whole loop |\n",
    "| Frequency of servicing each device is same | Rather fragile, adding another device can easily violate the deadline of some task |\n",
    "| Tasks are short | |\n",
    "| No tight time requirements | "
   ]
  },
  {
   "cell_type": "markdown",
   "id": "d4b48e03",
   "metadata": {},
   "source": [
    "## Round robin with interrupts"
   ]
  },
  {
   "cell_type": "markdown",
   "id": "659f1196-bdb1-4b46-aca7-8481488bd049",
   "metadata": {},
   "source": [
    "ISR read the device status and sets a flag.\n",
    "The main loop with the poll on these flags and perform relevant actions if the flag is set.\n",
    "\n",
    "``` python\n",
    "flag1, flag2 = False, False\n",
    "\n",
    "while True:\n",
    "    if flag1:\n",
    "        flag1 = False\n",
    "        task1()\n",
    "    if flag2:\n",
    "        flag2 = False\n",
    "        task2()\n",
    "\n",
    "def ISR1():\n",
    "    flag1 = True\n",
    "    \n",
    "def ISR2():\n",
    "    flag2 = True\n",
    "```\n",
    "\n",
    "This has improvements over round robin, because we immediately attend to the device that requires attention.\n",
    "It also gives more flexibility."
   ]
  },
  {
   "cell_type": "markdown",
   "id": "9ba3dae8",
   "metadata": {},
   "source": [
    "However, it is possible that some high priority task (`task2`) becomes blocked because we are processing a lower priority task (`task1`)."
   ]
  },
  {
   "cell_type": "markdown",
   "id": "6c075220-cc02-4f13-aba3-09b42b581815",
   "metadata": {},
   "source": [
    "## Function queue scheduling\n",
    "\n",
    "This is similar to round robin with interrupt, but we use a pointer to a function instead of a flag.\n",
    "Then, we push these pointers to a queue when a device is ready.\n",
    "\n",
    "``` python\n",
    "func_queue = [] # can be a priority queue to allow prioritizing of tasks\n",
    "\n",
    "while True:\n",
    "    for task in func_queue:\n",
    "        task()\n",
    "    func_queue = []\n",
    "\n",
    "def ISR1():\n",
    "    func_queue.push(task1)\n",
    "    \n",
    "def ISR2():\n",
    "    func_queue.push(task2)\n",
    "```    "
   ]
  },
  {
   "cell_type": "markdown",
   "id": "75cb173e-8786-480f-b933-4e1b2e27582c",
   "metadata": {},
   "source": [
    "It allows us to implement some priority system into the task, but still suffers the same issue as round robin with interrupts."
   ]
  },
  {
   "cell_type": "markdown",
   "id": "f6ce7cd8",
   "metadata": {},
   "source": [
    "## Real-time operation system\n",
    "\n",
    "RTOS provides an infrastructure to handle multiple tasks, using task scheduling and dispatching."
   ]
  },
  {
   "cell_type": "markdown",
   "id": "2e66e444",
   "metadata": {},
   "source": [
    "| Pros | Cons |\n",
    "| :--- | :--- |\n",
    "| Provides a clean and convenient way to control complex applications | Is relatively huge and must be customized |\n",
    "| Audited to be reliable | |"
   ]
  }
 ],
 "metadata": {
  "kernelspec": {
   "display_name": "Python 3 (ipykernel)",
   "language": "python",
   "name": "python3"
  },
  "language_info": {
   "codemirror_mode": {
    "name": "ipython",
    "version": 3
   },
   "file_extension": ".py",
   "mimetype": "text/x-python",
   "name": "python",
   "nbconvert_exporter": "python",
   "pygments_lexer": "ipython3",
   "version": "3.10.4"
  },
  "toc-autonumbering": false,
  "toc-showmarkdowntxt": false
 },
 "nbformat": 4,
 "nbformat_minor": 5
}
