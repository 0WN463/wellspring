{
 "cells": [
  {
   "cell_type": "markdown",
   "id": "2861579f",
   "metadata": {},
   "source": [
    "# Task management\n",
    "\n",
    "A **task/process** is a program that is being executed.\n",
    "\n",
    "**Program**: A static entity in the form of an executable file\n",
    "\n",
    "**Process**: A dynamic entity that captures the notion of a program execution\n",
    "\n"
   ]
  },
  {
   "cell_type": "markdown",
   "id": "8769cefb",
   "metadata": {},
   "source": [
    "We use the process model because it simplifies design since system design is performed at the process level, which is a clean level of abstraction."
   ]
  },
  {
   "cell_type": "markdown",
   "id": "f22b2770",
   "metadata": {},
   "source": [
    "Process control block (PCB) keeps the information of each process:\n",
    "* Pointer\n",
    "* Process state\n",
    "* Process number (PID)\n",
    "* Program counter (pointer to next instruction)\n",
    "* CPU registers\n",
    "* Memory management info\n",
    "* Info about open files"
   ]
  },
  {
   "cell_type": "markdown",
   "id": "a4957a67",
   "metadata": {},
   "source": [
    "In multi-programmed systems, each process has its own PCB in the memory."
   ]
  },
  {
   "cell_type": "markdown",
   "id": "4f6ab452",
   "metadata": {},
   "source": [
    "## Process state\n",
    "\n",
    "As a process executes, its state will change, and will be one of the following:\n",
    "* created: Immediately after creation\n",
    "* running: Instructions are being ran\n",
    "* blocked/waiting: Process is waiting for some event to occur\n",
    "* ready: Process is ready to be assigned to CPU\n",
    "* terminated: Process has completed execution"
   ]
  },
  {
   "cell_type": "markdown",
   "id": "3f04c6b4",
   "metadata": {},
   "source": [
    "The following is the [finite-state machine](../digital_design/finite_state_machine.ipynb) of the process state:"
   ]
  },
  {
   "cell_type": "code",
   "execution_count": 1,
   "id": "28c0e9b8-4edc-4882-95be-0588fdf1d2b6",
   "metadata": {},
   "outputs": [],
   "source": [
    "import networkx as nx\n",
    "import matplotlib.pyplot as plt\n",
    "\n",
    "G = nx.DiGraph()\n",
    "G.add_node(\"created\", pos=(0, 0))\n",
    "G.add_node(\"ready\", pos=(2, 0))\n",
    "G.add_node(\"blocked\", pos=(3, 1))\n",
    "G.add_node(\"running\", pos=(4, 0))\n",
    "G.add_node(\"terminated\", pos=(6, 0))\n",
    "G.add_edge(\"created\", \"ready\")\n",
    "G.add_edge(\"ready\", \"running\")\n",
    "G.add_edge(\"running\", \"ready\")\n",
    "G.add_edge(\"blocked\", \"ready\")\n",
    "G.add_edge(\"running\", \"blocked\")\n",
    "G.add_edge(\"running\", \"terminated\")"
   ]
  },
  {
   "cell_type": "code",
   "execution_count": 2,
   "id": "a50717a6-03fe-4305-8d42-ae68b1903678",
   "metadata": {},
   "outputs": [
    {
     "data": {
      "image/png": "[encoded data removed]",
      "text/plain": [
       "<Figure size 432x288 with 1 Axes>"
      ]
     },
     "metadata": {},
     "output_type": "display_data"
    }
   ],
   "source": [
    "pos = nx.get_node_attributes(G, 'pos')\n",
    "nx.draw(G, pos, with_labels=True, node_size=4500, connectionstyle=\"arc3,rad=0.2\" )\n",
    "plt.xlim(-1, 7)\n",
    "plt.ylim(-0.5, 1.5)\n",
    "plt.show()"
   ]
  },
  {
   "cell_type": "markdown",
   "id": "7571b347",
   "metadata": {},
   "source": [
    "### Created\n",
    "\n",
    "This is the initial state of the process, after the OS initialize the PCB of the process.\n",
    "It does not compete for CPU with other processes."
   ]
  },
  {
   "cell_type": "markdown",
   "id": "2b362567",
   "metadata": {},
   "source": [
    "### Ready\n",
    "it is willing to execute, and thus is competing for CPU with other processes, however there is no available processor to execute it.\n",
    "\n",
    "### Running\n",
    "A processor can only have 1 running process at a time.\n",
    "Transition from ready to running is controlled by OS scheduler."
   ]
  },
  {
   "cell_type": "markdown",
   "id": "671d5122",
   "metadata": {},
   "source": [
    "### Blocked\n",
    "\n",
    "Process does not compete for CPU when blocked."
   ]
  },
  {
   "cell_type": "markdown",
   "id": "bb50355c-c08a-40fc-8ce3-aa3509784b86",
   "metadata": {},
   "source": [
    "### Terminated\n",
    "\n",
    "Process can no longer be executed.\n",
    "\n",
    "PCB still available to other processes to examine the info on it, _eg_ to determine what is the cause of termination.\n"
   ]
  },
  {
   "cell_type": "markdown",
   "id": "b6a969a7-e2bc-43de-8a07-e612f1adf865",
   "metadata": {},
   "source": [
    "The PCB will eventually be removed from the system."
   ]
  },
  {
   "cell_type": "markdown",
   "id": "7ff88f2c-f212-4a6b-a7bd-71c9edd48aa2",
   "metadata": {},
   "source": [
    "## Transitions"
   ]
  },
  {
   "cell_type": "markdown",
   "id": "51c5c2be-3a3b-4cff-bb2d-4fda1f8a4d9a",
   "metadata": {},
   "source": [
    "### Running $\\to$ Ready\n",
    "\n",
    "This could be caused by:\n",
    "* Preemption\n",
    "    * Involuntary\n",
    "    * OS scheduler forces the process to relinquish the processor\n",
    "* Yield\n",
    "    * Voluntary\n",
    "    * Process itself asks the OS to reconsider scheduling decision, and willingly hands over the processor to another process"
   ]
  },
  {
   "cell_type": "markdown",
   "id": "6df2020b-64ec-4e0f-8718-89a7a018262f",
   "metadata": {},
   "source": [
    "### Ready $\\to$ Blocked\n",
    "Could be due to:\n",
    "* Awaiting for I/O completion\n",
    "* Synchronization with other processes\n",
    "* Communication with other processes"
   ]
  },
  {
   "cell_type": "markdown",
   "id": "1b5a5eee-4938-40fb-a3e3-3eeb1d6d5435",
   "metadata": {},
   "source": [
    "### Blocked $\\to$ Ready\n",
    "\n",
    "For I/O events, the ISR moves the process into the ready state.\n",
    "\n",
    "For synchronization/communication, the OS moves the process to the ready state."
   ]
  },
  {
   "cell_type": "markdown",
   "id": "4c555ae4",
   "metadata": {},
   "source": [
    "### Running $\\to$ Terminated\n",
    "Voluntary: Process complete execution and is no longer needed\n",
    "\n",
    "Involuntary: Process encounters unrecoverable error."
   ]
  },
  {
   "cell_type": "markdown",
   "id": "51181800",
   "metadata": {},
   "source": [
    "## Context switch\n",
    "\n",
    "When a CPU switches to another process, the system must save the context of the old process and load the context for the new process.\n",
    "\n",
    "The context switch has an overhead time associated with it."
   ]
  },
  {
   "cell_type": "markdown",
   "id": "524582f9",
   "metadata": {},
   "source": [
    "In a system, usually most tasks are in blocked state and waiting for some event to occur."
   ]
  },
  {
   "cell_type": "markdown",
   "id": "fe54833a",
   "metadata": {},
   "source": [
    "Once an event occurs, then it triggers the interrupt.\n",
    "The ISR then cause some tasks to be unblocked."
   ]
  },
  {
   "cell_type": "markdown",
   "id": "0354542b",
   "metadata": {},
   "source": [
    "## CPU scheduler\n",
    "\n",
    "CPU scheduler is responsible for deciding:\n",
    "* which process should be executed at any given time by the CPUs\n",
    "* how long each process should be allowed to execute\n",
    "\n",
    "CPU scheduling decisions may occur when a process changes state."
   ]
  },
  {
   "cell_type": "markdown",
   "id": "fb6568bb",
   "metadata": {},
   "source": [
    "### Preemptive vs non-preemptive\n",
    "\n",
    "Non-preemptive: once a CPU is allocated to a process, the process keeps the CPU until it voluntarily relinquishes it.\n",
    "\n",
    "Preemptive: the CPU can be relinquished from the process by the OS at any time."
   ]
  },
  {
   "cell_type": "markdown",
   "id": "16ce7ce6",
   "metadata": {},
   "source": [
    "## Threads\n",
    "\n",
    "Thus far, each process has a single flow of control.\n",
    "\n",
    "Multi-threading: Multiple flow of control within a single process. These flows of controls are known as **thread**."
   ]
  },
  {
   "cell_type": "markdown",
   "id": "d5531e05",
   "metadata": {},
   "source": [
    "A thread is a basic unit of CPU utilization, consisting of:\n",
    "* a thread ID\n",
    "* program counter\n",
    "* register set\n",
    "* stack space\n"
   ]
  },
  {
   "cell_type": "markdown",
   "id": "0255081e",
   "metadata": {},
   "source": [
    "Each thread in the same process shares the following with its peer threads:\n",
    "* code section\n",
    "* data section\n",
    "* OS resources\n",
    "\n",
    "Hence, threads can be thought of another way of doing multiple things at once, at the layer below multi-processing."
   ]
  }
 ],
 "metadata": {
  "kernelspec": {
   "display_name": "Python 3 (ipykernel)",
   "language": "python",
   "name": "python3"
  },
  "language_info": {
   "codemirror_mode": {
    "name": "ipython",
    "version": 3
   },
   "file_extension": ".py",
   "mimetype": "text/x-python",
   "name": "python",
   "nbconvert_exporter": "python",
   "pygments_lexer": "ipython3",
   "version": "3.10.4"
  }
 },
 "nbformat": 4,
 "nbformat_minor": 5
}
