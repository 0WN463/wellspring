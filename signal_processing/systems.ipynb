{
 "cells": [
  {
   "cell_type": "markdown",
   "id": "1c871cfc",
   "metadata": {},
   "source": [
    "# Systems\n",
    "\n",
    "We will now discuss the concept of systems.\n",
    "Physical system is an interconnection of components, which consists of systems that are for communication, electrical, chemical and mechanical.\n",
    "\n",
    "They are related to signals because a system would take an signal (excitation) as an input and produce another signal as output (response).\n",
    "As an abstraction, we can treat the system as mapping $T$, which produces input $y(t)$ from $x(t)$, as follows:\n",
    "$$\n",
    "y(t) = T\\left[ x(t) \\right]\n",
    "$$"
   ]
  },
  {
   "cell_type": "markdown",
   "id": "7e95267a",
   "metadata": {},
   "source": [
    "## Classification of systems\n"
   ]
  },
  {
   "cell_type": "markdown",
   "id": "d436292a",
   "metadata": {},
   "source": [
    "### With memory vs without memory\n",
    "\n",
    "A **memoryless/static** system's instantaneous output is dependent only on the input at that time.\n",
    "Otherwise, the system is said to **have memory/dynamic**.\n"
   ]
  },
  {
   "cell_type": "markdown",
   "id": "ca09d451",
   "metadata": {},
   "source": [
    "Imagine a simple circuit containing a resistor and a power source, and we are interesting in the voltage across it.\n",
    "Clearly, the voltage is only dependent on the output of the power source and hence it is static.\n",
    "\n",
    "However, suppose that now we include a capacitor.\n",
    "Since the voltage now depends on the charge on the capacitor at any given time, the voltage now also depends on the charge of the capacitor, which is not dependent on the instantaneous output of the power source.\n",
    "Hence, the system is now dynamic."
   ]
  },
  {
   "cell_type": "markdown",
   "id": "88704dfb",
   "metadata": {},
   "source": [
    "### Causal vs non-causal\n",
    "\n",
    "A **non-casual/non-anticipative** system produces output only based on the current and/or past input values.\n",
    "This means that they won't produce any output until it is fed some input.\n",
    "\n",
    "A **causal/anticipative** system produces output that depends on future value of the input.\n",
    "For example, $y(t) = x(t+2)$ is causal because it requires input value that are $2$ steps in the future."
   ]
  },
  {
   "cell_type": "markdown",
   "id": "b266d195",
   "metadata": {},
   "source": [
    "### Stable vs unstable"
   ]
  },
  {
   "cell_type": "markdown",
   "id": "43b02cae",
   "metadata": {},
   "source": [
    "A bounded input $x(t)$ is defined as:\n",
    "$$\n",
    "x(t) < K \\quad \\forall t\n",
    "$$\n",
    "where $K$ is some finite positive constant.\n",
    "A bounded output is defined similarly.\n",
    "\n",
    "A **bounded-input bounded-output stable** system, when given some bounded input, will produce an unbounded output."
   ]
  },
  {
   "cell_type": "markdown",
   "id": "5a26e9bc",
   "metadata": {},
   "source": [
    "An **unstable** system will produce an unbounded output for some bounded input.\n",
    "For example, typical PA systems are unstable, because it can create [audio feedback](https://en.wikipedia.org/wiki/Audio_feedback), leading to blares of loud sounds."
   ]
  },
  {
   "cell_type": "markdown",
   "id": "59ffc09e",
   "metadata": {},
   "source": [
    "### Linear vs nonlinear\n",
    "\n",
    "A **linear** system satisfy the following:\n",
    "$$\n",
    "T\\left[ x_1(t) + x_2(t) \\right] = y_1(t) + y_2(t) \\quad \\text{Additive} \\\\\n",
    "T\\left[ \\alpha x(t)\\right] =\\alpha y(t) \\quad \\text{Homogeneity}\n",
    "$$"
   ]
  },
  {
   "cell_type": "markdown",
   "id": "2e781210",
   "metadata": {},
   "source": [
    "We can simply this to \n",
    "$$\n",
    "T\\left[ \\alpha_1 x_1(t) + \\alpha_2 x_2(t) \\right] = \\alpha_1 y_1(t) + \\alpha_2 y_2(t)\n",
    "$$ \n",
    "known as the superposition property."
   ]
  },
  {
   "cell_type": "markdown",
   "id": "9a0f02b1",
   "metadata": {},
   "source": [
    "A corollary of this is that the system produces no output if input value is $0$."
   ]
  },
  {
   "cell_type": "markdown",
   "id": "eacf0a96",
   "metadata": {},
   "source": [
    "Any system that does not satisfy the above are **nonlinear**."
   ]
  },
  {
   "cell_type": "markdown",
   "id": "6e9fb426",
   "metadata": {},
   "source": [
    "### Time-invariant vs time-varying\n",
    "\n",
    "A **time-invariant** system, when fed an input that is delayed, will produce an output signal with the same time delay.\n",
    "Formally, it is defined as:\n",
    "$$\n",
    "T [(x(t-\\tau)] = y(t-\\tau)\n",
    "$$"
   ]
  },
  {
   "cell_type": "markdown",
   "id": "44641440",
   "metadata": {},
   "source": [
    "A **time-varying** system does not satisfy the above."
   ]
  },
  {
   "cell_type": "markdown",
   "id": "307e72c1",
   "metadata": {},
   "source": [
    "## Signals and systems\n",
    "\n",
    "Note that not all systems can be described mathematically, but they can be approximated to be so.\n",
    "However, even so, the system may be difficult to solve.\n",
    "\n",
    "Hence, we will be looking at a subset of systems which are easily described mathematically, and usually have simple solutions.\n",
    "These systems are the  **continuous-time, linear, time-invariant (LTI) systems**"
   ]
  }
 ],
 "metadata": {
  "kernelspec": {
   "display_name": "Python 3 (ipykernel)",
   "language": "python",
   "name": "python3"
  },
  "language_info": {
   "codemirror_mode": {
    "name": "ipython",
    "version": 3
   },
   "file_extension": ".py",
   "mimetype": "text/x-python",
   "name": "python",
   "nbconvert_exporter": "python",
   "pygments_lexer": "ipython3",
   "version": "3.10.4"
  }
 },
 "nbformat": 4,
 "nbformat_minor": 5
}
