{
 "cells": [
  {
   "cell_type": "markdown",
   "id": "1505770c",
   "metadata": {},
   "source": [
    "$$\n",
    "\\newcommand{proof}{\\textbf{Proof: }}\n",
    "$$"
   ]
  },
  {
   "cell_type": "markdown",
   "id": "62e97222",
   "metadata": {},
   "source": [
    "# Energy spectral density\n",
    "As stated in the introduction, the amount of energy in the [energy signal](./introduction.ipynb#Energy-vs-Power) is given by:\n",
    "$$\n",
    "E = \\int ^ \\infty _{-\\infty} | x(t) | ^2 dt \\quad (Joules)\n",
    "$$\n",
    "in the time domain.\n",
    "\n",
    "*Rayleigh's energy theorem* lets us compute this value from the frequency domain, as:\n",
    "$$\n",
    "E = \\int ^ \\infty _{-\\infty} | X(f) | ^2 df\n",
    "$$"
   ]
  },
  {
   "cell_type": "markdown",
   "id": "d064444c",
   "metadata": {},
   "source": [
    "(Depending on the complexity of the function of the signal and its Fourier transform, either of the formula may yield the easier computation of energy)"
   ]
  },
  {
   "cell_type": "markdown",
   "id": "63cb15a4",
   "metadata": {},
   "source": [
    "The **energy spectral density/energy spectrum** describes how energy is distributed across a signal's frequency component.\n",
    "Using the previous equation, the energy spectrum is defined naturally as:\n",
    "$$\n",
    "E_x(f) = |X(f)|^2 \\quad (Joules/Hz)\n",
    "$$"
   ]
  },
  {
   "cell_type": "markdown",
   "id": "fdb279c8",
   "metadata": {},
   "source": [
    "## Properties\n",
    "* $E_x(f)$ is real\n",
    "* $E_x(f) \\geq 0$\n",
    "* $E_x(f)$ is even"
   ]
  },
  {
   "cell_type": "markdown",
   "id": "72e3f3c5",
   "metadata": {},
   "source": [
    "<details>\n",
    "<summary style=\"color: blue\">$\\proof$ (Click to expand)</summary>\n",
    "<div style=\"background: aliceblue\">\n",
    "The first 2 properties is simply because magnitude is always real and positive.\n",
    "The last property is due to <a href=\"./fourier_transform.ipynb#When-$x(t)$-is-real-and-even\">magnitude being an even function for real signals</a>.\n",
    "</div>\n",
    "</details>"
   ]
  },
  {
   "cell_type": "markdown",
   "id": "5819ee35",
   "metadata": {},
   "source": [
    "# Power spectral density\n",
    "\n",
    "Similarly, for [power signals](./introduction.ipynb#Energy-vs-Power), we can compute the power in the frequency domain instead, using the *Parseval power theorem*:\n",
    "$$\n",
    "P = \\lim _{T\\to \\infty} \\frac{1}{2T} \\int ^ T _{-T} |X_T(f)|^2 df\n",
    "$$\n",
    "where $x_T(t) = x(t) rect \\left( \\frac{t}{2T} \\right)$."
   ]
  },
  {
   "cell_type": "markdown",
   "id": "98c3884d",
   "metadata": {},
   "source": [
    "<details>\n",
    "<summary style=\"color: blue\">$\\proof$ (Click to expand)</summary>\n",
    "<div style=\"background: aliceblue\">\n",
    "Notice that $\\lim _ {T \\to \\infty} x_T(t) = x(t)$\n",
    "Since we only took a window of $x(t)$, $x_T(t)$ is an energy signal and we can use the Rayleigh energy theorem to apply it to our <a href=\"./introduction.ipynb#power-formula\"> power formula</a> by taking the limit.\n",
    "</div>\n",
    "</details>"
   ]
  },
  {
   "cell_type": "markdown",
   "id": "61cbfc98",
   "metadata": {},
   "source": [
    "Also similarly, the **power spectral density/power spectrum** is defined as:\n",
    "$$\n",
    "P_x(f) = \\lim _{T\\to \\infty} \\frac{1}{2T} |X_T(f)|^2  \\quad (Watts/Hz)\n",
    "$$"
   ]
  },
  {
   "cell_type": "markdown",
   "id": "39db5b2f",
   "metadata": {},
   "source": [
    "## Properties\n",
    "* $P_x(f)$ is real\n",
    "* $P_x(f) \\geq 0$\n",
    "* $P_x(f)$ is even"
   ]
  },
  {
   "cell_type": "markdown",
   "id": "5a856693",
   "metadata": {},
   "source": [
    "The proof is the same as the energy spectrum."
   ]
  },
  {
   "cell_type": "markdown",
   "id": "7fe3b0b3",
   "metadata": {},
   "source": [
    "Note that computing the power spectrum for a arbitrary power signal is rather difficult.\n",
    "However, it becomes rather straightforward if the signal is a sum of sinusoids, which is what we are going to be interested in."
   ]
  },
  {
   "cell_type": "markdown",
   "id": "c4205ce4",
   "metadata": {},
   "source": [
    "## Power spectrum of periodic signals\n",
    "\n",
    "The power spectrum of a periodic signal $x_p(t)$ is:\n",
    "$$\n",
    "P_x(f) = \\sum ^ \\infty _{-\\infty} |c_k| ^2 \\delta \\left( f - \\frac{k}{T_p} \\right)\n",
    "$$\n",
    "and its average power is:\n",
    "$$\n",
    "P = \\sum ^ \\infty _{-\\infty} |c_k| ^2 \n",
    "$$"
   ]
  },
  {
   "cell_type": "markdown",
   "id": "281ea116",
   "metadata": {},
   "source": [
    "<details>\n",
    "<summary style=\"color: blue\">$\\proof$ (Click to expand)</summary>\n",
    "<div style=\"background: aliceblue\">\n",
    "TODO\n",
    "</div>\n",
    "</details>"
   ]
  }
 ],
 "metadata": {
  "kernelspec": {
   "display_name": "Python 3 (ipykernel)",
   "language": "python",
   "name": "python3"
  },
  "language_info": {
   "codemirror_mode": {
    "name": "ipython",
    "version": 3
   },
   "file_extension": ".py",
   "mimetype": "text/x-python",
   "name": "python",
   "nbconvert_exporter": "python",
   "pygments_lexer": "ipython3",
   "version": "3.10.4"
  }
 },
 "nbformat": 4,
 "nbformat_minor": 5
}
