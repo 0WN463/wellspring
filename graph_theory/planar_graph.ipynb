{
 "cells": [
  {
   "cell_type": "markdown",
   "id": "square-tactics",
   "metadata": {
    "deletable": false,
    "editable": false,
    "run_control": {
     "frozen": true
    }
   },
   "source": [
    "$$\n",
    "\\newcommand{theorem}{\\textbf{Theorem: }}\n",
    "\\newcommand{proof}{\\textbf{Proof: }}\n",
    "\\newcommand{lemma}{\\textbf{Lemma: }}\n",
    "\\newcommand{corollary}{\\textbf{Corollary: }}\n",
    "\\newcommand{prop}{\\textbf{Proposition: }}\n",
    "$$"
   ]
  },
  {
   "cell_type": "markdown",
   "id": "western-conflict",
   "metadata": {
    "deletable": false,
    "editable": false,
    "run_control": {
     "frozen": true
    }
   },
   "source": [
    "# Crossing Number\n",
    "A graph may have different representation on a plane.\n",
    "\n",
    "The **crossing number** of a representation is the number of pairs of edges that cross.\n",
    "\n",
    "The **crossing number** $\\nu(G)$ of a graph is the minimum crossing number for any representation.\n",
    "\n",
    "A **planar** representation is one where it contains no crossing.\n",
    "\n",
    "A **planar** graph has a planar representation, $\\nu(G) = 0$.\n",
    "\n",
    "To assign a topological space to a graph, we view each vertex as a point in $\\mathbb{R}^3$, such that no 3 are colinear and no 4 are coplanar.\n",
    "Connect pairs of vertices with a line segment for each edge in the graph.\n",
    "Then the set of edges and vertices are a subset of $\\mathbb{R^3}$, which we call a **realization** of $G$.\n",
    "Hence, $G$ is planar if its realization is homeomorphic to a subset of $\\mathbb{R}^2$.\n"
   ]
  },
  {
   "cell_type": "markdown",
   "id": "demanding-advancement",
   "metadata": {
    "deletable": false,
    "editable": false,
    "run_control": {
     "frozen": true
    }
   },
   "source": [
    "**Special graphs**\n",
    "* Trees are planar, by putting all children belong its parent\n",
    "* Arrange $K_n$ is a cycle. Each set of 4 vertices contribute 1 crossing, thus $\\nu(K_n) \\leq C^n_4$.\n",
    "* $K_5$ is not planar\n",
    "* $K_{3,3}$ is not planar"
   ]
  },
  {
   "cell_type": "markdown",
   "id": "dramatic-halifax",
   "metadata": {
    "deletable": false,
    "editable": false,
    "run_control": {
     "frozen": true
    }
   },
   "source": [
    "$\\prop$ \n",
    "\n",
    "$$\\nu(K_{p,q}) \\leq \\lfloor{\\frac{p}{2}}\\rfloor\n",
    "\\lfloor{\\frac{p-1}{2}}\\rfloor\n",
    "\\lfloor{\\frac{q}{2}}\\rfloor\n",
    "\\lfloor{\\frac{q-1}{2}}\\rfloor$$\n",
    "\n",
    "<details>\n",
    "    <summary style=\"color: blue\">$\\proof$ (Click to expand)</summary>\n",
    "    <div style=\"background: aliceblue\">\n",
    "<p>\n",
    "We can put all vertices in one partition on the positive $x$-axis and the other on the positive $y$-axis.\n",
    "For every 2 pairs of vertices in each partition, there will be 2 segments which cross and 2 that do not.\n",
    "Thus, there are exactly $C^p_2 C^q_2$ crossings, thus $\\nu(K_{p,q}) \\leq C^p_2 C^q_2$\n",
    "</p>\n",
    "<p>\n",
    "Now, suppose instead that we place half of the vertices on the positive $x$-axis in the negative $x$-axis instead, likewise for $y$-axis.\n",
    "Then we get\n",
    "    $$\n",
    "    \\nu(K_{p,q}) \\leq C^{p_1}_2 C^{q_1}_2 + C^{p_1}_2 C^{q_2}_2 + C^{p_2}_2 C^{q_1}_2 + C^{p_2}_2 C^{q_2}_2\n",
    "    $$\n",
    "    where $p_1, p_2$ and $q_1, q_2$ are the vertices in the positive and negative direction for each of the axis respectively.\n",
    "    Simplifying the above yields us our desired inequality.\n",
    "</p>\n",
    "    </div>\n",
    "</details>"
   ]
  },
  {
   "cell_type": "markdown",
   "id": "framed-boost",
   "metadata": {
    "deletable": false,
    "editable": false,
    "run_control": {
     "frozen": true
    }
   },
   "source": [
    "# Euler's Formula\n",
    "A **face** is the region that is formed by edges dividing a plane, in the planar representation of a graph.\n",
    "\n",
    "There is a unique unbounded face called **infinite/exterior** face, while the others are bounded.\n",
    "\n",
    "Edges touching a face bounds that face and are part of the **boundary** of the face.\n",
    "The boundary of a finite face may not be a cycle, but must contain a cycle.\n",
    "If a tree has no bridge, then the boundary of any face is the disjoint union of cycles.\n",
    "If the graph has no cut-vertex and is connected, then the boundary of any face is a cycle.\n",
    "Any convex polyhedron can be drawn on a plane such that faces on the graph correspond to faces of the polyhedron.\n",
    "\n"
   ]
  },
  {
   "cell_type": "markdown",
   "id": "coastal-hepatitis",
   "metadata": {
    "deletable": false,
    "editable": false,
    "run_control": {
     "frozen": true
    }
   },
   "source": [
    "$\\theorem$ (Euler's Polyhedron Theorem) In a connected planar graph $G$ with $n$ vertices, $m$ edges and $f$ faces, we get\n",
    "\n",
    "$$n-m+f = 2$$\n",
    "\n",
    "<details>\n",
    "    <summary style=\"color: blue\">$\\proof$ (Click to expand)</summary>\n",
    "    <div style=\"background: aliceblue\">\n",
    "<p>\n",
    "We apply induction on $f$.\n",
    "If $f = 1$, then $G$ has no cycles, which means it is a tree, thus $m = n-1$.\n",
    "$$\n",
    "n-m+f = n - (n-1) + 1 = 2\n",
    "$$\n",
    "</p>\n",
    "<p>\n",
    "Now suppose $f > 1$.\n",
    "Then let $e$ be any edge in the cycle of $G$.\n",
    "Since the cycles separates the plane, the edge must touch two faces.\n",
    "By removing $e$, we obtain a graph where it has 1 less edge, and 1 less face because the two faces would merge into 1.\n",
    "By induction hypothesis, we get $n-m+f=2$ in the new graph.\n",
    "Thus, in the old graph, we have $$n-(m+1)+(f+1) = n-m+f = 2$$\n",
    "$QED$\n",
    "</p>\n",
    "    </div>\n",
    "</details>"
   ]
  },
  {
   "cell_type": "markdown",
   "id": "hungarian-colonial",
   "metadata": {
    "deletable": false,
    "editable": false,
    "run_control": {
     "frozen": true
    }
   },
   "source": [
    "$\\corollary$ All planar representation of a graph have the same number of faces\n",
    "\n",
    "<details>\n",
    "    <summary style=\"color: blue\">$\\proof$ (Click to expand)</summary>\n",
    "    <div style=\"background: aliceblue\">\n",
    "<p>\n",
    "In the previous theorem, we note that the number of faces only depends on the number of vertices and edges, and not on any attribute of the representation.\n",
    "</p>\n",
    "    </div>\n",
    "</details>"
   ]
  },
  {
   "cell_type": "markdown",
   "id": "western-maria",
   "metadata": {
    "deletable": false,
    "editable": false,
    "run_control": {
     "frozen": true
    }
   },
   "source": [
    "$\\corollary$ In any planar graph $G$ with $n$ vertices, $m$ edges and $f$ faces, we get\n",
    "\n",
    "$$n-m+f = 1 + c(G)$$\n",
    "\n",
    "<details>\n",
    "    <summary style=\"color: blue\">$\\proof$ (Click to expand)</summary>\n",
    "    <div style=\"background: aliceblue\">\n",
    "<p>\n",
    "This follows from the theorem when we consider each component separately.\n",
    "</p>\n",
    "    </div>\n",
    "</details>"
   ]
  },
  {
   "cell_type": "markdown",
   "id": "celtic-wrapping",
   "metadata": {
    "deletable": false,
    "editable": false,
    "run_control": {
     "frozen": true
    }
   },
   "source": [
    "$\\theorem$ For a **planar** graph \n",
    "$$\n",
    "m \\leq \\max(\\frac{g}{g-2}(n-2), n-1)\n",
    "$$\n",
    "\n",
    "<details>\n",
    "    <summary style=\"color: blue\">$\\proof$ (Click to expand)</summary>\n",
    "    <div style=\"background: aliceblue\">\n",
    "<p>\n",
    "Consider when $G$ is connected.\n",
    "Suppose $G$ has no bridge.\n",
    "This means every face is bounded by at least $g$ edges, and every edge touches two faces.\n",
    "Thus, the number of faces is at most $\\frac{2m}{g}$.\n",
    "And we obtain that,\n",
    " $2m \\geq gf = g(2-n+m)$\n",
    "$$\n",
    "\\Rightarrow m(2-g) \\geq g(2 - n) \\Rightarrow m \\leq g(2-n)/(2-g)\n",
    "$$\n",
    "</p>\n",
    "        \n",
    "<p>\n",
    "Suppose $G$ has a bridge.\n",
    "Thus, $G-e$ has two components $G_1, G_2$, with $n_1, n_2$ vertices and $m_1, m_2$ edges respectively.\n",
    "Note that $e$ cannot be part of any cycle, thus cannot contribute to the girth of the graph.\n",
    "If $G_1$ is a tree and $G_2$ is not, then we obtain that \n",
    "$$\n",
    "\\begin{align*}\n",
    "m = m_1 + m_2 +1 &\\leq n_1 - 1 + \\frac{g}{g-2}(n_2 - 2) + 1 \n",
    "\\\\&= n_1 + \\frac{g}{g-2}(n_2 - 2) < \\frac{g}{g-2}(n_1 + n_2 - 2) = \\frac{g}{g-2}(n - 2) \n",
    "\\end{align*}\n",
    "$$\n",
    "If both of them are not trees, we obtain that \n",
    "$$\n",
    "\\begin{align*}\n",
    "m = m_1 + m_2 +1 &\\leq \\frac{g}{g-2}(n_1 - 2) + \\frac{g}{g-2}(n_2 - 2) + 1 \n",
    "\\\\&= \\frac{g}{g-2}(n_1 + n_2 - 4) + 1 \n",
    "\\\\&= \\frac{g}{g-2}(n - 4) + 1 \n",
    "\\\\&= \\frac{g}{g-2}(n - 4 + \\frac{g-2}{g}) < \\frac{g}{g-2}(n - 2)\n",
    "\\end{align*}\n",
    "$$\n",
    "$QED$\n",
    "</p>\n",
    "    </div>\n",
    "</details>"
   ]
  },
  {
   "cell_type": "markdown",
   "id": "consolidated-enterprise",
   "metadata": {
    "deletable": false,
    "editable": false,
    "run_control": {
     "frozen": true
    }
   },
   "source": [
    "$\\corollary$ For a **planar** graph with $n \\geq 3$,\n",
    "$$m \\leq 3n-6$$\n",
    "\n",
    "<details>\n",
    "    <summary style=\"color: blue\">$\\proof$ (Click to expand)</summary>\n",
    "    <div style=\"background: aliceblue\">\n",
    "<p>\n",
    "If $G$ has no cycles, then $m \\leq n-1 \\leq n-1 + 2n - 5= 3n-6$\n",
    "If $G$ has a cycle, the cycle is at least length 3.\n",
    "    By setting $g = 3$ on the previous theorem, we get $$m \\leq \\frac{3}{3-2}(n-2) = 3(n-2) = 3n-6$$ $QED$\n",
    "</p>\n",
    "    </div>\n",
    "</details>"
   ]
  },
  {
   "cell_type": "markdown",
   "id": "spectacular-iraqi",
   "metadata": {
    "deletable": false,
    "editable": false,
    "run_control": {
     "frozen": true
    }
   },
   "source": [
    "$\\corollary$ For a **planar** bipartite graph with $n \\geq 3$,\n",
    "$$m \\leq 2n-4$$\n",
    "\n",
    "<details>\n",
    "    <summary style=\"color: blue\">$\\proof$ (Click to expand)</summary>\n",
    "    <div style=\"background: aliceblue\">\n",
    "<p>\n",
    "Since $G$ is bipartite, the cycle bounding a face is at least length 4.\n",
    "By setting $g = 4$ on the previous theorem, we get $$m \\leq \\frac{4}{4-2}(n-2) = 2(n-2) = 2n-4$$ $QED$\n",
    "</p>\n",
    "    </div>\n",
    "</details>"
   ]
  },
  {
   "cell_type": "markdown",
   "id": "above-conclusion",
   "metadata": {
    "deletable": false,
    "editable": false,
    "run_control": {
     "frozen": true
    }
   },
   "source": [
    "$\\corollary$ $K_n$ is planar if and only if $n\\leq 4$\n",
    "\n",
    "<details>\n",
    "    <summary style=\"color: blue\">$\\proof$ (Click to expand)</summary>\n",
    "    <div style=\"background: aliceblue\">\n",
    "<p>\n",
    "For $n \\leq 4$, we can draw its planar representation.\n",
    "When $n = 5$, we obtain that $m = 10 > 3n-6 = 15-6 = 9$.\n",
    "Thus, $K_5$ cannot be planar.\n",
    "Since $K_n$ for larger $n$ contains a subgraph of $K_5$, they are also not planar. $QED$\n",
    "</p>\n",
    "    </div>\n",
    "</details>"
   ]
  },
  {
   "cell_type": "markdown",
   "id": "contemporary-liquid",
   "metadata": {
    "deletable": false,
    "editable": false,
    "run_control": {
     "frozen": true
    }
   },
   "source": [
    "$\\corollary$ $K_{p,q}$, where $p \\geq q \\geq 1$ is planar if and only if $q \\leq 2$\n",
    "\n",
    "<details>\n",
    "    <summary style=\"color: blue\">$\\proof$ (Click to expand)</summary>\n",
    "    <div style=\"background: aliceblue\">\n",
    "<p>\n",
    "For $q \\leq 2$, we can draw its planar representation.\n",
    "Considering $K_{3,3}$, setting $g=4$, we obtain that $m = 9 > \\frac{4}{4-2}(6-2) = 2(4) = 8$.\n",
    "Thus, $K_{3,3}$ cannot be planar.\n",
    "Since $K_{p,q}$ for larger $n$ contains a subgraph of $K_{3,3}$, they are also not planar. $QED$\n",
    "</p>\n",
    "    </div>\n",
    "</details>"
   ]
  },
  {
   "cell_type": "markdown",
   "id": "patent-alabama",
   "metadata": {
    "deletable": false,
    "editable": false,
    "run_control": {
     "frozen": true
    }
   },
   "source": [
    "<a id='C-planar-delta'></a>$\\corollary$ For any planar graph, $\\delta(G) \\leq 5$.\n",
    "\n",
    "<details>\n",
    "    <summary style=\"color: blue\">$\\proof$ (Click to expand)</summary>\n",
    "    <div style=\"background: aliceblue\">\n",
    "<p>\n",
    "$$\n",
    "\\delta(G) \\leq \\frac{2m}{n} \\leq \\frac{2(3n-6)}{n} = \\frac{6n-12}{n} = 6 - \\frac{12}{n} < 6\n",
    "$$\n",
    "</p>\n",
    "    </div>\n",
    "</details>"
   ]
  },
  {
   "cell_type": "markdown",
   "id": "upset-motel",
   "metadata": {
    "deletable": false,
    "editable": false,
    "run_control": {
     "frozen": true
    }
   },
   "source": [
    "# Representation\n",
    "$\\lemma$ For any planar graph $G$ and a collection of edges and vertices $A$ in $G$ that is the boundary of a face, there exists a planar representation of $G$ such that $A$ is the boundary of the infinite face. \n",
    "\n",
    "A planar graph is **maximal** if it is not a proper spanning subgraph of another planar graph.\n",
    "In particular, all the faces in the maximal planar graph is a triangle, otherwise we could separate the faces into smaller faces with an edge while maintaining planarity.\n",
    "\n",
    "\n"
   ]
  },
  {
   "cell_type": "markdown",
   "id": "silver-window",
   "metadata": {
    "deletable": false,
    "editable": false,
    "run_control": {
     "frozen": true
    }
   },
   "source": [
    "$\\lemma$ A planar graph $G$ of order $n \\geq 3$ is maximal if and only if the size $m=3n-6$.\n",
    "\n",
    "<details>\n",
    "    <summary style=\"color: blue\">$\\proof$ (Click to expand)</summary>\n",
    "    <div style=\"background: aliceblue\">\n",
    "<p>\n",
    "Since we know that it is maximal if and only if every face is bounded by 3 edges, we get $3f = 2m$.\n",
    "Using Euler's formula, we get\n",
    "$$\n",
    "n - m + f = 2 \\Rightarrow n - m + \\frac{2}{3}m = 2 \\Rightarrow m = 3n - 6\n",
    "$$\n",
    "    \n",
    "$QED$\n",
    "</p>\n",
    "    </div>\n",
    "</details>"
   ]
  },
  {
   "cell_type": "markdown",
   "id": "quick-while",
   "metadata": {
    "deletable": false,
    "editable": false,
    "run_control": {
     "frozen": true
    }
   },
   "source": [
    "Two planar representations are **homotopic/combinatorically isomorphic** if one can be transformed into the other while preserving all relations of vertices, edges and faces."
   ]
  },
  {
   "cell_type": "markdown",
   "id": "illegal-nirvana",
   "metadata": {
    "deletable": false,
    "editable": false,
    "run_control": {
     "frozen": true
    }
   },
   "source": [
    "$\\theorem$ For every planar representation of a planar graph, there is a homotopic planar representation such that \n",
    "\n",
    "* no 3 vertices are colinear\n",
    "* every edges is a straight line segment\n",
    "\n",
    "<details>\n",
    "<summary style=\"color: blue\">$\\proof$ (Click to expand)</summary>\n",
    "<div style=\"background: aliceblue\">\n",
    "<p>\n",
    "It is trivial to prove for graphs with order $\\leq 3$.\n",
    "Also, it suffices to prove for maximal graphs since the same will hold for its subgraphs.\n",
    "</p>\n",
    "        \n",
    "<p>\n",
    "Thus, let $G$ be the maximal planar graph of order $n \\geq 4$.\n",
    "Suppose that it holds for any planar graph of order $n-1$.\n",
    "Notice that if $\\delta(G) \\leq 2$, then it is a graph of cycles and paths, which we can easily transform to fulfil the above.\n",
    "Thus, we consider $\\delta(G) \\geq 3$.\n",
    "If there are $k$ vertices of degree $\\leq 5$, then\n",
    "$$\n",
    "\\sum deg(v) \\geq 3k + 6(n-k) = 6n - 3k\n",
    "$$\n",
    "</p>\n",
    "<p>\n",
    "By the previous theorem\n",
    "$$\n",
    "\\sum deg(v) = 2m = 6n - 12\n",
    "$$\n",
    "Hence, $k \\geq 4$\n",
    "</p>\n",
    "        \n",
    "<p>\n",
    "We fix the planar representation of $G$.\n",
    "Since $k \\geq 4$ and the boundary of each face has 3 vertices, there exists a vertex with degree $\\leq 5$ that is not on the boundary of the infinite face.\n",
    "Thus, the neighbours of $v$ forms a boundary in $G-v$.\n",
    "We can add edges to $G-v$ such that this boundary is split into triangles and thus the graph is maximal.\n",
    "By induction hypothesis, there is a homotopic representation that fulfils the condition.\n",
    "We now remove the added edges and put $v$ in the center of the boundary.\n",
    "We adjust the location of $v$ as needed such that the condition is fulfilled.\n",
    "$QED$\n",
    "</p>\n",
    "\n",
    "</div>\n",
    "</details>"
   ]
  },
  {
   "cell_type": "markdown",
   "id": "casual-figure",
   "metadata": {
    "deletable": false,
    "editable": false,
    "run_control": {
     "frozen": true
    }
   },
   "source": [
    "# Criterion for planarity\n",
    "\n",
    "\n"
   ]
  },
  {
   "cell_type": "markdown",
   "id": "other-eclipse",
   "metadata": {
    "deletable": false,
    "editable": false,
    "run_control": {
     "frozen": true
    }
   },
   "source": [
    "$G$ is planar if and only if the blocks and components of $G$."
   ]
  },
  {
   "cell_type": "markdown",
   "id": "modified-packet",
   "metadata": {
    "deletable": false,
    "editable": false,
    "run_control": {
     "frozen": true
    }
   },
   "source": [
    "$\\lemma$ For any edges $uv$, if the contraction $G/uv$ contains a subdivision of $K_5$ or $K_{3,3}$, then so does $G$.\n",
    "\n",
    "<details>\n",
    "<summary style=\"color: blue\">$\\proof$ (Click to expand)</summary>\n",
    "<div style=\"background: aliceblue\">\n",
    "<p>\n",
    "</p>\n",
    "\n",
    "</div>\n",
    "</details>"
   ]
  },
  {
   "cell_type": "markdown",
   "id": "amended-worcester",
   "metadata": {
    "deletable": false,
    "editable": false,
    "run_control": {
     "frozen": true
    }
   },
   "source": [
    "$\\lemma$ If $n \\geq 5$ and $\\kappa(G) \\geq 3$, then there exists an edge $e$ such that $\\kappa(G/e) \\geq 3$.\n",
    "<details>\n",
    "<summary style=\"color: blue\">$\\proof$ (Click to expand)</summary>\n",
    "<div style=\"background: aliceblue\">\n",
    "<p>\n",
    "</p>\n",
    "\n",
    "</div>\n",
    "</details>"
   ]
  },
  {
   "cell_type": "markdown",
   "id": "critical-creativity",
   "metadata": {
    "deletable": false,
    "editable": false,
    "run_control": {
     "frozen": true
    }
   },
   "source": [
    "$\\theorem$ (Kuratowski) A graph is planar if and only if it does not contain a subdivision of $K_5$ or $K_{3,3}$\n",
    "\n",
    "<details>\n",
    "<summary style=\"color: blue\">$\\proof$ (Click to expand)</summary>\n",
    "<div style=\"background: aliceblue\">\n",
    "<p>\n",
    "</p>\n",
    "\n",
    "</div>\n",
    "</details>"
   ]
  },
  {
   "cell_type": "markdown",
   "id": "selective-updating",
   "metadata": {
    "deletable": false,
    "editable": false,
    "run_control": {
     "frozen": true
    }
   },
   "source": [
    "$\\corollary$ If $G$ is planar, then $G/uv$ is planar for any edge $uv$.\n",
    "\n",
    "<details>\n",
    "<summary style=\"color: blue\">$\\proof$ (Click to expand)</summary>\n",
    "<div style=\"background: aliceblue\">\n",
    "<p>\n",
    "</p>\n",
    "\n",
    "</div>\n",
    "</details>"
   ]
  },
  {
   "cell_type": "markdown",
   "id": "dressed-honduras",
   "metadata": {
    "deletable": false,
    "editable": false,
    "run_control": {
     "frozen": true
    }
   },
   "source": [
    "A graph $H$ is a **minor** of $G$, ($H \\preccurlyeq G$), if $H$ is a subgraph of a graph obtained from $G$ by a sequence of edge contractions."
   ]
  },
  {
   "cell_type": "markdown",
   "id": "identified-samoa",
   "metadata": {
    "deletable": false,
    "editable": false,
    "run_control": {
     "frozen": true
    }
   },
   "source": [
    "$\\theorem$ (Wagner) A graph is planar if and only if it does not contain $K_5$ or $K_{3,3}$ as a minor\n",
    "\n",
    "<details>\n",
    "<summary style=\"color: blue\">$\\proof$ (Click to expand)</summary>\n",
    "<div style=\"background: aliceblue\">\n",
    "<p>\n",
    "</p>\n",
    "\n",
    "</div>\n",
    "</details>"
   ]
  },
  {
   "cell_type": "markdown",
   "id": "rising-tolerance",
   "metadata": {
    "deletable": false,
    "editable": false,
    "run_control": {
     "frozen": true
    }
   },
   "source": [
    "# Multigraphs\n",
    "For multigraphs, Euler's Polyhedron Theorem, Kuratowski's Theorem and Wagner's Theorem still holds."
   ]
  },
  {
   "cell_type": "markdown",
   "id": "outer-democrat",
   "metadata": {
    "deletable": false,
    "editable": false,
    "run_control": {
     "frozen": true
    }
   },
   "source": [
    "# Colouring"
   ]
  },
  {
   "cell_type": "markdown",
   "id": "frequent-cisco",
   "metadata": {
    "deletable": false,
    "editable": false,
    "run_control": {
     "frozen": true
    }
   },
   "source": [
    "$\\theorem$ (6 Colour Theorem) Any planar graph is 6-colourable.\n",
    "\n",
    "<details>\n",
    "<summary style=\"color: blue\">$\\proof$ (Click to expand)</summary>\n",
    "<div style=\"background: aliceblue\">\n",
    "<p>\n",
    "We consider the $k$-critical subgraph $H$ of $G$.\n",
    "By <a href='./colouring.ipynb#C-coluring-delta'>this</a> and <a href='#C-planar-delta'>this</a> corollaries, we get\n",
    "$$\n",
    "k = \\chi(H) \\leq 1 + \\delta(H) \\leq 1 + \\delta(G) \\leq 1 + 5 = 6\n",
    "$$\n",
    "$QED$\n",
    "</p>\n",
    "\n",
    "</div>\n",
    "</details>"
   ]
  },
  {
   "cell_type": "markdown",
   "id": "virgin-beverage",
   "metadata": {
    "deletable": false,
    "editable": false,
    "run_control": {
     "frozen": true
    }
   },
   "source": [
    "$\\theorem$ (5 Colour Theorem) Any planar graph is 5-colourable.\n",
    "\n",
    "<details>\n",
    "<summary style=\"color: blue\">$\\proof$ (Click to expand)</summary>\n",
    "<div style=\"background: aliceblue\">\n",
    "<p>\n",
    "</p>\n",
    "\n",
    "</div>\n",
    "</details>"
   ]
  },
  {
   "cell_type": "markdown",
   "id": "lyric-updating",
   "metadata": {
    "deletable": false,
    "editable": false,
    "run_control": {
     "frozen": true
    }
   },
   "source": [
    "$\\theorem$ (4 Colour Theorem) Any planar graph is 4-colourable.\n",
    "\n",
    "<details>\n",
    "<summary style=\"color: blue\">$\\proof$ (Click to expand)</summary>\n",
    "<div style=\"background: aliceblue\">\n",
    "<p>\n",
    "</p>\n",
    "\n",
    "</div>\n",
    "</details>"
   ]
  }
 ],
 "metadata": {
  "kernelspec": {
   "display_name": "Python 3 (ipykernel)",
   "language": "python",
   "name": "python3"
  },
  "language_info": {
   "codemirror_mode": {
    "name": "ipython",
    "version": 3
   },
   "file_extension": ".py",
   "mimetype": "text/x-python",
   "name": "python",
   "nbconvert_exporter": "python",
   "pygments_lexer": "ipython3",
   "version": "3.9.7"
  }
 },
 "nbformat": 4,
 "nbformat_minor": 5
}
