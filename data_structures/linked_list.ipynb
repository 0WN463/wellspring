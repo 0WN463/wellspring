{
 "cells": [
  {
   "cell_type": "code",
   "execution_count": 1,
   "id": "23ba2727",
   "metadata": {},
   "outputs": [],
   "source": [
    "import sys\n",
    "sys.path.append('..')"
   ]
  },
  {
   "cell_type": "code",
   "execution_count": 2,
   "id": "1ce6144e",
   "metadata": {},
   "outputs": [],
   "source": [
    "from common.utility import show_implementation"
   ]
  },
  {
   "cell_type": "markdown",
   "id": "fa47d077",
   "metadata": {},
   "source": [
    "# Linked list\n",
    "\n",
    "A linked list is a very simple and very common data structure.\n",
    "Its underlying details is a collection of vertices and their connection with each other.\n",
    "\n",
    "The following constraints are enforced:\n",
    "1. There is a head vertex\n",
    "2. Each vertex contains a reference to the next vertex in the list.\n",
    "3. Each vertex can only have 1 \"next vertex\"\n",
    "4. A reference to the tail vertex (though this is usually for convenience purposes)\n",
    "\n",
    "The above are the requirements for the **singly-linked list**.\n",
    "\n",
    "For a **doubly-linked list**, there is are additional requirements:\n",
    "1. Each vertex contains a reference to the previous vertex in the list.\n",
    "2. Each vertex can only have 1 \"previous vertex\""
   ]
  },
  {
   "cell_type": "code",
   "execution_count": 3,
   "id": "8254d4e3",
   "metadata": {},
   "outputs": [],
   "source": [
    "from module.singly_linked_list import Vertex, SinglyLinkedList"
   ]
  },
  {
   "cell_type": "code",
   "execution_count": 4,
   "id": "23269ef5",
   "metadata": {},
   "outputs": [
    {
     "name": "stdout",
     "output_type": "stream",
     "text": [
      "class Vertex:\n",
      "    \"\"\"Section: Constructor\"\"\"\n",
      "    def __init__(self, value, next_v=None):\n",
      "        self.value = value\n",
      "        self.next_v = next_v\n",
      "    \n",
      "class SinglyLinkedList:\n",
      "    \"\"\"Section: Constructor\"\"\"\n",
      "    def __init__(self, arr=None):\n",
      "        self.head = None\n",
      "        self.tail = None\n",
      "        \n",
      "        if arr is None:\n",
      "            return\n",
      "        \n",
      "        self.head = Vertex(arr[0])\n",
      "        v = self.head\n",
      "        \n",
      "        for i in arr[1:]:\n",
      "            v.next_v = Vertex(i)\n",
      "            v = v.next_v\n",
      "        self.tail = v\n",
      "        \n"
     ]
    }
   ],
   "source": [
    "show_implementation(Vertex, section=\"Constructor\")\n",
    "show_implementation(SinglyLinkedList, section=\"Constructor\")"
   ]
  },
  {
   "cell_type": "code",
   "execution_count": 5,
   "id": "1ef2d34b",
   "metadata": {},
   "outputs": [
    {
     "name": "stdout",
     "output_type": "stream",
     "text": [
      "1->6->2\n"
     ]
    }
   ],
   "source": [
    "l = SinglyLinkedList([1,6,2])\n",
    "print(l)"
   ]
  },
  {
   "cell_type": "markdown",
   "id": "94bc91af",
   "metadata": {},
   "source": [
    "## Operations\n",
    "\n",
    "### Get element at index\n",
    "\n",
    "Since we are unable to refer to each element directly by index, we need to start from the head element and traverse the linked list until we reach the number of iterations required.\n",
    "\n",
    "And because the requested index $i$ can be at most $n$, this operation is $O(N)$."
   ]
  },
  {
   "cell_type": "code",
   "execution_count": 6,
   "id": "05592e6e",
   "metadata": {},
   "outputs": [
    {
     "name": "stdout",
     "output_type": "stream",
     "text": [
      "class SinglyLinkedList:\n",
      "    \"\"\"Section: Get\"\"\"\n",
      "    def get(self, index:int):\n",
      "        v = self.head\n",
      "        for _ in range(index):\n",
      "            v = v.next_v\n",
      "\n",
      "        return v\n",
      "\n"
     ]
    }
   ],
   "source": [
    "show_implementation(SinglyLinkedList, section=\"Get\")"
   ]
  },
  {
   "cell_type": "code",
   "execution_count": 7,
   "id": "832df55a",
   "metadata": {},
   "outputs": [
    {
     "data": {
      "text/plain": [
       "Vertex(value: 1, next: Vertex(6))"
      ]
     },
     "execution_count": 7,
     "metadata": {},
     "output_type": "execute_result"
    }
   ],
   "source": [
    "l.get(0)"
   ]
  },
  {
   "cell_type": "code",
   "execution_count": 8,
   "id": "92c66337",
   "metadata": {},
   "outputs": [
    {
     "data": {
      "text/plain": [
       "Vertex(value: 6, next: Vertex(2))"
      ]
     },
     "execution_count": 8,
     "metadata": {},
     "output_type": "execute_result"
    }
   ],
   "source": [
    "l.get(1)"
   ]
  },
  {
   "cell_type": "code",
   "execution_count": 9,
   "id": "353b8116",
   "metadata": {},
   "outputs": [
    {
     "data": {
      "text/plain": [
       "Vertex(value: 2, next: Vertex(None))"
      ]
     },
     "execution_count": 9,
     "metadata": {},
     "output_type": "execute_result"
    }
   ],
   "source": [
    "l.get(2)"
   ]
  },
  {
   "cell_type": "markdown",
   "id": "e95df81e",
   "metadata": {},
   "source": [
    "### Search element with value"
   ]
  },
  {
   "cell_type": "markdown",
   "id": "fa1acd5e",
   "metadata": {},
   "source": [
    "Similar to `get`, since the desired value could be at the end of the list, and we are unable to find the element with said value directly, we are forced to traverse the list to find the element.\n",
    "Therefore, this is also $O(N)$."
   ]
  },
  {
   "cell_type": "code",
   "execution_count": 10,
   "id": "02678013",
   "metadata": {},
   "outputs": [
    {
     "name": "stdout",
     "output_type": "stream",
     "text": [
      "class SinglyLinkedList:\n",
      "    \"\"\"Section: Find\"\"\"\n",
      "    def find(self, value):\n",
      "        v = self.head\n",
      "        while True:\n",
      "            if v is None:\n",
      "                return None\n",
      "            if v.value == value:\n",
      "                return v\n",
      "            \n",
      "            v = v.next_v\n",
      "\n"
     ]
    }
   ],
   "source": [
    "show_implementation(SinglyLinkedList, section=\"Find\")"
   ]
  },
  {
   "cell_type": "code",
   "execution_count": 11,
   "id": "148672b9",
   "metadata": {},
   "outputs": [
    {
     "data": {
      "text/plain": [
       "Vertex(value: 6, next: Vertex(2))"
      ]
     },
     "execution_count": 11,
     "metadata": {},
     "output_type": "execute_result"
    }
   ],
   "source": [
    "l.find(6)"
   ]
  },
  {
   "cell_type": "markdown",
   "id": "40404c09",
   "metadata": {},
   "source": [
    "### Insertion"
   ]
  },
  {
   "cell_type": "markdown",
   "id": "fda8a7c8",
   "metadata": {},
   "source": [
    "Suppose that we are to insert an element into the list before index $i$.\n",
    "To perform this, we need to traverse to index $i$ $(O(N))$ and modify the properties of elements there $(O(1))$.\n",
    "Hence, this operation is $O(N) + O(1) = O(N)$.\n",
    "\n",
    "(However, if we already have a reference to the insertion point, *eg* the head/tail of the list, or from a previous search/iteration, then insertion (after the vertex) is actually $O(1)$)"
   ]
  },
  {
   "cell_type": "code",
   "execution_count": 12,
   "id": "f7f1f5de",
   "metadata": {},
   "outputs": [
    {
     "name": "stdout",
     "output_type": "stream",
     "text": [
      "class Vertex:\n",
      "    \"\"\"Section: Insert after\"\"\"\n",
      "    def insert_after(self, value):\n",
      "        self.next_v = Vertex(value, self.next_v)\n",
      "\n",
      "class SinglyLinkedList:\n",
      "    \"\"\"Section: Insert at\"\"\"\n",
      "    def insert_at(self, index:int, value):\n",
      "        if index == 0:\n",
      "            new_v = Vertex(value, self.head)\n",
      "            self.head = new_v\n",
      "            return\n",
      "        \n",
      "        v = self.get(index-1)\n",
      "        v.insert_after(value)\n",
      "\n"
     ]
    }
   ],
   "source": [
    "show_implementation(Vertex, section=\"Insert\")\n",
    "show_implementation(SinglyLinkedList, section=\"Insert\")"
   ]
  },
  {
   "cell_type": "code",
   "execution_count": 13,
   "id": "be6bd9f2",
   "metadata": {},
   "outputs": [
    {
     "data": {
      "text/plain": [
       "SinglyLinkedList(1->6->3->2)"
      ]
     },
     "execution_count": 13,
     "metadata": {},
     "output_type": "execute_result"
    }
   ],
   "source": [
    "l.insert_at(2, 3)\n",
    "l"
   ]
  },
  {
   "cell_type": "markdown",
   "id": "afb288aa",
   "metadata": {},
   "source": [
    "###  Deletion\n",
    "\n",
    "The analysis for deletion is similar to `insert`.\n",
    "Therefore, it is $O(N)$ for insertion without prior reference, $O(1)$ with prior reference (to the previous vertex)."
   ]
  },
  {
   "cell_type": "code",
   "execution_count": 14,
   "id": "65262990",
   "metadata": {},
   "outputs": [
    {
     "name": "stdout",
     "output_type": "stream",
     "text": [
      "class Vertex:\n",
      "    \"\"\"Section: Delete after\"\"\"\n",
      "    def delete_after(self):\n",
      "        self.next_v = self.next_v.next_v\n",
      "class SinglyLinkedList:\n",
      "    \"\"\"Section: Delete\"\"\"\n",
      "    def delete(self, index:int):\n",
      "        if index == 0:\n",
      "            self.head = self.head.next_v\n",
      "            return\n",
      "\n",
      "        prev_v = self.get(index-1)\n",
      "\n",
      "        if index == len(self) - 1:\n",
      "            self.tail = prev_v\n",
      "\n",
      "        prev_v.delete_after()\n"
     ]
    }
   ],
   "source": [
    "show_implementation(Vertex, section=\"Delete\")\n",
    "show_implementation(SinglyLinkedList, section=\"Delete\")"
   ]
  },
  {
   "cell_type": "code",
   "execution_count": 15,
   "id": "8532bcf3",
   "metadata": {
    "scrolled": true
   },
   "outputs": [
    {
     "data": {
      "text/plain": [
       "SinglyLinkedList(1->3->2)"
      ]
     },
     "execution_count": 15,
     "metadata": {},
     "output_type": "execute_result"
    }
   ],
   "source": [
    "l.delete(1)\n",
    "l"
   ]
  },
  {
   "cell_type": "markdown",
   "id": "f24bdc25",
   "metadata": {},
   "source": [
    "---"
   ]
  },
  {
   "cell_type": "markdown",
   "id": "240197b0",
   "metadata": {},
   "source": [
    "Now, we will move on to discuss \"children\" data structures that are usually implemented using a linked list.\n",
    "\n",
    "Note that these data structures can be consider a subset of linked list, and thus a linked list is able to perform all their operations with similar (if not identical) performance.\n",
    "\n",
    "One reason we are interested in these is because they expose a smaller set of operations, thus it makes their behaviour less complex, therefore it help reduce the cognitive load on the programmers using them.\n",
    "A parallel would be, if you were tasked to cut something, you would use a normal knife, instead of a utility knife.\n",
    "Even though the utility knife can perform all the functions of a knife, using a knife is better because you don't need to account for all the other functions of a utility knife.\n",
    "\n",
    "## Stack\n",
    "\n",
    "A stack can be visualized as a \"stack of object\", _eg_ a stack of books.\n",
    "The interface a stack is as follows:\n",
    "* `push`: Add to the top of the stack\n",
    "* `pop`: Remove from the top of the stack\n",
    "* `get`: Get the top element on the stack\n",
    "\n",
    "Thus, this forms a Last-In-First-Out (LIFO) data structure."
   ]
  },
  {
   "cell_type": "markdown",
   "id": "30332071",
   "metadata": {},
   "source": [
    "Since these 3 are our main operations, we want it to be as efficient as possible.\n",
    "In fact, if we implement it using a linked list, we can achieve $O(1)$ on all these operations (recall that inserting/deleting from the head is $O(1)$ for linked list)."
   ]
  },
  {
   "cell_type": "code",
   "execution_count": 16,
   "id": "c4190ade",
   "metadata": {},
   "outputs": [],
   "source": [
    "class Stack:\n",
    "    def __init__(self, arr=None):\n",
    "        self.list = SinglyLinkedList(arr)\n",
    "    \n",
    "    def __repr__(self):\n",
    "        v = self.list.head\n",
    "        \n",
    "        arr = []\n",
    "        while v:\n",
    "            arr.append(v.value)\n",
    "            v = v.next_v\n",
    "        \n",
    "        return '\\n↑\\n'.join(map(str, reversed(arr)))\n",
    "    \n",
    "    def push(self, value):\n",
    "        self.list.insert_at(len(self.list), value)\n",
    "    \n",
    "    def pop(self):\n",
    "        self.list.delete(len(self.list) - 1)\n",
    "    \n",
    "    def get(self):\n",
    "        return self.list.tail.value"
   ]
  },
  {
   "cell_type": "code",
   "execution_count": 27,
   "id": "4910f056",
   "metadata": {},
   "outputs": [
    {
     "data": {
      "text/plain": [
       "2\n",
       "↑\n",
       "6\n",
       "↑\n",
       "1"
      ]
     },
     "execution_count": 27,
     "metadata": {},
     "output_type": "execute_result"
    }
   ],
   "source": [
    "s = Stack([1, 6, 2])\n",
    "s"
   ]
  },
  {
   "cell_type": "markdown",
   "id": "a1e1ec31",
   "metadata": {},
   "source": [
    "Notice that the tail of the linked list is the top of our stack."
   ]
  },
  {
   "cell_type": "markdown",
   "id": "02e86f25",
   "metadata": {},
   "source": [
    "### Push"
   ]
  },
  {
   "cell_type": "markdown",
   "id": "85e4a335",
   "metadata": {},
   "source": [
    "To implement push using a linked list, we simply push to the tail of the linked list.\n"
   ]
  },
  {
   "cell_type": "code",
   "execution_count": 28,
   "id": "dd99a149",
   "metadata": {},
   "outputs": [
    {
     "data": {
      "text/plain": [
       "3\n",
       "↑\n",
       "2\n",
       "↑\n",
       "6\n",
       "↑\n",
       "1"
      ]
     },
     "execution_count": 28,
     "metadata": {},
     "output_type": "execute_result"
    }
   ],
   "source": [
    "s.push(3)\n",
    "s"
   ]
  },
  {
   "cell_type": "markdown",
   "id": "a33c8ee5",
   "metadata": {},
   "source": [
    "### Pop"
   ]
  },
  {
   "cell_type": "code",
   "execution_count": 29,
   "id": "0a6b49be",
   "metadata": {},
   "outputs": [
    {
     "data": {
      "text/plain": [
       "2\n",
       "↑\n",
       "6\n",
       "↑\n",
       "1"
      ]
     },
     "execution_count": 29,
     "metadata": {},
     "output_type": "execute_result"
    }
   ],
   "source": [
    "s.pop()\n",
    "s"
   ]
  },
  {
   "cell_type": "code",
   "execution_count": 30,
   "id": "a3a5a901",
   "metadata": {},
   "outputs": [
    {
     "data": {
      "text/plain": [
       "6\n",
       "↑\n",
       "1"
      ]
     },
     "execution_count": 30,
     "metadata": {},
     "output_type": "execute_result"
    }
   ],
   "source": [
    "s.pop()\n",
    "s"
   ]
  },
  {
   "cell_type": "markdown",
   "id": "0d88ba9e",
   "metadata": {},
   "source": [
    "### Get\n"
   ]
  },
  {
   "cell_type": "markdown",
   "id": "584671c9",
   "metadata": {},
   "source": [
    "`get` is simply reading the tail."
   ]
  },
  {
   "cell_type": "code",
   "execution_count": 31,
   "id": "3bd2dc5e",
   "metadata": {},
   "outputs": [
    {
     "data": {
      "text/plain": [
       "6"
      ]
     },
     "execution_count": 31,
     "metadata": {},
     "output_type": "execute_result"
    }
   ],
   "source": [
    "s.get()"
   ]
  },
  {
   "cell_type": "markdown",
   "id": "cfc9c914",
   "metadata": {},
   "source": [
    "### Applications\n",
    "\n",
    "TODO"
   ]
  },
  {
   "cell_type": "markdown",
   "id": "3455f8b8",
   "metadata": {},
   "source": [
    "## Queue"
   ]
  },
  {
   "cell_type": "markdown",
   "id": "da13ac8a",
   "metadata": {},
   "source": [
    "A queue can be visualized as a queue of people.\n",
    "People enter from the back of the queue, and leave from the front.\n",
    "Thus, this forms a First-In-First-Out (FIFO) data structure."
   ]
  },
  {
   "cell_type": "markdown",
   "id": "9f8efb67",
   "metadata": {},
   "source": [
    "The interface a queue is as follows:\n",
    "* `push`: Add to the back of queue\n",
    "* `pop`: Remove from front of queue\n",
    "* `get`: Get the first element in the queue"
   ]
  },
  {
   "cell_type": "code",
   "execution_count": 40,
   "id": "b720f453",
   "metadata": {},
   "outputs": [],
   "source": [
    "class Queue:\n",
    "    def __init__(self, arr=None):\n",
    "        self.list = SinglyLinkedList(arr)\n",
    "    \n",
    "    def __repr__(self):\n",
    "        v = self.list.head\n",
    "        \n",
    "        arr = []\n",
    "        while v:\n",
    "            arr.append(v.value)\n",
    "            v = v.next_v\n",
    "        \n",
    "        return '<-'.join(map(str, arr))\n",
    "    \n",
    "    def push(self, value):\n",
    "        self.list.insert_at(len(self.list), value)\n",
    "    \n",
    "    def pop(self):\n",
    "        self.list.delete(0)\n",
    "    \n",
    "    def get(self):\n",
    "        return self.list.head.value"
   ]
  },
  {
   "cell_type": "code",
   "execution_count": 41,
   "id": "e2da3425",
   "metadata": {},
   "outputs": [
    {
     "data": {
      "text/plain": [
       "1<-6<-2"
      ]
     },
     "execution_count": 41,
     "metadata": {},
     "output_type": "execute_result"
    }
   ],
   "source": [
    "q = Queue([1, 6, 2])\n",
    "q"
   ]
  },
  {
   "cell_type": "markdown",
   "id": "a4545a31",
   "metadata": {},
   "source": [
    "(Note that the arrows are showing the direction towards the front of the queue.\n",
    "However, the \"next vertex direction\" is actually the opposite direction.\n",
    "We implemented it this way to allow us to traverse the queue from the front of the queue.)"
   ]
  },
  {
   "cell_type": "markdown",
   "id": "9d81700e",
   "metadata": {},
   "source": [
    "### Push\n",
    "Pushing is simply adding to the tail of the linked list."
   ]
  },
  {
   "cell_type": "code",
   "execution_count": 42,
   "id": "e80edfcd",
   "metadata": {},
   "outputs": [
    {
     "data": {
      "text/plain": [
       "1<-6<-2<-3"
      ]
     },
     "execution_count": 42,
     "metadata": {},
     "output_type": "execute_result"
    }
   ],
   "source": [
    "q.push(3)\n",
    "q"
   ]
  },
  {
   "cell_type": "markdown",
   "id": "16c672f8",
   "metadata": {},
   "source": [
    "### Pop\n",
    "Popping is simply removing from the head of the linked list."
   ]
  },
  {
   "cell_type": "code",
   "execution_count": 43,
   "id": "b14b291b",
   "metadata": {},
   "outputs": [
    {
     "data": {
      "text/plain": [
       "6<-2<-3"
      ]
     },
     "execution_count": 43,
     "metadata": {},
     "output_type": "execute_result"
    }
   ],
   "source": [
    "q.pop()\n",
    "q"
   ]
  },
  {
   "cell_type": "code",
   "execution_count": 44,
   "id": "89297b2a",
   "metadata": {},
   "outputs": [
    {
     "data": {
      "text/plain": [
       "2<-3"
      ]
     },
     "execution_count": 44,
     "metadata": {},
     "output_type": "execute_result"
    }
   ],
   "source": [
    "q.pop()\n",
    "q"
   ]
  },
  {
   "cell_type": "markdown",
   "id": "35453e98",
   "metadata": {},
   "source": [
    "### Get\n",
    "The front of the queue is simply the head of the list, which we can obtain the value of."
   ]
  },
  {
   "cell_type": "code",
   "execution_count": 45,
   "id": "ae5e980e",
   "metadata": {},
   "outputs": [
    {
     "data": {
      "text/plain": [
       "2"
      ]
     },
     "execution_count": 45,
     "metadata": {},
     "output_type": "execute_result"
    }
   ],
   "source": [
    "q.get()"
   ]
  },
  {
   "cell_type": "markdown",
   "id": "c67e9c0d",
   "metadata": {},
   "source": [
    "Notice that despite us doing the same sequence of operations on the stack and the queue, they produce different results."
   ]
  },
  {
   "cell_type": "markdown",
   "id": "04b5783a-d7b2-45e2-bf33-7664eb2ff065",
   "metadata": {},
   "source": [
    "### Doubly-linked list"
   ]
  },
  {
   "cell_type": "code",
   "execution_count": null,
   "id": "d556e3a2-b5a6-44f1-81ab-a8a573075ed4",
   "metadata": {},
   "outputs": [],
   "source": []
  }
 ],
 "metadata": {
  "kernelspec": {
   "display_name": "Python 3 (ipykernel)",
   "language": "python",
   "name": "python3"
  },
  "language_info": {
   "codemirror_mode": {
    "name": "ipython",
    "version": 3
   },
   "file_extension": ".py",
   "mimetype": "text/x-python",
   "name": "python",
   "nbconvert_exporter": "python",
   "pygments_lexer": "ipython3",
   "version": "3.10.4"
  }
 },
 "nbformat": 4,
 "nbformat_minor": 5
}
