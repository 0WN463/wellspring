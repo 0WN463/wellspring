{
 "cells": [
  {
   "cell_type": "code",
   "execution_count": 1,
   "id": "inside-manhattan",
   "metadata": {},
   "outputs": [],
   "source": [
    "import numpy as np\n",
    "import matplotlib.pyplot as plt"
   ]
  },
  {
   "cell_type": "markdown",
   "id": "available-rescue",
   "metadata": {},
   "source": [
    "# Design and Training\n",
    "\n",
    "## Sequential vs Batch Training\n",
    "### Sequential Training\n",
    "From the previous chapter, we fed the input in one at a time and performed backpropagation after each input.\n",
    "This means that if we have N input in our training set, we need to update the weights N times for each epoch.\n",
    "This may be the cause of slow learning of the model"
   ]
  },
  {
   "cell_type": "markdown",
   "id": "introductory-sustainability",
   "metadata": {},
   "source": [
    "### Batch Training\n",
    "Suppose we were to feed all the input into the network and obtain an error $E(i)$ for each of the input.\n",
    "Then we average the error ($E_{avg} = \\frac{1}{N}\\sum E(i)$).\n",
    "Afterwords, we use this averaged error for gradient calculation used in backpropagation.\n",
    "The gradient will simply be \n",
    "\n",
    "$$\n",
    "\\frac{\\partial E_{avg}}{\\partial w} = \\frac{1}{N}\\sum \\frac{\\partial E(i)}{\\partial w}\n",
    "$$\n",
    "\n",
    "With this, we only perform weight update only once for each epoch."
   ]
  },
  {
   "cell_type": "markdown",
   "id": "rocky-triumph",
   "metadata": {},
   "source": [
    "### Noise\n",
    "#### Gradient Estimation\n",
    "In sequential training, the model is trying to reduce the error for each sample; compared to batch training, where the model is trying to reduce the average error across the sample.\n",
    "Thus, we can say that the gradient calculated in sequential training is a noisy estimate of the true gradient that we desire.\n",
    "Because our goal is to ultimately ensure that the model is able to perform well for all samples, using batch training may achieve this goal more closely."
   ]
  },
  {
   "cell_type": "markdown",
   "id": "parental-wrapping",
   "metadata": {},
   "source": [
    "#### Local Minima\n",
    "However, sequential training may obtain a better solution than the batch training because batch training may be stuck in a local minima. \n",
    "Sequential training can alleviate this by using the noise to its advantage, which can help the model escape the local minima to find a better solution."
   ]
  },
  {
   "cell_type": "markdown",
   "id": "periodic-houston",
   "metadata": {},
   "source": [
    "#### Convergence\n",
    "At the same time, because of the noise, sequential training will not converge while batch training will converge.\n",
    "To help prevent the error from fluctuating too wildly near the end of the training session, we can reduce the learning rate over time. (This is similar to the idea of [Simulated Annealing](../ai/local_search.ipynb#simulated_annealing))"
   ]
  },
  {
   "cell_type": "markdown",
   "id": "false-recording",
   "metadata": {},
   "source": [
    "#### Second Order Method\n",
    "Since we require the learning rate to be very small in order to fulfil our assumption of the gradient derived from the first order Taylor expansion, this also lead to slow learning.\n",
    "\n",
    "When using batch learning, we can calculate the second order expansion of the error function.\n",
    "\n",
    "$$\n",
    "E(\\vec w(n+1))= E(\\vec w(n) + \\Delta \\vec w(n)) \\approx E(\\vec w(n)) + \\vec g^T(n)\\Delta \\vec w(n)+ \\frac{1}{2}\\Delta \\vec w^T(n)H(n)\\Delta \\vec w(n)\n",
    "$$\n",
    "\n",
    "\n",
    "$$\n",
    "\\frac{\\partial{E(\\Delta \\vec w(n+1))}}{\\partial \\vec w(n)}= \\vec g^T(n)+ \\Delta \\vec w^T (n)H(n)\n",
    "$$\n",
    "\n",
    "$$\n",
    "\\frac{\\partial{E(\\Delta \\vec w(n+1))}}{\\partial \\vec w(n)}= 0 \\Rightarrow \\Delta \\vec w (n) = -H^{-1}(n) \\vec g(n)\n",
    "$$\n",
    "\n",
    "Where H(n) is the Hessian matrix $= \\frac{\\partial^2{E(w)}}{\\partial w^2}$\n",
    "\n",
    "To compute the Hessian, we can use a given algorithm depending on the size of our network\n",
    "* For small number of weights, we can use Newton and Gauss-Newton algorithms or Levenberg-Marquardt algorithms.\n",
    "    * The memory required is $O(W^2)$\n",
    "* For moderate number of weights, we can use quasi-Newton algorithms.\n",
    "    * The memory required is $O(W^2)$\n",
    "* For large number of weights, we can use conjugate-gradient algorithms.\n",
    "    * The memory required is $O(W)$\n",
    "    \n",
    "This means we can jump to somewhere close the minima in one step rather than inching towards it using gradient descent.\n",
    "\n",
    "Thus, if we are using batch training, we can achieve convergence faster.\n",
    "\n",
    "Note that if we used second order method with sequential training, we will find the minima with respect to the current input, which does not achieve our goal of finding the minima across all the sample."
   ]
  },
  {
   "cell_type": "markdown",
   "id": "national-bibliography",
   "metadata": {},
   "source": [
    "## Input Normalization\n",
    "Consider the problem of classifying the age of the dog, given the breed, size, weight and gender.\n",
    "\n",
    "Our input would be in the range of \n",
    "* Size: 30cm - 100cm\n",
    "* Weight: 5kg - 30kg\n",
    "* Gender: 0 for male, 1 for female\n",
    "\n",
    "Now suppose the dog that we are interested in have the following parameters:\n",
    "* Size: 60cm\n",
    "* Weight: 30kg\n",
    "* Gender: 0\n",
    "\n",
    "From the model's point of view, the size seems like the most distinctive feature of the dog.\n",
    "However, 60cm is around the mean of the dog size, while the most distinctive feature of the dog is actually its weight.\n",
    "\n",
    "Thus, we should normalize our input so that our model knows the range of each parameter intrinsically."
   ]
  },
  {
   "cell_type": "markdown",
   "id": "healthy-marking",
   "metadata": {},
   "source": [
    "### Choice of Range\n",
    "We can either normalize the range of our input such that it is from \\[0,1\\] or \\[-1, 1\\]\n",
    "\n",
    "During backpropagation, we know that\n",
    "\n",
    "$$\n",
    "\\Delta \\vec w(n) = \\eta \\vec \\delta(n) \\vec x(n)\n",
    "$$\n",
    "\n",
    "Notice that if all $\\vec x(n)$ is positive, then every weight of a specific neuron will be adjusted in the same direction because $\\vec \\delta(n)$ is the same for every weight.\n",
    "Thus, our weights can only be updated in one direction at a time.\n",
    "Hence, we would want the range to be \\[-1, 1\\] to give freedom to the weights to be adjusted in different directions.\n"
   ]
  },
  {
   "cell_type": "markdown",
   "id": "classical-official",
   "metadata": {},
   "source": [
    "### Choice of Scale\n",
    "By similar logic, we would want the scale of each parameter to be similar, so that the weights are updated by a similar scale.\n",
    "\n",
    "Thus, a simple way to normalize the input would be\n",
    "\n",
    "$$\n",
    "\\begin{align*}\n",
    "\\bar x_i &= \\frac{\\sum x_i }{N} &     \\sigma_i &= \\sqrt{\\frac{\\sum (x_i - \\bar x_i)^2}{N}}  &  x'_i&=\\frac{x_i - \\bar x_i}{\\sigma_i}\\\\\n",
    "\\end{align*}\n",
    "$$"
   ]
  },
  {
   "cell_type": "markdown",
   "id": "settled-knight",
   "metadata": {},
   "source": [
    "## Choice of Activation Function\n",
    "### Hidden Layer\n",
    "By the same logic as the choice of range, we would desire the activation function for the hidden layer to be hyperbolic tangent function so that the range of output is \\[-1, 1\\] also.\n",
    "\n",
    "### Output Layer\n",
    "The choice of activation function for the output layer will depend on the problem that we are trying to solve.\n",
    "Depending on the range of the result of the problem, we can use:\n",
    "* logistic sigmoid for \\[0, 1\\]\n",
    "* hyperbolic tangent for \\[-1, 1\\]\n",
    "* linear for regression"
   ]
  },
  {
   "cell_type": "markdown",
   "id": "conceptual-asthma",
   "metadata": {},
   "source": [
    "## Generalization\n",
    "When a network generalize well, it should produce output that are close to being correct for some test input that it has never seen before.\n",
    "\n",
    "**Factors affecting generalization**\n",
    "* Size of training set\n",
    "* Accuracy of training labels\n",
    "* Architecture of network\n",
    "* Training process\n",
    "\n",
    "### Overfitting\n",
    "Overfitting is a sign of bad generalization, where the network has enough \"power\" to reduce the error without generalizing.\n",
    "\n",
    "### Empirical Condition\n",
    "For good generalization, we should satisfy the following empirical condition:\n",
    "\n",
    "The size of the training set should be $x$ times the number of free parameters in the network, where $x$ is $\\frac{1}{\\text{error amount}}$\n",
    "\n",
    "Thus, if we wish to have a 10% error for the test set, we would need a training set of size $\\frac{1}{10\\%} = 10$ times the number of free parameters.\n",
    "\n",
    "However, for most applications, we may not have enough training data to satisfy this condition.\n",
    "\n",
    "Hence, a good rule of thumb to have good generalization, we should aim to have:\n",
    "* Regularization\n",
    "* Minimal network structure\n",
    "\n",
    "### Regularization\n",
    "Notice that for the one dimensional case, overfitting occurs when there are regions of high gradients in the output.\n",
    "This correspond to high gradients in some of the building blocks of the network.\n",
    "Thus, we can correlate high gradients to overfitting.\n",
    "Since gradient is simply the product of the weights, we can use the size of the weights as a indication of how well our model is generalizing.\n",
    "\n",
    "Thus, we can regularize our cost function by incorporating a cost on the weights of the network also\n",
    "\n",
    "$$\n",
    "F = E_D + \\lambda E_w\n",
    "$$\n",
    "\n",
    "where $F$ is the new cost function, $E_D$ is the error on the training data and $E_w$ is the cost on the weights.\n",
    "\n",
    "In the past, weight decay is used, where \n",
    "$$\n",
    "E_w = (b^{(2)})^2 + \\sum((w_i^{(1)})^2+(w_i^{(2)})^2+(b_i^{(1)})^2)\n",
    "$$\n",
    "\n",
    "More recently, weight elimination is used, where \n",
    "$$\n",
    "E_w = \\sum(w_i^{(1)}w_i^{(2)})^2\n",
    "$$\n",
    "\n",
    "since we know that gradient of the building block solely depends on the product of the weights."
   ]
  },
  {
   "cell_type": "markdown",
   "id": "digital-antique",
   "metadata": {},
   "source": [
    "## Finding Minimal Structure <a id = \"hidden-neuron\"></a>\n",
    "We can determine the number of hidden neurons/layer using trial and error, by: \n",
    "* network growing: start with a small network and add neurons/layers until we can solve the problem\n",
    "* network pruning: start with a large network and remove neurons/layers until we cannot solve the problem\n",
    "\n",
    "However, we wish to find a more empirical approach to choosing the number of hidden units needed.\n"
   ]
  },
  {
   "cell_type": "markdown",
   "id": "other-roommate",
   "metadata": {},
   "source": [
    "### Geometric Analysis\n",
    "Suppose we have a (1-1-1) multilayer perceptron, using the piecewise linear as the activation function of the hidden layer and linear for the output layer.\n",
    "\n",
    "We now consider the effects on the ouput when we vary the weights.\n",
    "Suppose we call this the **building block** for this network."
   ]
  },
  {
   "cell_type": "code",
   "execution_count": 2,
   "id": "strong-albany",
   "metadata": {
    "scrolled": false
   },
   "outputs": [
    {
     "data": {
      "image/png": "[encoded data removed]",
      "text/plain": [
       "<Figure size 432x288 with 1 Axes>"
      ]
     },
     "metadata": {
      "needs_background": "light"
     },
     "output_type": "display_data"
    }
   ],
   "source": [
    "from module.mlp import MLP\n",
    "from module.activation_function import PiecewiseLinear, Linear\n",
    "\n",
    "mlp = MLP((1,1,1))\n",
    "mlp.neurons[1][0].activation_function = PiecewiseLinear()\n",
    "mlp.neurons[1][0].weights = np.array([0, 1])\n",
    "\n",
    "mlp.neurons[2][0].activation_function = Linear()\n",
    "mlp.neurons[2][0].weights = np.array([0, 1])\n",
    "\n",
    "fig, ax = plt.subplots(1, 1)\n",
    "\n",
    "xs = np.linspace(-1.5, 1.5, 100)\n",
    "inputs = np.array([[x] for x in xs])\n",
    "ys = [mlp.get_outputs(i) for i in inputs]\n",
    "\n",
    "plt.plot(xs, ys, '-k')\n",
    "ax.set_xlabel(\"input x\")\n",
    "ax.set_ylabel(\"output y\")\n",
    "fig.suptitle('Input vs Output with weight = 1, bias = 0', fontsize=12)\n",
    "plt.show()\n"
   ]
  },
  {
   "cell_type": "markdown",
   "id": "acute-record",
   "metadata": {},
   "source": [
    "Notice that when we change the weight and bias, the follow graph materializes:"
   ]
  },
  {
   "cell_type": "code",
   "execution_count": 3,
   "id": "collaborative-parker",
   "metadata": {},
   "outputs": [
    {
     "data": {
      "image/png": "[encoded data removed]",
      "text/plain": [
       "<Figure size 432x288 with 1 Axes>"
      ]
     },
     "metadata": {
      "needs_background": "light"
     },
     "output_type": "display_data"
    }
   ],
   "source": [
    "mlp = MLP((1,1,1))\n",
    "mlp.neurons[1][0].activation_function = PiecewiseLinear()\n",
    "mlp.neurons[1][0].weights = np.array([2, 3])\n",
    "\n",
    "mlp.neurons[2][0].activation_function = Linear()\n",
    "mlp.neurons[2][0].weights = np.array([1, 4])\n",
    "\n",
    "fig, ax = plt.subplots(1, 1)\n",
    "\n",
    "xs = np.linspace(-1.5, 1.5, 100)\n",
    "inputs = np.array([[x] for x in xs])\n",
    "ys = [mlp.get_outputs(i) for i in inputs]\n",
    "\n",
    "plt.plot(xs, ys, '-k')\n",
    "ax.set_xlabel(\"input x\")\n",
    "ax.set_ylabel(\"output y\")\n",
    "fig.suptitle('Input vs Output with varying weights and biases', fontsize=12)\n",
    "plt.show()\n"
   ]
  },
  {
   "cell_type": "markdown",
   "id": "greenhouse-dragon",
   "metadata": {},
   "source": [
    "Notice a few properties of the new graph.\n",
    "\n",
    "* $b_1, w_1 = 2,3$\n",
    "* $b_2, w_2 = 1,4$\n",
    "* Height of building block $= 5 - 1 = 4 = w_2$\n",
    "* Width of building block $ \\approx 0.333 \\approx \\frac{1}{w_1}$\n",
    "* Center of the block $\\approx -0.667 \\approx -\\frac{b_1}{w_1}$\n",
    "* Gradient of the block $ = 12 = w_1 w_2$\n",
    "* y offset $= 1 = b_2$\n",
    "\n",
    "Indeed, we can prove each property is indeed the values on the right hand side for any possible weights and biases.\n",
    "\n",
    "Now suppose we wish to approximate the function with the following shape"
   ]
  },
  {
   "cell_type": "code",
   "execution_count": 4,
   "id": "documented-visibility",
   "metadata": {},
   "outputs": [
    {
     "data": {
      "image/png": "[encoded data removed]",
      "text/plain": [
       "<Figure size 432x288 with 1 Axes>"
      ]
     },
     "metadata": {
      "needs_background": "light"
     },
     "output_type": "display_data"
    }
   ],
   "source": [
    "fig, ax = plt.subplots(1, 1)\n",
    "\n",
    "xs = np.linspace(-1.5, 1.5, 100)\n",
    "ys = np.where(xs < -0.5, xs+2, 1.25 - xs/2)\n",
    "\n",
    "plt.plot(xs, ys, '-k')\n",
    "fig.suptitle('Target Function', fontsize=12)\n",
    "plt.show()"
   ]
  },
  {
   "cell_type": "markdown",
   "id": "outstanding-tuesday",
   "metadata": {},
   "source": [
    "Notice that each building block contribute to one \"slope side\" of the function.\n",
    "Thus, we know that we can approximate this shape using a multilayer perceptron of size (1,2,1), since the output is simply the sum of the building blocks.\n",
    "\n",
    "y_offset = 0.5\n",
    "slope = 1\n",
    "center = -1\n",
    "width = 1\n",
    "\n",
    "y_offset 0.5\n",
    "slop = -1/2\n",
    "center = 0.5\n",
    "width = 2\n"
   ]
  },
  {
   "cell_type": "code",
   "execution_count": 5,
   "id": "interstate-characterization",
   "metadata": {},
   "outputs": [
    {
     "data": {
      "image/png": "[encoded data removed]",
      "text/plain": [
       "<Figure size 432x288 with 2 Axes>"
      ]
     },
     "metadata": {
      "needs_background": "light"
     },
     "output_type": "display_data"
    }
   ],
   "source": [
    "mlp = MLP((1,1,1))\n",
    "mlp.neurons[1][0].activation_function = PiecewiseLinear()\n",
    "mlp.neurons[1][0].weights = np.array([1, 1])\n",
    "\n",
    "mlp.neurons[2][0].activation_function = Linear()\n",
    "mlp.neurons[2][0].weights = np.array([0.5, 1])\n",
    "\n",
    "fig, axs = plt.subplots(2)\n",
    "\n",
    "xs = np.linspace(-1.5, 1.5, 100)\n",
    "inputs = np.array([[x] for x in xs])\n",
    "ys = [mlp.get_outputs(i) for i in inputs]\n",
    "\n",
    "axs[0].plot(xs, ys, '-k')\n",
    "axs[0].set_xlabel(\"input x\")\n",
    "axs[0].set_ylabel(\"output y\")\n",
    "\n",
    "mlp = MLP((1,1,1))\n",
    "mlp.neurons[1][0].activation_function = PiecewiseLinear()\n",
    "mlp.neurons[1][0].weights = np.array([0.25, -0.5])\n",
    "\n",
    "mlp.neurons[2][0].activation_function = Linear()\n",
    "mlp.neurons[2][0].weights = np.array([0.5, 1])\n",
    "\n",
    "xs = np.linspace(-1.5, 1.5, 100)\n",
    "inputs = np.array([[x] for x in xs])\n",
    "ys = [mlp.get_outputs(i) for i in inputs]\n",
    "\n",
    "axs[1].plot(xs, ys, '-k')\n",
    "axs[1].set_xlabel(\"input x\")\n",
    "axs[1].set_ylabel(\"output y\")\n",
    "plt.show()"
   ]
  },
  {
   "cell_type": "code",
   "execution_count": 6,
   "id": "large-secretary",
   "metadata": {},
   "outputs": [
    {
     "data": {
      "image/png": "[encoded data removed]",
      "text/plain": [
       "<Figure size 432x288 with 1 Axes>"
      ]
     },
     "metadata": {
      "needs_background": "light"
     },
     "output_type": "display_data"
    }
   ],
   "source": [
    "mlp = MLP((1,2,1))\n",
    "mlp.neurons[1][0].activation_function = PiecewiseLinear()\n",
    "mlp.neurons[1][0].weights = np.array([1, 1])\n",
    "\n",
    "mlp.neurons[1][1].activation_function = PiecewiseLinear()\n",
    "mlp.neurons[1][1].weights = np.array([0.25, -0.5])\n",
    "\n",
    "mlp.neurons[2][0].activation_function = Linear()\n",
    "mlp.neurons[2][0].weights = np.array([-0.5, 1, 1])\n",
    "\n",
    "fig, ax = plt.subplots(1, 1)\n",
    "\n",
    "xs = np.linspace(-1.5, 1.5, 100)\n",
    "inputs = np.array([[x] for x in xs])\n",
    "ys = [mlp.get_outputs(i) for i in inputs]\n",
    "\n",
    "plt.plot(xs, ys, '-k')\n",
    "ax.set_xlabel(\"input x\")\n",
    "ax.set_ylabel(\"output y\")\n",
    "fig.suptitle('Approximated function with MLP', fontsize=12)\n",
    "plt.show()\n"
   ]
  },
  {
   "cell_type": "markdown",
   "id": "wireless-disposition",
   "metadata": {},
   "source": [
    "Thus indeed, our MLP can approximate and function, and we get a geometric understanding of the weights and biases.\n",
    "\n",
    "Thus, given any continuous function, we can estimate the number of hidden neurons needed by determining the minimum number of building blocks required to estimate the function.\n",
    "\n",
    "For higher dimensions, our building blocks will be planes or hyperplanes.\n",
    "\n",
    "And if we use another activation function, our building blocks may be smooth instead of flat.\n",
    "This can allow for better approximation of smooth functions."
   ]
  },
  {
   "cell_type": "markdown",
   "id": "worth-blake",
   "metadata": {},
   "source": [
    "---\n",
    "\n",
    "Since choosing the determining the number of building blocks needed for a high dimensional problem is difficult, we face problems finding the minimal structure for our network for higher dimensional problems.\n",
    "\n",
    "---"
   ]
  },
  {
   "cell_type": "markdown",
   "id": "expired-arlington",
   "metadata": {},
   "source": [
    "## Determining Minimal Structure for High Dimensions\n",
    "### Finding Redundant Neurons\n",
    "Suppose in our network, there is two neurons whose outputs are linearly dependent on each other.\n",
    "This means that we can actually eliminate one of the neuron and incorporate its weights into the other.\n",
    "\n",
    "Suppose we want to find the redundant hidden neurons in the network.\n",
    "\n",
    "One way to find it is to look at the output of every hidden neuron, that is:\n",
    "\n",
    "$$\n",
    "h_{ki} = \\varphi_i(w_i x + b_i) \\in H\n",
    "$$\n",
    "\n",
    "This will result in $H_{N \\times n}$, where N is the number of input sample while n is the number of hidden neurons.\n",
    "\n",
    "Thus, now our aim is to find all potentially redundant neurons in the network.\n",
    "\n",
    "### Singular Value Decomposition\n",
    "We can factorize the matrix using SVD, which will result in:\n",
    "\n",
    "$$\n",
    "H_{N \\times n} =  U_{N \\times N}\\Sigma_{N \\times n}V^T_{n \\times n}\n",
    "$$\n",
    "\n",
    "where U and V are orthogonal and \n",
    "\n",
    "$$\n",
    "\\Sigma_{N \\times n} = \n",
    "\\begin{pmatrix}\n",
    "\\sigma_1 & 0 & \\cdots & 0  & \\cdots & 0\\\\\n",
    "0 & \\sigma_2 & \\cdots & 0 & \\cdots & 0\\\\\n",
    "\\vdots & \\vdots & \\ddots & \\vdots & \\ddots & 0\\\\\n",
    "0 & 0 & \\cdots & \\sigma_k & \\cdots & 0\\\\\n",
    "\\vdots & \\vdots & \\ddots & \\vdots & \\ddots & 0\\\\\n",
    "0 & 0 & 0 & 0 & \\cdots & 0\\\\\n",
    "\\end{pmatrix}\n",
    "$$\n",
    "\n",
    "An interesting property of $\\Sigma$ is that it holds the effective rank of the columns, where $\\sigma_1 \\geq \\sigma_2 \\geq \\dots \\geq \\sigma_k$.\n",
    "\n",
    "#### Numerical Rank vs Effective Rank\n",
    "The numerical rank of the matrix is the number of independent rows/columns.\n",
    "However, this is not very useful to us because two vectors in the matrix may be very similar but still independent.\n",
    "\n",
    "For example:\n",
    "\n",
    "$$\n",
    "\\begin{align*}\n",
    "M_1 = \n",
    "\\begin{pmatrix}\n",
    "1 & 0 & 0 \\\\\n",
    "0 & 1 & 0 \\\\\n",
    "0 & 0 & 1 \\\\\n",
    "\\end{pmatrix}\n",
    "\\quad\n",
    "&\n",
    "M_2 = \n",
    "\\begin{pmatrix}\n",
    "1 & 0 & 0 \\\\\n",
    "0 & 1 & 0 \\\\\n",
    "0 & 1 & 0.001 \\\\\n",
    "\\end{pmatrix}\n",
    "\\end{align*}\n",
    "$$\n",
    "\n",
    "$M_1$ and $M_2$ are both full rank, but $M_2$ have 2 rows which are very similar to each other.\n",
    "\n",
    "Thus, what we are interested in is the effective rank of the vectors in the matrix instead.\n",
    "If we compute the SVD as per below:"
   ]
  },
  {
   "cell_type": "code",
   "execution_count": 7,
   "id": "realistic-logic",
   "metadata": {},
   "outputs": [
    {
     "name": "stdout",
     "output_type": "stream",
     "text": [
      "[1. 1. 1.]\n",
      "[1.41421374e+00 1.00000000e+00 7.07106693e-04]\n"
     ]
    }
   ],
   "source": [
    "import numpy as np\n",
    "\n",
    "m1 = np.identity(3)\n",
    "m2 = np.array([[1, 0, 0], [0, 1, 0], [0, 1, 0.001]])\n",
    "\n",
    "_, s1, _ = np.linalg.svd(m1)\n",
    "_, s2, _ = np.linalg.svd(m2)\n",
    "print(s1)\n",
    "print(s2)"
   ]
  },
  {
   "cell_type": "markdown",
   "id": "announced-roads",
   "metadata": {},
   "source": [
    "We see that $\\Sigma$ indeed indicates the lack thereof independence between the vectors in $M_2$, as shown by the small magnitude of $\\sigma_k$."
   ]
  },
  {
   "cell_type": "markdown",
   "id": "postal-macintosh",
   "metadata": {},
   "source": [
    "### Threshold for $\\sigma$\n",
    "Now, we just need a way to count the number of vectors with significant contribution to the matrix.\n",
    "\n",
    "However, it is not recommended to use absolute values as all the $\\sigma$ may be small.\n",
    "\n",
    "Thus, we should normalize the $\\sigma$ to find those vectors which are significant.\n",
    "\n",
    "Two common ways are:\n",
    "\n",
    "$$\n",
    "\\begin{align*}\n",
    "\\min _k \\frac{\\sum_{i=1}^k \\sigma_i}{\\sum_{i=1}^n \\sigma_i} \\geq \\gamma &\n",
    "\\quad\n",
    "\\min _k \\frac{\\sum_{i=1}^k \\sigma_i^2}{\\sum_{i=1}^n \\sigma_i^2} \\geq \\gamma \n",
    "\\end{align*}\n",
    "$$\n",
    "\n",
    "where $\\gamma$ is the threshold of spectral energy (usually 95% or 99%) and k is the minimum number of vectors needed to reach this threshold.\n",
    "\n",
    "### Methodology\n",
    "Thus, we have derived a method to find the minimal structure for the problem\n",
    "\n",
    "1. Construct a network with many hidden neurons\n",
    "2. Train the network\n",
    "3. Compute SVD and find k\n",
    "4. Construct a network with k hidden neurons\n",
    "5. Repeat 2-5 until convergence"
   ]
  },
  {
   "cell_type": "markdown",
   "id": "coupled-strain",
   "metadata": {},
   "source": [
    "### Threshold for $\\sigma$\n",
    "Now, we just need a way to count the number of vectors with significant contribution to the matrix.\n",
    "\n",
    "However, it is not recommended to use absolute values as all the $\\sigma$ may be small.\n",
    "\n",
    "Thus, we should normalize the $\\sigma$ to find those vectors which are significant.\n",
    "\n",
    "Two common ways are:\n",
    "\n",
    "$$\n",
    "\\begin{align*}\n",
    "\\min _k \\frac{\\sum_{i=1}^k \\sigma_i}{\\sum_{i=1}^n \\sigma_i} \\geq \\gamma &\n",
    "\\quad\n",
    "\\min _k \\frac{\\sum_{i=1}^k \\sigma_i^2}{\\sum_{i=1}^n \\sigma_i^2} \\geq \\gamma \n",
    "\\end{align*}\n",
    "$$\n",
    "\n",
    "where $\\gamma$ is the threshold of spectral energy (usually 95% or 99%) and k is the minimum number of vectors needed to reach this threshold.\n",
    "\n",
    "### Methodology\n",
    "Thus, we have derived a method to find the minimal structure for the problem\n",
    "\n",
    "1. Construct a network with many hidden neurons\n",
    "2. Train the network\n",
    "3. Compute SVD and find k\n",
    "4. Construct a network with k hidden neurons\n",
    "5. Repeat 2-5 until convergence"
   ]
  },
  {
   "cell_type": "markdown",
   "id": "planned-letter",
   "metadata": {},
   "source": [
    "## Number of Hidden Layers\n",
    "For some problems, we can solve the problem by increasing the number of hidden layers instead of number of hidden neurons.\n",
    "This may allow us to have a network with less free parameters, and thus better training.\n",
    "A general guideline is that, if the problem can be decomposed into smaller subproblems, then introducing more hidden layers may be a good strategy.\n",
    "\n",
    "However, it is to note that **increasing number of hidden layers increases the tendency for the model to be trapped in a local minimum** due to a more complicated structure."
   ]
  },
  {
   "cell_type": "code",
   "execution_count": null,
   "id": "reported-messaging",
   "metadata": {},
   "outputs": [],
   "source": []
  }
 ],
 "metadata": {
  "kernelspec": {
   "display_name": "Python 3",
   "language": "python",
   "name": "python3"
  },
  "language_info": {
   "codemirror_mode": {
    "name": "ipython",
    "version": 3
   },
   "file_extension": ".py",
   "mimetype": "text/x-python",
   "name": "python",
   "nbconvert_exporter": "python",
   "pygments_lexer": "ipython3",
   "version": "3.6.8"
  }
 },
 "nbformat": 4,
 "nbformat_minor": 5
}
