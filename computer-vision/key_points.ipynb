{
 "cells": [
  {
   "cell_type": "code",
   "execution_count": 1,
   "id": "ad166f2f",
   "metadata": {},
   "outputs": [],
   "source": [
    "import sys\n",
    "sys.path.append('..')\n",
    "\n",
    "from common.utility import show_implementation\n",
    "from module.utility import show_images\n",
    "\n",
    "import numpy as np\n",
    "import matplotlib.pyplot as plt\n",
    "from PIL import Image"
   ]
  },
  {
   "cell_type": "code",
   "execution_count": 2,
   "id": "cb527f64",
   "metadata": {
    "deletable": false,
    "editable": false
   },
   "outputs": [],
   "source": [
    "rose_image = Image.open('images/rose.jpg').resize((288, 216))\n",
    "rose_image_rgb = np.array(rose_image.convert('RGB'))\n",
    "\n",
    "woman_image = Image.open('images/woman.jpg').resize((288, 216))\n",
    "woman_image_grey = np.array(woman_image.convert('L'))"
   ]
  },
  {
   "cell_type": "markdown",
   "id": "1b41f07e",
   "metadata": {},
   "source": [
    "# Key Points\n",
    "## Motivation\n",
    "\n",
    "Suppose that, given a set of images that are taken a distance apart in the scene, we wish to join them together to form one big image.\n",
    "That is, suppose that we are trying to recreate the panorama feature on smart phones."
   ]
  },
  {
   "cell_type": "markdown",
   "id": "1777f4fa",
   "metadata": {},
   "source": [
    "To do so, we need to do the following for each pair of images to match:\n",
    "1. Find locations to match\n",
    "2. Have a representation of the surrounding region\n",
    "3. Perform the matching"
   ]
  },
  {
   "cell_type": "markdown",
   "id": "8736a484",
   "metadata": {},
   "source": [
    "## Characteristics of Good Local Features\n",
    "* Repeatable interest points\n",
    "    * The same point can be found in other images, regardless of geometric and photometric transformations\n",
    "        * Geometric: Rotation/Scale changes\n",
    "        * Photometric: Intensity changes\n",
    "* Distinct descriptors\n",
    "    * Captures distinctively different information for each different points of interest\n",
    "* Efficient\n",
    "    * Number of features much be much less than the number of pixels in the image\n",
    "* Local\n",
    "    * Feature should occupy a small area of image"
   ]
  },
  {
   "cell_type": "markdown",
   "id": "4a0017f8",
   "metadata": {},
   "source": [
    "### Distinct Descriptors\n",
    "Consider the the image below."
   ]
  },
  {
   "cell_type": "code",
   "execution_count": 3,
   "id": "85db62eb",
   "metadata": {},
   "outputs": [
    {
     "data": {
      "image/png": "[encoded data removed]",
      "text/plain": [
       "<Figure size 432x288 with 1 Axes>"
      ]
     },
     "metadata": {
      "needs_background": "light"
     },
     "output_type": "display_data"
    }
   ],
   "source": [
    "from matplotlib.patches import Rectangle\n",
    "\n",
    "def make_image():\n",
    "    fig, ax = plt.subplots()\n",
    "\n",
    "    ax.plot((1, 1, 2), (0, 3, 1))\n",
    "    ax.set_xlim((0, 5))\n",
    "    ax.set_ylim((0, 5))\n",
    "    ax.xaxis.set_visible(False)\n",
    "    ax.yaxis.set_visible(False)\n",
    "    return ax\n",
    "\n",
    "make_image()\n",
    "plt.show()"
   ]
  },
  {
   "cell_type": "code",
   "execution_count": 4,
   "id": "5a2459bf",
   "metadata": {},
   "outputs": [
    {
     "data": {
      "image/png": "[encoded data removed]",
      "text/plain": [
       "<Figure size 432x288 with 1 Axes>"
      ]
     },
     "metadata": {
      "needs_background": "light"
     },
     "output_type": "display_data"
    }
   ],
   "source": [
    "ax = make_image()\n",
    "ax.add_patch(Rectangle((3, 1), 1, 1, fill=None))\n",
    "plt.show()"
   ]
  },
  {
   "cell_type": "markdown",
   "id": "8f83893e",
   "metadata": {},
   "source": [
    "Suppose that we are considering the flat region in the image, as above.\n",
    "Notice that if we shift the window in any direction slightly, the content in the window will not change.\n",
    "This means this region is **not distinct**."
   ]
  },
  {
   "cell_type": "code",
   "execution_count": 5,
   "id": "355555ca",
   "metadata": {},
   "outputs": [
    {
     "data": {
      "image/png": "[encoded data removed]",
      "text/plain": [
       "<Figure size 432x288 with 1 Axes>"
      ]
     },
     "metadata": {
      "needs_background": "light"
     },
     "output_type": "display_data"
    }
   ],
   "source": [
    "ax = make_image()\n",
    "ax.add_patch(Rectangle((0.5, 0.5), 1, 1, fill=None))\n",
    "plt.show()"
   ]
  },
  {
   "cell_type": "markdown",
   "id": "6fbfff1f",
   "metadata": {},
   "source": [
    "Now suppose that we instead are considering the region along the vertical line.\n",
    "Notice that a (small) horizontal shift will change the content in the window, but a (small) vertical shift will not cause any change."
   ]
  },
  {
   "cell_type": "code",
   "execution_count": 6,
   "id": "3496183e",
   "metadata": {},
   "outputs": [
    {
     "data": {
      "image/png": "[encoded data removed]",
      "text/plain": [
       "<Figure size 432x288 with 1 Axes>"
      ]
     },
     "metadata": {
      "needs_background": "light"
     },
     "output_type": "display_data"
    }
   ],
   "source": [
    "ax = make_image()\n",
    "ax.add_patch(Rectangle((0.5, 2.5), 1, 1, fill=None))\n",
    "plt.show()"
   ]
  },
  {
   "cell_type": "markdown",
   "id": "77bcb7ba",
   "metadata": {},
   "source": [
    "Now consider the window that contains a corner.\n",
    "Because of this corner, a shift in any direction will change the location of this corner in the window. \n",
    "This means that this location is distinct and is what we are looking for."
   ]
  },
  {
   "cell_type": "markdown",
   "id": "4039ef2a",
   "metadata": {},
   "source": [
    "## How to detect corners?\n",
    "\n",
    "Suppose we shift a $x \\times y$ window $W$ by an offset of $(u, v)$.\n",
    "To compute the difference of each pixel after shifting, we get:"
   ]
  },
  {
   "cell_type": "markdown",
   "id": "9b495bc4",
   "metadata": {},
   "source": [
    "$$\n",
    "E(u,v) = \\sum _{(x, y) \\in W} (I(x+u, y+v) - I(x, y)) ^2\n",
    "$$"
   ]
  },
  {
   "cell_type": "markdown",
   "id": "76e98987",
   "metadata": {},
   "source": [
    "For a good descriptor, we wish for this error to be high."
   ]
  },
  {
   "cell_type": "markdown",
   "id": "4b4d644b",
   "metadata": {},
   "source": [
    "However, notice that this would require a lot of computation since we would need to compute the difference in windows for each pixel.\n",
    "Thus, we make some assumptions."
   ]
  },
  {
   "cell_type": "markdown",
   "id": "08f5ec7c",
   "metadata": {},
   "source": [
    "We only consider the cases when the shifts are small.\n",
    "This allows us to use the following Taylor Series approximation:"
   ]
  },
  {
   "cell_type": "markdown",
   "id": "78fb2589",
   "metadata": {},
   "source": [
    "$$\n",
    "I(x+u, y+v) = I(x,y) + \\frac{\\partial I}{\\partial x} u + \\frac{\\partial I}{\\partial y} v + \\text {higher order terms} \\\\\n",
    "\\approx  I(x,y) + \\frac{\\partial I}{\\partial x} u + \\frac{\\partial I}{\\partial y} \\\\\n",
    "=  I(x,y) + I_x u + I_y v\n",
    "$$"
   ]
  },
  {
   "cell_type": "markdown",
   "id": "a17e5f32",
   "metadata": {},
   "source": [
    "Therefore, we get:"
   ]
  },
  {
   "cell_type": "markdown",
   "id": "f45dd2be",
   "metadata": {},
   "source": [
    "$$\n",
    "E(u,v) = \\sum _{(x, y) \\in W} (I(x+u, y+v) - I(x, y)) ^2 \\\\\n",
    "= \\sum _{(x, y) \\in W} (I(x,y) + I_x u + I_y v- I(x, y)) ^2\n",
    "= \\sum _{(x, y) \\in W} (I_x u + I_y v) ^2\\\\\n",
    "= Au^2 + 2Buv + Cv^2\\\\\n",
    "\\text{where } A = \\sum _{(x, y) \\in W} I_x^2, \\quad B = \\sum _{(x, y) \\in W} I_x I_y, \\quad C = \\sum _{(x, y) \\in W} I^2_y\n",
    "$$"
   ]
  },
  {
   "cell_type": "markdown",
   "id": "5e09377b",
   "metadata": {},
   "source": [
    "We can also write the expression as "
   ]
  },
  {
   "cell_type": "markdown",
   "id": "30fe0ab2",
   "metadata": {},
   "source": [
    "$$E(u,v) = \n",
    "\\begin{pmatrix}\n",
    "u & v\n",
    "\\end{pmatrix}\n",
    "\\begin{pmatrix}\n",
    "A & B \\\\ B & C\n",
    "\\end{pmatrix}\n",
    "\\begin{pmatrix}\n",
    "u \\\\ v\n",
    "\\end{pmatrix}\n",
    "$$"
   ]
  },
  {
   "cell_type": "markdown",
   "id": "aa742e92",
   "metadata": {},
   "source": [
    "We call the matrix $H=\n",
    "\\begin{pmatrix}\n",
    "A & B \\\\ B & C\n",
    "\\end{pmatrix}$ the second moment matrix"
   ]
  },
  {
   "cell_type": "markdown",
   "id": "fa9c854e",
   "metadata": {},
   "source": [
    "It is known that quadratic functions can be visualized as ellipses.\n",
    "In this case, $H$ will control the shape of the ellipse, where the eigenvectors of $H$ will control the orientation, and the eigenvalues will control the length of the axes."
   ]
  },
  {
   "cell_type": "markdown",
   "id": "ffed5039",
   "metadata": {},
   "source": [
    "Hence, the larger eigenvalue corresponds to the direction of the largest increase in error, while its eigenvalue correspond to the amount of increase in that direction.\n",
    "Similarly, the smaller eigenvector corresponds to the smallest increase."
   ]
  },
  {
   "cell_type": "markdown",
   "id": "7317de8b",
   "metadata": {},
   "source": [
    "This means that when only one of the eigenvalue is zero, it means that we are in a region along an straight edge."
   ]
  },
  {
   "cell_type": "markdown",
   "id": "2aa38968",
   "metadata": {},
   "source": [
    "### Finding Corners\n",
    "Thus, it becomes straightforward that we wish to find areas where the smaller eigenvalue is large, as those will correspond to regions which gives large changes in the window regardless of shift direction."
   ]
  },
  {
   "cell_type": "markdown",
   "id": "104fb4e3",
   "metadata": {},
   "source": [
    "However, finding eigenvalue is a slow process, since we need to compute roots.\n",
    "We can use the following approximation using the **Harris operator**, defined as:"
   ]
  },
  {
   "cell_type": "markdown",
   "id": "b6ba1851",
   "metadata": {},
   "source": [
    "$$\n",
    "R = \\det H - \\kappa \\text{trace}^2 H\n",
    "$$"
   ]
  },
  {
   "cell_type": "markdown",
   "id": "7c3f244c",
   "metadata": {},
   "source": [
    "where\n",
    "$$\n",
    "\\det H = \\lambda_1 \\lambda_2, \\quad \\text{trace} H = \\lambda_1 + \\lambda_2,  \\quad 0.04 \\leq \\kappa \\leq 0.06 \n",
    "$$"
   ]
  },
  {
   "cell_type": "markdown",
   "id": "8f5d4d07",
   "metadata": {},
   "source": [
    "However, by linear algebra, we also know that $\\det H = A \\times C - B^2$, and trace $H = A + C$, which speeds up our computation."
   ]
  },
  {
   "cell_type": "code",
   "execution_count": 7,
   "id": "5c9eef36",
   "metadata": {},
   "outputs": [],
   "source": [
    "shape_image = Image.open('images/shapes.png')\n",
    "shape_image = np.array(shape_image.convert('L'))"
   ]
  },
  {
   "cell_type": "code",
   "execution_count": 8,
   "id": "3674e9fd",
   "metadata": {},
   "outputs": [
    {
     "name": "stdout",
     "output_type": "stream",
     "text": [
      "def harris(image, window_size=5, kappa=0.05, window=None):\n",
      "    Ix = compute_one_gradient(image, Orientation.horizontal)\n",
      "    Iy = compute_one_gradient(image, Orientation.vertical)\n",
      "\n",
      "    w = np.ones((window_size, window_size)) if window is None else window\n",
      "\n",
      "    A = convolve(Ix**2, w, clip=False, pad=False)\n",
      "    B = convolve(Ix*Iy, w, clip=False, pad=False)\n",
      "    C = convolve(Iy**2, w, clip=False, pad=False)\n",
      "\n",
      "    det = A * C - B ** 2\n",
      "    tr = A + C\n",
      "\n",
      "    R = det - 0.05 * tr ** 2\n",
      "\n",
      "    return R\n"
     ]
    }
   ],
   "source": [
    "from module.corners import harris\n",
    "show_implementation(harris)"
   ]
  },
  {
   "cell_type": "code",
   "execution_count": 9,
   "id": "abf159ce",
   "metadata": {},
   "outputs": [],
   "source": [
    "R = harris(shape_image)"
   ]
  },
  {
   "cell_type": "code",
   "execution_count": 10,
   "id": "8485631d",
   "metadata": {
    "scrolled": false
   },
   "outputs": [
    {
     "data": {
      "image/png": "[encoded data removed]",
      "text/plain": [
       "<Figure size 921.6x691.2 with 2 Axes>"
      ]
     },
     "metadata": {
      "needs_background": "light"
     },
     "output_type": "display_data"
    }
   ],
   "source": [
    "show_images([(shape_image, \"Original Image\"), (R, \"R\", True)])"
   ]
  },
  {
   "cell_type": "markdown",
   "id": "bd6b1feb",
   "metadata": {},
   "source": [
    "As we can see, we indeed get a high response at the corners of the rectangle."
   ]
  },
  {
   "cell_type": "code",
   "execution_count": 26,
   "id": "57bedc9d",
   "metadata": {},
   "outputs": [],
   "source": [
    "from module.kernel import gaussian_filter\n",
    "R = harris(shape_image, window=gaussian_filter(5))"
   ]
  },
  {
   "cell_type": "code",
   "execution_count": 27,
   "id": "eda2212c",
   "metadata": {
    "scrolled": false
   },
   "outputs": [
    {
     "data": {
      "image/png": "[encoded data removed]",
      "text/plain": [
       "<Figure size 921.6x691.2 with 2 Axes>"
      ]
     },
     "metadata": {
      "needs_background": "light"
     },
     "output_type": "display_data"
    }
   ],
   "source": [
    "show_images([(shape_image, \"Original Image\"), (R, \"R\", True)])"
   ]
  },
  {
   "cell_type": "code",
   "execution_count": 32,
   "id": "b2853664",
   "metadata": {
    "scrolled": false
   },
   "outputs": [
    {
     "data": {
      "image/png": "[encoded data removed]",
      "text/plain": [
       "<Figure size 921.6x691.2 with 2 Axes>"
      ]
     },
     "metadata": {
      "needs_background": "light"
     },
     "output_type": "display_data"
    }
   ],
   "source": [
    "rose_image_grey = np.array(rose_image.convert('L'))\n",
    "\n",
    "\n",
    "show_images([(rose_image_grey, \"Original Image\"), (harris(rose_image_grey, 5), \"R\", True)])"
   ]
  },
  {
   "cell_type": "code",
   "execution_count": null,
   "id": "7f8e5385",
   "metadata": {},
   "outputs": [],
   "source": []
  }
 ],
 "metadata": {
  "kernelspec": {
   "display_name": "Python 3",
   "language": "python",
   "name": "python3"
  },
  "language_info": {
   "codemirror_mode": {
    "name": "ipython",
    "version": 3
   },
   "file_extension": ".py",
   "mimetype": "text/x-python",
   "name": "python",
   "nbconvert_exporter": "python",
   "pygments_lexer": "ipython3",
   "version": "3.9.6"
  }
 },
 "nbformat": 4,
 "nbformat_minor": 5
}
