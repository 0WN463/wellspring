{
 "cells": [
  {
   "cell_type": "markdown",
   "id": "logical-agency",
   "metadata": {
    "deletable": false,
    "editable": false,
    "run_control": {
     "frozen": true
    }
   },
   "source": [
    "$$\n",
    "\\newcommand{theorem}{\\textbf{Theorem: }}\n",
    "\\newcommand{proof}{\\textbf{Proof: }}\n",
    "\\newcommand{lemma}{\\textbf{Lemma: }}\n",
    "\\newcommand{corollary}{\\textbf{Corollary: }}\n",
    "\\newcommand{prop}{\\textbf{Proposition: }}\n",
    "$$"
   ]
  },
  {
   "cell_type": "markdown",
   "id": "5c379fd1-aa47-4c19-874c-24432160d1b3",
   "metadata": {},
   "source": [
    "$$\n",
    "\\newcommand{v}{\\mathbf}\n",
    "\\newcommand{inv}{^{-1}}\n",
    "\\newcommand\\mat[1]{\\begin{pmatrix}#1\\end{pmatrix}} \n",
    "\\newcommand\\det[1]{\\left| #1\\right|} \n",
    "\\newcommand\\norm[1]{\\lVert #1\\rVert} \n",
    "\\newcommand\\set[1]{\\left\\{#1\\right\\}} \n",
    "$$"
   ]
  },
  {
   "cell_type": "code",
   "execution_count": 1,
   "id": "b36c2cd5-beff-44b9-b636-1545fff9f5e6",
   "metadata": {},
   "outputs": [],
   "source": [
    "import numpy as np\n",
    "import matplotlib.pyplot as plt"
   ]
  },
  {
   "cell_type": "markdown",
   "id": "249ec447-c9cb-4685-b173-65218e149722",
   "metadata": {},
   "source": [
    "# Introduction"
   ]
  },
  {
   "cell_type": "markdown",
   "id": "3bf5a9a5-066f-4fb4-bb77-3a0231cb8ba3",
   "metadata": {},
   "source": [
    "A **point** in 3D space can be encoded as a tuple of 3 numbers, with $(0, 0, 0)$ as the origin."
   ]
  },
  {
   "cell_type": "markdown",
   "id": "37a90fed-b973-4627-8a09-6a33b9a98700",
   "metadata": {},
   "source": [
    "A **vector** is an arrow in 3D-space based at the origin.\n",
    "(Note that though vectors and points can be represented as the same tuple, they represent different objects)."
   ]
  },
  {
   "cell_type": "markdown",
   "id": "37feca57-4a44-4d38-8607-2a744b916978",
   "metadata": {},
   "source": [
    "We will be mostly interested in the 2D and 3D space for this module."
   ]
  },
  {
   "cell_type": "markdown",
   "id": "55a1ba1b-994f-4a4f-ae5f-aa91209b6da1",
   "metadata": {},
   "source": [
    "## Vector operations"
   ]
  },
  {
   "cell_type": "markdown",
   "id": "5250523e-7acb-4654-99aa-5446da2a8b89",
   "metadata": {},
   "source": [
    "### Addition"
   ]
  },
  {
   "cell_type": "markdown",
   "id": "3cf2f948-c47a-4250-933d-0d009b67f406",
   "metadata": {},
   "source": [
    "Given $\\v a = (a_1, a_2, a_3), \\v b = (b_1, b_2, b_3)$, then $$\\v a+ \\v b = (a_1 + b_1, a_2 + b_2, a_3 + b_3)$$\n",
    "\n",
    "Note: **bold** terms represent vectors, while non-bold terms represents scalars. "
   ]
  },
  {
   "cell_type": "markdown",
   "id": "e5ef6778-882d-4d19-9034-b41f05a36f5a",
   "metadata": {},
   "source": [
    "### Scaling"
   ]
  },
  {
   "cell_type": "markdown",
   "id": "118a8953-aac7-44e6-929d-b48b3368a6a5",
   "metadata": {},
   "source": [
    "Given $\\v a = (a_1, a_2, a_3)$ and $t \\in \\mathbb R$, then $$t \\v a = (ta_1 , ta_2, ta_3)$$"
   ]
  },
  {
   "cell_type": "markdown",
   "id": "54d353cb-0041-4805-afdb-93a36a1991af",
   "metadata": {},
   "source": [
    "### Length of vector"
   ]
  },
  {
   "cell_type": "markdown",
   "id": "b76a5db0-8fe1-47fa-aab9-c66a75456260",
   "metadata": {},
   "source": [
    "This is defined as:\n",
    "$$\n",
    "\\norm{\\v u} = \\sqrt {u_1^2 + u_2^2 + u_3^2}\n",
    "$$\n",
    "\n",
    "A unit vector has a length of 1.\n",
    "\n",
    "See also: [Norm](../linear_algebra/euclidean_space.ipynb#Norm)."
   ]
  },
  {
   "cell_type": "markdown",
   "id": "9e6da6c5-7fb9-4646-b7ca-3746d689319e",
   "metadata": {},
   "source": [
    "### Projections"
   ]
  },
  {
   "cell_type": "markdown",
   "id": "3f5d7399-5859-43a4-8c2b-4e9cebfee721",
   "metadata": {},
   "source": [
    "Given non-zero vectors $\\v a, \\v b$, the **vector projection** ($proj_{\\v b}\\v a$) of $\\v a$ unto $\\v b$ is the vector $k \\v b$ such that $k \\v b$ and $\\v a $ forms a right angle with the origin.\n",
    "\n",
    "And the **scalar projection** is simply the length of the vector projection, defined as $comp _{\\v b} \\v a = k \\norm{b}$."
   ]
  },
  {
   "cell_type": "markdown",
   "id": "ff4134ce-77d5-4324-8fc1-9c351553e71d",
   "metadata": {},
   "source": [
    "See also: [Projection](../linear_algebra/orthogonal_projection.ipynb#Orthogonal-projection)"
   ]
  },
  {
   "cell_type": "code",
   "execution_count": 38,
   "id": "b7602438-d5bd-4dca-ac80-452849d85e5d",
   "metadata": {},
   "outputs": [
    {
     "data": {
      "image/png": "[encoded data removed]",
      "text/plain": [
       "<Figure size 640x480 with 1 Axes>"
      ]
     },
     "metadata": {},
     "output_type": "display_data"
    }
   ],
   "source": [
    "plt.axis('scaled')\n",
    "plt.xlim(0, 5.5)\n",
    "plt.ylim(0, 5.5)\n",
    "\n",
    "plt.arrow(0, 0, 3, 5, head_width=0.1, length_includes_head=True)\n",
    "plt.annotate(r'${\\bf a}$', (1, 3))\n",
    "\n",
    "plt.arrow(0, 0, 5, 5, head_width=0.1, length_includes_head=True,color='black')\n",
    "plt.annotate(r'${\\bf b}$', (4.3, 4))\n",
    "\n",
    "plt.arrow(4, 4, -1, 1, width=0.02, head_width=0, color='black')\n",
    "plt.arrow(0.2, -0.2, 4.2, 3.8, head_width=0.1, length_includes_head=True,color='black')\n",
    "plt.annotate(r'$proj_{\\bf b}{\\bf a} = k \\bf b$', (3, 1.8))\n",
    "plt.show()"
   ]
  },
  {
   "cell_type": "markdown",
   "id": "0d035eda-cf98-4456-97a9-d057f4f7ec9c",
   "metadata": {
    "tags": []
   },
   "source": [
    "### Dot product\n",
    "\n",
    "See [Dot Product](../linear_algebra/orthogonal_projection.ipynb#Orthogonal-projection)"
   ]
  },
  {
   "cell_type": "markdown",
   "id": "dcd7bdd7-f663-4f9b-87a6-7b02e8bad187",
   "metadata": {},
   "source": [
    "$\\theorem$ Given non-zero vectors $\\v a, \\v b$, \n",
    "\n",
    "$$\n",
    "proj_{\\v b} \\v a = \\frac{\\v a \\cdot \\v b}{\\v b \\cdot \\v b} \\v b \n",
    "$$\n",
    "$$\n",
    "comp_{\\v b} \\v a = \\frac{\\v a \\cdot \\v b}{\\norm {\\v b}}\n",
    "$$"
   ]
  },
  {
   "cell_type": "markdown",
   "id": "2ea08150-d8e6-40b2-a78f-3edbe739e565",
   "metadata": {},
   "source": [
    "<details>\n",
    "    <summary style=\"color: blue\">$\\proof$ (Click to expand)</summary>\n",
    "    <div style=\"background: aliceblue\">\n",
    "        $$\n",
    "        \\begin{gather*}\n",
    "        \\v a = (a_1, a_2, a_3),\n",
    "        \\v b = (b_1, b_2, b_3)    \\\\\n",
    "        (\\v a - k \\v b) \\perp k \\v b \\\\\n",
    "        \\Rightarrow (\\v a - k \\v b) \\cdot k \\v b = 0 \\\\\n",
    "        \\Rightarrow \\mat{a_1 - kb_1 \\\\ a_2 - kb_2 \\\\ a_3 - kb_3} \\cdot \n",
    "        \\mat{kb_1 \\\\ kb_2 \\\\ kb_3} = 0 \\\\\n",
    "        \\Rightarrow (a_1 - kb_1)(kb_1) + (a_2 - kb_2)(kb_2) + (a_3 - kb_3)(kb_3) = 0 \\\\\n",
    "        \\Rightarrow (a_1 - kb_1)(b_1) + (a_2 - kb_2)(b_2) + (a_3 - kb_3)(b_3) = 0 \\\\\n",
    "        \\Rightarrow (a_1 b_1 - kb_1^2) + (a_2 b_2 - kb_2 ^2) + (a_3 b_3 - kb_3^2) = 0 \\\\\n",
    "        \\Rightarrow a_1 b_1 + a_2 b_2 + a_3 b_3 = k (b_1^2 + b_2^2 + b_3^3) \\\\\n",
    "        \\Rightarrow \\v a \\cdot \\v b= k (\\v b \\cdot \\v b) \\\\\n",
    "        \\Rightarrow k = \\frac{\\v b \\cdot \\v b}{\\v a \\cdot \\v b}\n",
    "        \\end{gather*}\n",
    "        $$\n",
    "        $QED$\n",
    "    </div>\n",
    "</details>"
   ]
  },
  {
   "cell_type": "markdown",
   "id": "e5ab9f29-5dba-4cc1-88e3-ba73967097c0",
   "metadata": {},
   "source": [
    "$\\theorem$ Given non-zero vectors $\\v a, \\v b$ that has angle $\\theta$ between them, then \n",
    "\n",
    "$$\n",
    "\\v a \\cdot \\v b = \\norm {\\v a} \\norm {\\v b} \\cos \\theta\n",
    "$$\n",
    "\n",
    "See also: [Angle](linear_algebra/euclidean_space.ipynb#Angle)"
   ]
  },
  {
   "cell_type": "markdown",
   "id": "98e4a163-84af-4a03-a2d0-9d06947709bf",
   "metadata": {},
   "source": [
    "<details>\n",
    "    <summary style=\"color: blue\">$\\proof$ (Click to expand)</summary>\n",
    "    <div style=\"background: aliceblue\">\n",
    "        $$\n",
    "        \\begin{align*}\n",
    "        comp_{\\v b} \\v a &= \\frac{\\v a \\cdot \\v b}{\\norm {\\v b}} \\\\\n",
    "        \\cos \\theta &= \\frac{comp_{\\v b} \\v a}{\\norm {\\v a}} \\quad \\text{by trigonometry} \\\\\n",
    "        \\cos \\theta &= \\frac{\\v a \\cdot \\v b}{\\norm {\\v a} \\norm{\\v b}} \n",
    "        \\end{align*}\n",
    "        $$\n",
    "        $QED$\n",
    "    </div>\n",
    "</details>"
   ]
  },
  {
   "cell_type": "markdown",
   "id": "0a28c1ab-2aae-496f-b328-300e850b2d01",
   "metadata": {},
   "source": [
    "### Orthogonality\n",
    "\n",
    "[Orthogonality](../linear_algebra/euclidean_space.ipynb#Orthogonality)"
   ]
  },
  {
   "cell_type": "markdown",
   "id": "07784ebe-ff18-42ad-b5bc-05576fba88b4",
   "metadata": {},
   "source": [
    "### Cross product"
   ]
  },
  {
   "cell_type": "markdown",
   "id": "033305c3-2a13-4d8c-93aa-d30d73f09409",
   "metadata": {},
   "source": [
    "The **cross product** of two 3-D vectors, $\\v a, \\v b$, is defined as:\n",
    "$$\n",
    "\\v a \\times \\v b = \\mat{a_2 b_3 - a_3 b_2 \\\\ a_3 b_1 - b_3 a_1 \\\\ a_1 b_2 - a_2 b_1}\n",
    "$$"
   ]
  },
  {
   "cell_type": "markdown",
   "id": "165add88-2038-4c4b-ae59-189ecfeca600",
   "metadata": {},
   "source": [
    "The cross product has the property that it is orthogonal to both $\\v a$ and $\\v b$."
   ]
  },
  {
   "cell_type": "markdown",
   "id": "2231b470-febc-426b-a861-7f46e6520142",
   "metadata": {},
   "source": [
    "<details>\n",
    "    <summary style=\"color: blue\">$\\proof$ (Click to expand)</summary>\n",
    "    <div style=\"background: aliceblue\">\n",
    "        $$\n",
    "        \\begin{align*}\n",
    "        (\\v a \\times \\v b) \\cdot \\v a &= (a_2 b_3 - a_3 b_2) a_1 \n",
    "        + (a_3 b_1 - b_3 a_1) a_2 \n",
    "        + (a_1 b_2 - a_2 b_1) a_3 \\\\\n",
    "        &= a_1 a_2 b_3 + a_2 a_3 b_1 + a_1 a_3 b_2 \n",
    "        - a_1 a_3 b_2 - a_1 a_2 b_3 - a_2 a_3 b_1\n",
    "        = 0 \n",
    "        \\end{align*}\n",
    "        $$\n",
    "        $QED$\n",
    "    </div>\n",
    "</details>"
   ]
  },
  {
   "cell_type": "markdown",
   "id": "621e94f0-b1f5-42df-8e31-f59d4244944c",
   "metadata": {},
   "source": [
    "$\\theorem$ "
   ]
  },
  {
   "cell_type": "markdown",
   "id": "3bfc53b2-1eab-4637-9e24-5c8ddde75730",
   "metadata": {},
   "source": [
    "$$\n",
    "\\norm {\\v a \\times \\v b} = \\norm {\\v a} \\norm {\\v b} \\sin \\theta\n",
    "$$"
   ]
  },
  {
   "cell_type": "markdown",
   "id": "439db23b-4e76-4731-b813-f26a3ae39f9b",
   "metadata": {},
   "source": [
    "### Tangent vector to a line"
   ]
  },
  {
   "cell_type": "markdown",
   "id": "7dea22cf-9493-4636-beee-3ff2d25021d1",
   "metadata": {},
   "source": [
    "Since vector only encodes direction, we can augment it some location information, in the form of a point $A = (a_1, a_2, a_3)$, thus getting $(A, \\v v)$.\n",
    "\n",
    "We can also treat all our vectors as tangent vectors in the form of $(\\v 0, \\v v)$."
   ]
  },
  {
   "cell_type": "code",
   "execution_count": 44,
   "id": "cbc5121e-8f17-45c4-98a5-e7a06e86a999",
   "metadata": {},
   "outputs": [
    {
     "data": {
      "image/png": "[encoded data removed]",
      "text/plain": [
       "<Figure size 640x480 with 1 Axes>"
      ]
     },
     "metadata": {},
     "output_type": "display_data"
    }
   ],
   "source": [
    "plt.axis('scaled')\n",
    "plt.xlim(0, 5.5)\n",
    "plt.ylim(0, 5.5)\n",
    "\n",
    "plt.arrow(4, 4, -1, 1, width=0.02, head_width=0.1, color='black')\n",
    "plt.annotate(r'tangent vector $(A, u)$ where $A = (4, 4), u = (-1, 1)$', (0.2, 3.8))\n",
    "plt.show()"
   ]
  },
  {
   "cell_type": "markdown",
   "id": "0d4945a7-d5a8-4940-9714-feba4f927a17",
   "metadata": {},
   "source": [
    "### Equation of a line"
   ]
  },
  {
   "cell_type": "markdown",
   "id": "e07a8e5e-512f-467f-b32f-2762591cdbdc",
   "metadata": {},
   "source": [
    "A tangent vector determines a line that passes through $A$.\n",
    "\n",
    "Thus, we can define a line as a function of some variable $t$:\n",
    "\n",
    "$$\n",
    "R(t) = \\mat{a_1 \\\\ a_2 \\\\ a_3} + t \\mat{v_1 \\\\ v_2 \\\\ v_3}\n",
    "$$\n",
    "\n",
    "If $\\v v = k \\v u$, then the two lines are parallel."
   ]
  },
  {
   "cell_type": "markdown",
   "id": "7ee3e880-8629-4ab2-89b2-6b2cfe84b8e9",
   "metadata": {},
   "source": [
    "### Different parameterization"
   ]
  },
  {
   "cell_type": "markdown",
   "id": "7e35cfca-69b4-4e97-ac10-ebcd828793b2",
   "metadata": {},
   "source": [
    "Notice that \n",
    "\n",
    "$$\n",
    "R(t) = \\mat{1 \\\\ 1 \\\\ 1} + t \\mat{1 \\\\ 2 \\\\ 3} \n",
    "$$\n",
    "$$\n",
    "S(t) = \\mat{1 \\\\ 1 \\\\ 1} + t \\mat{3 \\\\ 6 \\\\ 9} \n",
    "$$\n",
    "$$\n",
    "Q(t) = \\mat{1 \\\\ 1 \\\\ 1} + t \\mat{-1 \\\\ -2 \\\\ -3} \n",
    "$$\n",
    "\n",
    "all describes the same line.\n",
    "\n",
    "In other words, if $A$'s are the same, and $\\v v = k \\v u$, then they are the same line.\n",
    "\n",
    "However, they have different speed and directions."
   ]
  },
  {
   "cell_type": "markdown",
   "id": "a4a8fadf-f6c5-4dad-910a-078aeddec532",
   "metadata": {},
   "source": [
    "### Pairs of lines"
   ]
  },
  {
   "cell_type": "markdown",
   "id": "4903c49b-74af-4bee-9582-e1dfd306163e",
   "metadata": {},
   "source": [
    "In 2-D, lines either:\n",
    "* are parallel\n",
    "* intersect\n",
    "    \n",
    "\n",
    "In 3-D, lines either:\n",
    "* are parallel\n",
    "* intersect and are not parallel\n",
    "* don't intersect and are not parallel"
   ]
  },
  {
   "cell_type": "markdown",
   "id": "ca0d42e8-abe6-47ca-a249-24a653995521",
   "metadata": {},
   "source": [
    "### Equation of a plane"
   ]
  },
  {
   "cell_type": "markdown",
   "id": "29d3bc88-8465-496e-a55f-63879d9b3f53",
   "metadata": {},
   "source": [
    "### Normal vector"
   ]
  },
  {
   "cell_type": "markdown",
   "id": "e4bc693e-9939-4fb2-b272-6eb5e7f3f39c",
   "metadata": {},
   "source": [
    "Every non-zero tangent vector $(A, \\v v)$ determines a plane $P$ that passes through $A$."
   ]
  },
  {
   "cell_type": "markdown",
   "id": "537c87a1-9831-44b4-9713-a89907fa1c6f",
   "metadata": {},
   "source": [
    "$(A, \\v v)$ is the **normal vector** of $P$ at $A$.\n",
    "\n",
    "$\\v v$ is the **normal direction vector** of $P$."
   ]
  },
  {
   "cell_type": "markdown",
   "id": "652a63f2-e157-41ca-afc7-7c83cd77962a",
   "metadata": {},
   "source": [
    "Just like lines, if $\\v v = k \\v u$, then the two planes are parallel."
   ]
  },
  {
   "cell_type": "markdown",
   "id": "5ad49be8-1e02-4a17-9cc5-8ae5c4f4d491",
   "metadata": {},
   "source": [
    "Consider any point $(x, y, z)$ on the plane.\n",
    "Notice that $(x - a_1, y - a_2, z - a_3)$ forms a tangent vector that lies completely on the plane.\n",
    "\n",
    "Since this tangent vector has to be orthogonal to $\\v v$, we get the following identity\n",
    "$$\n",
    "\\mat{x - a_1\\\\ y - a_2\\\\ z - a_3} \\cdot \\v v = 0\n",
    "$$\n"
   ]
  },
  {
   "cell_type": "markdown",
   "id": "ae96a673-b296-4a66-af3b-5ff52b2ec63e",
   "metadata": {},
   "source": [
    "#### Two lines"
   ]
  },
  {
   "cell_type": "markdown",
   "id": "33961e9e-3a73-4b61-922e-ca742faa4635",
   "metadata": {},
   "source": [
    "We can also determine the plane using two tangent vectors, $(A, \\v v), (B, \\v u)$ that lies completely on the plane."
   ]
  },
  {
   "cell_type": "markdown",
   "id": "170f518d-abf2-418f-8dae-145f8bae9fe3",
   "metadata": {},
   "source": [
    "It can be defined as:\n",
    "\n",
    "$$\n",
    "R(s, t) = A + s \\v v + t \\v u\n",
    "$$\n",
    "\n",
    "($A$ and $B$ are interchangeable)"
   ]
  },
  {
   "cell_type": "markdown",
   "id": "4cc10498-0450-417c-8524-91438ee50970",
   "metadata": {},
   "source": [
    "### Intersection of planes"
   ]
  },
  {
   "cell_type": "markdown",
   "id": "80841f92-a16a-4b8a-a5ac-5b3774b27546",
   "metadata": {},
   "source": [
    "When two planes $(A, \\v v), (B, \\v u)$ intersect, they form a line $L$.\n",
    "\n",
    "The angle between the plane is the angle between $\\v v$ and $\\v u$.\n",
    "\n",
    "$L$ is orthogonal to $\\v v$ and $\\v u$.\n",
    "\n",
    "Any point on $L$ lies on both planes."
   ]
  },
  {
   "cell_type": "code",
   "execution_count": null,
   "id": "0f52c376-c21f-4929-a187-6bc48379c323",
   "metadata": {},
   "outputs": [],
   "source": []
  },
  {
   "cell_type": "code",
   "execution_count": null,
   "id": "957bf7be-b966-4fd6-a2b9-15f041b66ca6",
   "metadata": {},
   "outputs": [],
   "source": []
  }
 ],
 "metadata": {
  "kernelspec": {
   "display_name": "Python 3 (ipykernel)",
   "language": "python",
   "name": "python3"
  },
  "language_info": {
   "codemirror_mode": {
    "name": "ipython",
    "version": 3
   },
   "file_extension": ".py",
   "mimetype": "text/x-python",
   "name": "python",
   "nbconvert_exporter": "python",
   "pygments_lexer": "ipython3",
   "version": "3.10.9"
  }
 },
 "nbformat": 4,
 "nbformat_minor": 5
}
