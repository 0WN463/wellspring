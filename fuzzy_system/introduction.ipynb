{
 "cells": [
  {
   "cell_type": "code",
   "execution_count": 1,
   "id": "common-destruction",
   "metadata": {},
   "outputs": [],
   "source": [
    "import sys\n",
    "\n",
    "sys.path.append(\"..\")\n",
    "\n",
    "from common.utility import show_implementation"
   ]
  },
  {
   "cell_type": "markdown",
   "id": "healthy-bobby",
   "metadata": {},
   "source": [
    "# Introduction\n",
    "## Fuzziness\n",
    "Suppose that we were to create a program that waters our plants for us.\n",
    "\n",
    "A simple way humans water plant is:\n",
    "\n",
    "**\"If the soil is dry, water the plant\"**\n",
    "\n",
    "If we were to try to translate it into a program, we will run into a problem because whether the soil is dry is ambiguous.\n",
    "Thus, a typical solution is to find a threshold for the moisture, for example $1 cm^3$ of water for every $10 cm^3$ of soil.\n",
    "\n",
    "However, we realize that a hard cutoff does not really make sense from a practical standpoint, because $1 cm^3$ would be moist, but $0.999 cm^3$ would be dry.\n",
    "\n",
    "Thus, we realize that there is some inherent fuzziness in human language and perception, that cannot be translated into classical logic."
   ]
  },
  {
   "cell_type": "markdown",
   "id": "closing-poetry",
   "metadata": {},
   "source": [
    "## Crisp sets\n",
    "**Crisp sets** divides elements into two groups: members and non-members.\n",
    "For example, using classical logic, we can divide the range of moisture into \"dry\" and \"not dry\".\n",
    "\n",
    "## Fuzzy set\n",
    "A **fuzzy** set, instead assigns each elements a value to represent the grade of membership in the set.\n",
    "This grade will tell us how similar/compatible the element is with the concept encapsulated by the set.\n",
    "This grade is called the **membership grade**.\n",
    "\n",
    "There are 3 types of fuzzy sets:\n",
    "* Threshold type\n",
    "    * Anything within beyond certain value is in the set and anything before is outside.\n",
    "    * Ambiguous region at the threshold boundary\n",
    "* Conservative type\n",
    "    * Anything beyond some threshold is in the set\n",
    "    * Anything beyond another threshold is outside of the set\n",
    "    * Ambiguous region between the thresholds\n",
    "* Compromiser type\n",
    "    * Anything beyond some threshold is in the set\n",
    "    * Anything beyond another threshold is outside of the set\n",
    "    * Ambiguous region is assign a membership grade between 0-1.\n",
    "    \n",
    "    \n",
    "### Representation\n",
    "\n",
    "For discrete, finite domain, we can define the fuzzy set $A$ as :\n",
    "\n",
    "$$\n",
    "A = \\sum^n_{i=1} \\mu_A(x_i)/x_i\n",
    "$$\n",
    "\n",
    "For example, the fuzzy set for the \"small\" integers.\n",
    "\n",
    "$$\n",
    "0.1/\\text{-} 2 + 0.5/\\text{-}1 + 1/0 + 0.5/1 + 0.1/2\n",
    "$$\n",
    "\n",
    "For continuous infinite set, we would use the integral notation instead."
   ]
  },
  {
   "cell_type": "markdown",
   "id": "adjustable-military",
   "metadata": {},
   "source": [
    "### Attributes\n",
    "* Height $hgt(A)$: Maximum value of the membership function\n",
    "    * A fuzzy set is normal if $hgt(A) = 1$\n",
    "    * Subnormal if $hgt(A) < 1$\n",
    "* Support $Supp(A)$: The crisp set of which $\\mu _A(x) > 0$\n",
    "* Core $Core(A)$: The crisp set of which $\\mu _A(x) = 1$\n",
    "* Cardinality $SC(A) = |A|$: The sum of the membership grades. $= \\sum_{x \\in X} \\mu_A(x) $\n",
    "* Relative Cardinality $RC(A)$: The average membership grade. $= \\frac{SC(A)} {|\\text{Universal Set|}} = \\frac{|A|}{|X|}$"
   ]
  },
  {
   "cell_type": "markdown",
   "id": "comfortable-being",
   "metadata": {},
   "source": [
    "Thus for \n",
    "$$\n",
    "A = 0.1/\\text{-} 2 + 0.5/\\text{-}1 + 1/0 + 0.5/1 + 0.1/2\n",
    "$$\n",
    "\n",
    "* $hgt(A)$: 1\n",
    "    * $A$ is normal\n",
    "* $Supp(A)$: $\\{-2, -1, 0, 1, 2\\}$\n",
    "* $Core(A)$: $\\{0\\}$\n",
    "* $SC(A) = |A|$: $0.1 + 0.5 + 1 + 0.5 + 0.1 = 2.2$\n",
    "* $RC(A)$: $\\frac{2.2}{5} = 0.44$"
   ]
  },
  {
   "cell_type": "markdown",
   "id": "monetary-cutting",
   "metadata": {},
   "source": [
    "The below is an implementation of a discrete fuzzy set."
   ]
  },
  {
   "cell_type": "code",
   "execution_count": 2,
   "id": "romantic-latter",
   "metadata": {},
   "outputs": [
    {
     "name": "stdout",
     "output_type": "stream",
     "text": [
      "class DiscreteFuzzySet(FuzzySet):\n",
      "\n",
      "    \"\"\"Section 1: Definition\"\"\"\n",
      "    def __init__(self, value_grades):\n",
      "        value_grades = list(filter(lambda x: x[0] > 0, value_grades))\n",
      "        \n",
      "        if len(value_grades) == 0:\n",
      "            self.values = []\n",
      "            self.grades = []\n",
      "            return\n",
      "        \n",
      "        grades, values = zip(*value_grades)\n",
      "        self.values = values\n",
      "        self.grades = grades\n",
      "    \n",
      "    @classmethod\n",
      "    def from_string(self, string, value_type=int):\n",
      "        return DiscreteFuzzySet([(float(frag.split('/')[0]), (value_type(frag.split('/')[1]))) for frag in string.split('+')])\n",
      "            \n",
      "\n",
      "    def __repr__(self):\n",
      "        if len(self.grades) == 0:\n",
      "            return 'Empty'\n",
      "        return ' + '.join([f'{g}/{v}' for g,v in sorted(zip(self.grades, self.values), key=lambda x: x[1])])\n",
      "\n",
      "    def get_grade(self, value):\n",
      "        return self.membership_dict[value]\n",
      "\n",
      "    @property\n",
      "    def membership_dict(self):\n",
      "        return defaultdict(float, {v:g for g,v in zip(self.grades, self.values)})\n",
      "\n",
      "    @property\n",
      "    def height(self):\n",
      "        return max(self.grades)\n",
      "\n",
      "    @property\n",
      "    def is_normal(self):\n",
      "        return self.height == 1\n",
      "\n",
      "    @property\n",
      "    def support(self):\n",
      "        return self.values\n",
      "\n",
      "    @property\n",
      "    def core(self):\n",
      "        return [v for v,g in zip(self.values, self.grades) if g == 1]\n",
      "\n",
      "    @property\n",
      "    def cardinality(self):\n",
      "        return sum(self.grades)\n",
      "\n",
      "    @property\n",
      "    def relative_cardinality(self):\n",
      "        return self.cardinality/len(self.grades)\n",
      "\n",
      "\n"
     ]
    }
   ],
   "source": [
    "from module.fuzzy_set import DiscreteFuzzySet\n",
    "\n",
    "show_implementation(DiscreteFuzzySet, \"Section 1\")"
   ]
  },
  {
   "cell_type": "code",
   "execution_count": 3,
   "id": "vietnamese-alexandria",
   "metadata": {},
   "outputs": [
    {
     "name": "stdout",
     "output_type": "stream",
     "text": [
      "Height of A: 1.0\n",
      "Is A normal?: True\n",
      "Support of A: (-2, -1, 0, 1, 2)\n",
      "Core of A: [0]\n",
      "Cardinality of A: 2.2\n",
      "Relative cardinality of A: 0.44000000000000006\n"
     ]
    }
   ],
   "source": [
    "from module.fuzzy_set import DiscreteFuzzySet\n",
    "\n",
    "A = DiscreteFuzzySet.from_string(\"0.1/-2+0.5/-1+1/0+0.5/1+0.1/2\")\n",
    "print(\"Height of A:\", A.height)\n",
    "print(\"Is A normal?:\", A.is_normal)\n",
    "print(\"Support of A:\", A.support)\n",
    "print(\"Core of A:\", A.core)\n",
    "print(\"Cardinality of A:\", A.cardinality)\n",
    "print(\"Relative cardinality of A:\", A.relative_cardinality)"
   ]
  },
  {
   "cell_type": "code",
   "execution_count": null,
   "id": "fitting-oriental",
   "metadata": {},
   "outputs": [],
   "source": []
  }
 ],
 "metadata": {
  "kernelspec": {
   "display_name": "Python 3",
   "language": "python",
   "name": "python3"
  },
  "language_info": {
   "codemirror_mode": {
    "name": "ipython",
    "version": 3
   },
   "file_extension": ".py",
   "mimetype": "text/x-python",
   "name": "python",
   "nbconvert_exporter": "python",
   "pygments_lexer": "ipython3",
   "version": "3.6.8"
  }
 },
 "nbformat": 4,
 "nbformat_minor": 5
}
