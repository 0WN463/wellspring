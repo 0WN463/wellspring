{
 "cells": [
  {
   "cell_type": "code",
   "execution_count": 1,
   "id": "relative-discrimination",
   "metadata": {},
   "outputs": [],
   "source": [
    "import sys\n",
    "sys.path.append('..')\n",
    "\n",
    "from common.utility import show_implementation\n",
    "import matplotlib.pyplot as plt"
   ]
  },
  {
   "cell_type": "markdown",
   "id": "recreational-uruguay",
   "metadata": {},
   "source": [
    "# Fuzzy Operations\n",
    "\n",
    "The way we derive fuzzy operations is to first derive the operation on a crisp set. \n",
    "Then we extend those operations to the fuzzy set."
   ]
  },
  {
   "cell_type": "markdown",
   "id": "challenging-ecology",
   "metadata": {},
   "source": [
    "## Set Relationship\n",
    "### Subset\n",
    "Suppose we have the crisp sets $A = \\{2, 3, 4, 5, 6\\}$ and $B = \\{3, 4\\}$, which correspond to the below graph"
   ]
  },
  {
   "cell_type": "code",
   "execution_count": 2,
   "id": "lonely-active",
   "metadata": {},
   "outputs": [
    {
     "data": {
      "image/png": "[encoded data removed]",
      "text/plain": [
       "<Figure size 432x288 with 1 Axes>"
      ]
     },
     "metadata": {
      "needs_background": "light"
     },
     "output_type": "display_data"
    }
   ],
   "source": [
    "A = [2, 3, 4, 5, 6]\n",
    "B = [3, 4]\n",
    "\n",
    "plt.step(range(10) ,[i in A for i in range(10)] , 'r');\n",
    "plt.step(range(10) ,[i in B for i in range(10)] , 'b');"
   ]
  },
  {
   "cell_type": "markdown",
   "id": "tested-seattle",
   "metadata": {},
   "source": [
    "Here, clearly $B$ is a subset of $A$.\n",
    "\n",
    "Using this as an inspiration, one possible operation is that $B \\subseteq A$ if $\\chi_B(x) \\leq \\chi_A(a)$ for all $x$"
   ]
  },
  {
   "cell_type": "markdown",
   "id": "casual-wallpaper",
   "metadata": {},
   "source": [
    "Now we extend this to the fuzzy set.\n",
    "\n",
    "Suppose that our fuzzy sets are as per below"
   ]
  },
  {
   "cell_type": "code",
   "execution_count": 3,
   "id": "acoustic-brighton",
   "metadata": {},
   "outputs": [
    {
     "data": {
      "image/png": "[encoded data removed]",
      "text/plain": [
       "<Figure size 432x288 with 1 Axes>"
      ]
     },
     "metadata": {
      "needs_background": "light"
     },
     "output_type": "display_data"
    }
   ],
   "source": [
    "from module.fuzzy_set import DiscreteFuzzySet\n",
    "A = DiscreteFuzzySet(((0.1, 2), (1, 3), (1, 4), (0.4, 5), (0.1, 6)))\n",
    "B = DiscreteFuzzySet(((0.8, 3), (1, 4)))\n",
    "\n",
    "plt.step(range(10) ,[A.get_grade(i) for i in range(10)] , 'r');\n",
    "plt.step(range(10) ,[B.get_grade(i) for i in range(10)] , 'b');"
   ]
  },
  {
   "cell_type": "markdown",
   "id": "pleased-supply",
   "metadata": {},
   "source": [
    "Since $\\mu_B(x) \\leq \\mu_A(x)$ for all $x$, we can say that $B \\subseteq A$ for the fuzzy sets."
   ]
  },
  {
   "cell_type": "markdown",
   "id": "pregnant-polls",
   "metadata": {},
   "source": [
    "### Complement\n",
    "\n",
    "Suppose we have the crisp sets $A = \\{2, 3, 4, 5, 6\\}$ again."
   ]
  },
  {
   "cell_type": "code",
   "execution_count": 4,
   "id": "rapid-georgia",
   "metadata": {},
   "outputs": [
    {
     "data": {
      "image/png": "[encoded data removed]",
      "text/plain": [
       "<Figure size 432x288 with 1 Axes>"
      ]
     },
     "metadata": {
      "needs_background": "light"
     },
     "output_type": "display_data"
    }
   ],
   "source": [
    "A = [2, 3, 4, 5, 6]\n",
    "\n",
    "plt.step(range(10) ,[i in A for i in range(10)] , 'r');"
   ]
  },
  {
   "cell_type": "markdown",
   "id": "hungarian-mobile",
   "metadata": {},
   "source": [
    "If we wish to find the complement of the set, we would be finding the value of $x$ such that $\\chi_A(x) = 0$.\n",
    "This is equivalent to the crisp set with characteristic function of $1-\\chi_A(x)$."
   ]
  },
  {
   "cell_type": "code",
   "execution_count": 5,
   "id": "monthly-drive",
   "metadata": {},
   "outputs": [
    {
     "data": {
      "image/png": "[encoded data removed]",
      "text/plain": [
       "<Figure size 432x288 with 1 Axes>"
      ]
     },
     "metadata": {
      "needs_background": "light"
     },
     "output_type": "display_data"
    }
   ],
   "source": [
    "A = [2, 3, 4, 5, 6]\n",
    "\n",
    "plt.step(range(10) ,[1-(i in A) for i in range(10)] , 'r');"
   ]
  },
  {
   "cell_type": "markdown",
   "id": "roman-primary",
   "metadata": {},
   "source": [
    "Equivalently, the fuzzy complement of a fuzzy set has the membership function of $1-\\mu_A(x)$"
   ]
  },
  {
   "cell_type": "code",
   "execution_count": 6,
   "id": "fuzzy-vertical",
   "metadata": {},
   "outputs": [
    {
     "data": {
      "image/png": "[encoded data removed]",
      "text/plain": [
       "<Figure size 432x288 with 2 Axes>"
      ]
     },
     "metadata": {
      "needs_background": "light"
     },
     "output_type": "display_data"
    }
   ],
   "source": [
    "from collections import defaultdict\n",
    "A = defaultdict(float, {2: 0.1, 3: 1, 4:1, 5: 0.4, 6 :0.1})\n",
    "\n",
    "_, axs = plt.subplots(2)\n",
    "axs[0].step(range(10) ,[A[i] if i in A else 0 for i in range(10)] , 'r');\n",
    "axs[1].step(range(10) ,[1 - (A[i] if i in A else 0) for i in range(10)] , 'b');\n"
   ]
  },
  {
   "cell_type": "markdown",
   "id": "inside-brother",
   "metadata": {},
   "source": [
    "#### Complement Conditions\n",
    "A fuzzy complement must satisfy the following properties\n",
    "\n",
    "* $c(0) = 1, c(1) = 0$\n",
    "* For all $\\mu_A(x), \\mu_A(y)$, if $\\mu_A(x) \\leq \\mu_A(y)$, then $c(\\mu_A(x)) \\geq c(\\mu_A(y))$\n",
    "* $c$ is continuous\n",
    "* $c$ is involutive \"$c(c(a)) = a$\""
   ]
  },
  {
   "cell_type": "markdown",
   "id": "independent-acoustic",
   "metadata": {},
   "source": [
    "Even though $c(a) = 1-a$ is a simple complement, it is not the only one.\n",
    "\n",
    "For example, the **Sugeno class** is also a fuzzy complement, defined as:\n",
    "\n",
    "$$\n",
    "c(a) = \\frac{1-a}{1+\\lambda a}, \\quad \\lambda \\in (-1, \\infty)\n",
    "$$"
   ]
  },
  {
   "cell_type": "markdown",
   "id": "expired-netscape",
   "metadata": {},
   "source": [
    "#### Equilibrium\n",
    "The **equilibrium** of a complement is defined as any value of $a$ such that $c(a) = a$.\n",
    "\n",
    "For example, the equilibrium of $c(a) = 1-a$ is $1-a = a \\Rightarrow a = 0.5$"
   ]
  },
  {
   "cell_type": "markdown",
   "id": "limited-nursing",
   "metadata": {},
   "source": [
    "### Union\n",
    "Suppose we have the crisp sets $A = \\{2, 3, 4\\}$ and $B = \\{3, 4, 5, 6\\}$, which correspond to the below graph"
   ]
  },
  {
   "cell_type": "code",
   "execution_count": 7,
   "id": "decimal-seattle",
   "metadata": {},
   "outputs": [
    {
     "data": {
      "image/png": "[encoded data removed]",
      "text/plain": [
       "<Figure size 432x288 with 1 Axes>"
      ]
     },
     "metadata": {
      "needs_background": "light"
     },
     "output_type": "display_data"
    }
   ],
   "source": [
    "import matplotlib.pyplot as plt\n",
    "\n",
    "A = [2, 3, 4]\n",
    "B = [3, 4, 5, 6]\n",
    "\n",
    "plt.step(range(10) ,[i in A for i in range(10)] , 'r');\n",
    "plt.step(range(10) ,[i in B for i in range(10)] , 'b');"
   ]
  },
  {
   "cell_type": "markdown",
   "id": "assumed-passport",
   "metadata": {},
   "source": [
    "Suppose we wish to find the union of the two crisp set.\n",
    "Since we know that $A \\cup B = \\{2, 3, 4, 5, 6\\}$  it is natural to use $max(\\chi_A(x), \\chi_B(x))$ for membership grade of the union set, which would result in the follow graph."
   ]
  },
  {
   "cell_type": "code",
   "execution_count": 8,
   "id": "international-cigarette",
   "metadata": {},
   "outputs": [
    {
     "data": {
      "image/png": "[encoded data removed]",
      "text/plain": [
       "<Figure size 432x288 with 1 Axes>"
      ]
     },
     "metadata": {
      "needs_background": "light"
     },
     "output_type": "display_data"
    }
   ],
   "source": [
    "import matplotlib.pyplot as plt\n",
    "\n",
    "A = [2, 3, 4]\n",
    "B = [3, 4, 5, 6]\n",
    "\n",
    "plt.step(range(10) ,[max(i in A, i in B) for i in range(10)] , 'g');"
   ]
  },
  {
   "cell_type": "markdown",
   "id": "graduate-rings",
   "metadata": {},
   "source": [
    "Once again, we extend this to the fuzzy set.\n",
    "\n",
    "Suppose that our fuzzy sets are as per below"
   ]
  },
  {
   "cell_type": "code",
   "execution_count": 9,
   "id": "synthetic-investigation",
   "metadata": {},
   "outputs": [
    {
     "data": {
      "image/png": "[encoded data removed]",
      "text/plain": [
       "<Figure size 432x288 with 2 Axes>"
      ]
     },
     "metadata": {
      "needs_background": "light"
     },
     "output_type": "display_data"
    }
   ],
   "source": [
    "A = DiscreteFuzzySet(((0.1, 2), (1, 3), (1, 4)))\n",
    "B = DiscreteFuzzySet(((0.8, 3), (0.9, 4), (1, 5), (0.3, 6)))\n",
    "\n",
    "_, axs = plt.subplots(2)\n",
    "axs[0].step(range(10) ,[A.get_grade(i) for i in range(10)] , 'r');\n",
    "axs[0].step(range(10) ,[B.get_grade(i) for i in range(10)] , 'b');\n",
    "axs[1].step(range(10) ,[A.union(B).get_grade(i) for i in range(10)] , 'g');"
   ]
  },
  {
   "cell_type": "markdown",
   "id": "parallel-jimmy",
   "metadata": {},
   "source": [
    "#### Union Conditions\n",
    "A fuzzy union operation must satisfy the following properties\n",
    "\n",
    "* $u(0,0) = 0, u(1,0) = 1, u(0, 1) = 1, u(1,1) = 1$\n",
    "* $u(a,b) = u (b,a)$\n",
    "* If $a' \\leq a$ and $b' \\leq b$, then $u(a', b') \\leq u(a, b)$\n",
    "* $u(u(a, b), c) = u(a, u(b, c))$"
   ]
  },
  {
   "cell_type": "markdown",
   "id": "loving-fabric",
   "metadata": {},
   "source": [
    "### Intersection\n",
    "Similarly, for intersection, we would realize that the desired formulation is $\\chi_{A \\cap B}(x) = max(\\chi_A(x), \\chi_B(x))$ for all values of $x$."
   ]
  },
  {
   "cell_type": "code",
   "execution_count": 10,
   "id": "emerging-cookie",
   "metadata": {},
   "outputs": [
    {
     "data": {
      "image/png": "[encoded data removed]",
      "text/plain": [
       "<Figure size 432x288 with 1 Axes>"
      ]
     },
     "metadata": {
      "needs_background": "light"
     },
     "output_type": "display_data"
    }
   ],
   "source": [
    "import matplotlib.pyplot as plt\n",
    "\n",
    "A = [2, 3, 4]\n",
    "B = [3, 4, 5, 6]\n",
    "\n",
    "plt.step(range(10) ,[max(i in A, i in B) for i in range(10)] , 'g');\n"
   ]
  },
  {
   "cell_type": "code",
   "execution_count": 11,
   "id": "royal-budapest",
   "metadata": {},
   "outputs": [
    {
     "data": {
      "image/png": "[encoded data removed]",
      "text/plain": [
       "<Figure size 432x288 with 2 Axes>"
      ]
     },
     "metadata": {
      "needs_background": "light"
     },
     "output_type": "display_data"
    }
   ],
   "source": [
    "A = [2, 3, 4]\n",
    "B = [3, 4, 5, 6]\n",
    "\n",
    "_, axs = plt.subplots(2)\n",
    "axs[0].step(range(10) ,[i in A for i in range(10)] , 'r');\n",
    "axs[0].step(range(10) ,[i in B for i in range(10)] , 'b');\n",
    "axs[1].step(range(10) ,[min(i in A, i in B) for i in range(10)] , 'g');\n"
   ]
  },
  {
   "cell_type": "code",
   "execution_count": 12,
   "id": "annual-theory",
   "metadata": {},
   "outputs": [
    {
     "data": {
      "image/png": "[encoded data removed]",
      "text/plain": [
       "<Figure size 432x288 with 2 Axes>"
      ]
     },
     "metadata": {
      "needs_background": "light"
     },
     "output_type": "display_data"
    }
   ],
   "source": [
    "A = DiscreteFuzzySet(((0.1, 2), (1, 3), (1, 4)))\n",
    "B = DiscreteFuzzySet(((0.8, 3), (0.9, 4), (1, 5), (0.3, 6)))\n",
    "\n",
    "_, axs = plt.subplots(2)\n",
    "axs[0].step(range(10) ,[A.get_grade(i) for i in range(10)] , 'r');\n",
    "axs[0].step(range(10) ,[B.get_grade(i) for i in range(10)] , 'b');\n",
    "axs[1].step(range(10) ,[A.intersection(B).get_grade(i) for i in range(10)] , 'g');"
   ]
  },
  {
   "cell_type": "markdown",
   "id": "crazy-cannon",
   "metadata": {},
   "source": [
    "#### Intersection Conditions\n",
    "A fuzzy intersection operation must satisfy the following properties\n",
    "\n",
    "* $i(0,0) = 0, i(1,0) = 0, i(0, 1) = 0, i(1,1) = 1$\n",
    "* $i(a,b) = i(b,a)$\n",
    "* If $a' \\leq a$ and $b' \\leq b$, then $i(a', b') \\leq i(a, b)$\n",
    "* $i(i(a, b), c) = i(a, i(b, c))$"
   ]
  },
  {
   "cell_type": "markdown",
   "id": "complete-trustee",
   "metadata": {},
   "source": [
    "Below is the implementation of the operations on fuzzy set.\n",
    "Note that complement is not implemented, because it will result in an infinite fuzzy set, which have rather many intricacies to handle."
   ]
  },
  {
   "cell_type": "code",
   "execution_count": 13,
   "id": "found-journalism",
   "metadata": {},
   "outputs": [
    {
     "name": "stdout",
     "output_type": "stream",
     "text": [
      "class DiscreteFuzzySet(FuzzySet):\n",
      "\n",
      "    \"\"\"Section 2: Operations\"\"\"\n",
      "            \n",
      "    def union(self, other):\n",
      "        values = set(self.membership_dict.keys())\n",
      "        values.update(other.membership_dict.keys())\n",
      "        return DiscreteFuzzySet([(max(self.membership_dict[val], other.membership_dict[val]), val) for val in values])\n",
      "    \n",
      "    def intersection(self, other):\n",
      "        values = set(self.membership_dict.keys())\n",
      "        values.update(other.membership_dict.keys())\n",
      "        return DiscreteFuzzySet([(min(self.membership_dict[val], other.membership_dict[val]), val) for val in values])\n",
      "   \n"
     ]
    }
   ],
   "source": [
    "show_implementation(DiscreteFuzzySet, 'Section 2')"
   ]
  },
  {
   "cell_type": "markdown",
   "id": "vanilla-donor",
   "metadata": {},
   "source": [
    "## Alpha Cut\n",
    "**Definition**: An $\\alpha$-cut ($A_\\alpha$) of a **fuzzy set** $A$ is a **crisp set** that contains all elements in the universal set $X$ that has a membership grade in $A$ that is greater or equals to $\\alpha$.\n",
    "\n",
    "Formally, this is defined as:\n",
    "\n",
    "$$A_\\alpha = \\{x \\in X | \\mu_A(x) \\geq \\alpha\\}$$\n",
    "\n",
    "---\n",
    "\n",
    "A **strong $\\alpha$-cut** ($A_{\\alpha^+}$) is one where the  membership grade in $A$ that is strictly greater than $\\alpha$. \n",
    "\n",
    "Formally, this is defined as:\n",
    "\n",
    "$$A_\\alpha = \\{x \\in X | \\mu_A(x) > \\alpha\\}$$\n"
   ]
  },
  {
   "cell_type": "markdown",
   "id": "northern-banner",
   "metadata": {},
   "source": [
    "For instance, consider the following fuzzy set:\n",
    "$$\n",
    "0.8/3 + 0.9/4 + 1/5 + 0.3/6\n",
    "$$\n",
    "\n",
    "The $\\alpha$-cut when $\\alpha = 0.8$ ($A_{\\alpha=0.8}$) is $\\{3, 4, 5\\}$, while the strong $\\alpha$-cut of $0.8$ is $\\{4, 5\\}$"
   ]
  },
  {
   "cell_type": "markdown",
   "id": "competent-infrared",
   "metadata": {},
   "source": [
    "In particular for any fuzzy set $A$:\n",
    "* $A_{\\alpha=0} = X$\n",
    "* $A_{\\alpha^+=0} = Supp(A)$\n",
    "* $A_{\\alpha=1} = Core(A)$\n",
    "* $A_{\\alpha^+=1} = \\emptyset$"
   ]
  },
  {
   "cell_type": "code",
   "execution_count": 14,
   "id": "boring-commissioner",
   "metadata": {},
   "outputs": [
    {
     "name": "stdout",
     "output_type": "stream",
     "text": [
      "[3, 4, 5]\n",
      "[4, 5]\n"
     ]
    }
   ],
   "source": [
    "A = DiscreteFuzzySet.from_string('0.8/3+0.9/4+1/5+0.3/6')\n",
    "print(A.alpha_cut(0.8))\n",
    "print(A.strong_alpha_cut(0.85))"
   ]
  },
  {
   "cell_type": "markdown",
   "id": "western-financing",
   "metadata": {},
   "source": [
    "## Level Set\n",
    "**Definition:** The **level set** ($\\Lambda_A$) is the set of all levels $\\alpha \\in [0, 1]$ that represents all distinct $\\alpha$-cut of $A$.\n",
    "\n",
    "Formally, it is defined as :\n",
    "\n",
    "$$\\Lambda_A = \\{\\alpha | \\mu_A(x) = \\alpha \\text{ for some } x \\in X\\}$$"
   ]
  },
  {
   "cell_type": "markdown",
   "id": "removable-respondent",
   "metadata": {},
   "source": [
    "Thus, for \n",
    "$$\n",
    "A = 0.8/2 + 0.8/3 + 0.9/4 + 1/5 + 0.3/6 + 0.3/7 + 1/8\n",
    "$$\n",
    "\n",
    "$$\n",
    "\\Lambda_A =\\{0.3, 0.8, 0.9, 1\\}\n",
    "$$"
   ]
  },
  {
   "cell_type": "code",
   "execution_count": 15,
   "id": "signed-parish",
   "metadata": {},
   "outputs": [
    {
     "name": "stdout",
     "output_type": "stream",
     "text": [
      "[0.3, 0.8, 0.9, 1.0]\n"
     ]
    }
   ],
   "source": [
    "A = DiscreteFuzzySet.from_string('0.8/2+0.8/3+0.9/4+1/5+0.3/6+0.3/7+1/8')\n",
    "\n",
    "print(A.level_set)"
   ]
  },
  {
   "cell_type": "markdown",
   "id": "cathedral-illustration",
   "metadata": {},
   "source": [
    "Below is the implementation of the cuts on fuzzy set."
   ]
  },
  {
   "cell_type": "code",
   "execution_count": 16,
   "id": "greater-comfort",
   "metadata": {},
   "outputs": [
    {
     "name": "stdout",
     "output_type": "stream",
     "text": [
      "class DiscreteFuzzySet(FuzzySet):\n",
      "\n",
      "    \"\"\"Section 3: Cuts\"\"\"\n",
      "    def alpha_cut(self, grade):\n",
      "        return [v for v, g in zip(self.values, self.grades) if g >= grade]\n",
      "\n",
      "    def strong_alpha_cut(self, grade):\n",
      "        return [v for v, g in zip(self.values, self.grades) if g > grade]\n",
      "\n",
      "    @property\n",
      "    def level_set(self):\n",
      "        return sorted(set(self.grades))\n",
      "\n"
     ]
    }
   ],
   "source": [
    "show_implementation(DiscreteFuzzySet, 'Section 3')"
   ]
  },
  {
   "cell_type": "markdown",
   "id": "moving-shirt",
   "metadata": {},
   "source": [
    "### <div id='decomposition-theorem'>Decomposition Theorem</div> \n",
    "A fuzzy set $A$ can be written as a union of crisp sets as follow:\n",
    "\n",
    "$$\n",
    "A = \\bigcup_{\\alpha \\in [0,1]} \\alpha (A_\\alpha)\n",
    "$$"
   ]
  },
  {
   "cell_type": "markdown",
   "id": "collectible-sphere",
   "metadata": {},
   "source": [
    "For instance, consider the previous fuzzy set:\n",
    "$$\n",
    "0.8/3 + 0.9/4 + 1/5 + 0.3/6\n",
    "$$\n",
    "\n",
    "We can decompose it into the following fuzzy sets:\n",
    "\n",
    "$$\n",
    "\\begin{align}\n",
    "A_{0.3} = 1/3 + 1/4 + 1/5 + 1/6\\\\\n",
    "A_{0.8} = 1/3 + 1/4 + 1/5 + 0/6\\\\\n",
    "A_{0.9} = 0/3 + 1/4 + 1/5 + 0/6\\\\\n",
    "A_{1} = 0/3 + 0/4 + 1/5 + 0/6\\\\\n",
    "\\end{align}\n",
    "$$\n",
    "\n",
    "And thus, \n",
    "\n",
    "$$\n",
    "A = 0.3 A_{0.3} \\cup 0.8 A_{0.8} \\cup 0.9 A_{0.9} \\cup A_{1}\n",
    "$$"
   ]
  },
  {
   "cell_type": "markdown",
   "id": "damaged-prime",
   "metadata": {},
   "source": [
    "The usefulness of the decomposition theorem is that we can decompose any fuzzy set into a union of crisp sets, then perform crisp set operations on it, and recover our desired fuzzy set by the union of the resultant crisp sets."
   ]
  }
 ],
 "metadata": {
  "kernelspec": {
   "display_name": "Python 3",
   "language": "python",
   "name": "python3"
  },
  "language_info": {
   "codemirror_mode": {
    "name": "ipython",
    "version": 3
   },
   "file_extension": ".py",
   "mimetype": "text/x-python",
   "name": "python",
   "nbconvert_exporter": "python",
   "pygments_lexer": "ipython3",
   "version": "3.6.8"
  }
 },
 "nbformat": 4,
 "nbformat_minor": 5
}
