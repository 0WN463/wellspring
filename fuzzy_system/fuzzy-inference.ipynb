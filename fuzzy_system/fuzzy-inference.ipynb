{
 "cells": [
  {
   "cell_type": "code",
   "execution_count": 1,
   "id": "weekly-skirt",
   "metadata": {},
   "outputs": [],
   "source": [
    "import sys\n",
    "sys.path.append('..')\n",
    "\n",
    "from common.utility import show_implementation"
   ]
  },
  {
   "cell_type": "markdown",
   "id": "acoustic-preserve",
   "metadata": {},
   "source": [
    "# Fuzzy Inference\n",
    "Suppose that we have the following inference.\n",
    "\n",
    "$$\\text{IF ROOM IS HOT THEN SPEED OF FAN SHOULD BE HIGH}$$\n",
    "\n",
    "For crisp inferences, whether the resultant fan speed should be high is easily know.\n",
    "However, for fuzzy inferences, given a room that is *SOMEWHAT HOT*, what should the fan speed be?\n",
    "\n",
    "Notice that the $\\text{IF-THEN}$ structure is very similar to a [fuzzy relationship](./fuzzy-relation.ipynb#fuzzy-relation).\n",
    "This is apparent when we consider view the fuzzy relation as \n",
    "$$\\text{IF THE TEMPERATURE IS HIGH THEN THE PRESSURE IS HIGH}$$\n",
    "Thus, fuzzy inference is actually just a fuzzy relationship."
   ]
  },
  {
   "cell_type": "markdown",
   "id": "educated-departure",
   "metadata": {},
   "source": [
    "## Types of Fuzzy Implication\n",
    "Suppose that we have the fuzzy set of the antecedent and the consequent, how should be define the membership grade of the relationship?\n",
    "There are many possible ways to define the above property, as per below:\n",
    "* Mamdani Implication\n",
    "    * $\\delta(a,b) = \\min (a, b)$\n",
    "* Keleene-Dienes Implication\n",
    "    * $\\delta(a,b) = \\max (1 - a, b)$\n",
    "* Lukasiewicz Implication\n",
    "    * $\\delta(a,b) = \\min (1, 1-a+b)$\n",
    "* Zadeh Implication\n",
    "    * $\\delta(a,b) = \\max (\\min(a, b), 1-a)$"
   ]
  },
  {
   "cell_type": "markdown",
   "id": "dimensional-courage",
   "metadata": {},
   "source": [
    "For this topic, we will be focusing on the **Mamdani Implication**.\n",
    "In Mamdani Implication, we truncate the consequent by the degree of fulfillment of the antecedent."
   ]
  },
  {
   "cell_type": "markdown",
   "id": "worst-statistics",
   "metadata": {},
   "source": [
    "Hence, suppose that the fuzzy set of our antecedent is \n",
    "$$\n",
    "0.5/1 + 1/2 + 0.7/3\n",
    "$$\n",
    "And the fuzzy set of our consequent is \n",
    "$$\n",
    "0.2/4 + 0.6/5 + 1/6\n",
    "$$\n",
    "\n",
    "Then using **Mamdani Implication**, our relationship table would be\n",
    "\n",
    "| $$\\chi_R(x_1, x_2)$$|  4  |  5  |  6  |\n",
    "| -------             | --- | --- | --- |\n",
    "| **1**               | 0.2 | 0.5 | 0.5 |\n",
    "| **2**               | 0.2 | 0.6 | 1   | \n",
    "| **3**               | 0.2 | 0.6 | 0.7 |\n"
   ]
  },
  {
   "cell_type": "code",
   "execution_count": 3,
   "id": "sought-irrigation",
   "metadata": {},
   "outputs": [
    {
     "name": "stdout",
     "output_type": "stream",
     "text": [
      "class DiscreteFuzzyRelation:\n",
      "\n",
      "    \"\"\"Section 2: From Inferences\"\"\"\n",
      "    @classmethod\n",
      "    def from_mamdani(cls, antecedent, consequent):\n",
      "        table = [[min(x, y) for x in consequent.grades] for y in antecedent.grades]\n",
      "        return cls(antecedent.values, consequent.values, table)\n"
     ]
    }
   ],
   "source": [
    "from module.fuzzy_relation import DiscreteFuzzyRelation\n",
    "\n",
    "show_implementation(DiscreteFuzzyRelation, 'Section 2')"
   ]
  },
  {
   "cell_type": "code",
   "execution_count": 2,
   "id": "likely-retention",
   "metadata": {},
   "outputs": [
    {
     "name": "stdout",
     "output_type": "stream",
     "text": [
      "               4              5              6              \n",
      "1              0.2            0.5            0.5            \n",
      "2              0.2            0.6            1.0            \n",
      "3              0.2            0.6            0.7            \n"
     ]
    }
   ],
   "source": [
    "from module.fuzzy_set import DiscreteFuzzySet\n",
    "\n",
    "A = DiscreteFuzzySet.from_string('0.5/1+1/2+0.7/3')\n",
    "B = DiscreteFuzzySet.from_string('0.2/4+0.6/5+1/6')\n",
    "R = DiscreteFuzzyRelation.from_mamdani(A, B)\n",
    "print(R)"
   ]
  },
  {
   "cell_type": "markdown",
   "id": "modified-bouquet",
   "metadata": {},
   "source": [
    "## Determining the Degree of Fulfillment\n",
    "Suppose our inference is in the form of \n",
    "$$\n",
    "\\text{IF A THEN B}\n",
    "$$\n",
    "\n",
    "If our fact $A'$ matches $A$ perfectly, then clearly the degree of fulfillment should be perfect, $1$\n",
    "\n",
    "And if our fact $A'$ does not match $A$ at all, then clearly the degree of fulfillment should be $0$"
   ]
  },
  {
   "cell_type": "markdown",
   "id": "thorough-adventure",
   "metadata": {},
   "source": [
    "Now suppose that $A'$ only partially matches $A$, how should be determine the degree of fulfillment?\n",
    "\n",
    "It is natural to use the area of overlap between the antecedent and $A'$ to determine the degree of fulfillment, since a high overlap means a high degree of matching between $A$ and $A'$.\n",
    "\n",
    "However, this approach breaks down when we consider $A'$ which perfectly fulfills the antecedent, but has a very small area, ie $A'$ is in the core of $A$ but very thin.\n",
    "Hence, a better measure for degree of fulfillment is actually the height of the intersection.\n",
    "Formally, this means that the degree of fulfillment $r$ of an antecedent is defined as \n",
    "$$\n",
    "r(A') = h(A' \\cap A)\n",
    "$$"
   ]
  },
  {
   "cell_type": "markdown",
   "id": "exact-bottom",
   "metadata": {},
   "source": [
    "## Firing Strength\n",
    "The firing strength $s$ of a rule defines how strongly the rule is fired, in the range of $[0, 1]$.\n",
    "\n",
    "If there is only 1 antecedent in the inference rule, then $s = r(A')$ and \n",
    "$$\n",
    "B'(y) = \\min(r(A'), B(y))\n",
    "$$"
   ]
  },
  {
   "cell_type": "markdown",
   "id": "herbal-dealing",
   "metadata": {},
   "source": [
    "If there are two antecedents connected by an $AND$ relationship, then the firing strength is \n",
    "$$\n",
    "s = \\min(r(X'), r(Y'))\n",
    "$$\n",
    "where $X, Y$ are the antecedents."
   ]
  },
  {
   "cell_type": "markdown",
   "id": "hidden-declaration",
   "metadata": {},
   "source": [
    "Similarly, if there are two antecedents connected by an $OR$ relationship, then the firing strength is \n",
    "$$\n",
    "s = \\max(r(X'), r(Y'))\n",
    "$$\n"
   ]
  },
  {
   "cell_type": "markdown",
   "id": "bridal-launch",
   "metadata": {},
   "source": [
    "Now that we have the firing strength, we can determine the conclusion\n",
    "$$\n",
    "B'(y) = \\min(s, B(y))\n",
    "$$"
   ]
  },
  {
   "cell_type": "markdown",
   "id": "southeast-intelligence",
   "metadata": {},
   "source": [
    "## Determining Output of Inference\n",
    "Suppose that we only have one inference rule, then the output is simply the singular fuzzy function from the consequent after applying the fuzzy inference.\n",
    "\n",
    "If there are multiple fuzzy rules, then our output is the union of all the consequents."
   ]
  },
  {
   "cell_type": "markdown",
   "id": "varying-quantity",
   "metadata": {},
   "source": [
    "## Defuzzification\n",
    "Since most systems require a crisp input, to use the fuzzy output we obtain from our system, we need to transform it into a crisp value.\n",
    "\n",
    "There are many defuzzification methods, such as\n",
    "* Center of Area\n",
    "* Center of Sums\n",
    "\n",
    "For this topic, we will utilise the center of area method.\n",
    "\n",
    "### Center of Area\n",
    "For continuous variable, the center of area is calculated by\n",
    "$$\n",
    "x^* = \\frac{\\int \\mu_a(x) x dx}{\\int \\mu_A(x) dx}\n",
    "$$\n",
    "This correspond to the the $x$ value that will split the into two parts of equal area.\n",
    "\n",
    "For discrete variable, the center of area is calculated by\n",
    "$$\n",
    "u^* = \\frac{\\sum u_i \\mu_A(u_i)}{\\sum \\mu_A(u_i)}\n",
    "$$"
   ]
  },
  {
   "cell_type": "code",
   "execution_count": null,
   "id": "threatened-disclosure",
   "metadata": {},
   "outputs": [],
   "source": []
  }
 ],
 "metadata": {
  "kernelspec": {
   "display_name": "Python 3",
   "language": "python",
   "name": "python3"
  },
  "language_info": {
   "codemirror_mode": {
    "name": "ipython",
    "version": 3
   },
   "file_extension": ".py",
   "mimetype": "text/x-python",
   "name": "python",
   "nbconvert_exporter": "python",
   "pygments_lexer": "ipython3",
   "version": "3.6.8"
  }
 },
 "nbformat": 4,
 "nbformat_minor": 5
}
