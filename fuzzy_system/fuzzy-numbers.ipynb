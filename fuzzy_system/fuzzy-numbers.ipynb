{
 "cells": [
  {
   "cell_type": "code",
   "execution_count": 1,
   "id": "coordinated-photographer",
   "metadata": {},
   "outputs": [],
   "source": [
    "import sys\n",
    "sys.path.append('..')\n",
    "\n",
    "from common.utility import show_implementation"
   ]
  },
  {
   "cell_type": "markdown",
   "id": "excellent-sender",
   "metadata": {},
   "source": [
    "# Fuzzy Numbers\n",
    "## Extension Principle\n",
    "Suppose that we have a fuzzy set $\\mu_A$ with some membership function using the variable $x$, and a relationship between the variable $x$ and $y$.\n",
    "How can we create a fuzzy set $\\mu_B$ with respect to the variable $y$?\n",
    "\n",
    "For example, when we have the following fuzzy set for *around-3*, with the following membership function. \n",
    "$$0.8/2 + 1/3 + 0.8/4$$\n",
    "\n",
    "Can we, for instance, generate a similar fuzzy set for *around-6*?\n",
    "\n",
    "It is intuitive to think that *around-6* would be \n",
    "$$0.8/5 + 1/6 + 0.8/7$$\n",
    "\n",
    "To formalise this, in this case, our relationship $f(x)$ is $f(x) = x+3$.\n",
    "\n",
    "Notice that the membership grade is simply $$\\mu_B(f(x)) = \\mu_A(x)$$"
   ]
  },
  {
   "cell_type": "markdown",
   "id": "nasty-species",
   "metadata": {},
   "source": [
    "However, the relationship function may not be bijective.\n",
    "Consider, for example, the following fuzzy set for *around-0*.\n",
    "$$\n",
    "0.3/\\text{ -}2 + 0.8/\\text{ -}1 + 1/0 + 0.7/1 + 0.5/2\n",
    "$$\n",
    "And suppose we wish to find *positive-around-0*, where our relationship function is $f(x) = |x|$.\n",
    "\n",
    "Notice that both $-2$ and $2$ maps to the same value of $2$ in $B$, similarly for $-1$ and $1$.\n",
    "If we were working with crisp sets, we would simply include $2$ in $B$ since both of them indicate the presence of $2$ in the set.\n",
    "To perform a similar operation in fuzzy sets, we take the maximum of all possible membership grade associated with the value, thus $$\\mu_B(y) = \\max_{x | f(x) = y} \\mu_A(x)$$\n",
    "\n",
    "Therefore, the fuzzy set of *positive-around-0* is \n",
    "$$\n",
    "1/0 + 0.8/1 + 0.5/2\n",
    "$$"
   ]
  },
  {
   "cell_type": "markdown",
   "id": "perfect-theater",
   "metadata": {},
   "source": [
    "Thus, the implementation is simply just as below"
   ]
  },
  {
   "cell_type": "code",
   "execution_count": 2,
   "id": "cellular-replication",
   "metadata": {},
   "outputs": [
    {
     "name": "stdout",
     "output_type": "stream",
     "text": [
      "class DiscreteFuzzySet(FuzzySet):\n",
      "\n",
      "    \"\"\"Section 4: Transformation\"\"\"\n",
      "\n",
      "    def transform(self, func):\n",
      "        new_mapping = defaultdict(float)\n",
      "        \n",
      "        for value, grade in zip(self.values, self.grades):\n",
      "            value = func(value)\n",
      "            new_mapping[value] = max(new_mapping[value], grade)\n",
      "    \n",
      "        return DiscreteFuzzySet([(b,a) for a,b in sorted(new_mapping.items())])\n",
      "\n",
      "    def center(self):\n",
      "        return sum([grade*value for value,grade in self.membership_dict.items()])/sum(self.grades)\n"
     ]
    }
   ],
   "source": [
    "from module.fuzzy_set import DiscreteFuzzySet\n",
    "show_implementation(DiscreteFuzzySet, 'Section 4')"
   ]
  },
  {
   "cell_type": "code",
   "execution_count": 3,
   "id": "hazardous-suicide",
   "metadata": {},
   "outputs": [
    {
     "data": {
      "text/plain": [
       "1/0 + 0.8/1 + 0.5/2"
      ]
     },
     "execution_count": 3,
     "metadata": {},
     "output_type": "execute_result"
    }
   ],
   "source": [
    "A = DiscreteFuzzySet.from_string('0.3/-2 + 0.8/-1 + 1/0+ 0.7/1 + 0.5/2')\n",
    "A.transform(lambda x: abs(x))"
   ]
  },
  {
   "cell_type": "markdown",
   "id": "collaborative-controversy",
   "metadata": {},
   "source": [
    "## Fuzzy Number\n",
    "A fuzzy set is a **fuzzy number** if \n",
    "* it is normal\n",
    "* all $\\alpha$-cut is a closed interval\n",
    "* it has a bounded support\n",
    "\n",
    "Fuzzy numbers is a model for quantitative approximation such as around 1.5 meters tall, around 50kg, etc."
   ]
  },
  {
   "cell_type": "markdown",
   "id": "amino-monte",
   "metadata": {},
   "source": [
    "## Arithmetic\n",
    "We can apply the extension principle to define fuzzy number arithmetic, where\n",
    "$$\n",
    "(A*B)(z) = \\max_{z = x*y}\\min(A(x), B(y))\n",
    "$$\n",
    "wherem $*$ is any of the 4 basic arithmetic operators $(+, -, \\times, /)$"
   ]
  },
  {
   "cell_type": "markdown",
   "id": "official-sister",
   "metadata": {},
   "source": [
    "For example, given *around-3* as below,\n",
    "$$0.8/2 + 1/3 + 0.8/4$$\n",
    "\n",
    "We can define *around-6* = *around-3* + *around-3*,\n",
    "$$\n",
    "0.8/4 + 0.8/5 + 1/6 + 0.8/7 + 0.8/8\n",
    "$$\n",
    "Notice that this is slightly different from the one we obtain previously, because we are looking at this as the result of adding two fuzzy numbers, while the previous is mapping a fuzzy number to a new domain.\n",
    "Also notice that this correspond to our intuitive understanding, because the highest membership grade is around the value 6."
   ]
  },
  {
   "cell_type": "markdown",
   "id": "continent-budapest",
   "metadata": {},
   "source": [
    "**Note**: If we have variables $A$ and $B$, both of whose membership grades are\n",
    "$$0.8/2 + 1/3 + 0.8/4$$\n",
    "It is important to know that $A+B \\neq A+A$\n",
    "This is because $A+B$ has two degree of freedom since there is two variables, while $A+A$ only has one degree of freedom.\n",
    "Thus, the membership grade of $A+B$ is \n",
    "$$\n",
    "0.8/4 + 0.8/5 + 1/6 + 0.8/7 + 0.8/8\n",
    "$$\n",
    "while the membership grade of $A+A$ is\n",
    "$$\n",
    "0.8/4 + 1/6 + 0.8/8\n",
    "$$"
   ]
  },
  {
   "cell_type": "markdown",
   "id": "modular-rapid",
   "metadata": {},
   "source": [
    "Hence, the implementation is as per below."
   ]
  },
  {
   "cell_type": "code",
   "execution_count": 4,
   "id": "chemical-think",
   "metadata": {},
   "outputs": [
    {
     "name": "stdout",
     "output_type": "stream",
     "text": [
      "class DiscreteFuzzyNumber(DiscreteFuzzySet):\n",
      "\n",
      "    def _combine(self, other, func):\n",
      "        new_mapping = {}\n",
      "        for value, grade in zip(self.values, self.grades):\n",
      "            for other_value, other_grade in zip(other.values, other.grades):\n",
      "                new_value = func(value, other_value)\n",
      "                new_grade = min(grade, other_grade)\n",
      "                if new_value not in new_mapping:\n",
      "                    new_mapping[new_value] = new_grade\n",
      "                else:\n",
      "                    new_mapping[new_value] = max(new_mapping[new_value], new_grade)\n",
      "\n",
      "        return DiscreteFuzzyNumber([(b,a) for a,b in sorted(new_mapping.items())])\n",
      "      \n",
      "    def __add__(self, other):\n",
      "        if self == other:\n",
      "            return self.transform(lambda x: x + x)\n",
      "        return self._combine(other, lambda a,b: a+b)\n",
      "    def __sub__(self, other):\n",
      "        if self == other:\n",
      "            return self.transform(lambda x: x - x)\n",
      "        return self._combine(other, lambda a,b: a-b)\n",
      "    def __mul__(self, other):\n",
      "        if self == other:\n",
      "            return self.transform(lambda x: x * x)\n",
      "        return self._combine(other, lambda a,b: a*b)\n",
      "    def __truediv__(self, other):\n",
      "        if 0 in other.values:\n",
      "            raise ZeroDivisionError\n",
      "        if self == other:\n",
      "            return self.transform(lambda x: x / x)\n",
      "        return self._combine(other, lambda a,b: a/b)\n",
      "    def __pow__(self, num):\n",
      "        return self.transform(lambda x: x ** num)\n"
     ]
    }
   ],
   "source": [
    "from module.fuzzy_number import DiscreteFuzzyNumber\n",
    "show_implementation(DiscreteFuzzyNumber)"
   ]
  },
  {
   "cell_type": "code",
   "execution_count": 5,
   "id": "chubby-crack",
   "metadata": {},
   "outputs": [
    {
     "name": "stdout",
     "output_type": "stream",
     "text": [
      "A+B: 0.8/4 + 0.8/5 + 1/6 + 0.8/7 + 0.8/8\n",
      "A+A: 0.8/4 + 1/6 + 0.8/8\n",
      "A-B: 0.8/-2 + 0.8/-1 + 1/0 + 0.8/1 + 0.8/2\n",
      "A*B: 0.8/4 + 0.8/6 + 0.8/8 + 1/9 + 0.8/12 + 0.8/16\n",
      "A/B: 0.8/0.5 + 0.8/0.667 + 0.8/0.75 + 1/1 + 0.8/1.33 + 0.8/1.5 + 0.8/2\n"
     ]
    }
   ],
   "source": [
    "A = DiscreteFuzzyNumber.from_string('0.8/2+1/3+0.8/4')\n",
    "B = DiscreteFuzzyNumber.from_string('0.8/2+1/3+0.8/4')\n",
    "\n",
    "print('A+B:', A+B)\n",
    "print('A+A:', A+A)\n",
    "print('A-B:', A-B)\n",
    "print('A*B:', A*B)\n",
    "print('A/B:', A/B)"
   ]
  },
  {
   "cell_type": "markdown",
   "id": "federal-technician",
   "metadata": {},
   "source": [
    "We have discussed the previous with respect to discrete fuzzy number.\n",
    "For continuous fuzzy numbers, we can discretize the function and apply the previous principle.\n",
    "However, this will generate a wrong membership function due to the discretization.\n",
    "\n",
    "To combat this issue, we can apply the <a href='./fuzzy-operations.ipynb#decomposition-theorem'>decomposition theorem</a> to obtain crisp sets, and apply the extension principle on these sets instead. After obtaining the resultant crisps sets, the union of the sets is our resultant membership function."
   ]
  },
  {
   "cell_type": "markdown",
   "id": "historical-journey",
   "metadata": {},
   "source": [
    "## Arithmetic on Intervals\n",
    "### Addition\n",
    "$[a,b] + [c,d] = [a+c, b+d]$\n",
    "### Subtraction\n",
    "$[a,b] - [c,d] = [a-c, b-c]$\n",
    "### Multiplication\n",
    "$[a,b] \\times [c,d] = [\\min(ac, ad, bc, bd), \\max(ac, ad, bc, bd)]$\n",
    "### Division\n",
    "\n",
    "**Only applicable if $0 \\not \\in [c,d]$**\n",
    "\n",
    "$[a,b] / [c,d] = [\\min(a/c, a/d, b/c, b/d), \\max(a/c, a/d, b/c, b/d)]$\n",
    "\n",
    "For multiplication and division, we need to consider all 4 numbers because the interval may contain negative numbers, which means the maximum and minimum will not always be dependent on only the upper or lower bound."
   ]
  },
  {
   "cell_type": "markdown",
   "id": "listed-carbon",
   "metadata": {},
   "source": [
    "## Worked Example\n",
    "Suppose that we have the following fuzzy numbers for *around-1* (A) and *around-2* (B).\n",
    "$$\n",
    "A(x)\\begin{cases}\n",
    "0, x \\leq -1 \\text{ and }x \\geq 3\\\\\n",
    "\\frac{x+1}{2}, -1 < x \\leq 0\\\\\n",
    "\\frac{3-x}{2}, 0 < x \\leq 3\n",
    "\\end{cases}\n",
    "$$\n",
    "$$\n",
    "B(x)\\begin{cases}\n",
    "0, x \\leq 0 \\text{ and }x \\geq 4\\\\\n",
    "\\frac{x}{2}, 0 < x \\leq 2\\\\\n",
    "\\frac{4-x}{2}, 2 < x \\leq 4\n",
    "\\end{cases}\n",
    "$$\n",
    "It correspond to the following graphs.\n"
   ]
  },
  {
   "cell_type": "code",
   "execution_count": 6,
   "id": "elegant-location",
   "metadata": {},
   "outputs": [],
   "source": [
    "def plot_multiple(fuzzy_numbers):\n",
    "    colours = ['red', 'blue', 'green', 'yellow', 'purple']\n",
    "    plots = list(map(lambda num: num.plot(show=False), fuzzy_numbers))\n",
    "    plt = plots[0]\n",
    "    domain = min(map(lambda num: int(num.domain[0]), fuzzy_numbers)) - 2, max(map(lambda num: int(num.domain[-1]), fuzzy_numbers)) + 2\n",
    "    for p in plots[1:]:\n",
    "        plt.extend(p)\n",
    "    plt.xlim = domain\n",
    "    for c,p in zip(colours, plt):\n",
    "        p.line_color = c\n",
    "    plt.show()"
   ]
  },
  {
   "cell_type": "code",
   "execution_count": 7,
   "id": "small-giving",
   "metadata": {},
   "outputs": [
    {
     "data": {
      "image/png": "[encoded data removed]",
      "text/plain": [
       "<Figure size 432x288 with 1 Axes>"
      ]
     },
     "metadata": {
      "needs_background": "light"
     },
     "output_type": "display_data"
    }
   ],
   "source": [
    "from module.trapezoid_fuzzy_number import TrapezoidFuzzyNumber\n",
    "from sympy import symbols\n",
    "x = symbols('x')\n",
    "A = TrapezoidFuzzyNumber((-1 , 3), (x+1)/2, (3-x)/2)\n",
    "B = TrapezoidFuzzyNumber((0 , 4), x/2, (4-x)/2)\n",
    "plot_multiple([A,B])"
   ]
  },
  {
   "cell_type": "markdown",
   "id": "robust-enterprise",
   "metadata": {},
   "source": [
    "Suppose we wish to find $A+B$.\n",
    "\n",
    "Firstly, we find the $\\alpha$-cut of $A$ and $B$.\n",
    "\n",
    "$\\frac{x+1}{2} = \\alpha \\Rightarrow x = 2\\alpha - 1$\n",
    "\n",
    "$\\frac{3-x}{2} = \\alpha \\Rightarrow x = 3 - 2\\alpha$\n",
    "\n",
    "Thus, $A_\\alpha = [2\\alpha - 1, 3 - 2\\alpha]$\n",
    "\n",
    "$\\frac{x}{2} = \\alpha \\Rightarrow x = 2\\alpha$\n",
    "\n",
    "$\\frac{4-x}{2} = \\alpha \\Rightarrow x = 4 - 2\\alpha$\n",
    "\n",
    "Thus, $B_\\alpha = [2\\alpha, 4 - 2\\alpha]$\n",
    "\n",
    "Therefore, $(A + B)_\\alpha = [2\\alpha - 1 + 2\\alpha, 3 - 2\\alpha + 4 - 2 \\alpha] = [4\\alpha - 1, 7 - 4\\alpha]$\n",
    "\n",
    "Finally, since $4\\alpha - 1 = x \\Rightarrow \\alpha = \\frac{x+1}{4}$\n",
    "\n",
    "and\n",
    "\n",
    "$7 - 4\\alpha = x \\Rightarrow \\alpha = \\frac{7-x}{4}$\n",
    "\n",
    "We get \n",
    "\n",
    "$$\n",
    "(A+B)(x)\\begin{cases}\n",
    "0, x \\leq -1 \\text{ and }x \\geq 7\\\\\n",
    "\\frac{x+1}{4}, -1 < x \\leq 3\\\\\n",
    "\\frac{7-x}{4}, 3 < x \\leq 7\n",
    "\\end{cases}\n",
    "$$"
   ]
  },
  {
   "cell_type": "code",
   "execution_count": 8,
   "id": "agricultural-august",
   "metadata": {
    "scrolled": true
   },
   "outputs": [
    {
     "data": {
      "image/png": "[encoded data removed]",
      "text/plain": [
       "<Figure size 432x288 with 1 Axes>"
      ]
     },
     "metadata": {
      "needs_background": "light"
     },
     "output_type": "display_data"
    },
    {
     "data": {
      "text/latex": [
       "$\\displaystyle \\begin{cases} 0 & \\text{for}\\: x \\leq -1 \\vee x > 7 \\\\\\frac{x}{4} + \\frac{1}{4} & \\text{for}\\: x \\leq 3 \\\\\\frac{7}{4} - \\frac{x}{4} & \\text{otherwise} \\end{cases}$"
      ],
      "text/plain": [
       "Piecewise((0, (x <= -1) | (x > 7)), (x/4 + 1/4, x <= 3), (7/4 - x/4, True))"
      ]
     },
     "execution_count": 8,
     "metadata": {},
     "output_type": "execute_result"
    }
   ],
   "source": [
    "plot_multiple([A,B, A+B]);\n",
    "(A+B).formula"
   ]
  },
  {
   "cell_type": "markdown",
   "id": "amazing-roller",
   "metadata": {},
   "source": [
    "Below is the implementation of the TrapezoidFuzzyNumber.\n",
    "Note that we did not implement multiplication or division, because the resulting fuzzy number may not be trapezoidal."
   ]
  },
  {
   "cell_type": "code",
   "execution_count": 9,
   "id": "given-wesley",
   "metadata": {},
   "outputs": [
    {
     "name": "stdout",
     "output_type": "stream",
     "text": [
      "class AlphaCut:\n",
      "\n",
      "    def __init__(self, left_bound, right_bound):\n",
      "        self.left_bound = left_bound\n",
      "        self.right_bound = right_bound\n",
      "\n",
      "    def __add__(self, other):\n",
      "        return AlphaCut(self.left_bound + other.left_bound, self.right_bound + other.right_bound)\n",
      "\n",
      "    def __sub__(self, other):\n",
      "        return AlphaCut(self.left_bound - other.right_bound, self.right_bound - other.left_bound)\n",
      "    \n",
      "    def to_fuzzy(self):\n",
      "        from .trapezoid_fuzzy_number import TrapezoidFuzzyNumber\n",
      "        domain = self.left_bound.subs(a, 0), self.right_bound.subs(a, 0)\n",
      "        left_func = solve(self.left_bound - x, a)[0]\n",
      "        right_func = solve(self.right_bound - x, a)[0]\n",
      "        l, r = domain\n",
      "        return TrapezoidFuzzyNumber((l, r), left_func, right_func)\n",
      "class TrapezoidFuzzyNumber:\n",
      "\n",
      "    \"\"\"Section 1: \"\"\"\n",
      "    def __init__(self, domain, left_func, right_func):\n",
      "        l, r = domain\n",
      "        \n",
      "        core_l, core_r = solve(left_func - 1, x), solve(right_func - 1, x)\n",
      "        \n",
      "        assert len(core_l) == len(core_r) == 1\n",
      "        core_l, core_r = core_l[0], core_r[0]\n",
      "\n",
      "        self.formula = Piecewise(\n",
      "            (0, x <= l),\n",
      "            (0, x > r),\n",
      "            ( left_func, (l < x) & (x <= core_l)),\n",
      "            ( 1, (core_l < x) & (x <= core_r)),\n",
      "            ( right_func, (core_r < x) & (x <= r) )\n",
      "        )\n",
      "        self.left_func = left_func\n",
      "        self.right_func = right_func\n",
      "        self.domain = (l, r)\n",
      "    @property\n",
      "    def alpha_cut(self):\n",
      "        left_bound = solve(self.left_func-a, x)[0]\n",
      "        right_bound = solve(self.right_func - a, x)[0]\n",
      "        return AlphaCut(left_bound, right_bound)\n",
      "    \n",
      "    def __add__(self, other):\n",
      "        new_alpha = self.alpha_cut + other.alpha_cut\n",
      "        return new_alpha.to_fuzzy()\n",
      "    \n",
      "    def __sub__(self, other):\n",
      "        new_alpha = self.alpha_cut - other.alpha_cut\n",
      "        return new_alpha.to_fuzzy()\n",
      "    \n",
      "    def plot(self, show=True):\n",
      "        x_lim = int(self.domain[0] - 2), int(self.domain[1] + 2)\n",
      "        plt = sp.plotting.plot(self.formula, (x, x_lim[0], x_lim[1]), show=False)\n",
      "        plt.xlim = x_lim\n",
      "        plt.ylim = (0, 1.5)\n",
      "        if show:\n",
      "            plt.show()\n",
      "        return plt\n",
      "    \n"
     ]
    }
   ],
   "source": [
    "from module.trapezoid_fuzzy_number import TrapezoidFuzzyNumber\n",
    "from module.alpha_cut import AlphaCut\n",
    "show_implementation(AlphaCut)\n",
    "show_implementation(TrapezoidFuzzyNumber, 'Section 1')"
   ]
  },
  {
   "cell_type": "code",
   "execution_count": null,
   "id": "particular-relations",
   "metadata": {},
   "outputs": [],
   "source": []
  }
 ],
 "metadata": {
  "kernelspec": {
   "display_name": "Python 3",
   "language": "python",
   "name": "python3"
  },
  "language_info": {
   "codemirror_mode": {
    "name": "ipython",
    "version": 3
   },
   "file_extension": ".py",
   "mimetype": "text/x-python",
   "name": "python",
   "nbconvert_exporter": "python",
   "pygments_lexer": "ipython3",
   "version": "3.6.8"
  }
 },
 "nbformat": 4,
 "nbformat_minor": 5
}
