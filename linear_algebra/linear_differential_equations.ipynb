{
 "cells": [
  {
   "cell_type": "markdown",
   "id": "3e56de84-5f41-4dcf-9ab8-cc2ada2c2747",
   "metadata": {
    "run_control": {
     "frozen": true
    },
    "tags": []
   },
   "source": [
    "$$\n",
    "\\newcommand{theorem}{\\textbf{Theorem: }}\n",
    "\\newcommand{proof}{\\textbf{Proof: }}\n",
    "\\newcommand{lemma}{\\textbf{Lemma: }}\n",
    "\\newcommand{corollary}{\\textbf{Corollary: }}\n",
    "\\newcommand{prop}{\\textbf{Proposition: }}\n",
    "$$"
   ]
  },
  {
   "cell_type": "markdown",
   "id": "85d7f920-f84b-411a-a5b1-ba15b801e0cb",
   "metadata": {},
   "source": [
    "$$\n",
    "\\newcommand{arr}{\\mathbf}\n",
    "\\newcommand{inv}{^{-1}}\n",
    "\\newcommand\\mat[1]{\\begin{pmatrix}#1\\end{pmatrix}} \n",
    "\\newcommand\\det[1]{\\left| #1\\right|} \n",
    "\\newcommand\\norm[1]{\\lVert #1\\rVert} \n",
    "\\newcommand\\set[1]{\\left\\{#1\\right\\}} \n",
    "$$"
   ]
  },
  {
   "cell_type": "code",
   "execution_count": 1,
   "id": "809b4aac-d214-40c6-b3c7-be9f098e9199",
   "metadata": {},
   "outputs": [],
   "source": [
    "import numpy as np\n",
    "from module.matrix import mult, inv"
   ]
  },
  {
   "cell_type": "markdown",
   "id": "d305e841-4302-4c83-b1dc-924f5764d18b",
   "metadata": {},
   "source": [
    "# Linear differential equation"
   ]
  },
  {
   "cell_type": "markdown",
   "id": "b6f9b496-f637-4eb4-b8c1-fa2aff2f0e57",
   "metadata": {},
   "source": [
    "We can also store functions in a matrix."
   ]
  },
  {
   "cell_type": "markdown",
   "id": "bc2d13dc-88a7-4e54-92da-383ea3d83601",
   "metadata": {},
   "source": [
    "$$\n",
    "\\arr A(t) = \\left( a_{ij}(t) \\right)_{m \\times n}\n",
    "$$"
   ]
  },
  {
   "cell_type": "markdown",
   "id": "79225afa-04f1-4c68-b93a-6d6aa60a5787",
   "metadata": {},
   "source": [
    "where $\\arr A(t)$ is a **matrix with function entries/function-valued matrix**, where each $a_{ij}$ is a function of $t$."
   ]
  },
  {
   "cell_type": "markdown",
   "id": "06e20910-b419-4b14-bf0a-3df66c74f67d",
   "metadata": {},
   "source": [
    "The **domain** of $\\arr A(t)$ would be the intersection of all the domains of $a_{ij}(t)$."
   ]
  },
  {
   "cell_type": "markdown",
   "id": "f414eed6-713f-4c2f-87b4-fedd21be3f6d",
   "metadata": {},
   "source": [
    "**Example**"
   ]
  },
  {
   "cell_type": "markdown",
   "id": "9b7a4e14-b253-4fdc-85f6-90564d83209d",
   "metadata": {},
   "source": [
    "$$\n",
    "\\arr A(t) = \\mat{\\frac{1}{t} & t \\\\ t - 1 & \\sqrt t}\n",
    "$$"
   ]
  },
  {
   "cell_type": "markdown",
   "id": "4da2f02e-9b72-41e2-bbc1-39912866605d",
   "metadata": {},
   "source": [
    "$$\n",
    "Domain(\\frac{1}{t}) = \\mathbb R \\setminus 0\\\\\n",
    "Domain(t) = Domain(t-1) = \\mathbb R  \\\\\n",
    "Domain(\\sqrt t) = t \\geq 0, t \\in \\mathbb R\n",
    "$$"
   ]
  },
  {
   "cell_type": "markdown",
   "id": "2fc01150-48f1-4092-8149-565bfffe2648",
   "metadata": {},
   "source": [
    "Hence, the domain is the intersection of the 3 sets, given us $t \\in \\mathbb R, t > 0$."
   ]
  },
  {
   "cell_type": "markdown",
   "id": "026b9ac1-338f-457e-9f90-8bc169482dbe",
   "metadata": {},
   "source": [
    "If $\\arr A(t)$ is a $n \\times 1$ matrix, it is called a **n-vector with function entries/function-valued n-vector**, denoted as $\\arr v(t)$.\n",
    "If the variable is obvious, we can simply denoted it as $\\arr v$."
   ]
  },
  {
   "cell_type": "markdown",
   "id": "32dc16bd-b16f-4dc8-89b8-d1365fe5daec",
   "metadata": {},
   "source": [
    "$\\arr v(t)$ is **differentiable** if each $v_i(t)$ is differentiable."
   ]
  },
  {
   "cell_type": "markdown",
   "id": "09881edf-5da5-4641-8de1-720a40eea28d",
   "metadata": {},
   "source": [
    "And the derivative is simply:\n",
    "$$\n",
    "\\arr v' (t) = \\mat{v_1'(t) \\\\ \\vdots \\\\ v_n' (t)}\n",
    "$$"
   ]
  },
  {
   "cell_type": "markdown",
   "id": "38a2c5d3-2eab-42bb-9aa3-957f7db75e6e",
   "metadata": {},
   "source": [
    "**Example**"
   ]
  },
  {
   "cell_type": "markdown",
   "id": "5e3bd624-3168-4557-b24e-4ca467e5731b",
   "metadata": {},
   "source": [
    "The derivative of $\\arr v(t) = \\mat{\\sin t \\\\ \\cos t}$:"
   ]
  },
  {
   "cell_type": "markdown",
   "id": "d88fdec5-51fd-453c-a8ea-b03aa60d4b36",
   "metadata": {},
   "source": [
    "$$\n",
    "\\arr v' = \\mat{\\cos t \\\\ -\\sin t}\n",
    "$$"
   ]
  },
  {
   "cell_type": "markdown",
   "id": "e0f6652e-24ff-4811-8e1a-c5125c16b71e",
   "metadata": {},
   "source": [
    "## First order linear system of differential equations"
   ]
  },
  {
   "cell_type": "markdown",
   "id": "507ab2c0-ca19-425b-bd27-7f566e49d7b2",
   "metadata": {},
   "source": [
    "A **first order linear system of different equation** have the following form:"
   ]
  },
  {
   "cell_type": "markdown",
   "id": "b6ab82c2-6ac4-4e80-9fa4-6a2312eed407",
   "metadata": {},
   "source": [
    "$$\n",
    "y'_1(t) = a_{11}(t) y_1(t) + \\cdots + a_{1n}(t) y_n(t) + g_1(t)\\\\\n",
    "y'_2(t) = a_{21}(t) y_1(t) + \\cdots + a_{2n}(t) y_n(t) + g_2(t)\\\\\n",
    "\\vdots \\\\\n",
    "y'_n(t) = a_{n1}(t) y_1(t) + \\cdots + a_{nn}(t) y_n(t) + g_n(t)\\\\\n",
    "$$"
   ]
  },
  {
   "cell_type": "markdown",
   "id": "c53a8303-8960-48bb-afbe-688bdef1235a",
   "metadata": {},
   "source": [
    "where $y_i(t), g_i(t), a_{ij}(t)$ are all functions of $t$."
   ]
  },
  {
   "cell_type": "markdown",
   "id": "d0c790bd-a049-4a32-b82a-88741b388879",
   "metadata": {},
   "source": [
    "We can rewrite this as a matrix multiplication:"
   ]
  },
  {
   "cell_type": "markdown",
   "id": "c10775f1-0448-4179-a0f5-18c2fcf06fcf",
   "metadata": {},
   "source": [
    "$$\n",
    "\\mat{y'_1(t) \\\\ \\vdots \\\\ y'_n(t)} \n",
    "= \n",
    "\\mat{a_{11}(t) & \\cdots & a_{1n}(t) \\\\ \\vdots & \\ddots & \\vdots \\\\ a_{n1}(t) & \\cdots & a_{nn}(t)}\n",
    "\\mat{y_1(t) \\\\ \\vdots \\\\ y_n(t)} \n",
    "+\n",
    "\\mat{g'_1(t) \\\\ \\vdots \\\\ g'_n(t)} \n",
    "$$"
   ]
  },
  {
   "cell_type": "markdown",
   "id": "a00d1db1-bb58-4b74-90c5-e49a00c39733",
   "metadata": {},
   "source": [
    "or more concisely:\n",
    "$$\n",
    "\\arr y'(t) = \\arr A(t) \\arr y(t) + \\arr g(t)\n",
    "$$"
   ]
  },
  {
   "cell_type": "markdown",
   "id": "e802d4f3-ef6f-46bc-b68d-fe84a678c20f",
   "metadata": {},
   "source": [
    "Hence, the task is that we're given $\\arr A$ and $\\arr g$, and we have to find a $\\arr y$ that satisfy the constraints."
   ]
  },
  {
   "cell_type": "markdown",
   "id": "afc78418-1034-42b0-9cbb-60abf0156c39",
   "metadata": {},
   "source": [
    "### Clarification of terms"
   ]
  },
  {
   "cell_type": "markdown",
   "id": "c06f1290-094a-4d46-9165-c29fca0cc207",
   "metadata": {},
   "source": [
    "* **linear**: unknown functions are acted upon only by multiplication with known functions and summing\n",
    "* **first order**: the highest derivative is the first derivative\n",
    "* **ordinary**: the derivative is taken with respect to only 1 variable"
   ]
  },
  {
   "cell_type": "markdown",
   "id": "1452071e-9686-4702-a886-1a4e8dd1d453",
   "metadata": {},
   "source": [
    "---"
   ]
  },
  {
   "cell_type": "markdown",
   "id": "252158b9-9eb6-4342-8fe8-2ae4ae2ce390",
   "metadata": {},
   "source": [
    "Similarly, we define a system of differential equations as **homogeneous** if $\\arr g(t) = \\arr 0$,"
   ]
  },
  {
   "cell_type": "markdown",
   "id": "5779602e-ca30-491b-8596-51b121825afd",
   "metadata": {},
   "source": [
    "_ie_, the equation is the form of\n",
    "$$\n",
    "\\arr y'(t) = \\arr A(t) \\arr y(t)\n",
    "$$"
   ]
  },
  {
   "cell_type": "markdown",
   "id": "5349a3db-e447-40a0-89fa-5a3d7d434f86",
   "metadata": {},
   "source": [
    "The system is of **constant coefficient** if $a_{ij}$ are all constants."
   ]
  },
  {
   "cell_type": "markdown",
   "id": "792f2b7b-a5b6-4f82-a9c0-b2a8b908a998",
   "metadata": {},
   "source": [
    "Together with the above, the equation would be the the form of\n",
    "$$\n",
    "\\arr y'(t) = \\arr A \\arr y(t)\n",
    "$$"
   ]
  },
  {
   "cell_type": "markdown",
   "id": "89e5c942-6ea9-4453-9993-1d91cd758868",
   "metadata": {},
   "source": [
    "There would usually be **initial conditions** for the linear system, defined as:\n",
    "\n",
    "$$\n",
    "\\arr y(t_0) = \\mat{y_1(t_0) \\\\ \\vdots \\\\ y_n(t_0)} \\in \\mathbb R^n\n",
    "$$"
   ]
  },
  {
   "cell_type": "markdown",
   "id": "530f552c-187d-4723-9ea2-a6ae0d260720",
   "metadata": {},
   "source": [
    "In this module, we are focused on only solving **homogeneous** first order linear system of differential equations with **constant coefficients**."
   ]
  },
  {
   "cell_type": "markdown",
   "id": "d061eb7e-9c4e-4100-b852-7a34a7317ad3",
   "metadata": {},
   "source": [
    "## Finding solutions"
   ]
  },
  {
   "cell_type": "markdown",
   "id": "dc19ccb3-4e36-4e47-a9b2-6b27f4fd77c8",
   "metadata": {},
   "source": [
    "Consider the following simple system:\n",
    "\n",
    "$$\n",
    "y' = \\lambda y\n",
    "$$"
   ]
  },
  {
   "cell_type": "markdown",
   "id": "ebf223ee-529c-4ffd-8a35-052b50ae943e",
   "metadata": {},
   "source": [
    "By calculus, we know that $y = e^{\\lambda t}$ is a solution to the system, as $y' = \\lambda e^{\\lambda t} = \\lambda y$."
   ]
  },
  {
   "cell_type": "markdown",
   "id": "d14b496a-9c0c-42d7-b894-f775f09f2613",
   "metadata": {},
   "source": [
    "Also, the trivial solution of $y = 0$ is also a solution."
   ]
  },
  {
   "cell_type": "markdown",
   "id": "4251eb5f-7f44-448b-94fc-cec2e1d01c9d",
   "metadata": {},
   "source": [
    "The fact that $y = e^{\\lambda t}$ is a solution will be used as a building block for us to derive solutions to more complex systems.\n",
    "\n",
    "---"
   ]
  },
  {
   "cell_type": "markdown",
   "id": "f5a0bcf7-04b2-4768-84a0-085c072af7f4",
   "metadata": {},
   "source": [
    "Now, suppose that our system is of the form:\n",
    "\n",
    "$$\n",
    "\\arr y' = \\mat{\n",
    "\\lambda _1 & 0 & \\cdots & 0 \\\\\n",
    "0 & \\lambda _2 & \\cdots & 0 \\\\\n",
    "\\vdots & \\vdots & \\ddots & \\vdots \\\\\n",
    "0 & 0 & \\cdots & \\lambda _n \\\\\n",
    "}\n",
    "\\arr y\n",
    "$$"
   ]
  },
  {
   "cell_type": "markdown",
   "id": "8c67d5a7-a503-48ab-9874-edb38018fa5a",
   "metadata": {},
   "source": [
    "We can see that \n",
    "$$\n",
    "\\arr y =\n",
    "\\mat{1 \\\\ 0 \\\\ \\vdots \\\\ 0} e^{\\lambda _1 t},\n",
    "\\mat{0 \\\\ 1 \\\\ \\vdots \\\\ 0} e^{\\lambda _2 t},\n",
    "\\dots,\n",
    "\\mat{0 \\\\ 0 \\\\ \\vdots \\\\ 1} e^{\\lambda _n t}\n",
    "$$"
   ]
  },
  {
   "cell_type": "markdown",
   "id": "4b6232b7-d21b-4ced-8b4a-8cf79e54bd49",
   "metadata": {},
   "source": [
    "are all solutions to this system."
   ]
  },
  {
   "cell_type": "markdown",
   "id": "078cc3bd-e731-431e-b8df-fb2947bc2197",
   "metadata": {},
   "source": [
    "Notice that the solution depends on the [eigenvalues $\\lambda_i$ and eigenvectors $e_i$](./eigen.ipynb#Eigenvector-and-eigenvalue) of $\\arr A$.\n",
    "In fact, this is true as per the theorem below:"
   ]
  },
  {
   "cell_type": "markdown",
   "id": "6c23e721-e855-4113-bfe6-737ef21d53a0",
   "metadata": {},
   "source": [
    "$\\theorem$ Given system of the form $\\arr y' = \\arr {Ay}$, let $\\arr v \\in \\mathbb R^n$ be an eigenvector and $\\lambda$ be the associated eigenvalue, then $\\arr ve^{\\lambda t}$ is a solution to the system."
   ]
  },
  {
   "cell_type": "markdown",
   "id": "c5d2ea1c-3837-44ee-8c73-bfe7730547fe",
   "metadata": {
    "tags": []
   },
   "source": [
    "<details>\n",
    "<summary style=\"color: blue\">$\\proof$ (Click to expand)</summary>\n",
    "    <div style=\"background: aliceblue\">\n",
    "        We consider $\\arr y = \\arr ve^{\\lambda t}$:\n",
    "        $$\n",
    "        \\arr y' = \\frac{d}{dt} y = \\frac{d}{dt} \\arr v e^{\\lambda t} = \\lambda \\arr v e^{\\lambda t} = \\arr {Av}e ^ {\\lambda t} = \\arr {Ay}\n",
    "        $$\n",
    "        Hence, $y = \\arr ve^{\\lambda t}$ is a solution to the system.\n",
    "        $$QED$$\n",
    "    </div>\n",
    "</details>"
   ]
  },
  {
   "cell_type": "markdown",
   "id": "30882b89-7c58-477b-b543-b702665c174e",
   "metadata": {},
   "source": [
    "Hence, for any system, we can find its eigenvalue and eigenvectors, and use the exponential as a building block to find all its solutions."
   ]
  },
  {
   "cell_type": "markdown",
   "id": "3192cc71-54c6-4ffe-a580-9f4c00d6b7bd",
   "metadata": {},
   "source": [
    "This is a rather incredible result, as we have used eigenvalue/eigenvectors (which are related to matrices and linear algebra) to solve differential equations (which are related to calculus)."
   ]
  },
  {
   "cell_type": "markdown",
   "id": "e6174ecf-32ee-426c-b2de-09ab5b809bb6",
   "metadata": {},
   "source": [
    "$\\theorem$ (Superposition principle) \n",
    "\n",
    "Given $x_1(t), x_2(t)$ which are two solutions to the system $\\arr y' = \\arr {Ay}$,\n",
    "$$\n",
    "\\alpha x_1(t) + \\beta x_2(t)\n",
    "$$\n",
    "is also a solution to the system, for $\\alpha, \\beta \\in \\mathbb R^n$."
   ]
  },
  {
   "cell_type": "markdown",
   "id": "f84a051e-0a26-4e19-ad2c-2ba9b223e901",
   "metadata": {},
   "source": [
    "(Proof omitted)"
   ]
  },
  {
   "cell_type": "markdown",
   "id": "97cea30b-5fbd-4579-b9e9-14957952e1c0",
   "metadata": {},
   "source": [
    "$\\theorem$ Suppose that $\\arr A$ is diagonalizable.\n",
    "Let $\\arr v_1, \\dots, \\arr v_n$ be $n$ linearly independent eigenvectors with associated eigenvalues of $\\lambda_1, \\dots, \\lambda_n$.\n",
    "Then\n",
    "$$\n",
    "\\arr x = c_1 \\arr v_1 e ^{\\lambda _1 t} + \\cdots + c_n \\arr v_n e^{\\lambda_n t}\n",
    "$$\n",
    "is a general solution to the system."
   ]
  },
  {
   "cell_type": "markdown",
   "id": "0548da25-989b-4eaf-b864-01c3f24d36f3",
   "metadata": {},
   "source": [
    "(Proof omitted)"
   ]
  },
  {
   "cell_type": "markdown",
   "id": "20d82b55-9328-4b28-a4e4-2a945cc37d0d",
   "metadata": {},
   "source": [
    "**Example**"
   ]
  },
  {
   "cell_type": "markdown",
   "id": "21967e97-8199-4a1d-b7b0-e173c7948d98",
   "metadata": {},
   "source": [
    "Solve the following system:\n",
    "$$\n",
    "\\begin{align}\n",
    "y_1' &= y_1 \\\\\n",
    "y_2' &= y_1 + 2 y_2\n",
    "\\end{align}\n",
    "$$"
   ]
  },
  {
   "cell_type": "markdown",
   "id": "2250ae78-d1e2-4a20-a6d4-06a50da26c15",
   "metadata": {},
   "source": [
    "We know that\n",
    "$$\n",
    "\\arr A = \\mat{1 & 0 \\\\ 1 & 2}, \\arr y = \\mat{y_1 \\\\ y_2}\n",
    "$$"
   ]
  },
  {
   "cell_type": "markdown",
   "id": "8961a682-d589-4491-a63f-b7d80026534f",
   "metadata": {},
   "source": [
    "We can find the eigenvalues and eigenvectors:\n",
    "$$\n",
    "\\lambda_1  = 1 , \\arr v_1 = \\mat{1 \\\\ -1} \\\\\n",
    "\\lambda_2  = 2 , \\arr v_2 = \\mat{0 \\\\ -1}\n",
    "$$"
   ]
  },
  {
   "cell_type": "markdown",
   "id": "adc3b4ec-9cc0-46ab-ada7-70e9b139f5bc",
   "metadata": {},
   "source": [
    "Thus, the general solution is:\n",
    "\n",
    "$$\n",
    "\\mat{y_1 \\\\ y_2} = c_1 e^t \\mat{1 \\\\ -1} + c_2 e^{2t} \\mat{0 \\\\ 1}\n",
    "$$"
   ]
  },
  {
   "cell_type": "markdown",
   "id": "48a32615-987b-423e-a74f-d10bb64268ab",
   "metadata": {},
   "source": [
    "Now, suppose that our system has the initial condition of $\\mat{y_1(0) \\\\ y_2(0)} = \\mat{1 \\\\ 1}$."
   ]
  },
  {
   "cell_type": "markdown",
   "id": "b54d55ee-a9ab-4762-802e-ae614d0386c3",
   "metadata": {},
   "source": [
    "Substituting it into the above, we get:"
   ]
  },
  {
   "cell_type": "markdown",
   "id": "e98e146b-a9f9-4ecf-adec-4180cceb9194",
   "metadata": {},
   "source": [
    "$$\n",
    "\\mat{y_1(0) \\\\ y_2(0)} = \\mat{1 \\\\ 1} = c_1 e^0 \\mat{1 \\\\ -1} + c_2 e^{0} \\mat{0 \\\\ 1} = c_1 \\mat{1 \\\\ -1} + c_2 \\mat{0 \\\\ 1}\n",
    "$$"
   ]
  },
  {
   "cell_type": "markdown",
   "id": "514b5d49-c668-40b7-8e30-ad6bc4d13504",
   "metadata": {},
   "source": [
    "Hence, we get that:\n",
    "$$\n",
    "c_1 = 1\\\\\n",
    "-c_1 + c_2 = 1\n",
    "$$\n",
    "which solves to:\n",
    "$$\n",
    "c_1 =1 \\\\\n",
    "c_2 = 2\n",
    "$$"
   ]
  },
  {
   "cell_type": "markdown",
   "id": "6807493f-46f9-4d58-8241-728fbd482dbd",
   "metadata": {},
   "source": [
    "Thus, the (specific) solution is:"
   ]
  },
  {
   "cell_type": "markdown",
   "id": "937fb804-4895-4187-afac-a6a29bb920d2",
   "metadata": {},
   "source": [
    "$$\n",
    "\\mat{y_1 \\\\ y_2} = \\mat{e^t \\\\ -e^t +2 e ^ {2t}} \n",
    "$$"
   ]
  },
  {
   "cell_type": "markdown",
   "id": "74c7ee67-3132-4823-87c6-b3f8674e021e",
   "metadata": {},
   "source": [
    "---\n",
    "\n",
    "Recall that it is possible that our characteristic polynomial may not have real roots."
   ]
  },
  {
   "cell_type": "markdown",
   "id": "60fd0dbe-b9db-4a80-bb0f-b710d22a8282",
   "metadata": {},
   "source": [
    "For example, if $\\arr A = \\mat{0 & -1 \\\\ 1 & 0}$, the characteristic polynomial is $x^2 + 1$, which has no real solution."
   ]
  },
  {
   "cell_type": "markdown",
   "id": "1b73d616-573c-429e-8013-1f704cd0f84e",
   "metadata": {},
   "source": [
    "What if we still want to solve our differential equation?"
   ]
  },
  {
   "cell_type": "markdown",
   "id": "981165d4-7654-4e0c-8ae2-e17195b081fd",
   "metadata": {},
   "source": [
    "Thus, we need to introduce complex numbers."
   ]
  },
  {
   "cell_type": "markdown",
   "id": "23b9d0e1-a0e5-45d6-af41-27d91a3da63a",
   "metadata": {},
   "source": [
    "## Complex eigenvalues/eigenvectors"
   ]
  },
  {
   "cell_type": "markdown",
   "id": "5c77a2ee-e78b-4c4d-8947-7204618451c2",
   "metadata": {},
   "source": [
    "To do this, we simply expand our domain for our vector from $\\mathbb R^n$ to $\\mathbb C^n$."
   ]
  },
  {
   "cell_type": "markdown",
   "id": "a0b742b6-ace0-4b08-a70c-e17f65356ac0",
   "metadata": {},
   "source": [
    "So, if we simply solve our previous example with the use of complex numbers, we find out the the eigenvalues and eigenvectors are $\\lambda = i, \\arr v = \\mat{i \\\\ 1}$ and $\\lambda = -i, \\arr v = \\mat{-i \\\\ 1}$."
   ]
  },
  {
   "cell_type": "markdown",
   "id": "37e0fb46-b6f1-48c1-b7b1-1918c89c7900",
   "metadata": {},
   "source": [
    "(On a side note, while real eigenvalues is associated to the scaling of an eigenvector when multiplied by $\\arr A$, complex eigenvalues are associated with some rotation when multiplied by $\\arr A$."
   ]
  },
  {
   "cell_type": "markdown",
   "id": "4b9242be-e7ed-4df3-804d-4991ebd1ece5",
   "metadata": {},
   "source": [
    "$\\theorem$ Given an $\\arr A$ with **real entries**, its complex eigenvalues and eigenvectors comes in conjugate pairs: if $\\lambda \\in \\mathbb C$ is a eigenvalue of $\\arr A$ that is associated with the eigenvector $\\arr v$, then $\\bar \\lambda$ is also an eigenvalue, and it is associated with $\\bar {\\arr v}$. (Where $\\bar x$ is representing the complex conjugate of $x$)"
   ]
  },
  {
   "cell_type": "markdown",
   "id": "f4f4f453-18bf-490e-a1d7-d0eec8cf5603",
   "metadata": {
    "tags": []
   },
   "source": [
    "<details>\n",
    "<summary style=\"color: blue\">$\\proof$ (Click to expand)</summary>\n",
    "    <div style=\"background: aliceblue\">\n",
    "        Since $\\arr A$ is real, $\\overline {\\arr A} = \\arr A$.\n",
    "        Thus:\n",
    "        $$\n",
    "        \\arr A \\overline {\\arr v} = \\overline {\\arr {Av}} = \\overline {\\lambda \\arr v} = \\overline \\lambda \\overline {\\arr v}\n",
    "        $$\n",
    "        $$QED$$\n",
    "    </div>\n",
    "</details>"
   ]
  },
  {
   "cell_type": "markdown",
   "id": "7d339525-5bde-4fbc-a322-71cf6afbc754",
   "metadata": {},
   "source": [
    "We've seen this theorem in our previous example, where $\\lambda = \\pm i$ and $\\arr v = \\mat{\\pm i \\\\ 1}$."
   ]
  },
  {
   "cell_type": "markdown",
   "id": "9b8a5555-f035-4111-9326-2d643d3c9196",
   "metadata": {},
   "source": [
    "By splitting up the imaginary and real component, we can arrive at the following theorem:"
   ]
  },
  {
   "cell_type": "markdown",
   "id": "63f1016d-967d-4d86-b442-8cc9478a004e",
   "metadata": {},
   "source": [
    "$\\theorem$ Given a first order homogeneous system of different equation $\\arr y ' = \\arr{Ay}$ with constant coefficient,\n",
    "the following two terms are linearly independent real solutions to the system:\n",
    "$$\n",
    "Re(e^{\\lambda t} \\arr v) = x_{Re}(t) = e^{\\lambda _{Re} t} (\\cos (\\lambda _{Im} t) \\arr v_{Re} - \\sin(\\lambda_{Im} t) \\arr v_{Im})\\\\\n",
    "Im(e^{\\lambda t} \\arr v) = x_{Im}(t) = e^{\\lambda _{Re} t} (\\sin (\\lambda _{Im} t) \\arr v_{Re} + \\cos(\\lambda_{Im} t) \\arr v_{Im})\\\\\n",
    "$$"
   ]
  },
  {
   "cell_type": "markdown",
   "id": "22c1a353-4504-4e3a-9364-c7498543bc23",
   "metadata": {},
   "source": [
    "where $\\cdot _{Re}$ and $\\cdot_{Im}$ are the real and imaginary component respectively, for the eigenvalue $\\lambda$ and eigenvector $\\arr v$."
   ]
  },
  {
   "cell_type": "markdown",
   "id": "57539c34-da71-4c71-8313-ca219443af44",
   "metadata": {
    "tags": []
   },
   "source": [
    "<details>\n",
    "<summary style=\"color: blue\">$\\proof$ (Click to expand)</summary>\n",
    "    <div style=\"background: aliceblue\">\n",
    "        We have the following identity when we decompose the eigenvalues and eigenvectors:\n",
    "        $$\n",
    "        \\lambda = \\lambda_{Re} + i \\lambda _{Im}\\\\\n",
    "        \\arr v = \\arr v_{Re} + i \\arr v _{Im}\\\\\n",
    "        $$\n",
    "        Therefore:\n",
    "        $$\n",
    "        \\begin{align}\n",
    "        e^{\\lambda t} \\arr v &= e^{(\\lambda _{Re} t + i\\lambda _{Im} t)} (\\arr v _{Re} + i \\arr v_{Im})\\\\\n",
    "        &= e^{\\lambda _{Re} t}e^{ i\\lambda _{Im} t} (\\arr v _{Re} + i \\arr v_{Im})\\\\\n",
    "        &= e^{\\lambda _{Re} t}(\\cos (\\lambda _{Im} t) + i \\sin(\\lambda _{Im} t))  (\\arr v _{Re} + i \\arr v_{Im})\\\\\n",
    "        &= e^{\\lambda _{Re} t}(\\cos (\\lambda _{Im} t) \\arr v_{Re} + i \\sin(\\lambda _{Im} t) \\arr v_{Re} +\n",
    "        i\\cos(\\lambda _{Im} t) \\arr v_{Im} - \\sin(\\lambda _{Im} t) \\arr v_{Im} )\\\\\n",
    "        &= e^{\\lambda _{Re} t}(\\cos (\\lambda _{Im} t) \\arr v_{Re} - \\sin(\\lambda _{Im} t) \\arr v_{Im}\n",
    "        + i \\sin(\\lambda _{Im} t) \\arr v_{Re} + i\\cos(\\lambda _{Im} t) \\arr v_{Im}  )\\\\\n",
    "        &= x_{Re}(t) + i x_{Im}(t)\n",
    "        \\end{align}\n",
    "        $$\n",
    "        Notice that for the $e ^{\\lambda t} \\arr v$ to be a complex solution to the system, both the real and imaginary parts must satisfy the system too.\n",
    "        Thus, both the real and imaginary parts are also solutions to the system.\n",
    "        $$QED$$\n",
    "    </div>\n",
    "</details>"
   ]
  },
  {
   "cell_type": "markdown",
   "id": "7b7f7099-f309-46de-8bb6-f135352e8d17",
   "metadata": {},
   "source": [
    "**Example**"
   ]
  },
  {
   "cell_type": "markdown",
   "id": "c5aa1b04-6b9e-43f3-b8f0-b94196320dfe",
   "metadata": {},
   "source": [
    "Solve the following system:\n",
    "$$\n",
    "\\begin{align}\n",
    "y_1' &= -y_2 \\\\\n",
    "y_2' &= y_1 \n",
    "\\end{align}\n",
    "$$"
   ]
  },
  {
   "cell_type": "markdown",
   "id": "db091bed-768f-4f7c-a4bb-f72db670d69f",
   "metadata": {},
   "source": [
    "We see that $\\arr A = \\mat{0 & -1 \\\\ 1 & 0}$, which we've found the eigenvalues and eigenvectors previously."
   ]
  },
  {
   "cell_type": "markdown",
   "id": "9ed501de-06a6-40c8-9b36-4ab936048e27",
   "metadata": {},
   "source": [
    "Thus, $\\lambda = 0 + i(1)$, and $\\arr v = \\mat{0 \\\\ 1} + i \\mat{1 \\\\ 0}$."
   ]
  },
  {
   "cell_type": "markdown",
   "id": "a187d7bb-eab6-4ebe-ace2-759be1c23c01",
   "metadata": {},
   "source": [
    "Therefore, \n",
    "$$\n",
    "x_{Re}(t) = e^{0t} (\\cos(1t) \\mat{0 \\\\ 1} - \\sin(1t) \\mat{1 \\\\ 0} = \\mat{-\\sin t \\\\ \\cos t} \\\\\n",
    "x_{Im}(t) = e^{0t} (\\sin(1t) \\mat{0 \\\\ 1} + \\cos(1t) \\mat{1 \\\\ 0} = \\mat{\\cos t \\\\ \\sin t} \\\\\n",
    "$$"
   ]
  },
  {
   "cell_type": "markdown",
   "id": "a640a77a-b10e-4047-9df4-aabbe512be46",
   "metadata": {},
   "source": [
    "Hence, the general solution is:\n",
    "$$\n",
    "\\mat{y_1 \\\\ y_2} = c_1 \\mat{-\\sin t \\\\ \\cos t} + c_2 \\mat{\\cos t\\\\ \\sin t}\n",
    "$$"
   ]
  }
 ],
 "metadata": {
  "kernelspec": {
   "display_name": "Python 3 (ipykernel)",
   "language": "python",
   "name": "python3"
  },
  "language_info": {
   "codemirror_mode": {
    "name": "ipython",
    "version": 3
   },
   "file_extension": ".py",
   "mimetype": "text/x-python",
   "name": "python",
   "nbconvert_exporter": "python",
   "pygments_lexer": "ipython3",
   "version": "3.10.5"
  }
 },
 "nbformat": 4,
 "nbformat_minor": 5
}
