{
 "cells": [
  {
   "cell_type": "markdown",
   "id": "c52afb8e-977a-4c0b-8f92-f0a7542c0699",
   "metadata": {
    "run_control": {
     "frozen": true
    },
    "tags": []
   },
   "source": [
    "$$\n",
    "\\newcommand{theorem}{\\textbf{Theorem: }}\n",
    "\\newcommand{proof}{\\textbf{Proof: }}\n",
    "\\newcommand{lemma}{\\textbf{Lemma: }}\n",
    "\\newcommand{corollary}{\\textbf{Corollary: }}\n",
    "\\newcommand{prop}{\\textbf{Proposition: }}\n",
    "$$"
   ]
  },
  {
   "cell_type": "code",
   "execution_count": 1,
   "id": "c356d933-40b2-4120-81d6-6f5a08d7648f",
   "metadata": {},
   "outputs": [],
   "source": [
    "import numpy as np\n",
    "from module.utility import print_arr, frac_arr\n",
    "from common.utility import show_implementation"
   ]
  },
  {
   "cell_type": "markdown",
   "id": "2490b3d0-1d6d-4326-8f04-ee7895849a49",
   "metadata": {
    "tags": []
   },
   "source": [
    "# Introduction"
   ]
  },
  {
   "cell_type": "markdown",
   "id": "7d15a9cc-2f5c-4aed-81ed-5b4f6c68abce",
   "metadata": {},
   "source": [
    "A linear system is a set of equations which are linear."
   ]
  },
  {
   "cell_type": "markdown",
   "id": "3fbfd684-8ed0-4d61-b679-d5a15938a2a9",
   "metadata": {},
   "source": [
    "The general form of a linear system is:\n",
    "$$\n",
    "a_{11} x_1 + a_{12} a_2 + \\dots + a_{1n}x_n = b_1\\\\\n",
    "a_{21} x_1 + a_{22} a_2 + \\dots + a_{2n}x_n = b_2\\\\\n",
    "\\dots\\\\\n",
    "a_{m1} x_1 + a_{m2} a_2 + \\dots + a_{mn}x_n = b_m\\\\\n",
    "$$"
   ]
  },
  {
   "cell_type": "markdown",
   "id": "2ab837e4-107c-4352-8a6d-1e30c0b08e70",
   "metadata": {},
   "source": [
    "## Augmented Matrix\n",
    "Now suppose that we have a system of linear equations\n",
    "\n",
    "$$\n",
    "x + y + z = 4 \\\\\n",
    "x + 2y + z = 5 \\\\\n",
    "4x + y + 2z = 2 \\\\\n",
    "$$\n",
    "\n",
    "It is more convenient to view this as a matrix, since each variable term is the same for each equation.\n",
    "\n",
    "Thus, we get \n",
    "\n",
    "\n",
    "$$\n",
    "\\left(\n",
    "  \\begin{matrix}\n",
    "    1 & 1 & 1 \\\\\n",
    "    1 & 2 & 1 \\\\\n",
    "    4 & 1 & 2 \\\\\n",
    "  \\end{matrix}\n",
    "  \\left|\n",
    "    \\,\n",
    "    \\begin{matrix}\n",
    "      4  \\\\\n",
    "      5  \\\\\n",
    "      2  \\\\\n",
    "    \\end{matrix}\n",
    "  \\right.\n",
    "\\right)\n",
    "$$\n",
    "\n",
    "where the numbers to the left of the bar represents all the coefficients of the variables, while those to the right represents the constants.\n",
    "\n",
    "We call this the augmented matrix because the constants are \"stitched together\" with the coefficients and separated by a bar."
   ]
  },
  {
   "cell_type": "markdown",
   "id": "aae83890-ac47-4921-a073-0b1790604921",
   "metadata": {},
   "source": [
    "## Elementary Row Operations\n",
    "Suppose we were given \n",
    "\n",
    "$$\n",
    "x + y = 4 \\\\\n",
    "x - y = 2 \\\\\n",
    "$$"
   ]
  },
  {
   "cell_type": "markdown",
   "id": "cc986898-8128-4d9c-9c21-09f3c07c7d1d",
   "metadata": {},
   "source": [
    "### Multiplying by a scalar\n",
    "Notice that for possible solutions $x + y = 4$, $2x + 2y = 8$ will results in the same solutions.\n",
    "Indeed, for any $k \\neq 0, kx + ky = 4k$ still produces the same solution.\n",
    "\n",
    "Thus, we obtain our first elementary row operation, for any row $R_i$, we can replace it with $kR_i, k \\neq 0$ and still retain the same solution set."
   ]
  },
  {
   "cell_type": "markdown",
   "id": "e3d548cd-eb64-4a35-b029-7a1369fc25c4",
   "metadata": {},
   "source": [
    "### Swapping rows\n",
    "It is trivial to see that swapping of rows will not change the solution set.\n",
    "\n",
    "$$\n",
    "\\begin{align}\n",
    "x + y = 4 & \\quad &x - y = 2 \\\\\n",
    "x - y = 2 & \\quad &x + y = 4 \\\\\n",
    "\\end{align}\n",
    "$$\n",
    "\n",
    "The 2 linear systems above obviously have the same solution set.\n",
    "\n",
    "Thus, our second elementary row operation would be, for any two row $R_i, R_j$, we can swap the position of those rows in our matrix. $R_i \\leftrightarrow R_j$"
   ]
  },
  {
   "cell_type": "markdown",
   "id": "991075c5-f49b-4603-8f40-d5aef8931113",
   "metadata": {},
   "source": [
    "### Adding/Subtracting Row\n",
    "Suppose that we know that $x+y=4$ and $x-y=2$.\n",
    "\n",
    "Then we can sum the two equations together on both sides, getting $x+y+x-y=4+2 \\Rightarrow 2x + 0y = 6$\n",
    "\n",
    "The solution set will not change because we are simply summing equalities on both sides.\n",
    "\n",
    "And it is the same for subtraction\n",
    "\n",
    "Thus, our last elementary row operation is that we can replace any row $R_i$ with $R_i \\pm R_j$ for some other row $R_j$."
   ]
  },
  {
   "cell_type": "markdown",
   "id": "3f6bcc80-02c8-4bf2-9057-e14446bd7779",
   "metadata": {},
   "source": [
    "## Row Equivalence\n",
    "Since elementary row operations retain the solution set, if we can derive $\\vec B$ from $\\vec A$ via a series of elementary row operations, then the 2 systems must have the same solution set.\n",
    "\n",
    "$\\theorem$ Linear systems have the same solution set if and only if they are row equivalent"
   ]
  },
  {
   "cell_type": "markdown",
   "id": "04f82cbf-341f-4940-ba1e-3d8d208adea6",
   "metadata": {},
   "source": [
    "We will be building this pool of equivalence as we progress through this module."
   ]
  },
  {
   "cell_type": "markdown",
   "id": "01b78c6e-0f59-4c23-87d0-44df22463469",
   "metadata": {},
   "source": [
    "## Row-echelon form\n",
    "\n",
    "However, it may not always be easy to find the series of operations that can modify $\\vec A$ to $\\vec B$.\n",
    "\n",
    "Thus to check if the two system are equivalent, we change each system into their **row-echelon form**."
   ]
  },
  {
   "cell_type": "markdown",
   "id": "be3e5a36-67e3-48a4-af52-fe840b8d2778",
   "metadata": {},
   "source": [
    "A **zero row** is an row with all 0's."
   ]
  },
  {
   "cell_type": "markdown",
   "id": "2548d698-ec15-4691-8532-9ae4278a0ea6",
   "metadata": {},
   "source": [
    "The **leading entry** of a non-zero row is the left-most entry that is non-zero.\n",
    "\n",
    "The row-echelon form of a augmented matrix is one where:\n",
    "* All zero rows are at the bottom\n",
    "* The leading entry \"move rightwards\" as we move down the rows"
   ]
  },
  {
   "cell_type": "markdown",
   "id": "beced7f8-9d26-4c69-9d2a-3af87e311bf2",
   "metadata": {},
   "source": [
    "Hence, it will have the following shape"
   ]
  },
  {
   "cell_type": "markdown",
   "id": "dc437753-fe2c-4088-ad57-a6113fc2517a",
   "metadata": {},
   "source": [
    "$$\n",
    "\\left(\n",
    "  \\begin{matrix}\n",
    "    * & * & * &*& * & *&*\\\\\n",
    "    0 & \\dots & 0  & * & * & * & * &\\\\\n",
    "    0 & \\dots & \\dots & \\dots & 0 & * &  * &  \\\\\n",
    "    0 &\\dots &\\dots  &\\dots & \\dots &\\dots& 0 \\\\\n",
    "    \\vdots & &  & & & & \\vdots \\\\\n",
    "    0 &\\dots &\\dots &\\dots  &\\dots&\\dots& 0 \\\\\n",
    "  \\end{matrix}\n",
    "  \\left|\n",
    "    \\,\n",
    "    \\begin{matrix}\n",
    "      *  \\\\\n",
    "      *  \\\\\n",
    "      *  \\\\\n",
    "      0  \\\\\n",
    "      \\vdots  \\\\\n",
    "      0  \\\\\n",
    "    \\end{matrix}\n",
    "  \\right.\n",
    "\\right)\n",
    "$$"
   ]
  },
  {
   "cell_type": "markdown",
   "id": "f2142da0-2242-4a6b-adea-dfc42ed05a62",
   "metadata": {},
   "source": [
    "where $*$ can be any number, and the $\\cdots$ between $0$'s are all $0$."
   ]
  },
  {
   "cell_type": "markdown",
   "id": "f68073ab-0a72-4b20-9031-b86211b0a626",
   "metadata": {},
   "source": [
    "### Obtaining solution"
   ]
  },
  {
   "cell_type": "markdown",
   "id": "eaa1d992-eb2a-43ca-bbf5-d1750c770b03",
   "metadata": {},
   "source": [
    "We can read off the correspond equations to obtain solutions to our system from its row-echelon form.\n",
    "\n",
    "For example, given this augmented matrix:\n"
   ]
  },
  {
   "cell_type": "markdown",
   "id": "663ba19b-f0af-4291-b7fb-84108b5fbe72",
   "metadata": {},
   "source": [
    "$$\n",
    "\\left(\n",
    "  \\begin{matrix}\n",
    "    1 & 1 & 2 \\\\\n",
    "    0 & 3 & 1 \\\\\n",
    "    0 & 0 & 1 \\\\\n",
    "  \\end{matrix}\n",
    "  \\left|\n",
    "    \\,\n",
    "    \\begin{matrix}\n",
    "      4  \\\\\n",
    "      5  \\\\\n",
    "      20  \\\\\n",
    "    \\end{matrix}\n",
    "  \\right.\n",
    "\\right)\n",
    "$$"
   ]
  },
  {
   "cell_type": "markdown",
   "id": "4a6f78b1-a23d-4bdf-976a-356702cbb473",
   "metadata": {},
   "source": [
    "We can read off these equations:\n",
    "$$\n",
    "\\begin{matrix}\n",
    "x_1 + & x_2 + & 2x_3 & = 4\\\\\n",
    "& 3x_2 +& x_3 &= 5\\\\\n",
    "&& x_3 &= 20\n",
    "\\end{matrix}\n",
    "$$"
   ]
  },
  {
   "cell_type": "markdown",
   "id": "bb23ac25-8648-4482-b94e-4dfc75aafc42",
   "metadata": {},
   "source": [
    "From this, we can do simple substitution to get the following solution:\n",
    "$$\n",
    "x_1 = -31\\\\\n",
    "x_2 = -5\\\\\n",
    "x_3 = 20\n",
    "$$"
   ]
  },
  {
   "cell_type": "markdown",
   "id": "13885fe5-48e9-431c-ba87-6aaf7bec6220",
   "metadata": {},
   "source": [
    "## Reduced row-echelon form"
   ]
  },
  {
   "cell_type": "markdown",
   "id": "2f9ad76d-394e-46ba-b10a-70142384f9c3",
   "metadata": {},
   "source": [
    "For further standardization, the reduced row echelon form is such that:\n",
    "* All leading entries are 1\n",
    "* For all pivot columns, all entries except the leading entry is 0"
   ]
  },
  {
   "cell_type": "markdown",
   "id": "7301cd6f-eeb4-45c4-9292-184d2071d986",
   "metadata": {},
   "source": [
    "$$\n",
    "\\left(\n",
    "  \\begin{matrix}\n",
    "    1 & \\dots &0&  \\dots & 0\\\\\n",
    "    0 & \\dots   & 1  & \\dots & 0 &\\\\\n",
    "    0 & \\dots  & \\dots  & \\dots &  1 &  \\\\\n",
    "    0 &\\dots   &\\dots  &\\dots& 0 \\\\\n",
    "    \\vdots &  & &  & \\vdots \\\\\n",
    "    0 &\\dots  &\\dots  &\\dots& 0 \\\\\n",
    "  \\end{matrix}\n",
    "  \\left|\n",
    "    \\,\n",
    "    \\begin{matrix}\n",
    "      *  \\\\\n",
    "      *  \\\\\n",
    "      *  \\\\\n",
    "      0  \\\\\n",
    "      \\vdots  \\\\\n",
    "      0  \\\\\n",
    "    \\end{matrix}\n",
    "  \\right.\n",
    "\\right)\n",
    "$$"
   ]
  },
  {
   "cell_type": "markdown",
   "id": "b5f8a820-e218-4c62-9c8b-e16b8e31cbaf",
   "metadata": {},
   "source": [
    "**The row-echelon form of a linear system is not unique, but the reduced row-echelon form is.**"
   ]
  },
  {
   "cell_type": "markdown",
   "id": "27f727c9-77e1-4f83-b1a2-6869b6d5c65e",
   "metadata": {},
   "source": [
    "$\\theorem$ Linear systems are equivalent if and only if their reduced row-echelon forms are the same"
   ]
  },
  {
   "cell_type": "markdown",
   "id": "54378a6d-e395-46ac-b61f-a8ef421942fe",
   "metadata": {},
   "source": [
    "### Obtaining solution"
   ]
  },
  {
   "cell_type": "markdown",
   "id": "388f8ce9-cdf3-4d17-8d06-2e3469c754bb",
   "metadata": {},
   "source": [
    "Obtaining the solution from the reduced row-echelon from is very straightforwards, we just simply read off each row to get the corresponding value to the variable.\n",
    "The reduced row-echelon form of the previous matrix is:"
   ]
  },
  {
   "cell_type": "markdown",
   "id": "238d4d39-e767-4023-820f-dd06ecb052bb",
   "metadata": {},
   "source": [
    "$$\n",
    "\\left(\n",
    "  \\begin{matrix}\n",
    "    1 & 0 & 0 \\\\\n",
    "    0 & 1 & 0 \\\\\n",
    "    0 & 0 & 1 \\\\\n",
    "  \\end{matrix}\n",
    "  \\left|\n",
    "    \\,\n",
    "    \\begin{matrix}\n",
    "      -31 \\\\\n",
    "      -5  \\\\\n",
    "      20  \\\\\n",
    "    \\end{matrix}\n",
    "  \\right.\n",
    "\\right)\n",
    "$$"
   ]
  },
  {
   "cell_type": "markdown",
   "id": "c62fb6b3-566f-4987-9889-2fd145703b2e",
   "metadata": {},
   "source": [
    "Hence, we just read off the row to obtain our previous solution."
   ]
  },
  {
   "cell_type": "markdown",
   "id": "d36e9c9d-2cb5-4234-b3d0-89a9f6d4ff5c",
   "metadata": {},
   "source": [
    "#### Inconsistency"
   ]
  },
  {
   "cell_type": "markdown",
   "id": "6f1cfe12-91a1-4c3c-8f6c-61a44fc55db3",
   "metadata": {},
   "source": [
    "We can detect **inconsistent** linear system (_ie_ there are no solutions) in their row-echelon form if the rightmost column ($b$) is a pivot column."
   ]
  },
  {
   "cell_type": "markdown",
   "id": "fe66e7aa-d6d7-40e4-8ed4-d14cf92a5d0a",
   "metadata": {},
   "source": [
    "It is an inconsistency as the system would require $$0x_1+0x_2+0x_3=b_i, \\quad b_i \\neq 0$$, which has no solutions."
   ]
  },
  {
   "cell_type": "markdown",
   "id": "a83d4eef-771e-4837-8cd5-c4dd7342f2f4",
   "metadata": {},
   "source": [
    "$$\n",
    "\\left(\n",
    "  \\begin{matrix}\n",
    "    1 & 0 & 0 \\\\\n",
    "    0 & 1 & 0 \\\\\n",
    "    0 & 0 & 0 \\\\\n",
    "  \\end{matrix}\n",
    "  \\left|\n",
    "    \\,\n",
    "    \\begin{matrix}\n",
    "      -31 \\\\\n",
    "      -5  \\\\\n",
    "      20  \\\\\n",
    "    \\end{matrix}\n",
    "  \\right.\n",
    "\\right)\n",
    "$$"
   ]
  },
  {
   "cell_type": "markdown",
   "id": "1d245cb1-ed35-4799-b7a2-300f20f05b32",
   "metadata": {},
   "source": [
    "#### Multiple solution"
   ]
  },
  {
   "cell_type": "markdown",
   "id": "b032d7b2-e71e-4f8d-b626-d7cef382751c",
   "metadata": {},
   "source": [
    "Suppose that we have the below system"
   ]
  },
  {
   "cell_type": "markdown",
   "id": "d43e3118-3b73-48f9-b9df-145b5c5edfe0",
   "metadata": {},
   "source": [
    "$$\n",
    "\\left(\n",
    "  \\begin{matrix}\n",
    "    1 & 0 & 0 \\\\\n",
    "    0 & 1 & 1 \\\\\n",
    "    0 & 0 & 0 \\\\\n",
    "  \\end{matrix}\n",
    "  \\left|\n",
    "    \\,\n",
    "    \\begin{matrix}\n",
    "      -1 \\\\\n",
    "      -5  \\\\\n",
    "      0  \\\\\n",
    "    \\end{matrix}\n",
    "  \\right.\n",
    "\\right)\n",
    "$$"
   ]
  },
  {
   "cell_type": "markdown",
   "id": "9dbb770d-9201-4d59-adb0-374a757d15ba",
   "metadata": {},
   "source": [
    "Then the corresponding solution is:\n",
    "$$\n",
    "x_1 = -1\\\\\n",
    "x_2 + x_3 = -5\n",
    "$$\n",
    "\n",
    "This means that the solution is not unique, but rather there are **infinite possible solutions** to the system, of the form $x_1 = -1, x_2 = z, x_3 = -5 -z, z \\in \\mathbb R$."
   ]
  },
  {
   "cell_type": "markdown",
   "id": "e2925a50-3baa-4f18-bd00-d3a8d26b40b2",
   "metadata": {},
   "source": [
    "## Gaussian Elimination"
   ]
  },
  {
   "cell_type": "markdown",
   "id": "aa2418d9-33b9-492a-93b1-b0b30f1ca008",
   "metadata": {},
   "source": [
    "Since we are interested in the row-echelon form, we need a process to generate it from any augmented matrix.\n"
   ]
  },
  {
   "cell_type": "markdown",
   "id": "181c4603-7c3e-4398-86fd-2046a9187a68",
   "metadata": {},
   "source": [
    "A simple method is the **Gaussian elimination**, which is as follows:\n",
    "1. Select the left-most non-zero column\n",
    "2. Swap rows if needed to ensure that the first row of the selected column is non-zero\n",
    "3. For each row below the top row, add multiples of the top row to it such that the entry in the selected column of that row is 0\n",
    "4. If it is in row-echelon form, exit\n",
    "5. Repeat step 1-4, but ignore the top row and perform it on the sub-matrix"
   ]
  },
  {
   "cell_type": "code",
   "execution_count": 2,
   "id": "f2b3bdff-769e-4dc8-98bc-63ea7e2eee1c",
   "metadata": {},
   "outputs": [
    {
     "name": "stdout",
     "output_type": "stream",
     "text": [
      "def gaussian_elim(arr: arr_type, b: Optional[arr_type] = None) -> arr_type|tuple[arr_type, arr_type]:\n",
      "    _b:arr_type = np.zeros((arr.shape[0], 1)).astype(arr.dtype) if b is None else b.copy()\n",
      "    arr = arr.copy()\n",
      "\n",
      "    if arr.dtype == np.dtype('O'):\n",
      "        _b = _b + Fraction()\n",
      "\n",
      "    if 0 in arr.shape:\n",
      "        return (arr, _b) if b is not None else arr\n",
      "\n",
      "    r = 0\n",
      "    for c in range(arr.shape[1]):\n",
      "        if np.all(arr[:,c] == 0):\n",
      "            continue\n",
      "        if arr[r][c] == 0:\n",
      "            indices = np.flatnonzero(arr[:, c])\n",
      "            indices = indices[indices > r]\n",
      "            if len(indices) == 0:\n",
      "                continue\n",
      "            i = indices[0]\n",
      "\n",
      "            arr[i], arr[r] = arr[r].copy(), arr[i].copy()\n",
      "            _b[i], _b[r] = _b[r].copy(), _b[i].copy()\n",
      "\n",
      "        #arr[r] /= arr[r][c]\n",
      "        #factors = arr[:, c].copy() \n",
      "        factors = arr[:, c].copy() / arr[r][c]\n",
      "        factors[:r+1] = 0\n",
      "        dx = np.tile(arr[r], (arr.shape[0], 1)) * factors[:,None]\n",
      "        arr -= dx\n",
      "\n",
      "        dx = np.tile(_b[r], (_b.shape[0], 1)) * factors[:,None]\n",
      "        _b -= dx\n",
      "        r += 1\n",
      "\n",
      "    return (arr, _b) if b is not None else arr\n"
     ]
    }
   ],
   "source": [
    "from module.elimination import gaussian_elim\n",
    "\n",
    "show_implementation(gaussian_elim)"
   ]
  },
  {
   "cell_type": "code",
   "execution_count": 3,
   "id": "256b9b41-812b-462d-a9d2-55167b0d70db",
   "metadata": {},
   "outputs": [
    {
     "name": "stdout",
     "output_type": "stream",
     "text": [
      "1\t1\t2 \t | 4\n",
      "0\t3\t1 \t | 5\n",
      "0\t0\t-1/3 \t | -20/3\n"
     ]
    }
   ],
   "source": [
    "arr = frac_arr([[1, 1, 2], [-1, 2, -1], [2, 0, 3]])\n",
    "b = frac_arr([4, 1, -2]).reshape((3, 1))\n",
    "\n",
    "print_arr(*gaussian_elim(arr, b))"
   ]
  },
  {
   "cell_type": "markdown",
   "id": "0d3b2e12-7dc7-4442-b12f-f3a98b4083c1",
   "metadata": {},
   "source": [
    "### Gauss-Jordan elimination"
   ]
  },
  {
   "cell_type": "markdown",
   "id": "016975e6-ba04-4726-bf67-c0c9ebc32730",
   "metadata": {},
   "source": [
    "Once we have a row-echelon form, we can further process it to obtain the reduced row-echelon form"
   ]
  },
  {
   "cell_type": "markdown",
   "id": "5129191d-27ae-4961-b39d-31bc5a0984bf",
   "metadata": {},
   "source": [
    "6. Multiply each row such that its leading entry is 1\n",
    "7. Add suitable multiples to each row such that the entries about the leading entry is 0"
   ]
  },
  {
   "cell_type": "code",
   "execution_count": 4,
   "id": "d9827830-b693-47b1-a778-a29c114ad312",
   "metadata": {},
   "outputs": [
    {
     "name": "stdout",
     "output_type": "stream",
     "text": [
      "def gauss_jordan_elim(arr: arr_type, b: Optional[arr_type] = None) -> arr_type|tuple[arr_type, arr_type]:\n",
      "    arr = arr.copy()\n",
      "    _b = np.zeros((arr.shape[0], 1)).astype('int') + Fraction() if b is None else b.copy()\n",
      "\n",
      "    if arr.dtype == np.dtype('O'):\n",
      "        _b = _b + Fraction()\n",
      "\n",
      "    arr, _b = gaussian_elim(arr, _b)\n",
      "    \n",
      "    for i in range(arr.shape[0]):\n",
      "        cols = np.argwhere(arr[i] != 0).ravel()\n",
      "        if not cols.size:\n",
      "            break\n",
      "\n",
      "        col = cols[0]\n",
      "        _b[i] /= arr[i][col]\n",
      "        arr[i] /= arr[i][col]\n",
      "\n",
      "\n",
      "        for j in range(i):\n",
      "            factor = arr[j][col]\n",
      "            arr[j] -= arr[i] * factor\n",
      "            _b[j] -= _b[i] * factor\n",
      "\n",
      "    return (arr, _b) if b is not None else arr\n"
     ]
    }
   ],
   "source": [
    "from module.elimination import gauss_jordan_elim\n",
    "\n",
    "show_implementation(gauss_jordan_elim)"
   ]
  },
  {
   "cell_type": "code",
   "execution_count": 5,
   "id": "e1d8371f-c810-417c-84fc-3200cd70922b",
   "metadata": {},
   "outputs": [
    {
     "name": "stdout",
     "output_type": "stream",
     "text": [
      "1\t0\t0 \t | -31\n",
      "0\t1\t0 \t | -5\n",
      "0\t0\t1 \t | 20\n"
     ]
    }
   ],
   "source": [
    "print_arr(*gauss_jordan_elim(arr, b))"
   ]
  },
  {
   "cell_type": "code",
   "execution_count": 6,
   "id": "d9df450f-00f5-46f0-b85f-dbe804bdf122",
   "metadata": {},
   "outputs": [
    {
     "name": "stdout",
     "output_type": "stream",
     "text": [
      "1\t3\t0\t4\t2\t0 \t | 0\n",
      "0\t0\t1\t2\t0\t0 \t | 0\n",
      "0\t0\t0\t0\t0\t1 \t | 1/3\n",
      "0\t0\t0\t0\t0\t0 \t | 0\n"
     ]
    }
   ],
   "source": [
    "arr = frac_arr(\n",
    "    [\n",
    "        [1, 3, -2, 0, 2, 0],\n",
    "        [2, 6, -5, -2, 4, -3],\n",
    "        [0, 0, 5, 10, 0, 15],\n",
    "        [2, 6, 0, 8, 4, 18],\n",
    "    ]\n",
    ")\n",
    "b = frac_arr([0, -1, 5, 6]).reshape((4, 1))\n",
    "print_arr(*gauss_jordan_elim(arr, b))"
   ]
  }
 ],
 "metadata": {
  "kernelspec": {
   "display_name": "Python 3 (ipykernel)",
   "language": "python",
   "name": "python3"
  },
  "language_info": {
   "codemirror_mode": {
    "name": "ipython",
    "version": 3
   },
   "file_extension": ".py",
   "mimetype": "text/x-python",
   "name": "python",
   "nbconvert_exporter": "python",
   "pygments_lexer": "ipython3",
   "version": "3.11.3"
  }
 },
 "nbformat": 4,
 "nbformat_minor": 5
}
