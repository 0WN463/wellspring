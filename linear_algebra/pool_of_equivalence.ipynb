{
 "cells": [
  {
   "cell_type": "markdown",
   "id": "630bd86c-1da8-4c12-aa61-4f025a70a5df",
   "metadata": {
    "run_control": {
     "frozen": true
    },
    "tags": []
   },
   "source": [
    "$$\n",
    "\\newcommand{theorem}{\\textbf{Theorem: }}\n",
    "\\newcommand{proof}{\\textbf{Proof: }}\n",
    "\\newcommand{lemma}{\\textbf{Lemma: }}\n",
    "\\newcommand{corollary}{\\textbf{Corollary: }}\n",
    "\\newcommand{prop}{\\textbf{Proposition: }}\n",
    "$$"
   ]
  },
  {
   "cell_type": "markdown",
   "id": "226206a1-d2ac-4222-b4a5-656b245160e2",
   "metadata": {},
   "source": [
    "$$\n",
    "\\newcommand{arr}{\\mathbf}\n",
    "\\newcommand{inv}{^{-1}}\n",
    "\\newcommand\\mat[1]{\\begin{pmatrix}#1\\end{pmatrix}} \n",
    "\\newcommand\\det[1]{\\left| #1\\right|} \n",
    "$$"
   ]
  },
  {
   "cell_type": "markdown",
   "id": "c5a68abf-9370-4843-8892-5fc645713a7c",
   "metadata": {},
   "source": [
    "# Pool of equivalence"
   ]
  },
  {
   "cell_type": "markdown",
   "id": "47e74cda-9502-4b82-bcf3-a2a8491b4f7c",
   "metadata": {},
   "source": [
    "Throughout this module, we will be exploring some statements that different ways to describe the same linear system."
   ]
  },
  {
   "cell_type": "markdown",
   "id": "b007ceaa-be9d-4e3c-b6ab-499347a98547",
   "metadata": {},
   "source": [
    "The following statements are equivalent:"
   ]
  },
  {
   "cell_type": "markdown",
   "id": "6addd684-3238-4290-afca-2997c760b5f7",
   "metadata": {},
   "source": [
    "1. $\\arr A$ is invertible\n",
    "2. The reduced row-echelon form of $\\arr A$ is $\\arr I$\n",
    "3. $\\arr A$ is a product of elementary matrices\n",
    "4. $\\arr{Ax} = \\arr 0$ has only the trivial solution\n",
    "5. $\\arr{Ax} = \\arr b$ has a unique solution for all $\\arr b$\n",
    "6. $\\det{\\arr A} \\neq 0$"
   ]
  }
 ],
 "metadata": {
  "kernelspec": {
   "display_name": "Python 3 (ipykernel)",
   "language": "python",
   "name": "python3"
  },
  "language_info": {
   "codemirror_mode": {
    "name": "ipython",
    "version": 3
   },
   "file_extension": ".py",
   "mimetype": "text/x-python",
   "name": "python",
   "nbconvert_exporter": "python",
   "pygments_lexer": "ipython3",
   "version": "3.10.4"
  }
 },
 "nbformat": 4,
 "nbformat_minor": 5
}
