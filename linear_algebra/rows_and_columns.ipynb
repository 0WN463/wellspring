{
 "cells": [
  {
   "cell_type": "markdown",
   "id": "630bd86c-1da8-4c12-aa61-4f025a70a5df",
   "metadata": {
    "run_control": {
     "frozen": true
    },
    "tags": []
   },
   "source": [
    "$$\n",
    "\\newcommand{theorem}{\\textbf{Theorem: }}\n",
    "\\newcommand{proof}{\\textbf{Proof: }}\n",
    "\\newcommand{lemma}{\\textbf{Lemma: }}\n",
    "\\newcommand{corollary}{\\textbf{Corollary: }}\n",
    "\\newcommand{prop}{\\textbf{Proposition: }}\n",
    "$$"
   ]
  },
  {
   "cell_type": "markdown",
   "id": "226206a1-d2ac-4222-b4a5-656b245160e2",
   "metadata": {},
   "source": [
    "$$\n",
    "\\newcommand{arr}{\\mathbf}\n",
    "\\newcommand{inv}{^{-1}}\n",
    "\\newcommand\\mat[1]{\\begin{pmatrix}#1\\end{pmatrix}} \n",
    "\\newcommand\\det[1]{\\left| #1\\right|} \n",
    "\\newcommand\\norm[1]{\\lVert #1\\rVert} \n",
    "\\newcommand\\set[1]{\\left\\{#1\\right\\}} \n",
    "$$"
   ]
  },
  {
   "cell_type": "code",
   "execution_count": 1,
   "id": "56cb7497-6fcb-4382-86e7-351e5d1be46b",
   "metadata": {},
   "outputs": [],
   "source": [
    "import numpy as np\n",
    "from module.elimination import gauss_jordan_elim\n",
    "from module.utility import print_arr, frac_arr"
   ]
  },
  {
   "cell_type": "markdown",
   "id": "2490b3d0-1d6d-4326-8f04-ee7895849a49",
   "metadata": {},
   "source": [
    "# Rows and columns"
   ]
  },
  {
   "cell_type": "markdown",
   "id": "a1d58b1c-96ea-4a71-a475-d8b9097533ea",
   "metadata": {},
   "source": [
    "(Prerequisite: [Euclidean space](./euclidean_space.ipnb))"
   ]
  },
  {
   "cell_type": "markdown",
   "id": "97c07832-d777-45ee-ba18-c0d94060442e",
   "metadata": {},
   "source": [
    "## Row and column space"
   ]
  },
  {
   "cell_type": "markdown",
   "id": "eddda39b-a3a6-48ae-b63f-2cb6221c7ab4",
   "metadata": {},
   "source": [
    "Given a $m \\times n$ matrix $\\arr A$, we define $Row(\\arr A)$, the **row space** as the subspace of $\\mathbb R^n$ spanned by the rows of $\\arr A$."
   ]
  },
  {
   "cell_type": "markdown",
   "id": "ea2764ab-4ee6-49a2-bf74-469f2b3d3559",
   "metadata": {},
   "source": [
    "$Col(\\arr A)$, the **column space** is the subspace of $\\mathbb R^m$ spanned by the columns of $\\arr A$."
   ]
  },
  {
   "cell_type": "markdown",
   "id": "b879d412-6d89-49e7-8217-b793dd45f5ea",
   "metadata": {},
   "source": [
    "Thus, given:\n",
    "$$\n",
    "\\arr A = \\mat{1 & 0 & 3  & 0 \\\\ 0 & 1 & 0 & 2}\\\\\n",
    "Col(\\arr A) = span\\set{\\mat{1 \\\\ 0}, \\mat{0 \\\\ 1}, \\mat{3& 0}, \\mat{0 &3}} = span \\set{\\mat{1 \\\\ 0}, \\mat{0 \\\\1 }}\\\\\n",
    "Row(\\arr A) = span\\set{\\mat{1 & 0 & 3 & 0}, \\mat{0 & 1 & 0 & 2}}\\\\\n",
    "$$"
   ]
  },
  {
   "cell_type": "markdown",
   "id": "c8549b68-7393-4b74-ae6f-8f182bc01159",
   "metadata": {},
   "source": [
    "(Note: For 1 dimensional matrices, we usually interchange between column and row representation, whichever is more convenient)"
   ]
  },
  {
   "cell_type": "markdown",
   "id": "0935a124-f68e-4dd1-8dcb-38f4ffd88d98",
   "metadata": {},
   "source": [
    "### Finding row space"
   ]
  },
  {
   "cell_type": "markdown",
   "id": "30aae9ec-2a9d-4f27-98ef-2cf56ac21ccc",
   "metadata": {},
   "source": [
    "$\\theorem$ Given $\\arr A, \\arr B$ which are row equivalent, $Row(\\arr A) = Row(\\arr B)$."
   ]
  },
  {
   "cell_type": "markdown",
   "id": "e9b42bfa-5541-42ae-a4e0-1165b2e31e89",
   "metadata": {},
   "source": [
    "$\\theorem$ Given a matrix $\\arr A$ and $\\arr R$ which the reduced row echelon form of $A$, then the rows of $\\arr R$ forms a basis for $Row(\\arr A)$."
   ]
  },
  {
   "cell_type": "markdown",
   "id": "7b6f9c6c-f363-4073-947f-a7535cf33d2a",
   "metadata": {
    "tags": []
   },
   "source": [
    "<details>\n",
    "<summary style=\"color: blue\">$\\proof$ (Click to expand)</summary>\n",
    "    <div style=\"background: aliceblue\">\n",
    "        By the previous theorem, $Row(\\arr A) = Row(\\arr R)$.\n",
    "        Since the rows of $\\arr R$ are linearly independent (by property of reduced row-echelon form),\n",
    "        and the rows of $\\arr R$ by definition spans the $Row(\\arr A)$, which means it also spans $Row(\\arr A)$;\n",
    "        it is a basis for $Row(\\arr A)$.\n",
    "        $$QED$$\n",
    "    </div>\n",
    "</details>"
   ]
  },
  {
   "cell_type": "markdown",
   "id": "355da505-1574-4b14-b5a7-e16f2a9863db",
   "metadata": {},
   "source": [
    "#### Example"
   ]
  },
  {
   "cell_type": "markdown",
   "id": "a4eaf1a6-5c97-43fa-be29-b5769738b0e4",
   "metadata": {},
   "source": [
    "Given $\\arr A = \\mat{1 & 1 & 2 & 3 \\\\ 2 & 4 & 1 & 0 \\\\ 1 & 5 & -4 & -9}$"
   ]
  },
  {
   "cell_type": "markdown",
   "id": "40891c1c-7b29-480e-90cd-c00765b14928",
   "metadata": {},
   "source": [
    "$\\arr R = \\mat{1 & 0 & 3.5 & 6 \\\\ 0 & 1 & -1.5 & -3 \\\\ 0 & 0 & 0 & 0}$"
   ]
  },
  {
   "cell_type": "markdown",
   "id": "eb02b2ae-946c-437e-b082-9d29bbd546b3",
   "metadata": {},
   "source": [
    "Hence, a basis for $Row(A)$ is $\\set{\\mat{1 & 0 & 3.5 & 6}, \\mat{0 & 1 & -1.5 & -3}}$"
   ]
  },
  {
   "cell_type": "markdown",
   "id": "9ac2cdf1-1ed1-4313-ab58-a24cd6ebfa61",
   "metadata": {},
   "source": [
    "We can see that the rows of $\\arr A$ can be expressed as linear combinations of the vectors in the basis, by solving the below linear systems."
   ]
  },
  {
   "cell_type": "code",
   "execution_count": 5,
   "id": "ee7be520-43c1-452a-8903-3dbbe134d925",
   "metadata": {},
   "outputs": [
    {
     "name": "stdout",
     "output_type": "stream",
     "text": [
      "1\t0 \t | 1\t2\t1\n",
      "0\t1 \t | 1\t4\t5\n",
      "0\t0 \t | 0\t0\t0\n",
      "0\t0 \t | 0\t0\t0\n"
     ]
    }
   ],
   "source": [
    "A = frac_arr([1, 1, 2, 3, 2, 4, 1, 0, 1, 5, -4, -9]).reshape((3, 4)).T\n",
    "basis = frac_arr([1, 0, 3.5, 6, 0, 1, -1.5, -3]).reshape((2, 4)).T\n",
    "print_arr(*gauss_jordan_elim(basis, A))"
   ]
  },
  {
   "cell_type": "markdown",
   "id": "003e4953-df8f-42a2-b63f-937fe61412d8",
   "metadata": {},
   "source": [
    "Since the system is consistent, each row of $\\arr A$ is linearly dependent on our basis."
   ]
  },
  {
   "cell_type": "markdown",
   "id": "297553e3-8268-459c-9003-e9e77396922a",
   "metadata": {},
   "source": [
    "### Finding column space"
   ]
  },
  {
   "cell_type": "markdown",
   "id": "53dd5d2f-952f-4380-b768-349deedb6da9",
   "metadata": {},
   "source": [
    "$\\theorem$ Given $\\arr A, \\arr B$ which are row equivalent, let $\\arr a_i, \\arr b_i$ be the $i$-th row of $\\arr A, \\arr B$.\n",
    "Then for any coefficients $c_i$ satisfying \n",
    "$$\n",
    "c_i \\arr a_1 + \\cdots + c_n \\arr a _n = \\arr 0\n",
    "$$\n",
    "then \n",
    "$$\n",
    "c_i \\arr b_1 + \\cdots + c_n \\arr b_n = \\arr 0\n",
    "$$"
   ]
  },
  {
   "cell_type": "markdown",
   "id": "f2aa147d-c69d-4619-804e-f219900145a5",
   "metadata": {},
   "source": [
    "Notice that the above is same as the conditions for [linear independence](./euclidean_space.ipynb#Linear-independence).\n",
    "Hence, the theorem is saying that if a column is a linear combination of the other columns in $\\arr A$, then the corresponding column in $\\arr B$ is also a linear combination of the other columns of $\\arr B$, using the same coefficients."
   ]
  },
  {
   "cell_type": "markdown",
   "id": "17db2317-4b43-453c-b799-0ba0a8a9c0f8",
   "metadata": {},
   "source": [
    "$\\theorem$ Given a matrix $\\arr A$ and $\\arr R$ which the reduced row echelon form of $\\arr A$, then columns of $\\arr A$ that correspond to the **pivot columns** of $\\arr R$ forms a basis for $Col( \\arr A)$."
   ]
  },
  {
   "cell_type": "markdown",
   "id": "2bd9f8e2-7acb-4e89-afc8-e1b9267693a6",
   "metadata": {
    "tags": []
   },
   "source": [
    "<details>\n",
    "<summary style=\"color: blue\">$\\proof$ (Click to expand)</summary>\n",
    "    <div style=\"background: aliceblue\">\n",
    "        The pivot columns of $\\arr R$ are linearly independent.\n",
    "        Thus, by the previous theorem, the corresponding columns of $\\arr A$ are also linearly independent.\n",
    "        Since the columns of $\\arr A$ spans $Col(\\arr A)$ by definition, it follows that it is a basis for $Col(\\arr A)$.\n",
    "        $$QED$$\n",
    "    </div>\n",
    "</details>"
   ]
  },
  {
   "cell_type": "markdown",
   "id": "dd428b36-0fc6-4daa-ae8c-7ef2fe2c42b0",
   "metadata": {},
   "source": [
    "#### Example"
   ]
  },
  {
   "cell_type": "markdown",
   "id": "6f1e10ff-5bea-4e11-8ef9-e049bf7c539f",
   "metadata": {},
   "source": [
    "Using the previous matrix,"
   ]
  },
  {
   "cell_type": "markdown",
   "id": "10e8e50b-b1f3-4555-89e2-60d578635a53",
   "metadata": {},
   "source": [
    "$\\arr A = \\mat{1 & 1 & 2 & 3 \\\\ 2 & 4 & 1 & 0 \\\\ 1 & 5 & -4 & -9}$"
   ]
  },
  {
   "cell_type": "markdown",
   "id": "85942c98-6041-4f8d-b9c8-6c8f97328707",
   "metadata": {},
   "source": [
    "$\\arr R = \\mat{1 & 0 & 3.5 & 6 \\\\ 0 & 1 & -1.5 & -3 \\\\ 0 & 0 & 0 & 0}$"
   ]
  },
  {
   "cell_type": "markdown",
   "id": "035bd7d8-feea-4d63-9ff0-83ac8288015c",
   "metadata": {},
   "source": [
    "Since the first 2 columns are pivot columns, then a basis for $Col(\\arr A)$ is $\\set{\\mat{1 \\\\ 2 \\\\ 1}, \\mat{1 \\\\ 4 \\\\ 5}}$."
   ]
  },
  {
   "cell_type": "markdown",
   "id": "8105622f-cb1c-4f5b-a505-bbbbb0ff244a",
   "metadata": {},
   "source": [
    "We can see that the other 2 columns are linear combinations of the 1st 2."
   ]
  },
  {
   "cell_type": "code",
   "execution_count": 3,
   "id": "5a42bcd5-5481-4ddd-aaba-cadd92bb6849",
   "metadata": {},
   "outputs": [
    {
     "name": "stdout",
     "output_type": "stream",
     "text": [
      "1\t0 \t | 7/2\t6\n",
      "0\t1 \t | -3/2\t-3\n",
      "0\t0 \t | 0\t0\n"
     ]
    }
   ],
   "source": [
    "A = frac_arr([2, 3, 1, 0, -4, -9]).reshape((3, 2))\n",
    "basis = frac_arr([1, 1, 2, 4, 1, 5]).reshape((3, 2))\n",
    "print_arr(*gauss_jordan_elim(basis, A))"
   ]
  },
  {
   "cell_type": "markdown",
   "id": "2bc9d99b-a44c-462e-a854-8d7bca8b5157",
   "metadata": {},
   "source": [
    "And hence our 2 columns is enough to span the column space."
   ]
  },
  {
   "cell_type": "markdown",
   "id": "617db353-4b96-417d-8c40-c6412bbb9186",
   "metadata": {},
   "source": [
    "### Properties\n",
    "\n",
    "1. $dim(Row(\\arr A)) = dim(Col(\\arr A))$\n",
    "2. Row operations do not preserve column space, but preserves row space\n",
    "2. Row operations do not preserve linear relations of the rows, but preserves it for columns."
   ]
  },
  {
   "cell_type": "markdown",
   "id": "156cdfaf-3472-47e8-9131-516e0fd938f6",
   "metadata": {},
   "source": [
    "### Relationship between column space and consistency of system"
   ]
  },
  {
   "cell_type": "markdown",
   "id": "99672490-4d99-4175-b6d9-274023a92a2e",
   "metadata": {},
   "source": [
    "$\\theorem$ $Col (\\arr A) = \\set{\\arr {Au} \\middle | \\arr u \\in \\mathbb R^n}$"
   ]
  },
  {
   "cell_type": "markdown",
   "id": "8677b154-4adf-4e2f-b374-bc6152b460ca",
   "metadata": {
    "tags": []
   },
   "source": [
    "<details>\n",
    "<summary style=\"color: blue\">$\\proof$ (Click to expand)</summary>\n",
    "    <div style=\"background: aliceblue\">\n",
    "        <a href=\"./euclidean_space.ipynb#Linear-combination\"> Recall</a> that given $\\arr u_i$ that are the columns of $\\arr A$,  $\\arr v \\in span \\set{\\arr u_1, \\dots, \\arr u_k}$ if and only if $\\arr {Ac} = \\arr v$ is consistent.\n",
    "        Since $span \\set{\\arr u_1, \\dots, \\arr u_k} = Col(\\arr A)$, it follows that any vector that is in $Col(\\arr A)$ can be expressed as $\\arr {Ac}$, and vice versa.\n",
    "        $$QED$$\n",
    "    </div>\n",
    "</details>"
   ]
  },
  {
   "cell_type": "markdown",
   "id": "bd6e2218-1059-4f12-b852-86a876cc2488",
   "metadata": {
    "tags": []
   },
   "source": [
    "### Finding basis"
   ]
  },
  {
   "cell_type": "markdown",
   "id": "6c5751a6-829d-4531-a6f3-e1d6aad1062d",
   "metadata": {},
   "source": [
    "#### Using vectors from a set"
   ]
  },
  {
   "cell_type": "markdown",
   "id": "e95374a5-8d33-4f76-a477-efda576f45e0",
   "metadata": {},
   "source": [
    "Suppose that we want to find a basis given a set $S = \\set{\\arr u_1, \\arr u_2, \\dots, \\arr u_k}$.\n",
    "\n",
    "We create $\\arr A = \\mat{\\arr u_1 & \\arr u_2 & \\cdots & \\arr u_k}$, _ie_ we stack the columns horizontally.\n",
    "Since $span(S) = Col(A)$ by construction, we can use the above method to find the columns of $\\arr A$ (which are the vectors in $S$) that are linearly independent."
   ]
  },
  {
   "cell_type": "markdown",
   "id": "e47d1de0-665c-4edd-9b0c-77c81456d7de",
   "metadata": {},
   "source": [
    "If we had rephrase our example, it would be equivalent to finding the basis of"
   ]
  },
  {
   "cell_type": "markdown",
   "id": "2c45ce8b-9e94-40f7-98e3-9067d337d860",
   "metadata": {},
   "source": [
    "$span(\\set{\\mat{1 \\\\ 2 \\\\ 1}, \\mat{1 \\\\4 \\\\ 5}, \\mat{2 \\\\ 1 \\\\ -4}, \\mat{3 \\\\ 0 \\\\ -9}})$"
   ]
  },
  {
   "cell_type": "markdown",
   "id": "c521ca46-b0af-4141-8a42-0fc27de37c41",
   "metadata": {},
   "source": [
    "which uses vectors from the same set."
   ]
  },
  {
   "cell_type": "markdown",
   "id": "6ac00f18-9ed4-47d1-9e7d-1e29f880f271",
   "metadata": {},
   "source": [
    "#### For ease of obtaining coordinates"
   ]
  },
  {
   "cell_type": "markdown",
   "id": "c94ba1fc-a6c0-47b9-86a0-48ecedd08dc7",
   "metadata": {},
   "source": [
    "Suppose that we want a basis that is easy to obtain the coordinates for some set of vectors $S = \\set{\\arr u_1, \\arr u_2, \\dots, \\arr u_k}$."
   ]
  },
  {
   "cell_type": "markdown",
   "id": "712bf0af-23ed-462f-9fd2-8a90ab62052a",
   "metadata": {},
   "source": [
    "We create $\\arr A = \\mat{\\arr u_1^T \\\\ \\arr u_2^T \\\\ \\vdots \\\\ \\arr u_k^T}$, _ie_ we convert them to rows and stack them vertically."
   ]
  },
  {
   "cell_type": "markdown",
   "id": "5fde253f-3590-4f30-81d1-79eb293ad30c",
   "metadata": {},
   "source": [
    "Then we use the basis for the row space of $\\arr A$ as our basis."
   ]
  },
  {
   "cell_type": "markdown",
   "id": "6405c436-df21-4553-9a57-56ebe2553768",
   "metadata": {},
   "source": [
    "Since the basis correspond to rows in the reduced row-echelon form of $\\arr A$, it will contain mainly $1$'s and $0$'s for the first few columns, which makes finding the vector's coordinate much easier as we just set the coefficient to be the value of that entry in the vector."
   ]
  },
  {
   "cell_type": "markdown",
   "id": "783f0bf8-1c78-4269-9b74-290fd0459284",
   "metadata": {},
   "source": [
    "Rephrasing our example, it is finding the basis which of"
   ]
  },
  {
   "cell_type": "markdown",
   "id": "86617503-bb46-4b7d-84bd-1ab80202edcc",
   "metadata": {},
   "source": [
    "$span \\set{ \\mat{1 \\\\ 1 \\\\ 2 \\\\ 3}, \\mat{2 \\\\ 4 \\\\ 1 \\\\ 0} ,\\mat{1 \\\\ 5 \\\\ -4 \\\\ -9}}$"
   ]
  },
  {
   "cell_type": "markdown",
   "id": "a222e337-56a2-4983-9049-eccb3bbcb29e",
   "metadata": {},
   "source": [
    "The basis we would have is:"
   ]
  },
  {
   "cell_type": "markdown",
   "id": "e517f624-d6e7-4c5b-85ef-0b97d7fdf2d5",
   "metadata": {},
   "source": [
    "$\\set{\\mat{1 \\\\ 0 \\\\ 3.5 \\\\ 6}, \\mat{0 \\\\ 1 \\\\ -1.5 \\\\ -3}}$"
   ]
  },
  {
   "cell_type": "markdown",
   "id": "263ed7b9-341b-4c0a-9773-090258fa3671",
   "metadata": {},
   "source": [
    "We can easier see that coordinates of the 3 vectors are $(1, 1), (2, 4)$ and $(1, 5$ respectively, simply by reading theirs first 2 entries."
   ]
  },
  {
   "cell_type": "markdown",
   "id": "00e95643-26e1-46ae-9069-b64b0d3120ea",
   "metadata": {},
   "source": [
    "#### Extending a basis"
   ]
  },
  {
   "cell_type": "markdown",
   "id": "b260d6a6-9e40-4b18-9986-a6dd02a85a76",
   "metadata": {},
   "source": [
    "Suppose that we have a set $S$ that spans some subspace $V \\subseteq \\mathbb R^n$.\n",
    "Now, we wish to add vectors to it such that it spans $\\subseteq \\mathbb R^n$."
   ]
  },
  {
   "cell_type": "markdown",
   "id": "7075b3a7-74cb-4f72-9d59-2b9a1fb5c2b6",
   "metadata": {},
   "source": [
    "To do this, we find the basis for the row space.\n",
    "From there, we can easily determine the vectors (row vectors with pivot columns) that needs to be added for the set to span $\\mathbb R^n$."
   ]
  },
  {
   "cell_type": "markdown",
   "id": "b78a8f15-a32c-4ecc-978b-d850a888720f",
   "metadata": {},
   "source": [
    "Continuing from our previous example, suppose that we want the following set to span $\\mathbb R^n$."
   ]
  },
  {
   "cell_type": "markdown",
   "id": "bbf44a81-c8a2-492e-a602-9a793dd75b04",
   "metadata": {},
   "source": [
    "$\\set{ \\mat{1 \\\\ 1 \\\\ 2 \\\\ 3}, \\mat{2 \\\\ 4 \\\\ 1 \\\\ 0} ,\\mat{1 \\\\ 5 \\\\ -4 \\\\ -9}}$"
   ]
  },
  {
   "cell_type": "markdown",
   "id": "0c84a6d4-0c17-45a2-9a0b-c42f7037a830",
   "metadata": {},
   "source": [
    "We saw that "
   ]
  },
  {
   "cell_type": "markdown",
   "id": "42720e75-3c32-4f49-bace-71e5297b41a3",
   "metadata": {},
   "source": [
    "$\\arr R = \\mat{1 & 0 & 3.5 & 6 \\\\ 0 & 1 & -1.5 & -3 \\\\ 0 & 0 & 0 & 0}$"
   ]
  },
  {
   "cell_type": "markdown",
   "id": "c70e552b-f14f-461c-8960-85bfbaffb755",
   "metadata": {},
   "source": [
    "Hence, we see that we are missing pivot columns for the last 2 columns.\n",
    "This indicates that we simply needed to add $\\mat{0 & 0 & 1 & 0}$ and $\\mat{0 & 0 & 0 & 1}$ to make $\\arr R$ invertible, and thus for the set to span $\\mathbb R^n$."
   ]
  },
  {
   "cell_type": "markdown",
   "id": "5f1be20c-707e-41ce-b1e1-36f74636d936",
   "metadata": {},
   "source": [
    "$\\arr R'= \\mat{1 & 0 & 3.5 & 6 \\\\ 0 & 1 & -1.5 & -3 \\\\ 0 & 0 & 1 & 0\\\\ 0 & 0 & 0 & 1} \\to\\mat{1 & 0 & 0 & 0 \\\\ 0 & 1 & 0 & 0 \\\\ 0 & 0 & 1 & 0\\\\ 0 & 0 & 0 & 1}$"
   ]
  },
  {
   "cell_type": "markdown",
   "id": "4a4aef1f-b0b3-4e26-bfe0-c2aa8b843b33",
   "metadata": {},
   "source": [
    "Hence, the vectors that we needed to add are simply\n",
    "$\\mat{0 \\\\ 0 \\\\ 1 \\\\ 0}$ and $\\mat{0 \\\\ 0 \\\\ 0 \\\\ 1}$ "
   ]
  },
  {
   "cell_type": "markdown",
   "id": "de40d690-0f2f-4e9b-bf75-f76893b9c28e",
   "metadata": {},
   "source": [
    "## Rank"
   ]
  },
  {
   "cell_type": "markdown",
   "id": "3dad3a20-95ae-414c-afba-29387df0d14d",
   "metadata": {},
   "source": [
    "Recall that we stated that the property of \n",
    "$$dim(Row(\\arr A)) = dim(Col(\\arr A))$$"
   ]
  },
  {
   "cell_type": "markdown",
   "id": "3712ec4c-0d7c-4d7c-a826-649d7afa1b68",
   "metadata": {
    "tags": []
   },
   "source": [
    "<details>\n",
    "<summary style=\"color: blue\">$\\proof$ (Click to expand)</summary>\n",
    "    <div style=\"background: aliceblue\">\n",
    "        Let $\\arr R$ be the reduced row-echelon form of $\\arr A$.\n",
    "        The dimension of $Row(\\arr A)$ is equals to the number of non-zero rows in $\\arr R$.\n",
    "        And the dimension of $Col(\\arr A)$ is equals to the number of pivot columns in $\\arr R$.\n",
    "        Notice that these 2 numbers are both equals to the number of leading entries in $\\arr R$.\n",
    "        Hence, all 3 are equal.\n",
    "        $$QED$$\n",
    "    </div>\n",
    "</details>"
   ]
  },
  {
   "cell_type": "markdown",
   "id": "1de120b6-3042-466f-a992-7273502a4efc",
   "metadata": {},
   "source": [
    "Since this number seem to have a special significance, we call it the **rank** of $\\arr A$, denoted as $rank(\\arr A)$."
   ]
  },
  {
   "cell_type": "markdown",
   "id": "6ee8ba9b-074b-4809-837b-cb13e53acfcf",
   "metadata": {},
   "source": [
    "Thus, we get:\n",
    "$$rank(\\arr A) = dim(Row(\\arr A)) = dim(Col(\\arr A))$$"
   ]
  },
  {
   "cell_type": "markdown",
   "id": "aa8a3979-2f94-4168-9a8d-3eaafb693ebf",
   "metadata": {},
   "source": [
    "$\\lemma$ For a $m \\times n$ matrix $\\arr A$,\n",
    "$$\n",
    "rank (\\arr A) \\leq  \\min \\set{m, n}\n",
    "$$"
   ]
  },
  {
   "cell_type": "markdown",
   "id": "7f2452ca-2a3c-4fb6-ac4b-3007d5e6bfe2",
   "metadata": {
    "tags": []
   },
   "source": [
    "<details>\n",
    "<summary style=\"color: blue\">$\\proof$ (Click to expand)</summary>\n",
    "    <div style=\"background: aliceblue\">\n",
    "        The number of pivot columns is at most the number of columns in $\\arr A$.\n",
    "        Therefore $n \\geq dim(Col(\\arr A)) = rank(\\arr A)$.\n",
    "        <br>\n",
    "        Similarly, the number of non-zero rows is at most the number of rows in $\\arr A$.\n",
    "        Therefore $m \\geq dim(Row(\\arr A)) = rank(\\arr A)$.\n",
    "        $$QED$$\n",
    "    </div>\n",
    "</details>"
   ]
  },
  {
   "cell_type": "markdown",
   "id": "f9e7137d-e650-4093-9d54-9e26bb2c620c",
   "metadata": {},
   "source": [
    "### Full rank"
   ]
  },
  {
   "cell_type": "markdown",
   "id": "1cf297a2-c38e-41c4-a207-c896074601c1",
   "metadata": {},
   "source": [
    "When $rank(A) = \\min \\set{m, n}$, we say $\\arr A$ is **full rank**."
   ]
  },
  {
   "cell_type": "markdown",
   "id": "03e411e8-8f71-41d9-9792-ddc6853dbbf6",
   "metadata": {},
   "source": [
    "#### Rank equals number of columns"
   ]
  },
  {
   "cell_type": "markdown",
   "id": "5cf851ce-cb61-4312-be1a-9bf6c368f55a",
   "metadata": {},
   "source": [
    "Now we consider full rank matrices whose rank is the same as the number of columns."
   ]
  },
  {
   "cell_type": "markdown",
   "id": "b6f92dd6-9e89-4de6-bc8a-e9739fc3235b",
   "metadata": {},
   "source": [
    "They have a reduced row-echelon form that is like:\n",
    "$$\n",
    "\\arr R = \\mat{\\arr I_n \\\\ \\arr 0_{(m-n)\\times n}}\n",
    "$$"
   ]
  },
  {
   "cell_type": "markdown",
   "id": "4da93e46-3948-4ff1-b6f8-c6a0f9fd4ffb",
   "metadata": {},
   "source": [
    "##### Properties"
   ]
  },
  {
   "cell_type": "markdown",
   "id": "c00105b2-84ac-42aa-ac14-819d26d24272",
   "metadata": {},
   "source": [
    "1. $rank(A) = n$\n",
    "2. $Row(\\arr A) = \\mathbb R^n$\n",
    "3. Columns of $\\arr A$ are linearly independent\n",
    "4. [$Null(\\arr A) = \\arr 0$](#Nullspace), _ie_ $\\arr {Ax} = \\arr 0$ only has the trivial solution\n",
    "5. $\\arr A^T \\arr A$ is invertible with order $n$\n",
    "6. $\\arr A$ has a left inverse"
   ]
  },
  {
   "cell_type": "markdown",
   "id": "93c755be-89d4-460d-8e10-f445ef62e484",
   "metadata": {},
   "source": [
    "(The above statements are \"if and only if\")"
   ]
  },
  {
   "cell_type": "markdown",
   "id": "7e9eca5f-f42f-4121-9290-721864cc0e02",
   "metadata": {},
   "source": [
    "#### Rank equals number of rows"
   ]
  },
  {
   "cell_type": "markdown",
   "id": "96f4608e-3fdb-4626-b7a3-8e777613f0c0",
   "metadata": {},
   "source": [
    "We now consider full rank matrices whose rank is the same as the number of rows."
   ]
  },
  {
   "cell_type": "markdown",
   "id": "fa5a425b-911b-4b00-9535-a98fe6886672",
   "metadata": {},
   "source": [
    "They have a reduced row-echelon form that is like:\n",
    "$$\n",
    "\\arr R = \\mat{\\arr I_m & \\arr R'}\n",
    "$$\n",
    "where $\\arr R'$ is any matrix that respects the reduced row-echelon form of $\\arr R$."
   ]
  },
  {
   "cell_type": "markdown",
   "id": "2ed5668d-b870-42b9-a025-618a6e05570c",
   "metadata": {},
   "source": [
    "##### Properties"
   ]
  },
  {
   "cell_type": "markdown",
   "id": "633f94bd-c549-4742-89c5-c382353eb12b",
   "metadata": {},
   "source": [
    "1. $rank(A) = m$\n",
    "2. $Col(\\arr A) = \\mathbb R^m$\n",
    "3. Rows of $\\arr A$ are linearly independent\n",
    "4. $\\arr {Ax} = \\arr b$ is consistent for any $\\arr b \\in \\mathbb R^m$\n",
    "5. $\\arr A \\arr A^T$ is invertible with order $m$\n",
    "6. $\\arr A$ has a right inverse"
   ]
  },
  {
   "cell_type": "markdown",
   "id": "ae0d0039-e5a4-4baa-91f2-bdc9ee5d9091",
   "metadata": {},
   "source": [
    "(The above statements are \"if and only if\")"
   ]
  },
  {
   "cell_type": "markdown",
   "id": "032c151f-4033-452b-9bcc-63f09131053d",
   "metadata": {},
   "source": [
    "By the statement of the two kinds of matrices, we see that a non-square matrix can have only either a left or right inverse."
   ]
  },
  {
   "cell_type": "markdown",
   "id": "863570cb-3ba7-4a1d-a415-23bea3e17433",
   "metadata": {},
   "source": [
    "These statements brings us to statement 8 and 9 of our [pool of equivalence](./pool_of_equivalence.ipynb)"
   ]
  },
  {
   "cell_type": "markdown",
   "id": "76ee6de6-5bb5-4f16-b510-48b4514be87e",
   "metadata": {},
   "source": [
    "## Nullspace"
   ]
  },
  {
   "cell_type": "markdown",
   "id": "59c7e84a-b1bd-44aa-8ebc-9006cd3aecca",
   "metadata": {},
   "source": [
    "Recall that the [solution set to the homogeneous system is a subspace](./euclidean_space.ipynb#solution-set-subspace)."
   ]
  },
  {
   "cell_type": "markdown",
   "id": "e6941c1a-3181-444d-b63f-5fa30b36e6fe",
   "metadata": {},
   "source": [
    "We call this the **nullspace** of the system, formally defined as"
   ]
  },
  {
   "cell_type": "markdown",
   "id": "eec84c43-65b9-433a-880a-decb6ef64563",
   "metadata": {},
   "source": [
    "$$\n",
    "Null(\\arr A) = \\set{\\arr v \\in \\mathbb R^n \\middle | \\arr {Av} = \\arr 0}\n",
    "$$"
   ]
  },
  {
   "cell_type": "markdown",
   "id": "8e851278-8bc1-457c-ac64-3d988f3a7ef6",
   "metadata": {},
   "source": [
    "and we define the **nullity** as the dimension of the null space."
   ]
  },
  {
   "cell_type": "markdown",
   "id": "7736cd40-7a26-4a58-9eba-996240665e95",
   "metadata": {},
   "source": [
    "$$\n",
    "nullity(\\arr A) = dim(Null(\\arr A))\n",
    "$$"
   ]
  },
  {
   "cell_type": "markdown",
   "id": "c5131b0d-70ad-4783-bb28-c5e0d3b636f9",
   "metadata": {},
   "source": [
    "### Rank-Nullity theorem"
   ]
  },
  {
   "cell_type": "markdown",
   "id": "9b054616-b6ee-48a3-8783-1e9fa4763f0d",
   "metadata": {},
   "source": [
    "$\\theorem$ $rank(\\arr A) = nullity(\\arr A) = n$"
   ]
  },
  {
   "cell_type": "markdown",
   "id": "d26c2819-cb84-45a0-b782-9a5a6f6755f5",
   "metadata": {},
   "source": [
    "_ie_ the sum of the rank and nullity is the number of columns in the matrix."
   ]
  }
 ],
 "metadata": {
  "kernelspec": {
   "display_name": "Python 3 (ipykernel)",
   "language": "python",
   "name": "python3"
  },
  "language_info": {
   "codemirror_mode": {
    "name": "ipython",
    "version": 3
   },
   "file_extension": ".py",
   "mimetype": "text/x-python",
   "name": "python",
   "nbconvert_exporter": "python",
   "pygments_lexer": "ipython3",
   "version": "3.10.8"
  }
 },
 "nbformat": 4,
 "nbformat_minor": 5
}
