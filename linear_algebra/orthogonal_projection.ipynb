{
 "cells": [
  {
   "cell_type": "markdown",
   "id": "630bd86c-1da8-4c12-aa61-4f025a70a5df",
   "metadata": {
    "run_control": {
     "frozen": true
    },
    "tags": []
   },
   "source": [
    "$$\n",
    "\\newcommand{theorem}{\\textbf{Theorem: }}\n",
    "\\newcommand{proof}{\\textbf{Proof: }}\n",
    "\\newcommand{lemma}{\\textbf{Lemma: }}\n",
    "\\newcommand{corollary}{\\textbf{Corollary: }}\n",
    "\\newcommand{prop}{\\textbf{Proposition: }}\n",
    "$$"
   ]
  },
  {
   "cell_type": "markdown",
   "id": "226206a1-d2ac-4222-b4a5-656b245160e2",
   "metadata": {},
   "source": [
    "$$\n",
    "\\newcommand{arr}{\\mathbf}\n",
    "\\newcommand{inv}{^{-1}}\n",
    "\\newcommand\\mat[1]{\\begin{pmatrix}#1\\end{pmatrix}} \n",
    "\\newcommand\\det[1]{\\left| #1\\right|} \n",
    "\\newcommand\\norm[1]{\\lVert #1\\rVert} \n",
    "\\newcommand\\set[1]{\\left\\{#1\\right\\}} \n",
    "$$"
   ]
  },
  {
   "cell_type": "code",
   "execution_count": 2,
   "id": "1d048193-2eb8-4423-80be-7cfcefb50110",
   "metadata": {
    "editable": false,
    "run_control": {
     "frozen": true
    }
   },
   "outputs": [],
   "source": [
    "import sys\n",
    "\n",
    "sys.path.append(\"..\")"
   ]
  },
  {
   "cell_type": "code",
   "execution_count": 3,
   "id": "56cb7497-6fcb-4382-86e7-351e5d1be46b",
   "metadata": {},
   "outputs": [],
   "source": [
    "import numpy as np\n",
    "import matplotlib.pyplot as plt\n",
    "from module.elimination import gauss_jordan_elim, gaussian_elim\n",
    "from common.utility import show_implementation\n",
    "\n",
    "np.set_printoptions(edgeitems=10, linewidth=180)"
   ]
  },
  {
   "cell_type": "markdown",
   "id": "2490b3d0-1d6d-4326-8f04-ee7895849a49",
   "metadata": {},
   "source": [
    "# Orthogonal projection"
   ]
  },
  {
   "cell_type": "markdown",
   "id": "38ae45d1-9920-4f63-a5a4-075c982a25ec",
   "metadata": {},
   "source": [
    "## Orthogonal basis"
   ]
  },
  {
   "cell_type": "markdown",
   "id": "00fdae00-359f-40d5-a7f0-8e18113e8f3a",
   "metadata": {
    "tags": []
   },
   "source": [
    "$\\theorem$:\n",
    "A [orthogonal set](./euclidean_space.ipynb#Orthogonality) set  of nonzero vectors is [linearly independent](./euclidean_space.ipynb#Linear-independence).\n",
    "\n",
    "<details>\n",
    "<summary style=\"color: blue\">$\\proof$ (Click to expand)</summary>\n",
    "    <div style=\"background: aliceblue\">\n",
    "        Suppose that it is not linearly independent.\n",
    "        Then there exists coefficients $c_i$'s such that\n",
    "        $$\n",
    "        c_1 \\arr u_1 + c_2 \\arr u_2 \\cdots + c_k \\arr u_k = \\arr 0 \n",
    "        $$\n",
    "        Now we consider any $\\arr u_j$.\n",
    "        Notice that \n",
    "        $$\n",
    "        \\begin{align}\n",
    "        0 = &\\arr u_j \\cdot \\arr 0 = \\arr u_j \\cdot (\\sum _{i = 1} ^ k c_i \\arr u_i) \\\\\n",
    "        &= \\sum _{i = 1} ^ k c_i (\\arr u_i \\cdot \\arr u_j)) \\\\ \n",
    "        &= c_j \\arr u_j \\cdot \\arr u_j \\quad \\text{all others are zero vectors due to orthogonality} \\\\\n",
    "        \\end{align}\n",
    "        $$\n",
    "        But this is a contradiction as we required $\\arr u_j$ to be nonzero.\n",
    "        $$QED$$\n",
    "    </div>\n",
    "</details>"
   ]
  },
  {
   "cell_type": "markdown",
   "id": "fe040d70-a21e-4659-8a51-24c8a5a4c8f8",
   "metadata": {
    "tags": []
   },
   "source": [
    "$\\corollary$:\n",
    "A orthogonal set with $k$ non-zero vectors in $V \\subseteq \\mathbb R^n$ is an orthogonal basis for $V$."
   ]
  },
  {
   "cell_type": "markdown",
   "id": "d37b0a16-2bad-42d4-ad6d-5c6c4f6bd111",
   "metadata": {},
   "source": [
    "## Coordinates"
   ]
  },
  {
   "cell_type": "markdown",
   "id": "76b03cfe-ecd0-4fd6-938e-6f2dd068122e",
   "metadata": {},
   "source": [
    "The coordinates in an orthogonal basis is easy to compute."
   ]
  },
  {
   "cell_type": "markdown",
   "id": "bc32f712-4c21-4494-a177-0e0e8441bee6",
   "metadata": {
    "tags": []
   },
   "source": [
    "$\\theorem$:\n",
    "Given $S = \\set{\\arr u_1, \\cdots, \\arr u_k}$ which is an orthogonal basis of $V \\subseteq \\mathbb R^n$, then for any $\\arr v \\in V$, the coordinate in $S$ is:\n",
    "$$\n",
    "(\\arr v)_S = \\mat{(\\arr v \\cdot \\arr u_1) / \\norm{\\arr u_1}^2 \\\\ (\\arr v \\cdot \\arr u_2) / \\norm{\\arr u_2}^2 \\\\ \\vdots \\\\ (\\arr v \\cdot \\arr u_k) / \\norm{\\arr u_k}^2 }\n",
    "$$\n",
    "<details>\n",
    "<summary style=\"color: blue\">$\\proof$ (Click to expand)</summary>\n",
    "    <div style=\"background: aliceblue\">\n",
    "        Since $S$ is a basis, we can express $\\arr v$ as \n",
    "        $$\n",
    "        \\arr v = c_1 \\arr u_1 + c_2 \\arr u_2 \\cdots + c_k \\arr u_k\n",
    "        $$\n",
    "        Now we consider any $\\arr u_j$.\n",
    "        Notice that \n",
    "        $$\n",
    "        \\begin{align}\n",
    "        \\arr u_j \\cdot \\arr v &= \\arr u_j \\cdot (\\sum _{i = 1} ^ k c_i \\arr u_i) \\\\\n",
    "        &= c_j \\arr u_j \\cdot \\arr u_j \\quad \\text{by similar logic of previous proof} \\\\\n",
    "        &= c_j \\norm{\\arr u_j}^2 \\\\\\\\\n",
    "        \\Rightarrow c_i &= \\frac{\\arr u_j \\cdot \\arr v}{\\norm{\\arr u_j}^2}\n",
    "        \\end{align}\n",
    "        $$\n",
    "        $$QED$$\n",
    "    </div>\n",
    "</details>"
   ]
  },
  {
   "cell_type": "markdown",
   "id": "f8173d0d-e6b0-4421-92a2-aa22abf88b5d",
   "metadata": {
    "tags": []
   },
   "source": [
    "$\\corollary$:\n",
    "If $S$ was also orthonormal, then \n",
    "$$\n",
    "(\\arr v)_S = \\mat{(\\arr v \\cdot \\arr u_1) \\\\ (\\arr v \\cdot \\arr u_2)  \\\\ \\vdots \\\\ (\\arr v \\cdot \\arr u_k) }\n",
    "$$"
   ]
  },
  {
   "cell_type": "markdown",
   "id": "5effdf24-76b5-498a-951b-9c18209652b2",
   "metadata": {},
   "source": [
    "## Orthogonal to subspace"
   ]
  },
  {
   "cell_type": "markdown",
   "id": "ff0d95f4-a186-482b-ba89-1ceac27aacec",
   "metadata": {},
   "source": [
    "Given some subspace $V \\subseteq \\mathbb R^n$, a vector $\\arr n \\in \\mathbb R^n$ is orthogonal to $V$ if every $\\arr v \\in V$ is orthogonal to it, _ie_ $\\arr n \\cdot \\arr v = 0$.\n",
    "We denote this as $\\arr n \\perp V$."
   ]
  },
  {
   "cell_type": "markdown",
   "id": "082654fb-c5d6-4287-b634-4f7c3452d27b",
   "metadata": {},
   "source": [
    "$\\arr 0 \\perp V$ for any subspace $V$."
   ]
  },
  {
   "cell_type": "markdown",
   "id": "419313c7-7652-4b43-9cd5-50d00a2c1534",
   "metadata": {},
   "source": [
    "$V = span \\set{\\mat{1 \\\\0 \\\\ 0}, \\mat{0 \\\\ 1\\\\ 0}} \\perp \\mat{0 \\\\ 0 \\\\1}$."
   ]
  },
  {
   "cell_type": "markdown",
   "id": "bbb8384d-c1bd-40b6-9657-e37bf15c408b",
   "metadata": {
    "tags": []
   },
   "source": [
    "$\\theorem$:\n",
    "Let $V \\subseteq \\mathbb R^n$ and $S = \\set{\\arr u_1, \\dots, \\arr u_k}$ be the basis for $V$, then $\\arr w \\perp V$ if and only if $\\arr w \\in Null(\\arr A^T)$, where $\\arr A = \\mat{\\arr u_1 & \\cdots & \\arr u_k}$.\n",
    "<details>\n",
    "<summary style=\"color: blue\">$\\proof$ (Click to expand)</summary>\n",
    "    <div style=\"background: aliceblue\">\n",
    "        $\\arr w \\cdot \\arr v = 0$ for all $\\arr v \\in V$ $\\Leftrightarrow \\arr v^T \\arr w = 0$.\n",
    "        This implies that $\\arr u_i^T \\arr w = 0$ since $\\arr v$ is a linear combination of $\\arr u_i$'s.\n",
    "        Hence, $$\\mat{\\arr u_1^T \\\\ \\arr u_2^T \\\\ \\vdots \\\\ \\arr u^T_k} \\arr w = \\arr A^T \\arr w= \\arr 0$$\n",
    "        $$QED$$\n",
    "    </div>\n",
    "</details>"
   ]
  },
  {
   "cell_type": "markdown",
   "id": "1a68e6bd-c17d-4c78-acb2-0f643a8dafa6",
   "metadata": {},
   "source": [
    "## Orthogonal projection"
   ]
  },
  {
   "cell_type": "markdown",
   "id": "f4b46186-a98f-40e0-b3e0-72008b58e357",
   "metadata": {
    "tags": []
   },
   "source": [
    "$\\theorem$:\n",
    "Let $V \\subseteq \\mathbb R^n$ be a subspace.\n",
    "Every vector $\\arr w \\in \\mathbb R^n$ can be expressed uniquely as\n",
    "$$\n",
    "\\arr w = \\arr w_p + \\arr w_n\n",
    "$$\n",
    "where $\\arr w_n$ is orthogonal to $V$ and $\\arr w_p \\in V$.\n",
    "\n"
   ]
  },
  {
   "cell_type": "markdown",
   "id": "bc4bc105-89ee-488e-b299-a19fe065f617",
   "metadata": {},
   "source": [
    "The unique vector $\\arr w_p$ is call the **orthogonal projection** of $\\arr w$ onto $V$."
   ]
  },
  {
   "cell_type": "markdown",
   "id": "9574a7a8-bc31-4a68-9151-8ba1dcdbb22d",
   "metadata": {},
   "source": [
    "If $\\arr S = \\set{\\arr u_1, \\dots, \\arr u_k}$ is an orthonormal basis for $V$, then\n",
    "$$\n",
    "\\arr w_p = (\\arr w \\cdot \\arr u_1) \\arr u_1 + (\\arr w \\cdot \\arr u_2) \\arr u_2 + \\cdots + (\\arr w \\cdot \\arr u_k) \\arr u_k\n",
    "$$"
   ]
  },
  {
   "cell_type": "markdown",
   "id": "2f9cc9e8-abc4-4e56-a66b-4eb4c615dbb0",
   "metadata": {},
   "source": [
    "We can see that $\\arr w_p \\in V$ because it is a linear combination of $\\arr u_i$'s."
   ]
  },
  {
   "cell_type": "markdown",
   "id": "dc17f1bc-bb96-4fbd-b739-cd7a596595c3",
   "metadata": {},
   "source": [
    "And we note that for any vector $\\arr u_i$ in the basis,\n",
    "\n",
    "$$\n",
    "\\begin{align}\n",
    "\\arr w_n &= \\arr w - \\arr w _p \\\\ \n",
    "\\arr w_n \\cdot \\arr u_i &= \\arr w \\cdot \\arr u_i - \\arr w _p \\cdot \\arr u _i \\\\ \n",
    "&= \\arr w \\cdot \\arr u_i - \\sum_{j = 1}^k  (\\arr w \\cdot \\arr u_j) \\arr u_j \\cdot \\arr u_i  \\\\ \n",
    "&= \\arr w \\cdot \\arr u_i - (\\arr w \\cdot \\arr u_i) \\arr u_i \\cdot \\arr u_i  \\qquad (\\text{other values are 0 due to orthogonality of basis})\\\\ \n",
    "&= \\arr w \\cdot \\arr u_i - (\\arr w \\cdot \\arr u_i) \\qquad (\\arr u_i \\cdot \\arr u_i = 0 \\text{ due to it being a normal vector})\\\\ \n",
    "&= 0 \n",
    "\\end{align}\n",
    "$$\n",
    "which means $\\arr w_n$ is indeed orthogonal to $V$.\n"
   ]
  },
  {
   "cell_type": "code",
   "execution_count": 3,
   "id": "4195e0f3-a257-4095-847c-a9ac91b7c2b1",
   "metadata": {},
   "outputs": [
    {
     "data": {
      "image/png": "[encoded data removed]",
      "text/plain": [
       "<Figure size 432x288 with 1 Axes>"
      ]
     },
     "metadata": {
      "needs_background": "light"
     },
     "output_type": "display_data"
    }
   ],
   "source": [
    "plt.axis('scaled')\n",
    "plt.xlim(-0.5, 5.5)\n",
    "plt.ylim(-0.5, 5.5)\n",
    "plt.arrow(0, 0, 3, 5, head_width=0.1, length_includes_head=True)\n",
    "plt.plot([-1, 6], [-1, 6])\n",
    "plt.annotate(r'$V$', (2, 1.5))\n",
    "plt.annotate(r'$(3, 5)$', (3, 5.1))\n",
    "plt.show()"
   ]
  },
  {
   "cell_type": "markdown",
   "id": "5bb33014-6bd5-46aa-bf77-9ce5e7230048",
   "metadata": {},
   "source": [
    "From above, our subspace is 1-dimensional, while our $\\arr w  = \\mat{3 \\\\ 5} \\in \\mathbb R^2$.\n",
    "(Our basis would be $\\set{\\frac{1}{\\sqrt 2} \\mat{1 \\\\ 1}}$)."
   ]
  },
  {
   "cell_type": "markdown",
   "id": "e5a1b83f-4a42-4f9c-989b-5bfb9b4fb625",
   "metadata": {},
   "source": [
    "$\\arr w_p$ would be $(\\arr w \\cdot \\arr u_1) \\arr u_1 = \\frac{3 + 5}{\\sqrt 2} \\left(\\frac{1}{\\sqrt 2} \\mat{1 \\\\ 1} \\right) = \\mat{4 \\\\ 4}$.\n",
    "\n",
    "And $\\arr w_n = \\mat{3 \\\\ 5} - \\mat{4 \\\\ 4} = \\mat{-1 \\\\ 1}$."
   ]
  },
  {
   "cell_type": "markdown",
   "id": "219b994d-8da7-4420-8765-a9dee19f67d8",
   "metadata": {},
   "source": [
    "Visually, it would be as per below:"
   ]
  },
  {
   "cell_type": "code",
   "execution_count": 4,
   "id": "a9708c8b-6bcc-4f68-8b7c-b2c065a433c7",
   "metadata": {},
   "outputs": [
    {
     "data": {
      "image/png": "[encoded data removed]",
      "text/plain": [
       "<Figure size 432x288 with 1 Axes>"
      ]
     },
     "metadata": {
      "needs_background": "light"
     },
     "output_type": "display_data"
    }
   ],
   "source": [
    "plt.axis('scaled')\n",
    "plt.xlim(-0.5, 5.5)\n",
    "plt.ylim(-0.5, 5.5)\n",
    "plt.arrow(0, 0, 3, 5, head_width=0.1, length_includes_head=True)\n",
    "plt.plot([-1, 6], [-1, 6])\n",
    "plt.arrow(0, 0, 4, 4, width=0.05, head_width=0.2, length_includes_head=True,color='black')\n",
    "plt.annotate(r'${\\bf w}_p$', (2, 1.8))\n",
    "plt.annotate(r'${\\bf w}_n$', (3.5, 4.5))\n",
    "plt.arrow(4, 4, -1, 1, width=0.05, head_width=0.2, length_includes_head=True,color='black')\n",
    "plt.show()"
   ]
  },
  {
   "cell_type": "markdown",
   "id": "fbf90ded-df04-433c-aad6-cf4d9f57e1a9",
   "metadata": {},
   "source": [
    "## Gram-Schmidt process"
   ]
  },
  {
   "cell_type": "markdown",
   "id": "aee06c8b-ae57-42bd-89dc-4e9167574bf8",
   "metadata": {},
   "source": [
    "Given some basis, it would be beneficial for us to construct an orthonormal basis that spans the same subspace, seeing previously that it is easier to work with orthonormal basis."
   ]
  },
  {
   "cell_type": "markdown",
   "id": "24afb6ba-7335-469d-959e-f2db50593ede",
   "metadata": {},
   "source": [
    "The **Gram-Schmidt process** allows us to do just that."
   ]
  },
  {
   "cell_type": "markdown",
   "id": "4c4b594d-4788-43c4-9dd3-f73dccad792e",
   "metadata": {},
   "source": [
    "It is an iterative algorithm which produces us an orthogonal basis from some basis $S = \\set{\\arr u_1, \\dots, \\arr u_k}$:\n",
    "1. Let $S' = \\set{u_1}$\n",
    "2. For each $\\arr u_i$ for $2 \\leq u \\leq k$:\n",
    "    1. Find $\\arr w_p$ by projecting $\\arr u_i$ onto $S'$\n",
    "    2. Find $\\arr w_n = \\arr u_i - \\arr w_p$\n",
    "    3. Add $\\arr w_n$ to $S'$\n",
    "3. $S'$ will be the orthogonal basis"
   ]
  },
  {
   "cell_type": "markdown",
   "id": "7e0bb0d2-e55d-4434-a16f-009f123982aa",
   "metadata": {},
   "source": [
    "If we want an orthonormal basis, we simply normalize $S'$."
   ]
  },
  {
   "cell_type": "code",
   "execution_count": 5,
   "id": "7599c5c1-3199-4fc3-b749-e29b0ef2be0c",
   "metadata": {},
   "outputs": [],
   "source": [
    "def norm(u):\n",
    "    return np.sum(u ** 2)\n",
    "def project(w:np.ndarray, S: [np.ndarray]) -> np.ndarray:\n",
    "    return np.sum([np.dot(w, u) * u / norm(u) for u in S], axis=0)"
   ]
  },
  {
   "cell_type": "code",
   "execution_count": 6,
   "id": "e3ed605b-1da1-439e-b826-a9abbf0332a3",
   "metadata": {},
   "outputs": [],
   "source": [
    "def gram_schmidt(S: [np.ndarray]) -> [np.ndarray]:\n",
    "    Sp = [S[0]]\n",
    "    \n",
    "    for u in S[1:]:\n",
    "        v = u - project(u, Sp)\n",
    "        Sp.append(v)\n",
    "    \n",
    "    return Sp"
   ]
  },
  {
   "cell_type": "code",
   "execution_count": 7,
   "id": "23249396-5606-4e77-862b-31a251df9866",
   "metadata": {},
   "outputs": [
    {
     "data": {
      "text/plain": [
       "[array([1, 2, 1]),\n",
       " array([ 0.33333333, -0.33333333,  0.33333333]),\n",
       " array([-0.5,  0. ,  0.5])]"
      ]
     },
     "execution_count": 7,
     "metadata": {},
     "output_type": "execute_result"
    }
   ],
   "source": [
    "u1 = np.array([1, 2, 1])\n",
    "u2 = np.array([1, 1, 1])\n",
    "u3 = np.array([1, 1, 2])\n",
    "gram_schmidt([u1, u2, u3])"
   ]
  },
  {
   "cell_type": "markdown",
   "id": "71a7222c-5432-4d06-b2d5-6f5b3f42bc8c",
   "metadata": {},
   "source": [
    "Hence, one way of obtaining a orthogonal projection given some $\\arr w$ and basis $S$, is to obtain an orthonormal projection via Gram-Schmidt process, then finding the projection using the orthonormal projection."
   ]
  },
  {
   "cell_type": "markdown",
   "id": "ccce71e9-dbad-495f-94e4-fad08b78fa3d",
   "metadata": {},
   "source": [
    "## Least squares approximation"
   ]
  },
  {
   "cell_type": "markdown",
   "id": "4c4bc3bd-0055-4e89-bfc8-ce886c8616f1",
   "metadata": {},
   "source": [
    "Suppose that we have some experimental data, which consists of inputs $\\arr A$ and outputs $\\arr b$."
   ]
  },
  {
   "cell_type": "markdown",
   "id": "3862ace3-4dfe-47b9-bcc3-8c118594911f",
   "metadata": {},
   "source": [
    "We wish to find the solution $\\arr x$ such that $\\arr {Ax} = \\arr b$."
   ]
  },
  {
   "cell_type": "markdown",
   "id": "833441e0-7b16-4512-bc31-3553af1f36e1",
   "metadata": {},
   "source": [
    "However, in real life, there are minute errors in the measurements which leads to there being no solution to the system of $\\arr {Ax} = \\arr b$.\n",
    "For example, suppose that our theoretical system is as per below:\n",
    "$$\n",
    "x + y = 3 \\\\\n",
    "2x + y = 4 \\\\\n",
    "x + 2y = 5 \\\\\n",
    "$$\n",
    "where the solution is $x = 1, y = 2$."
   ]
  },
  {
   "cell_type": "code",
   "execution_count": 8,
   "id": "5fa8afe3-d2e9-4adf-9a54-e5af1b8ade15",
   "metadata": {},
   "outputs": [
    {
     "data": {
      "text/plain": [
       "array([[ 1.,  0.,  1.],\n",
       "       [-0.,  0.,  0.],\n",
       "       [ 0.,  1.,  2.]])"
      ]
     },
     "execution_count": 8,
     "metadata": {},
     "output_type": "execute_result"
    }
   ],
   "source": [
    "A = np.array([1, 1, 2, 1, 1, 2]).reshape((3, 2))\n",
    "b = np.array([3, 4, 5]).reshape((3, 1))\n",
    "\n",
    "np.hstack(gauss_jordan_elim(A, b))"
   ]
  },
  {
   "cell_type": "markdown",
   "id": "6f27d871-5d16-4389-bd71-c410c82de181",
   "metadata": {},
   "source": [
    "However, even a slight error will cause there to be no solution to our system:\n",
    "$$\n",
    "x + y = 3 \\\\ \n",
    "2x + y = 4.1 \\\\ \n",
    "x + 2y = 5 \\\\ \n",
    "$$"
   ]
  },
  {
   "cell_type": "code",
   "execution_count": 9,
   "id": "88e9d27b-86fc-4007-b17c-09ff64416145",
   "metadata": {},
   "outputs": [
    {
     "data": {
      "text/plain": [
       "array([[ 1. ,  0. ,  1.1],\n",
       "       [-0. ,  0. , -0.1],\n",
       "       [ 0. ,  1. ,  2. ]])"
      ]
     },
     "execution_count": 9,
     "metadata": {},
     "output_type": "execute_result"
    }
   ],
   "source": [
    "b = np.array([3, 4.1, 5]).reshape((3, 1))\n",
    "\n",
    "np.hstack(gauss_jordan_elim(A, b))"
   ]
  },
  {
   "cell_type": "markdown",
   "id": "0c3383f5-5894-4e25-a1a1-7812603cf04a",
   "metadata": {},
   "source": [
    "Thus, finding the least squares approximation is trying to reconcile this issue, by finding the solution which fits the constraints the best."
   ]
  },
  {
   "cell_type": "markdown",
   "id": "81d346b9-3daa-4ad8-bcff-e72469de791a",
   "metadata": {},
   "source": [
    "We wish to find a consistent system $\\arr {Ax} = \\arr b'$ where $\\arr b'$ is closest to $\\arr b$.\n",
    "Note that one such solution always exists, as $\\arr b' = \\arr 0$ will be consistent (though $\\arr 0$ may not be the closest)."
   ]
  },
  {
   "cell_type": "markdown",
   "id": "21f26954-0096-467d-be48-20d463986743",
   "metadata": {
    "tags": []
   },
   "source": [
    "$\\theorem$:\n",
    "$\\arr u$ is the least square solution to $\\arr {Ax} = \\arr b$ if and only if $\\arr {Au}$ is the projection of $\\arr b$ onto $Col(\\arr A)$.\n",
    "\n",
    "<details>\n",
    "<summary style=\"color: blue\">$\\proof$ (Click to expand)</summary>\n",
    "    <div style=\"background: aliceblue\">\n",
    "        (Un-rigorously) we know that the projection of $\\arr b$ onto $Col(\\arr A)$ must give us the closest solution in the column space; because geometrically, the closest point would be orthogonal to the column space.\n",
    "        <br>\n",
    "        And we have seen previously that the projection will be in the column space.\n",
    "        <br>\n",
    "        Hence we know that $\\arr b' = \\arr {Au}$ must be the closest solution to $\\arr b$.\n",
    "            $$QED$$\n",
    "    </div>\n",
    "</details>"
   ]
  },
  {
   "cell_type": "markdown",
   "id": "15389444-322a-48ff-af45-0c307ea97678",
   "metadata": {
    "tags": []
   },
   "source": [
    "$\\theorem$:\n",
    "$\\arr u$ is the least square solution to $\\arr {Ax} = \\arr b$ if and only if $\\arr A^T \\arr {Au} = \\arr A ^T \\arr b$.\n",
    "\n",
    "<details>\n",
    "<summary style=\"color: blue\">$\\proof$ (Click to expand)</summary>\n",
    "    <div style=\"background: aliceblue\">\n",
    "        Following the previous theorem, we know that the vector from $\\arr b$ to $\\arr b'$ must be orthogonal to the column space.\n",
    "        Therefore, \n",
    "    $$\n",
    "    \\arr b' - \\arr b \\perp Col(\\arr A)\\\\\n",
    "    \\Rightarrow \\arr {Au} - \\arr b \\perp Col(\\arr A) \\\\\n",
    "    \\Rightarrow \\arr {Au} - \\arr b \\perp  span(\\set{\\arr u_1, \\dots, \\arr u_k}\\\\\n",
    "    $$\n",
    "    <a href=\"#Orthogonal-to-subspace\"> Recall</a> that $\\arr w \\perp span (\\set{\\arr u_1, \\dots, \\arr u_k})$ if and only if $\\arr w \\in Null(\\arr A^T)$.\n",
    "    Hence,\n",
    "    $$\n",
    "    \\Rightarrow \\arr {Au} - \\arr b \\in Null(\\arr A^T)\\\\\n",
    "    \\Rightarrow \\arr A^T(\\arr {Au} - \\arr b) = \\arr 0\\\\\n",
    "    \\Rightarrow \\arr A^T\\arr {Au} - \\arr A^T \\arr b = \\arr 0\\\\\n",
    "    \\Rightarrow \\arr A^T\\arr {Au} = \\arr A^T \\arr b \\\\\n",
    "    $$\n",
    "        $$QED$$\n",
    "    </div>\n",
    "</details>"
   ]
  },
  {
   "cell_type": "code",
   "execution_count": 10,
   "id": "225cd5ae-4c5e-468c-b6d5-e3392bf48730",
   "metadata": {},
   "outputs": [
    {
     "data": {
      "text/plain": [
       "array([[1.        , 0.        , 1.06363636],\n",
       "       [0.        , 1.        , 1.96363636]])"
      ]
     },
     "execution_count": 10,
     "metadata": {},
     "output_type": "execute_result"
    }
   ],
   "source": [
    "np.hstack(gauss_jordan_elim(A.T @ A, A.T @ b))"
   ]
  },
  {
   "cell_type": "markdown",
   "id": "2f74148e-cf33-4e50-9fb8-4c84a43c4443",
   "metadata": {},
   "source": [
    "(Another example is [here](../neural_network/perceptron.ipynb#Example))"
   ]
  },
  {
   "cell_type": "markdown",
   "id": "04c80224-6e93-4a94-945c-0836868c0402",
   "metadata": {},
   "source": [
    "This also gives us a way of finding an orthogonal projection without constructing an orthonormal basis."
   ]
  },
  {
   "cell_type": "markdown",
   "id": "42711b35-f250-46b9-83b3-00638310deef",
   "metadata": {
    "tags": []
   },
   "source": [
    "$\\theorem$:\n",
    "Given $S = \\set{\\arr u_1, \\dots, \\arr u_k}$ be a basis for $V \\subseteq \\mathbb R^n$, the orthogonal project of $\\arr w \\in \\mathbb R^n$ onto $V$ is \n",
    "$$\n",
    "\\arr A( \\arr A^T \\arr A) \\inv \\arr A^T \\arr w\n",
    "$$\n",
    "where $\\arr A = \\mat{\\arr u_1 & \\arr u_2 & \\cdots  & \\arr u_k}$.\n",
    "\n",
    "<details>\n",
    "<summary style=\"color: blue\">$\\proof$ (Click to expand)</summary>\n",
    "    <div style=\"background: aliceblue\">\n",
    "        Combining the above 2 theorems, we know that if $\\arr u$ is the least square solution to $\\arr {Ax} = \\arr b$, then $\\arr {Au}$ is a projection onto $Col(\\arr A) = V$.\n",
    "        And we know that $\\arr u$ is the least square solution if and only if $\\arr A^T \\arr A \\arr u = \\arr A^T  \\arr b$.\n",
    "        $$\n",
    "        \\begin{align}\n",
    "        \\arr A^T \\arr A \\arr u &= \\arr A^T  \\arr b \\\\\n",
    "        \\arr u &= (\\arr A^T \\arr A) \\inv  \\arr A^T  \\arr b \\quad \\text{$S$ is a basis, therefore $\\arr A$ is invertible} \\\\ \n",
    "        \\arr A \\arr u &= \\arr A(\\arr A^T \\arr A) \\inv  \\arr A^T  \\arr b \n",
    "        \\end{align}\n",
    "        $$\n",
    "        $$QED$$\n",
    "    </div>\n",
    "</details>"
   ]
  },
  {
   "cell_type": "code",
   "execution_count": 4,
   "id": "9a1dab5d-ea44-4598-92d6-5d680252cb7a",
   "metadata": {},
   "outputs": [
    {
     "data": {
      "text/plain": [
       "array([[4.],\n",
       "       [4.]])"
      ]
     },
     "execution_count": 4,
     "metadata": {},
     "output_type": "execute_result"
    }
   ],
   "source": [
    "A = np.array([1, 1]).reshape((2, 1))\n",
    "w = np.array([3, 5]).reshape((2, 1))\n",
    "\n",
    "A @ np.linalg.inv(A.T @ A) @ A.T @ w"
   ]
  },
  {
   "cell_type": "markdown",
   "id": "739bb6d7-6f88-4914-85e0-1b6a2b31d89f",
   "metadata": {},
   "source": [
    "As per our previous example, we do also get $\\mat{4 \\\\ 4}$ as the projection."
   ]
  },
  {
   "cell_type": "code",
   "execution_count": null,
   "id": "a5672bd8-1b46-4002-bf1e-15639abbb945",
   "metadata": {},
   "outputs": [],
   "source": []
  },
  {
   "cell_type": "code",
   "execution_count": null,
   "id": "67aa3a94-b0f9-4180-bcbd-c7c6420d2baa",
   "metadata": {},
   "outputs": [],
   "source": []
  },
  {
   "cell_type": "markdown",
   "id": "434dcdf1-1297-4ac8-9f73-b7c9d90f8148",
   "metadata": {},
   "source": [
    "Since $\\arr b'$ must be the closest possible to $\\arr b$, we have an additional constraint that:\n",
    "$$\n",
    "\\norm{\\arr {Au} - \\arr b} \\leq \\norm{\\arr {Av} = \\arr b}\n",
    "$$"
   ]
  },
  {
   "cell_type": "markdown",
   "id": "bf41f096-8700-4762-b68a-01e36a32b2c1",
   "metadata": {},
   "source": [
    "for any $\\arr v \\in \\mathbb R^n$."
   ]
  },
  {
   "cell_type": "code",
   "execution_count": null,
   "id": "111feed4-3828-4a76-9eca-26007edc2fba",
   "metadata": {},
   "outputs": [],
   "source": []
  },
  {
   "cell_type": "code",
   "execution_count": null,
   "id": "d6808f63-5b6b-4c87-bc86-eb12d781f4d1",
   "metadata": {},
   "outputs": [],
   "source": []
  },
  {
   "cell_type": "code",
   "execution_count": null,
   "id": "5cb121d0-7814-4a30-a15f-c0253d27503f",
   "metadata": {},
   "outputs": [],
   "source": []
  },
  {
   "cell_type": "code",
   "execution_count": null,
   "id": "c7d77f7a-34c9-4bc8-b702-a14c4c38086a",
   "metadata": {},
   "outputs": [],
   "source": []
  },
  {
   "cell_type": "code",
   "execution_count": null,
   "id": "212f982b-fe9b-439d-a913-8a2e6de28c05",
   "metadata": {},
   "outputs": [],
   "source": []
  },
  {
   "cell_type": "code",
   "execution_count": null,
   "id": "a6a80d7b-bdab-4b5a-9525-1f1617c37c0e",
   "metadata": {},
   "outputs": [],
   "source": []
  },
  {
   "cell_type": "code",
   "execution_count": null,
   "id": "049d8378-b037-408f-a8e6-bfd4b0db6fef",
   "metadata": {},
   "outputs": [],
   "source": []
  },
  {
   "cell_type": "code",
   "execution_count": null,
   "id": "d7bb8181-1c06-4cc6-9ce0-52a7e1aa16af",
   "metadata": {},
   "outputs": [],
   "source": []
  },
  {
   "cell_type": "code",
   "execution_count": null,
   "id": "745091eb-19de-45c7-ad34-243a40b1287d",
   "metadata": {},
   "outputs": [],
   "source": []
  },
  {
   "cell_type": "markdown",
   "id": "3cdc0cb5-d17a-45ab-bbce-1d541ac2d6f0",
   "metadata": {},
   "source": [
    "A $n$-vector (or simply **vector**) is a ordered set of $n$ real number."
   ]
  },
  {
   "cell_type": "markdown",
   "id": "6841ac43-b8eb-41bd-a67f-de37e441d993",
   "metadata": {},
   "source": [
    "$$\n",
    "\\arr v = \\mat{v_1 \\\\ v_2 \\\\ \\vdots \\\\ v_n}, v_i \\in \\mathbb R\n",
    "$$"
   ]
  },
  {
   "cell_type": "markdown",
   "id": "142c0fcf-651a-46f6-8d5f-1dd2c7f29b15",
   "metadata": {},
   "source": [
    "The collection of all vectors is called a **vector space/Euclidean $n$-space**.\n",
    "This is denoted by $\\mathbb R^n$."
   ]
  },
  {
   "cell_type": "markdown",
   "id": "dbcf3e8b-a4da-4f99-842c-3bd301fc3f95",
   "metadata": {},
   "source": [
    "$$\n",
    "\\mathbb R ^n  = \\left\\{\\mat{v_1 \\\\ v_2 \\\\ \\vdots \\\\ v_n} \\middle | v_i \\in \\mathbb R \\right\\}\n",
    "$$"
   ]
  },
  {
   "cell_type": "markdown",
   "id": "03d305f0-0cfc-41a0-8c70-3ea6eee1a964",
   "metadata": {},
   "source": [
    "## Interpretation"
   ]
  },
  {
   "cell_type": "markdown",
   "id": "542b733c-9aa6-4992-913c-1c73a945bdab",
   "metadata": {},
   "source": [
    "We can either view $\\arr v$ as a point in $\\mathbb R^n$, or as an arrow which starts at origin $\\arr 0$, and ends at $\\arr v$.\n",
    "Both are equally valid, and either could be more appropriate depending on the context."
   ]
  },
  {
   "cell_type": "markdown",
   "id": "3bfc9b84-dbd0-4de8-bf69-417c45b6d963",
   "metadata": {},
   "source": [
    "We can also view a vector as a 1-D column/row matrix."
   ]
  },
  {
   "cell_type": "code",
   "execution_count": 11,
   "id": "c70e2fb8-0fa9-4b46-ab26-09c3c59d57c9",
   "metadata": {},
   "outputs": [
    {
     "data": {
      "image/png": "[encoded data removed]",
      "text/plain": [
       "<Figure size 720x360 with 2 Axes>"
      ]
     },
     "metadata": {
      "needs_background": "light"
     },
     "output_type": "display_data"
    }
   ],
   "source": [
    "_, (ax1, ax2) = plt.subplots(1, 2, sharex=True, sharey=True, figsize=(10, 5))\n",
    "ax1.scatter(3, 2)\n",
    "ax2.arrow(0, 0, 3, 2, head_width=0.1, length_includes_head=True)\n",
    "plt.show()"
   ]
  },
  {
   "cell_type": "markdown",
   "id": "1495d017-28a9-4a44-a4c5-ee719a7183b2",
   "metadata": {},
   "source": [
    "$\\mathbb R^2$ can be viewed as a 2-D plane, and $\\mathbb R^3$ is a 3-D space."
   ]
  },
  {
   "cell_type": "markdown",
   "id": "a06cdfdc-5214-4b19-8013-b7c4f6025136",
   "metadata": {},
   "source": [
    "## Properties"
   ]
  },
  {
   "cell_type": "markdown",
   "id": "3fd55202-02ab-4cb7-acdc-62f58a3f8d4d",
   "metadata": {},
   "source": [
    "Since vector can be viewed as a column matrix, they share the [same properties](matrix.ipynb#Properties-of-matrix-addition/multiplication) as matrices."
   ]
  },
  {
   "cell_type": "markdown",
   "id": "b7875a75-a649-46a0-aff6-fc6e38a2b4b7",
   "metadata": {},
   "source": [
    "Since we can view vectors as arrows, the vector addition is simply moving the other vector to the end of the first and finding the generated vector."
   ]
  },
  {
   "cell_type": "code",
   "execution_count": 12,
   "id": "022c689c-356e-4215-b70e-8ae748bb333c",
   "metadata": {},
   "outputs": [
    {
     "data": {
      "image/png": "[encoded data removed]",
      "text/plain": [
       "<Figure size 432x288 with 1 Axes>"
      ]
     },
     "metadata": {
      "needs_background": "light"
     },
     "output_type": "display_data"
    }
   ],
   "source": [
    "plt.arrow(0, 0, 3, 2, head_width=0.07, length_includes_head=True)\n",
    "plt.arrow(3, 2, 2, -1, head_width=0.07, length_includes_head=True)\n",
    "plt.arrow(0, 0, 5, 1, head_width=0.07, length_includes_head=True)\n",
    "plt.text(1, 1, r\"$\\mathbf{a}$\")\n",
    "plt.text(4.2, 1.5, r\"$\\mathbf{b}$\")\n",
    "plt.text(3, 0.5, r\"$\\mathbf{a} + \\mathbf{b}$\")\n",
    "plt.show()"
   ]
  },
  {
   "cell_type": "markdown",
   "id": "9f505796-9950-43df-b4f4-be365ffad33f",
   "metadata": {},
   "source": [
    "Working backwards, we can also see that vector subtraction is the same as finding the vector that goes from the end of $\\arr b$ to the end of $\\arr a$."
   ]
  },
  {
   "cell_type": "code",
   "execution_count": 13,
   "id": "82a0e5f8-0f4e-4a52-81f1-76c1898e9c7c",
   "metadata": {},
   "outputs": [
    {
     "data": {
      "image/png": "[encoded data removed]",
      "text/plain": [
       "<Figure size 432x288 with 1 Axes>"
      ]
     },
     "metadata": {
      "needs_background": "light"
     },
     "output_type": "display_data"
    }
   ],
   "source": [
    "plt.arrow(0, 0, 3, 2, head_width=0.07, length_includes_head=True)\n",
    "plt.arrow(0, 0, 2, -1, head_width=0.07, length_includes_head=True)\n",
    "plt.arrow(2, -1, 1, 3, head_width=0.07, length_includes_head=True)\n",
    "plt.text(1, 1, r\"$\\mathbf{a}$\")\n",
    "plt.text(1, -0.7, r\"$\\mathbf{b}$\")\n",
    "plt.text(2.6, 0.5, r\"$\\mathbf{a} - \\mathbf{b}$\")\n",
    "plt.show()"
   ]
  },
  {
   "cell_type": "markdown",
   "id": "8c3af1a1-55d3-4bee-86cb-dff38c4512d2",
   "metadata": {},
   "source": [
    "## Solution of linear system"
   ]
  },
  {
   "cell_type": "markdown",
   "id": "06b54002-20bf-4c7e-a590-832536743c1a",
   "metadata": {},
   "source": [
    "With vectors, we can now view the solution to a linear system in a different way."
   ]
  },
  {
   "cell_type": "markdown",
   "id": "46024d6e-e445-4643-9fbb-1f8a2b8a048c",
   "metadata": {},
   "source": [
    "The solution can either be expressed as the **implicit** or **explicit** form."
   ]
  },
  {
   "cell_type": "markdown",
   "id": "1e8e1fd5-3fa4-4591-b021-69e7b28240dc",
   "metadata": {},
   "source": [
    "The implicit form is in the form of:\n",
    "$$\n",
    "\\left\\{ \\arr v \\in \\mathbb R^n \\middle | \\arr v \\text{ satisfy some conditions} \\right\\}\n",
    "$$"
   ]
  },
  {
   "cell_type": "markdown",
   "id": "cd1ae4de-95c5-4b45-ba6c-18021465d0bb",
   "metadata": {},
   "source": [
    "The explicit form is in the form of:\n",
    "$$\n",
    "\\left\\{ \\arr u + s_1 \\arr v_1 + s_2 \\arr v_2 + \\cdots + s_k \\arr v_k \\middle | s_i \\in \\mathbb R \\right\\}\n",
    "$$"
   ]
  },
  {
   "cell_type": "markdown",
   "id": "d5d30d63-9ad0-4144-8eaa-36ef2721bd42",
   "metadata": {},
   "source": [
    "For example, given the following linear system:"
   ]
  },
  {
   "cell_type": "markdown",
   "id": "f3f85b50-2435-46c8-b18d-d3e952acca75",
   "metadata": {},
   "source": [
    "$$\n",
    "\\begin{matrix}\n",
    "&3 x  &+2y  &-z = &1 \\\\\n",
    "&&y  &-z = &0\n",
    "\\end{matrix}\n",
    "$$"
   ]
  },
  {
   "cell_type": "markdown",
   "id": "512887f6-32b0-4e17-8444-db8fda54d4d8",
   "metadata": {},
   "source": [
    "The implicit form would be:"
   ]
  },
  {
   "cell_type": "markdown",
   "id": "5b128187-98cf-4276-a5c2-6dced8cfd061",
   "metadata": {},
   "source": [
    "$$\n",
    "\\left\\{ \\mat{x \\\\ y \\\\ z} \\middle | 3x + 2y - z = 1, y -z = 0 \\right\\}\n",
    "$$"
   ]
  },
  {
   "cell_type": "markdown",
   "id": "3340a702-cd3f-470e-85f5-e843390846f3",
   "metadata": {},
   "source": [
    "To get the explicit form, we introduce another variable $s$ to replace $y$."
   ]
  },
  {
   "cell_type": "markdown",
   "id": "38202163-db53-4ccf-8086-c64a1ddb657e",
   "metadata": {},
   "source": [
    "Then we get the following expressions:\n",
    "$$\n",
    "y - z = 0 \\Rightarrow  s - z = 0 \\Rightarrow z = s\\\\\n",
    "3x + 2y - z = 1 \\Rightarrow 3x + 2s - s = 1 \\Rightarrow x = \\frac{1 - s}{3}\n",
    "$$"
   ]
  },
  {
   "cell_type": "markdown",
   "id": "fd54f7ca-50e7-4aed-b776-513993b82522",
   "metadata": {},
   "source": [
    "Therefore, the explicit form is:"
   ]
  },
  {
   "cell_type": "markdown",
   "id": "3014dcc7-02ea-42ed-a60d-2c74326f42e6",
   "metadata": {},
   "source": [
    "$$\n",
    "\\left\\{ \\mat{\\frac{1}{3} \\\\ 0 \\\\ 0} + s\\mat{-\\frac{1}{3} \\\\ 1 \\\\ 1} \\middle | s \\in \\mathbb R \\right\\}\n",
    "$$"
   ]
  },
  {
   "cell_type": "markdown",
   "id": "cf80970a-c28c-4aed-afc9-99442e0c214d",
   "metadata": {},
   "source": [
    "Since this is a set of containing all possible solutions of the linear system, it is also known as the **solution set**."
   ]
  },
  {
   "cell_type": "markdown",
   "id": "60d98bd1-98f1-4632-a989-513642e8d2a8",
   "metadata": {},
   "source": [
    "## Dot product"
   ]
  },
  {
   "cell_type": "markdown",
   "id": "316058a7-0e11-41d2-956f-c6a13ea8bdac",
   "metadata": {},
   "source": [
    "Suppose that we wish to multiply vectors.\n",
    "We cannot do matrix multiplication because their sizes do not match as they are both $(1 \\times n)$.\n",
    "However, if we transpose one of them, we can perform our multiplication."
   ]
  },
  {
   "cell_type": "markdown",
   "id": "5c61c68f-c964-48a8-a84c-e1865775fa77",
   "metadata": {},
   "source": [
    "For ease of notation, we define the following operators:"
   ]
  },
  {
   "cell_type": "markdown",
   "id": "1b4c631e-a2b0-4a8c-9616-b9d6d3b33d68",
   "metadata": {},
   "source": [
    "$$\n",
    "\\arr u \\otimes \\arr v = \\arr{uv}^T\n",
    "$$"
   ]
  },
  {
   "cell_type": "markdown",
   "id": "a5e8beb9-3173-40e9-9f35-dff36e6ee317",
   "metadata": {},
   "source": [
    "This is the outer product.\n",
    "This creates a $n \\times n$ matrix.\n",
    "We are not that interested in it for this module."
   ]
  },
  {
   "cell_type": "markdown",
   "id": "8bb4a855-45cb-409b-a366-2419abe1595d",
   "metadata": {},
   "source": [
    "$$\n",
    "\\arr u \\cdot \\arr v = \\arr{u}^T \\arr v\n",
    "$$"
   ]
  },
  {
   "cell_type": "markdown",
   "id": "6dc801f8-a9fb-4ba7-b84a-5627789ddb02",
   "metadata": {},
   "source": [
    "This is the **inner/dot product**.\n",
    "This creates a $1 \\times 1$ matrix, or could also be viewed as a scalar."
   ]
  },
  {
   "cell_type": "markdown",
   "id": "c6ecbbe2-a8a0-40e0-a43a-a2e2806eb6eb",
   "metadata": {},
   "source": [
    "For example:\n",
    "$$\n",
    "\\mat{1 \\\\ 2\\\\ 3} \\cdot \\mat{2 \\\\ 1\\\\ 1\\\\} = 1(2) + 2(1) + 3(1) = 7\n",
    "$$"
   ]
  },
  {
   "cell_type": "markdown",
   "id": "50ee4d8f-bd23-44eb-8134-453c0923b219",
   "metadata": {},
   "source": [
    "### Properties"
   ]
  },
  {
   "cell_type": "markdown",
   "id": "9de6a1e7-dbd5-4019-b198-73cd15e353cc",
   "metadata": {},
   "source": [
    "* Symmetric: $\\arr u \\cdot \\arr v = \\arr v \\cdot \\arr u$\n",
    "* Scalar multiplication: $c \\arr u \\cdot \\arr v = (c \\arr u) \\cdot \\arr v = \\arr u \\cdot (c \\arr v)$\n",
    "* Distributive: $\\arr u \\cdot (a \\arr v + b \\arr w) = a \\arr u \\cdot \\arr v + b \\arr u \\cdot \\arr w$\n",
    "* Positive definite: $\\arr u \\cdot \\arr u \\geq 0$\n",
    "    * $\\arr u \\cdot \\arr u = 0$ if and only if $\\arr u = \\arr 0$"
   ]
  },
  {
   "cell_type": "markdown",
   "id": "f5c3a2ef-8792-413d-8392-f04538372276",
   "metadata": {},
   "source": [
    "## Norm"
   ]
  },
  {
   "cell_type": "markdown",
   "id": "73af55f0-ae33-4317-8336-9e81f177830e",
   "metadata": {},
   "source": [
    "The **norm** of a vector is defined to be:\n",
    "$$\n",
    "\\norm{\\arr u} = \\sqrt{\\arr u \\cdot \\arr u} = \\sqrt{\\sum u_i ^2}\n",
    "$$"
   ]
  },
  {
   "cell_type": "markdown",
   "id": "d3dc5f09-819e-42f0-a4b5-cfc15518d998",
   "metadata": {},
   "source": [
    "Geometrically, the norm corresponds to the distance of the vector's end point from the origin."
   ]
  },
  {
   "cell_type": "markdown",
   "id": "387189ae-ff32-4250-b0d8-d6ac015aa15e",
   "metadata": {},
   "source": [
    "To generalize, the distance between two vectors is defined as:"
   ]
  },
  {
   "cell_type": "markdown",
   "id": "0684b993-8399-4362-a5bb-3a96d4ecd852",
   "metadata": {},
   "source": [
    "$$\n",
    "d(\\arr u, \\arr v) = \\norm{\\arr u - \\arr v}\n",
    "$$"
   ]
  },
  {
   "cell_type": "markdown",
   "id": "f792a584-77e2-4ca5-9ee5-e7e917ddb4ba",
   "metadata": {},
   "source": [
    "### Properties"
   ]
  },
  {
   "cell_type": "markdown",
   "id": "183235bd-1f88-42bc-86d7-f4706caeaf5e",
   "metadata": {},
   "source": [
    "* $\\norm{c \\arr u} = \\det{c} \\norm{u}$"
   ]
  },
  {
   "cell_type": "markdown",
   "id": "007d1ddf-baec-423e-93b7-bea2edd9fb15",
   "metadata": {},
   "source": [
    "### Unit vector"
   ]
  },
  {
   "cell_type": "markdown",
   "id": "279bbec8-3a89-42ce-9118-7ffbf2aebe5f",
   "metadata": {},
   "source": [
    "A **unit vector** is a vector with norm of 1."
   ]
  },
  {
   "cell_type": "markdown",
   "id": "643c4713-3848-4224-b960-0aade92c2858",
   "metadata": {},
   "source": [
    "For any vector $\\arr u \\neq \\arr 0$, we can **normalize** it to obtain a unit vector that has the same direction.\n",
    "This is denoted by $\\hat{\\arr u}$\n",
    "We simply divide the $\\arr u$ by its norm to obtain the unit vector:\n",
    "$$\n",
    "\\hat {\\arr u} = \\frac{\\arr u}{\\norm{\\arr u}}\n",
    "$$\n"
   ]
  },
  {
   "cell_type": "markdown",
   "id": "f0db644d-307f-408e-ab89-59cd52d09d22",
   "metadata": {},
   "source": [
    "## Angle"
   ]
  },
  {
   "cell_type": "markdown",
   "id": "82b41997-91db-4bfc-9d36-bbe95c18c2da",
   "metadata": {},
   "source": [
    "The angle between to vectors, $\\arr u, \\arr v \\neq \\arr 0$ can be obtained using:"
   ]
  },
  {
   "cell_type": "markdown",
   "id": "c8bb5fab-6d40-405d-999a-1dd314a6ebaf",
   "metadata": {},
   "source": [
    "$$\n",
    "\\theta = \\arccos \\frac{\\arr u \\cdot \\arr v}{\\norm{\\arr u} \\norm{\\arr v}}\n",
    "$$"
   ]
  },
  {
   "cell_type": "markdown",
   "id": "db13984f-8717-465b-af41-b86f6adb2d5c",
   "metadata": {},
   "source": [
    "### Orthogonality"
   ]
  },
  {
   "cell_type": "markdown",
   "id": "f9db5612-dc28-426f-a0c4-f8501094ffe3",
   "metadata": {},
   "source": [
    "Two vectors $\\arr u, \\arr v$ are **orthogonal** if\n",
    "$$\n",
    "\\arr u \\cdot \\arr v = 0\n",
    "$$"
   ]
  },
  {
   "cell_type": "markdown",
   "id": "f1c19294-d924-4bf4-b4f5-9830cbf23bd0",
   "metadata": {},
   "source": [
    "This means that either one of them is a zero vector, or $\\theta = \\arccos \\frac{\\arr u \\cdot \\arr v}{\\norm{\\arr u} \\norm{\\arr v}} = \\arccos 0  = \\frac{\\pi}{2}$."
   ]
  },
  {
   "cell_type": "markdown",
   "id": "f7baf00d-0be4-47fb-9e14-40f23a8d5f61",
   "metadata": {},
   "source": [
    "In $\\mathbb R^2$, this means that the two vectors are perpendicular."
   ]
  },
  {
   "cell_type": "markdown",
   "id": "2838ce17-c21e-465a-966e-df5651f0891a",
   "metadata": {},
   "source": [
    "A set of vectors $\\{\\arr v_1, \\arr v_2, \\cdots \\arr v_k \\} \\subseteq \\mathbb R^n$ is said to be **orthogonal** if all $v_i$'s are pairwise orthogonal."
   ]
  },
  {
   "cell_type": "markdown",
   "id": "8988ed17-3056-47ce-a07e-fde2d0afaae9",
   "metadata": {},
   "source": [
    "The set is said to be **orthonormal** if it is orthogonal, and all the vectors are unit vectors."
   ]
  },
  {
   "cell_type": "markdown",
   "id": "96fc2285-190b-491c-9358-83be190fa459",
   "metadata": {},
   "source": [
    "A quick way to check for a set's orthogonality is using [block multiplication](./matrix.ipynb#Block-multiplication)."
   ]
  },
  {
   "cell_type": "markdown",
   "id": "f8f962bc-47b5-48d0-a644-bf24c0c34205",
   "metadata": {},
   "source": [
    "Suppose our set is $S = \\{ \\arr u_1, \\arr u_2, \\cdots, \\arr u_k \\}$.\n",
    "We form the matrix $\\arr A = \\mat{\\arr u_1 & \\arr u_2 & \\cdots & \\arr u_k}$, _ie_ the columns of $\\arr A$ is the vectors in $S$."
   ]
  },
  {
   "cell_type": "markdown",
   "id": "9393d42a-182f-4b9d-92ee-813fe14c2d04",
   "metadata": {},
   "source": [
    "Then we compute $\\arr A^T \\arr A$."
   ]
  },
  {
   "cell_type": "markdown",
   "id": "159f1c76-5e2e-41f5-8e18-5c961c43e230",
   "metadata": {},
   "source": [
    "Observe that\n",
    "$$\n",
    "\\arr A ^T \\arr {A} = \\mat{\\arr u_1^T \\\\ \\arr u_2 ^T \\\\ \\vdots \\\\ \\arr u_k^T} \\mat{\\arr u_1^T & \\arr u_2 ^T & \\vdots & \\arr u_k^T} \\\\\n",
    "= \\mat {\n",
    "\\arr u_1^T \\arr u_1 &\\arr u_1^T \\arr u_2 & \\cdots & \\arr u_1^T \\arr u_k\\\\  \n",
    "\\arr u_2^T \\arr u_1 &\\arr u_2^T \\arr u_2 & \\cdots & \\arr u_2^T \\arr u_k\\\\  \n",
    "\\vdots & \\vdots & \\ddots & \\vdots \\\\\n",
    "\\arr u_k^T \\arr u_1 &\\arr u_k^T \\arr u_2 & \\cdots & \\arr u_k^T \\arr u_k\\\\  \n",
    "}\\\\\n",
    "= \\mat {\n",
    "\\arr u_1\\cdot \\arr u_1 &\\arr u_1\\cdot \\arr u_2 & \\cdots & \\arr u_1\\cdot \\arr u_k\\\\  \n",
    "\\arr u_2\\cdot \\arr u_1 &\\arr u_2\\cdot \\arr u_2 & \\cdots & \\arr u_2\\cdot \\arr u_k\\\\  \n",
    "\\vdots & \\vdots & \\ddots & \\vdots \\\\\n",
    "\\arr u_k\\cdot \\arr u_1 &\\arr u_k\\cdot \\arr u_2 & \\cdots & \\arr u_k\\cdot \\arr u_k\\\\  \n",
    "}\n",
    "$$"
   ]
  },
  {
   "cell_type": "markdown",
   "id": "5c101f07-55c6-4193-a42a-b9f2afcf0551",
   "metadata": {},
   "source": [
    "If $S$ is orthogonal, then all the non-diagonal entries will be $0$, _ie_ it is a [diagonal matrix](./matrix.ipynb#Diagonal-matrix)."
   ]
  },
  {
   "cell_type": "markdown",
   "id": "29d74f58-d2ac-43d6-832c-4d5240226f4a",
   "metadata": {},
   "source": [
    "If $S$ is orthonormal, then $\\arr A^T \\arr A = \\arr I$."
   ]
  },
  {
   "cell_type": "code",
   "execution_count": 14,
   "id": "f28e155d-2f4a-4dca-bb33-dcb02775d74c",
   "metadata": {},
   "outputs": [
    {
     "name": "stdout",
     "output_type": "stream",
     "text": [
      "A:\n",
      "[[ 1  1  1]\n",
      " [ 1  0 -2]\n",
      " [ 1 -2  1]]\n",
      "A^T A:\n",
      "[[ 3. -1.  0.]\n",
      " [-1.  5. -1.]\n",
      " [ 0. -1.  6.]]\n"
     ]
    }
   ],
   "source": [
    "from module.matrix import mult\n",
    "\n",
    "u1 = np.array([1, 1, 1]).reshape((3, 1))\n",
    "u2 = np.array([1, 0, -2]).reshape((3, 1))\n",
    "u3 = np.array([1, -2, 1]).reshape((3, 1))\n",
    "\n",
    "A = np.hstack((u1, u2, u3))\n",
    "print('A:', A, sep='\\n')\n",
    "print('A^T A:', mult(A.T, A), sep='\\n')"
   ]
  },
  {
   "cell_type": "markdown",
   "id": "0d69492e-965c-4fd2-a7dc-833b609e1e9b",
   "metadata": {},
   "source": [
    "Since $\\arr A^T \\arr A$ is not diagonal, $S$ is not orthogonal.\n",
    "In fact, from the matrix, we can deduce that $\\arr u_2$ and $\\arr u_3$ are not orthogonal to each other."
   ]
  },
  {
   "cell_type": "code",
   "execution_count": 15,
   "id": "05da78cc-9b9d-4aec-b725-4df812be2a0a",
   "metadata": {},
   "outputs": [
    {
     "name": "stdout",
     "output_type": "stream",
     "text": [
      "A:\n",
      "[[ 1  1  1]\n",
      " [ 1  0 -2]\n",
      " [ 1 -1  1]]\n",
      "A^T A:\n",
      "[[3. 0. 0.]\n",
      " [0. 2. 0.]\n",
      " [0. 0. 6.]]\n"
     ]
    }
   ],
   "source": [
    "from module.matrix import mult\n",
    "\n",
    "u1 = np.array([1, 1, 1]).reshape((3, 1))\n",
    "u2 = np.array([1, 0, -1]).reshape((3, 1))\n",
    "u3 = np.array([1, -2, 1]).reshape((3, 1))\n",
    "\n",
    "A = np.hstack((u1, u2, u3))\n",
    "print('A:', A, sep='\\n')\n",
    "print('A^T A:', mult(A.T, A), sep='\\n')"
   ]
  },
  {
   "cell_type": "markdown",
   "id": "372ff6c4-91a8-489c-aa3a-2de711d2de7e",
   "metadata": {},
   "source": [
    "Since $\\arr A^T \\arr A$ is diagonal, $S$ is orthogonal."
   ]
  },
  {
   "cell_type": "markdown",
   "id": "b0536984-4228-4adb-a4cf-b49370bd9250",
   "metadata": {},
   "source": [
    "## Linear combination"
   ]
  },
  {
   "cell_type": "markdown",
   "id": "70580bff-ec02-446d-a41f-3566f2eac547",
   "metadata": {},
   "source": [
    "A **linear combination** of $\\arr u_1, \\arr u_2, \\dots, \\arr u_k \\in \\mathbb R^n$ is defined as:\n",
    "$$\n",
    "c_1 \\arr u_1 + c_2 \\arr u_2 + \\cdots + c_k \\arr u_k = \\sum c_i \\arr u_i, \\quad c_i \\in \\mathbb R\n",
    "$$"
   ]
  },
  {
   "cell_type": "markdown",
   "id": "5d216716-4eec-40b6-ba54-eefeec41234b",
   "metadata": {},
   "source": [
    "The collection of all possible linear combination of $\\arr u_1, \\arr u_2, \\dots, \\arr u_k \\in \\mathbb R^n$ is called the **span**, _ie_"
   ]
  },
  {
   "cell_type": "markdown",
   "id": "bfea0312-364f-4331-8851-d756eb5e38e8",
   "metadata": {},
   "source": [
    "$$\n",
    "span\\{\\arr u_1, \\arr u_2, \\dots, \\arr u_k \\}  = \\left\\{ \\sum c_i \\arr u_i \\middle | c_i \\in \\mathbb R \\right\\}\n",
    "$$"
   ]
  },
  {
   "cell_type": "markdown",
   "id": "d2f2225d-021c-464f-b32c-b791c38a27be",
   "metadata": {},
   "source": [
    "This relationship is similar to that of vectors and their vector spaces."
   ]
  },
  {
   "cell_type": "markdown",
   "id": "000c917c-4086-4528-a709-889ffed76dfe",
   "metadata": {},
   "source": [
    "### Check if vector is a linear combination"
   ]
  },
  {
   "cell_type": "markdown",
   "id": "d5c99431-a720-40f9-abb1-5ffacc42bfd4",
   "metadata": {},
   "source": [
    "Suppose that we wish to find if a vector $\\arr v$ is a linear combination of $\\arr u_1, \\dots, \\arr u_k$."
   ]
  },
  {
   "cell_type": "markdown",
   "id": "123c8954-ee32-449b-a186-4f5f92e6c849",
   "metadata": {},
   "source": [
    "Notice that this is equivalent to solving to solutions for\n",
    "$$\n",
    "\\arr v = c_1 \\arr u_1 + \\cdots + c_k \\arr u_k\n",
    "$$"
   ]
  },
  {
   "cell_type": "markdown",
   "id": "cd3dfddc-db3e-499b-986a-5ffa886fff3e",
   "metadata": {},
   "source": [
    "Expanding all the vectors, we get:"
   ]
  },
  {
   "cell_type": "markdown",
   "id": "0658f21e-884d-4923-bc78-1dac0375d3ca",
   "metadata": {},
   "source": [
    "$$\n",
    "\\mat{v_1 \\\\ v_2 \\\\ \\vdots \\\\ v_n} = \n",
    "c_1 \\mat{u_{11} \\\\ u_{12} \\\\ \\vdots \\\\ u_{1n}}\n",
    "+ c_2 \\mat{u_{21} \\\\ u_{22} \\\\ \\vdots \\\\ u_{2n}}\n",
    "+ \\cdots \n",
    "+ c_k \\mat{u_{k1} \\\\ u_{k2} \\\\ \\vdots \\\\ u_{kn}} \\\\\n",
    "\\Rightarrow \\arr v = \\arr A \\arr c\n",
    "$$"
   ]
  },
  {
   "cell_type": "markdown",
   "id": "2ab14f7d-dce7-4ff5-b382-9d933095af79",
   "metadata": {},
   "source": [
    "where $\\arr A$ is the matrix whose columns are $\\arr u_i$, and $\\arr c$ is a column matrix of the $c_i$ variables."
   ]
  },
  {
   "cell_type": "markdown",
   "id": "fd49e251-144a-4933-95f1-a3facca2f6cd",
   "metadata": {},
   "source": [
    "Thus, it reduces to solving the linear system of $\\arr {Ac} = \\arr v$."
   ]
  },
  {
   "cell_type": "code",
   "execution_count": 16,
   "id": "c8479397-5664-47a9-b50d-52c8a6b0f6bd",
   "metadata": {},
   "outputs": [],
   "source": [
    "from module.elimination import gauss_jordan_elim\n",
    "\n",
    "def is_linear_combi(v: np.ndarray, *us: np.ndarray) -> np.ndarray | None:\n",
    "    A = np.hstack(us)\n",
    "    R, b = gauss_jordan_elim(A, v)\n",
    "    return b if (R == np.identity(R.shape[0])).all() else None"
   ]
  },
  {
   "cell_type": "code",
   "execution_count": 17,
   "id": "8f6a5ed9-135e-4516-9376-7d0caa409cca",
   "metadata": {},
   "outputs": [
    {
     "name": "stdout",
     "output_type": "stream",
     "text": [
      "u1:\n",
      "[[1]\n",
      " [1]\n",
      " [1]]\n",
      "u2:\n",
      "[[ 1]\n",
      " [ 0]\n",
      " [-1]]\n",
      "u3:\n",
      "[[ 1]\n",
      " [-2]\n",
      " [ 1]]\n"
     ]
    },
    {
     "data": {
      "text/plain": [
       "array([[ 2.],\n",
       "       [-1.],\n",
       "       [ 0.]])"
      ]
     },
     "execution_count": 17,
     "metadata": {},
     "output_type": "execute_result"
    }
   ],
   "source": [
    "print(\"u1:\", u1, sep='\\n')\n",
    "print(\"u2:\", u2, sep='\\n')\n",
    "print(\"u3:\", u3, sep='\\n')\n",
    "is_linear_combi(np.array([1, 2, 3]).reshape(3, 1),  u1, u2, u3)"
   ]
  },
  {
   "cell_type": "markdown",
   "id": "158bd343-a627-43d6-a164-f408910be358",
   "metadata": {},
   "source": [
    "Indeed, \n",
    "$$\n",
    "2\\mat{1 \\\\ 1 \\\\ 1} -1 \\mat{1 \\\\ 0 \\\\ -1} + 0 \\mat{1 \\\\ -2  \\\\1} = \\mat{2 -1 \\\\ 2 - 0 \\\\ 2 +1} = \\mat{1 \\\\ 2 \\\\ 3} = \\arr v\n",
    "$$"
   ]
  },
  {
   "cell_type": "markdown",
   "id": "7a291eb9-f8a9-4e86-93e4-50c908e27529",
   "metadata": {},
   "source": [
    "If $\\arr v$ is not a linear combination, then the system will have no solutions."
   ]
  },
  {
   "cell_type": "markdown",
   "id": "30797531-cc41-41c6-ac7a-1c9de756386f",
   "metadata": {},
   "source": [
    "## Standard basis"
   ]
  },
  {
   "cell_type": "markdown",
   "id": "d95d2f5b-08b8-4289-9460-fa403cc8df9b",
   "metadata": {},
   "source": [
    "Consider the identity matrix $\\arr I_n$.\n",
    "We let $\\arr e_i$ be the $i$-th column of the identity matrix, _ie_ \n",
    "$\\arr e_1 = \\mat{1 \\\\ 0 \\\\ 0}$\n",
    "$\\arr e_2 = \\mat{0 \\\\ 1 \\\\ 0}$\n",
    "$\\arr e_3 = \\mat{0 \\\\ 0 \\\\ 1}$\n",
    "for $\\arr I_3$."
   ]
  },
  {
   "cell_type": "markdown",
   "id": "6379660d-9b0b-4417-8bf8-e237425c19a6",
   "metadata": {},
   "source": [
    "Notice that for any vector $\\arr v \\in \\mathbb R^n$, it is a linear combination of $\\arr e_1, \\arr e_2\\, \\dots, \\arr e_n$ (we just set $c_i = v_i$)."
   ]
  },
  {
   "cell_type": "markdown",
   "id": "5790e353-f686-4301-9d5b-594140b5dbb3",
   "metadata": {},
   "source": [
    "Therefore, $span\\{\\arr e_1, \\dots, \\arr e_n \\} = \\mathbb R^n$, and we call $\\set{\\arr e_i, \\dots, \\arr e_n}$ the **standard basis** of $\\mathbb R^n$."
   ]
  },
  {
   "cell_type": "markdown",
   "id": "8ab4998c-96f5-4109-bed1-9ee8cf3ea0c1",
   "metadata": {},
   "source": [
    "We have seen that for a vector $\\arr v$ to be a linear combination of $S = \\{ \\arr u_1, \\dots, \\arr u_k \\}$, we simply solve for $\\arr A \\arr c = \\arr v$ where $\\arr A = \\mat{\\arr u_1 & \\arr u_2 & \\cdots & \\arr u_k}$ .\n"
   ]
  },
  {
   "cell_type": "markdown",
   "id": "4816869b-48dd-4e6d-9648-590e55e1b778",
   "metadata": {
    "tags": []
   },
   "source": [
    "$\\theorem$:\n",
    "A set $S \\subseteq \\mathbb R^n$ with less than $n$ vectors cannot span $\\mathbb R^n$.\n",
    "\n",
    "<details>\n",
    "<summary style=\"color: blue\">$\\proof$ (Click to expand)</summary>\n",
    "    <div style=\"background: aliceblue\">\n",
    "        $\\arr A$ would have more rows than columns.\n",
    "        It follows that its reduced row-echelon form must contain some zero row, and hence cannot span $\\mathbb R^n$.\n",
    "        $$QED$$\n",
    "    </div>\n",
    "</details>"
   ]
  },
  {
   "cell_type": "markdown",
   "id": "96fa9cd8-cbe8-4e5f-bda1-4225691689b5",
   "metadata": {
    "tags": []
   },
   "source": [
    "$\\theorem$:\n",
    "For any set of vectors $S$, $\\arr 0 \\in span(S)$.\n",
    "\n",
    "<details>\n",
    "<summary style=\"color: blue\">$\\proof$ (Click to expand)</summary>\n",
    "    <div style=\"background: aliceblue\">\n",
    "        This is simply the trivial solution.\n",
    "        $$QED$$\n",
    "    </div>\n",
    "</details>"
   ]
  },
  {
   "cell_type": "markdown",
   "id": "818c3d05-2301-4681-822d-4c7cdfb7af2b",
   "metadata": {
    "tags": []
   },
   "source": [
    "$\\theorem$:\n",
    "For any $\\arr u, \\arr v \\in span(S)$ and $a,b \\in \\mathbb R$\n",
    "$$\n",
    "a \\arr u + b \\arr v \\in span(S)\n",
    "$$\n",
    "\n",
    "<details>\n",
    "<summary style=\"color: blue\">$\\proof$ (Click to expand)</summary>\n",
    "    <div style=\"background: aliceblue\">\n",
    "        Since both of them are in the span, we express $\\arr u = \\arr A \\arr c_1, \\arr v = \\arr A \\arr c_2$.\n",
    "        Then \n",
    "        $$\n",
    "        a \\arr u + b \\arr v = a \\arr A \\arr c_1 + b \\arr A \\arr c_2 = \\arr A \\left( a \\arr c_1 + b \\arr c_2 \\right)\n",
    "        $$\n",
    "        And thus, $a \\arr u + b \\arr v$ is a linear combination of $S$, with the coefficients of $a \\arr c_1 + b \\arr c_2$.\n",
    "        $$QED$$\n",
    "    </div>\n",
    "</details>"
   ]
  },
  {
   "cell_type": "markdown",
   "id": "9eb3adb6-8045-4e70-9390-989a3e9d2431",
   "metadata": {
    "tags": []
   },
   "source": [
    "$\\theorem$:\n",
    "Given two sets $S_1 = \\{\\arr u_1, \\arr u_2, \\dots \\arr u_k\\}, S_2 = \\{\\arr v_1, \\arr v_2, \\dots \\arr v_m\\},  S_1, S_2 \\subseteq \\mathbb R^n$.\n",
    "If all $\\arr v_i \\in span(S_1)$, then \n",
    "$$\n",
    "span(S_2) \\subseteq span(S_1)\n",
    "$$\n",
    "\n"
   ]
  },
  {
   "cell_type": "markdown",
   "id": "20e85878-43c0-4706-8165-f7db9cf04738",
   "metadata": {
    "tags": []
   },
   "source": [
    "$\\corollary$:\n",
    "If all $\\arr v_i \\in span(S_1)$, and all $\\arr u_i \\in span(S_2)$, then \n",
    "$$\n",
    "span(S_2) = span(S_1)\n",
    "$$\n",
    "\n"
   ]
  },
  {
   "cell_type": "markdown",
   "id": "3acea0fb-8a0c-4e21-b0f8-e51a430ec08a",
   "metadata": {},
   "source": [
    "Thus, given two subsets, to check if $span(S_2) \\subseteq span(S_1)$, we would need to check if there is solution to $\\arr A \\arr c = \\arr v_i$ for all $\\arr v_i$."
   ]
  },
  {
   "cell_type": "markdown",
   "id": "28fad6f7-d2a4-446d-b159-84cb8d829736",
   "metadata": {},
   "source": [
    "This is checking multiple linear systems, thus recall that [we can perform this simultaneously](./matrix.ipynb#Multiple-linear-systems)."
   ]
  },
  {
   "cell_type": "markdown",
   "id": "9e98b735-f111-4594-91cf-b60c3e0ee1ea",
   "metadata": {
    "tags": []
   },
   "source": [
    "$\\corollary$:\n",
    "$\\arr v \\in span(S)$ if and only if\n",
    "$$\n",
    "span(S) = span(S \\cup \\{ v\\})\n",
    "$$\n",
    "\n"
   ]
  },
  {
   "cell_type": "markdown",
   "id": "cff50e2b-1427-4367-b791-6f8194599a9a",
   "metadata": {},
   "source": [
    "## Subspace"
   ]
  },
  {
   "cell_type": "markdown",
   "id": "d97e5ffb-b529-40ce-b131-09ec1330ec75",
   "metadata": {},
   "source": [
    "A **subspace** is a vector space that is contained in another vectors space.\n",
    "For example, the $xy$-plane in $\\mathbb R^3$."
   ]
  },
  {
   "cell_type": "markdown",
   "id": "666a03f6-2c27-4b1b-a24a-64748fda509a",
   "metadata": {},
   "source": [
    "Formally, a set $V \\subseteq \\mathbb R^n$ is a subspace if:\n",
    "1. $\\arr 0 \\in V$ (contain origin)\n",
    "2. $\\alpha \\arr u + \\beta \\arr v \\in V$ (closed under linear combination)"
   ]
  },
  {
   "cell_type": "markdown",
   "id": "a7401ed4-58d5-4390-af6f-45c68423e322",
   "metadata": {},
   "source": [
    "We require the above property to ensure that $V$ have the properties of a vector space."
   ]
  },
  {
   "cell_type": "markdown",
   "id": "8c0a505e-4cd7-438f-a333-144de1789880",
   "metadata": {},
   "source": [
    "The **zero space** is the subspace that contains only the origin.\n",
    "It is the only subspace with finitely many vectors."
   ]
  },
  {
   "cell_type": "markdown",
   "id": "8a790c3d-486f-4dcf-863c-f79b44a56a9c",
   "metadata": {
    "tags": []
   },
   "source": [
    "$\\theorem$:\n",
    "$V \\subseteq R^n$ is a subspace if and only if there exists a finite set $S \\subseteq R^n$ such that $V = span(S)$.\n",
    "\n",
    "<details>\n",
    "<summary style=\"color: blue\">$\\proof$ (Click to expand)</summary>\n",
    "    <div style=\"background: aliceblue\">\n",
    "        TODO\n",
    "    </div>\n",
    "</details>"
   ]
  },
  {
   "cell_type": "markdown",
   "id": "6306a4a4-4784-4c0c-a193-2be4d2a52d39",
   "metadata": {},
   "source": [
    "### Examples"
   ]
  },
  {
   "cell_type": "markdown",
   "id": "20be0815-dbb0-49f5-8069-2bc4ad58b8d0",
   "metadata": {},
   "source": [
    "Subspaces of $\\mathbb R^1$:\n",
    "1. Zero space\n",
    "2. Whole $\\mathbb R^1$\n",
    "\n",
    "Subspaces of $\\mathbb R^2$:\n",
    "1. Zero space\n",
    "2. Line: $span \\left\\{\\mat{x \\\\y} \\right\\} $ for nonzero vectors\n",
    "3. Whole $\\mathbb R^2$\n",
    "\n",
    "Subspaces of $\\mathbb R^3$:\n",
    "1. Zero space\n",
    "2. Line: $span \\left\\{\\mat{x \\\\y \\\\ z} \\right\\} $ for nonzero vectors\n",
    "3. Plane: $span \\left\\{ \\mat{x_1 \\\\y_1 \\\\z_1 }, \\mat{x_2 \\\\y_2 \\\\z_2 } \\right\\}$ where the vectors are not multiples of each other\n",
    "4. Whole $\\mathbb R^3$"
   ]
  },
  {
   "cell_type": "markdown",
   "id": "ac12edf8-b1bf-49e4-9c97-88aea670a9c3",
   "metadata": {
    "tags": []
   },
   "source": [
    "<span id=\"solution-set-subspace\"></span>\n",
    "                                      \n",
    "$\\theorem$:\n",
    "The solution set $\\left\\{ \\arr u \\middle | \\arr {Au} = \\arr b \\right \\}$ to a linear system $\\arr {Ax} = \\arr b$ is a subspace if and only if $\\arr b = \\arr 0$.\n",
    "\n",
    "<details>\n",
    "<summary style=\"color: blue\">$\\proof$ (Click to expand)</summary>\n",
    "    <div style=\"background: aliceblue\">\n",
    "        Suppose that the solution set is a subspace.\n",
    "        Thus, the solution set must contain $\\arr 0$ by property of subspaces, and hence $\\arr b = \\arr {Au} = \\arr {A 0} = \\arr 0$.\n",
    "        <br>\n",
    "        Suppose that $\\arr b = \\arr 0$.\n",
    "        Then the solution set must contain the trivial solution, and hence must contain $\\arr 0$.\n",
    "        Now suppose that $\\arr u, \\arr v$ are two solutions in the solution set.\n",
    "        Then consider their linear combination $\\arr w$\n",
    "        $$\n",
    "        \\arr A \\arr w = \\arr A(a \\arr u + b \\arr b) = a \\arr {Au} + b \\arr {Av} = a \\arr 0 + b \\arr 0 = \\arr 0\n",
    "        $$\n",
    "        which means $\\arr w$ is also in the solution set.\n",
    "        Therefore, the solution set satisfy the properties of a subspace and hence is one.\n",
    "        $$QED$$\n",
    "    </div>\n",
    "</details>"
   ]
  },
  {
   "cell_type": "markdown",
   "id": "03dbedb8-1b04-4e15-98cf-b473a0232a16",
   "metadata": {
    "tags": []
   },
   "source": [
    "$\\theorem$:\n",
    "The solution set $U = \\left\\{ \\arr u \\middle | \\arr {Au} = \\arr b \\right \\}$ to a linear system $\\arr {Ax} = \\arr b$ can be expressed as $U = \\arr u + V$, where $V = \\left\\{ \\arr v \\middle | \\arr {Av} = \\arr 0 \\right \\}$ (solution set to the homogeneous system) and $\\arr{Au}_p = \\arr b$ ($\\arr u_p$ is a particular solution).\n",
    "\n",
    "<details>\n",
    "<summary style=\"color: blue\">$\\proof$ (Click to expand)</summary>\n",
    "    <div style=\"background: aliceblue\">\n",
    "        Suppose we have the solution set $V$.\n",
    "        Then for any vector $\\arr v$ in it, we consider $\\arr u_p + \\arr v$.\n",
    "        $$\n",
    "        \\arr A(\\arr u_p + \\arr v) = \\arr {Au_p} + \\arr {Av} = \\arr b + \\arr 0 = \\arr b\n",
    "        $$\n",
    "        which means it is a solution to the linear system.\n",
    "        Therefore, $V + \\arr u_p \\subseteq U$.\n",
    "        <br>\n",
    "        Suppose we have the solution set $U$.\n",
    "        For any vector $\\arr u$ in it, we consider $\\arr u - \\arr u_p$,\n",
    "        $$\n",
    "        \\arr A(\\arr u - \\arr u_p) = \\arr {Au} - \\arr{Au}_p = \\arr b - \\arr b = \\arr 0\n",
    "        $$\n",
    "        which means $\\arr u - \\arr u _p = \\arr v$ is a solution to the homogeneous system.\n",
    "        Rearranging, we get $\\arr u = \\arr v + \\arr u_p$, which means that every solution in $W$ can be written as $\\arr v + \\arr u_p$.\n",
    "        Hence, $U \\subseteq V + \\arr u_p$.\n",
    "        <br>\n",
    "        Using the above, we get $U = V + \\arr u_p$\n",
    "        $$QED$$\n",
    "    </div>\n",
    "</details>"
   ]
  },
  {
   "cell_type": "markdown",
   "id": "9ef4a988-7da5-4694-ba77-27f71f8bba83",
   "metadata": {},
   "source": [
    "In order words, to find all the possible solutions to a linear system, we just need to find all the possible solutions to the homogeneous system, and any particular solution to the linear system."
   ]
  },
  {
   "cell_type": "markdown",
   "id": "0aca9793-289b-4529-a752-e47283178c51",
   "metadata": {},
   "source": [
    "For example, suppose our linear system has $\\arr A = \\mat{1 & 1 \\\\ 0 & 0}, \\arr b = \\mat{3 \\\\ 0}$."
   ]
  },
  {
   "cell_type": "markdown",
   "id": "319e8e4f-34ab-42f6-ade3-2b0e0cc159bf",
   "metadata": {},
   "source": [
    "The homogeneous solution satisfies $x + y = 0 \\Rightarrow x = -y$.\n",
    "Hence $V = \\left\\{ s\\mat{1 \\\\ -1} \\middle | s \\in \\mathbb R \\right\\}$."
   ]
  },
  {
   "cell_type": "markdown",
   "id": "b341bbbf-e7ce-4c35-b193-714a71647a19",
   "metadata": {},
   "source": [
    "Visually, the solution set can be plotted as below."
   ]
  },
  {
   "cell_type": "code",
   "execution_count": 18,
   "id": "4976bce6-8880-4242-a1b9-03df2fe78cea",
   "metadata": {},
   "outputs": [
    {
     "data": {
      "image/png": "[encoded data removed]",
      "text/plain": [
       "<Figure size 720x360 with 2 Axes>"
      ]
     },
     "metadata": {
      "needs_background": "light"
     },
     "output_type": "display_data"
    }
   ],
   "source": [
    "_, axs = plt.subplots(1, 2, figsize=(10, 5), sharex=True, sharey=True)\n",
    "\n",
    "xs = np.linspace(-5, 5)\n",
    "ys = -xs\n",
    "axs[0].plot(xs, ys)\n",
    "axs[1].arrow(0, 0, 1, -1, head_width=0.3)\n",
    "axs[1].annotate(\"(1, -1)\", (0, 0))\n",
    "plt.show()"
   ]
  },
  {
   "cell_type": "markdown",
   "id": "379c3921-525c-42c1-8c62-16c31e3e02e8",
   "metadata": {},
   "source": [
    "Notice that this is simply the line of $x = -y$.\n",
    "And if we consider the solution as a vector starting from the origin, we can see that it is a scaled vector of $\\mat{1 \\\\ -1}$."
   ]
  },
  {
   "cell_type": "markdown",
   "id": "6a6590d2-5e15-4a58-8717-aa9e3d8f295e",
   "metadata": {},
   "source": [
    "Hence, this is the relationship between the solution of the homogeneous system and its corresponding subspace."
   ]
  },
  {
   "cell_type": "markdown",
   "id": "0f6b43f4-36c7-42cc-a05f-f16293e0cdf8",
   "metadata": {},
   "source": [
    "Back to our non-homogeneous system, one particular solution is $\\mat{3 \\\\ 0}$."
   ]
  },
  {
   "cell_type": "markdown",
   "id": "505b7318-49da-48c5-bf74-0ba3a5f4db92",
   "metadata": {},
   "source": [
    "Hence $U = \\left\\{ \\mat{3 \\\\ 0} + s\\mat{1 \\\\ -1} \\middle | s \\in \\mathbb R \\right\\}$."
   ]
  },
  {
   "cell_type": "code",
   "execution_count": 19,
   "id": "194942bf-f55b-4890-8d75-337e7c1cb33c",
   "metadata": {},
   "outputs": [
    {
     "data": {
      "image/png": "[encoded data removed]",
      "text/plain": [
       "<Figure size 432x288 with 1 Axes>"
      ]
     },
     "metadata": {
      "needs_background": "light"
     },
     "output_type": "display_data"
    }
   ],
   "source": [
    "xs = np.linspace(-5, 5)\n",
    "ys = -xs\n",
    "plt.plot(xs, ys, label=r\"$\\mathbf{Ax}=\\mathbf{0}$\")\n",
    "plt.plot(xs+ 3, ys, label=r\"$\\mathbf{Ax}=\\mathbf{b}$\")\n",
    "plt.arrow(0, 0, 3, 0, head_width=0.3, length_includes_head=True)\n",
    "plt.annotate(\"(3, 0)\", (0, 0.2))\n",
    "plt.legend()\n",
    "plt.show()"
   ]
  },
  {
   "cell_type": "markdown",
   "id": "00ca1803-a369-4be5-bd37-57298001c114",
   "metadata": {},
   "source": [
    "Hence, the solution space of the non-homogeneous system is simply the solution space of the homogeneous solution \"shifted\" by the particular solution."
   ]
  },
  {
   "cell_type": "markdown",
   "id": "42471d49-d02e-4e63-89ad-b9f169382599",
   "metadata": {},
   "source": [
    "## Linear independence"
   ]
  },
  {
   "cell_type": "markdown",
   "id": "fde1620b-751d-4fc8-b605-96c81807e749",
   "metadata": {},
   "source": [
    "Suppose that \n",
    "$$\n",
    "\\arr u _1 = \\mat{1 \\\\ 0 \\\\ 0} \\quad\n",
    "\\arr u _2 = \\mat{0 \\\\ 1 \\\\ 0} \\quad\n",
    "\\arr u _3 = \\mat{-1 \\\\ 1 \\\\ 0} \\quad\n",
    "\\arr u _4 = \\mat{-1 \\\\ 0 \\\\ 0} \\quad\n",
    "$$"
   ]
  },
  {
   "cell_type": "markdown",
   "id": "436ac750-f842-467b-9a29-82274e54c7ac",
   "metadata": {},
   "source": [
    "We can compute and realize that \n",
    "$$\n",
    "span \\set{\\arr u_1, \\arr u_2, \\arr u_3, \\arr u_4}\n",
    "= span \\set{\\arr u_1, \\arr u_2, \\arr u_3}\n",
    "= span \\set{\\arr u_1, \\arr u_2}\n",
    "$$"
   ]
  },
  {
   "cell_type": "markdown",
   "id": "31666d24-5075-4bf9-8645-2004d960583b",
   "metadata": {},
   "source": [
    "as all of them span the $xy$-plane."
   ]
  },
  {
   "cell_type": "markdown",
   "id": "440d6fe0-8cdb-4901-ae1b-8df127b8efd3",
   "metadata": {},
   "source": [
    "This indicates that we actually only needed 2 vectors to determine our span."
   ]
  },
  {
   "cell_type": "markdown",
   "id": "8b60e5f4-e6d2-4fd5-8a73-da6c61d96db5",
   "metadata": {},
   "source": [
    "Thus, the question arises as to how we can determine the smallest subset of vectors needed to span the same vector space."
   ]
  },
  {
   "cell_type": "markdown",
   "id": "d6ee559f-6743-4a8d-8356-fc7ee63e6577",
   "metadata": {},
   "source": [
    "For example, we can choose $\\set{\\arr u_1, \\arr u_2}$ as our smallest set, but it is not unique as $\\set{\\arr u_1, \\arr u_3}$ would've also have the same span.\n",
    "Note that not any 2 vectors could've produced the same span, for example $\\set{\\arr u_1, \\arr u_4}$ would have only span $\\mathbb R^1$."
   ]
  },
  {
   "cell_type": "markdown",
   "id": "247b37d4-fb29-471e-b15e-139bb08f27ba",
   "metadata": {},
   "source": [
    "A way to determine whether a vector is required in the computation of the span is the check its **linear independence** from the rest of the set."
   ]
  },
  {
   "cell_type": "markdown",
   "id": "bc438821-f398-4d82-b0a2-1f8566d33ade",
   "metadata": {},
   "source": [
    "Formally, a vector $\\arr u$ is **linearly dependent** on $\\arr u_1, \\arr u_2, \\dots, \\arr u_k$ if it is a [linear combination](#Linear-combination) of them."
   ]
  },
  {
   "cell_type": "markdown",
   "id": "7ab65d7d-18e8-4e56-9eeb-86614872a9a6",
   "metadata": {},
   "source": [
    "In our example, we can see that $\\arr u_3 = \\arr u_2 - \\arr u_1$ and thus is linearly dependent on them.\n",
    "Similarly, $\\arr u_4 = - \\arr u_1$, which means that $\\arr u_4$ is linearly dependent on $\\arr u_1$ (and vice versa)."
   ]
  },
  {
   "cell_type": "markdown",
   "id": "c4770cac-ac44-4044-9680-9203fc848f56",
   "metadata": {},
   "source": [
    "In fact, it is more accurate the describe linear dependency as a set.\n",
    "Thus, we call a set **linearly dependent** if one of the vectors in it is linearly dependent on the rest of the set."
   ]
  },
  {
   "cell_type": "markdown",
   "id": "a4092e40-f546-402b-ba10-32168d748984",
   "metadata": {},
   "source": [
    "We could check the linearly dependence of each element of the set one by one, but that is rather tedious."
   ]
  },
  {
   "cell_type": "markdown",
   "id": "b827eac3-ef48-47f0-be99-c2694668df29",
   "metadata": {},
   "source": [
    "Suppose that our set is linearly dependent, then some vectors $\\arr u_k$ must be a linear combination of the others:\n",
    "$$\n",
    "\\arr u_k = c_1 \\arr u_1 + c_2 \\arr u_2 + \\cdots + c_{k-1} \\arr u_{k-1}\n",
    "$$"
   ]
  },
  {
   "cell_type": "markdown",
   "id": "20128b21-ddd0-4b57-ad23-bc0f0e012fb5",
   "metadata": {},
   "source": [
    "Simply rearranging, we get :\n",
    "$$\n",
    "c_1 \\arr u_1 + c_2 \\arr u_2 + \\cdots + c_{k-1} \\arr u_{k-1} - \\arr u_k = \\arr 0\n",
    "$$"
   ]
  },
  {
   "cell_type": "markdown",
   "id": "9f7304b4-0738-439b-8a74-2a061d20e354",
   "metadata": {},
   "source": [
    "Since the coefficient of $\\arr u_k$ is $-1$, this is a non-trivial solution to the system."
   ]
  },
  {
   "cell_type": "markdown",
   "id": "4d4b526e-cb74-4cd3-ac7c-d5941f24274a",
   "metadata": {},
   "source": [
    "Hence, a set $\\set{\\arr u_1, \\dots, \\arr u_k}$ is linearly dependent if there is non-trivial solution to\n",
    "$$\n",
    "c_1 \\arr u_1 + c_2 \\arr u_2 + \\cdots  + c_k \\arr u_k = \\arr 0\n",
    "$$\n",
    "(without loss of generality as we can multiply both sides by $-c_k$ and relabel the variables)"
   ]
  },
  {
   "cell_type": "markdown",
   "id": "217152d2-a626-442b-adc2-f44a6bd29c05",
   "metadata": {},
   "source": [
    "It also means that the set is **linearly independent** if the system only has the trivial solution."
   ]
  },
  {
   "cell_type": "code",
   "execution_count": 20,
   "id": "0c3ce53b-17fb-4a34-80cf-34b667efe56a",
   "metadata": {},
   "outputs": [
    {
     "data": {
      "text/plain": [
       "array([[ 1.,  0., -1., -1.],\n",
       "       [ 0.,  1.,  1.,  0.],\n",
       "       [ 0.,  0.,  0.,  0.]])"
      ]
     },
     "execution_count": 20,
     "metadata": {},
     "output_type": "execute_result"
    }
   ],
   "source": [
    "u1 = np.array([1, 0, 0]).reshape((3, 1))\n",
    "u2 = np.array([0, 1, 0]).reshape((3, 1))\n",
    "u3 = np.array([-1, 1, 0]).reshape((3, 1))\n",
    "u4 = np.array([-1, 0, 0]).reshape((3, 1))\n",
    "\n",
    "gauss_jordan_elim(np.hstack((u1, u2, u3, u4)))"
   ]
  },
  {
   "cell_type": "code",
   "execution_count": 21,
   "id": "066b6f0d-ebed-4827-871a-6230e7f89ef7",
   "metadata": {},
   "outputs": [
    {
     "data": {
      "text/plain": [
       "array([[ 1.,  0., -1.],\n",
       "       [ 0.,  1.,  1.],\n",
       "       [ 0.,  0.,  0.]])"
      ]
     },
     "execution_count": 21,
     "metadata": {},
     "output_type": "execute_result"
    }
   ],
   "source": [
    "gauss_jordan_elim(np.hstack((u1, u2, u3)))"
   ]
  },
  {
   "cell_type": "markdown",
   "id": "7ca38793-8732-4038-a793-756b4ef74dab",
   "metadata": {},
   "source": [
    "We can see above that both $\\set{\\arr u_1, \\arr u_2, \\arr u_3, \\arr u_4}$ and $\\set{\\arr u_1, \\arr u_2, \\arr u_3}$ contain non-trivial solutions and thus are linearly dependent."
   ]
  },
  {
   "cell_type": "code",
   "execution_count": 22,
   "id": "73cbef51-ce92-4033-865b-6406d37e01e4",
   "metadata": {},
   "outputs": [
    {
     "data": {
      "text/plain": [
       "array([[1., 0.],\n",
       "       [0., 1.],\n",
       "       [0., 0.]])"
      ]
     },
     "execution_count": 22,
     "metadata": {},
     "output_type": "execute_result"
    }
   ],
   "source": [
    "gauss_jordan_elim(np.hstack((u1, u2)))"
   ]
  },
  {
   "cell_type": "code",
   "execution_count": 23,
   "id": "db73f978-1c89-44b2-aa73-d322f227d50d",
   "metadata": {},
   "outputs": [
    {
     "data": {
      "text/plain": [
       "array([[1., 0.],\n",
       "       [0., 1.],\n",
       "       [0., 0.]])"
      ]
     },
     "execution_count": 23,
     "metadata": {},
     "output_type": "execute_result"
    }
   ],
   "source": [
    "gauss_jordan_elim(np.hstack((u1, u3)))"
   ]
  },
  {
   "cell_type": "markdown",
   "id": "6198e8c1-16fd-482d-af20-360909a1e7ba",
   "metadata": {},
   "source": [
    "And we can see above that both $\\set{\\arr u_1, \\arr u_2}$ and $\\set{\\arr u_1, \\arr u_3}$ are both linearly independent as they only have the trivial solution."
   ]
  },
  {
   "cell_type": "markdown",
   "id": "23936fc9-7377-496f-a500-3fe51c71d9de",
   "metadata": {},
   "source": [
    "$\\corollary$ Any set of vectors in $\\mathbb R^n$ with more than $n$ vectors must be linearly dependent."
   ]
  },
  {
   "cell_type": "markdown",
   "id": "3fca4b12-2f05-47bb-9a0a-17b040627fd6",
   "metadata": {
    "tags": []
   },
   "source": [
    "<details>\n",
    "<summary style=\"color: blue\">$\\proof$ (Click to expand)</summary>\n",
    "    <div style=\"background: aliceblue\">\n",
    "        Since there are more columns than rows, there must be some non-pivot column, which indicate the presence of non-trivial solutions.\n",
    "    </div>\n",
    "</details>"
   ]
  },
  {
   "cell_type": "markdown",
   "id": "9464aaf6-73e9-443f-8372-3c17cb6fddfc",
   "metadata": {},
   "source": [
    "For a set with a single vector, it is trivial to see that it is linearly independent if and only if the vector is nonzero."
   ]
  },
  {
   "cell_type": "markdown",
   "id": "ae40446b-3933-4ecd-8c73-ce1dff16ac76",
   "metadata": {},
   "source": [
    "For a set with two vectors, it is also trivial to see that it is linearly independent if and only if the two vectors are scalar multiples of each other."
   ]
  },
  {
   "cell_type": "markdown",
   "id": "dd1c6cc1-6d60-4b51-b35c-ea8bcd4f127d",
   "metadata": {},
   "source": [
    "$\\theorem$ Given some linearly dependent set $S \\subseteq R^n$, then for any $\\arr u \\in R^n$, $S \\cup \\set{\\arr u}$ is also linearly dependent."
   ]
  },
  {
   "cell_type": "markdown",
   "id": "50d7cce2-90b3-4212-810d-87d4638f697d",
   "metadata": {},
   "source": [
    "That is, adding more vectors will not cause a linearly dependent set become linearly independent."
   ]
  },
  {
   "cell_type": "markdown",
   "id": "f270ff7e-ebe1-4237-a867-12a6ea93cdb3",
   "metadata": {
    "tags": []
   },
   "source": [
    "<details>\n",
    "<summary style=\"color: blue\">$\\proof$ (Click to expand)</summary>\n",
    "    <div style=\"background: aliceblue\">\n",
    "        Find vector that can be expressed as a linearly combination in $S$.\n",
    "        Then we use the same coefficient, but set the corresponding coefficient of $\\arr u$ to be 0, and it will still be a linear combination in $S \\cup \\set{\\arr u}$.\n",
    "    </div>\n",
    "</details>"
   ]
  },
  {
   "cell_type": "markdown",
   "id": "fad558cd-cc8c-49fa-aeaa-12e0767621c3",
   "metadata": {},
   "source": [
    "The converse is also rather apparent."
   ]
  },
  {
   "cell_type": "markdown",
   "id": "baaf751d-f361-49f2-b893-c11e8e7af9b3",
   "metadata": {},
   "source": [
    "$\\theorem$ Given some linearly independent set $S \\subseteq R^n$, then for any $\\arr u \\in R^n$,  such that $\\arr u \\notin span (S)$,  then $S \\cup \\set{\\arr u}$ is also linearly independent."
   ]
  },
  {
   "cell_type": "markdown",
   "id": "ced6ae98-d3f5-458b-a4d4-9d491739bab1",
   "metadata": {},
   "source": [
    "## Basis"
   ]
  },
  {
   "cell_type": "markdown",
   "id": "b83b0821-fa07-4c00-a072-49a3107d22cb",
   "metadata": {},
   "source": [
    "Suppose that we have a linearly independent set $S$ that forms a subspace in $\\mathbb R^n$.\n",
    "\n",
    "This means that any $\\arr v$ in the subspace must be a linearly combination of $S$.\n",
    "And we assert that the coefficients must be unique."
   ]
  },
  {
   "cell_type": "markdown",
   "id": "abfda642-788b-4679-828f-4883ed2ecbef",
   "metadata": {
    "tags": []
   },
   "source": [
    "<details>\n",
    "<summary style=\"color: blue\">$\\proof$ (Click to expand)</summary>\n",
    "    <div style=\"background: aliceblue\">\n",
    "        Suppose that for $\\arr v$, we can express it as both $\\sum c_i \\arr u_i$ and $\\sum d_i \\arr u_i$.\n",
    "        Then $\\sum c_i \\arr u_i - \\sum d_i \\arr u_i = \\sum (c_i - d_i) \\arr u_i = \\arr v - \\arr v = 0$.\n",
    "        Since $S$ is linearly independent, the homogeneous system has only the trivial solution, thus all the coefficients $c_i - d_i =0$.\n",
    "        Therefore $c_i = d_i$, which means it is unique.\n",
    "        $$QED$$\n",
    "    </div>\n",
    "</details>"
   ]
  },
  {
   "cell_type": "markdown",
   "id": "18ca9aac-b2cb-4439-a823-5878794f5763",
   "metadata": {},
   "source": [
    "This is a special set that we call a **basis**"
   ]
  },
  {
   "cell_type": "markdown",
   "id": "8b9c23bd-dc76-4b7f-a149-2c5fa893adf7",
   "metadata": {},
   "source": [
    "Formally, given a subspace $V \\subseteq R^n$, a set $S \\subseteq V$ is a basis for $V$ if:\n",
    "1. $span(S) = V$\n",
    "2. $S$ is linearly independent"
   ]
  },
  {
   "cell_type": "markdown",
   "id": "8014d085-6ba5-4cf6-831d-8c5c2e1f6bb1",
   "metadata": {},
   "source": [
    "Note that basis are not unique, _eg_ $\\set{\\mat{1 \\\\0}, \\mat{0 \\\\1}}$ and $\\set{\\mat {1 \\\\0}  ,\\mat{0 \\\\ -1}}$ would both be a basis for the same subspace."
   ]
  },
  {
   "cell_type": "markdown",
   "id": "1e89e182-1164-43b2-87ee-6a570a1481fc",
   "metadata": {},
   "source": [
    "Recall that [the solution set to a homogeneous system is a subspace](#solution-set-subspace).\n",
    "Suppose that the solution set $V$ is in the form of \n",
    "$$\n",
    "s_1 \\arr u_1 + s_2 \\arr u_2 + \\cdots + s_k \\arr u_k, \\quad s_i \\in \\mathbb R\n",
    "$$"
   ]
  },
  {
   "cell_type": "markdown",
   "id": "3cb4a5f5-c458-44f2-80f7-a6ace654ea6c",
   "metadata": {},
   "source": [
    "$\\theorem$ $\\set{\\arr u_1, \\dots, \\arr u_k}$ forms a basis for $V$."
   ]
  },
  {
   "cell_type": "markdown",
   "id": "49e0f996-edd0-47f8-bf1a-73ce72227caf",
   "metadata": {},
   "source": [
    "$\\theorem$ A set $S = \\set{u_1, \\dots u_k} \\subseteq \\mathbb R^n$ is a basis for $\\mathbb R^n$ if and only if $k = n$ and $\\arr A = \\mat{\\arr u_1 & \\arr u_2 & \\cdots & \\arr u_n}$ is invertible."
   ]
  },
  {
   "cell_type": "markdown",
   "id": "b56a08a8-d31d-4a98-bc59-3981c7a33f88",
   "metadata": {
    "tags": []
   },
   "source": [
    "<details>\n",
    "<summary style=\"color: blue\">$\\proof$ (Click to expand)</summary>\n",
    "    <div style=\"background: aliceblue\">\n",
    "        If $k < n$, then $S$ cannot span $\\mathbb R^n$.\n",
    "        If $k > n$, then $S$ is linearly dependent and thus not a basis.\n",
    "        Thus, $\\arr A$ must be square.\n",
    "        <br>\n",
    "        $S$ is linearly independent $\\Leftrightarrow \\arr A$ cannot have a non-pivot column $\\Leftrightarrow$ $\\arr A$ is invertible.\n",
    "        $$QED$$\n",
    "    </div>\n",
    "</details>"
   ]
  },
  {
   "cell_type": "markdown",
   "id": "0d3c77af-57d1-47f8-9221-a71056664dc8",
   "metadata": {},
   "source": [
    "$\\corollary$ A square matrix $\\arr A$ of order $n$ is invertible if and only if its columns forms a basis for $\\mathbb R^n$."
   ]
  },
  {
   "cell_type": "markdown",
   "id": "3d326f63-a7e5-4514-9271-e61a33754d7e",
   "metadata": {},
   "source": [
    "$\\corollary$ A square matrix $\\arr A$ of order $n$ is invertible if and only if its rows forms a basis for $\\mathbb R^n$."
   ]
  },
  {
   "cell_type": "markdown",
   "id": "227acbcd-a6e7-47de-a46e-19077551cf3e",
   "metadata": {},
   "source": [
    "These are 7th in our [pool of equivalence](./pool_of_equivalence.ipynb)."
   ]
  },
  {
   "cell_type": "markdown",
   "id": "0dabe4e3-de49-447e-874c-b9a876f54b16",
   "metadata": {},
   "source": [
    "### Relative coordinates"
   ]
  },
  {
   "cell_type": "markdown",
   "id": "25eecc89-5607-48a4-aefb-5d22fa7aeffa",
   "metadata": {},
   "source": [
    "$\\theorem$ Given $S$ that is a basis for $V$, then every vector in $V$ can be written as a linear combination of vectors in $S$ uniquely."
   ]
  },
  {
   "cell_type": "markdown",
   "id": "52f3a742-a85a-4eb3-8e64-b6d0577ac9ff",
   "metadata": {},
   "source": [
    "Thus, given any $arr v \\in V$, we can write it as\n",
    "$$\n",
    "\\arr v = c_1 \\arr u_1 + \\cdots + c_k \\arr u_k, \\quad \\arr u_i \\in S\n",
    "$$"
   ]
  },
  {
   "cell_type": "markdown",
   "id": "83e7b8b7-3be5-40b5-9394-78972270cd73",
   "metadata": {},
   "source": [
    "Since $c_i$ are coefficients, we can view this as expressing $\\arr v$ using $S$ as the new coordinate system.\n",
    "Hence, the vector in $\\mathbb R^k$ which correspond to the coordinates of $\\arr v$ relative to basis $S$ is defined as:\n",
    "$$\n",
    "(\\arr v)_S = \\mat{c_1 \\\\ c_2 \\\\ \\vdots \\\\ c_k}\n",
    "$$"
   ]
  },
  {
   "cell_type": "markdown",
   "id": "cb59f340-6093-4bdd-bc36-a60c3617df34",
   "metadata": {},
   "source": [
    "Hence, we are representing each vectors $v \\in \\mathbb R^n$ as $k$ coordinates, which corresponds to the coefficients of the respective vectors in the basis."
   ]
  },
  {
   "cell_type": "markdown",
   "id": "bebf279d-eb50-41c0-b693-8118dacc8f23",
   "metadata": {},
   "source": [
    "For example, in the standard basis $E$, every vector's coordinate relative to $E$ is itself, _ie_ $(\\arr v)_E = \\arr v$."
   ]
  },
  {
   "cell_type": "markdown",
   "id": "50828941-3d29-4399-84e5-a3894db32167",
   "metadata": {},
   "source": [
    "Suppose that $\\arr v = \\mat{1 \\\\ 3 \\\\ 0}$.\n",
    "If $S = \\set{\\mat{1 \\\\ 0 \\\\ 0}, \\mat{1 \\\\ 1 \\\\0}}$, then $\\arr v = -2 \\mat{1 \\\\ 0 \\\\ 0} + 3 \\mat{1 \\\\ 1 \\\\ 0} \\Rightarrow (\\arr v)_S = \\mat{-2 \\\\ 3}$.\n",
    "Notice that even though $\\arr v$ requires 3 values to represent it in $\\mathbb R^n$, we represented it with 2 values when it is relative to $S$."
   ]
  },
  {
   "cell_type": "markdown",
   "id": "70683ba6-783f-40aa-b64c-4e1839415ee8",
   "metadata": {},
   "source": [
    "Note that the order of the columns in the basis matters, because of $S = \\set{\\mat{1 \\\\ 1 \\\\ 0}, \\mat{1 \\\\ 0 \\\\ 0}}$ instead, then $(\\arr v)_S = \\mat{3 \\\\ -2}$."
   ]
  },
  {
   "cell_type": "markdown",
   "id": "8fc489c6-ca67-4566-a9fd-6ffccb2105e3",
   "metadata": {},
   "source": [
    "#### Finding coordinates"
   ]
  },
  {
   "cell_type": "markdown",
   "id": "8180889c-e34e-4917-9ebb-c7ed6d59688d",
   "metadata": {},
   "source": [
    "Given $\\arr v \\in V$, we are finding $c_i$ such that:\n",
    "$$\n",
    "c_1 \\arr u_1 + c_2 \\arr u_2 + \\cdots + c_k \\arr u_k = \\arr v\n",
    "$$\n",
    "In order words, we are solving the linear system of $\\arr A\\arr c = \\arr v$, where $\\arr A = \\mat{\\arr u_1 & \\cdots & \\arr u_k} $"
   ]
  },
  {
   "cell_type": "markdown",
   "id": "e6a3dc48-39d2-4595-b56c-783ac01964c3",
   "metadata": {},
   "source": [
    "If $\\set{ \\arr u_1, \\dots, \\arr u_k}$ is a basis, then the coordinate is simply the **unique** solution to the system."
   ]
  },
  {
   "cell_type": "code",
   "execution_count": 24,
   "id": "f2e627ec-eb4c-4551-82d8-ae63d44986fa",
   "metadata": {},
   "outputs": [
    {
     "data": {
      "text/plain": [
       "(array([[1., 0.],\n",
       "        [0., 1.],\n",
       "        [0., 0.]]),\n",
       " array([[-2.],\n",
       "        [ 3.],\n",
       "        [ 0.]]))"
      ]
     },
     "execution_count": 24,
     "metadata": {},
     "output_type": "execute_result"
    }
   ],
   "source": [
    "gauss_jordan_elim(np.array([1, 1, 0, 1, 0, 0]).reshape((3, 2)), np.array([1, 3, 0]).reshape((3, 1)))"
   ]
  },
  {
   "cell_type": "markdown",
   "id": "00db89ae-b29a-4e02-a028-fe465dc14139",
   "metadata": {},
   "source": [
    "### Dimension"
   ]
  },
  {
   "cell_type": "markdown",
   "id": "c7ec9108-8275-47ef-ac93-02aabaf09bb1",
   "metadata": {},
   "source": [
    "$\\theorem$ Given two sets which are both basis for some subspace $V$, then they must have the same size."
   ]
  },
  {
   "cell_type": "markdown",
   "id": "b95e9b7e-fa64-4929-a5fe-b959c3e4b5e2",
   "metadata": {},
   "source": [
    "We term the required size of the basis to be the **dimension** of the subspace, denoted as $dim(V)$."
   ]
  },
  {
   "cell_type": "markdown",
   "id": "7c9ff9c0-71ed-471f-bde8-5f1e7e68f25d",
   "metadata": {},
   "source": [
    "#### Examples"
   ]
  },
  {
   "cell_type": "markdown",
   "id": "a216a8f1-8798-4b59-b917-5db061a16c3a",
   "metadata": {},
   "source": [
    "$\\mathbb R^n$ has $n$ dimensions."
   ]
  },
  {
   "cell_type": "markdown",
   "id": "36d8acfe-5a51-4fc4-8b62-fa4b208ab878",
   "metadata": {},
   "source": [
    "The $xy$-plane in $\\mathbb R^3$  is a 2-dimensional subspace of $\\mathbb R^3$ (3-dimensional)."
   ]
  },
  {
   "cell_type": "markdown",
   "id": "bb540ebd-5b8e-4661-b1da-de8fa40234a8",
   "metadata": {},
   "source": [
    "The zero space is $0$-dimensional, as its basis is the empty set."
   ]
  },
  {
   "cell_type": "markdown",
   "id": "2249ec31-1c71-4aec-b198-dcd5a39788b4",
   "metadata": {},
   "source": [
    "Rewording our previous findings, we get:"
   ]
  },
  {
   "cell_type": "markdown",
   "id": "5774376f-7de1-4132-9b50-ced886db1d82",
   "metadata": {},
   "source": [
    "$\\theorem$ Any set of vectors of size greater than $k$, taken from a $k$-dimensional subspace must be linearly dependent."
   ]
  },
  {
   "cell_type": "markdown",
   "id": "2498d28c-de11-4dbb-9df2-222f0dac3232",
   "metadata": {},
   "source": [
    "$\\theorem$ Any set of vectors of size less than $k$, taken from a $k$-dimensional subspace cannot span the subspace."
   ]
  },
  {
   "cell_type": "markdown",
   "id": "5542672e-3229-49da-9ad4-63ad152a5831",
   "metadata": {},
   "source": [
    "$\\theorem$ The number of non-pivot columns in the reduced row-echelon form of $\\arr A$ is the dimension of the following solution space:\n",
    "$$\n",
    "\\set{ \\arr u \\in \\mathbb R^n \\middle | \\arr {Au} = \\arr 0}\n",
    "$$"
   ]
  },
  {
   "cell_type": "markdown",
   "id": "3cf30246-63bd-4c6a-89eb-22038eeabd88",
   "metadata": {},
   "source": [
    "$\\lemma$ Given $U, V \\subseteq R^n$, $U \\subseteq V$, then $dim(U) \\leq dim(V)$, where equality holds if and only if $U = V$."
   ]
  },
  {
   "cell_type": "markdown",
   "id": "b8cef974-dfab-4fef-97fd-f3414932d392",
   "metadata": {},
   "source": [
    "$\\theorem$ Given a $k$-dimensional subspace $V$, if $S$ is a set of $k$ linearly independent vectors in $V$, then $S$ is a basis of $V$."
   ]
  },
  {
   "cell_type": "markdown",
   "id": "57f86d01-eea4-4c98-aeaa-b328d5350686",
   "metadata": {},
   "source": [
    "$\\theorem$ Given a $k$-dimensional subspace $V$, if $S$ is a set of $k$ vectors such that $V \\subseteq span(S)$, then $S$ is a basis of $V$."
   ]
  },
  {
   "cell_type": "code",
   "execution_count": null,
   "id": "07de3034-7d84-4596-a027-2e34303d2afe",
   "metadata": {},
   "outputs": [],
   "source": []
  }
 ],
 "metadata": {
  "kernelspec": {
   "display_name": "Python 3 (ipykernel)",
   "language": "python",
   "name": "python3"
  },
  "language_info": {
   "codemirror_mode": {
    "name": "ipython",
    "version": 3
   },
   "file_extension": ".py",
   "mimetype": "text/x-python",
   "name": "python",
   "nbconvert_exporter": "python",
   "pygments_lexer": "ipython3",
   "version": "3.10.4"
  }
 },
 "nbformat": 4,
 "nbformat_minor": 5
}
