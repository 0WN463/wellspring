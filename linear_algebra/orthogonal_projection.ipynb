{
 "cells": [
  {
   "cell_type": "markdown",
   "id": "630bd86c-1da8-4c12-aa61-4f025a70a5df",
   "metadata": {
    "run_control": {
     "frozen": true
    },
    "tags": []
   },
   "source": [
    "$$\n",
    "\\newcommand{theorem}{\\textbf{Theorem: }}\n",
    "\\newcommand{proof}{\\textbf{Proof: }}\n",
    "\\newcommand{lemma}{\\textbf{Lemma: }}\n",
    "\\newcommand{corollary}{\\textbf{Corollary: }}\n",
    "\\newcommand{prop}{\\textbf{Proposition: }}\n",
    "$$"
   ]
  },
  {
   "cell_type": "markdown",
   "id": "226206a1-d2ac-4222-b4a5-656b245160e2",
   "metadata": {},
   "source": [
    "$$\n",
    "\\newcommand{arr}{\\mathbf}\n",
    "\\newcommand{inv}{^{-1}}\n",
    "\\newcommand\\mat[1]{\\begin{pmatrix}#1\\end{pmatrix}} \n",
    "\\newcommand\\det[1]{\\left| #1\\right|} \n",
    "\\newcommand\\norm[1]{\\lVert #1\\rVert} \n",
    "\\newcommand\\set[1]{\\left\\{#1\\right\\}} \n",
    "$$"
   ]
  },
  {
   "cell_type": "code",
   "execution_count": 1,
   "id": "1d048193-2eb8-4423-80be-7cfcefb50110",
   "metadata": {
    "editable": false,
    "run_control": {
     "frozen": true
    }
   },
   "outputs": [],
   "source": [
    "import sys\n",
    "\n",
    "sys.path.append(\"..\")"
   ]
  },
  {
   "cell_type": "code",
   "execution_count": 2,
   "id": "56cb7497-6fcb-4382-86e7-351e5d1be46b",
   "metadata": {},
   "outputs": [],
   "source": [
    "import numpy as np\n",
    "import matplotlib.pyplot as plt\n",
    "from module.elimination import gauss_jordan_elim, gaussian_elim\n",
    "from module.utility import print_arr, frac_arr\n",
    "from common.utility import show_implementation"
   ]
  },
  {
   "cell_type": "markdown",
   "id": "2490b3d0-1d6d-4326-8f04-ee7895849a49",
   "metadata": {},
   "source": [
    "# Orthogonal projection"
   ]
  },
  {
   "cell_type": "markdown",
   "id": "38ae45d1-9920-4f63-a5a4-075c982a25ec",
   "metadata": {},
   "source": [
    "## Orthogonal basis"
   ]
  },
  {
   "cell_type": "markdown",
   "id": "00fdae00-359f-40d5-a7f0-8e18113e8f3a",
   "metadata": {
    "tags": []
   },
   "source": [
    "$\\theorem$:\n",
    "A [orthogonal set](./euclidean_space.ipynb#Orthogonality) set  of nonzero vectors is [linearly independent](./euclidean_space.ipynb#Linear-independence).\n",
    "\n",
    "<details>\n",
    "<summary style=\"color: blue\">$\\proof$ (Click to expand)</summary>\n",
    "    <div style=\"background: aliceblue\">\n",
    "        Suppose that it is not linearly independent.\n",
    "        Then there exists coefficients $c_i$'s such that\n",
    "        $$\n",
    "        c_1 \\arr u_1 + c_2 \\arr u_2 \\cdots + c_k \\arr u_k = \\arr 0 \n",
    "        $$\n",
    "        Now we consider any $\\arr u_j$.\n",
    "        Notice that \n",
    "        $$\n",
    "        \\begin{align}\n",
    "        0 = &\\arr u_j \\cdot \\arr 0 = \\arr u_j \\cdot (\\sum _{i = 1} ^ k c_i \\arr u_i) \\\\\n",
    "        &= \\sum _{i = 1} ^ k c_i (\\arr u_i \\cdot \\arr u_j)) \\\\ \n",
    "        &= c_j \\arr u_j \\cdot \\arr u_j \\quad \\text{all others are zero vectors due to orthogonality} \\\\\n",
    "        \\end{align}\n",
    "        $$\n",
    "        But this is a contradiction as we required $\\arr u_j$ to be nonzero.\n",
    "        $$QED$$\n",
    "    </div>\n",
    "</details>"
   ]
  },
  {
   "cell_type": "markdown",
   "id": "fe040d70-a21e-4659-8a51-24c8a5a4c8f8",
   "metadata": {
    "tags": []
   },
   "source": [
    "$\\corollary$:\n",
    "A orthogonal set with $k$ non-zero vectors in $V \\subseteq \\mathbb R^n$ is an orthogonal basis for $V$."
   ]
  },
  {
   "cell_type": "markdown",
   "id": "d37b0a16-2bad-42d4-ad6d-5c6c4f6bd111",
   "metadata": {},
   "source": [
    "## Coordinates"
   ]
  },
  {
   "cell_type": "markdown",
   "id": "76b03cfe-ecd0-4fd6-938e-6f2dd068122e",
   "metadata": {},
   "source": [
    "The coordinates in an orthogonal basis is easy to compute."
   ]
  },
  {
   "cell_type": "markdown",
   "id": "bc32f712-4c21-4494-a177-0e0e8441bee6",
   "metadata": {
    "tags": []
   },
   "source": [
    "$\\theorem$:\n",
    "Given $S = \\set{\\arr u_1, \\cdots, \\arr u_k}$ which is an orthogonal basis of $V \\subseteq \\mathbb R^n$, then for any $\\arr v \\in V$, the coordinate in $S$ is:\n",
    "$$\n",
    "(\\arr v)_S = \\mat{(\\arr v \\cdot \\arr u_1) / \\norm{\\arr u_1}^2 \\\\ (\\arr v \\cdot \\arr u_2) / \\norm{\\arr u_2}^2 \\\\ \\vdots \\\\ (\\arr v \\cdot \\arr u_k) / \\norm{\\arr u_k}^2 }\n",
    "$$\n",
    "<details>\n",
    "<summary style=\"color: blue\">$\\proof$ (Click to expand)</summary>\n",
    "    <div style=\"background: aliceblue\">\n",
    "        Since $S$ is a basis, we can express $\\arr v$ as \n",
    "        $$\n",
    "        \\arr v = c_1 \\arr u_1 + c_2 \\arr u_2 \\cdots + c_k \\arr u_k\n",
    "        $$\n",
    "        Now we consider any $\\arr u_j$.\n",
    "        Notice that \n",
    "        $$\n",
    "        \\begin{align}\n",
    "        \\arr u_j \\cdot \\arr v &= \\arr u_j \\cdot (\\sum _{i = 1} ^ k c_i \\arr u_i) \\\\\n",
    "        &= c_j \\arr u_j \\cdot \\arr u_j \\quad \\text{by similar logic of previous proof} \\\\\n",
    "        &= c_j \\norm{\\arr u_j}^2 \\\\\\\\\n",
    "        \\Rightarrow c_i &= \\frac{\\arr u_j \\cdot \\arr v}{\\norm{\\arr u_j}^2}\n",
    "        \\end{align}\n",
    "        $$\n",
    "        $$QED$$\n",
    "    </div>\n",
    "</details>"
   ]
  },
  {
   "cell_type": "markdown",
   "id": "f8173d0d-e6b0-4421-92a2-aa22abf88b5d",
   "metadata": {
    "tags": []
   },
   "source": [
    "$\\corollary$:\n",
    "If $S$ was also orthonormal, then \n",
    "$$\n",
    "(\\arr v)_S = \\mat{(\\arr v \\cdot \\arr u_1) \\\\ (\\arr v \\cdot \\arr u_2)  \\\\ \\vdots \\\\ (\\arr v \\cdot \\arr u_k) }\n",
    "$$"
   ]
  },
  {
   "cell_type": "markdown",
   "id": "5effdf24-76b5-498a-951b-9c18209652b2",
   "metadata": {},
   "source": [
    "## Orthogonal to subspace"
   ]
  },
  {
   "cell_type": "markdown",
   "id": "ff0d95f4-a186-482b-ba89-1ceac27aacec",
   "metadata": {},
   "source": [
    "Given some subspace $V \\subseteq \\mathbb R^n$, a vector $\\arr n \\in \\mathbb R^n$ is orthogonal to $V$ if every $\\arr v \\in V$ is orthogonal to it, _ie_ $\\arr n \\cdot \\arr v = 0$.\n",
    "We denote this as $\\arr n \\perp V$."
   ]
  },
  {
   "cell_type": "markdown",
   "id": "082654fb-c5d6-4287-b634-4f7c3452d27b",
   "metadata": {},
   "source": [
    "$\\arr 0 \\perp V$ for any subspace $V$."
   ]
  },
  {
   "cell_type": "markdown",
   "id": "419313c7-7652-4b43-9cd5-50d00a2c1534",
   "metadata": {},
   "source": [
    "$V = span \\set{\\mat{1 \\\\0 \\\\ 0}, \\mat{0 \\\\ 1\\\\ 0}} \\perp \\mat{0 \\\\ 0 \\\\1}$."
   ]
  },
  {
   "cell_type": "markdown",
   "id": "bbb8384d-c1bd-40b6-9657-e37bf15c408b",
   "metadata": {
    "tags": []
   },
   "source": [
    "$\\theorem$:\n",
    "Let $V \\subseteq \\mathbb R^n$ and $S = \\set{\\arr u_1, \\dots, \\arr u_k}$ be the basis for $V$, then $\\arr w \\perp V$ if and only if $\\arr w \\in Null(\\arr A^T)$, where $\\arr A = \\mat{\\arr u_1 & \\cdots & \\arr u_k}$.\n",
    "<details>\n",
    "<summary style=\"color: blue\">$\\proof$ (Click to expand)</summary>\n",
    "    <div style=\"background: aliceblue\">\n",
    "        $\\arr w \\cdot \\arr v = 0$ for all $\\arr v \\in V$ $\\Leftrightarrow \\arr v^T \\arr w = 0$.\n",
    "        This implies that $\\arr u_i^T \\arr w = 0$ since $\\arr v$ is a linear combination of $\\arr u_i$'s.\n",
    "        Hence, $$\\mat{\\arr u_1^T \\\\ \\arr u_2^T \\\\ \\vdots \\\\ \\arr u^T_k} \\arr w = \\arr A^T \\arr w= \\arr 0$$\n",
    "        $$QED$$\n",
    "    </div>\n",
    "</details>"
   ]
  },
  {
   "cell_type": "markdown",
   "id": "1a68e6bd-c17d-4c78-acb2-0f643a8dafa6",
   "metadata": {},
   "source": [
    "## Orthogonal projection"
   ]
  },
  {
   "cell_type": "markdown",
   "id": "f4b46186-a98f-40e0-b3e0-72008b58e357",
   "metadata": {
    "tags": []
   },
   "source": [
    "$\\theorem$:\n",
    "Let $V \\subseteq \\mathbb R^n$ be a subspace.\n",
    "Every vector $\\arr w \\in \\mathbb R^n$ can be expressed uniquely as\n",
    "$$\n",
    "\\arr w = \\arr w_p + \\arr w_n\n",
    "$$\n",
    "where $\\arr w_n$ is orthogonal to $V$ and $\\arr w_p \\in V$.\n",
    "\n"
   ]
  },
  {
   "cell_type": "markdown",
   "id": "bc4bc105-89ee-488e-b299-a19fe065f617",
   "metadata": {},
   "source": [
    "The unique vector $\\arr w_p$ is call the **orthogonal projection** of $\\arr w$ onto $V$."
   ]
  },
  {
   "cell_type": "markdown",
   "id": "9574a7a8-bc31-4a68-9151-8ba1dcdbb22d",
   "metadata": {},
   "source": [
    "If $\\arr S = \\set{\\arr u_1, \\dots, \\arr u_k}$ is an orthonormal basis for $V$, then\n",
    "$$\n",
    "\\arr w_p = (\\arr w \\cdot \\arr u_1) \\arr u_1 + (\\arr w \\cdot \\arr u_2) \\arr u_2 + \\cdots + (\\arr w \\cdot \\arr u_k) \\arr u_k\n",
    "$$"
   ]
  },
  {
   "cell_type": "markdown",
   "id": "2f9cc9e8-abc4-4e56-a66b-4eb4c615dbb0",
   "metadata": {},
   "source": [
    "We can see that $\\arr w_p \\in V$ because it is a linear combination of $\\arr u_i$'s."
   ]
  },
  {
   "cell_type": "markdown",
   "id": "dc17f1bc-bb96-4fbd-b739-cd7a596595c3",
   "metadata": {},
   "source": [
    "And we note that for any vector $\\arr u_i$ in the basis,\n",
    "\n",
    "$$\n",
    "\\begin{align}\n",
    "\\arr w_n &= \\arr w - \\arr w _p \\\\ \n",
    "\\arr w_n \\cdot \\arr u_i &= \\arr w \\cdot \\arr u_i - \\arr w _p \\cdot \\arr u _i \\\\ \n",
    "&= \\arr w \\cdot \\arr u_i - \\sum_{j = 1}^k  (\\arr w \\cdot \\arr u_j) \\arr u_j \\cdot \\arr u_i  \\\\ \n",
    "&= \\arr w \\cdot \\arr u_i - (\\arr w \\cdot \\arr u_i) \\arr u_i \\cdot \\arr u_i  \\qquad (\\text{other values are 0 due to orthogonality of basis})\\\\ \n",
    "&= \\arr w \\cdot \\arr u_i - (\\arr w \\cdot \\arr u_i) \\qquad (\\arr u_i \\cdot \\arr u_i = 0 \\text{ due to it being a normal vector})\\\\ \n",
    "&= 0 \n",
    "\\end{align}\n",
    "$$\n",
    "which means $\\arr w_n$ is indeed orthogonal to $V$.\n"
   ]
  },
  {
   "cell_type": "code",
   "execution_count": 3,
   "id": "4195e0f3-a257-4095-847c-a9ac91b7c2b1",
   "metadata": {},
   "outputs": [
    {
     "data": {
      "image/png": "[encoded data removed]",
      "text/plain": [
       "<Figure size 640x480 with 1 Axes>"
      ]
     },
     "metadata": {},
     "output_type": "display_data"
    }
   ],
   "source": [
    "plt.axis('scaled')\n",
    "plt.xlim(-0.5, 5.5)\n",
    "plt.ylim(-0.5, 5.5)\n",
    "plt.arrow(0, 0, 3, 5, head_width=0.1, length_includes_head=True)\n",
    "plt.plot([-1, 6], [-1, 6])\n",
    "plt.annotate(r'$V$', (2, 1.5))\n",
    "plt.annotate(r'$(3, 5)$', (3, 5.1))\n",
    "plt.show()"
   ]
  },
  {
   "cell_type": "markdown",
   "id": "5bb33014-6bd5-46aa-bf77-9ce5e7230048",
   "metadata": {},
   "source": [
    "From above, our subspace is 1-dimensional, while our $\\arr w  = \\mat{3 \\\\ 5} \\in \\mathbb R^2$.\n",
    "(Our basis would be $\\set{\\frac{1}{\\sqrt 2} \\mat{1 \\\\ 1}}$)."
   ]
  },
  {
   "cell_type": "markdown",
   "id": "e5a1b83f-4a42-4f9c-989b-5bfb9b4fb625",
   "metadata": {},
   "source": [
    "$\\arr w_p$ would be $(\\arr w \\cdot \\arr u_1) \\arr u_1 = \\frac{3 + 5}{\\sqrt 2} \\left(\\frac{1}{\\sqrt 2} \\mat{1 \\\\ 1} \\right) = \\mat{4 \\\\ 4}$.\n",
    "\n",
    "And $\\arr w_n = \\mat{3 \\\\ 5} - \\mat{4 \\\\ 4} = \\mat{-1 \\\\ 1}$."
   ]
  },
  {
   "cell_type": "markdown",
   "id": "219b994d-8da7-4420-8765-a9dee19f67d8",
   "metadata": {},
   "source": [
    "Visually, it would be as per below:"
   ]
  },
  {
   "cell_type": "code",
   "execution_count": 4,
   "id": "a9708c8b-6bcc-4f68-8b7c-b2c065a433c7",
   "metadata": {},
   "outputs": [
    {
     "data": {
      "image/png": "[encoded data removed]",
      "text/plain": [
       "<Figure size 640x480 with 1 Axes>"
      ]
     },
     "metadata": {},
     "output_type": "display_data"
    }
   ],
   "source": [
    "plt.axis('scaled')\n",
    "plt.xlim(-0.5, 5.5)\n",
    "plt.ylim(-0.5, 5.5)\n",
    "plt.arrow(0, 0, 3, 5, head_width=0.1, length_includes_head=True)\n",
    "plt.plot([-1, 6], [-1, 6])\n",
    "plt.arrow(0, 0, 4, 4, width=0.05, head_width=0.2, length_includes_head=True,color='black')\n",
    "plt.annotate(r'${\\bf w}_p$', (2, 1.8))\n",
    "plt.annotate(r'${\\bf w}_n$', (3.5, 4.5))\n",
    "plt.arrow(4, 4, -1, 1, width=0.05, head_width=0.2, length_includes_head=True,color='black')\n",
    "plt.show()"
   ]
  },
  {
   "cell_type": "markdown",
   "id": "fbf90ded-df04-433c-aad6-cf4d9f57e1a9",
   "metadata": {},
   "source": [
    "## Gram-Schmidt process"
   ]
  },
  {
   "cell_type": "markdown",
   "id": "aee06c8b-ae57-42bd-89dc-4e9167574bf8",
   "metadata": {},
   "source": [
    "Given some basis, it would be beneficial for us to construct an orthonormal basis that spans the same subspace, seeing previously that it is easier to work with orthonormal basis."
   ]
  },
  {
   "cell_type": "markdown",
   "id": "24afb6ba-7335-469d-959e-f2db50593ede",
   "metadata": {},
   "source": [
    "The **Gram-Schmidt process** allows us to do just that."
   ]
  },
  {
   "cell_type": "markdown",
   "id": "4c4b594d-4788-43c4-9dd3-f73dccad792e",
   "metadata": {},
   "source": [
    "It is an iterative algorithm which produces us an orthogonal basis from some basis $S = \\set{\\arr u_1, \\dots, \\arr u_k}$:\n",
    "1. Let $S' = \\set{u_1}$\n",
    "2. For each $\\arr u_i$ for $2 \\leq u \\leq k$:\n",
    "    1. Find $\\arr w_p$ by projecting $\\arr u_i$ onto $S'$\n",
    "    2. Find $\\arr w_n = \\arr u_i - \\arr w_p$\n",
    "    3. Add $\\arr w_n$ to $S'$\n",
    "3. $S'$ will be the orthogonal basis"
   ]
  },
  {
   "cell_type": "markdown",
   "id": "7e0bb0d2-e55d-4434-a16f-009f123982aa",
   "metadata": {},
   "source": [
    "If we want an orthonormal basis, we simply normalize $S'$."
   ]
  },
  {
   "cell_type": "code",
   "execution_count": 5,
   "id": "7599c5c1-3199-4fc3-b749-e29b0ef2be0c",
   "metadata": {},
   "outputs": [],
   "source": [
    "def norm(u):\n",
    "    return np.sum(u ** 2)\n",
    "def project(w:np.ndarray, S: [np.ndarray]) -> np.ndarray:\n",
    "    return np.sum([np.dot(w, u) * u / norm(u) for u in S], axis=0)"
   ]
  },
  {
   "cell_type": "code",
   "execution_count": 6,
   "id": "e3ed605b-1da1-439e-b826-a9abbf0332a3",
   "metadata": {},
   "outputs": [],
   "source": [
    "def gram_schmidt(S: [np.ndarray]) -> [np.ndarray]:\n",
    "    Sp = [S[0]]\n",
    "    \n",
    "    for u in S[1:]:\n",
    "        v = u - project(u, Sp)\n",
    "        Sp.append(v)\n",
    "    \n",
    "    return Sp"
   ]
  },
  {
   "cell_type": "code",
   "execution_count": 7,
   "id": "23249396-5606-4e77-862b-31a251df9866",
   "metadata": {},
   "outputs": [
    {
     "name": "stdout",
     "output_type": "stream",
     "text": [
      "1\t2\t1\n",
      "1/3\t-1/3\t1/3\n",
      "-1/2\t0\t1/2\n"
     ]
    }
   ],
   "source": [
    "u1 = frac_arr([1, 2, 1])\n",
    "u2 = frac_arr([1, 1, 1])\n",
    "u3 = frac_arr([1, 1, 2])\n",
    "print_arr(gram_schmidt([u1, u2, u3]))"
   ]
  },
  {
   "cell_type": "markdown",
   "id": "71a7222c-5432-4d06-b2d5-6f5b3f42bc8c",
   "metadata": {},
   "source": [
    "Hence, one way of obtaining a orthogonal projection given some $\\arr w$ and basis $S$, is to obtain an orthonormal projection via Gram-Schmidt process, then finding the projection using the orthonormal projection."
   ]
  },
  {
   "cell_type": "markdown",
   "id": "ccce71e9-dbad-495f-94e4-fad08b78fa3d",
   "metadata": {},
   "source": [
    "## Least squares approximation"
   ]
  },
  {
   "cell_type": "markdown",
   "id": "4c4bc3bd-0055-4e89-bfc8-ce886c8616f1",
   "metadata": {},
   "source": [
    "Suppose that we have some experimental data, which consists of inputs $\\arr A$ and outputs $\\arr b$."
   ]
  },
  {
   "cell_type": "markdown",
   "id": "3862ace3-4dfe-47b9-bcc3-8c118594911f",
   "metadata": {},
   "source": [
    "We wish to find the solution $\\arr x$ such that $\\arr {Ax} = \\arr b$."
   ]
  },
  {
   "cell_type": "markdown",
   "id": "833441e0-7b16-4512-bc31-3553af1f36e1",
   "metadata": {},
   "source": [
    "However, in real life, there are minute errors in the measurements which leads to there being no solution to the system of $\\arr {Ax} = \\arr b$.\n",
    "For example, suppose that our theoretical system is as per below:\n",
    "$$\n",
    "x + y = 3 \\\\\n",
    "2x + y = 4 \\\\\n",
    "x + 2y = 5 \\\\\n",
    "$$\n",
    "where the solution is $x = 1, y = 2$."
   ]
  },
  {
   "cell_type": "code",
   "execution_count": 8,
   "id": "5fa8afe3-d2e9-4adf-9a54-e5af1b8ade15",
   "metadata": {},
   "outputs": [
    {
     "name": "stdout",
     "output_type": "stream",
     "text": [
      "1\t0 \t | 1\n",
      "0\t1 \t | 2\n",
      "0\t0 \t | 0\n"
     ]
    }
   ],
   "source": [
    "A = frac_arr([1, 1, 2, 1, 1, 2]).reshape((3, 2))\n",
    "b = frac_arr([3, 4, 5]).reshape((3, 1))\n",
    "\n",
    "print_arr(*gauss_jordan_elim(A, b))"
   ]
  },
  {
   "cell_type": "markdown",
   "id": "6f27d871-5d16-4389-bd71-c410c82de181",
   "metadata": {},
   "source": [
    "However, even a slight error will cause there to be no solution to our system:\n",
    "$$\n",
    "x + y = 3 \\\\ \n",
    "2x + y = 4.1 \\\\ \n",
    "x + 2y = 5 \\\\ \n",
    "$$"
   ]
  },
  {
   "cell_type": "code",
   "execution_count": 9,
   "id": "88e9d27b-86fc-4007-b17c-09ff64416145",
   "metadata": {},
   "outputs": [
    {
     "name": "stdout",
     "output_type": "stream",
     "text": [
      "1\t0 \t | 1.0999999999999996\n",
      "0\t1 \t | 1.9000000000000004\n",
      "0\t0 \t | 0.09999999999999964\n"
     ]
    }
   ],
   "source": [
    "b = np.array([3, 4.1, 5]).reshape((3, 1))\n",
    "\n",
    "print_arr(*gauss_jordan_elim(A, b))"
   ]
  },
  {
   "cell_type": "markdown",
   "id": "0c3383f5-5894-4e25-a1a1-7812603cf04a",
   "metadata": {},
   "source": [
    "Thus, finding the least squares approximation is trying to reconcile this issue, by finding the solution which fits the constraints the best."
   ]
  },
  {
   "cell_type": "markdown",
   "id": "81d346b9-3daa-4ad8-bcff-e72469de791a",
   "metadata": {},
   "source": [
    "We wish to find a consistent system $\\arr {Ax} = \\arr b'$ where $\\arr b'$ is closest to $\\arr b$.\n",
    "Note that one such solution always exists, as $\\arr b' = \\arr 0$ will be consistent (though $\\arr 0$ may not be the closest)."
   ]
  },
  {
   "cell_type": "markdown",
   "id": "21f26954-0096-467d-be48-20d463986743",
   "metadata": {
    "tags": []
   },
   "source": [
    "$\\theorem$:\n",
    "$\\arr u$ is the least square solution to $\\arr {Ax} = \\arr b$ if and only if $\\arr {Au}$ is the projection of $\\arr b$ onto $Col(\\arr A)$.\n",
    "\n",
    "<details>\n",
    "<summary style=\"color: blue\">$\\proof$ (Click to expand)</summary>\n",
    "    <div style=\"background: aliceblue\">\n",
    "        (Un-rigorously) we know that the projection of $\\arr b$ onto $Col(\\arr A)$ must give us the closest solution in the column space; because geometrically, the closest point would be orthogonal to the column space.\n",
    "        <br>\n",
    "        And we have seen previously that the projection will be in the column space.\n",
    "        <br>\n",
    "        Hence we know that $\\arr b' = \\arr {Au}$ must be the closest solution to $\\arr b$.\n",
    "            $$QED$$\n",
    "    </div>\n",
    "</details>"
   ]
  },
  {
   "cell_type": "code",
   "execution_count": 10,
   "id": "c2a99c2a-cd71-4dba-a5e4-48e46875d649",
   "metadata": {},
   "outputs": [],
   "source": [
    "from module.matrix import mult, mults, inv"
   ]
  },
  {
   "cell_type": "markdown",
   "id": "15389444-322a-48ff-af45-0c307ea97678",
   "metadata": {
    "tags": []
   },
   "source": [
    "$\\theorem$:\n",
    "$\\arr u$ is the least square solution to $\\arr {Ax} = \\arr b$ if and only if $\\arr A^T \\arr {Au} = \\arr A ^T \\arr b$.\n",
    "\n",
    "<details>\n",
    "<summary style=\"color: blue\">$\\proof$ (Click to expand)</summary>\n",
    "    <div style=\"background: aliceblue\">\n",
    "        Following the previous theorem, we know that the vector from $\\arr b$ to $\\arr b'$ must be orthogonal to the column space.\n",
    "        Therefore, \n",
    "    $$\n",
    "    \\arr b' - \\arr b \\perp Col(\\arr A)\\\\\n",
    "    \\Rightarrow \\arr {Au} - \\arr b \\perp Col(\\arr A) \\\\\n",
    "    \\Rightarrow \\arr {Au} - \\arr b \\perp  span(\\set{\\arr u_1, \\dots, \\arr u_k}\\\\\n",
    "    $$\n",
    "    <a href=\"#Orthogonal-to-subspace\"> Recall</a> that $\\arr w \\perp span (\\set{\\arr u_1, \\dots, \\arr u_k})$ if and only if $\\arr w \\in Null(\\arr A^T)$.\n",
    "    Hence,\n",
    "    $$\n",
    "    \\Rightarrow \\arr {Au} - \\arr b \\in Null(\\arr A^T)\\\\\n",
    "    \\Rightarrow \\arr A^T(\\arr {Au} - \\arr b) = \\arr 0\\\\\n",
    "    \\Rightarrow \\arr A^T\\arr {Au} - \\arr A^T \\arr b = \\arr 0\\\\\n",
    "    \\Rightarrow \\arr A^T\\arr {Au} = \\arr A^T \\arr b \\\\\n",
    "    $$\n",
    "        $$QED$$\n",
    "    </div>\n",
    "</details>"
   ]
  },
  {
   "cell_type": "code",
   "execution_count": 11,
   "id": "225cd5ae-4c5e-468c-b6d5-e3392bf48730",
   "metadata": {},
   "outputs": [
    {
     "name": "stdout",
     "output_type": "stream",
     "text": [
      "1\t0 \t | 1.0636363636363626\n",
      "0\t1 \t | 1.9636363636363645\n"
     ]
    }
   ],
   "source": [
    "print_arr(*gauss_jordan_elim(mult(A.T, A), mult(A.T, b)))"
   ]
  },
  {
   "cell_type": "markdown",
   "id": "2f74148e-cf33-4e50-9fb8-4c84a43c4443",
   "metadata": {},
   "source": [
    "(Another example is [here](../neural_network/perceptron.ipynb#Example))"
   ]
  },
  {
   "cell_type": "markdown",
   "id": "04c80224-6e93-4a94-945c-0836868c0402",
   "metadata": {},
   "source": [
    "This also gives us a way of finding an orthogonal projection without constructing an orthonormal basis."
   ]
  },
  {
   "cell_type": "markdown",
   "id": "42711b35-f250-46b9-83b3-00638310deef",
   "metadata": {
    "tags": []
   },
   "source": [
    "$\\theorem$:\n",
    "Given $S = \\set{\\arr u_1, \\dots, \\arr u_k}$ be a basis for $V \\subseteq \\mathbb R^n$, the orthogonal projection of $\\arr w \\in \\mathbb R^n$ onto $V$ is \n",
    "$$\n",
    "\\arr A( \\arr A^T \\arr A) \\inv \\arr A^T \\arr w\n",
    "$$\n",
    "where $\\arr A = \\mat{\\arr u_1 & \\arr u_2 & \\cdots  & \\arr u_k}$.\n",
    "\n",
    "<details>\n",
    "<summary style=\"color: blue\">$\\proof$ (Click to expand)</summary>\n",
    "    <div style=\"background: aliceblue\">\n",
    "        Combining the above 2 theorems, we know that if $\\arr u$ is the least square solution to $\\arr {Ax} = \\arr b$, then $\\arr {Au}$ is a projection onto $Col(\\arr A) = V$.\n",
    "        And we know that $\\arr u$ is the least square solution if and only if $\\arr A^T \\arr A \\arr u = \\arr A^T  \\arr b$.\n",
    "        $$\n",
    "        \\begin{align}\n",
    "        \\arr A^T \\arr A \\arr u &= \\arr A^T  \\arr b \\\\\n",
    "        \\arr u &= (\\arr A^T \\arr A) \\inv  \\arr A^T  \\arr b \\quad \\text{$S$ is a basis, therefore $\\arr A$ is invertible} \\\\ \n",
    "        \\arr A \\arr u &= \\arr A(\\arr A^T \\arr A) \\inv  \\arr A^T  \\arr b \n",
    "        \\end{align}\n",
    "        $$\n",
    "        $$QED$$\n",
    "    </div>\n",
    "</details>"
   ]
  },
  {
   "cell_type": "code",
   "execution_count": 12,
   "id": "9a1dab5d-ea44-4598-92d6-5d680252cb7a",
   "metadata": {},
   "outputs": [
    {
     "name": "stdout",
     "output_type": "stream",
     "text": [
      "4\n",
      "4\n"
     ]
    }
   ],
   "source": [
    "A = frac_arr([1, 1]).reshape((2, 1))\n",
    "w = frac_arr([3, 5]).reshape((2, 1))\n",
    "\n",
    "ATA_inv = inv(mult(A.T, A))\n",
    "print_arr(mults(A, ATA_inv, A.T, w))"
   ]
  },
  {
   "cell_type": "markdown",
   "id": "739bb6d7-6f88-4914-85e0-1b6a2b31d89f",
   "metadata": {},
   "source": [
    "As per our previous example, we do also get $\\mat{4 \\\\ 4}$ as the projection."
   ]
  }
 ],
 "metadata": {
  "kernelspec": {
   "display_name": "Python 3 (ipykernel)",
   "language": "python",
   "name": "python3"
  },
  "language_info": {
   "codemirror_mode": {
    "name": "ipython",
    "version": 3
   },
   "file_extension": ".py",
   "mimetype": "text/x-python",
   "name": "python",
   "nbconvert_exporter": "python",
   "pygments_lexer": "ipython3",
   "version": "3.10.8"
  }
 },
 "nbformat": 4,
 "nbformat_minor": 5
}
