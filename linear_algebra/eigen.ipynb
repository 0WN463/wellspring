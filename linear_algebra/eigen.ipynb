{
 "cells": [
  {
   "cell_type": "markdown",
   "id": "3e56de84-5f41-4dcf-9ab8-cc2ada2c2747",
   "metadata": {
    "run_control": {
     "frozen": true
    },
    "tags": []
   },
   "source": [
    "$$\n",
    "\\newcommand{theorem}{\\textbf{Theorem: }}\n",
    "\\newcommand{proof}{\\textbf{Proof: }}\n",
    "\\newcommand{lemma}{\\textbf{Lemma: }}\n",
    "\\newcommand{corollary}{\\textbf{Corollary: }}\n",
    "\\newcommand{prop}{\\textbf{Proposition: }}\n",
    "$$"
   ]
  },
  {
   "cell_type": "markdown",
   "id": "85d7f920-f84b-411a-a5b1-ba15b801e0cb",
   "metadata": {},
   "source": [
    "$$\n",
    "\\newcommand{arr}{\\mathbf}\n",
    "\\newcommand{inv}{^{-1}}\n",
    "\\newcommand\\mat[1]{\\begin{pmatrix}#1\\end{pmatrix}} \n",
    "\\newcommand\\det[1]{\\left| #1\\right|} \n",
    "\\newcommand\\norm[1]{\\lVert #1\\rVert} \n",
    "\\newcommand\\set[1]{\\left\\{#1\\right\\}} \n",
    "$$"
   ]
  },
  {
   "cell_type": "markdown",
   "id": "d305e841-4302-4c83-b1dc-924f5764d18b",
   "metadata": {},
   "source": [
    "## Motivation"
   ]
  },
  {
   "cell_type": "markdown",
   "id": "82319788-9837-4722-a841-a8c36d25d11b",
   "metadata": {},
   "source": [
    "Notice that for any square matrix $\\arr A$ of order $n$ and any $\\arr u \\in \\mathbb R^n$ , $\\arr {Au}$ is also a vector in $\\mathbb R^n$.\n",
    "Hence, we can treat $\\arr A$ as a mapping from $\\mathbb R^n \\to \\mathbb R^n$."
   ]
  },
  {
   "cell_type": "markdown",
   "id": "1c0be68e-76e6-4b23-8f12-42f17d0fc9de",
   "metadata": {},
   "source": [
    "For example, the matrix $\\mat{2 & 0 \\\\ 0 & 2}$ would map each vector in $\\mathbb R^2$ in a way that they are scaled by $2$."
   ]
  },
  {
   "cell_type": "markdown",
   "id": "3f306a0a-69ce-4c7e-99aa-c5d2d108ab55",
   "metadata": {},
   "source": [
    "Now, notice that for certain $\\arr A$, there are certain $\\arr v \\in \\mathbb R^n$ that remains unchanged."
   ]
  },
  {
   "cell_type": "markdown",
   "id": "7d900e15-a68e-4f2d-9cc3-1a9c2739aba9",
   "metadata": {},
   "source": [
    "What we are interested in is the more general case, where an $\\arr v$ becomes a constant multiple of itself as $\\arr {Av}$, _ie_ $\\arr {Av} = \\lambda \\arr v$."
   ]
  },
  {
   "cell_type": "markdown",
   "id": "a8dbd1f0-46bf-47ed-8ec4-8d5f92a8d3e2",
   "metadata": {},
   "source": [
    "## Eigenvector and eigenvalue\n",
    "Suppose we are given a matrix A.\n",
    "\n",
    "$$\n",
    "\\arr A = \n",
    "\\begin{pmatrix}\n",
    "1 & 1 \\\\\n",
    "0 & 1\n",
    "\\end{pmatrix}\n",
    "$$\n",
    "\n",
    "The **eigenvector** is defined as the non-zero vector that when front multiplied by A, will yield a constant multiple of the eigenvector. \n",
    "The constant factor is the **eigenvalue**.\n",
    "\n",
    "More concisely,\n",
    "\n",
    "$$\n",
    "\\arr A \\arr v = \\lambda \\arr v\n",
    "$$\n",
    "\n",
    "where $\\arr v \\neq \\arr 0$ is the eigenvector and $\\lambda$ is the eigenvalue.\n",
    "Note that we need this requirement for non-zero vector, otherwise all values are eigenvalues."
   ]
  },
  {
   "cell_type": "markdown",
   "id": "81156ebd-d56b-4717-94d6-f7f4c651b4b1",
   "metadata": {},
   "source": [
    "### Finding eigenvector\n",
    "Consider that\n",
    "\n",
    "$$\n",
    "\\begin{gather}\n",
    "\\arr A \\arr v = \\lambda \\arr v\\\\\n",
    "\\Rightarrow \\arr A \\arr v - \\lambda \\arr v = \\arr 0\\\\\n",
    "\\Rightarrow (\\arr A  - \\lambda \\arr I) \\arr v = \\arr 0\n",
    "\\end{gather}\n",
    "$$"
   ]
  },
  {
   "cell_type": "markdown",
   "id": "ab9ce24e-8172-4394-ad8b-5ad1222eb9f3",
   "metadata": {},
   "source": [
    "Since $\\arr v$ is non-zero, the *homogeneous system must have a non-trivial solution*.\n",
    "\n",
    "Recall that this means that $\\det{\\arr A  - \\lambda \\arr I} = 0$.\n",
    "\n",
    "Thus, to obtain the eigenvalues, we can use the determinant to solve a system of equations.\n",
    "\n",
    "Then we can use these eigenvalues to solve for $\\arr v$ in $\\arr A \\arr v = \\lambda \\arr v\\$"
   ]
  },
  {
   "cell_type": "markdown",
   "id": "f6a645d5-e182-4a50-aae5-1a3390928fd3",
   "metadata": {},
   "source": [
    "For example, "
   ]
  },
  {
   "cell_type": "markdown",
   "id": "4fff16aa-f980-46b0-b9de-b1e80480fcb4",
   "metadata": {},
   "source": [
    "$$\n",
    "\\arr A = \\mat{1 & 1 \\\\ 1 & 1} \\\\\n",
    "\\Rightarrow \\arr A - \\lambda \\arr I = \\mat{1 - \\lambda & 1 \\\\ 1 & 1- \\lambda} \\\\\n",
    "\\Rightarrow \\det{\\arr A - \\lambda \\arr I} = (1 - \\lambda)^2 - 1 = \\lambda ^2 - 2 \\lambda\\\\\n",
    "\\Rightarrow \\lambda = 0, \\lambda = 2\n",
    "$$"
   ]
  },
  {
   "cell_type": "markdown",
   "id": "e9fa6280-218c-4226-a698-dc10bff7b92a",
   "metadata": {},
   "source": [
    "---\n",
    "Solving for $\\lambda = 0$:\n",
    "$$\n",
    "(\\arr A - \\lambda \\arr I)\\arr v = \\arr 0 \\\\\n",
    "\\Rightarrow (\\arr A - 0 (\\arr I))\\arr v = \\arr 0 \\\\\n",
    "\\Rightarrow \\mat {1 & 1 \\\\ 1 & 1 } \\arr v = \\arr 0 \\\\\n",
    "\\Rightarrow \\arr v = k\\mat{1 \\\\ -1}, k \\in \\mathbb R\n",
    "$$"
   ]
  },
  {
   "cell_type": "markdown",
   "id": "58992a41-e3f9-4aa2-b3b7-ece963a64601",
   "metadata": {},
   "source": [
    "---\n",
    "Solving for $\\lambda = 2$:\n",
    "$$\n",
    "(\\arr A - \\lambda \\arr I)\\arr v = \\arr 0 \\\\\n",
    "\\Rightarrow (\\arr A - 2 \\arr I)\\arr v = \\arr 0 \\\\\n",
    "\\Rightarrow \\mat {1 - 2 & 1 \\\\ 1 & 1 - 2} \\arr v =  \\arr 0 \\\\\n",
    "\\Rightarrow \\mat {- 1 & 1 \\\\ 1 & - 1} \\arr v = \\arr 0 \\\\\n",
    "\\Rightarrow \\arr v = k\\mat{1 \\\\ 1}, k \\in \\mathbb R\n",
    "$$"
   ]
  },
  {
   "cell_type": "markdown",
   "id": "999be721-dcbf-403f-b9c3-2c631fabda5a",
   "metadata": {},
   "source": [
    "Note that there are infinitely many eigenvectors, all within the same span."
   ]
  },
  {
   "cell_type": "markdown",
   "id": "7fdb03d7-e5b6-4b21-a6cb-42f29a61e525",
   "metadata": {},
   "source": [
    "## Characteristic polynomial"
   ]
  },
  {
   "cell_type": "markdown",
   "id": "1ace3bb2-f04c-4d38-8f36-68474bf9ad07",
   "metadata": {},
   "source": [
    "Notice that the determinant produces a polynomial of degree $n$.\n",
    "We call this the **characteristic polynomial**, denoted as:\n",
    "$$\n",
    "char(\\arr A) = \\det{x \\arr I - \\arr A}\n",
    "$$"
   ]
  },
  {
   "cell_type": "markdown",
   "id": "c3a7c47f-ad35-4089-af08-8d84257d17ee",
   "metadata": {},
   "source": [
    "Hence, $\\lambda$ is a eigenvalue if and only if it is a root to this polynomial."
   ]
  },
  {
   "cell_type": "markdown",
   "id": "d69c2235-defa-4fdb-87e7-685a942e3991",
   "metadata": {},
   "source": [
    "In our previous example, $char(A) = x^2 - 2x$, which let's us get $\\lambda = 0, 2$."
   ]
  },
  {
   "cell_type": "markdown",
   "id": "c46339c3-da39-4c65-a52c-6bc4508f423a",
   "metadata": {},
   "source": [
    "$\\theorem$ A square matrix $\\arr A$ is invertible if and only if $0$ is not an eigenvalue of $\\arr A$."
   ]
  },
  {
   "cell_type": "markdown",
   "id": "b9699ce8-7e07-4735-956d-4565c0df2b8b",
   "metadata": {
    "tags": []
   },
   "source": [
    "<details>\n",
    "<summary style=\"color: blue\">$\\proof$ (Click to expand)</summary>\n",
    "    <div style=\"background: aliceblue\">\n",
    "        $0$ is an eigenvalue $\\Leftrightarrow$ 0 is a root to the characteristic polynomial $\\Leftrightarrow$ $\\det{0 \\arr I - \\arr A} = 0 \\Leftrightarrow \\det{\\arr A} = 0 \\Leftrightarrow$ A is not invertible.\n",
    "        $$QED$$\n",
    "    </div>\n",
    "</details>"
   ]
  },
  {
   "cell_type": "markdown",
   "id": "e072016f-23a5-4d61-82e8-b5eb3fe8abba",
   "metadata": {},
   "source": [
    "This adds statement 10 to our [pool of equivalence](./pool_of_equivalence.ipynb)."
   ]
  },
  {
   "cell_type": "markdown",
   "id": "c4ceccd5-be2f-47a1-b130-8cfa72ddcc4f",
   "metadata": {},
   "source": [
    "## For triangular matrices"
   ]
  },
  {
   "cell_type": "markdown",
   "id": "8aeb3b0c-7b85-4bcc-bd0e-3abe923e2ec5",
   "metadata": {},
   "source": [
    "$\\lemma$ The eigenvalues of a triangular matrix are the diagonal entries"
   ]
  },
  {
   "cell_type": "markdown",
   "id": "81430594-0ffa-451b-b646-2962c90fccac",
   "metadata": {
    "tags": []
   },
   "source": [
    "<details>\n",
    "<summary style=\"color: blue\">$\\proof$ (Click to expand)</summary>\n",
    "    <div style=\"background: aliceblue\">\n",
    "        Notice that if $\\arr A$ is triangular, then $x \\arr I - \\arr A$ is also triangular.\n",
    "        Since <a href=\"./matrix.ipynb#det-tri\">the determinant of a triangular matrix is the product of the diagonal entries</a>, the characteristic polynomial is of the form \n",
    "        $$\n",
    "        (x - a_{11})(x-a_{22})\\dots(x - a_{nn})\n",
    "        $$\n",
    "        which shows use that $a _{ii}$ are the roots.\n",
    "        $$QED$$\n",
    "    </div>\n",
    "</details>"
   ]
  },
  {
   "cell_type": "markdown",
   "id": "860be785-3965-4963-8dca-87ea5f0b2866",
   "metadata": {},
   "source": [
    "## Multiplicity"
   ]
  },
  {
   "cell_type": "markdown",
   "id": "3dfc43aa-eacf-40e4-b1c8-7059ef77cf5d",
   "metadata": {},
   "source": [
    "The **algebraic multiplicity** of $\\lambda$ is the number of times $\\lambda$ is a repeated root for the characteristic polynomial."
   ]
  },
  {
   "cell_type": "markdown",
   "id": "8bd9be5d-23f1-4cf4-b7d7-4ef7703386df",
   "metadata": {},
   "source": [
    "For example, $\\arr A = \\mat{1 & 2 & 3 \\\\ 0 & 1 & 2 \\\\ 0 & 0 & 4}$ has a characteristic polynomial of $(x - 1)^2(x-4)$, hence the algebraic multiplicity of $\\lambda = 1$ is 2 and that of $\\lambda = 4$ is 1."
   ]
  },
  {
   "cell_type": "markdown",
   "id": "27b29291-993f-4186-b34a-7d05fce7f9cc",
   "metadata": {},
   "source": [
    "### Subspace of eigenvectors"
   ]
  },
  {
   "cell_type": "markdown",
   "id": "e265d67b-fdbd-4188-bca6-0da9fe7f7f11",
   "metadata": {},
   "source": [
    "Suppose that $\\arr u, \\arr v$ are both eigenvectors of $\\arr A$ with the eigenvalue of $\\lambda$.\n",
    "Then for any $a, b \\in \\mathbb R$:"
   ]
  },
  {
   "cell_type": "markdown",
   "id": "a56240b6-13cc-4b07-91ea-6f2ef488b0de",
   "metadata": {},
   "source": [
    "$$\n",
    "\\arr A(a \\arr u + b \\arr v) = a \\arr {Au} + b \\arr {Av} = a \\lambda \\arr u + b \\lambda \\arr v = \\lambda (a \\arr u + b \\arr v)\n",
    "$$"
   ]
  },
  {
   "cell_type": "markdown",
   "id": "e5837824-9bc2-4bd7-9d31-89e409361376",
   "metadata": {},
   "source": [
    "which means that $a \\arr u + b \\arr b \\neq \\arr 0$ is also an eigenvector."
   ]
  },
  {
   "cell_type": "markdown",
   "id": "fcad088d-f2fc-41f8-b86f-fd3920f17dda",
   "metadata": {},
   "source": [
    "This means that all the eigenvectors that are associated with an eigenvalue forms a closed set under linear combination."
   ]
  },
  {
   "cell_type": "markdown",
   "id": "7129caef-56ef-4323-bb2f-0d8de919641e",
   "metadata": {},
   "source": [
    "It follows that the set of eigenvectors and together with the zero vector forms a [subspace](./euclidean_space.ipynb#Subspace)."
   ]
  },
  {
   "cell_type": "markdown",
   "id": "47fbd2b8-1f40-4629-901a-485f28535183",
   "metadata": {},
   "source": [
    "Thus, we call it the **eigenspace**, the subspace associated with the eigenvalue $\\lambda$ of $\\arr A$, formally defined as:"
   ]
  },
  {
   "cell_type": "markdown",
   "id": "1095b7fe-84c8-489f-a80f-749948ad6381",
   "metadata": {},
   "source": [
    "$$\n",
    "E_\\lambda = \\set{\\arr v \\in \\mathbb R^n \\middle | \\arr {Av} = \\lambda \\arr v} = Null(\\lambda \\arr I - \\arr A)\n",
    "$$"
   ]
  },
  {
   "cell_type": "markdown",
   "id": "5f1635a2-044a-4bb3-8936-e93ad04f7f85",
   "metadata": {},
   "source": [
    "The **geometric multiplicity** of an eigenvalue $\\lambda$ is the dimension of the respective eigenspace, formally defined as:"
   ]
  },
  {
   "cell_type": "markdown",
   "id": "d9e834d9-0f76-4edf-a8f1-9d1db36c3f4d",
   "metadata": {},
   "source": [
    "$$\n",
    "dim(E_\\lambda) = nullity(\\lambda \\arr I - \\arr A)\n",
    "$$"
   ]
  }
 ],
 "metadata": {
  "kernelspec": {
   "display_name": "Python 3 (ipykernel)",
   "language": "python",
   "name": "python3"
  },
  "language_info": {
   "codemirror_mode": {
    "name": "ipython",
    "version": 3
   },
   "file_extension": ".py",
   "mimetype": "text/x-python",
   "name": "python",
   "nbconvert_exporter": "python",
   "pygments_lexer": "ipython3",
   "version": "3.10.5"
  }
 },
 "nbformat": 4,
 "nbformat_minor": 5
}
