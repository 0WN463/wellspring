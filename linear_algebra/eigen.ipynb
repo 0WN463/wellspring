{
 "cells": [
  {
   "cell_type": "markdown",
   "id": "hairy-contents",
   "metadata": {},
   "source": [
    "## Eigenvector\n",
    "Suppose we are given a matrix A.\n",
    "\n",
    "$$\n",
    "\\vec A = \n",
    "\\begin{pmatrix}\n",
    "1 & 1 \\\\\n",
    "0 & 1\n",
    "\\end{pmatrix}\n",
    "$$\n",
    "\n",
    "The eigenvector is defined as the non-zero vector that when front multiplied by A, will yield a constant multiple of the eigenvector. \n",
    "The constant factor is the eigenvalue.\n",
    "\n",
    "More concisely,\n",
    "\n",
    "$$\n",
    "\\vec A \\vec v = \\lambda \\vec v\n",
    "$$\n",
    "\n",
    "where $\\vec v$ is the eigenvector and $\\lambda$ is the eigenvalue.\n",
    "\n",
    "### Method to find\n",
    "Consider that\n",
    "\n",
    "$$\n",
    "\\begin{gather}\n",
    "\\vec A \\vec v = \\lambda \\vec v\\\\\n",
    "\\Rightarrow \\vec A \\vec v - \\lambda \\vec v = \\vec 0\\\\\n",
    "\\Rightarrow (\\vec A  - \\lambda \\vec I) \\vec v = \\vec 0\n",
    "\\end{gather}\n",
    "$$\n",
    "\n",
    "Since $\\vec v$ is non-zero, we know that the determinant of $\\vec A  - \\lambda \\vec I = 0$.\n",
    "\n",
    "Thus, to obtain the eigenvalues, we can solve this system of equations.\n",
    "\n",
    "Then we can use these eigenvalues to solve for $\\vec v$ in $\\vec A \\vec v = \\lambda \\vec v\\$"
   ]
  },
  {
   "cell_type": "code",
   "execution_count": null,
   "id": "emerging-services",
   "metadata": {},
   "outputs": [],
   "source": []
  }
 ],
 "metadata": {
  "kernelspec": {
   "display_name": "Python 3",
   "language": "python",
   "name": "python3"
  },
  "language_info": {
   "codemirror_mode": {
    "name": "ipython",
    "version": 3
   },
   "file_extension": ".py",
   "mimetype": "text/x-python",
   "name": "python",
   "nbconvert_exporter": "python",
   "pygments_lexer": "ipython3",
   "version": "3.6.8"
  }
 },
 "nbformat": 4,
 "nbformat_minor": 5
}
