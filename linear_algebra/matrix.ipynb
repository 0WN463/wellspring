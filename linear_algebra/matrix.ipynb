{
 "cells": [
  {
   "cell_type": "markdown",
   "id": "630bd86c-1da8-4c12-aa61-4f025a70a5df",
   "metadata": {
    "run_control": {
     "frozen": true
    },
    "tags": []
   },
   "source": [
    "$$\n",
    "\\newcommand{theorem}{\\textbf{Theorem: }}\n",
    "\\newcommand{proof}{\\textbf{Proof: }}\n",
    "\\newcommand{lemma}{\\textbf{Lemma: }}\n",
    "\\newcommand{corollary}{\\textbf{Corollary: }}\n",
    "\\newcommand{prop}{\\textbf{Proposition: }}\n",
    "$$"
   ]
  },
  {
   "cell_type": "markdown",
   "id": "226206a1-d2ac-4222-b4a5-656b245160e2",
   "metadata": {},
   "source": [
    "$$\n",
    "\\newcommand{arr}{\\mathbf}\n",
    "\\newcommand{inv}{^{-1}}\n",
    "\\newcommand\\mat[1]{\\begin{pmatrix}#1\\end{pmatrix}} \n",
    "\\newcommand\\det[1]{\\left| #1\\right|} \n",
    "$$"
   ]
  },
  {
   "cell_type": "code",
   "execution_count": 1,
   "id": "1d048193-2eb8-4423-80be-7cfcefb50110",
   "metadata": {
    "editable": false,
    "run_control": {
     "frozen": true
    }
   },
   "outputs": [],
   "source": [
    "import sys\n",
    "sys.path.append('..')"
   ]
  },
  {
   "cell_type": "code",
   "execution_count": 2,
   "id": "56cb7497-6fcb-4382-86e7-351e5d1be46b",
   "metadata": {},
   "outputs": [],
   "source": [
    "import numpy as np\n",
    "from module.elimination import gauss_jordan_elim, gaussian_elim\n",
    "from common.utility import show_implementation\n",
    "\n",
    "np.set_printoptions(edgeitems=10, linewidth=180)"
   ]
  },
  {
   "cell_type": "markdown",
   "id": "2490b3d0-1d6d-4326-8f04-ee7895849a49",
   "metadata": {},
   "source": [
    "# Matrix"
   ]
  },
  {
   "cell_type": "markdown",
   "id": "8ab8b804-0760-4ee9-ac84-c2b0a12aaab3",
   "metadata": {},
   "source": [
    "A **matrix** is simply a rectangular array of numbers"
   ]
  },
  {
   "cell_type": "markdown",
   "id": "072b362f-f1ea-4bac-8a48-48f1de068929",
   "metadata": {},
   "source": [
    "The **size** of the matrix is given by $m \\times n$, where $m$ is the number of rows and $n$ is the number of columns."
   ]
  },
  {
   "cell_type": "markdown",
   "id": "42c64729-d535-4bd3-a4f5-ae9a9c1946ce",
   "metadata": {},
   "source": [
    "The $(i, j)$-entry of the matrix is the number at the $i$-th row and $j$-th column, represented as $a_{ij}$."
   ]
  },
  {
   "cell_type": "markdown",
   "id": "d68ebdea-213a-4b35-ab26-8d19e9c574ba",
   "metadata": {},
   "source": [
    "Matrices are denoted by uppercase bold letters."
   ]
  },
  {
   "cell_type": "markdown",
   "id": "6ffe7f78-959d-457c-8af5-a2bab259f9d5",
   "metadata": {},
   "source": [
    "## Special matrices"
   ]
  },
  {
   "cell_type": "markdown",
   "id": "edbf455d-847f-4719-ad34-b265a87da222",
   "metadata": {},
   "source": [
    "### Row matrix"
   ]
  },
  {
   "cell_type": "markdown",
   "id": "d8ec4a17-052c-4484-837a-ca28675485d1",
   "metadata": {},
   "source": [
    "A $1 \\times n$ matrix is a row matrix."
   ]
  },
  {
   "cell_type": "markdown",
   "id": "f18b3b4e-a611-4013-91a8-b8e17934be30",
   "metadata": {},
   "source": [
    "### Column matrix"
   ]
  },
  {
   "cell_type": "markdown",
   "id": "bf8f1e32-e183-4fce-82f0-dac933a77d80",
   "metadata": {},
   "source": [
    "Similarly, a $m \\times 1$ matrix is a column matrix."
   ]
  },
  {
   "cell_type": "markdown",
   "id": "2090a7bd-edaf-4fb6-affd-3b74b6e3cdb0",
   "metadata": {},
   "source": [
    "### Square matrix"
   ]
  },
  {
   "cell_type": "markdown",
   "id": "2b25aa5a-c6f5-40b4-a97d-4a29fb94ad7c",
   "metadata": {},
   "source": [
    "A $n \\times n$ matrix is a square matrix, where it has same number of rows and columns.\n",
    "We call $n$ the order of a square matrix."
   ]
  },
  {
   "cell_type": "markdown",
   "id": "f3d92a90-e0a1-455e-8ae3-7396cd4fb7aa",
   "metadata": {},
   "source": [
    "$a_{ii}$ are the the **diagonal entries** of a square matrix."
   ]
  },
  {
   "cell_type": "markdown",
   "id": "d7e7bb66-f791-4196-9cde-8f4eae21be7f",
   "metadata": {},
   "source": [
    "### Diagonal matrix"
   ]
  },
  {
   "cell_type": "markdown",
   "id": "45e6d371-ff4b-4c0c-9056-c7d3fd070844",
   "metadata": {},
   "source": [
    "A special type of square matrix which have non-diagonal entries being $0$ is a diagonal matrix."
   ]
  },
  {
   "cell_type": "markdown",
   "id": "5a615bff-a90f-4a5a-8ffd-287d099aee6a",
   "metadata": {},
   "source": [
    "### Identity matrix"
   ]
  },
  {
   "cell_type": "markdown",
   "id": "657ff621-fb43-4167-82f1-2ab53e42ed23",
   "metadata": {},
   "source": [
    "A special type of diagonal matrix where its diagonal entries are all 1's."
   ]
  },
  {
   "cell_type": "markdown",
   "id": "ad777c6c-5b74-40ac-9597-0be767af943f",
   "metadata": {},
   "source": [
    "We denote it as $\\mathbf I_n$, or simply $\\mathbf I$ if the order is unambiguous."
   ]
  },
  {
   "cell_type": "markdown",
   "id": "01bf8216-875d-4e2d-aa65-63a210013c65",
   "metadata": {},
   "source": [
    "### Zero matrix"
   ]
  },
  {
   "cell_type": "markdown",
   "id": "646de59f-76c1-43b0-829b-2bc5cbda2788",
   "metadata": {},
   "source": [
    "A special type of matrix where all its entries are 0's."
   ]
  },
  {
   "cell_type": "markdown",
   "id": "0a3924fc-94d6-47c3-9881-114122407359",
   "metadata": {},
   "source": [
    "We denote it as $\\mathbf 0_n$ or simply $\\mathbf 0$."
   ]
  },
  {
   "cell_type": "markdown",
   "id": "8c85a643-d604-4c6a-9caa-8904b67ef419",
   "metadata": {},
   "source": [
    "### Triangular  matrix"
   ]
  },
  {
   "cell_type": "markdown",
   "id": "b5e0c03c-d245-449a-8ee3-8c4a240875b6",
   "metadata": {},
   "source": [
    "If a matrix has all 0's below its diagonal entries, it is **upper triangular**.\n",
    "If it has all 0's above its diagonal, it is **lower triangular**.\n",
    "\n",
    "If the diagonal entries are also 0, then it is **strictly upper/lower triangular** respectively."
   ]
  },
  {
   "cell_type": "markdown",
   "id": "486a3ce6-edca-445a-842f-1204027a5d21",
   "metadata": {},
   "source": [
    "### Symmetric matrix"
   ]
  },
  {
   "cell_type": "markdown",
   "id": "59db7762-de5d-47df-b3f1-3a21070c63bf",
   "metadata": {},
   "source": [
    "A **symmetric matrix** has $a_{ij} = a_{ji}$ for all $i, j$.\n",
    "That is, the matrix is symmetric about its diagonal."
   ]
  },
  {
   "cell_type": "markdown",
   "id": "56925b46-f081-41c6-af03-5123e0378bfb",
   "metadata": {},
   "source": [
    "## Matrix operations"
   ]
  },
  {
   "cell_type": "markdown",
   "id": "712426ed-038c-41cc-91e2-64eea7f69955",
   "metadata": {},
   "source": [
    "### Equality"
   ]
  },
  {
   "cell_type": "markdown",
   "id": "a13da722-9524-402e-b346-3643c2d80433",
   "metadata": {},
   "source": [
    "Two matrices are equal if and only if they have the same size and all the entries are equal."
   ]
  },
  {
   "cell_type": "markdown",
   "id": "d9b2de24-487d-405e-a6d7-70fa21e42964",
   "metadata": {},
   "source": [
    "### Scalar multiplication"
   ]
  },
  {
   "cell_type": "markdown",
   "id": "bec8a97f-ba7d-462a-b19d-5e4c80142c4a",
   "metadata": {},
   "source": [
    "For some $c \\in \\mathbb R$,"
   ]
  },
  {
   "cell_type": "markdown",
   "id": "98b7e180-0609-4d70-8064-1f0113849179",
   "metadata": {},
   "source": [
    "$$\n",
    "c \\mathbf{A} = \\left( c a_{ij} \\right)\n",
    "$$"
   ]
  },
  {
   "cell_type": "markdown",
   "id": "ec4c48e0-cc2d-471d-abc5-32de82b7a12e",
   "metadata": {},
   "source": [
    "### Addition"
   ]
  },
  {
   "cell_type": "markdown",
   "id": "29791044-db75-45d9-ae70-a16051feabba",
   "metadata": {},
   "source": [
    "Given two matrices $\\bf {A, B}$ of **equal size**, we define:\n",
    "$$\n",
    "\\mathbf A + \\mathbf B = \\left( a_{ij} + b_{ij} \\right)\n",
    "$$"
   ]
  },
  {
   "cell_type": "markdown",
   "id": "77467074-0b9f-4c2a-a5f5-f0c0571fef39",
   "metadata": {},
   "source": [
    "### Subtraction"
   ]
  },
  {
   "cell_type": "markdown",
   "id": "f5afc73c-5883-4acb-88e2-e1f7a2692b3d",
   "metadata": {},
   "source": [
    "Using scalar multiplication and addition, we get matrix subtraction:"
   ]
  },
  {
   "cell_type": "markdown",
   "id": "3bd07f3a-794f-4371-be83-3177a02a8888",
   "metadata": {},
   "source": [
    "$$\n",
    "\\mathbf A - \\mathbf B = \\mathbf A + (-1)  \\mathbf B = \\left( a_{ij} - b_{ij} \\right)\n",
    "$$"
   ]
  },
  {
   "cell_type": "markdown",
   "id": "91975310-5d3d-4fe8-b491-c0d74103b2cf",
   "metadata": {},
   "source": [
    "#### Properties of matrix addition/multiplication"
   ]
  },
  {
   "cell_type": "markdown",
   "id": "ed14cea5-4cb0-42c8-a96d-bced41a837ce",
   "metadata": {},
   "source": [
    "* Commutative: $\\mathbf A + \\mathbf B = \\mathbf B + \\mathbf A$\n",
    "* Associative: $\\mathbf A + (\\mathbf B + \\mathbf C) = (\\mathbf A + \\mathbf B) + \\mathbf C$\n",
    "* Additive identity: $\\mathbf 0 _{m \\times x} + \\mathbf A = \\mathbf A$\n",
    "* Additive inverse: $\\mathbf A + (-\\mathbf A) = \\mathbf 0 _{m \\times n}$\n",
    "* Distributive: $k(\\mathbf A + \\mathbf B) = k \\mathbf A + k \\mathbf B$\n",
    "* Scalar addition: $(a + b) \\mathbf A = a \\mathbf A + b \\mathbf A$"
   ]
  },
  {
   "cell_type": "markdown",
   "id": "e20512ca-2846-4458-8829-d6e31b24199c",
   "metadata": {},
   "source": [
    "### Matrix multiplication"
   ]
  },
  {
   "cell_type": "markdown",
   "id": "5cb90aaf-307a-415d-a0e6-aeed9ffb55be",
   "metadata": {},
   "source": [
    "Given two matrices $\\mathbf A_{m \\times p}, \\mathbf B _{p \\times n}$, the product $\\mathbf {AB}$ is the matrix with $(i, j)$-entries defined as:"
   ]
  },
  {
   "cell_type": "markdown",
   "id": "305d85c9-66f7-4a1d-859f-4e397c86a4f5",
   "metadata": {},
   "source": [
    "$$\n",
    "\\sum _{k=1} ^p a_{ik}b_{kj}  = a_{i1} b_{1j} + a_{i2} b_{2j} + \\dots + a_{ip}b_{pj}\n",
    "$$"
   ]
  },
  {
   "cell_type": "markdown",
   "id": "3384c882-d09a-40ba-bd53-60d607c93ca7",
   "metadata": {},
   "source": [
    "For example,\n",
    "$$\n",
    "\\mathbf A = \n",
    "\\begin{pmatrix}\n",
    "1 & 2& 3\\\\\n",
    "4 & 5 & 6\n",
    "\\end{pmatrix} \\\\\n",
    "\\mathbf B = \n",
    "\\begin{pmatrix}\n",
    "1 & 1 \\\\\n",
    "2 & 3\\\\\n",
    "-1 & -2\n",
    "\\end{pmatrix} \\\\\n",
    "\\mathbf {AB} =\n",
    "\\begin{pmatrix}\n",
    "1 & 2& 3\\\\\n",
    "4 & 5 & 6\n",
    "\\end{pmatrix}\n",
    "\\begin{pmatrix}\n",
    "1 & 1 \\\\\n",
    "2 & 3\\\\\n",
    "-1 & -2\n",
    "\\end{pmatrix}\n",
    "=\n",
    "\\begin{pmatrix}\n",
    "1(1) + 2(2) + 3(-1) = 2 & 1(1) + 2(3) + 3(-2) = 1 \\\\\n",
    "4(1) + 2(2) + 3(-1) = 8 & 4(1) + 5(3) + 6(-2) = -7\\\\\n",
    "\\end{pmatrix}\n",
    "$$"
   ]
  },
  {
   "cell_type": "markdown",
   "id": "afc2b713-25f9-4251-b6ba-35e065ac162a",
   "metadata": {},
   "source": [
    "Since the sizes of $\\mathbf A, \\mathbf B$ are $m \\times p$ and $p \\times n$ respectively, the size of $\\mathbf {AB}$ is $m \\times n$."
   ]
  },
  {
   "cell_type": "markdown",
   "id": "06a55a33-ce00-4eac-8282-71aacfccd83c",
   "metadata": {},
   "source": [
    "We say that $\\mathbf A$ is **pre-multiplied** to $\\mathbf B$ or equivalently, $\\mathbf B$ is **post-multiplied** to $\\mathbf A$."
   ]
  },
  {
   "cell_type": "markdown",
   "id": "2de59b4a-034d-480a-95b3-e015ac4729a2",
   "metadata": {},
   "source": [
    "#### Properties"
   ]
  },
  {
   "cell_type": "markdown",
   "id": "d68de124-b580-49b0-91ca-41a6c7b410ec",
   "metadata": {},
   "source": [
    "* **Not commutative**: $\\mathbf {AB} \\neq \\mathbf {BA}$ in general\n",
    "* Associative: $(\\mathbf {AB}) \\mathbf C = \\mathbf A (\\mathbf{BC})$\n",
    "* Distributive: $\\mathbf A (\\mathbf B + \\mathbf C) = \\mathbf {AB} + \\mathbf {AC}$ and $(\\mathbf A + \\mathbf B) \\mathbf C = \\mathbf {AC} + \\mathbf {BC}$\n",
    "* Commutative with scalar multiplication: $c(\\mathbf {AB}) = (c \\mathbf A) \\mathbf B = \\mathbf A (c \\mathbf B)$\n",
    "* Identity: $\\mathbf {I_m A} = \\mathbf A = \\mathbf {A I_n}$\n",
    "    * note the different sized $\\mathbf I$\n",
    "* Zero: $\\mathbf {0_m A} = \\mathbf 0 = \\mathbf {A 0_n}$ "
   ]
  },
  {
   "cell_type": "code",
   "execution_count": 3,
   "id": "104b21cc-9db5-4201-9408-0e0cd39a085b",
   "metadata": {},
   "outputs": [
    {
     "name": "stdout",
     "output_type": "stream",
     "text": [
      "A:\n",
      "[[1 2 3]\n",
      " [4 5 6]]\n",
      "B:\n",
      "[[ 1  1]\n",
      " [ 2  3]\n",
      " [-1 -2]]\n",
      "AB:\n",
      "[[2. 1.]\n",
      " [8. 7.]]\n"
     ]
    }
   ],
   "source": [
    "def mult(A, B):\n",
    "    assert A.shape[1] == B.shape[0]\n",
    "\n",
    "    result = np.zeros((A.shape[0], B.shape[1]))\n",
    "\n",
    "    for i in range(A.shape[0]):\n",
    "        for j in range(B.shape[1]):\n",
    "            result[i][j] = np.sum(A[i] * B[:, j])\n",
    "\n",
    "    return result\n",
    "\n",
    "\n",
    "A, B = np.arange(1, 7).reshape((2, 3)), np.array([[1, 1], [2, 3], [-1, -2]])\n",
    "print(\"A\", A, sep=':\\n')\n",
    "print(\"B\", B, sep=':\\n')\n",
    "print(\"AB\", mult(A, B), sep=':\\n')"
   ]
  },
  {
   "cell_type": "markdown",
   "id": "4ab9dbb4-27ba-4cb3-aff7-43ffc9d719e5",
   "metadata": {},
   "source": [
    "### Matrix exponentiation"
   ]
  },
  {
   "cell_type": "markdown",
   "id": "1b3b5334-f3f4-49af-a5c8-360d5751e451",
   "metadata": {},
   "source": [
    "Since we have defined multiplication, we can define matrix exponentiation."
   ]
  },
  {
   "cell_type": "markdown",
   "id": "fa2eaf55-ab42-4c16-9e66-b8765e8c138d",
   "metadata": {},
   "source": [
    "$$\n",
    "\\mathbf A^2 = \\mathbf {AA} \\\\\n",
    "\\mathbf A^n = \\mathbf{A A}^{n-1}\n",
    "$$"
   ]
  },
  {
   "cell_type": "markdown",
   "id": "c90bfd6f-e1ea-48c1-a635-e5c92132742c",
   "metadata": {},
   "source": [
    "### Transpose"
   ]
  },
  {
   "cell_type": "markdown",
   "id": "41ca303b-4118-4113-8e86-773b5f10d706",
   "metadata": {},
   "source": [
    "Given a matrix $\\mathbf A_{m \\times n}$, the transpose of the matrix, denoted as $\\mathbf A ^T$, is a $n \\times n$ matrix where its $(i, j)$-entry is the $(j, i)$-entry of $\\mathbf A$.\n",
    "\n",
    "In order words, the rows of $\\mathbf A$ are the columns of $\\mathbf A^T$ and vice versa."
   ]
  },
  {
   "cell_type": "code",
   "execution_count": 4,
   "id": "9a05e583-b298-4e2d-ac8d-cc5e3dfa04b3",
   "metadata": {},
   "outputs": [
    {
     "name": "stdout",
     "output_type": "stream",
     "text": [
      "A:\n",
      "[[0 1 2]\n",
      " [3 4 5]\n",
      " [6 7 8]]\n",
      "A transposed:\n",
      "[[0 3 6]\n",
      " [1 4 7]\n",
      " [2 5 8]]\n"
     ]
    }
   ],
   "source": [
    "A = np.arange(9).reshape((3, 3))\n",
    "print(\"A:\", A, sep='\\n')\n",
    "print(\"A transposed:\", A.T, sep='\\n')"
   ]
  },
  {
   "cell_type": "markdown",
   "id": "1d43c0dd-7fb1-46a7-b201-d9a48c88460d",
   "metadata": {},
   "source": [
    "#### Properties"
   ]
  },
  {
   "cell_type": "markdown",
   "id": "9524c952-d7dd-4967-aadb-3e88a6581c79",
   "metadata": {},
   "source": [
    "* For $c \\in \\mathbb R, (c \\mathbf A)^T = c \\mathbf A^T$\n",
    "* $(\\mathbf A + \\mathbf B)^T = \\mathbf A ^T + \\mathbf B ^T$\n",
    "* $(\\mathbf {AB})^T = \\mathbf B ^T \\mathbf A^T$\n",
    "    * note the change of order from $\\mathbf {AB}$ to $\\mathbf {BA}$.\n",
    "* $(\\mathbf A^T)^T = \\mathbf A$\n",
    "* A matrix $\\mathbf A$ is symmetric if and only if $\\mathbf A^T = \\mathbf A$\n"
   ]
  },
  {
   "cell_type": "markdown",
   "id": "da31cd11-021e-4017-baa8-5bd33ae8ed5a",
   "metadata": {},
   "source": [
    "## Block multiplication"
   ]
  },
  {
   "cell_type": "markdown",
   "id": "aa0ca48f-8be7-47d3-80c0-b791fbdf8e0e",
   "metadata": {},
   "source": [
    "Consider $\\mathbf {AB}$.\n",
    "Notice that the first row of $\\mathbf {AB}$ is determined by $\\mathbf{B}$ and **only the first row** of $\\mathbf A$.\n",
    "Indeed, this is true for all the rows, where the $i$-th row of $\\mathbf {AB}$ only requires the $i$-th row of $\\mathbf{A}$ to be computed."
   ]
  },
  {
   "cell_type": "markdown",
   "id": "c3cf3109-8919-4d8f-966e-512d0d661d76",
   "metadata": {},
   "source": [
    "For example,\n",
    "$$\n",
    "\\begin{pmatrix}\n",
    "1 & 2& 3\\\\\n",
    "4 & 5 & 6\n",
    "\\end{pmatrix}\n",
    "\\begin{pmatrix}\n",
    "1 & 1 \\\\\n",
    "2 & 3\\\\\n",
    "-1 & -2\n",
    "\\end{pmatrix}\n",
    "=\n",
    "\\begin{pmatrix}\n",
    "1(1) + 2(2) + 3(-1) = 2 & 1(1) + 2(3) + 3(-2) = 1 \\\\\n",
    "4(1) + 2(2) + 3(-1) = 8 & 4(1) + 5(3) + 6(-2) = -7\\\\\n",
    "\\end{pmatrix}\n",
    "$$"
   ]
  },
  {
   "cell_type": "markdown",
   "id": "a99cdb78-a92c-479e-a31b-c47d5735c73c",
   "metadata": {},
   "source": [
    "We don't need the $\\begin{pmatrix} 4 & 5 & 6\\end{pmatrix}$ row to determine the first row of $\\mathbf {AB}$.\n",
    "We only need the first row of $\\mathbf A$ and the whole of $\\mathbf B$."
   ]
  },
  {
   "cell_type": "markdown",
   "id": "94968364-444c-427e-851b-8b1b33611fd3",
   "metadata": {},
   "source": [
    "Therefore, we can treat $\\mathbf A$ as a stack of rows $a_i, 1 \\leq i \\leq m$.\n",
    "Then $$\n",
    "\\mathbf A = \n",
    "\\begin{pmatrix}\n",
    "\\mathbf a_1 \\\\\n",
    "\\mathbf a_2 \\\\\n",
    "\\vdots \\\\\n",
    "\\mathbf a_m \\\\\n",
    "\\end{pmatrix}\\\\\n",
    "\\mathbf {AB} = \n",
    "\\begin{pmatrix}\n",
    "\\mathbf a_1 \\mathbf B\\\\\n",
    "\\mathbf a_2 \\mathbf B\\\\\n",
    "\\vdots \\\\\n",
    "\\mathbf a_m \\mathbf B\\\\\n",
    "\\end{pmatrix}\n",
    "$$"
   ]
  },
  {
   "cell_type": "markdown",
   "id": "ff5d1b7c-1f77-442a-93af-30f2fbf5ae93",
   "metadata": {},
   "source": [
    "The same argument applies for columns too, \n",
    "thus if we treat $\\mathbf B$ as a stack of columns $b_i, 1 \\leq i \\leq n$.\n",
    "Then $$\n",
    "\\mathbf {B} = \n",
    "\\begin{pmatrix}\n",
    "\\mathbf b_1 &\n",
    "\\mathbf b_2 &\n",
    "\\cdots &\n",
    "\\mathbf b_n \n",
    "\\end{pmatrix} \\\\\n",
    "\\mathbf {AB} = \n",
    "\\begin{pmatrix}\n",
    "\\mathbf A \\mathbf b_1 & \n",
    "\\mathbf A \\mathbf b_2 &\n",
    "\\cdots  &\n",
    "\\mathbf A \\mathbf b_n\n",
    "\\end{pmatrix}\n",
    "$$"
   ]
  },
  {
   "cell_type": "markdown",
   "id": "434a8fbb-44fd-48f0-91e3-a168927abf5e",
   "metadata": {},
   "source": [
    "In general, we can treat $\\mathbf A$ as a stack of rows, and $\\mathbf B$ as a stack of columns, and we get:"
   ]
  },
  {
   "cell_type": "markdown",
   "id": "2c6800fc-441e-4fc1-8726-d5b8fa8b642b",
   "metadata": {},
   "source": [
    "Therefore, we can treat $\\mathbf A$ as a stack of rows $a_i, 1 \\leq i \\leq m$.\n",
    "Then $$\n",
    "\\mathbf A = \n",
    "\\begin{pmatrix}\n",
    "\\mathbf a_1 \\\\\n",
    "\\mathbf a_2 \\\\\n",
    "\\vdots \\\\\n",
    "\\mathbf a_m \\\\\n",
    "\\end{pmatrix}\\\\\n",
    "\\mathbf {B} = \n",
    "\\begin{pmatrix}\n",
    "\\mathbf b_1 &\n",
    "\\mathbf b_2 &\n",
    "\\cdots &\n",
    "\\mathbf b_n \n",
    "\\end{pmatrix} \\\\\n",
    "\\mathbf {AB} =\n",
    "\\begin{pmatrix}\n",
    "\\mathbf a_1 \\mathbf b_1  & \\mathbf a_1 \\mathbf b_2  & \\cdots   & \\mathbf a_1 \\mathbf b_n \\\\\n",
    "\\mathbf a_2 \\mathbf b_1  & \\mathbf a_2 \\mathbf b_2  & \\cdots  & \\mathbf a_2 \\mathbf b_n \\\\\n",
    "\\vdots & \\vdots & \\ddots & \\vdots \\\\\n",
    "\\mathbf a_m \\mathbf b_1  & \\mathbf a_m \\mathbf b_2  & \\cdots  & \\mathbf a_m \\mathbf b_n \\\\\n",
    "\\end{pmatrix}\n",
    "$$"
   ]
  },
  {
   "cell_type": "markdown",
   "id": "67677fdf-3901-4562-adfa-de2dd141631d",
   "metadata": {},
   "source": [
    "Using this, we can also use \"bigger blocks\" as per below:"
   ]
  },
  {
   "cell_type": "markdown",
   "id": "8c0444cf-b722-493e-8f49-f1c4663c7897",
   "metadata": {},
   "source": [
    "$$\n",
    "\\mathbf A = \n",
    "\\begin{pmatrix}\n",
    "\\mathbf A_1\\\\\n",
    "\\mathbf A_2\n",
    "\\end{pmatrix}\\\\\n",
    "\\mathbf {B} = \n",
    "\\begin{pmatrix}\n",
    "\\mathbf B_1 & \\mathbf B_2\n",
    "\\end{pmatrix} \\\\\n",
    "\\mathbf {AB} =\n",
    "\\begin{pmatrix}\n",
    "\\mathbf A_1 \\mathbf B_1 & \\mathbf A_1 \\mathbf B_2 \\\\\n",
    "\\mathbf A_2 \\mathbf B_1 & \\mathbf A_2 \\mathbf B_2 \\\\\n",
    "\\end{pmatrix}\n",
    "$$"
   ]
  },
  {
   "cell_type": "markdown",
   "id": "8ab69c39-977b-4511-a311-939cfc7c122a",
   "metadata": {},
   "source": [
    "## Linear system"
   ]
  },
  {
   "cell_type": "markdown",
   "id": "5c17c0d4-532a-443e-93f3-740844b95d03",
   "metadata": {},
   "source": [
    "Recall that the linear system is defined as:\n",
    "$$\n",
    "a_{11} x_1 + a_{12} a_2 + \\dots + a_{1n}x_n = b_1\\\\\n",
    "a_{21} x_1 + a_{22} a_2 + \\dots + a_{2n}x_n = b_2\\\\\n",
    "\\dots\\\\\n",
    "a_{m1} x_1 + a_{m2} a_2 + \\dots + a_{mn}x_n = b_m\\\\\n",
    "$$"
   ]
  },
  {
   "cell_type": "markdown",
   "id": "a798c077-d10b-4c83-a463-990e6907708e",
   "metadata": {},
   "source": [
    "With the knowledge of matrices, we can redefine this as a matrix equation: $\\mathbf {Ax} = \\mathbf b$."
   ]
  },
  {
   "cell_type": "markdown",
   "id": "258eca1a-1bdc-4b4a-bbec-fba722f93976",
   "metadata": {},
   "source": [
    "$$\n",
    "  \\begin{pmatrix}\n",
    "    a_{11} & a_{12} & \\dots & a_{1n} \\\\\n",
    "    a_{21} & a_{22} & \\dots & a_{2n} \\\\\n",
    "    \\vdots & \\vdots & \\ddots & \\vdots  \\\\\n",
    "    a_{m1} & a_{m2} & \\dots & a_{mn} \\\\\n",
    "  \\end{pmatrix}\n",
    "  \\begin{pmatrix}\n",
    "  x_1 \\\\ x_2 \\\\ \\vdots \\\\ x_n\n",
    "  \\end{pmatrix}\n",
    "  =\n",
    "  \\begin{pmatrix}\n",
    "  b_1 \\\\ b_2 \\\\ \\vdots \\\\ b_n\n",
    "  \\end{pmatrix}\n",
    "$$"
   ]
  },
  {
   "cell_type": "markdown",
   "id": "22cd5249-8014-48e9-a8e2-ecf158dbd09b",
   "metadata": {},
   "source": [
    "A **homogeneous** system as $\\mathbf b = \\mathbf 0$, that is $\\mathbf {Ax} = \\mathbf 0$."
   ]
  },
  {
   "cell_type": "markdown",
   "id": "63399fdb-74b1-43a1-a750-c377ede6d2cf",
   "metadata": {},
   "source": [
    "This brings some intricacy, as it always allows for the **trivial solution** of $\\mathbf x = \\mathbf 0$.\n",
    "For solutions such that $\\mathbf x \\neq 0$, these are called the **nontrivial solutions**."
   ]
  },
  {
   "cell_type": "markdown",
   "id": "f1596e98-6a14-438d-9626-6f695fec87b9",
   "metadata": {},
   "source": [
    "### Multiple linear systems"
   ]
  },
  {
   "cell_type": "markdown",
   "id": "581028f0-bf47-4167-a936-d41b1addbe23",
   "metadata": {},
   "source": [
    "Suppose that we have $p$ linear systems rather than only 1."
   ]
  },
  {
   "cell_type": "markdown",
   "id": "1b832cf8-6559-4519-870f-a4871b47bff4",
   "metadata": {},
   "source": [
    "Suppose that all the linear system has the same coefficient matrix $\\mathbf A$."
   ]
  },
  {
   "cell_type": "markdown",
   "id": "d2d24a33-1784-4060-b047-1bd97b3b25bf",
   "metadata": {},
   "source": [
    "We can represent all the equations as simply $\\mathbf {AX} = \\mathbf X$:"
   ]
  },
  {
   "cell_type": "markdown",
   "id": "3b765d03-9ec9-45aa-846f-ba87d6064be8",
   "metadata": {},
   "source": [
    "$$\n",
    "  \\begin{pmatrix}\n",
    "    a_{11} & a_{12} & \\dots & a_{1n} \\\\\n",
    "    a_{21} & a_{22} & \\dots & a_{2n} \\\\\n",
    "    \\vdots & \\vdots & \\ddots & \\vdots  \\\\\n",
    "    a_{m1} & a_{m2} & \\dots & a_{mn} \\\\\n",
    "  \\end{pmatrix}\n",
    "  \\begin{pmatrix}\n",
    "    x_{11} & x_{12} & \\dots & x_{1p} \\\\\n",
    "    x_{21} & x_{22} & \\dots & x_{2p} \\\\\n",
    "    \\vdots & \\vdots & \\ddots & \\vdots  \\\\\n",
    "    x_{n1} & x_{n2} & \\dots & x_{np} \\\\\n",
    "  \\end{pmatrix}\n",
    "  =\n",
    "  \\begin{pmatrix}\n",
    "    b_{11} & b_{12} & \\dots & b_{1p} \\\\\n",
    "    b_{21} & b_{22} & \\dots & b_{2p} \\\\\n",
    "    \\vdots & \\vdots & \\ddots & \\vdots  \\\\\n",
    "    b_{m1} & b_{m2} & \\dots & b_{mp} \\\\\n",
    "  \\end{pmatrix}\n",
    "$$"
   ]
  },
  {
   "cell_type": "markdown",
   "id": "df17da66-fb82-4f9c-8179-0d9a855edc97",
   "metadata": {},
   "source": [
    "In fact, we can treat it as augmented matrix."
   ]
  },
  {
   "cell_type": "markdown",
   "id": "8880cef3-2b84-41f9-a3ba-85b0a8953e75",
   "metadata": {},
   "source": [
    "$$\n",
    "  \\begin{pmatrix}\n",
    "  \\begin{matrix}\n",
    "    a_{11} & a_{12} & \\dots & a_{1n} \\\\\n",
    "    a_{21} & a_{22} & \\dots & a_{2n} \\\\\n",
    "    \\vdots & \\vdots & \\ddots & \\vdots  \\\\\n",
    "    a_{m1} & a_{m2} & \\dots & a_{mn} \\\\\n",
    "  \\end{matrix}\n",
    "  \\left |\n",
    "  \\begin{matrix}\n",
    "    b_{11} \\\\ b_{21} \\\\ \\vdots \\\\ b_{m1}\n",
    "  \\end{matrix}\n",
    "  \\right .\n",
    "  \\left |\n",
    "  \\begin{matrix}\n",
    "    b_{12} \\\\ b_{22} \\\\ \\vdots \\\\ b_{m2}\n",
    "  \\end{matrix}\n",
    "  \\right .\n",
    "  \\left |\n",
    "  \\begin{matrix}\n",
    "    \\cdots \\\\ \\cdots \\\\ \\cdots \\\\\\cdots \n",
    "  \\end{matrix}\n",
    "  \\right .\n",
    "  \\left |\n",
    "  \\begin{matrix}\n",
    "    b_{1p} \\\\ b_{2p} \\\\ \\vdots \\\\ b_{mp}\n",
    "  \\end{matrix}\n",
    "  \\right .\n",
    "  \\end{pmatrix}\n",
    "$$"
   ]
  },
  {
   "cell_type": "markdown",
   "id": "448bda67-b3bb-4653-a431-8b926d8005df",
   "metadata": {},
   "source": [
    "Then, we can perform [Gaussian/Gauss-Jordan elimination](./linear_systems.ipynb#Gaussian-Elimination) (Or Gaussian elimination) on all the $b_i$'s simultaneously to obtain the solution to all of them together."
   ]
  },
  {
   "cell_type": "markdown",
   "id": "5a3e6df6-8667-452b-8814-b921d61f7950",
   "metadata": {},
   "source": [
    "The reason we could do this is because the elimination process is only focused on $\\mathbf A$.\n",
    "Thus, all the $b_i$ would experience the same modification, and hence we can act on them simultaneously."
   ]
  },
  {
   "cell_type": "markdown",
   "id": "9376e6d6-4401-481d-a15b-4c03342f721e",
   "metadata": {},
   "source": [
    "For example, given the following augmented matrix:"
   ]
  },
  {
   "cell_type": "markdown",
   "id": "b1b3f89d-a320-46fc-8b8a-766cd47ad868",
   "metadata": {},
   "source": [
    "$$\n",
    "  \\begin{pmatrix}\n",
    "  \\begin{matrix}\n",
    "   1 & 2\\\\\n",
    "   3 & 6\n",
    "  \\end{matrix}\n",
    "  \\left |\n",
    "  \\begin{matrix}\n",
    "  2 \\\\ 6\n",
    "  \\end{matrix}\n",
    "  \\right .\n",
    "  \\left |\n",
    "  \\begin{matrix}\n",
    "  3 \\\\ 2\n",
    "  \\end{matrix}\n",
    "  \\right .\n",
    "  \\end{pmatrix}\n",
    "$$"
   ]
  },
  {
   "cell_type": "markdown",
   "id": "2daba166-a464-47bb-9a73-ecfaa33fe358",
   "metadata": {},
   "source": [
    "Its row-echelon form would be:"
   ]
  },
  {
   "cell_type": "markdown",
   "id": "d778b35b-6d74-44b0-a006-60a8b604ada5",
   "metadata": {},
   "source": [
    "$$\n",
    "  \\begin{pmatrix}\n",
    "  \\begin{matrix}\n",
    "   1 & 2\\\\\n",
    "   0 & 0\n",
    "  \\end{matrix}\n",
    "  \\left |\n",
    "  \\begin{matrix}\n",
    "  2 \\\\ 0\n",
    "  \\end{matrix}\n",
    "  \\right .\n",
    "  \\left |\n",
    "  \\begin{matrix}\n",
    "  3 \\\\ -7\n",
    "  \\end{matrix}\n",
    "  \\right .\n",
    "  \\end{pmatrix}\n",
    "$$"
   ]
  },
  {
   "cell_type": "code",
   "execution_count": 5,
   "id": "436fef36-2e7d-49d9-8600-9845b28f78e0",
   "metadata": {},
   "outputs": [
    {
     "name": "stdout",
     "output_type": "stream",
     "text": [
      "Simultaneous:\n",
      "[[ 1.  2.  2.  3.]\n",
      " [ 0.  0.  0. -7.]]\n",
      "Individual:\n",
      "[[1. 2. 2.]\n",
      " [0. 0. 0.]]\n",
      "[[ 1.  2.  3.]\n",
      " [ 0.  0. -7.]]\n"
     ]
    }
   ],
   "source": [
    "A = np.array([1, 2, 3, 6]).reshape((2, 2))\n",
    "b = np.array([2, 3, 6, 2]).reshape((2, 2))\n",
    "print('Simultaneous:', np.hstack(gaussian_elim(A, b)), sep='\\n')\n",
    "print('Individual:', np.hstack(gaussian_elim(A, b[:, 0:1])), np.hstack(\n",
    "    gaussian_elim(A, b[:, 1:])), sep='\\n')"
   ]
  },
  {
   "cell_type": "markdown",
   "id": "56c85962-f894-4319-96bc-623f9fb95dbc",
   "metadata": {},
   "source": [
    "Hence, we can conclude that the first system is consistent, while the second one isn't."
   ]
  },
  {
   "cell_type": "markdown",
   "id": "c92f04a4-e778-4b09-9a08-bba46aa4cd20",
   "metadata": {},
   "source": [
    "We would have come to the same result if we were to perform elimination on the 2 systems separately."
   ]
  },
  {
   "cell_type": "markdown",
   "id": "3cfd65de-d25f-4e37-b3ed-eb14c64956ef",
   "metadata": {},
   "source": [
    "## Inverse"
   ]
  },
  {
   "cell_type": "markdown",
   "id": "44eab646-c123-4afd-92a0-bf719ea2a937",
   "metadata": {},
   "source": [
    "In the real number system, the multiplicative inverse of a number $c$ is the number $k$ such that $ck = 1$.\n",
    "Hence, $k= \\frac{1}{c}$, (if $c \\neq 0$, _ie_ 0 has no inverse)"
   ]
  },
  {
   "cell_type": "markdown",
   "id": "daf9235f-1b38-4593-b7bd-15fd3984ed66",
   "metadata": {},
   "source": [
    "Since $\\mathbf I$ serves a similar row to $1$ in the matrix system; similarly, given a matrix $\\mathbf A$, its **left inverse** $\\mathbf B$ is such that:\n",
    "$$\n",
    "\\mathbf {BA} = \\mathbf I\n",
    "$$\n",
    "And the **right inverse** satisfy:\n",
    "$$\n",
    "\\mathbf {AB} = \\mathbf I\n",
    "$$"
   ]
  },
  {
   "cell_type": "markdown",
   "id": "1df206b7-be47-411a-903b-d922374028c2",
   "metadata": {},
   "source": [
    "Note that since matrix multiplication is [not commutative](#Properties), the left inverse may be different from the right inverse."
   ]
  },
  {
   "cell_type": "markdown",
   "id": "d0c78728-7670-4ff9-937f-bba9422bdc6f",
   "metadata": {},
   "source": [
    "### Properties"
   ]
  },
  {
   "cell_type": "markdown",
   "id": "a3f00cb1-e3c0-477f-8ec6-a3fab66ce285",
   "metadata": {},
   "source": [
    "Not all matrices have inverses, for example $\\begin{pmatrix} 0 & 1 \\\\ 0 & 0\\end{pmatrix}$ have no inverse."
   ]
  },
  {
   "cell_type": "markdown",
   "id": "24588492-31e7-4ae7-8b5b-80b1e0eb828b",
   "metadata": {},
   "source": [
    "Inverse may not be unique, for example, both $\\begin{pmatrix} 1 & 0 & 0 \\\\ 0 & 1 & 0 \\end{pmatrix}$ and $\\begin{pmatrix} 1 & 0 & 1 \\\\ 0 & 1 & 1 \\end{pmatrix}$\n",
    "are left inverses of $\\begin{pmatrix} 1 & 0 \\\\ 0 & 1 \\\\ 0 & 0 \\end{pmatrix}$."
   ]
  },
  {
   "cell_type": "markdown",
   "id": "c2a43a42-0ef6-4b09-b5c1-66fa14ba0057",
   "metadata": {},
   "source": [
    "However, the properties becomes stricter (and thus more interesting) when we consider the inverses of [square matrices](#Square-matrix)."
   ]
  },
  {
   "cell_type": "markdown",
   "id": "7877115f-53c3-4a90-a71a-e3b8e1f09144",
   "metadata": {},
   "source": [
    "#### Properties of inverses of square matrices"
   ]
  },
  {
   "cell_type": "markdown",
   "id": "123f97dc-4f8b-4d73-bb18-4561d3b70d19",
   "metadata": {},
   "source": [
    "We define the inverse of a square matrix such that both $\\mathbf {AB} = I_m$ and $\\mathbf {BA} = I_n$."
   ]
  },
  {
   "cell_type": "markdown",
   "id": "9590bab5-dbf4-42a0-a200-06b71ddce759",
   "metadata": {},
   "source": [
    "In fact, if $\\mathbf {AB} = \\mathbf I_m$, then it is certain that $\\mathbf {BA} = I_n$, and vice versa.\n",
    "[Proof of this](#inverse-equality) is postponed till later."
   ]
  },
  {
   "cell_type": "markdown",
   "id": "f377fac4-7c50-4a61-8c74-6eee74d332ee",
   "metadata": {
    "tags": []
   },
   "source": [
    "$\\prop$:\n",
    "The inverse is **unique**\n",
    "\n",
    "<details>\n",
    "<summary style=\"color: blue\">$\\proof$ (Click to expand)</summary>\n",
    "    <div style=\"background: aliceblue\">\n",
    "        Let $\\mathbf B, \\mathbf C$ be two inverses of $\\mathbf A$.\n",
    "        Since $\\mathbf A$ is invertible, $$\\mathbf {A B} = \\mathbf I = \\mathbf {A C} \\\\\\Rightarrow \\mathbf A ^ {-1} \\mathbf A \\mathbf B = \\mathbf A ^ {-1} \\mathbf A \\mathbf C  \\\\ \\Rightarrow \\mathbf B = \\mathbf C$$\n",
    "        $$QED$$\n",
    "    </div>\n",
    "</details>"
   ]
  },
  {
   "cell_type": "markdown",
   "id": "2036f29e-e734-41ad-846e-17f856a81d30",
   "metadata": {},
   "source": [
    "Since the inverse is unique, we can simply denote the inverse as $\\mathbf A^{-1}$."
   ]
  },
  {
   "cell_type": "markdown",
   "id": "04394dc3-1f04-4ca2-b84b-ba18d5da4bf2",
   "metadata": {},
   "source": [
    "If such an inverse exists, we deem $\\mathbf A$ **invertible**, otherwise it is **singular**."
   ]
  },
  {
   "cell_type": "markdown",
   "id": "482cdf89-b4e1-4a08-9849-f1e26db8330f",
   "metadata": {},
   "source": [
    "* $(\\mathbf A ^{-1}) ^{-1} = \\mathbf A$\n",
    "* $(a \\mathbf A) ^{-1} = \\frac{1}{a} \\mathbf A ^{-1}, \\quad a \\neq 0$\n",
    "* $(\\mathbf A ^{T}) ^{-1} = (\\mathbf A ^{-1}) ^{T} $ \n",
    "* $(\\mathbf{AB}) ^{-1} = \\mathbf B ^{-1} \\mathbf A ^{-1}$\n",
    "    * This implies that if two matrices are invertible, their product is also invertible"
   ]
  },
  {
   "cell_type": "markdown",
   "id": "91e584a4-57e7-4479-9f72-a9f9d67178d9",
   "metadata": {},
   "source": [
    "For an order 2 matrix of the form $\\begin{pmatrix} a & b \\\\ c & d\\end{pmatrix}$, the inverse is:\n",
    "$$\n",
    "\\frac{1}{ad - bc} \\begin{pmatrix} d & -b \\\\ -c & a\\end{pmatrix}\n",
    "$$"
   ]
  },
  {
   "cell_type": "markdown",
   "id": "d64743e2-11b1-4ed3-9f8c-b0dcddeea9e2",
   "metadata": {},
   "source": [
    "If $\\mathbf A$ is invertible and:\n",
    "* $\\mathbf {AB} = \\mathbf {AC}$, then $\\mathbf B = \\mathbf C$.\n",
    "* $\\mathbf {BA} = \\mathbf {CA}$, then $\\mathbf B = \\mathbf C$."
   ]
  },
  {
   "cell_type": "markdown",
   "id": "329c46d8-9333-4c6e-826f-8b9c629d8be3",
   "metadata": {},
   "source": [
    "## Elementary matrix"
   ]
  },
  {
   "cell_type": "markdown",
   "id": "79fdac63-1353-4928-8eb8-fb708486d0e6",
   "metadata": {},
   "source": [
    "A square matrix $\\arr E$ is an **elementary matrix** if it is obtained from $\\arr I$ by performing a single [elementary row operation](./linear-systems.ipynb#Elementary-Row-Operations) on it."
   ]
  },
  {
   "cell_type": "markdown",
   "id": "ad4f970e-62c9-4792-85c7-1a9122a7d6b3",
   "metadata": {},
   "source": [
    "The following are some examples:"
   ]
  },
  {
   "cell_type": "markdown",
   "id": "7a9cd650-d40f-4c94-aae3-f0c370a76eeb",
   "metadata": {},
   "source": [
    "$$\n",
    "\\begin{matrix}\n",
    "2R_1 & R_1 \\leftrightarrow R_2 & R_2 + 2R_1 \\\\\n",
    "\\begin{pmatrix}\n",
    "2 & 0 & 0\\\\ \n",
    "0 & 1 & 0 \\\\\n",
    "0 & 0 & 1\n",
    "\\end{pmatrix} & \n",
    "\\begin{pmatrix}\n",
    "0 & 1 & 0 \\\\\n",
    "1 & 0 & 0\\\\ \n",
    "0 & 0 & 1 \n",
    "\\end{pmatrix} & \n",
    "\\begin{pmatrix}\n",
    "1 & 0 & 0\\\\ \n",
    "2 & 1 & 0 \\\\\n",
    "0 & 0 & 1\n",
    "\\end{pmatrix} \n",
    "\\end{matrix}\n",
    "$$"
   ]
  },
  {
   "cell_type": "markdown",
   "id": "32f057f6-1ed0-40d1-aa81-a995cdcdad2f",
   "metadata": {},
   "source": [
    "Notice that $\\arr {EA}$ is the same as performing the corresponding elementary row operation on $\\arr A$."
   ]
  },
  {
   "cell_type": "code",
   "execution_count": 6,
   "id": "1fa207b3-6990-4921-9353-7cda1a25368c",
   "metadata": {},
   "outputs": [
    {
     "name": "stdout",
     "output_type": "stream",
     "text": [
      "A:\n",
      "[[0 1 2]\n",
      " [3 4 5]\n",
      " [6 7 8]]\n",
      "E:\n",
      "[[2 0 0]\n",
      " [0 1 0]\n",
      " [0 0 1]]\n",
      "EA:\n",
      "[[0. 2. 4.]\n",
      " [3. 4. 5.]\n",
      " [6. 7. 8.]]\n"
     ]
    }
   ],
   "source": [
    "A = np.arange(9).reshape((3, 3))\n",
    "E = np.array([[2, 0, 0], [0, 1, 0], [0, 0, 1]])\n",
    "EA = mult(E, A)\n",
    "print('A:', A, sep='\\n')\n",
    "print('E:', E, sep='\\n')\n",
    "print('EA:', EA, sep='\\n')"
   ]
  },
  {
   "cell_type": "code",
   "execution_count": 7,
   "id": "4fa424e3-7dd8-45ff-adda-c96d7921c066",
   "metadata": {},
   "outputs": [
    {
     "name": "stdout",
     "output_type": "stream",
     "text": [
      "A:\n",
      "[[0 1 2]\n",
      " [3 4 5]\n",
      " [6 7 8]]\n",
      "E:\n",
      "[[1 0 0]\n",
      " [2 1 0]\n",
      " [0 0 1]]\n",
      "EA:\n",
      "[[0. 1. 2.]\n",
      " [3. 6. 9.]\n",
      " [6. 7. 8.]]\n"
     ]
    }
   ],
   "source": [
    "E = np.array([[1, 0, 0], [2, 1, 0], [0, 0, 1]])\n",
    "EA = mult(E, A)\n",
    "print('A:', A, sep='\\n')\n",
    "print('E:', E, sep='\\n')\n",
    "print('EA:', EA, sep='\\n')"
   ]
  },
  {
   "cell_type": "code",
   "execution_count": 8,
   "id": "2a75075d-4983-4184-8926-fabb8668701d",
   "metadata": {},
   "outputs": [
    {
     "name": "stdout",
     "output_type": "stream",
     "text": [
      "A:\n",
      "[[0 1 2]\n",
      " [3 4 5]\n",
      " [6 7 8]]\n",
      "E:\n",
      "[[1 0 0]\n",
      " [2 1 0]\n",
      " [0 0 1]]\n",
      "EA:\n",
      "[[0. 1. 2.]\n",
      " [3. 6. 9.]\n",
      " [6. 7. 8.]]\n"
     ]
    }
   ],
   "source": [
    "E = np.array([[1, 0, 0], [2, 1, 0], [0, 0, 1]])\n",
    "EA = mult(E, A)\n",
    "print('A:', A, sep='\\n')\n",
    "print('E:', E, sep='\\n')\n",
    "print('EA:', EA, sep='\\n')"
   ]
  },
  {
   "cell_type": "markdown",
   "id": "dacff949-25a0-4bbc-aa95-795ffd54c07e",
   "metadata": {},
   "source": [
    "$\\corollary$ If $\\arr B$ is obtained from $\\arr A$ by a series of row operations $r_1, r_2, \\dots r_k$\n",
    "$$\n",
    "\\arr A \\xrightarrow{r_1} \\xrightarrow{r_2} \\cdots \\xrightarrow{r_k} \\arr B\n",
    "$$\n",
    "then \n",
    "$$\n",
    "\\arr B = \\arr E_k \\cdots \\arr E_2 \\arr E_1 \\arr A\n",
    "$$\n",
    "where $\\arr E_i$ is the elementary matrix corresponding to $r_i$."
   ]
  },
  {
   "cell_type": "markdown",
   "id": "5ec1925d-9564-462f-a733-4234fd8933e7",
   "metadata": {},
   "source": [
    "$\\lemma$ $\\arr E$ is invertible, where its inverse is an elementary matrix which undoes $\\arr E$'s elementary row operation"
   ]
  },
  {
   "cell_type": "markdown",
   "id": "3a1375bf-9c4f-48fc-b149-2706d82144f7",
   "metadata": {},
   "source": [
    "$$\n",
    "\\begin{matrix}\n",
    "\\arr E & \\leftrightarrow & \\arr E \\inv \\\\\n",
    "c R_i & & \\frac{1}{c} R_i \\\\\n",
    "R_i \\leftrightarrow R_j & &  R_i \\leftrightarrow R_j \\\\\n",
    "R_i + a R_j & & R_i - a R_j \n",
    "\\end{matrix}\n",
    "$$"
   ]
  },
  {
   "cell_type": "markdown",
   "id": "bd695f7c-31b4-445b-90a9-10067f9fec7f",
   "metadata": {},
   "source": [
    "$\\theorem$ A square matrix is invertible if and only if its reduced row-echelon form is $\\arr I$.\n",
    "\n",
    "$\\corollary$ A square matrix is invertible if and only if it is a product of elementary matrices\n",
    "\n",
    "This also means that if $\\arr A = \\arr E_k \\cdots \\arr E_2  \\arr E_1$, then $\\arr A \\inv = \\arr E_1 \\inv \\arr E_2 \\inv \\cdots \\arr E_k \\inv$."
   ]
  },
  {
   "cell_type": "markdown",
   "id": "8f94a2f8-ee90-4cd3-9c86-98bd0dab629d",
   "metadata": {},
   "source": [
    "These are statement 2 and 3 in our [pool of equivalence](pool_of_equivalence.ipynb)."
   ]
  },
  {
   "cell_type": "markdown",
   "id": "c2d73038-afc5-481b-869b-450b869edef4",
   "metadata": {},
   "source": [
    "## Finding inverse"
   ]
  },
  {
   "cell_type": "markdown",
   "id": "9e8619c9-14f7-42cb-8514-90b2dd4ade0d",
   "metadata": {},
   "source": [
    "Using the above theorem, we have the following algorithm to obtain the inverse of a matrix:\n",
    "1. Create an augmented matrix $\\mat{\\arr A \\left | \\arr I \\right .}$\n",
    "2. Perform Gauss-Jordan elimination until we get $\\mat{\\arr R \\left | \\arr B \\right .}$ where $\\arr R$ is the reduced row-echelon form of $\\arr A$\n",
    "3. If $\\arr R = \\arr I$, then $\\arr B = \\arr A \\inv$ , otherwise $\\arr A$ is singular"
   ]
  },
  {
   "cell_type": "code",
   "execution_count": 9,
   "id": "4f31a73f-0f71-4a0f-9647-7047c107f6d6",
   "metadata": {},
   "outputs": [
    {
     "data": {
      "text/plain": [
       "array([[ 3.,  0., -3., -4.,  1.,  0.],\n",
       "       [ 0.,  1.,  2.,  1.,  0.,  0.],\n",
       "       [ 0.,  0.,  0.,  1., -2.,  1.]])"
      ]
     },
     "execution_count": 9,
     "metadata": {},
     "output_type": "execute_result"
    }
   ],
   "source": [
    "A = np.arange(9).reshape((3, 3))\n",
    "R, B = gauss_jordan_elim(A, np.identity(3))\n",
    "np.hstack((R, B))"
   ]
  },
  {
   "cell_type": "markdown",
   "id": "b81323da-fb70-4adb-a502-c49854d1b214",
   "metadata": {},
   "source": [
    "Since $\\arr R \\neq \\arr I$, $\\arr A$ is singular."
   ]
  },
  {
   "cell_type": "code",
   "execution_count": 10,
   "id": "d84ef4eb-f1f8-4a91-a18b-1c830141c2a9",
   "metadata": {},
   "outputs": [
    {
     "data": {
      "text/plain": [
       "array([[ 1. ,  0. ,  0. , -0.5,  0.5,  0. ],\n",
       "       [ 0. ,  1. ,  0. , -0.5, -0.5,  1. ],\n",
       "       [-0. , -0. ,  1. ,  2.5,  0.5, -2. ]])"
      ]
     },
     "execution_count": 10,
     "metadata": {},
     "output_type": "execute_result"
    }
   ],
   "source": [
    "A = np.array([1, 2, 1, 3, 2, 1, 2, 3, 1]).reshape((3, 3))\n",
    "R, B = gauss_jordan_elim(A, np.identity(3))\n",
    "np.hstack((R, B))"
   ]
  },
  {
   "cell_type": "markdown",
   "id": "bfdc504f-37eb-4a0d-9d70-88ee4ef81b7b",
   "metadata": {},
   "source": [
    "In this case, we have found out that $\\mat{1 & 2 & 1 \\\\ 3 & 2 & 1 \\\\ 2 & 3 & 1} \\inv = \\mat{-0.5 & 0.5 & 0 \\\\ -0.5 & -0.5 & 1 \\\\ 2.5 & 0.5 & -2}$"
   ]
  },
  {
   "cell_type": "code",
   "execution_count": 11,
   "id": "53342624-405d-4a57-9faf-95f50fa39b90",
   "metadata": {},
   "outputs": [
    {
     "data": {
      "text/plain": [
       "array([[1., 0., 0.],\n",
       "       [0., 1., 0.],\n",
       "       [0., 0., 1.]])"
      ]
     },
     "execution_count": 11,
     "metadata": {},
     "output_type": "execute_result"
    }
   ],
   "source": [
    "mult(A, B)"
   ]
  },
  {
   "cell_type": "markdown",
   "id": "e33cc8b8-0a8c-4d59-9ce8-c5b6dcd9b797",
   "metadata": {},
   "source": [
    "## Inverse and linear system"
   ]
  },
  {
   "cell_type": "markdown",
   "id": "2b4f462c-19c4-4f3d-961f-ef2bccccda90",
   "metadata": {},
   "source": [
    "$\\theorem$:\n",
    "A square matrix $\\arr A$ is invertible if and only if the *homogeneous* system $\\arr A \\arr x = \\arr 0$ has only the trivial solution."
   ]
  },
  {
   "cell_type": "markdown",
   "id": "e1710875-2c04-40d1-85a8-870a3d9b335e",
   "metadata": {},
   "source": [
    "This is statement 4 in our [pool of equivalence](pool_of_equivalence.ipynb)."
   ]
  },
  {
   "cell_type": "markdown",
   "id": "88ceaf28-e99f-4416-9e9c-d26bd3ef86fd",
   "metadata": {},
   "source": [
    "<details>\n",
    "<summary style=\"color: blue\">$\\proof$ (Click to expand)</summary>\n",
    "    <div style=\"background: aliceblue\">\n",
    "        Suppose $\\arr A$ is invertible, and $\\arr u$ is a solution to the system.\n",
    "        Then $\\arr {Au} = \\arr 0 \\Rightarrow \\arr u = \\arr A \\inv \\arr 0 = \\arr 0$.\n",
    "        Hence, only the trivial solution exists.\n",
    "        <br>\n",
    "        Suppose that $\\arr A$ is not invertible.\n",
    "        We perform elimination from $\\mat{\\arr A \\left | \\arr 0 \\right .} \\rightarrow \\mat{\\arr R \\left | \\arr 0 \\right .}$.\n",
    "        Since $\\arr A$ is not invertible, $\\arr R \\neq \\arr I$, and hence must have a non-pivot column.\n",
    "        Hence, the system does not have a trivial solution.\n",
    "        $$QED$$\n",
    "    </div>\n",
    "</details>"
   ]
  },
  {
   "cell_type": "markdown",
   "id": "85d628ca-ae5c-4eb0-992e-e14ff7984ef8",
   "metadata": {},
   "source": [
    "Using our previous example, we know that the first matrix is singular, while the second is invertible."
   ]
  },
  {
   "cell_type": "code",
   "execution_count": 12,
   "id": "54a43964-b3d9-4d87-9822-520e42dd8f34",
   "metadata": {},
   "outputs": [
    {
     "data": {
      "text/plain": [
       "array([[ 3.,  0., -3.,  0.],\n",
       "       [ 0.,  1.,  2.,  0.],\n",
       "       [ 0.,  0.,  0.,  0.]])"
      ]
     },
     "execution_count": 12,
     "metadata": {},
     "output_type": "execute_result"
    }
   ],
   "source": [
    "A = np.arange(9).reshape((3, 3))\n",
    "np.hstack(gauss_jordan_elim(A, np.zeros((3, 1))))"
   ]
  },
  {
   "cell_type": "code",
   "execution_count": 13,
   "id": "9bd35e02-29e9-4c48-a632-e108391054a2",
   "metadata": {},
   "outputs": [
    {
     "data": {
      "text/plain": [
       "array([[ 1.,  0.,  0.,  0.],\n",
       "       [ 0.,  1.,  0.,  0.],\n",
       "       [-0., -0.,  1., -0.]])"
      ]
     },
     "execution_count": 13,
     "metadata": {},
     "output_type": "execute_result"
    }
   ],
   "source": [
    "A = np.array([1, 2, 1, 3, 2, 1, 2, 3, 1]).reshape((3, 3))\n",
    "np.hstack(gauss_jordan_elim(A, np.zeros((3, 1))))"
   ]
  },
  {
   "cell_type": "markdown",
   "id": "9c958659-876b-4781-b199-cefce6c4363b",
   "metadata": {},
   "source": [
    "And indeed, the first one doesn't have the trivial solution, while the second one does."
   ]
  },
  {
   "cell_type": "markdown",
   "id": "2f5436fe-8b0d-450e-bedf-ffb4f8da99bd",
   "metadata": {},
   "source": [
    "$\\theorem$:\n",
    "A square matrix $\\arr A$ is invertible if and only if the system $\\arr A \\arr x = \\arr b$ has a unique solution for all $\\arr b$."
   ]
  },
  {
   "cell_type": "markdown",
   "id": "195a1c11-a914-41ce-90ed-6f645564a253",
   "metadata": {},
   "source": [
    "This is statement 5 in our [pool of equivalence](pool_of_equivalence.ipynb)."
   ]
  },
  {
   "cell_type": "markdown",
   "id": "dbbd73d7-368f-4615-a933-94441e1140b9",
   "metadata": {},
   "source": [
    "<details>\n",
    "<summary style=\"color: blue\">$\\proof$ (Click to expand)</summary>\n",
    "    <div style=\"background: aliceblue\">\n",
    "        Similar to the previous proof, we consider $\\mat{\\arr A \\left | \\arr b \\right.} \\rightarrow \\mat{\\arr R \\left | \\arr u\\right.}$.\n",
    "        If $\\arr A$ is invertible, then $\\arr R = \\arr I$ which means $\\arr u$ is the unique solution to the system.\n",
    "        <br>\n",
    "        Otherwise, if $\\arr A$ is singular, then the system does not have a unique solution.\n",
    "        $$QED$$\n",
    "    </div>\n",
    "</details>"
   ]
  },
  {
   "cell_type": "markdown",
   "id": "0982203e-6d07-4ad5-ac86-fc396a4842d1",
   "metadata": {},
   "source": [
    "With the linkage between linear system and inverses, we can now tackle one of our previous proofs."
   ]
  },
  {
   "cell_type": "markdown",
   "id": "e0f3f71c-2e54-4476-a1ad-6a2f9d490b80",
   "metadata": {},
   "source": [
    "<span id=\"inverse-equality\">$\\theorem$:</span>\n",
    "The left inverse and right inverse of a square matrix $\\arr A$ are both $\\arr A \\inv$."
   ]
  },
  {
   "cell_type": "markdown",
   "id": "7249634a-0c7f-4a59-b19a-355294d0b533",
   "metadata": {},
   "source": [
    "<details>\n",
    "<summary style=\"color: blue\">$\\proof$ (Click to expand)</summary>\n",
    "    <div style=\"background: aliceblue\">\n",
    "        Let $\\arr {BA} = \\arr I$.\n",
    "        Consider the system $\\arr {Ax} = \\arr 0$, where $\\arr u$ is a solution to the system.\n",
    "        Then\n",
    "        $$\n",
    "        \\arr u = \\arr {BAu} = \\arr{B0} = \\arr 0\n",
    "        $$\n",
    "        and hence there is only the trivial solution, and thus $\\arr A$ is invertible.\n",
    "        Therefore,\n",
    "        $$\n",
    "        \\arr B = \\arr B (\\arr {AA} \\inv) = (\\arr{BA}) \\arr A \\inv = \\arr A \\inv\n",
    "        $$, which means the left inverse is $\\arr A \\inv$.\n",
    "        <br>\n",
    "        Let $\\arr {AC} = \\arr I$.\n",
    "        We transpose both sides to get $\\arr C^T \\arr A^T = \\arr I$.\n",
    "        Using the same process as above, we would arrive at\n",
    "        $$\n",
    "        \\arr C ^T = (\\arr A ^ T) \\inv = (\\arr A \\inv) ^T\n",
    "        $$\n",
    "        Therefore $\\arr C = \\arr A \\inv$, which means the right inverse is also $\\arr A \\inv$\n",
    "        $$QED$$\n",
    "    </div>\n",
    "</details>"
   ]
  },
  {
   "cell_type": "markdown",
   "id": "4cfd4812-f614-4f1e-8a56-f1d010211283",
   "metadata": {},
   "source": [
    "## Minor"
   ]
  },
  {
   "cell_type": "markdown",
   "id": "db76e308-f5e6-4547-9ba2-0afafedae31e",
   "metadata": {},
   "source": [
    "The $(i, j)$ matrix minor of $\\arr A$ is the matrix obtained by deleting the $i$-th row and $j$-th column of $\\arr A$."
   ]
  },
  {
   "cell_type": "markdown",
   "id": "8297e568-10e6-4bd5-96d5-b941ac2bf446",
   "metadata": {},
   "source": [
    "For example, given $\\arr A = \\mat{1 & 2& 3 \\\\ 4& 5& 6 \\\\ 7 & 8 & 9}$, $\\arr M_{23} = \\mat {1 & 2 \\\\ 7 & 8}$."
   ]
  },
  {
   "cell_type": "markdown",
   "id": "22a9ef12-34d3-4fab-a1e0-547fa3e88157",
   "metadata": {},
   "source": [
    "## Cofactor"
   ]
  },
  {
   "cell_type": "markdown",
   "id": "9d2bd8d1-7fca-4e7e-b4a0-abd22ed07024",
   "metadata": {},
   "source": [
    "The $(i, j)$-cofactor of $\\arr A$ is defined as:\n",
    "$$\n",
    "A_{ij} = (-1)^{i+j} | \\arr M_{ij} |\n",
    "$$"
   ]
  },
  {
   "cell_type": "markdown",
   "id": "272d7c37-91ea-40d5-9363-cf555bf22eca",
   "metadata": {},
   "source": [
    "where $| \\arr M_{ij} |$ is determinant of the $(i,j)$ minor."
   ]
  },
  {
   "cell_type": "markdown",
   "id": "51fbd58e-7b7f-4b42-b036-1a3dd65481ba",
   "metadata": {},
   "source": [
    "## Determinant"
   ]
  },
  {
   "cell_type": "markdown",
   "id": "cd8a95a8-f3da-4104-90ac-ee3875336c21",
   "metadata": {},
   "source": [
    "The **determinant** of square matrix $\\arr A$ of order $n$ is defined as:"
   ]
  },
  {
   "cell_type": "markdown",
   "id": "5e73c4a9-c8e3-48ec-a950-a0781ab92970",
   "metadata": {},
   "source": [
    "$$\n",
    "| \\arr A | = \n",
    "\\begin{cases}\n",
    "a & n=1, \\arr A = \\mat{a}\\\\ \n",
    "ad - bc & n=2, \\arr A = \\mat{a & b \\\\ c & d}\\\\ \n",
    "\\sum \\limits_{k=1} ^ n a_{1k} A_{1k} & n \\geq 3\n",
    "\\end{cases}\n",
    "$$"
   ]
  },
  {
   "cell_type": "markdown",
   "id": "c969df9f-851c-4324-a3c2-49c04eaf1397",
   "metadata": {},
   "source": [
    "The summation is called the *cofactor expansion* along row 1."
   ]
  },
  {
   "cell_type": "markdown",
   "id": "37139235-c6cb-4c11-900d-17bc798f8715",
   "metadata": {},
   "source": [
    "For a order 3 matrix, it would be:\n",
    "\n",
    "$$\n",
    "\\left | \\mat{a & b & c \\\\ d & e &f \\\\ g& h & i}\\right |\n",
    "=\n",
    "a \\left | \\mat{e & f \\\\ h & i}\\right |\n",
    "- b \\left | \\mat{d & f \\\\ g & i}\\right |\n",
    "+ c \\left | \\mat{d & e \\\\ g & h}\\right |\n",
    "=\n",
    "aei - afh - bdi + bfg + cdh - ceg\n",
    "$$"
   ]
  },
  {
   "cell_type": "markdown",
   "id": "81c408ce-5b5c-4f9a-95a6-8254a25dc9e3",
   "metadata": {},
   "source": [
    "In fact, the determinant is the same, regardless of which row or column we perform the co-factor expansion."
   ]
  },
  {
   "cell_type": "markdown",
   "id": "b5683d6b-e1bd-444e-8d1b-7980fe1bc30a",
   "metadata": {},
   "source": [
    "$\\theorem$ The determinant of a square matrix can be obtained by performing cofactor expansion along any row or column"
   ]
  },
  {
   "cell_type": "markdown",
   "id": "1014f489-804f-4f5b-96fa-a5f1e78bf21d",
   "metadata": {},
   "source": [
    "For example, expanding along the 2nd column,\n",
    "$$\n",
    "\\left | \\mat{a & b & c \\\\ d & e &f \\\\ g& h & i}\\right |\n",
    "=\n",
    "- b \\left | \\mat{d & f \\\\ g & i}\\right |\n",
    "+ e \\left | \\mat{a & c \\\\ g &i}\\right |\n",
    "- h \\left | \\mat{a & c \\\\ d & f}\\right |\n",
    "=\n",
    "-bdi + bfg + eai - ecg - haf + hcd\n",
    "$$"
   ]
  },
  {
   "cell_type": "markdown",
   "id": "e6cb29f2-2f97-4030-8520-e69089653e22",
   "metadata": {},
   "source": [
    "And we can see that the 2 are equal."
   ]
  },
  {
   "cell_type": "code",
   "execution_count": 14,
   "id": "bed8b5bd-bdea-4f28-b443-73b2b82ba94a",
   "metadata": {},
   "outputs": [
    {
     "name": "stdout",
     "output_type": "stream",
     "text": [
      "def det(A: np.ndarray) -> float:\n",
      "    if A.ndim == 1:\n",
      "        return A[0]\n",
      "\n",
      "    assert A.ndim == 2\n",
      "    assert A.shape[0] == A.shape[1]\n",
      "    n = A.shape[0]\n",
      "\n",
      "    if n == 1:\n",
      "        return A[0][0]\n",
      "    if n == 2:\n",
      "        a, b, c, d = A.ravel()\n",
      "        return a * d - b * c\n",
      "\n",
      "    return sum(A[0][i] * det(A[1:, [j for j in range(n) if j != i]]) * (-1) ** i for i in range(n))\n"
     ]
    }
   ],
   "source": [
    "from module.matrix import det\n",
    "show_implementation(det)"
   ]
  },
  {
   "cell_type": "markdown",
   "id": "44a2237f-6c37-4a3d-95a7-66f30751ca78",
   "metadata": {},
   "source": [
    "$\\corollary$:\n",
    "$\\left | \\arr A \\right | = \\left | \\arr A ^T \\right |$"
   ]
  },
  {
   "cell_type": "markdown",
   "id": "ae913301-b0cf-409a-9f44-7a00d4c6daf3",
   "metadata": {},
   "source": [
    "<details>\n",
    "<summary style=\"color: blue\">$\\proof$ (Click to expand)</summary>\n",
    "    <div style=\"background: aliceblue\">\n",
    "        Simply notice that a cofactor expansion across the first row of $\\arr A$ is the same as the cofactor expansion down the first column of $\\arr A^T$.\n",
    "        $$QED$$\n",
    "    </div>\n",
    "</details>"
   ]
  },
  {
   "cell_type": "markdown",
   "id": "6c8ab8f1-d9ab-47a5-a12b-ad62765338b7",
   "metadata": {},
   "source": [
    "$\\corollary$:\n",
    "If a square matrix $\\arr A$ has a zero row or column, its determinant is 0"
   ]
  },
  {
   "cell_type": "markdown",
   "id": "311c893b-7e6d-46ac-9f7e-f3dac7e3b9e6",
   "metadata": {},
   "source": [
    "<details>\n",
    "<summary style=\"color: blue\">$\\proof$ (Click to expand)</summary>\n",
    "    <div style=\"background: aliceblue\">\n",
    "        Simply expand along the 0 row.\n",
    "        $$QED$$\n",
    "    </div>\n",
    "</details>"
   ]
  },
  {
   "cell_type": "markdown",
   "id": "ae4b74fe-ebde-43b0-8eb0-0e114c561746",
   "metadata": {},
   "source": [
    "$\\corollary$:\n",
    "The determinant of a [triangular matrix](#Triangular--matrix) is the sum of the diagonal entries."
   ]
  },
  {
   "cell_type": "markdown",
   "id": "c45a61bf-d795-4219-a2b4-d3ea8fa1b52a",
   "metadata": {},
   "source": [
    "<details>\n",
    "<summary style=\"color: blue\">$\\proof$ (Click to expand)</summary>\n",
    "    <div style=\"background: aliceblue\">\n",
    "        For a upper triangular matrix, we expand along the first column.\n",
    "        We will see that it recursively multiply the diagonal entries, getting our result.\n",
    "        For lower triangular matrices, we expand along the first row to get the same conclusion.\n",
    "        $$QED$$\n",
    "    </div>\n",
    "</details>"
   ]
  },
  {
   "cell_type": "markdown",
   "id": "1a0653df-c342-464e-b484-8329498a53f7",
   "metadata": {},
   "source": [
    "$\\theorem$:\n",
    "$\\left | \\arr {A B} \\right | = \\left | \\arr A \\right | \\left | \\arr B \\right|$"
   ]
  },
  {
   "cell_type": "markdown",
   "id": "7cc708f3-9b87-4b6d-9fd8-682f850f6e23",
   "metadata": {},
   "source": [
    "$\\corollary$:\n",
    "$\\left | \\arr {A}\\inv \\right | = \\frac{1}{\\left | \\arr A \\right |}$"
   ]
  },
  {
   "cell_type": "markdown",
   "id": "ad834141-a8c7-4551-ba0b-5f24e93afa3d",
   "metadata": {},
   "source": [
    "<details>\n",
    "<summary style=\"color: blue\">$\\proof$ (Click to expand)</summary>\n",
    "    <div style=\"background: aliceblue\">\n",
    "        $$\n",
    "        \\arr A \\arr A \\inv = \\arr I \\\\\n",
    "        \\Rightarrow \\left|  \\arr A \\arr A \\inv \\right | = \\left | \\arr I \\right| \\\\\n",
    "        \\Rightarrow \\left|  \\arr A \\right| \\left | \\arr A \\inv \\right | = 1 \\\\\n",
    "        \\Rightarrow  \\left | \\arr A \\inv \\right | = \\frac{1}{\\left|  \\arr A \\right|} \\\\\n",
    "        $$\n",
    "        $$QED$$\n",
    "    </div>\n",
    "</details>"
   ]
  },
  {
   "cell_type": "markdown",
   "id": "2ad284d4-bf15-468c-8d76-6f33fa0f9fd1",
   "metadata": {},
   "source": [
    "### Effects of elementary row operation"
   ]
  },
  {
   "cell_type": "markdown",
   "id": "151e9cf0-640b-4778-9ff1-5702157ca389",
   "metadata": {},
   "source": [
    "Suppose that we perform some elementary row operation on a square matrix.\n",
    "We wish to know its effect on the determinant of the matrix."
   ]
  },
  {
   "cell_type": "markdown",
   "id": "ecd53615-6e9e-4a4f-a77b-a75c19f0af06",
   "metadata": {},
   "source": [
    "Suppose $\\arr B$ is the new matrix after applying the row operation on $\\arr A$.\n",
    "Then the relationship between their determinant would be:"
   ]
  },
  {
   "cell_type": "markdown",
   "id": "bb42428b-7043-41d8-9194-bdb8258c12b0",
   "metadata": {},
   "source": [
    "| Operation | Determinant of $\\arr B $ |\n",
    "| --- | --- |\n",
    "| $$c R_i$$ | $$ c \\left | A \\right|$$ |\n",
    "| $$R_i \\leftrightarrow R_j$$ | $$- \\left | A \\right|$$ |\n",
    "| $$R_i + a R_j$$ | $$\\left | A \\right|$$ |"
   ]
  },
  {
   "cell_type": "code",
   "execution_count": 15,
   "id": "37f34b7e-3e1e-475b-b7a6-a236c75d33f8",
   "metadata": {},
   "outputs": [
    {
     "name": "stdout",
     "output_type": "stream",
     "text": [
      "A:\n",
      "[[1 2 3]\n",
      " [4 5 6]\n",
      " [3 4 2]]\n",
      "det(A): 9\n",
      "B:\n",
      "[[ 1  2  3]\n",
      " [12 15 18]\n",
      " [ 3  4  2]]\n",
      "det(B): 27\n",
      "B:\n",
      "[[4 5 6]\n",
      " [1 2 3]\n",
      " [3 4 2]]\n",
      "det(B): -9\n",
      "B:\n",
      "[[1 2 3]\n",
      " [4 5 6]\n",
      " [5 8 8]]\n",
      "det(B): 9\n"
     ]
    }
   ],
   "source": [
    "A = np.array([1, 2, 3, 4, 5, 6, 3, 4, 2]).reshape((3, 3))\n",
    "B = A.copy()\n",
    "B[1] *= 3\n",
    "print('A:', A, sep='\\n')\n",
    "print('det(A):', det(A))\n",
    "print('B:', B, sep='\\n')\n",
    "print('det(B):', det(B))\n",
    "\n",
    "B = A.copy()\n",
    "B[1], B[0] = A[0], A[1]\n",
    "print('B:', B, sep='\\n')\n",
    "print('det(B):', det(B))\n",
    "\n",
    "B = A.copy()\n",
    "B[2] += 2 * B[0]\n",
    "print('B:', B, sep='\\n')\n",
    "print('det(B):', det(B))"
   ]
  },
  {
   "cell_type": "markdown",
   "id": "fdbdbb96-0cc0-4f79-9e0f-fac38024feab",
   "metadata": {},
   "source": [
    "Using the properties of the determinant of product of two matrices, we can derive the determinant of $E$."
   ]
  },
  {
   "cell_type": "markdown",
   "id": "9e3270ed-2fed-4d62-b915-0eeec7aadb9d",
   "metadata": {},
   "source": [
    "| Operation | Determinant of $\\arr E $ |\n",
    "| --- | --- |\n",
    "| $$c R_i$$ | $$ c $$ |\n",
    "| $$R_i \\leftrightarrow R_j$$ | $$- 1$$ |\n",
    "| $$R_i + a R_j$$ | $$1 $$ |"
   ]
  },
  {
   "cell_type": "markdown",
   "id": "fb6987cb-652d-4717-bf2f-ae3714187564",
   "metadata": {},
   "source": [
    "$\\corollary$:\n",
    "$\\left | \\arr {c A} \\right | = c^n \\det {\\arr A}$"
   ]
  },
  {
   "cell_type": "markdown",
   "id": "e3fbbf1e-f860-4683-a5d8-5ada7d8f3c3f",
   "metadata": {},
   "source": [
    "<details>\n",
    "<summary style=\"color: blue\">$\\proof$ (Click to expand)</summary>\n",
    "    <div style=\"background: aliceblue\">\n",
    "        We treat the scalar multiplication as the row scaling elementary row operation on all the rows.\n",
    "        Our conclusion follows.\n",
    "        $$QED$$\n",
    "    </div>\n",
    "</details>"
   ]
  },
  {
   "cell_type": "markdown",
   "id": "c35242b2-2299-409a-a65d-fefa90c6c3fb",
   "metadata": {},
   "source": [
    "$\\theorem$:\n",
    "$\\arr A$ is invertible if and only if $\\det {\\arr A} \\neq 0$"
   ]
  },
  {
   "cell_type": "markdown",
   "id": "03282ab3-74ac-4649-9c6d-6906126936d8",
   "metadata": {},
   "source": [
    "This is statement 6 in our [pool of equivalence](pool_of_equivalence.ipynb)."
   ]
  },
  {
   "cell_type": "markdown",
   "id": "60a02e38-8ee9-4c4c-b343-3b483edb8f54",
   "metadata": {},
   "source": [
    "<details>\n",
    "<summary style=\"color: blue\">$\\proof$ (Click to expand)</summary>\n",
    "    <div style=\"background: aliceblue\">\n",
    "        Consider the reduced row-echelon form of $\\arr A$.\n",
    "        If it is not invertible, then it must have a zero row and thus the determinant must be 0.\n",
    "        Since elementary row operations cannot cause the determinant to be 0, the determinant of $arr A$ must be 0.\n",
    "        <br>\n",
    "        Suppose that it is invertible.\n",
    "        Then $\\arr A$ can be express as a product of elementary row operations.\n",
    "        The determinant will be the product of these determinants.\n",
    "        Since none of the determinants are 0, the determinant of $\\arr A$ is non-zero.\n",
    "        $$QED$$\n",
    "    </div>\n",
    "</details>"
   ]
  }
 ],
 "metadata": {
  "kernelspec": {
   "display_name": "Python 3 (ipykernel)",
   "language": "python",
   "name": "python3"
  },
  "language_info": {
   "codemirror_mode": {
    "name": "ipython",
    "version": 3
   },
   "file_extension": ".py",
   "mimetype": "text/x-python",
   "name": "python",
   "nbconvert_exporter": "python",
   "pygments_lexer": "ipython3",
   "version": "3.10.4"
  }
 },
 "nbformat": 4,
 "nbformat_minor": 5
}
