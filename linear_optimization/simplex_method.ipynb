{
 "cells": [
  {
   "cell_type": "code",
   "execution_count": 1,
   "id": "df6cf218",
   "metadata": {},
   "outputs": [],
   "source": [
    "from common.utility import show_implementation\n",
    "from module.utility import plot_halfspace, print_table, make_vars\n",
    "import numpy as np\n",
    "import matplotlib.pyplot as plt"
   ]
  },
  {
   "cell_type": "markdown",
   "id": "c14facbe",
   "metadata": {},
   "source": [
    "# Simplex method\n",
    "\n",
    "Preamble: Though this chapter might dabble in some rather complicated linear algebra operations, it is rather simple once we learn about the [tableau method](#Tableau).\n",
    "\n",
    "## Feasible direction\n",
    "A **feasible direction** from some point $\\mathbf x$ in a polyhedron $P$ is the vectors $\\mathbf d$ such that $\\mathbf x + \\theta d \\in P$ for some $\\theta > 0$.\n",
    "Geometrically, it means that we can move that that direction while staying in the polyhedron."
   ]
  },
  {
   "cell_type": "markdown",
   "id": "d1c434eb",
   "metadata": {},
   "source": [
    "The simplex method is simply a way to move from one BFS to the next along some feasible direction, designed to reduce the objective $\\mathbf c ^ T \\mathbf x$."
   ]
  },
  {
   "cell_type": "markdown",
   "id": "614d75ef",
   "metadata": {},
   "source": [
    "Since $\\mathbf A(\\mathbf x + \\theta \\mathbf d ^ j) = \\mathbf b$ and $\\mathbf {Ax} = \\mathbf b$ implies that  $\\mathbf{Ad}^j = \\mathbf 0$, we formulate the below: \n",
    "\n",
    "Let $B$ be the basis for $\\mathbf x$.\n",
    "For some nonbasic index $j \\in N$, let $\\mathbf d^j = (\\mathbf d ^ j _ B, \\mathbf d ^ j_N) ^T$ such that \n",
    "* $\\mathbf{Ad}^j = \\mathbf 0$\n",
    "* $d_j^j = 1$\n",
    "* $d_i^j = 0$ for $i \\in N \\setminus \\{j \\}$"
   ]
  },
  {
   "cell_type": "markdown",
   "id": "3ab436b6",
   "metadata": {},
   "source": [
    "We assert that $\\mathbf{d}^j_B = -\\mathbf{B}^{-1}\\mathbf{A}_j$"
   ]
  },
  {
   "cell_type": "markdown",
   "id": "31c84678",
   "metadata": {},
   "source": [
    "Hence, $d^j$ is in the form of $(-\\mathbf B^{-1} \\mathbf A_j, 0, \\dots ,0, 1, 0, \\dots, 0)$ where the $1$ is in the $j$-th position."
   ]
  },
  {
   "cell_type": "markdown",
   "id": "dad8534f",
   "metadata": {},
   "source": [
    "Now, we just need to find a $\\theta$ such that  $\\mathbf x + \\theta \\mathbf d ^j \\geq 0$.\n",
    "We simply choose the largest possible $\\theta$ while maintaining the inequality, which we claim is the below:\n",
    "$$\n",
    "\\bar \\theta _j = \\min \\{ \\frac{(\\mathbf B^{-1} \\mathbf b)_i}{(\\mathbf B^{-1} \\mathbf A_j)_i}| i \\in B, (\\mathbf B^{-1} \\mathbf A_j) _i > 0\\}\n",
    "$$"
   ]
  },
  {
   "cell_type": "markdown",
   "id": "adb42fb2",
   "metadata": {},
   "source": [
    "Note that if $\\mathbf B^{-1} \\mathbf A_j \\leq 0$, then $\\mathbf x + \\theta \\mathbf d ^j \\geq 0$ for all $\\theta \\geq 0$, *ie* the feasible set is unbounded."
   ]
  },
  {
   "cell_type": "markdown",
   "id": "3c073b03",
   "metadata": {},
   "source": [
    "<span hidden> TODO: add proof </span>"
   ]
  },
  {
   "cell_type": "markdown",
   "id": "e82610c3",
   "metadata": {},
   "source": [
    "### Reduced cost\n",
    "We split the cost function into $\\mathbf c = (\\mathbf c_B, \\mathbf c_N)$, basic and nonbasic.\n",
    "\n",
    "The reduced cost $\\bar c_j$ of a variable $x_j$ is defined as:\n",
    "$$\n",
    "\\bar c_j = \\mathbf c^T \\mathbf d^j = c_j - \\mathbf c^T_B \\mathbf B^{-1} \\mathbf A_j\n",
    "$$"
   ]
  },
  {
   "cell_type": "markdown",
   "id": "e458cbee",
   "metadata": {},
   "source": [
    "Notice that if $j \\in B$, then $\\bar c_j = 0$."
   ]
  },
  {
   "cell_type": "markdown",
   "id": "7383b59d",
   "metadata": {},
   "source": [
    "If $\\bar c_j < 0$ and $\\bar \\theta_j > 0$, then:\n",
    "\n",
    "$$\n",
    "\\mathbf c^T(\\mathbf x + \\bar \\theta _j \\mathbf d^j) \n",
    "= \\mathbf c ^ \\mathbf x + \\bar \\theta_j \\mathbf c ^ T  \\mathbf d ^ j\n",
    "= \\mathbf c  ^ T \\mathbf x + \\bar \\theta_j \\bar c_j\n",
    "$$"
   ]
  },
  {
   "cell_type": "markdown",
   "id": "a756ba38",
   "metadata": {},
   "source": [
    "Hence, the objective is improved by $\\bar \\theta _j \\bar c_j$."
   ]
  },
  {
   "cell_type": "markdown",
   "id": "9379cbc5",
   "metadata": {},
   "source": [
    "If $\\bar c_j < 0$ and $\\bar \\theta_j = \\infty$, then the problem is unbounded."
   ]
  },
  {
   "cell_type": "markdown",
   "id": "a63bc106",
   "metadata": {},
   "source": [
    "Instinctively, we can rationalize this value as the \"maximum amount of cost we can obtain if we were to swap out some of our current resources to obtain 1 more unit of $j$\"."
   ]
  },
  {
   "cell_type": "markdown",
   "id": "a2b1c066",
   "metadata": {},
   "source": [
    "We say that BFS is **non-degenerate** if $\\mathbf x_B = \\mathbf B ^{-1} \\mathbf b > 0$"
   ]
  },
  {
   "cell_type": "markdown",
   "id": "15b51361",
   "metadata": {},
   "source": [
    "And equivalently, it is degenerate if some element of $\\mathbf x_B$ is 0."
   ]
  },
  {
   "cell_type": "markdown",
   "id": "08be9c2c",
   "metadata": {},
   "source": [
    "Since the non-basic variables have a value of $0$, a degenerate solution means that we have more $0$ than expected in our solution."
   ]
  },
  {
   "cell_type": "markdown",
   "id": "8286786b",
   "metadata": {},
   "source": [
    "## Optimality condition\n",
    "If $\\mathbf B$ is associated with a BFS $\\mathbf x$, and $\\bar \\mathbf c$ is the vector of reduced costs, then:\n",
    "1. if $\\bar{ \\mathbf c} \\geq 0$, then $\\mathbf x$ is optimal\n",
    "2. if $\\mathbf x$ is optimal and non-degenerate, then $\\bar {\\mathbf c} \\geq 0$"
   ]
  },
  {
   "cell_type": "markdown",
   "id": "34aa0ed5",
   "metadata": {},
   "source": [
    "<span hidden> TODO: add proof </span>"
   ]
  },
  {
   "cell_type": "markdown",
   "id": "c78e8e3d",
   "metadata": {},
   "source": [
    "Graphically, we can see why the reduced cost may not be 0 at an degenerate, optimal solution."
   ]
  },
  {
   "cell_type": "code",
   "execution_count": 2,
   "id": "5bc91e42",
   "metadata": {},
   "outputs": [
    {
     "data": {
      "image/png": "[encoded data removed]",
      "text/plain": [
       "<Figure size 600x400 with 1 Axes>"
      ]
     },
     "metadata": {},
     "output_type": "display_data"
    }
   ],
   "source": [
    "ax = plot_halfspace(\n",
    "    np.linspace(0, 4),\n",
    "    \"  -1x1 + 2x2 = 2\",\n",
    "    \"   2x1 + 2x2 = 10\",\n",
    "    \" 0.5x1 + 2x2 = 5\",\n",
    "    \"-0.5x1 + 4x2 = 7\",\n",
    ")\n",
    "ax.plot(2, 2, \"x\")\n",
    "ax.arrow(2, 2.2, 0.12, 0.015, head_width=0.05)\n",
    "ax.annotate(\"C\", (0.5, 1.8))\n",
    "plt.show()"
   ]
  },
  {
   "cell_type": "markdown",
   "id": "c524c35b",
   "metadata": {},
   "source": [
    "Notice that at $(2, 2)$ the solution is optimal (assuming $\\mathbf c = (0, 1)$).\n",
    "However, the constraint $C$ is not part of the basis, thus it thinks it is not active, and thus indicating that we can still travel along $C$ to increase our objective.\n",
    "However, this is misguided as it did not account for the constraints placed by the basis."
   ]
  },
  {
   "cell_type": "markdown",
   "id": "2bc0686b",
   "metadata": {},
   "source": [
    "And if we had computed the $\\theta$ of that direction, we would see that $\\theta = 0$, which means it is not a feasible direction."
   ]
  },
  {
   "cell_type": "markdown",
   "id": "4908e6ae",
   "metadata": {},
   "source": [
    "## Simplex method\n",
    "The simplex method is as follows:\n",
    "1. Start with a basis $\\mathbf B$ and its basic columns $\\mathbf A _B$ and BFS $\\mathbf x$\n",
    "2. Compute the reduced costs $\\bar c_j = c_j - \\mathbf c ^ T _ B \\mathbf B ^{-1} \\mathbf A_j$ for all $j \\in N$\n",
    "    * if all $\\bar c_j \\geq 0$, then current BFS is optimal. Return the solution\n",
    "    * Else, we choose some $j_*$ for which $\\bar c _{j_*} < 0$. The corresponding variables $x_{j_*}$ is our **entering variable**\n",
    "3. Compute $\\mathbf u = \\mathbf B^{-1} \\mathbf A_{j_*}$\n",
    "    * $\\mathbf u \\leq 0$ then the problem is unbounded and we can exit\n",
    "    * Else, compute $\\theta ^* = \\min \\frac{\\mathbf X_B(i)}{u_i}$\n",
    "4. Let $I$ be such that $\\theta ^* = \\min \\frac{\\mathbf X_B(I)}{u_I}$  \n",
    "    * The corresponding $x_B(I)$ is the **leaving variable**\n",
    "5. Form a new basis by replacing $\\mathbf A_{B(I)}$ with $\\mathbf A_j$\n",
    "6. Repeat step 1 with the new basis"
   ]
  },
  {
   "cell_type": "markdown",
   "id": "e074ca76",
   "metadata": {},
   "source": [
    "### Tableau \n",
    "The above algorithm seems rather complicated and long.\n",
    "However, it is rather simple once we implement a tableau form.\n",
    "All the matrix inversions and computations can be performed as row operations on the tableau.\n",
    "\n",
    "We define the following simplex tableau\n",
    "\n",
    "| Basic | $$x$$ | Solution |\n",
    "| --- | --- | ---  |\n",
    "| $$\\mathbf {\\bar c} $$ | $$\\mathbf c ^ T - \\mathbf c ^T _B \\mathbf B^{-1} \\mathbf A$$ | $$ - \\mathbf c ^T _B \\mathbf B^{-1} \\mathbf b$$\n",
    "| $$\\mathbf x_B$$ | $$\\mathbf B^{-1} \\mathbf A$$ | $$\\mathbf B^{-1} \\mathbf b$$"
   ]
  },
  {
   "cell_type": "markdown",
   "id": "6fd9ec26",
   "metadata": {},
   "source": [
    "Once again, it looks complicated, but if we consider the following standard form LP:\n",
    "\n",
    "$$\n",
    "\\begin{alignedat}{10}\n",
    "\\min    -3 & x_1 - 2 & x_2 \\quad &&&& \\\\\n",
    "s.t. \\quad & x_1 + 2 & x_2 +     &s_1&&& = 6 \\\\ \n",
    "         2 & x_1 +   & x_2 +     &&s_2&& = 8 \\\\ \n",
    "         - & x_1 +   & x_2 +     &&&s_3& = 1 \\\\ \n",
    "          &    & x_2 +     &&&&s_4 = 2 \\\\ \n",
    "          x_i, s_i \\geq 0 \\\\\n",
    "\\end{alignedat}\n",
    "$$"
   ]
  },
  {
   "cell_type": "markdown",
   "id": "37c800b7",
   "metadata": {},
   "source": [
    "Our tableau would be:\n",
    "\n",
    "|Basis| x1| x2| s1| s2| s3| s4| Solution | \n",
    "| --- |--- |--- |--- |--- |--- |--- |--- |\n",
    "| $$\\bar {\\mathbf c}$$ | -3 | -2 | 0 | 0| 0| 0| 0|\n",
    "| s1 | 1 | 2 | 1 | 0| 0| 0| 6|\n",
    "| s2 | 2 | 1 | 0 | 1| 0| 0| 8|\n",
    "| s3 | -1 | 1 | 0 | 0| 1| 0| 1|\n",
    "| s4 | 0 | 1 | 0 | 0| 0| 1| 2|"
   ]
  },
  {
   "cell_type": "markdown",
   "id": "498de658",
   "metadata": {},
   "source": [
    "In order words, we just simply read off the array in the system of linear equations.\n",
    "\n",
    "The reason this works is because we set the basis as $\\mathbf s$.\n",
    "And the reduce cost $\\bar {\\mathbf c} = \\mathbf c - \\mathbf c^T_B \\mathbf B ^{-1} \\mathbf A = \\mathbf c$ since $\\mathbf c^T_B = \\mathbf 0$ (cost function is not dependent on the slack variables)."
   ]
  },
  {
   "cell_type": "markdown",
   "id": "39dbd51a",
   "metadata": {},
   "source": [
    "Now, we will perform iterations on the tableau."
   ]
  },
  {
   "cell_type": "markdown",
   "id": "988607ae",
   "metadata": {},
   "source": [
    "Firstly, we choose either $x_1$ or $x_2$ as the entering variable, since they are negative.\n",
    "We chose $x_1$ in this case."
   ]
  },
  {
   "cell_type": "markdown",
   "id": "e0ef12be",
   "metadata": {},
   "source": [
    "Then, we read down the $x_1$ column and find all the positive elements.\n",
    "In this case, $1$ and $2$.\n",
    "Then we compute the ratio of $b_i/v_i$, giving us $6/1 = 6$ and $8/2=4$ in this case.\n",
    "Since 4 is the smaller of the 2, we will pick $s_2$ as the leaving variable.\n",
    "\n",
    "We then multiply the $s_2$ row to make pivot $1$."
   ]
  },
  {
   "cell_type": "markdown",
   "id": "7dee35be",
   "metadata": {},
   "source": [
    "Our tableau would be:\n",
    "\n",
    "|Basis| x1| x2| s1| s2| s3| s4| Solution | \n",
    "| --- |--- |--- |--- |--- |--- |--- |--- |\n",
    "| $$\\bar {\\mathbf c}$$ | -3 | -2 | 0 | 0| 0| 0| 0|\n",
    "| s1 | 1 | 2 | 1 | 0| 0| 0| 6|\n",
    "| s2 | **1** | **1/2** | **0** | **1/2** | **0** | **0** | **4** |\n",
    "| s3 | -1 | 1 | 0 | 0| 1| 0| 1|\n",
    "| s4 | 0 | 1 | 0 | 0| 0| 1| 2|"
   ]
  },
  {
   "cell_type": "markdown",
   "id": "440f5dd3",
   "metadata": {},
   "source": [
    "Now we zero out all the other entries in the row to add $s_2$ into the basis.\n",
    "Also, we update the label on the left to update our basis."
   ]
  },
  {
   "cell_type": "markdown",
   "id": "0616b6d9",
   "metadata": {},
   "source": [
    "Our tableau would be:\n",
    "\n",
    "|Basis| x1| x2| s1| s2| s3| s4| Solution | \n",
    "| --- |--- |--- |--- |--- |--- |--- |--- |\n",
    "| $$\\bar {\\mathbf c}$$ | **0** | **-1/2** | **0** | **3/2**| **0**| **0**| **12**|\n",
    "| s1 | **0** | **3/2** | **1** | **-1/2**| **0**| **0**| **2**|\n",
    "| **x1** | 1 | 1/2 | 0 | 1/2| 0| 0| 4|\n",
    "| s3 | **0** | **3/2** | **0** | **1/2**| **1**| **0**| **5**|\n",
    "| s4 | 0 | 1 | 0 | 0| 0| 1| 2|"
   ]
  },
  {
   "cell_type": "markdown",
   "id": "a99c75f5",
   "metadata": {},
   "source": [
    "And this concludes one iteration of the simplex method.\n",
    "We proceed until the first row is all non-negative."
   ]
  },
  {
   "cell_type": "markdown",
   "id": "35ef34fa",
   "metadata": {},
   "source": [
    "To reiterate, the simplex method on a tableau is simply:\n",
    "1. Choose any column with negative reduced cost\n",
    "    * If all is positive, an optimal solution is found\n",
    "2. Select all the rows in that column that contains positive values $v_i$\n",
    "    * If entry is positive, then optimal solution is unbounded\n",
    "3. Compute $b_i/v_i$ for the $v_i$ of each of the selected rows. Select the row with the smallest such value\n",
    "4. Divide that row such that $v_i'$ is now $1$\n",
    "5. Zero out all the columns along $v_i'$\n",
    "6. Replace the basis label with the variable associated with $v_i$\n",
    "7. Repeat step 1"
   ]
  },
  {
   "cell_type": "markdown",
   "id": "292e7301",
   "metadata": {},
   "source": [
    "#### Computing reduced cost\n",
    "\n",
    "To obtain the reduced cost in general, we know that we can compute $\\bar {\\mathbf c} = \\mathbf c - \\mathbf c^T_B \\mathbf B ^{-1} \\mathbf A$.\n",
    "We can substitute it as $\\mathbf c - \\mathbf p \\mathbf A$, where $\\mathbf p = \\mathbf c^T_B \\mathbf B ^{-1}$."
   ]
  },
  {
   "cell_type": "markdown",
   "id": "1caf411e",
   "metadata": {},
   "source": [
    "(Note: the $\\mathbf p$ here has a special meaning, which we will discuss in [duality](./duality.ipynb))"
   ]
  },
  {
   "cell_type": "markdown",
   "id": "b4f6136e",
   "metadata": {},
   "source": [
    "The second piece of the puzzle is to notice that the reduced cost of the basis must be 0."
   ]
  },
  {
   "cell_type": "markdown",
   "id": "4dc8ac83",
   "metadata": {},
   "source": [
    "So, if we chose the identity matrix (or permutations of it), then it simply becomes finding the linear combination of $A$ such that all the reduced cost associated with the basic variables is 0."
   ]
  },
  {
   "cell_type": "markdown",
   "id": "de6086ae",
   "metadata": {},
   "source": [
    "For instance \n",
    "\n",
    "|Basis| x1| x2| x3 | x4 | x5 | Solution | \n",
    "| --- |--- |--- |--- |--- |--- |--- |\n",
    "| $$\\mathbf c$$ | 2| 0 | 3 | 0 | 1 | 0|\n",
    "| C1| 2 | 1 | 1 | 0 | 0| 2 |\n",
    "| C2 | 3 | 4 | 0 | -1 | 1| 12| "
   ]
  },
  {
   "cell_type": "markdown",
   "id": "3e31b40e",
   "metadata": {},
   "source": [
    "In this case, we want to find $\\mathbf p$ such that \n",
    "$$\n",
    "\\mathbf c - \\mathbf p\n",
    "\\begin{pmatrix}\n",
    "2 & 1 & 1 & 0 & 0 & 2\\\\\n",
    "3 & 4 & 0 & -1 & 1 & 12\n",
    "\\end{pmatrix}\n",
    "= (?, ?, 0, ?, 0, 0 )\\\\\n",
    "\\Rightarrow\n",
    "\\begin{pmatrix}\n",
    "2 & 0 & 3 & 0 & 1 & 0\\\\\n",
    "\\end{pmatrix}\n",
    "- p_1\n",
    "\\begin{pmatrix}\n",
    "2 & 1 & 1 & 0 & 0 & 2\\\\\n",
    "\\end{pmatrix}\n",
    "- p_2\n",
    "\\begin{pmatrix}\n",
    "3 & 4 & 0 & -1 & 1 & 12\n",
    "\\end{pmatrix}\n",
    "= (?, ?, 0, ?, 0, ?)\\\\\n",
    "$$\n",
    "This is if we view $p_i$ as the each value in the rows of $\\mathbf p$."
   ]
  },
  {
   "cell_type": "markdown",
   "id": "7beb0561",
   "metadata": {},
   "source": [
    "Hence, it becomes obvious that $p_1 = 3$ and $p_2 = 1$.\n",
    "Using this to evaluate the reduced cost, we get:\n",
    "\n",
    "$$\n",
    "\\begin{pmatrix}\n",
    "-7 & -7 & 0 & 1 & 0 & -18\n",
    "\\end{pmatrix}\n",
    "$$\n",
    "\n",
    "Even though this is the same as the formula variant, working with row operation is much easier for human computations."
   ]
  },
  {
   "cell_type": "code",
   "execution_count": 3,
   "id": "cbc17f44",
   "metadata": {},
   "outputs": [
    {
     "data": {
      "text/plain": [
       "array([ -7.,  -7.,   0.,   1.,   0., -18.])"
      ]
     },
     "execution_count": 3,
     "metadata": {},
     "output_type": "execute_result"
    }
   ],
   "source": [
    "from module.simplex import reduced_cost\n",
    "\n",
    "costs = np.array([2, 0, 3, 0, 1, 0])\n",
    "tableau = np.array(\n",
    "    [\n",
    "        [2, 1, 1, 0, 0, 2],\n",
    "        [3, 4, 0, -1, 1, 12],\n",
    "    ]\n",
    ")\n",
    "\n",
    "reduced_cost(costs, tableau, [2, 4])"
   ]
  },
  {
   "cell_type": "markdown",
   "id": "1d8f5256",
   "metadata": {},
   "source": [
    "#### Implementation"
   ]
  },
  {
   "cell_type": "code",
   "execution_count": 4,
   "id": "247e90b6",
   "metadata": {},
   "outputs": [
    {
     "name": "stdout",
     "output_type": "stream",
     "text": [
      "def simplex(c_bar, tableau, maxit=100):\n",
      "    assert c_bar.shape[0] == tableau.shape[1]\n",
      "\n",
      "    c_bar = c_bar + Fraction()\n",
      "    tableau = tableau + Fraction()\n",
      "    counter = 0\n",
      "    while np.any(c_bar[:-1] < 0) and counter < maxit:\n",
      "        col = c_bar[:-1].argmin()\n",
      "        pivot_col = tableau[:, col]\n",
      "        if np.all(pivot_col <= 0):\n",
      "            raise ValueError(\"Unbounded objective\")\n",
      "\n",
      "        value = tableau[:, -1]\n",
      "        metric = np.where(pivot_col > 0, value /\n",
      "                          (pivot_col + (pivot_col == 0)), np.inf)\n",
      "        row = metric.argmin()\n",
      "\n",
      "        c_bar, tableau = pivot(c_bar, tableau, row,  col)\n",
      "        counter += 1\n",
      "    if counter == maxit:\n",
      "        raise RuntimeError(\"Iterations exceeded\")\n",
      "    return c_bar, tableau\n"
     ]
    }
   ],
   "source": [
    "from module.simplex import simplex\n",
    "\n",
    "show_implementation(simplex)"
   ]
  },
  {
   "cell_type": "code",
   "execution_count": 5,
   "id": "9a8b7895",
   "metadata": {
    "scrolled": true
   },
   "outputs": [
    {
     "data": {
      "text/html": [
       "<table><tr><th>$$$$</th><th>$$x_1$$</th><th>$$x_2$$</th><th>$$s_1$$</th><th>$$s_2$$</th><th>$$s_3$$</th><th>$$s_4$$</th><th>$$Solution$$</th></tr><tr><td>$$\\bar {\\mathbf c}$$</td><td>$$ 0$$</td><td>$$ 0$$</td><td>$$ 0.3333$$</td><td>$$ 1.3333$$</td><td>$$ 0$$</td><td>$$ 0$$</td><td>$$ 12.6667$$</td></tr><tr><td>$$x_2$$</td><td>$$ 0$$</td><td>$$ 1$$</td><td>$$ 0.6667$$</td><td>$$ -0.3333$$</td><td>$$ 0$$</td><td>$$ 0$$</td><td>$$ 1.3333$$</td></tr><tr><td>$$x_1$$</td><td>$$ 1$$</td><td>$$ 0$$</td><td>$$ -0.3333$$</td><td>$$ 0.6667$$</td><td>$$ 0$$</td><td>$$ 0$$</td><td>$$ 3.3333$$</td></tr><tr><td>$$s_3$$</td><td>$$ 0$$</td><td>$$ 0$$</td><td>$$ -1$$</td><td>$$ 1$$</td><td>$$ 1$$</td><td>$$ 0$$</td><td>$$ 3$$</td></tr><tr><td>$$s_4$$</td><td>$$ 0$$</td><td>$$ 0$$</td><td>$$ -0.6667$$</td><td>$$ 0.3333$$</td><td>$$ 0$$</td><td>$$ 1$$</td><td>$$ 0.6667$$</td></tr></table>"
      ],
      "text/plain": [
       "<IPython.core.display.HTML object>"
      ]
     },
     "metadata": {},
     "output_type": "display_data"
    }
   ],
   "source": [
    "costs = np.array([-3, -2, 0, 0, 0, 0, 0])\n",
    "tableau = np.array(\n",
    "    [\n",
    "        [1, 2, 1, 0, 0, 0, 6],\n",
    "        [2, 1, 0, 1, 0, 0, 8],\n",
    "        [-1, 1, 0, 0, 1, 0, 1],\n",
    "        [0, 1, 0, 0, 0, 1, 2],\n",
    "    ]\n",
    ")\n",
    "c_bar = reduced_cost(costs, tableau)\n",
    "\n",
    "c_bar, new_tableau = simplex(c_bar, tableau)\n",
    "print_table(c_bar, new_tableau, make_vars(\"x\", 2) + make_vars(\"s\", 4))"
   ]
  },
  {
   "cell_type": "markdown",
   "id": "7a6b9ff2",
   "metadata": {},
   "source": [
    "#### Reading the solution"
   ]
  },
  {
   "cell_type": "markdown",
   "id": "8e3c9c38",
   "metadata": {},
   "source": [
    "To read the solution off the tableau, first identify the basic variables.\n",
    "These are the variables which coincides with the columns with only a single $1$, while the rest is $0$.\n",
    "Then, the value of that variable in the solution is simply the value of the $b$ column, on the row where the $1$ reside.\n",
    "\n",
    "Hence, in this case, the solution is $x_2=1.333, x_1=3.33, s_3=3, s_4=0.667$"
   ]
  },
  {
   "cell_type": "markdown",
   "id": "dff1079b",
   "metadata": {},
   "source": [
    "Also, the top right value would be our negated objective value.\n",
    "Usually, this value is unimportant and we don't need to keep track of it during manual computation, since we can derive it from the solution, like so $c = -3x_1 -2 x_2 = -3(\\frac{10}{3})  -2 (\\frac{4}{3}) = -\\frac{28}{3}$."
   ]
  },
  {
   "cell_type": "markdown",
   "id": "bc2e6ede",
   "metadata": {},
   "source": [
    "Also, if our original basis is an identity matrix (in this case, it is since $s_1, s_2, s_3, s_4$ forms $\\mathbf I$).\n",
    "Then $\\mathbf B^{-1}$ would manifest in the tableau in the same region after the simplex iterations."
   ]
  },
  {
   "cell_type": "code",
   "execution_count": 6,
   "id": "8f6b117d",
   "metadata": {},
   "outputs": [
    {
     "name": "stdout",
     "output_type": "stream",
     "text": [
      "[[ 0.66666667 -0.33333333  0.          0.        ]\n",
      " [-0.33333333  0.66666667  0.          0.        ]\n",
      " [-1.          1.          1.          0.        ]\n",
      " [-0.66666667  0.33333333  0.          1.        ]]\n"
     ]
    }
   ],
   "source": [
    "print(new_tableau[:, :-1][-4:, -4:].astype(\"float64\"))"
   ]
  },
  {
   "cell_type": "code",
   "execution_count": 7,
   "id": "356cb4fd",
   "metadata": {},
   "outputs": [
    {
     "data": {
      "text/plain": [
       "array([[ 0.66666667, -0.33333333,  0.        ,  0.        ],\n",
       "       [-0.33333333,  0.66666667,  0.        ,  0.        ],\n",
       "       [-1.        ,  1.        ,  1.        ,  0.        ],\n",
       "       [-0.66666667,  0.33333333,  0.        ,  1.        ]])"
      ]
     },
     "execution_count": 7,
     "metadata": {},
     "output_type": "execute_result"
    }
   ],
   "source": [
    "basis = [1, 0, 4, 5]\n",
    "B = tableau[:, basis]\n",
    "inv = np.linalg.inv(B)\n",
    "inv.astype(\"float64\")"
   ]
  },
  {
   "cell_type": "markdown",
   "id": "8e7c8748",
   "metadata": {},
   "source": [
    "### Standard LP\n",
    "\n",
    "Notice that in our previous discussions, our constraints are of the form \n",
    "$$\n",
    "\\mathbf{Ax} \\leq \\mathbf{b}\\\\\n",
    "\\mathbf {x} \\geq \\mathbf 0\n",
    "$$"
   ]
  },
  {
   "cell_type": "markdown",
   "id": "0075b6d9",
   "metadata": {},
   "source": [
    "This means we were able to simply set $\\mathbf x = \\mathbf 0$ to obtain a BFS to start our algorithm.\n",
    "\n",
    "However, if we were to consider standard form LP:"
   ]
  },
  {
   "cell_type": "markdown",
   "id": "36ccdb40",
   "metadata": {},
   "source": [
    "$$\n",
    "\\mathbf{Ax} = \\mathbf{b}\\\\\n",
    "\\mathbf {x} \\geq \\mathbf 0\n",
    "$$"
   ]
  },
  {
   "cell_type": "markdown",
   "id": "98646941",
   "metadata": {},
   "source": [
    "We can no longer perform that since the constraints may not be satisfied."
   ]
  },
  {
   "cell_type": "markdown",
   "id": "38b9b2ff",
   "metadata": {},
   "source": [
    "#### 2-phase method"
   ]
  },
  {
   "cell_type": "markdown",
   "id": "f8a9799c",
   "metadata": {},
   "source": [
    "To resolve this, we perform the following:\n",
    "1. Convert all constraints such that $\\mathbf b \\geq 0$ by multiplying by $-1$ if needed\n",
    "2. Add a set of $y_i \\in \\mathbb R^m$ auxiliary variables to **constraints without positive slack**\n",
    "3. Construct a new LP as per below\n",
    "\n",
    "$$\n",
    "\\begin{align}\n",
    "&\\min &\\sum y_i\\\\\n",
    "&s.t. &\\mathbf{Ax} = \\mathbf{b}\\\\\n",
    "&&\\mathbf {x} \\geq \\mathbf 0 \\\\\n",
    "&&\\mathbf {y} \\geq \\mathbf 0\n",
    "\\end{align}\n",
    "$$\n",
    "\n",
    "4. Perform the simplex method, using $\\mathbf y$ as the basis to obtain an initial BFS\n",
    "\n",
    "The $\\mathbf x$ in the solution of the above will be our BFS for our original LP.\n",
    "The reason this works is because in the auxiliary LP, we are trying to drive down the value of the $y$ variables.\n",
    "Hence, if a solution does exists, it will be populated with $x$ variables, while satisfying the constraints of the initial LP.\n",
    "\n",
    "If the problem is infeasible, we would obtain a solution that contains a $y$ variable that is $>0$, and thus we can detect it at the first phase."
   ]
  },
  {
   "cell_type": "markdown",
   "id": "bd648715",
   "metadata": {},
   "source": [
    "#### Example"
   ]
  },
  {
   "cell_type": "markdown",
   "id": "58742e66",
   "metadata": {},
   "source": [
    "Consider the below LP:\n",
    "$$\n",
    "\\begin{alignedat}{20}\n",
    "\\min    \\quad & 4x_1 & \\quad + \\quad &  & x_2 \\quad  \\\\\n",
    "s.t. \\quad 3 & x_1 & \\quad + \\quad & x_2 & = 3 \\\\ \n",
    "           -4 & x_1 & \\quad - \\quad & 3x_2 & \\leq -6 \\\\ \n",
    "         & x_1 & \\quad + \\quad & 2x_2 & \\leq 4 \\\\ \n",
    "         & x_1, x_2 &&&\\geq 0 \\\\\n",
    "\\end{alignedat}\n",
    "$$"
   ]
  },
  {
   "cell_type": "markdown",
   "id": "38dceac8",
   "metadata": {},
   "source": [
    "We perform steps 1-3 to obtain:"
   ]
  },
  {
   "cell_type": "markdown",
   "id": "22c0f01b",
   "metadata": {},
   "source": [
    "$$\n",
    "\\begin{alignedat}{20}\n",
    "\\min    \\quad & & & & & & & & y_1 & + y_2\\quad  \\\\\n",
    "s.t. \\quad 3 & x_1 & + & x_2 & & & & & +y_1 & &  = 3 \\\\ \n",
    "           4 & x_1 & + & 3x_2 & & -s_1& & & &+y_2 &= 6 \\\\ \n",
    "         & x_1 & + & 2x_2 & & & & +s_2 & & & = 4 \\\\ \n",
    "         & x_i,s_i,y_i &&& & & & & & &\\geq 0 \\\\\n",
    "\\end{alignedat}\n",
    "$$"
   ]
  },
  {
   "cell_type": "code",
   "execution_count": 8,
   "id": "1ad027ba",
   "metadata": {},
   "outputs": [
    {
     "data": {
      "text/html": [
       "<table><tr><th>$$$$</th><th>$$x_1$$</th><th>$$x_2$$</th><th>$$s_1$$</th><th>$$s_2$$</th><th>$$y_1$$</th><th>$$y_2$$</th><th>$$Solution$$</th></tr><tr><td>$$\\bar {\\mathbf c}$$</td><td>$$ 0$$</td><td>$$ 0$$</td><td>$$ 0$$</td><td>$$ 0$$</td><td>$$ 1$$</td><td>$$ 1$$</td><td>$$ 0$$</td></tr><tr><td>$$x_1$$</td><td>$$ 1$$</td><td>$$ 0$$</td><td>$$ 0$$</td><td>$$ -0.2$$</td><td>$$ 0.4$$</td><td>$$ 0$$</td><td>$$ 0.4$$</td></tr><tr><td>$$x_2$$</td><td>$$ 0$$</td><td>$$ 1$$</td><td>$$ 0$$</td><td>$$ 0.6$$</td><td>$$ -0.2$$</td><td>$$ 0$$</td><td>$$ 1.8$$</td></tr><tr><td>$$s_1$$</td><td>$$ 0$$</td><td>$$ 0$$</td><td>$$ 1$$</td><td>$$ 1$$</td><td>$$ 1$$</td><td>$$ -1$$</td><td>$$ 1$$</td></tr></table>"
      ],
      "text/plain": [
       "<IPython.core.display.HTML object>"
      ]
     },
     "metadata": {},
     "output_type": "display_data"
    }
   ],
   "source": [
    "costs = np.array([0, 0, 0, 0, 1, 1, 0])\n",
    "tableau = np.array(\n",
    "    [\n",
    "        [3, 1, 0, 0, 1, 0, 3],\n",
    "        [4, 3, -1, 0, 0, 1, 6],\n",
    "        [1, 2, 0, 1, 0, 0, 4],\n",
    "    ]\n",
    ")\n",
    "\n",
    "c_bar = reduced_cost(costs, tableau)\n",
    "\n",
    "print_table(\n",
    "    *simplex(c_bar, tableau), make_vars(\"x\", 2) + make_vars(\"s\", 2) + make_vars(\"y\", 2)\n",
    ")"
   ]
  },
  {
   "cell_type": "markdown",
   "id": "c649d066",
   "metadata": {},
   "source": [
    "After we perform our simplex method on the auxiliary array, notice that the $y$ variables are not in the basis, and thus we can drop its columns to obtain our basis for the original LP."
   ]
  },
  {
   "cell_type": "code",
   "execution_count": 9,
   "id": "e7542e7b",
   "metadata": {},
   "outputs": [
    {
     "data": {
      "text/html": [
       "<table><tr><th>$$$$</th><th>$$x_1$$</th><th>$$x_2$$</th><th>$$s_1$$</th><th>$$s_2$$</th><th>$$Solution$$</th></tr><tr><td>$$\\bar {\\mathbf c}$$</td><td>$$ 0$$</td><td>$$ 0$$</td><td>$$ 0$$</td><td>$$ 0.2$$</td><td>$$ -3.4$$</td></tr><tr><td>$$x_1$$</td><td>$$ 1$$</td><td>$$ 0$$</td><td>$$ 0$$</td><td>$$ -0.2$$</td><td>$$ 0.4$$</td></tr><tr><td>$$x_2$$</td><td>$$ 0$$</td><td>$$ 1$$</td><td>$$ 0$$</td><td>$$ 0.6$$</td><td>$$ 1.8$$</td></tr><tr><td>$$s_1$$</td><td>$$ 0$$</td><td>$$ 0$$</td><td>$$ 1$$</td><td>$$ 1$$</td><td>$$ 1$$</td></tr></table>"
      ],
      "text/plain": [
       "<IPython.core.display.HTML object>"
      ]
     },
     "metadata": {},
     "output_type": "display_data"
    }
   ],
   "source": [
    "costs = np.array([4, 1, 0, 0, 0])\n",
    "tableau = np.array(\n",
    "    [\n",
    "        [1, 0, 0.2, 0, 0.6],\n",
    "        [0, 1, -0.6, 0, 1.2],\n",
    "        [0, 0, 1, 1, 1],\n",
    "    ]\n",
    ")\n",
    "\n",
    "c_bar = reduced_cost(costs, tableau)\n",
    "\n",
    "print_table(*simplex(c_bar, tableau), make_vars(\"x\", 2) + make_vars(\"s\", 2))"
   ]
  },
  {
   "cell_type": "markdown",
   "id": "4ac38112",
   "metadata": {},
   "source": [
    "##### Infeasible\n",
    "\n",
    "Below is an system that is infeasible."
   ]
  },
  {
   "cell_type": "markdown",
   "id": "865fc0ee",
   "metadata": {},
   "source": [
    "$$\n",
    "\\begin{alignedat}{20}\n",
    "\\min    \\quad   & & & & &  & y \\\\\n",
    "s.t. \\quad 2  x_1 & + & x_2 & +s_1& &  & &   = 3 \\\\ \n",
    "           3  x_1 & + & 4x_2 & &  & -s_2 & +y &= 6 \\\\ \n",
    "         & x_i,s_i,y &&& & & & & & \\geq 0 \\\\\n",
    "\\end{alignedat}\n",
    "$$"
   ]
  },
  {
   "cell_type": "code",
   "execution_count": 10,
   "id": "4584dc63",
   "metadata": {},
   "outputs": [
    {
     "data": {
      "text/html": [
       "<table><tr><th>$$$$</th><th>$$x_1$$</th><th>$$x_2$$</th><th>$$s_1$$</th><th>$$s_2$$</th><th>$$y$$</th><th>$$Solution$$</th></tr><tr><td>$$\\bar {\\mathbf c}$$</td><td>$$ 5$$</td><td>$$ 0$$</td><td>$$ 4$$</td><td>$$ 1$$</td><td>$$ 0$$</td><td>$$ -4$$</td></tr><tr><td>$$x_2$$</td><td>$$ 2$$</td><td>$$ 1$$</td><td>$$ 1$$</td><td>$$ 0$$</td><td>$$ 0$$</td><td>$$ 2$$</td></tr><tr><td>$$y$$</td><td>$$ -5$$</td><td>$$ 0$$</td><td>$$ -4$$</td><td>$$ -1$$</td><td>$$ 1$$</td><td>$$ 4$$</td></tr></table>"
      ],
      "text/plain": [
       "<IPython.core.display.HTML object>"
      ]
     },
     "metadata": {},
     "output_type": "display_data"
    }
   ],
   "source": [
    "costs = np.array([0, 0, 0, 0, 1, 0])\n",
    "tableau = np.array(\n",
    "    [\n",
    "        [2, 1, 1, 0, 0, 2],\n",
    "        [3, 4, 0, -1, 1, 12],\n",
    "    ]\n",
    ")\n",
    "\n",
    "c_bar = reduced_cost(costs, tableau)\n",
    "\n",
    "print_table(*simplex(c_bar, tableau), make_vars(\"x\", 2) + make_vars(\"s\", 2) + [\"y\"])"
   ]
  },
  {
   "cell_type": "markdown",
   "id": "453e520a",
   "metadata": {},
   "source": [
    "Notice that during our first phase, we obtain a solution where $y$ is still in the basis, thus the problem is infeasible."
   ]
  },
  {
   "cell_type": "markdown",
   "id": "cbe15bcb",
   "metadata": {},
   "source": [
    "#### Big-M Method\n",
    "\n",
    "Similar to the 2-phase method, we construct the same auxiliary LP.\n",
    "Except, we set the objective function to be\n",
    "$$\n",
    "\\min \\mathbf c ^T \\mathbf x + M \\sum y_i\n",
    "$$\n",
    "instead of $\\sum y_i$.\n",
    "\n",
    "Here, $M$ is treated as some arbitrarily large value.\n",
    "Astute readers would realized that this is exactly the same motivation as the 2-phase method; trying to drive out the $y$ variables.\n",
    "\n",
    "The benefit of this is this method can solve the original LP in 1 step."
   ]
  },
  {
   "cell_type": "code",
   "execution_count": 11,
   "id": "0d29a279",
   "metadata": {},
   "outputs": [
    {
     "data": {
      "text/html": [
       "<table><tr><th>$$$$</th><th>$$x_1$$</th><th>$$x_2$$</th><th>$$s_1$$</th><th>$$s_2$$</th><th>$$y_1$$</th><th>$$y_2$$</th><th>$$Solution$$</th></tr><tr><td>$$\\mathbf c$$</td><td>$$ 4$$</td><td>$$ 1$$</td><td>$$ 0$$</td><td>$$ 0$$</td><td>$$ 100$$</td><td>$$ 100$$</td><td>$$ 0$$</td></tr><tr><td>$$\\bar {\\mathbf c}$$</td><td>$$ 0$$</td><td>$$ 0$$</td><td>$$ 0$$</td><td>$$ 0.2$$</td><td>$$ 98.6$$</td><td>$$ 100$$</td><td>$$ -3.4$$</td></tr><tr><td>$$x_1$$</td><td>$$ 1$$</td><td>$$ 0$$</td><td>$$ 0$$</td><td>$$ -0.2$$</td><td>$$ 0.4$$</td><td>$$ 0$$</td><td>$$ 0.4$$</td></tr><tr><td>$$x_2$$</td><td>$$ 0$$</td><td>$$ 1$$</td><td>$$ 0$$</td><td>$$ 0.6$$</td><td>$$ -0.2$$</td><td>$$ 0$$</td><td>$$ 1.8$$</td></tr><tr><td>$$s_1$$</td><td>$$ 0$$</td><td>$$ 0$$</td><td>$$ 1$$</td><td>$$ 1$$</td><td>$$ 1$$</td><td>$$ -1$$</td><td>$$ 1$$</td></tr></table>"
      ],
      "text/plain": [
       "<IPython.core.display.HTML object>"
      ]
     },
     "metadata": {},
     "output_type": "display_data"
    }
   ],
   "source": [
    "# We fix some big constant M\n",
    "# Mathematically, we simply keep M as a algebraic variable in our tableau\n",
    "M = 100\n",
    "\n",
    "costs = np.array([4, 1, 0, 0, M, M, 0])\n",
    "tableau = np.array(\n",
    "    [\n",
    "        [3, 1, 0, 0, 1, 0, 3],\n",
    "        [4, 3, -1, 0, 0, 1, 6],\n",
    "        [1, 2, 0, 1, 0, 0, 4],\n",
    "    ]\n",
    ")\n",
    "\n",
    "c_bar = reduced_cost(costs, tableau)\n",
    "print_table(\n",
    "    *simplex(c_bar, tableau),\n",
    "    make_vars(\"x\", 2) + make_vars(\"s\", 2) + make_vars(\"y\", 2),\n",
    "    c=costs\n",
    ")"
   ]
  },
  {
   "cell_type": "markdown",
   "id": "ea29224e",
   "metadata": {},
   "source": [
    "And indeed, we obtain the same solution as before."
   ]
  },
  {
   "cell_type": "markdown",
   "id": "5417fd94",
   "metadata": {},
   "source": [
    "#### Dual Simplex method\n",
    "\n",
    "Another way to solve general LP is to use the [dual simplex method](./duality.ipynb#Dual-Simplex-method)"
   ]
  },
  {
   "cell_type": "markdown",
   "id": "6ab439f0",
   "metadata": {},
   "source": [
    "### Special cases\n",
    "\n",
    "#### Degeneracy\n"
   ]
  },
  {
   "cell_type": "markdown",
   "id": "cbed9336",
   "metadata": {},
   "source": [
    "A BFS with some zero basic variables is degenerate.\n"
   ]
  },
  {
   "cell_type": "markdown",
   "id": "e7611dd3",
   "metadata": {},
   "source": [
    "In the simplex algorithm, degeneracy arises when there is a tie in the ratio test.\n",
    "This means that when we zero out one of the rows, we will actually be zeroing out more than 1 rows instead.\n",
    "This means some basic variable will be 0."
   ]
  },
  {
   "cell_type": "code",
   "execution_count": 12,
   "id": "2be6a9ea",
   "metadata": {},
   "outputs": [
    {
     "data": {
      "text/html": [
       "<table><tr><th>$$$$</th><th>$$x_1$$</th><th>$$x_2$$</th><th>$$x_3$$</th><th>$$x_4$$</th><th>$$Solution$$</th></tr><tr><td>$$\\bar {\\mathbf c}$$</td><td>$$ 0$$</td><td>$$ 0$$</td><td>$$ 0.5$$</td><td>$$ 0.5$$</td><td>$$ 6$$</td></tr><tr><td>$$x_2$$</td><td>$$ 0$$</td><td>$$ 1$$</td><td>$$ 0.5$$</td><td>$$ -0.5$$</td><td>$$ 2$$</td></tr><tr><td>$$x_1$$</td><td>$$ 1$$</td><td>$$ 0$$</td><td>$$ -1$$</td><td>$$ 2$$</td><td>$$ 0$$</td></tr></table>"
      ],
      "text/plain": [
       "<IPython.core.display.HTML object>"
      ]
     },
     "metadata": {},
     "output_type": "display_data"
    }
   ],
   "source": [
    "costs = np.array([-1, -3, 0, 0, 0])\n",
    "tableau = np.array([[1, 4, 1, 0, 8], [1, 2, 0, 1, 4]])\n",
    "\n",
    "c_bar = reduced_cost(costs, tableau)\n",
    "print_table(*simplex(c_bar, tableau))"
   ]
  },
  {
   "cell_type": "markdown",
   "id": "a9713800",
   "metadata": {},
   "source": [
    "In the simplex algorithm, degeneracy arises when there is a tie in the ratio test.\n",
    "This means that when we zero out one of the rows, we will actually be zeroing out more than 1 rows instead.\n",
    "This means some basic variable will be 0."
   ]
  },
  {
   "cell_type": "markdown",
   "id": "e528e9e3",
   "metadata": {},
   "source": [
    "In this case, the degeneracy didn't cause us any issue, since the degenerate solution was optimal."
   ]
  },
  {
   "cell_type": "markdown",
   "id": "d9c11a39",
   "metadata": {},
   "source": [
    "However, for the below case:"
   ]
  },
  {
   "cell_type": "code",
   "execution_count": 13,
   "id": "615d93de",
   "metadata": {},
   "outputs": [
    {
     "ename": "RuntimeError",
     "evalue": "Iterations exceeded",
     "output_type": "error",
     "traceback": [
      "\u001b[0;31m---------------------------------------------------------------------------\u001b[0m",
      "\u001b[0;31mRuntimeError\u001b[0m                              Traceback (most recent call last)",
      "Cell \u001b[0;32mIn[13], line 10\u001b[0m\n\u001b[1;32m      1\u001b[0m c_bar \u001b[38;5;241m=\u001b[39m np\u001b[38;5;241m.\u001b[39marray([\u001b[38;5;241m-\u001b[39m\u001b[38;5;241m0.75\u001b[39m, \u001b[38;5;241m20\u001b[39m, \u001b[38;5;241m-\u001b[39m\u001b[38;5;241m0.5\u001b[39m, \u001b[38;5;241m6\u001b[39m, \u001b[38;5;241m0\u001b[39m, \u001b[38;5;241m0\u001b[39m, \u001b[38;5;241m0\u001b[39m, \u001b[38;5;241m0\u001b[39m])\n\u001b[1;32m      2\u001b[0m tableau \u001b[38;5;241m=\u001b[39m np\u001b[38;5;241m.\u001b[39marray(\n\u001b[1;32m      3\u001b[0m     [\n\u001b[1;32m      4\u001b[0m         [\u001b[38;5;241m0.25\u001b[39m, \u001b[38;5;241m-\u001b[39m\u001b[38;5;241m8\u001b[39m, \u001b[38;5;241m-\u001b[39m\u001b[38;5;241m1\u001b[39m, \u001b[38;5;241m9\u001b[39m, \u001b[38;5;241m1\u001b[39m, \u001b[38;5;241m0\u001b[39m, \u001b[38;5;241m0\u001b[39m, \u001b[38;5;241m0\u001b[39m],\n\u001b[0;32m   (...)\u001b[0m\n\u001b[1;32m      7\u001b[0m     ]\n\u001b[1;32m      8\u001b[0m )\n\u001b[0;32m---> 10\u001b[0m print_table(\u001b[38;5;241m*\u001b[39m\u001b[43msimplex\u001b[49m\u001b[43m(\u001b[49m\u001b[43mc_bar\u001b[49m\u001b[43m,\u001b[49m\u001b[43m \u001b[49m\u001b[43mtableau\u001b[49m\u001b[43m)\u001b[49m)\n",
      "File \u001b[0;32m~/wellspring/linear_optimization/module/simplex.py:33\u001b[0m, in \u001b[0;36msimplex\u001b[0;34m(c_bar, tableau, maxit)\u001b[0m\n\u001b[1;32m     31\u001b[0m     counter \u001b[38;5;241m+\u001b[39m\u001b[38;5;241m=\u001b[39m \u001b[38;5;241m1\u001b[39m\n\u001b[1;32m     32\u001b[0m \u001b[38;5;28;01mif\u001b[39;00m counter \u001b[38;5;241m==\u001b[39m maxit:\n\u001b[0;32m---> 33\u001b[0m     \u001b[38;5;28;01mraise\u001b[39;00m \u001b[38;5;167;01mRuntimeError\u001b[39;00m(\u001b[38;5;124m\"\u001b[39m\u001b[38;5;124mIterations exceeded\u001b[39m\u001b[38;5;124m\"\u001b[39m)\n\u001b[1;32m     34\u001b[0m \u001b[38;5;28;01mreturn\u001b[39;00m c_bar, tableau\n",
      "\u001b[0;31mRuntimeError\u001b[0m: Iterations exceeded"
     ]
    }
   ],
   "source": [
    "c_bar = np.array([-0.75, 20, -0.5, 6, 0, 0, 0, 0])\n",
    "tableau = np.array(\n",
    "    [\n",
    "        [0.25, -8, -1, 9, 1, 0, 0, 0],\n",
    "        [0.5, -12, -0.5, 3, 0, 1, 0, 0],\n",
    "        [1, 0, 1, 1, 0, 0, 1, 1],\n",
    "    ]\n",
    ")\n",
    "\n",
    "print_table(*simplex(c_bar, tableau))"
   ]
  },
  {
   "cell_type": "markdown",
   "id": "7aaa5799",
   "metadata": {},
   "source": [
    "Since degenerate solution can swap their variable with no change in cost, we run the risk of cycling between our degenerate solutions, as per above.\n",
    "This happens when there is a cycle in the degenerate solutions, and none of them are optimal.\n",
    "We implemented a simply cycle breaking algorithm, but a more sophisticated approach (such as Bland's anticycling rule) would be to keep track of the current pivots and explore new pivots every time, so we can still find the optimal solution even in this case."
   ]
  },
  {
   "cell_type": "markdown",
   "id": "32a5a0d9",
   "metadata": {},
   "source": [
    "### Alternative optima\n",
    "\n",
    "If the LP has more than 1 optimal solution, then the below occurs:"
   ]
  },
  {
   "cell_type": "code",
   "execution_count": 14,
   "id": "11552880",
   "metadata": {},
   "outputs": [
    {
     "data": {
      "text/html": [
       "<table><tr><th>$$$$</th><th>$$x_1$$</th><th>$$x_2$$</th><th>$$x_3$$</th><th>$$x_4$$</th><th>$$Solution$$</th></tr><tr><td>$$\\bar {\\mathbf c}$$</td><td>$$ 0$$</td><td>$$ 0$$</td><td>$$ 2$$</td><td>$$ 0$$</td><td>$$ 20$$</td></tr><tr><td>$$x_2$$</td><td>$$ 0.5$$</td><td>$$ 1$$</td><td>$$ 0.5$$</td><td>$$ 0$$</td><td>$$ 5$$</td></tr><tr><td>$$x_4$$</td><td>$$ 0.5$$</td><td>$$ 0$$</td><td>$$ -0.5$$</td><td>$$ 1$$</td><td>$$ 3$$</td></tr></table>"
      ],
      "text/plain": [
       "<IPython.core.display.HTML object>"
      ]
     },
     "metadata": {},
     "output_type": "display_data"
    }
   ],
   "source": [
    "c_bar = np.array([-2, -4, 0, 0, 0])\n",
    "tableau = np.array([[1, 2, 1, 0, 10], [1, 1, 0, 1, 8]])\n",
    "sol_costs, sol_tableau = simplex(c_bar, tableau)\n",
    "print_table(sol_costs, sol_tableau)"
   ]
  },
  {
   "cell_type": "markdown",
   "id": "a205be40",
   "metadata": {},
   "source": [
    "Our current solution is $x_2 = 5, x_4 = 3$.\n",
    "Notice that we have a column (column 0) whose reduced cost is 0, is nonbasic, and contains positive values.\n",
    "This means we can introduce it into the basis, while not changing the cost.\n",
    "This indicates that there is more than 1 solution."
   ]
  },
  {
   "cell_type": "markdown",
   "id": "764a00c5",
   "metadata": {},
   "source": [
    "If we did, then the array would be"
   ]
  },
  {
   "cell_type": "code",
   "execution_count": 15,
   "id": "c1738795",
   "metadata": {},
   "outputs": [
    {
     "data": {
      "text/html": [
       "<table><tr><th>$$$$</th><th>$$x_1$$</th><th>$$x_2$$</th><th>$$x_3$$</th><th>$$x_4$$</th><th>$$Solution$$</th></tr><tr><td>$$\\bar {\\mathbf c}$$</td><td>$$ 0$$</td><td>$$ 0$$</td><td>$$ 2$$</td><td>$$ 0$$</td><td>$$ 20$$</td></tr><tr><td>$$x_2$$</td><td>$$ 0$$</td><td>$$ 1$$</td><td>$$ 1$$</td><td>$$ -1$$</td><td>$$ 2$$</td></tr><tr><td>$$x_1$$</td><td>$$ 1$$</td><td>$$ 0$$</td><td>$$ -1$$</td><td>$$ 2$$</td><td>$$ 6$$</td></tr></table>"
      ],
      "text/plain": [
       "<IPython.core.display.HTML object>"
      ]
     },
     "metadata": {},
     "output_type": "display_data"
    }
   ],
   "source": [
    "from module.simplex import pivot\n",
    "\n",
    "print_table(*pivot(sol_costs, sol_tableau, 1, 0))"
   ]
  },
  {
   "cell_type": "markdown",
   "id": "03cd38d1",
   "metadata": {},
   "source": [
    "Hence, we obtain another solution that is $x_1 = 6, x_2 = 2$.\n",
    "In fact, any linear combination of these 2 solution forms the optimal set."
   ]
  },
  {
   "cell_type": "markdown",
   "id": "ccf01319",
   "metadata": {},
   "source": [
    "### Unbounded solution"
   ]
  },
  {
   "cell_type": "markdown",
   "id": "fb31b8f1",
   "metadata": {},
   "source": [
    "If we find that the coefficient of any row is all non-positive, then we know that the solution space is unbounded in that direction."
   ]
  },
  {
   "cell_type": "markdown",
   "id": "e8744222",
   "metadata": {},
   "source": [
    "And if the reduced cost of that column is negative, then the objective value is $-\\infty$."
   ]
  },
  {
   "cell_type": "markdown",
   "id": "7065b161",
   "metadata": {},
   "source": [
    "#### Unbounded objective value"
   ]
  },
  {
   "cell_type": "code",
   "execution_count": 16,
   "id": "f425fadf",
   "metadata": {},
   "outputs": [
    {
     "ename": "ValueError",
     "evalue": "Unbounded objective",
     "output_type": "error",
     "traceback": [
      "\u001b[0;31m---------------------------------------------------------------------------\u001b[0m",
      "\u001b[0;31mValueError\u001b[0m                                Traceback (most recent call last)",
      "Cell \u001b[0;32mIn[16], line 3\u001b[0m\n\u001b[1;32m      1\u001b[0m c_bar \u001b[38;5;241m=\u001b[39m np\u001b[38;5;241m.\u001b[39marray([\u001b[38;5;241m-\u001b[39m\u001b[38;5;241m2\u001b[39m, \u001b[38;5;241m-\u001b[39m\u001b[38;5;241m1\u001b[39m, \u001b[38;5;241m0\u001b[39m, \u001b[38;5;241m0\u001b[39m, \u001b[38;5;241m0\u001b[39m])\n\u001b[1;32m      2\u001b[0m tableau \u001b[38;5;241m=\u001b[39m np\u001b[38;5;241m.\u001b[39marray([[\u001b[38;5;241m-\u001b[39m\u001b[38;5;241m1\u001b[39m, \u001b[38;5;241m-\u001b[39m\u001b[38;5;241m1\u001b[39m, \u001b[38;5;241m1\u001b[39m, \u001b[38;5;241m0\u001b[39m, \u001b[38;5;241m10\u001b[39m], [\u001b[38;5;241m2\u001b[39m, \u001b[38;5;241m0\u001b[39m, \u001b[38;5;241m0\u001b[39m, \u001b[38;5;241m1\u001b[39m, \u001b[38;5;241m40\u001b[39m]])\n\u001b[0;32m----> 3\u001b[0m print_table(\u001b[38;5;241m*\u001b[39m\u001b[43msimplex\u001b[49m\u001b[43m(\u001b[49m\u001b[43mc_bar\u001b[49m\u001b[43m,\u001b[49m\u001b[43m \u001b[49m\u001b[43mtableau\u001b[49m\u001b[43m)\u001b[49m)\n",
      "File \u001b[0;32m~/wellspring/linear_optimization/module/simplex.py:23\u001b[0m, in \u001b[0;36msimplex\u001b[0;34m(c_bar, tableau, maxit)\u001b[0m\n\u001b[1;32m     21\u001b[0m pivot_col \u001b[38;5;241m=\u001b[39m tableau[:, col]\n\u001b[1;32m     22\u001b[0m \u001b[38;5;28;01mif\u001b[39;00m np\u001b[38;5;241m.\u001b[39mall(pivot_col \u001b[38;5;241m<\u001b[39m\u001b[38;5;241m=\u001b[39m \u001b[38;5;241m0\u001b[39m):\n\u001b[0;32m---> 23\u001b[0m     \u001b[38;5;28;01mraise\u001b[39;00m \u001b[38;5;167;01mValueError\u001b[39;00m(\u001b[38;5;124m\"\u001b[39m\u001b[38;5;124mUnbounded objective\u001b[39m\u001b[38;5;124m\"\u001b[39m)\n\u001b[1;32m     25\u001b[0m value \u001b[38;5;241m=\u001b[39m tableau[:, \u001b[38;5;241m-\u001b[39m\u001b[38;5;241m1\u001b[39m]\n\u001b[1;32m     26\u001b[0m metric \u001b[38;5;241m=\u001b[39m np\u001b[38;5;241m.\u001b[39mwhere(pivot_col \u001b[38;5;241m>\u001b[39m \u001b[38;5;241m0\u001b[39m, value \u001b[38;5;241m/\u001b[39m\n\u001b[1;32m     27\u001b[0m                   (pivot_col \u001b[38;5;241m+\u001b[39m (pivot_col \u001b[38;5;241m==\u001b[39m \u001b[38;5;241m0\u001b[39m)), np\u001b[38;5;241m.\u001b[39minf)\n",
      "\u001b[0;31mValueError\u001b[0m: Unbounded objective"
     ]
    }
   ],
   "source": [
    "c_bar = np.array([-2, -1, 0, 0, 0])\n",
    "tableau = np.array([[-1, -1, 1, 0, 10], [2, 0, 0, 1, 40]])\n",
    "print_table(*simplex(c_bar, tableau))"
   ]
  },
  {
   "cell_type": "markdown",
   "id": "f98086ce",
   "metadata": {},
   "source": [
    "Notice that column 2 has all non-positive values $(-1, 0)$ thus we can increase $x_2$ infinitely while keeping the constraint.\n",
    "And since the reduced cost is also negative ($-1$), we can continually increase the objective value and thus the solution is unbounded."
   ]
  },
  {
   "cell_type": "markdown",
   "id": "ab1d6898",
   "metadata": {},
   "source": [
    "#### Finite objective value"
   ]
  },
  {
   "cell_type": "code",
   "execution_count": 17,
   "id": "634e0e05",
   "metadata": {},
   "outputs": [
    {
     "data": {
      "text/html": [
       "<table><tr><th>$$$$</th><th>$$x_1$$</th><th>$$x_2$$</th><th>$$x_3$$</th><th>$$x_4$$</th><th>$$Solution$$</th></tr><tr><td>$$\\bar {\\mathbf c}$$</td><td>$$ 0$$</td><td>$$ 0$$</td><td>$$ 2$$</td><td>$$ 2$$</td><td>$$ 12$$</td></tr><tr><td>$$x_1$$</td><td>$$ 1$$</td><td>$$ 0$$</td><td>$$ 0$$</td><td>$$ 1$$</td><td>$$ 4$$</td></tr><tr><td>$$x_2$$</td><td>$$ 0$$</td><td>$$ 1$$</td><td>$$ -1$$</td><td>$$ 2$$</td><td>$$ 6$$</td></tr></table>"
      ],
      "text/plain": [
       "<IPython.core.display.HTML object>"
      ]
     },
     "metadata": {},
     "output_type": "display_data"
    }
   ],
   "source": [
    "c_bar = np.array([-6.0, 2, 0, 0, 0])\n",
    "tableau = np.array([[2, -1, 1, 0, 2], [1, 0, 0, 1, 4.0]])\n",
    "print_table(*simplex(c_bar, tableau))"
   ]
  },
  {
   "cell_type": "markdown",
   "id": "05bd4475",
   "metadata": {},
   "source": [
    "Notice that this time, row 3 has also non-positive values $(0, -1)$ thus it is unbounded in that direction.\n",
    "However, since the reduced cost is positive, that direction is not optimal, and thus we can obtain an optimal solution."
   ]
  },
  {
   "cell_type": "markdown",
   "id": "4b0e1504",
   "metadata": {},
   "source": [
    "### Infeasibility\n",
    "\n",
    "As discussed previously, infeasibility can be detected during the 2-phase method or the big-M method, when we obtain that our auxiliary solution contains some $y$.\n",
    "If this occurs, we know that the problem is infeasible."
   ]
  },
  {
   "cell_type": "markdown",
   "id": "0e78879f",
   "metadata": {},
   "source": [
    "## Revisiting application\n",
    "\n",
    "We will now revisit our [initial motivation](./introduction.ipynb#Application)\n",
    "\n",
    "| Resource/Activity | Playing games | Studying | Eating | Napping | Amount available |\n",
    "| --- | --- | --- | --- | --- | --- |\n",
    "| Time | 2 | 1 | 0.5 | 1 | 8 |\n",
    "| Energy | 2 | 1 | 0.5 | -3 | 4 |\n",
    "| Hunger | 1 | 1 | -2 | 0.5 | 6 |\n",
    "| Stress | -3 | 2 | 0 | -1 | 3 |\n",
    "| Happiness | 2 | 1 | 0.5 | 0.5 | |"
   ]
  },
  {
   "cell_type": "markdown",
   "id": "a81c2e77",
   "metadata": {},
   "source": [
    "Since all the constraints are $\\leq \\mathbf b$, we simply introduce slack variables and use our simplex method."
   ]
  },
  {
   "cell_type": "markdown",
   "id": "60dfb581",
   "metadata": {},
   "source": [
    "Also, we negate our objective function, so rather than obtaining $\\max Happiness$, we are obtaining $\\min -Happiness$."
   ]
  },
  {
   "cell_type": "code",
   "execution_count": 18,
   "id": "c7f756ff",
   "metadata": {},
   "outputs": [
    {
     "data": {
      "text/html": [
       "<table><tr><th>$$$$</th><th>$$x_1$$</th><th>$$x_2$$</th><th>$$x_3$$</th><th>$$x_4$$</th><th>$$s_1$$</th><th>$$s_2$$</th><th>$$s_3$$</th><th>$$s_4$$</th><th>$$Solution$$</th></tr><tr><td>$$\\bar {\\mathbf c}$$</td><td>$$ 0$$</td><td>$$ 0$$</td><td>$$ 0$$</td><td>$$ 0$$</td><td>$$ 0.875$$</td><td>$$ 0.125$$</td><td>$$ 0$$</td><td>$$ 0$$</td><td>$$ 7.5$$</td></tr><tr><td>$$x_4$$</td><td>$$ 0$$</td><td>$$ 0$$</td><td>$$ 0$$</td><td>$$ 1$$</td><td>$$ 0.25$$</td><td>$$ -0.25$$</td><td>$$ 0$$</td><td>$$ 0$$</td><td>$$ 1$$</td></tr><tr><td>$$x_1$$</td><td>$$ 1$$</td><td>$$ 0.5$$</td><td>$$ 0.25$$</td><td>$$ 0$$</td><td>$$ 0.375$$</td><td>$$ 0.125$$</td><td>$$ 0$$</td><td>$$ 0$$</td><td>$$ 3.5$$</td></tr><tr><td>$$s_3$$</td><td>$$ 0$$</td><td>$$ 0.5$$</td><td>$$ -2.25$$</td><td>$$ 0$$</td><td>$$ -0.5$$</td><td>$$ 0$$</td><td>$$ 1$$</td><td>$$ 0$$</td><td>$$ 2$$</td></tr><tr><td>$$s_4$$</td><td>$$ 0$$</td><td>$$ 3.5$$</td><td>$$ 0.75$$</td><td>$$ 0$$</td><td>$$ 1.375$$</td><td>$$ 0.125$$</td><td>$$ 0$$</td><td>$$ 1$$</td><td>$$ 14.5$$</td></tr></table>"
      ],
      "text/plain": [
       "<IPython.core.display.HTML object>"
      ]
     },
     "metadata": {},
     "output_type": "display_data"
    }
   ],
   "source": [
    "costs = np.array([-2, -1, -0.5, -0.5, 0, 0, 0, 0, 0])\n",
    "tableau = np.array(\n",
    "    [\n",
    "        [2, 1, 0.5, 1, 1, 0, 0, 0, 8],\n",
    "        [2, 1, 0.5, -3, 0, 1, 0, 0, 4],\n",
    "        [1, 1, -2, 0.5, 0, 0, 1, 0, 6],\n",
    "        [-3, 2, 0, -1, 0, 0, 0, 1, 3],\n",
    "    ]\n",
    ")\n",
    "c_bar = reduced_cost(costs, tableau)\n",
    "print_table(*simplex(c_bar, tableau), make_vars(\"x\", 4) + make_vars(\"s\", 4))"
   ]
  },
  {
   "cell_type": "markdown",
   "id": "6d7bbfc7",
   "metadata": {},
   "source": [
    "From the solution, we see that $x_1=3.5$ and $x_4=1$, which means I should allocate 1 unit of napping, and 3.5 units of gaming; to maximize my happiness."
   ]
  }
 ],
 "metadata": {
  "kernelspec": {
   "display_name": "Python 3 (ipykernel)",
   "language": "python",
   "name": "python3"
  },
  "language_info": {
   "codemirror_mode": {
    "name": "ipython",
    "version": 3
   },
   "file_extension": ".py",
   "mimetype": "text/x-python",
   "name": "python",
   "nbconvert_exporter": "python",
   "pygments_lexer": "ipython3",
   "version": "3.11.3"
  }
 },
 "nbformat": 4,
 "nbformat_minor": 5
}
