{
 "cells": [
  {
   "cell_type": "markdown",
   "id": "be8a088f",
   "metadata": {},
   "source": [
    "$$\n",
    "\\newcommand{theorem}{\\textbf{Theorem: }}\n",
    "\\newcommand{corollary}{\\textbf{Corollary: }}\n",
    "$$"
   ]
  },
  {
   "cell_type": "code",
   "execution_count": 1,
   "id": "df6cf218",
   "metadata": {},
   "outputs": [],
   "source": [
    "import sys\n",
    "sys.path.append('..')\n",
    "\n",
    "from common.utility import show_implementation\n",
    "from module.utility import print_table\n",
    "import numpy as np"
   ]
  },
  {
   "cell_type": "markdown",
   "id": "449d995f",
   "metadata": {},
   "source": [
    "# Duality\n",
    "\n",
    "## Lagrangian duality\n",
    "\n"
   ]
  },
  {
   "cell_type": "markdown",
   "id": "0459ef08",
   "metadata": {},
   "source": [
    "Consider the below standard form LP\n",
    "$$\n",
    "\\begin{align}\n",
    "&\\min & \\mathbf c^T \\mathbf x \\\\\n",
    "&s.t. &\\mathbf{Ax} = \\mathbf{b}\\\\\n",
    "&&\\mathbf {x} \\geq \\mathbf 0 \\\\\n",
    "\\end{align}\n",
    "$$"
   ]
  },
  {
   "cell_type": "markdown",
   "id": "a9d8bc72",
   "metadata": {},
   "source": [
    "We will name our original LP the **primal**.\n",
    "\n",
    "Suppose that $\\mathbf x^*$ is an optimal solution to the primal LP.\n",
    "\n",
    "Now, we consider another LP, formulated as per below:"
   ]
  },
  {
   "cell_type": "markdown",
   "id": "a6f98504",
   "metadata": {},
   "source": [
    "$$\n",
    "\\begin{align}\n",
    "g(\\mathbf p) := &\\min & \\mathbf c^T \\mathbf x + \\mathbf p ^T(\\mathbf b - \\mathbf{Ax})\\\\\n",
    "&s.t. & \\mathbf {x} \\geq \\mathbf 0 \\\\\n",
    "\\end{align}\n",
    "$$"
   ]
  },
  {
   "cell_type": "markdown",
   "id": "1d155209",
   "metadata": {},
   "source": [
    "where $\\mathbf p$ is some arbitrary vector $\\in \\mathbb R^m$."
   ]
  },
  {
   "cell_type": "markdown",
   "id": "0725c1ae",
   "metadata": {},
   "source": [
    "Since $\\mathbf x^*$ is a feasible solution to the primal, we know that \n",
    "$$\n",
    "\\mathbf{Ax}^* = \\mathbf b \\\\\n",
    "\\Rightarrow  \\mathbf b - \\mathbf{Ax}^* = 0 \\\\\n",
    "$$\n"
   ]
  },
  {
   "cell_type": "markdown",
   "id": "39a26212",
   "metadata": {},
   "source": [
    "Hence, we know that $g(\\mathbf p)$ has a lower bound of $\\mathbf c ^T \\mathbf x$."
   ]
  },
  {
   "cell_type": "markdown",
   "id": "4c4317fc",
   "metadata": {},
   "source": [
    "The **dual** problem is one where there is no constraint, but we are tasked with finding a $\\mathbf p$ which maximizes $g(\\mathbf p)$"
   ]
  },
  {
   "cell_type": "markdown",
   "id": "534498c7",
   "metadata": {},
   "source": [
    "Since\n",
    "$$\n",
    "g(\\mathbf p) \n",
    "= \\min  \\left(\\mathbf c^T \\mathbf x + \\mathbf p ^T(\\mathbf b - \\mathbf{Ax}) \\right)\\\\\n",
    "= \\min  \\left(\\mathbf p ^T\\mathbf b +  \\mathbf c^T \\mathbf x - \\mathbf p ^ T\\mathbf{Ax} \\right) \\\\\n",
    "= \\mathbf p ^ T \\mathbf b + \\min(\\mathbf c ^T - \\mathbf p ^T \\mathbf A) \\mathbf x\n",
    "$$"
   ]
  },
  {
   "cell_type": "markdown",
   "id": "b4eb990b",
   "metadata": {},
   "source": [
    "Now, notice that if $\\mathbf c ^T - \\mathbf p ^T \\mathbf A \\geq 0$, then we can set $\\mathbf x = \\mathbf 0$ to obtain a lower bound of $0$ (remember, $\\mathbf x \\geq \\mathbf 0$).\n",
    "And if $\\mathbf c ^T - \\mathbf p ^T \\mathbf A < 0$, then  $(\\mathbf c ^T - \\mathbf p ^T \\mathbf A)\\mathbf x = -\\infty$ as we can keep growing $\\mathbf x$."
   ]
  },
  {
   "cell_type": "markdown",
   "id": "ac4799c2",
   "metadata": {},
   "source": [
    "Hence, the dual problem is actually defined as:"
   ]
  },
  {
   "cell_type": "markdown",
   "id": "1a4d3cfb",
   "metadata": {},
   "source": [
    "$$\n",
    "\\begin{align}\n",
    "&\\max & \\mathbf p^T \\mathbf b \\\\\n",
    "&s.t. & \\mathbf p ^ \\mathbf A \\leq \\mathbf c^T \\\\\n",
    "\\end{align}\n",
    "$$"
   ]
  },
  {
   "cell_type": "markdown",
   "id": "18285595",
   "metadata": {},
   "source": [
    "## Dual problem"
   ]
  },
  {
   "cell_type": "markdown",
   "id": "04b22ed6",
   "metadata": {},
   "source": [
    "Given a primal LP, we can perform the following transformation to obtain the dual problem"
   ]
  },
  {
   "cell_type": "markdown",
   "id": "55ffa9e7",
   "metadata": {},
   "source": [
    "$$\n",
    "Primal \n",
    "\\left\\{\n",
    "\\begin{align}\n",
    "&\\min& \\mathbf c^T \\mathbf x  & \\quad \\Rightarrow \\max & \\mathbf p ^T \\mathbf b\\\\\n",
    "&s.t. & \\mathbf a_i^T \\mathbf x \\geq \\mathbf b_i & \\quad \\Rightarrow & \\mathbf p_i \\geq 0\\\\\n",
    "&& \\mathbf a_i^T \\mathbf x \\leq \\mathbf b_i & \\quad \\Rightarrow & \\mathbf p_i \\leq 0\\\\\n",
    "&& \\mathbf a_i^T \\mathbf x = \\mathbf b_i & \\quad \\Rightarrow & \\mathbf p_i \\text { free}\\\\\n",
    "&& x_j \\geq \\mathbf 0 & \\quad \\Rightarrow & \\mathbf p^T \\mathbf A_j \\leq c_j\\\\\n",
    "&& x_j \\leq \\mathbf 0 & \\quad \\Rightarrow & \\mathbf p^T \\mathbf A_j \\geq c_j\\\\\n",
    "&& x_j \\text{ free} & \\quad \\Rightarrow & \\mathbf p^T \\mathbf A_j = c_j\\\\\n",
    "\\end{align}\n",
    "\\right\\}\n",
    "Dual\n",
    "$$"
   ]
  },
  {
   "cell_type": "markdown",
   "id": "0ca53fff",
   "metadata": {},
   "source": [
    "In short, constraints becomes variables and vice versa.\n",
    "Inequalities of $\\mathbf p$ is not changed, while the constraint's inequalities are swapped."
   ]
  },
  {
   "cell_type": "markdown",
   "id": "ee16c043",
   "metadata": {},
   "source": [
    "NOTE: The above table is only valid for **minimization** problem.\n",
    "For maximization problems, we can convert it into a minimization problem and solve from there.\n",
    "However, the resultant sign change would actually follow the table above, **except** it needs to be read **right-to-left**.\n",
    "\n",
    "That is:"
   ]
  },
  {
   "cell_type": "markdown",
   "id": "e97b86f0",
   "metadata": {},
   "source": [
    "$$\n",
    "Primal \n",
    "\\left\\{\n",
    "\\begin{align}\n",
    "&\\max & \\mathbf c^T \\mathbf x  & \\quad \\Rightarrow \\min& \\mathbf p ^T \\mathbf b\\\\\n",
    "&s.t. & \\mathbf a_i^T \\mathbf x \\geq \\mathbf b_i & \\quad \\Rightarrow & \\mathbf p_i \\leq 0\\\\\n",
    "&& \\mathbf a_i^T \\mathbf x \\leq \\mathbf b_i & \\quad \\Rightarrow & \\mathbf p_i \\geq 0\\\\\n",
    "&& \\mathbf a_i^T \\mathbf x = \\mathbf b_i & \\quad \\Rightarrow & \\mathbf p_i \\text { free}\\\\\n",
    "&& x_j \\geq \\mathbf 0 & \\quad \\Rightarrow & \\mathbf p^T \\mathbf A_j \\geq c_j\\\\\n",
    "&& x_j \\leq \\mathbf 0 & \\quad \\Rightarrow & \\mathbf p^T \\mathbf A_j \\leq c_j\\\\\n",
    "&& x_j \\text{ free} & \\quad \\Rightarrow & \\mathbf p^T \\mathbf A_j = c_j\\\\\n",
    "\\end{align}\n",
    "\\right\\}\n",
    "Dual\n",
    "$$"
   ]
  },
  {
   "cell_type": "markdown",
   "id": "5d9ca403",
   "metadata": {},
   "source": [
    "### Example\n",
    "\n",
    "We will once again revisit our [motivation](./introduction.ipynb#Application).\n",
    "\n",
    "| Resource/Activity | Playing games | Studying | Eating | Napping | Amount available |\n",
    "| --- | --- | --- | --- | --- | --- |\n",
    "| Time | 2 | 1 | 0.5 | 1 | 8 |\n",
    "| Energy | 2 | 1 | 0.5 | -3 | 4 |\n",
    "| Hunger | 1 | 1 | -2 | 0.5 | 6 |\n",
    "| Stress | -3 | 2 | 0 | -1 | 3 |\n",
    "| Happiness | 2 | 1 | 0.5 | 0.5 | |"
   ]
  },
  {
   "cell_type": "markdown",
   "id": "e25dbf25",
   "metadata": {},
   "source": [
    "Now, we will show the dual problem:"
   ]
  },
  {
   "cell_type": "markdown",
   "id": "fbe945f4",
   "metadata": {},
   "source": [
    "(Assuming our objective function in the primal is $\\max 2x_1 + x_2 + 0.5x_3 + 0.5x_4$)"
   ]
  },
  {
   "cell_type": "markdown",
   "id": "d75d13bc",
   "metadata": {},
   "source": [
    "$$\n",
    "\\begin{alignedat}{1}\n",
    "&\\min\\quad 8&p_1 +   4&p_2 +  6&p_3 +  3&p_4 &\\\\\n",
    "&s.t. \\quad  2&p_1 +  2&p_2 + &p_3 - 3&p_4 &\\geq 2 \\\\\n",
    "&& p_1 + &p_2 + & p_3 + 2&p_4 &\\geq 1 \\\\\n",
    "& \\qquad 0.5&p_1 +  0.5&p_2 - 2&p_3 & &\\geq 0.5 \\\\\n",
    "&& p_1 - 3&p_2 + 0.5&p_3- & p_4 &\\geq 0.5 \\\\\n",
    "&&&&& p_i & \\geq 0\n",
    "\\end{alignedat}\n",
    "$$"
   ]
  },
  {
   "cell_type": "markdown",
   "id": "7728bcc7",
   "metadata": {},
   "source": [
    "Once again, despite the actual math sounding rather complex, the underlying transformation is rather easy.\n",
    "Just read off the columns to obtain our $\\mathbf p$, then change the signs as needed."
   ]
  },
  {
   "cell_type": "markdown",
   "id": "a554adf3",
   "metadata": {},
   "source": [
    "### Meaning of dual\n",
    "\n",
    "Now, it may be rather puzzling as to why we are investigating the dual problem.\n",
    "\n",
    "Notice that in the dual, the objective function has coefficients based on how much of each resource we have."
   ]
  },
  {
   "cell_type": "markdown",
   "id": "2cfc3cf9",
   "metadata": {},
   "source": [
    "One way of contextualizing it would be, assume that my parents saw that I was being a lazy, and they need to motivate me to do some other activity.\n",
    "Suppose that they are able to supply me with happiness directly somehow.\n",
    "Then the dual question (asked by my parents) would be: \"how much happiness must we pay for each unit of resource, such that I may be willing to sell that resource to them?\" and \"how do we minimize the total cost?\"."
   ]
  },
  {
   "cell_type": "markdown",
   "id": "5e7aa661",
   "metadata": {},
   "source": [
    "That is, they are trying to find assign some value to each resource such that I won't choose to partake in my activities to earn my own happiness.\n",
    "The constraints in the dual is exactly referring to that, where each constraint is ensuring that the amount of happiness I gain from them directly is more than the happiness I get from doing my own activities."
   ]
  },
  {
   "cell_type": "markdown",
   "id": "ae801f62",
   "metadata": {},
   "source": [
    "### Theorems\n",
    "\n",
    "$\\theorem$ A dual of a dual is the primal."
   ]
  },
  {
   "cell_type": "markdown",
   "id": "77dbe737",
   "metadata": {},
   "source": [
    "### Weak Duality"
   ]
  },
  {
   "cell_type": "markdown",
   "id": "133ae05d",
   "metadata": {},
   "source": [
    "$\\theorem$ Given a minimization primal LP, if $\\mathbf x$ is feasible in the primal and $\\mathbf p$ is feasible in the dual, then\n",
    "$$\n",
    "\\mathbf p ^T \\mathbf b \\leq \\mathbf c^T\\mathbf x\n",
    "$$\n",
    "\n",
    "$\\corollary$ The objective in the primal is at least that of the dual"
   ]
  },
  {
   "cell_type": "markdown",
   "id": "45b9b605",
   "metadata": {},
   "source": [
    "<span hidden> TODO: add proof </span>"
   ]
  },
  {
   "cell_type": "markdown",
   "id": "786b9919",
   "metadata": {},
   "source": [
    "$\\corollary$  If $\\mathbf x$ and $\\mathbf p$ are both feasible solutions in the primal and dual respectively, and $\\mathbf p^T \\mathbf b = \\mathbf c ^ T \\mathbf x$, then they are both optimal."
   ]
  },
  {
   "cell_type": "markdown",
   "id": "ed21b2cb",
   "metadata": {},
   "source": [
    "<span hidden> TODO: add proof </span>"
   ]
  },
  {
   "cell_type": "markdown",
   "id": "75e30501",
   "metadata": {},
   "source": [
    "$\\corollary$ Unboundedness in one problem implies infeasibility in the other"
   ]
  },
  {
   "cell_type": "markdown",
   "id": "cf2c2896",
   "metadata": {},
   "source": [
    "<span hidden> TODO: add proof </span>"
   ]
  },
  {
   "cell_type": "markdown",
   "id": "35dbf115",
   "metadata": {},
   "source": [
    "### Strong duality"
   ]
  },
  {
   "cell_type": "markdown",
   "id": "1ed74d31",
   "metadata": {},
   "source": [
    "$\\theorem$ If an LP has an optimum, then so does its dual, and the optimal costs are equal"
   ]
  },
  {
   "cell_type": "markdown",
   "id": "bd36ffbe",
   "metadata": {},
   "source": [
    "<span hidden> TODO: add proof </span>"
   ]
  },
  {
   "cell_type": "markdown",
   "id": "c2f21d5d",
   "metadata": {},
   "source": [
    "Note: It is still possible that both the primal and dual are infeasible."
   ]
  },
  {
   "cell_type": "markdown",
   "id": "ef2e1869",
   "metadata": {},
   "source": [
    "## Complementary slackness\n",
    "\n",
    "Suppose that we are given some solution.\n",
    "Typically, trying to check that the solution is optimal is not straightforward.\n",
    "However, we can utilize **complementary slackness** to do this."
   ]
  },
  {
   "cell_type": "markdown",
   "id": "9cfa5664",
   "metadata": {},
   "source": [
    "We say that $(\\mathbf x, \\mathbf p)$ satisfy complementary slackness if\n",
    "$$\n",
    "p_i (\\mathbf a_i^T \\mathbf x - b_i) = 0 \\quad \\text{ for all }i\\\\\n",
    "(c_j - \\mathbf p ^T \\mathbf A_j)x_j = 0 \\quad \\text{ for all }j\\\\\n",
    "$$"
   ]
  },
  {
   "cell_type": "markdown",
   "id": "abda210d",
   "metadata": {},
   "source": [
    "In other words, for all the above pairs, either the left term or the right term must be 0."
   ]
  },
  {
   "cell_type": "markdown",
   "id": "137f3259",
   "metadata": {},
   "source": [
    "$\\theorem$ $\\mathbf x, \\mathbf p$ are optimal if and only if they satisfy complementary slackness"
   ]
  },
  {
   "cell_type": "markdown",
   "id": "94abe409",
   "metadata": {},
   "source": [
    "<span hidden> TODO: add proof </span>"
   ]
  },
  {
   "cell_type": "markdown",
   "id": "d50cf947",
   "metadata": {},
   "source": [
    "Intuitively, we know that the optimal solution must have $m$ tight constraints.\n",
    "And the variables corresponding to the loose constraints must be \"tight\" in the dual, hence if complementary slackness holds, then it must be optimal."
   ]
  },
  {
   "cell_type": "markdown",
   "id": "27f5e006",
   "metadata": {},
   "source": [
    "### Example\n",
    "\n",
    "[Previously](./simplex_method.ipynb#Revisiting-application), we have found out that $x_1 = 3.5, x_4 = 1$ is a optimal solution to our problem.\n",
    "Now, we will check its complementary slackness."
   ]
  },
  {
   "cell_type": "markdown",
   "id": "6a2ce3d4",
   "metadata": {},
   "source": [
    "Intuitively, we know that the optimal solution must have $m$ tight constraints.\n",
    "And the variables corresponding to the loose constraints must be \"tight\" in the dual, hence if complementary slackness holds, then it must be optimal."
   ]
  },
  {
   "cell_type": "markdown",
   "id": "c6ac78be",
   "metadata": {},
   "source": []
  },
  {
   "cell_type": "markdown",
   "id": "3d1a57de",
   "metadata": {},
   "source": [
    "| Resource/Activity | Playing games | Studying | Eating | Napping | Amount available |\n",
    "| --- | --- | --- | --- | --- | --- |\n",
    "| Time | 2 | 1 | 0.5 | 1 | 8 |\n",
    "| Energy | 2 | 1 | 0.5 | -3 | 4 |\n",
    "| Hunger | 1 | 1 | -2 | 0.5 | 6 |\n",
    "| Stress | -3 | 2 | 0 | -1 | 3 |\n",
    "| Happiness | 2 | 1 | 0.5 | 0.5 | |"
   ]
  },
  {
   "cell_type": "markdown",
   "id": "1f2198e9",
   "metadata": {},
   "source": [
    "We check that \n",
    "$$\n",
    "\\begin{align}\n",
    "p_1(2x_1 + x_2 + 0.5x_3 + x_4 - 8) = 0 &\\quad \\Rightarrow \\quad &\n",
    "p_1(2(3.5) + 0 + 0 + 1 - 8) = 0 &\\quad \\Rightarrow \\quad \\text{No information}\\\\\n",
    "p_2(2x_1 + x_2 + 0.5x_3 - 3x_4 - 4) = 0 &\\quad \\Rightarrow \\quad&\n",
    "p_2(2(3.5) + 0 + 0 - 3 - 4) = 0 &\\quad \\Rightarrow \\quad \\text{No information} \\\\\n",
    "p_3(x_1 + x_2 - 2x_3 + 0.5x_4 - 6) = 0 &\\quad \\Rightarrow \\quad& \n",
    "p_3(3.5 + 0 + 0 + 0.5 - 6) = 0 &\\quad \\Rightarrow \\quad p_3 = 0 \\\\\n",
    "p_4(-3x_1 + 2x_2 - x_4 - 3) = 0 &\\quad \\Rightarrow \\quad&\n",
    "p_4(-3(3.5) - 1 - 3) = 0 &\\quad \\Rightarrow \\quad p_4 = 0\n",
    "\\end{align}\n",
    "$$"
   ]
  },
  {
   "cell_type": "markdown",
   "id": "9023ffbf",
   "metadata": {},
   "source": [
    "And in the dual"
   ]
  },
  {
   "cell_type": "markdown",
   "id": "615a20eb",
   "metadata": {},
   "source": [
    "$$\n",
    "\\begin{alignedat}{1}\n",
    "&\\min\\quad 8&p_1 +   4&p_2 +  6&p_3 +  3&p_4 &\\\\\n",
    "&s.t. \\quad  2&p_1 +  2&p_2 + &p_3 - 3&p_4 &\\geq 2 \\\\\n",
    "&& p_1 + &p_2 + & p_3 + 2&p_4 &\\geq 1 \\\\\n",
    "& \\qquad 0.5&p_1 +  0.5&p_2 - 2&p_3 & &\\geq 0.5 \\\\\n",
    "&& p_1 - 3&p_2 + 0.5&p_3- & p_4 &\\geq 0.5 \\\\\n",
    "&&&&& p_i & \\geq 0\n",
    "\\end{alignedat}\n",
    "$$"
   ]
  },
  {
   "cell_type": "markdown",
   "id": "c3da583b",
   "metadata": {},
   "source": [
    "Since $x_1, x_4 \\geq 0$, then the following must be satisfied:\n",
    "$$\n",
    "2p_1 + 2p_2 + p_3 - 3p_4 = 2 \\\\\n",
    "p_1 - 3p_2 + 0.5p_3 - p_4 = 0.5\n",
    "$$"
   ]
  },
  {
   "cell_type": "markdown",
   "id": "5fb03ffc",
   "metadata": {},
   "source": [
    "Using our previous information that $p_3, p_4 = 0$\n",
    "$$\n",
    "2p_1 + 2p_2 = 2 \\\\\n",
    "p_1 - 3p_2 = 0.5\n",
    "$$"
   ]
  },
  {
   "cell_type": "markdown",
   "id": "bad61e95",
   "metadata": {},
   "source": [
    "And we find the dual solution of $p_1 = \\frac{7}{8}, p_2 = \\frac{1}{8}$."
   ]
  },
  {
   "cell_type": "markdown",
   "id": "6cbfbeb4",
   "metadata": {},
   "source": [
    "And since $\\mathbf p$ satisfy all dual constraints, it is a feasible solution, which proves that $\\mathbf x$ was optimal."
   ]
  },
  {
   "cell_type": "markdown",
   "id": "bbf18e56",
   "metadata": {},
   "source": [
    "---"
   ]
  },
  {
   "cell_type": "markdown",
   "id": "10e23a89",
   "metadata": {},
   "source": [
    "Suppose instead that we look at the solution $x_2 = 1.5$\n",
    "\n",
    "We check that \n",
    "$$\n",
    "\\begin{align}\n",
    "p_1(2x_1 + x_2 + 0.5x_3 + x_4 - 8) = 0 &\\quad \\Rightarrow \\quad &\n",
    "p_1(1.5 - 8) = 0 &\\quad \\Rightarrow \\quad p_1 = 0\\\\\n",
    "p_2(2x_1 + x_2 + 0.5x_3 - 3x_4 - 4) = 0 &\\quad \\Rightarrow \\quad&\n",
    "p_2(1.5 - 4) = 0 &\\quad \\Rightarrow \\quad p_2 = 0\\\\\n",
    "p_3(x_1 + x_2 - 2x_3 + 0.5x_4 - 6) = 0 &\\quad \\Rightarrow \\quad& \n",
    "p_3(1.5 - 6) = 0 &\\quad \\Rightarrow \\quad p_3 = 0 \\\\\n",
    "p_4(-3x_1 + 2x_2 - x_4 - 3) = 0 &\\quad \\Rightarrow \\quad&\n",
    "p_4(2(1.5) - 3) = 0 &\\quad \\Rightarrow \\quad \\text{No information}\n",
    "\\end{align}\n",
    "$$"
   ]
  },
  {
   "cell_type": "markdown",
   "id": "8bddd8a7",
   "metadata": {},
   "source": [
    "Since $x_2\\geq 0$, then the following must be satisfied:\n",
    "$$\n",
    "0.5p_1 + 0.5p_2 - 2p_3 = 0.5 \\\\\n",
    "$$"
   ]
  },
  {
   "cell_type": "markdown",
   "id": "4a5afb3c",
   "metadata": {},
   "source": [
    "Using our previous information that $p_1, p_2, p_3 = 0$\n",
    "$$\n",
    "0 = 0.5 \\\\\n",
    "$$"
   ]
  },
  {
   "cell_type": "markdown",
   "id": "4c0e7ce9",
   "metadata": {},
   "source": [
    "Clearly, the above has no solution, thus there is no feasible $\\mathbf p$ and hence $\\mathbf x$ is not optimal."
   ]
  },
  {
   "cell_type": "markdown",
   "id": "06737e75",
   "metadata": {},
   "source": [
    "## Dual Simplex method"
   ]
  },
  {
   "cell_type": "markdown",
   "id": "3d0ff772",
   "metadata": {},
   "source": [
    "In our previous Simplex method, we are maintaining primal feasibility while working toward dual feasibility.\n",
    "In the **dual Simplex method**, we start with dual feasibility and work towards primal feasibility."
   ]
  },
  {
   "cell_type": "markdown",
   "id": "af58757f",
   "metadata": {},
   "source": [
    "The preconditions for the dual method is:\n",
    "1. vector $\\mathbf c$ needs to be non-negative\n",
    "2. LP needs to be transformed into an LP with only $\\leq$ constraints\n",
    "    * This is to allow us to use the slack variables as the identity matrix"
   ]
  },
  {
   "cell_type": "markdown",
   "id": "6d0526ae",
   "metadata": {},
   "source": [
    "Now we revisit the problem which we previously solved using the 2-phase method\n",
    "$$\n",
    "\\begin{alignedat}{20}\n",
    "\\min    \\quad & 4x_1 & \\quad + \\quad &  & x_2 \\quad  \\\\\n",
    "s.t. \\quad 3 & x_1 & \\quad + \\quad & x_2 & = 3 \\\\ \n",
    "           -4 & x_1 & \\quad - \\quad & 3x_2 & \\leq -6 \\\\ \n",
    "         & x_1 & \\quad + \\quad & 2x_2 & \\leq 4 \\\\ \n",
    "         & x_1, x_2 &&&\\geq 0 \\\\\n",
    "\\end{alignedat}\n",
    "$$"
   ]
  },
  {
   "cell_type": "markdown",
   "id": "c27afe9a",
   "metadata": {},
   "source": [
    "This time, we obtain the below instead\n",
    "$$\n",
    "\\begin{alignedat}{20}\n",
    "\\min    \\quad 4&x_1 & + & x_2 & & & \\quad  \\\\\n",
    "s.t. \\quad 3 & x_1 & + & x_2 & + s_1& & &  & = 3 \\\\ \n",
    "           -3 & x_1 & - & x_2 &  & + s_2 & &  & = -3 \\\\ \n",
    "           -4 & x_1 & - & 3x_2 & & &  & + s_3 & = -6 \\\\ \n",
    "         & x_1 & + & 2x_2 & & & & & +s_4 = 4 \\\\ \n",
    "         & x_i,s_i &&& & & & & \\geq 0 \\\\\n",
    "\\end{alignedat}\n",
    "$$"
   ]
  },
  {
   "cell_type": "markdown",
   "id": "82cc621d",
   "metadata": {},
   "source": [
    "We don't introduce $y$ variables, nor keep the $\\mathbf b \\geq 0$.\n",
    "We also split the equality in the 1st constraint into 2 constraints of $\\geq$ and $\\leq$ since we do not have enough slack variables."
   ]
  },
  {
   "cell_type": "markdown",
   "id": "76490321",
   "metadata": {},
   "source": [
    "\n",
    "| Basis | x1 | x2 | s1 | s2 | s3 | s4 | Solution |\n",
    "| --- | --- | --- | --- | --- | --- | --- | --- |\n",
    "| $$\\bar{\\mathbf c}$$ | 4 | 1 | 0 | 0 | 0 | 0 | 0 |\n",
    "| s1 | 3 | 1 | 1 | 0 | 0| 0 | 3|\n",
    "| s2 | -3 | -1 | 0 | 1 | 0 | 0 | -3 |\n",
    "| s3 | -4 | -3 | 0 | 0 | 1 | 0 | -6 |\n",
    "| s4 | 1 | 2 | 0 | 0 | 0 | 1 | 4 |\n"
   ]
  },
  {
   "cell_type": "markdown",
   "id": "006e4fc5",
   "metadata": {},
   "source": [
    "Previously, we didn't like that the $\\mathbf b$ contain negative numbers, as it means our current solution is not feasible and thus cannot perform simplex operations.\n",
    "Dual Simplex method is not bounded by such restrictions."
   ]
  },
  {
   "cell_type": "markdown",
   "id": "303bb613",
   "metadata": {},
   "source": [
    "To perform 1 iteration of the dual Simplex method, we ensure that $\\bar{\\mathbf c} \\geq \\mathbf 0$.\n",
    "Then we select any entry on the $\\mathbf b$ column that is negative, in this case $-3, -6$.\n",
    "We choose $-3$.\n",
    "\n",
    "Then we find an entry in that row that is also negative, in this case $-3, -1$.\n",
    "\n",
    "We then compute the ratio of $\\frac{\\bar {\\mathbf c}_i}{|v_i|}$, in this case $\\frac{4}{3}, \\frac{1}{3}$.\n",
    "We then select the index with the lowest ratio, in this case $\\frac{1}{3}$."
   ]
  },
  {
   "cell_type": "markdown",
   "id": "f9d55b93",
   "metadata": {},
   "source": [
    "\n",
    "| Basis | x1 | x2 | s1 | s2 | s3 | s4 | Solution |\n",
    "| --- | --- | --- | --- | --- | --- | --- | --- |\n",
    "| $$\\bar{\\mathbf c}$$ | **4** | **1** | 0 | 0 | 0 | 0 | 0 |\n",
    "| s1 | 3 | 1 | 1 | 0 | 0| 0 | 3|\n",
    "| s2 | **-3** | **-1** | 0 | 1 | 0 | 0 | **-3** |\n",
    "| s3 | -4 | -3 | 0 | 0 | 1 | 0 | -6 |\n",
    "| s4 | 1 | 2 | 0 | 0 | 0 | 1 | 4 |\n"
   ]
  },
  {
   "cell_type": "markdown",
   "id": "5cfb04fd",
   "metadata": {},
   "source": [
    "Then we multiply it by a factor to make the pivot entry $ = 1$, as per below."
   ]
  },
  {
   "cell_type": "markdown",
   "id": "b2d9d72b",
   "metadata": {},
   "source": [
    "\n",
    "| Basis | x1 | x2 | s1 | s2 | s3 | s4 | Solution |\n",
    "| --- | --- | --- | --- | --- | --- | --- | --- |\n",
    "| $$\\bar{\\mathbf c}$$ | 4 | 1 | 0 | 0 | 0 | 0 | 0 |\n",
    "| s1 | 3 | 1 | 1 | 0 | 0| 0 | 3|\n",
    "| s2 |**3**|**1**|**0**|**-1**|**0**|**0**|**3**|\n",
    "| s3 | -4 | -3 | 0 | 0 | 1 | 0 | -6 |\n",
    "| s4 | 1 | 2 | 0 | 0 | 0 | 1 | 4 |\n"
   ]
  },
  {
   "cell_type": "markdown",
   "id": "db4ee777",
   "metadata": {},
   "source": [
    "Notice that our $b_i$ is now positive.\n",
    "Then we zero out the other entries in the column."
   ]
  },
  {
   "cell_type": "markdown",
   "id": "63ce31bd",
   "metadata": {},
   "source": [
    "\n",
    "| Basis | x1 | x2 | s1 | s2 | s3 | s4 | Solution |\n",
    "| --- | --- | --- | --- | --- | --- | --- | --- |\n",
    "| $$\\bar{\\mathbf c}$$ | 1 | 0 | 0 | 1 | 0 | 0 | -3 |\n",
    "| s1 | 0 | 0 | 1 | 1 | 0| 0 | 0|\n",
    "| x2 | 3 | 1 | 0 | -1 | 0 | 0 | 3 | \n",
    "| s3 | 5 | 0 | 0 | -3 | 1 | 0 | 3 |\n",
    "| s4 | -5 | 0 | 0 | 2 | 0 | 1 | -2 |\n"
   ]
  },
  {
   "cell_type": "markdown",
   "id": "ec81a295",
   "metadata": {},
   "source": [
    "Since there is still a negative $b_i$, we continue the dual simplex iterations."
   ]
  },
  {
   "cell_type": "markdown",
   "id": "ebaddbc9",
   "metadata": {},
   "source": [
    "After we perform it, we would get the below:"
   ]
  },
  {
   "cell_type": "markdown",
   "id": "443f4d22",
   "metadata": {},
   "source": [
    "\n",
    "| Basis | x1 | x2 | s1 | s2 | s3 | s4 | Solution |\n",
    "| --- | --- | --- | --- | --- | --- | --- | --- |\n",
    "| $$\\bar{\\mathbf c}$$ | 0 | 0 | 0 | 1.4 | 0 | 0.2 | -3.4 |\n",
    "| s1 | 0 | 0 | 1 | 1 | 0| 0 | 0|\n",
    "| s2 | 0 | 1 | 0 | 0.2 | 0 | 0.6 | 1.8 | \n",
    "| s3 | 0 | 0 | 0 | -1 | 1 | 1 | 1 |\n",
    "| s4 | 1 | 0 | 0 | -0.4 | 0 | -0.2 | 0.4 |\n"
   ]
  },
  {
   "cell_type": "markdown",
   "id": "1d9a8e13",
   "metadata": {},
   "source": [
    "which is the same as what we got via the 2-phase method and the big-M method.\n",
    "Notice that with the dual Simplex method, we don't need to construct an auxiliary LP."
   ]
  },
  {
   "cell_type": "markdown",
   "id": "2fd52bc9",
   "metadata": {},
   "source": [
    "To reiterate, the dual Simplex method is as follows:\n",
    "1. Ensure that $\\bar {\\mathbf c} \\geq 0$\n",
    "2. Choose any $b_i$ that is negative\n",
    "    * If no entry is negative, then the algorithm completes\n",
    "3. Select all the negative elements $v_i$ in that row\n",
    "    * If no elements are negative, then problem is infeasible\n",
    "4. Compute the ratio of $\\frac{\\bar {\\mathbf c}_i}{|v_i|}$\n",
    "5. Select the index with the lowest ratio\n",
    "6. Multiply the row by a factor to make that entry at that index $=1$\n",
    "7. Zero out the other entries in that column\n",
    "8. Replace the basis variable label\n",
    "9. Repeat step 1"
   ]
  },
  {
   "cell_type": "markdown",
   "id": "e44b6e3f",
   "metadata": {},
   "source": [
    "### Implementation"
   ]
  },
  {
   "cell_type": "code",
   "execution_count": 2,
   "id": "8542c975",
   "metadata": {},
   "outputs": [
    {
     "name": "stdout",
     "output_type": "stream",
     "text": [
      "def dual_simplex(c_bar, tableau):\n",
      "    while True:\n",
      "        assert (c_bar[:-1] >= 0).all()\n",
      "\n",
      "        c_bar, tableau = c_bar.copy(), tableau.copy()\n",
      "        c_bar, tableau = c_bar + Fraction(), tableau + Fraction()\n",
      "        b = tableau[:, -1]\n",
      "        if (b >= 0).all():\n",
      "            return c_bar, tableau\n",
      "\n",
      "        row = b.argmin()\n",
      "        pivot_row = tableau[row, :-1]\n",
      "        i_s = np.argwhere(pivot_row < 0).ravel()\n",
      "\n",
      "        if i_s.size == 0:\n",
      "            raise ValueError(\"Problem is infeasible\")\n",
      "\n",
      "        c_s = c_bar[i_s]\n",
      "        v_i = pivot_row[i_s]\n",
      "        metric = c_s / np.abs(v_i)\n",
      "        col = i_s[metric.argmin()]\n",
      "        \n",
      "        c_bar, tableau = pivot(c_bar, tableau, row, col)\n"
     ]
    }
   ],
   "source": [
    "from module.simplex import dual_simplex\n",
    "show_implementation(dual_simplex)"
   ]
  },
  {
   "cell_type": "code",
   "execution_count": 3,
   "id": "b2090315",
   "metadata": {},
   "outputs": [
    {
     "name": "stdout",
     "output_type": "stream",
     "text": [
      "[ 0.   0.   0.   1.4  0.   0.2 -3.4]\n",
      "[[ 0.   0.   1.   1.   0.  -0.   0. ]\n",
      " [ 0.   0.   0.  -1.   1.   1.   1. ]\n",
      " [ 0.   1.   0.   0.2  0.   0.6  1.8]\n",
      " [ 1.   0.   0.  -0.4  0.  -0.2  0.4]]\n"
     ]
    }
   ],
   "source": [
    "a = np.array([\n",
    "    [3, 1, 1, 0, 0, 0, 3],\n",
    "    [-3, -1, 0, 1, 0, 0, -3],\n",
    "    [-4, -3, 0, 0, 1, 0, -6],\n",
    "    [1, 2, 0, 0, 0, 1, 4.0]\n",
    "])\n",
    "c = np.array([4, 1, 0, 0, 0, 0, 0.0])\n",
    "\n",
    "print_table(*dual_simplex(c, a))"
   ]
  },
  {
   "cell_type": "markdown",
   "id": "1cb953f0",
   "metadata": {},
   "source": [
    "One way of conceptualizing the dual Simplex method is to imagine us traveling outside of the bounds of the polyhedron.\n",
    "Then now, we are trying to get back inside the feasible region to resume our simplex iterations."
   ]
  }
 ],
 "metadata": {
  "kernelspec": {
   "display_name": "Python 3 (ipykernel)",
   "language": "python",
   "name": "python3"
  },
  "language_info": {
   "codemirror_mode": {
    "name": "ipython",
    "version": 3
   },
   "file_extension": ".py",
   "mimetype": "text/x-python",
   "name": "python",
   "nbconvert_exporter": "python",
   "pygments_lexer": "ipython3",
   "version": "3.10.2"
  }
 },
 "nbformat": 4,
 "nbformat_minor": 5
}
