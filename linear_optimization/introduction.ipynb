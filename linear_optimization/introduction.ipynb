{
 "cells": [
  {
   "cell_type": "markdown",
   "id": "c14facbe",
   "metadata": {},
   "source": [
    "# Introduction\n",
    "\n",
    "From [linear algebra](../linear_algebra/linear_systems.ipynb), we learnt how to solve linear equations.\n",
    "That chapter also serves are pre-requisite to all our notations.\n",
    "\n",
    "However, suppose that we were made to solve inequalities too.\n",
    "\n",
    "Our problem (which we call the **linear programming problem, LP**) would be in the form of:\n",
    "$$\n",
    "\\min _{x \\in \\mathbb{R}^n} f(\\mathbf{x}) \\\\\n",
    "\\text{such that:} \\mathbf{A_1x} = \\mathbf{b_1} \\\\\n",
    "\\mathbf{A_2 x} \\leq \\mathbf{b_2} \\\\\n",
    "\\mathbf{A_3 x} \\geq \\mathbf{b_3}\n",
    "$$"
   ]
  },
  {
   "cell_type": "markdown",
   "id": "3b717618",
   "metadata": {},
   "source": [
    "## Application\n",
    "\n",
    "Suppose that I wish to maximize my happiness.\n",
    "I have a certain amount of different types of resources: time, energy, hunger and stress level.\n",
    "And I have certain activities which I can perform which can increase my happiness, at the cost of certain amount of resource.\n",
    "\n",
    "The following is a tabulation of the data:\n",
    "\n",
    "| Resource/Activity | Playing games | Studying | Eating | Napping | Amount available |\n",
    "| --- | --- | --- | --- | --- | --- |\n",
    "| Time | 2 | 1 | 0.5 | 1 | 8 |\n",
    "| Energy | 2 | 1 | 0.5 | -3 | 4 |\n",
    "| Hunger | 1 | 1 | -2 | 0.5 | 6 |\n",
    "| Stress | -3 | 2 | 0 | -1 | 3 |\n",
    "| Happiness | 2 | 1 | 0.5 | 0.5 | |"
   ]
  },
  {
   "cell_type": "markdown",
   "id": "b7538403",
   "metadata": {},
   "source": [
    "Notice that while most activities uses resources, certain activities can also produce resource.\n",
    "\n",
    "The question becomes, what is the best allocation of activities such that I am able to maximize my happiness?"
   ]
  },
  {
   "cell_type": "markdown",
   "id": "52322461",
   "metadata": {},
   "source": [
    "## Graphical representation"
   ]
  },
  {
   "cell_type": "markdown",
   "id": "ee22bb82",
   "metadata": {},
   "source": [
    "### Normal vector"
   ]
  },
  {
   "cell_type": "markdown",
   "id": "582ab1e9",
   "metadata": {},
   "source": [
    "Suppose that we have a vector $\\mathbf{c}$, and variable $\\mathbf{x}$.\n",
    "Notice that $\\mathbf{c}$ points in the direction of increasing $\\mathbf{c}^T \\mathbf{x}$"
   ]
  },
  {
   "cell_type": "code",
   "execution_count": 1,
   "id": "944b08df",
   "metadata": {},
   "outputs": [
    {
     "data": {
      "image/png": "[encoded data removed]",
      "text/plain": [
       "<Figure size 432x288 with 1 Axes>"
      ]
     },
     "metadata": {
      "needs_background": "light"
     },
     "output_type": "display_data"
    }
   ],
   "source": [
    "import matplotlib.pyplot as plt\n",
    "import numpy as np\n",
    "\n",
    "c = np.array([-1, 2])\n",
    "x = np.arange(5)\n",
    "\n",
    "plt.plot(x, (2 + x) / 2, label=\"-1 (x1) + 2 (x2) = 2\")\n",
    "plt.plot(x, (4 + x) / 2, label=\"-1 (x1) + 2 (x2) = 4\")\n",
    "plt.plot(x, (0 + x) / 2, label=\"-1 (x1) + 2 (x2) = 0\")\n",
    "plt.arrow(2, 2, -1, 2, head_width=0.1)\n",
    "plt.annotate(\"vector of (-1, 2)\", (1.2, 4))\n",
    "plt.legend()\n",
    "plt.gca().set_aspect(\"equal\", adjustable=\"box\")\n",
    "plt.show()"
   ]
  },
  {
   "cell_type": "markdown",
   "id": "29d56eda",
   "metadata": {},
   "source": [
    "### Halfspace"
   ]
  },
  {
   "cell_type": "markdown",
   "id": "810d1f44",
   "metadata": {},
   "source": [
    "Suppose we have an inequality of the form $\\mathbf{a}^T_i \\mathbf{x} \\leq \\mathbf{b}_i$"
   ]
  },
  {
   "cell_type": "markdown",
   "id": "be1847eb",
   "metadata": {},
   "source": [
    "Notice that this can be represented as a **halfspace**, as shown graphically below."
   ]
  },
  {
   "cell_type": "code",
   "execution_count": 2,
   "id": "cbfcd1ab",
   "metadata": {},
   "outputs": [
    {
     "data": {
      "image/png": "[encoded data removed]",
      "text/plain": [
       "<Figure size 432x288 with 1 Axes>"
      ]
     },
     "metadata": {
      "needs_background": "light"
     },
     "output_type": "display_data"
    }
   ],
   "source": [
    "from module.utility import plot_halfspace\n",
    "\n",
    "plot_halfspace(np.linspace(0, 4), \" -2x1 + 2x2 = 2\")\n",
    "plt.show()"
   ]
  },
  {
   "cell_type": "markdown",
   "id": "7a478e00",
   "metadata": {},
   "source": [
    "In this case, the shaded region represents the values where $\\mathbf{a} ^T_i \\mathbf{x} \\leq \\mathbf{b}_i$, $\\mathbf{a} = (-1, 2), \\mathbf{b} = (2)$"
   ]
  },
  {
   "cell_type": "markdown",
   "id": "29733023",
   "metadata": {},
   "source": [
    "Notice that we can always convert the inequality to a $\\leq$ by multiply both sides by $-1$, and we call $\\mathbf{a}_i$ the outward normal vector."
   ]
  },
  {
   "cell_type": "markdown",
   "id": "b81f0b0d",
   "metadata": {},
   "source": [
    "And a set of inequality will give us an intersection of halfspaces."
   ]
  },
  {
   "cell_type": "code",
   "execution_count": 3,
   "id": "f76e8d56",
   "metadata": {},
   "outputs": [
    {
     "data": {
      "image/png": "[encoded data removed]",
      "text/plain": [
       "<Figure size 432x288 with 1 Axes>"
      ]
     },
     "metadata": {
      "needs_background": "light"
     },
     "output_type": "display_data"
    }
   ],
   "source": [
    "plot_halfspace(\n",
    "    np.linspace(0, 4), \" -1x1 + 2x2 = 2\", \"  2x1 + 2x2 = 10\", \"0.5x1 + 2x2 = 5\"\n",
    ")\n",
    "plt.show()"
   ]
  },
  {
   "cell_type": "markdown",
   "id": "08e9b8a6",
   "metadata": {},
   "source": [
    "## Linear programming\n",
    "A linear programming problem is in the form of"
   ]
  },
  {
   "cell_type": "markdown",
   "id": "f7c1e759",
   "metadata": {},
   "source": [
    "$$\n",
    "\\min (\\text{ or} \\max) _{x \\in \\mathbb{R}^n} \\mathbf{c}^T \\mathbb{x} \\\\\n",
    "\\text{such that:} \\mathbf{a_ix} = \\mathbf{b_i} \\text{ for some }i \\\\\n",
    "\\mathbf{a_i x} \\leq \\mathbf{b_i} \\text{ for some } i\\\\\n",
    "\\mathbf{a_i x} \\geq \\mathbf{b_i} \\text{ for some } i \\\\\n",
    "x_j \\geq 0 \\text{ for some } j \\\\\n",
    "x_j \\leq 0 \\text{ for some } j \\\\\n",
    "x_j \\in \\mathbb{R} \\text{ for some } j\n",
    "$$"
   ]
  },
  {
   "cell_type": "markdown",
   "id": "17e80dbe",
   "metadata": {},
   "source": [
    "$\\mathbf{c}^T \\mathbf{x}$ is the **objective function**"
   ]
  },
  {
   "cell_type": "markdown",
   "id": "6cbd1c4b",
   "metadata": {},
   "source": [
    "The $x_i$ are called **decision variables**."
   ]
  },
  {
   "cell_type": "markdown",
   "id": "1eef4762",
   "metadata": {},
   "source": [
    "Variables where $x_j \\in \\mathbb{R}$ are free/unrestricted."
   ]
  },
  {
   "cell_type": "markdown",
   "id": "9be53f89",
   "metadata": {},
   "source": [
    "Any vector $\\mathbb{x}$ that satisfy all the contraints is called **feasible solution**"
   ]
  },
  {
   "cell_type": "markdown",
   "id": "f4d99885",
   "metadata": {},
   "source": [
    "For example, if the constraint is $x_1 + x_2 \\leq 2$, then $(0, 1)$ is feasible, while $(3, 1)$ is not."
   ]
  },
  {
   "cell_type": "markdown",
   "id": "a799019d",
   "metadata": {},
   "source": [
    "The **feasible set/feasible region** is the set of all feasible solutions."
   ]
  },
  {
   "cell_type": "markdown",
   "id": "dc5d9c93",
   "metadata": {},
   "source": [
    "A feasible solution $\\mathbf x^*$ that minimizes/maximizes the objection function is an **optimal feasible solution**"
   ]
  },
  {
   "cell_type": "markdown",
   "id": "a6176bff",
   "metadata": {},
   "source": [
    "$\\mathbf{c}^T \\mathbf{x}^*$ is the **optimal objective value/optimal cost**"
   ]
  },
  {
   "cell_type": "markdown",
   "id": "d33dbd7e",
   "metadata": {},
   "source": [
    "A minimization problem has **unbounded cost** if the optimal cost is $-\\infty$ (similarly for maximization)"
   ]
  },
  {
   "cell_type": "markdown",
   "id": "f2ec4337",
   "metadata": {},
   "source": [
    "### Optimization"
   ]
  },
  {
   "cell_type": "markdown",
   "id": "f6963e63",
   "metadata": {},
   "source": [
    "Since we know that $\\mathbf c$ points in the direction of increasing objective function, we can simply traverse in the direction of $-\\mathbf {c}$ while staying in the feasible region (vice versa for maximization)."
   ]
  },
  {
   "cell_type": "code",
   "execution_count": 4,
   "id": "b3ef33c1",
   "metadata": {},
   "outputs": [
    {
     "data": {
      "image/png": "[encoded data removed]",
      "text/plain": [
       "<Figure size 432x288 with 1 Axes>"
      ]
     },
     "metadata": {
      "needs_background": "light"
     },
     "output_type": "display_data"
    }
   ],
   "source": [
    "ax = plot_halfspace(\n",
    "    np.linspace(0, 4), \" -1x1 + 2x2 = 2\", \"  2x1 + 2x2 = 10\", \"0.5x1 + 2x2 = 5\"\n",
    ")\n",
    "ax.arrow(0.5, 0.5, 0, 0.5, head_width=0.1)\n",
    "ax.plot(0.5, 0.5, \"x\")\n",
    "plt.show()"
   ]
  },
  {
   "cell_type": "markdown",
   "id": "6791b917",
   "metadata": {},
   "source": [
    "Suppose that our objective function is $0(x_1) + 1(x_2)$.\n",
    "\n",
    "We consider the point $(0.5, 0.5)$.\n",
    "Since $\\mathbf c = (0, 1)^T$, we would move upwards, until we hit the border."
   ]
  },
  {
   "cell_type": "code",
   "execution_count": 5,
   "id": "c77e5eeb",
   "metadata": {},
   "outputs": [
    {
     "data": {
      "image/png": "[encoded data removed]",
      "text/plain": [
       "<Figure size 432x288 with 1 Axes>"
      ]
     },
     "metadata": {
      "needs_background": "light"
     },
     "output_type": "display_data"
    }
   ],
   "source": [
    "ax = plot_halfspace(\n",
    "    np.linspace(0, 4), \" -1x1 + 2x2 = 2\", \"  2x1 + 2x2 = 10\", \"0.5x1 + 2x2 = 5\"\n",
    ")\n",
    "ax.arrow(0.5, 1.25, 0, 0.5, head_width=0.1)\n",
    "ax.plot(0.5, 1.25, \"x\")\n",
    "plt.show()"
   ]
  },
  {
   "cell_type": "markdown",
   "id": "74522e9f",
   "metadata": {},
   "source": [
    "Notice that we can still increase our objective value, by moving in the positive $x_1$ axis.\n",
    "We can imagine it as pulling the point upwards, while it is bounded by the border of the halfspaces.\n",
    "It is intuitive that this motion would slide the points rightwards."
   ]
  },
  {
   "cell_type": "code",
   "execution_count": 6,
   "id": "c70380af",
   "metadata": {},
   "outputs": [
    {
     "data": {
      "image/png": "[encoded data removed]",
      "text/plain": [
       "<Figure size 432x288 with 1 Axes>"
      ]
     },
     "metadata": {
      "needs_background": "light"
     },
     "output_type": "display_data"
    }
   ],
   "source": [
    "ax = plot_halfspace(\n",
    "    np.linspace(0, 4), \" -1x1 + 2x2 = 2\", \"  2x1 + 2x2 = 10\", \"0.5x1 + 2x2 = 5\"\n",
    ")\n",
    "ax.arrow(0.5, 1.25, 0, 0.5, head_width=0.1)\n",
    "ax.arrow(0.5, 1.25, 0, 0.5, head_width=0.1)\n",
    "ax.arrow(1, 1.5, 0, 0.5, head_width=0.1)\n",
    "ax.arrow(1.5, 1.75, 0, 0.5, head_width=0.1)\n",
    "ax.plot(0.5, 1.25, \"x\")\n",
    "plt.show()"
   ]
  },
  {
   "cell_type": "markdown",
   "id": "5ce514c0",
   "metadata": {},
   "source": [
    "And it is also apparent that this motion would stop at the \"corner\" of the constraints, as per below.\n",
    "From here, there is no motion we can do to improve the objective value, and this is has to be optimal."
   ]
  },
  {
   "cell_type": "code",
   "execution_count": 7,
   "id": "4f48c28a",
   "metadata": {},
   "outputs": [
    {
     "data": {
      "image/png": "[encoded data removed]",
      "text/plain": [
       "<Figure size 432x288 with 1 Axes>"
      ]
     },
     "metadata": {
      "needs_background": "light"
     },
     "output_type": "display_data"
    }
   ],
   "source": [
    "ax = plot_halfspace(\n",
    "    np.linspace(0, 4), \" -1x1 + 2x2 = 2\", \"  2x1 + 2x2 = 10\", \"0.5x1 + 2x2 = 5\"\n",
    ")\n",
    "ax.arrow(2, 2, 0, 0.5, head_width=0.1)\n",
    "ax.plot(2, 2, \"x\")\n",
    "plt.show()"
   ]
  },
  {
   "cell_type": "markdown",
   "id": "ff3e0f70",
   "metadata": {},
   "source": [
    "### Types of solutions\n",
    "There are few types of solutions possible for a linear problem\n",
    "\n",
    "* Unique solution\n",
    "* Multiple optimal solution\n",
    "    * Set of optimal solutions can be bounded or unbounded\n",
    "* Optimal cost unbounded\n",
    "    * Cost $= -\\infty$ for minimization problems\n",
    "* Infeasible\n",
    "    * No feasible solution\n",
    "    * Cost $= \\infty$ for minimization problems"
   ]
  },
  {
   "cell_type": "markdown",
   "id": "59cb4ce1",
   "metadata": {},
   "source": [
    "In practical problems, unbounded cost indicates that we are missing some constraints, since real life metrics generally cannot be infinite.\n",
    "Similarly, infeasiblity indicates some inconsistencies in the constraints that we set."
   ]
  },
  {
   "cell_type": "markdown",
   "id": "da819949",
   "metadata": {},
   "source": [
    "### Standard form\n",
    "We can establish a standard form for LP for ease of discussions.\n",
    "\n",
    "The standard form is such that all constraints are written in the form of:\n"
   ]
  },
  {
   "cell_type": "markdown",
   "id": "fe15d456",
   "metadata": {},
   "source": [
    "$$\n",
    "\\min  \\mathbf{c}^T \\mathbb{x} \\\\\n",
    "s.t \\quad\n",
    "\\mathbf{Ax} = \\mathbf{b} \\\\\n",
    "\\mathbf x \\geq \\mathbf 0 \n",
    "$$"
   ]
  },
  {
   "cell_type": "markdown",
   "id": "37b7e854",
   "metadata": {},
   "source": [
    "Hence, it needs:\n",
    "1. Minimization objective\n",
    "2. Equality constraints\n",
    "3. Non-negative variables"
   ]
  },
  {
   "cell_type": "markdown",
   "id": "b1600dba",
   "metadata": {},
   "source": [
    "The steps to convert it is as follows:\n",
    "1. Eliminate inequality constraints\n",
    "    * Introduce slack variables\n",
    "2. Eliminate non-positive and free variables\n",
    "    * If $x_i \\leq 0$, we replace $x_i$ by $-x_i^-$\n",
    "    * If $x_i$ is free, we replace it with $x_i^+ - x_i^-$"
   ]
  },
  {
   "cell_type": "markdown",
   "id": "219fa760",
   "metadata": {},
   "source": [
    "## Extreme points\n",
    "\n",
    "[Previously](#Optimization), we have seen that we can find solutions to the problem at corners of the halfspaces.\n",
    "\n",
    "This makes some intuitive sense as we wish to maximize the tightness of the constraint utilize.\n",
    "To formalize these locations, we have the following 3 definitions of corner points:"
   ]
  },
  {
   "cell_type": "markdown",
   "id": "c7fcdecc",
   "metadata": {},
   "source": [
    "### Geometric definitions\n",
    "\n",
    "*A point $\\mathbf x^*\\in P$ is an extreme point if for any two points $\\mathbf{y,z} \\in P$ and some scalar $\\lambda \\in (0,1)$ such that $\\mathbf x^* = \\lambda \\mathbf y + (1- \\lambda) \\mathbf z$, then $\\mathbf y = \\mathbf z = \\mathbf x^*$.*\n",
    "\n",
    "In layman terms, it means that you won't be able to find 2 distinct points that are on \"opposite sides\" of $x^*$."
   ]
  },
  {
   "cell_type": "markdown",
   "id": "02d57f9a",
   "metadata": {},
   "source": [
    "A point $\\mathbf x^* \\in P$ is a vertex of $P$ if there is a $\\mathbf c \\in \\mathbb R ^n$ such that $\\mathbf c ^ T x^* > \\mathbf c ^T \\mathbf y$ for all $\\mathbf y \\in P \\setminus \\{x^* \\}$"
   ]
  },
  {
   "cell_type": "markdown",
   "id": "74e47bb3",
   "metadata": {},
   "source": [
    "Note that the above 2 definitions are not really important for us, they are just here for completeness.\n",
    "It is because it is hard to work with the geometric definitions computationally."
   ]
  },
  {
   "cell_type": "markdown",
   "id": "0f655cfe",
   "metadata": {},
   "source": [
    "Also, it becomes hard to visualize with the geometric approach once we have higher dimensions, for example, our [application](#Application) has 4 dimensions."
   ]
  },
  {
   "cell_type": "markdown",
   "id": "30ab2414",
   "metadata": {},
   "source": [
    "###  Algebraic definition"
   ]
  },
  {
   "cell_type": "markdown",
   "id": "94ceb6a6",
   "metadata": {},
   "source": [
    "Suppose that $\\mathbf a_i ^T x^* = b_i$ for some constraint.\n",
    "Then, we call this constraint as **active/binding/tight** at $x ^*$"
   ]
  },
  {
   "cell_type": "markdown",
   "id": "34978fed",
   "metadata": {},
   "source": [
    "Constraints $\\mathbf a_i ^T \\mathbf x^* \\geq b_i$ are said to be linearly independent if the corresponding vectors $\\mathbf a _i$ are [linearly independent](TODO)"
   ]
  },
  {
   "cell_type": "markdown",
   "id": "8f7611de",
   "metadata": {},
   "source": [
    "$\\mathbf x^*$ is a **basic feasible solution** (BFS) of a polyhedron $P$ if $\\mathbf x^* \\in P$ and $n$ linearly independent constraints are active at $\\mathbf x^*$"
   ]
  },
  {
   "cell_type": "markdown",
   "id": "b024ff05",
   "metadata": {},
   "source": [
    "If the above is true, except that we don't know if $\\mathbf x^* \\in P$, then it is just simply a **basic solution**."
   ]
  },
  {
   "cell_type": "code",
   "execution_count": 8,
   "id": "32ec4467",
   "metadata": {},
   "outputs": [
    {
     "data": {
      "image/png": "[encoded data removed]",
      "text/plain": [
       "<Figure size 432x288 with 1 Axes>"
      ]
     },
     "metadata": {
      "needs_background": "light"
     },
     "output_type": "display_data"
    }
   ],
   "source": [
    "ax = plot_halfspace(\n",
    "    np.linspace(0, 4), \" -1x1 + 2x2 = 2\", \"  2x1 + 2x2 = 10\", \"0.5x1 + 2x2 = 5\"\n",
    ")\n",
    "ax.plot(2, 2, \"x\")\n",
    "ax.plot(8 / 3, 7 / 3, \"x\")\n",
    "ax.annotate(\"Y\", (8 / 3, 7 / 3))\n",
    "plt.show()"
   ]
  },
  {
   "cell_type": "markdown",
   "id": "6e2e9296",
   "metadata": {},
   "source": [
    "Note that for a polyhedron, extreme points $\\Leftrightarrow$ vertex $\\Leftrightarrow$ BFS"
   ]
  },
  {
   "cell_type": "markdown",
   "id": "21c4135f",
   "metadata": {},
   "source": [
    "<span hidden> TODO: add proof </span>"
   ]
  },
  {
   "cell_type": "markdown",
   "id": "d73b1421",
   "metadata": {},
   "source": [
    "Once again, $(2,2)$ is an corner points graphically.\n",
    "And we can see that the constraints are:\n",
    "$$\n",
    "-x_1 + 2x_2 = 2 \\\\\n",
    "2x_1 + 2x_2 = 10 \\\\\n",
    "\\frac{1}{2}x_1 + 2x_2 = 5\n",
    "$$"
   ]
  },
  {
   "cell_type": "markdown",
   "id": "1603257d",
   "metadata": {},
   "source": [
    "Subbing $(2, 2)$ inside, we get:"
   ]
  },
  {
   "cell_type": "markdown",
   "id": "8a7aa7b9",
   "metadata": {},
   "source": [
    "$$\n",
    "-2 + 2(2) = 2 \\\\\n",
    "2(2)+ 2(2) = 8 \\neq 10\\\\\n",
    "\\frac{1}{2}(2) + 2(2) = 5\n",
    "$$"
   ]
  },
  {
   "cell_type": "markdown",
   "id": "7920d12d",
   "metadata": {},
   "source": [
    "which agrees with our definition as 2 constraint are satisfied and (we can prove that) they are linearly independent. \n",
    "Also to note that the 2 tight constraints are also the halfspaces that are in contact with the corner."
   ]
  },
  {
   "cell_type": "markdown",
   "id": "9e3ad785",
   "metadata": {},
   "source": [
    "Now, notice that at points $Y$:"
   ]
  },
  {
   "cell_type": "markdown",
   "id": "bfa53a35",
   "metadata": {},
   "source": [
    "$$\n",
    "-(8/3) + 2(7/3) = 2 \\\\\n",
    "2(8/3)+ 2(7/3) = 10\\\\\n",
    "\\frac{1}{2}(8/3) + 2(7/3) = 16/3 \\neq 5\n",
    "$$"
   ]
  },
  {
   "cell_type": "markdown",
   "id": "bca5f41a",
   "metadata": {},
   "source": [
    "which means it is an infeasible basic solution as it is $\\not \\in P$."
   ]
  },
  {
   "cell_type": "markdown",
   "id": "42582c21",
   "metadata": {},
   "source": [
    "### Degeneracy\n",
    "A basic solution is degenerate is more than $n$ constraints are active at the same time."
   ]
  },
  {
   "cell_type": "code",
   "execution_count": 9,
   "id": "7048e190",
   "metadata": {},
   "outputs": [
    {
     "data": {
      "image/png": "[encoded data removed]",
      "text/plain": [
       "<Figure size 432x288 with 1 Axes>"
      ]
     },
     "metadata": {
      "needs_background": "light"
     },
     "output_type": "display_data"
    }
   ],
   "source": [
    "ax = plot_halfspace(\n",
    "    np.linspace(0, 4),\n",
    "    \"  -1x1 + 2x2 = 2\",\n",
    "    \"   2x1 + 2x2 = 10\",\n",
    "    \" 0.5x1 + 2x2 = 5\",\n",
    "    \"-0.5x1 + 4x2 = 7\",\n",
    ")\n",
    "ax.plot(2, 2, \"x\")\n",
    "plt.show()"
   ]
  },
  {
   "cell_type": "markdown",
   "id": "cf4eb523",
   "metadata": {},
   "source": [
    "Now that we added a new constraint, notice that this new constraint is not linearly independent from the 1st and the 3rd.\n",
    "Hence, $(2, 2)$ now has more that $n$ contraints active, thus making it degenerate.\n",
    "Degeneracy is of interest because it [affects the behaviour of our LP algorithms](TODO)."
   ]
  },
  {
   "cell_type": "markdown",
   "id": "99cb39b3",
   "metadata": {},
   "source": [
    "Since there are a finite number ($m$) of constraints, there will be a finite number ($C^m_n$) of basic solutions."
   ]
  },
  {
   "cell_type": "markdown",
   "id": "7795de74",
   "metadata": {},
   "source": [
    "Degeneracy indicates that some constraints are redundant.\n",
    "For example, we can see that the red constraint is redundant as it is already covered by the green and blue constraint above."
   ]
  },
  {
   "cell_type": "markdown",
   "id": "e7cf015e",
   "metadata": {},
   "source": [
    "### Solutions"
   ]
  },
  {
   "cell_type": "markdown",
   "id": "ace94eee",
   "metadata": {},
   "source": [
    "We say a vector $\\mathbf x ^* \\in \\mathbb R^n$ is a basic solution of a standard form polyhedron ($n \\times m$ matrix) if:\n",
    "1. $\\mathbf {Ax}^* = \\mathbf b$\n",
    "2. There exists indices $B_1, B_2, \\dots, B_m$ such that:\n",
    "    * The columns $\\mathbf A _{B_1}, \\mathbf A _{B_2}, \\dots \\mathbf A _{B_m}$ are linearly independent\n",
    "    * $x ^ * _i = 0$ for all $i \\notin \\{B_1, B_2, \\dots, B_m\\}$"
   ]
  },
  {
   "cell_type": "markdown",
   "id": "d793b679",
   "metadata": {},
   "source": [
    "We call the variables $x_{B_1},x_{B_2},\\dots x_{B_m}$ as **basic variables**, and the others are **nonbasic variables**."
   ]
  },
  {
   "cell_type": "markdown",
   "id": "1bc654cf",
   "metadata": {},
   "source": [
    "If we select all the columns in $\\mathbf A$ corresponding to the indices $B_1, \\dots, B_n$ of a basic solution, and concatenate them together, we obtain $m$ linearly independent columns call a **basis matrix**.\n"
   ]
  },
  {
   "cell_type": "markdown",
   "id": "b8dc814f",
   "metadata": {},
   "source": [
    "#### Examples\n",
    "\n",
    "$$\n",
    "\\begin{pmatrix}\n",
    "1 & 1 & 2 & 1 & 0 & 0 & 0 \\\\\n",
    "0 & 1 & 6 & 0 & 1 & 0 & 0 \\\\\n",
    "1 & 0 & 0 & 0 & 0 & 1 & 0 \\\\\n",
    "0 & 1 & 0 & 0 & 0 & 0 & 1 \n",
    "\\end{pmatrix}\n",
    "\\mathbf x\n",
    "=\n",
    "\\begin{pmatrix}\n",
    "8 \\\\ 12 \\\\ 4 \\\\ 6\n",
    "\\end{pmatrix},\n",
    "\\mathbf x \\geq 0\n",
    "$$"
   ]
  },
  {
   "cell_type": "markdown",
   "id": "eb281298",
   "metadata": {},
   "source": [
    "Suppose we consider the basic solution associated with columns $4,5,6,7$."
   ]
  },
  {
   "cell_type": "markdown",
   "id": "2f142ed3",
   "metadata": {},
   "source": [
    "The basis matrix is simply\n",
    "$$\n",
    "\\begin{pmatrix}\n",
    " 1 & 0 & 0 & 0 \\\\\n",
    " 0 & 1 & 0 & 0 \\\\\n",
    " 0 & 0 & 1 & 0 \\\\\n",
    " 0 & 0 & 0 & 1 \n",
    "\\end{pmatrix}\n",
    "$$\n",
    "which is associated with the variables $x_4, x_5, x_6, x_7$"
   ]
  },
  {
   "cell_type": "markdown",
   "id": "89dd2014",
   "metadata": {},
   "source": [
    "Then we get the following solution:\n",
    "$$\n",
    "x_1 = x_2 = x_3 = 0 \\\\\n",
    "x_4 = 8 \\\\\n",
    "x_5 = 12 \\\\\n",
    "x_6 = 4 \\\\\n",
    "x_7 = 6\n",
    "$$"
   ]
  },
  {
   "cell_type": "markdown",
   "id": "8cd75a47",
   "metadata": {},
   "source": [
    "Thus, this is a BFS."
   ]
  },
  {
   "cell_type": "markdown",
   "id": "a2897135",
   "metadata": {},
   "source": [
    "---"
   ]
  },
  {
   "cell_type": "markdown",
   "id": "18e2ef0a",
   "metadata": {},
   "source": [
    "Suppose we consider the basic solution associated with columns $2,1,3,4$.\n"
   ]
  },
  {
   "cell_type": "markdown",
   "id": "84f6e7e7",
   "metadata": {},
   "source": [
    "The basis matrix is simply\n",
    "$$\n",
    "\\begin{pmatrix}\n",
    " 1 & 1 & 2 & 1 \\\\\n",
    " 1 & 0 & 6 & 0 \\\\\n",
    " 0 & 1 & 0 & 0 \\\\\n",
    " 1 & 0 & 0 & 0 \n",
    "\\end{pmatrix}\n",
    "$$\n",
    "which is associated with the variables $x_2, x_1, x_3, x_4$"
   ]
  },
  {
   "cell_type": "markdown",
   "id": "e0ba16a5",
   "metadata": {},
   "source": [
    "We get the following system of equations:\n",
    "$$\n",
    "x_2 + x_1 + 2x_3 +x_4 = 8 \\\\\n",
    "x_2 + 6x_3  = 12 \\\\\n",
    "x_1 = 4\\\\\n",
    "x_ 2 = 6 \n",
    "$$"
   ]
  },
  {
   "cell_type": "markdown",
   "id": "d18057aa",
   "metadata": {},
   "source": [
    "Solving the system of equations will lead to the following solution:\n",
    "$$\n",
    "x_1 = 4\\\\\n",
    "x_2 = 6 \\\\\n",
    "x_3 = 1 \\\\\n",
    "x_4 = -4 \\\\\n",
    "x_5 = x_6 = x_7 = 0\n",
    "$$"
   ]
  },
  {
   "cell_type": "markdown",
   "id": "34a842a7",
   "metadata": {},
   "source": [
    "However, since $x_4 = -4 < 0$ , this is not a feasible solution."
   ]
  },
  {
   "cell_type": "markdown",
   "id": "4463a8d1",
   "metadata": {},
   "source": [
    "Note that is is possible for two different base to lead to the same solution."
   ]
  },
  {
   "cell_type": "markdown",
   "id": "23315c97",
   "metadata": {},
   "source": [
    "### Adjacency\n",
    "\n",
    "Two distinct basic solutions are **adjacent** if and only if either of the below holds:\n",
    "* the corresponding bases share all but 1 basic column\n",
    "* there are a common $n-1$ (but not $n$) linearly independent constraints that are active for both of them"
   ]
  },
  {
   "cell_type": "markdown",
   "id": "531b6717",
   "metadata": {},
   "source": [
    "For example, the basic solution corresponding to the indices $1,2,3,4$ would be adjacent to one that has indices $3,2,1,5$"
   ]
  },
  {
   "cell_type": "markdown",
   "id": "35f7dbfc",
   "metadata": {},
   "source": [
    "This definition of adjacency also leads to adjacency geometrically too."
   ]
  },
  {
   "cell_type": "markdown",
   "id": "067d429e",
   "metadata": {},
   "source": [
    "### Line containment\n",
    "\n",
    "Suppose that our polyhedron contains an infinite line.\n",
    "Geometrically, this means that it cannot contain an extreme point, since it is not bounded.\n",
    "Formally, it a polyhedron $P$ contains a line if there exists some $\\mathbf x^* \\in P$ and a nonzero $d \\in \\mathbb R^n$ such that $\\mathbf x^* + \\lambda \\mathbf d \\in P$ for all $\\lambda \\in \\mathbf R$."
   ]
  },
  {
   "cell_type": "markdown",
   "id": "718b6ba5",
   "metadata": {},
   "source": [
    "#### Theorem\n",
    "The following are equivalent:\n",
    "1. $P$ does not contain a line\n",
    "2. $P$ has a BFS\n",
    "3. $P$ has $n$ linearly independent constraints\n",
    "\n",
    "<span hidden> TODO: Add proof </span>"
   ]
  },
  {
   "cell_type": "markdown",
   "id": "3afbfa55",
   "metadata": {},
   "source": [
    "#### Theorem\n",
    "Consider the LP\n",
    "$$\n",
    "\\min \\mathbf c ^ T \\mathbf x \\\\\n",
    "s.t \\quad \\mathbf x \\in P\n",
    "$$\n",
    "\n",
    "If $P$ has at least 1 BFS, and the LP has an optimal solution, then there must exists an optimal solution that is a BFS.\n",
    "\n",
    "This follows intuitively from our geometric perspective, where some corner must contain the optimal solution.\n",
    "\n",
    "<span hidden> TODO: Add proof </span>"
   ]
  }
 ],
 "metadata": {
  "kernelspec": {
   "display_name": "Python 3 (ipykernel)",
   "language": "python",
   "name": "python3"
  },
  "language_info": {
   "codemirror_mode": {
    "name": "ipython",
    "version": 3
   },
   "file_extension": ".py",
   "mimetype": "text/x-python",
   "name": "python",
   "nbconvert_exporter": "python",
   "pygments_lexer": "ipython3",
   "version": "3.10.2"
  }
 },
 "nbformat": 4,
 "nbformat_minor": 5
}
