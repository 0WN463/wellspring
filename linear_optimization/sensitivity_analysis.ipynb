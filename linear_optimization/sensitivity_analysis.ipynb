{
 "cells": [
  {
   "cell_type": "markdown",
   "id": "be8a088f",
   "metadata": {},
   "source": [
    "$$\n",
    "\\newcommand{theorem}{\\textbf{Theorem: }}\n",
    "\\newcommand{corollary}{\\textbf{Corollary: }}\n",
    "$$"
   ]
  },
  {
   "cell_type": "code",
   "execution_count": 1,
   "id": "df6cf218",
   "metadata": {},
   "outputs": [],
   "source": [
    "import sys\n",
    "\n",
    "sys.path.append(\"..\")\n",
    "\n",
    "import numpy as np\n",
    "from module.utility import print_table, make_vars\n",
    "from common.utility import show_implementation"
   ]
  },
  {
   "cell_type": "markdown",
   "id": "6af70808",
   "metadata": {},
   "source": [
    "# Sensitivity analysis\n",
    "\n",
    "Suppose that we have computed the optimal solution to some LP.\n",
    "Now, there is some changes made to the parameter of the LP.\n",
    "Rather than re-computing the whole problem again, is it possible for us to use our previous result to derive the new optimal solution?\n",
    "**Sensitivity analysis** aims to answer this problem.\n",
    "\n",
    "We will analyze the following list of parameters that can change in an LP:\n",
    "* Change in $\\mathbf b$\n",
    "* Change in $\\mathbf c$\n",
    "* Change in a non basic column of $\\mathbf A$\n",
    "* Adding a new variable\n",
    "* Adding a new constraint"
   ]
  },
  {
   "cell_type": "markdown",
   "id": "318c0ef3",
   "metadata": {},
   "source": [
    "The two core conditions that we are interested in are:\n",
    "\n",
    "Feasibility: $\\mathbf B ^{-1} \\mathbf b \\geq \\mathbf 0$\n",
    "\n",
    "Optimality: $\\bar {\\mathbf c} = \\mathbf c^T - \\mathbf c^T_B \\mathbf B^{-1} \\mathbf A \\geq 0$"
   ]
  },
  {
   "cell_type": "markdown",
   "id": "0cc0a82d",
   "metadata": {},
   "source": [
    "In fact, to solve for the new LP, all we need to do is to perform simplex iterations if it is not optimal; perform dual simplex iterations if it is not feasible."
   ]
  },
  {
   "cell_type": "markdown",
   "id": "c3f71a6f",
   "metadata": {},
   "source": [
    "## Change in $\\mathbf b$\n",
    "\n",
    "Suppose that we perturbed the problem such that our constraints are\n",
    "$$\n",
    "\\mathbf {Ax} = \\mathbf b + \\Delta\n",
    "$$"
   ]
  },
  {
   "cell_type": "markdown",
   "id": "46ec92b5",
   "metadata": {},
   "source": [
    "If $\\mathbf{B}^{-1} (\\mathbf b + \\Delta) \\geq \\mathbf 0$, *ie* the problem is still feasible, then notice that $\\bar{ \\mathbf c}$ remains unchanged as it is not a function of $\\mathbf b$.\n",
    "Therefore, the basis still leads to an optimal solution.\n",
    "All that is left is to compute the optimal cost:\n",
    "$$\n",
    "\\mathbf c^T_B \\mathbf B ^{-1}(\\mathbf b + \\Delta) = \n",
    "\\mathbf c^T_B \\mathbf B ^{-1}\\mathbf b + \\mathbf c^T_B \\mathbf B ^{-1}\\Delta = \n",
    "\\mathbf c^T_B \\mathbf B ^{-1}\\mathbf b + \\mathbf p ^T \\Delta\n",
    "$$"
   ]
  },
  {
   "cell_type": "markdown",
   "id": "7b5dbd53",
   "metadata": {},
   "source": [
    "In other words, the change in $\\mathbf b$ led to a change of $\\mathbf p ^T \\Delta$ to the objective."
   ]
  },
  {
   "cell_type": "markdown",
   "id": "8fbff199",
   "metadata": {},
   "source": [
    "However, if $\\Delta$ is such that feasibility becomes violated, then we need to perform [dual simplex iterations](./duality.ipynb#Dual-Simplex-method) to regain feasibility and find the new optimal solution."
   ]
  },
  {
   "cell_type": "markdown",
   "id": "ec112581",
   "metadata": {},
   "source": [
    "### Marginal cost"
   ]
  },
  {
   "cell_type": "markdown",
   "id": "d17b9ac8",
   "metadata": {},
   "source": [
    "Suppose that $\\Delta = e_i$, *ie* the [elementary vector](TODO).\n",
    "Then \n",
    "$$\n",
    "\\mathbf p ^T \\Delta = p_i\n",
    "$$\n",
    "We call the term $p_i$ the **marginal cost/shadow cost** of $b_i$"
   ]
  },
  {
   "cell_type": "markdown",
   "id": "46c3cbab",
   "metadata": {},
   "source": [
    "They represent the amount of objective value we can increase for every unit we increase $b_i$, hence they can be used to rank which resource should be expanded to better improve cost."
   ]
  },
  {
   "cell_type": "markdown",
   "id": "fa89459d",
   "metadata": {},
   "source": [
    "### Example"
   ]
  },
  {
   "cell_type": "markdown",
   "id": "0521c636",
   "metadata": {},
   "source": [
    "We will once again revisit our [application problem](introduction.ipynb#Application)."
   ]
  },
  {
   "cell_type": "markdown",
   "id": "86bf864e",
   "metadata": {},
   "source": [
    "| Resource/Activity | Playing games | Studying | Eating | Napping | Amount available |\n",
    "| --- | --- | --- | --- | --- | --- |\n",
    "| Time | 2 | 1 | 0.5 | 1 | 8 |\n",
    "| Energy | 2 | 1 | 0.5 | -3 | 4 |\n",
    "| Hunger | 1 | 1 | -2 | 0.5 | 6 |\n",
    "| Stress | -3 | 2 | 0 | -1 | 3 |\n",
    "| Happiness | 2 | 1 | 0.5 | 0.5 | |"
   ]
  },
  {
   "cell_type": "markdown",
   "id": "8ce3d858",
   "metadata": {},
   "source": [
    "We obtain the below tableau at the end of our simplex method"
   ]
  },
  {
   "cell_type": "markdown",
   "id": "baf5e20d",
   "metadata": {},
   "source": [
    "\n",
    "|Basis| x1 | x2 | x3 | x4 | s1 | s2 | s3  | s4   | Solution | \n",
    "| --- |--- |--- |--- |--- |--- |--- | --- | --- | --- |\n",
    "| $$\\mathbf c$$ | 0| 0 | 0 | 0 | 0.875 | 0.125| 0 | 0 | 7.5 |\n",
    "| x4 | 0 | 0 | 0 | 1 | 0.25 | -0.25 | 0 | 0 | 1|\n",
    "| x1 | 1 | 0.5 | 0.25 | 0 | 0.375 | 0.125 | 0 | 0| 3.5 |\n",
    "| s3 | 0 | 0.5 | -2.25 | 0 | -0.5 | 0 | 1 | 0 | 2 |\n",
    "| s4 | 0 | 3.5 | 0.75 | 0 | 1.375 | 0.125 | 0 | 1 | 14.5 |"
   ]
  },
  {
   "cell_type": "code",
   "execution_count": 2,
   "id": "f72c6450",
   "metadata": {},
   "outputs": [],
   "source": [
    "orig_costs = np.array([-2, -1, -0.5, -0.5, 0, 0, 0, 0, 0])\n",
    "orig_tableau = np.array(\n",
    "    [\n",
    "        [2, 1, 0.5, 1, 1, 0, 0, 0, 8],\n",
    "        [2, 1, 0.5, -3, 0, 1, 0, 0, 4],\n",
    "        [1, 1, -2, 0.5, 0, 0, 1, 0, 6],\n",
    "        [-3, 2, 0, -1, 0, 0, 0, 1, 3],\n",
    "    ]\n",
    ")\n",
    "\n",
    "sol_c_bar = np.array([0, 0, 0, 0, 0.875, 0.125, 0, 0, 7.5])\n",
    "sol_tableau = np.array(\n",
    "    [\n",
    "        [0.0, 0.0, 0.0, 1.0, 0.25, -0.25, 0.0, 0.0, 1],\n",
    "        [1.0, 0.5, 0.25, 0.0, 0.375, 0.125, 0.0, 0.0, 3.5],\n",
    "        [0.0, 0.5, -2.25, 0.0, -0.5, 0.0, 1.0, 0.0, 2],\n",
    "        [0.0, 3.5, 0.75, 0.0, 1.375, 0.125, 0.0, 1.0, 14.5],\n",
    "    ]\n",
    ")"
   ]
  },
  {
   "cell_type": "code",
   "execution_count": 3,
   "id": "444f176e",
   "metadata": {},
   "outputs": [
    {
     "data": {
      "text/html": [
       "<table><tr><th>$$$$</th><th>$$x_1$$</th><th>$$x_2$$</th><th>$$x_3$$</th><th>$$x_4$$</th><th>$$s_1$$</th><th>$$s_2$$</th><th>$$s_3$$</th><th>$$s_4$$</th><th>$$Solution$$</th></tr><tr><td>$$\\bar {\\mathbf c}$$</td><td>$$ 0$$</td><td>$$ 0$$</td><td>$$ 0$$</td><td>$$ 0$$</td><td>$$ 0.875$$</td><td>$$ 0.125$$</td><td>$$ 0$$</td><td>$$ 0$$</td><td>$$ 7.5$$</td></tr><tr><td>$$x_4$$</td><td>$$ 0$$</td><td>$$ 0$$</td><td>$$ 0$$</td><td>$$ 1$$</td><td>$$ 0.25$$</td><td>$$ -0.25$$</td><td>$$ 0$$</td><td>$$ 0$$</td><td>$$ 1$$</td></tr><tr><td>$$x_1$$</td><td>$$ 1$$</td><td>$$ 0.5$$</td><td>$$ 0.25$$</td><td>$$ 0$$</td><td>$$ 0.375$$</td><td>$$ 0.125$$</td><td>$$ 0$$</td><td>$$ 0$$</td><td>$$ 3.5$$</td></tr><tr><td>$$s_3$$</td><td>$$ 0$$</td><td>$$ 0.5$$</td><td>$$ -2.25$$</td><td>$$ 0$$</td><td>$$ -0.5$$</td><td>$$ 0$$</td><td>$$ 1$$</td><td>$$ 0$$</td><td>$$ 2$$</td></tr><tr><td>$$s_4$$</td><td>$$ 0$$</td><td>$$ 3.5$$</td><td>$$ 0.75$$</td><td>$$ 0$$</td><td>$$ 1.375$$</td><td>$$ 0.125$$</td><td>$$ 0$$</td><td>$$ 1$$</td><td>$$ 14.5$$</td></tr></table>"
      ],
      "text/plain": [
       "<IPython.core.display.HTML object>"
      ]
     },
     "metadata": {},
     "output_type": "display_data"
    }
   ],
   "source": [
    "variables = make_vars(\"x\", 4) + make_vars(\"s\", 4)\n",
    "print_table(sol_c_bar, sol_tableau, variables)"
   ]
  },
  {
   "cell_type": "markdown",
   "id": "08b4d0da",
   "metadata": {},
   "source": [
    "Computing the shadow costs we get\n",
    "$$\n",
    "\\mathbf p^T = \\mathbf c^T_B \\mathbf B^{-1} =\n",
    "\\begin{pmatrix}\n",
    "-0.5 & -2 & 0 &0\n",
    "\\end{pmatrix}\n",
    "\\begin{pmatrix}\n",
    "0.25 & -0.25 & 0 & 0 \\\\\n",
    "0.375 & 0.125 & 0 & 0 \\\\\n",
    "-0.5 & 0 & 1 & 0 \\\\\n",
    "1.375 & 0.125 & 0 & 1\n",
    "\\end{pmatrix}\n",
    "=\n",
    "\\begin{pmatrix}\n",
    "-0.875 & -0.125 & 0 & 0\n",
    "\\end{pmatrix}\n",
    "$$"
   ]
  },
  {
   "cell_type": "markdown",
   "id": "2d4a68f5",
   "metadata": {},
   "source": [
    "This means that we would obtain higher happiness if we increased our time or energy.\n",
    "On the flip-side, we have that increasing our hunger or our stress capacity doesn't increase our happiness, because these resources are not fully utilized in the optimal solution, and thus are not the limiting factor."
   ]
  },
  {
   "cell_type": "markdown",
   "id": "2a5c96e1",
   "metadata": {},
   "source": [
    "\n",
    "---"
   ]
  },
  {
   "cell_type": "markdown",
   "id": "0dd97b49",
   "metadata": {},
   "source": [
    "Suppose that we increased our units of time from $8$ to $13$."
   ]
  },
  {
   "cell_type": "code",
   "execution_count": 4,
   "id": "9ac067e4",
   "metadata": {},
   "outputs": [
    {
     "name": "stdout",
     "output_type": "stream",
     "text": [
      "New initial tableua\n"
     ]
    },
    {
     "data": {
      "text/html": [
       "<table><tr><th>$$$$</th><th>$$x_1$$</th><th>$$x_2$$</th><th>$$x_3$$</th><th>$$x_4$$</th><th>$$s_1$$</th><th>$$s_2$$</th><th>$$s_3$$</th><th>$$s_4$$</th><th>$$Solution$$</th></tr><tr><td>$$\\bar {\\mathbf c}$$</td><td>$$ -2$$</td><td>$$ -1$$</td><td>$$ -0.5$$</td><td>$$ -0.5$$</td><td>$$ 0$$</td><td>$$ 0$$</td><td>$$ 0$$</td><td>$$ 0$$</td><td>$$ 0$$</td></tr><tr><td>$$s_1$$</td><td>$$ 2$$</td><td>$$ 1$$</td><td>$$ 0.5$$</td><td>$$ 1$$</td><td>$$ 1$$</td><td>$$ 0$$</td><td>$$ 0$$</td><td>$$ 0$$</td><td>$$\\bf 13$$</td></tr><tr><td>$$s_2$$</td><td>$$ 2$$</td><td>$$ 1$$</td><td>$$ 0.5$$</td><td>$$ -3$$</td><td>$$ 0$$</td><td>$$ 1$$</td><td>$$ 0$$</td><td>$$ 0$$</td><td>$$ 4$$</td></tr><tr><td>$$s_3$$</td><td>$$ 1$$</td><td>$$ 1$$</td><td>$$ -2$$</td><td>$$ 0.5$$</td><td>$$ 0$$</td><td>$$ 0$$</td><td>$$ 1$$</td><td>$$ 0$$</td><td>$$ 6$$</td></tr><tr><td>$$s_4$$</td><td>$$ -3$$</td><td>$$ 2$$</td><td>$$ 0$$</td><td>$$ -1$$</td><td>$$ 0$$</td><td>$$ 0$$</td><td>$$ 0$$</td><td>$$ 1$$</td><td>$$ 3$$</td></tr></table>"
      ],
      "text/plain": [
       "<IPython.core.display.HTML object>"
      ]
     },
     "metadata": {},
     "output_type": "display_data"
    },
    {
     "name": "stdout",
     "output_type": "stream",
     "text": [
      "Final tableau\n"
     ]
    },
    {
     "data": {
      "text/html": [
       "<table><tr><th>$$$$</th><th>$$x_1$$</th><th>$$x_2$$</th><th>$$x_3$$</th><th>$$x_4$$</th><th>$$s_1$$</th><th>$$s_2$$</th><th>$$s_3$$</th><th>$$s_4$$</th><th>$$Solution$$</th></tr><tr><td>$$\\bar {\\mathbf c}$$</td><td>$$ 0$$</td><td>$$ 0$$</td><td>$$ 0$$</td><td>$$ 0$$</td><td>$$ 0.875$$</td><td>$$ 0.125$$</td><td>$$ 0$$</td><td>$$ 0$$</td><td>$$ 11.875$$</td></tr><tr><td>$$x_3$$</td><td>$$ 0$$</td><td>$$ -0.2222$$</td><td>$$ 1$$</td><td>$$ 0$$</td><td>$$ 0.2222$$</td><td>$$ 0$$</td><td>$$ -0.4444$$</td><td>$$ 0$$</td><td>$$ 0.2222$$</td></tr><tr><td>$$x_1$$</td><td>$$ 1$$</td><td>$$ 0.5556$$</td><td>$$ 0$$</td><td>$$ 0$$</td><td>$$ 0.3194$$</td><td>$$ 0.125$$</td><td>$$ 0.1111$$</td><td>$$ 0$$</td><td>$$ 5.3194$$</td></tr><tr><td>$$x_4$$</td><td>$$ 0$$</td><td>$$ 0$$</td><td>$$ 0$$</td><td>$$ 1$$</td><td>$$ 0.25$$</td><td>$$ -0.25$$</td><td>$$ 0$$</td><td>$$ 0$$</td><td>$$ 2.25$$</td></tr><tr><td>$$s_4$$</td><td>$$ 0$$</td><td>$$ 3.6667$$</td><td>$$ 0$$</td><td>$$ 0$$</td><td>$$ 1.2083$$</td><td>$$ 0.125$$</td><td>$$ 0.3333$$</td><td>$$ 1$$</td><td>$$ 21.2083$$</td></tr></table>"
      ],
      "text/plain": [
       "<IPython.core.display.HTML object>"
      ]
     },
     "metadata": {},
     "output_type": "display_data"
    }
   ],
   "source": [
    "from module.simplex import reduced_cost, simplex\n",
    "\n",
    "new_tableau = orig_tableau.copy()\n",
    "new_tableau[0, -1] = 13\n",
    "c_bar = reduced_cost(orig_costs, new_tableau)\n",
    "print(\"New initial tableua\")\n",
    "print_table(c_bar, new_tableau, variables, tableau_bold=(0, 8, 1, 1))\n",
    "\n",
    "print(\"Final tableau\")\n",
    "print_table(*simplex(c_bar, new_tableau), variables)"
   ]
  },
  {
   "cell_type": "markdown",
   "id": "3bd9bb44",
   "metadata": {},
   "source": [
    "Now, it is better to game and eat instead."
   ]
  },
  {
   "cell_type": "markdown",
   "id": "f94d07cf",
   "metadata": {},
   "source": [
    "The question becomes, can we arrive at this new solution from the old one?"
   ]
  },
  {
   "cell_type": "markdown",
   "id": "46f9b4e6",
   "metadata": {},
   "source": [
    "Firstly, we compute the $\\mathbf B^{-1} \\mathbf b$\n",
    "$$\n",
    "\\mathbf B^{-1} \\mathbf b  =\n",
    "\\begin{pmatrix}\n",
    "0.25 & -0.25 & 0 & 0 \\\\\n",
    "0.375 & 0.125 & 0 & 0 \\\\\n",
    "-0.5 & 0 & 1 & 0 \\\\\n",
    "1.375 & 0.125 & 0 & 1\n",
    "\\end{pmatrix}\n",
    "\\begin{pmatrix}\n",
    "13 \\\\ 4 \\\\ 6 \\\\ 3\n",
    "\\end{pmatrix}\n",
    "=\n",
    "\\begin{pmatrix}\n",
    "2.25 \\\\ 5.375 \\\\ -0.5 \\\\ 21.375\n",
    "\\end{pmatrix}\n",
    "$$"
   ]
  },
  {
   "cell_type": "markdown",
   "id": "1110dc43",
   "metadata": {},
   "source": [
    "Indeed, the $-0.5$ indicated that our basis is no longer optimal.\n",
    "Our new tableau is as follows:"
   ]
  },
  {
   "cell_type": "markdown",
   "id": "76a90ff7",
   "metadata": {},
   "source": [
    "\n",
    "|Basis| x1 | x2 | x3 | x4 | s1 | s2 | s3  | s4   | Solution | \n",
    "| --- |--- |--- |--- |--- |--- |--- | --- | --- | --- |\n",
    "| $$\\mathbf c$$ | 0| 0 | 0 | 0 | 0.875 | 0.125| 0 | 0 |  |\n",
    "| x4 | 0 | 0 | 0 | 1 | 0.25 | -0.25 | 0 | 0 | 2.25 |\n",
    "| x1 | 1 | 0.5 | 0.25 | 0 | 0.375 | 0.125 | 0 | 0| 5.375 |\n",
    "| s3 | 0 | 0.5 | -2.25 | 0 | -0.5 | 0 | 1 | 0 | -0.5 |\n",
    "| s4 | 0 | 3.5 | 0.75 | 0 | 1.375 | 0.125 | 0 | 1 | 21.375 |"
   ]
  },
  {
   "cell_type": "markdown",
   "id": "859471e4",
   "metadata": {},
   "source": [
    "Then we just perform dual simplex iterations on this tableau."
   ]
  },
  {
   "cell_type": "code",
   "execution_count": 5,
   "id": "04c42ba1",
   "metadata": {},
   "outputs": [
    {
     "name": "stdout",
     "output_type": "stream",
     "text": [
      "Perturbed tableau\n"
     ]
    },
    {
     "data": {
      "text/html": [
       "<table><tr><th>$$$$</th><th>$$x_1$$</th><th>$$x_2$$</th><th>$$x_3$$</th><th>$$x_4$$</th><th>$$s_1$$</th><th>$$s_2$$</th><th>$$s_3$$</th><th>$$s_4$$</th><th>$$Solution$$</th></tr><tr><td>$$\\bar {\\mathbf c}$$</td><td>$$ 0$$</td><td>$$ 0$$</td><td>$$ 0$$</td><td>$$ 0$$</td><td>$$ 0.875$$</td><td>$$ 0.125$$</td><td>$$ 0$$</td><td>$$ 0$$</td><td>$$\\bf 11.875$$</td></tr><tr><td>$$x_4$$</td><td>$$ 0$$</td><td>$$ 0$$</td><td>$$ 0$$</td><td>$$ 1$$</td><td>$$ 0.25$$</td><td>$$ -0.25$$</td><td>$$ 0$$</td><td>$$ 0$$</td><td>$$\\bf 2.25$$</td></tr><tr><td>$$x_1$$</td><td>$$ 1$$</td><td>$$ 0.5$$</td><td>$$ 0.25$$</td><td>$$ 0$$</td><td>$$ 0.375$$</td><td>$$ 0.125$$</td><td>$$ 0$$</td><td>$$ 0$$</td><td>$$\\bf 5.375$$</td></tr><tr><td>$$s_3$$</td><td>$$ 0$$</td><td>$$ 0.5$$</td><td>$$ -2.25$$</td><td>$$ 0$$</td><td>$$ -0.5$$</td><td>$$ 0$$</td><td>$$ 1$$</td><td>$$ 0$$</td><td>$$\\bf -0.5$$</td></tr><tr><td>$$s_4$$</td><td>$$ 0$$</td><td>$$ 3.5$$</td><td>$$ 0.75$$</td><td>$$ 0$$</td><td>$$ 1.375$$</td><td>$$ 0.125$$</td><td>$$ 0$$</td><td>$$ 1$$</td><td>$$\\bf 21.375$$</td></tr></table>"
      ],
      "text/plain": [
       "<IPython.core.display.HTML object>"
      ]
     },
     "metadata": {},
     "output_type": "display_data"
    },
    {
     "name": "stdout",
     "output_type": "stream",
     "text": [
      "Final tableau\n"
     ]
    },
    {
     "data": {
      "text/html": [
       "<table><tr><th>$$$$</th><th>$$x_1$$</th><th>$$x_2$$</th><th>$$x_3$$</th><th>$$x_4$$</th><th>$$s_1$$</th><th>$$s_2$$</th><th>$$s_3$$</th><th>$$s_4$$</th><th>$$Solution$$</th></tr><tr><td>$$\\bar {\\mathbf c}$$</td><td>$$ 0$$</td><td>$$ 0$$</td><td>$$ 0$$</td><td>$$ 0$$</td><td>$$ 0.875$$</td><td>$$ 0.125$$</td><td>$$ 0$$</td><td>$$ 0$$</td><td>$$ 11.875$$</td></tr><tr><td>$$x_4$$</td><td>$$ 0$$</td><td>$$ 0$$</td><td>$$ 0$$</td><td>$$ 1$$</td><td>$$ 0.25$$</td><td>$$ -0.25$$</td><td>$$ 0$$</td><td>$$ 0$$</td><td>$$ 2.25$$</td></tr><tr><td>$$x_1$$</td><td>$$ 1$$</td><td>$$ 0.5556$$</td><td>$$ 0$$</td><td>$$ 0$$</td><td>$$ 0.3194$$</td><td>$$ 0.125$$</td><td>$$ 0.1111$$</td><td>$$ 0$$</td><td>$$ 5.3194$$</td></tr><tr><td>$$x_3$$</td><td>$$ 0$$</td><td>$$ -0.2222$$</td><td>$$ 1$$</td><td>$$ 0$$</td><td>$$ 0.2222$$</td><td>$$ 0$$</td><td>$$ -0.4444$$</td><td>$$ 0$$</td><td>$$ 0.2222$$</td></tr><tr><td>$$s_4$$</td><td>$$ 0$$</td><td>$$ 3.6667$$</td><td>$$ 0$$</td><td>$$ 0$$</td><td>$$ 1.2083$$</td><td>$$ 0.125$$</td><td>$$ 0.3333$$</td><td>$$ 1$$</td><td>$$ 21.2083$$</td></tr></table>"
      ],
      "text/plain": [
       "<IPython.core.display.HTML object>"
      ]
     },
     "metadata": {},
     "output_type": "display_data"
    }
   ],
   "source": [
    "from module.simplex import dual_simplex\n",
    "\n",
    "new_tableau = sol_tableau.copy()\n",
    "new_tableau[:, -1] = [2.25, 5.375, -0.5, 21.375]\n",
    "c_bar = reduced_cost(orig_costs, new_tableau)\n",
    "\n",
    "print(\"Perturbed tableau\")\n",
    "print_table(c_bar, new_tableau, variables, c_bold=[8], tableau_bold=(0, 8, 4, 1))\n",
    "\n",
    "print(\"Final tableau\")\n",
    "print_table(*dual_simplex(c_bar, new_tableau), variables)"
   ]
  },
  {
   "cell_type": "markdown",
   "id": "7b16da9c",
   "metadata": {},
   "source": [
    "Indeed, we get the same solution as if we have solved the problem afresh."
   ]
  },
  {
   "cell_type": "markdown",
   "id": "098a6a51",
   "metadata": {},
   "source": [
    "---"
   ]
  },
  {
   "cell_type": "markdown",
   "id": "f2f48586",
   "metadata": {},
   "source": [
    "What if we wish to find out the range of which we can perturb $\\mathbf b$?\n",
    "For example, how much can we increase or decrease the amount of time we have, such that the best activities are still gaming and napping?"
   ]
  },
  {
   "cell_type": "markdown",
   "id": "3455a0a1",
   "metadata": {},
   "source": [
    "Suppose that we wish to find the range of $b_1$ such that $\\mathbf B$ remains the optimal basis."
   ]
  },
  {
   "cell_type": "markdown",
   "id": "3851a5e0",
   "metadata": {},
   "source": [
    "We need to assert that $\\mathbf B^{-1} \\mathbf b^* \\geq 0$., where $\\mathbf b^* = \\mathbf b + \\delta e_1$\n",
    "$$\n",
    "\\mathbf B^{-1} \\mathbf b^* =\n",
    "\\mathbf B^{-1} \\left(\\mathbf b + \\delta \\begin{pmatrix}1 \\\\ 0 \\\\ 0 \\\\ 0\\end{pmatrix}\\right) = \n",
    "\\begin{pmatrix}\n",
    "0.25 & -0.25 & 0 & 0 \\\\\n",
    "0.375 & 0.125 & 0 & 0 \\\\\n",
    "-0.5 & 0 & 1 & 0 \\\\\n",
    "1.375 & 0.125 & 0 & 1\n",
    "\\end{pmatrix}\n",
    "\\left(\n",
    "\\begin{pmatrix}\n",
    "8 \\\\ 4 \\\\ 6 \\\\ 3\n",
    "\\end{pmatrix}\n",
    "+\n",
    "\\delta \\begin{pmatrix}1 \\\\ 0 \\\\0 \\\\0\\end{pmatrix}\n",
    "\\right)\n",
    "=\n",
    "\\begin{pmatrix}1 \\\\ 3.5 \\\\2 \\\\14.5\\end{pmatrix}\n",
    "+\n",
    "\\delta \\begin{pmatrix}0.25 \\\\ 0.375 \\\\-0.5 \\\\1.375\\end{pmatrix}\n",
    "\\geq \\mathbf 0\n",
    "$$"
   ]
  },
  {
   "cell_type": "markdown",
   "id": "f758239c",
   "metadata": {},
   "source": [
    "(Note: $\\mathbf B^{-1} \\mathbf b$ can be read of the tableau, it is simply the last column)."
   ]
  },
  {
   "cell_type": "markdown",
   "id": "ff8cd688",
   "metadata": {},
   "source": [
    "Hence, we get the following 4 inequalities:\n",
    "$$\n",
    "\\begin{alignedat}{1}\n",
    "&1 + 0.25 \\delta \\geq 0 &\\quad \\Rightarrow  \\delta \\geq -4 \\\\ \n",
    "&3.5 + 0.375 \\delta \\geq 0 &\\quad \\Rightarrow \\delta \\geq -\\frac{28}{3} \\\\\n",
    "&2 - 0.5 \\delta \\geq 0 &\\quad \\Rightarrow \\delta \\leq 4 \\\\\n",
    "&14.5 + 1.375 \\delta \\geq 0&\\quad \\Rightarrow \\delta \\geq -\\frac{58}{55} \\\\\n",
    "\\end{alignedat}\n",
    "$$"
   ]
  },
  {
   "cell_type": "markdown",
   "id": "68939ab1",
   "metadata": {},
   "source": [
    "Hence, we get $-\\frac{58}{55} \\leq \\delta \\leq 4$.\n",
    "This explains our previous situation, where the solution changed because the increase in time amount was $5 > 4$."
   ]
  },
  {
   "cell_type": "markdown",
   "id": "eb638c3e",
   "metadata": {},
   "source": [
    "## Change in $\\mathbf c$\n",
    "\n",
    "Change the cost function will not affect feasibility of our solution, but may affect optimality."
   ]
  },
  {
   "cell_type": "markdown",
   "id": "dcfe9578",
   "metadata": {},
   "source": [
    "Since our solution is still feasible, it will still be a BFS, and thus we can simply compute the reduced cost, and see if we need to perform more iterations."
   ]
  },
  {
   "cell_type": "markdown",
   "id": "be67f438",
   "metadata": {},
   "source": [
    "### Example"
   ]
  },
  {
   "cell_type": "markdown",
   "id": "12483656",
   "metadata": {},
   "source": [
    "Suppose that our new cost function is $x_1 + x_2 + x_3 + x_4$, that is we are equally happy with any of the activities."
   ]
  },
  {
   "cell_type": "code",
   "execution_count": 6,
   "id": "a9b9d614",
   "metadata": {
    "scrolled": true
   },
   "outputs": [
    {
     "name": "stdout",
     "output_type": "stream",
     "text": [
      "New initial tableau\n"
     ]
    },
    {
     "data": {
      "text/html": [
       "<table><tr><th>$$$$</th><th>$$x_1$$</th><th>$$x_2$$</th><th>$$x_3$$</th><th>$$x_4$$</th><th>$$s_1$$</th><th>$$s_2$$</th><th>$$s_3$$</th><th>$$s_4$$</th><th>$$Solution$$</th></tr><tr><td>$$\\mathbf c$$</td><td>$$\\bf -1$$</td><td>$$\\bf -1$$</td><td>$$\\bf -1$$</td><td>$$\\bf -1$$</td><td>$$ 0$$</td><td>$$ 0$$</td><td>$$ 0$$</td><td>$$ 0$$</td><td>$$ 0$$</td></tr><tr><td>$$\\bar {\\mathbf c}$$</td><td>$$\\bf -1$$</td><td>$$\\bf -1$$</td><td>$$\\bf -1$$</td><td>$$\\bf -1$$</td><td>$$ 0$$</td><td>$$ 0$$</td><td>$$ 0$$</td><td>$$ 0$$</td><td>$$ 0$$</td></tr><tr><td>$$s_1$$</td><td>$$ 2$$</td><td>$$ 1$$</td><td>$$ 0.5$$</td><td>$$ 1$$</td><td>$$ 1$$</td><td>$$ 0$$</td><td>$$ 0$$</td><td>$$ 0$$</td><td>$$ 8$$</td></tr><tr><td>$$s_2$$</td><td>$$ 2$$</td><td>$$ 1$$</td><td>$$ 0.5$$</td><td>$$ -3$$</td><td>$$ 0$$</td><td>$$ 1$$</td><td>$$ 0$$</td><td>$$ 0$$</td><td>$$ 4$$</td></tr><tr><td>$$s_3$$</td><td>$$ 1$$</td><td>$$ 1$$</td><td>$$ -2$$</td><td>$$ 0.5$$</td><td>$$ 0$$</td><td>$$ 0$$</td><td>$$ 1$$</td><td>$$ 0$$</td><td>$$ 6$$</td></tr><tr><td>$$s_4$$</td><td>$$ -3$$</td><td>$$ 2$$</td><td>$$ 0$$</td><td>$$ -1$$</td><td>$$ 0$$</td><td>$$ 0$$</td><td>$$ 0$$</td><td>$$ 1$$</td><td>$$ 3$$</td></tr></table>"
      ],
      "text/plain": [
       "<IPython.core.display.HTML object>"
      ]
     },
     "metadata": {},
     "output_type": "display_data"
    },
    {
     "name": "stdout",
     "output_type": "stream",
     "text": [
      "Final tableau\n"
     ]
    },
    {
     "data": {
      "text/html": [
       "<table><tr><th>$$$$</th><th>$$x_1$$</th><th>$$x_2$$</th><th>$$x_3$$</th><th>$$x_4$$</th><th>$$s_1$$</th><th>$$s_2$$</th><th>$$s_3$$</th><th>$$s_4$$</th><th>$$Solution$$</th></tr><tr><td>$$\\bar {\\mathbf c}$$</td><td>$$ 3$$</td><td>$$ 1$$</td><td>$$ 0$$</td><td>$$ 0$$</td><td>$$ 1.75$$</td><td>$$ 0.25$$</td><td>$$ 0$$</td><td>$$ 0$$</td><td>$$ 15$$</td></tr><tr><td>$$x_4$$</td><td>$$ 0$$</td><td>$$ 0$$</td><td>$$ 0$$</td><td>$$ 1$$</td><td>$$ 0.25$$</td><td>$$ -0.25$$</td><td>$$ 0$$</td><td>$$ 0$$</td><td>$$ 1$$</td></tr><tr><td>$$x_3$$</td><td>$$ 4$$</td><td>$$ 2$$</td><td>$$ 1$$</td><td>$$ 0$$</td><td>$$ 1.5$$</td><td>$$ 0.5$$</td><td>$$ 0$$</td><td>$$ 0$$</td><td>$$ 14$$</td></tr><tr><td>$$s_3$$</td><td>$$ 9$$</td><td>$$ 5$$</td><td>$$ 0$$</td><td>$$ 0$$</td><td>$$ 2.875$$</td><td>$$ 1.125$$</td><td>$$ 1$$</td><td>$$ 0$$</td><td>$$ 33.5$$</td></tr><tr><td>$$s_4$$</td><td>$$ -3$$</td><td>$$ 2$$</td><td>$$ 0$$</td><td>$$ 0$$</td><td>$$ 0.25$$</td><td>$$ -0.25$$</td><td>$$ 0$$</td><td>$$ 1$$</td><td>$$ 4$$</td></tr></table>"
      ],
      "text/plain": [
       "<IPython.core.display.HTML object>"
      ]
     },
     "metadata": {},
     "output_type": "display_data"
    }
   ],
   "source": [
    "costs = np.array([-1, -1, -1, -1, 0, 0, 0, 0, 0])\n",
    "c_bar = reduced_cost(costs, orig_tableau)\n",
    "print(\"New initial tableau\")\n",
    "print_table(c_bar, orig_tableau, variables, c=costs, c_bold=[0, 1, 2, 3])\n",
    "\n",
    "print(\"Final tableau\")\n",
    "print_table(*simplex(c_bar, orig_tableau), variables)"
   ]
  },
  {
   "cell_type": "markdown",
   "id": "9b35ac33",
   "metadata": {},
   "source": [
    "The above is the optimal result after perturbing the costs."
   ]
  },
  {
   "cell_type": "markdown",
   "id": "34673045",
   "metadata": {},
   "source": [
    "Then the reduced cost after updating our tableau is "
   ]
  },
  {
   "cell_type": "code",
   "execution_count": 7,
   "id": "d246f7e2",
   "metadata": {},
   "outputs": [
    {
     "name": "stdout",
     "output_type": "stream",
     "text": [
      "Updated tableau\n"
     ]
    },
    {
     "data": {
      "text/html": [
       "<table><tr><th>$$$$</th><th>$$x_1$$</th><th>$$x_2$$</th><th>$$x_3$$</th><th>$$x_4$$</th><th>$$s_1$$</th><th>$$s_2$$</th><th>$$s_3$$</th><th>$$s_4$$</th><th>$$Solution$$</th></tr><tr><td>$$\\mathbf c$$</td><td>$$\\bf -1$$</td><td>$$\\bf -1$$</td><td>$$\\bf -1$$</td><td>$$\\bf -1$$</td><td>$$\\bf 0$$</td><td>$$\\bf 0$$</td><td>$$\\bf 0$$</td><td>$$\\bf 0$$</td><td>$$\\bf 0$$</td></tr><tr><td>$$\\bar {\\mathbf c}$$</td><td>$$\\bf 0$$</td><td>$$\\bf -0.5$$</td><td>$$\\bf -0.75$$</td><td>$$\\bf 0$$</td><td>$$\\bf 0.625$$</td><td>$$\\bf -0.125$$</td><td>$$\\bf 0$$</td><td>$$\\bf 0$$</td><td>$$\\bf 4.5$$</td></tr><tr><td>$$x_4$$</td><td>$$ 0$$</td><td>$$ 0$$</td><td>$$ 0$$</td><td>$$ 1$$</td><td>$$ 0.25$$</td><td>$$ -0.25$$</td><td>$$ 0$$</td><td>$$ 0$$</td><td>$$ 1$$</td></tr><tr><td>$$x_1$$</td><td>$$ 1$$</td><td>$$ 0.5$$</td><td>$$ 0.25$$</td><td>$$ 0$$</td><td>$$ 0.375$$</td><td>$$ 0.125$$</td><td>$$ 0$$</td><td>$$ 0$$</td><td>$$ 3.5$$</td></tr><tr><td>$$s_3$$</td><td>$$ 0$$</td><td>$$ 0.5$$</td><td>$$ -2.25$$</td><td>$$ 0$$</td><td>$$ -0.5$$</td><td>$$ 0$$</td><td>$$ 1$$</td><td>$$ 0$$</td><td>$$ 2$$</td></tr><tr><td>$$s_4$$</td><td>$$ 0$$</td><td>$$ 3.5$$</td><td>$$ 0.75$$</td><td>$$ 0$$</td><td>$$ 1.375$$</td><td>$$ 0.125$$</td><td>$$ 0$$</td><td>$$ 1$$</td><td>$$ 14.5$$</td></tr></table>"
      ],
      "text/plain": [
       "<IPython.core.display.HTML object>"
      ]
     },
     "metadata": {},
     "output_type": "display_data"
    }
   ],
   "source": [
    "c_bar = reduced_cost(costs, sol_tableau)\n",
    "print(\"Updated tableau\")\n",
    "print_table(c_bar, sol_tableau, variables, c=costs, c_bold=[i for i in range(9)])"
   ]
  },
  {
   "cell_type": "markdown",
   "id": "c3013277",
   "metadata": {},
   "source": [
    "The negative reduced cost means that our solution is no longer optimal, and we can simply continue the simplex iterations from there."
   ]
  },
  {
   "cell_type": "code",
   "execution_count": 8,
   "id": "d2c9576f",
   "metadata": {},
   "outputs": [
    {
     "data": {
      "text/html": [
       "<table><tr><th>$$$$</th><th>$$x_1$$</th><th>$$x_2$$</th><th>$$x_3$$</th><th>$$x_4$$</th><th>$$s_1$$</th><th>$$s_2$$</th><th>$$s_3$$</th><th>$$s_4$$</th><th>$$Solution$$</th></tr><tr><td>$$\\bar {\\mathbf c}$$</td><td>$$ 3$$</td><td>$$ 1$$</td><td>$$ 0$$</td><td>$$ 0$$</td><td>$$ 1.75$$</td><td>$$ 0.25$$</td><td>$$ 0$$</td><td>$$ 0$$</td><td>$$ 15$$</td></tr><tr><td>$$x_4$$</td><td>$$ 0$$</td><td>$$ 0$$</td><td>$$ 0$$</td><td>$$ 1$$</td><td>$$ 0.25$$</td><td>$$ -0.25$$</td><td>$$ 0$$</td><td>$$ 0$$</td><td>$$ 1$$</td></tr><tr><td>$$x_3$$</td><td>$$ 4$$</td><td>$$ 2$$</td><td>$$ 1$$</td><td>$$ 0$$</td><td>$$ 1.5$$</td><td>$$ 0.5$$</td><td>$$ 0$$</td><td>$$ 0$$</td><td>$$ 14$$</td></tr><tr><td>$$s_3$$</td><td>$$ 9$$</td><td>$$ 5$$</td><td>$$ 0$$</td><td>$$ 0$$</td><td>$$ 2.875$$</td><td>$$ 1.125$$</td><td>$$ 1$$</td><td>$$ 0$$</td><td>$$ 33.5$$</td></tr><tr><td>$$s_4$$</td><td>$$ -3$$</td><td>$$ 2$$</td><td>$$ 0$$</td><td>$$ 0$$</td><td>$$ 0.25$$</td><td>$$ -0.25$$</td><td>$$ 0$$</td><td>$$ 1$$</td><td>$$ 4$$</td></tr></table>"
      ],
      "text/plain": [
       "<IPython.core.display.HTML object>"
      ]
     },
     "metadata": {},
     "output_type": "display_data"
    }
   ],
   "source": [
    "print_table(*simplex(c_bar, sol_tableau), variables)"
   ]
  },
  {
   "cell_type": "markdown",
   "id": "165a0cc7",
   "metadata": {},
   "source": [
    "Once again, we reached the same solution."
   ]
  },
  {
   "cell_type": "markdown",
   "id": "90936865",
   "metadata": {},
   "source": [
    "---"
   ]
  },
  {
   "cell_type": "markdown",
   "id": "ffdb4d79",
   "metadata": {},
   "source": [
    "Suppose that we wish to find the range of value for $c_2$ such that our basis remains optimal."
   ]
  },
  {
   "cell_type": "markdown",
   "id": "7e77b715",
   "metadata": {},
   "source": [
    "Recall that we require $\\bar {\\mathbf c} = \\mathbf c ^T - \\mathbf c^T_B \\mathbf B^{-1} \\mathbf A \\geq \\mathbf 0$ for optimality.\n",
    "\n",
    "Suppose that we are changing a non-basic variable ($c_2$ is non-basic), then notice that the 2nd term does not depend on $c_2$ as it is non-basic.\n",
    "\n",
    "Hence, if $c_2$ is perturbed to be $c_2 + \\delta$, then the resultant reduced cost is simply $\\bar{\\mathbf c}_2 + \\delta$.\n",
    "\n",
    "Hence, the range for which we keep our basis is $\\delta \\geq -\\bar {\\mathbf c}_i$."
   ]
  },
  {
   "cell_type": "markdown",
   "id": "f18ea1fb",
   "metadata": {},
   "source": [
    "Indeed, since $\\bar {\\mathbf c}_2 = 0$, if we increase $c_2$, our solution remains the same."
   ]
  },
  {
   "cell_type": "code",
   "execution_count": 9,
   "id": "0f678d70",
   "metadata": {},
   "outputs": [
    {
     "name": "stdout",
     "output_type": "stream",
     "text": [
      "New initial tableau\n"
     ]
    },
    {
     "data": {
      "text/html": [
       "<table><tr><th>$$$$</th><th>$$x_1$$</th><th>$$x_2$$</th><th>$$x_3$$</th><th>$$x_4$$</th><th>$$s_1$$</th><th>$$s_2$$</th><th>$$s_3$$</th><th>$$s_4$$</th><th>$$Solution$$</th></tr><tr><td>$$\\bar {\\mathbf c}$$</td><td>$$ -2$$</td><td>$$\\bf 10$$</td><td>$$ -0.5$$</td><td>$$ -0.5$$</td><td>$$ 0$$</td><td>$$ 0$$</td><td>$$ 0$$</td><td>$$ 0$$</td><td>$$ 0$$</td></tr><tr><td>$$s_1$$</td><td>$$ 2$$</td><td>$$ 1$$</td><td>$$ 0.5$$</td><td>$$ 1$$</td><td>$$ 1$$</td><td>$$ 0$$</td><td>$$ 0$$</td><td>$$ 0$$</td><td>$$ 8$$</td></tr><tr><td>$$s_2$$</td><td>$$ 2$$</td><td>$$ 1$$</td><td>$$ 0.5$$</td><td>$$ -3$$</td><td>$$ 0$$</td><td>$$ 1$$</td><td>$$ 0$$</td><td>$$ 0$$</td><td>$$ 4$$</td></tr><tr><td>$$s_3$$</td><td>$$ 1$$</td><td>$$ 1$$</td><td>$$ -2$$</td><td>$$ 0.5$$</td><td>$$ 0$$</td><td>$$ 0$$</td><td>$$ 1$$</td><td>$$ 0$$</td><td>$$ 6$$</td></tr><tr><td>$$s_4$$</td><td>$$ -3$$</td><td>$$ 2$$</td><td>$$ 0$$</td><td>$$ -1$$</td><td>$$ 0$$</td><td>$$ 0$$</td><td>$$ 0$$</td><td>$$ 1$$</td><td>$$ 3$$</td></tr></table>"
      ],
      "text/plain": [
       "<IPython.core.display.HTML object>"
      ]
     },
     "metadata": {},
     "output_type": "display_data"
    },
    {
     "name": "stdout",
     "output_type": "stream",
     "text": [
      "Final tableau\n"
     ]
    },
    {
     "data": {
      "text/html": [
       "<table><tr><th>$$$$</th><th>$$x_1$$</th><th>$$x_2$$</th><th>$$x_3$$</th><th>$$x_4$$</th><th>$$s_1$$</th><th>$$s_2$$</th><th>$$s_3$$</th><th>$$s_4$$</th><th>$$Solution$$</th></tr><tr><td>$$\\bar {\\mathbf c}$$</td><td>$$ 0$$</td><td>$$ 11$$</td><td>$$ 0$$</td><td>$$ 0$$</td><td>$$ 0.875$$</td><td>$$ 0.125$$</td><td>$$ 0$$</td><td>$$ 0$$</td><td>$$ 7.5$$</td></tr><tr><td>$$x_4$$</td><td>$$ 0$$</td><td>$$ 0$$</td><td>$$ 0$$</td><td>$$ 1$$</td><td>$$ 0.25$$</td><td>$$ -0.25$$</td><td>$$ 0$$</td><td>$$ 0$$</td><td>$$ 1$$</td></tr><tr><td>$$x_1$$</td><td>$$ 1$$</td><td>$$ 0.5$$</td><td>$$ 0.25$$</td><td>$$ 0$$</td><td>$$ 0.375$$</td><td>$$ 0.125$$</td><td>$$ 0$$</td><td>$$ 0$$</td><td>$$ 3.5$$</td></tr><tr><td>$$s_3$$</td><td>$$ 0$$</td><td>$$ 0.5$$</td><td>$$ -2.25$$</td><td>$$ 0$$</td><td>$$ -0.5$$</td><td>$$ 0$$</td><td>$$ 1$$</td><td>$$ 0$$</td><td>$$ 2$$</td></tr><tr><td>$$s_4$$</td><td>$$ 0$$</td><td>$$ 3.5$$</td><td>$$ 0.75$$</td><td>$$ 0$$</td><td>$$ 1.375$$</td><td>$$ 0.125$$</td><td>$$ 0$$</td><td>$$ 1$$</td><td>$$ 14.5$$</td></tr></table>"
      ],
      "text/plain": [
       "<IPython.core.display.HTML object>"
      ]
     },
     "metadata": {},
     "output_type": "display_data"
    }
   ],
   "source": [
    "costs = np.array([-2, 10, -0.5, -0.5, 0, 0, 0, 0, 0])\n",
    "c_bar = reduced_cost(costs, orig_tableau)\n",
    "print(\"New initial tableau\")\n",
    "print_table(costs, orig_tableau, variables, c_bold=[1])\n",
    "\n",
    "print(\"Final tableau\")\n",
    "print_table(*simplex(c_bar, orig_tableau), variables)"
   ]
  },
  {
   "cell_type": "markdown",
   "id": "dbcc9c6b",
   "metadata": {},
   "source": [
    "And any reduction in $c_2$ causes the optimal solution to change"
   ]
  },
  {
   "cell_type": "code",
   "execution_count": 10,
   "id": "17d28db9",
   "metadata": {},
   "outputs": [
    {
     "name": "stdout",
     "output_type": "stream",
     "text": [
      "New initial tableau\n"
     ]
    },
    {
     "data": {
      "text/html": [
       "<table><tr><th>$$$$</th><th>$$x_1$$</th><th>$$x_2$$</th><th>$$x_3$$</th><th>$$x_4$$</th><th>$$s_1$$</th><th>$$s_2$$</th><th>$$s_3$$</th><th>$$s_4$$</th><th>$$Solution$$</th></tr><tr><td>$$\\bar {\\mathbf c}$$</td><td>$$ -2$$</td><td>$$\\bf -1.1$$</td><td>$$ -0.5$$</td><td>$$ -0.5$$</td><td>$$ 0$$</td><td>$$ 0$$</td><td>$$ 0$$</td><td>$$ 0$$</td><td>$$ 0$$</td></tr><tr><td>$$s_1$$</td><td>$$ 2$$</td><td>$$ 1$$</td><td>$$ 0.5$$</td><td>$$ 1$$</td><td>$$ 1$$</td><td>$$ 0$$</td><td>$$ 0$$</td><td>$$ 0$$</td><td>$$ 8$$</td></tr><tr><td>$$s_2$$</td><td>$$ 2$$</td><td>$$ 1$$</td><td>$$ 0.5$$</td><td>$$ -3$$</td><td>$$ 0$$</td><td>$$ 1$$</td><td>$$ 0$$</td><td>$$ 0$$</td><td>$$ 4$$</td></tr><tr><td>$$s_3$$</td><td>$$ 1$$</td><td>$$ 1$$</td><td>$$ -2$$</td><td>$$ 0.5$$</td><td>$$ 0$$</td><td>$$ 0$$</td><td>$$ 1$$</td><td>$$ 0$$</td><td>$$ 6$$</td></tr><tr><td>$$s_4$$</td><td>$$ -3$$</td><td>$$ 2$$</td><td>$$ 0$$</td><td>$$ -1$$</td><td>$$ 0$$</td><td>$$ 0$$</td><td>$$ 0$$</td><td>$$ 1$$</td><td>$$ 3$$</td></tr></table>"
      ],
      "text/plain": [
       "<IPython.core.display.HTML object>"
      ]
     },
     "metadata": {},
     "output_type": "display_data"
    },
    {
     "name": "stdout",
     "output_type": "stream",
     "text": [
      "Final tableau\n"
     ]
    },
    {
     "data": {
      "text/html": [
       "<table><tr><th>$$$$</th><th>$$x_1$$</th><th>$$x_2$$</th><th>$$x_3$$</th><th>$$x_4$$</th><th>$$s_1$$</th><th>$$s_2$$</th><th>$$s_3$$</th><th>$$s_4$$</th><th>$$Solution$$</th></tr><tr><td>$$\\bar {\\mathbf c}$$</td><td>$$ 0$$</td><td>$$ 0$$</td><td>$$ 0$$</td><td>$$ 0$$</td><td>$$ 0.908$$</td><td>$$ 0.1284$$</td><td>$$ 0.0091$$</td><td>$$ 0.0273$$</td><td>$$ 7.9136$$</td></tr><tr><td>$$x_4$$</td><td>$$ 0$$</td><td>$$ 0$$</td><td>$$ 0$$</td><td>$$ 1$$</td><td>$$ 0.25$$</td><td>$$ -0.25$$</td><td>$$ 0$$</td><td>$$ 0$$</td><td>$$ 1$$</td></tr><tr><td>$$x_1$$</td><td>$$ 1$$</td><td>$$ 0$$</td><td>$$ 0$$</td><td>$$ 0$$</td><td>$$ 0.1364$$</td><td>$$ 0.1061$$</td><td>$$ 0.0606$$</td><td>$$ -0.1515$$</td><td>$$ 1.4242$$</td></tr><tr><td>$$x_2$$</td><td>$$ 0$$</td><td>$$ 1$$</td><td>$$ 0$$</td><td>$$ 0$$</td><td>$$ 0.3295$$</td><td>$$ 0.0341$$</td><td>$$ 0.0909$$</td><td>$$ 0.2727$$</td><td>$$ 4.1364$$</td></tr><tr><td>$$x_3$$</td><td>$$ 0$$</td><td>$$ 0$$</td><td>$$ 1$$</td><td>$$ 0$$</td><td>$$ 0.2955$$</td><td>$$ 0.0076$$</td><td>$$ -0.4242$$</td><td>$$ 0.0606$$</td><td>$$ 0.0303$$</td></tr></table>"
      ],
      "text/plain": [
       "<IPython.core.display.HTML object>"
      ]
     },
     "metadata": {},
     "output_type": "display_data"
    }
   ],
   "source": [
    "costs = np.array([-2, -1.1, -0.5, -0.5, 0, 0, 0, 0, 0])\n",
    "c_bar = reduced_cost(costs, orig_tableau)\n",
    "print(\"New initial tableau\")\n",
    "print_table(costs, orig_tableau, variables, c_bold=[1])\n",
    "\n",
    "print(\"Final tableau\")\n",
    "print_table(*simplex(c_bar, orig_tableau), variables)"
   ]
  },
  {
   "cell_type": "markdown",
   "id": "7fae8844",
   "metadata": {},
   "source": [
    "Suppose that we are changing a basic variable ($c_1$ for instance).\n",
    "Now, both terms depend on $c_1$, hence we need to compute the reduced costs.\n",
    "However, notice that since $x_1$ and $x_4$ are basic variables, their reduced costs will be $0$, *ie* $\\bar {\\mathbf c}_1, \\bar {\\mathbf c}_4 = 0$, therefore we do not need to compute those.\n",
    "\n",
    "Changes in the cost of basic variables will affect the reduced costs of non-basic variables, thus we need to check those.\n",
    "Suppose that $c_1$ becomes $c_1 + \\delta$, then\n",
    "\n",
    "$$\n",
    "\\begin{align}\n",
    "\\bar c_2 &= c_2 - \\mathbf c^T _B \\mathbf B^{-1} \\mathbf A_2 \\\\\n",
    "&= -1 -\n",
    "\\begin{pmatrix}\n",
    "-0.5 & -2 + \\delta & 0 & 0\n",
    "\\end{pmatrix}\n",
    "\\begin{pmatrix}\n",
    "0.25 & -0.25 & 0 & 0 \\\\\n",
    "0.375 & 0.125 & 0 & 0 \\\\\n",
    "-0.5 & 0 & 1 & 0 \\\\\n",
    "1.375 & 0.125 & 0 & 1\n",
    "\\end{pmatrix}\n",
    "\\begin{pmatrix}\n",
    "1 \\\\ 1 \\\\ 1 \\\\2\n",
    "\\end{pmatrix}\n",
    "\\\\&=\n",
    "-1 - \n",
    "\\begin{pmatrix}\n",
    "-0.5 & -2 + \\delta \n",
    "\\end{pmatrix}\n",
    "\\begin{pmatrix}\n",
    "0.25 & -0.25  \\\\\n",
    "0.375 & 0.125  \\\\\n",
    "\\end{pmatrix}\n",
    "\\begin{pmatrix}\n",
    "1 \\\\ 1 \n",
    "\\end{pmatrix}\n",
    "\\\\&=\n",
    "-1 - \n",
    "\\begin{pmatrix}\n",
    "-0.5 & -2 + \\delta \n",
    "\\end{pmatrix}\n",
    "\\begin{pmatrix}\n",
    "0 \\\\\n",
    "0.5\n",
    "\\end{pmatrix}\n",
    "\\\\&=\n",
    "-1 - 0.5(-2 + \\delta)\n",
    "\\\\&=\n",
    "-\\delta \\geq 0\n",
    "\\end{align}\n",
    "$$"
   ]
  },
  {
   "cell_type": "markdown",
   "id": "21272ccf",
   "metadata": {},
   "source": [
    "Thus, we get $\\delta \\leq 0$.\n",
    "But remember that we also need to compute it for the other variables too."
   ]
  },
  {
   "cell_type": "markdown",
   "id": "d8dcaff8",
   "metadata": {},
   "source": [
    "$$\n",
    "\\bar c_3 = c_3 - \\mathbf c^T _B \\mathbf B^{-1} \\mathbf A_3 \\\\\n",
    "= -0.5 -\n",
    "\\begin{pmatrix}\n",
    "-0.5 & -2\n",
    "\\end{pmatrix}\n",
    "\\begin{pmatrix}\n",
    "0.25 & -0.25\\\\\n",
    "0.375 & 0.125\\\\\n",
    "\\end{pmatrix}\n",
    "\\begin{pmatrix}\n",
    "0.5 \\\\ 0.5\n",
    "\\end{pmatrix}\n",
    "- \n",
    "\\begin{pmatrix}\n",
    "0 & \\delta\n",
    "\\end{pmatrix}\n",
    "\\begin{pmatrix}\n",
    "0.25 & -0.25\\\\\n",
    "0.375 & 0.125\\\\\n",
    "\\end{pmatrix}\n",
    "\\begin{pmatrix}\n",
    "0.5 \\\\ 0.5\n",
    "\\end{pmatrix}\n",
    "\\\n",
    "\\\\=\n",
    "-0.5 + 0.5\n",
    "-0.25\\delta \\geq 0\n",
    "$$"
   ]
  },
  {
   "cell_type": "markdown",
   "id": "a6c4e9bd",
   "metadata": {},
   "source": [
    "Hence, $\\delta \\leq 0$.\n",
    "And we continue on to obtain the range for a change in $c_1$."
   ]
  },
  {
   "cell_type": "markdown",
   "id": "9a3d988a",
   "metadata": {},
   "source": [
    "$$\n",
    "\\bar c_5 = c_5 - \\mathbf c^T _B \\mathbf B^{-1} \\mathbf A_5 \\\\\n",
    "= 0 -\n",
    "\\begin{pmatrix}\n",
    "-0.5 & -2\n",
    "\\end{pmatrix}\n",
    "\\begin{pmatrix}\n",
    "0.25 & -0.25\\\\\n",
    "0.375 & 0.125\\\\\n",
    "\\end{pmatrix}\n",
    "\\begin{pmatrix}\n",
    "1 \\\\ 0\n",
    "\\end{pmatrix}\n",
    "- \n",
    "\\begin{pmatrix}\n",
    "0 & \\delta\n",
    "\\end{pmatrix}\n",
    "\\begin{pmatrix}\n",
    "0.25 & -0.25\\\\\n",
    "0.375 & 0.125\\\\\n",
    "\\end{pmatrix}\n",
    "\\begin{pmatrix}\n",
    "1 \\\\ 0\n",
    "\\end{pmatrix}\n",
    "\\\n",
    "\\\\=\n",
    "0.875\n",
    "-0.375\\delta \\geq 0\n",
    "$$"
   ]
  },
  {
   "cell_type": "markdown",
   "id": "0a407d5e",
   "metadata": {},
   "source": [
    "Hence, we get $\\delta \\leq \\frac{7}{3}$."
   ]
  },
  {
   "cell_type": "markdown",
   "id": "b836660c",
   "metadata": {},
   "source": [
    "$$\n",
    "\\bar c_6 = c_6 - \\mathbf c^T _B \\mathbf B^{-1} \\mathbf A_6 \\\\\n",
    "= 0 -\n",
    "\\begin{pmatrix}\n",
    "-0.5 & -2\n",
    "\\end{pmatrix}\n",
    "\\begin{pmatrix}\n",
    "0.25 & -0.25\\\\\n",
    "0.375 & 0.125\\\\\n",
    "\\end{pmatrix}\n",
    "\\begin{pmatrix}\n",
    "0 \\\\ 1\n",
    "\\end{pmatrix}\n",
    "- \n",
    "\\begin{pmatrix}\n",
    "0 & \\delta\n",
    "\\end{pmatrix}\n",
    "\\begin{pmatrix}\n",
    "0.25 & -0.25\\\\\n",
    "0.375 & 0.125\\\\\n",
    "\\end{pmatrix}\n",
    "\\begin{pmatrix}\n",
    "0 \\\\ 1\n",
    "\\end{pmatrix}\n",
    "\\\n",
    "\\\\=\n",
    "0.125\n",
    "-0.125\\delta \\geq 0\n",
    "$$"
   ]
  },
  {
   "cell_type": "markdown",
   "id": "f237f6a0",
   "metadata": {},
   "source": [
    "Lastly, we get $\\delta \\leq 1$. \n",
    "Therefore, the range is $\\delta \\leq 0$."
   ]
  },
  {
   "cell_type": "markdown",
   "id": "35f66cb5",
   "metadata": {},
   "source": [
    "Indeed, if we increase $c_1$, we obtain a different solution."
   ]
  },
  {
   "cell_type": "code",
   "execution_count": 11,
   "id": "ef1f3a00",
   "metadata": {},
   "outputs": [
    {
     "name": "stdout",
     "output_type": "stream",
     "text": [
      "New initial tableau\n"
     ]
    },
    {
     "data": {
      "text/html": [
       "<table><tr><th>$$$$</th><th>$$x_1$$</th><th>$$x_2$$</th><th>$$x_3$$</th><th>$$x_4$$</th><th>$$s_1$$</th><th>$$s_2$$</th><th>$$s_3$$</th><th>$$s_4$$</th><th>$$Solution$$</th></tr><tr><td>$$\\mathbf c$$</td><td>$$\\bf -1.9$$</td><td>$$ -1$$</td><td>$$ -0.5$$</td><td>$$ -0.5$$</td><td>$$ 0$$</td><td>$$ 0$$</td><td>$$ 0$$</td><td>$$ 0$$</td><td>$$ 0$$</td></tr><tr><td>$$\\bar {\\mathbf c}$$</td><td>$$\\bf -1.9$$</td><td>$$ -1$$</td><td>$$ -0.5$$</td><td>$$ -0.5$$</td><td>$$ 0$$</td><td>$$ 0$$</td><td>$$ 0$$</td><td>$$ 0$$</td><td>$$ 0$$</td></tr><tr><td>$$s_1$$</td><td>$$ 2$$</td><td>$$ 1$$</td><td>$$ 0.5$$</td><td>$$ 1$$</td><td>$$ 1$$</td><td>$$ 0$$</td><td>$$ 0$$</td><td>$$ 0$$</td><td>$$ 8$$</td></tr><tr><td>$$s_2$$</td><td>$$ 2$$</td><td>$$ 1$$</td><td>$$ 0.5$$</td><td>$$ -3$$</td><td>$$ 0$$</td><td>$$ 1$$</td><td>$$ 0$$</td><td>$$ 0$$</td><td>$$ 4$$</td></tr><tr><td>$$s_3$$</td><td>$$ 1$$</td><td>$$ 1$$</td><td>$$ -2$$</td><td>$$ 0.5$$</td><td>$$ 0$$</td><td>$$ 0$$</td><td>$$ 1$$</td><td>$$ 0$$</td><td>$$ 6$$</td></tr><tr><td>$$s_4$$</td><td>$$ -3$$</td><td>$$ 2$$</td><td>$$ 0$$</td><td>$$ -1$$</td><td>$$ 0$$</td><td>$$ 0$$</td><td>$$ 0$$</td><td>$$ 1$$</td><td>$$ 3$$</td></tr></table>"
      ],
      "text/plain": [
       "<IPython.core.display.HTML object>"
      ]
     },
     "metadata": {},
     "output_type": "display_data"
    },
    {
     "name": "stdout",
     "output_type": "stream",
     "text": [
      "Final tableau\n"
     ]
    },
    {
     "data": {
      "text/html": [
       "<table><tr><th>$$$$</th><th>$$x_1$$</th><th>$$x_2$$</th><th>$$x_3$$</th><th>$$x_4$$</th><th>$$s_1$$</th><th>$$s_2$$</th><th>$$s_3$$</th><th>$$s_4$$</th><th>$$Solution$$</th></tr><tr><td>$$\\bar {\\mathbf c}$$</td><td>$$ 0.1$$</td><td>$$ 0$$</td><td>$$ 0$$</td><td>$$ 0$$</td><td>$$ 0.875$$</td><td>$$ 0.125$$</td><td>$$ 0$$</td><td>$$ 0$$</td><td>$$ 7.5$$</td></tr><tr><td>$$x_4$$</td><td>$$ 0$$</td><td>$$ 0$$</td><td>$$ 0$$</td><td>$$ 1$$</td><td>$$ 0.25$$</td><td>$$ -0.25$$</td><td>$$ 0$$</td><td>$$ 0$$</td><td>$$ 1$$</td></tr><tr><td>$$s_3$$</td><td>$$ 9$$</td><td>$$ 5$$</td><td>$$ 0$$</td><td>$$ 0$$</td><td>$$ 2.875$$</td><td>$$ 1.125$$</td><td>$$ 1$$</td><td>$$ 0$$</td><td>$$ 33.5$$</td></tr><tr><td>$$s_4$$</td><td>$$ -3$$</td><td>$$ 2$$</td><td>$$ 0$$</td><td>$$ 0$$</td><td>$$ 0.25$$</td><td>$$ -0.25$$</td><td>$$ 0$$</td><td>$$ 1$$</td><td>$$ 4$$</td></tr><tr><td>$$x_3$$</td><td>$$ 4$$</td><td>$$ 2$$</td><td>$$ 1$$</td><td>$$ 0$$</td><td>$$ 1.5$$</td><td>$$ 0.5$$</td><td>$$ 0$$</td><td>$$ 0$$</td><td>$$ 14$$</td></tr></table>"
      ],
      "text/plain": [
       "<IPython.core.display.HTML object>"
      ]
     },
     "metadata": {},
     "output_type": "display_data"
    }
   ],
   "source": [
    "costs = np.array([-1.9, -1, -0.5, -0.5, 0, 0, 0, 0, 0])\n",
    "c_bar = reduced_cost(costs, orig_tableau)\n",
    "print(\"New initial tableau\")\n",
    "print_table(c_bar, orig_tableau, variables, c=costs, c_bold=[0])\n",
    "\n",
    "print(\"Final tableau\")\n",
    "print_table(*simplex(c_bar, orig_tableau), variables)"
   ]
  },
  {
   "cell_type": "markdown",
   "id": "285f1ea8",
   "metadata": {},
   "source": [
    "But reducing $c_1$ retains the solution."
   ]
  },
  {
   "cell_type": "code",
   "execution_count": 12,
   "id": "4cc359cf",
   "metadata": {},
   "outputs": [
    {
     "name": "stdout",
     "output_type": "stream",
     "text": [
      "New initial tableau\n"
     ]
    },
    {
     "data": {
      "text/html": [
       "<table><tr><th>$$$$</th><th>$$x_1$$</th><th>$$x_2$$</th><th>$$x_3$$</th><th>$$x_4$$</th><th>$$s_1$$</th><th>$$s_2$$</th><th>$$s_3$$</th><th>$$s_4$$</th><th>$$Solution$$</th></tr><tr><td>$$\\bar {\\mathbf c}$$</td><td>$$\\bf -30$$</td><td>$$ -1$$</td><td>$$ -0.5$$</td><td>$$ -0.5$$</td><td>$$ 0$$</td><td>$$ 0$$</td><td>$$ 0$$</td><td>$$ 0$$</td><td>$$ 0$$</td></tr><tr><td>$$s_1$$</td><td>$$ 2$$</td><td>$$ 1$$</td><td>$$ 0.5$$</td><td>$$ 1$$</td><td>$$ 1$$</td><td>$$ 0$$</td><td>$$ 0$$</td><td>$$ 0$$</td><td>$$ 8$$</td></tr><tr><td>$$s_2$$</td><td>$$ 2$$</td><td>$$ 1$$</td><td>$$ 0.5$$</td><td>$$ -3$$</td><td>$$ 0$$</td><td>$$ 1$$</td><td>$$ 0$$</td><td>$$ 0$$</td><td>$$ 4$$</td></tr><tr><td>$$s_3$$</td><td>$$ 1$$</td><td>$$ 1$$</td><td>$$ -2$$</td><td>$$ 0.5$$</td><td>$$ 0$$</td><td>$$ 0$$</td><td>$$ 1$$</td><td>$$ 0$$</td><td>$$ 6$$</td></tr><tr><td>$$s_4$$</td><td>$$ -3$$</td><td>$$ 2$$</td><td>$$ 0$$</td><td>$$ -1$$</td><td>$$ 0$$</td><td>$$ 0$$</td><td>$$ 0$$</td><td>$$ 1$$</td><td>$$ 3$$</td></tr></table>"
      ],
      "text/plain": [
       "<IPython.core.display.HTML object>"
      ]
     },
     "metadata": {},
     "output_type": "display_data"
    },
    {
     "name": "stdout",
     "output_type": "stream",
     "text": [
      "Final tableau\n"
     ]
    },
    {
     "data": {
      "text/html": [
       "<table><tr><th>$$$$</th><th>$$x_1$$</th><th>$$x_2$$</th><th>$$x_3$$</th><th>$$x_4$$</th><th>$$s_1$$</th><th>$$s_2$$</th><th>$$s_3$$</th><th>$$s_4$$</th><th>$$Solution$$</th></tr><tr><td>$$\\bar {\\mathbf c}$$</td><td>$$ 0$$</td><td>$$ 14$$</td><td>$$ 7$$</td><td>$$ 0$$</td><td>$$ 11.375$$</td><td>$$ 3.625$$</td><td>$$ 0$$</td><td>$$ 0$$</td><td>$$ 105.5$$</td></tr><tr><td>$$x_4$$</td><td>$$ 0$$</td><td>$$ 0$$</td><td>$$ 0$$</td><td>$$ 1$$</td><td>$$ 0.25$$</td><td>$$ -0.25$$</td><td>$$ 0$$</td><td>$$ 0$$</td><td>$$ 1$$</td></tr><tr><td>$$x_1$$</td><td>$$ 1$$</td><td>$$ 0.5$$</td><td>$$ 0.25$$</td><td>$$ 0$$</td><td>$$ 0.375$$</td><td>$$ 0.125$$</td><td>$$ 0$$</td><td>$$ 0$$</td><td>$$ 3.5$$</td></tr><tr><td>$$s_3$$</td><td>$$ 0$$</td><td>$$ 0.5$$</td><td>$$ -2.25$$</td><td>$$ 0$$</td><td>$$ -0.5$$</td><td>$$ 0$$</td><td>$$ 1$$</td><td>$$ 0$$</td><td>$$ 2$$</td></tr><tr><td>$$s_4$$</td><td>$$ 0$$</td><td>$$ 3.5$$</td><td>$$ 0.75$$</td><td>$$ 0$$</td><td>$$ 1.375$$</td><td>$$ 0.125$$</td><td>$$ 0$$</td><td>$$ 1$$</td><td>$$ 14.5$$</td></tr></table>"
      ],
      "text/plain": [
       "<IPython.core.display.HTML object>"
      ]
     },
     "metadata": {},
     "output_type": "display_data"
    }
   ],
   "source": [
    "costs = np.array([-30, -1, -0.5, -0.5, 0, 0, 0, 0, 0])\n",
    "c_bar = reduced_cost(costs, orig_tableau)\n",
    "print(\"New initial tableau\")\n",
    "print_table(costs, orig_tableau, variables, c_bold=[0])\n",
    "\n",
    "print(\"Final tableau\")\n",
    "print_table(*simplex(c_bar, orig_tableau), variables)"
   ]
  },
  {
   "cell_type": "markdown",
   "id": "05f72ff0",
   "metadata": {},
   "source": [
    "### A quicker way\n",
    "\n",
    "In fact, there is a quicker way to obtain the range.\n",
    "If we look at the tableau:"
   ]
  },
  {
   "cell_type": "code",
   "execution_count": 13,
   "id": "836e7340",
   "metadata": {},
   "outputs": [
    {
     "data": {
      "text/html": [
       "<table><tr><th>$$$$</th><th>$$x_1$$</th><th>$$x_2$$</th><th>$$x_3$$</th><th>$$x_4$$</th><th>$$s_1$$</th><th>$$s_2$$</th><th>$$s_3$$</th><th>$$s_4$$</th><th>$$Solution$$</th></tr><tr><td>$$\\bar {\\mathbf c}$$</td><td>$$\\bf 0$$</td><td>$$\\bf 0$$</td><td>$$\\bf 0$$</td><td>$$\\bf 0$$</td><td>$$\\bf 0.875$$</td><td>$$\\bf 0.125$$</td><td>$$\\bf 0$$</td><td>$$\\bf 0$$</td><td>$$\\bf 7.5$$</td></tr><tr><td>$$x_4$$</td><td>$$ 0$$</td><td>$$ 0$$</td><td>$$ 0$$</td><td>$$ 1$$</td><td>$$ 0.25$$</td><td>$$ -0.25$$</td><td>$$ 0$$</td><td>$$ 0$$</td><td>$$ 1$$</td></tr><tr><td>$$x_1$$</td><td>$$\\bf 1$$</td><td>$$\\bf 0.5$$</td><td>$$\\bf 0.25$$</td><td>$$\\bf 0$$</td><td>$$\\bf 0.375$$</td><td>$$\\bf 0.125$$</td><td>$$\\bf 0$$</td><td>$$\\bf 0$$</td><td>$$ 3.5$$</td></tr><tr><td>$$s_3$$</td><td>$$ 0$$</td><td>$$ 0.5$$</td><td>$$ -2.25$$</td><td>$$ 0$$</td><td>$$ -0.5$$</td><td>$$ 0$$</td><td>$$ 1$$</td><td>$$ 0$$</td><td>$$ 2$$</td></tr><tr><td>$$s_4$$</td><td>$$ 0$$</td><td>$$ 3.5$$</td><td>$$ 0.75$$</td><td>$$ 0$$</td><td>$$ 1.375$$</td><td>$$ 0.125$$</td><td>$$ 0$$</td><td>$$ 1$$</td><td>$$ 14.5$$</td></tr></table>"
      ],
      "text/plain": [
       "<IPython.core.display.HTML object>"
      ]
     },
     "metadata": {},
     "output_type": "display_data"
    }
   ],
   "source": [
    "print_table(\n",
    "    sol_c_bar,\n",
    "    sol_tableau,\n",
    "    variables,\n",
    "    c_bold=[i for i in range(9)],\n",
    "    tableau_bold=(1, 0, 1, 8),\n",
    ")"
   ]
  },
  {
   "cell_type": "markdown",
   "id": "252a6659",
   "metadata": {},
   "source": [
    "Suppose that our range is in the form of $a \\geq b \\delta$.\n",
    "\n",
    "Notice that the $\\bar {\\mathbf c}$ coincides with the $a$, while the values in the 2nd row (the row associated with the variable $x_1$) coincides with $b$.\n",
    "Hence, we can actually obtain the range simply by reading off the tableau."
   ]
  },
  {
   "cell_type": "markdown",
   "id": "fda6ecda",
   "metadata": {},
   "source": [
    "So for example, the range of $c_4$ is simply\n",
    "$$\n",
    "0.875 \\geq 0.25 \\delta \\Rightarrow \\delta \\leq 3.5 \\\\\n",
    "0.125 \\geq -0.25 \\delta \\Rightarrow \\delta \\geq -0.5 \\\\\n",
    "$$"
   ]
  },
  {
   "cell_type": "markdown",
   "id": "050f0c8f",
   "metadata": {},
   "source": [
    "## Change in non-basic column of $\\mathbf A$\n",
    "\n",
    "Suppose than an entry $A_{i,j}$ was modified to $A_{i,j} + \\delta$.\n",
    "We assume that feasibility is maintained.\n",
    "In that case, optimality still may be affected."
   ]
  },
  {
   "cell_type": "markdown",
   "id": "4d956332",
   "metadata": {},
   "source": [
    "And only the reduced cost in the modified column would be affected."
   ]
  },
  {
   "cell_type": "markdown",
   "id": "de5867f4",
   "metadata": {},
   "source": [
    "Computing the difference, we would see that the new reduced cost is $\\bar c_j - \\delta p_i$.\n",
    "Where $i,j$ is the row, column index of the modified cell."
   ]
  },
  {
   "cell_type": "markdown",
   "id": "a503f631",
   "metadata": {},
   "source": [
    "If feasibility is not maintained, then we perform dual simplex iteration to obtain the new solution."
   ]
  },
  {
   "cell_type": "markdown",
   "id": "65e2211a",
   "metadata": {},
   "source": [
    "### Example"
   ]
  },
  {
   "cell_type": "code",
   "execution_count": 14,
   "id": "9ed2c437",
   "metadata": {
    "scrolled": true
   },
   "outputs": [
    {
     "name": "stdout",
     "output_type": "stream",
     "text": [
      "New initial tableua\n"
     ]
    },
    {
     "data": {
      "text/html": [
       "<table><tr><th>$$$$</th><th>$$x_1$$</th><th>$$x_2$$</th><th>$$x_3$$</th><th>$$x_4$$</th><th>$$s_1$$</th><th>$$s_2$$</th><th>$$s_3$$</th><th>$$s_4$$</th><th>$$Solution$$</th></tr><tr><td>$$\\bar {\\mathbf c}$$</td><td>$$ -2$$</td><td>$$ -1$$</td><td>$$ -0.5$$</td><td>$$ -0.5$$</td><td>$$ 0$$</td><td>$$ 0$$</td><td>$$ 0$$</td><td>$$ 0$$</td><td>$$ 0$$</td></tr><tr><td>$$s_1$$</td><td>$$ 2$$</td><td>$$ 1$$</td><td>$$ 0.5$$</td><td>$$ 1$$</td><td>$$ 1$$</td><td>$$ 0$$</td><td>$$ 0$$</td><td>$$ 0$$</td><td>$$ 8$$</td></tr><tr><td>$$s_2$$</td><td>$$ 2$$</td><td>$$\\bf 3$$</td><td>$$ 0.5$$</td><td>$$ -3$$</td><td>$$ 0$$</td><td>$$ 1$$</td><td>$$ 0$$</td><td>$$ 0$$</td><td>$$ 4$$</td></tr><tr><td>$$s_3$$</td><td>$$ 1$$</td><td>$$ 1$$</td><td>$$ -2$$</td><td>$$ 0.5$$</td><td>$$ 0$$</td><td>$$ 0$$</td><td>$$ 1$$</td><td>$$ 0$$</td><td>$$ 6$$</td></tr><tr><td>$$s_4$$</td><td>$$ -3$$</td><td>$$ 2$$</td><td>$$ 0$$</td><td>$$ -1$$</td><td>$$ 0$$</td><td>$$ 0$$</td><td>$$ 0$$</td><td>$$ 1$$</td><td>$$ 3$$</td></tr></table>"
      ],
      "text/plain": [
       "<IPython.core.display.HTML object>"
      ]
     },
     "metadata": {},
     "output_type": "display_data"
    },
    {
     "name": "stdout",
     "output_type": "stream",
     "text": [
      "Final tableau\n"
     ]
    },
    {
     "data": {
      "text/html": [
       "<table><tr><th>$$$$</th><th>$$x_1$$</th><th>$$x_2$$</th><th>$$x_3$$</th><th>$$x_4$$</th><th>$$s_1$$</th><th>$$s_2$$</th><th>$$s_3$$</th><th>$$s_4$$</th><th>$$Solution$$</th></tr><tr><td>$$\\bar {\\mathbf c}$$</td><td>$$ 0$$</td><td>$$ 0.25$$</td><td>$$ 0$$</td><td>$$ 0$$</td><td>$$ 0.875$$</td><td>$$ 0.125$$</td><td>$$ 0$$</td><td>$$ 0$$</td><td>$$ 7.5$$</td></tr><tr><td>$$x_4$$</td><td>$$ 0$$</td><td>$$ -0.5$$</td><td>$$ 0$$</td><td>$$ 1$$</td><td>$$ 0.25$$</td><td>$$ -0.25$$</td><td>$$ 0$$</td><td>$$ 0$$</td><td>$$ 1$$</td></tr><tr><td>$$x_1$$</td><td>$$ 1$$</td><td>$$ 0.75$$</td><td>$$ 0.25$$</td><td>$$ 0$$</td><td>$$ 0.375$$</td><td>$$ 0.125$$</td><td>$$ 0$$</td><td>$$ 0$$</td><td>$$ 3.5$$</td></tr><tr><td>$$s_3$$</td><td>$$ 0$$</td><td>$$ 0.5$$</td><td>$$ -2.25$$</td><td>$$ 0$$</td><td>$$ -0.5$$</td><td>$$ 0$$</td><td>$$ 1$$</td><td>$$ 0$$</td><td>$$ 2$$</td></tr><tr><td>$$s_4$$</td><td>$$ 0$$</td><td>$$ 3.75$$</td><td>$$ 0.75$$</td><td>$$ 0$$</td><td>$$ 1.375$$</td><td>$$ 0.125$$</td><td>$$ 0$$</td><td>$$ 1$$</td><td>$$ 14.5$$</td></tr></table>"
      ],
      "text/plain": [
       "<IPython.core.display.HTML object>"
      ]
     },
     "metadata": {},
     "output_type": "display_data"
    }
   ],
   "source": [
    "new_tableau = orig_tableau.copy()\n",
    "new_tableau[1, 1] = 3\n",
    "c_bar = reduced_cost(orig_costs, new_tableau)\n",
    "print(\"New initial tableua\")\n",
    "print_table(c_bar, new_tableau, variables, tableau_bold=(1, 1, 1, 1))\n",
    "\n",
    "print(\"Final tableau\")\n",
    "print_table(*simplex(c_bar, new_tableau), variables)"
   ]
  },
  {
   "cell_type": "markdown",
   "id": "1e166c4b",
   "metadata": {},
   "source": [
    "Firstly, we compute the new $\\bar {\\mathbf c}_2$\n",
    "$$\n",
    "\\bar {\\mathbf c'}_2 = \\mathbf c^T - \\mathbf c^T_B \\mathbf B^{-1} \\left(\\mathbf  A_2 + \\begin{pmatrix} 0 \\\\ 2 \\\\ 0 \\\\ 0 \\end{pmatrix} \\right) \n",
    "= \\bar {\\mathbf c}_2 - \\mathbf c^T_B \\mathbf B^{-1} \\begin{pmatrix} 0 \\\\ 2 \\\\ 0 \\\\ 0 \\end{pmatrix}\n",
    "=\n",
    "0 - \n",
    "\\begin{pmatrix}\n",
    "-2 & -1 & 0 & 0\n",
    "\\end{pmatrix}\n",
    "\\begin{pmatrix}\n",
    "0.25 & -0.25 & 0 & 0 \\\\\n",
    "0.375 & 0.125 & 0 & 0 \\\\\n",
    "-0.5 & 0 & 1 & 0 \\\\\n",
    "1.375 & 0.125 & 0 & 1\n",
    "\\end{pmatrix}\n",
    "\\begin{pmatrix}\n",
    "0 \\\\ 2 \\\\ 0\\\\ 0\n",
    "\\end{pmatrix}\n",
    "= 0.25\n",
    "$$"
   ]
  },
  {
   "cell_type": "markdown",
   "id": "2907f044",
   "metadata": {},
   "source": [
    "Then we compute the new column in the solved tableau.\n"
   ]
  },
  {
   "cell_type": "markdown",
   "id": "bc971187",
   "metadata": {},
   "source": [
    "$$\n",
    "\\mathbf B^{-1} \\left(\\mathbf  A_2 + \\begin{pmatrix} 0 \\\\ 2 \\\\ 0 \\\\ 0 \\end{pmatrix} \\right) \n",
    "=\n",
    "\\begin{pmatrix}\n",
    "0 \\\\ 0.5 \\\\ 0.5 \\\\ 3.5\n",
    "\\end{pmatrix}\n",
    "+\n",
    "\\begin{pmatrix}\n",
    "0.25 & -0.25 & 0 & 0 \\\\\n",
    "0.375 & 0.125 & 0 & 0 \\\\\n",
    "-0.5 & 0 & 1 & 0 \\\\\n",
    "1.375 & 0.125 & 0 & 1\n",
    "\\end{pmatrix}\n",
    "\\begin{pmatrix}\n",
    "0 \\\\ 2 \\\\ 0\\\\ 0\n",
    "\\end{pmatrix}\n",
    "=\n",
    "\\begin{pmatrix}\n",
    "0 \\\\ 0.5 \\\\ 0.5 \\\\ 3.5\n",
    "\\end{pmatrix}\n",
    "+\n",
    "\\begin{pmatrix}\n",
    "-0.5 \\\\ 0.25 \\\\ 0\\\\ 0.25\n",
    "\\end{pmatrix}\n",
    "=\n",
    "\\begin{pmatrix}\n",
    "-0.5 \\\\ 0.75 \\\\ 0.5\\\\ 3.75\n",
    "\\end{pmatrix}\n",
    "$$"
   ]
  },
  {
   "cell_type": "markdown",
   "id": "425132ed",
   "metadata": {},
   "source": [
    "Since our reduced costs was positive, simply replacing all the entries above in the solution tableau would give us our new solution."
   ]
  },
  {
   "cell_type": "markdown",
   "id": "4fa13334",
   "metadata": {},
   "source": [
    "---"
   ]
  },
  {
   "cell_type": "markdown",
   "id": "b5a4ce4a",
   "metadata": {},
   "source": [
    "Suppose now instead, we wish to find the range of $\\delta$ such that changes to the $A_{2, 2}$ entry won't change the basis.\n",
    "Once again, we compute the below to ensure optimality."
   ]
  },
  {
   "cell_type": "markdown",
   "id": "ea001870",
   "metadata": {},
   "source": [
    "$$\n",
    "\\bar {\\mathbf c'}_2 = \\mathbf c^T - \\mathbf c^T_B \\mathbf B^{-1} \\left(\\mathbf  A_2 + \\begin{pmatrix} 0 \\\\ \\delta \\\\ 0 \\\\ 0 \\end{pmatrix} \\right) \n",
    "=\n",
    "0 - \n",
    "\\begin{pmatrix}\n",
    "-2 & -1 & 0 & 0\n",
    "\\end{pmatrix}\n",
    "\\begin{pmatrix}\n",
    "0.25 & -0.25 & 0 & 0 \\\\\n",
    "0.375 & 0.125 & 0 & 0 \\\\\n",
    "-0.5 & 0 & 1 & 0 \\\\\n",
    "1.375 & 0.125 & 0 & 1\n",
    "\\end{pmatrix}\n",
    "\\begin{pmatrix}\n",
    "0 \\\\ \\delta \\\\ 0\\\\ 0\n",
    "\\end{pmatrix}\n",
    "= 0.25 \\delta \\geq 0\n",
    "$$"
   ]
  },
  {
   "cell_type": "markdown",
   "id": "85028de2",
   "metadata": {},
   "source": [
    "Hence, we require $\\delta \\geq 0$."
   ]
  },
  {
   "cell_type": "markdown",
   "id": "8f695cca",
   "metadata": {},
   "source": [
    "Indeed, just a small decrease in that entry causes the solution to change."
   ]
  },
  {
   "cell_type": "code",
   "execution_count": 15,
   "id": "c75a4790",
   "metadata": {
    "scrolled": true
   },
   "outputs": [
    {
     "name": "stdout",
     "output_type": "stream",
     "text": [
      "New initial tableua\n"
     ]
    },
    {
     "data": {
      "text/html": [
       "<table><tr><th>$$$$</th><th>$$x_1$$</th><th>$$x_2$$</th><th>$$x_3$$</th><th>$$x_4$$</th><th>$$s_1$$</th><th>$$s_2$$</th><th>$$s_3$$</th><th>$$s_4$$</th><th>$$Solution$$</th></tr><tr><td>$$\\bar {\\mathbf c}$$</td><td>$$ -2$$</td><td>$$ -1$$</td><td>$$ -0.5$$</td><td>$$ -0.5$$</td><td>$$ 0$$</td><td>$$ 0$$</td><td>$$ 0$$</td><td>$$ 0$$</td><td>$$ 0$$</td></tr><tr><td>$$s_1$$</td><td>$$ 2$$</td><td>$$ 1$$</td><td>$$ 0.5$$</td><td>$$ 1$$</td><td>$$ 1$$</td><td>$$ 0$$</td><td>$$ 0$$</td><td>$$ 0$$</td><td>$$ 8$$</td></tr><tr><td>$$s_2$$</td><td>$$ 2$$</td><td>$$\\bf 0.9$$</td><td>$$ 0.5$$</td><td>$$ -3$$</td><td>$$ 0$$</td><td>$$ 1$$</td><td>$$ 0$$</td><td>$$ 0$$</td><td>$$ 4$$</td></tr><tr><td>$$s_3$$</td><td>$$ 1$$</td><td>$$ 1$$</td><td>$$ -2$$</td><td>$$ 0.5$$</td><td>$$ 0$$</td><td>$$ 0$$</td><td>$$ 1$$</td><td>$$ 0$$</td><td>$$ 6$$</td></tr><tr><td>$$s_4$$</td><td>$$ -3$$</td><td>$$ 2$$</td><td>$$ 0$$</td><td>$$ -1$$</td><td>$$ 0$$</td><td>$$ 0$$</td><td>$$ 0$$</td><td>$$ 1$$</td><td>$$ 3$$</td></tr></table>"
      ],
      "text/plain": [
       "<IPython.core.display.HTML object>"
      ]
     },
     "metadata": {},
     "output_type": "display_data"
    },
    {
     "name": "stdout",
     "output_type": "stream",
     "text": [
      "Final tableau\n"
     ]
    },
    {
     "data": {
      "text/html": [
       "<table><tr><th>$$$$</th><th>$$x_1$$</th><th>$$x_2$$</th><th>$$x_3$$</th><th>$$x_4$$</th><th>$$s_1$$</th><th>$$s_2$$</th><th>$$s_3$$</th><th>$$s_4$$</th><th>$$Solution$$</th></tr><tr><td>$$\\bar {\\mathbf c}$$</td><td>$$ 0$$</td><td>$$ 0$$</td><td>$$ 0$$</td><td>$$ 0$$</td><td>$$ 0.8791$$</td><td>$$ 0.1254$$</td><td>$$ 0.0011$$</td><td>$$ 0.0034$$</td><td>$$ 7.5519$$</td></tr><tr><td>$$x_4$$</td><td>$$ 0$$</td><td>$$ 0$$</td><td>$$ 0$$</td><td>$$ 1$$</td><td>$$ 0.2417$$</td><td>$$ -0.2509$$</td><td>$$ -0.0023$$</td><td>$$ -0.0068$$</td><td>$$ 0.8962$$</td></tr><tr><td>$$x_1$$</td><td>$$ 1$$</td><td>$$ 0$$</td><td>$$ 0$$</td><td>$$ 0$$</td><td>$$ 0.1399$$</td><td>$$ 0.1064$$</td><td>$$ 0.0616$$</td><td>$$ -0.1486$$</td><td>$$ 1.4683$$</td></tr><tr><td>$$x_2$$</td><td>$$ 0$$</td><td>$$ 1$$</td><td>$$ 0$$</td><td>$$ 0$$</td><td>$$ 0.3307$$</td><td>$$ 0.0342$$</td><td>$$ 0.0912$$</td><td>$$ 0.2737$$</td><td>$$ 4.1505$$</td></tr><tr><td>$$x_3$$</td><td>$$ 0$$</td><td>$$ 0$$</td><td>$$ 1$$</td><td>$$ 0$$</td><td>$$ 0.2957$$</td><td>$$ 0.0076$$</td><td>$$ -0.4242$$</td><td>$$ 0.0608$$</td><td>$$ 0.0334$$</td></tr></table>"
      ],
      "text/plain": [
       "<IPython.core.display.HTML object>"
      ]
     },
     "metadata": {},
     "output_type": "display_data"
    }
   ],
   "source": [
    "new_tableau = orig_tableau.copy()\n",
    "new_tableau[1, 1] = 0.9\n",
    "c_bar = reduced_cost(orig_costs, new_tableau)\n",
    "print(\"New initial tableua\")\n",
    "print_table(c_bar, new_tableau, variables, tableau_bold=(1, 1, 1, 1))\n",
    "\n",
    "print(\"Final tableau\")\n",
    "print_table(*simplex(c_bar, new_tableau), variables)"
   ]
  },
  {
   "cell_type": "markdown",
   "id": "8ff36ce0",
   "metadata": {},
   "source": [
    "## Adding new variable\n",
    "\n",
    "This time, feasibility is maintained, but optimality may be affected.\n",
    "Thus, it is straightforward for us to perform another simplex iteration."
   ]
  },
  {
   "cell_type": "markdown",
   "id": "7a39b6e6",
   "metadata": {},
   "source": [
    "### Example\n",
    "\n",
    "Suppose that I've discovered a new activity: exercising.\n",
    "I obtain a happiness of $3$, but at the cost of 1 unit of time, hunger and energy."
   ]
  },
  {
   "cell_type": "code",
   "execution_count": 16,
   "id": "54ae2c94",
   "metadata": {},
   "outputs": [
    {
     "name": "stdout",
     "output_type": "stream",
     "text": [
      "New initial tableau\n"
     ]
    },
    {
     "data": {
      "text/html": [
       "<table><tr><th>$$$$</th><th>$$x_1$$</th><th>$$x_2$$</th><th>$$x_3$$</th><th>$$x_4$$</th><th>$$s_1$$</th><th>$$s_2$$</th><th>$$s_3$$</th><th>$$s_4$$</th><th>$$x_5$$</th><th>$$Solution$$</th></tr><tr><td>$$\\bar {\\mathbf c}$$</td><td>$$ -2$$</td><td>$$ -1$$</td><td>$$ -0.5$$</td><td>$$ -0.5$$</td><td>$$ 0$$</td><td>$$ 0$$</td><td>$$ 0$$</td><td>$$ 0$$</td><td>$$\\bf -3$$</td><td>$$ 0$$</td></tr><tr><td>$$s_1$$</td><td>$$ 2$$</td><td>$$ 1$$</td><td>$$ 0.5$$</td><td>$$ 1$$</td><td>$$ 1$$</td><td>$$ 0$$</td><td>$$ 0$$</td><td>$$ 0$$</td><td>$$\\bf 1$$</td><td>$$ 8$$</td></tr><tr><td>$$s_2$$</td><td>$$ 2$$</td><td>$$ 1$$</td><td>$$ 0.5$$</td><td>$$ -3$$</td><td>$$ 0$$</td><td>$$ 1$$</td><td>$$ 0$$</td><td>$$ 0$$</td><td>$$\\bf 1$$</td><td>$$ 4$$</td></tr><tr><td>$$s_3$$</td><td>$$ 1$$</td><td>$$ 1$$</td><td>$$ -2$$</td><td>$$ 0.5$$</td><td>$$ 0$$</td><td>$$ 0$$</td><td>$$ 1$$</td><td>$$ 0$$</td><td>$$\\bf 1$$</td><td>$$ 6$$</td></tr><tr><td>$$s_4$$</td><td>$$ -3$$</td><td>$$ 2$$</td><td>$$ 0$$</td><td>$$ -1$$</td><td>$$ 0$$</td><td>$$ 0$$</td><td>$$ 0$$</td><td>$$ 1$$</td><td>$$\\bf 0$$</td><td>$$ 3$$</td></tr></table>"
      ],
      "text/plain": [
       "<IPython.core.display.HTML object>"
      ]
     },
     "metadata": {},
     "output_type": "display_data"
    },
    {
     "name": "stdout",
     "output_type": "stream",
     "text": [
      "Final tableau\n"
     ]
    },
    {
     "data": {
      "text/html": [
       "<table><tr><th>$$$$</th><th>$$x_1$$</th><th>$$x_2$$</th><th>$$x_3$$</th><th>$$x_4$$</th><th>$$s_1$$</th><th>$$s_2$$</th><th>$$s_3$$</th><th>$$s_4$$</th><th>$$x_5$$</th><th>$$Solution$$</th></tr><tr><td>$$\\bar {\\mathbf c}$$</td><td>$$ 3.6$$</td><td>$$ 2$$</td><td>$$ 0$$</td><td>$$ 0$$</td><td>$$ 2.025$$</td><td>$$ 0.575$$</td><td>$$ 0.4$$</td><td>$$ 0$$</td><td>$$ 0$$</td><td>$$ 20.9$$</td></tr><tr><td>$$x_3$$</td><td>$$ 0.4$$</td><td>$$ 0$$</td><td>$$ 1$$</td><td>$$ 0$$</td><td>$$ 0.35$$</td><td>$$ 0.05$$</td><td>$$ -0.4$$</td><td>$$ 0$$</td><td>$$ 0$$</td><td>$$ 0.6$$</td></tr><tr><td>$$x_5$$</td><td>$$ 1.8$$</td><td>$$ 1$$</td><td>$$ 0$$</td><td>$$ 0$$</td><td>$$ 0.575$$</td><td>$$ 0.225$$</td><td>$$ 0.2$$</td><td>$$ 0$$</td><td>$$ 1$$</td><td>$$ 6.7$$</td></tr><tr><td>$$x_4$$</td><td>$$ 0$$</td><td>$$ 0$$</td><td>$$ 0$$</td><td>$$ 1$$</td><td>$$ 0.25$$</td><td>$$ -0.25$$</td><td>$$ 0$$</td><td>$$ 0$$</td><td>$$ 0$$</td><td>$$ 1$$</td></tr><tr><td>$$s_4$$</td><td>$$ -3$$</td><td>$$ 2$$</td><td>$$ 0$$</td><td>$$ 0$$</td><td>$$ 0.25$$</td><td>$$ -0.25$$</td><td>$$ 0$$</td><td>$$ 1$$</td><td>$$ 0$$</td><td>$$ 4$$</td></tr></table>"
      ],
      "text/plain": [
       "<IPython.core.display.HTML object>"
      ]
     },
     "metadata": {},
     "output_type": "display_data"
    }
   ],
   "source": [
    "costs = np.concatenate((orig_costs[:-1], [-3], orig_costs[-1:]))\n",
    "tableau = np.hstack(\n",
    "    (orig_tableau[:, :-1], np.array([1, 1, 1, 0]).reshape((4, 1)), orig_tableau[:, -1:])\n",
    ")\n",
    "c_bar = reduced_cost(costs, tableau)\n",
    "new_variables = variables + [\"x_5\"]\n",
    "print(\"New initial tableau\")\n",
    "print_table(costs, tableau, new_variables, c_bold=[8], tableau_bold=(0, 8, 4, 1))\n",
    "\n",
    "print(\"Final tableau\")\n",
    "print_table(*simplex(c_bar, tableau), new_variables)"
   ]
  },
  {
   "cell_type": "markdown",
   "id": "4805a464",
   "metadata": {},
   "source": [
    "We simply augment the same data to our solved tableau, and continue the simplex iterations if need be."
   ]
  },
  {
   "cell_type": "markdown",
   "id": "66bbd95a",
   "metadata": {},
   "source": [
    "The column that we need to add to our tableau is \n",
    "\n",
    "$$\n",
    "\\mathbf B^{-1} A_9 = \n",
    "\\begin{pmatrix}\n",
    "0.25 & -0.25 & 0 & 0 \\\\\n",
    "0.375 & 0.125 & 0 & 0 \\\\\n",
    "-0.5 & 0 & 1 & 0 \\\\\n",
    "1.375 & 0.125 & 0 & 1\n",
    "\\end{pmatrix}\n",
    "\\begin{pmatrix}\n",
    "1 \\\\ 1 \\\\ 1 \\\\0\n",
    "\\end{pmatrix}\n",
    "=\n",
    "\\begin{pmatrix}\n",
    "0 \\\\ 0.5 \\\\ 0.5 \\\\ 1.5\n",
    "\\end{pmatrix}\n",
    "$$"
   ]
  },
  {
   "cell_type": "code",
   "execution_count": 17,
   "id": "b72c5197",
   "metadata": {},
   "outputs": [
    {
     "name": "stdout",
     "output_type": "stream",
     "text": [
      "New initial tableau\n"
     ]
    },
    {
     "data": {
      "text/html": [
       "<table><tr><th>$$$$</th><th>$$x_1$$</th><th>$$x_2$$</th><th>$$x_3$$</th><th>$$x_4$$</th><th>$$s_1$$</th><th>$$s_2$$</th><th>$$s_3$$</th><th>$$s_4$$</th><th>$$x_5$$</th><th>$$Solution$$</th></tr><tr><td>$$\\bar {\\mathbf c}$$</td><td>$$ 0$$</td><td>$$ 0$$</td><td>$$ 0$$</td><td>$$ 0$$</td><td>$$ 0.875$$</td><td>$$ 0.125$$</td><td>$$ 0$$</td><td>$$ 0$$</td><td>$$\\bf -2$$</td><td>$$ 7.5$$</td></tr><tr><td>$$x_4$$</td><td>$$ 0$$</td><td>$$ 0$$</td><td>$$ 0$$</td><td>$$ 1$$</td><td>$$ 0.25$$</td><td>$$ -0.25$$</td><td>$$ 0$$</td><td>$$ 0$$</td><td>$$\\bf 0$$</td><td>$$ 1$$</td></tr><tr><td>$$x_1$$</td><td>$$ 1$$</td><td>$$ 0.5$$</td><td>$$ 0.25$$</td><td>$$ 0$$</td><td>$$ 0.375$$</td><td>$$ 0.125$$</td><td>$$ 0$$</td><td>$$ 0$$</td><td>$$\\bf 0.5$$</td><td>$$ 3.5$$</td></tr><tr><td>$$s_3$$</td><td>$$ 0$$</td><td>$$ 0.5$$</td><td>$$ -2.25$$</td><td>$$ 0$$</td><td>$$ -0.5$$</td><td>$$ 0$$</td><td>$$ 1$$</td><td>$$ 0$$</td><td>$$\\bf 0.5$$</td><td>$$ 2$$</td></tr><tr><td>$$s_4$$</td><td>$$ 0$$</td><td>$$ 3.5$$</td><td>$$ 0.75$$</td><td>$$ 0$$</td><td>$$ 1.375$$</td><td>$$ 0.125$$</td><td>$$ 0$$</td><td>$$ 1$$</td><td>$$\\bf 1.5$$</td><td>$$ 14.5$$</td></tr></table>"
      ],
      "text/plain": [
       "<IPython.core.display.HTML object>"
      ]
     },
     "metadata": {},
     "output_type": "display_data"
    },
    {
     "name": "stdout",
     "output_type": "stream",
     "text": [
      "Final tableau\n"
     ]
    },
    {
     "data": {
      "text/html": [
       "<table><tr><th>$$$$</th><th>$$x_1$$</th><th>$$x_2$$</th><th>$$x_3$$</th><th>$$x_4$$</th><th>$$s_1$$</th><th>$$s_2$$</th><th>$$s_3$$</th><th>$$s_4$$</th><th>$$x_5$$</th><th>$$Solution$$</th></tr><tr><td>$$\\bar {\\mathbf c}$$</td><td>$$ 3.6$$</td><td>$$ 2$$</td><td>$$ 0$$</td><td>$$ 0$$</td><td>$$ 2.025$$</td><td>$$ 0.575$$</td><td>$$ 0.4$$</td><td>$$ 0$$</td><td>$$ 0$$</td><td>$$ 20.9$$</td></tr><tr><td>$$x_4$$</td><td>$$ 0$$</td><td>$$ 0$$</td><td>$$ 0$$</td><td>$$ 1$$</td><td>$$ 0.25$$</td><td>$$ -0.25$$</td><td>$$ 0$$</td><td>$$ 0$$</td><td>$$ 0$$</td><td>$$ 1$$</td></tr><tr><td>$$x_3$$</td><td>$$ 0.4$$</td><td>$$ 0$$</td><td>$$ 1$$</td><td>$$ 0$$</td><td>$$ 0.35$$</td><td>$$ 0.05$$</td><td>$$ -0.4$$</td><td>$$ 0$$</td><td>$$ 0$$</td><td>$$ 0.6$$</td></tr><tr><td>$$x_5$$</td><td>$$ 1.8$$</td><td>$$ 1$$</td><td>$$ 0$$</td><td>$$ 0$$</td><td>$$ 0.575$$</td><td>$$ 0.225$$</td><td>$$ 0.2$$</td><td>$$ 0$$</td><td>$$ 1$$</td><td>$$ 6.7$$</td></tr><tr><td>$$s_4$$</td><td>$$ -3$$</td><td>$$ 2$$</td><td>$$ 0$$</td><td>$$ 0$$</td><td>$$ 0.25$$</td><td>$$ -0.25$$</td><td>$$ 0$$</td><td>$$ 1$$</td><td>$$ 0$$</td><td>$$ 4$$</td></tr></table>"
      ],
      "text/plain": [
       "<IPython.core.display.HTML object>"
      ]
     },
     "metadata": {},
     "output_type": "display_data"
    }
   ],
   "source": [
    "tableau = np.hstack(\n",
    "    (\n",
    "        sol_tableau[:, :-1],\n",
    "        np.array([0, 0.5, 0.5, 1.5]).reshape((4, 1)),\n",
    "        sol_tableau[:, -1:],\n",
    "    )\n",
    ")\n",
    "c_bar = reduced_cost(costs, tableau)\n",
    "print(\"New initial tableau\")\n",
    "print_table(c_bar, tableau, new_variables, c_bold=[8], tableau_bold=(0, 8, 4, 1))\n",
    "\n",
    "print(\"Final tableau\")\n",
    "print_table(*simplex(c_bar, tableau), new_variables)"
   ]
  },
  {
   "cell_type": "markdown",
   "id": "0be3b80e",
   "metadata": {},
   "source": [
    "## Adding new constraint\n",
    "\n",
    "Adding new constraint won't affect optimality, but can affect feasibility.\n",
    "\n",
    "Suppose that our solution satisfy the new constraint, then it will still remain an optimal solution.\n",
    "\n",
    "However, if our solution does not satisfy this new constraint, then we perform the following\n",
    "\n",
    "1. Introduce a new variable $x_{n+1}$\n",
    "    * This is equivalent to a slack variable\n",
    "2. Set the coefficient of this variable to be $0$ in all the constraints, except in the new constraint who has a coefficient of $1$\n",
    "3. Make $\\mathbf x_B \\cup \\{x_{n+1}\\}$ the new basis\n",
    "    * *ie* zero out all the columns associated with basic variables in the new constraint\n",
    "4. If this leads to infeasibility, then perform dual simplex iterations\n",
    "\n",
    "### Example\n",
    "\n",
    "Suppose that now I have another resource that I have to account for: money.\n",
    "\n",
    "And we have the following new LP:"
   ]
  },
  {
   "cell_type": "code",
   "execution_count": 18,
   "id": "1c2230ab",
   "metadata": {},
   "outputs": [
    {
     "name": "stdout",
     "output_type": "stream",
     "text": [
      "New initial tableau\n"
     ]
    },
    {
     "data": {
      "text/html": [
       "<table><tr><th>$$$$</th><th>$$x_1$$</th><th>$$x_2$$</th><th>$$x_3$$</th><th>$$x_4$$</th><th>$$s_1$$</th><th>$$s_2$$</th><th>$$s_3$$</th><th>$$s_4$$</th><th>$$s_5$$</th><th>$$Solution$$</th></tr><tr><td>$$\\mathbf c$$</td><td>$$ -2$$</td><td>$$ -1$$</td><td>$$ -0.5$$</td><td>$$ -0.5$$</td><td>$$ 0$$</td><td>$$ 0$$</td><td>$$ 0$$</td><td>$$ 0$$</td><td>$$ 0$$</td><td>$$ 0$$</td></tr><tr><td>$$\\bar {\\mathbf c}$$</td><td>$$ -2$$</td><td>$$ -1$$</td><td>$$ -0.5$$</td><td>$$ -0.5$$</td><td>$$ 0$$</td><td>$$ 0$$</td><td>$$ 0$$</td><td>$$ 0$$</td><td>$$ 0$$</td><td>$$ 0$$</td></tr><tr><td>$$s_1$$</td><td>$$ 2$$</td><td>$$ 1$$</td><td>$$ 0.5$$</td><td>$$ 1$$</td><td>$$ 1$$</td><td>$$ 0$$</td><td>$$ 0$$</td><td>$$ 0$$</td><td>$$ 0$$</td><td>$$ 8$$</td></tr><tr><td>$$s_2$$</td><td>$$ 2$$</td><td>$$ 1$$</td><td>$$ 0.5$$</td><td>$$ -3$$</td><td>$$ 0$$</td><td>$$ 1$$</td><td>$$ 0$$</td><td>$$ 0$$</td><td>$$ 0$$</td><td>$$ 4$$</td></tr><tr><td>$$s_3$$</td><td>$$ 1$$</td><td>$$ 1$$</td><td>$$ -2$$</td><td>$$ 0.5$$</td><td>$$ 0$$</td><td>$$ 0$$</td><td>$$ 1$$</td><td>$$ 0$$</td><td>$$ 0$$</td><td>$$ 6$$</td></tr><tr><td>$$s_4$$</td><td>$$ -3$$</td><td>$$ 2$$</td><td>$$ 0$$</td><td>$$ -1$$</td><td>$$ 0$$</td><td>$$ 0$$</td><td>$$ 0$$</td><td>$$ 1$$</td><td>$$ 0$$</td><td>$$ 3$$</td></tr><tr><td>$$s_5$$</td><td>$$\\bf 1$$</td><td>$$\\bf 0$$</td><td>$$\\bf 2$$</td><td>$$\\bf 0$$</td><td>$$\\bf 0$$</td><td>$$\\bf 0$$</td><td>$$\\bf 0$$</td><td>$$\\bf 0$$</td><td>$$\\bf 1$$</td><td>$$\\bf 3$$</td></tr></table>"
      ],
      "text/plain": [
       "<IPython.core.display.HTML object>"
      ]
     },
     "metadata": {},
     "output_type": "display_data"
    },
    {
     "name": "stdout",
     "output_type": "stream",
     "text": [
      "Final tableau\n"
     ]
    },
    {
     "data": {
      "text/html": [
       "<table><tr><th>$$$$</th><th>$$x_1$$</th><th>$$x_2$$</th><th>$$x_3$$</th><th>$$x_4$$</th><th>$$s_1$$</th><th>$$s_2$$</th><th>$$s_3$$</th><th>$$s_4$$</th><th>$$s_5$$</th><th>$$Solution$$</th></tr><tr><td>$$\\bar {\\mathbf c}$$</td><td>$$ 0$$</td><td>$$ 0$$</td><td>$$ 0$$</td><td>$$ 0$$</td><td>$$ 0.875$$</td><td>$$ 0.125$$</td><td>$$ 0$$</td><td>$$ 0$$</td><td>$$ 0$$</td><td>$$ 7.5$$</td></tr><tr><td>$$x_2$$</td><td>$$ 0$$</td><td>$$ 1$$</td><td>$$ -3.5$$</td><td>$$ 0$$</td><td>$$ 0.75$$</td><td>$$ 0.25$$</td><td>$$ 0$$</td><td>$$ 0$$</td><td>$$ -2$$</td><td>$$ 1$$</td></tr><tr><td>$$x_1$$</td><td>$$ 1$$</td><td>$$ 0$$</td><td>$$ 2$$</td><td>$$ 0$$</td><td>$$ 0$$</td><td>$$ 0$$</td><td>$$ 0$$</td><td>$$ 0$$</td><td>$$ 1$$</td><td>$$ 3$$</td></tr><tr><td>$$s_3$$</td><td>$$ 0$$</td><td>$$ 0$$</td><td>$$ -0.5$$</td><td>$$ 0$$</td><td>$$ -0.875$$</td><td>$$ -0.125$$</td><td>$$ 1$$</td><td>$$ 0$$</td><td>$$ 1$$</td><td>$$ 1.5$$</td></tr><tr><td>$$s_4$$</td><td>$$ 0$$</td><td>$$ 0$$</td><td>$$ 13$$</td><td>$$ 0$$</td><td>$$ -1.25$$</td><td>$$ -0.75$$</td><td>$$ 0$$</td><td>$$ 1$$</td><td>$$ 7$$</td><td>$$ 11$$</td></tr><tr><td>$$x_4$$</td><td>$$ 0$$</td><td>$$ 0$$</td><td>$$ 0$$</td><td>$$ 1$$</td><td>$$ 0.25$$</td><td>$$ -0.25$$</td><td>$$ 0$$</td><td>$$ 0$$</td><td>$$ 0$$</td><td>$$ 1$$</td></tr></table>"
      ],
      "text/plain": [
       "<IPython.core.display.HTML object>"
      ]
     },
     "metadata": {},
     "output_type": "display_data"
    }
   ],
   "source": [
    "# We need to introduce slack variable\n",
    "costs = np.concatenate((orig_costs[:-1], [0], orig_costs[-1:]))\n",
    "tableau = np.hstack((orig_tableau[:, :-1], np.zeros((4, 1)), orig_tableau[:, -1:]))\n",
    "tableau = np.vstack((tableau, [1, 0, 2, 0, 0, 0, 0, 0, 1, 3]))\n",
    "c_bar = reduced_cost(costs, tableau)\n",
    "new_variables = variables + [\"s_5\"]\n",
    "\n",
    "print(\"New initial tableau\")\n",
    "print_table(c_bar, tableau, new_variables, c=costs, tableau_bold=(4, 0, 1, 10))\n",
    "\n",
    "print(\"Final tableau\")\n",
    "print_table(*simplex(c_bar, tableau), new_variables)"
   ]
  },
  {
   "cell_type": "markdown",
   "id": "cb516da4",
   "metadata": {},
   "source": [
    "From our previous solution, we add the new constraint"
   ]
  },
  {
   "cell_type": "code",
   "execution_count": 19,
   "id": "657ac636",
   "metadata": {},
   "outputs": [
    {
     "data": {
      "text/html": [
       "<table><tr><th>$$$$</th><th>$$x_1$$</th><th>$$x_2$$</th><th>$$x_3$$</th><th>$$x_4$$</th><th>$$s_1$$</th><th>$$s_2$$</th><th>$$s_3$$</th><th>$$s_4$$</th><th>$$s_5$$</th><th>$$Solution$$</th></tr><tr><td>$$\\bar {\\mathbf c}$$</td><td>$$ -2$$</td><td>$$ -1$$</td><td>$$ -0.5$$</td><td>$$ -0.5$$</td><td>$$ 0$$</td><td>$$ 0$$</td><td>$$ 0$$</td><td>$$ 0$$</td><td>$$ 0$$</td><td>$$ 0$$</td></tr><tr><td>$$x_4$$</td><td>$$ 0$$</td><td>$$ 0$$</td><td>$$ 0$$</td><td>$$ 1$$</td><td>$$ 0.25$$</td><td>$$ -0.25$$</td><td>$$ 0$$</td><td>$$ 0$$</td><td>$$ 0$$</td><td>$$ 1$$</td></tr><tr><td>$$x_4$$</td><td>$$ 1$$</td><td>$$ 0.5$$</td><td>$$ 0.25$$</td><td>$$ 0$$</td><td>$$ 0.375$$</td><td>$$ 0.125$$</td><td>$$ 0$$</td><td>$$ 0$$</td><td>$$ 0$$</td><td>$$ 3.5$$</td></tr><tr><td>$$s_3$$</td><td>$$ 0$$</td><td>$$ 0.5$$</td><td>$$ -2.25$$</td><td>$$ 0$$</td><td>$$ -0.5$$</td><td>$$ 0$$</td><td>$$ 1$$</td><td>$$ 0$$</td><td>$$ 0$$</td><td>$$ 2$$</td></tr><tr><td>$$s_4$$</td><td>$$ 0$$</td><td>$$ 3.5$$</td><td>$$ 0.75$$</td><td>$$ 0$$</td><td>$$ 1.375$$</td><td>$$ 0.125$$</td><td>$$ 0$$</td><td>$$ 1$$</td><td>$$ 0$$</td><td>$$ 14.5$$</td></tr><tr><td>$$s_5$$</td><td>$$\\bf 1$$</td><td>$$\\bf 0$$</td><td>$$\\bf 2$$</td><td>$$\\bf 0$$</td><td>$$\\bf 0$$</td><td>$$\\bf 0$$</td><td>$$\\bf 0$$</td><td>$$\\bf 0$$</td><td>$$\\bf 1$$</td><td>$$\\bf 3$$</td></tr></table>"
      ],
      "text/plain": [
       "<IPython.core.display.HTML object>"
      ]
     },
     "metadata": {},
     "output_type": "display_data"
    }
   ],
   "source": [
    "tableau = np.hstack((sol_tableau[:, :-1], np.zeros((4, 1)), sol_tableau[:, -1:]))\n",
    "tableau = np.vstack((tableau, [1, 0, 2, 0, 0, 0, 0, 0, 1, 3]))\n",
    "print_table(costs, tableau, new_variables, tableau_bold=(4, 0, 1, 10))"
   ]
  },
  {
   "cell_type": "markdown",
   "id": "62f0f11b",
   "metadata": {},
   "source": [
    "Zero out all the basis columns in the new constraint."
   ]
  },
  {
   "cell_type": "code",
   "execution_count": 20,
   "id": "94718990",
   "metadata": {},
   "outputs": [
    {
     "data": {
      "text/html": [
       "<table><tr><th>$$$$</th><th>$$x_1$$</th><th>$$x_2$$</th><th>$$x_3$$</th><th>$$x_4$$</th><th>$$s_1$$</th><th>$$s_2$$</th><th>$$s_3$$</th><th>$$s_4$$</th><th>$$s_5$$</th><th>$$Solution$$</th></tr><tr><td>$$\\bar {\\mathbf c}$$</td><td>$$ -2$$</td><td>$$ -1$$</td><td>$$ -0.5$$</td><td>$$ -0.5$$</td><td>$$ 0$$</td><td>$$ 0$$</td><td>$$ 0$$</td><td>$$ 0$$</td><td>$$ 0$$</td><td>$$ 0$$</td></tr><tr><td>$$x_4$$</td><td>$$ 0$$</td><td>$$ 0$$</td><td>$$ 0$$</td><td>$$ 1$$</td><td>$$ 0.25$$</td><td>$$ -0.25$$</td><td>$$ 0$$</td><td>$$ 0$$</td><td>$$ 0$$</td><td>$$ 1$$</td></tr><tr><td>$$x_1$$</td><td>$$ 1$$</td><td>$$ 0.5$$</td><td>$$ 0.25$$</td><td>$$ 0$$</td><td>$$ 0.375$$</td><td>$$ 0.125$$</td><td>$$ 0$$</td><td>$$ 0$$</td><td>$$ 0$$</td><td>$$ 3.5$$</td></tr><tr><td>$$s_3$$</td><td>$$ 0$$</td><td>$$ 0.5$$</td><td>$$ -2.25$$</td><td>$$ 0$$</td><td>$$ -0.5$$</td><td>$$ 0$$</td><td>$$ 1$$</td><td>$$ 0$$</td><td>$$ 0$$</td><td>$$ 2$$</td></tr><tr><td>$$s_4$$</td><td>$$ 0$$</td><td>$$ 3.5$$</td><td>$$ 0.75$$</td><td>$$ 0$$</td><td>$$ 1.375$$</td><td>$$ 0.125$$</td><td>$$ 0$$</td><td>$$ 1$$</td><td>$$ 0$$</td><td>$$ 14.5$$</td></tr><tr><td>$$s_5$$</td><td>$$ 0$$</td><td>$$ -0.5$$</td><td>$$ 1.75$$</td><td>$$ 0$$</td><td>$$ -0.375$$</td><td>$$ -0.125$$</td><td>$$ 0$$</td><td>$$ 0$$</td><td>$$ 1$$</td><td>$$ -0.5$$</td></tr></table>"
      ],
      "text/plain": [
       "<IPython.core.display.HTML object>"
      ]
     },
     "metadata": {},
     "output_type": "display_data"
    }
   ],
   "source": [
    "tableau[-1] -= tableau[1]\n",
    "print_table(costs, tableau, new_variables)"
   ]
  },
  {
   "cell_type": "markdown",
   "id": "cb8ba317",
   "metadata": {},
   "source": [
    "Now that it has becomes infeasible, we simply perform dual simplex iterations on it."
   ]
  },
  {
   "cell_type": "code",
   "execution_count": 21,
   "id": "3a3e7dd4",
   "metadata": {},
   "outputs": [
    {
     "data": {
      "text/html": [
       "<table><tr><th>$$$$</th><th>$$x_1$$</th><th>$$x_2$$</th><th>$$x_3$$</th><th>$$x_4$$</th><th>$$s_1$$</th><th>$$s_2$$</th><th>$$s_3$$</th><th>$$s_4$$</th><th>$$s_5$$</th><th>$$Solution$$</th></tr><tr><td>$$\\bar {\\mathbf c}$$</td><td>$$ 0$$</td><td>$$ 0$$</td><td>$$ 0$$</td><td>$$ 0$$</td><td>$$ 0.875$$</td><td>$$ 0.125$$</td><td>$$ 0$$</td><td>$$ 0$$</td><td>$$ 0$$</td><td>$$ 7.5$$</td></tr><tr><td>$$x_4$$</td><td>$$ 0$$</td><td>$$ 0$$</td><td>$$ 0$$</td><td>$$ 1$$</td><td>$$ 0.25$$</td><td>$$ -0.25$$</td><td>$$ 0$$</td><td>$$ 0$$</td><td>$$ 0$$</td><td>$$ 1$$</td></tr><tr><td>$$x_1$$</td><td>$$ 1$$</td><td>$$ 0$$</td><td>$$ 2$$</td><td>$$ 0$$</td><td>$$ 0$$</td><td>$$ 0$$</td><td>$$ 0$$</td><td>$$ 0$$</td><td>$$ 1$$</td><td>$$ 3$$</td></tr><tr><td>$$s_3$$</td><td>$$ 0$$</td><td>$$ 0$$</td><td>$$ -0.5$$</td><td>$$ 0$$</td><td>$$ -0.875$$</td><td>$$ -0.125$$</td><td>$$ 1$$</td><td>$$ 0$$</td><td>$$ 1$$</td><td>$$ 1.5$$</td></tr><tr><td>$$s_4$$</td><td>$$ 0$$</td><td>$$ 0$$</td><td>$$ 13$$</td><td>$$ 0$$</td><td>$$ -1.25$$</td><td>$$ -0.75$$</td><td>$$ 0$$</td><td>$$ 1$$</td><td>$$ 7$$</td><td>$$ 11$$</td></tr><tr><td>$$x_2$$</td><td>$$ 0$$</td><td>$$ 1$$</td><td>$$ -3.5$$</td><td>$$ 0$$</td><td>$$ 0.75$$</td><td>$$ 0.25$$</td><td>$$ 0$$</td><td>$$ 0$$</td><td>$$ -2$$</td><td>$$ 1$$</td></tr></table>"
      ],
      "text/plain": [
       "<IPython.core.display.HTML object>"
      ]
     },
     "metadata": {},
     "output_type": "display_data"
    }
   ],
   "source": [
    "c_bar = reduced_cost(costs, tableau)\n",
    "\n",
    "print_table(*dual_simplex(c_bar, tableau), new_variables)"
   ]
  },
  {
   "cell_type": "markdown",
   "id": "09b59bd3",
   "metadata": {},
   "source": [
    "Once again, we arrived at the same solution."
   ]
  }
 ],
 "metadata": {
  "kernelspec": {
   "display_name": "Python 3 (ipykernel)",
   "language": "python",
   "name": "python3"
  },
  "language_info": {
   "codemirror_mode": {
    "name": "ipython",
    "version": 3
   },
   "file_extension": ".py",
   "mimetype": "text/x-python",
   "name": "python",
   "nbconvert_exporter": "python",
   "pygments_lexer": "ipython3",
   "version": "3.10.2"
  }
 },
 "nbformat": 4,
 "nbformat_minor": 5
}
