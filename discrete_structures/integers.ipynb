{
 "cells": [
  {
   "cell_type": "code",
   "execution_count": 1,
   "id": "c16ea139",
   "metadata": {},
   "outputs": [],
   "source": [
    "from common.utility import show_implementation"
   ]
  },
  {
   "cell_type": "code",
   "execution_count": null,
   "id": "965c8588",
   "metadata": {},
   "outputs": [],
   "source": []
  },
  {
   "cell_type": "code",
   "execution_count": null,
   "id": "c445ca37",
   "metadata": {},
   "outputs": [],
   "source": []
  },
  {
   "cell_type": "markdown",
   "id": "17ea0eef",
   "metadata": {},
   "source": [
    "### Greatest common divisor"
   ]
  },
  {
   "cell_type": "code",
   "execution_count": null,
   "id": "bfe10b06",
   "metadata": {},
   "outputs": [],
   "source": []
  },
  {
   "cell_type": "code",
   "execution_count": null,
   "id": "1ca08396",
   "metadata": {},
   "outputs": [],
   "source": []
  },
  {
   "cell_type": "code",
   "execution_count": null,
   "id": "2805618f",
   "metadata": {},
   "outputs": [],
   "source": []
  },
  {
   "cell_type": "markdown",
   "id": "de095a95",
   "metadata": {},
   "source": [
    "## Extended Euclid's algorithm <span id = \"extended-euclids-algorithm\"/>"
   ]
  },
  {
   "cell_type": "code",
   "execution_count": 2,
   "id": "9ddf540c",
   "metadata": {},
   "outputs": [
    {
     "name": "stdout",
     "output_type": "stream",
     "text": [
      "def extended_euclid(n, m):\n",
      "    quotients, modulos = [], []\n",
      "    \n",
      "    while n % m > 0:\n",
      "        quotients.append(n // m)\n",
      "        modulos.append(m)\n",
      "        n, m = m, n % m\n",
      "        \n",
      "    small_factor, big_factor = -quotients[-1], 1\n",
      "    \n",
      "    for q in reversed(quotients[:-1]):\n",
      "        small_factor, big_factor = small_factor * -q + big_factor, small_factor\n",
      "    \n",
      "    # gcd(n,m) = pn + qm\n",
      "    gcd, p, q = m, big_factor, small_factor\n",
      "    return gcd, p, q\n"
     ]
    }
   ],
   "source": [
    "from module.euclids_algorithm import extended_euclid\n",
    "\n",
    "show_implementation(extended_euclid)"
   ]
  },
  {
   "cell_type": "code",
   "execution_count": null,
   "id": "db5d08a1",
   "metadata": {},
   "outputs": [],
   "source": []
  },
  {
   "cell_type": "code",
   "execution_count": null,
   "id": "3061461d",
   "metadata": {},
   "outputs": [],
   "source": []
  },
  {
   "cell_type": "code",
   "execution_count": null,
   "id": "bd8c287e",
   "metadata": {},
   "outputs": [],
   "source": []
  },
  {
   "cell_type": "code",
   "execution_count": null,
   "id": "ee50c376",
   "metadata": {},
   "outputs": [],
   "source": []
  },
  {
   "cell_type": "code",
   "execution_count": null,
   "id": "7494c1a8",
   "metadata": {},
   "outputs": [],
   "source": []
  }
 ],
 "metadata": {
  "kernelspec": {
   "display_name": "Python 3 (ipykernel)",
   "language": "python",
   "name": "python3"
  },
  "language_info": {
   "codemirror_mode": {
    "name": "ipython",
    "version": 3
   },
   "file_extension": ".py",
   "mimetype": "text/x-python",
   "name": "python",
   "nbconvert_exporter": "python",
   "pygments_lexer": "ipython3",
   "version": "3.11.3"
  }
 },
 "nbformat": 4,
 "nbformat_minor": 5
}
