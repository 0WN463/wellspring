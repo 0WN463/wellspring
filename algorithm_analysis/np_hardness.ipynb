{
 "cells": [
  {
   "cell_type": "markdown",
   "id": "41e70a22",
   "metadata": {},
   "source": [
    "$$\n",
    "\\newcommand{proof}{\\textbf{Proof: }}\n",
    "$$"
   ]
  },
  {
   "cell_type": "markdown",
   "id": "a3b90492",
   "metadata": {},
   "source": [
    "# NP-hardness\n"
   ]
  },
  {
   "cell_type": "markdown",
   "id": "238eb922",
   "metadata": {},
   "source": [
    "For this chapter, we refer to *polynomial time* algorithm, that is $O(n^k)$, when talking about efficient algorithm."
   ]
  },
  {
   "cell_type": "markdown",
   "id": "382013d9",
   "metadata": {},
   "source": [
    "## Reduction\n",
    "A problem A reduces to problem B if an efficient algorithm for problem B implies a efficient algorithm for problem A.\n",
    "\n",
    "Some examples include:\n",
    "* Squaring integer reduces to multiplying two integers\n",
    "    * Given algorithm `mult(a,b)`, to obtain `square(a) = mult(a,a)`\n",
    "* Median finding reduces to finding $k$-th smallest element\n",
    "    * Given algorithm `select(arr,k)`, to obtain `median(arr) = select(arr, len(arr)/2)` (assuming odd length)\n",
    "\n",
    "Note that throughout the chapter, we assume that we are talking about *efficient* reduction when we refer to reduction. \n",
    "Usually, seeing whether a reduction is efficient is rather straightforward, and may be omitted during some of our proofs."
   ]
  },
  {
   "cell_type": "markdown",
   "id": "29ee958e",
   "metadata": {},
   "source": [
    "Hence, A reduces to B implies that:\n",
    "* If B is easy, then A is easy\n",
    "* If A is hard, then B is hard (Contrapositive)"
   ]
  },
  {
   "cell_type": "markdown",
   "id": "1a46ed83",
   "metadata": {},
   "source": [
    "For example, we can say that since squaring an integer reduces to multiplying two integers, we know that:\n",
    "1. Squaring integers is at least as easy as multiplying integers\n",
    "2. In other words, multiplying integers must be at least as hard as squaring integers"
   ]
  },
  {
   "cell_type": "markdown",
   "id": "f2a2c9bd",
   "metadata": {},
   "source": [
    "## P vs NP\n",
    "A *decision problem* is a problem whose output is a boolean.\n",
    "\n",
    "There are 3 classes of decision problems:\n",
    "\n",
    "### P\n",
    "P is the set of problems that can be solve in polynomial time.\n",
    "In layman terms, this means it can be solved quickly.\n",
    "\n",
    "### NP\n",
    "NP is the set of problems that: If the answer is `true`, then there is a proving method that can check it in polynomial time.\n",
    "In layman terms, these are problems that we can verify quickly if we given a solution.\n",
    "\n",
    "### co-NP\n",
    "This is the opposite of NP, where if the answer is `false`, then we can prove it in polynomial time.\n",
    "\n",
    "Notice that if a problem is P, it is also both NP and co-NP, as we can use \"solving algorithm\" to verify the result."
   ]
  },
  {
   "cell_type": "markdown",
   "id": "3b62fe3b",
   "metadata": {},
   "source": [
    "### Karp reduction\n",
    "Another method to check if a reduction from A to B is valid is by checking that:\n",
    "* for all inputs which generates `true` with solution B, the corresponding inputs for problem A would produce `true` too\n",
    "* for all inputs which generates `false` with solution B, the corresponding inputs for problem A would produce `false` too\n",
    "    * or we can use the contrapositive, where a `true` solution in A corresponds to a `true` solution in B"
   ]
  },
  {
   "cell_type": "markdown",
   "id": "43c999b8",
   "metadata": {},
   "source": [
    "## NP-hardness/completeness\n",
    "\n",
    "A problem is **NP-hard** if it is at least as hard as any problem A in NP.\n",
    "This means with a NP-hard problem A, for any problem $B$ in NP, there is an efficient reduction from B to A."
   ]
  },
  {
   "cell_type": "markdown",
   "id": "64342848",
   "metadata": {},
   "source": [
    "And if a problem is both NP-hard and is in NP, it is said to be **NP-complete**.\n",
    "\n",
    "Note that this means that all NP-complete problems are equally hard\n",
    "\n",
    "<details>\n",
    "<summary style=\"color: blue\">$\\proof$ (Click to expand)</summary>\n",
    "<div style=\"background: aliceblue\">\n",
    "<p>\n",
    "Given two problems $A,B$ in NP-complete:\n",
    "<ol>\n",
    "    <li> Since NP-complete implies it is NP-hard, problem A is as hard as any problem in NP</li>\n",
    "    <li> Since NP-complete implies NP, problem B is in NP </li>\n",
    "    <li> Therefore, problem A is as hard as B, and vice versa </li>\n",
    "</ol>\n",
    "$$\n",
    "QED\n",
    "$$\n",
    "    </p>\n",
    "</div>\n",
    "</details>\n"
   ]
  },
  {
   "cell_type": "markdown",
   "id": "c22904d2",
   "metadata": {},
   "source": [
    "## Circuit-SAT\n",
    "Given a circuit, consisting of input wires connected by AND, OR and NOT gates, we are asked whether there is a configuration of input such that the output wire is on.\n",
    "\n",
    "This is the circuit-SAT problem\n",
    "\n"
   ]
  },
  {
   "cell_type": "markdown",
   "id": "5309a30a",
   "metadata": {},
   "source": [
    "By the Cook-Levin theorem, this is proven to be NP-hard.\n",
    "The amazing thing about this theorem is that it proved **all** problems in NP can be reduced to circuit SAT; in order words, all problem in NP is at most as hard as circuit SAT."
   ]
  },
  {
   "cell_type": "markdown",
   "id": "2ff32c06",
   "metadata": {},
   "source": [
    "The proof is difficult, but we will use this fact to prove our other theorems."
   ]
  },
  {
   "cell_type": "markdown",
   "id": "655ea46c",
   "metadata": {},
   "source": [
    "## Proving NP-hardness\n",
    "\n",
    "To prove a problem $A$ is NP-hard, we simply find a reduction of any problem NP-hard problem, and reduce it to A.\n",
    "Since circuit SAT is known to be NP-hard, we can use it as a springboard to find other NP-hard problems."
   ]
  },
  {
   "cell_type": "markdown",
   "id": "086fc67f",
   "metadata": {},
   "source": [
    "## SAT"
   ]
  },
  {
   "cell_type": "markdown",
   "id": "c883f565",
   "metadata": {},
   "source": [
    "\n",
    "\n",
    "Given a statement consisting of a set of input variables, and a statement consisting of variables and boolean operators ($AND/OR/NOT$), we are ask whether there exists some set of input such that the statement is true."
   ]
  },
  {
   "cell_type": "markdown",
   "id": "dc7d0392",
   "metadata": {},
   "source": [
    "For example, $A \\land B \\land (\\lnot C)$ can be solved using $A=true, B=true, C=false$.\n",
    "\n",
    "While $A \\land \\lnot A$ has no solutions."
   ]
  },
  {
   "cell_type": "markdown",
   "id": "4b54736d",
   "metadata": {},
   "source": [
    "### Reduction from circuit SAT\n",
    "\n",
    "For any circuit-SAT problem, we can produce the underlying general SAT representation simply by labeling the input, tracing the circuit and composing the gates as boolean operators together.\n",
    "\n",
    "<span hidden>TODO: Add circuit diagram</span>\n",
    "\n",
    "Since there is a bijection between the circuit and the statement, this reduction is valid and efficient."
   ]
  },
  {
   "cell_type": "markdown",
   "id": "a9afbe24",
   "metadata": {},
   "source": [
    "Hence, we have proven that general SAT is NP-hard. And since given a solution, we can verify that the solution is correct in polynomial time, SAT is NP and thus is NP-complete."
   ]
  },
  {
   "cell_type": "markdown",
   "id": "975b21d3",
   "metadata": {},
   "source": [
    "## 3-SAT"
   ]
  },
  {
   "cell_type": "markdown",
   "id": "363168cd",
   "metadata": {},
   "source": [
    "We will now consider the [*conjunctive normal form* (CNF)](../ai/logical_inferences.ipynb#Conjunction-normal-form).\n",
    "\n",
    "For example\n",
    "\n",
    "$$\n",
    "(a \\lor b \\lor c) \\land (a \\lor \\lnot b \\lor c) \\land (b \\lor d \\lor e) \\land (a \\lor \\lnot d \\lor \\lnot e)\n",
    "$$"
   ]
  },
  {
   "cell_type": "markdown",
   "id": "12abfa2b",
   "metadata": {},
   "source": [
    "A 3-CNF is a CNF where each clause has exactly 3 literals, as per above."
   ]
  },
  {
   "cell_type": "markdown",
   "id": "46921806",
   "metadata": {},
   "source": [
    "The 3-SAT problem is given a 3-CNF, evaluate whether there is an assignment which leads to it being `true`."
   ]
  },
  {
   "cell_type": "markdown",
   "id": "392199a7",
   "metadata": {},
   "source": [
    "To prove that this is NP-hard, we will reduce SAT into it.\n",
    "\n",
    "Firstly, suppose that the SAT's input is in the form of $x_1, \\dots, x_n$.\n",
    "We will relabel the inputs in the formula into $y_1, \\dots, y_n$.\n",
    "\n",
    "Now, for each clause $c=f(Y)$ containing only $y$ variables, we create the following clauses:\n",
    "$$\n",
    "c = f(Y) \\Leftrightarrow (c \\lor \\lnot f(Y)) \\land (\\lnot c \\lor f(Y))\n",
    "$$"
   ]
  },
  {
   "cell_type": "markdown",
   "id": "5920a788",
   "metadata": {},
   "source": [
    "**Notice that the two are equivalent, because $c = f(Y)$ is only true when the RHS is true, and false when the RHS is false (thus this forms a [Karp reduction](#Karp-reduction)).**"
   ]
  },
  {
   "cell_type": "markdown",
   "id": "3179feb3",
   "metadata": {},
   "source": [
    "Expanding this out for all the operators, we get:\n",
    "$$\n",
    "\\begin{align}\n",
    "c = y_1 \\land y_2 &\\Leftrightarrow (c \\lor \\lnot(y_1 \\land y_2)) \\land (\\lnot c \\lor (y_1 \\land y_2)) \\\\ \n",
    "&= (c \\lor \\lnot y_1 \\lor \\lnot y_2) \\land (\\lnot c \\lor y_1 ) \\land (\\lnot c \\lor y_2) \\\\\n",
    "c = y_1 \\lor y_2 &\\Leftrightarrow (c \\lor \\lnot(y_1 \\lor y_2)) \\land (\\lnot c \\lor (y_1 \\lor y_2)) \\\\ \n",
    "&= (c \\lor (\\lnot y_1 \\land \\lnot y_2)) \\land (\\lnot c \\lor y_1 \\lor y_2) \\\\\n",
    "&= (c \\lor \\lnot y_1) \\land (c \\lor \\lnot y_2) \\land (\\lnot c \\lor y_1 \\lor y_2) \\\\\n",
    "c = \\lnot y_1 &\\Leftrightarrow (c \\lor y_1) \\land (\\lnot c \\lor \\lnot y_1)\n",
    "\\end{align}\n",
    "$$"
   ]
  },
  {
   "cell_type": "markdown",
   "id": "d4940e88",
   "metadata": {},
   "source": [
    "Now, we can replace $c$ with $y_{n+1}$, and repeat the process for the next clause.\n",
    "We then repeat this for all the clauses until we are left with a set of clauses, with some new variables."
   ]
  },
  {
   "cell_type": "markdown",
   "id": "39af6e0b",
   "metadata": {},
   "source": [
    "However, our clauses at at most length 3, not necessarily length 3.\n",
    "Thus, we can extend it by adding auxiliary variables:\n",
    "$$\n",
    "a \\lor b \\Rightarrow (a \\lor b \\lor x) \\land (a \\lor b \\lor \\lnot x) \\\\\n",
    "a \\Rightarrow (a \\lor x \\lor y) \\land (a \\lor x \\lor \\lnot y)\n",
    "\\land (a \\lor \\lnot x \\lor y) \\land (a \\lor \\lnot x \\lor \\lnot y) \\\\\n",
    "$$"
   ]
  },
  {
   "cell_type": "markdown",
   "id": "7599d6a0",
   "metadata": {},
   "source": [
    "Thus, we now have a set of 3-clauses, and thus can perform a conjunction across them to get our 3-CNF."
   ]
  },
  {
   "cell_type": "markdown",
   "id": "8f40c89a",
   "metadata": {},
   "source": [
    "Notice that we only add at most some constant number of variables for each clause in the SAT problem, thus this reduction is efficient."
   ]
  },
  {
   "cell_type": "markdown",
   "id": "bb66a2f6",
   "metadata": {},
   "source": [
    "Since we have reduced SAT into 3-SAT, 3-SAT is NP-hard.\n",
    "And since we know 3-SAT is NP, it is NP-complete."
   ]
  },
  {
   "cell_type": "markdown",
   "id": "597647a2",
   "metadata": {},
   "source": [
    "## Maximum independent set\n",
    "\n",
    "From graph theory, we know the definition of an [independent set](../graph_theory/matching_independence_covering.ipynb#Independent-Set).\n",
    "\n",
    "The *maximum independent set problem* is given a graph and some integer $k$, we are ask whether there exists an independent set of size $k$."
   ]
  },
  {
   "cell_type": "markdown",
   "id": "52d32501",
   "metadata": {},
   "source": [
    "### Reduction from 3-SAT\n",
    "\n",
    "Suppose that our 3-SAT has $k$ clauses.\n",
    "We will now produce a graph with $3k$ vertices, where each literal in each clause correspond to a new vertex (remember that 3-SAT has 3 literal per clause).\n",
    "\n",
    "Then, we add an edge between two vertices if they either:\n",
    "* correspond to literals inside the same clause\n",
    "* are negations of each other\n",
    "\n",
    "For example, the following 3-CNF\n",
    "$$\n",
    "(a \\lor b \\lor c) \\land (a \\lor b \\lor \\lnot c)\n",
    "$$\n",
    "\n",
    "correspond to the following graph after reduction\n",
    "\n",
    "```\n",
    "V = (a_1, b_1, c_1, a_2, b_2, c_2)\n",
    "E = [\n",
    "a_1 - b_1\n",
    "a_1 - c_1\n",
    "c_1 - a_1\n",
    "a_2 - b_2\n",
    "b_2 - c_2\n",
    "c_2 - a_2\n",
    "c_1 - c_2\n",
    "]\n",
    "```\n",
    "\n",
    "<span hidden> TODO: draw better graph</span>\n",
    "\n",
    "\n",
    "Since there is a solution to the 3-CNF (for example $a=true,b=true,c=false)$, there must be some independent set of size $k=2$ in the graph if our reduction is correct.\n",
    "One such solution is $\\{a_1, b_2\\}$\n",
    "\n",
    "Notice that we add 1 vertex for each literal and at most 6 edges per clause, thus this reduction is efficient."
   ]
  },
  {
   "cell_type": "markdown",
   "id": "c728b250",
   "metadata": {},
   "source": [
    "#### Proof of reduction\n",
    "##### 3-SAT $\\Rightarrow$ MIS\n",
    "Suppose that we are given a solution to the 3-CNF problem.\n",
    "\n",
    "1. Since it is a solution, at least 1 literal of every clause must be true\n",
    "2. Select any vertex that correspond to the literal and add it to our independent set\n",
    "    * In our example, $a,b$ is true for the first clause, and $a,b,\\lnot c$ is true for the second clause.\n",
    "    * This correspond to the vertices $a_1, b_1$ and $a_2,b_2, c_2$ respectively\n",
    "3. This forms our independent set of size $k$\n",
    "    * Thus any set in $\\{a_1, b_1\\} \\times \\{a_2, b_2, c_2\\}$ is an independent set of size $k$, where $\\times$ is the cartesian product\n",
    "\n",
    "We know that there will not be an edge within our generated set because:\n",
    "1. there is only edges between literals within the same clause and between vertices are the negation of each other\n",
    "2. we will not have 2 vertices belonging to literals of the same clause because we only chose 1 vertex per clause\n",
    "3. we also will not have 2 vertices that are negation of each other in our set, otherwise both $x$ and $\\lnot x$ is satisfied in the solution of the 3-CNF, which is impossible.\n",
    "\n",
    "Hence, our set of size $k$ must form an independent set."
   ]
  },
  {
   "cell_type": "markdown",
   "id": "c50d11de",
   "metadata": {},
   "source": [
    "##### MIS $\\Rightarrow$ 3-SAT\n",
    "\n",
    "For the reverse direction, given an independent set of size $k$ in the graph\n",
    "\n",
    "1. For each set of 3 vertices that correspond to the same clause, notice that there must be 1 vertex in each clause that is within the independent set\n",
    "    * because we have to select $k$ vertices\n",
    "    * and we cannot select 2 vertex that are within the same clause as there is an edge between vertices of the same clause\n",
    "2. For each of these vertices, we map it back into their literal\n",
    "3. The truth value of these literals will be our solution to the 3-CNF\n",
    "    * since at least 1 vertex is from each clause, every clause must be satisfied\n",
    "    * and there cannot be a contraction because both $x$ and $\\lnot x$ cannot be true at the same time, otherwise there would be an edge within our solution for the independent set.\n",
    "    \n",
    "Hence, this forms a Karp reduction and hence proves that the independent set problem is NP-hard."
   ]
  },
  {
   "cell_type": "markdown",
   "id": "2323ece7",
   "metadata": {},
   "source": [
    "## Max Clique\n",
    "For a given graph, a clique is a set of vertices such that there is an edge for all pairs of vertices in the set.\n",
    "\n",
    "The max clique problem is asking us whether there exists a clique of size $k$ in a given graph.\n",
    "\n",
    "### Reduction from independent set\n",
    "\n",
    "The reduction is rather straightforward.\n",
    "\n",
    "For any independent set of size $k$ in $G$, we consider the [complement graph](../graph_theory/introduction.ipynb#Complement) $G'$.\n",
    "\n",
    "Notice that he corresponding set of vertices in $G'$ must form a clique of size $k$, and vice versa.\n",
    "\n",
    "Thus, it follows that max clique problem is NP-hard."
   ]
  },
  {
   "cell_type": "markdown",
   "id": "b32227bd",
   "metadata": {},
   "source": [
    "## Vertex cover\n",
    "The vertex cover problem is on where we ask if there exists a [vertex cover](../graph_theory/matching_independence_covering.ipynb#Cover) of size $k$ for some given graph.\n",
    "\n",
    "### Reduction from maximum independent set\n",
    "From graph theory, the [bijection between vertex cover and independent set](../graph_theory/matching_independence_covering.ipynb#independent-set-vertex-cover) was establish, and forms a reduction.\n",
    "Hence, the vertex cover problem is NP-hard."
   ]
  },
  {
   "cell_type": "markdown",
   "id": "0efed6f0",
   "metadata": {},
   "source": [
    "## 3-colouring\n",
    "\n",
    "TODO"
   ]
  },
  {
   "cell_type": "markdown",
   "id": "5ef17943",
   "metadata": {},
   "source": [
    "<details>\n",
    "    <summary style=\"color: blue\">Alternative derivation (Click to expand)</summary>\n",
    "    <div style=\"background: aliceblue\">\n",
    "        <p>\n",
    "        We can instead, solve the problem recursively.\n",
    "        </p>\n",
    "        <p>\n",
    "        When $n=1$, the expected complexity is trivially $\\bar T(n) = 0$, since we know that the only suit must match the only customer. \n",
    "        </p>\n",
    "        <p>\n",
    "        Suppose that we have $n > 1$ customers to match.\n",
    "        Now we randomly pick a customer to match against our given suit.\n",
    "        If it matches ($\\frac{1}{n}$ chance of this occurring), then we would have sampled $1$ person.\n",
    "        If it didn't ($\\frac{n-1}{n}$ chance of this occurring), then we would need to sample $1 + \\bar T(n-1)$ person, because we would need to find the match within the $n-1$ customers.\n",
    "        </p>\n",
    "        <p>\n",
    "         Hence, the recurrence is defined as $\\bar T(n)=\\frac{1}{n}(1) + \\frac{n-1}{n}\\left(1 + \\bar T(n-1)\\right) = 1 + \\frac{n-1}{n}\\left(\\bar T(n-1)\\right)$\n",
    "        </p>\n",
    "        <p>\n",
    "        To solve the recurrence, we introduce the substitution of $t(n) = n \\bar T(n)$.\n",
    "        Subbing it in, we get\n",
    "        $$\n",
    "        \\begin{align}\n",
    "        t(n) &= n \\bar T(n) \\\\ \n",
    "        &= n (1 + \\frac{n-1}{n} \\bar T(n-1)) \\\\\n",
    "        &= n + (n-1) \\bar T(n-1) \\\\\n",
    "        &= n + t(n-1)\n",
    "        \\end{align}\n",
    "        $$\n",
    "        </p>\n",
    "        <p>\n",
    "        This simplifies to a simple summation $$t(n) = \\sum ^n _{k=2} k = \\frac{n(n+1)}{2} - 1$$\n",
    "        </p>\n",
    "        <p>\n",
    "        $$\\bar T(n) = t(n)/n = \\frac{n+1}{2} - \\frac{1}{n}$$\n",
    "        </p>\n",
    "</div>\n",
    "</details>"
   ]
  },
  {
   "cell_type": "markdown",
   "id": "2b387bdb",
   "metadata": {},
   "source": [
    "## Subset sum\n",
    "\n",
    "Given a set of $n$ numbers, and a target $T$, determine whether there exists a subset of $X$ that sums to $T$.\n",
    "\n",
    "### Reduction from vertex cover\n",
    "\n",
    "1. Number the edges of $G$ from $0$ to $E-1$, where $E$ is the number of edges\n",
    "2. Generate a set $X$ using edges and vertices of the graph\n",
    "    * For each edge $i$, we add the number $4^i$ into the set $X$, where $i$ is the edge number established in step 1\n",
    "    * For each vertex $v$, we add the number $4^E + \\sum _{i \\in inc(v)} 4^i$, where $inc(v)$ is the set of all edges that are incident to $v$\n",
    "3. Set $T = k 4^E + 2 \\sum ^{E-1}_{i=0} 4^i$, where $k$ is the size of the vertex cover\n"
   ]
  },
  {
   "cell_type": "markdown",
   "id": "10bfe7de",
   "metadata": {},
   "source": [
    "$VC \\Rightarrow SS$\n",
    "Suppose that we have a vertex cover $V$ of size $k$.\n",
    "For each vertex in the vertex cover, we add the edges that are incident to it in a set.\n",
    "Since each edge is incident 2 vertices, this set can have at most 2 copies of each edge.\n",
    "And since it is a vertex cover, it must contain at least 1 copy of every edge.\n",
    "\n",
    "Thus, if the set of edges which only exists as singular copies in the set is $S$, then value sum of $S \\cup V$ is our subset sum that sums to $T$.\n",
    "This is because we have $k$ vertices in our set, which contributes the $k4^E$; and the vertices with the augmented edges must sum to twice the edge sum of the graph."
   ]
  },
  {
   "cell_type": "markdown",
   "id": "9b9518a6",
   "metadata": {},
   "source": [
    "$SS \\Rightarrow VC$\n",
    "\n",
    "Suppose that we have a subset sum that sums to $T$.\n",
    "We know that it must correspond to $k$ vertices in the set, because the $4^E$ term can only arrive from vertices, since $\\sum _{i=0}^{E-1} 4^i < 4^{E-1}$, hence even if we sum all the edges, we cannot obtain a $4^E$ term."
   ]
  },
  {
   "cell_type": "markdown",
   "id": "aaeb0a7b",
   "metadata": {},
   "source": [
    "Secondly, notice that our set can contain at most 1 of every edge, thus the edge contribution is at most $\\sum_{i=0}^{E-1} 4^i$, hence, the vertex contribution must be at least $k4^E + 2 \\sum_{i=0}^{E-1}4^i - \\sum_{i=0}^{E-1}4^i = k4^E + \\sum_{i=0}^{E-1}4^i$.\n",
    "\n",
    "Lastly, realize that the second component of the above must contain 1 of every edge from $0 \\to E-1$, because if there is some edge $e$ missing, then the $2(4^e)$ contribution in $T$ must be from the edge set, but that is impossible, since there only 1 element per edge in the set.\n",
    "\n",
    "Since that component must contain every edge, it implies that the vertex set is vertex cover.\n",
    "\n",
    "With this reduction, we have proven that subset sum is NP-hard."
   ]
  },
  {
   "cell_type": "markdown",
   "id": "2b6eb8ac",
   "metadata": {},
   "source": [
    "In the dynamic programming chapter, we found an algorithm which solves it in $O(nT)$.\n",
    "However, since $T$ is not polynomial with respect to $n$, this problem is still NP-hard."
   ]
  },
  {
   "cell_type": "markdown",
   "id": "11933675",
   "metadata": {},
   "source": [
    "## Partition problem\n",
    "Given a set of $n$ numbers, we are asked if it possible to split it (completely) into two set such that they have the same sum."
   ]
  },
  {
   "cell_type": "markdown",
   "id": "5704de99",
   "metadata": {},
   "source": [
    "### Reduction from subset sum\n",
    "0. We assume $T \\leq S$, otherwise the result is trivial (`return false`)\n",
    "1. Let $S$ be the sum of all elements in the set $X$ of the subset sum problem\n",
    "2. Add $S+T$ and $2S-T$ to the set to get $X'$\n",
    "\n",
    "This new set is what we will use for the partition problem\n",
    "\n",
    "$SS \\Rightarrow Partition$\n",
    "\n",
    "Suppose that we have a subset $A$ in $X$ that sums to $T$.\n",
    "Now, it is trivial to see that $A \\cup \\{2S - T\\}$ must sum to $2S$, and $X \\setminus A \\cup \\{S+T\\}$ sums to $S - T + (S+T) = 2S$ also.\n",
    "\n",
    "$Partition\\Rightarrow SS$\n",
    "\n",
    "Suppose that we have a partition in $X'$.\n",
    "The sum of $X'$ is $S + (S+T) +(2S-T) = 4S$, hence the partition must sum to $\\frac{4S}{2} = 2S$.\n",
    "Next, since the sum of $X$ is $S$, each partition must contain either one of $S+T$ or $2S-T$.\n",
    "Now, for each partition, after we remove the above 2 terms, we are left with $2S - (S+T) = S-T$ and $2S - (2S-T)=  T$, which is our solution to our subset sum problem."
   ]
  },
  {
   "cell_type": "markdown",
   "id": "ff2a3e59",
   "metadata": {},
   "source": [
    "## Hamiltonian cycle\n",
    "Given a **directed** graph, we are asked if there exists a [Hamiltonian cycle](../graph_theory/hamiltonian_graph.ipynb#Hamiltonian-Graphs).\n",
    "\n",
    "We can reduce it from either 3-SAT or vertex cover, but it is rather tricky.\n",
    "However, we will use it as fact that it is NP-hard."
   ]
  },
  {
   "cell_type": "markdown",
   "id": "a69b9199",
   "metadata": {},
   "source": [
    "## Hamiltonian path\n",
    "Given a **directed** graph and two specific vertex $s, t$, we are asked if there exists a [Hamiltonian path](../graph_theory/hamiltonian_graph.ipynb#Hamiltonian-Graphs) from $s$ to $t$.\n",
    "\n",
    "### Reduction from Hamiltonian cycle\n",
    "1. We choose any vertex $v$ and split it into two vertices $x$ and $y$.\n",
    "2. For every $u \\to v$ edge, we add $u \\to x$ edge.\n",
    "3. For every $v \\to u$ edge, we add $y \\to u$ edge.\n"
   ]
  },
  {
   "cell_type": "markdown",
   "id": "1dc0fcfc",
   "metadata": {},
   "source": [
    "The bijection between Hamiltonian cycle and paths should be apparent, and thus we have proven that it is NP-hard."
   ]
  },
  {
   "cell_type": "markdown",
   "id": "bf1a9c6e",
   "metadata": {},
   "source": [
    "## Undirected Hamiltonian cycle\n",
    "\n",
    "Given a **undirected** graph, we are asked if there exists a Hamiltonian cycle."
   ]
  },
  {
   "cell_type": "markdown",
   "id": "28963b30",
   "metadata": {},
   "source": [
    "### Reduction from Hamiltonian cycle\n",
    "\n",
    "1. For every vertex $v$, we split it into $v_{in}, v_{mid}, v_{out}$\n",
    "2. For every edge $u \\to v$, we add the edges according to this path $u_{in} - u_{mid} - u_{out} - v_{in} - v_{mid} - v_{out}$"
   ]
  },
  {
   "cell_type": "markdown",
   "id": "708afb4e",
   "metadata": {},
   "source": [
    "$ directed \\Rightarrow undirected$\n",
    "\n",
    "This should be apparent, that a directed cycle must correspond to some undirected solution\n",
    "\n",
    "$ undirected \\Rightarrow directed$\n",
    "\n",
    "Starting from any $v_{mid}$, we traverse to `v_{out}` and complete the cycle.\n",
    "Notice that we always travel from `out` to `in`, this directionality is respected in the directed graph also, thus we can repeat the path in the directed graph to obtain our solution.\n",
    "\n",
    "Hence, undirectly Hamiltonian cycle is also NP-hard."
   ]
  },
  {
   "cell_type": "markdown",
   "id": "3f79a351",
   "metadata": {},
   "source": [
    "## Traveling salesman problem\n",
    "\n",
    "The traveling salesman problem is as described [here](../graph_theory/hamiltonian_graph.ipynb#Traveling-Salesman-Problem).\n",
    "\n",
    "### Reduction from undirected Hamiltonian cycle\n",
    "\n",
    "This reduction should be very apparent.\n",
    "Hence, TSP is NP-hard."
   ]
  }
 ],
 "metadata": {
  "kernelspec": {
   "display_name": "Python 3 (ipykernel)",
   "language": "python",
   "name": "python3"
  },
  "language_info": {
   "codemirror_mode": {
    "name": "ipython",
    "version": 3
   },
   "file_extension": ".py",
   "mimetype": "text/x-python",
   "name": "python",
   "nbconvert_exporter": "python",
   "pygments_lexer": "ipython3",
   "version": "3.10.2"
  }
 },
 "nbformat": 4,
 "nbformat_minor": 5
}
