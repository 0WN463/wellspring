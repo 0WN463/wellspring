{
 "cells": [
  {
   "cell_type": "markdown",
   "id": "b71edcab",
   "metadata": {},
   "source": [
    "$$\n",
    "\\newcommand{proof}{\\textbf{Proof: }}\n",
    "\\newcommand{theorem}{\\textbf{Theorem: }}\n",
    "$$"
   ]
  },
  {
   "cell_type": "code",
   "execution_count": 1,
   "id": "f9b1d92c",
   "metadata": {},
   "outputs": [],
   "source": [
    "import sys\n",
    "\n",
    "sys.path.append(\"..\")"
   ]
  },
  {
   "cell_type": "code",
   "execution_count": 2,
   "id": "f8938891",
   "metadata": {},
   "outputs": [],
   "source": [
    "from common.utility import show_implementation"
   ]
  },
  {
   "cell_type": "markdown",
   "id": "21b0b7e0",
   "metadata": {},
   "source": [
    "The analysis of algorithm seeks to answers these questions:\n",
    "* Termination\n",
    "* Correctness\n",
    "* Time complexity\n",
    "* Space complexity\n",
    "\n",
    "These questions ensures that the algorithm has the desired functionality (through termination/correctness) and allows us to predict the absolute and relative performance of an algorithm.\n",
    "\n",
    "# Time complexity \n",
    "\n",
    "## Factors that affects it\n",
    "\n",
    "Time complexity depends on:\n",
    "1. Machine speed affects the speed of execution\n",
    "2. Input size and content affect number of instructions that needs to be executed\n",
    "\n",
    "In the analysis of algorithm, we are interested in (2) only.\n",
    "We can derive this complexity by counting the number of instructions needed."
   ]
  },
  {
   "cell_type": "markdown",
   "id": "4bcb7a99",
   "metadata": {},
   "source": [
    "## Worst-case time and average time\n",
    "For some given input size $n$, the **worst case time** is defined as the maximum time needed among all possible input.\n",
    "And the **average** time is the time needed over some finite set of input.\n",
    "Usually, in algorithm analysis, we are interested in the worst-case complexity rather than the average complexity."
   ]
  },
  {
   "cell_type": "markdown",
   "id": "d4c68755",
   "metadata": {},
   "source": [
    "## Counting instructions\n",
    "\n",
    "The time complexity is usually denoted as a function of $n$, where $n$ is the input size."
   ]
  },
  {
   "cell_type": "code",
   "execution_count": 3,
   "id": "ffbfc783",
   "metadata": {},
   "outputs": [],
   "source": [
    "arr = [1, 2, 3, 4, 5]\n",
    "\n",
    "\n",
    "def foo(arr):\n",
    "    total = 0\n",
    "    for i in arr:\n",
    "        for j in arr:\n",
    "            total += i * j\n",
    "            total += 2\n",
    "\n",
    "    total += 10\n",
    "    return total"
   ]
  },
  {
   "cell_type": "markdown",
   "id": "a11b9787",
   "metadata": {},
   "source": [
    "In the above algorithm, we have 2 nested loops.\n",
    "The inner loop has 3 assignments (including the loop itself), and is executed $n$ times, once for each element in the array.\n",
    "Thus, the complexity of the inner loop would be $3n + 1$, as we need to execute the `for` statement one last time before we exit the loop.\n",
    "\n",
    "Now, the outer loop executes the inner loop $n$ times too, which means the outer loop has the complexity of $(3n+1)\\times n + n + 1= 3n^2 + 2n + 1$.\n",
    "Lastly, the rest of `foo` has 3 more assignments, if you include the `return`, thus the total complexity would be $f(n) = 3n^2 + 2n + 4$."
   ]
  },
  {
   "cell_type": "code",
   "execution_count": 4,
   "id": "d6f2bb4e",
   "metadata": {},
   "outputs": [],
   "source": [
    "from module.utility import count_lines"
   ]
  },
  {
   "cell_type": "code",
   "execution_count": 5,
   "id": "07da60c3",
   "metadata": {},
   "outputs": [
    {
     "name": "stdout",
     "output_type": "stream",
     "text": [
      "foo executed 89 lines of code\n"
     ]
    }
   ],
   "source": [
    "arr = [1, 2, 3, 4, 5]\n",
    "\n",
    "count_lines(lambda: foo(arr), \"foo\")"
   ]
  },
  {
   "cell_type": "markdown",
   "id": "3ecf01d0",
   "metadata": {},
   "source": [
    "Indeed, when we add our count tracking into our algorithm we get $3 \\times 5^2 + 2 \\times 5 + 4 = 89$ executions on an array of length $5$."
   ]
  },
  {
   "cell_type": "markdown",
   "id": "f439acb9",
   "metadata": {},
   "source": [
    "## Asymptotic time complexity\n",
    "\n",
    "When analysing the time complexity, we usually drop **any multiplicative/additive constants**.\n",
    "This is because:\n",
    "* The asymptotically growing factors generally outweighs the multiplicative/additive constants\n",
    "* Constants are usually small for most algorithms\n",
    "\n",
    "Thus, our above time complexity would simplify to\n",
    "$$\n",
    "f(n) = \\Theta(n^2)\n",
    "$$"
   ]
  },
  {
   "cell_type": "markdown",
   "id": "d9880631",
   "metadata": {},
   "source": [
    "### Upper bound\n",
    "Given $f(n), g(n)$ which are positive valued functions.\n",
    "We say\n",
    "$$\n",
    "f(n) \\in O(g(n))\n",
    "$$\n",
    "if there exists constants $N>0$ and $C>0$ such that for all $n > N$, $f(n) \\leq Cg(n)$.\n",
    "\n",
    "\n",
    "Formally, $O(g(n))$ is defined as the **set of functions** that contains all functions $f(n)$ that satisfy the above condition.\n",
    "However, we often abuse the notation and simply say that:\n",
    "$$\n",
    "f(n) = O(g(n))\n",
    "$$\n"
   ]
  },
  {
   "cell_type": "markdown",
   "id": "d29de9f4",
   "metadata": {},
   "source": [
    "Note that we don't need $f(n)$ be smaller than $Cg(n)$ for all values of $n$, only those values such that $n > N$.\n",
    "In other words, only when $n$ is sufficiently large."
   ]
  },
  {
   "cell_type": "markdown",
   "id": "a3d75f60",
   "metadata": {},
   "source": [
    "### Lower bound\n",
    "Similarly, for the lower bound; given $f(n), g(n)$ which are positive valued functions.\n",
    "We say\n",
    "$$\n",
    "f(n) \\in \\Omega(g(n))\n",
    "$$\n",
    "if there exists constants $N>0$ and $C>0$ such that for all $n > N$, $f(n) \\geq Cg(n)$."
   ]
  },
  {
   "cell_type": "markdown",
   "id": "515a9c0d",
   "metadata": {},
   "source": [
    "### Tight bound\n",
    "Lastly, \n",
    "$$\n",
    "f(n) \\in \\Theta(g(n))\n",
    "$$\n",
    "if $f(n) = \\Omega(g(n))$ and $f(n) = O(g(n))$"
   ]
  },
  {
   "cell_type": "markdown",
   "id": "1be014eb",
   "metadata": {},
   "source": [
    "With this, we can prove our assertion for our previous algorithm."
   ]
  },
  {
   "cell_type": "markdown",
   "id": "cc52de2d",
   "metadata": {},
   "source": [
    "<details>\n",
    "    <summary style=\"color: blue\">$\\proof$ (Click to expand)</summary>\n",
    "    <div style=\"background: aliceblue\">\n",
    "<p>\n",
    "Setting $g(n) = n^2, C = 100, N = 2$, it is clear that $Cg(n) = 100n^2$ would be always greater than $f(n) = 3n^2 + 2n + 4$ for $n \\geq 2$.\n",
    "Thus, we know that $f(n) = O(n^2)$\n",
    "    \n",
    "Setting $g(n) = n^2, C = 1, N = 0$, it is clear that $Cg(n) = n^2$ would be always less than $f(n) = 3n^2 + 2n + 4$ for $n \\geq 0$.\n",
    "Thus, we know that $f(n) = \\Omega(n^2)$\n",
    "    \n",
    "Lastly, it follows that $f(n) = \\Theta(n^2)$\n",
    "    $$\n",
    "    QED\n",
    "    $$\n",
    "</p>\n",
    "    </div>\n",
    "</details>"
   ]
  },
  {
   "cell_type": "markdown",
   "id": "6bc4bf83",
   "metadata": {},
   "source": [
    "Note: In most situations, when people are discussing time complexity, they may use the term $O(\\dots)$ to describe the time complexity of the algorithm.\n",
    "However, many a times, they are actually describing the \"exact amount\" of computation required given an input of size $n$, barring the additive and multiplicative constants.\n",
    "For example, they may say that recursive Fibonacci computation would take $\\frac{n(n-1)}{2} = O(n^2)$ computation.\n",
    "Though this is technically correct, but if formula was a \"fixed\" function $g(n)$ of $n$, then it would follow that the complexity is also $=\\Omega(g(n))$, which means it would have been more refined to say that the complexity is actually $\\Theta(n^2)$.\n",
    "\n",
    "Thus, we should be wary in non-academia settings, where when a function is deem to have $O(f(n))$ complexity, many a times they are actually also saying that it is $\\Omega(f(n))$ and thus $\\Theta(f(n))$."
   ]
  },
  {
   "cell_type": "markdown",
   "id": "ec031213",
   "metadata": {},
   "source": [
    "$\\theorem$ Given $f(n), g(n)$ which are positive functions, and define $h(n) = f(n)/g(n)$:\n",
    "\n",
    "| If | Then |\n",
    "| --- | --- |\n",
    "| $$\\lim_{n\\to\\infty} h(n) = 0$$ | $$\\Omega(n) \\neq f(n) = O(g(n))$$\n",
    "| $$\\lim_{n\\to\\infty} h(n) = b$$ | $$f(n) = \\Theta(g(n))$$\n",
    "| $$\\lim_{n\\to\\infty} h(n) = \\infty$$ | $$\\Omega(n) = f(n) \\neq O(g(n))$$"
   ]
  },
  {
   "cell_type": "markdown",
   "id": "41c0c5a7",
   "metadata": {},
   "source": [
    "Using this theorem, we can easily prove our above assertion (that a complexity with a \"fixed\" function $f'(n)$ of $n$ is $\\Theta(n)$), simply by setting $f(n) = bf'(n), g(n) = f'(n)$."
   ]
  },
  {
   "cell_type": "markdown",
   "id": "6c29303a",
   "metadata": {},
   "source": [
    "## Complexity of recursive functions"
   ]
  },
  {
   "cell_type": "markdown",
   "id": "e79912e2",
   "metadata": {},
   "source": [
    "Given a simple imperative loop, it is usually simple to compute the amount of instructions with respect to $n$.\n",
    "However, if our function is define recursively, it may become hard to determine the number of instructions it may need."
   ]
  },
  {
   "cell_type": "markdown",
   "id": "8e414d84",
   "metadata": {},
   "source": [
    "Suppose we define a function that finds the sum of all positive numbers in an array."
   ]
  },
  {
   "cell_type": "code",
   "execution_count": 6,
   "id": "3c61c40b",
   "metadata": {},
   "outputs": [
    {
     "data": {
      "text/plain": [
       "6"
      ]
     },
     "execution_count": 6,
     "metadata": {},
     "output_type": "execute_result"
    }
   ],
   "source": [
    "def sum_arr(arr, n):\n",
    "    if n == 1:\n",
    "        return arr[0]\n",
    "    if arr[n - 1] < 0:\n",
    "        return sum_arr(arr, n - 1)\n",
    "    return arr[n - 1] + sum_arr(arr, n - 1)\n",
    "\n",
    "\n",
    "arr = [1, -2, 3, -4, 2]\n",
    "sum_arr(arr, 5)"
   ]
  },
  {
   "cell_type": "code",
   "execution_count": 7,
   "id": "34df5169",
   "metadata": {},
   "outputs": [
    {
     "name": "stdout",
     "output_type": "stream",
     "text": [
      "sum_arr executed 14 lines of code\n"
     ]
    }
   ],
   "source": [
    "count_lines(lambda: sum_arr(arr, 5), \"sum_arr\")"
   ]
  },
  {
   "cell_type": "markdown",
   "id": "24374836",
   "metadata": {},
   "source": [
    "Notice that it is rather difficult to track how many times each line is called, because it will change depending on the conditional and the value of $n$.\n",
    "Thus, we fallback to the formulaic approach instead."
   ]
  },
  {
   "cell_type": "markdown",
   "id": "9f436243",
   "metadata": {},
   "source": [
    "When $n=1$, it is clear that the time complexity is $T(1) = 2 = O(1)$.\n",
    "\n",
    "When $n < 0$, then $T(n) = T(n-1) + 3$, where $T(n-1)$ is the complexity of `sum_arr` on an array of size $n-1$, and 3 is the 2 conditional + the return statement.\n",
    "\n",
    "When $n \\geq 0$, then $T(n) = T(n-1) + 3$ also.\n"
   ]
  },
  {
   "cell_type": "markdown",
   "id": "dc187ac7",
   "metadata": {},
   "source": [
    "We assume that the functions are monotonically decreasing, meaning $T(a) \\leq T(b)$ if $a \\leq b$, in order words, the number of instructions needed will never increase when we reduce the input size."
   ]
  },
  {
   "cell_type": "markdown",
   "id": "7ebd30d1",
   "metadata": {},
   "source": [
    "Also, for ease of notation, when we use $T(\\frac{n}{a})$, we are implying $T(\\lfloor \\frac{n}{a} \\rfloor)$, as our $n$ needs to be an integer."
   ]
  },
  {
   "cell_type": "markdown",
   "id": "2b518a1e",
   "metadata": {},
   "source": [
    "### Proof by induction\n",
    "One approach would be to: \n",
    "1. unfold the recurrence\n",
    "2. find a pattern in the complexity\n",
    "3. apply induction using that pattern\n",
    "\n",
    "Given\n",
    "$$\n",
    "T(1) = 1 \\\\\n",
    "T(n) = T(n-1) + 3\n",
    "$$\n",
    "\n",
    "We can compute that:\n",
    "$$\n",
    "\\begin{alignat}{2}\n",
    "T(1) &&=&& 1\\\\\n",
    "T(2) &&= T(1) + 3 =&& 1 + 3\\\\\n",
    "T(3) &&= T(2) + 3 =&& 1 + 3 + 3\\\\\n",
    "T(4) &&= T(3) + 4 =&& 1 + 3 + 3 + 3\\\\\n",
    "\\end{alignat}\n",
    "$$"
   ]
  },
  {
   "cell_type": "markdown",
   "id": "0c722e93",
   "metadata": {},
   "source": [
    "Following the pattern, we can **theorize** that $T(n) = 1 + 3(n-1)$.\n",
    "Note that we only chose this formula because it \"looked natural\", we have yet to prove that this is indeed the formula."
   ]
  },
  {
   "cell_type": "markdown",
   "id": "96638983",
   "metadata": {},
   "source": [
    "Now, we need to prove it by induction.\n",
    "Firstly, $T(1) = 1 + 3(1 - 1) = 1 + 0 = 1$, which fits our base case.\n",
    "Next, assuming that $T(k) = 1 + 3(k-1)$ is true, we need to prove that this implies that $T(k+1)$ is true.\n",
    "\n",
    "$$\n",
    "T(k+1) = T(k) + 3 = 1 + 3(k-1) + 3 = 1 + 3k = 1 + 3((k + 1) - 1)\n",
    "$$\n",
    "\n",
    "which indeed satisfy our required definition for $T(k+1)$, which means this is indeed true for all $k \\geq 1$."
   ]
  },
  {
   "cell_type": "markdown",
   "id": "27cd17e6",
   "metadata": {},
   "source": [
    "Hence, we have found an explicit formulation for the complexity of $T$, and thus $T = \\Theta(1 + 3(n-1)) = \\Theta(n)$."
   ]
  },
  {
   "cell_type": "markdown",
   "id": "e910e1cc",
   "metadata": {},
   "source": [
    "---\n",
    "\n",
    "In our previous example, we started from the base case and worked up to the top.\n",
    "We will now proceed to show that we can also derive the formulation from the top as well.\n",
    "\n",
    "\n",
    "$$\n",
    "\\begin{align}\n",
    "T(n) &= T(n-1) + 3 \\\\\n",
    "&= T(n-2) + 3 + 3 \\\\\n",
    "&= T(n-3) + 3 + 3 + 3 \\\\\n",
    "\\end{align}\n",
    "$$\n",
    "\n",
    "From this pattern, we can **theorize** that $T(n) = T(n-k) + 3k$ for $1 \\leq k \\leq n$.\n",
    "We are saying that at each level, the term inside the $T(\\dots)$ reduces by 1, and the outer sum increases by 3.\n",
    "\n",
    "We can prove that this formulation is indeed true by induction in the same way previously.\n",
    "Now, we have the time complexity as a function of $n$ and $k$.\n",
    "Since the pattern works for all k where $1 \\leq k \\leq n - 1$, specifically $k = n - 1$.\n",
    "This means that: \n",
    "$$\n",
    "\\begin{align}\n",
    "T(n) &= T(n-k) + 3k  \\\\\n",
    "&= T(n-(n-1))+3(n-1) \\\\\n",
    "&= T(1) + 3(n-1) \\\\\n",
    "&= 1 + 3(n-1)\n",
    "\\end{align}\n",
    "$$\n",
    "as we derived previously."
   ]
  },
  {
   "cell_type": "markdown",
   "id": "3a36d7b5",
   "metadata": {},
   "source": [
    "### Mergesort\n",
    "The code for merge sort is as follows:"
   ]
  },
  {
   "cell_type": "code",
   "execution_count": 8,
   "id": "1262c682",
   "metadata": {},
   "outputs": [
    {
     "name": "stdout",
     "output_type": "stream",
     "text": [
      "def merge_sort(A):\n",
      "    n = len(A)\n",
      "    if n <= 1:\n",
      "        return A\n",
      "    \n",
      "    m = n //2\n",
      "    arr1 = merge_sort(A[:m]) # T(floor(n/2))\n",
      "    arr2 = merge_sort(A[m:]) # T(ceil(n/2))\n",
      "    return _merge(arr1, arr2) # Theta(n)\n",
      "def _merge(arr1, arr2):\n",
      "    i, j = 0, 0\n",
      "    arr = [None for _ in arr1 + arr2]\n",
      "\n",
      "    for x in range(len(arr)):\n",
      "        if i < len(arr1) and j < len(arr2):\n",
      "            if arr1[i] < arr2[j]:\n",
      "                arr[x] = arr1[i]\n",
      "                i += 1\n",
      "            else:\n",
      "                arr[x] = arr2[j]\n",
      "                j += 1\n",
      "        elif i < len(arr1):\n",
      "            arr[x] = arr1[i]\n",
      "            i += 1\n",
      "        else:\n",
      "            arr[x] = arr2[j]\n",
      "            j += 1\n",
      "    return arr\n"
     ]
    }
   ],
   "source": [
    "from module.sort import merge_sort, _merge\n",
    "\n",
    "show_implementation(merge_sort)\n",
    "show_implementation(_merge)"
   ]
  },
  {
   "cell_type": "code",
   "execution_count": 9,
   "id": "aab452d0",
   "metadata": {
    "scrolled": true
   },
   "outputs": [
    {
     "data": {
      "text/plain": [
       "[-4, -2, 1, 2, 3]"
      ]
     },
     "execution_count": 9,
     "metadata": {},
     "output_type": "execute_result"
    }
   ],
   "source": [
    "merge_sort(arr)"
   ]
  },
  {
   "cell_type": "markdown",
   "id": "3e5210d5",
   "metadata": {},
   "source": [
    "The time complexity for this is rather complex\n",
    "$$\n",
    "T(1) = \\Theta(1) \\\\\n",
    "T(n) = T(\\lceil\\frac{n}{2}\\rceil) + T(\\lfloor\\frac{n}{2}\\rfloor) + \\Theta(n)\n",
    "$$\n",
    "\n",
    "Where $T(\\lceil\\frac{n}{2}\\rceil)$ correspond to the first call of `merge_sort`, \n",
    "$T(\\lfloor\\frac{n}{2}\\rfloor)$ the second, and $\\Theta(n)$ corresponds to the `merge` step."
   ]
  },
  {
   "cell_type": "markdown",
   "id": "a08cdefe",
   "metadata": {},
   "source": [
    "We will assume that $n$ is always a power of 2, so that we can avoid dealing with the floors and ceilings.\n",
    "This simplifies to\n"
   ]
  },
  {
   "cell_type": "markdown",
   "id": "4ac28be7",
   "metadata": {},
   "source": [
    "$$\n",
    "T(1) = \\Theta(1) \\\\\n",
    "T(n) = 2T(\\frac{n}{2}) + Cn\n",
    "$$\n",
    "for some constant $C$."
   ]
  },
  {
   "cell_type": "markdown",
   "id": "6d82d744",
   "metadata": {},
   "source": [
    "Unrolling, we get\n",
    "$$\n",
    "\\begin{align}\n",
    "T\\left(n\\right) &= 2T\\left(\\frac{n}{2}\\right) + Cn \\\\\n",
    "&= 2T\\left(2\\left(\\frac{n}{4}\\right) + C\\left(\\frac{n}{2}\\right)\\right) + Cn = 4T\\left(\\frac{n}{4}\\right) + 2Cn \\\\\n",
    "&= 4T\\left(2\\left(\\frac{n}{8}\\right) + C\\left(\\frac{n}{4}\\right)\\right) + 2Cn = 8T\\left(\\frac{n}{8}\\right) + 3Cn \\\\\n",
    "\\end{align}\n",
    "$$"
   ]
  },
  {
   "cell_type": "markdown",
   "id": "30fa162e",
   "metadata": {},
   "source": [
    "We now propose that \n",
    "$$\n",
    "T(n) = 2^k T(\\frac{n}{2^k}) + kCn, \\text{ for } 1 \\leq k \\leq \\log_2 n\n",
    "$$"
   ]
  },
  {
   "cell_type": "markdown",
   "id": "79f155fa",
   "metadata": {},
   "source": [
    "After we've prove the above with induction, it follows that \n",
    "$$\n",
    "T(n) = 2^k T(\\frac{n}{2^k}) + kCn \\\\\n",
    "= 2^{\\log_2 n} T(\\frac{n}{2^{\\log_2n}}) + \\log_2nCn\\\\\n",
    "= n T(\\frac{n}{n}) + Cn\\log_2n\\\\\n",
    "= \\Theta(n \\log n)\n",
    "$$"
   ]
  },
  {
   "cell_type": "markdown",
   "id": "11a3a7c7",
   "metadata": {},
   "source": [
    "## Recursion trees\n",
    "Notice that many divide and conquer algorithm gives us the following recursive complexity:\n",
    "$$\n",
    "T(n) = aT(n/b) + f(n)\n",
    "$$\n",
    "We also assume that \n",
    "$$\n",
    "T(1) = \\Theta(1) = f(1)\n",
    "$$"
   ]
  },
  {
   "cell_type": "markdown",
   "id": "de8ce100",
   "metadata": {},
   "source": [
    "We can expand the recursion tree just like the previous example, and we will get our general version of the formula:\n",
    "$$\n",
    "T(n) = a ^{L+1}T(1) + \\sum_{i=0}^L a^i f(n/b^i) \\\\\n",
    "=\\Theta(\\sum_{i=0}^L a^i f(n/b^i)) \\\\\n",
    "$$"
   ]
  },
  {
   "cell_type": "markdown",
   "id": "1f62bb97",
   "metadata": {},
   "source": [
    "### Master theorem\n",
    "Using the above formulation, we can use induction to determine the complexity of the algorithm when we know the relative complexity of $a, b$ and $f(n)$.\n",
    "\n",
    "* If $af(n/b) \\leq \\alpha f(n)$ for some $\\alpha < 1$, then $T(n) = O(f(n))$\n",
    "    * this implies that the non-recursive work at each step is taking the bulk of the computation\n",
    "* If $a f(n/b) \\geq \\beta f(n)$ for some $\\beta > 1$, then $T(n) = O(n \\log_b a)$\n",
    "    * this implies that the recursive work is taking the bulk of the computation\n",
    "* If $a f(n/b) = f(n)$, then $T(n) = \\Theta(f(n)\\log_b n)$\n"
   ]
  },
  {
   "cell_type": "markdown",
   "id": "6967e247",
   "metadata": {},
   "source": [
    "### Non-standard recursion\n",
    "It is possible that we encounter formulae that does not fit into the master formula.\n",
    "For example,\n",
    "$$\n",
    "T(n) = T(n/4) + T(3n/4) + O(n)\n",
    "$$\n",
    "\n",
    "If we consider the tree, at the top level, we perform $O(n)$ worth of work, before splitting into $T(n/4)$ and $T(3n/4)$.\n",
    "At the second level, we perform $O(n/4) + O(3n/4) = O(n)$ worth of work.\n",
    "At the third level, we perform $O(n/16) + O(3n/16) + O(3n/16) + O(9/16) = O(n)$ worth of work.\n",
    "\n",
    "In fact, at every level (assuming infinite tree), we perform $O(n)$ worth of work.\n",
    "Thus, if we can give a upper and lower bound to the height of the tree, we can derive the time complexity.\n",
    "\n",
    "The leftmost branch decays fastest, at the rate of 1/4 each time, while the rightmost branch is the slowest, at the rate of 3/4 per level.\n",
    "This means that the number of level is between $\\log _4 n$ and $\\log _{3/4} n$"
   ]
  },
  {
   "cell_type": "markdown",
   "id": "3cdaa9c6",
   "metadata": {},
   "source": [
    "In any case, the solution should be $T(n) = O(n \\log n)$"
   ]
  }
 ],
 "metadata": {
  "kernelspec": {
   "display_name": "Python 3 (ipykernel)",
   "language": "python",
   "name": "python3"
  },
  "language_info": {
   "codemirror_mode": {
    "name": "ipython",
    "version": 3
   },
   "file_extension": ".py",
   "mimetype": "text/x-python",
   "name": "python",
   "nbconvert_exporter": "python",
   "pygments_lexer": "ipython3",
   "version": "3.10.2"
  }
 },
 "nbformat": 4,
 "nbformat_minor": 5
}
