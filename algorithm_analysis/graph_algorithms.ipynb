{
 "cells": [
  {
   "cell_type": "markdown",
   "id": "optional-speed",
   "metadata": {},
   "source": [
    "# Graphs\n",
    "## Definition\n",
    "A graph is defined as vertices and edges.\n",
    "\n",
    "Each edge connects 1 vertex to another.\n",
    "\n",
    "Edges can be weighted or unweighted, directed or undirected.\n",
    "\n",
    "We call the total number of vertices as V or N and the number of edges as E or M.\n",
    "\n",
    "## Representation\n",
    "There are multiple ways to represent vertices and edges of a graph\n",
    "\n",
    "### Adjacency Matrix\n",
    "We have a $V \\times V$ matrix, where it is a 1 in the $i,j$ entry if there is an edge between vertices $i$ and $j$.\n",
    "\n",
    "#### Complexity\n",
    "* Space: $O(V^2)$\n",
    "* Iterating neighbours: $O(V)$\n",
    "* Checking presence of edge: $O(1)$\n",
    "\n",
    "### Adjacency List\n",
    "We have $V$ arrays.\n",
    "For every integer $j$ in the $i^{th}$ array, there is an edge between vertices $i$ and $j$.\n",
    "\n",
    "#### Complexity\n",
    "* Space: $O(V+E)$\n",
    "* Iterating neighbours: $O(V)$\n",
    "* Checking presence of edge: $O(V)$\n",
    "\n",
    "### Edge List\n",
    "We simply store all $i,j$ pairs which indicate that there is an edge that connects vertices $i$ and $j$.\n",
    "\n",
    "\n",
    "#### Complexity\n",
    "* Space: $O(E)$\n",
    "* Iterating neighbours: $O(E)$\n",
    "* Checking presence of edge: $O(E)$\n"
   ]
  },
  {
   "cell_type": "markdown",
   "id": "automated-opinion",
   "metadata": {},
   "source": [
    "# Graph Traversal <a id =\"traversal\"></a>\n",
    "\n",
    "## Depth First Search <a id =\"dfs\"></a>\n",
    "A simple way to traverse the graph is DFS, where we continue exploring into the neighbours of vertices until we no longer can unvisted vertices in the neighbours.\n",
    "Then we ascend back to the parent and find neighbours from there.\n",
    "\n",
    "### Pseudocode\n",
    "#### Function stack variant\n",
    "```\n",
    "dfs(v, visited):\n",
    "    visited[v] = true\n",
    "    \n",
    "    for children of v:\n",
    "        if not visited [v]:\n",
    "            dfs(v)\n",
    "```\n",
    "\n",
    "#### Iterative stack variant\n",
    "```\n",
    "dfs(v):\n",
    "    stack = Stack()\n",
    "    visited = Set()\n",
    "    stack.push(v)\n",
    "   \n",
    "    while stack not empty:\n",
    "        v = stack.pop\n",
    "        \n",
    "        if visited[v]:\n",
    "            continue\n",
    "        \n",
    "        for children u of v:\n",
    "            if not visited [u]:\n",
    "                stack.push(u)\n",
    "```\n",
    "\n",
    "### Complexity\n",
    "Since we visited each vertex once, and we consider each edge at most twice (once at each end point), the total complexity is $O(V+E)$."
   ]
  },
  {
   "cell_type": "markdown",
   "id": "extensive-intensity",
   "metadata": {},
   "source": [
    "## Breadth First Search <a id =\"bfs\"></a>\n",
    "Another way is to visit all the children of the current node first, before we visit the children of children.\n",
    "\n",
    "### Pseudocode\n",
    "```\n",
    "bfs(v):\n",
    "    stack = Queue()\n",
    "    visited = Set()\n",
    "    stack.push(v)\n",
    "   \n",
    "    while stack not empty:\n",
    "        v = stack.pop\n",
    "        \n",
    "        if visited[v]:\n",
    "            continue\n",
    "        \n",
    "        for children u of v:\n",
    "            if not visited [u]:\n",
    "                stack.push(u)\n",
    "```\n",
    "\n",
    "Notice that we simply change the stack to a queue.\n",
    "\n",
    "### Complexity\n",
    "By the same analysis of DFS, we get $O(V+E)$.\n",
    "\n",
    "**On unweighted graph**\n",
    "\n",
    "Since we explore the nodes depth by depth, we can obtain the distance from the start vertex to another vertex v by returning the depth that the vertex is popped from."
   ]
  },
  {
   "cell_type": "markdown",
   "id": "1b35d45f",
   "metadata": {},
   "source": [
    "## Single-source shortest path"
   ]
  },
  {
   "cell_type": "markdown",
   "id": "interpreted-annotation",
   "metadata": {},
   "source": [
    "## Dijkstra <a id=\"dijkstra\">    "
   ]
  },
  {
   "cell_type": "markdown",
   "id": "815892ca",
   "metadata": {},
   "source": [
    "TODO"
   ]
  },
  {
   "cell_type": "code",
   "execution_count": null,
   "id": "electoral-leonard",
   "metadata": {},
   "outputs": [],
   "source": []
  }
 ],
 "metadata": {
  "kernelspec": {
   "display_name": "Python 3 (ipykernel)",
   "language": "python",
   "name": "python3"
  },
  "language_info": {
   "codemirror_mode": {
    "name": "ipython",
    "version": 3
   },
   "file_extension": ".py",
   "mimetype": "text/x-python",
   "name": "python",
   "nbconvert_exporter": "python",
   "pygments_lexer": "ipython3",
   "version": "3.10.2"
  }
 },
 "nbformat": 4,
 "nbformat_minor": 5
}
