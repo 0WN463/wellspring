{
 "cells": [
  {
   "cell_type": "markdown",
   "id": "1ff09c7d",
   "metadata": {},
   "source": [
    "# Randomized algorithm\n",
    "Prerequisites: Some understanding about [expectation](../statistic/random_variables.ipynb#Expected-value)\n",
    "\n",
    "Back in the introduction, we stated that we briefly defined the [worst case and average running time of an algorithm](./introduction.ipynb#Worst-case-time-and-average-time).\n",
    "\n",
    "However, for randomized algorithm, we are usually interested in the *worst-case expected* time complexity of an algorithm.\n",
    "\n",
    "The main difference between this and the average time complexity is that average time complexity is dependent on the distribution of possible input.\n",
    "\n",
    "Worst-case expected instead is interested in the average time complexity on the worst case that it can be given.\n",
    "\n",
    "So if the worst-case occurs at a small chance, then the average time complexity would be small, while the worst-case expected time complexity would be unaffected.\n",
    "For ease of notation, we will refer to this expectation $E(T(n))$ as $\\bar T(n)$."
   ]
  },
  {
   "cell_type": "markdown",
   "id": "4c7c7ca1",
   "metadata": {},
   "source": [
    "## Deterministic vs random algorithm\n",
    "In deterministic algorithm, the output and the running time are functions of only the input.\n",
    "\n",
    "In random algorithm, the output and running time can change even when given the same input.\n",
    "As a layer of abstraction, we can represent this randomness as some random bits that we feed into the algorithm as input on top of our regular input.\n",
    "Hence, we can say that the output and the running time are functions of input and these random bits."
   ]
  },
  {
   "cell_type": "markdown",
   "id": "df9a7c47",
   "metadata": {},
   "source": [
    "## Types of randomized algorithm\n",
    "### Randomized Las Vegas algorithms\n",
    "The output is always correct, but the running time is a random variable\n",
    "\n",
    "Examples: [Randomized quick sort](#Randomized-quick-sort), randomized quick select\n",
    "\n",
    "### Randomized Monte Carlo algorithms\n",
    "The output may be incorrect with some probability, but the running time is deterministic.\n",
    "\n",
    "Example: [Approximate median](#Approximate-median)"
   ]
  },
  {
   "cell_type": "markdown",
   "id": "c154d713",
   "metadata": {},
   "source": [
    "## Examples\n",
    "### Approximate median\n",
    "Given an array $A[1\\dots n]$, and $\\epsilon > 0$, we wish to find an element whose rank is in the range of \n",
    "$$\n",
    "[(1-\\epsilon) \\frac{n}{2}, (1+ \\epsilon) \\frac{n}{2}]\n",
    "$$\n",
    "\n",
    "A random algorithm could be as follows:\n",
    "1. Select a random sample $S$ of size $O(\\frac{1}{\\epsilon} \\log n)$ from $A$\n",
    "2. Sort $S$\n",
    "3. Return the median of $S$\n",
    "\n",
    "Using this, we would get a runtime of $O( \\frac{1}{\\epsilon} \\log n \\log \\log n)$.\n",
    "And we would get an $\\epsilon$-approximate of the median at a probability of $n^{-2}$"
   ]
  },
  {
   "cell_type": "markdown",
   "id": "0045bc89",
   "metadata": {},
   "source": [
    "### Matching suits\n",
    "Suppose that we are a tailor shop which serves $n$ people of different sizes.\n",
    "We have produced $n$ suits, each suits matching exactly 1 person on our list.\n",
    "\n",
    "However, one day, we mixed up all our suits and thus we forgot which suit belongs to who.\n",
    "To make matters worse, we also lost the records on the size of each person.\n",
    "Hence, what we are left with a list of people, and a set of suits.\n",
    "\n",
    "However, just like real life, it can be rather hard to determine whether a suit matches the person without trying it on.\n",
    "Also, it is not possible to compare the size of the suit due to different elasticity of the fabric.\n",
    "\n",
    "Due to confidentiality concerns, your clients do not wish to see you in person, hence you will not be able to compare the sizes of the people against each other.\n",
    "\n",
    "Thus, the only operation we are permitted is to give a suit to a person, and we are returned with whether the suit is too small, too big, or if it fits.\n",
    "\n",
    "And our goal is to determine which suit belongs to who."
   ]
  },
  {
   "cell_type": "markdown",
   "id": "86b52cf5",
   "metadata": {},
   "source": [
    "#### Sub problem\n",
    "A simple first step is to pick up a suit, and try to match it against a person.\n",
    "If we select the person randomly, we would expect to take $n / 2$ attempts before we find the correct match, even though it is $n -1 $ at worst case.\n",
    "Suppose we were to analyze the time complexity of trying to **match a single customer to a given suit**, then we would obtain the following expected complexity $\\bar T(n)$."
   ]
  },
  {
   "cell_type": "markdown",
   "id": "91eb9bba",
   "metadata": {},
   "source": [
    "$$\n",
    "\\bar T(n) = \\sum ^{n-1}_{k=1}  k Pr[T(n) = k]\n",
    "$$"
   ]
  },
  {
   "cell_type": "markdown",
   "id": "f9a8acdd",
   "metadata": {},
   "source": [
    "$$\n",
    "Pr[T(n) = k] = \n",
    "\\begin{cases}\n",
    "1/n \\quad \\text{if } k < n - 1 \\\\\n",
    "2/n \\quad \\text{if } k = n - 1 \\\\\n",
    "\\end{cases}\n",
    "$$"
   ]
  },
  {
   "cell_type": "markdown",
   "id": "b67e5376",
   "metadata": {},
   "source": [
    "For example, for $n=4$, it would correspond to:\n",
    "* $1/4$ chance of finding the match one the first try\n",
    "* $1/4$ chance of the match being the second person we sample\n",
    "* $2/4$ chance of us needing to sample a third person (when we failed in the first 2 attempts)\n",
    "    * If it matches, then it belongs to the third person\n",
    "    * Otherwise, we know that it belongs to the fourth\n",
    "    * This is why the formula has $2/n$ as an edge case"
   ]
  },
  {
   "cell_type": "markdown",
   "id": "365fee2b",
   "metadata": {},
   "source": [
    "Simplifying our formula, we get"
   ]
  },
  {
   "cell_type": "markdown",
   "id": "42b4c9b5",
   "metadata": {},
   "source": [
    "$$\n",
    "\\begin{align}\n",
    "\\bar T(n) &= \\sum ^{n-1}_{k=1}  k Pr[T(n) = k] \\\\\n",
    "&= \\sum ^{n-2}_{k=1}  k Pr[T(n) = k]+ (n-1) Pr[T(n) = n-1]\\\\\n",
    "&= \\sum ^{n-2}_{k=1}  \\frac{k}{n} + \\frac{2n-2}{n}\\\\\n",
    "&= \\frac{(n-1)(n-2)}{2n} + \\frac{2n-2}{n}\\\\\n",
    "&= \\frac{(n-1)(n+2)}{2n} \\\\\n",
    "&= \\frac{n^2+n-2}{2n} \\\\\n",
    "\\end{align}\n",
    "$$"
   ]
  },
  {
   "cell_type": "markdown",
   "id": "5ef17943",
   "metadata": {},
   "source": [
    "<details>\n",
    "    <summary style=\"color: blue\">Alternative derivation (Click to expand)</summary>\n",
    "    <div style=\"background: aliceblue\">\n",
    "        <p>\n",
    "        We can instead, solve the problem recursively.\n",
    "        </p>\n",
    "        <p>\n",
    "        When $n=1$, the expected complexity is trivially $\\bar T(n) = 0$, since we know that the only suit must match the only customer. \n",
    "        </p>\n",
    "        <p>\n",
    "        Suppose that we have $n > 1$ customers to match.\n",
    "        Now we randomly pick a customer to match against our given suit.\n",
    "        If it matches ($\\frac{1}{n}$ chance of this occurring), then we would have sampled $1$ person.\n",
    "        If it didn't ($\\frac{n-1}{n}$ chance of this occurring), then we would need to sample $1 + \\bar T(n-1)$ person, because we would need to find the match within the $n-1$ customers.\n",
    "        </p>\n",
    "        <p>\n",
    "         Hence, the recurrence is defined as $\\bar T(n)=\\frac{1}{n}(1) + \\frac{n-1}{n}\\left(1 + \\bar T(n-1)\\right) = 1 + \\frac{n-1}{n}\\left(\\bar T(n-1)\\right)$\n",
    "        </p>\n",
    "        <p>\n",
    "        To solve the recurrence, we introduce the substitution of $t(n) = n \\bar T(n)$.\n",
    "        Subbing it in, we get\n",
    "        $$\n",
    "        \\begin{align}\n",
    "        t(n) &= n \\bar T(n) \\\\ \n",
    "        &= n (1 + \\frac{n-1}{n} \\bar T(n-1)) \\\\\n",
    "        &= n + (n-1) \\bar T(n-1) \\\\\n",
    "        &= n + t(n-1)\n",
    "        \\end{align}\n",
    "        $$\n",
    "        </p>\n",
    "        <p>\n",
    "        This simplifies to a simple summation $$t(n) = \\sum ^n _{k=2} k = \\frac{n(n+1)}{2} - 1$$\n",
    "        </p>\n",
    "        <p>\n",
    "        $$\\bar T(n) = t(n)/n = \\frac{n+1}{2} - \\frac{1}{n}$$\n",
    "        </p>\n",
    "</div>\n",
    "</details>"
   ]
  },
  {
   "cell_type": "markdown",
   "id": "dacb29a5",
   "metadata": {},
   "source": [
    "Hence, as we expected, we need about $n/2$ operations to find 1 match, given our expected complexity of $O(n)$."
   ]
  },
  {
   "cell_type": "markdown",
   "id": "d8acfd54",
   "metadata": {},
   "source": [
    "Moving back to the main problem, we can perform this $n$ times on each of the suit, to obtain an expected complexity of $O(n^2)$ with the naive approach."
   ]
  },
  {
   "cell_type": "markdown",
   "id": "bbd5ab8c",
   "metadata": {},
   "source": [
    "#### Further improvements\n",
    "Notice that we didn't use the information that the selected customer is too small or too big for the suit; we only used the information as to whether he matched the suit or not.\n",
    "\n",
    "Thus, we can perform similarly to quick sort\n",
    "1. Choose any suit as the pivot suit\n",
    "2. Compare this suit against all the customers\n",
    "3. We now have a match, and the remaining customers are split into 2 sets: the ones smaller and the ones larger\n",
    "4. Solve the subproblem, recursing into the respective partition to find our match\n",
    "\n",
    "Since we need $2n-1$ comparisons to perform steps 1 to 3, we get the following recursion.\n",
    "$$\n",
    "T(n) = 2n -1 + \\max _{1 \\leq k \\leq n}[T(k-1) + T(n-k) = 2n -1 + T(n-1)]\n",
    "$$\n",
    "\n",
    "And we know from the [quick sort](./recursion.ipynb#Good-pivot) section that this has complexity $O(n^2)$\n",
    "\n"
   ]
  },
  {
   "cell_type": "markdown",
   "id": "7b2fa87f",
   "metadata": {},
   "source": [
    "When doing step 3, we \"sort\" the customers more and more, thus we can use this information to perform binary search using any pivot suit."
   ]
  },
  {
   "cell_type": "markdown",
   "id": "b80fad5b",
   "metadata": {},
   "source": [
    "Now, we will analyze the expected worst-case time complexity.\n",
    "The time complexity is as per below:\n",
    "\n",
    "$$\n",
    "\\bar T(n) = 2n -1 + E_k [\\bar T(k-1) + \\bar T(n-k)] \\\\\n",
    "= 2n -1 + \\frac{1}{n} \\sum _{k=1} ^n [\\bar T(k-1) + \\bar T(n-k)] \\\\\n",
    "= 2n -1 + \\frac{1}{n} \\sum _{k=1} ^n [\\bar T(k-1) + \\bar T(n-k)] \\\\\n",
    "$$\n",
    "\n",
    "Solving this recurrence, we would get $\\bar T(n) = O(n \\log n)$.\n",
    "\n"
   ]
  },
  {
   "cell_type": "markdown",
   "id": "7dc76397",
   "metadata": {},
   "source": [
    "### Randomized quick sort\n",
    "\n",
    "In quick sort, we realized that we would encounter the worst case if we were to repeated choose a \"bad\" pivot.\n",
    "However, if we were to randomize the pivot selection process, then we would hopefully avoid the \"bad\" pivot most of the time.\n",
    "Indeed, the complexity of the randomized quick sort is $O(n \\log n)$, which follows the same analysis as per the previous example."
   ]
  },
  {
   "cell_type": "markdown",
   "id": "2141ea30",
   "metadata": {},
   "source": [
    "## Benefits of randomized algorithm\n",
    "\n",
    "After all that we have analyzed, we have seen that randomized algorithm usually lead to the same (expected) time complexity as the deterministic algorithm.\n",
    "However, notice that the logic is usually simpler, and many times, the algorithm is also faster than their deterministic counterparts."
   ]
  },
  {
   "cell_type": "markdown",
   "id": "558d9c44",
   "metadata": {},
   "source": [
    "### Examples\n",
    "\n",
    "#### Sorting\n",
    "Even though both [merge sort](./recursion.ipynb#Merge-sort) and randomized quick sort is $O(n \\log n)$, randomized quick sort usually outperforms merge sort in practice, due to it's simpler logic, which leads to less resources needed to be allocated for its algorithm."
   ]
  },
  {
   "cell_type": "code",
   "execution_count": 1,
   "id": "5197002d",
   "metadata": {},
   "outputs": [],
   "source": [
    "import numpy as np\n",
    "from module.sort import quick_sort, merge_sort\n",
    "\n",
    "SIZE = 10_000\n",
    "arr = np.random.random(size=SIZE)"
   ]
  },
  {
   "cell_type": "code",
   "execution_count": 2,
   "id": "3d0c697e",
   "metadata": {},
   "outputs": [
    {
     "name": "stdout",
     "output_type": "stream",
     "text": [
      "39.5 ms ± 11.8 ms per loop (mean ± std. dev. of 7 runs, 10 loops each)\n"
     ]
    }
   ],
   "source": [
    "%%timeit -n 10\n",
    "quick_sort(arr)"
   ]
  },
  {
   "cell_type": "code",
   "execution_count": 3,
   "id": "3c0c190a",
   "metadata": {},
   "outputs": [
    {
     "name": "stdout",
     "output_type": "stream",
     "text": [
      "52.6 ms ± 13 ms per loop (mean ± std. dev. of 7 runs, 10 loops each)\n"
     ]
    }
   ],
   "source": [
    "%%timeit -n 10\n",
    "merge_sort(arr)"
   ]
  },
  {
   "cell_type": "markdown",
   "id": "aaa1a28a",
   "metadata": {},
   "source": [
    "#### Pivot selection\n",
    "The randomized way of finding a good pivot for quick sort/quick select is much simpler than the [deterministic way](./recursion.ipynb#Finding-good-pivot)."
   ]
  },
  {
   "cell_type": "markdown",
   "id": "5a74d598",
   "metadata": {},
   "source": [
    "#### Primality test\n",
    "Given a $n$-bit integer, we wish to test if it is prime\n",
    "\n",
    "The best deterministic algorithm (AKS01) is complicated and operates in $O(n^6)$, thus never used in practice.\n",
    "\n",
    "Compared against the best randomized algorithm (Rabin80), which is simple and operates in $O(n^2)$"
   ]
  }
 ],
 "metadata": {
  "kernelspec": {
   "display_name": "Python 3 (ipykernel)",
   "language": "python",
   "name": "python3"
  },
  "language_info": {
   "codemirror_mode": {
    "name": "ipython",
    "version": 3
   },
   "file_extension": ".py",
   "mimetype": "text/x-python",
   "name": "python",
   "nbconvert_exporter": "python",
   "pygments_lexer": "ipython3",
   "version": "3.10.2"
  }
 },
 "nbformat": 4,
 "nbformat_minor": 5
}
