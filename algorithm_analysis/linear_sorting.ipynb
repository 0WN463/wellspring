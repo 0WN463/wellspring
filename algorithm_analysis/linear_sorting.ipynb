{
 "cells": [
  {
   "cell_type": "code",
   "execution_count": 1,
   "id": "ca0f480d",
   "metadata": {},
   "outputs": [],
   "source": [
    "import sys\n",
    "\n",
    "sys.path.append(\"..\")"
   ]
  },
  {
   "cell_type": "code",
   "execution_count": 2,
   "id": "e30039f2",
   "metadata": {},
   "outputs": [],
   "source": [
    "from common.utility import show_implementation"
   ]
  },
  {
   "cell_type": "code",
   "execution_count": 3,
   "id": "dc1a4c6e",
   "metadata": {
    "scrolled": true
   },
   "outputs": [],
   "source": [
    "import random\n",
    "\n",
    "random.seed(42)"
   ]
  },
  {
   "cell_type": "markdown",
   "id": "a144ad82",
   "metadata": {},
   "source": [
    "# Linear sorting\n",
    "Suppose that we don't know that nature of the content of the elements we are sorting, and are only given an operator that compares two elements $a,b$.\n"
   ]
  },
  {
   "cell_type": "markdown",
   "id": "9102bb8a",
   "metadata": {},
   "source": [
    "We can model our sorting algorithm as a decision tree, as below (for sorting [1,2,3])\n",
    "\n",
    "```\n",
    "                                               comp(1, 2)\n",
    "                                      <= /                    \\   >\n",
    "                                comp(2, 3)                    comp(1, 3)\n",
    "                          <=   /         \\>               <= /         \\  > \n",
    "                          [1, 2, 3]      comp(1, 3)     [2, 1, 3]     comp(2, 3)\n",
    "                       <= /       \\  >               <= /        \\  >\n",
    "                  [1, 3, 2]       [3, 1, 2]     [2, 3, 1]        [3, 2, 1]\n",
    "```\n",
    "\n",
    "At each step, we ask the question of comparing $a$ and $b$, and is returned which is greater.\n",
    "Then, we perform some decision based on the result."
   ]
  },
  {
   "cell_type": "markdown",
   "id": "f4084d29",
   "metadata": {},
   "source": [
    "This means that without prior knowledge about the elements of the array, any sorting algorithm must traverse the decision tree to determine the sorted order of the array.\n",
    "(Otherwise, if there is an unvisited branch, we can supply the sorting algorithm with the sequence of comparison results which lands it in said branch, of which it would have yet determined the exact ordering of the elements, hence making the sort incomplete)\n",
    "\n",
    "The worst case complexity of the sorting algorithm is determined by the longest path in the decision tree, which is the height of the tree.\n",
    "A tree of height $h$ can only have at most $2^h$ leaves.\n",
    "And the leaves correspond to a permutation of the array, thus given an array of size $n$, there must be $n!$ leaves.\n",
    "This gives us the following bound of $n! \\leq 2^h$\n",
    "\n",
    "Using Stirling's approximation, we get \n",
    "$$\n",
    "h = \\Omega(n\\log n)\n",
    "$$\n",
    "which means that our sorting algorithm must have a complexity of at least $n \\log n$."
   ]
  },
  {
   "cell_type": "markdown",
   "id": "ec3e55b1",
   "metadata": {},
   "source": [
    "Since we know that merge sort has a complexity of $O(n \\log n)$, it may seem like there is no more room for optimization, however what if we can sort the array without doing any comparisons between elements of the array?"
   ]
  },
  {
   "cell_type": "markdown",
   "id": "9dabbfae",
   "metadata": {},
   "source": [
    "## Counting sort"
   ]
  },
  {
   "cell_type": "markdown",
   "id": "30b404fb",
   "metadata": {},
   "source": [
    "Suppose that we wish to sort $n$ numbers, where the number ranges between $0 \\dots k$.\n",
    "A way to sort the array is to:\n",
    "1. Initialize an array of size $k$, $A[0\\dots k]$\n",
    "2. For each element $i$ in the input array, increment $A[i]$ by 1\n",
    "3. For each index $i$ in $A$, output the value $i$ repeated $A[i]$ times to obtain our sorted array"
   ]
  },
  {
   "cell_type": "markdown",
   "id": "be24c3df",
   "metadata": {},
   "source": [
    "### Analysis\n",
    "\n",
    "Step 1 is $O(k)$, while steps 2 and 3 are $O(n)$.\n",
    "\n",
    "Thus, we get the complexity of $O(n + k)$.\n",
    "\n",
    "If $k$ has a smaller complexity than $O(n)$, then we get a complexity of $O(n)$, which is faster than $O(n \\log n)$, the theoretical lower bound of comparison sort!"
   ]
  },
  {
   "cell_type": "markdown",
   "id": "63c5bb08",
   "metadata": {},
   "source": [
    "### Implementation"
   ]
  },
  {
   "cell_type": "code",
   "execution_count": 4,
   "id": "433874bb",
   "metadata": {},
   "outputs": [],
   "source": [
    "from random import randint\n",
    "from module.sort import merge_sort\n",
    "\n",
    "n = 100_000\n",
    "arr = [randint(0, 100) for _ in range(n)]\n",
    "sorted_arr = merge_sort(arr)"
   ]
  },
  {
   "cell_type": "code",
   "execution_count": 5,
   "id": "05e860e8",
   "metadata": {},
   "outputs": [],
   "source": [
    "def counting_sort(arr):\n",
    "    A = [0 for _ in range(max(arr) + 1)]\n",
    "\n",
    "    for i in arr:\n",
    "        A[i] += 1\n",
    "    output = []\n",
    "\n",
    "    for index, i in enumerate(A):\n",
    "        output += [index] * i\n",
    "    return output"
   ]
  },
  {
   "cell_type": "code",
   "execution_count": 6,
   "id": "97942a47",
   "metadata": {},
   "outputs": [
    {
     "data": {
      "text/plain": [
       "True"
      ]
     },
     "execution_count": 6,
     "metadata": {},
     "output_type": "execute_result"
    }
   ],
   "source": [
    "counting_sort(arr) == sorted_arr"
   ]
  },
  {
   "cell_type": "markdown",
   "id": "8fc619eb",
   "metadata": {},
   "source": [
    "### Improvement\n",
    "\n",
    "We can make the sort stable by slightly modifying the algorithm.\n",
    "A sorting algorithm is said to be **stable** when ordering two elements $a,b$ which are of same value, and $a$ appears before $b$ in the input array, the algorithm would place $a$ before $b$ in the output array.\n",
    "\n",
    "Notice that in our current counting sort, it does not deal well when two elements are equal in sorting order, but are different.\n",
    "For example, if we wanted to sort an array of 2-tuples by their first value, our current implementation of counting sort does not work, as we treated all elements of the same sorting values as identical.\n",
    "\n",
    "The below improvements resolves this issue.\n",
    "We will later see that a stable sorting algorithm have some desirable properties."
   ]
  },
  {
   "cell_type": "code",
   "execution_count": 7,
   "id": "80cb1e31",
   "metadata": {},
   "outputs": [],
   "source": [
    "def stable_counting_sort(arr, key_func=lambda x: x):\n",
    "    keys = [key_func(i) for i in arr]\n",
    "    if not keys:\n",
    "        return keys\n",
    "\n",
    "    A = [0 for _ in range(max(keys) + 1)]\n",
    "\n",
    "    for i in keys:\n",
    "        A[i] += 1\n",
    "\n",
    "    for i in range(1, len(A)):\n",
    "        A[i] += A[i - 1]\n",
    "\n",
    "    output = [None for _ in arr]\n",
    "\n",
    "    for item, i in zip(reversed(arr), reversed(keys)):\n",
    "        output[A[i] - 1] = item\n",
    "        A[i] -= 1\n",
    "    return output"
   ]
  },
  {
   "cell_type": "code",
   "execution_count": 8,
   "id": "a2882fc5",
   "metadata": {},
   "outputs": [
    {
     "data": {
      "text/plain": [
       "True"
      ]
     },
     "execution_count": 8,
     "metadata": {},
     "output_type": "execute_result"
    }
   ],
   "source": [
    "sorted_arr == stable_counting_sort(arr)"
   ]
  },
  {
   "cell_type": "markdown",
   "id": "56ad7564",
   "metadata": {},
   "source": [
    "## Radix sort\n",
    "Suppose that we were given $n$ numbers with $d$ digits.\n",
    "Since the largest number is $10^d - 1$, counting sort is $O(10^d)$, which is not very efficient.\n",
    "\n",
    "Using similar idea as counting sort, we might sort the most significant (left-most) digit by counting sort, and repeatedly sort the less significant digits."
   ]
  },
  {
   "cell_type": "code",
   "execution_count": 9,
   "id": "c4299e8f",
   "metadata": {},
   "outputs": [],
   "source": [
    "d = 10\n",
    "n = 20\n",
    "arr = [randint(10 ** (d - 1) + 1, 10**d) for _ in range(n)]"
   ]
  },
  {
   "cell_type": "markdown",
   "id": "8f2b4bf6",
   "metadata": {},
   "source": [
    "First we sort the most significant digit."
   ]
  },
  {
   "cell_type": "code",
   "execution_count": 10,
   "id": "5f42f36a",
   "metadata": {},
   "outputs": [
    {
     "data": {
      "text/plain": [
       "[1985526561,\n",
       " 1505356216,\n",
       " 1223789820,\n",
       " 2744156774,\n",
       " 2763744940,\n",
       " 4042147037,\n",
       " 4343537916,\n",
       " 4110390618,\n",
       " 5166997149,\n",
       " 5355831453,\n",
       " 6649451454,\n",
       " 6599334165,\n",
       " 7379154982,\n",
       " 7167549285,\n",
       " 7535805496,\n",
       " 7016552533,\n",
       " 8289183507,\n",
       " 8991777060,\n",
       " 8117694333,\n",
       " 9710836999]"
      ]
     },
     "execution_count": 10,
     "metadata": {},
     "output_type": "execute_result"
    }
   ],
   "source": [
    "first_pass = stable_counting_sort(arr, key_func=lambda x: x // 10 ** (d - 1))\n",
    "first_pass"
   ]
  },
  {
   "cell_type": "markdown",
   "id": "c95fea6d",
   "metadata": {},
   "source": [
    "Now, we need to group together all the numbers with the same first digit, and sort them."
   ]
  },
  {
   "cell_type": "code",
   "execution_count": 11,
   "id": "05dbda2f",
   "metadata": {},
   "outputs": [
    {
     "data": {
      "text/plain": [
       "[[],\n",
       " [1985526561, 1505356216, 1223789820],\n",
       " [2744156774, 2763744940],\n",
       " [],\n",
       " [4042147037, 4343537916, 4110390618],\n",
       " [5166997149, 5355831453],\n",
       " [6649451454, 6599334165],\n",
       " [7379154982, 7167549285, 7535805496, 7016552533],\n",
       " [8289183507, 8991777060, 8117694333],\n",
       " [9710836999]]"
      ]
     },
     "execution_count": 11,
     "metadata": {},
     "output_type": "execute_result"
    }
   ],
   "source": [
    "grouped = [[k for k in first_pass if k // 10 ** (d - 1) == i] for i in range(10)]\n",
    "grouped"
   ]
  },
  {
   "cell_type": "code",
   "execution_count": 12,
   "id": "499f63b4",
   "metadata": {},
   "outputs": [
    {
     "data": {
      "text/plain": [
       "[[],\n",
       " [1223789820, 1505356216, 1985526561],\n",
       " [2744156774, 2763744940],\n",
       " [],\n",
       " [4042147037, 4110390618, 4343537916],\n",
       " [5166997149, 5355831453],\n",
       " [6599334165, 6649451454],\n",
       " [7016552533, 7167549285, 7379154982, 7535805496],\n",
       " [8117694333, 8289183507, 8991777060],\n",
       " [9710836999]]"
      ]
     },
     "execution_count": 12,
     "metadata": {},
     "output_type": "execute_result"
    }
   ],
   "source": [
    "[stable_counting_sort(g, key_func=lambda x: x // 10 ** (d - 2)) for g in grouped]"
   ]
  },
  {
   "cell_type": "markdown",
   "id": "2470a05b",
   "metadata": {},
   "source": [
    "Now, we've sorted all the numbers based on the 1st 2 digits, and we just need to repeat this for every digit.\n",
    "However, notice that after the first pass, there can be up to 10 different group of numbers.\n",
    "After the 2nd pass, there can be up to 100 different group of numbers.\n",
    "After $d$ passes, there can be up to $10^d$ different groups numbers.\n",
    "Hence, our algorithm is still $O(10^d)$."
   ]
  },
  {
   "cell_type": "markdown",
   "id": "551e8174",
   "metadata": {},
   "source": [
    "Counter-intuitively, we can obtain our sorted array simply by **repeatedly sorting the least-significant digit** instead."
   ]
  },
  {
   "cell_type": "code",
   "execution_count": 13,
   "id": "6879a0b7",
   "metadata": {},
   "outputs": [
    {
     "data": {
      "text/plain": [
       "[1223789820,\n",
       " 1505356216,\n",
       " 1985526561,\n",
       " 2744156774,\n",
       " 2763744940,\n",
       " 4042147037,\n",
       " 4110390618,\n",
       " 4343537916,\n",
       " 5166997149,\n",
       " 5355831453,\n",
       " 6599334165,\n",
       " 6649451454,\n",
       " 7016552533,\n",
       " 7167549285,\n",
       " 7379154982,\n",
       " 7535805496,\n",
       " 8117694333,\n",
       " 8289183507,\n",
       " 8991777060,\n",
       " 9710836999]"
      ]
     },
     "execution_count": 13,
     "metadata": {},
     "output_type": "execute_result"
    }
   ],
   "source": [
    "def radix_sort(arr, d):\n",
    "    temp_arr = arr\n",
    "    for i in range(d):\n",
    "        temp_arr = stable_counting_sort(\n",
    "            temp_arr, key_func=lambda x: (x // 10**i) % 10\n",
    "        )\n",
    "    return temp_arr\n",
    "\n",
    "\n",
    "radix_sort(arr, 10)"
   ]
  },
  {
   "cell_type": "code",
   "execution_count": 14,
   "id": "2287e5ac",
   "metadata": {},
   "outputs": [
    {
     "data": {
      "text/plain": [
       "True"
      ]
     },
     "execution_count": 14,
     "metadata": {},
     "output_type": "execute_result"
    }
   ],
   "source": [
    "radix_sort(arr, 10) == merge_sort(arr)"
   ]
  },
  {
   "cell_type": "markdown",
   "id": "876683ca",
   "metadata": {},
   "source": [
    "### Analysis\n",
    "\n",
    "Each pass of the counting sort is $O(n + k)$, and since $k = 10$, it is $O(n)$.\n",
    "And since we performed $d$ passes of the counting sort, the complexity is simply $O(dn)$.\n",
    "\n",
    "Convince yourselves that **if the sorting algorithm of each pass is stable, then the resultant array would be (properly) sorted**."
   ]
  },
  {
   "cell_type": "markdown",
   "id": "22759238",
   "metadata": {},
   "source": [
    "#### Different base"
   ]
  },
  {
   "cell_type": "markdown",
   "id": "d38e1c90",
   "metadata": {},
   "source": [
    "Pre-requisite: [Binary representation](TODO).\n",
    "\n",
    "We had represented our number as a $d$-digit number in base 10.\n",
    "Suppose that we have represented number in a different base $b$.\n",
    "\n",
    "Suppose that we know that our number is at most $m$ (this is equals to $10^d-1$ in our previous example).\n",
    "Then, our numbers would have $\\log _b m$ digits in base $b$.\n",
    "\n",
    "Thus, each pass of the stable sort would be $O(n + b)$.\n",
    "And we would need to repeat this $\\log _b m$ times to fully sort the array.\n",
    "Thus, our overall complexity would be $O( \\log _b m (n + b))$"
   ]
  },
  {
   "cell_type": "markdown",
   "id": "1ea17cca",
   "metadata": {},
   "source": [
    "## Bucket sort\n",
    "Suppose that we are given $n$ numbers, each drawn from a [uniform distribution](../statistic/probability_distributions.ipynb#Discrete-uniform-distribution) between $[0, 1)$\n",
    "\n",
    "One way to sort this would be to \n",
    "1. Create $n$ buckets, which cover: $[0, \\frac{1}{n}), [\\frac{1}{n}, \\frac{2}{n}), \\dots [\\frac{n-1}{n}, 1)$\n",
    "2. Fill the numbers from the array into their respective buckets\n",
    "    * Use insertion sort when adding the number into the bucket\n",
    "3. List the number from each bucket"
   ]
  },
  {
   "cell_type": "markdown",
   "id": "4d321148",
   "metadata": {},
   "source": [
    "### Analysis\n",
    "\n",
    "Step 1 is $O(n)$.\n",
    "\n",
    "For step 2, notice that since it is uniformed, we would expect on average there being only $1$ number in each bucket.\n",
    "Since insertion sort is $O(k)$, where $k$ is the size of the array, this reduces to an expected complexity of $O(1)$ as $k = 1$.\n",
    "Hence, step 2 is $O(n \\times 1) = O(n)$\n",
    "\n",
    "Lastly, step 3 is $O(n)$, hence overall the algorithm is $O(n)$"
   ]
  },
  {
   "cell_type": "markdown",
   "id": "58eb4ee3",
   "metadata": {},
   "source": [
    "### Implementation"
   ]
  },
  {
   "cell_type": "code",
   "execution_count": 15,
   "id": "fb1a96f7",
   "metadata": {},
   "outputs": [],
   "source": [
    "from math import floor\n",
    "\n",
    "\n",
    "def insert(arr, item):\n",
    "    return [i for i in arr if i <= item] + [item] + [i for i in arr if i > item]\n",
    "\n",
    "\n",
    "def bucket_sort(arr):\n",
    "    buckets = [[] for _ in arr]\n",
    "\n",
    "    for i in arr:\n",
    "        index = floor(i * len(arr))\n",
    "        buckets[index] = insert(buckets[index], i)\n",
    "\n",
    "    output = []\n",
    "    for b in buckets:\n",
    "        output += b\n",
    "\n",
    "    return output"
   ]
  },
  {
   "cell_type": "code",
   "execution_count": 16,
   "id": "e949e584",
   "metadata": {},
   "outputs": [
    {
     "data": {
      "text/plain": [
       "[0.058546743423030345,\n",
       " 0.3387211476675075,\n",
       " 0.4291099505621351,\n",
       " 0.5545338248590267,\n",
       " 0.593639596051472,\n",
       " 0.6415794894044458,\n",
       " 0.6866080537532946,\n",
       " 0.7450222325657058,\n",
       " 0.8378054739343479,\n",
       " 0.9611608997285658]"
      ]
     },
     "execution_count": 16,
     "metadata": {},
     "output_type": "execute_result"
    }
   ],
   "source": [
    "n = 10\n",
    "arr = [random.random() for _ in range(n)]\n",
    "bucket_sort(arr)"
   ]
  },
  {
   "cell_type": "code",
   "execution_count": 17,
   "id": "0ea9dcc0",
   "metadata": {},
   "outputs": [
    {
     "data": {
      "text/plain": [
       "True"
      ]
     },
     "execution_count": 17,
     "metadata": {},
     "output_type": "execute_result"
    }
   ],
   "source": [
    "bucket_sort(arr) == merge_sort(arr)"
   ]
  }
 ],
 "metadata": {
  "kernelspec": {
   "display_name": "Python 3 (ipykernel)",
   "language": "python",
   "name": "python3"
  },
  "language_info": {
   "codemirror_mode": {
    "name": "ipython",
    "version": 3
   },
   "file_extension": ".py",
   "mimetype": "text/x-python",
   "name": "python",
   "nbconvert_exporter": "python",
   "pygments_lexer": "ipython3",
   "version": "3.10.2"
  }
 },
 "nbformat": 4,
 "nbformat_minor": 5
}
